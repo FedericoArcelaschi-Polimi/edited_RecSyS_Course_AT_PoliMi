{
  "cells": [
    {
      "cell_type": "code",
      "execution_count": 1,
      "metadata": {
        "colab": {
          "base_uri": "https://localhost:8080/"
        },
        "id": "bRIn_rBb0lpX",
        "outputId": "bded74c5-2fed-45ff-b035-7b5e0087fcdd"
      },
      "outputs": [],
      "source": [
        "#!pip install optuna optuna-dashboard pymysql"
      ]
    },
    {
      "cell_type": "code",
      "execution_count": 2,
      "metadata": {
        "id": "WNTjuoYE0XLK"
      },
      "outputs": [
        {
          "name": "stderr",
          "output_type": "stream",
          "text": [
            "C:\\Users\\feder\\AppData\\Local\\Packages\\PythonSoftwareFoundation.Python.3.11_qbz5n2kfra8p0\\LocalCache\\local-packages\\Python311\\site-packages\\tqdm\\auto.py:21: TqdmWarning: IProgress not found. Please update jupyter and ipywidgets. See https://ipywidgets.readthedocs.io/en/stable/user_install.html\n",
            "  from .autonotebook import tqdm as notebook_tqdm\n"
          ]
        }
      ],
      "source": [
        "import optuna\n",
        "import threading\n",
        "from optuna_dashboard import run_server"
      ]
    },
    {
      "cell_type": "code",
      "execution_count": 3,
      "metadata": {
        "id": "MjGXLCHw0cQQ"
      },
      "outputs": [],
      "source": [
        "# Replace the following with your MySQL database connection details\n",
        "host = \"db-mysql-recsys-do-user-15390069-0.c.db.ondigitalocean.com\"\n",
        "port = 25060\n",
        "database_name = \"optuna\"\n",
        "username = \"\"\n",
        "password = \"\"\n",
        "\n",
        "# Create an SQLAlchemy engine\n",
        "mysql_url = f\"mysql+pymysql://{username}:{password}@{host}:{port}/{database_name}\"\n",
        "\n",
        "study_name = \"SLIM_EN_DB\"\n",
        "storage = optuna.storages.RDBStorage(mysql_url)\n",
        "#study = optuna.load_study(study_name=study_name, storage=storage)\n",
        "#study.trials_dataframe()"
      ]
    },
    {
      "cell_type": "code",
      "execution_count": 4,
      "metadata": {
        "colab": {
          "base_uri": "https://localhost:8080/",
          "height": 34
        },
        "id": "hmGdsxi70cDj",
        "outputId": "7ac8053b-631f-4f8b-8fc9-615f86b010bf"
      },
      "outputs": [
        {
          "name": "stderr",
          "output_type": "stream",
          "text": [
            "Bottle v0.12.25 server starting up (using WSGIRefServer())...\n",
            "Listening on http://localhost:8081/\n",
            "Hit Ctrl-C to quit.\n",
            "\n",
            "127.0.0.1 - - [03/Jan/2024 08:43:34] \"GET / HTTP/1.1\" 302 0\n",
            "127.0.0.1 - - [03/Jan/2024 08:43:35] \"GET /dashboard HTTP/1.1\" 304 0\n",
            "127.0.0.1 - - [03/Jan/2024 08:43:35] \"GET /static/bundle.js HTTP/1.1\" 304 0\n",
            "127.0.0.1 - - [03/Jan/2024 08:43:36] \"GET /api/studies HTTP/1.1\" 200 1673\n",
            "127.0.0.1 - - [03/Jan/2024 08:45:24] \"GET /api/studies/12/param_importances HTTP/1.1\" 200 298\n",
            "C:\\Users\\feder\\AppData\\Local\\Packages\\PythonSoftwareFoundation.Python.3.11_qbz5n2kfra8p0\\LocalCache\\local-packages\\Python311\\site-packages\\optuna\\study\\_study_summary.py:115: FutureWarning: `system_attrs` has been deprecated in v3.1.0. The removal of this feature is currently scheduled for v5.0.0, but this schedule is subject to change. See https://github.com/optuna/optuna/releases/tag/v3.1.0.\n",
            "  warnings.warn(\n",
            "127.0.0.1 - - [03/Jan/2024 08:45:26] \"GET /api/studies/12?after=0 HTTP/1.1\" 200 1830879\n",
            "127.0.0.1 - - [03/Jan/2024 08:45:26] \"GET /api/meta HTTP/1.1\" 200 32\n",
            "127.0.0.1 - - [03/Jan/2024 08:45:26] \"GET /api/studies/12?after=0 HTTP/1.1\" 200 1830879\n",
            "127.0.0.1 - - [03/Jan/2024 08:45:27] \"GET /api/studies/12?after=0 HTTP/1.1\" 200 1830879\n",
            "127.0.0.1 - - [03/Jan/2024 08:45:28] \"GET /api/studies/12?after=0 HTTP/1.1\" 200 1830879\n",
            "127.0.0.1 - - [03/Jan/2024 08:45:29] \"GET /api/studies/12?after=0 HTTP/1.1\" 200 1830879\n",
            "127.0.0.1 - - [03/Jan/2024 08:45:29] \"GET /api/studies/12?after=0 HTTP/1.1\" 200 1830879\n",
            "127.0.0.1 - - [03/Jan/2024 08:45:30] \"GET /api/studies/12?after=0 HTTP/1.1\" 200 1830879\n",
            "127.0.0.1 - - [03/Jan/2024 08:45:31] \"GET /api/studies/12?after=0 HTTP/1.1\" 200 1830879\n",
            "127.0.0.1 - - [03/Jan/2024 08:45:32] \"GET /api/studies/12?after=0 HTTP/1.1\" 200 1830879\n",
            "127.0.0.1 - - [03/Jan/2024 08:45:32] \"GET /api/studies/12?after=0 HTTP/1.1\" 200 1830879\n",
            "127.0.0.1 - - [03/Jan/2024 08:45:32] \"GET /api/studies/12/param_importances HTTP/1.1\" 200 298\n",
            "127.0.0.1 - - [03/Jan/2024 08:45:45] \"GET /api/studies/12?after=195 HTTP/1.1\" 200 1621841\n",
            "127.0.0.1 - - [03/Jan/2024 08:45:58] \"GET /api/studies/12?after=195 HTTP/1.1\" 200 1621841\n",
            "127.0.0.1 - - [03/Jan/2024 08:46:11] \"GET /api/studies/12?after=195 HTTP/1.1\" 200 1621841\n",
            "127.0.0.1 - - [03/Jan/2024 08:46:24] \"GET /api/studies/12?after=195 HTTP/1.1\" 200 1621841\n",
            "127.0.0.1 - - [03/Jan/2024 08:46:37] \"GET /api/studies/12?after=195 HTTP/1.1\" 200 1621841\n",
            "127.0.0.1 - - [03/Jan/2024 08:46:50] \"GET /api/studies/12?after=195 HTTP/1.1\" 200 1621841\n",
            "127.0.0.1 - - [03/Jan/2024 08:47:03] \"GET /api/studies/12?after=195 HTTP/1.1\" 200 1621841\n"
          ]
        }
      ],
      "source": [
        "\n",
        "port = 8081\n",
        "thread = threading.Thread(target=run_server, args=(storage,), kwargs={\"port\": port})\n",
        "thread.start()\n"
      ]
    }
  ],
  "metadata": {
    "colab": {
      "provenance": []
    },
    "kernelspec": {
      "display_name": "Python 3",
      "name": "python3"
    },
    "language_info": {
      "codemirror_mode": {
        "name": "ipython",
        "version": 3
      },
      "file_extension": ".py",
      "mimetype": "text/x-python",
      "name": "python",
      "nbconvert_exporter": "python",
      "pygments_lexer": "ipython3",
      "version": "3.11.7"
    }
  },
  "nbformat": 4,
  "nbformat_minor": 0
}
