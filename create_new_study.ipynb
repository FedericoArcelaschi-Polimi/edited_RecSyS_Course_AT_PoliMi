{
 "cells": [
  {
   "cell_type": "code",
   "execution_count": 1,
   "metadata": {},
   "outputs": [
    {
     "name": "stderr",
     "output_type": "stream",
     "text": [
      "C:\\Users\\feder\\AppData\\Local\\Packages\\PythonSoftwareFoundation.Python.3.11_qbz5n2kfra8p0\\LocalCache\\local-packages\\Python311\\site-packages\\tqdm\\auto.py:21: TqdmWarning: IProgress not found. Please update jupyter and ipywidgets. See https://ipywidgets.readthedocs.io/en/stable/user_install.html\n",
      "  from .autonotebook import tqdm as notebook_tqdm\n",
      "[I 2024-01-03 08:42:52,417] A new study created in RDB with name: SLIM_EN10_DB_bis\n"
     ]
    }
   ],
   "source": [
    "import optuna\n",
    "# Replace the following with your MySQL database connection details\n",
    "host = \"db-mysql-recsys-do-user-15390069-0.c.db.ondigitalocean.com\"\n",
    "port = 25060\n",
    "database_name = \"optuna\"\n",
    "username = \"\"\n",
    "password = \"\"\n",
    "\n",
    "# Create an SQLAlchemy engine\n",
    "mysql_url = f\"mysql+pymysql://{username}:{password}@{host}:{port}/{database_name}\"\n",
    "\n",
    "study_name = \"SLIM_EN10_DB_bis\"\n",
    "storage = optuna.storages.RDBStorage(mysql_url)\n",
    "#optuna.study.delete_study(study_name=\"RP3b_DB\", storage=storage)\n",
    "study = optuna.create_study(study_name=study_name, storage=storage, direction=\"maximize\")"
   ]
  }
 ],
 "metadata": {
  "kernelspec": {
   "display_name": "Python 3",
   "language": "python",
   "name": "python3"
  },
  "language_info": {
   "codemirror_mode": {
    "name": "ipython",
    "version": 3
   },
   "file_extension": ".py",
   "mimetype": "text/x-python",
   "name": "python",
   "nbconvert_exporter": "python",
   "pygments_lexer": "ipython3",
   "version": "3.11.7"
  }
 },
 "nbformat": 4,
 "nbformat_minor": 2
}
