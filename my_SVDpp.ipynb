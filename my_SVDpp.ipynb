{
 "cells": [
  {
   "cell_type": "code",
   "execution_count": null,
   "metadata": {},
   "outputs": [],
   "source": [
    "!git clone https://github.com/FedericoArcelaschi-Polimi/edited_RecSyS_Course_AT_PoliMi"
   ]
  },
  {
   "cell_type": "code",
   "execution_count": null,
   "metadata": {},
   "outputs": [],
   "source": [
    "cd edited_RecSyS_Course_AT_PoliMi"
   ]
  },
  {
   "cell_type": "code",
   "execution_count": null,
   "metadata": {},
   "outputs": [],
   "source": [
    "!python run_compile_all_cython.py"
   ]
  },
  {
   "cell_type": "code",
   "execution_count": null,
   "metadata": {},
   "outputs": [],
   "source": [
    "import numpy as np\n",
    "import matplotlib.pyplot as pyplot\n",
    "import pandas as pd\n",
    "import scipy.sparse as sps\n",
    "%matplotlib inline\n",
    "%load_ext Cython\n",
    "\n",
    "from Data_manager.split_functions.split_train_validation_random_holdout import split_train_in_two_percentage_global_sample\n",
    "from Evaluation.Evaluator import EvaluatorHoldout\n",
    "from Recommenders.MatrixFactorization.Cython.MatrixFactorization_Cython import MatrixFactorization_SVDpp_Cython\n",
    "import optuna"
   ]
  },
  {
   "cell_type": "code",
   "execution_count": null,
   "metadata": {},
   "outputs": [],
   "source": [
    "data_train_path=\"/kaggle/input/recommender-system-2023-challenge-polimi/data_train.csv\"\n",
    "data_target_user_path=\"/kaggle/input/recommender-system-2023-challenge-polimi/data_target_users_test.csv\"\n",
    "# data_train_path=\"data_train.csv\"\n",
    "# data_target_user_path=\"data_target_users_test.csv\"\n",
    "data_train = pd.read_csv(data_train_path)\n",
    "data_target = pd.read_csv(data_target_user_path)"
   ]
  },
  {
   "cell_type": "code",
   "execution_count": null,
   "metadata": {},
   "outputs": [],
   "source": [
    "URM_all =  data_train.pivot(index='row', columns='col', values='data').fillna(0)\n",
    "item_map = {i : item for i, item in enumerate(URM_all.columns)}\n",
    "user_map = {i : user for i, user in enumerate(data_target[\"user_id\"])}\n",
    "item_map_inv = {item : i for i, item in item_map.items()}\n",
    "user_map_inv = {user : i for i, user in user_map.items()}\n",
    "missing_index = [x for x in range(1,13025) if x not in URM_all.index.tolist()]\n",
    "add_urm = pd.DataFrame(index = missing_index, columns = URM_all.columns).fillna(0)\n",
    "URM_all = pd.concat([URM_all, add_urm]).sort_index()\n",
    "del add_urm\n",
    "del missing_index\n",
    "#data_target[\"user_id\"] = data_target[\"user_id\"]\n",
    "URM_all = URM_all.to_numpy()\n",
    "URM_all = sps.csr_matrix(URM_all)\n",
    "URM_all"
   ]
  },
  {
   "cell_type": "code",
   "execution_count": null,
   "metadata": {},
   "outputs": [],
   "source": [
    "test_folds = 3\n",
    "\n",
    "URM_trains = [None] * test_folds\n",
    "evaluator_tests = [None] * test_folds\n",
    "for i in range(0, test_folds):\n",
    "    URM_trains[i], URM_test = split_train_in_two_percentage_global_sample(URM_all, train_percentage = 0.80)\n",
    "    evaluator_tests[i] = EvaluatorHoldout(URM_test, cutoff_list=[10])"
   ]
  },
  {
   "cell_type": "code",
   "execution_count": null,
   "metadata": {},
   "outputs": [],
   "source": [
    "def train_evaluate(optuna_trial):\n",
    "    factors = optuna_trial.suggest_int(\"factors\", 1, 1000)\n",
    "    \n",
    "    mAP = 0.0\n",
    "    for i in range(0, test_folds):\n",
    "        recommender = MatrixFactorization_SVDpp_Cython(URM_trains[i], verbose=False)\n",
    "        recommender.fit(num_factors=factors)\n",
    "        result_df, _ = evaluator_tests[i].evaluateRecommender(recommender)\n",
    "        mAP += result_df[\"MAP\"].values[0]\n",
    "    mAP /= test_folds\n",
    "    return mAP"
   ]
  },
  {
   "cell_type": "code",
   "execution_count": null,
   "metadata": {},
   "outputs": [],
   "source": [
    "storage = optuna.storages.JournalStorage(\n",
    "    optuna.storages.JournalFileStorage(\"studies/SVDpp_study.log\"),  # NFS path for distributed optimization\n",
    ")\n",
    "study = optuna.load_study(study_name = \"SVDpp\", storage = storage)\n",
    "study.optimize(train_evaluate, n_trials=600)"
   ]
  },
  {
   "cell_type": "code",
   "execution_count": null,
   "metadata": {},
   "outputs": [],
   "source": [
    "!cp studies/SVDpp_study.log ../SVDpp_study.log"
   ]
  },
  {
   "cell_type": "code",
   "execution_count": null,
   "metadata": {},
   "outputs": [],
   "source": [
    "import time\n",
    "\n",
    "topk = study.best_params[\"topK\"]\n",
    "shrink = study.best_params[\"shrink\"]\n",
    "\n",
    "recommender = MatrixFactorization_SVDpp_Cython(URM_all)\n",
    "recommender.fit(shrink=shrink, topK=topk)\n",
    "n_users_to_test = len(data_target[\"user_id\"])\n",
    "suggestions = pd.DataFrame(columns = [\"user_id\", \"item_list\"])\n",
    "start_time = time.time()\n",
    "\n",
    "for user_id in (data_target[\"user_id\"]-1):\n",
    "    suggestion, suggestion_values = recommender.recommend(user_id, cutoff=10, return_scores=True)\n",
    "    suggestions.loc[len(suggestions)] = [user_id+1, \" \".join([str(item_map[x]) for x in suggestion])]\n",
    "    \n",
    "end_time = time.time()\n",
    "\n",
    "print(\"Reasonable implementation speed is {:.2f} usr/sec\".format(n_users_to_test/(end_time-start_time)))\n",
    "\n",
    "suggestions.to_csv('../SVDpp.csv', index = False)"
   ]
  },
  {
   "cell_type": "code",
   "execution_count": 1,
   "metadata": {},
   "outputs": [
    {
     "name": "stderr",
     "output_type": "stream",
     "text": [
      "/Library/Frameworks/Python.framework/Versions/3.12/lib/python3.12/site-packages/tqdm/auto.py:21: TqdmWarning: IProgress not found. Please update jupyter and ipywidgets. See https://ipywidgets.readthedocs.io/en/stable/user_install.html\n",
      "  from .autonotebook import tqdm as notebook_tqdm\n",
      "/var/folders/lh/spnx4qlx6wd0sbm_1fcb_d200000gn/T/ipykernel_21704/3909308164.py:2: ExperimentalWarning: JournalStorage is experimental (supported from v3.1.0). The interface can change in the future.\n",
      "  storage = optuna.storages.JournalStorage(\n",
      "[I 2023-12-15 13:30:16,169] A new study created in Journal with name: SVDpp\n"
     ]
    }
   ],
   "source": [
    "# import optuna\n",
    "# storage = optuna.storages.JournalStorage(\n",
    "#     optuna.storages.JournalFileStorage(\"studies/SVDpp_study.log\"),  # NFS path for distributed optimization\n",
    "# )\n",
    "# study = optuna.create_study(study_name = \"SVDpp\", storage = storage, direction=\"maximize\")\n",
    "# #study.optimize(train_evaluate, n_trials=600)"
   ]
  }
 ],
 "metadata": {
  "kernelspec": {
   "display_name": "Python 3",
   "language": "python",
   "name": "python3"
  },
  "language_info": {
   "codemirror_mode": {
    "name": "ipython",
    "version": 3
   },
   "file_extension": ".py",
   "mimetype": "text/x-python",
   "name": "python",
   "nbconvert_exporter": "python",
   "pygments_lexer": "ipython3",
   "version": "3.12.0"
  }
 },
 "nbformat": 4,
 "nbformat_minor": 2
}
