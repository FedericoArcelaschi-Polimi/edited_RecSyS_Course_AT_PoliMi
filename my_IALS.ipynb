{
 "cells": [
  {
   "cell_type": "code",
   "execution_count": 1,
   "metadata": {},
   "outputs": [
    {
     "name": "stderr",
     "output_type": "stream",
     "text": [
      "C:\\Users\\feder\\AppData\\Local\\Packages\\PythonSoftwareFoundation.Python.3.11_qbz5n2kfra8p0\\LocalCache\\local-packages\\Python311\\site-packages\\tqdm\\auto.py:21: TqdmWarning: IProgress not found. Please update jupyter and ipywidgets. See https://ipywidgets.readthedocs.io/en/stable/user_install.html\n",
      "  from .autonotebook import tqdm as notebook_tqdm\n"
     ]
    }
   ],
   "source": [
    "import numpy as np\n",
    "import matplotlib.pyplot as pyplot\n",
    "import pandas as pd\n",
    "import scipy.sparse as sps\n",
    "%matplotlib inline  \n",
    "%load_ext Cython\n",
    "\n",
    "from Evaluation.Evaluator import EvaluatorHoldout\n",
    "from Data_manager.split_functions.split_train_validation_random_holdout import split_train_in_two_percentage_global_sample\n",
    "from Recommenders.MatrixFactorization.IALSRecommender import IALSRecommender\n",
    "import optuna"
   ]
  },
  {
   "cell_type": "code",
   "execution_count": 2,
   "metadata": {},
   "outputs": [],
   "source": [
    "# data_train_path=\"/kaggle/input/recommender-system-2023-challenge-polimi/data_train.csv\"\n",
    "# data_target_user_path=\"/kaggle/input/recommender-system-2023-challenge-polimi/data_target_users_test.csv\"\n",
    "data_train_path=\"data_train.csv\"\n",
    "data_target_user_path=\"data_target_users_test.csv\"\n",
    "data_train = pd.read_csv(data_train_path)\n",
    "data_target = pd.read_csv(data_target_user_path)"
   ]
  },
  {
   "cell_type": "code",
   "execution_count": 3,
   "metadata": {},
   "outputs": [
    {
     "data": {
      "text/plain": [
       "<13024x22222 sparse matrix of type '<class 'numpy.float64'>'\n",
       "\twith 478730 stored elements in Compressed Sparse Row format>"
      ]
     },
     "execution_count": 3,
     "metadata": {},
     "output_type": "execute_result"
    }
   ],
   "source": [
    "URM_all =  data_train.pivot(index='row', columns='col', values='data').fillna(0)\n",
    "item_map = {i : item for i, item in enumerate(URM_all.columns)}\n",
    "user_map = {i : user for i, user in enumerate(data_target[\"user_id\"])}\n",
    "item_map_inv = {item : i for i, item in item_map.items()}\n",
    "user_map_inv = {user : i for i, user in user_map.items()}\n",
    "missing_index = [x for x in range(1,13025) if x not in URM_all.index.tolist()]\n",
    "add_urm = pd.DataFrame(index = missing_index, columns = URM_all.columns).fillna(0)\n",
    "URM_all = pd.concat([URM_all, add_urm]).sort_index()\n",
    "del add_urm\n",
    "del missing_index\n",
    "#data_target[\"user_id\"] = data_target[\"user_id\"]\n",
    "URM_all = URM_all.to_numpy()\n",
    "URM_all = sps.csr_matrix(URM_all)\n",
    "URM_all"
   ]
  },
  {
   "cell_type": "code",
   "execution_count": 4,
   "metadata": {},
   "outputs": [
    {
     "name": "stdout",
     "output_type": "stream",
     "text": [
      "Warning: 624 (4.79 %) of 13024 users have no train items\n",
      "Warning: 2527 (19.40 %) of 13024 users have no sampled items\n",
      "EvaluatorHoldout: Ignoring 2527 (19.4%) Users that have less than 1 test interactions\n",
      "Warning: 585 (4.49 %) of 13024 users have no train items\n",
      "Warning: 2548 (19.56 %) of 13024 users have no sampled items\n",
      "EvaluatorHoldout: Ignoring 2548 (19.6%) Users that have less than 1 test interactions\n",
      "Warning: 617 (4.74 %) of 13024 users have no train items\n",
      "Warning: 2545 (19.54 %) of 13024 users have no sampled items\n",
      "EvaluatorHoldout: Ignoring 2545 (19.5%) Users that have less than 1 test interactions\n"
     ]
    }
   ],
   "source": [
    "test_folds = 3\n",
    "\n",
    "URM_trains = [None] * test_folds\n",
    "evaluator_tests = [None] * test_folds\n",
    "for i in range(0, test_folds):\n",
    "    URM_trains[i], URM_test = split_train_in_two_percentage_global_sample(URM_all, train_percentage = 0.80)\n",
    "    evaluator_tests[i] = EvaluatorHoldout(URM_test, cutoff_list=[10])"
   ]
  },
  {
   "cell_type": "code",
   "execution_count": 11,
   "metadata": {},
   "outputs": [],
   "source": [
    "def train_evaluate(optuna_trial):\n",
    "    factors = optuna_trial.suggest_int(\"topK\", 10, 1000)\n",
    "    alpha = optuna_trial.suggest_float(\"alpha\", 0.0, 2.0)\n",
    "    epsilon = optuna_trial.suggest_float(\"epsilon\", 0.0, 2.0)\n",
    "    reg = optuna_trial.suggest_float(\"reg\", 0.0, 1.0)\n",
    "\n",
    "    mAP = 0.0\n",
    "    for i in range(0, 1):\n",
    "        IALS = IALSRecommender(URM_trains[i], verbose=False)\n",
    "        IALS.fit(epochs = 20)#num_factors=factors, alpha=alpha, epsilon=epsilon, reg=reg)\n",
    "        result_df, _ = evaluator_tests[i].evaluateRecommender(IALS)\n",
    "        mAP += result_df[\"MAP\"].values[0]\n",
    "    mAP /= 1\n",
    "    return mAP"
   ]
  },
  {
   "cell_type": "code",
   "execution_count": 12,
   "metadata": {},
   "outputs": [
    {
     "name": "stderr",
     "output_type": "stream",
     "text": [
      "[I 2023-12-11 12:01:03,574] A new study created in memory with name: no-name-4ee223c0-1d60-41c4-aec0-87736b9d564d\n"
     ]
    },
    {
     "name": "stdout",
     "output_type": "stream",
     "text": [
      "IALSRecommender: Epoch 1 of 20. Elapsed time 13.18 sec\n",
      "IALSRecommender: Epoch 2 of 20. Elapsed time 26.16 sec\n",
      "IALSRecommender: Epoch 3 of 20. Elapsed time 39.23 sec\n",
      "IALSRecommender: Epoch 4 of 20. Elapsed time 52.03 sec\n",
      "IALSRecommender: Epoch 5 of 20. Elapsed time 1.08 min\n",
      "IALSRecommender: Epoch 6 of 20. Elapsed time 1.29 min\n",
      "IALSRecommender: Epoch 7 of 20. Elapsed time 1.51 min\n",
      "IALSRecommender: Epoch 8 of 20. Elapsed time 1.73 min\n",
      "IALSRecommender: Epoch 9 of 20. Elapsed time 1.94 min\n",
      "IALSRecommender: Epoch 10 of 20. Elapsed time 2.15 min\n",
      "IALSRecommender: Epoch 11 of 20. Elapsed time 2.36 min\n",
      "IALSRecommender: Epoch 12 of 20. Elapsed time 2.57 min\n",
      "IALSRecommender: Epoch 13 of 20. Elapsed time 2.78 min\n",
      "IALSRecommender: Epoch 14 of 20. Elapsed time 2.98 min\n",
      "IALSRecommender: Epoch 15 of 20. Elapsed time 3.20 min\n",
      "IALSRecommender: Epoch 16 of 20. Elapsed time 3.41 min\n",
      "IALSRecommender: Epoch 17 of 20. Elapsed time 3.62 min\n",
      "IALSRecommender: Epoch 18 of 20. Elapsed time 3.83 min\n",
      "IALSRecommender: Epoch 19 of 20. Elapsed time 4.04 min\n",
      "IALSRecommender: Epoch 20 of 20. Elapsed time 4.25 min\n",
      "IALSRecommender: Terminating at epoch 20. Elapsed time 4.25 min\n",
      "EvaluatorHoldout: Processed 10497 (100.0%) in 10.76 sec. Users per second: 976\n"
     ]
    },
    {
     "name": "stderr",
     "output_type": "stream",
     "text": [
      "[I 2023-12-11 12:05:29,525] Trial 0 finished with value: 0.02782008011359268 and parameters: {'topK': 98, 'alpha': 0.8394767706601036, 'epsilon': 1.6822773623605254, 'reg': 0.1330123457937753}. Best is trial 0 with value: 0.02782008011359268.\n"
     ]
    }
   ],
   "source": [
    "study = optuna.create_study(direction=\"maximize\")\n",
    "study.optimize(train_evaluate, n_trials=1)"
   ]
  }
 ],
 "metadata": {
  "kernelspec": {
   "display_name": "Python 3",
   "language": "python",
   "name": "python3"
  },
  "language_info": {
   "codemirror_mode": {
    "name": "ipython",
    "version": 3
   },
   "file_extension": ".py",
   "mimetype": "text/x-python",
   "name": "python",
   "nbconvert_exporter": "python",
   "pygments_lexer": "ipython3",
   "version": "3.11.7"
  }
 },
 "nbformat": 4,
 "nbformat_minor": 2
}
