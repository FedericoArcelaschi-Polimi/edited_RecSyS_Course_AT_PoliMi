{
 "cells": [
  {
   "cell_type": "code",
   "execution_count": 1,
   "metadata": {},
   "outputs": [],
   "source": [
    "#!git clone https://github.com/FedericoArcelaschi-Polimi/edited_RecSyS_Course_AT_PoliMi"
   ]
  },
  {
   "cell_type": "code",
   "execution_count": 2,
   "metadata": {},
   "outputs": [],
   "source": [
    "#cd edited_RecSyS_Course_AT_PoliMi"
   ]
  },
  {
   "cell_type": "code",
   "execution_count": 3,
   "metadata": {},
   "outputs": [
    {
     "name": "stderr",
     "output_type": "stream",
     "text": [
      "C:\\Users\\feder\\AppData\\Local\\Packages\\PythonSoftwareFoundation.Python.3.11_qbz5n2kfra8p0\\LocalCache\\local-packages\\Python311\\site-packages\\tqdm\\auto.py:21: TqdmWarning: IProgress not found. Please update jupyter and ipywidgets. See https://ipywidgets.readthedocs.io/en/stable/user_install.html\n",
      "  from .autonotebook import tqdm as notebook_tqdm\n"
     ]
    }
   ],
   "source": [
    "import numpy as np\n",
    "import matplotlib.pyplot as pyplot\n",
    "import pandas as pd\n",
    "import scipy.sparse as sps\n",
    "%matplotlib inline  \n",
    "%load_ext Cython\n",
    "\n",
    "from Evaluation.Evaluator import EvaluatorHoldout\n",
    "from Data_manager.split_functions.split_train_validation_random_holdout import split_train_in_two_percentage_global_sample\n",
    "from Recommenders.Similarity.Compute_Similarity_Python import Compute_Similarity_Python\n",
    "\n",
    "from Recommenders.KNN.UserKNNCFRecommender import UserKNNCFRecommender\n",
    "from Recommenders.KNN.ItemKNNCFRecommender import ItemKNNCFRecommender\n",
    "from Recommenders.GraphBased.RP3betaRecommender import RP3betaRecommender\n",
    "from Recommenders.GraphBased.P3alphaRecommender import P3alphaRecommender\n",
    "from Recommenders.SLIM.SLIMElasticNetRecommender import MultiThreadSLIM_SLIMElasticNetRecommender\n",
    "from Recommenders.MatrixFactorization.NMFRecommender import NMFRecommender\n",
    "from Recommenders.NonPersonalizedRecommender import TopPop\n",
    "import optuna\n",
    "\n",
    "import xgboost as xgb\n",
    "from xgboost import XGBRanker, plot_importance"
   ]
  },
  {
   "cell_type": "code",
   "execution_count": 4,
   "metadata": {},
   "outputs": [],
   "source": [
    "#!pip install pymysql"
   ]
  },
  {
   "cell_type": "code",
   "execution_count": 5,
   "metadata": {},
   "outputs": [],
   "source": [
    "# data_train_path=\"/kaggle/input/recommender-system-2023-challenge-polimi/data_train.csv\"\n",
    "# data_target_user_path=\"/kaggle/input/recommender-system-2023-challenge-polimi/data_target_users_test.csv\"\n",
    "data_train_path=\"data_train.csv\"\n",
    "data_target_user_path=\"data_target_users_test.csv\"\n",
    "data_train = pd.read_csv(data_train_path)\n",
    "data_target = pd.read_csv(data_target_user_path)"
   ]
  },
  {
   "cell_type": "code",
   "execution_count": 6,
   "metadata": {},
   "outputs": [
    {
     "data": {
      "text/plain": [
       "<13024x22222 sparse matrix of type '<class 'numpy.float64'>'\n",
       "\twith 478730 stored elements in Compressed Sparse Row format>"
      ]
     },
     "execution_count": 6,
     "metadata": {},
     "output_type": "execute_result"
    }
   ],
   "source": [
    "URM_all =  data_train.pivot(index='row', columns='col', values='data').fillna(0)\n",
    "item_map = {i : item for i, item in enumerate(URM_all.columns)}\n",
    "user_map = {i : user for i, user in enumerate(data_target[\"user_id\"])}\n",
    "item_map_inv = {item : i for i, item in item_map.items()}\n",
    "user_map_inv = {user : i for i, user in user_map.items()}\n",
    "missing_index = [x for x in range(1,13025) if x not in URM_all.index.tolist()]\n",
    "add_urm = pd.DataFrame(index = missing_index, columns = URM_all.columns).fillna(0)\n",
    "URM_all = pd.concat([URM_all, add_urm]).sort_index()\n",
    "del add_urm\n",
    "del missing_index\n",
    "URM_all = URM_all.to_numpy()\n",
    "URM_all = sps.csr_matrix(URM_all)\n",
    "URM_all"
   ]
  },
  {
   "cell_type": "code",
   "execution_count": 7,
   "metadata": {},
   "outputs": [
    {
     "name": "stdout",
     "output_type": "stream",
     "text": [
      "Warning: 601 (4.61 %) of 13024 users have no train items\n",
      "Warning: 2563 (19.68 %) of 13024 users have no sampled items\n",
      "EvaluatorHoldout: Ignoring 2563 (19.7%) Users that have less than 1 test interactions\n"
     ]
    }
   ],
   "source": [
    "# test_folds = 10\n",
    "# train_percentages = [0] * test_folds\n",
    "# for i in range(test_folds):\n",
    "#     train_percentages[i] = (test_folds-1-i)/(test_folds-i)\n",
    "# URM_trains = [None] * test_folds\n",
    "# URM_tests = [None] * test_folds\n",
    "# evaluator_tests = [None] * test_folds\n",
    "# for i in range(test_folds):\n",
    "#     if i == 0:\n",
    "#         URM_trains[i], URM_tests[i] = split_train_in_two_percentage_global_sample(URM_all, train_percentage = train_percentages[i])\n",
    "#     else:\n",
    "#         URM_trains[i], URM_tests[i] = split_train_in_two_percentage_global_sample(URM_trains[i-1], train_percentage = train_percentages[i])\n",
    "#     evaluator_tests[i] = EvaluatorHoldout(URM_tests[i], cutoff_list=[10])\n",
    "# for i in range(test_folds):\n",
    "#     URM_trains[i] = URM_all - URM_tests[i]\n",
    "\n",
    "#URM_train, URM_test = split_train_in_two_percentage_global_sample(URM_all, train_percentage = 0.8)\n",
    "URM_train, URM_validation = split_train_in_two_percentage_global_sample(URM_all, train_percentage = 0.8)\n",
    "evaluator_validation = EvaluatorHoldout(URM_validation, cutoff_list=[10])"
   ]
  },
  {
   "cell_type": "code",
   "execution_count": 8,
   "metadata": {},
   "outputs": [],
   "source": [
    "from Recommenders.BaseRecommender import BaseRecommender\n",
    "\n",
    "class ScoresHybridRecommender(BaseRecommender):\n",
    "\n",
    "    RECOMMENDER_NAME = \"ScoresHybridRecommender\"\n",
    "\n",
    "    def __init__(self, URM_train, recommenders, verbose):\n",
    "\n",
    "        super(ScoresHybridRecommender, self).__init__(URM_train, verbose=verbose)\n",
    "\n",
    "        self.URM_train = sps.csr_matrix(URM_train)\n",
    "        self.recommenders = recommenders\n",
    "        \n",
    "        \n",
    "    def fit(self, weights):\n",
    "        self.weights = weights\n",
    "\n",
    "    def _compute_item_score(self, user_id_array, items_to_compute):\n",
    "        \n",
    "        # In a simple extension this could be a loop over a list of pretrained recommender objects\n",
    "        \n",
    "        item_weight_per_recommender = [None]*len(self.recommenders)\n",
    "        for i, recommender in enumerate(self.recommenders):\n",
    "            item_weight_per_recommender[i] = recommender._compute_item_score(user_id_array, items_to_compute)\n",
    "\n",
    "        item_weights = item_weight_per_recommender[0]*self.weights[0]\n",
    "        for i in range(1, len(self.recommenders)):\n",
    "            item_weights += item_weight_per_recommender[i]*self.weights[i]\n",
    "\n",
    "        return item_weights"
   ]
  },
  {
   "cell_type": "code",
   "execution_count": 9,
   "metadata": {},
   "outputs": [],
   "source": [
    "# Replace the following with your MySQL database connection details\n",
    "host = \"db-mysql-recsys-do-user-15390069-0.c.db.ondigitalocean.com\"\n",
    "port = 25060\n",
    "database_name = \"optuna\"\n",
    "username = \"\"\n",
    "password = \"\"\n",
    "\n",
    "# Create an SQLAlchemy engine\n",
    "mysql_url = f\"mysql+pymysql://{username}:{password}@{host}:{port}/{database_name}\"\n",
    "mysql_url\n",
    "storage = optuna.storages.RDBStorage(url=mysql_url)\n",
    "\n",
    "nmf_name = \"NMF10_DB\"\n",
    "knn_name = \"itemKNN10_DB\"\n",
    "slim_name = \"SLIM_EN10_DB\"\n",
    "rp3beta_name = \"RP3b10_DB\"\n",
    "p3alpha_name = \"P3a10_DB\"\n",
    "hybrid_name = \"HYBRID10_DB\"\n",
    "nmf_study = optuna.load_study(study_name=nmf_name, storage=storage)\n",
    "knn_study = optuna.load_study(study_name=knn_name, storage=storage)\n",
    "slim_study = optuna.load_study(study_name=slim_name, storage=storage)\n",
    "rp3beta_study = optuna.load_study(study_name=rp3beta_name, storage=storage)\n",
    "p3alpha_study = optuna.load_study(study_name=p3alpha_name, storage=storage)\n",
    "hybrid_study = optuna.load_study(study_name=hybrid_name, storage=storage)\n",
    "\n",
    "studies = [nmf_study, knn_study, slim_study, rp3beta_study, p3alpha_study]\n",
    "recommenders_list = [\"Hybrid\", \"itemKNN\", \"RP3beta\", \"P3alpha\", \"NMF\", \"SLIM_EN\", \"TopPop\"]"
   ]
  },
  {
   "cell_type": "code",
   "execution_count": 10,
   "metadata": {},
   "outputs": [
    {
     "name": "stdout",
     "output_type": "stream",
     "text": [
      "TopPopRecommender: URM Detected 601 ( 4.6%) users with no interactions.\n",
      "TopPopRecommender: URM Detected 103 ( 0.5%) items with no interactions.\n",
      "ITEMKNN...\n",
      "Similarity column 22222 (100.0%), 8081.81 column/sec. Elapsed time 2.75 sec\n",
      "RP3BETA...\n",
      "P3ALPHA...\n",
      "SLIM...\n",
      "NMF...\n",
      "TopPop...\n",
      "HYBRID...\n"
     ]
    },
    {
     "ename": "AttributeError",
     "evalue": "'dict' object has no attribute 'add'",
     "output_type": "error",
     "traceback": [
      "\u001b[1;31m---------------------------------------------------------------------------\u001b[0m",
      "\u001b[1;31mAttributeError\u001b[0m                            Traceback (most recent call last)",
      "File \u001b[1;32m<timed exec>:31\u001b[0m\n",
      "\u001b[1;31mAttributeError\u001b[0m: 'dict' object has no attribute 'add'"
     ]
    }
   ],
   "source": [
    "%%time\n",
    "item_knn_recommender = ItemKNNCFRecommender(URM_train, verbose=False)\n",
    "RP3beta_recommender = RP3betaRecommender(URM_train, verbose=False)\n",
    "P3alpha_recommender = P3alphaRecommender(URM_train, verbose=False)\n",
    "SLIM_EN_recommender = MultiThreadSLIM_SLIMElasticNetRecommender(URM_train, verbose=False)\n",
    "NMF_recommender = NMFRecommender(URM_train, verbose=False)\n",
    "TopPop_recommender = TopPop(URM_train)\n",
    "print(\"ITEMKNN...\")\n",
    "item_knn_recommender.fit(shrink=knn_study.best_params[\"shrink\"], topK=knn_study.best_params[\"topK\"])\n",
    "print(\"RP3BETA...\")\n",
    "RP3beta_recommender.fit(alpha=rp3beta_study.best_params[\"alpha\"], beta=rp3beta_study.best_params[\"beta\"], topK=rp3beta_study.best_params[\"topK\"])\n",
    "print(\"P3ALPHA...\")\n",
    "P3alpha_recommender.fit(topK=p3alpha_study.best_params[\"topK\"], alpha=p3alpha_study.best_params[\"alpha\"])\n",
    "print(\"SLIM...\")\n",
    "SLIM_EN_recommender.fit(workers=12,topK=slim_study.best_params[\"topK\"], l1_ratio=slim_study.best_params[\"l1_ratio\"], alpha=slim_study.best_params[\"alpha\"], verbose=False)\n",
    "print(\"NMF...\")\n",
    "NMF_recommender.fit(num_factors = nmf_study.best_params[\"factors\"], l1_ratio = nmf_study.best_params[\"l1_ratio\"], init_type = nmf_study.best_params[\"init\"], beta_loss = nmf_study.best_params[\"beta_loss\"])\n",
    "print(\"TopPop...\")\n",
    "TopPop_recommender.fit()\n",
    "\n",
    "recommenders = {\n",
    "    \"SLIM_EN\" : SLIM_EN_recommender,\n",
    "    \"RP3beta\" : RP3beta_recommender,\n",
    "    \"itemKNN\" : item_knn_recommender,\n",
    "    \"P3alpha\" : P3alpha_recommender,\n",
    "    \"NMF\" : NMF_recommender,\n",
    "}\n",
    "print(\"HYBRID...\")\n",
    "hybrid_recommender = ScoresHybridRecommender(URM_train, recommenders.values(), verbose=False)\n",
    "hybrid_recommender.fit([hybrid_study.best_params['weight_{}'.format(i) ] for i, study in enumerate(studies)])\n",
    "\n",
    "recommenders[\"TopPop\"] = TopPop_recommender\n",
    "recommenders[\"Hybrid\"] = hybrid_recommender"
   ]
  },
  {
   "cell_type": "code",
   "execution_count": 231,
   "metadata": {},
   "outputs": [
    {
     "data": {
      "text/plain": [
       "[('P3alpha',\n",
       "  0.0300424519886685,\n",
       "  <Recommenders.GraphBased.P3alphaRecommender.P3alphaRecommender at 0x134a473bed0>),\n",
       " ('NMF',\n",
       "  0.028691217270341306,\n",
       "  <Recommenders.MatrixFactorization.NMFRecommender.NMFRecommender at 0x13600887f50>),\n",
       " ('RP3beta',\n",
       "  0.025966694210683806,\n",
       "  <Recommenders.GraphBased.RP3betaRecommender.RP3betaRecommender at 0x135ee5894d0>),\n",
       " ('SLIM_EN',\n",
       "  0.025143288853953664,\n",
       "  <Recommenders.SLIM.SLIMElasticNetRecommender.MultiThreadSLIM_SLIMElasticNetRecommender at 0x135ee5da4d0>),\n",
       " ('itemKNN',\n",
       "  0.018809431530436092,\n",
       "  <Recommenders.KNN.ItemKNNCFRecommender.ItemKNNCFRecommender at 0x1360d08d990>),\n",
       " ('TopPop',\n",
       "  0.0,\n",
       "  <Recommenders.NonPersonalizedRecommender.TopPop at 0x135fb17e6d0>)]"
      ]
     },
     "execution_count": 231,
     "metadata": {},
     "output_type": "execute_result"
    }
   ],
   "source": [
    "recommenders_tuple = [(recommenders_list[i], study.best_value, recommenders[recommenders_list[i]]) for i, study in enumerate(studies)]\n",
    "# sort studies by best value\n",
    "recommenders_tuple.append((\"TopPop\", 0.0, TopPop_recommender))\n",
    "recommenders_tuple.sort(key=lambda x: x[1], reverse=True)\n",
    "recommenders_tuple"
   ]
  },
  {
   "cell_type": "code",
   "execution_count": null,
   "metadata": {},
   "outputs": [],
   "source": [
    "main_recommender = \"SLIM_EN\"\n",
    "xgboost_values = []\n",
    "suggestions, scores_MAIN = recommenders[main_recommender].recommend(data_target[\"user_id\"]-1, cutoff=30, return_scores=True)\n",
    "other_list = [recommender for recommender in recommenders_list if recommender != main_recommender]\n",
    "scores_others = {}\n",
    "for i, recommender in enumerate(other_list):\n",
    "    _, scores_others[recommender] = recommenders[recommender].recommend(data_target[\"user_id\"]-1, cutoff=30, return_scores=True)\n",
    "for i, suggestion in enumerate(suggestions):\n",
    "    for item_id in suggestion:\n",
    "        xgboost_values.append([data_target[\"user_id\"][i], item_map[item_id], URM_validation[data_target[\"user_id\"][i]-1,item_id] == 1,scores_MAIN[i][item_id]]+[scores_others[other][i][item_id] for other in other_list])\n",
    "toppop_items, scores_toppop = recommenders[\"TopPop\"].recommend(1, cutoff=30, return_scores=True)\n",
    "xgboost_df = pd.DataFrame(xgboost_values,columns=[\"user_id\", \"item_id\", \"label\", main_recommender]+other_list)\n",
    "\n",
    "xgboost_df[xgboost_df[\"user_id\"] == 65]"
   ]
  },
  {
   "cell_type": "code",
   "execution_count": null,
   "metadata": {},
   "outputs": [
    {
     "data": {
      "text/html": [
       "<div>\n",
       "<style scoped>\n",
       "    .dataframe tbody tr th:only-of-type {\n",
       "        vertical-align: middle;\n",
       "    }\n",
       "\n",
       "    .dataframe tbody tr th {\n",
       "        vertical-align: top;\n",
       "    }\n",
       "\n",
       "    .dataframe thead th {\n",
       "        text-align: right;\n",
       "    }\n",
       "</style>\n",
       "<table border=\"1\" class=\"dataframe\">\n",
       "  <thead>\n",
       "    <tr style=\"text-align: right;\">\n",
       "      <th></th>\n",
       "      <th>user_id</th>\n",
       "      <th>item_id</th>\n",
       "      <th>label</th>\n",
       "      <th>SLIM_EN</th>\n",
       "      <th>itemKNN</th>\n",
       "      <th>RP3beta</th>\n",
       "      <th>P3alpha</th>\n",
       "      <th>NMF</th>\n",
       "      <th>TopPop</th>\n",
       "    </tr>\n",
       "  </thead>\n",
       "  <tbody>\n",
       "  </tbody>\n",
       "</table>\n",
       "</div>"
      ],
      "text/plain": [
       "Empty DataFrame\n",
       "Columns: [user_id, item_id, label, SLIM_EN, itemKNN, RP3beta, P3alpha, NMF, TopPop]\n",
       "Index: []"
      ]
     },
     "execution_count": 318,
     "metadata": {},
     "output_type": "execute_result"
    }
   ],
   "source": [
    "xgboost_df[xgboost_df[\"user_id\"] == 7]"
   ]
  },
  {
   "cell_type": "code",
   "execution_count": 117,
   "metadata": {},
   "outputs": [
    {
     "data": {
      "text/html": [
       "<div>\n",
       "<style scoped>\n",
       "    .dataframe tbody tr th:only-of-type {\n",
       "        vertical-align: middle;\n",
       "    }\n",
       "\n",
       "    .dataframe tbody tr th {\n",
       "        vertical-align: top;\n",
       "    }\n",
       "\n",
       "    .dataframe thead th {\n",
       "        text-align: right;\n",
       "    }\n",
       "</style>\n",
       "<table border=\"1\" class=\"dataframe\">\n",
       "  <thead>\n",
       "    <tr style=\"text-align: right;\">\n",
       "      <th></th>\n",
       "      <th>user_id</th>\n",
       "      <th>item_id</th>\n",
       "      <th>label</th>\n",
       "      <th>SLIM_EN</th>\n",
       "      <th>itemKNN</th>\n",
       "      <th>RP3beta</th>\n",
       "      <th>P3alpha</th>\n",
       "      <th>NMF</th>\n",
       "    </tr>\n",
       "  </thead>\n",
       "  <tbody>\n",
       "    <tr>\n",
       "      <th>10</th>\n",
       "      <td>1.0</td>\n",
       "      <td>429.0</td>\n",
       "      <td>True</td>\n",
       "      <td>0.189960</td>\n",
       "      <td>0.632268</td>\n",
       "      <td>0.108604</td>\n",
       "      <td>0.044457</td>\n",
       "      <td>0.083381</td>\n",
       "    </tr>\n",
       "    <tr>\n",
       "      <th>11</th>\n",
       "      <td>1.0</td>\n",
       "      <td>879.0</td>\n",
       "      <td>True</td>\n",
       "      <td>0.162939</td>\n",
       "      <td>0.183540</td>\n",
       "      <td>0.135350</td>\n",
       "      <td>0.089179</td>\n",
       "      <td>0.009996</td>\n",
       "    </tr>\n",
       "    <tr>\n",
       "      <th>32</th>\n",
       "      <td>2.0</td>\n",
       "      <td>1.0</td>\n",
       "      <td>True</td>\n",
       "      <td>0.263885</td>\n",
       "      <td>0.204867</td>\n",
       "      <td>0.093699</td>\n",
       "      <td>0.077902</td>\n",
       "      <td>0.001658</td>\n",
       "    </tr>\n",
       "    <tr>\n",
       "      <th>90</th>\n",
       "      <td>4.0</td>\n",
       "      <td>17.0</td>\n",
       "      <td>True</td>\n",
       "      <td>0.443727</td>\n",
       "      <td>1.451927</td>\n",
       "      <td>0.370449</td>\n",
       "      <td>0.404758</td>\n",
       "      <td>0.006971</td>\n",
       "    </tr>\n",
       "    <tr>\n",
       "      <th>91</th>\n",
       "      <td>4.0</td>\n",
       "      <td>252.0</td>\n",
       "      <td>True</td>\n",
       "      <td>0.408945</td>\n",
       "      <td>0.781131</td>\n",
       "      <td>0.228372</td>\n",
       "      <td>0.139479</td>\n",
       "      <td>0.362863</td>\n",
       "    </tr>\n",
       "    <tr>\n",
       "      <th>...</th>\n",
       "      <td>...</td>\n",
       "      <td>...</td>\n",
       "      <td>...</td>\n",
       "      <td>...</td>\n",
       "      <td>...</td>\n",
       "      <td>...</td>\n",
       "      <td>...</td>\n",
       "      <td>...</td>\n",
       "    </tr>\n",
       "    <tr>\n",
       "      <th>326427</th>\n",
       "      <td>13023.0</td>\n",
       "      <td>624.0</td>\n",
       "      <td>True</td>\n",
       "      <td>0.081029</td>\n",
       "      <td>0.336721</td>\n",
       "      <td>0.000000</td>\n",
       "      <td>0.000000</td>\n",
       "      <td>0.075534</td>\n",
       "    </tr>\n",
       "    <tr>\n",
       "      <th>326440</th>\n",
       "      <td>13024.0</td>\n",
       "      <td>10204.0</td>\n",
       "      <td>True</td>\n",
       "      <td>0.310888</td>\n",
       "      <td>1.560122</td>\n",
       "      <td>0.264720</td>\n",
       "      <td>0.073445</td>\n",
       "      <td>0.100876</td>\n",
       "    </tr>\n",
       "    <tr>\n",
       "      <th>326447</th>\n",
       "      <td>13024.0</td>\n",
       "      <td>606.0</td>\n",
       "      <td>True</td>\n",
       "      <td>0.260700</td>\n",
       "      <td>0.771557</td>\n",
       "      <td>0.231184</td>\n",
       "      <td>0.091793</td>\n",
       "      <td>0.208222</td>\n",
       "    </tr>\n",
       "    <tr>\n",
       "      <th>326448</th>\n",
       "      <td>13024.0</td>\n",
       "      <td>1006.0</td>\n",
       "      <td>True</td>\n",
       "      <td>0.259481</td>\n",
       "      <td>0.551072</td>\n",
       "      <td>0.177780</td>\n",
       "      <td>0.083203</td>\n",
       "      <td>0.012797</td>\n",
       "    </tr>\n",
       "    <tr>\n",
       "      <th>326452</th>\n",
       "      <td>13024.0</td>\n",
       "      <td>20014.0</td>\n",
       "      <td>True</td>\n",
       "      <td>0.226821</td>\n",
       "      <td>1.624394</td>\n",
       "      <td>0.320835</td>\n",
       "      <td>0.117544</td>\n",
       "      <td>0.062584</td>\n",
       "    </tr>\n",
       "  </tbody>\n",
       "</table>\n",
       "<p>18006 rows × 8 columns</p>\n",
       "</div>"
      ],
      "text/plain": [
       "        user_id  item_id label   SLIM_EN   itemKNN   RP3beta   P3alpha  \\\n",
       "10          1.0    429.0  True  0.189960  0.632268  0.108604  0.044457   \n",
       "11          1.0    879.0  True  0.162939  0.183540  0.135350  0.089179   \n",
       "32          2.0      1.0  True  0.263885  0.204867  0.093699  0.077902   \n",
       "90          4.0     17.0  True  0.443727  1.451927  0.370449  0.404758   \n",
       "91          4.0    252.0  True  0.408945  0.781131  0.228372  0.139479   \n",
       "...         ...      ...   ...       ...       ...       ...       ...   \n",
       "326427  13023.0    624.0  True  0.081029  0.336721  0.000000  0.000000   \n",
       "326440  13024.0  10204.0  True  0.310888  1.560122  0.264720  0.073445   \n",
       "326447  13024.0    606.0  True  0.260700  0.771557  0.231184  0.091793   \n",
       "326448  13024.0   1006.0  True  0.259481  0.551072  0.177780  0.083203   \n",
       "326452  13024.0  20014.0  True  0.226821  1.624394  0.320835  0.117544   \n",
       "\n",
       "             NMF  \n",
       "10      0.083381  \n",
       "11      0.009996  \n",
       "32      0.001658  \n",
       "90      0.006971  \n",
       "91      0.362863  \n",
       "...          ...  \n",
       "326427  0.075534  \n",
       "326440  0.100876  \n",
       "326447  0.208222  \n",
       "326448  0.012797  \n",
       "326452  0.062584  \n",
       "\n",
       "[18006 rows x 8 columns]"
      ]
     },
     "execution_count": 117,
     "metadata": {},
     "output_type": "execute_result"
    }
   ],
   "source": [
    "xgboost_df.where(xgboost_df[\"label\"] == 1).dropna()"
   ]
  },
  {
   "cell_type": "code",
   "execution_count": 118,
   "metadata": {},
   "outputs": [],
   "source": [
    "n_estimators = 50\n",
    "learning_rate = 1e-1\n",
    "reg_alpha = 1e-1\n",
    "reg_lambda = 1e-1\n",
    "max_depth = 5\n",
    "max_leaves = 0\n",
    "grow_policy = \"depthwise\"\n",
    "objective = \"pairwise\"\n",
    "booster = \"gbtree\"\n",
    "use_user_profile = False\n",
    "random_seed = None\n",
    "\n",
    "XGB_model = XGBRanker(objective='rank:{}'.format(objective),\n",
    "                      n_estimators = int(n_estimators),\n",
    "                      random_state = random_seed,\n",
    "                      learning_rate = learning_rate,\n",
    "                      reg_alpha = reg_alpha,\n",
    "                      reg_lambda = reg_lambda,\n",
    "                      max_depth = int(max_depth),\n",
    "                      max_leaves = int(max_leaves),\n",
    "                      grow_policy = grow_policy,\n",
    "                      verbosity = 0, # 2 if self.verbose else 0,\n",
    "                      booster = booster,\n",
    "                      enable_categorical = True,\n",
    "                      )"
   ]
  },
  {
   "cell_type": "code",
   "execution_count": 119,
   "metadata": {},
   "outputs": [
    {
     "data": {
      "text/html": [
       "<style>#sk-container-id-5 {color: black;}#sk-container-id-5 pre{padding: 0;}#sk-container-id-5 div.sk-toggleable {background-color: white;}#sk-container-id-5 label.sk-toggleable__label {cursor: pointer;display: block;width: 100%;margin-bottom: 0;padding: 0.3em;box-sizing: border-box;text-align: center;}#sk-container-id-5 label.sk-toggleable__label-arrow:before {content: \"▸\";float: left;margin-right: 0.25em;color: #696969;}#sk-container-id-5 label.sk-toggleable__label-arrow:hover:before {color: black;}#sk-container-id-5 div.sk-estimator:hover label.sk-toggleable__label-arrow:before {color: black;}#sk-container-id-5 div.sk-toggleable__content {max-height: 0;max-width: 0;overflow: hidden;text-align: left;background-color: #f0f8ff;}#sk-container-id-5 div.sk-toggleable__content pre {margin: 0.2em;color: black;border-radius: 0.25em;background-color: #f0f8ff;}#sk-container-id-5 input.sk-toggleable__control:checked~div.sk-toggleable__content {max-height: 200px;max-width: 100%;overflow: auto;}#sk-container-id-5 input.sk-toggleable__control:checked~label.sk-toggleable__label-arrow:before {content: \"▾\";}#sk-container-id-5 div.sk-estimator input.sk-toggleable__control:checked~label.sk-toggleable__label {background-color: #d4ebff;}#sk-container-id-5 div.sk-label input.sk-toggleable__control:checked~label.sk-toggleable__label {background-color: #d4ebff;}#sk-container-id-5 input.sk-hidden--visually {border: 0;clip: rect(1px 1px 1px 1px);clip: rect(1px, 1px, 1px, 1px);height: 1px;margin: -1px;overflow: hidden;padding: 0;position: absolute;width: 1px;}#sk-container-id-5 div.sk-estimator {font-family: monospace;background-color: #f0f8ff;border: 1px dotted black;border-radius: 0.25em;box-sizing: border-box;margin-bottom: 0.5em;}#sk-container-id-5 div.sk-estimator:hover {background-color: #d4ebff;}#sk-container-id-5 div.sk-parallel-item::after {content: \"\";width: 100%;border-bottom: 1px solid gray;flex-grow: 1;}#sk-container-id-5 div.sk-label:hover label.sk-toggleable__label {background-color: #d4ebff;}#sk-container-id-5 div.sk-serial::before {content: \"\";position: absolute;border-left: 1px solid gray;box-sizing: border-box;top: 0;bottom: 0;left: 50%;z-index: 0;}#sk-container-id-5 div.sk-serial {display: flex;flex-direction: column;align-items: center;background-color: white;padding-right: 0.2em;padding-left: 0.2em;position: relative;}#sk-container-id-5 div.sk-item {position: relative;z-index: 1;}#sk-container-id-5 div.sk-parallel {display: flex;align-items: stretch;justify-content: center;background-color: white;position: relative;}#sk-container-id-5 div.sk-item::before, #sk-container-id-5 div.sk-parallel-item::before {content: \"\";position: absolute;border-left: 1px solid gray;box-sizing: border-box;top: 0;bottom: 0;left: 50%;z-index: -1;}#sk-container-id-5 div.sk-parallel-item {display: flex;flex-direction: column;z-index: 1;position: relative;background-color: white;}#sk-container-id-5 div.sk-parallel-item:first-child::after {align-self: flex-end;width: 50%;}#sk-container-id-5 div.sk-parallel-item:last-child::after {align-self: flex-start;width: 50%;}#sk-container-id-5 div.sk-parallel-item:only-child::after {width: 0;}#sk-container-id-5 div.sk-dashed-wrapped {border: 1px dashed gray;margin: 0 0.4em 0.5em 0.4em;box-sizing: border-box;padding-bottom: 0.4em;background-color: white;}#sk-container-id-5 div.sk-label label {font-family: monospace;font-weight: bold;display: inline-block;line-height: 1.2em;}#sk-container-id-5 div.sk-label-container {text-align: center;}#sk-container-id-5 div.sk-container {/* jupyter's `normalize.less` sets `[hidden] { display: none; }` but bootstrap.min.css set `[hidden] { display: none !important; }` so we also need the `!important` here to be able to override the default hidden behavior on the sphinx rendered scikit-learn.org. See: https://github.com/scikit-learn/scikit-learn/issues/21755 */display: inline-block !important;position: relative;}#sk-container-id-5 div.sk-text-repr-fallback {display: none;}</style><div id=\"sk-container-id-5\" class=\"sk-top-container\"><div class=\"sk-text-repr-fallback\"><pre>XGBRanker(base_score=None, booster=&#x27;gbtree&#x27;, callbacks=None,\n",
       "          colsample_bylevel=None, colsample_bynode=None, colsample_bytree=None,\n",
       "          device=None, early_stopping_rounds=None, enable_categorical=True,\n",
       "          eval_metric=None, feature_types=None, gamma=None,\n",
       "          grow_policy=&#x27;depthwise&#x27;, importance_type=None,\n",
       "          interaction_constraints=None, learning_rate=0.1, max_bin=None,\n",
       "          max_cat_threshold=None, max_cat_to_onehot=None, max_delta_step=None,\n",
       "          max_depth=5, max_leaves=0, min_child_weight=None, missing=nan,\n",
       "          monotone_constraints=None, multi_strategy=None, n_estimators=50,\n",
       "          n_jobs=None, num_parallel_tree=None, objective=&#x27;rank:pairwise&#x27;, ...)</pre><b>In a Jupyter environment, please rerun this cell to show the HTML representation or trust the notebook. <br />On GitHub, the HTML representation is unable to render, please try loading this page with nbviewer.org.</b></div><div class=\"sk-container\" hidden><div class=\"sk-item\"><div class=\"sk-estimator sk-toggleable\"><input class=\"sk-toggleable__control sk-hidden--visually\" id=\"sk-estimator-id-5\" type=\"checkbox\" checked><label for=\"sk-estimator-id-5\" class=\"sk-toggleable__label sk-toggleable__label-arrow\">XGBRanker</label><div class=\"sk-toggleable__content\"><pre>XGBRanker(base_score=None, booster=&#x27;gbtree&#x27;, callbacks=None,\n",
       "          colsample_bylevel=None, colsample_bynode=None, colsample_bytree=None,\n",
       "          device=None, early_stopping_rounds=None, enable_categorical=True,\n",
       "          eval_metric=None, feature_types=None, gamma=None,\n",
       "          grow_policy=&#x27;depthwise&#x27;, importance_type=None,\n",
       "          interaction_constraints=None, learning_rate=0.1, max_bin=None,\n",
       "          max_cat_threshold=None, max_cat_to_onehot=None, max_delta_step=None,\n",
       "          max_depth=5, max_leaves=0, min_child_weight=None, missing=nan,\n",
       "          monotone_constraints=None, multi_strategy=None, n_estimators=50,\n",
       "          n_jobs=None, num_parallel_tree=None, objective=&#x27;rank:pairwise&#x27;, ...)</pre></div></div></div></div></div>"
      ],
      "text/plain": [
       "XGBRanker(base_score=None, booster='gbtree', callbacks=None,\n",
       "          colsample_bylevel=None, colsample_bynode=None, colsample_bytree=None,\n",
       "          device=None, early_stopping_rounds=None, enable_categorical=True,\n",
       "          eval_metric=None, feature_types=None, gamma=None,\n",
       "          grow_policy='depthwise', importance_type=None,\n",
       "          interaction_constraints=None, learning_rate=0.1, max_bin=None,\n",
       "          max_cat_threshold=None, max_cat_to_onehot=None, max_delta_step=None,\n",
       "          max_depth=5, max_leaves=0, min_child_weight=None, missing=nan,\n",
       "          monotone_constraints=None, multi_strategy=None, n_estimators=50,\n",
       "          n_jobs=None, num_parallel_tree=None, objective='rank:pairwise', ...)"
      ]
     },
     "execution_count": 119,
     "metadata": {},
     "output_type": "execute_result"
    }
   ],
   "source": [
    "y_train = xgboost_df[\"label\"]\n",
    "X_train = xgboost_df.drop(columns=[\"label\"])\n",
    "X_train_drop = xgboost_df.drop(columns=[\"label\", \"item_id\", \"user_id\"])\n",
    "#X_train[\"user_id\"] = X_train[\"user_id\"].astype(\"category\")\n",
    "#X_train[\"item_id\"] = X_train[\"item_id\"].astype(\"category\")\n",
    "groups = xgboost_df.groupby(\"user_id\").size().values\n",
    "XGB_model.fit(X_train_drop,\n",
    "          y_train,\n",
    "          group=groups,\n",
    "          verbose=True)"
   ]
  },
  {
   "cell_type": "code",
   "execution_count": 215,
   "metadata": {},
   "outputs": [
    {
     "data": {
      "text/plain": [
       "array([], shape=(0, 0), dtype=float32)"
      ]
     },
     "execution_count": 215,
     "metadata": {},
     "output_type": "execute_result"
    }
   ],
   "source": [
    "X_to_predict = X_train_drop[X_train[\"user_id\"] == 22]\n",
    "\n",
    "scores = XGB_model.predict(X_to_predict)\n",
    "scores"
   ]
  },
  {
   "cell_type": "code",
   "execution_count": 166,
   "metadata": {},
   "outputs": [
    {
     "data": {
      "text/plain": [
       "10881"
      ]
     },
     "execution_count": 166,
     "metadata": {},
     "output_type": "execute_result"
    }
   ],
   "source": [
    "user_map_inv[13024]"
   ]
  },
  {
   "cell_type": "code",
   "execution_count": 159,
   "metadata": {},
   "outputs": [
    {
     "data": {
      "text/plain": [
       "(0.2763512432575226,\n",
       " 0      101\n",
       " 1       36\n",
       " 2      515\n",
       " 3      694\n",
       " 4     1546\n",
       " 5     1422\n",
       " 6      592\n",
       " 7      506\n",
       " 8      403\n",
       " 9      216\n",
       " 10     429\n",
       " 11     879\n",
       " 12    1481\n",
       " 13     618\n",
       " 14       1\n",
       " 15    1338\n",
       " 16     314\n",
       " 17     139\n",
       " 18     977\n",
       " 19    1288\n",
       " 20     342\n",
       " 21    1083\n",
       " 22    1630\n",
       " 23      60\n",
       " 24     602\n",
       " 25    1547\n",
       " 26     102\n",
       " 27     154\n",
       " 28    6620\n",
       " 29     303\n",
       " Name: item_id, dtype: int64)"
      ]
     },
     "execution_count": 159,
     "metadata": {},
     "output_type": "execute_result"
    }
   ],
   "source": [
    "X_to_predict = X_train[X_train[\"user_id\"] == 1]\n",
    "item_scores = np.zeros(22348)\n",
    "item_id_mapped = [item_map[i] for i in X_to_predict[\"item_id\"]]\n",
    "item_scores[item_id_mapped] = scores\n",
    "item_scores[item_map[1338]], X_to_predict[\"item_id\"]"
   ]
  },
  {
   "cell_type": "code",
   "execution_count": 121,
   "metadata": {},
   "outputs": [
    {
     "data": {
      "text/plain": [
       "<Axes: title={'center': 'Weight (Frequence)'}, xlabel='F score', ylabel='Features'>"
      ]
     },
     "execution_count": 121,
     "metadata": {},
     "output_type": "execute_result"
    },
    {
     "data": {
      "image/png": "[encoded data removed]",
      "text/plain": [
       "<Figure size 640x480 with 1 Axes>"
      ]
     },
     "metadata": {},
     "output_type": "display_data"
    }
   ],
   "source": [
    "plot_importance(XGB_model, importance_type='weight', title='Weight (Frequence)')"
   ]
  },
  {
   "cell_type": "code",
   "execution_count": 12,
   "metadata": {},
   "outputs": [],
   "source": [
    "from Recommenders.BaseRecommender import BaseRecommender\n",
    "\n",
    "class XGBoostRecommender(BaseRecommender):\n",
    "\n",
    "    RECOMMENDER_NAME = \"XGBoostRecommender\"\n",
    "\n",
    "    def __init__(self,\n",
    "                URM_train,\n",
    "                recommenders,\n",
    "                main_recommender,\n",
    "                verbose = True,\n",
    "                n_estimators = 50,\n",
    "                learning_rate = 1e-1,\n",
    "                reg_alpha = 1e-1,\n",
    "                reg_lambda = 1e-1,\n",
    "                max_depth = 20,\n",
    "                max_leaves = 0,\n",
    "                grow_policy = \"depthwise\",\n",
    "                objective = \"pairwise\",\n",
    "                booster = \"gbtree\",\n",
    "                random_seed = None,\n",
    "                ):\n",
    "\n",
    "        super(XGBoostRecommender, self).__init__(URM_train, verbose=verbose)\n",
    "\n",
    "        self.XGB_model = XGBRanker(objective='rank:{}'.format(objective),\n",
    "                                n_estimators = int(n_estimators),\n",
    "                                random_state = random_seed,\n",
    "                                learning_rate = learning_rate,\n",
    "                                reg_alpha = reg_alpha,\n",
    "                                reg_lambda = reg_lambda,\n",
    "                                max_depth = int(max_depth),\n",
    "                                max_leaves = int(max_leaves),\n",
    "                                grow_policy = grow_policy,\n",
    "                                verbosity = 0, # 2 if self.verbose else 0,\n",
    "                                booster = booster,\n",
    "                                enable_categorical = True,\n",
    "                            )\n",
    "        self.recommenders = recommenders\n",
    "        self.main_recommender = main_recommender\n",
    "        self.X_train = None\n",
    "        self.y_train = None\n",
    "        \n",
    "    def fit(self):\n",
    "        xgboost_values = []\n",
    "        suggestions, scores_MAIN = self.recommenders[self.main_recommender].recommend(data_target[\"user_id\"]-1, cutoff=30, return_scores=True)\n",
    "        other_list = [recommender for recommender in recommenders_list if recommender != self.main_recommender]\n",
    "        scores_others = {}\n",
    "        for i, recommender in enumerate(other_list):\n",
    "            _, scores_others[recommender] = self.recommenders[recommender].recommend(data_target[\"user_id\"]-1, cutoff=30, return_scores=True)\n",
    "        for i, suggestion in enumerate(suggestions):\n",
    "            for item_id in suggestion:\n",
    "                xgboost_values.append([data_target[\"user_id\"][i]-1, item_id, URM_validation[data_target[\"user_id\"][i]-1,item_id] == 1,scores_MAIN[i][item_id]]+[scores_others[other][i][item_id] for other in other_list])\n",
    "        \n",
    "        # add top pop items to users with 0 label\n",
    "        # toppop_items, scores_toppop = self.recommenders[\"TopPop\"].recommend(1, cutoff=30, return_scores=True)\n",
    "        # for user in data_target[\"user_id\"]:\n",
    "        #     xgboost_values.append([user, toppop_items+1, 0, 0]+[0 for other in other_list if other != \"TopPop\"]+[scores_toppop[0][item_map[item]] for item in toppop_items])\n",
    "        \n",
    "        xgboost_df = pd.DataFrame(xgboost_values,columns=[\"user_id\", \"item_id\", \"label\", self.main_recommender]+other_list)\n",
    "\n",
    "        self.y_train = xgboost_df[\"label\"]\n",
    "        self.X_train = xgboost_df.drop(columns=[\"label\"])\n",
    "        self.X_train[\"user_id\"] = self.X_train[\"user_id\"].astype(\"category\")\n",
    "        self.X_train[\"item_id\"] = self.X_train[\"item_id\"].astype(\"category\")\n",
    "        groups = xgboost_df.groupby(\"user_id\").size().values\n",
    "        self.XGB_model.fit(self.X_train,\n",
    "                    self.y_train,\n",
    "                    group=groups,\n",
    "                    verbose=True)\n",
    "    \n",
    "    def get_URM_train(self):\n",
    "        return self.URM_train\n",
    "\n",
    "    def _compute_item_score(self, user_id_array, items_to_compute):\n",
    "        item_weights = np.zeros((len(user_id_array), self.n_items))\n",
    "        for i, user in enumerate(user_id_array):\n",
    "            if user in data_target[\"user_id\"].values-1:\n",
    "                X_to_predict = self.X_train[self.X_train[\"user_id\"] == user]\n",
    "                scores = self.XGB_model.predict(X_to_predict)\n",
    "                scores = (scores - scores.min())/(scores.max() - scores.min() + 1e-12)\n",
    "                item_weights[i][X_to_predict[\"item_id\"]] = scores\n",
    "\n",
    "        return item_weights"
   ]
  },
  {
   "cell_type": "code",
   "execution_count": 13,
   "metadata": {},
   "outputs": [
    {
     "name": "stdout",
     "output_type": "stream",
     "text": [
      "XGBoostRecommender: URM Detected 601 ( 4.6%) users with no interactions.\n",
      "XGBoostRecommender: URM Detected 103 ( 0.5%) items with no interactions.\n"
     ]
    }
   ],
   "source": [
    "main_recommender = \"Hybrid\"\n",
    "XGBoostRecommender = XGBoostRecommender(URM_train, recommenders, main_recommender)"
   ]
  },
  {
   "cell_type": "code",
   "execution_count": 14,
   "metadata": {},
   "outputs": [
    {
     "ename": "MemoryError",
     "evalue": "Unable to allocate 922. MiB for an array with shape (10882, 22222) and data type float32",
     "output_type": "error",
     "traceback": [
      "\u001b[1;31m---------------------------------------------------------------------------\u001b[0m",
      "\u001b[1;31mMemoryError\u001b[0m                               Traceback (most recent call last)",
      "Cell \u001b[1;32mIn[14], line 1\u001b[0m\n\u001b[1;32m----> 1\u001b[0m \u001b[43mXGBoostRecommender\u001b[49m\u001b[38;5;241;43m.\u001b[39;49m\u001b[43mfit\u001b[49m\u001b[43m(\u001b[49m\u001b[43m)\u001b[49m\n",
      "Cell \u001b[1;32mIn[12], line 46\u001b[0m, in \u001b[0;36mXGBoostRecommender.fit\u001b[1;34m(self)\u001b[0m\n\u001b[0;32m     44\u001b[0m \u001b[38;5;28;01mdef\u001b[39;00m \u001b[38;5;21mfit\u001b[39m(\u001b[38;5;28mself\u001b[39m):\n\u001b[0;32m     45\u001b[0m     xgboost_values \u001b[38;5;241m=\u001b[39m []\n\u001b[1;32m---> 46\u001b[0m     suggestions, scores_MAIN \u001b[38;5;241m=\u001b[39m \u001b[38;5;28;43mself\u001b[39;49m\u001b[38;5;241;43m.\u001b[39;49m\u001b[43mrecommenders\u001b[49m\u001b[43m[\u001b[49m\u001b[38;5;28;43mself\u001b[39;49m\u001b[38;5;241;43m.\u001b[39;49m\u001b[43mmain_recommender\u001b[49m\u001b[43m]\u001b[49m\u001b[38;5;241;43m.\u001b[39;49m\u001b[43mrecommend\u001b[49m\u001b[43m(\u001b[49m\u001b[43mdata_target\u001b[49m\u001b[43m[\u001b[49m\u001b[38;5;124;43m\"\u001b[39;49m\u001b[38;5;124;43muser_id\u001b[39;49m\u001b[38;5;124;43m\"\u001b[39;49m\u001b[43m]\u001b[49m\u001b[38;5;241;43m-\u001b[39;49m\u001b[38;5;241;43m1\u001b[39;49m\u001b[43m,\u001b[49m\u001b[43m \u001b[49m\u001b[43mcutoff\u001b[49m\u001b[38;5;241;43m=\u001b[39;49m\u001b[38;5;241;43m30\u001b[39;49m\u001b[43m,\u001b[49m\u001b[43m \u001b[49m\u001b[43mreturn_scores\u001b[49m\u001b[38;5;241;43m=\u001b[39;49m\u001b[38;5;28;43;01mTrue\u001b[39;49;00m\u001b[43m)\u001b[49m\n\u001b[0;32m     47\u001b[0m     other_list \u001b[38;5;241m=\u001b[39m [recommender \u001b[38;5;28;01mfor\u001b[39;00m recommender \u001b[38;5;129;01min\u001b[39;00m recommenders_list \u001b[38;5;28;01mif\u001b[39;00m recommender \u001b[38;5;241m!=\u001b[39m \u001b[38;5;28mself\u001b[39m\u001b[38;5;241m.\u001b[39mmain_recommender]\n\u001b[0;32m     48\u001b[0m     scores_others \u001b[38;5;241m=\u001b[39m {}\n",
      "File \u001b[1;32mc:\\Users\\feder\\Documents\\DEV\\my_RecSyS_Course_AT_PoliMi\\Recommenders\\BaseRecommender.py:147\u001b[0m, in \u001b[0;36mBaseRecommender.recommend\u001b[1;34m(self, user_id_array, cutoff, remove_seen_flag, items_to_compute, remove_top_pop_flag, remove_custom_items_flag, return_scores)\u001b[0m\n\u001b[0;32m    143\u001b[0m cutoff \u001b[38;5;241m=\u001b[39m \u001b[38;5;28mmin\u001b[39m(cutoff, \u001b[38;5;28mself\u001b[39m\u001b[38;5;241m.\u001b[39mURM_train\u001b[38;5;241m.\u001b[39mshape[\u001b[38;5;241m1\u001b[39m] \u001b[38;5;241m-\u001b[39m \u001b[38;5;241m1\u001b[39m)\n\u001b[0;32m    145\u001b[0m \u001b[38;5;66;03m# Compute the scores using the model-specific function\u001b[39;00m\n\u001b[0;32m    146\u001b[0m \u001b[38;5;66;03m# Vectorize over all users in user_id_array\u001b[39;00m\n\u001b[1;32m--> 147\u001b[0m scores_batch \u001b[38;5;241m=\u001b[39m \u001b[38;5;28;43mself\u001b[39;49m\u001b[38;5;241;43m.\u001b[39;49m\u001b[43m_compute_item_score\u001b[49m\u001b[43m(\u001b[49m\u001b[43muser_id_array\u001b[49m\u001b[43m,\u001b[49m\u001b[43m \u001b[49m\u001b[43mitems_to_compute\u001b[49m\u001b[38;5;241;43m=\u001b[39;49m\u001b[43mitems_to_compute\u001b[49m\u001b[43m)\u001b[49m\n\u001b[0;32m    150\u001b[0m \u001b[38;5;28;01mfor\u001b[39;00m user_index \u001b[38;5;129;01min\u001b[39;00m \u001b[38;5;28mrange\u001b[39m(\u001b[38;5;28mlen\u001b[39m(user_id_array)):\n\u001b[0;32m    152\u001b[0m     user_id \u001b[38;5;241m=\u001b[39m user_id_array[user_index]\n",
      "Cell \u001b[1;32mIn[8], line 24\u001b[0m, in \u001b[0;36mScoresHybridRecommender._compute_item_score\u001b[1;34m(self, user_id_array, items_to_compute)\u001b[0m\n\u001b[0;32m     22\u001b[0m item_weight_per_recommender \u001b[38;5;241m=\u001b[39m [\u001b[38;5;28;01mNone\u001b[39;00m]\u001b[38;5;241m*\u001b[39m\u001b[38;5;28mlen\u001b[39m(\u001b[38;5;28mself\u001b[39m\u001b[38;5;241m.\u001b[39mrecommenders)\n\u001b[0;32m     23\u001b[0m \u001b[38;5;28;01mfor\u001b[39;00m i, recommender \u001b[38;5;129;01min\u001b[39;00m \u001b[38;5;28menumerate\u001b[39m(\u001b[38;5;28mself\u001b[39m\u001b[38;5;241m.\u001b[39mrecommenders):\n\u001b[1;32m---> 24\u001b[0m     item_weight_per_recommender[i] \u001b[38;5;241m=\u001b[39m \u001b[43mrecommender\u001b[49m\u001b[38;5;241;43m.\u001b[39;49m\u001b[43m_compute_item_score\u001b[49m\u001b[43m(\u001b[49m\u001b[43muser_id_array\u001b[49m\u001b[43m,\u001b[49m\u001b[43m \u001b[49m\u001b[43mitems_to_compute\u001b[49m\u001b[43m)\u001b[49m\n\u001b[0;32m     26\u001b[0m item_weights \u001b[38;5;241m=\u001b[39m item_weight_per_recommender[\u001b[38;5;241m0\u001b[39m]\u001b[38;5;241m*\u001b[39m\u001b[38;5;28mself\u001b[39m\u001b[38;5;241m.\u001b[39mweights[\u001b[38;5;241m0\u001b[39m]\n\u001b[0;32m     27\u001b[0m \u001b[38;5;28;01mfor\u001b[39;00m i \u001b[38;5;129;01min\u001b[39;00m \u001b[38;5;28mrange\u001b[39m(\u001b[38;5;241m1\u001b[39m, \u001b[38;5;28mlen\u001b[39m(\u001b[38;5;28mself\u001b[39m\u001b[38;5;241m.\u001b[39mrecommenders)):\n",
      "Cell \u001b[1;32mIn[8], line 24\u001b[0m, in \u001b[0;36mScoresHybridRecommender._compute_item_score\u001b[1;34m(self, user_id_array, items_to_compute)\u001b[0m\n\u001b[0;32m     22\u001b[0m item_weight_per_recommender \u001b[38;5;241m=\u001b[39m [\u001b[38;5;28;01mNone\u001b[39;00m]\u001b[38;5;241m*\u001b[39m\u001b[38;5;28mlen\u001b[39m(\u001b[38;5;28mself\u001b[39m\u001b[38;5;241m.\u001b[39mrecommenders)\n\u001b[0;32m     23\u001b[0m \u001b[38;5;28;01mfor\u001b[39;00m i, recommender \u001b[38;5;129;01min\u001b[39;00m \u001b[38;5;28menumerate\u001b[39m(\u001b[38;5;28mself\u001b[39m\u001b[38;5;241m.\u001b[39mrecommenders):\n\u001b[1;32m---> 24\u001b[0m     item_weight_per_recommender[i] \u001b[38;5;241m=\u001b[39m \u001b[43mrecommender\u001b[49m\u001b[38;5;241;43m.\u001b[39;49m\u001b[43m_compute_item_score\u001b[49m\u001b[43m(\u001b[49m\u001b[43muser_id_array\u001b[49m\u001b[43m,\u001b[49m\u001b[43m \u001b[49m\u001b[43mitems_to_compute\u001b[49m\u001b[43m)\u001b[49m\n\u001b[0;32m     26\u001b[0m item_weights \u001b[38;5;241m=\u001b[39m item_weight_per_recommender[\u001b[38;5;241m0\u001b[39m]\u001b[38;5;241m*\u001b[39m\u001b[38;5;28mself\u001b[39m\u001b[38;5;241m.\u001b[39mweights[\u001b[38;5;241m0\u001b[39m]\n\u001b[0;32m     27\u001b[0m \u001b[38;5;28;01mfor\u001b[39;00m i \u001b[38;5;129;01min\u001b[39;00m \u001b[38;5;28mrange\u001b[39m(\u001b[38;5;241m1\u001b[39m, \u001b[38;5;28mlen\u001b[39m(\u001b[38;5;28mself\u001b[39m\u001b[38;5;241m.\u001b[39mrecommenders)):\n",
      "    \u001b[1;31m[... skipping similar frames: ScoresHybridRecommender._compute_item_score at line 24 (6 times)]\u001b[0m\n",
      "Cell \u001b[1;32mIn[8], line 24\u001b[0m, in \u001b[0;36mScoresHybridRecommender._compute_item_score\u001b[1;34m(self, user_id_array, items_to_compute)\u001b[0m\n\u001b[0;32m     22\u001b[0m item_weight_per_recommender \u001b[38;5;241m=\u001b[39m [\u001b[38;5;28;01mNone\u001b[39;00m]\u001b[38;5;241m*\u001b[39m\u001b[38;5;28mlen\u001b[39m(\u001b[38;5;28mself\u001b[39m\u001b[38;5;241m.\u001b[39mrecommenders)\n\u001b[0;32m     23\u001b[0m \u001b[38;5;28;01mfor\u001b[39;00m i, recommender \u001b[38;5;129;01min\u001b[39;00m \u001b[38;5;28menumerate\u001b[39m(\u001b[38;5;28mself\u001b[39m\u001b[38;5;241m.\u001b[39mrecommenders):\n\u001b[1;32m---> 24\u001b[0m     item_weight_per_recommender[i] \u001b[38;5;241m=\u001b[39m \u001b[43mrecommender\u001b[49m\u001b[38;5;241;43m.\u001b[39;49m\u001b[43m_compute_item_score\u001b[49m\u001b[43m(\u001b[49m\u001b[43muser_id_array\u001b[49m\u001b[43m,\u001b[49m\u001b[43m \u001b[49m\u001b[43mitems_to_compute\u001b[49m\u001b[43m)\u001b[49m\n\u001b[0;32m     26\u001b[0m item_weights \u001b[38;5;241m=\u001b[39m item_weight_per_recommender[\u001b[38;5;241m0\u001b[39m]\u001b[38;5;241m*\u001b[39m\u001b[38;5;28mself\u001b[39m\u001b[38;5;241m.\u001b[39mweights[\u001b[38;5;241m0\u001b[39m]\n\u001b[0;32m     27\u001b[0m \u001b[38;5;28;01mfor\u001b[39;00m i \u001b[38;5;129;01min\u001b[39;00m \u001b[38;5;28mrange\u001b[39m(\u001b[38;5;241m1\u001b[39m, \u001b[38;5;28mlen\u001b[39m(\u001b[38;5;28mself\u001b[39m\u001b[38;5;241m.\u001b[39mrecommenders)):\n",
      "File \u001b[1;32mc:\\Users\\feder\\Documents\\DEV\\my_RecSyS_Course_AT_PoliMi\\Recommenders\\BaseSimilarityMatrixRecommender.py:90\u001b[0m, in \u001b[0;36mBaseItemSimilarityMatrixRecommender._compute_item_score\u001b[1;34m(self, user_id_array, items_to_compute)\u001b[0m\n\u001b[0;32m     88\u001b[0m     item_scores[:, items_to_compute] \u001b[38;5;241m=\u001b[39m item_scores_all[:, items_to_compute]\n\u001b[0;32m     89\u001b[0m \u001b[38;5;28;01melse\u001b[39;00m:\n\u001b[1;32m---> 90\u001b[0m     item_scores \u001b[38;5;241m=\u001b[39m \u001b[43muser_profile_array\u001b[49m\u001b[38;5;241;43m.\u001b[39;49m\u001b[43mdot\u001b[49m\u001b[43m(\u001b[49m\u001b[38;5;28;43mself\u001b[39;49m\u001b[38;5;241;43m.\u001b[39;49m\u001b[43mW_sparse\u001b[49m\u001b[43m)\u001b[49m\u001b[38;5;241;43m.\u001b[39;49m\u001b[43mtoarray\u001b[49m\u001b[43m(\u001b[49m\u001b[43m)\u001b[49m\n\u001b[0;32m     92\u001b[0m \u001b[38;5;28;01mreturn\u001b[39;00m item_scores\n",
      "File \u001b[1;32m~\\AppData\\Local\\Packages\\PythonSoftwareFoundation.Python.3.11_qbz5n2kfra8p0\\LocalCache\\local-packages\\Python311\\site-packages\\scipy\\sparse\\_compressed.py:1050\u001b[0m, in \u001b[0;36m_cs_matrix.toarray\u001b[1;34m(self, order, out)\u001b[0m\n\u001b[0;32m   1048\u001b[0m \u001b[38;5;28;01mif\u001b[39;00m out \u001b[38;5;129;01mis\u001b[39;00m \u001b[38;5;28;01mNone\u001b[39;00m \u001b[38;5;129;01mand\u001b[39;00m order \u001b[38;5;129;01mis\u001b[39;00m \u001b[38;5;28;01mNone\u001b[39;00m:\n\u001b[0;32m   1049\u001b[0m     order \u001b[38;5;241m=\u001b[39m \u001b[38;5;28mself\u001b[39m\u001b[38;5;241m.\u001b[39m_swap(\u001b[38;5;124m'\u001b[39m\u001b[38;5;124mcf\u001b[39m\u001b[38;5;124m'\u001b[39m)[\u001b[38;5;241m0\u001b[39m]\n\u001b[1;32m-> 1050\u001b[0m out \u001b[38;5;241m=\u001b[39m \u001b[38;5;28;43mself\u001b[39;49m\u001b[38;5;241;43m.\u001b[39;49m\u001b[43m_process_toarray_args\u001b[49m\u001b[43m(\u001b[49m\u001b[43morder\u001b[49m\u001b[43m,\u001b[49m\u001b[43m \u001b[49m\u001b[43mout\u001b[49m\u001b[43m)\u001b[49m\n\u001b[0;32m   1051\u001b[0m \u001b[38;5;28;01mif\u001b[39;00m \u001b[38;5;129;01mnot\u001b[39;00m (out\u001b[38;5;241m.\u001b[39mflags\u001b[38;5;241m.\u001b[39mc_contiguous \u001b[38;5;129;01mor\u001b[39;00m out\u001b[38;5;241m.\u001b[39mflags\u001b[38;5;241m.\u001b[39mf_contiguous):\n\u001b[0;32m   1052\u001b[0m     \u001b[38;5;28;01mraise\u001b[39;00m \u001b[38;5;167;01mValueError\u001b[39;00m(\u001b[38;5;124m'\u001b[39m\u001b[38;5;124mOutput array must be C or F contiguous\u001b[39m\u001b[38;5;124m'\u001b[39m)\n",
      "File \u001b[1;32m~\\AppData\\Local\\Packages\\PythonSoftwareFoundation.Python.3.11_qbz5n2kfra8p0\\LocalCache\\local-packages\\Python311\\site-packages\\scipy\\sparse\\_base.py:1267\u001b[0m, in \u001b[0;36m_spbase._process_toarray_args\u001b[1;34m(self, order, out)\u001b[0m\n\u001b[0;32m   1265\u001b[0m     \u001b[38;5;28;01mreturn\u001b[39;00m out\n\u001b[0;32m   1266\u001b[0m \u001b[38;5;28;01melse\u001b[39;00m:\n\u001b[1;32m-> 1267\u001b[0m     \u001b[38;5;28;01mreturn\u001b[39;00m np\u001b[38;5;241m.\u001b[39mzeros(\u001b[38;5;28mself\u001b[39m\u001b[38;5;241m.\u001b[39mshape, dtype\u001b[38;5;241m=\u001b[39m\u001b[38;5;28mself\u001b[39m\u001b[38;5;241m.\u001b[39mdtype, order\u001b[38;5;241m=\u001b[39morder)\n",
      "\u001b[1;31mMemoryError\u001b[0m: Unable to allocate 922. MiB for an array with shape (10882, 22222) and data type float32"
     ]
    }
   ],
   "source": [
    "XGBoostRecommender.fit()"
   ]
  },
  {
   "cell_type": "code",
   "execution_count": null,
   "metadata": {},
   "outputs": [],
   "source": [
    "XGBoostRecommender.X_train[XGBoostRecommender.X_train[\"user_id\"] == 0]"
   ]
  },
  {
   "cell_type": "code",
   "execution_count": 398,
   "metadata": {},
   "outputs": [],
   "source": [
    "#plot_importance(XGBoostRecommender.XGB_model, importance_type='weight', title='Weight (Frequence)')"
   ]
  },
  {
   "cell_type": "code",
   "execution_count": 400,
   "metadata": {},
   "outputs": [
    {
     "name": "stdout",
     "output_type": "stream",
     "text": [
      "EvaluatorHoldout: Processed 10482 (100.0%) in 54.50 sec. Users per second: 192\n"
     ]
    }
   ],
   "source": [
    "evaluation_res = evaluator_validation.evaluateRecommender(XGBoostRecommender)"
   ]
  },
  {
   "cell_type": "code",
   "execution_count": 401,
   "metadata": {},
   "outputs": [
    {
     "data": {
      "text/html": [
       "<div>\n",
       "<style scoped>\n",
       "    .dataframe tbody tr th:only-of-type {\n",
       "        vertical-align: middle;\n",
       "    }\n",
       "\n",
       "    .dataframe tbody tr th {\n",
       "        vertical-align: top;\n",
       "    }\n",
       "\n",
       "    .dataframe thead th {\n",
       "        text-align: right;\n",
       "    }\n",
       "</style>\n",
       "<table border=\"1\" class=\"dataframe\">\n",
       "  <thead>\n",
       "    <tr style=\"text-align: right;\">\n",
       "      <th></th>\n",
       "      <th>PRECISION</th>\n",
       "      <th>PRECISION_RECALL_MIN_DEN</th>\n",
       "      <th>RECALL</th>\n",
       "      <th>MAP</th>\n",
       "      <th>MAP_MIN_DEN</th>\n",
       "      <th>MRR</th>\n",
       "      <th>NDCG</th>\n",
       "      <th>F1</th>\n",
       "      <th>HIT_RATE</th>\n",
       "      <th>ARHR_ALL_HITS</th>\n",
       "      <th>...</th>\n",
       "      <th>COVERAGE_USER</th>\n",
       "      <th>COVERAGE_USER_HIT</th>\n",
       "      <th>USERS_IN_GT</th>\n",
       "      <th>DIVERSITY_GINI</th>\n",
       "      <th>SHANNON_ENTROPY</th>\n",
       "      <th>RATIO_DIVERSITY_HERFINDAHL</th>\n",
       "      <th>RATIO_DIVERSITY_GINI</th>\n",
       "      <th>RATIO_SHANNON_ENTROPY</th>\n",
       "      <th>RATIO_AVERAGE_POPULARITY</th>\n",
       "      <th>RATIO_NOVELTY</th>\n",
       "    </tr>\n",
       "    <tr>\n",
       "      <th>cutoff</th>\n",
       "      <th></th>\n",
       "      <th></th>\n",
       "      <th></th>\n",
       "      <th></th>\n",
       "      <th></th>\n",
       "      <th></th>\n",
       "      <th></th>\n",
       "      <th></th>\n",
       "      <th></th>\n",
       "      <th></th>\n",
       "      <th></th>\n",
       "      <th></th>\n",
       "      <th></th>\n",
       "      <th></th>\n",
       "      <th></th>\n",
       "      <th></th>\n",
       "      <th></th>\n",
       "      <th></th>\n",
       "      <th></th>\n",
       "      <th></th>\n",
       "      <th></th>\n",
       "    </tr>\n",
       "  </thead>\n",
       "  <tbody>\n",
       "    <tr>\n",
       "      <th>10</th>\n",
       "      <td>0.168823</td>\n",
       "      <td>0.259664</td>\n",
       "      <td>0.207566</td>\n",
       "      <td>0.166033</td>\n",
       "      <td>0.256228</td>\n",
       "      <td>0.62453</td>\n",
       "      <td>0.338491</td>\n",
       "      <td>0.1862</td>\n",
       "      <td>0.626884</td>\n",
       "      <td>0.98549</td>\n",
       "      <td>...</td>\n",
       "      <td>0.804822</td>\n",
       "      <td>0.50453</td>\n",
       "      <td>0.804822</td>\n",
       "      <td>0.044584</td>\n",
       "      <td>9.82538</td>\n",
       "      <td>0.99719</td>\n",
       "      <td>0.127975</td>\n",
       "      <td>0.75688</td>\n",
       "      <td>1.81619</td>\n",
       "      <td>0.301498</td>\n",
       "    </tr>\n",
       "  </tbody>\n",
       "</table>\n",
       "<p>1 rows × 27 columns</p>\n",
       "</div>"
      ],
      "text/plain": [
       "       PRECISION PRECISION_RECALL_MIN_DEN    RECALL       MAP MAP_MIN_DEN  \\\n",
       "cutoff                                                                      \n",
       "10      0.168823                 0.259664  0.207566  0.166033    0.256228   \n",
       "\n",
       "            MRR      NDCG      F1  HIT_RATE ARHR_ALL_HITS  ... COVERAGE_USER  \\\n",
       "cutoff                                                     ...                 \n",
       "10      0.62453  0.338491  0.1862  0.626884       0.98549  ...      0.804822   \n",
       "\n",
       "       COVERAGE_USER_HIT USERS_IN_GT DIVERSITY_GINI SHANNON_ENTROPY  \\\n",
       "cutoff                                                                \n",
       "10               0.50453    0.804822       0.044584         9.82538   \n",
       "\n",
       "       RATIO_DIVERSITY_HERFINDAHL RATIO_DIVERSITY_GINI RATIO_SHANNON_ENTROPY  \\\n",
       "cutoff                                                                         \n",
       "10                        0.99719             0.127975               0.75688   \n",
       "\n",
       "       RATIO_AVERAGE_POPULARITY RATIO_NOVELTY  \n",
       "cutoff                                         \n",
       "10                      1.81619      0.301498  \n",
       "\n",
       "[1 rows x 27 columns]"
      ]
     },
     "execution_count": 401,
     "metadata": {},
     "output_type": "execute_result"
    }
   ],
   "source": [
    "evaluation_res[0]"
   ]
  },
  {
   "cell_type": "code",
   "execution_count": null,
   "metadata": {},
   "outputs": [],
   "source": []
  }
 ],
 "metadata": {
  "kernelspec": {
   "display_name": "Python 3",
   "language": "python",
   "name": "python3"
  },
  "language_info": {
   "codemirror_mode": {
    "name": "ipython",
    "version": 3
   },
   "file_extension": ".py",
   "mimetype": "text/x-python",
   "name": "python",
   "nbconvert_exporter": "python",
   "pygments_lexer": "ipython3",
   "version": "3.11.7"
  }
 },
 "nbformat": 4,
 "nbformat_minor": 2
}
