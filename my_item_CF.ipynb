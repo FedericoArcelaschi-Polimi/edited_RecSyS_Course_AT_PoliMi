{
 "cells": [
  {
   "cell_type": "code",
   "execution_count": 1,
   "metadata": {},
   "outputs": [
    {
     "name": "stderr",
     "output_type": "stream",
     "text": [
      "C:\\Users\\feder\\AppData\\Local\\Packages\\PythonSoftwareFoundation.Python.3.11_qbz5n2kfra8p0\\LocalCache\\local-packages\\Python311\\site-packages\\tqdm\\auto.py:21: TqdmWarning: IProgress not found. Please update jupyter and ipywidgets. See https://ipywidgets.readthedocs.io/en/stable/user_install.html\n",
      "  from .autonotebook import tqdm as notebook_tqdm\n"
     ]
    }
   ],
   "source": [
    "import numpy as np\n",
    "import matplotlib.pyplot as pyplot\n",
    "import pandas as pd\n",
    "import scipy.sparse as sps\n",
    "%matplotlib inline  \n",
    "%load_ext Cython\n",
    "\n",
    "from Evaluation.Evaluator import EvaluatorHoldout\n",
    "from Data_manager.split_functions.split_train_validation_random_holdout import split_train_in_two_percentage_global_sample\n",
    "from Recommenders.KNN.ItemKNNCFRecommender import ItemKNNCFRecommender\n",
    "import optuna"
   ]
  },
  {
   "cell_type": "code",
   "execution_count": 2,
   "metadata": {},
   "outputs": [],
   "source": [
    "# data_train_path=\"/kaggle/input/recommender-system-2023-challenge-polimi/data_train.csv\"\n",
    "# data_target_user_path=\"/kaggle/input/recommender-system-2023-challenge-polimi/data_target_users_test.csv\"\n",
    "data_train_path=\"data_train.csv\"\n",
    "data_target_user_path=\"data_target_users_test.csv\"\n",
    "data_train = pd.read_csv(data_train_path)\n",
    "data_target = pd.read_csv(data_target_user_path)"
   ]
  },
  {
   "cell_type": "code",
   "execution_count": 3,
   "metadata": {},
   "outputs": [
    {
     "data": {
      "text/plain": [
       "<13024x22222 sparse matrix of type '<class 'numpy.float64'>'\n",
       "\twith 478730 stored elements in Compressed Sparse Row format>"
      ]
     },
     "execution_count": 3,
     "metadata": {},
     "output_type": "execute_result"
    }
   ],
   "source": [
    "URM_all =  data_train.pivot(index='row', columns='col', values='data').fillna(0)\n",
    "item_map = {i : item for i, item in enumerate(URM_all.columns)}\n",
    "user_map = {i : user for i, user in enumerate(data_target[\"user_id\"])}\n",
    "item_map_inv = {item : i for i, item in item_map.items()}\n",
    "user_map_inv = {user : i for i, user in user_map.items()}\n",
    "missing_index = [x for x in range(1,13025) if x not in URM_all.index.tolist()]\n",
    "add_urm = pd.DataFrame(index = missing_index, columns = URM_all.columns).fillna(0)\n",
    "URM_all = pd.concat([URM_all, add_urm]).sort_index()\n",
    "del add_urm\n",
    "del missing_index\n",
    "#data_target[\"user_id\"] = data_target[\"user_id\"]\n",
    "URM_all = URM_all.to_numpy()\n",
    "URM_all = sps.csr_matrix(URM_all)\n",
    "URM_all"
   ]
  },
  {
   "cell_type": "code",
   "execution_count": 4,
   "metadata": {},
   "outputs": [
    {
     "name": "stdout",
     "output_type": "stream",
     "text": [
      "Warning: 629 (4.83 %) of 13024 users have no train items\n",
      "Warning: 2578 (19.79 %) of 13024 users have no sampled items\n",
      "EvaluatorHoldout: Ignoring 2578 (19.8%) Users that have less than 1 test interactions\n",
      "Warning: 595 (4.57 %) of 13024 users have no train items\n",
      "Warning: 2593 (19.91 %) of 13024 users have no sampled items\n",
      "EvaluatorHoldout: Ignoring 2593 (19.9%) Users that have less than 1 test interactions\n",
      "Warning: 612 (4.70 %) of 13024 users have no train items\n",
      "Warning: 2551 (19.59 %) of 13024 users have no sampled items\n",
      "EvaluatorHoldout: Ignoring 2551 (19.6%) Users that have less than 1 test interactions\n"
     ]
    }
   ],
   "source": [
    "test_folds = 3\n",
    "\n",
    "URM_trains = [None] * test_folds\n",
    "evaluator_tests = [None] * test_folds\n",
    "for i in range(0, test_folds):\n",
    "    URM_trains[i], URM_test = split_train_in_two_percentage_global_sample(URM_all, train_percentage = 0.80)\n",
    "    evaluator_tests[i] = EvaluatorHoldout(URM_test, cutoff_list=[10])"
   ]
  },
  {
   "cell_type": "code",
   "execution_count": 7,
   "metadata": {},
   "outputs": [],
   "source": [
    "def train_evaluate(optuna_trial):\n",
    "    topk = optuna_trial.suggest_int(\"topK\", 1, 100)\n",
    "    shrink = optuna_trial.suggest_float(\"shrink\", 0.0, 30)\n",
    "\n",
    "    mAP = 0.0\n",
    "    for i in range(0, test_folds):\n",
    "        KNNCF = ItemKNNCFRecommender(URM_trains[i], verbose=False)\n",
    "        KNNCF.fit(topK=topk, shrink=shrink)\n",
    "        result_df, _ = evaluator_tests[i].evaluateRecommender(KNNCF)\n",
    "        mAP += result_df[\"MAP\"].values[0]\n",
    "    mAP /= test_folds\n",
    "    return mAP"
   ]
  },
  {
   "cell_type": "code",
   "execution_count": 8,
   "metadata": {},
   "outputs": [
    {
     "name": "stderr",
     "output_type": "stream",
     "text": [
      "[I 2023-12-11 15:01:06,897] A new study created in memory with name: no-name-2bdc140a-2cc6-4251-b5c5-d770b01012bc\n"
     ]
    },
    {
     "name": "stdout",
     "output_type": "stream",
     "text": [
      "Unable to load Cython Compute_Similarity, reverting to Python\n",
      "Similarity column 22222 (100.0%), 1846.48 column/sec. Elapsed time 12.03 sec\n",
      "EvaluatorHoldout: Processed 10446 (100.0%) in 10.08 sec. Users per second: 1036\n",
      "Unable to load Cython Compute_Similarity, reverting to Python\n",
      "Similarity column 22222 (100.0%), 1655.55 column/sec. Elapsed time 13.42 sec\n",
      "EvaluatorHoldout: Processed 10431 (100.0%) in 9.71 sec. Users per second: 1074\n",
      "Unable to load Cython Compute_Similarity, reverting to Python\n",
      "Similarity column 22222 (100.0%), 1790.70 column/sec. Elapsed time 12.41 sec\n",
      "EvaluatorHoldout: Processed 10473 (100.0%) in 9.53 sec. Users per second: 1099\n"
     ]
    },
    {
     "name": "stderr",
     "output_type": "stream",
     "text": [
      "[I 2023-12-11 15:02:14,439] Trial 0 finished with value: 0.04204340747786775 and parameters: {'topK': 100, 'shrink': 21.22422213321013}. Best is trial 0 with value: 0.04204340747786775.\n"
     ]
    },
    {
     "name": "stdout",
     "output_type": "stream",
     "text": [
      "Unable to load Cython Compute_Similarity, reverting to Python\n",
      "Similarity column 22222 (100.0%), 2068.34 column/sec. Elapsed time 10.74 sec\n",
      "EvaluatorHoldout: Processed 10446 (100.0%) in 8.91 sec. Users per second: 1172\n",
      "Unable to load Cython Compute_Similarity, reverting to Python\n",
      "Similarity column 22222 (100.0%), 2087.77 column/sec. Elapsed time 10.64 sec\n",
      "EvaluatorHoldout: Processed 10431 (100.0%) in 8.93 sec. Users per second: 1168\n",
      "Unable to load Cython Compute_Similarity, reverting to Python\n",
      "Similarity column 22222 (100.0%), 1995.59 column/sec. Elapsed time 11.14 sec\n",
      "EvaluatorHoldout: Processed 10473 (100.0%) in 9.02 sec. Users per second: 1161\n"
     ]
    },
    {
     "name": "stderr",
     "output_type": "stream",
     "text": [
      "[I 2023-12-11 15:03:14,051] Trial 1 finished with value: 0.04242597860664038 and parameters: {'topK': 70, 'shrink': 22.62124861428265}. Best is trial 1 with value: 0.04242597860664038.\n"
     ]
    },
    {
     "name": "stdout",
     "output_type": "stream",
     "text": [
      "Unable to load Cython Compute_Similarity, reverting to Python\n",
      "Similarity column 22222 (100.0%), 2016.22 column/sec. Elapsed time 11.02 sec\n",
      "EvaluatorHoldout: Processed 10446 (100.0%) in 8.31 sec. Users per second: 1257\n",
      "Unable to load Cython Compute_Similarity, reverting to Python\n",
      "Similarity column 22222 (100.0%), 2025.68 column/sec. Elapsed time 10.97 sec\n",
      "EvaluatorHoldout: Processed 10431 (100.0%) in 8.30 sec. Users per second: 1256\n",
      "Unable to load Cython Compute_Similarity, reverting to Python\n",
      "Similarity column 22222 (100.0%), 2039.67 column/sec. Elapsed time 10.89 sec\n",
      "EvaluatorHoldout: Processed 10473 (100.0%) in 8.26 sec. Users per second: 1267\n"
     ]
    },
    {
     "name": "stderr",
     "output_type": "stream",
     "text": [
      "[I 2023-12-11 15:04:12,039] Trial 2 finished with value: 0.04261850961399926 and parameters: {'topK': 76, 'shrink': 10.282893910499032}. Best is trial 2 with value: 0.04261850961399926.\n"
     ]
    },
    {
     "name": "stdout",
     "output_type": "stream",
     "text": [
      "Unable to load Cython Compute_Similarity, reverting to Python\n",
      "Similarity column 22222 (100.0%), 1990.50 column/sec. Elapsed time 11.16 sec\n",
      "EvaluatorHoldout: Processed 10446 (100.0%) in 8.88 sec. Users per second: 1177\n",
      "Unable to load Cython Compute_Similarity, reverting to Python\n",
      "Similarity column 22222 (100.0%), 1941.13 column/sec. Elapsed time 11.45 sec\n",
      "EvaluatorHoldout: Processed 10431 (100.0%) in 8.76 sec. Users per second: 1190\n",
      "Unable to load Cython Compute_Similarity, reverting to Python\n",
      "Similarity column 22222 (100.0%), 1988.23 column/sec. Elapsed time 11.18 sec\n",
      "EvaluatorHoldout: Processed 10473 (100.0%) in 8.93 sec. Users per second: 1173\n"
     ]
    },
    {
     "name": "stderr",
     "output_type": "stream",
     "text": [
      "[I 2023-12-11 15:05:12,668] Trial 3 finished with value: 0.042355710457633616 and parameters: {'topK': 90, 'shrink': 15.709070527107375}. Best is trial 2 with value: 0.04261850961399926.\n"
     ]
    },
    {
     "name": "stdout",
     "output_type": "stream",
     "text": [
      "Unable to load Cython Compute_Similarity, reverting to Python\n",
      "Similarity column 22222 (100.0%), 2379.16 column/sec. Elapsed time 9.34 sec\n",
      "EvaluatorHoldout: Processed 10446 (100.0%) in 7.16 sec. Users per second: 1459\n",
      "Unable to load Cython Compute_Similarity, reverting to Python\n",
      "Similarity column 22222 (100.0%), 2433.11 column/sec. Elapsed time 9.13 sec\n",
      "EvaluatorHoldout: Processed 10431 (100.0%) in 7.11 sec. Users per second: 1468\n",
      "Unable to load Cython Compute_Similarity, reverting to Python\n",
      "Similarity column 22222 (100.0%), 2384.81 column/sec. Elapsed time 9.32 sec\n",
      "EvaluatorHoldout: Processed 10473 (100.0%) in 7.14 sec. Users per second: 1467\n"
     ]
    },
    {
     "name": "stderr",
     "output_type": "stream",
     "text": [
      "[I 2023-12-11 15:06:01,959] Trial 4 finished with value: 0.043700174679448256 and parameters: {'topK': 13, 'shrink': 0.8890842912381314}. Best is trial 4 with value: 0.043700174679448256.\n"
     ]
    },
    {
     "name": "stdout",
     "output_type": "stream",
     "text": [
      "Unable to load Cython Compute_Similarity, reverting to Python\n",
      "Similarity column 22222 (100.0%), 2135.24 column/sec. Elapsed time 10.41 sec\n",
      "EvaluatorHoldout: Processed 10446 (100.0%) in 9.20 sec. Users per second: 1136\n",
      "Unable to load Cython Compute_Similarity, reverting to Python\n",
      "Similarity column 22222 (100.0%), 2058.76 column/sec. Elapsed time 10.79 sec\n",
      "EvaluatorHoldout: Processed 10431 (100.0%) in 8.70 sec. Users per second: 1199\n",
      "Unable to load Cython Compute_Similarity, reverting to Python\n",
      "Similarity column 22222 (100.0%), 2217.17 column/sec. Elapsed time 10.02 sec\n",
      "EvaluatorHoldout: Processed 10473 (100.0%) in 8.83 sec. Users per second: 1187\n"
     ]
    },
    {
     "name": "stderr",
     "output_type": "stream",
     "text": [
      "[I 2023-12-11 15:07:00,102] Trial 5 finished with value: 0.0426668768165006 and parameters: {'topK': 48, 'shrink': 24.566236597394667}. Best is trial 4 with value: 0.043700174679448256.\n"
     ]
    },
    {
     "name": "stdout",
     "output_type": "stream",
     "text": [
      "Unable to load Cython Compute_Similarity, reverting to Python\n",
      "Similarity column 22222 (100.0%), 2234.56 column/sec. Elapsed time 9.94 sec\n",
      "EvaluatorHoldout: Processed 10446 (100.0%) in 8.61 sec. Users per second: 1213\n",
      "Unable to load Cython Compute_Similarity, reverting to Python\n",
      "Similarity column 22222 (100.0%), 2252.59 column/sec. Elapsed time 9.87 sec\n",
      "EvaluatorHoldout: Processed 10431 (100.0%) in 8.75 sec. Users per second: 1192\n",
      "Unable to load Cython Compute_Similarity, reverting to Python\n",
      "Similarity column 22222 (100.0%), 2278.03 column/sec. Elapsed time 9.75 sec\n",
      "EvaluatorHoldout: Processed 10473 (100.0%) in 8.68 sec. Users per second: 1207\n"
     ]
    },
    {
     "name": "stderr",
     "output_type": "stream",
     "text": [
      "[I 2023-12-11 15:07:55,863] Trial 6 finished with value: 0.042671616704601976 and parameters: {'topK': 45, 'shrink': 28.134142802456513}. Best is trial 4 with value: 0.043700174679448256.\n"
     ]
    },
    {
     "name": "stdout",
     "output_type": "stream",
     "text": [
      "Unable to load Cython Compute_Similarity, reverting to Python\n",
      "Similarity column 22222 (100.0%), 2494.77 column/sec. Elapsed time 8.91 sec\n",
      "EvaluatorHoldout: Processed 10446 (100.0%) in 7.56 sec. Users per second: 1381\n",
      "Unable to load Cython Compute_Similarity, reverting to Python\n",
      "Similarity column 22222 (100.0%), 2517.25 column/sec. Elapsed time 8.83 sec\n",
      "EvaluatorHoldout: Processed 10431 (100.0%) in 7.49 sec. Users per second: 1392\n",
      "Unable to load Cython Compute_Similarity, reverting to Python\n",
      "Similarity column 22222 (100.0%), 2517.56 column/sec. Elapsed time 8.83 sec\n",
      "EvaluatorHoldout: Processed 10473 (100.0%) in 7.58 sec. Users per second: 1382\n"
     ]
    },
    {
     "name": "stderr",
     "output_type": "stream",
     "text": [
      "[I 2023-12-11 15:08:45,147] Trial 7 finished with value: 0.043241519178211445 and parameters: {'topK': 12, 'shrink': 25.630792368560293}. Best is trial 4 with value: 0.043700174679448256.\n"
     ]
    },
    {
     "name": "stdout",
     "output_type": "stream",
     "text": [
      "Unable to load Cython Compute_Similarity, reverting to Python\n",
      "Similarity column 22222 (100.0%), 1974.17 column/sec. Elapsed time 11.26 sec\n",
      "EvaluatorHoldout: Processed 10446 (100.0%) in 8.05 sec. Users per second: 1298\n",
      "Unable to load Cython Compute_Similarity, reverting to Python\n",
      "Similarity column 22222 (100.0%), 1984.00 column/sec. Elapsed time 11.20 sec\n",
      "EvaluatorHoldout: Processed 10431 (100.0%) in 7.92 sec. Users per second: 1317\n",
      "Unable to load Cython Compute_Similarity, reverting to Python\n",
      "Similarity column 22222 (100.0%), 1975.71 column/sec. Elapsed time 11.25 sec\n",
      "EvaluatorHoldout: Processed 10473 (100.0%) in 8.03 sec. Users per second: 1304\n"
     ]
    },
    {
     "name": "stderr",
     "output_type": "stream",
     "text": [
      "[I 2023-12-11 15:09:43,130] Trial 8 finished with value: 0.04185479582551225 and parameters: {'topK': 100, 'shrink': 2.8475904019888776}. Best is trial 4 with value: 0.043700174679448256.\n"
     ]
    },
    {
     "name": "stdout",
     "output_type": "stream",
     "text": [
      "Unable to load Cython Compute_Similarity, reverting to Python\n",
      "Similarity column 22222 (100.0%), 2465.28 column/sec. Elapsed time 9.01 sec\n",
      "EvaluatorHoldout: Processed 10446 (100.0%) in 7.45 sec. Users per second: 1403\n",
      "Unable to load Cython Compute_Similarity, reverting to Python\n",
      "Similarity column 22222 (100.0%), 2517.50 column/sec. Elapsed time 8.83 sec\n",
      "EvaluatorHoldout: Processed 10431 (100.0%) in 7.51 sec. Users per second: 1389\n",
      "Unable to load Cython Compute_Similarity, reverting to Python\n",
      "Similarity column 22222 (100.0%), 2437.94 column/sec. Elapsed time 9.12 sec\n",
      "EvaluatorHoldout: Processed 10473 (100.0%) in 7.33 sec. Users per second: 1428\n"
     ]
    },
    {
     "name": "stderr",
     "output_type": "stream",
     "text": [
      "[I 2023-12-11 15:10:32,472] Trial 9 finished with value: 0.04310127483077971 and parameters: {'topK': 9, 'shrink': 25.288238336138782}. Best is trial 4 with value: 0.043700174679448256.\n"
     ]
    },
    {
     "name": "stdout",
     "output_type": "stream",
     "text": [
      "Unable to load Cython Compute_Similarity, reverting to Python\n",
      "Similarity column 22222 (100.0%), 2361.72 column/sec. Elapsed time 9.41 sec\n",
      "EvaluatorHoldout: Processed 10446 (100.0%) in 7.24 sec. Users per second: 1444\n",
      "Unable to load Cython Compute_Similarity, reverting to Python\n",
      "Similarity column 22222 (100.0%), 2362.59 column/sec. Elapsed time 9.41 sec\n",
      "EvaluatorHoldout: Processed 10431 (100.0%) in 7.18 sec. Users per second: 1453\n",
      "Unable to load Cython Compute_Similarity, reverting to Python\n",
      "Similarity column 22222 (100.0%), 2319.92 column/sec. Elapsed time 9.58 sec\n",
      "EvaluatorHoldout: Processed 10473 (100.0%) in 7.21 sec. Users per second: 1452\n"
     ]
    },
    {
     "name": "stderr",
     "output_type": "stream",
     "text": [
      "[I 2023-12-11 15:11:22,638] Trial 10 finished with value: 0.04274220010331351 and parameters: {'topK': 29, 'shrink': 0.5442966263086451}. Best is trial 4 with value: 0.043700174679448256.\n"
     ]
    },
    {
     "name": "stdout",
     "output_type": "stream",
     "text": [
      "Unable to load Cython Compute_Similarity, reverting to Python\n",
      "Similarity column 22222 (100.0%), 2607.84 column/sec. Elapsed time 8.52 sec\n",
      "EvaluatorHoldout: Processed 10446 (100.0%) in 7.04 sec. Users per second: 1483\n",
      "Unable to load Cython Compute_Similarity, reverting to Python\n",
      "Similarity column 22222 (100.0%), 2581.40 column/sec. Elapsed time 8.61 sec\n",
      "EvaluatorHoldout: Processed 10431 (100.0%) in 6.99 sec. Users per second: 1493\n",
      "Unable to load Cython Compute_Similarity, reverting to Python\n",
      "Similarity column 22222 (100.0%), 2536.60 column/sec. Elapsed time 8.76 sec\n",
      "EvaluatorHoldout: Processed 10473 (100.0%) in 6.88 sec. Users per second: 1522\n"
     ]
    },
    {
     "name": "stderr",
     "output_type": "stream",
     "text": [
      "[I 2023-12-11 15:12:09,548] Trial 11 finished with value: 0.04242467410455886 and parameters: {'topK': 3, 'shrink': 7.680040721647318}. Best is trial 4 with value: 0.043700174679448256.\n"
     ]
    },
    {
     "name": "stdout",
     "output_type": "stream",
     "text": [
      "Unable to load Cython Compute_Similarity, reverting to Python\n",
      "Similarity column 22222 (100.0%), 2217.23 column/sec. Elapsed time 10.02 sec\n",
      "EvaluatorHoldout: Processed 10446 (100.0%) in 7.54 sec. Users per second: 1385\n",
      "Unable to load Cython Compute_Similarity, reverting to Python\n",
      "Similarity column 22222 (100.0%), 2418.87 column/sec. Elapsed time 9.19 sec\n",
      "EvaluatorHoldout: Processed 10431 (100.0%) in 7.65 sec. Users per second: 1364\n",
      "Unable to load Cython Compute_Similarity, reverting to Python\n",
      "Similarity column 22222 (100.0%), 2436.24 column/sec. Elapsed time 9.12 sec\n",
      "EvaluatorHoldout: Processed 10473 (100.0%) in 7.51 sec. Users per second: 1395\n"
     ]
    },
    {
     "name": "stderr",
     "output_type": "stream",
     "text": [
      "[I 2023-12-11 15:13:00,706] Trial 12 finished with value: 0.04408959823175105 and parameters: {'topK': 23, 'shrink': 15.48129693496093}. Best is trial 12 with value: 0.04408959823175105.\n"
     ]
    },
    {
     "name": "stdout",
     "output_type": "stream",
     "text": [
      "Unable to load Cython Compute_Similarity, reverting to Python\n",
      "Similarity column 22222 (100.0%), 2444.88 column/sec. Elapsed time 9.09 sec\n",
      "EvaluatorHoldout: Processed 10446 (100.0%) in 7.98 sec. Users per second: 1309\n",
      "Unable to load Cython Compute_Similarity, reverting to Python\n",
      "Similarity column 22222 (100.0%), 2435.83 column/sec. Elapsed time 9.12 sec\n",
      "EvaluatorHoldout: Processed 10431 (100.0%) in 7.60 sec. Users per second: 1373\n",
      "Unable to load Cython Compute_Similarity, reverting to Python\n",
      "Similarity column 22222 (100.0%), 2353.42 column/sec. Elapsed time 9.44 sec\n",
      "EvaluatorHoldout: Processed 10473 (100.0%) in 7.63 sec. Users per second: 1373\n"
     ]
    },
    {
     "name": "stderr",
     "output_type": "stream",
     "text": [
      "[I 2023-12-11 15:13:51,695] Trial 13 finished with value: 0.043934880935694164 and parameters: {'topK': 26, 'shrink': 14.999437738790139}. Best is trial 12 with value: 0.04408959823175105.\n"
     ]
    },
    {
     "name": "stdout",
     "output_type": "stream",
     "text": [
      "Unable to load Cython Compute_Similarity, reverting to Python\n",
      "Similarity column 22222 (100.0%), 2346.08 column/sec. Elapsed time 9.47 sec\n",
      "EvaluatorHoldout: Processed 10446 (100.0%) in 7.91 sec. Users per second: 1321\n",
      "Unable to load Cython Compute_Similarity, reverting to Python\n",
      "Similarity column 22222 (100.0%), 2302.17 column/sec. Elapsed time 9.65 sec\n",
      "EvaluatorHoldout: Processed 10431 (100.0%) in 7.89 sec. Users per second: 1321\n",
      "Unable to load Cython Compute_Similarity, reverting to Python\n",
      "Similarity column 22222 (100.0%), 2326.23 column/sec. Elapsed time 9.55 sec\n",
      "EvaluatorHoldout: Processed 10473 (100.0%) in 7.82 sec. Users per second: 1339\n"
     ]
    },
    {
     "name": "stderr",
     "output_type": "stream",
     "text": [
      "[I 2023-12-11 15:14:44,134] Trial 14 finished with value: 0.04360626748062876 and parameters: {'topK': 32, 'shrink': 16.92677489215692}. Best is trial 12 with value: 0.04408959823175105.\n"
     ]
    },
    {
     "name": "stdout",
     "output_type": "stream",
     "text": [
      "Unable to load Cython Compute_Similarity, reverting to Python\n",
      "Similarity column 22222 (100.0%), 2347.05 column/sec. Elapsed time 9.47 sec\n",
      "EvaluatorHoldout: Processed 10446 (100.0%) in 7.83 sec. Users per second: 1334\n",
      "Unable to load Cython Compute_Similarity, reverting to Python\n",
      "Similarity column 22222 (100.0%), 2371.29 column/sec. Elapsed time 9.37 sec\n",
      "EvaluatorHoldout: Processed 10431 (100.0%) in 7.86 sec. Users per second: 1326\n",
      "Unable to load Cython Compute_Similarity, reverting to Python\n",
      "Similarity column 22222 (100.0%), 2344.78 column/sec. Elapsed time 9.48 sec\n",
      "EvaluatorHoldout: Processed 10473 (100.0%) in 7.86 sec. Users per second: 1332\n"
     ]
    },
    {
     "name": "stderr",
     "output_type": "stream",
     "text": [
      "[I 2023-12-11 15:15:36,152] Trial 15 finished with value: 0.043674433489786064 and parameters: {'topK': 29, 'shrink': 18.57719994903826}. Best is trial 12 with value: 0.04408959823175105.\n"
     ]
    },
    {
     "name": "stdout",
     "output_type": "stream",
     "text": [
      "Unable to load Cython Compute_Similarity, reverting to Python\n",
      "Similarity column 22222 (100.0%), 2403.79 column/sec. Elapsed time 9.24 sec\n",
      "EvaluatorHoldout: Processed 10446 (100.0%) in 7.53 sec. Users per second: 1388\n",
      "Unable to load Cython Compute_Similarity, reverting to Python\n",
      "Similarity column 22222 (100.0%), 2489.80 column/sec. Elapsed time 8.93 sec\n",
      "EvaluatorHoldout: Processed 10431 (100.0%) in 7.54 sec. Users per second: 1384\n",
      "Unable to load Cython Compute_Similarity, reverting to Python\n",
      "Similarity column 22222 (100.0%), 2414.86 column/sec. Elapsed time 9.20 sec\n",
      "EvaluatorHoldout: Processed 10473 (100.0%) in 7.55 sec. Users per second: 1386\n"
     ]
    },
    {
     "name": "stderr",
     "output_type": "stream",
     "text": [
      "[I 2023-12-11 15:16:26,272] Trial 16 finished with value: 0.044299616734151004 and parameters: {'topK': 22, 'shrink': 12.501133502488578}. Best is trial 16 with value: 0.044299616734151004.\n"
     ]
    },
    {
     "name": "stdout",
     "output_type": "stream",
     "text": [
      "Unable to load Cython Compute_Similarity, reverting to Python\n",
      "Similarity column 22222 (100.0%), 2164.85 column/sec. Elapsed time 10.26 sec\n",
      "EvaluatorHoldout: Processed 10446 (100.0%) in 8.10 sec. Users per second: 1289\n",
      "Unable to load Cython Compute_Similarity, reverting to Python\n",
      "Similarity column 22222 (100.0%), 2185.30 column/sec. Elapsed time 10.17 sec\n",
      "EvaluatorHoldout: Processed 10431 (100.0%) in 8.18 sec. Users per second: 1274\n",
      "Unable to load Cython Compute_Similarity, reverting to Python\n",
      "Similarity column 22222 (100.0%), 2186.76 column/sec. Elapsed time 10.16 sec\n",
      "EvaluatorHoldout: Processed 10473 (100.0%) in 8.55 sec. Users per second: 1224\n"
     ]
    },
    {
     "name": "stderr",
     "output_type": "stream",
     "text": [
      "[I 2023-12-11 15:17:21,915] Trial 17 finished with value: 0.04292405235243413 and parameters: {'topK': 60, 'shrink': 11.657931824671902}. Best is trial 16 with value: 0.044299616734151004.\n"
     ]
    },
    {
     "name": "stdout",
     "output_type": "stream",
     "text": [
      "Unable to load Cython Compute_Similarity, reverting to Python\n",
      "Similarity column 22222 (100.0%), 1936.47 column/sec. Elapsed time 11.48 sec\n",
      "EvaluatorHoldout: Processed 10446 (100.0%) in 8.35 sec. Users per second: 1251\n",
      "Unable to load Cython Compute_Similarity, reverting to Python\n",
      "Similarity column 22222 (100.0%), 1931.13 column/sec. Elapsed time 11.51 sec\n",
      "EvaluatorHoldout: Processed 10431 (100.0%) in 8.14 sec. Users per second: 1281\n",
      "Unable to load Cython Compute_Similarity, reverting to Python\n",
      "Similarity column 22222 (100.0%), 2120.91 column/sec. Elapsed time 10.48 sec\n",
      "EvaluatorHoldout: Processed 10473 (100.0%) in 7.94 sec. Users per second: 1319\n"
     ]
    },
    {
     "name": "stderr",
     "output_type": "stream",
     "text": [
      "[I 2023-12-11 15:18:19,971] Trial 18 finished with value: 0.04348435527281493 and parameters: {'topK': 40, 'shrink': 13.164751686245227}. Best is trial 16 with value: 0.044299616734151004.\n"
     ]
    },
    {
     "name": "stdout",
     "output_type": "stream",
     "text": [
      "Unable to load Cython Compute_Similarity, reverting to Python\n",
      "Similarity column 22222 (100.0%), 2417.73 column/sec. Elapsed time 9.19 sec\n",
      "EvaluatorHoldout: Processed 10446 (100.0%) in 7.65 sec. Users per second: 1365\n",
      "Unable to load Cython Compute_Similarity, reverting to Python\n",
      "Similarity column 22222 (100.0%), 2411.15 column/sec. Elapsed time 9.22 sec\n",
      "EvaluatorHoldout: Processed 10431 (100.0%) in 7.76 sec. Users per second: 1344\n",
      "Unable to load Cython Compute_Similarity, reverting to Python\n",
      "Similarity column 22222 (100.0%), 2406.19 column/sec. Elapsed time 9.24 sec\n",
      "EvaluatorHoldout: Processed 10473 (100.0%) in 7.67 sec. Users per second: 1365\n"
     ]
    },
    {
     "name": "stderr",
     "output_type": "stream",
     "text": [
      "[I 2023-12-11 15:19:10,810] Trial 19 finished with value: 0.043816994856298315 and parameters: {'topK': 17, 'shrink': 19.24023742300082}. Best is trial 16 with value: 0.044299616734151004.\n"
     ]
    },
    {
     "name": "stdout",
     "output_type": "stream",
     "text": [
      "Unable to load Cython Compute_Similarity, reverting to Python\n",
      "Similarity column 22222 (100.0%), 2074.56 column/sec. Elapsed time 10.71 sec\n",
      "EvaluatorHoldout: Processed 10446 (100.0%) in 8.11 sec. Users per second: 1288\n",
      "Unable to load Cython Compute_Similarity, reverting to Python\n",
      "Similarity column 22222 (100.0%), 2093.67 column/sec. Elapsed time 10.61 sec\n",
      "EvaluatorHoldout: Processed 10431 (100.0%) in 8.20 sec. Users per second: 1272\n",
      "Unable to load Cython Compute_Similarity, reverting to Python\n",
      "Similarity column 22222 (100.0%), 2091.26 column/sec. Elapsed time 10.63 sec\n",
      "EvaluatorHoldout: Processed 10473 (100.0%) in 7.91 sec. Users per second: 1323\n"
     ]
    },
    {
     "name": "stderr",
     "output_type": "stream",
     "text": [
      "[I 2023-12-11 15:20:07,199] Trial 20 finished with value: 0.042997735969360996 and parameters: {'topK': 59, 'shrink': 8.68000969701107}. Best is trial 16 with value: 0.044299616734151004.\n"
     ]
    },
    {
     "name": "stdout",
     "output_type": "stream",
     "text": [
      "Unable to load Cython Compute_Similarity, reverting to Python\n",
      "Similarity column 22222 (100.0%), 2388.43 column/sec. Elapsed time 9.30 sec\n",
      "EvaluatorHoldout: Processed 10446 (100.0%) in 7.81 sec. Users per second: 1337\n",
      "Unable to load Cython Compute_Similarity, reverting to Python\n",
      "Similarity column 22222 (100.0%), 2389.91 column/sec. Elapsed time 9.30 sec\n",
      "EvaluatorHoldout: Processed 10431 (100.0%) in 7.78 sec. Users per second: 1341\n",
      "Unable to load Cython Compute_Similarity, reverting to Python\n",
      "Similarity column 22222 (100.0%), 2346.99 column/sec. Elapsed time 9.47 sec\n",
      "EvaluatorHoldout: Processed 10473 (100.0%) in 7.66 sec. Users per second: 1368\n"
     ]
    },
    {
     "name": "stderr",
     "output_type": "stream",
     "text": [
      "[I 2023-12-11 15:20:58,648] Trial 21 finished with value: 0.04422716424626474 and parameters: {'topK': 22, 'shrink': 13.571597632433818}. Best is trial 16 with value: 0.044299616734151004.\n"
     ]
    },
    {
     "name": "stdout",
     "output_type": "stream",
     "text": [
      "Unable to load Cython Compute_Similarity, reverting to Python\n",
      "Similarity column 22222 (100.0%), 2336.55 column/sec. Elapsed time 9.51 sec\n",
      "EvaluatorHoldout: Processed 10446 (100.0%) in 7.57 sec. Users per second: 1379\n",
      "Unable to load Cython Compute_Similarity, reverting to Python\n",
      "Similarity column 22222 (100.0%), 2398.80 column/sec. Elapsed time 9.26 sec\n",
      "EvaluatorHoldout: Processed 10431 (100.0%) in 7.52 sec. Users per second: 1386\n",
      "Unable to load Cython Compute_Similarity, reverting to Python\n",
      "Similarity column 22222 (100.0%), 2387.85 column/sec. Elapsed time 9.31 sec\n",
      "EvaluatorHoldout: Processed 10473 (100.0%) in 7.68 sec. Users per second: 1363\n"
     ]
    },
    {
     "name": "stderr",
     "output_type": "stream",
     "text": [
      "[I 2023-12-11 15:21:49,638] Trial 22 finished with value: 0.044119943697826576 and parameters: {'topK': 23, 'shrink': 13.870523530028276}. Best is trial 16 with value: 0.044299616734151004.\n"
     ]
    },
    {
     "name": "stdout",
     "output_type": "stream",
     "text": [
      "Unable to load Cython Compute_Similarity, reverting to Python\n",
      "Similarity column 22222 (100.0%), 2238.01 column/sec. Elapsed time 9.93 sec\n",
      "EvaluatorHoldout: Processed 10446 (100.0%) in 7.89 sec. Users per second: 1324\n",
      "Unable to load Cython Compute_Similarity, reverting to Python\n",
      "Similarity column 22222 (100.0%), 2290.83 column/sec. Elapsed time 9.70 sec\n",
      "EvaluatorHoldout: Processed 10431 (100.0%) in 7.73 sec. Users per second: 1349\n",
      "Unable to load Cython Compute_Similarity, reverting to Python\n",
      "Similarity column 22222 (100.0%), 2201.35 column/sec. Elapsed time 10.09 sec\n",
      "EvaluatorHoldout: Processed 10473 (100.0%) in 7.87 sec. Users per second: 1331\n"
     ]
    },
    {
     "name": "stderr",
     "output_type": "stream",
     "text": [
      "[I 2023-12-11 15:22:43,015] Trial 23 finished with value: 0.04356791038777801 and parameters: {'topK': 37, 'shrink': 12.585630349450444}. Best is trial 16 with value: 0.044299616734151004.\n"
     ]
    },
    {
     "name": "stdout",
     "output_type": "stream",
     "text": [
      "Unable to load Cython Compute_Similarity, reverting to Python\n",
      "Similarity column 22222 (100.0%), 2680.68 column/sec. Elapsed time 8.29 sec\n",
      "EvaluatorHoldout: Processed 10446 (100.0%) in 7.00 sec. Users per second: 1492\n",
      "Unable to load Cython Compute_Similarity, reverting to Python\n",
      "Similarity column 22222 (100.0%), 2702.50 column/sec. Elapsed time 8.22 sec\n",
      "EvaluatorHoldout: Processed 10431 (100.0%) in 6.88 sec. Users per second: 1517\n",
      "Unable to load Cython Compute_Similarity, reverting to Python\n",
      "Similarity column 22222 (100.0%), 2768.26 column/sec. Elapsed time 8.03 sec\n",
      "EvaluatorHoldout: Processed 10473 (100.0%) in 7.02 sec. Users per second: 1492\n"
     ]
    },
    {
     "name": "stderr",
     "output_type": "stream",
     "text": [
      "[I 2023-12-11 15:23:28,549] Trial 24 finished with value: 0.040337564742187935 and parameters: {'topK': 2, 'shrink': 7.010443510438872}. Best is trial 16 with value: 0.044299616734151004.\n"
     ]
    },
    {
     "name": "stdout",
     "output_type": "stream",
     "text": [
      "Unable to load Cython Compute_Similarity, reverting to Python\n",
      "Similarity column 22222 (100.0%), 2436.56 column/sec. Elapsed time 9.12 sec\n",
      "EvaluatorHoldout: Processed 10446 (100.0%) in 7.50 sec. Users per second: 1394\n",
      "Unable to load Cython Compute_Similarity, reverting to Python\n",
      "Similarity column 22222 (100.0%), 2497.87 column/sec. Elapsed time 8.90 sec\n",
      "EvaluatorHoldout: Processed 10431 (100.0%) in 7.38 sec. Users per second: 1413\n",
      "Unable to load Cython Compute_Similarity, reverting to Python\n",
      "Similarity column 22222 (100.0%), 2431.26 column/sec. Elapsed time 9.14 sec\n",
      "EvaluatorHoldout: Processed 10473 (100.0%) in 7.48 sec. Users per second: 1400\n"
     ]
    },
    {
     "name": "stderr",
     "output_type": "stream",
     "text": [
      "[I 2023-12-11 15:24:18,180] Trial 25 finished with value: 0.044214672801728715 and parameters: {'topK': 19, 'shrink': 13.532933278777092}. Best is trial 16 with value: 0.044299616734151004.\n"
     ]
    },
    {
     "name": "stdout",
     "output_type": "stream",
     "text": [
      "Unable to load Cython Compute_Similarity, reverting to Python\n",
      "Similarity column 22222 (100.0%), 2486.19 column/sec. Elapsed time 8.94 sec\n",
      "EvaluatorHoldout: Processed 10446 (100.0%) in 7.36 sec. Users per second: 1420\n",
      "Unable to load Cython Compute_Similarity, reverting to Python\n",
      "Similarity column 22222 (100.0%), 2448.55 column/sec. Elapsed time 9.08 sec\n",
      "EvaluatorHoldout: Processed 10431 (100.0%) in 7.39 sec. Users per second: 1412\n",
      "Unable to load Cython Compute_Similarity, reverting to Python\n",
      "Similarity column 22222 (100.0%), 2432.07 column/sec. Elapsed time 9.14 sec\n",
      "EvaluatorHoldout: Processed 10473 (100.0%) in 7.31 sec. Users per second: 1434\n"
     ]
    },
    {
     "name": "stderr",
     "output_type": "stream",
     "text": [
      "[I 2023-12-11 15:25:07,495] Trial 26 finished with value: 0.04440403215735738 and parameters: {'topK': 18, 'shrink': 10.28446660620208}. Best is trial 26 with value: 0.04440403215735738.\n"
     ]
    },
    {
     "name": "stdout",
     "output_type": "stream",
     "text": [
      "Unable to load Cython Compute_Similarity, reverting to Python\n",
      "Similarity column 22222 (100.0%), 2313.07 column/sec. Elapsed time 9.61 sec\n",
      "EvaluatorHoldout: Processed 10446 (100.0%) in 7.65 sec. Users per second: 1366\n",
      "Unable to load Cython Compute_Similarity, reverting to Python\n",
      "Similarity column 22222 (100.0%), 2338.10 column/sec. Elapsed time 9.50 sec\n",
      "EvaluatorHoldout: Processed 10431 (100.0%) in 7.66 sec. Users per second: 1362\n",
      "Unable to load Cython Compute_Similarity, reverting to Python\n",
      "Similarity column 22222 (100.0%), 2295.77 column/sec. Elapsed time 9.68 sec\n",
      "EvaluatorHoldout: Processed 10473 (100.0%) in 7.64 sec. Users per second: 1370\n"
     ]
    },
    {
     "name": "stderr",
     "output_type": "stream",
     "text": [
      "[I 2023-12-11 15:25:59,381] Trial 27 finished with value: 0.04358206753011786 and parameters: {'topK': 37, 'shrink': 10.461512628802726}. Best is trial 26 with value: 0.04440403215735738.\n"
     ]
    },
    {
     "name": "stdout",
     "output_type": "stream",
     "text": [
      "Unable to load Cython Compute_Similarity, reverting to Python\n",
      "Similarity column 22222 (100.0%), 2215.49 column/sec. Elapsed time 10.03 sec\n",
      "EvaluatorHoldout: Processed 10446 (100.0%) in 7.68 sec. Users per second: 1360\n",
      "Unable to load Cython Compute_Similarity, reverting to Python\n",
      "Similarity column 22222 (100.0%), 2196.93 column/sec. Elapsed time 10.12 sec\n",
      "EvaluatorHoldout: Processed 10431 (100.0%) in 7.72 sec. Users per second: 1350\n",
      "Unable to load Cython Compute_Similarity, reverting to Python\n",
      "Similarity column 22222 (100.0%), 2214.33 column/sec. Elapsed time 10.04 sec\n",
      "EvaluatorHoldout: Processed 10473 (100.0%) in 7.68 sec. Users per second: 1364\n"
     ]
    },
    {
     "name": "stderr",
     "output_type": "stream",
     "text": [
      "[I 2023-12-11 15:26:52,850] Trial 28 finished with value: 0.04300250363712214 and parameters: {'topK': 56, 'shrink': 6.168010756162073}. Best is trial 26 with value: 0.04440403215735738.\n"
     ]
    },
    {
     "name": "stdout",
     "output_type": "stream",
     "text": [
      "Unable to load Cython Compute_Similarity, reverting to Python\n",
      "Similarity column 22222 (100.0%), 2482.06 column/sec. Elapsed time 8.95 sec\n",
      "EvaluatorHoldout: Processed 10446 (100.0%) in 7.13 sec. Users per second: 1465\n",
      "Unable to load Cython Compute_Similarity, reverting to Python\n",
      "Similarity column 22222 (100.0%), 2524.11 column/sec. Elapsed time 8.80 sec\n",
      "EvaluatorHoldout: Processed 10431 (100.0%) in 7.18 sec. Users per second: 1453\n",
      "Unable to load Cython Compute_Similarity, reverting to Python\n",
      "Similarity column 22222 (100.0%), 2497.80 column/sec. Elapsed time 8.90 sec\n",
      "EvaluatorHoldout: Processed 10473 (100.0%) in 7.21 sec. Users per second: 1452\n"
     ]
    },
    {
     "name": "stderr",
     "output_type": "stream",
     "text": [
      "[I 2023-12-11 15:27:41,123] Trial 29 finished with value: 0.044073785219402195 and parameters: {'topK': 6, 'shrink': 10.574589672783157}. Best is trial 26 with value: 0.04440403215735738.\n"
     ]
    },
    {
     "name": "stdout",
     "output_type": "stream",
     "text": [
      "Unable to load Cython Compute_Similarity, reverting to Python\n",
      "Similarity column 22222 (100.0%), 2373.25 column/sec. Elapsed time 9.36 sec\n",
      "EvaluatorHoldout: Processed 10446 (100.0%) in 7.51 sec. Users per second: 1392\n",
      "Unable to load Cython Compute_Similarity, reverting to Python\n",
      "Similarity column 22222 (100.0%), 2471.89 column/sec. Elapsed time 8.99 sec\n",
      "EvaluatorHoldout: Processed 10431 (100.0%) in 7.54 sec. Users per second: 1384\n",
      "Unable to load Cython Compute_Similarity, reverting to Python\n",
      "Similarity column 22222 (100.0%), 2489.65 column/sec. Elapsed time 8.93 sec\n",
      "EvaluatorHoldout: Processed 10473 (100.0%) in 7.59 sec. Users per second: 1380\n"
     ]
    },
    {
     "name": "stderr",
     "output_type": "stream",
     "text": [
      "[I 2023-12-11 15:28:31,136] Trial 30 finished with value: 0.043942203704376716 and parameters: {'topK': 17, 'shrink': 18.177499633608264}. Best is trial 26 with value: 0.04440403215735738.\n"
     ]
    },
    {
     "name": "stdout",
     "output_type": "stream",
     "text": [
      "Unable to load Cython Compute_Similarity, reverting to Python\n",
      "Similarity column 22222 (100.0%), 2431.29 column/sec. Elapsed time 9.14 sec\n",
      "EvaluatorHoldout: Processed 10446 (100.0%) in 7.38 sec. Users per second: 1416\n",
      "Unable to load Cython Compute_Similarity, reverting to Python\n",
      "Similarity column 22222 (100.0%), 2475.91 column/sec. Elapsed time 8.98 sec\n",
      "EvaluatorHoldout: Processed 10431 (100.0%) in 7.54 sec. Users per second: 1383\n",
      "Unable to load Cython Compute_Similarity, reverting to Python\n",
      "Similarity column 22222 (100.0%), 2456.77 column/sec. Elapsed time 9.05 sec\n",
      "EvaluatorHoldout: Processed 10473 (100.0%) in 7.88 sec. Users per second: 1329\n"
     ]
    },
    {
     "name": "stderr",
     "output_type": "stream",
     "text": [
      "[I 2023-12-11 15:29:21,213] Trial 31 finished with value: 0.04424111906247936 and parameters: {'topK': 20, 'shrink': 13.625127449729842}. Best is trial 26 with value: 0.04440403215735738.\n"
     ]
    },
    {
     "name": "stdout",
     "output_type": "stream",
     "text": [
      "Unable to load Cython Compute_Similarity, reverting to Python\n",
      "Similarity column 22222 (100.0%), 2403.06 column/sec. Elapsed time 9.25 sec\n",
      "EvaluatorHoldout: Processed 10446 (100.0%) in 7.51 sec. Users per second: 1391\n",
      "Unable to load Cython Compute_Similarity, reverting to Python\n",
      "Similarity column 22222 (100.0%), 2433.17 column/sec. Elapsed time 9.13 sec\n",
      "EvaluatorHoldout: Processed 10431 (100.0%) in 7.53 sec. Users per second: 1386\n",
      "Unable to load Cython Compute_Similarity, reverting to Python\n",
      "Similarity column 22222 (100.0%), 2462.30 column/sec. Elapsed time 9.02 sec\n",
      "EvaluatorHoldout: Processed 10473 (100.0%) in 7.52 sec. Users per second: 1392\n"
     ]
    },
    {
     "name": "stderr",
     "output_type": "stream",
     "text": [
      "[I 2023-12-11 15:30:11,311] Trial 32 finished with value: 0.04417270436364462 and parameters: {'topK': 20, 'shrink': 14.459187613580967}. Best is trial 26 with value: 0.04440403215735738.\n"
     ]
    },
    {
     "name": "stdout",
     "output_type": "stream",
     "text": [
      "Unable to load Cython Compute_Similarity, reverting to Python\n",
      "Similarity column 22222 (100.0%), 2351.88 column/sec. Elapsed time 9.45 sec\n",
      "EvaluatorHoldout: Processed 10446 (100.0%) in 7.58 sec. Users per second: 1378\n",
      "Unable to load Cython Compute_Similarity, reverting to Python\n",
      "Similarity column 22222 (100.0%), 2400.70 column/sec. Elapsed time 9.26 sec\n",
      "EvaluatorHoldout: Processed 10431 (100.0%) in 7.73 sec. Users per second: 1349\n",
      "Unable to load Cython Compute_Similarity, reverting to Python\n",
      "Similarity column 22222 (100.0%), 2349.73 column/sec. Elapsed time 9.46 sec\n",
      "EvaluatorHoldout: Processed 10473 (100.0%) in 7.59 sec. Users per second: 1379\n"
     ]
    },
    {
     "name": "stderr",
     "output_type": "stream",
     "text": [
      "[I 2023-12-11 15:31:02,516] Trial 33 finished with value: 0.043806605005403766 and parameters: {'topK': 31, 'shrink': 12.212748572862045}. Best is trial 26 with value: 0.04440403215735738.\n"
     ]
    },
    {
     "name": "stdout",
     "output_type": "stream",
     "text": [
      "Unable to load Cython Compute_Similarity, reverting to Python\n",
      "Similarity column 22222 (100.0%), 2484.75 column/sec. Elapsed time 8.94 sec\n",
      "EvaluatorHoldout: Processed 10446 (100.0%) in 7.37 sec. Users per second: 1418\n",
      "Unable to load Cython Compute_Similarity, reverting to Python\n",
      "Similarity column 22222 (100.0%), 2451.09 column/sec. Elapsed time 9.07 sec\n",
      "EvaluatorHoldout: Processed 10431 (100.0%) in 7.31 sec. Users per second: 1427\n",
      "Unable to load Cython Compute_Similarity, reverting to Python\n",
      "Similarity column 22222 (100.0%), 2500.16 column/sec. Elapsed time 8.89 sec\n",
      "EvaluatorHoldout: Processed 10473 (100.0%) in 7.39 sec. Users per second: 1417\n"
     ]
    },
    {
     "name": "stderr",
     "output_type": "stream",
     "text": [
      "[I 2023-12-11 15:31:51,584] Trial 34 finished with value: 0.0440215875589596 and parameters: {'topK': 12, 'shrink': 16.54711308858051}. Best is trial 26 with value: 0.04440403215735738.\n"
     ]
    },
    {
     "name": "stdout",
     "output_type": "stream",
     "text": [
      "Unable to load Cython Compute_Similarity, reverting to Python\n",
      "Similarity column 22222 (100.0%), 2297.57 column/sec. Elapsed time 9.67 sec\n",
      "EvaluatorHoldout: Processed 10446 (100.0%) in 7.60 sec. Users per second: 1374\n",
      "Unable to load Cython Compute_Similarity, reverting to Python\n",
      "Similarity column 22222 (100.0%), 2374.55 column/sec. Elapsed time 9.36 sec\n",
      "EvaluatorHoldout: Processed 10431 (100.0%) in 7.65 sec. Users per second: 1364\n",
      "Unable to load Cython Compute_Similarity, reverting to Python\n",
      "Similarity column 22222 (100.0%), 2311.74 column/sec. Elapsed time 9.61 sec\n",
      "EvaluatorHoldout: Processed 10473 (100.0%) in 7.59 sec. Users per second: 1380\n"
     ]
    },
    {
     "name": "stderr",
     "output_type": "stream",
     "text": [
      "[I 2023-12-11 15:32:43,216] Trial 35 finished with value: 0.04359231725589291 and parameters: {'topK': 37, 'shrink': 9.163011338448433}. Best is trial 26 with value: 0.04440403215735738.\n"
     ]
    },
    {
     "name": "stdout",
     "output_type": "stream",
     "text": [
      "Unable to load Cython Compute_Similarity, reverting to Python\n",
      "Similarity column 22222 (100.0%), 2316.92 column/sec. Elapsed time 9.59 sec\n",
      "EvaluatorHoldout: Processed 10446 (100.0%) in 7.86 sec. Users per second: 1329\n",
      "Unable to load Cython Compute_Similarity, reverting to Python\n",
      "Similarity column 22222 (100.0%), 2293.12 column/sec. Elapsed time 9.69 sec\n",
      "EvaluatorHoldout: Processed 10431 (100.0%) in 7.74 sec. Users per second: 1348\n",
      "Unable to load Cython Compute_Similarity, reverting to Python\n",
      "Similarity column 22222 (100.0%), 2256.03 column/sec. Elapsed time 9.85 sec\n",
      "EvaluatorHoldout: Processed 10473 (100.0%) in 7.72 sec. Users per second: 1357\n"
     ]
    },
    {
     "name": "stderr",
     "output_type": "stream",
     "text": [
      "[I 2023-12-11 15:33:35,825] Trial 36 finished with value: 0.04347436876939075 and parameters: {'topK': 43, 'shrink': 11.324174967409553}. Best is trial 26 with value: 0.04440403215735738.\n"
     ]
    },
    {
     "name": "stdout",
     "output_type": "stream",
     "text": [
      "Unable to load Cython Compute_Similarity, reverting to Python\n",
      "Similarity column 22222 (100.0%), 2125.17 column/sec. Elapsed time 10.46 sec\n",
      "EvaluatorHoldout: Processed 10446 (100.0%) in 7.97 sec. Users per second: 1310\n",
      "Unable to load Cython Compute_Similarity, reverting to Python\n",
      "Similarity column 22222 (100.0%), 2132.14 column/sec. Elapsed time 10.42 sec\n",
      "EvaluatorHoldout: Processed 10431 (100.0%) in 8.04 sec. Users per second: 1297\n",
      "Unable to load Cython Compute_Similarity, reverting to Python\n",
      "Similarity column 22222 (100.0%), 2088.88 column/sec. Elapsed time 10.64 sec\n",
      "EvaluatorHoldout: Processed 10473 (100.0%) in 8.01 sec. Users per second: 1307\n"
     ]
    },
    {
     "name": "stderr",
     "output_type": "stream",
     "text": [
      "[I 2023-12-11 15:34:31,588] Trial 37 finished with value: 0.042798041590131765 and parameters: {'topK': 70, 'shrink': 9.191291472461309}. Best is trial 26 with value: 0.04440403215735738.\n"
     ]
    },
    {
     "name": "stdout",
     "output_type": "stream",
     "text": [
      "Unable to load Cython Compute_Similarity, reverting to Python\n",
      "Similarity column 22222 (100.0%), 2445.62 column/sec. Elapsed time 9.09 sec\n",
      "EvaluatorHoldout: Processed 10446 (100.0%) in 7.48 sec. Users per second: 1397\n",
      "Unable to load Cython Compute_Similarity, reverting to Python\n",
      "Similarity column 22222 (100.0%), 2488.27 column/sec. Elapsed time 8.93 sec\n",
      "EvaluatorHoldout: Processed 10431 (100.0%) in 7.54 sec. Users per second: 1383\n",
      "Unable to load Cython Compute_Similarity, reverting to Python\n",
      "Similarity column 22222 (100.0%), 2484.45 column/sec. Elapsed time 8.94 sec\n",
      "EvaluatorHoldout: Processed 10473 (100.0%) in 7.46 sec. Users per second: 1403\n"
     ]
    },
    {
     "name": "stderr",
     "output_type": "stream",
     "text": [
      "[I 2023-12-11 15:35:21,149] Trial 38 finished with value: 0.04368987480561975 and parameters: {'topK': 13, 'shrink': 19.82759148885554}. Best is trial 26 with value: 0.04440403215735738.\n"
     ]
    },
    {
     "name": "stdout",
     "output_type": "stream",
     "text": [
      "Unable to load Cython Compute_Similarity, reverting to Python\n",
      "Similarity column 22222 (100.0%), 2043.91 column/sec. Elapsed time 10.87 sec\n",
      "EvaluatorHoldout: Processed 10446 (100.0%) in 8.56 sec. Users per second: 1220\n",
      "Unable to load Cython Compute_Similarity, reverting to Python\n",
      "Similarity column 22222 (100.0%), 2114.79 column/sec. Elapsed time 10.51 sec\n",
      "EvaluatorHoldout: Processed 10431 (100.0%) in 8.42 sec. Users per second: 1238\n",
      "Unable to load Cython Compute_Similarity, reverting to Python\n",
      "Similarity column 22222 (100.0%), 2090.23 column/sec. Elapsed time 10.63 sec\n",
      "EvaluatorHoldout: Processed 10473 (100.0%) in 8.59 sec. Users per second: 1219\n"
     ]
    },
    {
     "name": "stderr",
     "output_type": "stream",
     "text": [
      "[I 2023-12-11 15:36:19,000] Trial 39 finished with value: 0.04248784535326467 and parameters: {'topK': 82, 'shrink': 14.631358303688753}. Best is trial 26 with value: 0.04440403215735738.\n"
     ]
    },
    {
     "name": "stdout",
     "output_type": "stream",
     "text": [
      "Unable to load Cython Compute_Similarity, reverting to Python\n",
      "Similarity column 22222 (100.0%), 2247.94 column/sec. Elapsed time 9.89 sec\n",
      "EvaluatorHoldout: Processed 10446 (100.0%) in 8.17 sec. Users per second: 1279\n",
      "Unable to load Cython Compute_Similarity, reverting to Python\n",
      "Similarity column 22222 (100.0%), 2235.80 column/sec. Elapsed time 9.94 sec\n",
      "EvaluatorHoldout: Processed 10431 (100.0%) in 8.20 sec. Users per second: 1272\n",
      "Unable to load Cython Compute_Similarity, reverting to Python\n",
      "Similarity column 22222 (100.0%), 2249.69 column/sec. Elapsed time 9.88 sec\n",
      "EvaluatorHoldout: Processed 10473 (100.0%) in 8.31 sec. Users per second: 1260\n"
     ]
    },
    {
     "name": "stderr",
     "output_type": "stream",
     "text": [
      "[I 2023-12-11 15:37:13,565] Trial 40 finished with value: 0.042977691362915404 and parameters: {'topK': 50, 'shrink': 16.938881168461407}. Best is trial 26 with value: 0.04440403215735738.\n"
     ]
    },
    {
     "name": "stdout",
     "output_type": "stream",
     "text": [
      "Unable to load Cython Compute_Similarity, reverting to Python\n",
      "Similarity column 22222 (100.0%), 2434.92 column/sec. Elapsed time 9.13 sec\n",
      "EvaluatorHoldout: Processed 10446 (100.0%) in 7.55 sec. Users per second: 1383\n",
      "Unable to load Cython Compute_Similarity, reverting to Python\n",
      "Similarity column 22222 (100.0%), 2448.51 column/sec. Elapsed time 9.08 sec\n",
      "EvaluatorHoldout: Processed 10431 (100.0%) in 7.32 sec. Users per second: 1425\n",
      "Unable to load Cython Compute_Similarity, reverting to Python\n",
      "Similarity column 22222 (100.0%), 2467.29 column/sec. Elapsed time 9.01 sec\n",
      "EvaluatorHoldout: Processed 10473 (100.0%) in 7.58 sec. Users per second: 1383\n"
     ]
    },
    {
     "name": "stderr",
     "output_type": "stream",
     "text": [
      "[I 2023-12-11 15:38:03,335] Trial 41 finished with value: 0.04426692486757087 and parameters: {'topK': 18, 'shrink': 14.134026639663452}. Best is trial 26 with value: 0.04440403215735738.\n"
     ]
    },
    {
     "name": "stdout",
     "output_type": "stream",
     "text": [
      "Unable to load Cython Compute_Similarity, reverting to Python\n",
      "Similarity column 22222 (100.0%), 2529.99 column/sec. Elapsed time 8.78 sec\n",
      "EvaluatorHoldout: Processed 10446 (100.0%) in 7.21 sec. Users per second: 1450\n",
      "Unable to load Cython Compute_Similarity, reverting to Python\n",
      "Similarity column 22222 (100.0%), 2531.66 column/sec. Elapsed time 8.78 sec\n",
      "EvaluatorHoldout: Processed 10431 (100.0%) in 7.25 sec. Users per second: 1438\n",
      "Unable to load Cython Compute_Similarity, reverting to Python\n",
      "Similarity column 22222 (100.0%), 2493.02 column/sec. Elapsed time 8.91 sec\n",
      "EvaluatorHoldout: Processed 10473 (100.0%) in 7.25 sec. Users per second: 1445\n"
     ]
    },
    {
     "name": "stderr",
     "output_type": "stream",
     "text": [
      "[I 2023-12-11 15:38:51,622] Trial 42 finished with value: 0.04414199474020248 and parameters: {'topK': 8, 'shrink': 12.66319738949469}. Best is trial 26 with value: 0.04440403215735738.\n"
     ]
    },
    {
     "name": "stdout",
     "output_type": "stream",
     "text": [
      "Unable to load Cython Compute_Similarity, reverting to Python\n",
      "Similarity column 22222 (100.0%), 2411.40 column/sec. Elapsed time 9.22 sec\n",
      "EvaluatorHoldout: Processed 10446 (100.0%) in 7.57 sec. Users per second: 1379\n",
      "Unable to load Cython Compute_Similarity, reverting to Python\n",
      "Similarity column 22222 (100.0%), 2424.78 column/sec. Elapsed time 9.16 sec\n",
      "EvaluatorHoldout: Processed 10431 (100.0%) in 7.47 sec. Users per second: 1397\n",
      "Unable to load Cython Compute_Similarity, reverting to Python\n",
      "Similarity column 22222 (100.0%), 2399.89 column/sec. Elapsed time 9.26 sec\n",
      "EvaluatorHoldout: Processed 10473 (100.0%) in 7.38 sec. Users per second: 1418\n"
     ]
    },
    {
     "name": "stderr",
     "output_type": "stream",
     "text": [
      "[I 2023-12-11 15:39:41,818] Trial 43 finished with value: 0.04419698422144283 and parameters: {'topK': 24, 'shrink': 11.477174582914238}. Best is trial 26 with value: 0.04440403215735738.\n"
     ]
    },
    {
     "name": "stdout",
     "output_type": "stream",
     "text": [
      "Unable to load Cython Compute_Similarity, reverting to Python\n",
      "Similarity column 22222 (100.0%), 2457.00 column/sec. Elapsed time 9.04 sec\n",
      "EvaluatorHoldout: Processed 10446 (100.0%) in 7.41 sec. Users per second: 1411\n",
      "Unable to load Cython Compute_Similarity, reverting to Python\n",
      "Similarity column 22222 (100.0%), 2498.60 column/sec. Elapsed time 8.89 sec\n",
      "EvaluatorHoldout: Processed 10431 (100.0%) in 7.48 sec. Users per second: 1394\n",
      "Unable to load Cython Compute_Similarity, reverting to Python\n",
      "Similarity column 22222 (100.0%), 2485.52 column/sec. Elapsed time 8.94 sec\n",
      "EvaluatorHoldout: Processed 10473 (100.0%) in 7.55 sec. Users per second: 1387\n"
     ]
    },
    {
     "name": "stderr",
     "output_type": "stream",
     "text": [
      "[I 2023-12-11 15:40:31,240] Trial 44 finished with value: 0.0439872071186608 and parameters: {'topK': 15, 'shrink': 16.12437224379197}. Best is trial 26 with value: 0.04440403215735738.\n"
     ]
    },
    {
     "name": "stdout",
     "output_type": "stream",
     "text": [
      "Unable to load Cython Compute_Similarity, reverting to Python\n",
      "Similarity column 22222 (100.0%), 2502.39 column/sec. Elapsed time 8.88 sec\n",
      "EvaluatorHoldout: Processed 10446 (100.0%) in 7.28 sec. Users per second: 1435\n",
      "Unable to load Cython Compute_Similarity, reverting to Python\n",
      "Similarity column 22222 (100.0%), 2540.93 column/sec. Elapsed time 8.75 sec\n",
      "EvaluatorHoldout: Processed 10431 (100.0%) in 7.28 sec. Users per second: 1433\n",
      "Unable to load Cython Compute_Similarity, reverting to Python\n",
      "Similarity column 22222 (100.0%), 2523.43 column/sec. Elapsed time 8.81 sec\n",
      "EvaluatorHoldout: Processed 10473 (100.0%) in 7.26 sec. Users per second: 1442\n"
     ]
    },
    {
     "name": "stderr",
     "output_type": "stream",
     "text": [
      "[I 2023-12-11 15:41:19,604] Trial 45 finished with value: 0.04407951381519729 and parameters: {'topK': 9, 'shrink': 13.885543502258038}. Best is trial 26 with value: 0.04440403215735738.\n"
     ]
    },
    {
     "name": "stdout",
     "output_type": "stream",
     "text": [
      "Unable to load Cython Compute_Similarity, reverting to Python\n",
      "Similarity column 22222 (100.0%), 2358.09 column/sec. Elapsed time 9.42 sec\n",
      "EvaluatorHoldout: Processed 10446 (100.0%) in 7.88 sec. Users per second: 1326\n",
      "Unable to load Cython Compute_Similarity, reverting to Python\n",
      "Similarity column 22222 (100.0%), 2382.95 column/sec. Elapsed time 9.33 sec\n",
      "EvaluatorHoldout: Processed 10431 (100.0%) in 7.72 sec. Users per second: 1350\n",
      "Unable to load Cython Compute_Similarity, reverting to Python\n",
      "Similarity column 22222 (100.0%), 2323.84 column/sec. Elapsed time 9.56 sec\n",
      "EvaluatorHoldout: Processed 10473 (100.0%) in 7.81 sec. Users per second: 1342\n"
     ]
    },
    {
     "name": "stderr",
     "output_type": "stream",
     "text": [
      "[I 2023-12-11 15:42:11,460] Trial 46 finished with value: 0.043866688005908254 and parameters: {'topK': 28, 'shrink': 15.55609877874435}. Best is trial 26 with value: 0.04440403215735738.\n"
     ]
    },
    {
     "name": "stdout",
     "output_type": "stream",
     "text": [
      "Unable to load Cython Compute_Similarity, reverting to Python\n",
      "Similarity column 22222 (100.0%), 2369.08 column/sec. Elapsed time 9.38 sec\n",
      "EvaluatorHoldout: Processed 10446 (100.0%) in 8.03 sec. Users per second: 1301\n",
      "Unable to load Cython Compute_Similarity, reverting to Python\n",
      "Similarity column 22222 (100.0%), 2384.21 column/sec. Elapsed time 9.32 sec\n",
      "EvaluatorHoldout: Processed 10431 (100.0%) in 7.99 sec. Users per second: 1306\n",
      "Unable to load Cython Compute_Similarity, reverting to Python\n",
      "Similarity column 22222 (100.0%), 2380.88 column/sec. Elapsed time 9.33 sec\n",
      "EvaluatorHoldout: Processed 10473 (100.0%) in 8.06 sec. Users per second: 1299\n"
     ]
    },
    {
     "name": "stderr",
     "output_type": "stream",
     "text": [
      "[I 2023-12-11 15:43:03,715] Trial 47 finished with value: 0.04339182580240101 and parameters: {'topK': 33, 'shrink': 21.00871595050407}. Best is trial 26 with value: 0.04440403215735738.\n"
     ]
    },
    {
     "name": "stdout",
     "output_type": "stream",
     "text": [
      "Unable to load Cython Compute_Similarity, reverting to Python\n",
      "Similarity column 22222 (100.0%), 2429.99 column/sec. Elapsed time 9.14 sec\n",
      "EvaluatorHoldout: Processed 10446 (100.0%) in 7.38 sec. Users per second: 1416\n",
      "Unable to load Cython Compute_Similarity, reverting to Python\n",
      "Similarity column 22222 (100.0%), 2454.68 column/sec. Elapsed time 9.05 sec\n",
      "EvaluatorHoldout: Processed 10431 (100.0%) in 7.40 sec. Users per second: 1410\n",
      "Unable to load Cython Compute_Similarity, reverting to Python\n",
      "Similarity column 22222 (100.0%), 2389.74 column/sec. Elapsed time 9.30 sec\n",
      "EvaluatorHoldout: Processed 10473 (100.0%) in 7.39 sec. Users per second: 1417\n"
     ]
    },
    {
     "name": "stderr",
     "output_type": "stream",
     "text": [
      "[I 2023-12-11 15:43:53,503] Trial 48 finished with value: 0.044196811364440335 and parameters: {'topK': 23, 'shrink': 9.998542275904583}. Best is trial 26 with value: 0.04440403215735738.\n"
     ]
    },
    {
     "name": "stdout",
     "output_type": "stream",
     "text": [
      "Unable to load Cython Compute_Similarity, reverting to Python\n",
      "Similarity column 22222 (100.0%), 3113.98 column/sec. Elapsed time 7.14 sec\n",
      "EvaluatorHoldout: Processed 10446 (100.0%) in 6.86 sec. Users per second: 1522\n",
      "Unable to load Cython Compute_Similarity, reverting to Python\n",
      "Similarity column 22222 (100.0%), 3024.42 column/sec. Elapsed time 7.35 sec\n",
      "EvaluatorHoldout: Processed 10431 (100.0%) in 6.99 sec. Users per second: 1493\n",
      "Unable to load Cython Compute_Similarity, reverting to Python\n",
      "Similarity column 22222 (100.0%), 3101.93 column/sec. Elapsed time 7.16 sec\n",
      "EvaluatorHoldout: Processed 10473 (100.0%) in 7.11 sec. Users per second: 1474\n"
     ]
    },
    {
     "name": "stderr",
     "output_type": "stream",
     "text": [
      "[I 2023-12-11 15:44:36,213] Trial 49 finished with value: 0.035573637847551305 and parameters: {'topK': 1, 'shrink': 12.228988647807826}. Best is trial 26 with value: 0.04440403215735738.\n"
     ]
    },
    {
     "name": "stdout",
     "output_type": "stream",
     "text": [
      "Unable to load Cython Compute_Similarity, reverting to Python\n",
      "Similarity column 22222 (100.0%), 2439.94 column/sec. Elapsed time 9.11 sec\n",
      "EvaluatorHoldout: Processed 10446 (100.0%) in 7.64 sec. Users per second: 1367\n",
      "Unable to load Cython Compute_Similarity, reverting to Python\n",
      "Similarity column 22222 (100.0%), 2478.77 column/sec. Elapsed time 8.96 sec\n",
      "EvaluatorHoldout: Processed 10431 (100.0%) in 7.54 sec. Users per second: 1383\n",
      "Unable to load Cython Compute_Similarity, reverting to Python\n",
      "Similarity column 22222 (100.0%), 2463.11 column/sec. Elapsed time 9.02 sec\n",
      "EvaluatorHoldout: Processed 10473 (100.0%) in 7.63 sec. Users per second: 1372\n"
     ]
    },
    {
     "name": "stderr",
     "output_type": "stream",
     "text": [
      "[I 2023-12-11 15:45:26,235] Trial 50 finished with value: 0.04392978726517089 and parameters: {'topK': 19, 'shrink': 17.6816289085208}. Best is trial 26 with value: 0.04440403215735738.\n"
     ]
    },
    {
     "name": "stdout",
     "output_type": "stream",
     "text": [
      "Unable to load Cython Compute_Similarity, reverting to Python\n",
      "Similarity column 22222 (100.0%), 2422.43 column/sec. Elapsed time 9.17 sec\n",
      "EvaluatorHoldout: Processed 10446 (100.0%) in 7.33 sec. Users per second: 1425\n",
      "Unable to load Cython Compute_Similarity, reverting to Python\n",
      "Similarity column 22222 (100.0%), 2456.85 column/sec. Elapsed time 9.04 sec\n",
      "EvaluatorHoldout: Processed 10431 (100.0%) in 7.56 sec. Users per second: 1379\n",
      "Unable to load Cython Compute_Similarity, reverting to Python\n",
      "Similarity column 22222 (100.0%), 2429.26 column/sec. Elapsed time 9.15 sec\n",
      "EvaluatorHoldout: Processed 10473 (100.0%) in 7.42 sec. Users per second: 1411\n"
     ]
    },
    {
     "name": "stderr",
     "output_type": "stream",
     "text": [
      "[I 2023-12-11 15:46:16,030] Trial 51 finished with value: 0.04421228083304979 and parameters: {'topK': 19, 'shrink': 13.333792745945534}. Best is trial 26 with value: 0.04440403215735738.\n"
     ]
    },
    {
     "name": "stdout",
     "output_type": "stream",
     "text": [
      "Unable to load Cython Compute_Similarity, reverting to Python\n",
      "Similarity column 22222 (100.0%), 2380.64 column/sec. Elapsed time 9.33 sec\n",
      "EvaluatorHoldout: Processed 10446 (100.0%) in 7.70 sec. Users per second: 1356\n",
      "Unable to load Cython Compute_Similarity, reverting to Python\n",
      "Similarity column 22222 (100.0%), 2426.87 column/sec. Elapsed time 9.16 sec\n",
      "EvaluatorHoldout: Processed 10431 (100.0%) in 7.60 sec. Users per second: 1372\n",
      "Unable to load Cython Compute_Similarity, reverting to Python\n",
      "Similarity column 22222 (100.0%), 2371.19 column/sec. Elapsed time 9.37 sec\n",
      "EvaluatorHoldout: Processed 10473 (100.0%) in 7.71 sec. Users per second: 1359\n"
     ]
    },
    {
     "name": "stderr",
     "output_type": "stream",
     "text": [
      "[I 2023-12-11 15:47:07,036] Trial 52 finished with value: 0.043869888418059076 and parameters: {'topK': 27, 'shrink': 14.693169351477046}. Best is trial 26 with value: 0.04440403215735738.\n"
     ]
    },
    {
     "name": "stdout",
     "output_type": "stream",
     "text": [
      "Unable to load Cython Compute_Similarity, reverting to Python\n",
      "Similarity column 22222 (100.0%), 2456.22 column/sec. Elapsed time 9.05 sec\n",
      "EvaluatorHoldout: Processed 10446 (100.0%) in 7.34 sec. Users per second: 1422\n",
      "Unable to load Cython Compute_Similarity, reverting to Python\n",
      "Similarity column 22222 (100.0%), 2490.21 column/sec. Elapsed time 8.92 sec\n",
      "EvaluatorHoldout: Processed 10431 (100.0%) in 7.45 sec. Users per second: 1399\n",
      "Unable to load Cython Compute_Similarity, reverting to Python\n",
      "Similarity column 22222 (100.0%), 2493.97 column/sec. Elapsed time 8.91 sec\n",
      "EvaluatorHoldout: Processed 10473 (100.0%) in 7.40 sec. Users per second: 1416\n"
     ]
    },
    {
     "name": "stderr",
     "output_type": "stream",
     "text": [
      "[I 2023-12-11 15:47:56,220] Trial 53 finished with value: 0.04412819809422703 and parameters: {'topK': 13, 'shrink': 14.087998122651166}. Best is trial 26 with value: 0.04440403215735738.\n"
     ]
    },
    {
     "name": "stdout",
     "output_type": "stream",
     "text": [
      "Unable to load Cython Compute_Similarity, reverting to Python\n",
      "Similarity column 22222 (100.0%), 2399.47 column/sec. Elapsed time 9.26 sec\n",
      "EvaluatorHoldout: Processed 10446 (100.0%) in 7.60 sec. Users per second: 1375\n",
      "Unable to load Cython Compute_Similarity, reverting to Python\n",
      "Similarity column 22222 (100.0%), 2448.16 column/sec. Elapsed time 9.08 sec\n",
      "EvaluatorHoldout: Processed 10431 (100.0%) in 7.62 sec. Users per second: 1368\n",
      "Unable to load Cython Compute_Similarity, reverting to Python\n",
      "Similarity column 22222 (100.0%), 2425.33 column/sec. Elapsed time 9.16 sec\n",
      "EvaluatorHoldout: Processed 10473 (100.0%) in 7.68 sec. Users per second: 1365\n"
     ]
    },
    {
     "name": "stderr",
     "output_type": "stream",
     "text": [
      "[I 2023-12-11 15:48:46,735] Trial 54 finished with value: 0.044058441335417975 and parameters: {'topK': 23, 'shrink': 15.76568866131992}. Best is trial 26 with value: 0.04440403215735738.\n"
     ]
    },
    {
     "name": "stdout",
     "output_type": "stream",
     "text": [
      "Unable to load Cython Compute_Similarity, reverting to Python\n",
      "Similarity column 22222 (100.0%), 2511.00 column/sec. Elapsed time 8.85 sec\n",
      "EvaluatorHoldout: Processed 10446 (100.0%) in 7.02 sec. Users per second: 1488\n",
      "Unable to load Cython Compute_Similarity, reverting to Python\n",
      "Similarity column 22222 (100.0%), 2526.25 column/sec. Elapsed time 8.80 sec\n",
      "EvaluatorHoldout: Processed 10431 (100.0%) in 7.14 sec. Users per second: 1461\n",
      "Unable to load Cython Compute_Similarity, reverting to Python\n",
      "Similarity column 22222 (100.0%), 2531.42 column/sec. Elapsed time 8.78 sec\n",
      "EvaluatorHoldout: Processed 10473 (100.0%) in 7.11 sec. Users per second: 1473\n"
     ]
    },
    {
     "name": "stderr",
     "output_type": "stream",
     "text": [
      "[I 2023-12-11 15:49:34,533] Trial 55 finished with value: 0.043942317757323685 and parameters: {'topK': 6, 'shrink': 12.930269054641656}. Best is trial 26 with value: 0.04440403215735738.\n"
     ]
    },
    {
     "name": "stdout",
     "output_type": "stream",
     "text": [
      "Unable to load Cython Compute_Similarity, reverting to Python\n",
      "Similarity column 22222 (100.0%), 2429.92 column/sec. Elapsed time 9.15 sec\n",
      "EvaluatorHoldout: Processed 10446 (100.0%) in 7.48 sec. Users per second: 1397\n",
      "Unable to load Cython Compute_Similarity, reverting to Python\n",
      "Similarity column 22222 (100.0%), 2454.72 column/sec. Elapsed time 9.05 sec\n",
      "EvaluatorHoldout: Processed 10431 (100.0%) in 7.41 sec. Users per second: 1407\n",
      "Unable to load Cython Compute_Similarity, reverting to Python\n",
      "Similarity column 22222 (100.0%), 2445.42 column/sec. Elapsed time 9.09 sec\n",
      "EvaluatorHoldout: Processed 10473 (100.0%) in 7.50 sec. Users per second: 1397\n"
     ]
    },
    {
     "name": "stderr",
     "output_type": "stream",
     "text": [
      "[I 2023-12-11 15:50:24,328] Trial 56 finished with value: 0.04428267730982985 and parameters: {'topK': 21, 'shrink': 11.038290216595225}. Best is trial 26 with value: 0.04440403215735738.\n"
     ]
    },
    {
     "name": "stdout",
     "output_type": "stream",
     "text": [
      "Unable to load Cython Compute_Similarity, reverting to Python\n",
      "Similarity column 22222 (100.0%), 2454.49 column/sec. Elapsed time 9.05 sec\n",
      "EvaluatorHoldout: Processed 10446 (100.0%) in 7.41 sec. Users per second: 1410\n",
      "Unable to load Cython Compute_Similarity, reverting to Python\n",
      "Similarity column 22222 (100.0%), 2486.79 column/sec. Elapsed time 8.94 sec\n",
      "EvaluatorHoldout: Processed 10431 (100.0%) in 7.32 sec. Users per second: 1424\n",
      "Unable to load Cython Compute_Similarity, reverting to Python\n",
      "Similarity column 22222 (100.0%), 2530.28 column/sec. Elapsed time 8.78 sec\n",
      "EvaluatorHoldout: Processed 10473 (100.0%) in 7.25 sec. Users per second: 1445\n"
     ]
    },
    {
     "name": "stderr",
     "output_type": "stream",
     "text": [
      "[I 2023-12-11 15:51:13,190] Trial 57 finished with value: 0.044353719567915596 and parameters: {'topK': 15, 'shrink': 10.940019190562126}. Best is trial 26 with value: 0.04440403215735738.\n"
     ]
    },
    {
     "name": "stdout",
     "output_type": "stream",
     "text": [
      "Unable to load Cython Compute_Similarity, reverting to Python\n",
      "Similarity column 22222 (100.0%), 2504.11 column/sec. Elapsed time 8.87 sec\n",
      "EvaluatorHoldout: Processed 10446 (100.0%) in 7.17 sec. Users per second: 1458\n",
      "Unable to load Cython Compute_Similarity, reverting to Python\n",
      "Similarity column 22222 (100.0%), 2510.39 column/sec. Elapsed time 8.85 sec\n",
      "EvaluatorHoldout: Processed 10431 (100.0%) in 7.09 sec. Users per second: 1470\n",
      "Unable to load Cython Compute_Similarity, reverting to Python\n",
      "Similarity column 22222 (100.0%), 2507.50 column/sec. Elapsed time 8.86 sec\n",
      "EvaluatorHoldout: Processed 10473 (100.0%) in 7.39 sec. Users per second: 1417\n"
     ]
    },
    {
     "name": "stderr",
     "output_type": "stream",
     "text": [
      "[I 2023-12-11 15:52:01,549] Trial 58 finished with value: 0.044222253890626784 and parameters: {'topK': 10, 'shrink': 10.902418034267184}. Best is trial 26 with value: 0.04440403215735738.\n"
     ]
    },
    {
     "name": "stdout",
     "output_type": "stream",
     "text": [
      "Unable to load Cython Compute_Similarity, reverting to Python\n",
      "Similarity column 22222 (100.0%), 2497.02 column/sec. Elapsed time 8.90 sec\n",
      "EvaluatorHoldout: Processed 10446 (100.0%) in 7.19 sec. Users per second: 1453\n",
      "Unable to load Cython Compute_Similarity, reverting to Python\n",
      "Similarity column 22222 (100.0%), 2513.97 column/sec. Elapsed time 8.84 sec\n",
      "EvaluatorHoldout: Processed 10431 (100.0%) in 7.26 sec. Users per second: 1437\n",
      "Unable to load Cython Compute_Similarity, reverting to Python\n",
      "Similarity column 22222 (100.0%), 2424.78 column/sec. Elapsed time 9.16 sec\n",
      "EvaluatorHoldout: Processed 10473 (100.0%) in 7.36 sec. Users per second: 1422\n"
     ]
    },
    {
     "name": "stderr",
     "output_type": "stream",
     "text": [
      "[I 2023-12-11 15:52:50,379] Trial 59 finished with value: 0.04439658641736891 and parameters: {'topK': 16, 'shrink': 8.078581865029005}. Best is trial 26 with value: 0.04440403215735738.\n"
     ]
    },
    {
     "name": "stdout",
     "output_type": "stream",
     "text": [
      "Unable to load Cython Compute_Similarity, reverting to Python\n",
      "Similarity column 22222 (100.0%), 2472.52 column/sec. Elapsed time 8.99 sec\n",
      "EvaluatorHoldout: Processed 10446 (100.0%) in 7.32 sec. Users per second: 1426\n",
      "Unable to load Cython Compute_Similarity, reverting to Python\n",
      "Similarity column 22222 (100.0%), 2479.96 column/sec. Elapsed time 8.96 sec\n",
      "EvaluatorHoldout: Processed 10431 (100.0%) in 7.45 sec. Users per second: 1400\n",
      "Unable to load Cython Compute_Similarity, reverting to Python\n",
      "Similarity column 22222 (100.0%), 2488.18 column/sec. Elapsed time 8.93 sec\n",
      "EvaluatorHoldout: Processed 10473 (100.0%) in 7.38 sec. Users per second: 1420\n"
     ]
    },
    {
     "name": "stderr",
     "output_type": "stream",
     "text": [
      "[I 2023-12-11 15:53:39,533] Trial 60 finished with value: 0.04444258486759547 and parameters: {'topK': 15, 'shrink': 8.27340055954364}. Best is trial 60 with value: 0.04444258486759547.\n"
     ]
    },
    {
     "name": "stdout",
     "output_type": "stream",
     "text": [
      "Unable to load Cython Compute_Similarity, reverting to Python\n",
      "Similarity column 22222 (100.0%), 2444.96 column/sec. Elapsed time 9.09 sec\n",
      "EvaluatorHoldout: Processed 10446 (100.0%) in 6.92 sec. Users per second: 1509\n",
      "Unable to load Cython Compute_Similarity, reverting to Python\n",
      "Similarity column 22222 (100.0%), 2554.93 column/sec. Elapsed time 8.70 sec\n",
      "EvaluatorHoldout: Processed 10431 (100.0%) in 6.95 sec. Users per second: 1501\n",
      "Unable to load Cython Compute_Similarity, reverting to Python\n",
      "Similarity column 22222 (100.0%), 2569.30 column/sec. Elapsed time 8.65 sec\n",
      "EvaluatorHoldout: Processed 10473 (100.0%) in 7.10 sec. Users per second: 1475\n"
     ]
    },
    {
     "name": "stderr",
     "output_type": "stream",
     "text": [
      "[I 2023-12-11 15:54:27,057] Trial 61 finished with value: 0.043948006893728776 and parameters: {'topK': 5, 'shrink': 7.940095421916607}. Best is trial 60 with value: 0.04444258486759547.\n"
     ]
    },
    {
     "name": "stdout",
     "output_type": "stream",
     "text": [
      "Unable to load Cython Compute_Similarity, reverting to Python\n",
      "Similarity column 22222 (100.0%), 2524.14 column/sec. Elapsed time 8.80 sec\n",
      "EvaluatorHoldout: Processed 10446 (100.0%) in 7.23 sec. Users per second: 1445\n",
      "Unable to load Cython Compute_Similarity, reverting to Python\n",
      "Similarity column 22222 (100.0%), 2500.53 column/sec. Elapsed time 8.89 sec\n",
      "EvaluatorHoldout: Processed 10431 (100.0%) in 7.18 sec. Users per second: 1452\n",
      "Unable to load Cython Compute_Similarity, reverting to Python\n",
      "Similarity column 22222 (100.0%), 2488.39 column/sec. Elapsed time 8.93 sec\n",
      "EvaluatorHoldout: Processed 10473 (100.0%) in 7.25 sec. Users per second: 1446\n"
     ]
    },
    {
     "name": "stderr",
     "output_type": "stream",
     "text": [
      "[I 2023-12-11 15:55:15,442] Trial 62 finished with value: 0.04442853000487846 and parameters: {'topK': 15, 'shrink': 6.125420353754723}. Best is trial 60 with value: 0.04444258486759547.\n"
     ]
    },
    {
     "name": "stdout",
     "output_type": "stream",
     "text": [
      "Unable to load Cython Compute_Similarity, reverting to Python\n",
      "Similarity column 22222 (100.0%), 2442.36 column/sec. Elapsed time 9.10 sec\n",
      "EvaluatorHoldout: Processed 10446 (100.0%) in 7.23 sec. Users per second: 1444\n",
      "Unable to load Cython Compute_Similarity, reverting to Python\n",
      "Similarity column 22222 (100.0%), 2496.60 column/sec. Elapsed time 8.90 sec\n",
      "EvaluatorHoldout: Processed 10431 (100.0%) in 7.18 sec. Users per second: 1453\n",
      "Unable to load Cython Compute_Similarity, reverting to Python\n",
      "Similarity column 22222 (100.0%), 2518.13 column/sec. Elapsed time 8.82 sec\n",
      "EvaluatorHoldout: Processed 10473 (100.0%) in 7.36 sec. Users per second: 1424\n"
     ]
    },
    {
     "name": "stderr",
     "output_type": "stream",
     "text": [
      "[I 2023-12-11 15:56:04,149] Trial 63 finished with value: 0.044396761219853774 and parameters: {'topK': 16, 'shrink': 5.82898590954998}. Best is trial 60 with value: 0.04444258486759547.\n"
     ]
    },
    {
     "name": "stdout",
     "output_type": "stream",
     "text": [
      "Unable to load Cython Compute_Similarity, reverting to Python\n",
      "Similarity column 22222 (100.0%), 2508.91 column/sec. Elapsed time 8.86 sec\n",
      "EvaluatorHoldout: Processed 10446 (100.0%) in 7.26 sec. Users per second: 1439\n",
      "Unable to load Cython Compute_Similarity, reverting to Python\n",
      "Similarity column 22222 (100.0%), 2483.09 column/sec. Elapsed time 8.95 sec\n",
      "EvaluatorHoldout: Processed 10431 (100.0%) in 7.13 sec. Users per second: 1463\n",
      "Unable to load Cython Compute_Similarity, reverting to Python\n",
      "Similarity column 22222 (100.0%), 2384.66 column/sec. Elapsed time 9.32 sec\n",
      "EvaluatorHoldout: Processed 10473 (100.0%) in 7.19 sec. Users per second: 1456\n"
     ]
    },
    {
     "name": "stderr",
     "output_type": "stream",
     "text": [
      "[I 2023-12-11 15:56:52,977] Trial 64 finished with value: 0.04439474248208706 and parameters: {'topK': 15, 'shrink': 5.931773657353308}. Best is trial 60 with value: 0.04444258486759547.\n"
     ]
    },
    {
     "name": "stdout",
     "output_type": "stream",
     "text": [
      "Unable to load Cython Compute_Similarity, reverting to Python\n",
      "Similarity column 22222 (100.0%), 2384.21 column/sec. Elapsed time 9.32 sec\n",
      "EvaluatorHoldout: Processed 10446 (100.0%) in 7.07 sec. Users per second: 1477\n",
      "Unable to load Cython Compute_Similarity, reverting to Python\n",
      "Similarity column 22222 (100.0%), 2509.74 column/sec. Elapsed time 8.85 sec\n",
      "EvaluatorHoldout: Processed 10431 (100.0%) in 7.24 sec. Users per second: 1440\n",
      "Unable to load Cython Compute_Similarity, reverting to Python\n",
      "Similarity column 22222 (100.0%), 2474.82 column/sec. Elapsed time 8.98 sec\n",
      "EvaluatorHoldout: Processed 10473 (100.0%) in 7.14 sec. Users per second: 1467\n"
     ]
    },
    {
     "name": "stderr",
     "output_type": "stream",
     "text": [
      "[I 2023-12-11 15:57:41,701] Trial 65 finished with value: 0.04449688962254733 and parameters: {'topK': 14, 'shrink': 5.314234967823401}. Best is trial 65 with value: 0.04449688962254733.\n"
     ]
    },
    {
     "name": "stdout",
     "output_type": "stream",
     "text": [
      "Unable to load Cython Compute_Similarity, reverting to Python\n",
      "Similarity column 22222 (100.0%), 2481.18 column/sec. Elapsed time 8.96 sec\n",
      "EvaluatorHoldout: Processed 10446 (100.0%) in 7.03 sec. Users per second: 1487\n",
      "Unable to load Cython Compute_Similarity, reverting to Python\n",
      "Similarity column 22222 (100.0%), 2530.33 column/sec. Elapsed time 8.78 sec\n",
      "EvaluatorHoldout: Processed 10431 (100.0%) in 7.02 sec. Users per second: 1486\n",
      "Unable to load Cython Compute_Similarity, reverting to Python\n",
      "Similarity column 22222 (100.0%), 2553.24 column/sec. Elapsed time 8.70 sec\n",
      "EvaluatorHoldout: Processed 10473 (100.0%) in 7.07 sec. Users per second: 1481\n"
     ]
    },
    {
     "name": "stderr",
     "output_type": "stream",
     "text": [
      "[I 2023-12-11 15:58:29,376] Trial 66 finished with value: 0.044531062503108954 and parameters: {'topK': 10, 'shrink': 5.1219916502783995}. Best is trial 66 with value: 0.044531062503108954.\n"
     ]
    },
    {
     "name": "stdout",
     "output_type": "stream",
     "text": [
      "Unable to load Cython Compute_Similarity, reverting to Python\n",
      "Similarity column 22222 (100.0%), 2525.87 column/sec. Elapsed time 8.80 sec\n",
      "EvaluatorHoldout: Processed 10446 (100.0%) in 7.13 sec. Users per second: 1465\n",
      "Unable to load Cython Compute_Similarity, reverting to Python\n",
      "Similarity column 22222 (100.0%), 2514.21 column/sec. Elapsed time 8.84 sec\n",
      "EvaluatorHoldout: Processed 10431 (100.0%) in 7.08 sec. Users per second: 1473\n",
      "Unable to load Cython Compute_Similarity, reverting to Python\n",
      "Similarity column 22222 (100.0%), 2528.27 column/sec. Elapsed time 8.79 sec\n",
      "EvaluatorHoldout: Processed 10473 (100.0%) in 7.13 sec. Users per second: 1470\n"
     ]
    },
    {
     "name": "stderr",
     "output_type": "stream",
     "text": [
      "[I 2023-12-11 15:59:17,265] Trial 67 finished with value: 0.04454118216405112 and parameters: {'topK': 10, 'shrink': 4.932341352749885}. Best is trial 67 with value: 0.04454118216405112.\n"
     ]
    },
    {
     "name": "stdout",
     "output_type": "stream",
     "text": [
      "Unable to load Cython Compute_Similarity, reverting to Python\n",
      "Similarity column 22222 (100.0%), 2477.13 column/sec. Elapsed time 8.97 sec\n",
      "EvaluatorHoldout: Processed 10446 (100.0%) in 6.94 sec. Users per second: 1504\n",
      "Unable to load Cython Compute_Similarity, reverting to Python\n",
      "Similarity column 22222 (100.0%), 2510.06 column/sec. Elapsed time 8.85 sec\n",
      "EvaluatorHoldout: Processed 10431 (100.0%) in 7.07 sec. Users per second: 1476\n",
      "Unable to load Cython Compute_Similarity, reverting to Python\n",
      "Similarity column 22222 (100.0%), 2588.45 column/sec. Elapsed time 8.59 sec\n",
      "EvaluatorHoldout: Processed 10473 (100.0%) in 7.02 sec. Users per second: 1492\n"
     ]
    },
    {
     "name": "stderr",
     "output_type": "stream",
     "text": [
      "[I 2023-12-11 16:00:04,808] Trial 68 finished with value: 0.04359605186235332 and parameters: {'topK': 4, 'shrink': 4.218529349395433}. Best is trial 67 with value: 0.04454118216405112.\n"
     ]
    },
    {
     "name": "stdout",
     "output_type": "stream",
     "text": [
      "Unable to load Cython Compute_Similarity, reverting to Python\n",
      "Similarity column 22222 (100.0%), 2508.28 column/sec. Elapsed time 8.86 sec\n",
      "EvaluatorHoldout: Processed 10446 (100.0%) in 7.07 sec. Users per second: 1477\n",
      "Unable to load Cython Compute_Similarity, reverting to Python\n",
      "Similarity column 22222 (100.0%), 2519.51 column/sec. Elapsed time 8.82 sec\n",
      "EvaluatorHoldout: Processed 10431 (100.0%) in 7.06 sec. Users per second: 1477\n",
      "Unable to load Cython Compute_Similarity, reverting to Python\n",
      "Similarity column 22222 (100.0%), 2533.51 column/sec. Elapsed time 8.77 sec\n",
      "EvaluatorHoldout: Processed 10473 (100.0%) in 7.01 sec. Users per second: 1493\n"
     ]
    },
    {
     "name": "stderr",
     "output_type": "stream",
     "text": [
      "[I 2023-12-11 16:00:52,522] Trial 69 finished with value: 0.04450302355133249 and parameters: {'topK': 9, 'shrink': 4.190452618340471}. Best is trial 67 with value: 0.04454118216405112.\n"
     ]
    },
    {
     "name": "stdout",
     "output_type": "stream",
     "text": [
      "Unable to load Cython Compute_Similarity, reverting to Python\n",
      "Similarity column 22222 (100.0%), 2467.42 column/sec. Elapsed time 9.01 sec\n",
      "EvaluatorHoldout: Processed 10446 (100.0%) in 7.03 sec. Users per second: 1485\n",
      "Unable to load Cython Compute_Similarity, reverting to Python\n",
      "Similarity column 22222 (100.0%), 2523.91 column/sec. Elapsed time 8.80 sec\n",
      "EvaluatorHoldout: Processed 10431 (100.0%) in 7.13 sec. Users per second: 1464\n",
      "Unable to load Cython Compute_Similarity, reverting to Python\n",
      "Similarity column 22222 (100.0%), 2483.49 column/sec. Elapsed time 8.95 sec\n",
      "EvaluatorHoldout: Processed 10473 (100.0%) in 7.06 sec. Users per second: 1484\n"
     ]
    },
    {
     "name": "stderr",
     "output_type": "stream",
     "text": [
      "[I 2023-12-11 16:01:40,613] Trial 70 finished with value: 0.044403460202774185 and parameters: {'topK': 10, 'shrink': 3.115943053846624}. Best is trial 67 with value: 0.04454118216405112.\n"
     ]
    },
    {
     "name": "stdout",
     "output_type": "stream",
     "text": [
      "Unable to load Cython Compute_Similarity, reverting to Python\n",
      "Similarity column 22222 (100.0%), 2537.66 column/sec. Elapsed time 8.76 sec\n",
      "EvaluatorHoldout: Processed 10446 (100.0%) in 6.98 sec. Users per second: 1497\n",
      "Unable to load Cython Compute_Similarity, reverting to Python\n",
      "Similarity column 22222 (100.0%), 2514.30 column/sec. Elapsed time 8.84 sec\n",
      "EvaluatorHoldout: Processed 10431 (100.0%) in 7.02 sec. Users per second: 1486\n",
      "Unable to load Cython Compute_Similarity, reverting to Python\n",
      "Similarity column 22222 (100.0%), 2491.64 column/sec. Elapsed time 8.92 sec\n",
      "EvaluatorHoldout: Processed 10473 (100.0%) in 7.05 sec. Users per second: 1486\n"
     ]
    },
    {
     "name": "stderr",
     "output_type": "stream",
     "text": [
      "[I 2023-12-11 16:02:28,290] Trial 71 finished with value: 0.044335425031766795 and parameters: {'topK': 10, 'shrink': 2.7889863701880184}. Best is trial 67 with value: 0.04454118216405112.\n"
     ]
    },
    {
     "name": "stdout",
     "output_type": "stream",
     "text": [
      "Unable to load Cython Compute_Similarity, reverting to Python\n",
      "Similarity column 22222 (100.0%), 2555.79 column/sec. Elapsed time 8.69 sec\n",
      "EvaluatorHoldout: Processed 10446 (100.0%) in 7.02 sec. Users per second: 1487\n",
      "Unable to load Cython Compute_Similarity, reverting to Python\n",
      "Similarity column 22222 (100.0%), 2571.08 column/sec. Elapsed time 8.64 sec\n",
      "EvaluatorHoldout: Processed 10431 (100.0%) in 7.02 sec. Users per second: 1486\n",
      "Unable to load Cython Compute_Similarity, reverting to Python\n",
      "Similarity column 22222 (100.0%), 2577.69 column/sec. Elapsed time 8.62 sec\n",
      "EvaluatorHoldout: Processed 10473 (100.0%) in 7.22 sec. Users per second: 1451\n"
     ]
    },
    {
     "name": "stderr",
     "output_type": "stream",
     "text": [
      "[I 2023-12-11 16:03:15,606] Trial 72 finished with value: 0.044257309096401805 and parameters: {'topK': 7, 'shrink': 3.190058646027434}. Best is trial 67 with value: 0.04454118216405112.\n"
     ]
    },
    {
     "name": "stdout",
     "output_type": "stream",
     "text": [
      "Unable to load Cython Compute_Similarity, reverting to Python\n",
      "Similarity column 22222 (100.0%), 2511.67 column/sec. Elapsed time 8.85 sec\n",
      "EvaluatorHoldout: Processed 10446 (100.0%) in 7.18 sec. Users per second: 1455\n",
      "Unable to load Cython Compute_Similarity, reverting to Python\n",
      "Similarity column 22222 (100.0%), 2489.69 column/sec. Elapsed time 8.93 sec\n",
      "EvaluatorHoldout: Processed 10431 (100.0%) in 7.03 sec. Users per second: 1484\n",
      "Unable to load Cython Compute_Similarity, reverting to Python\n",
      "Similarity column 22222 (100.0%), 2471.81 column/sec. Elapsed time 8.99 sec\n",
      "EvaluatorHoldout: Processed 10473 (100.0%) in 7.23 sec. Users per second: 1448\n"
     ]
    },
    {
     "name": "stderr",
     "output_type": "stream",
     "text": [
      "[I 2023-12-11 16:04:03,918] Trial 73 finished with value: 0.04450991164930479 and parameters: {'topK': 12, 'shrink': 5.102031711629472}. Best is trial 67 with value: 0.04454118216405112.\n"
     ]
    },
    {
     "name": "stdout",
     "output_type": "stream",
     "text": [
      "Unable to load Cython Compute_Similarity, reverting to Python\n",
      "Similarity column 22222 (100.0%), 3002.29 column/sec. Elapsed time 7.40 sec\n",
      "EvaluatorHoldout: Processed 10446 (100.0%) in 6.86 sec. Users per second: 1522\n",
      "Unable to load Cython Compute_Similarity, reverting to Python\n",
      "Similarity column 22222 (100.0%), 3074.99 column/sec. Elapsed time 7.23 sec\n",
      "EvaluatorHoldout: Processed 10431 (100.0%) in 6.99 sec. Users per second: 1492\n",
      "Unable to load Cython Compute_Similarity, reverting to Python\n",
      "Similarity column 22222 (100.0%), 3081.31 column/sec. Elapsed time 7.21 sec\n",
      "EvaluatorHoldout: Processed 10473 (100.0%) in 6.94 sec. Users per second: 1508\n"
     ]
    },
    {
     "name": "stderr",
     "output_type": "stream",
     "text": [
      "[I 2023-12-11 16:04:46,661] Trial 74 finished with value: 0.03590643184943197 and parameters: {'topK': 1, 'shrink': 6.8884695097819675}. Best is trial 67 with value: 0.04454118216405112.\n"
     ]
    },
    {
     "name": "stdout",
     "output_type": "stream",
     "text": [
      "Unable to load Cython Compute_Similarity, reverting to Python\n",
      "Similarity column 22222 (100.0%), 2483.52 column/sec. Elapsed time 8.95 sec\n",
      "EvaluatorHoldout: Processed 10446 (100.0%) in 7.06 sec. Users per second: 1480\n",
      "Unable to load Cython Compute_Similarity, reverting to Python\n",
      "Similarity column 22222 (100.0%), 2501.51 column/sec. Elapsed time 8.88 sec\n",
      "EvaluatorHoldout: Processed 10431 (100.0%) in 7.14 sec. Users per second: 1461\n",
      "Unable to load Cython Compute_Similarity, reverting to Python\n",
      "Similarity column 22222 (100.0%), 2433.29 column/sec. Elapsed time 9.13 sec\n",
      "EvaluatorHoldout: Processed 10473 (100.0%) in 7.10 sec. Users per second: 1475\n"
     ]
    },
    {
     "name": "stderr",
     "output_type": "stream",
     "text": [
      "[I 2023-12-11 16:05:35,029] Trial 75 finished with value: 0.044518395266175646 and parameters: {'topK': 12, 'shrink': 5.285155693740183}. Best is trial 67 with value: 0.04454118216405112.\n"
     ]
    },
    {
     "name": "stdout",
     "output_type": "stream",
     "text": [
      "Unable to load Cython Compute_Similarity, reverting to Python\n",
      "Similarity column 22222 (100.0%), 2489.71 column/sec. Elapsed time 8.93 sec\n",
      "EvaluatorHoldout: Processed 10446 (100.0%) in 7.31 sec. Users per second: 1429\n",
      "Unable to load Cython Compute_Similarity, reverting to Python\n",
      "Similarity column 22222 (100.0%), 2474.43 column/sec. Elapsed time 8.98 sec\n",
      "EvaluatorHoldout: Processed 10431 (100.0%) in 7.28 sec. Users per second: 1432\n",
      "Unable to load Cython Compute_Similarity, reverting to Python\n",
      "Similarity column 22222 (100.0%), 2512.92 column/sec. Elapsed time 8.84 sec\n",
      "EvaluatorHoldout: Processed 10473 (100.0%) in 7.12 sec. Users per second: 1472\n"
     ]
    },
    {
     "name": "stderr",
     "output_type": "stream",
     "text": [
      "[I 2023-12-11 16:06:23,601] Trial 76 finished with value: 0.04453324570561786 and parameters: {'topK': 12, 'shrink': 5.136587920414076}. Best is trial 67 with value: 0.04454118216405112.\n"
     ]
    },
    {
     "name": "stdout",
     "output_type": "stream",
     "text": [
      "Unable to load Cython Compute_Similarity, reverting to Python\n",
      "Similarity column 22222 (100.0%), 2463.99 column/sec. Elapsed time 9.02 sec\n",
      "EvaluatorHoldout: Processed 10446 (100.0%) in 7.12 sec. Users per second: 1467\n",
      "Unable to load Cython Compute_Similarity, reverting to Python\n",
      "Similarity column 22222 (100.0%), 2477.84 column/sec. Elapsed time 8.97 sec\n",
      "EvaluatorHoldout: Processed 10431 (100.0%) in 7.15 sec. Users per second: 1458\n",
      "Unable to load Cython Compute_Similarity, reverting to Python\n",
      "Similarity column 22222 (100.0%), 2463.78 column/sec. Elapsed time 9.02 sec\n",
      "EvaluatorHoldout: Processed 10473 (100.0%) in 7.10 sec. Users per second: 1476\n"
     ]
    },
    {
     "name": "stderr",
     "output_type": "stream",
     "text": [
      "[I 2023-12-11 16:07:12,092] Trial 77 finished with value: 0.044438740712936936 and parameters: {'topK': 12, 'shrink': 4.882545626823571}. Best is trial 67 with value: 0.04454118216405112.\n"
     ]
    },
    {
     "name": "stdout",
     "output_type": "stream",
     "text": [
      "Unable to load Cython Compute_Similarity, reverting to Python\n",
      "Similarity column 22222 (100.0%), 2506.35 column/sec. Elapsed time 8.87 sec\n",
      "EvaluatorHoldout: Processed 10446 (100.0%) in 7.10 sec. Users per second: 1470\n",
      "Unable to load Cython Compute_Similarity, reverting to Python\n",
      "Similarity column 22222 (100.0%), 2581.92 column/sec. Elapsed time 8.61 sec\n",
      "EvaluatorHoldout: Processed 10431 (100.0%) in 7.12 sec. Users per second: 1465\n",
      "Unable to load Cython Compute_Similarity, reverting to Python\n",
      "Similarity column 22222 (100.0%), 2570.30 column/sec. Elapsed time 8.65 sec\n",
      "EvaluatorHoldout: Processed 10473 (100.0%) in 7.09 sec. Users per second: 1477\n"
     ]
    },
    {
     "name": "stderr",
     "output_type": "stream",
     "text": [
      "[I 2023-12-11 16:07:59,627] Trial 78 finished with value: 0.0440482794825287 and parameters: {'topK': 6, 'shrink': 1.705587927064554}. Best is trial 67 with value: 0.04454118216405112.\n"
     ]
    },
    {
     "name": "stdout",
     "output_type": "stream",
     "text": [
      "Unable to load Cython Compute_Similarity, reverting to Python\n",
      "Similarity column 22222 (100.0%), 2454.89 column/sec. Elapsed time 9.05 sec\n",
      "EvaluatorHoldout: Processed 10446 (100.0%) in 7.14 sec. Users per second: 1462\n",
      "Unable to load Cython Compute_Similarity, reverting to Python\n",
      "Similarity column 22222 (100.0%), 2506.11 column/sec. Elapsed time 8.87 sec\n",
      "EvaluatorHoldout: Processed 10431 (100.0%) in 7.15 sec. Users per second: 1459\n",
      "Unable to load Cython Compute_Similarity, reverting to Python\n",
      "Similarity column 22222 (100.0%), 2491.40 column/sec. Elapsed time 8.92 sec\n",
      "EvaluatorHoldout: Processed 10473 (100.0%) in 7.19 sec. Users per second: 1458\n"
     ]
    },
    {
     "name": "stderr",
     "output_type": "stream",
     "text": [
      "[I 2023-12-11 16:08:48,049] Trial 79 finished with value: 0.04443397240175475 and parameters: {'topK': 11, 'shrink': 4.876430953802444}. Best is trial 67 with value: 0.04454118216405112.\n"
     ]
    },
    {
     "name": "stdout",
     "output_type": "stream",
     "text": [
      "Unable to load Cython Compute_Similarity, reverting to Python\n",
      "Similarity column 22222 (100.0%), 2516.00 column/sec. Elapsed time 8.83 sec\n",
      "EvaluatorHoldout: Processed 10446 (100.0%) in 7.14 sec. Users per second: 1464\n",
      "Unable to load Cython Compute_Similarity, reverting to Python\n",
      "Similarity column 22222 (100.0%), 2627.12 column/sec. Elapsed time 8.46 sec\n",
      "EvaluatorHoldout: Processed 10431 (100.0%) in 7.14 sec. Users per second: 1461\n",
      "Unable to load Cython Compute_Similarity, reverting to Python\n",
      "Similarity column 22222 (100.0%), 2617.32 column/sec. Elapsed time 8.49 sec\n",
      "EvaluatorHoldout: Processed 10473 (100.0%) in 7.08 sec. Users per second: 1479\n"
     ]
    },
    {
     "name": "stderr",
     "output_type": "stream",
     "text": [
      "[I 2023-12-11 16:09:35,294] Trial 80 finished with value: 0.04239106590717994 and parameters: {'topK': 3, 'shrink': 4.119619376660621}. Best is trial 67 with value: 0.04454118216405112.\n"
     ]
    },
    {
     "name": "stdout",
     "output_type": "stream",
     "text": [
      "Unable to load Cython Compute_Similarity, reverting to Python\n",
      "Similarity column 22222 (100.0%), 2487.53 column/sec. Elapsed time 8.93 sec\n",
      "EvaluatorHoldout: Processed 10446 (100.0%) in 7.13 sec. Users per second: 1464\n",
      "Unable to load Cython Compute_Similarity, reverting to Python\n",
      "Similarity column 22222 (100.0%), 2541.42 column/sec. Elapsed time 8.74 sec\n",
      "EvaluatorHoldout: Processed 10431 (100.0%) in 7.08 sec. Users per second: 1474\n",
      "Unable to load Cython Compute_Similarity, reverting to Python\n",
      "Similarity column 22222 (100.0%), 2505.70 column/sec. Elapsed time 8.87 sec\n",
      "EvaluatorHoldout: Processed 10473 (100.0%) in 7.19 sec. Users per second: 1457\n"
     ]
    },
    {
     "name": "stderr",
     "output_type": "stream",
     "text": [
      "[I 2023-12-11 16:10:23,347] Trial 81 finished with value: 0.04447257899679291 and parameters: {'topK': 8, 'shrink': 5.094434605879758}. Best is trial 67 with value: 0.04454118216405112.\n"
     ]
    },
    {
     "name": "stdout",
     "output_type": "stream",
     "text": [
      "Unable to load Cython Compute_Similarity, reverting to Python\n",
      "Similarity column 22222 (100.0%), 1977.31 column/sec. Elapsed time 11.24 sec\n",
      "EvaluatorHoldout: Processed 10446 (100.0%) in 8.28 sec. Users per second: 1261\n",
      "Unable to load Cython Compute_Similarity, reverting to Python\n",
      "Similarity column 22222 (100.0%), 2035.78 column/sec. Elapsed time 10.92 sec\n",
      "EvaluatorHoldout: Processed 10431 (100.0%) in 8.17 sec. Users per second: 1276\n",
      "Unable to load Cython Compute_Similarity, reverting to Python\n",
      "Similarity column 22222 (100.0%), 2028.48 column/sec. Elapsed time 10.95 sec\n",
      "EvaluatorHoldout: Processed 10473 (100.0%) in 8.28 sec. Users per second: 1265\n"
     ]
    },
    {
     "name": "stderr",
     "output_type": "stream",
     "text": [
      "[I 2023-12-11 16:11:21,442] Trial 82 finished with value: 0.04238454622690824 and parameters: {'topK': 95, 'shrink': 6.864510614253807}. Best is trial 67 with value: 0.04454118216405112.\n"
     ]
    },
    {
     "name": "stdout",
     "output_type": "stream",
     "text": [
      "Unable to load Cython Compute_Similarity, reverting to Python\n",
      "Similarity column 22222 (100.0%), 2533.87 column/sec. Elapsed time 8.77 sec\n",
      "EvaluatorHoldout: Processed 10446 (100.0%) in 7.11 sec. Users per second: 1470\n",
      "Unable to load Cython Compute_Similarity, reverting to Python\n",
      "Similarity column 22222 (100.0%), 2550.65 column/sec. Elapsed time 8.71 sec\n",
      "EvaluatorHoldout: Processed 10431 (100.0%) in 7.16 sec. Users per second: 1457\n",
      "Unable to load Cython Compute_Similarity, reverting to Python\n",
      "Similarity column 22222 (100.0%), 2523.58 column/sec. Elapsed time 8.81 sec\n",
      "EvaluatorHoldout: Processed 10473 (100.0%) in 7.19 sec. Users per second: 1458\n"
     ]
    },
    {
     "name": "stderr",
     "output_type": "stream",
     "text": [
      "[I 2023-12-11 16:12:09,297] Trial 83 finished with value: 0.04446778490478761 and parameters: {'topK': 8, 'shrink': 4.9409372806689715}. Best is trial 67 with value: 0.04454118216405112.\n"
     ]
    },
    {
     "name": "stdout",
     "output_type": "stream",
     "text": [
      "Unable to load Cython Compute_Similarity, reverting to Python\n",
      "Similarity column 22222 (100.0%), 2507.29 column/sec. Elapsed time 8.86 sec\n",
      "EvaluatorHoldout: Processed 10446 (100.0%) in 7.05 sec. Users per second: 1482\n",
      "Unable to load Cython Compute_Similarity, reverting to Python\n",
      "Similarity column 22222 (100.0%), 2544.83 column/sec. Elapsed time 8.73 sec\n",
      "EvaluatorHoldout: Processed 10431 (100.0%) in 7.00 sec. Users per second: 1491\n",
      "Unable to load Cython Compute_Similarity, reverting to Python\n",
      "Similarity column 22222 (100.0%), 2527.47 column/sec. Elapsed time 8.79 sec\n",
      "EvaluatorHoldout: Processed 10473 (100.0%) in 7.00 sec. Users per second: 1496\n"
     ]
    },
    {
     "name": "stderr",
     "output_type": "stream",
     "text": [
      "[I 2023-12-11 16:12:56,833] Trial 84 finished with value: 0.0431105861317246 and parameters: {'topK': 8, 'shrink': 0.2906644296389853}. Best is trial 67 with value: 0.04454118216405112.\n"
     ]
    },
    {
     "name": "stdout",
     "output_type": "stream",
     "text": [
      "Unable to load Cython Compute_Similarity, reverting to Python\n",
      "Similarity column 22222 (100.0%), 2582.44 column/sec. Elapsed time 8.61 sec\n",
      "EvaluatorHoldout: Processed 10446 (100.0%) in 7.09 sec. Users per second: 1472\n",
      "Unable to load Cython Compute_Similarity, reverting to Python\n",
      "Similarity column 22222 (100.0%), 2584.68 column/sec. Elapsed time 8.60 sec\n",
      "EvaluatorHoldout: Processed 10431 (100.0%) in 6.94 sec. Users per second: 1503\n",
      "Unable to load Cython Compute_Similarity, reverting to Python\n",
      "Similarity column 22222 (100.0%), 2604.45 column/sec. Elapsed time 8.53 sec\n",
      "EvaluatorHoldout: Processed 10473 (100.0%) in 7.03 sec. Users per second: 1490\n"
     ]
    },
    {
     "name": "stderr",
     "output_type": "stream",
     "text": [
      "[I 2023-12-11 16:13:43,732] Trial 85 finished with value: 0.042041868269676284 and parameters: {'topK': 3, 'shrink': 2.0780557557057553}. Best is trial 67 with value: 0.04454118216405112.\n"
     ]
    },
    {
     "name": "stdout",
     "output_type": "stream",
     "text": [
      "Unable to load Cython Compute_Similarity, reverting to Python\n",
      "Similarity column 22222 (100.0%), 2511.00 column/sec. Elapsed time 8.85 sec\n",
      "EvaluatorHoldout: Processed 10446 (100.0%) in 7.00 sec. Users per second: 1492\n",
      "Unable to load Cython Compute_Similarity, reverting to Python\n",
      "Similarity column 22222 (100.0%), 2535.62 column/sec. Elapsed time 8.76 sec\n",
      "EvaluatorHoldout: Processed 10431 (100.0%) in 7.08 sec. Users per second: 1473\n",
      "Unable to load Cython Compute_Similarity, reverting to Python\n",
      "Similarity column 22222 (100.0%), 2477.43 column/sec. Elapsed time 8.97 sec\n",
      "EvaluatorHoldout: Processed 10473 (100.0%) in 7.04 sec. Users per second: 1488\n"
     ]
    },
    {
     "name": "stderr",
     "output_type": "stream",
     "text": [
      "[I 2023-12-11 16:14:31,539] Trial 86 finished with value: 0.04447661691902501 and parameters: {'topK': 8, 'shrink': 5.336327696500932}. Best is trial 67 with value: 0.04454118216405112.\n"
     ]
    },
    {
     "name": "stdout",
     "output_type": "stream",
     "text": [
      "Unable to load Cython Compute_Similarity, reverting to Python\n",
      "Similarity column 22222 (100.0%), 2463.22 column/sec. Elapsed time 9.02 sec\n",
      "EvaluatorHoldout: Processed 10446 (100.0%) in 7.19 sec. Users per second: 1453\n",
      "Unable to load Cython Compute_Similarity, reverting to Python\n",
      "Similarity column 22222 (100.0%), 2454.83 column/sec. Elapsed time 9.05 sec\n",
      "EvaluatorHoldout: Processed 10431 (100.0%) in 7.27 sec. Users per second: 1435\n",
      "Unable to load Cython Compute_Similarity, reverting to Python\n",
      "Similarity column 22222 (100.0%), 2510.15 column/sec. Elapsed time 8.85 sec\n",
      "EvaluatorHoldout: Processed 10473 (100.0%) in 7.21 sec. Users per second: 1453\n"
     ]
    },
    {
     "name": "stderr",
     "output_type": "stream",
     "text": [
      "[I 2023-12-11 16:15:20,236] Trial 87 finished with value: 0.04446202835980728 and parameters: {'topK': 13, 'shrink': 7.111001321872898}. Best is trial 67 with value: 0.04454118216405112.\n"
     ]
    },
    {
     "name": "stdout",
     "output_type": "stream",
     "text": [
      "Unable to load Cython Compute_Similarity, reverting to Python\n",
      "Similarity column 22222 (100.0%), 2515.39 column/sec. Elapsed time 8.83 sec\n",
      "EvaluatorHoldout: Processed 10446 (100.0%) in 6.86 sec. Users per second: 1523\n",
      "Unable to load Cython Compute_Similarity, reverting to Python\n",
      "Similarity column 22222 (100.0%), 2522.72 column/sec. Elapsed time 8.81 sec\n",
      "EvaluatorHoldout: Processed 10431 (100.0%) in 7.01 sec. Users per second: 1489\n",
      "Unable to load Cython Compute_Similarity, reverting to Python\n",
      "Similarity column 22222 (100.0%), 2531.95 column/sec. Elapsed time 8.78 sec\n",
      "EvaluatorHoldout: Processed 10473 (100.0%) in 7.10 sec. Users per second: 1475\n"
     ]
    },
    {
     "name": "stderr",
     "output_type": "stream",
     "text": [
      "[I 2023-12-11 16:16:07,725] Trial 88 finished with value: 0.04357427974796793 and parameters: {'topK': 4, 'shrink': 3.9939464643472586}. Best is trial 67 with value: 0.04454118216405112.\n"
     ]
    },
    {
     "name": "stdout",
     "output_type": "stream",
     "text": [
      "Unable to load Cython Compute_Similarity, reverting to Python\n",
      "Similarity column 22222 (100.0%), 2175.38 column/sec. Elapsed time 10.22 sec\n",
      "EvaluatorHoldout: Processed 10446 (100.0%) in 8.19 sec. Users per second: 1275\n",
      "Unable to load Cython Compute_Similarity, reverting to Python\n",
      "Similarity column 22222 (100.0%), 2162.32 column/sec. Elapsed time 10.28 sec\n",
      "EvaluatorHoldout: Processed 10431 (100.0%) in 7.68 sec. Users per second: 1357\n",
      "Unable to load Cython Compute_Similarity, reverting to Python\n",
      "Similarity column 22222 (100.0%), 2139.08 column/sec. Elapsed time 10.39 sec\n",
      "EvaluatorHoldout: Processed 10473 (100.0%) in 7.94 sec. Users per second: 1319\n"
     ]
    },
    {
     "name": "stderr",
     "output_type": "stream",
     "text": [
      "[I 2023-12-11 16:17:02,644] Trial 89 finished with value: 0.04273606940642974 and parameters: {'topK': 68, 'shrink': 5.348122535660611}. Best is trial 67 with value: 0.04454118216405112.\n"
     ]
    },
    {
     "name": "stdout",
     "output_type": "stream",
     "text": [
      "Unable to load Cython Compute_Similarity, reverting to Python\n",
      "Similarity column 22222 (100.0%), 2418.50 column/sec. Elapsed time 9.19 sec\n",
      "EvaluatorHoldout: Processed 10446 (100.0%) in 7.52 sec. Users per second: 1389\n",
      "Unable to load Cython Compute_Similarity, reverting to Python\n",
      "Similarity column 22222 (100.0%), 2415.96 column/sec. Elapsed time 9.20 sec\n",
      "EvaluatorHoldout: Processed 10431 (100.0%) in 7.32 sec. Users per second: 1425\n",
      "Unable to load Cython Compute_Similarity, reverting to Python\n",
      "Similarity column 22222 (100.0%), 2430.14 column/sec. Elapsed time 9.14 sec\n",
      "EvaluatorHoldout: Processed 10473 (100.0%) in 7.33 sec. Users per second: 1430\n"
     ]
    },
    {
     "name": "stderr",
     "output_type": "stream",
     "text": [
      "[I 2023-12-11 16:17:52,479] Trial 90 finished with value: 0.04416689396561153 and parameters: {'topK': 25, 'shrink': 5.448939077309257}. Best is trial 67 with value: 0.04454118216405112.\n"
     ]
    },
    {
     "name": "stdout",
     "output_type": "stream",
     "text": [
      "Unable to load Cython Compute_Similarity, reverting to Python\n",
      "Similarity column 22222 (100.0%), 2460.95 column/sec. Elapsed time 9.03 sec\n",
      "EvaluatorHoldout: Processed 10446 (100.0%) in 7.18 sec. Users per second: 1455\n",
      "Unable to load Cython Compute_Similarity, reverting to Python\n",
      "Similarity column 22222 (100.0%), 2525.43 column/sec. Elapsed time 8.80 sec\n",
      "EvaluatorHoldout: Processed 10431 (100.0%) in 7.12 sec. Users per second: 1465\n",
      "Unable to load Cython Compute_Similarity, reverting to Python\n",
      "Similarity column 22222 (100.0%), 2488.05 column/sec. Elapsed time 8.93 sec\n",
      "EvaluatorHoldout: Processed 10473 (100.0%) in 7.13 sec. Users per second: 1470\n"
     ]
    },
    {
     "name": "stderr",
     "output_type": "stream",
     "text": [
      "[I 2023-12-11 16:18:40,777] Trial 91 finished with value: 0.04449666816860029 and parameters: {'topK': 8, 'shrink': 4.825201726985343}. Best is trial 67 with value: 0.04454118216405112.\n"
     ]
    },
    {
     "name": "stdout",
     "output_type": "stream",
     "text": [
      "Unable to load Cython Compute_Similarity, reverting to Python\n",
      "Similarity column 22222 (100.0%), 2462.34 column/sec. Elapsed time 9.02 sec\n",
      "EvaluatorHoldout: Processed 10446 (100.0%) in 7.17 sec. Users per second: 1457\n",
      "Unable to load Cython Compute_Similarity, reverting to Python\n",
      "Similarity column 22222 (100.0%), 2519.01 column/sec. Elapsed time 8.82 sec\n",
      "EvaluatorHoldout: Processed 10431 (100.0%) in 7.26 sec. Users per second: 1436\n",
      "Unable to load Cython Compute_Similarity, reverting to Python\n",
      "Similarity column 22222 (100.0%), 2473.13 column/sec. Elapsed time 8.99 sec\n",
      "EvaluatorHoldout: Processed 10473 (100.0%) in 7.21 sec. Users per second: 1452\n"
     ]
    },
    {
     "name": "stderr",
     "output_type": "stream",
     "text": [
      "[I 2023-12-11 16:19:29,359] Trial 92 finished with value: 0.04442006267293761 and parameters: {'topK': 12, 'shrink': 3.9664215764462325}. Best is trial 67 with value: 0.04454118216405112.\n"
     ]
    },
    {
     "name": "stdout",
     "output_type": "stream",
     "text": [
      "Unable to load Cython Compute_Similarity, reverting to Python\n",
      "Similarity column 22222 (100.0%), 2495.91 column/sec. Elapsed time 8.90 sec\n",
      "EvaluatorHoldout: Processed 10446 (100.0%) in 7.11 sec. Users per second: 1468\n",
      "Unable to load Cython Compute_Similarity, reverting to Python\n",
      "Similarity column 22222 (100.0%), 2496.43 column/sec. Elapsed time 8.90 sec\n",
      "EvaluatorHoldout: Processed 10431 (100.0%) in 7.19 sec. Users per second: 1451\n",
      "Unable to load Cython Compute_Similarity, reverting to Python\n",
      "Similarity column 22222 (100.0%), 2554.05 column/sec. Elapsed time 8.70 sec\n",
      "EvaluatorHoldout: Processed 10473 (100.0%) in 7.13 sec. Users per second: 1469\n"
     ]
    },
    {
     "name": "stderr",
     "output_type": "stream",
     "text": [
      "[I 2023-12-11 16:20:17,402] Trial 93 finished with value: 0.044424136658264134 and parameters: {'topK': 7, 'shrink': 6.744356271591087}. Best is trial 67 with value: 0.04454118216405112.\n"
     ]
    },
    {
     "name": "stdout",
     "output_type": "stream",
     "text": [
      "Unable to load Cython Compute_Similarity, reverting to Python\n",
      "Similarity column 22222 (100.0%), 2521.42 column/sec. Elapsed time 8.81 sec\n",
      "EvaluatorHoldout: Processed 10446 (100.0%) in 7.05 sec. Users per second: 1481\n",
      "Unable to load Cython Compute_Similarity, reverting to Python\n",
      "Similarity column 22222 (100.0%), 2517.75 column/sec. Elapsed time 8.83 sec\n",
      "EvaluatorHoldout: Processed 10431 (100.0%) in 7.24 sec. Users per second: 1441\n",
      "Unable to load Cython Compute_Similarity, reverting to Python\n",
      "Similarity column 22222 (100.0%), 2447.21 column/sec. Elapsed time 9.08 sec\n",
      "EvaluatorHoldout: Processed 10473 (100.0%) in 7.15 sec. Users per second: 1466\n"
     ]
    },
    {
     "name": "stderr",
     "output_type": "stream",
     "text": [
      "[I 2023-12-11 16:21:05,669] Trial 94 finished with value: 0.04448195049687029 and parameters: {'topK': 9, 'shrink': 6.340209023416461}. Best is trial 67 with value: 0.04454118216405112.\n"
     ]
    },
    {
     "name": "stdout",
     "output_type": "stream",
     "text": [
      "Unable to load Cython Compute_Similarity, reverting to Python\n",
      "Similarity column 22222 (100.0%), 3022.40 column/sec. Elapsed time 7.35 sec\n",
      "EvaluatorHoldout: Processed 10446 (100.0%) in 6.87 sec. Users per second: 1521\n",
      "Unable to load Cython Compute_Similarity, reverting to Python\n",
      "Similarity column 22222 (100.0%), 2992.88 column/sec. Elapsed time 7.42 sec\n",
      "EvaluatorHoldout: Processed 10431 (100.0%) in 6.85 sec. Users per second: 1522\n",
      "Unable to load Cython Compute_Similarity, reverting to Python\n",
      "Similarity column 22222 (100.0%), 3016.84 column/sec. Elapsed time 7.37 sec\n",
      "EvaluatorHoldout: Processed 10473 (100.0%) in 6.85 sec. Users per second: 1529\n"
     ]
    },
    {
     "name": "stderr",
     "output_type": "stream",
     "text": [
      "[I 2023-12-11 16:21:48,485] Trial 95 finished with value: 0.0358910644474646 and parameters: {'topK': 1, 'shrink': 6.300004300866345}. Best is trial 67 with value: 0.04454118216405112.\n"
     ]
    },
    {
     "name": "stdout",
     "output_type": "stream",
     "text": [
      "Unable to load Cython Compute_Similarity, reverting to Python\n",
      "Similarity column 22222 (100.0%), 2528.36 column/sec. Elapsed time 8.79 sec\n",
      "EvaluatorHoldout: Processed 10446 (100.0%) in 7.12 sec. Users per second: 1468\n",
      "Unable to load Cython Compute_Similarity, reverting to Python\n",
      "Similarity column 22222 (100.0%), 2557.57 column/sec. Elapsed time 8.69 sec\n",
      "EvaluatorHoldout: Processed 10431 (100.0%) in 7.05 sec. Users per second: 1480\n",
      "Unable to load Cython Compute_Similarity, reverting to Python\n",
      "Similarity column 22222 (100.0%), 2546.52 column/sec. Elapsed time 8.73 sec\n",
      "EvaluatorHoldout: Processed 10473 (100.0%) in 7.10 sec. Users per second: 1475\n"
     ]
    },
    {
     "name": "stderr",
     "output_type": "stream",
     "text": [
      "[I 2023-12-11 16:22:36,070] Trial 96 finished with value: 0.044002813106003846 and parameters: {'topK': 5, 'shrink': 7.430909754307412}. Best is trial 67 with value: 0.04454118216405112.\n"
     ]
    },
    {
     "name": "stdout",
     "output_type": "stream",
     "text": [
      "Unable to load Cython Compute_Similarity, reverting to Python\n",
      "Similarity column 22222 (100.0%), 2384.43 column/sec. Elapsed time 9.32 sec\n",
      "EvaluatorHoldout: Processed 10446 (100.0%) in 7.15 sec. Users per second: 1460\n",
      "Unable to load Cython Compute_Similarity, reverting to Python\n",
      "Similarity column 22222 (100.0%), 2529.39 column/sec. Elapsed time 8.79 sec\n",
      "EvaluatorHoldout: Processed 10431 (100.0%) in 7.11 sec. Users per second: 1467\n",
      "Unable to load Cython Compute_Similarity, reverting to Python\n",
      "Similarity column 22222 (100.0%), 2499.58 column/sec. Elapsed time 8.89 sec\n",
      "EvaluatorHoldout: Processed 10473 (100.0%) in 7.40 sec. Users per second: 1416\n"
     ]
    },
    {
     "name": "stderr",
     "output_type": "stream",
     "text": [
      "[I 2023-12-11 16:23:24,836] Trial 97 finished with value: 0.04450894507600741 and parameters: {'topK': 10, 'shrink': 4.4696636828167815}. Best is trial 67 with value: 0.04454118216405112.\n"
     ]
    },
    {
     "name": "stdout",
     "output_type": "stream",
     "text": [
      "Unable to load Cython Compute_Similarity, reverting to Python\n",
      "Similarity column 22222 (100.0%), 2473.01 column/sec. Elapsed time 8.99 sec\n",
      "EvaluatorHoldout: Processed 10446 (100.0%) in 8.27 sec. Users per second: 1262\n",
      "Unable to load Cython Compute_Similarity, reverting to Python\n",
      "Similarity column 22222 (100.0%), 2492.27 column/sec. Elapsed time 8.92 sec\n",
      "EvaluatorHoldout: Processed 10431 (100.0%) in 7.22 sec. Users per second: 1444\n",
      "Unable to load Cython Compute_Similarity, reverting to Python\n",
      "Similarity column 22222 (100.0%), 2502.20 column/sec. Elapsed time 8.88 sec\n",
      "EvaluatorHoldout: Processed 10473 (100.0%) in 7.03 sec. Users per second: 1489\n"
     ]
    },
    {
     "name": "stderr",
     "output_type": "stream",
     "text": [
      "[I 2023-12-11 16:24:14,261] Trial 98 finished with value: 0.04447277724417623 and parameters: {'topK': 11, 'shrink': 4.4838621854381495}. Best is trial 67 with value: 0.04454118216405112.\n"
     ]
    },
    {
     "name": "stdout",
     "output_type": "stream",
     "text": [
      "Unable to load Cython Compute_Similarity, reverting to Python\n",
      "Similarity column 22222 (100.0%), 2423.23 column/sec. Elapsed time 9.17 sec\n",
      "EvaluatorHoldout: Processed 10446 (100.0%) in 7.20 sec. Users per second: 1451\n",
      "Unable to load Cython Compute_Similarity, reverting to Python\n",
      "Similarity column 22222 (100.0%), 2516.11 column/sec. Elapsed time 8.83 sec\n",
      "EvaluatorHoldout: Processed 10431 (100.0%) in 7.15 sec. Users per second: 1458\n",
      "Unable to load Cython Compute_Similarity, reverting to Python\n",
      "Similarity column 22222 (100.0%), 2513.26 column/sec. Elapsed time 8.84 sec\n",
      "EvaluatorHoldout: Processed 10473 (100.0%) in 7.24 sec. Users per second: 1446\n"
     ]
    },
    {
     "name": "stderr",
     "output_type": "stream",
     "text": [
      "[I 2023-12-11 16:25:02,816] Trial 99 finished with value: 0.04457369948368428 and parameters: {'topK': 13, 'shrink': 5.852453481728016}. Best is trial 99 with value: 0.04457369948368428.\n"
     ]
    },
    {
     "name": "stdout",
     "output_type": "stream",
     "text": [
      "Unable to load Cython Compute_Similarity, reverting to Python\n",
      "Similarity column 22222 (100.0%), 2422.56 column/sec. Elapsed time 9.17 sec\n",
      "EvaluatorHoldout: Processed 10446 (100.0%) in 7.18 sec. Users per second: 1455\n",
      "Unable to load Cython Compute_Similarity, reverting to Python\n",
      "Similarity column 22222 (100.0%), 2423.89 column/sec. Elapsed time 9.17 sec\n",
      "EvaluatorHoldout: Processed 10431 (100.0%) in 7.13 sec. Users per second: 1464\n",
      "Unable to load Cython Compute_Similarity, reverting to Python\n",
      "Similarity column 22222 (100.0%), 2417.53 column/sec. Elapsed time 9.19 sec\n",
      "EvaluatorHoldout: Processed 10473 (100.0%) in 7.18 sec. Users per second: 1458\n"
     ]
    },
    {
     "name": "stderr",
     "output_type": "stream",
     "text": [
      "[I 2023-12-11 16:25:51,960] Trial 100 finished with value: 0.04419398747323067 and parameters: {'topK': 20, 'shrink': 3.6155550228015034}. Best is trial 99 with value: 0.04457369948368428.\n"
     ]
    },
    {
     "name": "stdout",
     "output_type": "stream",
     "text": [
      "Unable to load Cython Compute_Similarity, reverting to Python\n",
      "Similarity column 22222 (100.0%), 2503.89 column/sec. Elapsed time 8.87 sec\n",
      "EvaluatorHoldout: Processed 10446 (100.0%) in 7.16 sec. Users per second: 1459\n",
      "Unable to load Cython Compute_Similarity, reverting to Python\n",
      "Similarity column 22222 (100.0%), 2481.30 column/sec. Elapsed time 8.96 sec\n",
      "EvaluatorHoldout: Processed 10431 (100.0%) in 7.17 sec. Users per second: 1455\n",
      "Unable to load Cython Compute_Similarity, reverting to Python\n",
      "Similarity column 22222 (100.0%), 2461.79 column/sec. Elapsed time 9.03 sec\n",
      "EvaluatorHoldout: Processed 10473 (100.0%) in 7.13 sec. Users per second: 1470\n"
     ]
    },
    {
     "name": "stderr",
     "output_type": "stream",
     "text": [
      "[I 2023-12-11 16:26:40,382] Trial 101 finished with value: 0.044386156406206224 and parameters: {'topK': 14, 'shrink': 4.417027115151341}. Best is trial 99 with value: 0.04457369948368428.\n"
     ]
    },
    {
     "name": "stdout",
     "output_type": "stream",
     "text": [
      "Unable to load Cython Compute_Similarity, reverting to Python\n",
      "Similarity column 22222 (100.0%), 2431.33 column/sec. Elapsed time 9.14 sec\n",
      "EvaluatorHoldout: Processed 10446 (100.0%) in 9.74 sec. Users per second: 1073\n",
      "Unable to load Cython Compute_Similarity, reverting to Python\n",
      "Similarity column 22222 (100.0%), 2398.26 column/sec. Elapsed time 9.27 sec\n",
      "EvaluatorHoldout: Processed 10431 (100.0%) in 7.19 sec. Users per second: 1452\n",
      "Unable to load Cython Compute_Similarity, reverting to Python\n",
      "Similarity column 22222 (100.0%), 2469.39 column/sec. Elapsed time 9.00 sec\n",
      "EvaluatorHoldout: Processed 10473 (100.0%) in 7.32 sec. Users per second: 1431\n"
     ]
    },
    {
     "name": "stderr",
     "output_type": "stream",
     "text": [
      "[I 2023-12-11 16:27:32,142] Trial 102 finished with value: 0.0441769270989237 and parameters: {'topK': 17, 'shrink': 3.602565605975186}. Best is trial 99 with value: 0.04457369948368428.\n"
     ]
    },
    {
     "name": "stdout",
     "output_type": "stream",
     "text": [
      "Unable to load Cython Compute_Similarity, reverting to Python\n",
      "Similarity column 22222 (100.0%), 2478.36 column/sec. Elapsed time 8.97 sec\n",
      "EvaluatorHoldout: Processed 10446 (100.0%) in 7.09 sec. Users per second: 1473\n",
      "Unable to load Cython Compute_Similarity, reverting to Python\n",
      "Similarity column 22222 (100.0%), 2494.50 column/sec. Elapsed time 8.91 sec\n",
      "EvaluatorHoldout: Processed 10431 (100.0%) in 7.09 sec. Users per second: 1472\n",
      "Unable to load Cython Compute_Similarity, reverting to Python\n",
      "Similarity column 22222 (100.0%), 2509.67 column/sec. Elapsed time 8.85 sec\n",
      "EvaluatorHoldout: Processed 10473 (100.0%) in 7.89 sec. Users per second: 1328\n"
     ]
    },
    {
     "name": "stderr",
     "output_type": "stream",
     "text": [
      "[I 2023-12-11 16:28:21,056] Trial 103 finished with value: 0.044510073132691196 and parameters: {'topK': 10, 'shrink': 6.211128083560887}. Best is trial 99 with value: 0.04457369948368428.\n"
     ]
    },
    {
     "name": "stdout",
     "output_type": "stream",
     "text": [
      "Unable to load Cython Compute_Similarity, reverting to Python\n",
      "Similarity column 22222 (100.0%), 2486.63 column/sec. Elapsed time 8.94 sec\n",
      "EvaluatorHoldout: Processed 10446 (100.0%) in 7.14 sec. Users per second: 1464\n",
      "Unable to load Cython Compute_Similarity, reverting to Python\n",
      "Similarity column 22222 (100.0%), 2465.97 column/sec. Elapsed time 9.01 sec\n",
      "EvaluatorHoldout: Processed 10431 (100.0%) in 7.15 sec. Users per second: 1458\n",
      "Unable to load Cython Compute_Similarity, reverting to Python\n",
      "Similarity column 22222 (100.0%), 2429.79 column/sec. Elapsed time 9.15 sec\n",
      "EvaluatorHoldout: Processed 10473 (100.0%) in 7.25 sec. Users per second: 1444\n"
     ]
    },
    {
     "name": "stderr",
     "output_type": "stream",
     "text": [
      "[I 2023-12-11 16:29:09,809] Trial 104 finished with value: 0.044578756473495164 and parameters: {'topK': 13, 'shrink': 5.467635040255565}. Best is trial 104 with value: 0.044578756473495164.\n"
     ]
    },
    {
     "name": "stdout",
     "output_type": "stream",
     "text": [
      "Unable to load Cython Compute_Similarity, reverting to Python\n",
      "Similarity column 22222 (100.0%), 2295.85 column/sec. Elapsed time 9.68 sec\n",
      "EvaluatorHoldout: Processed 10446 (100.0%) in 7.24 sec. Users per second: 1442\n",
      "Unable to load Cython Compute_Similarity, reverting to Python\n",
      "Similarity column 22222 (100.0%), 2499.63 column/sec. Elapsed time 8.89 sec\n",
      "EvaluatorHoldout: Processed 10431 (100.0%) in 7.15 sec. Users per second: 1459\n",
      "Unable to load Cython Compute_Similarity, reverting to Python\n",
      "Similarity column 22222 (100.0%), 2478.74 column/sec. Elapsed time 8.97 sec\n",
      "EvaluatorHoldout: Processed 10473 (100.0%) in 7.17 sec. Users per second: 1460\n"
     ]
    },
    {
     "name": "stderr",
     "output_type": "stream",
     "text": [
      "[I 2023-12-11 16:29:59,015] Trial 105 finished with value: 0.04449525206503763 and parameters: {'topK': 13, 'shrink': 7.478061592100605}. Best is trial 104 with value: 0.044578756473495164.\n"
     ]
    },
    {
     "name": "stdout",
     "output_type": "stream",
     "text": [
      "Unable to load Cython Compute_Similarity, reverting to Python\n",
      "Similarity column 22222 (100.0%), 2427.96 column/sec. Elapsed time 9.15 sec\n",
      "EvaluatorHoldout: Processed 10446 (100.0%) in 7.13 sec. Users per second: 1466\n",
      "Unable to load Cython Compute_Similarity, reverting to Python\n",
      "Similarity column 22222 (100.0%), 2513.97 column/sec. Elapsed time 8.84 sec\n",
      "EvaluatorHoldout: Processed 10431 (100.0%) in 7.22 sec. Users per second: 1444\n",
      "Unable to load Cython Compute_Similarity, reverting to Python\n",
      "Similarity column 22222 (100.0%), 2497.93 column/sec. Elapsed time 8.90 sec\n",
      "EvaluatorHoldout: Processed 10473 (100.0%) in 7.14 sec. Users per second: 1467\n"
     ]
    },
    {
     "name": "stderr",
     "output_type": "stream",
     "text": [
      "[I 2023-12-11 16:30:47,500] Trial 106 finished with value: 0.04447573786947263 and parameters: {'topK': 11, 'shrink': 5.591299269387341}. Best is trial 104 with value: 0.044578756473495164.\n"
     ]
    },
    {
     "name": "stdout",
     "output_type": "stream",
     "text": [
      "Unable to load Cython Compute_Similarity, reverting to Python\n",
      "Similarity column 22222 (100.0%), 2445.55 column/sec. Elapsed time 9.09 sec\n",
      "EvaluatorHoldout: Processed 10446 (100.0%) in 7.17 sec. Users per second: 1456\n",
      "Unable to load Cython Compute_Similarity, reverting to Python\n",
      "Similarity column 22222 (100.0%), 2462.00 column/sec. Elapsed time 9.03 sec\n",
      "EvaluatorHoldout: Processed 10431 (100.0%) in 7.10 sec. Users per second: 1470\n",
      "Unable to load Cython Compute_Similarity, reverting to Python\n",
      "Similarity column 22222 (100.0%), 2406.87 column/sec. Elapsed time 9.23 sec\n",
      "EvaluatorHoldout: Processed 10473 (100.0%) in 7.19 sec. Users per second: 1457\n"
     ]
    },
    {
     "name": "stderr",
     "output_type": "stream",
     "text": [
      "[I 2023-12-11 16:31:36,421] Trial 107 finished with value: 0.04392894532363054 and parameters: {'topK': 18, 'shrink': 2.585162141196978}. Best is trial 104 with value: 0.044578756473495164.\n"
     ]
    },
    {
     "name": "stdout",
     "output_type": "stream",
     "text": [
      "Unable to load Cython Compute_Similarity, reverting to Python\n",
      "Similarity column 22222 (100.0%), 2450.09 column/sec. Elapsed time 9.07 sec\n",
      "EvaluatorHoldout: Processed 10446 (100.0%) in 7.27 sec. Users per second: 1438\n",
      "Unable to load Cython Compute_Similarity, reverting to Python\n",
      "Similarity column 22222 (100.0%), 2391.95 column/sec. Elapsed time 9.29 sec\n",
      "EvaluatorHoldout: Processed 10431 (100.0%) in 7.30 sec. Users per second: 1429\n",
      "Unable to load Cython Compute_Similarity, reverting to Python\n",
      "Similarity column 22222 (100.0%), 2417.33 column/sec. Elapsed time 9.19 sec\n",
      "EvaluatorHoldout: Processed 10473 (100.0%) in 7.19 sec. Users per second: 1457\n"
     ]
    },
    {
     "name": "stderr",
     "output_type": "stream",
     "text": [
      "[I 2023-12-11 16:32:25,852] Trial 108 finished with value: 0.044201263762102296 and parameters: {'topK': 21, 'shrink': 5.861282275549251}. Best is trial 104 with value: 0.044578756473495164.\n"
     ]
    },
    {
     "name": "stdout",
     "output_type": "stream",
     "text": [
      "Unable to load Cython Compute_Similarity, reverting to Python\n",
      "Similarity column 22222 (100.0%), 2469.21 column/sec. Elapsed time 9.00 sec\n",
      "EvaluatorHoldout: Processed 10446 (100.0%) in 7.15 sec. Users per second: 1460\n",
      "Unable to load Cython Compute_Similarity, reverting to Python\n",
      "Similarity column 22222 (100.0%), 2473.47 column/sec. Elapsed time 8.98 sec\n",
      "EvaluatorHoldout: Processed 10431 (100.0%) in 7.16 sec. Users per second: 1457\n",
      "Unable to load Cython Compute_Similarity, reverting to Python\n",
      "Similarity column 22222 (100.0%), 2365.00 column/sec. Elapsed time 9.40 sec\n",
      "EvaluatorHoldout: Processed 10473 (100.0%) in 7.27 sec. Users per second: 1442\n"
     ]
    },
    {
     "name": "stderr",
     "output_type": "stream",
     "text": [
      "[I 2023-12-11 16:33:14,924] Trial 109 finished with value: 0.04417021982443258 and parameters: {'topK': 17, 'shrink': 3.5979386170131975}. Best is trial 104 with value: 0.044578756473495164.\n"
     ]
    },
    {
     "name": "stdout",
     "output_type": "stream",
     "text": [
      "Unable to load Cython Compute_Similarity, reverting to Python\n",
      "Similarity column 22222 (100.0%), 2476.91 column/sec. Elapsed time 8.97 sec\n",
      "EvaluatorHoldout: Processed 10446 (100.0%) in 7.18 sec. Users per second: 1456\n",
      "Unable to load Cython Compute_Similarity, reverting to Python\n",
      "Similarity column 22222 (100.0%), 2493.23 column/sec. Elapsed time 8.91 sec\n",
      "EvaluatorHoldout: Processed 10431 (100.0%) in 7.22 sec. Users per second: 1445\n",
      "Unable to load Cython Compute_Similarity, reverting to Python\n",
      "Similarity column 22222 (100.0%), 2466.29 column/sec. Elapsed time 9.01 sec\n",
      "EvaluatorHoldout: Processed 10473 (100.0%) in 7.22 sec. Users per second: 1450\n"
     ]
    },
    {
     "name": "stderr",
     "output_type": "stream",
     "text": [
      "[I 2023-12-11 16:34:03,547] Trial 110 finished with value: 0.04443625120775438 and parameters: {'topK': 14, 'shrink': 6.466944016776342}. Best is trial 104 with value: 0.044578756473495164.\n"
     ]
    },
    {
     "name": "stdout",
     "output_type": "stream",
     "text": [
      "Unable to load Cython Compute_Similarity, reverting to Python\n",
      "Similarity column 22222 (100.0%), 2486.17 column/sec. Elapsed time 8.94 sec\n",
      "EvaluatorHoldout: Processed 10446 (100.0%) in 7.09 sec. Users per second: 1474\n",
      "Unable to load Cython Compute_Similarity, reverting to Python\n",
      "Similarity column 22222 (100.0%), 2515.98 column/sec. Elapsed time 8.83 sec\n",
      "EvaluatorHoldout: Processed 10431 (100.0%) in 7.09 sec. Users per second: 1472\n",
      "Unable to load Cython Compute_Similarity, reverting to Python\n",
      "Similarity column 22222 (100.0%), 2499.52 column/sec. Elapsed time 8.89 sec\n",
      "EvaluatorHoldout: Processed 10473 (100.0%) in 7.29 sec. Users per second: 1436\n"
     ]
    },
    {
     "name": "stderr",
     "output_type": "stream",
     "text": [
      "[I 2023-12-11 16:34:51,785] Trial 111 finished with value: 0.044514494219796176 and parameters: {'topK': 10, 'shrink': 4.605087557048002}. Best is trial 104 with value: 0.044578756473495164.\n"
     ]
    },
    {
     "name": "stdout",
     "output_type": "stream",
     "text": [
      "Unable to load Cython Compute_Similarity, reverting to Python\n",
      "Similarity column 22222 (100.0%), 2526.90 column/sec. Elapsed time 8.79 sec\n",
      "EvaluatorHoldout: Processed 10446 (100.0%) in 7.37 sec. Users per second: 1416\n",
      "Unable to load Cython Compute_Similarity, reverting to Python\n",
      "Similarity column 22222 (100.0%), 2509.33 column/sec. Elapsed time 8.86 sec\n",
      "EvaluatorHoldout: Processed 10431 (100.0%) in 7.29 sec. Users per second: 1431\n",
      "Unable to load Cython Compute_Similarity, reverting to Python\n",
      "Similarity column 22222 (100.0%), 2480.68 column/sec. Elapsed time 8.96 sec\n",
      "EvaluatorHoldout: Processed 10473 (100.0%) in 7.18 sec. Users per second: 1458\n"
     ]
    },
    {
     "name": "stderr",
     "output_type": "stream",
     "text": [
      "[I 2023-12-11 16:35:40,353] Trial 112 finished with value: 0.04452058701144752 and parameters: {'topK': 10, 'shrink': 4.448714205715026}. Best is trial 104 with value: 0.044578756473495164.\n"
     ]
    },
    {
     "name": "stdout",
     "output_type": "stream",
     "text": [
      "Unable to load Cython Compute_Similarity, reverting to Python\n",
      "Similarity column 22222 (100.0%), 2539.57 column/sec. Elapsed time 8.75 sec\n",
      "EvaluatorHoldout: Processed 10446 (100.0%) in 7.04 sec. Users per second: 1483\n",
      "Unable to load Cython Compute_Similarity, reverting to Python\n",
      "Similarity column 22222 (100.0%), 2575.25 column/sec. Elapsed time 8.63 sec\n",
      "EvaluatorHoldout: Processed 10431 (100.0%) in 7.20 sec. Users per second: 1449\n",
      "Unable to load Cython Compute_Similarity, reverting to Python\n",
      "Similarity column 22222 (100.0%), 2535.87 column/sec. Elapsed time 8.76 sec\n",
      "EvaluatorHoldout: Processed 10473 (100.0%) in 7.10 sec. Users per second: 1476\n"
     ]
    },
    {
     "name": "stderr",
     "output_type": "stream",
     "text": [
      "[I 2023-12-11 16:36:27,946] Trial 113 finished with value: 0.04407657370179627 and parameters: {'topK': 5, 'shrink': 4.546934236198685}. Best is trial 104 with value: 0.044578756473495164.\n"
     ]
    },
    {
     "name": "stdout",
     "output_type": "stream",
     "text": [
      "Unable to load Cython Compute_Similarity, reverting to Python\n",
      "Similarity column 22222 (100.0%), 2511.28 column/sec. Elapsed time 8.85 sec\n",
      "EvaluatorHoldout: Processed 10446 (100.0%) in 7.11 sec. Users per second: 1469\n",
      "Unable to load Cython Compute_Similarity, reverting to Python\n",
      "Similarity column 22222 (100.0%), 2511.83 column/sec. Elapsed time 8.85 sec\n",
      "EvaluatorHoldout: Processed 10431 (100.0%) in 7.21 sec. Users per second: 1446\n",
      "Unable to load Cython Compute_Similarity, reverting to Python\n",
      "Similarity column 22222 (100.0%), 2503.34 column/sec. Elapsed time 8.88 sec\n",
      "EvaluatorHoldout: Processed 10473 (100.0%) in 7.15 sec. Users per second: 1464\n"
     ]
    },
    {
     "name": "stderr",
     "output_type": "stream",
     "text": [
      "[I 2023-12-11 16:37:16,100] Trial 114 finished with value: 0.04407583622419259 and parameters: {'topK': 10, 'shrink': 1.3827353603649204}. Best is trial 104 with value: 0.044578756473495164.\n"
     ]
    },
    {
     "name": "stdout",
     "output_type": "stream",
     "text": [
      "Unable to load Cython Compute_Similarity, reverting to Python\n",
      "Similarity column 22222 (100.0%), 2453.57 column/sec. Elapsed time 9.06 sec\n",
      "EvaluatorHoldout: Processed 10446 (100.0%) in 7.01 sec. Users per second: 1491\n",
      "Unable to load Cython Compute_Similarity, reverting to Python\n",
      "Similarity column 22222 (100.0%), 2454.24 column/sec. Elapsed time 9.05 sec\n",
      "EvaluatorHoldout: Processed 10431 (100.0%) in 8.56 sec. Users per second: 1219\n",
      "Unable to load Cython Compute_Similarity, reverting to Python\n",
      "Similarity column 22222 (100.0%), 2502.53 column/sec. Elapsed time 8.88 sec\n",
      "EvaluatorHoldout: Processed 10473 (100.0%) in 7.06 sec. Users per second: 1484\n"
     ]
    },
    {
     "name": "stderr",
     "output_type": "stream",
     "text": [
      "[I 2023-12-11 16:38:05,821] Trial 115 finished with value: 0.04421590882269019 and parameters: {'topK': 12, 'shrink': 2.3856513758724445}. Best is trial 104 with value: 0.044578756473495164.\n"
     ]
    },
    {
     "name": "stdout",
     "output_type": "stream",
     "text": [
      "Unable to load Cython Compute_Similarity, reverting to Python\n",
      "Similarity column 22222 (100.0%), 2639.66 column/sec. Elapsed time 8.42 sec\n",
      "EvaluatorHoldout: Processed 10446 (100.0%) in 7.00 sec. Users per second: 1493\n",
      "Unable to load Cython Compute_Similarity, reverting to Python\n",
      "Similarity column 22222 (100.0%), 2615.15 column/sec. Elapsed time 8.50 sec\n",
      "EvaluatorHoldout: Processed 10431 (100.0%) in 6.92 sec. Users per second: 1506\n",
      "Unable to load Cython Compute_Similarity, reverting to Python\n",
      "Similarity column 22222 (100.0%), 2625.59 column/sec. Elapsed time 8.46 sec\n",
      "EvaluatorHoldout: Processed 10473 (100.0%) in 7.07 sec. Users per second: 1481\n"
     ]
    },
    {
     "name": "stderr",
     "output_type": "stream",
     "text": [
      "[I 2023-12-11 16:38:52,294] Trial 116 finished with value: 0.04235062388012334 and parameters: {'topK': 3, 'shrink': 3.2227704481176302}. Best is trial 104 with value: 0.044578756473495164.\n"
     ]
    },
    {
     "name": "stdout",
     "output_type": "stream",
     "text": [
      "Unable to load Cython Compute_Similarity, reverting to Python\n",
      "Similarity column 22222 (100.0%), 2511.56 column/sec. Elapsed time 8.85 sec\n",
      "EvaluatorHoldout: Processed 10446 (100.0%) in 7.00 sec. Users per second: 1491\n",
      "Unable to load Cython Compute_Similarity, reverting to Python\n",
      "Similarity column 22222 (100.0%), 2517.44 column/sec. Elapsed time 8.83 sec\n",
      "EvaluatorHoldout: Processed 10431 (100.0%) in 7.02 sec. Users per second: 1485\n",
      "Unable to load Cython Compute_Similarity, reverting to Python\n",
      "Similarity column 22222 (100.0%), 2511.14 column/sec. Elapsed time 8.85 sec\n",
      "EvaluatorHoldout: Processed 10473 (100.0%) in 6.94 sec. Users per second: 1510\n"
     ]
    },
    {
     "name": "stderr",
     "output_type": "stream",
     "text": [
      "[I 2023-12-11 16:39:39,892] Trial 117 finished with value: 0.04423294011273137 and parameters: {'topK': 6, 'shrink': 2.8786592292984077}. Best is trial 104 with value: 0.044578756473495164.\n"
     ]
    },
    {
     "name": "stdout",
     "output_type": "stream",
     "text": [
      "Unable to load Cython Compute_Similarity, reverting to Python\n",
      "Similarity column 22222 (100.0%), 2485.86 column/sec. Elapsed time 8.94 sec\n",
      "EvaluatorHoldout: Processed 10446 (100.0%) in 7.14 sec. Users per second: 1464\n",
      "Unable to load Cython Compute_Similarity, reverting to Python\n",
      "Similarity column 22222 (100.0%), 2525.87 column/sec. Elapsed time 8.80 sec\n",
      "EvaluatorHoldout: Processed 10431 (100.0%) in 7.01 sec. Users per second: 1487\n",
      "Unable to load Cython Compute_Similarity, reverting to Python\n",
      "Similarity column 22222 (100.0%), 2446.75 column/sec. Elapsed time 9.08 sec\n",
      "EvaluatorHoldout: Processed 10473 (100.0%) in 7.08 sec. Users per second: 1480\n"
     ]
    },
    {
     "name": "stderr",
     "output_type": "stream",
     "text": [
      "[I 2023-12-11 16:40:28,044] Trial 118 finished with value: 0.04452754863465369 and parameters: {'topK': 10, 'shrink': 5.757382053150071}. Best is trial 104 with value: 0.044578756473495164.\n"
     ]
    },
    {
     "name": "stdout",
     "output_type": "stream",
     "text": [
      "Unable to load Cython Compute_Similarity, reverting to Python\n",
      "Similarity column 22222 (100.0%), 2045.50 column/sec. Elapsed time 10.86 sec\n",
      "EvaluatorHoldout: Processed 10446 (100.0%) in 8.05 sec. Users per second: 1298\n",
      "Unable to load Cython Compute_Similarity, reverting to Python\n",
      "Similarity column 22222 (100.0%), 2095.40 column/sec. Elapsed time 10.61 sec\n",
      "EvaluatorHoldout: Processed 10431 (100.0%) in 8.11 sec. Users per second: 1286\n",
      "Unable to load Cython Compute_Similarity, reverting to Python\n",
      "Similarity column 22222 (100.0%), 2058.22 column/sec. Elapsed time 10.80 sec\n",
      "EvaluatorHoldout: Processed 10473 (100.0%) in 7.96 sec. Users per second: 1316\n"
     ]
    },
    {
     "name": "stderr",
     "output_type": "stream",
     "text": [
      "[I 2023-12-11 16:41:24,669] Trial 119 finished with value: 0.04254974756343203 and parameters: {'topK': 83, 'shrink': 5.828869439403578}. Best is trial 104 with value: 0.044578756473495164.\n"
     ]
    },
    {
     "name": "stdout",
     "output_type": "stream",
     "text": [
      "Unable to load Cython Compute_Similarity, reverting to Python\n",
      "Similarity column 22222 (100.0%), 2465.67 column/sec. Elapsed time 9.01 sec\n",
      "EvaluatorHoldout: Processed 10446 (100.0%) in 7.44 sec. Users per second: 1404\n",
      "Unable to load Cython Compute_Similarity, reverting to Python\n",
      "Similarity column 22222 (100.0%), 2501.29 column/sec. Elapsed time 8.88 sec\n",
      "EvaluatorHoldout: Processed 10431 (100.0%) in 7.27 sec. Users per second: 1435\n",
      "Unable to load Cython Compute_Similarity, reverting to Python\n",
      "Similarity column 22222 (100.0%), 2519.02 column/sec. Elapsed time 8.82 sec\n",
      "EvaluatorHoldout: Processed 10473 (100.0%) in 7.22 sec. Users per second: 1451\n"
     ]
    },
    {
     "name": "stderr",
     "output_type": "stream",
     "text": [
      "[I 2023-12-11 16:42:13,437] Trial 120 finished with value: 0.04442241972286045 and parameters: {'topK': 11, 'shrink': 7.484004398561969}. Best is trial 104 with value: 0.044578756473495164.\n"
     ]
    },
    {
     "name": "stdout",
     "output_type": "stream",
     "text": [
      "Unable to load Cython Compute_Similarity, reverting to Python\n",
      "Similarity column 22222 (100.0%), 2444.90 column/sec. Elapsed time 9.09 sec\n",
      "EvaluatorHoldout: Processed 10446 (100.0%) in 7.09 sec. Users per second: 1472\n",
      "Unable to load Cython Compute_Similarity, reverting to Python\n",
      "Similarity column 22222 (100.0%), 2525.40 column/sec. Elapsed time 8.80 sec\n",
      "EvaluatorHoldout: Processed 10431 (100.0%) in 7.02 sec. Users per second: 1486\n",
      "Unable to load Cython Compute_Similarity, reverting to Python\n",
      "Similarity column 22222 (100.0%), 2479.44 column/sec. Elapsed time 8.96 sec\n",
      "EvaluatorHoldout: Processed 10473 (100.0%) in 7.12 sec. Users per second: 1470\n"
     ]
    },
    {
     "name": "stderr",
     "output_type": "stream",
     "text": [
      "[I 2023-12-11 16:43:01,644] Trial 121 finished with value: 0.04451273247276381 and parameters: {'topK': 10, 'shrink': 4.55918195012883}. Best is trial 104 with value: 0.044578756473495164.\n"
     ]
    },
    {
     "name": "stdout",
     "output_type": "stream",
     "text": [
      "Unable to load Cython Compute_Similarity, reverting to Python\n",
      "Similarity column 22222 (100.0%), 2202.37 column/sec. Elapsed time 10.09 sec\n",
      "EvaluatorHoldout: Processed 10446 (100.0%) in 7.76 sec. Users per second: 1347\n",
      "Unable to load Cython Compute_Similarity, reverting to Python\n",
      "Similarity column 22222 (100.0%), 2243.65 column/sec. Elapsed time 9.90 sec\n",
      "EvaluatorHoldout: Processed 10431 (100.0%) in 7.69 sec. Users per second: 1356\n",
      "Unable to load Cython Compute_Similarity, reverting to Python\n",
      "Similarity column 22222 (100.0%), 2199.20 column/sec. Elapsed time 10.10 sec\n",
      "EvaluatorHoldout: Processed 10473 (100.0%) in 7.75 sec. Users per second: 1352\n"
     ]
    },
    {
     "name": "stderr",
     "output_type": "stream",
     "text": [
      "[I 2023-12-11 16:43:55,126] Trial 122 finished with value: 0.04308618217679635 and parameters: {'topK': 55, 'shrink': 6.441872776105029}. Best is trial 104 with value: 0.044578756473495164.\n"
     ]
    },
    {
     "name": "stdout",
     "output_type": "stream",
     "text": [
      "Unable to load Cython Compute_Similarity, reverting to Python\n",
      "Similarity column 22222 (100.0%), 2394.73 column/sec. Elapsed time 9.28 sec\n",
      "EvaluatorHoldout: Processed 10446 (100.0%) in 7.24 sec. Users per second: 1443\n",
      "Unable to load Cython Compute_Similarity, reverting to Python\n",
      "Similarity column 22222 (100.0%), 2437.73 column/sec. Elapsed time 9.12 sec\n",
      "EvaluatorHoldout: Processed 10431 (100.0%) in 7.21 sec. Users per second: 1448\n",
      "Unable to load Cython Compute_Similarity, reverting to Python\n",
      "Similarity column 22222 (100.0%), 2446.15 column/sec. Elapsed time 9.08 sec\n",
      "EvaluatorHoldout: Processed 10473 (100.0%) in 7.23 sec. Users per second: 1449\n"
     ]
    },
    {
     "name": "stderr",
     "output_type": "stream",
     "text": [
      "[I 2023-12-11 16:44:44,392] Trial 123 finished with value: 0.044351100310641156 and parameters: {'topK': 16, 'shrink': 4.651277262821045}. Best is trial 104 with value: 0.044578756473495164.\n"
     ]
    },
    {
     "name": "stdout",
     "output_type": "stream",
     "text": [
      "Unable to load Cython Compute_Similarity, reverting to Python\n",
      "Similarity column 22222 (100.0%), 2440.52 column/sec. Elapsed time 9.11 sec\n",
      "EvaluatorHoldout: Processed 10446 (100.0%) in 7.16 sec. Users per second: 1460\n",
      "Unable to load Cython Compute_Similarity, reverting to Python\n",
      "Similarity column 22222 (100.0%), 2507.96 column/sec. Elapsed time 8.86 sec\n",
      "EvaluatorHoldout: Processed 10431 (100.0%) in 7.17 sec. Users per second: 1456\n",
      "Unable to load Cython Compute_Similarity, reverting to Python\n",
      "Similarity column 22222 (100.0%), 2431.72 column/sec. Elapsed time 9.14 sec\n",
      "EvaluatorHoldout: Processed 10473 (100.0%) in 7.27 sec. Users per second: 1441\n"
     ]
    },
    {
     "name": "stderr",
     "output_type": "stream",
     "text": [
      "[I 2023-12-11 16:45:33,202] Trial 124 finished with value: 0.044546631634170636 and parameters: {'topK': 13, 'shrink': 5.06625827267861}. Best is trial 104 with value: 0.044578756473495164.\n"
     ]
    },
    {
     "name": "stdout",
     "output_type": "stream",
     "text": [
      "Unable to load Cython Compute_Similarity, reverting to Python\n",
      "Similarity column 22222 (100.0%), 2446.52 column/sec. Elapsed time 9.08 sec\n",
      "EvaluatorHoldout: Processed 10446 (100.0%) in 7.30 sec. Users per second: 1431\n",
      "Unable to load Cython Compute_Similarity, reverting to Python\n",
      "Similarity column 22222 (100.0%), 2411.18 column/sec. Elapsed time 9.22 sec\n",
      "EvaluatorHoldout: Processed 10431 (100.0%) in 7.26 sec. Users per second: 1437\n",
      "Unable to load Cython Compute_Similarity, reverting to Python\n",
      "Similarity column 22222 (100.0%), 2412.85 column/sec. Elapsed time 9.21 sec\n",
      "EvaluatorHoldout: Processed 10473 (100.0%) in 7.35 sec. Users per second: 1424\n"
     ]
    },
    {
     "name": "stderr",
     "output_type": "stream",
     "text": [
      "[I 2023-12-11 16:46:22,736] Trial 125 finished with value: 0.04424415944404562 and parameters: {'topK': 18, 'shrink': 5.493734846642592}. Best is trial 104 with value: 0.044578756473495164.\n"
     ]
    },
    {
     "name": "stdout",
     "output_type": "stream",
     "text": [
      "Unable to load Cython Compute_Similarity, reverting to Python\n",
      "Similarity column 22222 (100.0%), 2399.67 column/sec. Elapsed time 9.26 sec\n",
      "EvaluatorHoldout: Processed 10446 (100.0%) in 7.16 sec. Users per second: 1460\n",
      "Unable to load Cython Compute_Similarity, reverting to Python\n",
      "Similarity column 22222 (100.0%), 2508.80 column/sec. Elapsed time 8.86 sec\n",
      "EvaluatorHoldout: Processed 10431 (100.0%) in 7.38 sec. Users per second: 1413\n",
      "Unable to load Cython Compute_Similarity, reverting to Python\n",
      "Similarity column 22222 (100.0%), 2429.56 column/sec. Elapsed time 9.15 sec\n",
      "EvaluatorHoldout: Processed 10473 (100.0%) in 7.42 sec. Users per second: 1411\n"
     ]
    },
    {
     "name": "stderr",
     "output_type": "stream",
     "text": [
      "[I 2023-12-11 16:47:12,080] Trial 126 finished with value: 0.04453655505012991 and parameters: {'topK': 13, 'shrink': 8.564038047465434}. Best is trial 104 with value: 0.044578756473495164.\n"
     ]
    },
    {
     "name": "stdout",
     "output_type": "stream",
     "text": [
      "Unable to load Cython Compute_Similarity, reverting to Python\n",
      "Similarity column 22222 (100.0%), 2444.87 column/sec. Elapsed time 9.09 sec\n",
      "EvaluatorHoldout: Processed 10446 (100.0%) in 7.25 sec. Users per second: 1440\n",
      "Unable to load Cython Compute_Similarity, reverting to Python\n",
      "Similarity column 22222 (100.0%), 2477.06 column/sec. Elapsed time 8.97 sec\n",
      "EvaluatorHoldout: Processed 10431 (100.0%) in 7.17 sec. Users per second: 1456\n",
      "Unable to load Cython Compute_Similarity, reverting to Python\n",
      "Similarity column 22222 (100.0%), 2451.88 column/sec. Elapsed time 9.06 sec\n",
      "EvaluatorHoldout: Processed 10473 (100.0%) in 7.26 sec. Users per second: 1442\n"
     ]
    },
    {
     "name": "stderr",
     "output_type": "stream",
     "text": [
      "[I 2023-12-11 16:48:01,015] Trial 127 finished with value: 0.04443570798233181 and parameters: {'topK': 14, 'shrink': 8.125476806769381}. Best is trial 104 with value: 0.044578756473495164.\n"
     ]
    },
    {
     "name": "stdout",
     "output_type": "stream",
     "text": [
      "Unable to load Cython Compute_Similarity, reverting to Python\n",
      "Similarity column 22222 (100.0%), 2509.85 column/sec. Elapsed time 8.85 sec\n",
      "EvaluatorHoldout: Processed 10446 (100.0%) in 7.68 sec. Users per second: 1360\n",
      "Unable to load Cython Compute_Similarity, reverting to Python\n",
      "Similarity column 22222 (100.0%), 2572.55 column/sec. Elapsed time 8.64 sec\n",
      "EvaluatorHoldout: Processed 10431 (100.0%) in 7.10 sec. Users per second: 1470\n",
      "Unable to load Cython Compute_Similarity, reverting to Python\n",
      "Similarity column 22222 (100.0%), 2520.79 column/sec. Elapsed time 8.82 sec\n",
      "EvaluatorHoldout: Processed 10473 (100.0%) in 7.12 sec. Users per second: 1471\n"
     ]
    },
    {
     "name": "stderr",
     "output_type": "stream",
     "text": [
      "[I 2023-12-11 16:48:49,316] Trial 128 finished with value: 0.04426807227205428 and parameters: {'topK': 6, 'shrink': 7.123775670477694}. Best is trial 104 with value: 0.044578756473495164.\n"
     ]
    },
    {
     "name": "stdout",
     "output_type": "stream",
     "text": [
      "Unable to load Cython Compute_Similarity, reverting to Python\n",
      "Similarity column 22222 (100.0%), 2385.43 column/sec. Elapsed time 9.32 sec\n",
      "EvaluatorHoldout: Processed 10446 (100.0%) in 7.32 sec. Users per second: 1428\n",
      "Unable to load Cython Compute_Similarity, reverting to Python\n",
      "Similarity column 22222 (100.0%), 2493.43 column/sec. Elapsed time 8.91 sec\n",
      "EvaluatorHoldout: Processed 10431 (100.0%) in 7.35 sec. Users per second: 1419\n",
      "Unable to load Cython Compute_Similarity, reverting to Python\n",
      "Similarity column 22222 (100.0%), 2392.53 column/sec. Elapsed time 9.29 sec\n",
      "EvaluatorHoldout: Processed 10473 (100.0%) in 7.29 sec. Users per second: 1436\n"
     ]
    },
    {
     "name": "stderr",
     "output_type": "stream",
     "text": [
      "[I 2023-12-11 16:49:38,906] Trial 129 finished with value: 0.044425157975427225 and parameters: {'topK': 16, 'shrink': 8.790499168433234}. Best is trial 104 with value: 0.044578756473495164.\n"
     ]
    },
    {
     "name": "stdout",
     "output_type": "stream",
     "text": [
      "Unable to load Cython Compute_Similarity, reverting to Python\n",
      "Similarity column 22222 (100.0%), 2391.18 column/sec. Elapsed time 9.29 sec\n",
      "EvaluatorHoldout: Processed 10446 (100.0%) in 7.63 sec. Users per second: 1369\n",
      "Unable to load Cython Compute_Similarity, reverting to Python\n",
      "Similarity column 22222 (100.0%), 2476.77 column/sec. Elapsed time 8.97 sec\n",
      "EvaluatorHoldout: Processed 10431 (100.0%) in 7.20 sec. Users per second: 1449\n",
      "Unable to load Cython Compute_Similarity, reverting to Python\n",
      "Similarity column 22222 (100.0%), 2412.17 column/sec. Elapsed time 9.21 sec\n",
      "EvaluatorHoldout: Processed 10473 (100.0%) in 7.42 sec. Users per second: 1411\n"
     ]
    },
    {
     "name": "stderr",
     "output_type": "stream",
     "text": [
      "[I 2023-12-11 16:50:28,735] Trial 130 finished with value: 0.04411780669930507 and parameters: {'topK': 19, 'shrink': 3.623089121003117}. Best is trial 104 with value: 0.044578756473495164.\n"
     ]
    },
    {
     "name": "stdout",
     "output_type": "stream",
     "text": [
      "Unable to load Cython Compute_Similarity, reverting to Python\n",
      "Similarity column 22222 (100.0%), 2483.80 column/sec. Elapsed time 8.95 sec\n",
      "EvaluatorHoldout: Processed 10446 (100.0%) in 7.14 sec. Users per second: 1463\n",
      "Unable to load Cython Compute_Similarity, reverting to Python\n",
      "Similarity column 22222 (100.0%), 2499.63 column/sec. Elapsed time 8.89 sec\n",
      "EvaluatorHoldout: Processed 10431 (100.0%) in 7.19 sec. Users per second: 1452\n",
      "Unable to load Cython Compute_Similarity, reverting to Python\n",
      "Similarity column 22222 (100.0%), 2452.17 column/sec. Elapsed time 9.06 sec\n",
      "EvaluatorHoldout: Processed 10473 (100.0%) in 7.28 sec. Users per second: 1439\n"
     ]
    },
    {
     "name": "stderr",
     "output_type": "stream",
     "text": [
      "[I 2023-12-11 16:51:17,355] Trial 131 finished with value: 0.04443704527418451 and parameters: {'topK': 11, 'shrink': 5.007216461990882}. Best is trial 104 with value: 0.044578756473495164.\n"
     ]
    },
    {
     "name": "stdout",
     "output_type": "stream",
     "text": [
      "Unable to load Cython Compute_Similarity, reverting to Python\n",
      "Similarity column 22222 (100.0%), 2471.04 column/sec. Elapsed time 8.99 sec\n",
      "EvaluatorHoldout: Processed 10446 (100.0%) in 7.08 sec. Users per second: 1475\n",
      "Unable to load Cython Compute_Similarity, reverting to Python\n",
      "Similarity column 22222 (100.0%), 2495.79 column/sec. Elapsed time 8.90 sec\n",
      "EvaluatorHoldout: Processed 10431 (100.0%) in 7.26 sec. Users per second: 1437\n",
      "Unable to load Cython Compute_Similarity, reverting to Python\n",
      "Similarity column 22222 (100.0%), 2420.59 column/sec. Elapsed time 9.18 sec\n",
      "EvaluatorHoldout: Processed 10473 (100.0%) in 7.22 sec. Users per second: 1450\n"
     ]
    },
    {
     "name": "stderr",
     "output_type": "stream",
     "text": [
      "[I 2023-12-11 16:52:06,106] Trial 132 finished with value: 0.04451046421174467 and parameters: {'topK': 13, 'shrink': 6.059641983650697}. Best is trial 104 with value: 0.044578756473495164.\n"
     ]
    },
    {
     "name": "stdout",
     "output_type": "stream",
     "text": [
      "Unable to load Cython Compute_Similarity, reverting to Python\n",
      "Similarity column 22222 (100.0%), 2474.06 column/sec. Elapsed time 8.98 sec\n",
      "EvaluatorHoldout: Processed 10446 (100.0%) in 7.16 sec. Users per second: 1458\n",
      "Unable to load Cython Compute_Similarity, reverting to Python\n",
      "Similarity column 22222 (100.0%), 2460.73 column/sec. Elapsed time 9.03 sec\n",
      "EvaluatorHoldout: Processed 10431 (100.0%) in 7.13 sec. Users per second: 1462\n",
      "Unable to load Cython Compute_Similarity, reverting to Python\n",
      "Similarity column 22222 (100.0%), 2444.12 column/sec. Elapsed time 9.09 sec\n",
      "EvaluatorHoldout: Processed 10473 (100.0%) in 7.32 sec. Users per second: 1431\n"
     ]
    },
    {
     "name": "stderr",
     "output_type": "stream",
     "text": [
      "[I 2023-12-11 16:52:54,929] Trial 133 finished with value: 0.04450427231466566 and parameters: {'topK': 13, 'shrink': 6.0567199964974145}. Best is trial 104 with value: 0.044578756473495164.\n"
     ]
    },
    {
     "name": "stdout",
     "output_type": "stream",
     "text": [
      "Unable to load Cython Compute_Similarity, reverting to Python\n",
      "Similarity column 22222 (100.0%), 2463.96 column/sec. Elapsed time 9.02 sec\n",
      "EvaluatorHoldout: Processed 10446 (100.0%) in 7.10 sec. Users per second: 1470\n",
      "Unable to load Cython Compute_Similarity, reverting to Python\n",
      "Similarity column 22222 (100.0%), 2545.80 column/sec. Elapsed time 8.73 sec\n",
      "EvaluatorHoldout: Processed 10431 (100.0%) in 7.24 sec. Users per second: 1441\n",
      "Unable to load Cython Compute_Similarity, reverting to Python\n",
      "Similarity column 22222 (100.0%), 2498.41 column/sec. Elapsed time 8.89 sec\n",
      "EvaluatorHoldout: Processed 10473 (100.0%) in 7.22 sec. Users per second: 1451\n"
     ]
    },
    {
     "name": "stderr",
     "output_type": "stream",
     "text": [
      "[I 2023-12-11 16:53:43,238] Trial 134 finished with value: 0.044495202208676254 and parameters: {'topK': 8, 'shrink': 5.89034346874817}. Best is trial 104 with value: 0.044578756473495164.\n"
     ]
    },
    {
     "name": "stdout",
     "output_type": "stream",
     "text": [
      "Unable to load Cython Compute_Similarity, reverting to Python\n",
      "Similarity column 22222 (100.0%), 2485.19 column/sec. Elapsed time 8.94 sec\n",
      "EvaluatorHoldout: Processed 10446 (100.0%) in 7.23 sec. Users per second: 1444\n",
      "Unable to load Cython Compute_Similarity, reverting to Python\n",
      "Similarity column 22222 (100.0%), 2445.06 column/sec. Elapsed time 9.09 sec\n",
      "EvaluatorHoldout: Processed 10431 (100.0%) in 7.25 sec. Users per second: 1440\n",
      "Unable to load Cython Compute_Similarity, reverting to Python\n",
      "Similarity column 22222 (100.0%), 2465.02 column/sec. Elapsed time 9.01 sec\n",
      "EvaluatorHoldout: Processed 10473 (100.0%) in 7.16 sec. Users per second: 1463\n"
     ]
    },
    {
     "name": "stderr",
     "output_type": "stream",
     "text": [
      "[I 2023-12-11 16:54:32,033] Trial 135 finished with value: 0.0444928299401886 and parameters: {'topK': 9, 'shrink': 6.644655149400993}. Best is trial 104 with value: 0.044578756473495164.\n"
     ]
    },
    {
     "name": "stdout",
     "output_type": "stream",
     "text": [
      "Unable to load Cython Compute_Similarity, reverting to Python\n",
      "Similarity column 22222 (100.0%), 2355.05 column/sec. Elapsed time 9.44 sec\n",
      "EvaluatorHoldout: Processed 10446 (100.0%) in 7.15 sec. Users per second: 1461\n",
      "Unable to load Cython Compute_Similarity, reverting to Python\n",
      "Similarity column 22222 (100.0%), 2511.40 column/sec. Elapsed time 8.85 sec\n",
      "EvaluatorHoldout: Processed 10431 (100.0%) in 7.09 sec. Users per second: 1470\n",
      "Unable to load Cython Compute_Similarity, reverting to Python\n",
      "Similarity column 22222 (100.0%), 2493.16 column/sec. Elapsed time 8.91 sec\n",
      "EvaluatorHoldout: Processed 10473 (100.0%) in 7.27 sec. Users per second: 1440\n"
     ]
    },
    {
     "name": "stderr",
     "output_type": "stream",
     "text": [
      "[I 2023-12-11 16:55:20,853] Trial 136 finished with value: 0.04440371542956206 and parameters: {'topK': 15, 'shrink': 5.634267293680072}. Best is trial 104 with value: 0.044578756473495164.\n"
     ]
    },
    {
     "name": "stdout",
     "output_type": "stream",
     "text": [
      "Unable to load Cython Compute_Similarity, reverting to Python\n",
      "Similarity column 22222 (100.0%), 2325.38 column/sec. Elapsed time 9.56 sec\n",
      "EvaluatorHoldout: Processed 10446 (100.0%) in 7.28 sec. Users per second: 1435\n",
      "Unable to load Cython Compute_Similarity, reverting to Python\n",
      "Similarity column 22222 (100.0%), 2433.45 column/sec. Elapsed time 9.13 sec\n",
      "EvaluatorHoldout: Processed 10431 (100.0%) in 7.35 sec. Users per second: 1420\n",
      "Unable to load Cython Compute_Similarity, reverting to Python\n",
      "Similarity column 22222 (100.0%), 2425.77 column/sec. Elapsed time 9.16 sec\n",
      "EvaluatorHoldout: Processed 10473 (100.0%) in 7.74 sec. Users per second: 1353\n"
     ]
    },
    {
     "name": "stderr",
     "output_type": "stream",
     "text": [
      "[I 2023-12-11 16:56:11,200] Trial 137 finished with value: 0.04430450219954429 and parameters: {'topK': 22, 'shrink': 7.821634093381063}. Best is trial 104 with value: 0.044578756473495164.\n"
     ]
    },
    {
     "name": "stdout",
     "output_type": "stream",
     "text": [
      "Unable to load Cython Compute_Similarity, reverting to Python\n",
      "Similarity column 22222 (100.0%), 2561.43 column/sec. Elapsed time 8.68 sec\n",
      "EvaluatorHoldout: Processed 10446 (100.0%) in 7.03 sec. Users per second: 1486\n",
      "Unable to load Cython Compute_Similarity, reverting to Python\n",
      "Similarity column 22222 (100.0%), 2568.82 column/sec. Elapsed time 8.65 sec\n",
      "EvaluatorHoldout: Processed 10431 (100.0%) in 7.04 sec. Users per second: 1481\n",
      "Unable to load Cython Compute_Similarity, reverting to Python\n",
      "Similarity column 22222 (100.0%), 2539.20 column/sec. Elapsed time 8.75 sec\n",
      "EvaluatorHoldout: Processed 10473 (100.0%) in 7.18 sec. Users per second: 1459\n"
     ]
    },
    {
     "name": "stderr",
     "output_type": "stream",
     "text": [
      "[I 2023-12-11 16:56:58,639] Trial 138 finished with value: 0.04358509322967485 and parameters: {'topK': 4, 'shrink': 6.936775599578272}. Best is trial 104 with value: 0.044578756473495164.\n"
     ]
    },
    {
     "name": "stdout",
     "output_type": "stream",
     "text": [
      "Unable to load Cython Compute_Similarity, reverting to Python\n",
      "Similarity column 22222 (100.0%), 2455.24 column/sec. Elapsed time 9.05 sec\n",
      "EvaluatorHoldout: Processed 10446 (100.0%) in 7.27 sec. Users per second: 1436\n",
      "Unable to load Cython Compute_Similarity, reverting to Python\n",
      "Similarity column 22222 (100.0%), 2504.79 column/sec. Elapsed time 8.87 sec\n",
      "EvaluatorHoldout: Processed 10431 (100.0%) in 7.19 sec. Users per second: 1451\n",
      "Unable to load Cython Compute_Similarity, reverting to Python\n",
      "Similarity column 22222 (100.0%), 2490.19 column/sec. Elapsed time 8.92 sec\n",
      "EvaluatorHoldout: Processed 10473 (100.0%) in 7.11 sec. Users per second: 1472\n"
     ]
    },
    {
     "name": "stderr",
     "output_type": "stream",
     "text": [
      "[I 2023-12-11 16:57:47,169] Trial 139 finished with value: 0.04435337316248545 and parameters: {'topK': 7, 'shrink': 3.984865054705273}. Best is trial 104 with value: 0.044578756473495164.\n"
     ]
    },
    {
     "name": "stdout",
     "output_type": "stream",
     "text": [
      "Unable to load Cython Compute_Similarity, reverting to Python\n",
      "Similarity column 22222 (100.0%), 2215.98 column/sec. Elapsed time 10.03 sec\n",
      "EvaluatorHoldout: Processed 10446 (100.0%) in 7.56 sec. Users per second: 1382\n",
      "Unable to load Cython Compute_Similarity, reverting to Python\n",
      "Similarity column 22222 (100.0%), 2292.08 column/sec. Elapsed time 9.70 sec\n",
      "EvaluatorHoldout: Processed 10431 (100.0%) in 8.55 sec. Users per second: 1221\n",
      "Unable to load Cython Compute_Similarity, reverting to Python\n",
      "Similarity column 22222 (100.0%), 2255.15 column/sec. Elapsed time 9.85 sec\n",
      "EvaluatorHoldout: Processed 10473 (100.0%) in 7.66 sec. Users per second: 1368\n"
     ]
    },
    {
     "name": "stderr",
     "output_type": "stream",
     "text": [
      "[I 2023-12-11 16:58:40,677] Trial 140 finished with value: 0.04326366074586591 and parameters: {'topK': 47, 'shrink': 6.40372615549413}. Best is trial 104 with value: 0.044578756473495164.\n"
     ]
    },
    {
     "name": "stdout",
     "output_type": "stream",
     "text": [
      "Unable to load Cython Compute_Similarity, reverting to Python\n",
      "Similarity column 22222 (100.0%), 2437.68 column/sec. Elapsed time 9.12 sec\n",
      "EvaluatorHoldout: Processed 10446 (100.0%) in 7.22 sec. Users per second: 1447\n",
      "Unable to load Cython Compute_Similarity, reverting to Python\n",
      "Similarity column 22222 (100.0%), 2521.77 column/sec. Elapsed time 8.81 sec\n",
      "EvaluatorHoldout: Processed 10431 (100.0%) in 7.18 sec. Users per second: 1453\n",
      "Unable to load Cython Compute_Similarity, reverting to Python\n",
      "Similarity column 22222 (100.0%), 2393.61 column/sec. Elapsed time 9.28 sec\n",
      "EvaluatorHoldout: Processed 10473 (100.0%) in 7.14 sec. Users per second: 1466\n"
     ]
    },
    {
     "name": "stderr",
     "output_type": "stream",
     "text": [
      "[I 2023-12-11 16:59:29,540] Trial 141 finished with value: 0.04451324483005118 and parameters: {'topK': 12, 'shrink': 5.098840084414948}. Best is trial 104 with value: 0.044578756473495164.\n"
     ]
    },
    {
     "name": "stdout",
     "output_type": "stream",
     "text": [
      "Unable to load Cython Compute_Similarity, reverting to Python\n",
      "Similarity column 22222 (100.0%), 2497.51 column/sec. Elapsed time 8.90 sec\n",
      "EvaluatorHoldout: Processed 10446 (100.0%) in 7.18 sec. Users per second: 1455\n",
      "Unable to load Cython Compute_Similarity, reverting to Python\n",
      "Similarity column 22222 (100.0%), 2453.03 column/sec. Elapsed time 9.06 sec\n",
      "EvaluatorHoldout: Processed 10431 (100.0%) in 7.10 sec. Users per second: 1470\n",
      "Unable to load Cython Compute_Similarity, reverting to Python\n",
      "Similarity column 22222 (100.0%), 2526.43 column/sec. Elapsed time 8.80 sec\n",
      "EvaluatorHoldout: Processed 10473 (100.0%) in 7.14 sec. Users per second: 1467\n"
     ]
    },
    {
     "name": "stderr",
     "output_type": "stream",
     "text": [
      "[I 2023-12-11 17:00:17,824] Trial 142 finished with value: 0.04452823437655903 and parameters: {'topK': 12, 'shrink': 5.147941385938215}. Best is trial 104 with value: 0.044578756473495164.\n"
     ]
    },
    {
     "name": "stdout",
     "output_type": "stream",
     "text": [
      "Unable to load Cython Compute_Similarity, reverting to Python\n",
      "Similarity column 22222 (100.0%), 2373.74 column/sec. Elapsed time 9.36 sec\n",
      "EvaluatorHoldout: Processed 10446 (100.0%) in 7.15 sec. Users per second: 1462\n",
      "Unable to load Cython Compute_Similarity, reverting to Python\n",
      "Similarity column 22222 (100.0%), 2485.32 column/sec. Elapsed time 8.94 sec\n",
      "EvaluatorHoldout: Processed 10431 (100.0%) in 7.31 sec. Users per second: 1427\n",
      "Unable to load Cython Compute_Similarity, reverting to Python\n",
      "Similarity column 22222 (100.0%), 2439.57 column/sec. Elapsed time 9.11 sec\n",
      "EvaluatorHoldout: Processed 10473 (100.0%) in 7.25 sec. Users per second: 1445\n"
     ]
    },
    {
     "name": "stderr",
     "output_type": "stream",
     "text": [
      "[I 2023-12-11 17:01:07,063] Trial 143 finished with value: 0.04446767542265515 and parameters: {'topK': 14, 'shrink': 4.981230370103357}. Best is trial 104 with value: 0.044578756473495164.\n"
     ]
    },
    {
     "name": "stdout",
     "output_type": "stream",
     "text": [
      "Unable to load Cython Compute_Similarity, reverting to Python\n",
      "Similarity column 22222 (100.0%), 2483.90 column/sec. Elapsed time 8.95 sec\n",
      "EvaluatorHoldout: Processed 10446 (100.0%) in 7.16 sec. Users per second: 1459\n",
      "Unable to load Cython Compute_Similarity, reverting to Python\n",
      "Similarity column 22222 (100.0%), 2511.61 column/sec. Elapsed time 8.85 sec\n",
      "EvaluatorHoldout: Processed 10431 (100.0%) in 7.10 sec. Users per second: 1469\n",
      "Unable to load Cython Compute_Similarity, reverting to Python\n",
      "Similarity column 22222 (100.0%), 2519.07 column/sec. Elapsed time 8.82 sec\n",
      "EvaluatorHoldout: Processed 10473 (100.0%) in 7.44 sec. Users per second: 1408\n"
     ]
    },
    {
     "name": "stderr",
     "output_type": "stream",
     "text": [
      "[I 2023-12-11 17:01:55,497] Trial 144 finished with value: 0.044402663441636826 and parameters: {'topK': 12, 'shrink': 4.326112932072799}. Best is trial 104 with value: 0.044578756473495164.\n"
     ]
    },
    {
     "name": "stdout",
     "output_type": "stream",
     "text": [
      "Unable to load Cython Compute_Similarity, reverting to Python\n",
      "Similarity column 22222 (100.0%), 2380.09 column/sec. Elapsed time 9.34 sec\n",
      "EvaluatorHoldout: Processed 10446 (100.0%) in 7.28 sec. Users per second: 1434\n",
      "Unable to load Cython Compute_Similarity, reverting to Python\n",
      "Similarity column 22222 (100.0%), 2470.67 column/sec. Elapsed time 8.99 sec\n",
      "EvaluatorHoldout: Processed 10431 (100.0%) in 7.21 sec. Users per second: 1446\n",
      "Unable to load Cython Compute_Similarity, reverting to Python\n",
      "Similarity column 22222 (100.0%), 2406.00 column/sec. Elapsed time 9.24 sec\n",
      "EvaluatorHoldout: Processed 10473 (100.0%) in 7.38 sec. Users per second: 1419\n"
     ]
    },
    {
     "name": "stderr",
     "output_type": "stream",
     "text": [
      "[I 2023-12-11 17:02:45,062] Trial 145 finished with value: 0.04413225314340821 and parameters: {'topK': 17, 'shrink': 3.2795786584571633}. Best is trial 104 with value: 0.044578756473495164.\n"
     ]
    },
    {
     "name": "stdout",
     "output_type": "stream",
     "text": [
      "Unable to load Cython Compute_Similarity, reverting to Python\n",
      "Similarity column 22222 (100.0%), 2468.99 column/sec. Elapsed time 9.00 sec\n",
      "EvaluatorHoldout: Processed 10446 (100.0%) in 7.16 sec. Users per second: 1458\n",
      "Unable to load Cython Compute_Similarity, reverting to Python\n",
      "Similarity column 22222 (100.0%), 2533.73 column/sec. Elapsed time 8.77 sec\n",
      "EvaluatorHoldout: Processed 10431 (100.0%) in 7.21 sec. Users per second: 1447\n",
      "Unable to load Cython Compute_Similarity, reverting to Python\n",
      "Similarity column 22222 (100.0%), 2404.14 column/sec. Elapsed time 9.24 sec\n",
      "EvaluatorHoldout: Processed 10473 (100.0%) in 7.15 sec. Users per second: 1465\n"
     ]
    },
    {
     "name": "stderr",
     "output_type": "stream",
     "text": [
      "[I 2023-12-11 17:03:33,714] Trial 146 finished with value: 0.04457069172290488 and parameters: {'topK': 13, 'shrink': 5.098030577384123}. Best is trial 104 with value: 0.044578756473495164.\n"
     ]
    },
    {
     "name": "stdout",
     "output_type": "stream",
     "text": [
      "Unable to load Cython Compute_Similarity, reverting to Python\n",
      "Similarity column 22222 (100.0%), 2468.23 column/sec. Elapsed time 9.00 sec\n",
      "EvaluatorHoldout: Processed 10446 (100.0%) in 7.06 sec. Users per second: 1480\n",
      "Unable to load Cython Compute_Similarity, reverting to Python\n",
      "Similarity column 22222 (100.0%), 2486.69 column/sec. Elapsed time 8.94 sec\n",
      "EvaluatorHoldout: Processed 10431 (100.0%) in 7.74 sec. Users per second: 1348\n",
      "Unable to load Cython Compute_Similarity, reverting to Python\n",
      "Similarity column 22222 (100.0%), 2485.13 column/sec. Elapsed time 8.94 sec\n",
      "EvaluatorHoldout: Processed 10473 (100.0%) in 7.14 sec. Users per second: 1467\n"
     ]
    },
    {
     "name": "stderr",
     "output_type": "stream",
     "text": [
      "[I 2023-12-11 17:04:22,626] Trial 147 finished with value: 0.04450059504194124 and parameters: {'topK': 9, 'shrink': 5.263756057384219}. Best is trial 104 with value: 0.044578756473495164.\n"
     ]
    },
    {
     "name": "stdout",
     "output_type": "stream",
     "text": [
      "Unable to load Cython Compute_Similarity, reverting to Python\n",
      "Similarity column 22222 (100.0%), 2466.39 column/sec. Elapsed time 9.01 sec\n",
      "EvaluatorHoldout: Processed 10446 (100.0%) in 7.69 sec. Users per second: 1358\n",
      "Unable to load Cython Compute_Similarity, reverting to Python\n",
      "Similarity column 22222 (100.0%), 2550.17 column/sec. Elapsed time 8.71 sec\n",
      "EvaluatorHoldout: Processed 10431 (100.0%) in 7.07 sec. Users per second: 1476\n",
      "Unable to load Cython Compute_Similarity, reverting to Python\n",
      "Similarity column 22222 (100.0%), 2464.71 column/sec. Elapsed time 9.02 sec\n",
      "EvaluatorHoldout: Processed 10473 (100.0%) in 6.98 sec. Users per second: 1501\n"
     ]
    },
    {
     "name": "stderr",
     "output_type": "stream",
     "text": [
      "[I 2023-12-11 17:05:11,216] Trial 148 finished with value: 0.04433191885227907 and parameters: {'topK': 6, 'shrink': 3.9291870342122053}. Best is trial 104 with value: 0.044578756473495164.\n"
     ]
    },
    {
     "name": "stdout",
     "output_type": "stream",
     "text": [
      "Unable to load Cython Compute_Similarity, reverting to Python\n",
      "Similarity column 22222 (100.0%), 2397.54 column/sec. Elapsed time 9.27 sec\n",
      "EvaluatorHoldout: Processed 10446 (100.0%) in 7.45 sec. Users per second: 1403\n",
      "Unable to load Cython Compute_Similarity, reverting to Python\n",
      "Similarity column 22222 (100.0%), 2436.81 column/sec. Elapsed time 9.12 sec\n",
      "EvaluatorHoldout: Processed 10431 (100.0%) in 7.29 sec. Users per second: 1430\n",
      "Unable to load Cython Compute_Similarity, reverting to Python\n",
      "Similarity column 22222 (100.0%), 2415.11 column/sec. Elapsed time 9.20 sec\n",
      "EvaluatorHoldout: Processed 10473 (100.0%) in 7.12 sec. Users per second: 1472\n"
     ]
    },
    {
     "name": "stderr",
     "output_type": "stream",
     "text": [
      "[I 2023-12-11 17:06:00,775] Trial 149 finished with value: 0.04434114663345399 and parameters: {'topK': 15, 'shrink': 4.729812182935678}. Best is trial 104 with value: 0.044578756473495164.\n"
     ]
    },
    {
     "name": "stdout",
     "output_type": "stream",
     "text": [
      "Unable to load Cython Compute_Similarity, reverting to Python\n",
      "Similarity column 22222 (100.0%), 2483.72 column/sec. Elapsed time 8.95 sec\n",
      "EvaluatorHoldout: Processed 10446 (100.0%) in 7.11 sec. Users per second: 1470\n",
      "Unable to load Cython Compute_Similarity, reverting to Python\n",
      "Similarity column 22222 (100.0%), 2466.08 column/sec. Elapsed time 9.01 sec\n",
      "EvaluatorHoldout: Processed 10431 (100.0%) in 7.15 sec. Users per second: 1459\n",
      "Unable to load Cython Compute_Similarity, reverting to Python\n",
      "Similarity column 22222 (100.0%), 2515.99 column/sec. Elapsed time 8.83 sec\n",
      "EvaluatorHoldout: Processed 10473 (100.0%) in 7.09 sec. Users per second: 1476\n"
     ]
    },
    {
     "name": "stderr",
     "output_type": "stream",
     "text": [
      "[I 2023-12-11 17:06:49,028] Trial 150 finished with value: 0.044381727094102826 and parameters: {'topK': 11, 'shrink': 2.711525465640822}. Best is trial 104 with value: 0.044578756473495164.\n"
     ]
    },
    {
     "name": "stdout",
     "output_type": "stream",
     "text": [
      "Unable to load Cython Compute_Similarity, reverting to Python\n",
      "Similarity column 22222 (100.0%), 2402.55 column/sec. Elapsed time 9.25 sec\n",
      "EvaluatorHoldout: Processed 10446 (100.0%) in 7.18 sec. Users per second: 1455\n",
      "Unable to load Cython Compute_Similarity, reverting to Python\n",
      "Similarity column 22222 (100.0%), 2559.88 column/sec. Elapsed time 8.68 sec\n",
      "EvaluatorHoldout: Processed 10431 (100.0%) in 7.20 sec. Users per second: 1448\n",
      "Unable to load Cython Compute_Similarity, reverting to Python\n",
      "Similarity column 22222 (100.0%), 2455.57 column/sec. Elapsed time 9.05 sec\n",
      "EvaluatorHoldout: Processed 10473 (100.0%) in 7.12 sec. Users per second: 1471\n"
     ]
    },
    {
     "name": "stderr",
     "output_type": "stream",
     "text": [
      "[I 2023-12-11 17:07:37,623] Trial 151 finished with value: 0.044573409400800075 and parameters: {'topK': 13, 'shrink': 5.42007886275489}. Best is trial 104 with value: 0.044578756473495164.\n"
     ]
    },
    {
     "name": "stdout",
     "output_type": "stream",
     "text": [
      "Unable to load Cython Compute_Similarity, reverting to Python\n",
      "Similarity column 22222 (100.0%), 2432.43 column/sec. Elapsed time 9.14 sec\n",
      "EvaluatorHoldout: Processed 10446 (100.0%) in 7.21 sec. Users per second: 1449\n",
      "Unable to load Cython Compute_Similarity, reverting to Python\n",
      "Similarity column 22222 (100.0%), 2538.09 column/sec. Elapsed time 8.76 sec\n",
      "EvaluatorHoldout: Processed 10431 (100.0%) in 7.09 sec. Users per second: 1470\n",
      "Unable to load Cython Compute_Similarity, reverting to Python\n",
      "Similarity column 22222 (100.0%), 2470.02 column/sec. Elapsed time 9.00 sec\n",
      "EvaluatorHoldout: Processed 10473 (100.0%) in 7.10 sec. Users per second: 1475\n"
     ]
    },
    {
     "name": "stderr",
     "output_type": "stream",
     "text": [
      "[I 2023-12-11 17:08:26,027] Trial 152 finished with value: 0.04458650796187183 and parameters: {'topK': 13, 'shrink': 5.3621915557250714}. Best is trial 152 with value: 0.04458650796187183.\n"
     ]
    },
    {
     "name": "stdout",
     "output_type": "stream",
     "text": [
      "Unable to load Cython Compute_Similarity, reverting to Python\n",
      "Similarity column 22222 (100.0%), 2383.53 column/sec. Elapsed time 9.32 sec\n",
      "EvaluatorHoldout: Processed 10446 (100.0%) in 7.19 sec. Users per second: 1454\n",
      "Unable to load Cython Compute_Similarity, reverting to Python\n",
      "Similarity column 22222 (100.0%), 2459.57 column/sec. Elapsed time 9.03 sec\n",
      "EvaluatorHoldout: Processed 10431 (100.0%) in 7.24 sec. Users per second: 1441\n",
      "Unable to load Cython Compute_Similarity, reverting to Python\n",
      "Similarity column 22222 (100.0%), 2433.10 column/sec. Elapsed time 9.13 sec\n",
      "EvaluatorHoldout: Processed 10473 (100.0%) in 7.27 sec. Users per second: 1441\n"
     ]
    },
    {
     "name": "stderr",
     "output_type": "stream",
     "text": [
      "[I 2023-12-11 17:09:15,319] Trial 153 finished with value: 0.04431251243451395 and parameters: {'topK': 19, 'shrink': 5.424394751106572}. Best is trial 152 with value: 0.04458650796187183.\n"
     ]
    },
    {
     "name": "stdout",
     "output_type": "stream",
     "text": [
      "Unable to load Cython Compute_Similarity, reverting to Python\n",
      "Similarity column 22222 (100.0%), 2422.98 column/sec. Elapsed time 9.17 sec\n",
      "EvaluatorHoldout: Processed 10446 (100.0%) in 7.34 sec. Users per second: 1422\n",
      "Unable to load Cython Compute_Similarity, reverting to Python\n",
      "Similarity column 22222 (100.0%), 2474.04 column/sec. Elapsed time 8.98 sec\n",
      "EvaluatorHoldout: Processed 10431 (100.0%) in 7.06 sec. Users per second: 1477\n",
      "Unable to load Cython Compute_Similarity, reverting to Python\n",
      "Similarity column 22222 (100.0%), 2448.69 column/sec. Elapsed time 9.08 sec\n",
      "EvaluatorHoldout: Processed 10473 (100.0%) in 7.20 sec. Users per second: 1455\n"
     ]
    },
    {
     "name": "stderr",
     "output_type": "stream",
     "text": [
      "[I 2023-12-11 17:10:04,270] Trial 154 finished with value: 0.04425984603866514 and parameters: {'topK': 16, 'shrink': 3.795727896552922}. Best is trial 152 with value: 0.04458650796187183.\n"
     ]
    },
    {
     "name": "stdout",
     "output_type": "stream",
     "text": [
      "Unable to load Cython Compute_Similarity, reverting to Python\n",
      "Similarity column 22222 (100.0%), 2465.81 column/sec. Elapsed time 9.01 sec\n",
      "EvaluatorHoldout: Processed 10446 (100.0%) in 7.21 sec. Users per second: 1448\n",
      "Unable to load Cython Compute_Similarity, reverting to Python\n",
      "Similarity column 22222 (100.0%), 2496.09 column/sec. Elapsed time 8.90 sec\n",
      "EvaluatorHoldout: Processed 10431 (100.0%) in 7.18 sec. Users per second: 1452\n",
      "Unable to load Cython Compute_Similarity, reverting to Python\n",
      "Similarity column 22222 (100.0%), 2403.00 column/sec. Elapsed time 9.25 sec\n",
      "EvaluatorHoldout: Processed 10473 (100.0%) in 7.14 sec. Users per second: 1467\n"
     ]
    },
    {
     "name": "stderr",
     "output_type": "stream",
     "text": [
      "[I 2023-12-11 17:10:53,084] Trial 155 finished with value: 0.04459409841238019 and parameters: {'topK': 13, 'shrink': 5.327384997524228}. Best is trial 155 with value: 0.04459409841238019.\n"
     ]
    },
    {
     "name": "stdout",
     "output_type": "stream",
     "text": [
      "Unable to load Cython Compute_Similarity, reverting to Python\n",
      "Similarity column 22222 (100.0%), 2414.99 column/sec. Elapsed time 9.20 sec\n",
      "EvaluatorHoldout: Processed 10446 (100.0%) in 7.31 sec. Users per second: 1428\n",
      "Unable to load Cython Compute_Similarity, reverting to Python\n",
      "Similarity column 22222 (100.0%), 2460.00 column/sec. Elapsed time 9.03 sec\n",
      "EvaluatorHoldout: Processed 10431 (100.0%) in 7.26 sec. Users per second: 1436\n",
      "Unable to load Cython Compute_Similarity, reverting to Python\n",
      "Similarity column 22222 (100.0%), 2448.24 column/sec. Elapsed time 9.08 sec\n",
      "EvaluatorHoldout: Processed 10473 (100.0%) in 7.99 sec. Users per second: 1310\n"
     ]
    },
    {
     "name": "stderr",
     "output_type": "stream",
     "text": [
      "[I 2023-12-11 17:11:43,073] Trial 156 finished with value: 0.04439434054405639 and parameters: {'topK': 14, 'shrink': 7.049036484981147}. Best is trial 155 with value: 0.04459409841238019.\n"
     ]
    },
    {
     "name": "stdout",
     "output_type": "stream",
     "text": [
      "Unable to load Cython Compute_Similarity, reverting to Python\n",
      "Similarity column 22222 (100.0%), 2532.50 column/sec. Elapsed time 8.77 sec\n",
      "EvaluatorHoldout: Processed 10446 (100.0%) in 7.21 sec. Users per second: 1448\n",
      "Unable to load Cython Compute_Similarity, reverting to Python\n",
      "Similarity column 22222 (100.0%), 2540.80 column/sec. Elapsed time 8.75 sec\n",
      "EvaluatorHoldout: Processed 10431 (100.0%) in 7.14 sec. Users per second: 1461\n",
      "Unable to load Cython Compute_Similarity, reverting to Python\n",
      "Similarity column 22222 (100.0%), 2475.23 column/sec. Elapsed time 8.98 sec\n",
      "EvaluatorHoldout: Processed 10473 (100.0%) in 7.23 sec. Users per second: 1449\n"
     ]
    },
    {
     "name": "stderr",
     "output_type": "stream",
     "text": [
      "[I 2023-12-11 17:12:31,254] Trial 157 finished with value: 0.044507776704223144 and parameters: {'topK': 8, 'shrink': 4.263600481641356}. Best is trial 155 with value: 0.04459409841238019.\n"
     ]
    },
    {
     "name": "stdout",
     "output_type": "stream",
     "text": [
      "Unable to load Cython Compute_Similarity, reverting to Python\n",
      "Similarity column 22222 (100.0%), 2397.37 column/sec. Elapsed time 9.27 sec\n",
      "EvaluatorHoldout: Processed 10446 (100.0%) in 7.28 sec. Users per second: 1435\n",
      "Unable to load Cython Compute_Similarity, reverting to Python\n",
      "Similarity column 22222 (100.0%), 2490.15 column/sec. Elapsed time 8.92 sec\n",
      "EvaluatorHoldout: Processed 10431 (100.0%) in 7.26 sec. Users per second: 1437\n",
      "Unable to load Cython Compute_Similarity, reverting to Python\n",
      "Similarity column 22222 (100.0%), 2301.76 column/sec. Elapsed time 9.65 sec\n",
      "EvaluatorHoldout: Processed 10473 (100.0%) in 7.24 sec. Users per second: 1446\n"
     ]
    },
    {
     "name": "stderr",
     "output_type": "stream",
     "text": [
      "[I 2023-12-11 17:13:20,995] Trial 158 finished with value: 0.044265193552641885 and parameters: {'topK': 17, 'shrink': 5.6391920846786405}. Best is trial 155 with value: 0.04459409841238019.\n"
     ]
    },
    {
     "name": "stdout",
     "output_type": "stream",
     "text": [
      "Unable to load Cython Compute_Similarity, reverting to Python\n",
      "Similarity column 22222 (100.0%), 2376.54 column/sec. Elapsed time 9.35 sec\n",
      "EvaluatorHoldout: Processed 10446 (100.0%) in 7.07 sec. Users per second: 1477\n",
      "Unable to load Cython Compute_Similarity, reverting to Python\n",
      "Similarity column 22222 (100.0%), 2379.58 column/sec. Elapsed time 9.34 sec\n",
      "EvaluatorHoldout: Processed 10431 (100.0%) in 7.12 sec. Users per second: 1464\n",
      "Unable to load Cython Compute_Similarity, reverting to Python\n",
      "Similarity column 22222 (100.0%), 2484.33 column/sec. Elapsed time 8.94 sec\n",
      "EvaluatorHoldout: Processed 10473 (100.0%) in 7.38 sec. Users per second: 1420\n"
     ]
    },
    {
     "name": "stderr",
     "output_type": "stream",
     "text": [
      "[I 2023-12-11 17:14:10,314] Trial 159 finished with value: 0.044372938047138245 and parameters: {'topK': 13, 'shrink': 3.3557881645266012}. Best is trial 155 with value: 0.04459409841238019.\n"
     ]
    },
    {
     "name": "stdout",
     "output_type": "stream",
     "text": [
      "Unable to load Cython Compute_Similarity, reverting to Python\n",
      "Similarity column 22222 (100.0%), 2370.45 column/sec. Elapsed time 9.37 sec\n",
      "EvaluatorHoldout: Processed 10446 (100.0%) in 7.39 sec. Users per second: 1414\n",
      "Unable to load Cython Compute_Similarity, reverting to Python\n",
      "Similarity column 22222 (100.0%), 2455.31 column/sec. Elapsed time 9.05 sec\n",
      "EvaluatorHoldout: Processed 10431 (100.0%) in 7.20 sec. Users per second: 1448\n",
      "Unable to load Cython Compute_Similarity, reverting to Python\n",
      "Similarity column 22222 (100.0%), 2417.77 column/sec. Elapsed time 9.19 sec\n",
      "EvaluatorHoldout: Processed 10473 (100.0%) in 7.30 sec. Users per second: 1435\n"
     ]
    },
    {
     "name": "stderr",
     "output_type": "stream",
     "text": [
      "[I 2023-12-11 17:14:59,946] Trial 160 finished with value: 0.04388965948765619 and parameters: {'topK': 20, 'shrink': 2.189297488772125}. Best is trial 155 with value: 0.04459409841238019.\n"
     ]
    },
    {
     "name": "stdout",
     "output_type": "stream",
     "text": [
      "Unable to load Cython Compute_Similarity, reverting to Python\n",
      "Similarity column 22222 (100.0%), 2441.70 column/sec. Elapsed time 9.10 sec\n",
      "EvaluatorHoldout: Processed 10446 (100.0%) in 7.16 sec. Users per second: 1458\n",
      "Unable to load Cython Compute_Similarity, reverting to Python\n",
      "Similarity column 22222 (100.0%), 2402.57 column/sec. Elapsed time 9.25 sec\n",
      "EvaluatorHoldout: Processed 10431 (100.0%) in 7.81 sec. Users per second: 1336\n",
      "Unable to load Cython Compute_Similarity, reverting to Python\n",
      "Similarity column 22222 (100.0%), 2401.39 column/sec. Elapsed time 9.25 sec\n",
      "EvaluatorHoldout: Processed 10473 (100.0%) in 7.24 sec. Users per second: 1447\n"
     ]
    },
    {
     "name": "stderr",
     "output_type": "stream",
     "text": [
      "[I 2023-12-11 17:15:49,869] Trial 161 finished with value: 0.044522492800903174 and parameters: {'topK': 12, 'shrink': 5.131782050475399}. Best is trial 155 with value: 0.04459409841238019.\n"
     ]
    },
    {
     "name": "stdout",
     "output_type": "stream",
     "text": [
      "Unable to load Cython Compute_Similarity, reverting to Python\n",
      "Similarity column 22222 (100.0%), 2460.04 column/sec. Elapsed time 9.03 sec\n",
      "EvaluatorHoldout: Processed 10446 (100.0%) in 7.41 sec. Users per second: 1409\n",
      "Unable to load Cython Compute_Similarity, reverting to Python\n",
      "Similarity column 22222 (100.0%), 2492.53 column/sec. Elapsed time 8.92 sec\n",
      "EvaluatorHoldout: Processed 10431 (100.0%) in 7.03 sec. Users per second: 1483\n",
      "Unable to load Cython Compute_Similarity, reverting to Python\n",
      "Similarity column 22222 (100.0%), 2347.69 column/sec. Elapsed time 9.47 sec\n",
      "EvaluatorHoldout: Processed 10473 (100.0%) in 7.26 sec. Users per second: 1444\n"
     ]
    },
    {
     "name": "stderr",
     "output_type": "stream",
     "text": [
      "[I 2023-12-11 17:16:39,104] Trial 162 finished with value: 0.04454138185652199 and parameters: {'topK': 10, 'shrink': 4.932715473405536}. Best is trial 155 with value: 0.04459409841238019.\n"
     ]
    },
    {
     "name": "stdout",
     "output_type": "stream",
     "text": [
      "Unable to load Cython Compute_Similarity, reverting to Python\n",
      "Similarity column 22222 (100.0%), 2412.09 column/sec. Elapsed time 9.21 sec\n",
      "EvaluatorHoldout: Processed 10446 (100.0%) in 7.22 sec. Users per second: 1447\n",
      "Unable to load Cython Compute_Similarity, reverting to Python\n",
      "Similarity column 22222 (100.0%), 2432.19 column/sec. Elapsed time 9.14 sec\n",
      "EvaluatorHoldout: Processed 10431 (100.0%) in 7.47 sec. Users per second: 1397\n",
      "Unable to load Cython Compute_Similarity, reverting to Python\n",
      "Similarity column 22222 (100.0%), 2457.84 column/sec. Elapsed time 9.04 sec\n",
      "EvaluatorHoldout: Processed 10473 (100.0%) in 7.19 sec. Users per second: 1457\n"
     ]
    },
    {
     "name": "stderr",
     "output_type": "stream",
     "text": [
      "[I 2023-12-11 17:17:28,482] Trial 163 finished with value: 0.044513613099745504 and parameters: {'topK': 12, 'shrink': 5.672079225982144}. Best is trial 155 with value: 0.04459409841238019.\n"
     ]
    },
    {
     "name": "stdout",
     "output_type": "stream",
     "text": [
      "Unable to load Cython Compute_Similarity, reverting to Python\n",
      "Similarity column 22222 (100.0%), 2408.34 column/sec. Elapsed time 9.23 sec\n",
      "EvaluatorHoldout: Processed 10446 (100.0%) in 7.25 sec. Users per second: 1441\n",
      "Unable to load Cython Compute_Similarity, reverting to Python\n",
      "Similarity column 22222 (100.0%), 2484.36 column/sec. Elapsed time 8.94 sec\n",
      "EvaluatorHoldout: Processed 10431 (100.0%) in 7.20 sec. Users per second: 1449\n",
      "Unable to load Cython Compute_Similarity, reverting to Python\n",
      "Similarity column 22222 (100.0%), 2391.16 column/sec. Elapsed time 9.29 sec\n",
      "EvaluatorHoldout: Processed 10473 (100.0%) in 7.64 sec. Users per second: 1372\n"
     ]
    },
    {
     "name": "stderr",
     "output_type": "stream",
     "text": [
      "[I 2023-12-11 17:18:18,160] Trial 164 finished with value: 0.044391012253875435 and parameters: {'topK': 15, 'shrink': 6.567488957790845}. Best is trial 155 with value: 0.04459409841238019.\n"
     ]
    },
    {
     "name": "stdout",
     "output_type": "stream",
     "text": [
      "Unable to load Cython Compute_Similarity, reverting to Python\n",
      "Similarity column 22222 (100.0%), 2252.91 column/sec. Elapsed time 9.86 sec\n",
      "EvaluatorHoldout: Processed 10446 (100.0%) in 7.61 sec. Users per second: 1372\n",
      "Unable to load Cython Compute_Similarity, reverting to Python\n",
      "Similarity column 22222 (100.0%), 2286.20 column/sec. Elapsed time 9.72 sec\n",
      "EvaluatorHoldout: Processed 10431 (100.0%) in 7.57 sec. Users per second: 1378\n",
      "Unable to load Cython Compute_Similarity, reverting to Python\n",
      "Similarity column 22222 (100.0%), 2267.40 column/sec. Elapsed time 9.80 sec\n",
      "EvaluatorHoldout: Processed 10473 (100.0%) in 7.47 sec. Users per second: 1401\n"
     ]
    },
    {
     "name": "stderr",
     "output_type": "stream",
     "text": [
      "[I 2023-12-11 17:19:10,358] Trial 165 finished with value: 0.043506269453436656 and parameters: {'topK': 41, 'shrink': 5.111800702263742}. Best is trial 155 with value: 0.04459409841238019.\n"
     ]
    },
    {
     "name": "stdout",
     "output_type": "stream",
     "text": [
      "Unable to load Cython Compute_Similarity, reverting to Python\n",
      "Similarity column 22222 (100.0%), 2481.37 column/sec. Elapsed time 8.96 sec\n",
      "EvaluatorHoldout: Processed 10446 (100.0%) in 7.15 sec. Users per second: 1461\n",
      "Unable to load Cython Compute_Similarity, reverting to Python\n",
      "Similarity column 22222 (100.0%), 2467.06 column/sec. Elapsed time 9.01 sec\n",
      "EvaluatorHoldout: Processed 10431 (100.0%) in 7.63 sec. Users per second: 1368\n",
      "Unable to load Cython Compute_Similarity, reverting to Python\n",
      "Similarity column 22222 (100.0%), 2449.03 column/sec. Elapsed time 9.07 sec\n",
      "EvaluatorHoldout: Processed 10473 (100.0%) in 7.15 sec. Users per second: 1464\n"
     ]
    },
    {
     "name": "stderr",
     "output_type": "stream",
     "text": [
      "[I 2023-12-11 17:19:59,432] Trial 166 finished with value: 0.044386336339782645 and parameters: {'topK': 7, 'shrink': 6.094015822723619}. Best is trial 155 with value: 0.04459409841238019.\n"
     ]
    },
    {
     "name": "stdout",
     "output_type": "stream",
     "text": [
      "Unable to load Cython Compute_Similarity, reverting to Python\n",
      "Similarity column 22222 (100.0%), 2408.79 column/sec. Elapsed time 9.23 sec\n",
      "EvaluatorHoldout: Processed 10446 (100.0%) in 7.22 sec. Users per second: 1448\n",
      "Unable to load Cython Compute_Similarity, reverting to Python\n",
      "Similarity column 22222 (100.0%), 2457.74 column/sec. Elapsed time 9.04 sec\n",
      "EvaluatorHoldout: Processed 10431 (100.0%) in 7.24 sec. Users per second: 1441\n",
      "Unable to load Cython Compute_Similarity, reverting to Python\n",
      "Similarity column 22222 (100.0%), 2468.74 column/sec. Elapsed time 9.00 sec\n",
      "EvaluatorHoldout: Processed 10473 (100.0%) in 7.35 sec. Users per second: 1426\n"
     ]
    },
    {
     "name": "stderr",
     "output_type": "stream",
     "text": [
      "[I 2023-12-11 17:20:48,611] Trial 167 finished with value: 0.04454268577665979 and parameters: {'topK': 10, 'shrink': 4.085009641758113}. Best is trial 155 with value: 0.04459409841238019.\n"
     ]
    },
    {
     "name": "stdout",
     "output_type": "stream",
     "text": [
      "Unable to load Cython Compute_Similarity, reverting to Python\n",
      "Similarity column 22222 (100.0%), 2448.78 column/sec. Elapsed time 9.07 sec\n",
      "EvaluatorHoldout: Processed 10446 (100.0%) in 7.15 sec. Users per second: 1460\n",
      "Unable to load Cython Compute_Similarity, reverting to Python\n",
      "Similarity column 22222 (100.0%), 2470.11 column/sec. Elapsed time 9.00 sec\n",
      "EvaluatorHoldout: Processed 10431 (100.0%) in 7.08 sec. Users per second: 1473\n",
      "Unable to load Cython Compute_Similarity, reverting to Python\n",
      "Similarity column 22222 (100.0%), 2470.74 column/sec. Elapsed time 8.99 sec\n",
      "EvaluatorHoldout: Processed 10473 (100.0%) in 7.95 sec. Users per second: 1317\n"
     ]
    },
    {
     "name": "stderr",
     "output_type": "stream",
     "text": [
      "[I 2023-12-11 17:21:37,968] Trial 168 finished with value: 0.04453155156167566 and parameters: {'topK': 10, 'shrink': 4.125566783541153}. Best is trial 155 with value: 0.04459409841238019.\n"
     ]
    },
    {
     "name": "stdout",
     "output_type": "stream",
     "text": [
      "Unable to load Cython Compute_Similarity, reverting to Python\n",
      "Similarity column 22222 (100.0%), 2504.72 column/sec. Elapsed time 8.87 sec\n",
      "EvaluatorHoldout: Processed 10446 (100.0%) in 7.24 sec. Users per second: 1443\n",
      "Unable to load Cython Compute_Similarity, reverting to Python\n",
      "Similarity column 22222 (100.0%), 2535.56 column/sec. Elapsed time 8.76 sec\n",
      "EvaluatorHoldout: Processed 10431 (100.0%) in 7.71 sec. Users per second: 1353\n",
      "Unable to load Cython Compute_Similarity, reverting to Python\n",
      "Similarity column 22222 (100.0%), 2521.11 column/sec. Elapsed time 8.81 sec\n",
      "EvaluatorHoldout: Processed 10473 (100.0%) in 6.97 sec. Users per second: 1502\n"
     ]
    },
    {
     "name": "stderr",
     "output_type": "stream",
     "text": [
      "[I 2023-12-11 17:22:26,451] Trial 169 finished with value: 0.04390735204704311 and parameters: {'topK': 5, 'shrink': 9.679176418270067}. Best is trial 155 with value: 0.04459409841238019.\n"
     ]
    },
    {
     "name": "stdout",
     "output_type": "stream",
     "text": [
      "Unable to load Cython Compute_Similarity, reverting to Python\n",
      "Similarity column 22222 (100.0%), 2405.60 column/sec. Elapsed time 9.24 sec\n",
      "EvaluatorHoldout: Processed 10446 (100.0%) in 7.05 sec. Users per second: 1482\n",
      "Unable to load Cython Compute_Similarity, reverting to Python\n",
      "Similarity column 22222 (100.0%), 2520.61 column/sec. Elapsed time 8.82 sec\n",
      "EvaluatorHoldout: Processed 10431 (100.0%) in 7.38 sec. Users per second: 1414\n",
      "Unable to load Cython Compute_Similarity, reverting to Python\n",
      "Similarity column 22222 (100.0%), 2480.50 column/sec. Elapsed time 8.96 sec\n",
      "EvaluatorHoldout: Processed 10473 (100.0%) in 7.25 sec. Users per second: 1445\n"
     ]
    },
    {
     "name": "stderr",
     "output_type": "stream",
     "text": [
      "[I 2023-12-11 17:23:15,254] Trial 170 finished with value: 0.044462892382491404 and parameters: {'topK': 9, 'shrink': 3.876687025781839}. Best is trial 155 with value: 0.04459409841238019.\n"
     ]
    },
    {
     "name": "stdout",
     "output_type": "stream",
     "text": [
      "Unable to load Cython Compute_Similarity, reverting to Python\n",
      "Similarity column 22222 (100.0%), 2514.13 column/sec. Elapsed time 8.84 sec\n",
      "EvaluatorHoldout: Processed 10446 (100.0%) in 7.17 sec. Users per second: 1457\n",
      "Unable to load Cython Compute_Similarity, reverting to Python\n",
      "Similarity column 22222 (100.0%), 2482.53 column/sec. Elapsed time 8.95 sec\n",
      "EvaluatorHoldout: Processed 10431 (100.0%) in 7.03 sec. Users per second: 1484\n",
      "Unable to load Cython Compute_Similarity, reverting to Python\n",
      "Similarity column 22222 (100.0%), 2407.64 column/sec. Elapsed time 9.23 sec\n",
      "EvaluatorHoldout: Processed 10473 (100.0%) in 7.12 sec. Users per second: 1472\n"
     ]
    },
    {
     "name": "stderr",
     "output_type": "stream",
     "text": [
      "[I 2023-12-11 17:24:03,704] Trial 171 finished with value: 0.04449450171440785 and parameters: {'topK': 10, 'shrink': 4.5191212312495725}. Best is trial 155 with value: 0.04459409841238019.\n"
     ]
    },
    {
     "name": "stdout",
     "output_type": "stream",
     "text": [
      "Unable to load Cython Compute_Similarity, reverting to Python\n",
      "Similarity column 22222 (100.0%), 2485.74 column/sec. Elapsed time 8.94 sec\n",
      "EvaluatorHoldout: Processed 10446 (100.0%) in 7.24 sec. Users per second: 1442\n",
      "Unable to load Cython Compute_Similarity, reverting to Python\n",
      "Similarity column 22222 (100.0%), 2494.20 column/sec. Elapsed time 8.91 sec\n",
      "EvaluatorHoldout: Processed 10431 (100.0%) in 7.14 sec. Users per second: 1460\n",
      "Unable to load Cython Compute_Similarity, reverting to Python\n",
      "Similarity column 22222 (100.0%), 2414.82 column/sec. Elapsed time 9.20 sec\n",
      "EvaluatorHoldout: Processed 10473 (100.0%) in 7.09 sec. Users per second: 1477\n"
     ]
    },
    {
     "name": "stderr",
     "output_type": "stream",
     "text": [
      "[I 2023-12-11 17:24:52,348] Trial 172 finished with value: 0.044408234653889454 and parameters: {'topK': 13, 'shrink': 3.395447820323197}. Best is trial 155 with value: 0.04459409841238019.\n"
     ]
    },
    {
     "name": "stdout",
     "output_type": "stream",
     "text": [
      "Unable to load Cython Compute_Similarity, reverting to Python\n",
      "Similarity column 22222 (100.0%), 2471.77 column/sec. Elapsed time 8.99 sec\n",
      "EvaluatorHoldout: Processed 10446 (100.0%) in 7.07 sec. Users per second: 1477\n",
      "Unable to load Cython Compute_Similarity, reverting to Python\n",
      "Similarity column 22222 (100.0%), 2489.61 column/sec. Elapsed time 8.93 sec\n",
      "EvaluatorHoldout: Processed 10431 (100.0%) in 7.07 sec. Users per second: 1476\n",
      "Unable to load Cython Compute_Similarity, reverting to Python\n",
      "Similarity column 22222 (100.0%), 2464.32 column/sec. Elapsed time 9.02 sec\n",
      "EvaluatorHoldout: Processed 10473 (100.0%) in 7.20 sec. Users per second: 1454\n"
     ]
    },
    {
     "name": "stderr",
     "output_type": "stream",
     "text": [
      "[I 2023-12-11 17:25:40,748] Trial 173 finished with value: 0.04449447256878205 and parameters: {'topK': 10, 'shrink': 4.198220591629228}. Best is trial 155 with value: 0.04459409841238019.\n"
     ]
    },
    {
     "name": "stdout",
     "output_type": "stream",
     "text": [
      "Unable to load Cython Compute_Similarity, reverting to Python\n",
      "Similarity column 22222 (100.0%), 2478.16 column/sec. Elapsed time 8.97 sec\n",
      "EvaluatorHoldout: Processed 10446 (100.0%) in 7.63 sec. Users per second: 1370\n",
      "Unable to load Cython Compute_Similarity, reverting to Python\n",
      "Similarity column 22222 (100.0%), 2518.57 column/sec. Elapsed time 8.82 sec\n",
      "EvaluatorHoldout: Processed 10431 (100.0%) in 7.07 sec. Users per second: 1476\n",
      "Unable to load Cython Compute_Similarity, reverting to Python\n",
      "Similarity column 22222 (100.0%), 2431.26 column/sec. Elapsed time 9.14 sec\n",
      "EvaluatorHoldout: Processed 10473 (100.0%) in 7.75 sec. Users per second: 1351\n"
     ]
    },
    {
     "name": "stderr",
     "output_type": "stream",
     "text": [
      "[I 2023-12-11 17:26:30,240] Trial 174 finished with value: 0.04416216782809454 and parameters: {'topK': 15, 'shrink': 2.9249441782428436}. Best is trial 155 with value: 0.04459409841238019.\n"
     ]
    },
    {
     "name": "stdout",
     "output_type": "stream",
     "text": [
      "Unable to load Cython Compute_Similarity, reverting to Python\n",
      "Similarity column 22222 (100.0%), 2518.50 column/sec. Elapsed time 8.82 sec\n",
      "EvaluatorHoldout: Processed 10446 (100.0%) in 7.12 sec. Users per second: 1468\n",
      "Unable to load Cython Compute_Similarity, reverting to Python\n",
      "Similarity column 22222 (100.0%), 2520.58 column/sec. Elapsed time 8.82 sec\n",
      "EvaluatorHoldout: Processed 10431 (100.0%) in 7.10 sec. Users per second: 1469\n",
      "Unable to load Cython Compute_Similarity, reverting to Python\n",
      "Similarity column 22222 (100.0%), 2511.03 column/sec. Elapsed time 8.85 sec\n",
      "EvaluatorHoldout: Processed 10473 (100.0%) in 7.32 sec. Users per second: 1430\n"
     ]
    },
    {
     "name": "stderr",
     "output_type": "stream",
     "text": [
      "[I 2023-12-11 17:27:18,380] Trial 175 finished with value: 0.04437153060200446 and parameters: {'topK': 7, 'shrink': 4.941347584796864}. Best is trial 155 with value: 0.04459409841238019.\n"
     ]
    },
    {
     "name": "stdout",
     "output_type": "stream",
     "text": [
      "Unable to load Cython Compute_Similarity, reverting to Python\n",
      "Similarity column 22222 (100.0%), 2479.45 column/sec. Elapsed time 8.96 sec\n",
      "EvaluatorHoldout: Processed 10446 (100.0%) in 7.13 sec. Users per second: 1466\n",
      "Unable to load Cython Compute_Similarity, reverting to Python\n",
      "Similarity column 22222 (100.0%), 2440.53 column/sec. Elapsed time 9.11 sec\n",
      "EvaluatorHoldout: Processed 10431 (100.0%) in 7.12 sec. Users per second: 1465\n",
      "Unable to load Cython Compute_Similarity, reverting to Python\n",
      "Similarity column 22222 (100.0%), 2453.24 column/sec. Elapsed time 9.06 sec\n",
      "EvaluatorHoldout: Processed 10473 (100.0%) in 7.21 sec. Users per second: 1452\n"
     ]
    },
    {
     "name": "stderr",
     "output_type": "stream",
     "text": [
      "[I 2023-12-11 17:28:07,087] Trial 176 finished with value: 0.04452217254971689 and parameters: {'topK': 12, 'shrink': 5.592311752382244}. Best is trial 155 with value: 0.04459409841238019.\n"
     ]
    },
    {
     "name": "stdout",
     "output_type": "stream",
     "text": [
      "Unable to load Cython Compute_Similarity, reverting to Python\n",
      "Similarity column 22222 (100.0%), 2469.23 column/sec. Elapsed time 9.00 sec\n",
      "EvaluatorHoldout: Processed 10446 (100.0%) in 7.27 sec. Users per second: 1437\n",
      "Unable to load Cython Compute_Similarity, reverting to Python\n",
      "Similarity column 22222 (100.0%), 2442.66 column/sec. Elapsed time 9.10 sec\n",
      "EvaluatorHoldout: Processed 10431 (100.0%) in 7.32 sec. Users per second: 1426\n",
      "Unable to load Cython Compute_Similarity, reverting to Python\n",
      "Similarity column 22222 (100.0%), 2445.76 column/sec. Elapsed time 9.09 sec\n",
      "EvaluatorHoldout: Processed 10473 (100.0%) in 7.43 sec. Users per second: 1409\n"
     ]
    },
    {
     "name": "stderr",
     "output_type": "stream",
     "text": [
      "[I 2023-12-11 17:28:56,414] Trial 177 finished with value: 0.044408871972855625 and parameters: {'topK': 17, 'shrink': 7.579526097725677}. Best is trial 155 with value: 0.04459409841238019.\n"
     ]
    },
    {
     "name": "stdout",
     "output_type": "stream",
     "text": [
      "Unable to load Cython Compute_Similarity, reverting to Python\n",
      "Similarity column 22222 (100.0%), 2497.12 column/sec. Elapsed time 8.90 sec\n",
      "EvaluatorHoldout: Processed 10446 (100.0%) in 7.22 sec. Users per second: 1448\n",
      "Unable to load Cython Compute_Similarity, reverting to Python\n",
      "Similarity column 22222 (100.0%), 2336.25 column/sec. Elapsed time 9.51 sec\n",
      "EvaluatorHoldout: Processed 10431 (100.0%) in 7.13 sec. Users per second: 1462\n",
      "Unable to load Cython Compute_Similarity, reverting to Python\n",
      "Similarity column 22222 (100.0%), 2433.57 column/sec. Elapsed time 9.13 sec\n",
      "EvaluatorHoldout: Processed 10473 (100.0%) in 7.08 sec. Users per second: 1479\n"
     ]
    },
    {
     "name": "stderr",
     "output_type": "stream",
     "text": [
      "[I 2023-12-11 17:29:45,505] Trial 178 finished with value: 0.044567216862607596 and parameters: {'topK': 13, 'shrink': 5.664376664079866}. Best is trial 155 with value: 0.04459409841238019.\n"
     ]
    },
    {
     "name": "stdout",
     "output_type": "stream",
     "text": [
      "Unable to load Cython Compute_Similarity, reverting to Python\n",
      "Similarity column 22222 (100.0%), 2428.10 column/sec. Elapsed time 9.15 sec\n",
      "EvaluatorHoldout: Processed 10446 (100.0%) in 7.24 sec. Users per second: 1443\n",
      "Unable to load Cython Compute_Similarity, reverting to Python\n",
      "Similarity column 22222 (100.0%), 2528.66 column/sec. Elapsed time 8.79 sec\n",
      "EvaluatorHoldout: Processed 10431 (100.0%) in 8.42 sec. Users per second: 1239\n",
      "Unable to load Cython Compute_Similarity, reverting to Python\n",
      "Similarity column 22222 (100.0%), 2501.99 column/sec. Elapsed time 8.88 sec\n",
      "EvaluatorHoldout: Processed 10473 (100.0%) in 7.21 sec. Users per second: 1452\n"
     ]
    },
    {
     "name": "stderr",
     "output_type": "stream",
     "text": [
      "[I 2023-12-11 17:30:35,314] Trial 179 finished with value: 0.04438760911930486 and parameters: {'topK': 15, 'shrink': 6.564315946516282}. Best is trial 155 with value: 0.04459409841238019.\n"
     ]
    },
    {
     "name": "stdout",
     "output_type": "stream",
     "text": [
      "Unable to load Cython Compute_Similarity, reverting to Python\n",
      "Similarity column 22222 (100.0%), 2407.34 column/sec. Elapsed time 9.23 sec\n",
      "EvaluatorHoldout: Processed 10446 (100.0%) in 7.20 sec. Users per second: 1451\n",
      "Unable to load Cython Compute_Similarity, reverting to Python\n",
      "Similarity column 22222 (100.0%), 2469.26 column/sec. Elapsed time 9.00 sec\n",
      "EvaluatorHoldout: Processed 10431 (100.0%) in 7.41 sec. Users per second: 1407\n",
      "Unable to load Cython Compute_Similarity, reverting to Python\n",
      "Similarity column 22222 (100.0%), 2504.98 column/sec. Elapsed time 8.87 sec\n",
      "EvaluatorHoldout: Processed 10473 (100.0%) in 7.33 sec. Users per second: 1429\n"
     ]
    },
    {
     "name": "stderr",
     "output_type": "stream",
     "text": [
      "[I 2023-12-11 17:31:24,478] Trial 180 finished with value: 0.04448196511371829 and parameters: {'topK': 13, 'shrink': 6.257305850353894}. Best is trial 155 with value: 0.04459409841238019.\n"
     ]
    },
    {
     "name": "stdout",
     "output_type": "stream",
     "text": [
      "Unable to load Cython Compute_Similarity, reverting to Python\n",
      "Similarity column 22222 (100.0%), 2453.30 column/sec. Elapsed time 9.06 sec\n",
      "EvaluatorHoldout: Processed 10446 (100.0%) in 8.73 sec. Users per second: 1196\n",
      "Unable to load Cython Compute_Similarity, reverting to Python\n",
      "Similarity column 22222 (100.0%), 2533.16 column/sec. Elapsed time 8.77 sec\n",
      "EvaluatorHoldout: Processed 10431 (100.0%) in 7.31 sec. Users per second: 1428\n",
      "Unable to load Cython Compute_Similarity, reverting to Python\n",
      "Similarity column 22222 (100.0%), 2506.14 column/sec. Elapsed time 8.87 sec\n",
      "EvaluatorHoldout: Processed 10473 (100.0%) in 7.24 sec. Users per second: 1446\n"
     ]
    },
    {
     "name": "stderr",
     "output_type": "stream",
     "text": [
      "[I 2023-12-11 17:32:14,578] Trial 181 finished with value: 0.04450706936172163 and parameters: {'topK': 12, 'shrink': 5.636551137383151}. Best is trial 155 with value: 0.04459409841238019.\n"
     ]
    },
    {
     "name": "stdout",
     "output_type": "stream",
     "text": [
      "Unable to load Cython Compute_Similarity, reverting to Python\n",
      "Similarity column 22222 (100.0%), 2399.71 column/sec. Elapsed time 9.26 sec\n",
      "EvaluatorHoldout: Processed 10446 (100.0%) in 7.18 sec. Users per second: 1455\n",
      "Unable to load Cython Compute_Similarity, reverting to Python\n",
      "Similarity column 22222 (100.0%), 2492.39 column/sec. Elapsed time 8.92 sec\n",
      "EvaluatorHoldout: Processed 10431 (100.0%) in 7.15 sec. Users per second: 1459\n",
      "Unable to load Cython Compute_Similarity, reverting to Python\n",
      "Similarity column 22222 (100.0%), 2471.62 column/sec. Elapsed time 8.99 sec\n",
      "EvaluatorHoldout: Processed 10473 (100.0%) in 7.25 sec. Users per second: 1444\n"
     ]
    },
    {
     "name": "stderr",
     "output_type": "stream",
     "text": [
      "[I 2023-12-11 17:33:03,444] Trial 182 finished with value: 0.04445924484892399 and parameters: {'topK': 11, 'shrink': 5.3047315065886504}. Best is trial 155 with value: 0.04459409841238019.\n"
     ]
    },
    {
     "name": "stdout",
     "output_type": "stream",
     "text": [
      "Unable to load Cython Compute_Similarity, reverting to Python\n",
      "Similarity column 22222 (100.0%), 2520.58 column/sec. Elapsed time 8.82 sec\n",
      "EvaluatorHoldout: Processed 10446 (100.0%) in 7.25 sec. Users per second: 1441\n",
      "Unable to load Cython Compute_Similarity, reverting to Python\n",
      "Similarity column 22222 (100.0%), 2511.91 column/sec. Elapsed time 8.85 sec\n",
      "EvaluatorHoldout: Processed 10431 (100.0%) in 7.06 sec. Users per second: 1477\n",
      "Unable to load Cython Compute_Similarity, reverting to Python\n",
      "Similarity column 22222 (100.0%), 2404.67 column/sec. Elapsed time 9.24 sec\n",
      "EvaluatorHoldout: Processed 10473 (100.0%) in 7.27 sec. Users per second: 1441\n"
     ]
    },
    {
     "name": "stderr",
     "output_type": "stream",
     "text": [
      "[I 2023-12-11 17:33:52,045] Trial 183 finished with value: 0.04450803917522541 and parameters: {'topK': 9, 'shrink': 5.619590913870823}. Best is trial 155 with value: 0.04459409841238019.\n"
     ]
    },
    {
     "name": "stdout",
     "output_type": "stream",
     "text": [
      "Unable to load Cython Compute_Similarity, reverting to Python\n",
      "Similarity column 22222 (100.0%), 2423.63 column/sec. Elapsed time 9.17 sec\n",
      "EvaluatorHoldout: Processed 10446 (100.0%) in 7.18 sec. Users per second: 1455\n",
      "Unable to load Cython Compute_Similarity, reverting to Python\n",
      "Similarity column 22222 (100.0%), 2464.66 column/sec. Elapsed time 9.02 sec\n",
      "EvaluatorHoldout: Processed 10431 (100.0%) in 7.21 sec. Users per second: 1446\n",
      "Unable to load Cython Compute_Similarity, reverting to Python\n",
      "Similarity column 22222 (100.0%), 2418.98 column/sec. Elapsed time 9.19 sec\n",
      "EvaluatorHoldout: Processed 10473 (100.0%) in 7.14 sec. Users per second: 1466\n"
     ]
    },
    {
     "name": "stderr",
     "output_type": "stream",
     "text": [
      "[I 2023-12-11 17:34:41,068] Trial 184 finished with value: 0.04441400464005985 and parameters: {'topK': 14, 'shrink': 4.827354105003779}. Best is trial 155 with value: 0.04459409841238019.\n"
     ]
    },
    {
     "name": "stdout",
     "output_type": "stream",
     "text": [
      "Unable to load Cython Compute_Similarity, reverting to Python\n",
      "Similarity column 22222 (100.0%), 2444.84 column/sec. Elapsed time 9.09 sec\n",
      "EvaluatorHoldout: Processed 10446 (100.0%) in 7.34 sec. Users per second: 1423\n",
      "Unable to load Cython Compute_Similarity, reverting to Python\n",
      "Similarity column 22222 (100.0%), 2497.97 column/sec. Elapsed time 8.90 sec\n",
      "EvaluatorHoldout: Processed 10431 (100.0%) in 7.33 sec. Users per second: 1423\n",
      "Unable to load Cython Compute_Similarity, reverting to Python\n",
      "Similarity column 22222 (100.0%), 2431.02 column/sec. Elapsed time 9.14 sec\n",
      "EvaluatorHoldout: Processed 10473 (100.0%) in 7.34 sec. Users per second: 1426\n"
     ]
    },
    {
     "name": "stderr",
     "output_type": "stream",
     "text": [
      "[I 2023-12-11 17:35:30,320] Trial 185 finished with value: 0.04438058241640517 and parameters: {'topK': 18, 'shrink': 7.163173156264504}. Best is trial 155 with value: 0.04459409841238019.\n"
     ]
    },
    {
     "name": "stdout",
     "output_type": "stream",
     "text": [
      "Unable to load Cython Compute_Similarity, reverting to Python\n",
      "Similarity column 22222 (100.0%), 2107.08 column/sec. Elapsed time 10.55 sec\n",
      "EvaluatorHoldout: Processed 10446 (100.0%) in 7.95 sec. Users per second: 1315\n",
      "Unable to load Cython Compute_Similarity, reverting to Python\n",
      "Similarity column 22222 (100.0%), 2159.40 column/sec. Elapsed time 10.29 sec\n",
      "EvaluatorHoldout: Processed 10431 (100.0%) in 7.94 sec. Users per second: 1314\n",
      "Unable to load Cython Compute_Similarity, reverting to Python\n",
      "Similarity column 22222 (100.0%), 2130.40 column/sec. Elapsed time 10.43 sec\n",
      "EvaluatorHoldout: Processed 10473 (100.0%) in 7.90 sec. Users per second: 1326\n"
     ]
    },
    {
     "name": "stderr",
     "output_type": "stream",
     "text": [
      "[I 2023-12-11 17:36:25,587] Trial 186 finished with value: 0.042808352151187584 and parameters: {'topK': 65, 'shrink': 8.468134398961771}. Best is trial 155 with value: 0.04459409841238019.\n"
     ]
    },
    {
     "name": "stdout",
     "output_type": "stream",
     "text": [
      "Unable to load Cython Compute_Similarity, reverting to Python\n",
      "Similarity column 22222 (100.0%), 2442.39 column/sec. Elapsed time 9.10 sec\n",
      "EvaluatorHoldout: Processed 10446 (100.0%) in 7.05 sec. Users per second: 1482\n",
      "Unable to load Cython Compute_Similarity, reverting to Python\n",
      "Similarity column 22222 (100.0%), 2366.28 column/sec. Elapsed time 9.39 sec\n",
      "EvaluatorHoldout: Processed 10431 (100.0%) in 7.25 sec. Users per second: 1440\n",
      "Unable to load Cython Compute_Similarity, reverting to Python\n",
      "Similarity column 22222 (100.0%), 2511.56 column/sec. Elapsed time 8.85 sec\n",
      "EvaluatorHoldout: Processed 10473 (100.0%) in 7.42 sec. Users per second: 1412\n"
     ]
    },
    {
     "name": "stderr",
     "output_type": "stream",
     "text": [
      "[I 2023-12-11 17:37:14,746] Trial 187 finished with value: 0.04455605809972873 and parameters: {'topK': 13, 'shrink': 5.912186731345148}. Best is trial 155 with value: 0.04459409841238019.\n"
     ]
    },
    {
     "name": "stdout",
     "output_type": "stream",
     "text": [
      "Unable to load Cython Compute_Similarity, reverting to Python\n",
      "Similarity column 22222 (100.0%), 2443.75 column/sec. Elapsed time 9.09 sec\n",
      "EvaluatorHoldout: Processed 10446 (100.0%) in 7.10 sec. Users per second: 1472\n",
      "Unable to load Cython Compute_Similarity, reverting to Python\n",
      "Similarity column 22222 (100.0%), 2537.44 column/sec. Elapsed time 8.76 sec\n",
      "EvaluatorHoldout: Processed 10431 (100.0%) in 7.02 sec. Users per second: 1486\n",
      "Unable to load Cython Compute_Similarity, reverting to Python\n",
      "Similarity column 22222 (100.0%), 2504.87 column/sec. Elapsed time 8.87 sec\n",
      "EvaluatorHoldout: Processed 10473 (100.0%) in 7.20 sec. Users per second: 1455\n"
     ]
    },
    {
     "name": "stderr",
     "output_type": "stream",
     "text": [
      "[I 2023-12-11 17:38:02,896] Trial 188 finished with value: 0.04447954530748596 and parameters: {'topK': 8, 'shrink': 4.039540721642239}. Best is trial 155 with value: 0.04459409841238019.\n"
     ]
    },
    {
     "name": "stdout",
     "output_type": "stream",
     "text": [
      "Unable to load Cython Compute_Similarity, reverting to Python\n",
      "Similarity column 22222 (100.0%), 2392.52 column/sec. Elapsed time 9.29 sec\n",
      "EvaluatorHoldout: Processed 10446 (100.0%) in 7.60 sec. Users per second: 1374\n",
      "Unable to load Cython Compute_Similarity, reverting to Python\n",
      "Similarity column 22222 (100.0%), 2493.15 column/sec. Elapsed time 8.91 sec\n",
      "EvaluatorHoldout: Processed 10431 (100.0%) in 7.23 sec. Users per second: 1443\n",
      "Unable to load Cython Compute_Similarity, reverting to Python\n",
      "Similarity column 22222 (100.0%), 2456.26 column/sec. Elapsed time 9.05 sec\n",
      "EvaluatorHoldout: Processed 10473 (100.0%) in 7.26 sec. Users per second: 1443\n"
     ]
    },
    {
     "name": "stderr",
     "output_type": "stream",
     "text": [
      "[I 2023-12-11 17:38:52,347] Trial 189 finished with value: 0.04440041999059812 and parameters: {'topK': 16, 'shrink': 6.112256359719878}. Best is trial 155 with value: 0.04459409841238019.\n"
     ]
    },
    {
     "name": "stdout",
     "output_type": "stream",
     "text": [
      "Unable to load Cython Compute_Similarity, reverting to Python\n",
      "Similarity column 22222 (100.0%), 2489.93 column/sec. Elapsed time 8.92 sec\n",
      "EvaluatorHoldout: Processed 10446 (100.0%) in 7.11 sec. Users per second: 1469\n",
      "Unable to load Cython Compute_Similarity, reverting to Python\n",
      "Similarity column 22222 (100.0%), 2491.82 column/sec. Elapsed time 8.92 sec\n",
      "EvaluatorHoldout: Processed 10431 (100.0%) in 7.19 sec. Users per second: 1450\n",
      "Unable to load Cython Compute_Similarity, reverting to Python\n",
      "Similarity column 22222 (100.0%), 2475.08 column/sec. Elapsed time 8.98 sec\n",
      "EvaluatorHoldout: Processed 10473 (100.0%) in 7.21 sec. Users per second: 1453\n"
     ]
    },
    {
     "name": "stderr",
     "output_type": "stream",
     "text": [
      "[I 2023-12-11 17:39:40,802] Trial 190 finished with value: 0.044432134931862495 and parameters: {'topK': 11, 'shrink': 4.922365762733369}. Best is trial 155 with value: 0.04459409841238019.\n"
     ]
    },
    {
     "name": "stdout",
     "output_type": "stream",
     "text": [
      "Unable to load Cython Compute_Similarity, reverting to Python\n",
      "Similarity column 22222 (100.0%), 2356.67 column/sec. Elapsed time 9.43 sec\n",
      "EvaluatorHoldout: Processed 10446 (100.0%) in 7.16 sec. Users per second: 1459\n",
      "Unable to load Cython Compute_Similarity, reverting to Python\n",
      "Similarity column 22222 (100.0%), 2517.04 column/sec. Elapsed time 8.83 sec\n",
      "EvaluatorHoldout: Processed 10431 (100.0%) in 7.17 sec. Users per second: 1455\n",
      "Unable to load Cython Compute_Similarity, reverting to Python\n",
      "Similarity column 22222 (100.0%), 2445.69 column/sec. Elapsed time 9.09 sec\n",
      "EvaluatorHoldout: Processed 10473 (100.0%) in 7.14 sec. Users per second: 1466\n"
     ]
    },
    {
     "name": "stderr",
     "output_type": "stream",
     "text": [
      "[I 2023-12-11 17:40:29,739] Trial 191 finished with value: 0.04458119875241531 and parameters: {'topK': 13, 'shrink': 5.797223755877932}. Best is trial 155 with value: 0.04459409841238019.\n"
     ]
    },
    {
     "name": "stdout",
     "output_type": "stream",
     "text": [
      "Unable to load Cython Compute_Similarity, reverting to Python\n",
      "Similarity column 22222 (100.0%), 2505.47 column/sec. Elapsed time 8.87 sec\n",
      "EvaluatorHoldout: Processed 10446 (100.0%) in 7.33 sec. Users per second: 1425\n",
      "Unable to load Cython Compute_Similarity, reverting to Python\n",
      "Similarity column 22222 (100.0%), 2471.78 column/sec. Elapsed time 8.99 sec\n",
      "EvaluatorHoldout: Processed 10431 (100.0%) in 7.15 sec. Users per second: 1458\n",
      "Unable to load Cython Compute_Similarity, reverting to Python\n",
      "Similarity column 22222 (100.0%), 2509.99 column/sec. Elapsed time 8.85 sec\n",
      "EvaluatorHoldout: Processed 10473 (100.0%) in 7.15 sec. Users per second: 1464\n"
     ]
    },
    {
     "name": "stderr",
     "output_type": "stream",
     "text": [
      "[I 2023-12-11 17:41:18,218] Trial 192 finished with value: 0.04450417649458444 and parameters: {'topK': 13, 'shrink': 6.76077365962339}. Best is trial 155 with value: 0.04459409841238019.\n"
     ]
    },
    {
     "name": "stdout",
     "output_type": "stream",
     "text": [
      "Unable to load Cython Compute_Similarity, reverting to Python\n",
      "Similarity column 22222 (100.0%), 2396.53 column/sec. Elapsed time 9.27 sec\n",
      "EvaluatorHoldout: Processed 10446 (100.0%) in 7.17 sec. Users per second: 1456\n",
      "Unable to load Cython Compute_Similarity, reverting to Python\n",
      "Similarity column 22222 (100.0%), 2490.73 column/sec. Elapsed time 8.92 sec\n",
      "EvaluatorHoldout: Processed 10431 (100.0%) in 7.27 sec. Users per second: 1435\n",
      "Unable to load Cython Compute_Similarity, reverting to Python\n",
      "Similarity column 22222 (100.0%), 2453.79 column/sec. Elapsed time 9.06 sec\n",
      "EvaluatorHoldout: Processed 10473 (100.0%) in 7.24 sec. Users per second: 1447\n"
     ]
    },
    {
     "name": "stderr",
     "output_type": "stream",
     "text": [
      "[I 2023-12-11 17:42:07,257] Trial 193 finished with value: 0.044424366471957404 and parameters: {'topK': 14, 'shrink': 6.088641401710291}. Best is trial 155 with value: 0.04459409841238019.\n"
     ]
    },
    {
     "name": "stdout",
     "output_type": "stream",
     "text": [
      "Unable to load Cython Compute_Similarity, reverting to Python\n",
      "Similarity column 22222 (100.0%), 2455.09 column/sec. Elapsed time 9.05 sec\n",
      "EvaluatorHoldout: Processed 10446 (100.0%) in 7.06 sec. Users per second: 1479\n",
      "Unable to load Cython Compute_Similarity, reverting to Python\n",
      "Similarity column 22222 (100.0%), 2506.35 column/sec. Elapsed time 8.87 sec\n",
      "EvaluatorHoldout: Processed 10431 (100.0%) in 7.16 sec. Users per second: 1458\n",
      "Unable to load Cython Compute_Similarity, reverting to Python\n",
      "Similarity column 22222 (100.0%), 2483.13 column/sec. Elapsed time 8.95 sec\n",
      "EvaluatorHoldout: Processed 10473 (100.0%) in 7.29 sec. Users per second: 1436\n"
     ]
    },
    {
     "name": "stderr",
     "output_type": "stream",
     "text": [
      "[I 2023-12-11 17:42:55,742] Trial 194 finished with value: 0.044523146224220544 and parameters: {'topK': 10, 'shrink': 5.157704768391666}. Best is trial 155 with value: 0.04459409841238019.\n"
     ]
    },
    {
     "name": "stdout",
     "output_type": "stream",
     "text": [
      "Unable to load Cython Compute_Similarity, reverting to Python\n",
      "Similarity column 22222 (100.0%), 2495.85 column/sec. Elapsed time 8.90 sec\n",
      "EvaluatorHoldout: Processed 10446 (100.0%) in 7.08 sec. Users per second: 1475\n",
      "Unable to load Cython Compute_Similarity, reverting to Python\n",
      "Similarity column 22222 (100.0%), 2467.93 column/sec. Elapsed time 9.00 sec\n",
      "EvaluatorHoldout: Processed 10431 (100.0%) in 7.07 sec. Users per second: 1475\n",
      "Unable to load Cython Compute_Similarity, reverting to Python\n",
      "Similarity column 22222 (100.0%), 2479.41 column/sec. Elapsed time 8.96 sec\n",
      "EvaluatorHoldout: Processed 10473 (100.0%) in 7.10 sec. Users per second: 1475\n"
     ]
    },
    {
     "name": "stderr",
     "output_type": "stream",
     "text": [
      "[I 2023-12-11 17:43:43,981] Trial 195 finished with value: 0.04446880716052054 and parameters: {'topK': 9, 'shrink': 4.360636020341979}. Best is trial 155 with value: 0.04459409841238019.\n"
     ]
    },
    {
     "name": "stdout",
     "output_type": "stream",
     "text": [
      "Unable to load Cython Compute_Similarity, reverting to Python\n",
      "Similarity column 22222 (100.0%), 2314.19 column/sec. Elapsed time 9.60 sec\n",
      "EvaluatorHoldout: Processed 10446 (100.0%) in 7.42 sec. Users per second: 1408\n",
      "Unable to load Cython Compute_Similarity, reverting to Python\n",
      "Similarity column 22222 (100.0%), 2368.70 column/sec. Elapsed time 9.38 sec\n",
      "EvaluatorHoldout: Processed 10431 (100.0%) in 7.76 sec. Users per second: 1345\n",
      "Unable to load Cython Compute_Similarity, reverting to Python\n",
      "Similarity column 22222 (100.0%), 2325.30 column/sec. Elapsed time 9.56 sec\n",
      "EvaluatorHoldout: Processed 10473 (100.0%) in 7.59 sec. Users per second: 1380\n"
     ]
    },
    {
     "name": "stderr",
     "output_type": "stream",
     "text": [
      "[I 2023-12-11 17:44:35,434] Trial 196 finished with value: 0.043763251470023155 and parameters: {'topK': 34, 'shrink': 7.5175521646290715}. Best is trial 155 with value: 0.04459409841238019.\n"
     ]
    },
    {
     "name": "stdout",
     "output_type": "stream",
     "text": [
      "Unable to load Cython Compute_Similarity, reverting to Python\n",
      "Similarity column 22222 (100.0%), 2492.94 column/sec. Elapsed time 8.91 sec\n",
      "EvaluatorHoldout: Processed 10446 (100.0%) in 7.08 sec. Users per second: 1476\n",
      "Unable to load Cython Compute_Similarity, reverting to Python\n",
      "Similarity column 22222 (100.0%), 2524.45 column/sec. Elapsed time 8.80 sec\n",
      "EvaluatorHoldout: Processed 10431 (100.0%) in 7.05 sec. Users per second: 1480\n",
      "Unable to load Cython Compute_Similarity, reverting to Python\n",
      "Similarity column 22222 (100.0%), 2522.07 column/sec. Elapsed time 8.81 sec\n",
      "EvaluatorHoldout: Processed 10473 (100.0%) in 7.09 sec. Users per second: 1477\n"
     ]
    },
    {
     "name": "stderr",
     "output_type": "stream",
     "text": [
      "[I 2023-12-11 17:45:23,289] Trial 197 finished with value: 0.04433539820992105 and parameters: {'topK': 6, 'shrink': 3.737753881660786}. Best is trial 155 with value: 0.04459409841238019.\n"
     ]
    },
    {
     "name": "stdout",
     "output_type": "stream",
     "text": [
      "Unable to load Cython Compute_Similarity, reverting to Python\n",
      "Similarity column 22222 (100.0%), 2456.41 column/sec. Elapsed time 9.05 sec\n",
      "EvaluatorHoldout: Processed 10446 (100.0%) in 7.35 sec. Users per second: 1420\n",
      "Unable to load Cython Compute_Similarity, reverting to Python\n",
      "Similarity column 22222 (100.0%), 2465.39 column/sec. Elapsed time 9.01 sec\n",
      "EvaluatorHoldout: Processed 10431 (100.0%) in 7.33 sec. Users per second: 1424\n",
      "Unable to load Cython Compute_Similarity, reverting to Python\n",
      "Similarity column 22222 (100.0%), 2474.26 column/sec. Elapsed time 8.98 sec\n",
      "EvaluatorHoldout: Processed 10473 (100.0%) in 7.58 sec. Users per second: 1382\n"
     ]
    },
    {
     "name": "stderr",
     "output_type": "stream",
     "text": [
      "[I 2023-12-11 17:46:12,704] Trial 198 finished with value: 0.044403382667315416 and parameters: {'topK': 16, 'shrink': 5.838852225314496}. Best is trial 155 with value: 0.04459409841238019.\n"
     ]
    },
    {
     "name": "stdout",
     "output_type": "stream",
     "text": [
      "Unable to load Cython Compute_Similarity, reverting to Python\n",
      "Similarity column 22222 (100.0%), 2529.47 column/sec. Elapsed time 8.79 sec\n",
      "EvaluatorHoldout: Processed 10446 (100.0%) in 7.12 sec. Users per second: 1467\n",
      "Unable to load Cython Compute_Similarity, reverting to Python\n",
      "Similarity column 22222 (100.0%), 2514.10 column/sec. Elapsed time 8.84 sec\n",
      "EvaluatorHoldout: Processed 10431 (100.0%) in 7.13 sec. Users per second: 1463\n",
      "Unable to load Cython Compute_Similarity, reverting to Python\n",
      "Similarity column 22222 (100.0%), 2453.84 column/sec. Elapsed time 9.06 sec\n",
      "EvaluatorHoldout: Processed 10473 (100.0%) in 7.12 sec. Users per second: 1472\n"
     ]
    },
    {
     "name": "stderr",
     "output_type": "stream",
     "text": [
      "[I 2023-12-11 17:47:00,870] Trial 199 finished with value: 0.044493506032402284 and parameters: {'topK': 10, 'shrink': 4.753148586732775}. Best is trial 155 with value: 0.04459409841238019.\n"
     ]
    },
    {
     "name": "stdout",
     "output_type": "stream",
     "text": [
      "Unable to load Cython Compute_Similarity, reverting to Python\n",
      "Similarity column 22222 (100.0%), 2445.75 column/sec. Elapsed time 9.09 sec\n",
      "EvaluatorHoldout: Processed 10446 (100.0%) in 7.21 sec. Users per second: 1449\n",
      "Unable to load Cython Compute_Similarity, reverting to Python\n",
      "Similarity column 22222 (100.0%), 2549.61 column/sec. Elapsed time 8.72 sec\n",
      "EvaluatorHoldout: Processed 10431 (100.0%) in 7.02 sec. Users per second: 1486\n",
      "Unable to load Cython Compute_Similarity, reverting to Python\n",
      "Similarity column 22222 (100.0%), 2507.31 column/sec. Elapsed time 8.86 sec\n",
      "EvaluatorHoldout: Processed 10473 (100.0%) in 7.27 sec. Users per second: 1441\n"
     ]
    },
    {
     "name": "stderr",
     "output_type": "stream",
     "text": [
      "[I 2023-12-11 17:47:49,155] Trial 200 finished with value: 0.044485878572846964 and parameters: {'topK': 8, 'shrink': 6.723687374455756}. Best is trial 155 with value: 0.04459409841238019.\n"
     ]
    },
    {
     "name": "stdout",
     "output_type": "stream",
     "text": [
      "Unable to load Cython Compute_Similarity, reverting to Python\n",
      "Similarity column 22222 (100.0%), 2457.59 column/sec. Elapsed time 9.04 sec\n",
      "EvaluatorHoldout: Processed 10446 (100.0%) in 7.19 sec. Users per second: 1454\n",
      "Unable to load Cython Compute_Similarity, reverting to Python\n",
      "Similarity column 22222 (100.0%), 2504.10 column/sec. Elapsed time 8.87 sec\n",
      "EvaluatorHoldout: Processed 10431 (100.0%) in 7.21 sec. Users per second: 1448\n",
      "Unable to load Cython Compute_Similarity, reverting to Python\n",
      "Similarity column 22222 (100.0%), 2483.86 column/sec. Elapsed time 8.95 sec\n",
      "EvaluatorHoldout: Processed 10473 (100.0%) in 7.13 sec. Users per second: 1468\n"
     ]
    },
    {
     "name": "stderr",
     "output_type": "stream",
     "text": [
      "[I 2023-12-11 17:48:37,653] Trial 201 finished with value: 0.04450799937332584 and parameters: {'topK': 12, 'shrink': 5.2759818838151915}. Best is trial 155 with value: 0.04459409841238019.\n"
     ]
    },
    {
     "name": "stdout",
     "output_type": "stream",
     "text": [
      "Unable to load Cython Compute_Similarity, reverting to Python\n",
      "Similarity column 22222 (100.0%), 2425.30 column/sec. Elapsed time 9.16 sec\n",
      "EvaluatorHoldout: Processed 10446 (100.0%) in 7.25 sec. Users per second: 1440\n",
      "Unable to load Cython Compute_Similarity, reverting to Python\n",
      "Similarity column 22222 (100.0%), 2527.78 column/sec. Elapsed time 8.79 sec\n",
      "EvaluatorHoldout: Processed 10431 (100.0%) in 7.23 sec. Users per second: 1442\n",
      "Unable to load Cython Compute_Similarity, reverting to Python\n",
      "Similarity column 22222 (100.0%), 2480.69 column/sec. Elapsed time 8.96 sec\n",
      "EvaluatorHoldout: Processed 10473 (100.0%) in 7.17 sec. Users per second: 1462\n"
     ]
    },
    {
     "name": "stderr",
     "output_type": "stream",
     "text": [
      "[I 2023-12-11 17:49:26,323] Trial 202 finished with value: 0.04446432011455265 and parameters: {'topK': 14, 'shrink': 4.937985532140639}. Best is trial 155 with value: 0.04459409841238019.\n"
     ]
    },
    {
     "name": "stdout",
     "output_type": "stream",
     "text": [
      "Unable to load Cython Compute_Similarity, reverting to Python\n",
      "Similarity column 22222 (100.0%), 2434.41 column/sec. Elapsed time 9.13 sec\n",
      "EvaluatorHoldout: Processed 10446 (100.0%) in 7.18 sec. Users per second: 1455\n",
      "Unable to load Cython Compute_Similarity, reverting to Python\n",
      "Similarity column 22222 (100.0%), 2543.25 column/sec. Elapsed time 8.74 sec\n",
      "EvaluatorHoldout: Processed 10431 (100.0%) in 7.07 sec. Users per second: 1475\n",
      "Unable to load Cython Compute_Similarity, reverting to Python\n",
      "Similarity column 22222 (100.0%), 2483.63 column/sec. Elapsed time 8.95 sec\n",
      "EvaluatorHoldout: Processed 10473 (100.0%) in 7.27 sec. Users per second: 1441\n"
     ]
    },
    {
     "name": "stderr",
     "output_type": "stream",
     "text": [
      "[I 2023-12-11 17:50:14,775] Trial 203 finished with value: 0.04450599977191911 and parameters: {'topK': 12, 'shrink': 5.24966155589977}. Best is trial 155 with value: 0.04459409841238019.\n"
     ]
    },
    {
     "name": "stdout",
     "output_type": "stream",
     "text": [
      "Unable to load Cython Compute_Similarity, reverting to Python\n",
      "Similarity column 22222 (100.0%), 2458.06 column/sec. Elapsed time 9.04 sec\n",
      "EvaluatorHoldout: Processed 10446 (100.0%) in 7.17 sec. Users per second: 1458\n",
      "Unable to load Cython Compute_Similarity, reverting to Python\n",
      "Similarity column 22222 (100.0%), 2533.96 column/sec. Elapsed time 8.77 sec\n",
      "EvaluatorHoldout: Processed 10431 (100.0%) in 7.24 sec. Users per second: 1442\n",
      "Unable to load Cython Compute_Similarity, reverting to Python\n",
      "Similarity column 22222 (100.0%), 2419.42 column/sec. Elapsed time 9.18 sec\n",
      "EvaluatorHoldout: Processed 10473 (100.0%) in 7.18 sec. Users per second: 1458\n"
     ]
    },
    {
     "name": "stderr",
     "output_type": "stream",
     "text": [
      "[I 2023-12-11 17:51:03,473] Trial 204 finished with value: 0.044413637487534526 and parameters: {'topK': 11, 'shrink': 6.032479135158332}. Best is trial 155 with value: 0.04459409841238019.\n"
     ]
    },
    {
     "name": "stdout",
     "output_type": "stream",
     "text": [
      "Unable to load Cython Compute_Similarity, reverting to Python\n",
      "Similarity column 22222 (100.0%), 2494.68 column/sec. Elapsed time 8.91 sec\n",
      "EvaluatorHoldout: Processed 10446 (100.0%) in 7.16 sec. Users per second: 1459\n",
      "Unable to load Cython Compute_Similarity, reverting to Python\n",
      "Similarity column 22222 (100.0%), 2452.88 column/sec. Elapsed time 9.06 sec\n",
      "EvaluatorHoldout: Processed 10431 (100.0%) in 7.10 sec. Users per second: 1468\n",
      "Unable to load Cython Compute_Similarity, reverting to Python\n",
      "Similarity column 22222 (100.0%), 2449.27 column/sec. Elapsed time 9.07 sec\n",
      "EvaluatorHoldout: Processed 10473 (100.0%) in 7.24 sec. Users per second: 1446\n"
     ]
    },
    {
     "name": "stderr",
     "output_type": "stream",
     "text": [
      "[I 2023-12-11 17:51:52,132] Trial 205 finished with value: 0.0443797155465846 and parameters: {'topK': 14, 'shrink': 4.374308849795817}. Best is trial 155 with value: 0.04459409841238019.\n"
     ]
    },
    {
     "name": "stdout",
     "output_type": "stream",
     "text": [
      "Unable to load Cython Compute_Similarity, reverting to Python\n",
      "Similarity column 22222 (100.0%), 2330.52 column/sec. Elapsed time 9.54 sec\n",
      "EvaluatorHoldout: Processed 10446 (100.0%) in 7.18 sec. Users per second: 1454\n",
      "Unable to load Cython Compute_Similarity, reverting to Python\n",
      "Similarity column 22222 (100.0%), 2479.55 column/sec. Elapsed time 8.96 sec\n",
      "EvaluatorHoldout: Processed 10431 (100.0%) in 7.27 sec. Users per second: 1434\n",
      "Unable to load Cython Compute_Similarity, reverting to Python\n",
      "Similarity column 22222 (100.0%), 2480.35 column/sec. Elapsed time 8.96 sec\n",
      "EvaluatorHoldout: Processed 10473 (100.0%) in 7.32 sec. Users per second: 1430\n"
     ]
    },
    {
     "name": "stderr",
     "output_type": "stream",
     "text": [
      "[I 2023-12-11 17:52:41,475] Trial 206 finished with value: 0.04423326955372031 and parameters: {'topK': 18, 'shrink': 5.503348298973846}. Best is trial 155 with value: 0.04459409841238019.\n"
     ]
    },
    {
     "name": "stdout",
     "output_type": "stream",
     "text": [
      "Unable to load Cython Compute_Similarity, reverting to Python\n",
      "Similarity column 22222 (100.0%), 2454.93 column/sec. Elapsed time 9.05 sec\n",
      "EvaluatorHoldout: Processed 10446 (100.0%) in 7.10 sec. Users per second: 1472\n",
      "Unable to load Cython Compute_Similarity, reverting to Python\n",
      "Similarity column 22222 (100.0%), 2412.29 column/sec. Elapsed time 9.21 sec\n",
      "EvaluatorHoldout: Processed 10431 (100.0%) in 7.01 sec. Users per second: 1487\n",
      "Unable to load Cython Compute_Similarity, reverting to Python\n",
      "Similarity column 22222 (100.0%), 2439.02 column/sec. Elapsed time 9.11 sec\n",
      "EvaluatorHoldout: Processed 10473 (100.0%) in 7.17 sec. Users per second: 1460\n"
     ]
    },
    {
     "name": "stderr",
     "output_type": "stream",
     "text": [
      "[I 2023-12-11 17:53:30,249] Trial 207 finished with value: 0.0444881939338809 and parameters: {'topK': 10, 'shrink': 3.651945142838305}. Best is trial 155 with value: 0.04459409841238019.\n"
     ]
    },
    {
     "name": "stdout",
     "output_type": "stream",
     "text": [
      "Unable to load Cython Compute_Similarity, reverting to Python\n",
      "Similarity column 22222 (100.0%), 2488.84 column/sec. Elapsed time 8.93 sec\n",
      "EvaluatorHoldout: Processed 10446 (100.0%) in 7.08 sec. Users per second: 1475\n",
      "Unable to load Cython Compute_Similarity, reverting to Python\n",
      "Similarity column 22222 (100.0%), 2514.72 column/sec. Elapsed time 8.84 sec\n",
      "EvaluatorHoldout: Processed 10431 (100.0%) in 7.19 sec. Users per second: 1450\n",
      "Unable to load Cython Compute_Similarity, reverting to Python\n",
      "Similarity column 22222 (100.0%), 2552.65 column/sec. Elapsed time 8.71 sec\n",
      "EvaluatorHoldout: Processed 10473 (100.0%) in 7.18 sec. Users per second: 1458\n"
     ]
    },
    {
     "name": "stderr",
     "output_type": "stream",
     "text": [
      "[I 2023-12-11 17:54:18,292] Trial 208 finished with value: 0.044352262072102126 and parameters: {'topK': 7, 'shrink': 4.7920247677767245}. Best is trial 155 with value: 0.04459409841238019.\n"
     ]
    },
    {
     "name": "stdout",
     "output_type": "stream",
     "text": [
      "Unable to load Cython Compute_Similarity, reverting to Python\n",
      "Similarity column 22222 (100.0%), 2450.84 column/sec. Elapsed time 9.07 sec\n",
      "EvaluatorHoldout: Processed 10446 (100.0%) in 7.30 sec. Users per second: 1431\n",
      "Unable to load Cython Compute_Similarity, reverting to Python\n",
      "Similarity column 22222 (100.0%), 2478.25 column/sec. Elapsed time 8.97 sec\n",
      "EvaluatorHoldout: Processed 10431 (100.0%) in 7.24 sec. Users per second: 1441\n",
      "Unable to load Cython Compute_Similarity, reverting to Python\n",
      "Similarity column 22222 (100.0%), 2362.00 column/sec. Elapsed time 9.41 sec\n",
      "EvaluatorHoldout: Processed 10473 (100.0%) in 7.27 sec. Users per second: 1440\n"
     ]
    },
    {
     "name": "stderr",
     "output_type": "stream",
     "text": [
      "[I 2023-12-11 17:55:07,664] Trial 209 finished with value: 0.04438861549700004 and parameters: {'topK': 15, 'shrink': 6.500935777915804}. Best is trial 155 with value: 0.04459409841238019.\n"
     ]
    },
    {
     "name": "stdout",
     "output_type": "stream",
     "text": [
      "Unable to load Cython Compute_Similarity, reverting to Python\n",
      "Similarity column 22222 (100.0%), 2097.16 column/sec. Elapsed time 10.60 sec\n",
      "EvaluatorHoldout: Processed 10446 (100.0%) in 8.02 sec. Users per second: 1303\n",
      "Unable to load Cython Compute_Similarity, reverting to Python\n",
      "Similarity column 22222 (100.0%), 2116.48 column/sec. Elapsed time 10.50 sec\n",
      "EvaluatorHoldout: Processed 10431 (100.0%) in 7.93 sec. Users per second: 1315\n",
      "Unable to load Cython Compute_Similarity, reverting to Python\n",
      "Similarity column 22222 (100.0%), 2125.71 column/sec. Elapsed time 10.45 sec\n",
      "EvaluatorHoldout: Processed 10473 (100.0%) in 7.91 sec. Users per second: 1325\n"
     ]
    },
    {
     "name": "stderr",
     "output_type": "stream",
     "text": [
      "[I 2023-12-11 17:56:03,320] Trial 210 finished with value: 0.0426438355467545 and parameters: {'topK': 75, 'shrink': 5.708568436825054}. Best is trial 155 with value: 0.04459409841238019.\n"
     ]
    },
    {
     "name": "stdout",
     "output_type": "stream",
     "text": [
      "Unable to load Cython Compute_Similarity, reverting to Python\n",
      "Similarity column 22222 (100.0%), 2420.65 column/sec. Elapsed time 9.18 sec\n",
      "EvaluatorHoldout: Processed 10446 (100.0%) in 7.12 sec. Users per second: 1467\n",
      "Unable to load Cython Compute_Similarity, reverting to Python\n",
      "Similarity column 22222 (100.0%), 2512.92 column/sec. Elapsed time 8.84 sec\n",
      "EvaluatorHoldout: Processed 10431 (100.0%) in 7.14 sec. Users per second: 1462\n",
      "Unable to load Cython Compute_Similarity, reverting to Python\n",
      "Similarity column 22222 (100.0%), 2413.26 column/sec. Elapsed time 9.21 sec\n",
      "EvaluatorHoldout: Processed 10473 (100.0%) in 7.10 sec. Users per second: 1476\n"
     ]
    },
    {
     "name": "stderr",
     "output_type": "stream",
     "text": [
      "[I 2023-12-11 17:56:52,013] Trial 211 finished with value: 0.04450219923522251 and parameters: {'topK': 12, 'shrink': 5.457183278167325}. Best is trial 155 with value: 0.04459409841238019.\n"
     ]
    },
    {
     "name": "stdout",
     "output_type": "stream",
     "text": [
      "Unable to load Cython Compute_Similarity, reverting to Python\n",
      "Similarity column 22222 (100.0%), 2376.09 column/sec. Elapsed time 9.35 sec\n",
      "EvaluatorHoldout: Processed 10446 (100.0%) in 7.14 sec. Users per second: 1463\n",
      "Unable to load Cython Compute_Similarity, reverting to Python\n",
      "Similarity column 22222 (100.0%), 2502.87 column/sec. Elapsed time 8.88 sec\n",
      "EvaluatorHoldout: Processed 10431 (100.0%) in 7.15 sec. Users per second: 1459\n",
      "Unable to load Cython Compute_Similarity, reverting to Python\n",
      "Similarity column 22222 (100.0%), 2513.71 column/sec. Elapsed time 8.84 sec\n",
      "EvaluatorHoldout: Processed 10473 (100.0%) in 7.14 sec. Users per second: 1468\n"
     ]
    },
    {
     "name": "stderr",
     "output_type": "stream",
     "text": [
      "[I 2023-12-11 17:57:40,632] Trial 212 finished with value: 0.044406889732326836 and parameters: {'topK': 12, 'shrink': 4.270932928934944}. Best is trial 155 with value: 0.04459409841238019.\n"
     ]
    },
    {
     "name": "stdout",
     "output_type": "stream",
     "text": [
      "Unable to load Cython Compute_Similarity, reverting to Python\n",
      "Similarity column 22222 (100.0%), 2424.64 column/sec. Elapsed time 9.17 sec\n",
      "EvaluatorHoldout: Processed 10446 (100.0%) in 7.16 sec. Users per second: 1459\n",
      "Unable to load Cython Compute_Similarity, reverting to Python\n",
      "Similarity column 22222 (100.0%), 2478.59 column/sec. Elapsed time 8.97 sec\n",
      "EvaluatorHoldout: Processed 10431 (100.0%) in 7.11 sec. Users per second: 1467\n",
      "Unable to load Cython Compute_Similarity, reverting to Python\n",
      "Similarity column 22222 (100.0%), 2407.70 column/sec. Elapsed time 9.23 sec\n",
      "EvaluatorHoldout: Processed 10473 (100.0%) in 7.14 sec. Users per second: 1466\n"
     ]
    },
    {
     "name": "stderr",
     "output_type": "stream",
     "text": [
      "[I 2023-12-11 17:58:29,520] Trial 213 finished with value: 0.04445677329465533 and parameters: {'topK': 9, 'shrink': 6.130685938747866}. Best is trial 155 with value: 0.04459409841238019.\n"
     ]
    },
    {
     "name": "stdout",
     "output_type": "stream",
     "text": [
      "Unable to load Cython Compute_Similarity, reverting to Python\n",
      "Similarity column 22222 (100.0%), 2473.61 column/sec. Elapsed time 8.98 sec\n",
      "EvaluatorHoldout: Processed 10446 (100.0%) in 7.27 sec. Users per second: 1436\n",
      "Unable to load Cython Compute_Similarity, reverting to Python\n",
      "Similarity column 22222 (100.0%), 2502.02 column/sec. Elapsed time 8.88 sec\n",
      "EvaluatorHoldout: Processed 10431 (100.0%) in 7.20 sec. Users per second: 1448\n",
      "Unable to load Cython Compute_Similarity, reverting to Python\n",
      "Similarity column 22222 (100.0%), 2465.76 column/sec. Elapsed time 9.01 sec\n",
      "EvaluatorHoldout: Processed 10473 (100.0%) in 7.41 sec. Users per second: 1414\n"
     ]
    },
    {
     "name": "stderr",
     "output_type": "stream",
     "text": [
      "[I 2023-12-11 17:59:18,407] Trial 214 finished with value: 0.04460582170547206 and parameters: {'topK': 13, 'shrink': 5.205812107942231}. Best is trial 214 with value: 0.04460582170547206.\n"
     ]
    },
    {
     "name": "stdout",
     "output_type": "stream",
     "text": [
      "Unable to load Cython Compute_Similarity, reverting to Python\n",
      "Similarity column 22222 (100.0%), 2425.57 column/sec. Elapsed time 9.16 sec\n",
      "EvaluatorHoldout: Processed 10446 (100.0%) in 7.24 sec. Users per second: 1442\n",
      "Unable to load Cython Compute_Similarity, reverting to Python\n",
      "Similarity column 22222 (100.0%), 2496.45 column/sec. Elapsed time 8.90 sec\n",
      "EvaluatorHoldout: Processed 10431 (100.0%) in 7.23 sec. Users per second: 1443\n",
      "Unable to load Cython Compute_Similarity, reverting to Python\n",
      "Similarity column 22222 (100.0%), 2476.42 column/sec. Elapsed time 8.97 sec\n",
      "EvaluatorHoldout: Processed 10473 (100.0%) in 7.32 sec. Users per second: 1430\n"
     ]
    },
    {
     "name": "stderr",
     "output_type": "stream",
     "text": [
      "[I 2023-12-11 18:00:07,355] Trial 215 finished with value: 0.04430998484944748 and parameters: {'topK': 16, 'shrink': 5.0053403971162505}. Best is trial 214 with value: 0.04460582170547206.\n"
     ]
    },
    {
     "name": "stdout",
     "output_type": "stream",
     "text": [
      "Unable to load Cython Compute_Similarity, reverting to Python\n",
      "Similarity column 22222 (100.0%), 2435.67 column/sec. Elapsed time 9.12 sec\n",
      "EvaluatorHoldout: Processed 10446 (100.0%) in 7.12 sec. Users per second: 1467\n",
      "Unable to load Cython Compute_Similarity, reverting to Python\n",
      "Similarity column 22222 (100.0%), 2165.19 column/sec. Elapsed time 10.26 sec\n",
      "EvaluatorHoldout: Processed 10431 (100.0%) in 7.12 sec. Users per second: 1464\n",
      "Unable to load Cython Compute_Similarity, reverting to Python\n",
      "Similarity column 22222 (100.0%), 2429.06 column/sec. Elapsed time 9.15 sec\n",
      "EvaluatorHoldout: Processed 10473 (100.0%) in 7.14 sec. Users per second: 1466\n"
     ]
    },
    {
     "name": "stderr",
     "output_type": "stream",
     "text": [
      "[I 2023-12-11 18:00:57,399] Trial 216 finished with value: 0.044230808614487895 and parameters: {'topK': 14, 'shrink': 3.1132809788632283}. Best is trial 214 with value: 0.04460582170547206.\n"
     ]
    },
    {
     "name": "stdout",
     "output_type": "stream",
     "text": [
      "Unable to load Cython Compute_Similarity, reverting to Python\n",
      "Similarity column 22222 (100.0%), 2413.13 column/sec. Elapsed time 9.21 sec\n",
      "EvaluatorHoldout: Processed 10446 (100.0%) in 7.23 sec. Users per second: 1445\n",
      "Unable to load Cython Compute_Similarity, reverting to Python\n",
      "Similarity column 22222 (100.0%), 2522.68 column/sec. Elapsed time 8.81 sec\n",
      "EvaluatorHoldout: Processed 10431 (100.0%) in 7.15 sec. Users per second: 1460\n",
      "Unable to load Cython Compute_Similarity, reverting to Python\n",
      "Similarity column 22222 (100.0%), 2451.97 column/sec. Elapsed time 9.06 sec\n",
      "EvaluatorHoldout: Processed 10473 (100.0%) in 7.44 sec. Users per second: 1407\n"
     ]
    },
    {
     "name": "stderr",
     "output_type": "stream",
     "text": [
      "[I 2023-12-11 18:01:46,409] Trial 217 finished with value: 0.04451368468504716 and parameters: {'topK': 10, 'shrink': 4.6033941997154555}. Best is trial 214 with value: 0.04460582170547206.\n"
     ]
    },
    {
     "name": "stdout",
     "output_type": "stream",
     "text": [
      "Unable to load Cython Compute_Similarity, reverting to Python\n",
      "Similarity column 22222 (100.0%), 2435.83 column/sec. Elapsed time 9.12 sec\n",
      "EvaluatorHoldout: Processed 10446 (100.0%) in 7.24 sec. Users per second: 1444\n",
      "Unable to load Cython Compute_Similarity, reverting to Python\n",
      "Similarity column 22222 (100.0%), 2509.43 column/sec. Elapsed time 8.86 sec\n",
      "EvaluatorHoldout: Processed 10431 (100.0%) in 7.16 sec. Users per second: 1457\n",
      "Unable to load Cython Compute_Similarity, reverting to Python\n",
      "Similarity column 22222 (100.0%), 2460.92 column/sec. Elapsed time 9.03 sec\n",
      "EvaluatorHoldout: Processed 10473 (100.0%) in 7.41 sec. Users per second: 1413\n"
     ]
    },
    {
     "name": "stderr",
     "output_type": "stream",
     "text": [
      "[I 2023-12-11 18:02:35,331] Trial 218 finished with value: 0.04450428737923373 and parameters: {'topK': 13, 'shrink': 6.968296165993684}. Best is trial 214 with value: 0.04460582170547206.\n"
     ]
    },
    {
     "name": "stdout",
     "output_type": "stream",
     "text": [
      "Unable to load Cython Compute_Similarity, reverting to Python\n",
      "Similarity column 22222 (100.0%), 2514.21 column/sec. Elapsed time 8.84 sec\n",
      "EvaluatorHoldout: Processed 10446 (100.0%) in 7.11 sec. Users per second: 1470\n",
      "Unable to load Cython Compute_Similarity, reverting to Python\n",
      "Similarity column 22222 (100.0%), 2495.57 column/sec. Elapsed time 8.90 sec\n",
      "EvaluatorHoldout: Processed 10431 (100.0%) in 7.06 sec. Users per second: 1478\n",
      "Unable to load Cython Compute_Similarity, reverting to Python\n",
      "Similarity column 22222 (100.0%), 2487.65 column/sec. Elapsed time 8.93 sec\n",
      "EvaluatorHoldout: Processed 10473 (100.0%) in 7.29 sec. Users per second: 1437\n"
     ]
    },
    {
     "name": "stderr",
     "output_type": "stream",
     "text": [
      "[I 2023-12-11 18:03:23,569] Trial 219 finished with value: 0.044468332741773565 and parameters: {'topK': 11, 'shrink': 5.177267241273636}. Best is trial 214 with value: 0.04460582170547206.\n"
     ]
    },
    {
     "name": "stdout",
     "output_type": "stream",
     "text": [
      "Unable to load Cython Compute_Similarity, reverting to Python\n",
      "Similarity column 22222 (100.0%), 2417.61 column/sec. Elapsed time 9.19 sec\n",
      "EvaluatorHoldout: Processed 10446 (100.0%) in 7.19 sec. Users per second: 1454\n",
      "Unable to load Cython Compute_Similarity, reverting to Python\n",
      "Similarity column 22222 (100.0%), 2459.36 column/sec. Elapsed time 9.04 sec\n",
      "EvaluatorHoldout: Processed 10431 (100.0%) in 7.19 sec. Users per second: 1450\n",
      "Unable to load Cython Compute_Similarity, reverting to Python\n",
      "Similarity column 22222 (100.0%), 2415.65 column/sec. Elapsed time 9.20 sec\n",
      "EvaluatorHoldout: Processed 10473 (100.0%) in 7.28 sec. Users per second: 1439\n"
     ]
    },
    {
     "name": "stderr",
     "output_type": "stream",
     "text": [
      "[I 2023-12-11 18:04:12,770] Trial 220 finished with value: 0.04418317395927868 and parameters: {'topK': 17, 'shrink': 3.972952886681812}. Best is trial 214 with value: 0.04460582170547206.\n"
     ]
    },
    {
     "name": "stdout",
     "output_type": "stream",
     "text": [
      "Unable to load Cython Compute_Similarity, reverting to Python\n",
      "Similarity column 22222 (100.0%), 2455.11 column/sec. Elapsed time 9.05 sec\n",
      "EvaluatorHoldout: Processed 10446 (100.0%) in 7.28 sec. Users per second: 1434\n",
      "Unable to load Cython Compute_Similarity, reverting to Python\n",
      "Similarity column 22222 (100.0%), 2505.49 column/sec. Elapsed time 8.87 sec\n",
      "EvaluatorHoldout: Processed 10431 (100.0%) in 7.13 sec. Users per second: 1463\n",
      "Unable to load Cython Compute_Similarity, reverting to Python\n",
      "Similarity column 22222 (100.0%), 2426.59 column/sec. Elapsed time 9.16 sec\n",
      "EvaluatorHoldout: Processed 10473 (100.0%) in 7.12 sec. Users per second: 1471\n"
     ]
    },
    {
     "name": "stderr",
     "output_type": "stream",
     "text": [
      "[I 2023-12-11 18:05:01,499] Trial 221 finished with value: 0.044508312799349865 and parameters: {'topK': 12, 'shrink': 5.529416352361819}. Best is trial 214 with value: 0.04460582170547206.\n"
     ]
    },
    {
     "name": "stdout",
     "output_type": "stream",
     "text": [
      "Unable to load Cython Compute_Similarity, reverting to Python\n",
      "Similarity column 22222 (100.0%), 2503.08 column/sec. Elapsed time 8.88 sec\n",
      "EvaluatorHoldout: Processed 10446 (100.0%) in 7.18 sec. Users per second: 1455\n",
      "Unable to load Cython Compute_Similarity, reverting to Python\n",
      "Similarity column 22222 (100.0%), 2540.69 column/sec. Elapsed time 8.75 sec\n",
      "EvaluatorHoldout: Processed 10431 (100.0%) in 7.16 sec. Users per second: 1457\n",
      "Unable to load Cython Compute_Similarity, reverting to Python\n",
      "Similarity column 22222 (100.0%), 2493.22 column/sec. Elapsed time 8.91 sec\n",
      "EvaluatorHoldout: Processed 10473 (100.0%) in 7.44 sec. Users per second: 1408\n"
     ]
    },
    {
     "name": "stderr",
     "output_type": "stream",
     "text": [
      "[I 2023-12-11 18:05:49,928] Trial 222 finished with value: 0.04446337264483474 and parameters: {'topK': 9, 'shrink': 5.857103328195943}. Best is trial 214 with value: 0.04460582170547206.\n"
     ]
    },
    {
     "name": "stdout",
     "output_type": "stream",
     "text": [
      "Unable to load Cython Compute_Similarity, reverting to Python\n",
      "Similarity column 22222 (100.0%), 2420.65 column/sec. Elapsed time 9.18 sec\n",
      "EvaluatorHoldout: Processed 10446 (100.0%) in 7.28 sec. Users per second: 1435\n",
      "Unable to load Cython Compute_Similarity, reverting to Python\n",
      "Similarity column 22222 (100.0%), 2507.82 column/sec. Elapsed time 8.86 sec\n",
      "EvaluatorHoldout: Processed 10431 (100.0%) in 7.38 sec. Users per second: 1413\n",
      "Unable to load Cython Compute_Similarity, reverting to Python\n",
      "Similarity column 22222 (100.0%), 2468.53 column/sec. Elapsed time 9.00 sec\n",
      "EvaluatorHoldout: Processed 10473 (100.0%) in 7.34 sec. Users per second: 1427\n"
     ]
    },
    {
     "name": "stderr",
     "output_type": "stream",
     "text": [
      "[I 2023-12-11 18:06:39,086] Trial 223 finished with value: 0.04442307169141446 and parameters: {'topK': 13, 'shrink': 11.844154325018943}. Best is trial 214 with value: 0.04460582170547206.\n"
     ]
    },
    {
     "name": "stdout",
     "output_type": "stream",
     "text": [
      "Unable to load Cython Compute_Similarity, reverting to Python\n",
      "Similarity column 22222 (100.0%), 2484.09 column/sec. Elapsed time 8.95 sec\n",
      "EvaluatorHoldout: Processed 10446 (100.0%) in 7.25 sec. Users per second: 1441\n",
      "Unable to load Cython Compute_Similarity, reverting to Python\n",
      "Similarity column 22222 (100.0%), 2485.52 column/sec. Elapsed time 8.94 sec\n",
      "EvaluatorHoldout: Processed 10431 (100.0%) in 7.70 sec. Users per second: 1355\n",
      "Unable to load Cython Compute_Similarity, reverting to Python\n",
      "Similarity column 22222 (100.0%), 2455.05 column/sec. Elapsed time 9.05 sec\n",
      "EvaluatorHoldout: Processed 10473 (100.0%) in 7.23 sec. Users per second: 1448\n"
     ]
    },
    {
     "name": "stderr",
     "output_type": "stream",
     "text": [
      "[I 2023-12-11 18:07:28,317] Trial 224 finished with value: 0.0442686449412183 and parameters: {'topK': 11, 'shrink': 10.215765277300802}. Best is trial 214 with value: 0.04460582170547206.\n"
     ]
    },
    {
     "name": "stdout",
     "output_type": "stream",
     "text": [
      "Unable to load Cython Compute_Similarity, reverting to Python\n",
      "Similarity column 22222 (100.0%), 2355.47 column/sec. Elapsed time 9.43 sec\n",
      "EvaluatorHoldout: Processed 10446 (100.0%) in 7.23 sec. Users per second: 1445\n",
      "Unable to load Cython Compute_Similarity, reverting to Python\n",
      "Similarity column 22222 (100.0%), 2412.77 column/sec. Elapsed time 9.21 sec\n",
      "EvaluatorHoldout: Processed 10431 (100.0%) in 7.44 sec. Users per second: 1403\n",
      "Unable to load Cython Compute_Similarity, reverting to Python\n",
      "Similarity column 22222 (100.0%), 2405.91 column/sec. Elapsed time 9.24 sec\n",
      "EvaluatorHoldout: Processed 10473 (100.0%) in 7.24 sec. Users per second: 1447\n"
     ]
    },
    {
     "name": "stderr",
     "output_type": "stream",
     "text": [
      "[I 2023-12-11 18:08:18,209] Trial 225 finished with value: 0.044411956856175806 and parameters: {'topK': 15, 'shrink': 6.469725203266526}. Best is trial 214 with value: 0.04460582170547206.\n"
     ]
    },
    {
     "name": "stdout",
     "output_type": "stream",
     "text": [
      "Unable to load Cython Compute_Similarity, reverting to Python\n",
      "Similarity column 22222 (100.0%), 2443.83 column/sec. Elapsed time 9.09 sec\n",
      "EvaluatorHoldout: Processed 10446 (100.0%) in 7.03 sec. Users per second: 1486\n",
      "Unable to load Cython Compute_Similarity, reverting to Python\n",
      "Similarity column 22222 (100.0%), 2527.25 column/sec. Elapsed time 8.79 sec\n",
      "EvaluatorHoldout: Processed 10431 (100.0%) in 7.06 sec. Users per second: 1477\n",
      "Unable to load Cython Compute_Similarity, reverting to Python\n",
      "Similarity column 22222 (100.0%), 2499.18 column/sec. Elapsed time 8.89 sec\n",
      "EvaluatorHoldout: Processed 10473 (100.0%) in 7.04 sec. Users per second: 1489\n"
     ]
    },
    {
     "name": "stderr",
     "output_type": "stream",
     "text": [
      "[I 2023-12-11 18:09:06,229] Trial 226 finished with value: 0.04381908192618883 and parameters: {'topK': 8, 'shrink': 0.9321990802139943}. Best is trial 214 with value: 0.04460582170547206.\n"
     ]
    },
    {
     "name": "stdout",
     "output_type": "stream",
     "text": [
      "Unable to load Cython Compute_Similarity, reverting to Python\n",
      "Similarity column 22222 (100.0%), 2423.15 column/sec. Elapsed time 9.17 sec\n",
      "EvaluatorHoldout: Processed 10446 (100.0%) in 7.30 sec. Users per second: 1432\n",
      "Unable to load Cython Compute_Similarity, reverting to Python\n",
      "Similarity column 22222 (100.0%), 2508.78 column/sec. Elapsed time 8.86 sec\n",
      "EvaluatorHoldout: Processed 10431 (100.0%) in 7.14 sec. Users per second: 1460\n",
      "Unable to load Cython Compute_Similarity, reverting to Python\n",
      "Similarity column 22222 (100.0%), 2501.80 column/sec. Elapsed time 8.88 sec\n",
      "EvaluatorHoldout: Processed 10473 (100.0%) in 7.18 sec. Users per second: 1459\n"
     ]
    },
    {
     "name": "stderr",
     "output_type": "stream",
     "text": [
      "[I 2023-12-11 18:09:54,870] Trial 227 finished with value: 0.04461487376642267 and parameters: {'topK': 13, 'shrink': 5.230538112297396}. Best is trial 227 with value: 0.04461487376642267.\n"
     ]
    },
    {
     "name": "stdout",
     "output_type": "stream",
     "text": [
      "Unable to load Cython Compute_Similarity, reverting to Python\n",
      "Similarity column 22222 (100.0%), 2388.64 column/sec. Elapsed time 9.30 sec\n",
      "EvaluatorHoldout: Processed 10446 (100.0%) in 7.26 sec. Users per second: 1438\n",
      "Unable to load Cython Compute_Similarity, reverting to Python\n",
      "Similarity column 22222 (100.0%), 2497.22 column/sec. Elapsed time 8.90 sec\n",
      "EvaluatorHoldout: Processed 10431 (100.0%) in 7.32 sec. Users per second: 1425\n",
      "Unable to load Cython Compute_Similarity, reverting to Python\n",
      "Similarity column 22222 (100.0%), 2455.53 column/sec. Elapsed time 9.05 sec\n",
      "EvaluatorHoldout: Processed 10473 (100.0%) in 7.17 sec. Users per second: 1460\n"
     ]
    },
    {
     "name": "stderr",
     "output_type": "stream",
     "text": [
      "[I 2023-12-11 18:10:43,989] Trial 228 finished with value: 0.044394131070068364 and parameters: {'topK': 14, 'shrink': 4.759652385632473}. Best is trial 227 with value: 0.04461487376642267.\n"
     ]
    },
    {
     "name": "stdout",
     "output_type": "stream",
     "text": [
      "Unable to load Cython Compute_Similarity, reverting to Python\n",
      "Similarity column 22222 (100.0%), 2365.31 column/sec. Elapsed time 9.39 sec\n",
      "EvaluatorHoldout: Processed 10446 (100.0%) in 7.18 sec. Users per second: 1456\n",
      "Unable to load Cython Compute_Similarity, reverting to Python\n",
      "Similarity column 22222 (100.0%), 2495.05 column/sec. Elapsed time 8.91 sec\n",
      "EvaluatorHoldout: Processed 10431 (100.0%) in 7.20 sec. Users per second: 1450\n",
      "Unable to load Cython Compute_Similarity, reverting to Python\n",
      "Similarity column 22222 (100.0%), 2460.32 column/sec. Elapsed time 9.03 sec\n",
      "EvaluatorHoldout: Processed 10473 (100.0%) in 7.21 sec. Users per second: 1452\n"
     ]
    },
    {
     "name": "stderr",
     "output_type": "stream",
     "text": [
      "[I 2023-12-11 18:11:33,022] Trial 229 finished with value: 0.044278792582281894 and parameters: {'topK': 16, 'shrink': 4.207593024432891}. Best is trial 227 with value: 0.04461487376642267.\n"
     ]
    },
    {
     "name": "stdout",
     "output_type": "stream",
     "text": [
      "Unable to load Cython Compute_Similarity, reverting to Python\n",
      "Similarity column 22222 (100.0%), 2462.18 column/sec. Elapsed time 9.03 sec\n",
      "EvaluatorHoldout: Processed 10446 (100.0%) in 7.22 sec. Users per second: 1448\n",
      "Unable to load Cython Compute_Similarity, reverting to Python\n",
      "Similarity column 22222 (100.0%), 2413.20 column/sec. Elapsed time 9.21 sec\n",
      "EvaluatorHoldout: Processed 10431 (100.0%) in 7.27 sec. Users per second: 1434\n",
      "Unable to load Cython Compute_Similarity, reverting to Python\n",
      "Similarity column 22222 (100.0%), 2446.33 column/sec. Elapsed time 9.08 sec\n",
      "EvaluatorHoldout: Processed 10473 (100.0%) in 7.23 sec. Users per second: 1448\n"
     ]
    },
    {
     "name": "stderr",
     "output_type": "stream",
     "text": [
      "[I 2023-12-11 18:12:22,176] Trial 230 finished with value: 0.04435535692421194 and parameters: {'topK': 10, 'shrink': 8.760430323647398}. Best is trial 227 with value: 0.04461487376642267.\n"
     ]
    },
    {
     "name": "stdout",
     "output_type": "stream",
     "text": [
      "Unable to load Cython Compute_Similarity, reverting to Python\n",
      "Similarity column 22222 (100.0%), 2425.55 column/sec. Elapsed time 9.16 sec\n",
      "EvaluatorHoldout: Processed 10446 (100.0%) in 7.14 sec. Users per second: 1462\n",
      "Unable to load Cython Compute_Similarity, reverting to Python\n",
      "Similarity column 22222 (100.0%), 2527.77 column/sec. Elapsed time 8.79 sec\n",
      "EvaluatorHoldout: Processed 10431 (100.0%) in 7.82 sec. Users per second: 1334\n",
      "Unable to load Cython Compute_Similarity, reverting to Python\n",
      "Similarity column 22222 (100.0%), 2512.55 column/sec. Elapsed time 8.84 sec\n",
      "EvaluatorHoldout: Processed 10473 (100.0%) in 7.33 sec. Users per second: 1430\n"
     ]
    },
    {
     "name": "stderr",
     "output_type": "stream",
     "text": [
      "[I 2023-12-11 18:13:11,382] Trial 231 finished with value: 0.04449055543667827 and parameters: {'topK': 12, 'shrink': 5.444603365223005}. Best is trial 227 with value: 0.04461487376642267.\n"
     ]
    },
    {
     "name": "stdout",
     "output_type": "stream",
     "text": [
      "Unable to load Cython Compute_Similarity, reverting to Python\n",
      "Similarity column 22222 (100.0%), 2413.62 column/sec. Elapsed time 9.21 sec\n",
      "EvaluatorHoldout: Processed 10446 (100.0%) in 7.24 sec. Users per second: 1443\n",
      "Unable to load Cython Compute_Similarity, reverting to Python\n",
      "Similarity column 22222 (100.0%), 2513.78 column/sec. Elapsed time 8.84 sec\n",
      "EvaluatorHoldout: Processed 10431 (100.0%) in 7.18 sec. Users per second: 1453\n",
      "Unable to load Cython Compute_Similarity, reverting to Python\n",
      "Similarity column 22222 (100.0%), 2433.49 column/sec. Elapsed time 9.13 sec\n",
      "EvaluatorHoldout: Processed 10473 (100.0%) in 7.19 sec. Users per second: 1456\n"
     ]
    },
    {
     "name": "stderr",
     "output_type": "stream",
     "text": [
      "[I 2023-12-11 18:14:00,297] Trial 232 finished with value: 0.04458160139230816 and parameters: {'topK': 13, 'shrink': 5.753175965145131}. Best is trial 227 with value: 0.04461487376642267.\n"
     ]
    },
    {
     "name": "stdout",
     "output_type": "stream",
     "text": [
      "Unable to load Cython Compute_Similarity, reverting to Python\n",
      "Similarity column 22222 (100.0%), 2446.67 column/sec. Elapsed time 9.08 sec\n",
      "EvaluatorHoldout: Processed 10446 (100.0%) in 7.38 sec. Users per second: 1415\n",
      "Unable to load Cython Compute_Similarity, reverting to Python\n",
      "Similarity column 22222 (100.0%), 2501.12 column/sec. Elapsed time 8.88 sec\n",
      "EvaluatorHoldout: Processed 10431 (100.0%) in 7.24 sec. Users per second: 1440\n",
      "Unable to load Cython Compute_Similarity, reverting to Python\n",
      "Similarity column 22222 (100.0%), 2440.04 column/sec. Elapsed time 9.11 sec\n",
      "EvaluatorHoldout: Processed 10473 (100.0%) in 7.27 sec. Users per second: 1440\n"
     ]
    },
    {
     "name": "stderr",
     "output_type": "stream",
     "text": [
      "[I 2023-12-11 18:14:49,382] Trial 233 finished with value: 0.044357899930978696 and parameters: {'topK': 14, 'shrink': 9.406191536050333}. Best is trial 227 with value: 0.04461487376642267.\n"
     ]
    },
    {
     "name": "stdout",
     "output_type": "stream",
     "text": [
      "Unable to load Cython Compute_Similarity, reverting to Python\n",
      "Similarity column 22222 (100.0%), 2429.45 column/sec. Elapsed time 9.15 sec\n",
      "EvaluatorHoldout: Processed 10446 (100.0%) in 7.28 sec. Users per second: 1435\n",
      "Unable to load Cython Compute_Similarity, reverting to Python\n",
      "Similarity column 22222 (100.0%), 2505.18 column/sec. Elapsed time 8.87 sec\n",
      "EvaluatorHoldout: Processed 10431 (100.0%) in 7.12 sec. Users per second: 1465\n",
      "Unable to load Cython Compute_Similarity, reverting to Python\n",
      "Similarity column 22222 (100.0%), 2482.16 column/sec. Elapsed time 8.95 sec\n",
      "EvaluatorHoldout: Processed 10473 (100.0%) in 7.07 sec. Users per second: 1481\n"
     ]
    },
    {
     "name": "stderr",
     "output_type": "stream",
     "text": [
      "[I 2023-12-11 18:15:37,939] Trial 234 finished with value: 0.04443412388001746 and parameters: {'topK': 11, 'shrink': 5.937753114433364}. Best is trial 227 with value: 0.04461487376642267.\n"
     ]
    },
    {
     "name": "stdout",
     "output_type": "stream",
     "text": [
      "Unable to load Cython Compute_Similarity, reverting to Python\n",
      "Similarity column 22222 (100.0%), 2479.57 column/sec. Elapsed time 8.96 sec\n",
      "EvaluatorHoldout: Processed 10446 (100.0%) in 7.05 sec. Users per second: 1482\n",
      "Unable to load Cython Compute_Similarity, reverting to Python\n",
      "Similarity column 22222 (100.0%), 2509.75 column/sec. Elapsed time 8.85 sec\n",
      "EvaluatorHoldout: Processed 10431 (100.0%) in 7.07 sec. Users per second: 1476\n",
      "Unable to load Cython Compute_Similarity, reverting to Python\n",
      "Similarity column 22222 (100.0%), 2402.10 column/sec. Elapsed time 9.25 sec\n",
      "EvaluatorHoldout: Processed 10473 (100.0%) in 7.24 sec. Users per second: 1447\n"
     ]
    },
    {
     "name": "stderr",
     "output_type": "stream",
     "text": [
      "[I 2023-12-11 18:16:26,475] Trial 235 finished with value: 0.044354732269087205 and parameters: {'topK': 7, 'shrink': 4.985004196659805}. Best is trial 227 with value: 0.04461487376642267.\n"
     ]
    },
    {
     "name": "stdout",
     "output_type": "stream",
     "text": [
      "Unable to load Cython Compute_Similarity, reverting to Python\n",
      "Similarity column 22222 (100.0%), 2417.75 column/sec. Elapsed time 9.19 sec\n",
      "EvaluatorHoldout: Processed 10446 (100.0%) in 7.16 sec. Users per second: 1460\n",
      "Unable to load Cython Compute_Similarity, reverting to Python\n",
      "Similarity column 22222 (100.0%), 2548.29 column/sec. Elapsed time 8.72 sec\n",
      "EvaluatorHoldout: Processed 10431 (100.0%) in 7.30 sec. Users per second: 1428\n",
      "Unable to load Cython Compute_Similarity, reverting to Python\n",
      "Similarity column 22222 (100.0%), 2489.62 column/sec. Elapsed time 8.93 sec\n",
      "EvaluatorHoldout: Processed 10473 (100.0%) in 7.23 sec. Users per second: 1448\n"
     ]
    },
    {
     "name": "stderr",
     "output_type": "stream",
     "text": [
      "[I 2023-12-11 18:17:15,112] Trial 236 finished with value: 0.04447597822109941 and parameters: {'topK': 13, 'shrink': 6.3610392336152035}. Best is trial 227 with value: 0.04461487376642267.\n"
     ]
    },
    {
     "name": "stdout",
     "output_type": "stream",
     "text": [
      "Unable to load Cython Compute_Similarity, reverting to Python\n",
      "Similarity column 22222 (100.0%), 2418.71 column/sec. Elapsed time 9.19 sec\n",
      "EvaluatorHoldout: Processed 10446 (100.0%) in 7.17 sec. Users per second: 1457\n",
      "Unable to load Cython Compute_Similarity, reverting to Python\n",
      "Similarity column 22222 (100.0%), 2581.80 column/sec. Elapsed time 8.61 sec\n",
      "EvaluatorHoldout: Processed 10431 (100.0%) in 7.10 sec. Users per second: 1468\n",
      "Unable to load Cython Compute_Similarity, reverting to Python\n",
      "Similarity column 22222 (100.0%), 2474.81 column/sec. Elapsed time 8.98 sec\n",
      "EvaluatorHoldout: Processed 10473 (100.0%) in 7.07 sec. Users per second: 1482\n"
     ]
    },
    {
     "name": "stderr",
     "output_type": "stream",
     "text": [
      "[I 2023-12-11 18:18:03,340] Trial 237 finished with value: 0.04445269448797518 and parameters: {'topK': 9, 'shrink': 4.697131563989036}. Best is trial 227 with value: 0.04461487376642267.\n"
     ]
    },
    {
     "name": "stdout",
     "output_type": "stream",
     "text": [
      "Unable to load Cython Compute_Similarity, reverting to Python\n",
      "Similarity column 22222 (100.0%), 2397.61 column/sec. Elapsed time 9.27 sec\n",
      "EvaluatorHoldout: Processed 10446 (100.0%) in 7.62 sec. Users per second: 1372\n",
      "Unable to load Cython Compute_Similarity, reverting to Python\n",
      "Similarity column 22222 (100.0%), 2430.53 column/sec. Elapsed time 9.14 sec\n",
      "EvaluatorHoldout: Processed 10431 (100.0%) in 7.33 sec. Users per second: 1424\n",
      "Unable to load Cython Compute_Similarity, reverting to Python\n",
      "Similarity column 22222 (100.0%), 2427.23 column/sec. Elapsed time 9.16 sec\n",
      "EvaluatorHoldout: Processed 10473 (100.0%) in 7.56 sec. Users per second: 1386\n"
     ]
    },
    {
     "name": "stderr",
     "output_type": "stream",
     "text": [
      "[I 2023-12-11 18:18:53,525] Trial 238 finished with value: 0.04424338895204949 and parameters: {'topK': 18, 'shrink': 5.461810679621441}. Best is trial 227 with value: 0.04461487376642267.\n"
     ]
    },
    {
     "name": "stdout",
     "output_type": "stream",
     "text": [
      "Unable to load Cython Compute_Similarity, reverting to Python\n",
      "Similarity column 22222 (100.0%), 2445.55 column/sec. Elapsed time 9.09 sec\n",
      "EvaluatorHoldout: Processed 10446 (100.0%) in 7.29 sec. Users per second: 1432\n",
      "Unable to load Cython Compute_Similarity, reverting to Python\n",
      "Similarity column 22222 (100.0%), 2410.48 column/sec. Elapsed time 9.22 sec\n",
      "EvaluatorHoldout: Processed 10431 (100.0%) in 7.19 sec. Users per second: 1450\n",
      "Unable to load Cython Compute_Similarity, reverting to Python\n",
      "Similarity column 22222 (100.0%), 2394.57 column/sec. Elapsed time 9.28 sec\n",
      "EvaluatorHoldout: Processed 10473 (100.0%) in 7.32 sec. Users per second: 1430\n"
     ]
    },
    {
     "name": "stderr",
     "output_type": "stream",
     "text": [
      "[I 2023-12-11 18:19:43,039] Trial 239 finished with value: 0.04441938730985495 and parameters: {'topK': 15, 'shrink': 7.840211785625043}. Best is trial 227 with value: 0.04461487376642267.\n"
     ]
    },
    {
     "name": "stdout",
     "output_type": "stream",
     "text": [
      "Unable to load Cython Compute_Similarity, reverting to Python\n",
      "Similarity column 22222 (100.0%), 2474.94 column/sec. Elapsed time 8.98 sec\n",
      "EvaluatorHoldout: Processed 10446 (100.0%) in 7.27 sec. Users per second: 1437\n",
      "Unable to load Cython Compute_Similarity, reverting to Python\n",
      "Similarity column 22222 (100.0%), 2494.33 column/sec. Elapsed time 8.91 sec\n",
      "EvaluatorHoldout: Processed 10431 (100.0%) in 7.73 sec. Users per second: 1349\n",
      "Unable to load Cython Compute_Similarity, reverting to Python\n",
      "Similarity column 22222 (100.0%), 2479.37 column/sec. Elapsed time 8.96 sec\n",
      "EvaluatorHoldout: Processed 10473 (100.0%) in 7.16 sec. Users per second: 1463\n"
     ]
    },
    {
     "name": "stderr",
     "output_type": "stream",
     "text": [
      "[I 2023-12-11 18:20:32,157] Trial 240 finished with value: 0.044496174671769445 and parameters: {'topK': 10, 'shrink': 3.7308621885449096}. Best is trial 227 with value: 0.04461487376642267.\n"
     ]
    },
    {
     "name": "stdout",
     "output_type": "stream",
     "text": [
      "Unable to load Cython Compute_Similarity, reverting to Python\n",
      "Similarity column 22222 (100.0%), 2451.31 column/sec. Elapsed time 9.07 sec\n",
      "EvaluatorHoldout: Processed 10446 (100.0%) in 7.26 sec. Users per second: 1439\n",
      "Unable to load Cython Compute_Similarity, reverting to Python\n",
      "Similarity column 22222 (100.0%), 2521.53 column/sec. Elapsed time 8.81 sec\n",
      "EvaluatorHoldout: Processed 10431 (100.0%) in 7.12 sec. Users per second: 1466\n",
      "Unable to load Cython Compute_Similarity, reverting to Python\n",
      "Similarity column 22222 (100.0%), 2451.52 column/sec. Elapsed time 9.06 sec\n",
      "EvaluatorHoldout: Processed 10473 (100.0%) in 7.17 sec. Users per second: 1462\n"
     ]
    },
    {
     "name": "stderr",
     "output_type": "stream",
     "text": [
      "[I 2023-12-11 18:21:20,756] Trial 241 finished with value: 0.044517424481367356 and parameters: {'topK': 12, 'shrink': 5.7967103722573405}. Best is trial 227 with value: 0.04461487376642267.\n"
     ]
    },
    {
     "name": "stdout",
     "output_type": "stream",
     "text": [
      "Unable to load Cython Compute_Similarity, reverting to Python\n",
      "Similarity column 22222 (100.0%), 2484.29 column/sec. Elapsed time 8.95 sec\n",
      "EvaluatorHoldout: Processed 10446 (100.0%) in 7.17 sec. Users per second: 1457\n",
      "Unable to load Cython Compute_Similarity, reverting to Python\n",
      "Similarity column 22222 (100.0%), 2423.13 column/sec. Elapsed time 9.17 sec\n",
      "EvaluatorHoldout: Processed 10431 (100.0%) in 7.20 sec. Users per second: 1449\n",
      "Unable to load Cython Compute_Similarity, reverting to Python\n",
      "Similarity column 22222 (100.0%), 2505.13 column/sec. Elapsed time 8.87 sec\n",
      "EvaluatorHoldout: Processed 10473 (100.0%) in 7.15 sec. Users per second: 1465\n"
     ]
    },
    {
     "name": "stderr",
     "output_type": "stream",
     "text": [
      "[I 2023-12-11 18:22:09,376] Trial 242 finished with value: 0.04459456207503853 and parameters: {'topK': 13, 'shrink': 5.168248434852034}. Best is trial 227 with value: 0.04461487376642267.\n"
     ]
    },
    {
     "name": "stdout",
     "output_type": "stream",
     "text": [
      "Unable to load Cython Compute_Similarity, reverting to Python\n",
      "Similarity column 22222 (100.0%), 2334.27 column/sec. Elapsed time 9.52 sec\n",
      "EvaluatorHoldout: Processed 10446 (100.0%) in 7.16 sec. Users per second: 1458\n",
      "Unable to load Cython Compute_Similarity, reverting to Python\n",
      "Similarity column 22222 (100.0%), 2467.14 column/sec. Elapsed time 9.01 sec\n",
      "EvaluatorHoldout: Processed 10431 (100.0%) in 7.25 sec. Users per second: 1438\n",
      "Unable to load Cython Compute_Similarity, reverting to Python\n",
      "Similarity column 22222 (100.0%), 2425.04 column/sec. Elapsed time 9.16 sec\n",
      "EvaluatorHoldout: Processed 10473 (100.0%) in 7.12 sec. Users per second: 1471\n"
     ]
    },
    {
     "name": "stderr",
     "output_type": "stream",
     "text": [
      "[I 2023-12-11 18:22:58,733] Trial 243 finished with value: 0.04447923157976889 and parameters: {'topK': 14, 'shrink': 4.987601991753704}. Best is trial 227 with value: 0.04461487376642267.\n"
     ]
    },
    {
     "name": "stdout",
     "output_type": "stream",
     "text": [
      "Unable to load Cython Compute_Similarity, reverting to Python\n",
      "Similarity column 22222 (100.0%), 2429.97 column/sec. Elapsed time 9.14 sec\n",
      "EvaluatorHoldout: Processed 10446 (100.0%) in 7.28 sec. Users per second: 1434\n",
      "Unable to load Cython Compute_Similarity, reverting to Python\n",
      "Similarity column 22222 (100.0%), 2498.76 column/sec. Elapsed time 8.89 sec\n",
      "EvaluatorHoldout: Processed 10431 (100.0%) in 7.31 sec. Users per second: 1426\n",
      "Unable to load Cython Compute_Similarity, reverting to Python\n",
      "Similarity column 22222 (100.0%), 2453.61 column/sec. Elapsed time 9.06 sec\n",
      "EvaluatorHoldout: Processed 10473 (100.0%) in 7.19 sec. Users per second: 1458\n"
     ]
    },
    {
     "name": "stderr",
     "output_type": "stream",
     "text": [
      "[I 2023-12-11 18:23:47,723] Trial 244 finished with value: 0.04446317670623309 and parameters: {'topK': 13, 'shrink': 4.377480762012468}. Best is trial 227 with value: 0.04461487376642267.\n"
     ]
    },
    {
     "name": "stdout",
     "output_type": "stream",
     "text": [
      "Unable to load Cython Compute_Similarity, reverting to Python\n",
      "Similarity column 22222 (100.0%), 2362.22 column/sec. Elapsed time 9.41 sec\n",
      "EvaluatorHoldout: Processed 10446 (100.0%) in 7.25 sec. Users per second: 1442\n",
      "Unable to load Cython Compute_Similarity, reverting to Python\n",
      "Similarity column 22222 (100.0%), 2509.89 column/sec. Elapsed time 8.85 sec\n",
      "EvaluatorHoldout: Processed 10431 (100.0%) in 7.21 sec. Users per second: 1446\n",
      "Unable to load Cython Compute_Similarity, reverting to Python\n",
      "Similarity column 22222 (100.0%), 2403.87 column/sec. Elapsed time 9.24 sec\n",
      "EvaluatorHoldout: Processed 10473 (100.0%) in 7.43 sec. Users per second: 1409\n"
     ]
    },
    {
     "name": "stderr",
     "output_type": "stream",
     "text": [
      "[I 2023-12-11 18:24:37,236] Trial 245 finished with value: 0.04436902557905475 and parameters: {'topK': 16, 'shrink': 5.203419002521459}. Best is trial 227 with value: 0.04461487376642267.\n"
     ]
    },
    {
     "name": "stdout",
     "output_type": "stream",
     "text": [
      "Unable to load Cython Compute_Similarity, reverting to Python\n",
      "Similarity column 22222 (100.0%), 2460.58 column/sec. Elapsed time 9.03 sec\n",
      "EvaluatorHoldout: Processed 10446 (100.0%) in 7.39 sec. Users per second: 1414\n",
      "Unable to load Cython Compute_Similarity, reverting to Python\n",
      "Similarity column 22222 (100.0%), 2511.55 column/sec. Elapsed time 8.85 sec\n",
      "EvaluatorHoldout: Processed 10431 (100.0%) in 7.28 sec. Users per second: 1433\n",
      "Unable to load Cython Compute_Similarity, reverting to Python\n",
      "Similarity column 22222 (100.0%), 2451.41 column/sec. Elapsed time 9.06 sec\n",
      "EvaluatorHoldout: Processed 10473 (100.0%) in 7.33 sec. Users per second: 1429\n"
     ]
    },
    {
     "name": "stderr",
     "output_type": "stream",
     "text": [
      "[I 2023-12-11 18:25:26,293] Trial 246 finished with value: 0.04408909544544743 and parameters: {'topK': 11, 'shrink': 13.253972410700136}. Best is trial 227 with value: 0.04461487376642267.\n"
     ]
    },
    {
     "name": "stdout",
     "output_type": "stream",
     "text": [
      "Unable to load Cython Compute_Similarity, reverting to Python\n",
      "Similarity column 22222 (100.0%), 2385.89 column/sec. Elapsed time 9.31 sec\n",
      "EvaluatorHoldout: Processed 10446 (100.0%) in 7.16 sec. Users per second: 1458\n",
      "Unable to load Cython Compute_Similarity, reverting to Python\n",
      "Similarity column 22222 (100.0%), 2548.93 column/sec. Elapsed time 8.72 sec\n",
      "EvaluatorHoldout: Processed 10431 (100.0%) in 7.08 sec. Users per second: 1472\n",
      "Unable to load Cython Compute_Similarity, reverting to Python\n",
      "Similarity column 22222 (100.0%), 2531.83 column/sec. Elapsed time 8.78 sec\n",
      "EvaluatorHoldout: Processed 10473 (100.0%) in 7.21 sec. Users per second: 1453\n"
     ]
    },
    {
     "name": "stderr",
     "output_type": "stream",
     "text": [
      "[I 2023-12-11 18:26:14,683] Trial 247 finished with value: 0.04448032354594587 and parameters: {'topK': 9, 'shrink': 5.9906147225363116}. Best is trial 227 with value: 0.04461487376642267.\n"
     ]
    },
    {
     "name": "stdout",
     "output_type": "stream",
     "text": [
      "Unable to load Cython Compute_Similarity, reverting to Python\n",
      "Similarity column 22222 (100.0%), 1965.48 column/sec. Elapsed time 11.31 sec\n",
      "EvaluatorHoldout: Processed 10446 (100.0%) in 8.32 sec. Users per second: 1256\n",
      "Unable to load Cython Compute_Similarity, reverting to Python\n",
      "Similarity column 22222 (100.0%), 1989.91 column/sec. Elapsed time 11.17 sec\n",
      "EvaluatorHoldout: Processed 10431 (100.0%) in 8.26 sec. Users per second: 1263\n",
      "Unable to load Cython Compute_Similarity, reverting to Python\n",
      "Similarity column 22222 (100.0%), 1945.78 column/sec. Elapsed time 11.42 sec\n",
      "EvaluatorHoldout: Processed 10473 (100.0%) in 8.31 sec. Users per second: 1260\n"
     ]
    },
    {
     "name": "stderr",
     "output_type": "stream",
     "text": [
      "[I 2023-12-11 18:27:13,766] Trial 248 finished with value: 0.04225170868195072 and parameters: {'topK': 100, 'shrink': 7.177385174989602}. Best is trial 227 with value: 0.04461487376642267.\n"
     ]
    },
    {
     "name": "stdout",
     "output_type": "stream",
     "text": [
      "Unable to load Cython Compute_Similarity, reverting to Python\n",
      "Similarity column 22222 (100.0%), 2445.00 column/sec. Elapsed time 9.09 sec\n",
      "EvaluatorHoldout: Processed 10446 (100.0%) in 7.35 sec. Users per second: 1422\n",
      "Unable to load Cython Compute_Similarity, reverting to Python\n",
      "Similarity column 22222 (100.0%), 2428.29 column/sec. Elapsed time 9.15 sec\n",
      "EvaluatorHoldout: Processed 10431 (100.0%) in 7.22 sec. Users per second: 1445\n",
      "Unable to load Cython Compute_Similarity, reverting to Python\n",
      "Similarity column 22222 (100.0%), 2451.69 column/sec. Elapsed time 9.06 sec\n",
      "EvaluatorHoldout: Processed 10473 (100.0%) in 7.48 sec. Users per second: 1401\n"
     ]
    },
    {
     "name": "stderr",
     "output_type": "stream",
     "text": [
      "[I 2023-12-11 18:28:03,212] Trial 249 finished with value: 0.04437544306639379 and parameters: {'topK': 14, 'shrink': 10.990332506126439}. Best is trial 227 with value: 0.04461487376642267.\n"
     ]
    }
   ],
   "source": [
    "study = optuna.create_study(direction=\"maximize\")\n",
    "study.optimize(train_evaluate, n_trials=250)"
   ]
  },
  {
   "cell_type": "code",
   "execution_count": 25,
   "metadata": {},
   "outputs": [
    {
     "name": "stdout",
     "output_type": "stream",
     "text": [
      "ItemKNNCFRecommender: URM Detected 386 ( 3.0%) users with no interactions.\n",
      "Unable to load Cython Compute_Similarity, reverting to Python\n",
      "Similarity column 22222 (100.0%), 1877.27 column/sec. Elapsed time 11.84 sec\n",
      "Reasonable implementation speed is 619.29 usr/sec\n"
     ]
    }
   ],
   "source": [
    "import time\n",
    "recommender = ItemKNNCFRecommender(urm_sparse)\n",
    "recommender.fit(shrink=best_parameters_value[\"shrink\"], topK=best_parameters_value[\"k\"])\n",
    "n_users_to_test = len(data_target[\"user_id\"])\n",
    "suggestions = pd.DataFrame(columns = [\"user_id\", \"item_list\", \"item_scores\"])\n",
    "start_time = time.time()\n",
    "\n",
    "for user_id in (data_target[\"user_id\"]-1):\n",
    "    suggestion, suggestion_values = recommender.recommend(user_id, cutoff=10, return_scores=True)\n",
    "    suggestions.loc[len(suggestions)] = [user_id+1, \" \".join([str(item_map[x]) for x in suggestion]), \" \".join([str(x) for x in np.flip(np.sort(suggestion_values))[0][:10]])]\n",
    "    \n",
    "end_time = time.time()\n",
    "\n",
    "print(\"Reasonable implementation speed is {:.2f} usr/sec\".format(n_users_to_test/(end_time-start_time)))"
   ]
  },
  {
   "cell_type": "code",
   "execution_count": 9,
   "metadata": {},
   "outputs": [
    {
     "data": {
      "text/plain": [
       "FrozenTrial(number=227, state=1, values=[0.04461487376642267], datetime_start=datetime.datetime(2023, 12, 11, 18, 9, 6, 230685), datetime_complete=datetime.datetime(2023, 12, 11, 18, 9, 54, 870493), params={'topK': 13, 'shrink': 5.230538112297396}, user_attrs={}, system_attrs={}, intermediate_values={}, distributions={'topK': IntDistribution(high=100, log=False, low=1, step=1), 'shrink': FloatDistribution(high=30.0, log=False, low=0.0, step=None)}, trial_id=227, value=None)"
      ]
     },
     "execution_count": 9,
     "metadata": {},
     "output_type": "execute_result"
    }
   ],
   "source": [
    "#suggestions.to_csv('outputs/collaborative_item_item.csv', index=False)\n",
    "study.best_trial\n",
    "params={'topK': 13, 'shrink': 5.230538112297396}, values=[0.04461487376642267]"
   ]
  },
  {
   "cell_type": "code",
   "execution_count": 27,
   "metadata": {},
   "outputs": [
    {
     "data": {
      "text/html": [
       "<div>\n",
       "<style scoped>\n",
       "    .dataframe tbody tr th:only-of-type {\n",
       "        vertical-align: middle;\n",
       "    }\n",
       "\n",
       "    .dataframe tbody tr th {\n",
       "        vertical-align: top;\n",
       "    }\n",
       "\n",
       "    .dataframe thead th {\n",
       "        text-align: right;\n",
       "    }\n",
       "</style>\n",
       "<table border=\"1\" class=\"dataframe\">\n",
       "  <thead>\n",
       "    <tr style=\"text-align: right;\">\n",
       "      <th></th>\n",
       "      <th>user_id</th>\n",
       "      <th>item_list</th>\n",
       "      <th>item_scores</th>\n",
       "    </tr>\n",
       "  </thead>\n",
       "  <tbody>\n",
       "    <tr>\n",
       "      <th>0</th>\n",
       "      <td>1</td>\n",
       "      <td>101 403 515 506 36 977 1546 869 922 318</td>\n",
       "      <td>1.9704008 1.750514 1.5578038 1.5354275 1.49453...</td>\n",
       "    </tr>\n",
       "    <tr>\n",
       "      <th>1</th>\n",
       "      <td>2</td>\n",
       "      <td>1095 11 47 28 50 4 12 5 136 6</td>\n",
       "      <td>1.4058849 1.3188555 1.3066249 1.2116627 1.1660...</td>\n",
       "    </tr>\n",
       "    <tr>\n",
       "      <th>2</th>\n",
       "      <td>3</td>\n",
       "      <td>59 956 584 2748 857 1281 536 259 2172 648</td>\n",
       "      <td>0.3344119 0.3292961 0.31564894 0.3086834 0.306...</td>\n",
       "    </tr>\n",
       "    <tr>\n",
       "      <th>3</th>\n",
       "      <td>4</td>\n",
       "      <td>28 50 249 136 145 5 277 111 363 122</td>\n",
       "      <td>2.1428757 1.9647391 1.6645603 1.5421509 1.5406...</td>\n",
       "    </tr>\n",
       "    <tr>\n",
       "      <th>4</th>\n",
       "      <td>5</td>\n",
       "      <td>1570 5138 77 7033 9039 4 238 116 148 20</td>\n",
       "      <td>1.1080153 1.0350269 0.9306607 0.92600083 0.922...</td>\n",
       "    </tr>\n",
       "    <tr>\n",
       "      <th>...</th>\n",
       "      <td>...</td>\n",
       "      <td>...</td>\n",
       "      <td>...</td>\n",
       "    </tr>\n",
       "    <tr>\n",
       "      <th>10877</th>\n",
       "      <td>13020</td>\n",
       "      <td>6450 6198 6452 7395 6749 7394 4323 12468 8743 ...</td>\n",
       "      <td>6.52352 6.0895486 6.045894 5.6441913 5.591287 ...</td>\n",
       "    </tr>\n",
       "    <tr>\n",
       "      <th>10878</th>\n",
       "      <td>13021</td>\n",
       "      <td>6179 6426 7027 6720 6451 6749 13621 20518 2050...</td>\n",
       "      <td>11.405987 10.792806 10.601754 10.198996 10.070...</td>\n",
       "    </tr>\n",
       "    <tr>\n",
       "      <th>10879</th>\n",
       "      <td>13022</td>\n",
       "      <td>1668 1446 1411 1674 809 10789 1561 8550 8100 1...</td>\n",
       "      <td>1.6723673 1.6144214 1.6026337 1.5664377 1.3270...</td>\n",
       "    </tr>\n",
       "    <tr>\n",
       "      <th>10880</th>\n",
       "      <td>13023</td>\n",
       "      <td>837 1107 1124 706 639 1534 978 1146 1290 828</td>\n",
       "      <td>1.4537846 1.3834087 1.3473324 1.3461387 1.3224...</td>\n",
       "    </tr>\n",
       "    <tr>\n",
       "      <th>10881</th>\n",
       "      <td>13024</td>\n",
       "      <td>10211 4076 4082 6215 8259 2120 7811 7771 1776 ...</td>\n",
       "      <td>4.770474 4.6843753 4.6816835 4.335841 4.085976...</td>\n",
       "    </tr>\n",
       "  </tbody>\n",
       "</table>\n",
       "<p>10882 rows × 3 columns</p>\n",
       "</div>"
      ],
      "text/plain": [
       "       user_id                                          item_list  \\\n",
       "0            1            101 403 515 506 36 977 1546 869 922 318   \n",
       "1            2                      1095 11 47 28 50 4 12 5 136 6   \n",
       "2            3          59 956 584 2748 857 1281 536 259 2172 648   \n",
       "3            4                28 50 249 136 145 5 277 111 363 122   \n",
       "4            5            1570 5138 77 7033 9039 4 238 116 148 20   \n",
       "...        ...                                                ...   \n",
       "10877    13020  6450 6198 6452 7395 6749 7394 4323 12468 8743 ...   \n",
       "10878    13021  6179 6426 7027 6720 6451 6749 13621 20518 2050...   \n",
       "10879    13022  1668 1446 1411 1674 809 10789 1561 8550 8100 1...   \n",
       "10880    13023       837 1107 1124 706 639 1534 978 1146 1290 828   \n",
       "10881    13024  10211 4076 4082 6215 8259 2120 7811 7771 1776 ...   \n",
       "\n",
       "                                             item_scores  \n",
       "0      1.9704008 1.750514 1.5578038 1.5354275 1.49453...  \n",
       "1      1.4058849 1.3188555 1.3066249 1.2116627 1.1660...  \n",
       "2      0.3344119 0.3292961 0.31564894 0.3086834 0.306...  \n",
       "3      2.1428757 1.9647391 1.6645603 1.5421509 1.5406...  \n",
       "4      1.1080153 1.0350269 0.9306607 0.92600083 0.922...  \n",
       "...                                                  ...  \n",
       "10877  6.52352 6.0895486 6.045894 5.6441913 5.591287 ...  \n",
       "10878  11.405987 10.792806 10.601754 10.198996 10.070...  \n",
       "10879  1.6723673 1.6144214 1.6026337 1.5664377 1.3270...  \n",
       "10880  1.4537846 1.3834087 1.3473324 1.3461387 1.3224...  \n",
       "10881  4.770474 4.6843753 4.6816835 4.335841 4.085976...  \n",
       "\n",
       "[10882 rows x 3 columns]"
      ]
     },
     "execution_count": 27,
     "metadata": {},
     "output_type": "execute_result"
    }
   ],
   "source": [
    "suggestions"
   ]
  }
 ],
 "metadata": {
  "kernelspec": {
   "display_name": "Python 3",
   "language": "python",
   "name": "python3"
  },
  "language_info": {
   "codemirror_mode": {
    "name": "ipython",
    "version": 3
   },
   "file_extension": ".py",
   "mimetype": "text/x-python",
   "name": "python",
   "nbconvert_exporter": "python",
   "pygments_lexer": "ipython3",
   "version": "3.11.7"
  }
 },
 "nbformat": 4,
 "nbformat_minor": 2
}
