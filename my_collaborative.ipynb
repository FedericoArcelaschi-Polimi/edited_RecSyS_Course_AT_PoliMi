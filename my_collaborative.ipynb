{
 "cells": [
  {
   "cell_type": "code",
   "execution_count": 1,
   "metadata": {},
   "outputs": [],
   "source": [
    "import numpy as np\n",
    "import matplotlib.pyplot as pyplot\n",
    "import pandas as pd\n",
    "import scipy.sparse as sps\n",
    "%matplotlib inline  \n",
    "%load_ext Cython\n",
    "\n",
    "from Evaluation.Evaluator import EvaluatorHoldout\n",
    "from Data_manager.split_functions.split_train_validation_random_holdout import split_train_in_two_percentage_global_sample\n",
    "from Recommenders.Similarity.Compute_Similarity_Python import Compute_Similarity_Python"
   ]
  },
  {
   "cell_type": "code",
   "execution_count": 2,
   "metadata": {},
   "outputs": [],
   "source": [
    "class ItemKNNCFRecommender(object):\n",
    "    \n",
    "    def __init__(self, URM):\n",
    "        self.URM = URM\n",
    "        \n",
    "            \n",
    "    def fit(self, topK=50, shrink=100, normalize=True, similarity=\"cosine\"):\n",
    "        \n",
    "        similarity_object = Compute_Similarity_Python(self.URM, shrink=shrink, \n",
    "                                                  topK=topK, normalize=normalize, \n",
    "                                                  similarity = similarity)\n",
    "        \n",
    "        self.W_sparse = similarity_object.compute_similarity()\n",
    "\n",
    "        \n",
    "    def recommend(self, user_id, at=None, exclude_seen=True):\n",
    "        # compute the scores using the dot product\n",
    "        user_profile = self.URM[user_id]\n",
    "        scores = user_profile.dot(self.W_sparse).toarray().ravel()\n",
    "\n",
    "        if exclude_seen:\n",
    "            scores = self.filter_seen(user_id, scores)\n",
    "\n",
    "        # rank items\n",
    "        ranking = scores.argsort()[::-1]\n",
    "            \n",
    "        return ranking[:at]\n",
    "    \n",
    "    \n",
    "    def filter_seen(self, user_id, scores):\n",
    "\n",
    "        start_pos = self.URM.indptr[user_id]\n",
    "        end_pos = self.URM.indptr[user_id+1]\n",
    "\n",
    "        user_profile = self.URM.indices[start_pos:end_pos]\n",
    "        \n",
    "        scores[user_profile] = -np.inf\n",
    "\n",
    "        return scores"
   ]
  },
  {
   "cell_type": "code",
   "execution_count": 3,
   "metadata": {},
   "outputs": [],
   "source": [
    "# data_train_path=\"/kaggle/input/recommender-system-2023-challenge-polimi/data_train.csv\"\n",
    "# data_target_user_path=\"/kaggle/input/recommender-system-2023-challenge-polimi/data_target_users_test.csv\"\n",
    "data_train_path=\"data_train.csv\"\n",
    "data_target_user_path=\"data_target_users_test.csv\"\n",
    "data_train = pd.read_csv(data_train_path)\n",
    "data_target = pd.read_csv(data_target_user_path)"
   ]
  },
  {
   "cell_type": "code",
   "execution_count": 4,
   "metadata": {},
   "outputs": [
    {
     "data": {
      "text/plain": [
       "<13024x22222 sparse matrix of type '<class 'numpy.float64'>'\n",
       "\twith 478730 stored elements in Compressed Sparse Row format>"
      ]
     },
     "execution_count": 4,
     "metadata": {},
     "output_type": "execute_result"
    }
   ],
   "source": [
    "URM_all =  data_train.pivot(index='row', columns='col', values='data').fillna(0)\n",
    "item_map = {i : item for i, item in enumerate(URM_all.columns)}\n",
    "user_map = {i : user for i, user in enumerate(data_target[\"user_id\"])}\n",
    "item_map_inv = {item : i for i, item in item_map.items()}\n",
    "user_map_inv = {user : i for i, user in user_map.items()}\n",
    "missing_index = [x for x in range(1,13025) if x not in URM_all.index.tolist()]\n",
    "add_urm = pd.DataFrame(index = missing_index, columns = URM_all.columns).fillna(0)\n",
    "URM_all = pd.concat([URM_all, add_urm]).sort_index()\n",
    "del add_urm\n",
    "del missing_index\n",
    "#data_target[\"user_id\"] = data_target[\"user_id\"]\n",
    "URM_all = URM_all.to_numpy()\n",
    "urm_sparse = sps.csr_matrix(URM_all)\n",
    "urm_sparse"
   ]
  },
  {
   "cell_type": "code",
   "execution_count": 5,
   "metadata": {},
   "outputs": [
    {
     "name": "stdout",
     "output_type": "stream",
     "text": [
      "Warning: 581 (4.46 %) of 13024 users have no train items\n",
      "Warning: 2598 (19.95 %) of 13024 users have no sampled items\n",
      "Warning: 815 (6.26 %) of 13024 users have no train items\n",
      "Warning: 3048 (23.40 %) of 13024 users have no sampled items\n",
      "EvaluatorHoldout: Ignoring 3048 (23.4%) Users that have less than 1 test interactions\n",
      "EvaluatorHoldout: Ignoring 2598 (19.9%) Users that have less than 1 test interactions\n"
     ]
    }
   ],
   "source": [
    "URM_train, URM_test = split_train_in_two_percentage_global_sample(urm_sparse, train_percentage = 0.80)\n",
    "URM_train, URM_validation = split_train_in_two_percentage_global_sample(URM_train, train_percentage = 0.80)\n",
    "evaluator_validation = EvaluatorHoldout(URM_validation, cutoff_list=[10])\n",
    "evaluator_test = EvaluatorHoldout(URM_test, cutoff_list=[10])"
   ]
  },
  {
   "cell_type": "code",
   "execution_count": 6,
   "metadata": {},
   "outputs": [
    {
     "name": "stdout",
     "output_type": "stream",
     "text": [
      "Similarity column 22222 (100.0%), 2068.11 column/sec. Elapsed time 10.75 sec\n"
     ]
    }
   ],
   "source": [
    "recommender = ItemKNNCFRecommender(URM_train)\n",
    "recommender.fit(shrink=0.0, topK=50)"
   ]
  },
  {
   "cell_type": "code",
   "execution_count": 7,
   "metadata": {},
   "outputs": [
    {
     "name": "stdout",
     "output_type": "stream",
     "text": [
      "ItemKNNCFRecommender: URM Detected 815 ( 6.3%) users with no interactions.\n",
      "ItemKNNCFRecommender: URM Detected 320 ( 1.4%) items with no interactions.\n",
      "Unable to load Cython Compute_Similarity, reverting to Python\n",
      "Similarity column 22222 (100.0%), 3054.82 column/sec. Elapsed time 7.27 sec\n",
      "EvaluatorHoldout: Processed 9976 (100.0%) in 9.09 sec. Users per second: 1097\n",
      "ItemKNNCFRecommender: URM Detected 815 ( 6.3%) users with no interactions.\n",
      "ItemKNNCFRecommender: URM Detected 320 ( 1.4%) items with no interactions.\n",
      "Unable to load Cython Compute_Similarity, reverting to Python\n",
      "Similarity column 22222 (100.0%), 3376.73 column/sec. Elapsed time 6.58 sec\n",
      "EvaluatorHoldout: Processed 9976 (100.0%) in 8.52 sec. Users per second: 1172\n",
      "ItemKNNCFRecommender: URM Detected 815 ( 6.3%) users with no interactions.\n",
      "ItemKNNCFRecommender: URM Detected 320 ( 1.4%) items with no interactions.\n",
      "Unable to load Cython Compute_Similarity, reverting to Python\n",
      "Similarity column 22222 (100.0%), 2852.78 column/sec. Elapsed time 7.79 sec\n",
      "EvaluatorHoldout: Processed 9976 (100.0%) in 10.30 sec. Users per second: 969\n",
      "ItemKNNCFRecommender: URM Detected 815 ( 6.3%) users with no interactions.\n",
      "ItemKNNCFRecommender: URM Detected 320 ( 1.4%) items with no interactions.\n",
      "Unable to load Cython Compute_Similarity, reverting to Python\n",
      "Similarity column 22222 (100.0%), 3053.06 column/sec. Elapsed time 7.28 sec\n",
      "EvaluatorHoldout: Processed 9976 (100.0%) in 8.42 sec. Users per second: 1185\n",
      "ItemKNNCFRecommender: URM Detected 815 ( 6.3%) users with no interactions.\n",
      "ItemKNNCFRecommender: URM Detected 320 ( 1.4%) items with no interactions.\n",
      "Unable to load Cython Compute_Similarity, reverting to Python\n",
      "Similarity column 22222 (100.0%), 2979.35 column/sec. Elapsed time 7.46 sec\n",
      "EvaluatorHoldout: Processed 9976 (100.0%) in 7.06 sec. Users per second: 1414\n",
      "ItemKNNCFRecommender: URM Detected 815 ( 6.3%) users with no interactions.\n",
      "ItemKNNCFRecommender: URM Detected 320 ( 1.4%) items with no interactions.\n",
      "Unable to load Cython Compute_Similarity, reverting to Python\n",
      "Similarity column 22222 (100.0%), 2941.81 column/sec. Elapsed time 7.55 sec\n",
      "EvaluatorHoldout: Processed 9976 (100.0%) in 6.10 sec. Users per second: 1634\n",
      "ItemKNNCFRecommender: URM Detected 815 ( 6.3%) users with no interactions.\n",
      "ItemKNNCFRecommender: URM Detected 320 ( 1.4%) items with no interactions.\n",
      "Unable to load Cython Compute_Similarity, reverting to Python\n",
      "Similarity column 22222 (100.0%), 2978.71 column/sec. Elapsed time 7.46 sec\n",
      "EvaluatorHoldout: Processed 9976 (100.0%) in 6.05 sec. Users per second: 1649\n",
      "ItemKNNCFRecommender: URM Detected 815 ( 6.3%) users with no interactions.\n",
      "ItemKNNCFRecommender: URM Detected 320 ( 1.4%) items with no interactions.\n",
      "Unable to load Cython Compute_Similarity, reverting to Python\n",
      "Similarity column 22222 (100.0%), 3003.36 column/sec. Elapsed time 7.40 sec\n",
      "EvaluatorHoldout: Processed 9976 (100.0%) in 6.02 sec. Users per second: 1657\n",
      "ItemKNNCFRecommender: URM Detected 815 ( 6.3%) users with no interactions.\n",
      "ItemKNNCFRecommender: URM Detected 320 ( 1.4%) items with no interactions.\n",
      "Unable to load Cython Compute_Similarity, reverting to Python\n",
      "Similarity column 22222 (100.0%), 2755.20 column/sec. Elapsed time 8.07 sec\n",
      "EvaluatorHoldout: Processed 9976 (100.0%) in 6.24 sec. Users per second: 1598\n",
      "ItemKNNCFRecommender: URM Detected 815 ( 6.3%) users with no interactions.\n",
      "ItemKNNCFRecommender: URM Detected 320 ( 1.4%) items with no interactions.\n",
      "Unable to load Cython Compute_Similarity, reverting to Python\n",
      "Similarity column 22222 (100.0%), 2686.44 column/sec. Elapsed time 8.27 sec\n",
      "EvaluatorHoldout: Processed 9976 (100.0%) in 6.40 sec. Users per second: 1559\n",
      "ItemKNNCFRecommender: URM Detected 815 ( 6.3%) users with no interactions.\n",
      "ItemKNNCFRecommender: URM Detected 320 ( 1.4%) items with no interactions.\n",
      "Unable to load Cython Compute_Similarity, reverting to Python\n",
      "Similarity column 22222 (100.0%), 2009.53 column/sec. Elapsed time 11.06 sec\n",
      "EvaluatorHoldout: Processed 9976 (100.0%) in 7.83 sec. Users per second: 1273\n"
     ]
    }
   ],
   "source": [
    "import pandas as pd\n",
    "from scipy.stats import loguniform\n",
    "from Recommenders.KNN.ItemKNNCFRecommender import ItemKNNCFRecommender\n",
    "\n",
    "hyperparameter_search_rnd = pd.DataFrame(columns = [\"k\", \"MAP\"])\n",
    "hyperparameter_search_rnd[\"k\"] = loguniform.rvs(1, 200, size=11).astype(int)\n",
    "hyperparameter_search_rnd = hyperparameter_search_rnd.sort_values(by=\"k\")\n",
    "\n",
    "for index in hyperparameter_search_rnd.index:\n",
    "    \n",
    "    recommender = ItemKNNCFRecommender(URM_train)\n",
    "    recommender.fit(shrink=0.0, topK=hyperparameter_search_rnd.loc[index,\"k\"])\n",
    "    \n",
    "    result_df, _ = evaluator_validation.evaluateRecommender(recommender)\n",
    "    \n",
    "    hyperparameter_search_rnd.loc[index,\"MAP\"] = result_df.loc[10][\"MAP\"]"
   ]
  },
  {
   "cell_type": "code",
   "execution_count": 8,
   "metadata": {},
   "outputs": [
    {
     "data": {
      "image/png": "[encoded data removed]",
      "text/plain": [
       "<Figure size 640x480 with 1 Axes>"
      ]
     },
     "metadata": {},
     "output_type": "display_data"
    }
   ],
   "source": [
    "pyplot.plot(hyperparameter_search_rnd[\"k\"].values, hyperparameter_search_rnd[\"MAP\"].values)\n",
    "pyplot.ylabel('MAP')\n",
    "pyplot.xlabel('TopK')\n",
    "pyplot.show()"
   ]
  },
  {
   "cell_type": "code",
   "execution_count": 9,
   "metadata": {},
   "outputs": [
    {
     "data": {
      "text/html": [
       "<div>\n",
       "<style scoped>\n",
       "    .dataframe tbody tr th:only-of-type {\n",
       "        vertical-align: middle;\n",
       "    }\n",
       "\n",
       "    .dataframe tbody tr th {\n",
       "        vertical-align: top;\n",
       "    }\n",
       "\n",
       "    .dataframe thead th {\n",
       "        text-align: right;\n",
       "    }\n",
       "</style>\n",
       "<table border=\"1\" class=\"dataframe\">\n",
       "  <thead>\n",
       "    <tr style=\"text-align: right;\">\n",
       "      <th></th>\n",
       "      <th>k</th>\n",
       "      <th>MAP</th>\n",
       "    </tr>\n",
       "  </thead>\n",
       "  <tbody>\n",
       "    <tr>\n",
       "      <th>5</th>\n",
       "      <td>1</td>\n",
       "      <td>0.017848</td>\n",
       "    </tr>\n",
       "    <tr>\n",
       "      <th>9</th>\n",
       "      <td>1</td>\n",
       "      <td>0.017848</td>\n",
       "    </tr>\n",
       "    <tr>\n",
       "      <th>8</th>\n",
       "      <td>7</td>\n",
       "      <td>0.023591</td>\n",
       "    </tr>\n",
       "    <tr>\n",
       "      <th>3</th>\n",
       "      <td>10</td>\n",
       "      <td>0.024141</td>\n",
       "    </tr>\n",
       "    <tr>\n",
       "      <th>0</th>\n",
       "      <td>12</td>\n",
       "      <td>0.024067</td>\n",
       "    </tr>\n",
       "    <tr>\n",
       "      <th>4</th>\n",
       "      <td>12</td>\n",
       "      <td>0.024067</td>\n",
       "    </tr>\n",
       "    <tr>\n",
       "      <th>10</th>\n",
       "      <td>12</td>\n",
       "      <td>0.024067</td>\n",
       "    </tr>\n",
       "    <tr>\n",
       "      <th>6</th>\n",
       "      <td>14</td>\n",
       "      <td>0.023967</td>\n",
       "    </tr>\n",
       "    <tr>\n",
       "      <th>1</th>\n",
       "      <td>45</td>\n",
       "      <td>0.023182</td>\n",
       "    </tr>\n",
       "    <tr>\n",
       "      <th>2</th>\n",
       "      <td>49</td>\n",
       "      <td>0.023015</td>\n",
       "    </tr>\n",
       "    <tr>\n",
       "      <th>7</th>\n",
       "      <td>190</td>\n",
       "      <td>0.021309</td>\n",
       "    </tr>\n",
       "  </tbody>\n",
       "</table>\n",
       "</div>"
      ],
      "text/plain": [
       "      k       MAP\n",
       "5     1  0.017848\n",
       "9     1  0.017848\n",
       "8     7  0.023591\n",
       "3    10  0.024141\n",
       "0    12  0.024067\n",
       "4    12  0.024067\n",
       "10   12  0.024067\n",
       "6    14  0.023967\n",
       "1    45  0.023182\n",
       "2    49  0.023015\n",
       "7   190  0.021309"
      ]
     },
     "execution_count": 9,
     "metadata": {},
     "output_type": "execute_result"
    }
   ],
   "source": [
    "hyperparameter_search_rnd"
   ]
  },
  {
   "cell_type": "code",
   "execution_count": 10,
   "metadata": {},
   "outputs": [
    {
     "name": "stdout",
     "output_type": "stream",
     "text": [
      "ItemKNNCFRecommender: URM Detected 815 ( 6.3%) users with no interactions.\n",
      "ItemKNNCFRecommender: URM Detected 320 ( 1.4%) items with no interactions.\n",
      "Unable to load Cython Compute_Similarity, reverting to Python\n",
      "Similarity column 22222 (100.0%), 3038.96 column/sec. Elapsed time 7.31 sec\n",
      "EvaluatorHoldout: Processed 9976 (100.0%) in 6.00 sec. Users per second: 1663\n",
      "ItemKNNCFRecommender: URM Detected 815 ( 6.3%) users with no interactions.\n",
      "ItemKNNCFRecommender: URM Detected 320 ( 1.4%) items with no interactions.\n",
      "Unable to load Cython Compute_Similarity, reverting to Python\n",
      "Similarity column 22222 (100.0%), 3049.43 column/sec. Elapsed time 7.29 sec\n",
      "EvaluatorHoldout: Processed 9976 (100.0%) in 5.96 sec. Users per second: 1674\n",
      "ItemKNNCFRecommender: URM Detected 815 ( 6.3%) users with no interactions.\n",
      "ItemKNNCFRecommender: URM Detected 320 ( 1.4%) items with no interactions.\n",
      "Unable to load Cython Compute_Similarity, reverting to Python\n",
      "Similarity column 22222 (100.0%), 3007.33 column/sec. Elapsed time 7.39 sec\n",
      "EvaluatorHoldout: Processed 9976 (100.0%) in 6.03 sec. Users per second: 1653\n",
      "ItemKNNCFRecommender: URM Detected 815 ( 6.3%) users with no interactions.\n",
      "ItemKNNCFRecommender: URM Detected 320 ( 1.4%) items with no interactions.\n",
      "Unable to load Cython Compute_Similarity, reverting to Python\n",
      "Similarity column 22222 (100.0%), 3044.22 column/sec. Elapsed time 7.30 sec\n",
      "EvaluatorHoldout: Processed 9976 (100.0%) in 6.12 sec. Users per second: 1631\n",
      "ItemKNNCFRecommender: URM Detected 815 ( 6.3%) users with no interactions.\n",
      "ItemKNNCFRecommender: URM Detected 320 ( 1.4%) items with no interactions.\n",
      "Unable to load Cython Compute_Similarity, reverting to Python\n",
      "Similarity column 22222 (100.0%), 3059.26 column/sec. Elapsed time 7.26 sec\n",
      "EvaluatorHoldout: Processed 9976 (100.0%) in 6.05 sec. Users per second: 1649\n",
      "ItemKNNCFRecommender: URM Detected 815 ( 6.3%) users with no interactions.\n",
      "ItemKNNCFRecommender: URM Detected 320 ( 1.4%) items with no interactions.\n",
      "Unable to load Cython Compute_Similarity, reverting to Python\n",
      "Similarity column 22222 (100.0%), 3036.07 column/sec. Elapsed time 7.32 sec\n",
      "EvaluatorHoldout: Processed 9976 (100.0%) in 6.11 sec. Users per second: 1632\n",
      "ItemKNNCFRecommender: URM Detected 815 ( 6.3%) users with no interactions.\n",
      "ItemKNNCFRecommender: URM Detected 320 ( 1.4%) items with no interactions.\n",
      "Unable to load Cython Compute_Similarity, reverting to Python\n",
      "Similarity column 22222 (100.0%), 3063.24 column/sec. Elapsed time 7.25 sec\n",
      "EvaluatorHoldout: Processed 9976 (100.0%) in 6.31 sec. Users per second: 1580\n",
      "ItemKNNCFRecommender: URM Detected 815 ( 6.3%) users with no interactions.\n",
      "ItemKNNCFRecommender: URM Detected 320 ( 1.4%) items with no interactions.\n",
      "Unable to load Cython Compute_Similarity, reverting to Python\n",
      "Similarity column 22222 (100.0%), 2969.07 column/sec. Elapsed time 7.48 sec\n",
      "EvaluatorHoldout: Processed 9976 (100.0%) in 6.70 sec. Users per second: 1489\n",
      "ItemKNNCFRecommender: URM Detected 815 ( 6.3%) users with no interactions.\n",
      "ItemKNNCFRecommender: URM Detected 320 ( 1.4%) items with no interactions.\n",
      "Unable to load Cython Compute_Similarity, reverting to Python\n",
      "Similarity column 22222 (100.0%), 3042.85 column/sec. Elapsed time 7.30 sec\n",
      "EvaluatorHoldout: Processed 9976 (100.0%) in 6.95 sec. Users per second: 1436\n",
      "ItemKNNCFRecommender: URM Detected 815 ( 6.3%) users with no interactions.\n",
      "ItemKNNCFRecommender: URM Detected 320 ( 1.4%) items with no interactions.\n",
      "Unable to load Cython Compute_Similarity, reverting to Python\n",
      "Similarity column 22222 (100.0%), 2748.18 column/sec. Elapsed time 8.09 sec\n",
      "EvaluatorHoldout: Processed 9976 (100.0%) in 7.59 sec. Users per second: 1315\n",
      "ItemKNNCFRecommender: URM Detected 815 ( 6.3%) users with no interactions.\n",
      "ItemKNNCFRecommender: URM Detected 320 ( 1.4%) items with no interactions.\n",
      "Unable to load Cython Compute_Similarity, reverting to Python\n",
      "Similarity column 22222 (100.0%), 2991.73 column/sec. Elapsed time 7.43 sec\n",
      "EvaluatorHoldout: Processed 9976 (100.0%) in 7.19 sec. Users per second: 1388\n"
     ]
    }
   ],
   "source": [
    "best_k_value = hyperparameter_search_rnd.loc[hyperparameter_search_rnd[\"MAP\"].astype(float).idxmax()]\n",
    "best_k_value\n",
    "\n",
    "hyperparameter_search_rnd = pd.DataFrame(columns = [\"k\", \"shrink\", \"MAP\"])\n",
    "hyperparameter_search_rnd[\"shrink\"] = loguniform.rvs(0.1, 1000, size=11).astype(int)\n",
    "hyperparameter_search_rnd = hyperparameter_search_rnd.sort_values(by=\"shrink\")\n",
    "hyperparameter_search_rnd[\"k\"] = best_k_value[\"k\"]\n",
    "\n",
    "for index in hyperparameter_search_rnd.index:\n",
    "    \n",
    "    recommender = ItemKNNCFRecommender(URM_train)\n",
    "    recommender.fit(shrink=hyperparameter_search_rnd.loc[index,\"shrink\"], \n",
    "                    topK=hyperparameter_search_rnd.loc[index,\"k\"])\n",
    "    \n",
    "    result_df, _ = evaluator_validation.evaluateRecommender(recommender)\n",
    "    \n",
    "    hyperparameter_search_rnd.loc[index, \"MAP\"] = result_df.loc[10][\"MAP\"]"
   ]
  },
  {
   "cell_type": "code",
   "execution_count": 11,
   "metadata": {},
   "outputs": [
    {
     "data": {
      "image/png": "[encoded data removed]",
      "text/plain": [
       "<Figure size 640x480 with 1 Axes>"
      ]
     },
     "metadata": {},
     "output_type": "display_data"
    }
   ],
   "source": [
    "pyplot.plot(hyperparameter_search_rnd[\"shrink\"].values, hyperparameter_search_rnd[\"MAP\"].values)\n",
    "pyplot.ylabel('MAP')\n",
    "pyplot.xlabel('Shrinkage')\n",
    "pyplot.show()"
   ]
  },
  {
   "cell_type": "code",
   "execution_count": 12,
   "metadata": {},
   "outputs": [
    {
     "data": {
      "text/plain": [
       "k              10\n",
       "shrink          9\n",
       "MAP       0.02775\n",
       "Name: 9, dtype: object"
      ]
     },
     "execution_count": 12,
     "metadata": {},
     "output_type": "execute_result"
    }
   ],
   "source": [
    "best_parameters_value = hyperparameter_search_rnd.loc[hyperparameter_search_rnd[\"MAP\"].astype(float).idxmax()]\n",
    "best_parameters_value"
   ]
  },
  {
   "cell_type": "code",
   "execution_count": 18,
   "metadata": {},
   "outputs": [
    {
     "name": "stdout",
     "output_type": "stream",
     "text": [
      "ItemKNNCFRecommender: URM Detected 386 ( 3.0%) users with no interactions.\n",
      "Unable to load Cython Compute_Similarity, reverting to Python\n",
      "Similarity column 22222 (100.0%), 2489.41 column/sec. Elapsed time 8.93 sec\n",
      "Reasonable implementation speed is 947.08 usr/sec\n"
     ]
    }
   ],
   "source": [
    "import time\n",
    "recommender = ItemKNNCFRecommender(urm_sparse)\n",
    "recommender.fit(shrink=best_parameters_value[\"shrink\"], topK=best_parameters_value[\"k\"])\n",
    "n_users_to_test = len(data_target[\"user_id\"])\n",
    "suggestions = pd.DataFrame(columns = [\"user_id\", \"item_list\"])\n",
    "start_time = time.time()\n",
    "\n",
    "for user_id in (data_target[\"user_id\"]-1):\n",
    "    suggestion= recommender.recommend(user_id, cutoff=10)\n",
    "    suggestions.loc[len(suggestions)] = [user_id+1, \" \".join([str(item_map[x]) for x in suggestion])]\n",
    "    \n",
    "end_time = time.time()\n",
    "\n",
    "print(\"Reasonable implementation speed is {:.2f} usr/sec\".format(n_users_to_test/(end_time-start_time)))"
   ]
  },
  {
   "cell_type": "code",
   "execution_count": 20,
   "metadata": {},
   "outputs": [],
   "source": [
    "suggestions.to_csv('outputs/collaborative_item_item.csv', index=False)"
   ]
  },
  {
   "cell_type": "code",
   "execution_count": 19,
   "metadata": {},
   "outputs": [
    {
     "data": {
      "text/html": [
       "<div>\n",
       "<style scoped>\n",
       "    .dataframe tbody tr th:only-of-type {\n",
       "        vertical-align: middle;\n",
       "    }\n",
       "\n",
       "    .dataframe tbody tr th {\n",
       "        vertical-align: top;\n",
       "    }\n",
       "\n",
       "    .dataframe thead th {\n",
       "        text-align: right;\n",
       "    }\n",
       "</style>\n",
       "<table border=\"1\" class=\"dataframe\">\n",
       "  <thead>\n",
       "    <tr style=\"text-align: right;\">\n",
       "      <th></th>\n",
       "      <th>user_id</th>\n",
       "      <th>item_list</th>\n",
       "    </tr>\n",
       "  </thead>\n",
       "  <tbody>\n",
       "    <tr>\n",
       "      <th>0</th>\n",
       "      <td>1</td>\n",
       "      <td>36 101 506 515 403 1546 922 254 1422 1481</td>\n",
       "    </tr>\n",
       "    <tr>\n",
       "      <th>1</th>\n",
       "      <td>2</td>\n",
       "      <td>1095 47 11 28 50 136 277 1522 37 145</td>\n",
       "    </tr>\n",
       "    <tr>\n",
       "      <th>2</th>\n",
       "      <td>3</td>\n",
       "      <td>59 956 584 259 536 648 857 1281 414 2748</td>\n",
       "    </tr>\n",
       "    <tr>\n",
       "      <th>3</th>\n",
       "      <td>4</td>\n",
       "      <td>28 50 249 145 136 639 277 1146 1273 679</td>\n",
       "    </tr>\n",
       "    <tr>\n",
       "      <th>4</th>\n",
       "      <td>5</td>\n",
       "      <td>1570 77 116 5138 148 7033 175 238 9582 304</td>\n",
       "    </tr>\n",
       "    <tr>\n",
       "      <th>...</th>\n",
       "      <td>...</td>\n",
       "      <td>...</td>\n",
       "    </tr>\n",
       "    <tr>\n",
       "      <th>10877</th>\n",
       "      <td>13020</td>\n",
       "      <td>6198 6452 6450 6749 7394 7395 4323 161 506 15943</td>\n",
       "    </tr>\n",
       "    <tr>\n",
       "      <th>10878</th>\n",
       "      <td>13021</td>\n",
       "      <td>6179 6451 7027 6720 6749 7395 6426 6721 17942 ...</td>\n",
       "    </tr>\n",
       "    <tr>\n",
       "      <th>10879</th>\n",
       "      <td>13022</td>\n",
       "      <td>1668 1446 1411 1674 809 10789 21627 1258 8100 ...</td>\n",
       "    </tr>\n",
       "    <tr>\n",
       "      <th>10880</th>\n",
       "      <td>13023</td>\n",
       "      <td>639 1146 1124 1273 706 928 1534 1535 1107 1532</td>\n",
       "    </tr>\n",
       "    <tr>\n",
       "      <th>10881</th>\n",
       "      <td>13024</td>\n",
       "      <td>10211 2120 4082 4076 1776 8259 3609 2196 13593...</td>\n",
       "    </tr>\n",
       "  </tbody>\n",
       "</table>\n",
       "<p>10882 rows × 2 columns</p>\n",
       "</div>"
      ],
      "text/plain": [
       "       user_id                                          item_list\n",
       "0            1          36 101 506 515 403 1546 922 254 1422 1481\n",
       "1            2               1095 47 11 28 50 136 277 1522 37 145\n",
       "2            3           59 956 584 259 536 648 857 1281 414 2748\n",
       "3            4            28 50 249 145 136 639 277 1146 1273 679\n",
       "4            5         1570 77 116 5138 148 7033 175 238 9582 304\n",
       "...        ...                                                ...\n",
       "10877    13020   6198 6452 6450 6749 7394 7395 4323 161 506 15943\n",
       "10878    13021  6179 6451 7027 6720 6749 7395 6426 6721 17942 ...\n",
       "10879    13022  1668 1446 1411 1674 809 10789 21627 1258 8100 ...\n",
       "10880    13023     639 1146 1124 1273 706 928 1534 1535 1107 1532\n",
       "10881    13024  10211 2120 4082 4076 1776 8259 3609 2196 13593...\n",
       "\n",
       "[10882 rows x 2 columns]"
      ]
     },
     "execution_count": 19,
     "metadata": {},
     "output_type": "execute_result"
    }
   ],
   "source": [
    "suggestions"
   ]
  }
 ],
 "metadata": {
  "kernelspec": {
   "display_name": "Python 3",
   "language": "python",
   "name": "python3"
  },
  "language_info": {
   "codemirror_mode": {
    "name": "ipython",
    "version": 3
   },
   "file_extension": ".py",
   "mimetype": "text/x-python",
   "name": "python",
   "nbconvert_exporter": "python",
   "pygments_lexer": "ipython3",
   "version": "3.11.7"
  }
 },
 "nbformat": 4,
 "nbformat_minor": 2
}
