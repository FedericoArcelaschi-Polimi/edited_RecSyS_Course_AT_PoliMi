{
 "cells": [
  {
   "cell_type": "code",
   "execution_count": 1,
   "metadata": {},
   "outputs": [],
   "source": [
    "import numpy as np\n",
    "import matplotlib.pyplot as pyplot\n",
    "import pandas as pd\n",
    "import scipy.sparse as sps\n",
    "%matplotlib inline  \n",
    "import time\n",
    "%load_ext Cython\n",
    "from Data_manager.split_functions.split_train_validation_random_holdout import split_train_in_two_percentage_global_sample\n"
   ]
  },
  {
   "cell_type": "code",
   "execution_count": 2,
   "metadata": {},
   "outputs": [],
   "source": [
    "# data_train_path=\"/kaggle/input/recommender-system-2023-challenge-polimi/data_train.csv\"\n",
    "# data_target_user_path=\"/kaggle/input/recommender-system-2023-challenge-polimi/data_target_users_test.csv\"\n",
    "data_train_path=\"data_train.csv\"\n",
    "data_target_user_path=\"data_target_users_test.csv\"\n",
    "data_train = pd.read_csv(data_train_path)\n",
    "data_target = pd.read_csv(data_target_user_path)"
   ]
  },
  {
   "cell_type": "code",
   "execution_count": 3,
   "metadata": {},
   "outputs": [
    {
     "data": {
      "text/plain": [
       "<13024x22222 sparse matrix of type '<class 'numpy.float64'>'\n",
       "\twith 478730 stored elements in Compressed Sparse Row format>"
      ]
     },
     "execution_count": 3,
     "metadata": {},
     "output_type": "execute_result"
    }
   ],
   "source": [
    "URM_all =  data_train.pivot(index='row', columns='col', values='data').fillna(0)\n",
    "item_map = {i : item for i, item in enumerate(URM_all.columns)}\n",
    "user_map = {i : user for i, user in enumerate(data_target[\"user_id\"])}\n",
    "item_map_inv = {item : i for i, item in item_map.items()}\n",
    "user_map_inv = {user : i for i, user in user_map.items()}\n",
    "missing_index = [x for x in range(1,13025) if x not in URM_all.index.tolist()]\n",
    "add_urm = pd.DataFrame(index = missing_index, columns = URM_all.columns).fillna(0)\n",
    "URM_all = pd.concat([URM_all, add_urm]).sort_index()\n",
    "del add_urm\n",
    "del missing_index\n",
    "#data_target[\"user_id\"] = data_target[\"user_id\"]\n",
    "URM_all = URM_all.to_numpy()\n",
    "URM_all = sps.csr_matrix(URM_all)\n",
    "URM_all"
   ]
  },
  {
   "cell_type": "code",
   "execution_count": 4,
   "metadata": {},
   "outputs": [
    {
     "name": "stdout",
     "output_type": "stream",
     "text": [
      "Warning: 608 (4.67 %) of 13024 users have no train items\n",
      "Warning: 2560 (19.66 %) of 13024 users have no sampled items\n"
     ]
    }
   ],
   "source": [
    "URM_train, URM_test = split_train_in_two_percentage_global_sample(URM_all, train_percentage = 0.8)\n",
    "n_users, n_items = URM_train.shape"
   ]
  },
  {
   "cell_type": "code",
   "execution_count": 5,
   "metadata": {},
   "outputs": [],
   "source": [
    "# Parameters\n",
    "num_factors = 10\n",
    "learning_rate = 1e-4\n",
    "regularization = 1e-5"
   ]
  },
  {
   "cell_type": "code",
   "execution_count": 6,
   "metadata": {},
   "outputs": [],
   "source": [
    "user_factors = np.random.random((n_users, num_factors))\n",
    "item_factors = np.random.random((n_items, num_factors))"
   ]
  },
  {
   "cell_type": "code",
   "execution_count": 10,
   "metadata": {},
   "outputs": [
    {
     "name": "stdout",
     "output_type": "stream",
     "text": [
      "Content of stdout:\n",
      "_cython_magic_cc5d14dfcd83a8341b25d111fec1e25792178258.c\n",
      "   Creating library C:\\Users\\feder\\.ipython\\cython\\Users\\feder\\.ipython\\cython\\_cython_magic_cc5d14dfcd83a8341b25d111fec1e25792178258.cp311-win_amd64.lib and object C:\\Users\\feder\\.ipython\\cython\\Users\\feder\\.ipython\\cython\\_cython_magic_cc5d14dfcd83a8341b25d111fec1e25792178258.cp311-win_amd64.exp\n",
      "Generating code\n",
      "Finished generating code"
     ]
    }
   ],
   "source": [
    "%%cython\n",
    "import numpy as np\n",
    "import time\n",
    "\n",
    "from libc.stdlib cimport rand, srand, RAND_MAX\n",
    "\n",
    "def train_multiple_epochs(URM_train, learning_rate_input, regularization_input, n_epochs):\n",
    "    \n",
    "    URM_train_coo = URM_train.tocoo()\n",
    "    n_users, n_items = URM_train_coo.shape\n",
    "    cdef int n_interactions = URM_train.nnz\n",
    "    \n",
    "    cdef int sample_num, sample_index, user_id, item_id, factor_index\n",
    "    cdef double rating, predicted_rating, prediction_error\n",
    "\n",
    "    cdef int num_factors = 10\n",
    "    cdef double learning_rate = learning_rate_input\n",
    "    cdef double regularization = regularization_input\n",
    "    \n",
    "    cdef int[:] URM_train_coo_row = URM_train_coo.row\n",
    "    cdef int[:] URM_train_coo_col = URM_train_coo.col\n",
    "    cdef double[:] URM_train_coo_data = URM_train_coo.data\n",
    "\n",
    "    cdef double[:,:] user_factors = np.random.random((n_users, num_factors))\n",
    "    cdef double[:,:] item_factors = np.random.random((n_items, num_factors))\n",
    "    cdef double H_i, W_u\n",
    "    cdef double item_factors_update, user_factors_update\n",
    "                \n",
    "    cdef double loss = 0.0\n",
    "    cdef long start_time = time.time()\n",
    "    \n",
    "    for n_epoch in range(n_epochs):\n",
    "\n",
    "        loss = 0.0\n",
    "        start_time = time.time()\n",
    "\n",
    "        for sample_num in range(URM_train.nnz):\n",
    "\n",
    "            # Randomly pick sample\n",
    "            sample_index = rand() % n_interactions\n",
    "\n",
    "            user_id = URM_train_coo_row[sample_index]\n",
    "            item_id = URM_train_coo_col[sample_index]\n",
    "            rating = URM_train_coo_data[sample_index]\n",
    "\n",
    "            # Compute prediction\n",
    "            predicted_rating = 0.0\n",
    "\n",
    "            for factor_index in range(num_factors):\n",
    "                predicted_rating += user_factors[user_id, factor_index] * item_factors[item_id, factor_index]\n",
    "\n",
    "            # Compute prediction error, or gradient\n",
    "            prediction_error = rating - predicted_rating\n",
    "            loss += prediction_error**2\n",
    "\n",
    "            # Copy original value to avoid messing up the updates\n",
    "            for factor_index in range(num_factors):\n",
    "\n",
    "                H_i = item_factors[item_id,factor_index]\n",
    "                W_u = user_factors[user_id,factor_index]  \n",
    "\n",
    "                user_factors_update = prediction_error * H_i - regularization * W_u\n",
    "                item_factors_update = prediction_error * W_u - regularization * H_i\n",
    "\n",
    "                user_factors[user_id,factor_index] += learning_rate * user_factors_update \n",
    "                item_factors[item_id,factor_index] += learning_rate * item_factors_update    \n",
    "            \n",
    "        elapsed_time = time.time() - start_time\n",
    "        samples_per_second = sample_num/elapsed_time\n",
    "     \n",
    "        print(\"Epoch {} complete in in {:.2f} seconds, loss is {:.3E}. Samples per second {:.2f}\".format(n_epoch+1, time.time() - start_time, loss/sample_num, samples_per_second))\n",
    "\n",
    "    return np.array(user_factors), np.array(item_factors), loss, samples_per_second    "
   ]
  },
  {
   "cell_type": "code",
   "execution_count": 43,
   "metadata": {},
   "outputs": [
    {
     "name": "stdout",
     "output_type": "stream",
     "text": [
      "Epoch 1 complete in in 0.61 seconds, loss is 2.189E+00. Samples per second 627879.62\n",
      "Epoch 2 complete in in 0.68 seconds, loss is 1.464E+00. Samples per second 564472.73\n",
      "Epoch 3 complete in in 0.75 seconds, loss is 1.080E+00. Samples per second 512010.08\n",
      "Epoch 4 complete in in 0.82 seconds, loss is 8.489E-01. Samples per second 466481.47\n",
      "Epoch 5 complete in in 0.90 seconds, loss is 6.924E-01. Samples per second 427187.37\n",
      "Epoch 6 complete in in 0.98 seconds, loss is 5.827E-01. Samples per second 391721.57\n",
      "Epoch 7 complete in in 1.07 seconds, loss is 4.972E-01. Samples per second 356855.24\n",
      "Epoch 8 complete in in 0.15 seconds, loss is 4.351E-01. Samples per second 2523849.83\n",
      "Epoch 9 complete in in 0.23 seconds, loss is 3.843E-01. Samples per second 1659727.28\n",
      "Epoch 10 complete in in 0.31 seconds, loss is 3.460E-01. Samples per second 1218674.56\n"
     ]
    }
   ],
   "source": [
    "URM_train_coo = URM_train.tocoo()\n",
    "n_items = URM_train.shape[1]\n",
    "# learning_rate = 1e-3\n",
    "# regularization = 1e-5\n",
    "    \n",
    "user_factors, item_factors, loss, samples_per_second =  train_multiple_epochs(URM_train, learning_rate, regularization, 10)"
   ]
  },
  {
   "cell_type": "code",
   "execution_count": 44,
   "metadata": {},
   "outputs": [
    {
     "data": {
      "text/plain": [
       "array([[0.68128018, 1.21804642, 1.37793618, ..., 2.32866806, 1.78345187,\n",
       "        1.41119735],\n",
       "       [0.79221499, 0.8352394 , 1.05985302, ..., 1.17768739, 1.70447816,\n",
       "        1.24540483],\n",
       "       [0.56441693, 0.68698047, 0.73337364, ..., 1.38481651, 1.32442867,\n",
       "        0.82690279],\n",
       "       ...,\n",
       "       [1.18864977, 0.97073095, 1.1060913 , ..., 1.10637618, 1.73921501,\n",
       "        1.10302115],\n",
       "       [1.04627693, 0.91649331, 1.3881368 , ..., 1.99714265, 1.63572175,\n",
       "        1.85892543],\n",
       "       [1.61489082, 1.26187279, 1.63519443, ..., 2.70275227, 2.43960451,\n",
       "        2.18028229]])"
      ]
     },
     "execution_count": 44,
     "metadata": {},
     "output_type": "execute_result"
    }
   ],
   "source": [
    "predicted_ratings = np.dot(user_factors, item_factors.T)\n",
    "predicted_ratings"
   ]
  },
  {
   "cell_type": "code",
   "execution_count": 45,
   "metadata": {},
   "outputs": [
    {
     "data": {
      "text/plain": [
       "matrix([[0.68128018, 1.21804642, 1.37793618, ..., 2.32866806, 1.78345187,\n",
       "         1.41119735],\n",
       "        [0.        , 0.8352394 , 1.05985302, ..., 1.17768739, 1.70447816,\n",
       "         1.24540483],\n",
       "        [0.56441693, 0.68698047, 0.73337364, ..., 1.38481651, 1.32442867,\n",
       "         0.82690279],\n",
       "        ...,\n",
       "        [1.18864977, 0.97073095, 1.1060913 , ..., 1.10637618, 1.73921501,\n",
       "         1.10302115],\n",
       "        [1.04627693, 0.91649331, 1.3881368 , ..., 1.99714265, 1.63572175,\n",
       "         1.85892543],\n",
       "        [0.        , 1.26187279, 1.63519443, ..., 2.70275227, 2.43960451,\n",
       "         2.18028229]])"
      ]
     },
     "execution_count": 45,
     "metadata": {},
     "output_type": "execute_result"
    }
   ],
   "source": [
    "predicted_ratings = np.multiply(predicted_ratings ,(URM_train.todense()==0))\n",
    "predicted_ratings"
   ]
  },
  {
   "cell_type": "code",
   "execution_count": 58,
   "metadata": {},
   "outputs": [
    {
     "data": {
      "text/plain": [
       "(matrix([[ 9397, 12022, 11490, ...,  1670, 12166, 11202],\n",
       "         [10188, 19493, 21395, ...,  5450, 17517, 21182],\n",
       "         [18868, 15914, 17402, ..., 22008, 11129, 21873],\n",
       "         ...,\n",
       "         [ 6919, 15889, 19582, ..., 13581, 18160,  9433],\n",
       "         [17265, 18868,  8261, ...,  6337, 19582,  2423],\n",
       "         [17981, 10290, 13581, ...,  7730,  9397,  6166]], dtype=int64),\n",
       " matrix([[3.4035185 , 3.39925413, 3.38049523, ..., 3.2948075 , 3.26846954,\n",
       "          3.2662502 ],\n",
       "         [2.69921001, 2.65681272, 2.62755849, ..., 2.58786391, 2.57015307,\n",
       "          2.56421895],\n",
       "         [2.32740105, 2.29179789, 2.28667641, ..., 2.26090991, 2.2575797 ,\n",
       "          2.24489548],\n",
       "         ...,\n",
       "         [2.66839713, 2.65204001, 2.63260686, ..., 2.59270286, 2.5846774 ,\n",
       "          2.58294429],\n",
       "         [3.18658799, 3.1825936 , 3.18235254, ..., 3.11312614, 3.11198123,\n",
       "          3.10836858],\n",
       "         [4.80950782, 4.70853758, 4.62950825, ..., 4.56507523, 4.53463912,\n",
       "          4.51357563]]))"
      ]
     },
     "execution_count": 58,
     "metadata": {},
     "output_type": "execute_result"
    }
   ],
   "source": [
    "suggestions = np.argsort(predicted_ratings, axis=1)[:,::-1][:,:10]\n",
    "sueggestions_values = np.sort(predicted_ratings, axis=1)[:,::-1][:,:10]\n",
    "suggestions, sueggestions_values"
   ]
  },
  {
   "cell_type": "code",
   "execution_count": 59,
   "metadata": {},
   "outputs": [],
   "source": [
    "suggestions_df = pd.DataFrame(columns=[\"user_id\", \"item_list\", \"item_values\"])\n",
    "suggestions_df[\"user_id\"] = range(1,n_users+1)\n",
    "suggestions_df[\"item_list\"] = suggestions.tolist()\n",
    "suggestions_df[\"item_values\"] = sueggestions_values.tolist()\n",
    "suggestions_df[\"item_list\"] = suggestions_df[\"item_list\"].apply(lambda x: \" \".join(str(item_map[item]) for item in x))\n",
    "suggestions_df.to_csv(\"outputs/funk_SVD.csv\", index=False)"
   ]
  },
  {
   "cell_type": "code",
   "execution_count": 60,
   "metadata": {},
   "outputs": [
    {
     "data": {
      "text/html": [
       "<div>\n",
       "<style scoped>\n",
       "    .dataframe tbody tr th:only-of-type {\n",
       "        vertical-align: middle;\n",
       "    }\n",
       "\n",
       "    .dataframe tbody tr th {\n",
       "        vertical-align: top;\n",
       "    }\n",
       "\n",
       "    .dataframe thead th {\n",
       "        text-align: right;\n",
       "    }\n",
       "</style>\n",
       "<table border=\"1\" class=\"dataframe\">\n",
       "  <thead>\n",
       "    <tr style=\"text-align: right;\">\n",
       "      <th></th>\n",
       "      <th>user_id</th>\n",
       "      <th>item_list</th>\n",
       "      <th>item_values</th>\n",
       "    </tr>\n",
       "  </thead>\n",
       "  <tbody>\n",
       "    <tr>\n",
       "      <th>0</th>\n",
       "      <td>1</td>\n",
       "      <td>9404 12032 11500 19323 6874 17209 21926 1671 1...</td>\n",
       "      <td>[3.4035184978456443, 3.3992541318331613, 3.380...</td>\n",
       "    </tr>\n",
       "    <tr>\n",
       "      <th>1</th>\n",
       "      <td>2</td>\n",
       "      <td>10195 19564 21508 21699 6723 11587 18039 5452 ...</td>\n",
       "      <td>[2.6992100136122787, 2.6568127177111105, 2.627...</td>\n",
       "    </tr>\n",
       "    <tr>\n",
       "      <th>2</th>\n",
       "      <td>3</td>\n",
       "      <td>18935 15951 17452 15500 19564 15694 14752 2213...</td>\n",
       "      <td>[2.3274010461053654, 2.291797893511126, 2.2866...</td>\n",
       "    </tr>\n",
       "    <tr>\n",
       "      <th>3</th>\n",
       "      <td>4</td>\n",
       "      <td>21699 16763 7128 12016 8446 13729 15102 6267 1...</td>\n",
       "      <td>[3.2221121802951713, 3.139639053749286, 3.0831...</td>\n",
       "    </tr>\n",
       "    <tr>\n",
       "      <th>4</th>\n",
       "      <td>5</td>\n",
       "      <td>13817 18428 19734 9075 6880 6182 19574 15639 1...</td>\n",
       "      <td>[2.5792848723608217, 2.419613464956564, 2.3935...</td>\n",
       "    </tr>\n",
       "    <tr>\n",
       "      <th>...</th>\n",
       "      <td>...</td>\n",
       "      <td>...</td>\n",
       "      <td>...</td>\n",
       "    </tr>\n",
       "    <tr>\n",
       "      <th>13019</th>\n",
       "      <td>13020</td>\n",
       "      <td>6840 8913 17033 15926 17717 21699 9440 15500 2...</td>\n",
       "      <td>[3.9487642127083906, 3.9261493931045366, 3.920...</td>\n",
       "    </tr>\n",
       "    <tr>\n",
       "      <th>13020</th>\n",
       "      <td>13021</td>\n",
       "      <td>21699 18039 19654 12016 13600 8266 6267 6339 1...</td>\n",
       "      <td>[4.993896243689156, 4.959149720621143, 4.93284...</td>\n",
       "    </tr>\n",
       "    <tr>\n",
       "      <th>13021</th>\n",
       "      <td>13022</td>\n",
       "      <td>6922 15926 19654 8913 21699 12016 6840 13600 1...</td>\n",
       "      <td>[2.6683971295666997, 2.652040012851108, 2.6326...</td>\n",
       "    </tr>\n",
       "    <tr>\n",
       "      <th>13022</th>\n",
       "      <td>13023</td>\n",
       "      <td>17311 18935 8266 20402 13607 6022 11920 6339 1...</td>\n",
       "      <td>[3.18658799104698, 3.1825936045670082, 3.18235...</td>\n",
       "    </tr>\n",
       "    <tr>\n",
       "      <th>13023</th>\n",
       "      <td>13024</td>\n",
       "      <td>18039 10297 13600 11212 11500 12016 17209 7735...</td>\n",
       "      <td>[4.809507823075239, 4.708537576551992, 4.62950...</td>\n",
       "    </tr>\n",
       "  </tbody>\n",
       "</table>\n",
       "<p>13024 rows × 3 columns</p>\n",
       "</div>"
      ],
      "text/plain": [
       "       user_id                                          item_list  \\\n",
       "0            1  9404 12032 11500 19323 6874 17209 21926 1671 1...   \n",
       "1            2  10195 19564 21508 21699 6723 11587 18039 5452 ...   \n",
       "2            3  18935 15951 17452 15500 19564 15694 14752 2213...   \n",
       "3            4  21699 16763 7128 12016 8446 13729 15102 6267 1...   \n",
       "4            5  13817 18428 19734 9075 6880 6182 19574 15639 1...   \n",
       "...        ...                                                ...   \n",
       "13019    13020  6840 8913 17033 15926 17717 21699 9440 15500 2...   \n",
       "13020    13021  21699 18039 19654 12016 13600 8266 6267 6339 1...   \n",
       "13021    13022  6922 15926 19654 8913 21699 12016 6840 13600 1...   \n",
       "13022    13023  17311 18935 8266 20402 13607 6022 11920 6339 1...   \n",
       "13023    13024  18039 10297 13600 11212 11500 12016 17209 7735...   \n",
       "\n",
       "                                             item_values  \n",
       "0      [3.4035184978456443, 3.3992541318331613, 3.380...  \n",
       "1      [2.6992100136122787, 2.6568127177111105, 2.627...  \n",
       "2      [2.3274010461053654, 2.291797893511126, 2.2866...  \n",
       "3      [3.2221121802951713, 3.139639053749286, 3.0831...  \n",
       "4      [2.5792848723608217, 2.419613464956564, 2.3935...  \n",
       "...                                                  ...  \n",
       "13019  [3.9487642127083906, 3.9261493931045366, 3.920...  \n",
       "13020  [4.993896243689156, 4.959149720621143, 4.93284...  \n",
       "13021  [2.6683971295666997, 2.652040012851108, 2.6326...  \n",
       "13022  [3.18658799104698, 3.1825936045670082, 3.18235...  \n",
       "13023  [4.809507823075239, 4.708537576551992, 4.62950...  \n",
       "\n",
       "[13024 rows x 3 columns]"
      ]
     },
     "execution_count": 60,
     "metadata": {},
     "output_type": "execute_result"
    }
   ],
   "source": [
    "suggestions_df"
   ]
  }
 ],
 "metadata": {
  "kernelspec": {
   "display_name": "Python 3",
   "language": "python",
   "name": "python3"
  },
  "language_info": {
   "codemirror_mode": {
    "name": "ipython",
    "version": 3
   },
   "file_extension": ".py",
   "mimetype": "text/x-python",
   "name": "python",
   "nbconvert_exporter": "python",
   "pygments_lexer": "ipython3",
   "version": "3.11.7"
  }
 },
 "nbformat": 4,
 "nbformat_minor": 2
}
