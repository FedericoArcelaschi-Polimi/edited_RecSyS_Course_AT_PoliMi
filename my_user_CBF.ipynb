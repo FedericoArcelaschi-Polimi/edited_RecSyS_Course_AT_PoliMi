{
 "cells": [
  {
   "cell_type": "code",
   "execution_count": 1,
   "metadata": {},
   "outputs": [],
   "source": [
    "import numpy as np\n",
    "import matplotlib.pyplot as pyplot\n",
    "import pandas as pd\n",
    "import scipy.sparse as sps\n",
    "%matplotlib inline  \n",
    "%load_ext Cython\n",
    "\n",
    "from Evaluation.Evaluator import EvaluatorHoldout\n",
    "from Data_manager.split_functions.split_train_validation_random_holdout import split_train_in_two_percentage_global_sample\n",
    "from Recommenders.Similarity.Compute_Similarity_Python import Compute_Similarity_Python"
   ]
  },
  {
   "cell_type": "code",
   "execution_count": 2,
   "metadata": {},
   "outputs": [],
   "source": [
    "# data_train_path=\"/kaggle/input/recommender-system-2023-challenge-polimi/data_train.csv\"\n",
    "# data_target_user_path=\"/kaggle/input/recommender-system-2023-challenge-polimi/data_target_users_test.csv\"\n",
    "data_train_path=\"data_train.csv\"\n",
    "data_target_user_path=\"data_target_users_test.csv\"\n",
    "data_train = pd.read_csv(data_train_path)\n",
    "data_target = pd.read_csv(data_target_user_path)"
   ]
  },
  {
   "cell_type": "code",
   "execution_count": 3,
   "metadata": {},
   "outputs": [
    {
     "data": {
      "text/plain": [
       "<13024x22222 sparse matrix of type '<class 'numpy.float64'>'\n",
       "\twith 478730 stored elements in Compressed Sparse Row format>"
      ]
     },
     "execution_count": 3,
     "metadata": {},
     "output_type": "execute_result"
    }
   ],
   "source": [
    "URM_all =  data_train.pivot(index='row', columns='col', values='data').fillna(0)\n",
    "item_map = {i : item for i, item in enumerate(URM_all.columns)}\n",
    "user_map = {i : user for i, user in enumerate(data_target[\"user_id\"])}\n",
    "item_map_inv = {item : i for i, item in item_map.items()}\n",
    "user_map_inv = {user : i for i, user in user_map.items()}\n",
    "missing_index = [x for x in range(1,13025) if x not in URM_all.index.tolist()]\n",
    "add_urm = pd.DataFrame(index = missing_index, columns = URM_all.columns).fillna(0)\n",
    "URM_all = pd.concat([URM_all, add_urm]).sort_index()\n",
    "del add_urm\n",
    "del missing_index\n",
    "#data_target[\"user_id\"] = data_target[\"user_id\"]\n",
    "URM_all = URM_all.to_numpy()\n",
    "urm_sparse = sps.csr_matrix(URM_all)\n",
    "urm_sparse"
   ]
  },
  {
   "cell_type": "code",
   "execution_count": 4,
   "metadata": {},
   "outputs": [
    {
     "name": "stdout",
     "output_type": "stream",
     "text": [
      "Warning: 588 (4.51 %) of 13024 users have no train items\n",
      "Warning: 2568 (19.72 %) of 13024 users have no sampled items\n",
      "Warning: 842 (6.46 %) of 13024 users have no train items\n",
      "Warning: 2958 (22.71 %) of 13024 users have no sampled items\n",
      "EvaluatorHoldout: Ignoring 2958 (22.7%) Users that have less than 1 test interactions\n",
      "EvaluatorHoldout: Ignoring 2568 (19.7%) Users that have less than 1 test interactions\n"
     ]
    }
   ],
   "source": [
    "URM_train, URM_test = split_train_in_two_percentage_global_sample(urm_sparse, train_percentage = 0.80)\n",
    "URM_train, URM_validation = split_train_in_two_percentage_global_sample(URM_train, train_percentage = 0.80)\n",
    "evaluator_validation = EvaluatorHoldout(URM_validation, cutoff_list=[10])\n",
    "evaluator_test = EvaluatorHoldout(URM_test, cutoff_list=[10])"
   ]
  },
  {
   "cell_type": "code",
   "execution_count": 5,
   "metadata": {},
   "outputs": [
    {
     "name": "stdout",
     "output_type": "stream",
     "text": [
      "UserKNNCFRecommender: URM Detected 842 ( 6.5%) users with no interactions.\n",
      "UserKNNCFRecommender: URM Detected 324 ( 1.5%) items with no interactions.\n",
      "Unable to load Cython Compute_Similarity, reverting to Python\n",
      "Similarity column 13024 (100.0%), 2358.17 column/sec. Elapsed time 5.52 sec\n",
      "EvaluatorHoldout: Processed 10066 (100.0%) in 6.44 sec. Users per second: 1564\n",
      "UserKNNCFRecommender: URM Detected 842 ( 6.5%) users with no interactions.\n",
      "UserKNNCFRecommender: URM Detected 324 ( 1.5%) items with no interactions.\n",
      "Unable to load Cython Compute_Similarity, reverting to Python\n",
      "Similarity column 13024 (100.0%), 2360.91 column/sec. Elapsed time 5.52 sec\n",
      "EvaluatorHoldout: Processed 10066 (100.0%) in 6.65 sec. Users per second: 1513\n",
      "UserKNNCFRecommender: URM Detected 842 ( 6.5%) users with no interactions.\n",
      "UserKNNCFRecommender: URM Detected 324 ( 1.5%) items with no interactions.\n",
      "Unable to load Cython Compute_Similarity, reverting to Python\n",
      "Similarity column 13024 (100.0%), 2287.67 column/sec. Elapsed time 5.69 sec\n",
      "EvaluatorHoldout: Processed 10066 (100.0%) in 6.91 sec. Users per second: 1456\n",
      "UserKNNCFRecommender: URM Detected 842 ( 6.5%) users with no interactions.\n",
      "UserKNNCFRecommender: URM Detected 324 ( 1.5%) items with no interactions.\n",
      "Unable to load Cython Compute_Similarity, reverting to Python\n",
      "Similarity column 13024 (100.0%), 1739.07 column/sec. Elapsed time 7.49 sec\n",
      "EvaluatorHoldout: Processed 10066 (100.0%) in 7.62 sec. Users per second: 1321\n",
      "UserKNNCFRecommender: URM Detected 842 ( 6.5%) users with no interactions.\n",
      "UserKNNCFRecommender: URM Detected 324 ( 1.5%) items with no interactions.\n",
      "Unable to load Cython Compute_Similarity, reverting to Python\n",
      "Similarity column 13024 (100.0%), 1662.09 column/sec. Elapsed time 7.84 sec\n",
      "EvaluatorHoldout: Processed 10066 (100.0%) in 8.09 sec. Users per second: 1244\n",
      "UserKNNCFRecommender: URM Detected 842 ( 6.5%) users with no interactions.\n",
      "UserKNNCFRecommender: URM Detected 324 ( 1.5%) items with no interactions.\n",
      "Unable to load Cython Compute_Similarity, reverting to Python\n",
      "Similarity column 13024 (100.0%), 1575.81 column/sec. Elapsed time 8.26 sec\n",
      "EvaluatorHoldout: Processed 10066 (100.0%) in 8.09 sec. Users per second: 1245\n",
      "UserKNNCFRecommender: URM Detected 842 ( 6.5%) users with no interactions.\n",
      "UserKNNCFRecommender: URM Detected 324 ( 1.5%) items with no interactions.\n",
      "Unable to load Cython Compute_Similarity, reverting to Python\n",
      "Similarity column 13024 (100.0%), 1499.60 column/sec. Elapsed time 8.68 sec\n",
      "EvaluatorHoldout: Processed 10066 (100.0%) in 8.26 sec. Users per second: 1219\n",
      "UserKNNCFRecommender: URM Detected 842 ( 6.5%) users with no interactions.\n",
      "UserKNNCFRecommender: URM Detected 324 ( 1.5%) items with no interactions.\n",
      "Unable to load Cython Compute_Similarity, reverting to Python\n",
      "Similarity column 13024 (100.0%), 1266.41 column/sec. Elapsed time 10.28 sec\n",
      "EvaluatorHoldout: Processed 10066 (100.0%) in 9.73 sec. Users per second: 1034\n",
      "UserKNNCFRecommender: URM Detected 842 ( 6.5%) users with no interactions.\n",
      "UserKNNCFRecommender: URM Detected 324 ( 1.5%) items with no interactions.\n",
      "Unable to load Cython Compute_Similarity, reverting to Python\n",
      "Similarity column 13024 (100.0%), 1084.39 column/sec. Elapsed time 12.01 sec\n",
      "EvaluatorHoldout: Processed 10066 (100.0%) in 9.50 sec. Users per second: 1059\n",
      "UserKNNCFRecommender: URM Detected 842 ( 6.5%) users with no interactions.\n",
      "UserKNNCFRecommender: URM Detected 324 ( 1.5%) items with no interactions.\n",
      "Unable to load Cython Compute_Similarity, reverting to Python\n",
      "Similarity column 13024 (100.0%), 1107.93 column/sec. Elapsed time 11.76 sec\n",
      "EvaluatorHoldout: Processed 10066 (100.0%) in 9.27 sec. Users per second: 1086\n",
      "UserKNNCFRecommender: URM Detected 842 ( 6.5%) users with no interactions.\n",
      "UserKNNCFRecommender: URM Detected 324 ( 1.5%) items with no interactions.\n",
      "Unable to load Cython Compute_Similarity, reverting to Python\n",
      "Similarity column 13024 (100.0%), 1109.91 column/sec. Elapsed time 11.73 sec\n",
      "EvaluatorHoldout: Processed 10066 (100.0%) in 9.26 sec. Users per second: 1087\n",
      "UserKNNCFRecommender: URM Detected 842 ( 6.5%) users with no interactions.\n",
      "UserKNNCFRecommender: URM Detected 324 ( 1.5%) items with no interactions.\n",
      "Unable to load Cython Compute_Similarity, reverting to Python\n",
      "Similarity column 13024 (100.0%), 1075.56 column/sec. Elapsed time 12.11 sec\n",
      "EvaluatorHoldout: Processed 10066 (100.0%) in 9.38 sec. Users per second: 1073\n",
      "UserKNNCFRecommender: URM Detected 842 ( 6.5%) users with no interactions.\n",
      "UserKNNCFRecommender: URM Detected 324 ( 1.5%) items with no interactions.\n",
      "Unable to load Cython Compute_Similarity, reverting to Python\n",
      "Similarity column 13024 (100.0%), 1071.90 column/sec. Elapsed time 12.15 sec\n",
      "EvaluatorHoldout: Processed 10066 (100.0%) in 9.46 sec. Users per second: 1065\n",
      "UserKNNCFRecommender: URM Detected 842 ( 6.5%) users with no interactions.\n",
      "UserKNNCFRecommender: URM Detected 324 ( 1.5%) items with no interactions.\n",
      "Unable to load Cython Compute_Similarity, reverting to Python\n",
      "Similarity column 13024 (100.0%), 1071.85 column/sec. Elapsed time 12.15 sec\n",
      "EvaluatorHoldout: Processed 10066 (100.0%) in 9.45 sec. Users per second: 1065\n",
      "UserKNNCFRecommender: URM Detected 842 ( 6.5%) users with no interactions.\n",
      "UserKNNCFRecommender: URM Detected 324 ( 1.5%) items with no interactions.\n",
      "Unable to load Cython Compute_Similarity, reverting to Python\n",
      "Similarity column 13024 (100.0%), 806.31 column/sec. Elapsed time 16.15 sec\n",
      "EvaluatorHoldout: Processed 10066 (100.0%) in 10.59 sec. Users per second: 950\n",
      "UserKNNCFRecommender: URM Detected 842 ( 6.5%) users with no interactions.\n",
      "UserKNNCFRecommender: URM Detected 324 ( 1.5%) items with no interactions.\n",
      "Unable to load Cython Compute_Similarity, reverting to Python\n",
      "Similarity column 13024 (100.0%), 788.87 column/sec. Elapsed time 16.51 sec\n",
      "EvaluatorHoldout: Processed 10066 (100.0%) in 10.83 sec. Users per second: 929\n"
     ]
    }
   ],
   "source": [
    "from Recommenders.KNN.UserKNNCFRecommender import UserKNNCFRecommender\n",
    "import pandas as pd\n",
    "from scipy.stats import loguniform\n",
    "\n",
    "hyperparameter_search_rnd = pd.DataFrame(columns = [\"k\", \"MAP\"])\n",
    "hyperparameter_search_rnd[\"k\"] = loguniform.rvs(200, 500, size=21).astype(int)\n",
    "hyperparameter_search_rnd = hyperparameter_search_rnd.sort_values(by=\"k\")\n",
    "\n",
    "for index in hyperparameter_search_rnd.index:\n",
    "    \n",
    "    recommender = UserKNNCFRecommender(URM_train)\n",
    "    recommender.fit(shrink=0.0, topK=hyperparameter_search_rnd.loc[index,\"k\"])\n",
    "    \n",
    "    result_df, _ = evaluator_validation.evaluateRecommender(recommender)\n",
    "    \n",
    "    hyperparameter_search_rnd.loc[index,\"MAP\"] = result_df.loc[10][\"MAP\"]"
   ]
  },
  {
   "cell_type": "code",
   "execution_count": 6,
   "metadata": {},
   "outputs": [
    {
     "data": {
      "image/png": "[encoded data removed]",
      "text/plain": [
       "<Figure size 640x480 with 1 Axes>"
      ]
     },
     "metadata": {},
     "output_type": "display_data"
    }
   ],
   "source": [
    "pyplot.plot(hyperparameter_search_rnd[\"k\"].values, hyperparameter_search_rnd[\"MAP\"].values)\n",
    "pyplot.ylabel('MAP')\n",
    "pyplot.xlabel('TopK')\n",
    "pyplot.show()"
   ]
  },
  {
   "cell_type": "code",
   "execution_count": 7,
   "metadata": {},
   "outputs": [
    {
     "data": {
      "text/plain": [
       "k          483\n",
       "MAP    0.02315\n",
       "Name: 8, dtype: object"
      ]
     },
     "execution_count": 7,
     "metadata": {},
     "output_type": "execute_result"
    }
   ],
   "source": [
    "best_k_value = hyperparameter_search_rnd.loc[hyperparameter_search_rnd[\"MAP\"].astype(float).idxmax()]\n",
    "best_k_value"
   ]
  },
  {
   "cell_type": "code",
   "execution_count": 8,
   "metadata": {},
   "outputs": [
    {
     "name": "stdout",
     "output_type": "stream",
     "text": [
      "UserKNNCFRecommender: URM Detected 842 ( 6.5%) users with no interactions.\n",
      "UserKNNCFRecommender: URM Detected 324 ( 1.5%) items with no interactions.\n",
      "Unable to load Cython Compute_Similarity, reverting to Python\n"
     ]
    },
    {
     "name": "stdout",
     "output_type": "stream",
     "text": [
      "Similarity column 13024 (100.0%), 1322.13 column/sec. Elapsed time 9.85 sec\n",
      "EvaluatorHoldout: Processed 10066 (100.0%) in 8.87 sec. Users per second: 1135\n",
      "UserKNNCFRecommender: URM Detected 842 ( 6.5%) users with no interactions.\n",
      "UserKNNCFRecommender: URM Detected 324 ( 1.5%) items with no interactions.\n",
      "Unable to load Cython Compute_Similarity, reverting to Python\n",
      "Similarity column 13024 (100.0%), 1257.93 column/sec. Elapsed time 10.35 sec\n",
      "EvaluatorHoldout: Processed 10066 (100.0%) in 9.27 sec. Users per second: 1085\n",
      "UserKNNCFRecommender: URM Detected 842 ( 6.5%) users with no interactions.\n",
      "UserKNNCFRecommender: URM Detected 324 ( 1.5%) items with no interactions.\n",
      "Unable to load Cython Compute_Similarity, reverting to Python\n",
      "Similarity column 13024 (100.0%), 1244.32 column/sec. Elapsed time 10.47 sec\n",
      "EvaluatorHoldout: Processed 10066 (100.0%) in 8.96 sec. Users per second: 1123\n",
      "UserKNNCFRecommender: URM Detected 842 ( 6.5%) users with no interactions.\n",
      "UserKNNCFRecommender: URM Detected 324 ( 1.5%) items with no interactions.\n",
      "Unable to load Cython Compute_Similarity, reverting to Python\n",
      "Similarity column 13024 (100.0%), 1351.93 column/sec. Elapsed time 9.63 sec\n",
      "EvaluatorHoldout: Processed 10066 (100.0%) in 8.66 sec. Users per second: 1163\n",
      "UserKNNCFRecommender: URM Detected 842 ( 6.5%) users with no interactions.\n",
      "UserKNNCFRecommender: URM Detected 324 ( 1.5%) items with no interactions.\n",
      "Unable to load Cython Compute_Similarity, reverting to Python\n",
      "Similarity column 13024 (100.0%), 1285.73 column/sec. Elapsed time 10.13 sec\n",
      "EvaluatorHoldout: Processed 10066 (100.0%) in 9.22 sec. Users per second: 1092\n",
      "UserKNNCFRecommender: URM Detected 842 ( 6.5%) users with no interactions.\n",
      "UserKNNCFRecommender: URM Detected 324 ( 1.5%) items with no interactions.\n",
      "Unable to load Cython Compute_Similarity, reverting to Python\n",
      "Similarity column 13024 (100.0%), 1319.38 column/sec. Elapsed time 9.87 sec\n",
      "EvaluatorHoldout: Processed 10066 (100.0%) in 8.87 sec. Users per second: 1135\n",
      "UserKNNCFRecommender: URM Detected 842 ( 6.5%) users with no interactions.\n",
      "UserKNNCFRecommender: URM Detected 324 ( 1.5%) items with no interactions.\n",
      "Unable to load Cython Compute_Similarity, reverting to Python\n",
      "Similarity column 13024 (100.0%), 1263.41 column/sec. Elapsed time 10.31 sec\n",
      "EvaluatorHoldout: Processed 10066 (100.0%) in 8.96 sec. Users per second: 1123\n",
      "UserKNNCFRecommender: URM Detected 842 ( 6.5%) users with no interactions.\n",
      "UserKNNCFRecommender: URM Detected 324 ( 1.5%) items with no interactions.\n",
      "Unable to load Cython Compute_Similarity, reverting to Python\n",
      "Similarity column 13024 (100.0%), 1321.69 column/sec. Elapsed time 9.85 sec\n",
      "EvaluatorHoldout: Processed 10066 (100.0%) in 8.75 sec. Users per second: 1150\n",
      "UserKNNCFRecommender: URM Detected 842 ( 6.5%) users with no interactions.\n",
      "UserKNNCFRecommender: URM Detected 324 ( 1.5%) items with no interactions.\n",
      "Unable to load Cython Compute_Similarity, reverting to Python\n",
      "Similarity column 13024 (100.0%), 1322.76 column/sec. Elapsed time 9.85 sec\n",
      "EvaluatorHoldout: Processed 10066 (100.0%) in 8.61 sec. Users per second: 1169\n",
      "UserKNNCFRecommender: URM Detected 842 ( 6.5%) users with no interactions.\n",
      "UserKNNCFRecommender: URM Detected 324 ( 1.5%) items with no interactions.\n",
      "Unable to load Cython Compute_Similarity, reverting to Python\n",
      "Similarity column 13024 (100.0%), 1326.66 column/sec. Elapsed time 9.82 sec\n",
      "EvaluatorHoldout: Processed 10066 (100.0%) in 8.59 sec. Users per second: 1171\n",
      "UserKNNCFRecommender: URM Detected 842 ( 6.5%) users with no interactions.\n",
      "UserKNNCFRecommender: URM Detected 324 ( 1.5%) items with no interactions.\n",
      "Unable to load Cython Compute_Similarity, reverting to Python\n",
      "Similarity column 13024 (100.0%), 1354.40 column/sec. Elapsed time 9.62 sec\n",
      "EvaluatorHoldout: Processed 10066 (100.0%) in 8.46 sec. Users per second: 1190\n"
     ]
    }
   ],
   "source": [
    "hyperparameter_search_rnd = pd.DataFrame(columns = [\"k\", \"shrink\", \"MAP\"])\n",
    "hyperparameter_search_rnd[\"shrink\"] = loguniform.rvs(0.1, 100, size=11).astype(int)\n",
    "hyperparameter_search_rnd = hyperparameter_search_rnd.sort_values(by=\"shrink\")\n",
    "hyperparameter_search_rnd[\"k\"] = best_k_value[\"k\"]\n",
    "\n",
    "for index in hyperparameter_search_rnd.index:\n",
    "    \n",
    "    recommender = UserKNNCFRecommender(URM_train)\n",
    "    recommender.fit(shrink=hyperparameter_search_rnd.loc[index,\"shrink\"], \n",
    "                    topK=hyperparameter_search_rnd.loc[index,\"k\"])\n",
    "    \n",
    "    result_df, _ = evaluator_validation.evaluateRecommender(recommender)\n",
    "    \n",
    "    hyperparameter_search_rnd.loc[index, \"MAP\"] = result_df.loc[10][\"MAP\"]"
   ]
  },
  {
   "cell_type": "code",
   "execution_count": 9,
   "metadata": {},
   "outputs": [
    {
     "data": {
      "image/png": "[encoded data removed]",
      "text/plain": [
       "<Figure size 640x480 with 1 Axes>"
      ]
     },
     "metadata": {},
     "output_type": "display_data"
    }
   ],
   "source": [
    "pyplot.plot(hyperparameter_search_rnd[\"shrink\"].values, hyperparameter_search_rnd[\"MAP\"].values)\n",
    "pyplot.ylabel('MAP')\n",
    "pyplot.xlabel('Shrinkage')\n",
    "pyplot.show()"
   ]
  },
  {
   "cell_type": "code",
   "execution_count": 29,
   "metadata": {},
   "outputs": [
    {
     "data": {
      "text/plain": [
       "k             483\n",
       "shrink          0\n",
       "MAP       0.02315\n",
       "Name: 5, dtype: object"
      ]
     },
     "execution_count": 29,
     "metadata": {},
     "output_type": "execute_result"
    }
   ],
   "source": [
    "best_parameters_value = hyperparameter_search_rnd.loc[hyperparameter_search_rnd[\"MAP\"].astype(float).idxmax()]\n",
    "best_parameters_value"
   ]
  },
  {
   "cell_type": "code",
   "execution_count": 27,
   "metadata": {},
   "outputs": [
    {
     "name": "stdout",
     "output_type": "stream",
     "text": [
      "UserKNNCFRecommender: URM Detected 386 ( 3.0%) users with no interactions.\n",
      "Unable to load Cython Compute_Similarity, reverting to Python\n",
      "Similarity column 13024 (100.0%), 1130.60 column/sec. Elapsed time 11.52 sec\n",
      "[[     -inf      -inf      -inf ... 3.5094543 3.6673088 4.180811 ]]\n",
      "Reasonable implementation speed is 458.80 usr/sec\n"
     ]
    }
   ],
   "source": [
    "\n",
    "\n",
    "import time\n",
    "recommender = UserKNNCFRecommender(urm_sparse)\n",
    "recommender.fit(shrink=best_parameters_value[\"shrink\"], topK=best_parameters_value[\"k\"])\n",
    "n_users_to_test = len(data_target[\"user_id\"])\n",
    "suggestions = pd.DataFrame(columns = [\"user_id\", \"item_list\", \"item_scores\"])\n",
    "start_time = time.time()\n",
    "\n",
    "for user_id in (data_target[\"user_id\"]-1):\n",
    "    suggestion, suggestion_values = recommender.recommend(user_id, cutoff=10, return_scores=True)\n",
    "    suggestions.loc[len(suggestions)] = [user_id+1, \" \".join([str(item_map[x]) for x in suggestion]), \" \".join([str(x) for x in np.flip(np.sort(suggestion_values))[0][:10]])]\n",
    "print(np.sort(suggestion_values)[::-1]) \n",
    "end_time = time.time()\n",
    "\n",
    "print(\"Reasonable implementation speed is {:.2f} usr/sec\".format(n_users_to_test/(end_time-start_time)))"
   ]
  },
  {
   "cell_type": "code",
   "execution_count": 28,
   "metadata": {},
   "outputs": [
    {
     "data": {
      "text/html": [
       "<div>\n",
       "<style scoped>\n",
       "    .dataframe tbody tr th:only-of-type {\n",
       "        vertical-align: middle;\n",
       "    }\n",
       "\n",
       "    .dataframe tbody tr th {\n",
       "        vertical-align: top;\n",
       "    }\n",
       "\n",
       "    .dataframe thead th {\n",
       "        text-align: right;\n",
       "    }\n",
       "</style>\n",
       "<table border=\"1\" class=\"dataframe\">\n",
       "  <thead>\n",
       "    <tr style=\"text-align: right;\">\n",
       "      <th></th>\n",
       "      <th>user_id</th>\n",
       "      <th>item_list</th>\n",
       "      <th>item_values</th>\n",
       "    </tr>\n",
       "  </thead>\n",
       "  <tbody>\n",
       "    <tr>\n",
       "      <th>0</th>\n",
       "      <td>1</td>\n",
       "      <td>101 36 403 506 515 977 1546 869 3 29</td>\n",
       "      <td>4.824763 4.654411 2.349728 2.2210774 1.979832 ...</td>\n",
       "    </tr>\n",
       "    <tr>\n",
       "      <th>1</th>\n",
       "      <td>2</td>\n",
       "      <td>2 5 3 6 47 28 4 8 50 11</td>\n",
       "      <td>8.395588 8.202101 7.026572 6.9536204 6.8721404...</td>\n",
       "    </tr>\n",
       "    <tr>\n",
       "      <th>2</th>\n",
       "      <td>3</td>\n",
       "      <td>59 259 584 536 5 9 648 956 2 7</td>\n",
       "      <td>4.8280478 2.7180092 2.3532782 2.2246647 2.1673...</td>\n",
       "    </tr>\n",
       "    <tr>\n",
       "      <th>3</th>\n",
       "      <td>4</td>\n",
       "      <td>28 50 1 2 5 6 3 145 4 9</td>\n",
       "      <td>18.848686 14.856761 11.68789 10.570448 10.3960...</td>\n",
       "    </tr>\n",
       "    <tr>\n",
       "      <th>4</th>\n",
       "      <td>5</td>\n",
       "      <td>4 51 131 6 135 44 77 26 8 25</td>\n",
       "      <td>1.6506774 1.5346771 1.4078486 1.2826381 1.2334...</td>\n",
       "    </tr>\n",
       "    <tr>\n",
       "      <th>...</th>\n",
       "      <td>...</td>\n",
       "      <td>...</td>\n",
       "      <td>...</td>\n",
       "    </tr>\n",
       "    <tr>\n",
       "      <th>10877</th>\n",
       "      <td>13020</td>\n",
       "      <td>506 161 34 337 6450 403 105 51 59 159</td>\n",
       "      <td>2.7719536 2.5250084 2.4659104 2.1328647 2.0162...</td>\n",
       "    </tr>\n",
       "    <tr>\n",
       "      <th>10878</th>\n",
       "      <td>13021</td>\n",
       "      <td>133 139 1 254 8 36 3 2 593 32</td>\n",
       "      <td>7.8508945 5.044798 4.5949783 4.5900035 4.45261...</td>\n",
       "    </tr>\n",
       "    <tr>\n",
       "      <th>10879</th>\n",
       "      <td>13022</td>\n",
       "      <td>1411 1668 809 1446 1674 3 34 77 53 66</td>\n",
       "      <td>2.8705804 2.545662 2.38413 2.3226738 2.2530046...</td>\n",
       "    </tr>\n",
       "    <tr>\n",
       "      <th>10880</th>\n",
       "      <td>13023</td>\n",
       "      <td>129 32 3 242 82 89 2 308 7 313</td>\n",
       "      <td>7.0301743 6.1074133 5.426261 4.9310184 4.92618...</td>\n",
       "    </tr>\n",
       "    <tr>\n",
       "      <th>10881</th>\n",
       "      <td>13024</td>\n",
       "      <td>733 139 325 2 292 329 171 1776 347 3</td>\n",
       "      <td>4.180811 3.6673088 3.5094543 3.4565892 3.40910...</td>\n",
       "    </tr>\n",
       "  </tbody>\n",
       "</table>\n",
       "<p>10882 rows × 3 columns</p>\n",
       "</div>"
      ],
      "text/plain": [
       "       user_id                              item_list  \\\n",
       "0            1   101 36 403 506 515 977 1546 869 3 29   \n",
       "1            2                2 5 3 6 47 28 4 8 50 11   \n",
       "2            3         59 259 584 536 5 9 648 956 2 7   \n",
       "3            4                28 50 1 2 5 6 3 145 4 9   \n",
       "4            5           4 51 131 6 135 44 77 26 8 25   \n",
       "...        ...                                    ...   \n",
       "10877    13020  506 161 34 337 6450 403 105 51 59 159   \n",
       "10878    13021          133 139 1 254 8 36 3 2 593 32   \n",
       "10879    13022  1411 1668 809 1446 1674 3 34 77 53 66   \n",
       "10880    13023         129 32 3 242 82 89 2 308 7 313   \n",
       "10881    13024   733 139 325 2 292 329 171 1776 347 3   \n",
       "\n",
       "                                             item_values  \n",
       "0      4.824763 4.654411 2.349728 2.2210774 1.979832 ...  \n",
       "1      8.395588 8.202101 7.026572 6.9536204 6.8721404...  \n",
       "2      4.8280478 2.7180092 2.3532782 2.2246647 2.1673...  \n",
       "3      18.848686 14.856761 11.68789 10.570448 10.3960...  \n",
       "4      1.6506774 1.5346771 1.4078486 1.2826381 1.2334...  \n",
       "...                                                  ...  \n",
       "10877  2.7719536 2.5250084 2.4659104 2.1328647 2.0162...  \n",
       "10878  7.8508945 5.044798 4.5949783 4.5900035 4.45261...  \n",
       "10879  2.8705804 2.545662 2.38413 2.3226738 2.2530046...  \n",
       "10880  7.0301743 6.1074133 5.426261 4.9310184 4.92618...  \n",
       "10881  4.180811 3.6673088 3.5094543 3.4565892 3.40910...  \n",
       "\n",
       "[10882 rows x 3 columns]"
      ]
     },
     "execution_count": 28,
     "metadata": {},
     "output_type": "execute_result"
    }
   ],
   "source": [
    "suggestions"
   ]
  }
 ],
 "metadata": {
  "kernelspec": {
   "display_name": "Python 3",
   "language": "python",
   "name": "python3"
  },
  "language_info": {
   "codemirror_mode": {
    "name": "ipython",
    "version": 3
   },
   "file_extension": ".py",
   "mimetype": "text/x-python",
   "name": "python",
   "nbconvert_exporter": "python",
   "pygments_lexer": "ipython3",
   "version": "3.11.7"
  }
 },
 "nbformat": 4,
 "nbformat_minor": 2
}
