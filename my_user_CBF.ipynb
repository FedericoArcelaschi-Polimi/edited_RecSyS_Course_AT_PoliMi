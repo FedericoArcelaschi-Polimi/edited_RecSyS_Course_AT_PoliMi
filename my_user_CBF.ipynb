{
 "cells": [
  {
   "cell_type": "code",
   "execution_count": 1,
   "metadata": {},
   "outputs": [],
   "source": [
    "import numpy as np\n",
    "import matplotlib.pyplot as pyplot\n",
    "import pandas as pd\n",
    "import scipy.sparse as sps\n",
    "%matplotlib inline  \n",
    "%load_ext Cython\n",
    "\n",
    "from Evaluation.Evaluator import EvaluatorHoldout\n",
    "from Data_manager.split_functions.split_train_validation_random_holdout import split_train_in_two_percentage_global_sample\n",
    "from Recommenders.Similarity.Compute_Similarity_Python import Compute_Similarity_Python"
   ]
  },
  {
   "cell_type": "code",
   "execution_count": 2,
   "metadata": {},
   "outputs": [],
   "source": [
    "# data_train_path=\"/kaggle/input/recommender-system-2023-challenge-polimi/data_train.csv\"\n",
    "# data_target_user_path=\"/kaggle/input/recommender-system-2023-challenge-polimi/data_target_users_test.csv\"\n",
    "data_train_path=\"data_train.csv\"\n",
    "data_target_user_path=\"data_target_users_test.csv\"\n",
    "data_train = pd.read_csv(data_train_path)\n",
    "data_target = pd.read_csv(data_target_user_path)"
   ]
  },
  {
   "cell_type": "code",
   "execution_count": 3,
   "metadata": {},
   "outputs": [
    {
     "data": {
      "text/plain": [
       "<13024x22222 sparse matrix of type '<class 'numpy.float64'>'\n",
       "\twith 478730 stored elements in Compressed Sparse Row format>"
      ]
     },
     "execution_count": 3,
     "metadata": {},
     "output_type": "execute_result"
    }
   ],
   "source": [
    "URM_all =  data_train.pivot(index='row', columns='col', values='data').fillna(0)\n",
    "item_map = {i : item for i, item in enumerate(URM_all.columns)}\n",
    "user_map = {i : user for i, user in enumerate(data_target[\"user_id\"])}\n",
    "item_map_inv = {item : i for i, item in item_map.items()}\n",
    "user_map_inv = {user : i for i, user in user_map.items()}\n",
    "missing_index = [x for x in range(1,13025) if x not in URM_all.index.tolist()]\n",
    "add_urm = pd.DataFrame(index = missing_index, columns = URM_all.columns).fillna(0)\n",
    "URM_all = pd.concat([URM_all, add_urm]).sort_index()\n",
    "del add_urm\n",
    "del missing_index\n",
    "#data_target[\"user_id\"] = data_target[\"user_id\"]\n",
    "URM_all = URM_all.to_numpy()\n",
    "urm_sparse = sps.csr_matrix(URM_all)\n",
    "urm_sparse"
   ]
  },
  {
   "cell_type": "code",
   "execution_count": 4,
   "metadata": {},
   "outputs": [
    {
     "name": "stdout",
     "output_type": "stream",
     "text": [
      "Warning: 605 (4.65 %) of 13024 users have no train items\n",
      "Warning: 2560 (19.66 %) of 13024 users have no sampled items\n",
      "Warning: 873 (6.70 %) of 13024 users have no train items\n",
      "Warning: 2938 (22.56 %) of 13024 users have no sampled items\n",
      "EvaluatorHoldout: Ignoring 2938 (22.6%) Users that have less than 1 test interactions\n",
      "EvaluatorHoldout: Ignoring 2560 (19.7%) Users that have less than 1 test interactions\n"
     ]
    }
   ],
   "source": [
    "URM_train, URM_test = split_train_in_two_percentage_global_sample(urm_sparse, train_percentage = 0.80)\n",
    "URM_train, URM_validation = split_train_in_two_percentage_global_sample(URM_train, train_percentage = 0.80)\n",
    "evaluator_validation = EvaluatorHoldout(URM_validation, cutoff_list=[10])\n",
    "evaluator_test = EvaluatorHoldout(URM_test, cutoff_list=[10])"
   ]
  },
  {
   "cell_type": "code",
   "execution_count": 6,
   "metadata": {},
   "outputs": [
    {
     "name": "stdout",
     "output_type": "stream",
     "text": [
      "UserKNNCFRecommender: URM Detected 873 ( 6.7%) users with no interactions.\n",
      "UserKNNCFRecommender: URM Detected 342 ( 1.5%) items with no interactions.\n",
      "Unable to load Cython Compute_Similarity, reverting to Python\n",
      "Similarity column 13024 (100.0%), 2584.12 column/sec. Elapsed time 5.04 sec\n",
      "EvaluatorHoldout: Processed 10086 (100.0%) in 6.47 sec. Users per second: 1560\n",
      "UserKNNCFRecommender: URM Detected 873 ( 6.7%) users with no interactions.\n",
      "UserKNNCFRecommender: URM Detected 342 ( 1.5%) items with no interactions.\n",
      "Unable to load Cython Compute_Similarity, reverting to Python\n",
      "Similarity column 13024 (100.0%), 2541.89 column/sec. Elapsed time 5.12 sec\n",
      "EvaluatorHoldout: Processed 10086 (100.0%) in 6.36 sec. Users per second: 1585\n",
      "UserKNNCFRecommender: URM Detected 873 ( 6.7%) users with no interactions.\n",
      "UserKNNCFRecommender: URM Detected 342 ( 1.5%) items with no interactions.\n",
      "Unable to load Cython Compute_Similarity, reverting to Python\n",
      "Similarity column 13024 (100.0%), 2134.46 column/sec. Elapsed time 6.10 sec\n",
      "EvaluatorHoldout: Processed 10086 (100.0%) in 6.76 sec. Users per second: 1492\n",
      "UserKNNCFRecommender: URM Detected 873 ( 6.7%) users with no interactions.\n",
      "UserKNNCFRecommender: URM Detected 342 ( 1.5%) items with no interactions.\n",
      "Unable to load Cython Compute_Similarity, reverting to Python\n",
      "Similarity column 13024 (100.0%), 2094.59 column/sec. Elapsed time 6.22 sec\n",
      "EvaluatorHoldout: Processed 10086 (100.0%) in 6.76 sec. Users per second: 1493\n",
      "UserKNNCFRecommender: URM Detected 873 ( 6.7%) users with no interactions.\n",
      "UserKNNCFRecommender: URM Detected 342 ( 1.5%) items with no interactions.\n",
      "Unable to load Cython Compute_Similarity, reverting to Python\n",
      "Similarity column 13024 (100.0%), 2300.77 column/sec. Elapsed time 5.66 sec\n",
      "EvaluatorHoldout: Processed 10086 (100.0%) in 6.54 sec. Users per second: 1541\n",
      "UserKNNCFRecommender: URM Detected 873 ( 6.7%) users with no interactions.\n",
      "UserKNNCFRecommender: URM Detected 342 ( 1.5%) items with no interactions.\n",
      "Unable to load Cython Compute_Similarity, reverting to Python\n",
      "Similarity column 13024 (100.0%), 2262.79 column/sec. Elapsed time 5.76 sec\n",
      "EvaluatorHoldout: Processed 10086 (100.0%) in 6.74 sec. Users per second: 1495\n",
      "UserKNNCFRecommender: URM Detected 873 ( 6.7%) users with no interactions.\n",
      "UserKNNCFRecommender: URM Detected 342 ( 1.5%) items with no interactions.\n",
      "Unable to load Cython Compute_Similarity, reverting to Python\n",
      "Similarity column 13024 (100.0%), 2337.89 column/sec. Elapsed time 5.57 sec\n",
      "EvaluatorHoldout: Processed 10086 (100.0%) in 6.79 sec. Users per second: 1486\n",
      "UserKNNCFRecommender: URM Detected 873 ( 6.7%) users with no interactions.\n",
      "UserKNNCFRecommender: URM Detected 342 ( 1.5%) items with no interactions.\n",
      "Unable to load Cython Compute_Similarity, reverting to Python\n",
      "Similarity column 13024 (100.0%), 2065.86 column/sec. Elapsed time 6.30 sec\n",
      "EvaluatorHoldout: Processed 10086 (100.0%) in 7.17 sec. Users per second: 1407\n",
      "UserKNNCFRecommender: URM Detected 873 ( 6.7%) users with no interactions.\n",
      "UserKNNCFRecommender: URM Detected 342 ( 1.5%) items with no interactions.\n",
      "Unable to load Cython Compute_Similarity, reverting to Python\n",
      "Similarity column 13024 (100.0%), 1782.61 column/sec. Elapsed time 7.31 sec\n",
      "EvaluatorHoldout: Processed 10086 (100.0%) in 7.66 sec. Users per second: 1316\n",
      "UserKNNCFRecommender: URM Detected 873 ( 6.7%) users with no interactions.\n",
      "UserKNNCFRecommender: URM Detected 342 ( 1.5%) items with no interactions.\n",
      "Unable to load Cython Compute_Similarity, reverting to Python\n",
      "Similarity column 13024 (100.0%), 1248.32 column/sec. Elapsed time 10.43 sec\n",
      "EvaluatorHoldout: Processed 10086 (100.0%) in 9.09 sec. Users per second: 1109\n",
      "UserKNNCFRecommender: URM Detected 873 ( 6.7%) users with no interactions.\n",
      "UserKNNCFRecommender: URM Detected 342 ( 1.5%) items with no interactions.\n",
      "Unable to load Cython Compute_Similarity, reverting to Python\n",
      "Similarity column 13024 (100.0%), 1082.40 column/sec. Elapsed time 12.03 sec\n",
      "EvaluatorHoldout: Processed 10086 (100.0%) in 9.61 sec. Users per second: 1049\n"
     ]
    }
   ],
   "source": [
    "from Recommenders.KNN.UserKNNCFRecommender import UserKNNCFRecommender\n",
    "import pandas as pd\n",
    "from scipy.stats import loguniform\n",
    "\n",
    "hyperparameter_search_rnd = pd.DataFrame(columns = [\"k\", \"MAP\"])\n",
    "hyperparameter_search_rnd[\"k\"] = loguniform.rvs(10, 1000, size=11).astype(int)\n",
    "hyperparameter_search_rnd = hyperparameter_search_rnd.sort_values(by=\"k\")\n",
    "\n",
    "for index in hyperparameter_search_rnd.index:\n",
    "    \n",
    "    recommender = UserKNNCFRecommender(URM_train)\n",
    "    recommender.fit(shrink=0.0, topK=hyperparameter_search_rnd.loc[index,\"k\"])\n",
    "    \n",
    "    result_df, _ = evaluator_validation.evaluateRecommender(recommender)\n",
    "    \n",
    "    hyperparameter_search_rnd.loc[index,\"MAP\"] = result_df.loc[10][\"MAP\"]"
   ]
  },
  {
   "cell_type": "code",
   "execution_count": 7,
   "metadata": {},
   "outputs": [
    {
     "data": {
      "image/png": "[encoded data removed]",
      "text/plain": [
       "<Figure size 640x480 with 1 Axes>"
      ]
     },
     "metadata": {},
     "output_type": "display_data"
    }
   ],
   "source": [
    "pyplot.plot(hyperparameter_search_rnd[\"k\"].values, hyperparameter_search_rnd[\"MAP\"].values)\n",
    "pyplot.ylabel('MAP')\n",
    "pyplot.xlabel('TopK')\n",
    "pyplot.show()"
   ]
  },
  {
   "cell_type": "code",
   "execution_count": 8,
   "metadata": {},
   "outputs": [
    {
     "data": {
      "text/plain": [
       "k           533\n",
       "MAP    0.023281\n",
       "Name: 1, dtype: object"
      ]
     },
     "execution_count": 8,
     "metadata": {},
     "output_type": "execute_result"
    }
   ],
   "source": [
    "best_k_value = hyperparameter_search_rnd.loc[hyperparameter_search_rnd[\"MAP\"].astype(float).idxmax()]\n",
    "best_k_value"
   ]
  },
  {
   "cell_type": "code",
   "execution_count": 9,
   "metadata": {},
   "outputs": [
    {
     "name": "stdout",
     "output_type": "stream",
     "text": [
      "UserKNNCFRecommender: URM Detected 873 ( 6.7%) users with no interactions.\n",
      "UserKNNCFRecommender: URM Detected 342 ( 1.5%) items with no interactions.\n",
      "Unable to load Cython Compute_Similarity, reverting to Python\n",
      "Similarity column 13024 (100.0%), 1232.50 column/sec. Elapsed time 10.57 sec\n",
      "EvaluatorHoldout: Processed 10086 (100.0%) in 8.95 sec. Users per second: 1127\n",
      "UserKNNCFRecommender: URM Detected 873 ( 6.7%) users with no interactions.\n",
      "UserKNNCFRecommender: URM Detected 342 ( 1.5%) items with no interactions.\n",
      "Unable to load Cython Compute_Similarity, reverting to Python\n",
      "Similarity column 13024 (100.0%), 1254.29 column/sec. Elapsed time 10.38 sec\n",
      "EvaluatorHoldout: Processed 10086 (100.0%) in 9.05 sec. Users per second: 1115\n",
      "UserKNNCFRecommender: URM Detected 873 ( 6.7%) users with no interactions.\n",
      "UserKNNCFRecommender: URM Detected 342 ( 1.5%) items with no interactions.\n",
      "Unable to load Cython Compute_Similarity, reverting to Python\n",
      "Similarity column 13024 (100.0%), 1238.09 column/sec. Elapsed time 10.52 sec\n",
      "EvaluatorHoldout: Processed 10086 (100.0%) in 9.11 sec. Users per second: 1107\n",
      "UserKNNCFRecommender: URM Detected 873 ( 6.7%) users with no interactions.\n",
      "UserKNNCFRecommender: URM Detected 342 ( 1.5%) items with no interactions.\n",
      "Unable to load Cython Compute_Similarity, reverting to Python\n",
      "Similarity column 13024 (100.0%), 1231.64 column/sec. Elapsed time 10.57 sec\n",
      "EvaluatorHoldout: Processed 10086 (100.0%) in 9.09 sec. Users per second: 1109\n",
      "UserKNNCFRecommender: URM Detected 873 ( 6.7%) users with no interactions.\n",
      "UserKNNCFRecommender: URM Detected 342 ( 1.5%) items with no interactions.\n",
      "Unable to load Cython Compute_Similarity, reverting to Python\n",
      "Similarity column 13024 (100.0%), 1260.75 column/sec. Elapsed time 10.33 sec\n",
      "EvaluatorHoldout: Processed 10086 (100.0%) in 8.93 sec. Users per second: 1130\n",
      "UserKNNCFRecommender: URM Detected 873 ( 6.7%) users with no interactions.\n",
      "UserKNNCFRecommender: URM Detected 342 ( 1.5%) items with no interactions.\n",
      "Unable to load Cython Compute_Similarity, reverting to Python\n",
      "Similarity column 13024 (100.0%), 1273.64 column/sec. Elapsed time 10.23 sec\n",
      "EvaluatorHoldout: Processed 10086 (100.0%) in 8.98 sec. Users per second: 1123\n",
      "UserKNNCFRecommender: URM Detected 873 ( 6.7%) users with no interactions.\n",
      "UserKNNCFRecommender: URM Detected 342 ( 1.5%) items with no interactions.\n",
      "Unable to load Cython Compute_Similarity, reverting to Python\n",
      "Similarity column 13024 (100.0%), 1265.22 column/sec. Elapsed time 10.29 sec\n",
      "EvaluatorHoldout: Processed 10086 (100.0%) in 8.92 sec. Users per second: 1131\n",
      "UserKNNCFRecommender: URM Detected 873 ( 6.7%) users with no interactions.\n",
      "UserKNNCFRecommender: URM Detected 342 ( 1.5%) items with no interactions.\n",
      "Unable to load Cython Compute_Similarity, reverting to Python\n",
      "Similarity column 13024 (100.0%), 1271.09 column/sec. Elapsed time 10.25 sec\n",
      "EvaluatorHoldout: Processed 10086 (100.0%) in 8.91 sec. Users per second: 1133\n",
      "UserKNNCFRecommender: URM Detected 873 ( 6.7%) users with no interactions.\n",
      "UserKNNCFRecommender: URM Detected 342 ( 1.5%) items with no interactions.\n",
      "Unable to load Cython Compute_Similarity, reverting to Python\n",
      "Similarity column 13024 (100.0%), 1260.29 column/sec. Elapsed time 10.33 sec\n",
      "EvaluatorHoldout: Processed 10086 (100.0%) in 8.81 sec. Users per second: 1144\n",
      "UserKNNCFRecommender: URM Detected 873 ( 6.7%) users with no interactions.\n",
      "UserKNNCFRecommender: URM Detected 342 ( 1.5%) items with no interactions.\n",
      "Unable to load Cython Compute_Similarity, reverting to Python\n",
      "Similarity column 13024 (100.0%), 1268.25 column/sec. Elapsed time 10.27 sec\n",
      "EvaluatorHoldout: Processed 10086 (100.0%) in 8.87 sec. Users per second: 1137\n",
      "UserKNNCFRecommender: URM Detected 873 ( 6.7%) users with no interactions.\n",
      "UserKNNCFRecommender: URM Detected 342 ( 1.5%) items with no interactions.\n",
      "Unable to load Cython Compute_Similarity, reverting to Python\n",
      "Similarity column 13024 (100.0%), 1261.33 column/sec. Elapsed time 10.33 sec\n",
      "EvaluatorHoldout: Processed 10086 (100.0%) in 8.86 sec. Users per second: 1138\n"
     ]
    }
   ],
   "source": [
    "hyperparameter_search_rnd = pd.DataFrame(columns = [\"k\", \"shrink\", \"MAP\"])\n",
    "hyperparameter_search_rnd[\"shrink\"] = loguniform.rvs(0.1, 1000, size=11).astype(int)\n",
    "hyperparameter_search_rnd = hyperparameter_search_rnd.sort_values(by=\"shrink\")\n",
    "hyperparameter_search_rnd[\"k\"] = best_k_value[\"k\"]\n",
    "\n",
    "for index in hyperparameter_search_rnd.index:\n",
    "    \n",
    "    recommender = UserKNNCFRecommender(URM_train)\n",
    "    recommender.fit(shrink=hyperparameter_search_rnd.loc[index,\"shrink\"], \n",
    "                    topK=hyperparameter_search_rnd.loc[index,\"k\"])\n",
    "    \n",
    "    result_df, _ = evaluator_validation.evaluateRecommender(recommender)\n",
    "    \n",
    "    hyperparameter_search_rnd.loc[index, \"MAP\"] = result_df.loc[10][\"MAP\"]"
   ]
  },
  {
   "cell_type": "code",
   "execution_count": 10,
   "metadata": {},
   "outputs": [
    {
     "data": {
      "image/png": "[encoded data removed]",
      "text/plain": [
       "<Figure size 640x480 with 1 Axes>"
      ]
     },
     "metadata": {},
     "output_type": "display_data"
    }
   ],
   "source": [
    "pyplot.plot(hyperparameter_search_rnd[\"shrink\"].values, hyperparameter_search_rnd[\"MAP\"].values)\n",
    "pyplot.ylabel('MAP')\n",
    "pyplot.xlabel('Shrinkage')\n",
    "pyplot.show()"
   ]
  },
  {
   "cell_type": "code",
   "execution_count": 13,
   "metadata": {},
   "outputs": [
    {
     "name": "stdout",
     "output_type": "stream",
     "text": [
      "UserKNNCFRecommender: URM Detected 386 ( 3.0%) users with no interactions.\n",
      "Unable to load Cython Compute_Similarity, reverting to Python\n",
      "Similarity column 13024 (100.0%), 1085.98 column/sec. Elapsed time 11.99 sec\n",
      "Reasonable implementation speed is 682.74 usr/sec\n"
     ]
    }
   ],
   "source": [
    "best_parameters_value = hyperparameter_search_rnd.loc[hyperparameter_search_rnd[\"MAP\"].astype(float).idxmax()]\n",
    "best_parameters_value\n",
    "\n",
    "import time\n",
    "recommender = UserKNNCFRecommender(urm_sparse)\n",
    "recommender.fit(shrink=best_parameters_value[\"shrink\"], topK=best_parameters_value[\"k\"])\n",
    "n_users_to_test = len(data_target[\"user_id\"])\n",
    "suggestions = pd.DataFrame(columns = [\"user_id\", \"item_list\"])\n",
    "start_time = time.time()\n",
    "\n",
    "for user_id in (data_target[\"user_id\"]-1):\n",
    "    suggestion= recommender.recommend(user_id, cutoff=10)\n",
    "    suggestions.loc[len(suggestions)] = [user_id+1, \" \".join([str(item_map[x]) for x in suggestion])]\n",
    "    \n",
    "end_time = time.time()\n",
    "\n",
    "print(\"Reasonable implementation speed is {:.2f} usr/sec\".format(n_users_to_test/(end_time-start_time)))"
   ]
  },
  {
   "cell_type": "code",
   "execution_count": 14,
   "metadata": {},
   "outputs": [
    {
     "data": {
      "text/html": [
       "<div>\n",
       "<style scoped>\n",
       "    .dataframe tbody tr th:only-of-type {\n",
       "        vertical-align: middle;\n",
       "    }\n",
       "\n",
       "    .dataframe tbody tr th {\n",
       "        vertical-align: top;\n",
       "    }\n",
       "\n",
       "    .dataframe thead th {\n",
       "        text-align: right;\n",
       "    }\n",
       "</style>\n",
       "<table border=\"1\" class=\"dataframe\">\n",
       "  <thead>\n",
       "    <tr style=\"text-align: right;\">\n",
       "      <th></th>\n",
       "      <th>user_id</th>\n",
       "      <th>item_list</th>\n",
       "    </tr>\n",
       "  </thead>\n",
       "  <tbody>\n",
       "    <tr>\n",
       "      <th>0</th>\n",
       "      <td>1</td>\n",
       "      <td>101 36 403 506 515 977 8 3 29 1546</td>\n",
       "    </tr>\n",
       "    <tr>\n",
       "      <th>1</th>\n",
       "      <td>2</td>\n",
       "      <td>2 5 47 4 6 28 3 11 9 8</td>\n",
       "    </tr>\n",
       "    <tr>\n",
       "      <th>2</th>\n",
       "      <td>3</td>\n",
       "      <td>59 259 584 536 5 648 2 9 956 3</td>\n",
       "    </tr>\n",
       "    <tr>\n",
       "      <th>3</th>\n",
       "      <td>4</td>\n",
       "      <td>28 50 1 2 5 6 4 3 145 9</td>\n",
       "    </tr>\n",
       "    <tr>\n",
       "      <th>4</th>\n",
       "      <td>5</td>\n",
       "      <td>4 131 51 6 135 88 77 26 8 44</td>\n",
       "    </tr>\n",
       "    <tr>\n",
       "      <th>...</th>\n",
       "      <td>...</td>\n",
       "      <td>...</td>\n",
       "    </tr>\n",
       "    <tr>\n",
       "      <th>10877</th>\n",
       "      <td>13020</td>\n",
       "      <td>161 506 34 7 403 337 51 105 6450 159</td>\n",
       "    </tr>\n",
       "    <tr>\n",
       "      <th>10878</th>\n",
       "      <td>13021</td>\n",
       "      <td>133 139 254 1 8 3 36 2 593 32</td>\n",
       "    </tr>\n",
       "    <tr>\n",
       "      <th>10879</th>\n",
       "      <td>13022</td>\n",
       "      <td>1411 1668 809 1446 1674 3 34 77 53 66</td>\n",
       "    </tr>\n",
       "    <tr>\n",
       "      <th>10880</th>\n",
       "      <td>13023</td>\n",
       "      <td>129 32 3 82 89 242 2 308 7 313</td>\n",
       "    </tr>\n",
       "    <tr>\n",
       "      <th>10881</th>\n",
       "      <td>13024</td>\n",
       "      <td>733 2 139 325 292 171 329 146 347 1776</td>\n",
       "    </tr>\n",
       "  </tbody>\n",
       "</table>\n",
       "<p>10882 rows × 2 columns</p>\n",
       "</div>"
      ],
      "text/plain": [
       "       user_id                               item_list\n",
       "0            1      101 36 403 506 515 977 8 3 29 1546\n",
       "1            2                  2 5 47 4 6 28 3 11 9 8\n",
       "2            3          59 259 584 536 5 648 2 9 956 3\n",
       "3            4                 28 50 1 2 5 6 4 3 145 9\n",
       "4            5            4 131 51 6 135 88 77 26 8 44\n",
       "...        ...                                     ...\n",
       "10877    13020    161 506 34 7 403 337 51 105 6450 159\n",
       "10878    13021           133 139 254 1 8 3 36 2 593 32\n",
       "10879    13022   1411 1668 809 1446 1674 3 34 77 53 66\n",
       "10880    13023          129 32 3 82 89 242 2 308 7 313\n",
       "10881    13024  733 2 139 325 292 171 329 146 347 1776\n",
       "\n",
       "[10882 rows x 2 columns]"
      ]
     },
     "execution_count": 14,
     "metadata": {},
     "output_type": "execute_result"
    }
   ],
   "source": [
    "suggestions"
   ]
  }
 ],
 "metadata": {
  "kernelspec": {
   "display_name": "Python 3",
   "language": "python",
   "name": "python3"
  },
  "language_info": {
   "codemirror_mode": {
    "name": "ipython",
    "version": 3
   },
   "file_extension": ".py",
   "mimetype": "text/x-python",
   "name": "python",
   "nbconvert_exporter": "python",
   "pygments_lexer": "ipython3",
   "version": "3.11.7"
  }
 },
 "nbformat": 4,
 "nbformat_minor": 2
}
