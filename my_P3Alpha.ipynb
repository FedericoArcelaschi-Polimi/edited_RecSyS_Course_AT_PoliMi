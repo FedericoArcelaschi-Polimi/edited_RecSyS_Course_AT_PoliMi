{
 "cells": [
  {
   "cell_type": "code",
   "execution_count": 1,
   "metadata": {},
   "outputs": [
    {
     "name": "stderr",
     "output_type": "stream",
     "text": [
      "C:\\Users\\feder\\AppData\\Local\\Packages\\PythonSoftwareFoundation.Python.3.11_qbz5n2kfra8p0\\LocalCache\\local-packages\\Python311\\site-packages\\tqdm\\auto.py:21: TqdmWarning: IProgress not found. Please update jupyter and ipywidgets. See https://ipywidgets.readthedocs.io/en/stable/user_install.html\n",
      "  from .autonotebook import tqdm as notebook_tqdm\n"
     ]
    }
   ],
   "source": [
    "import numpy as np\n",
    "import matplotlib.pyplot as pyplot\n",
    "import pandas as pd\n",
    "import scipy.sparse as sps\n",
    "%matplotlib inline  \n",
    "%load_ext Cython\n",
    "\n",
    "from Evaluation.Evaluator import EvaluatorHoldout\n",
    "from Data_manager.split_functions.split_train_validation_random_holdout import split_train_in_two_percentage_global_sample\n",
    "from Recommenders.GraphBased.P3alphaRecommender import P3alphaRecommender\n",
    "import optuna"
   ]
  },
  {
   "cell_type": "code",
   "execution_count": 2,
   "metadata": {},
   "outputs": [],
   "source": [
    "# data_train_path=\"/kaggle/input/recommender-system-2023-challenge-polimi/data_train.csv\"\n",
    "# data_target_user_path=\"/kaggle/input/recommender-system-2023-challenge-polimi/data_target_users_test.csv\"\n",
    "data_train_path=\"data_train.csv\"\n",
    "data_target_user_path=\"data_target_users_test.csv\"\n",
    "data_train = pd.read_csv(data_train_path)\n",
    "data_target = pd.read_csv(data_target_user_path)"
   ]
  },
  {
   "cell_type": "code",
   "execution_count": 3,
   "metadata": {},
   "outputs": [
    {
     "data": {
      "text/plain": [
       "<13024x22222 sparse matrix of type '<class 'numpy.float64'>'\n",
       "\twith 478730 stored elements in Compressed Sparse Row format>"
      ]
     },
     "execution_count": 3,
     "metadata": {},
     "output_type": "execute_result"
    }
   ],
   "source": [
    "URM_all =  data_train.pivot(index='row', columns='col', values='data').fillna(0)\n",
    "item_map = {i : item for i, item in enumerate(URM_all.columns)}\n",
    "user_map = {i : user for i, user in enumerate(data_target[\"user_id\"])}\n",
    "item_map_inv = {item : i for i, item in item_map.items()}\n",
    "user_map_inv = {user : i for i, user in user_map.items()}\n",
    "missing_index = [x for x in range(1,13025) if x not in URM_all.index.tolist()]\n",
    "add_urm = pd.DataFrame(index = missing_index, columns = URM_all.columns).fillna(0)\n",
    "URM_all = pd.concat([URM_all, add_urm]).sort_index()\n",
    "del add_urm\n",
    "del missing_index\n",
    "#data_target[\"user_id\"] = data_target[\"user_id\"]\n",
    "URM_all = URM_all.to_numpy()\n",
    "URM_all = sps.csr_matrix(URM_all)\n",
    "URM_all"
   ]
  },
  {
   "cell_type": "code",
   "execution_count": 4,
   "metadata": {},
   "outputs": [
    {
     "name": "stdout",
     "output_type": "stream",
     "text": [
      "Warning: 585 (4.49 %) of 13024 users have no train items\n",
      "Warning: 2587 (19.86 %) of 13024 users have no sampled items\n",
      "EvaluatorHoldout: Ignoring 2587 (19.9%) Users that have less than 1 test interactions\n",
      "Warning: 615 (4.72 %) of 13024 users have no train items\n",
      "Warning: 2492 (19.13 %) of 13024 users have no sampled items\n",
      "EvaluatorHoldout: Ignoring 2492 (19.1%) Users that have less than 1 test interactions\n",
      "Warning: 614 (4.71 %) of 13024 users have no train items\n",
      "Warning: 2558 (19.64 %) of 13024 users have no sampled items\n",
      "EvaluatorHoldout: Ignoring 2558 (19.6%) Users that have less than 1 test interactions\n"
     ]
    }
   ],
   "source": [
    "test_folds = 3\n",
    "\n",
    "URM_trains = [None] * test_folds\n",
    "evaluator_tests = [None] * test_folds\n",
    "for i in range(0, test_folds):\n",
    "    URM_trains[i], URM_test = split_train_in_two_percentage_global_sample(URM_all, train_percentage = 0.80)\n",
    "    evaluator_tests[i] = EvaluatorHoldout(URM_test, cutoff_list=[10])"
   ]
  },
  {
   "cell_type": "code",
   "execution_count": 11,
   "metadata": {},
   "outputs": [],
   "source": [
    "def train_evaluate(optuna_trial):\n",
    "    topk = optuna_trial.suggest_int(\"topK\", 10, 100)\n",
    "    alpha = optuna_trial.suggest_float(\"alpha\", 0.5, 0.9)\n",
    "\n",
    "    mAP = 0.0\n",
    "    for i in range(0, test_folds):\n",
    "        P3alpha = P3alphaRecommender(URM_trains[i], verbose=False)\n",
    "        P3alpha.fit(topK=topk, alpha=alpha)\n",
    "        result_df, _ = evaluator_tests[i].evaluateRecommender(P3alpha)\n",
    "        mAP += result_df[\"MAP\"].values[0]\n",
    "    mAP /= test_folds\n",
    "    return mAP"
   ]
  },
  {
   "cell_type": "code",
   "execution_count": 13,
   "metadata": {},
   "outputs": [
    {
     "name": "stderr",
     "output_type": "stream",
     "text": [
      "[I 2023-12-11 15:01:15,287] A new study created in memory with name: no-name-3d2faf75-3a06-404e-96d0-6a64a6ef8e01\n"
     ]
    },
    {
     "name": "stdout",
     "output_type": "stream",
     "text": [
      "EvaluatorHoldout: Processed 10437 (100.0%) in 8.28 sec. Users per second: 1261\n",
      "EvaluatorHoldout: Processed 10532 (100.0%) in 8.38 sec. Users per second: 1256\n",
      "EvaluatorHoldout: Processed 10466 (100.0%) in 7.56 sec. Users per second: 1385\n"
     ]
    },
    {
     "name": "stderr",
     "output_type": "stream",
     "text": [
      "[I 2023-12-11 15:02:04,254] Trial 0 finished with value: 0.03491877556910843 and parameters: {'topK': 87, 'alpha': 0.885689947306503}. Best is trial 0 with value: 0.03491877556910843.\n"
     ]
    },
    {
     "name": "stdout",
     "output_type": "stream",
     "text": [
      "EvaluatorHoldout: Processed 10437 (100.0%) in 7.27 sec. Users per second: 1436\n",
      "EvaluatorHoldout: Processed 10532 (100.0%) in 7.29 sec. Users per second: 1444\n",
      "EvaluatorHoldout: Processed 10466 (100.0%) in 7.29 sec. Users per second: 1435\n"
     ]
    },
    {
     "name": "stderr",
     "output_type": "stream",
     "text": [
      "[I 2023-12-11 15:02:47,100] Trial 1 finished with value: 0.03270082096509213 and parameters: {'topK': 62, 'alpha': 0.5478382689790888}. Best is trial 0 with value: 0.03491877556910843.\n"
     ]
    },
    {
     "name": "stdout",
     "output_type": "stream",
     "text": [
      "EvaluatorHoldout: Processed 10437 (100.0%) in 7.16 sec. Users per second: 1457\n",
      "EvaluatorHoldout: Processed 10532 (100.0%) in 7.26 sec. Users per second: 1451\n",
      "EvaluatorHoldout: Processed 10466 (100.0%) in 7.16 sec. Users per second: 1461\n"
     ]
    },
    {
     "name": "stderr",
     "output_type": "stream",
     "text": [
      "[I 2023-12-11 15:03:27,322] Trial 2 finished with value: 0.038895792592396894 and parameters: {'topK': 42, 'alpha': 0.6642922751846772}. Best is trial 2 with value: 0.038895792592396894.\n"
     ]
    },
    {
     "name": "stdout",
     "output_type": "stream",
     "text": [
      "EvaluatorHoldout: Processed 10437 (100.0%) in 7.39 sec. Users per second: 1413\n",
      "EvaluatorHoldout: Processed 10532 (100.0%) in 7.29 sec. Users per second: 1445\n",
      "EvaluatorHoldout: Processed 10466 (100.0%) in 7.25 sec. Users per second: 1444\n"
     ]
    },
    {
     "name": "stderr",
     "output_type": "stream",
     "text": [
      "[I 2023-12-11 15:04:12,746] Trial 3 finished with value: 0.03376950841329874 and parameters: {'topK': 85, 'alpha': 0.8957963158524482}. Best is trial 2 with value: 0.038895792592396894.\n"
     ]
    },
    {
     "name": "stdout",
     "output_type": "stream",
     "text": [
      "EvaluatorHoldout: Processed 10437 (100.0%) in 7.29 sec. Users per second: 1432\n",
      "EvaluatorHoldout: Processed 10532 (100.0%) in 7.31 sec. Users per second: 1441\n",
      "EvaluatorHoldout: Processed 10466 (100.0%) in 7.24 sec. Users per second: 1445\n"
     ]
    },
    {
     "name": "stderr",
     "output_type": "stream",
     "text": [
      "[I 2023-12-11 15:04:54,072] Trial 4 finished with value: 0.03772805104345326 and parameters: {'topK': 50, 'alpha': 0.6540188198410759}. Best is trial 2 with value: 0.038895792592396894.\n"
     ]
    },
    {
     "name": "stdout",
     "output_type": "stream",
     "text": [
      "EvaluatorHoldout: Processed 10437 (100.0%) in 7.51 sec. Users per second: 1390\n",
      "EvaluatorHoldout: Processed 10532 (100.0%) in 7.53 sec. Users per second: 1399\n",
      "EvaluatorHoldout: Processed 10466 (100.0%) in 7.42 sec. Users per second: 1411\n"
     ]
    },
    {
     "name": "stderr",
     "output_type": "stream",
     "text": [
      "[I 2023-12-11 15:05:41,268] Trial 5 finished with value: 0.031507728766306704 and parameters: {'topK': 99, 'alpha': 0.5838512833180364}. Best is trial 2 with value: 0.038895792592396894.\n"
     ]
    },
    {
     "name": "stdout",
     "output_type": "stream",
     "text": [
      "EvaluatorHoldout: Processed 10437 (100.0%) in 7.37 sec. Users per second: 1416\n",
      "EvaluatorHoldout: Processed 10532 (100.0%) in 7.57 sec. Users per second: 1391\n",
      "EvaluatorHoldout: Processed 10466 (100.0%) in 7.93 sec. Users per second: 1320\n"
     ]
    },
    {
     "name": "stderr",
     "output_type": "stream",
     "text": [
      "[I 2023-12-11 15:06:28,930] Trial 6 finished with value: 0.03846027956320392 and parameters: {'topK': 90, 'alpha': 0.702919415037429}. Best is trial 2 with value: 0.038895792592396894.\n"
     ]
    },
    {
     "name": "stdout",
     "output_type": "stream",
     "text": [
      "EvaluatorHoldout: Processed 10437 (100.0%) in 7.45 sec. Users per second: 1401\n",
      "EvaluatorHoldout: Processed 10532 (100.0%) in 7.61 sec. Users per second: 1383\n",
      "EvaluatorHoldout: Processed 10466 (100.0%) in 7.30 sec. Users per second: 1435\n"
     ]
    },
    {
     "name": "stderr",
     "output_type": "stream",
     "text": [
      "[I 2023-12-11 15:07:15,225] Trial 7 finished with value: 0.03115603083140514 and parameters: {'topK': 90, 'alpha': 0.5470757339751722}. Best is trial 2 with value: 0.038895792592396894.\n"
     ]
    },
    {
     "name": "stdout",
     "output_type": "stream",
     "text": [
      "EvaluatorHoldout: Processed 10437 (100.0%) in 7.06 sec. Users per second: 1478\n",
      "EvaluatorHoldout: Processed 10532 (100.0%) in 7.06 sec. Users per second: 1493\n",
      "EvaluatorHoldout: Processed 10466 (100.0%) in 7.09 sec. Users per second: 1477\n"
     ]
    },
    {
     "name": "stderr",
     "output_type": "stream",
     "text": [
      "[I 2023-12-11 15:07:54,009] Trial 8 finished with value: 0.0343855586841535 and parameters: {'topK': 33, 'alpha': 0.5165731303903678}. Best is trial 2 with value: 0.038895792592396894.\n"
     ]
    },
    {
     "name": "stdout",
     "output_type": "stream",
     "text": [
      "EvaluatorHoldout: Processed 10437 (100.0%) in 7.16 sec. Users per second: 1458\n",
      "EvaluatorHoldout: Processed 10532 (100.0%) in 7.27 sec. Users per second: 1448\n",
      "EvaluatorHoldout: Processed 10466 (100.0%) in 7.19 sec. Users per second: 1455\n"
     ]
    },
    {
     "name": "stderr",
     "output_type": "stream",
     "text": [
      "[I 2023-12-11 15:08:37,088] Trial 9 finished with value: 0.03245399348985777 and parameters: {'topK': 69, 'alpha': 0.559036534532396}. Best is trial 2 with value: 0.038895792592396894.\n"
     ]
    },
    {
     "name": "stdout",
     "output_type": "stream",
     "text": [
      "EvaluatorHoldout: Processed 10437 (100.0%) in 6.96 sec. Users per second: 1499\n",
      "EvaluatorHoldout: Processed 10532 (100.0%) in 7.00 sec. Users per second: 1504\n",
      "EvaluatorHoldout: Processed 10466 (100.0%) in 7.09 sec. Users per second: 1477\n"
     ]
    },
    {
     "name": "stderr",
     "output_type": "stream",
     "text": [
      "[I 2023-12-11 15:09:13,200] Trial 10 finished with value: 0.037493142960374364 and parameters: {'topK': 10, 'alpha': 0.748672515043497}. Best is trial 2 with value: 0.038895792592396894.\n"
     ]
    },
    {
     "name": "stdout",
     "output_type": "stream",
     "text": [
      "EvaluatorHoldout: Processed 10437 (100.0%) in 7.11 sec. Users per second: 1468\n",
      "EvaluatorHoldout: Processed 10532 (100.0%) in 7.15 sec. Users per second: 1473\n",
      "EvaluatorHoldout: Processed 10466 (100.0%) in 7.04 sec. Users per second: 1487\n"
     ]
    },
    {
     "name": "stderr",
     "output_type": "stream",
     "text": [
      "[I 2023-12-11 15:09:52,992] Trial 11 finished with value: 0.04164050382436368 and parameters: {'topK': 40, 'alpha': 0.7115785348032931}. Best is trial 11 with value: 0.04164050382436368.\n"
     ]
    },
    {
     "name": "stdout",
     "output_type": "stream",
     "text": [
      "EvaluatorHoldout: Processed 10437 (100.0%) in 7.09 sec. Users per second: 1472\n",
      "EvaluatorHoldout: Processed 10532 (100.0%) in 7.13 sec. Users per second: 1478\n",
      "EvaluatorHoldout: Processed 10466 (100.0%) in 7.00 sec. Users per second: 1494\n"
     ]
    },
    {
     "name": "stderr",
     "output_type": "stream",
     "text": [
      "[I 2023-12-11 15:10:32,596] Trial 12 finished with value: 0.03806676687375896 and parameters: {'topK': 39, 'alpha': 0.64634315989214}. Best is trial 11 with value: 0.04164050382436368.\n"
     ]
    },
    {
     "name": "stdout",
     "output_type": "stream",
     "text": [
      "EvaluatorHoldout: Processed 10437 (100.0%) in 7.03 sec. Users per second: 1484\n",
      "EvaluatorHoldout: Processed 10532 (100.0%) in 7.14 sec. Users per second: 1474\n",
      "EvaluatorHoldout: Processed 10466 (100.0%) in 7.09 sec. Users per second: 1476\n"
     ]
    },
    {
     "name": "stderr",
     "output_type": "stream",
     "text": [
      "[I 2023-12-11 15:11:10,276] Trial 13 finished with value: 0.040243454692332196 and parameters: {'topK': 22, 'alpha': 0.7638809040629229}. Best is trial 11 with value: 0.04164050382436368.\n"
     ]
    },
    {
     "name": "stdout",
     "output_type": "stream",
     "text": [
      "EvaluatorHoldout: Processed 10437 (100.0%) in 6.95 sec. Users per second: 1503\n",
      "EvaluatorHoldout: Processed 10532 (100.0%) in 7.06 sec. Users per second: 1492\n",
      "EvaluatorHoldout: Processed 10466 (100.0%) in 7.05 sec. Users per second: 1484\n"
     ]
    },
    {
     "name": "stderr",
     "output_type": "stream",
     "text": [
      "[I 2023-12-11 15:11:47,678] Trial 14 finished with value: 0.03919296304526965 and parameters: {'topK': 22, 'alpha': 0.777164835555161}. Best is trial 11 with value: 0.04164050382436368.\n"
     ]
    },
    {
     "name": "stdout",
     "output_type": "stream",
     "text": [
      "EvaluatorHoldout: Processed 10437 (100.0%) in 7.15 sec. Users per second: 1460\n",
      "EvaluatorHoldout: Processed 10532 (100.0%) in 7.25 sec. Users per second: 1453\n",
      "EvaluatorHoldout: Processed 10466 (100.0%) in 6.95 sec. Users per second: 1505\n"
     ]
    },
    {
     "name": "stderr",
     "output_type": "stream",
     "text": [
      "[I 2023-12-11 15:12:25,978] Trial 15 finished with value: 0.03748376080112358 and parameters: {'topK': 24, 'alpha': 0.7990776839874478}. Best is trial 11 with value: 0.04164050382436368.\n"
     ]
    },
    {
     "name": "stdout",
     "output_type": "stream",
     "text": [
      "EvaluatorHoldout: Processed 10437 (100.0%) in 6.89 sec. Users per second: 1515\n",
      "EvaluatorHoldout: Processed 10532 (100.0%) in 7.01 sec. Users per second: 1502\n",
      "EvaluatorHoldout: Processed 10466 (100.0%) in 6.87 sec. Users per second: 1523\n"
     ]
    },
    {
     "name": "stderr",
     "output_type": "stream",
     "text": [
      "[I 2023-12-11 15:13:02,220] Trial 16 finished with value: 0.03973688053398839 and parameters: {'topK': 12, 'alpha': 0.7308949422564447}. Best is trial 11 with value: 0.04164050382436368.\n"
     ]
    },
    {
     "name": "stdout",
     "output_type": "stream",
     "text": [
      "EvaluatorHoldout: Processed 10437 (100.0%) in 6.95 sec. Users per second: 1502\n",
      "EvaluatorHoldout: Processed 10532 (100.0%) in 7.06 sec. Users per second: 1491\n",
      "EvaluatorHoldout: Processed 10466 (100.0%) in 7.06 sec. Users per second: 1482\n"
     ]
    },
    {
     "name": "stderr",
     "output_type": "stream",
     "text": [
      "[I 2023-12-11 15:13:40,027] Trial 17 finished with value: 0.035149190013152976 and parameters: {'topK': 25, 'alpha': 0.8202353560123059}. Best is trial 11 with value: 0.04164050382436368.\n"
     ]
    },
    {
     "name": "stdout",
     "output_type": "stream",
     "text": [
      "EvaluatorHoldout: Processed 10437 (100.0%) in 7.09 sec. Users per second: 1472\n",
      "EvaluatorHoldout: Processed 10532 (100.0%) in 7.17 sec. Users per second: 1469\n",
      "EvaluatorHoldout: Processed 10466 (100.0%) in 7.34 sec. Users per second: 1425\n"
     ]
    },
    {
     "name": "stderr",
     "output_type": "stream",
     "text": [
      "[I 2023-12-11 15:14:21,893] Trial 18 finished with value: 0.04026688567760927 and parameters: {'topK': 56, 'alpha': 0.7000147702083253}. Best is trial 11 with value: 0.04164050382436368.\n"
     ]
    },
    {
     "name": "stdout",
     "output_type": "stream",
     "text": [
      "EvaluatorHoldout: Processed 10437 (100.0%) in 7.28 sec. Users per second: 1434\n",
      "EvaluatorHoldout: Processed 10532 (100.0%) in 7.33 sec. Users per second: 1437\n",
      "EvaluatorHoldout: Processed 10466 (100.0%) in 7.17 sec. Users per second: 1460\n"
     ]
    },
    {
     "name": "stderr",
     "output_type": "stream",
     "text": [
      "[I 2023-12-11 15:15:05,513] Trial 19 finished with value: 0.039663036605683065 and parameters: {'topK': 71, 'alpha': 0.7052509294745258}. Best is trial 11 with value: 0.04164050382436368.\n"
     ]
    },
    {
     "name": "stdout",
     "output_type": "stream",
     "text": [
      "EvaluatorHoldout: Processed 10437 (100.0%) in 7.15 sec. Users per second: 1460\n",
      "EvaluatorHoldout: Processed 10532 (100.0%) in 7.17 sec. Users per second: 1469\n",
      "EvaluatorHoldout: Processed 10466 (100.0%) in 7.17 sec. Users per second: 1459\n"
     ]
    },
    {
     "name": "stderr",
     "output_type": "stream",
     "text": [
      "[I 2023-12-11 15:15:47,163] Trial 20 finished with value: 0.03538840021039191 and parameters: {'topK': 55, 'alpha': 0.6171087967074221}. Best is trial 11 with value: 0.04164050382436368.\n"
     ]
    },
    {
     "name": "stdout",
     "output_type": "stream",
     "text": [
      "EvaluatorHoldout: Processed 10437 (100.0%) in 7.02 sec. Users per second: 1487\n",
      "EvaluatorHoldout: Processed 10532 (100.0%) in 7.26 sec. Users per second: 1450\n",
      "EvaluatorHoldout: Processed 10466 (100.0%) in 7.13 sec. Users per second: 1468\n"
     ]
    },
    {
     "name": "stderr",
     "output_type": "stream",
     "text": [
      "[I 2023-12-11 15:16:27,786] Trial 21 finished with value: 0.04227678394327494 and parameters: {'topK': 47, 'alpha': 0.7401573330730473}. Best is trial 21 with value: 0.04227678394327494.\n"
     ]
    },
    {
     "name": "stdout",
     "output_type": "stream",
     "text": [
      "EvaluatorHoldout: Processed 10437 (100.0%) in 7.09 sec. Users per second: 1472\n",
      "EvaluatorHoldout: Processed 10532 (100.0%) in 7.15 sec. Users per second: 1473\n",
      "EvaluatorHoldout: Processed 10466 (100.0%) in 7.08 sec. Users per second: 1479\n"
     ]
    },
    {
     "name": "stderr",
     "output_type": "stream",
     "text": [
      "[I 2023-12-11 15:17:08,556] Trial 22 finished with value: 0.041761822329561944 and parameters: {'topK': 48, 'alpha': 0.7215161144415212}. Best is trial 21 with value: 0.04227678394327494.\n"
     ]
    },
    {
     "name": "stdout",
     "output_type": "stream",
     "text": [
      "EvaluatorHoldout: Processed 10437 (100.0%) in 7.71 sec. Users per second: 1354\n",
      "EvaluatorHoldout: Processed 10532 (100.0%) in 7.67 sec. Users per second: 1372\n",
      "EvaluatorHoldout: Processed 10466 (100.0%) in 7.80 sec. Users per second: 1341\n"
     ]
    },
    {
     "name": "stderr",
     "output_type": "stream",
     "text": [
      "[I 2023-12-11 15:17:51,836] Trial 23 finished with value: 0.042179645069802825 and parameters: {'topK': 46, 'alpha': 0.7347541875171362}. Best is trial 21 with value: 0.04227678394327494.\n"
     ]
    },
    {
     "name": "stdout",
     "output_type": "stream",
     "text": [
      "EvaluatorHoldout: Processed 10437 (100.0%) in 7.49 sec. Users per second: 1394\n",
      "EvaluatorHoldout: Processed 10532 (100.0%) in 7.20 sec. Users per second: 1463\n",
      "EvaluatorHoldout: Processed 10466 (100.0%) in 7.19 sec. Users per second: 1455\n"
     ]
    },
    {
     "name": "stderr",
     "output_type": "stream",
     "text": [
      "[I 2023-12-11 15:18:33,106] Trial 24 finished with value: 0.04226522246321448 and parameters: {'topK': 46, 'alpha': 0.7402626799347775}. Best is trial 21 with value: 0.04227678394327494.\n"
     ]
    },
    {
     "name": "stdout",
     "output_type": "stream",
     "text": [
      "EvaluatorHoldout: Processed 10437 (100.0%) in 7.22 sec. Users per second: 1445\n",
      "EvaluatorHoldout: Processed 10532 (100.0%) in 7.21 sec. Users per second: 1460\n",
      "EvaluatorHoldout: Processed 10466 (100.0%) in 7.20 sec. Users per second: 1453\n"
     ]
    },
    {
     "name": "stderr",
     "output_type": "stream",
     "text": [
      "[I 2023-12-11 15:19:12,792] Trial 25 finished with value: 0.04182537799930989 and parameters: {'topK': 34, 'alpha': 0.758761121988329}. Best is trial 21 with value: 0.04227678394327494.\n"
     ]
    },
    {
     "name": "stdout",
     "output_type": "stream",
     "text": [
      "EvaluatorHoldout: Processed 10437 (100.0%) in 7.33 sec. Users per second: 1423\n",
      "EvaluatorHoldout: Processed 10532 (100.0%) in 7.49 sec. Users per second: 1406\n",
      "EvaluatorHoldout: Processed 10466 (100.0%) in 7.43 sec. Users per second: 1409\n"
     ]
    },
    {
     "name": "stderr",
     "output_type": "stream",
     "text": [
      "[I 2023-12-11 15:19:56,624] Trial 26 finished with value: 0.04041033296384334 and parameters: {'topK': 64, 'alpha': 0.8114182049582854}. Best is trial 21 with value: 0.04227678394327494.\n"
     ]
    },
    {
     "name": "stdout",
     "output_type": "stream",
     "text": [
      "EvaluatorHoldout: Processed 10437 (100.0%) in 7.24 sec. Users per second: 1442\n",
      "EvaluatorHoldout: Processed 10532 (100.0%) in 7.44 sec. Users per second: 1416\n",
      "EvaluatorHoldout: Processed 10466 (100.0%) in 7.27 sec. Users per second: 1440\n"
     ]
    },
    {
     "name": "stderr",
     "output_type": "stream",
     "text": [
      "[I 2023-12-11 15:20:37,756] Trial 27 finished with value: 0.03928765317650538 and parameters: {'topK': 47, 'alpha': 0.67845376684465}. Best is trial 21 with value: 0.04227678394327494.\n"
     ]
    },
    {
     "name": "stdout",
     "output_type": "stream",
     "text": [
      "EvaluatorHoldout: Processed 10437 (100.0%) in 7.24 sec. Users per second: 1441\n",
      "EvaluatorHoldout: Processed 10532 (100.0%) in 7.36 sec. Users per second: 1431\n",
      "EvaluatorHoldout: Processed 10466 (100.0%) in 7.23 sec. Users per second: 1447\n"
     ]
    },
    {
     "name": "stderr",
     "output_type": "stream",
     "text": [
      "[I 2023-12-11 15:21:19,910] Trial 28 finished with value: 0.04180446075076725 and parameters: {'topK': 55, 'alpha': 0.7293794792955817}. Best is trial 21 with value: 0.04227678394327494.\n"
     ]
    },
    {
     "name": "stdout",
     "output_type": "stream",
     "text": [
      "EvaluatorHoldout: Processed 10437 (100.0%) in 7.25 sec. Users per second: 1439\n",
      "EvaluatorHoldout: Processed 10532 (100.0%) in 7.51 sec. Users per second: 1402\n",
      "EvaluatorHoldout: Processed 10466 (100.0%) in 7.26 sec. Users per second: 1441\n"
     ]
    },
    {
     "name": "stderr",
     "output_type": "stream",
     "text": [
      "[I 2023-12-11 15:22:04,414] Trial 29 finished with value: 0.03816624621825533 and parameters: {'topK': 76, 'alpha': 0.8465146313982993}. Best is trial 21 with value: 0.04227678394327494.\n"
     ]
    },
    {
     "name": "stdout",
     "output_type": "stream",
     "text": [
      "EvaluatorHoldout: Processed 10437 (100.0%) in 7.22 sec. Users per second: 1445\n",
      "EvaluatorHoldout: Processed 10532 (100.0%) in 7.26 sec. Users per second: 1450\n",
      "EvaluatorHoldout: Processed 10466 (100.0%) in 7.17 sec. Users per second: 1460\n"
     ]
    },
    {
     "name": "stderr",
     "output_type": "stream",
     "text": [
      "[I 2023-12-11 15:22:43,684] Trial 30 finished with value: 0.040120535943591995 and parameters: {'topK': 32, 'alpha': 0.7845933792413949}. Best is trial 21 with value: 0.04227678394327494.\n"
     ]
    },
    {
     "name": "stdout",
     "output_type": "stream",
     "text": [
      "EvaluatorHoldout: Processed 10437 (100.0%) in 7.13 sec. Users per second: 1464\n",
      "EvaluatorHoldout: Processed 10532 (100.0%) in 7.13 sec. Users per second: 1478\n",
      "EvaluatorHoldout: Processed 10466 (100.0%) in 7.07 sec. Users per second: 1480\n"
     ]
    },
    {
     "name": "stderr",
     "output_type": "stream",
     "text": [
      "[I 2023-12-11 15:23:23,046] Trial 31 finished with value: 0.04195800534926305 and parameters: {'topK': 34, 'alpha': 0.7570833062751532}. Best is trial 21 with value: 0.04227678394327494.\n"
     ]
    },
    {
     "name": "stdout",
     "output_type": "stream",
     "text": [
      "EvaluatorHoldout: Processed 10437 (100.0%) in 7.02 sec. Users per second: 1488\n",
      "EvaluatorHoldout: Processed 10532 (100.0%) in 7.21 sec. Users per second: 1460\n",
      "EvaluatorHoldout: Processed 10466 (100.0%) in 7.05 sec. Users per second: 1484\n"
     ]
    },
    {
     "name": "stderr",
     "output_type": "stream",
     "text": [
      "[I 2023-12-11 15:24:03,117] Trial 32 finished with value: 0.04229074484731579 and parameters: {'topK': 44, 'alpha': 0.7460243079410572}. Best is trial 32 with value: 0.04229074484731579.\n"
     ]
    },
    {
     "name": "stdout",
     "output_type": "stream",
     "text": [
      "EvaluatorHoldout: Processed 10437 (100.0%) in 7.24 sec. Users per second: 1442\n",
      "EvaluatorHoldout: Processed 10532 (100.0%) in 7.28 sec. Users per second: 1447\n",
      "EvaluatorHoldout: Processed 10466 (100.0%) in 7.04 sec. Users per second: 1487\n"
     ]
    },
    {
     "name": "stderr",
     "output_type": "stream",
     "text": [
      "[I 2023-12-11 15:24:43,354] Trial 33 finished with value: 0.042232224182714655 and parameters: {'topK': 43, 'alpha': 0.7351027908454889}. Best is trial 32 with value: 0.04229074484731579.\n"
     ]
    },
    {
     "name": "stdout",
     "output_type": "stream",
     "text": [
      "EvaluatorHoldout: Processed 10437 (100.0%) in 7.17 sec. Users per second: 1456\n",
      "EvaluatorHoldout: Processed 10532 (100.0%) in 7.13 sec. Users per second: 1478\n",
      "EvaluatorHoldout: Processed 10466 (100.0%) in 7.12 sec. Users per second: 1470\n"
     ]
    },
    {
     "name": "stderr",
     "output_type": "stream",
     "text": [
      "[I 2023-12-11 15:25:25,496] Trial 34 finished with value: 0.042089195793631816 and parameters: {'topK': 60, 'alpha': 0.7464798540628278}. Best is trial 32 with value: 0.04229074484731579.\n"
     ]
    },
    {
     "name": "stdout",
     "output_type": "stream",
     "text": [
      "EvaluatorHoldout: Processed 10437 (100.0%) in 7.08 sec. Users per second: 1474\n",
      "EvaluatorHoldout: Processed 10532 (100.0%) in 7.08 sec. Users per second: 1487\n",
      "EvaluatorHoldout: Processed 10466 (100.0%) in 7.19 sec. Users per second: 1456\n"
     ]
    },
    {
     "name": "stderr",
     "output_type": "stream",
     "text": [
      "[I 2023-12-11 15:26:05,382] Trial 35 finished with value: 0.0399162528067531 and parameters: {'topK': 41, 'alpha': 0.6806287796159712}. Best is trial 32 with value: 0.04229074484731579.\n"
     ]
    },
    {
     "name": "stdout",
     "output_type": "stream",
     "text": [
      "EvaluatorHoldout: Processed 10437 (100.0%) in 7.07 sec. Users per second: 1476\n",
      "EvaluatorHoldout: Processed 10532 (100.0%) in 7.22 sec. Users per second: 1459\n",
      "EvaluatorHoldout: Processed 10466 (100.0%) in 7.19 sec. Users per second: 1455\n"
     ]
    },
    {
     "name": "stderr",
     "output_type": "stream",
     "text": [
      "[I 2023-12-11 15:26:46,558] Trial 36 finished with value: 0.041968270055666675 and parameters: {'topK': 53, 'alpha': 0.7783719279486471}. Best is trial 32 with value: 0.04229074484731579.\n"
     ]
    },
    {
     "name": "stdout",
     "output_type": "stream",
     "text": [
      "EvaluatorHoldout: Processed 10437 (100.0%) in 7.10 sec. Users per second: 1469\n",
      "EvaluatorHoldout: Processed 10532 (100.0%) in 7.21 sec. Users per second: 1461\n",
      "EvaluatorHoldout: Processed 10466 (100.0%) in 7.19 sec. Users per second: 1455\n"
     ]
    },
    {
     "name": "stderr",
     "output_type": "stream",
     "text": [
      "[I 2023-12-11 15:27:26,906] Trial 37 finished with value: 0.04200598849902385 and parameters: {'topK': 44, 'alpha': 0.7273590956731736}. Best is trial 32 with value: 0.04229074484731579.\n"
     ]
    },
    {
     "name": "stdout",
     "output_type": "stream",
     "text": [
      "EvaluatorHoldout: Processed 10437 (100.0%) in 7.15 sec. Users per second: 1460\n",
      "EvaluatorHoldout: Processed 10532 (100.0%) in 7.19 sec. Users per second: 1465\n",
      "EvaluatorHoldout: Processed 10466 (100.0%) in 7.24 sec. Users per second: 1445\n"
     ]
    },
    {
     "name": "stderr",
     "output_type": "stream",
     "text": [
      "[I 2023-12-11 15:28:08,059] Trial 38 finished with value: 0.03947078250376326 and parameters: {'topK': 50, 'alpha': 0.6836720023428791}. Best is trial 32 with value: 0.04229074484731579.\n"
     ]
    },
    {
     "name": "stdout",
     "output_type": "stream",
     "text": [
      "EvaluatorHoldout: Processed 10437 (100.0%) in 7.12 sec. Users per second: 1466\n",
      "EvaluatorHoldout: Processed 10532 (100.0%) in 7.21 sec. Users per second: 1460\n",
      "EvaluatorHoldout: Processed 10466 (100.0%) in 7.14 sec. Users per second: 1465\n"
     ]
    },
    {
     "name": "stderr",
     "output_type": "stream",
     "text": [
      "[I 2023-12-11 15:28:50,415] Trial 39 finished with value: 0.03519986115389592 and parameters: {'topK': 63, 'alpha': 0.8683202244358954}. Best is trial 32 with value: 0.04229074484731579.\n"
     ]
    },
    {
     "name": "stdout",
     "output_type": "stream",
     "text": [
      "EvaluatorHoldout: Processed 10437 (100.0%) in 6.93 sec. Users per second: 1506\n",
      "EvaluatorHoldout: Processed 10532 (100.0%) in 7.20 sec. Users per second: 1463\n",
      "EvaluatorHoldout: Processed 10466 (100.0%) in 7.11 sec. Users per second: 1472\n"
     ]
    },
    {
     "name": "stderr",
     "output_type": "stream",
     "text": [
      "[I 2023-12-11 15:29:28,911] Trial 40 finished with value: 0.0387855192086153 and parameters: {'topK': 28, 'alpha': 0.7937776916073364}. Best is trial 32 with value: 0.04229074484731579.\n"
     ]
    },
    {
     "name": "stdout",
     "output_type": "stream",
     "text": [
      "EvaluatorHoldout: Processed 10437 (100.0%) in 7.21 sec. Users per second: 1447\n",
      "EvaluatorHoldout: Processed 10532 (100.0%) in 7.24 sec. Users per second: 1455\n",
      "EvaluatorHoldout: Processed 10466 (100.0%) in 7.13 sec. Users per second: 1467\n"
     ]
    },
    {
     "name": "stderr",
     "output_type": "stream",
     "text": [
      "[I 2023-12-11 15:30:09,377] Trial 41 finished with value: 0.042301731649766666 and parameters: {'topK': 45, 'alpha': 0.7398629699956794}. Best is trial 41 with value: 0.042301731649766666.\n"
     ]
    },
    {
     "name": "stdout",
     "output_type": "stream",
     "text": [
      "EvaluatorHoldout: Processed 10437 (100.0%) in 7.06 sec. Users per second: 1478\n",
      "EvaluatorHoldout: Processed 10532 (100.0%) in 7.12 sec. Users per second: 1478\n",
      "EvaluatorHoldout: Processed 10466 (100.0%) in 7.10 sec. Users per second: 1474\n"
     ]
    },
    {
     "name": "stderr",
     "output_type": "stream",
     "text": [
      "[I 2023-12-11 15:30:49,107] Trial 42 finished with value: 0.04240242881329453 and parameters: {'topK': 39, 'alpha': 0.7412358774032524}. Best is trial 42 with value: 0.04240242881329453.\n"
     ]
    },
    {
     "name": "stdout",
     "output_type": "stream",
     "text": [
      "EvaluatorHoldout: Processed 10437 (100.0%) in 7.00 sec. Users per second: 1491\n",
      "EvaluatorHoldout: Processed 10532 (100.0%) in 7.06 sec. Users per second: 1491\n",
      "EvaluatorHoldout: Processed 10466 (100.0%) in 7.18 sec. Users per second: 1457\n"
     ]
    },
    {
     "name": "stderr",
     "output_type": "stream",
     "text": [
      "[I 2023-12-11 15:31:28,579] Trial 43 finished with value: 0.04193944919983214 and parameters: {'topK': 38, 'alpha': 0.764414316918925}. Best is trial 42 with value: 0.04240242881329453.\n"
     ]
    },
    {
     "name": "stdout",
     "output_type": "stream",
     "text": [
      "EvaluatorHoldout: Processed 10437 (100.0%) in 7.11 sec. Users per second: 1468\n",
      "EvaluatorHoldout: Processed 10532 (100.0%) in 7.24 sec. Users per second: 1454\n",
      "EvaluatorHoldout: Processed 10466 (100.0%) in 7.18 sec. Users per second: 1457\n"
     ]
    },
    {
     "name": "stderr",
     "output_type": "stream",
     "text": [
      "[I 2023-12-11 15:32:09,878] Trial 44 finished with value: 0.041354404708719504 and parameters: {'topK': 51, 'alpha': 0.7147463790646712}. Best is trial 42 with value: 0.04240242881329453.\n"
     ]
    },
    {
     "name": "stdout",
     "output_type": "stream",
     "text": [
      "EvaluatorHoldout: Processed 10437 (100.0%) in 7.08 sec. Users per second: 1475\n",
      "EvaluatorHoldout: Processed 10532 (100.0%) in 7.14 sec. Users per second: 1475\n",
      "EvaluatorHoldout: Processed 10466 (100.0%) in 7.16 sec. Users per second: 1462\n"
     ]
    },
    {
     "name": "stderr",
     "output_type": "stream",
     "text": [
      "[I 2023-12-11 15:32:49,490] Trial 45 finished with value: 0.04233168990318456 and parameters: {'topK': 37, 'alpha': 0.7459505757956634}. Best is trial 42 with value: 0.04240242881329453.\n"
     ]
    },
    {
     "name": "stdout",
     "output_type": "stream",
     "text": [
      "EvaluatorHoldout: Processed 10437 (100.0%) in 7.06 sec. Users per second: 1477\n",
      "EvaluatorHoldout: Processed 10532 (100.0%) in 7.18 sec. Users per second: 1468\n",
      "EvaluatorHoldout: Processed 10466 (100.0%) in 7.01 sec. Users per second: 1492\n"
     ]
    },
    {
     "name": "stderr",
     "output_type": "stream",
     "text": [
      "[I 2023-12-11 15:33:27,673] Trial 46 finished with value: 0.04088617848421633 and parameters: {'topK': 29, 'alpha': 0.7694718264124821}. Best is trial 42 with value: 0.04240242881329453.\n"
     ]
    },
    {
     "name": "stdout",
     "output_type": "stream",
     "text": [
      "EvaluatorHoldout: Processed 10437 (100.0%) in 7.07 sec. Users per second: 1476\n",
      "EvaluatorHoldout: Processed 10532 (100.0%) in 6.98 sec. Users per second: 1509\n",
      "EvaluatorHoldout: Processed 10466 (100.0%) in 6.96 sec. Users per second: 1504\n"
     ]
    },
    {
     "name": "stderr",
     "output_type": "stream",
     "text": [
      "[I 2023-12-11 15:34:06,407] Trial 47 finished with value: 0.04217281314810622 and parameters: {'topK': 35, 'alpha': 0.7516019731492}. Best is trial 42 with value: 0.04240242881329453.\n"
     ]
    },
    {
     "name": "stdout",
     "output_type": "stream",
     "text": [
      "EvaluatorHoldout: Processed 10437 (100.0%) in 6.96 sec. Users per second: 1499\n",
      "EvaluatorHoldout: Processed 10532 (100.0%) in 7.03 sec. Users per second: 1499\n",
      "EvaluatorHoldout: Processed 10466 (100.0%) in 7.04 sec. Users per second: 1486\n"
     ]
    },
    {
     "name": "stderr",
     "output_type": "stream",
     "text": [
      "[I 2023-12-11 15:34:43,363] Trial 48 finished with value: 0.04154398146400737 and parameters: {'topK': 18, 'alpha': 0.695456512685991}. Best is trial 42 with value: 0.04240242881329453.\n"
     ]
    },
    {
     "name": "stdout",
     "output_type": "stream",
     "text": [
      "EvaluatorHoldout: Processed 10437 (100.0%) in 7.09 sec. Users per second: 1471\n",
      "EvaluatorHoldout: Processed 10532 (100.0%) in 7.24 sec. Users per second: 1455\n",
      "EvaluatorHoldout: Processed 10466 (100.0%) in 7.05 sec. Users per second: 1485\n"
     ]
    },
    {
     "name": "stderr",
     "output_type": "stream",
     "text": [
      "[I 2023-12-11 15:35:22,870] Trial 49 finished with value: 0.041607023062764224 and parameters: {'topK': 38, 'alpha': 0.7084410489187437}. Best is trial 42 with value: 0.04240242881329453.\n"
     ]
    },
    {
     "name": "stdout",
     "output_type": "stream",
     "text": [
      "EvaluatorHoldout: Processed 10437 (100.0%) in 7.09 sec. Users per second: 1473\n",
      "EvaluatorHoldout: Processed 10532 (100.0%) in 7.17 sec. Users per second: 1470\n",
      "EvaluatorHoldout: Processed 10466 (100.0%) in 7.22 sec. Users per second: 1450\n"
     ]
    },
    {
     "name": "stderr",
     "output_type": "stream",
     "text": [
      "[I 2023-12-11 15:36:04,789] Trial 50 finished with value: 0.042257193417529836 and parameters: {'topK': 58, 'alpha': 0.7488767590922366}. Best is trial 42 with value: 0.04240242881329453.\n"
     ]
    },
    {
     "name": "stdout",
     "output_type": "stream",
     "text": [
      "EvaluatorHoldout: Processed 10437 (100.0%) in 7.08 sec. Users per second: 1474\n",
      "EvaluatorHoldout: Processed 10532 (100.0%) in 7.09 sec. Users per second: 1486\n",
      "EvaluatorHoldout: Processed 10466 (100.0%) in 7.17 sec. Users per second: 1459\n"
     ]
    },
    {
     "name": "stderr",
     "output_type": "stream",
     "text": [
      "[I 2023-12-11 15:36:44,982] Trial 51 finished with value: 0.04239734458661012 and parameters: {'topK': 44, 'alpha': 0.7388593536266563}. Best is trial 42 with value: 0.04240242881329453.\n"
     ]
    },
    {
     "name": "stdout",
     "output_type": "stream",
     "text": [
      "EvaluatorHoldout: Processed 10437 (100.0%) in 7.13 sec. Users per second: 1464\n",
      "EvaluatorHoldout: Processed 10532 (100.0%) in 7.17 sec. Users per second: 1468\n",
      "EvaluatorHoldout: Processed 10466 (100.0%) in 6.98 sec. Users per second: 1500\n"
     ]
    },
    {
     "name": "stderr",
     "output_type": "stream",
     "text": [
      "[I 2023-12-11 15:37:25,000] Trial 52 finished with value: 0.0420002645720511 and parameters: {'topK': 42, 'alpha': 0.7688405813754311}. Best is trial 42 with value: 0.04240242881329453.\n"
     ]
    },
    {
     "name": "stdout",
     "output_type": "stream",
     "text": [
      "EvaluatorHoldout: Processed 10437 (100.0%) in 7.23 sec. Users per second: 1444\n",
      "EvaluatorHoldout: Processed 10532 (100.0%) in 7.02 sec. Users per second: 1500\n",
      "EvaluatorHoldout: Processed 10466 (100.0%) in 7.07 sec. Users per second: 1479\n"
     ]
    },
    {
     "name": "stderr",
     "output_type": "stream",
     "text": [
      "[I 2023-12-11 15:38:04,615] Trial 53 finished with value: 0.04214017768391349 and parameters: {'topK': 38, 'alpha': 0.7250706341972384}. Best is trial 42 with value: 0.04240242881329453.\n"
     ]
    },
    {
     "name": "stdout",
     "output_type": "stream",
     "text": [
      "EvaluatorHoldout: Processed 10437 (100.0%) in 7.11 sec. Users per second: 1468\n",
      "EvaluatorHoldout: Processed 10532 (100.0%) in 7.39 sec. Users per second: 1425\n",
      "EvaluatorHoldout: Processed 10466 (100.0%) in 7.20 sec. Users per second: 1453\n"
     ]
    },
    {
     "name": "stderr",
     "output_type": "stream",
     "text": [
      "[I 2023-12-11 15:38:45,885] Trial 54 finished with value: 0.041177729336685016 and parameters: {'topK': 51, 'alpha': 0.7879388891403778}. Best is trial 42 with value: 0.04240242881329453.\n"
     ]
    },
    {
     "name": "stdout",
     "output_type": "stream",
     "text": [
      "EvaluatorHoldout: Processed 10437 (100.0%) in 7.00 sec. Users per second: 1491\n",
      "EvaluatorHoldout: Processed 10532 (100.0%) in 7.17 sec. Users per second: 1468\n",
      "EvaluatorHoldout: Processed 10466 (100.0%) in 7.08 sec. Users per second: 1477\n"
     ]
    },
    {
     "name": "stderr",
     "output_type": "stream",
     "text": [
      "[I 2023-12-11 15:39:24,484] Trial 55 finished with value: 0.04198816715062539 and parameters: {'topK': 30, 'alpha': 0.7147414267163525}. Best is trial 42 with value: 0.04240242881329453.\n"
     ]
    },
    {
     "name": "stdout",
     "output_type": "stream",
     "text": [
      "EvaluatorHoldout: Processed 10437 (100.0%) in 7.06 sec. Users per second: 1479\n",
      "EvaluatorHoldout: Processed 10532 (100.0%) in 7.21 sec. Users per second: 1461\n",
      "EvaluatorHoldout: Processed 10466 (100.0%) in 7.29 sec. Users per second: 1436\n"
     ]
    },
    {
     "name": "stderr",
     "output_type": "stream",
     "text": [
      "[I 2023-12-11 15:40:04,803] Trial 56 finished with value: 0.04231677719669602 and parameters: {'topK': 44, 'alpha': 0.7509212687493108}. Best is trial 42 with value: 0.04240242881329453.\n"
     ]
    },
    {
     "name": "stdout",
     "output_type": "stream",
     "text": [
      "EvaluatorHoldout: Processed 10437 (100.0%) in 7.31 sec. Users per second: 1428\n",
      "EvaluatorHoldout: Processed 10532 (100.0%) in 7.36 sec. Users per second: 1430\n",
      "EvaluatorHoldout: Processed 10466 (100.0%) in 7.31 sec. Users per second: 1432\n"
     ]
    },
    {
     "name": "stderr",
     "output_type": "stream",
     "text": [
      "[I 2023-12-11 15:40:51,964] Trial 57 finished with value: 0.04164411534377175 and parameters: {'topK': 99, 'alpha': 0.8042381568718571}. Best is trial 42 with value: 0.04240242881329453.\n"
     ]
    },
    {
     "name": "stdout",
     "output_type": "stream",
     "text": [
      "EvaluatorHoldout: Processed 10437 (100.0%) in 7.13 sec. Users per second: 1464\n",
      "EvaluatorHoldout: Processed 10532 (100.0%) in 7.21 sec. Users per second: 1461\n",
      "EvaluatorHoldout: Processed 10466 (100.0%) in 7.26 sec. Users per second: 1441\n"
     ]
    },
    {
     "name": "stderr",
     "output_type": "stream",
     "text": [
      "[I 2023-12-11 15:41:32,406] Trial 58 finished with value: 0.041579773679842565 and parameters: {'topK': 43, 'alpha': 0.7766767061789476}. Best is trial 42 with value: 0.04240242881329453.\n"
     ]
    },
    {
     "name": "stdout",
     "output_type": "stream",
     "text": [
      "EvaluatorHoldout: Processed 10437 (100.0%) in 7.05 sec. Users per second: 1480\n",
      "EvaluatorHoldout: Processed 10532 (100.0%) in 7.18 sec. Users per second: 1468\n",
      "EvaluatorHoldout: Processed 10466 (100.0%) in 7.09 sec. Users per second: 1477\n"
     ]
    },
    {
     "name": "stderr",
     "output_type": "stream",
     "text": [
      "[I 2023-12-11 15:42:11,792] Trial 59 finished with value: 0.04225153244578939 and parameters: {'topK': 36, 'alpha': 0.7527831005748589}. Best is trial 42 with value: 0.04240242881329453.\n"
     ]
    },
    {
     "name": "stdout",
     "output_type": "stream",
     "text": [
      "EvaluatorHoldout: Processed 10437 (100.0%) in 7.12 sec. Users per second: 1467\n",
      "EvaluatorHoldout: Processed 10532 (100.0%) in 7.10 sec. Users per second: 1483\n",
      "EvaluatorHoldout: Processed 10466 (100.0%) in 7.05 sec. Users per second: 1485\n"
     ]
    },
    {
     "name": "stderr",
     "output_type": "stream",
     "text": [
      "[I 2023-12-11 15:42:49,798] Trial 60 finished with value: 0.04207344438876957 and parameters: {'topK': 26, 'alpha': 0.722382425323791}. Best is trial 42 with value: 0.04240242881329453.\n"
     ]
    },
    {
     "name": "stdout",
     "output_type": "stream",
     "text": [
      "EvaluatorHoldout: Processed 10437 (100.0%) in 7.12 sec. Users per second: 1465\n",
      "EvaluatorHoldout: Processed 10532 (100.0%) in 7.07 sec. Users per second: 1489\n",
      "EvaluatorHoldout: Processed 10466 (100.0%) in 7.16 sec. Users per second: 1463\n"
     ]
    },
    {
     "name": "stderr",
     "output_type": "stream",
     "text": [
      "[I 2023-12-11 15:43:30,069] Trial 61 finished with value: 0.04223444971328429 and parameters: {'topK': 47, 'alpha': 0.7413572112988425}. Best is trial 42 with value: 0.04240242881329453.\n"
     ]
    },
    {
     "name": "stdout",
     "output_type": "stream",
     "text": [
      "EvaluatorHoldout: Processed 10437 (100.0%) in 7.03 sec. Users per second: 1485\n",
      "EvaluatorHoldout: Processed 10532 (100.0%) in 7.26 sec. Users per second: 1451\n",
      "EvaluatorHoldout: Processed 10466 (100.0%) in 7.12 sec. Users per second: 1471\n"
     ]
    },
    {
     "name": "stderr",
     "output_type": "stream",
     "text": [
      "[I 2023-12-11 15:44:09,741] Trial 62 finished with value: 0.04236993131834068 and parameters: {'topK': 40, 'alpha': 0.7412715276781637}. Best is trial 42 with value: 0.04240242881329453.\n"
     ]
    },
    {
     "name": "stdout",
     "output_type": "stream",
     "text": [
      "EvaluatorHoldout: Processed 10437 (100.0%) in 7.08 sec. Users per second: 1474\n",
      "EvaluatorHoldout: Processed 10532 (100.0%) in 7.35 sec. Users per second: 1433\n",
      "EvaluatorHoldout: Processed 10466 (100.0%) in 7.05 sec. Users per second: 1484\n"
     ]
    },
    {
     "name": "stderr",
     "output_type": "stream",
     "text": [
      "[I 2023-12-11 15:44:49,489] Trial 63 finished with value: 0.042005381655437525 and parameters: {'topK': 40, 'alpha': 0.7665086956267584}. Best is trial 42 with value: 0.04240242881329453.\n"
     ]
    },
    {
     "name": "stdout",
     "output_type": "stream",
     "text": [
      "EvaluatorHoldout: Processed 10437 (100.0%) in 7.20 sec. Users per second: 1449\n",
      "EvaluatorHoldout: Processed 10532 (100.0%) in 7.13 sec. Users per second: 1477\n",
      "EvaluatorHoldout: Processed 10466 (100.0%) in 7.29 sec. Users per second: 1436\n"
     ]
    },
    {
     "name": "stderr",
     "output_type": "stream",
     "text": [
      "[I 2023-12-11 15:45:29,876] Trial 64 finished with value: 0.04096798702421764 and parameters: {'topK': 44, 'alpha': 0.7020196510861938}. Best is trial 42 with value: 0.04240242881329453.\n"
     ]
    },
    {
     "name": "stdout",
     "output_type": "stream",
     "text": [
      "EvaluatorHoldout: Processed 10437 (100.0%) in 7.04 sec. Users per second: 1483\n",
      "EvaluatorHoldout: Processed 10532 (100.0%) in 7.16 sec. Users per second: 1471\n",
      "EvaluatorHoldout: Processed 10466 (100.0%) in 7.09 sec. Users per second: 1476\n"
     ]
    },
    {
     "name": "stderr",
     "output_type": "stream",
     "text": [
      "[I 2023-12-11 15:46:08,706] Trial 65 finished with value: 0.042340897745989314 and parameters: {'topK': 32, 'alpha': 0.7396566723858672}. Best is trial 42 with value: 0.04240242881329453.\n"
     ]
    },
    {
     "name": "stdout",
     "output_type": "stream",
     "text": [
      "EvaluatorHoldout: Processed 10437 (100.0%) in 7.01 sec. Users per second: 1488\n",
      "EvaluatorHoldout: Processed 10532 (100.0%) in 7.00 sec. Users per second: 1504\n",
      "EvaluatorHoldout: Processed 10466 (100.0%) in 7.00 sec. Users per second: 1494\n"
     ]
    },
    {
     "name": "stderr",
     "output_type": "stream",
     "text": [
      "[I 2023-12-11 15:46:45,881] Trial 66 finished with value: 0.041277663891848275 and parameters: {'topK': 19, 'alpha': 0.7352478860546683}. Best is trial 42 with value: 0.04240242881329453.\n"
     ]
    },
    {
     "name": "stdout",
     "output_type": "stream",
     "text": [
      "EvaluatorHoldout: Processed 10437 (100.0%) in 7.05 sec. Users per second: 1480\n",
      "EvaluatorHoldout: Processed 10532 (100.0%) in 7.13 sec. Users per second: 1476\n",
      "EvaluatorHoldout: Processed 10466 (100.0%) in 7.03 sec. Users per second: 1489\n"
     ]
    },
    {
     "name": "stderr",
     "output_type": "stream",
     "text": [
      "[I 2023-12-11 15:47:24,343] Trial 67 finished with value: 0.04218154075685052 and parameters: {'topK': 31, 'alpha': 0.721950202296327}. Best is trial 42 with value: 0.04240242881329453.\n"
     ]
    },
    {
     "name": "stdout",
     "output_type": "stream",
     "text": [
      "EvaluatorHoldout: Processed 10437 (100.0%) in 7.15 sec. Users per second: 1459\n",
      "EvaluatorHoldout: Processed 10532 (100.0%) in 7.11 sec. Users per second: 1481\n",
      "EvaluatorHoldout: Processed 10466 (100.0%) in 7.19 sec. Users per second: 1456\n"
     ]
    },
    {
     "name": "stderr",
     "output_type": "stream",
     "text": [
      "[I 2023-12-11 15:48:03,790] Trial 68 finished with value: 0.040543900535543784 and parameters: {'topK': 37, 'alpha': 0.7864938021267746}. Best is trial 42 with value: 0.04240242881329453.\n"
     ]
    },
    {
     "name": "stdout",
     "output_type": "stream",
     "text": [
      "EvaluatorHoldout: Processed 10437 (100.0%) in 7.02 sec. Users per second: 1486\n",
      "EvaluatorHoldout: Processed 10532 (100.0%) in 7.10 sec. Users per second: 1484\n",
      "EvaluatorHoldout: Processed 10466 (100.0%) in 7.04 sec. Users per second: 1486\n"
     ]
    },
    {
     "name": "stderr",
     "output_type": "stream",
     "text": [
      "[I 2023-12-11 15:48:42,518] Trial 69 finished with value: 0.04166112741720487 and parameters: {'topK': 32, 'alpha': 0.7598000264092623}. Best is trial 42 with value: 0.04240242881329453.\n"
     ]
    },
    {
     "name": "stdout",
     "output_type": "stream",
     "text": [
      "EvaluatorHoldout: Processed 10437 (100.0%) in 7.05 sec. Users per second: 1480\n",
      "EvaluatorHoldout: Processed 10532 (100.0%) in 7.14 sec. Users per second: 1476\n",
      "EvaluatorHoldout: Processed 10466 (100.0%) in 7.08 sec. Users per second: 1477\n"
     ]
    },
    {
     "name": "stderr",
     "output_type": "stream",
     "text": [
      "[I 2023-12-11 15:49:22,465] Trial 70 finished with value: 0.0407056627142515 and parameters: {'topK': 41, 'alpha': 0.693250147805425}. Best is trial 42 with value: 0.04240242881329453.\n"
     ]
    },
    {
     "name": "stdout",
     "output_type": "stream",
     "text": [
      "EvaluatorHoldout: Processed 10437 (100.0%) in 7.19 sec. Users per second: 1452\n",
      "EvaluatorHoldout: Processed 10532 (100.0%) in 7.17 sec. Users per second: 1470\n",
      "EvaluatorHoldout: Processed 10466 (100.0%) in 7.17 sec. Users per second: 1460\n"
     ]
    },
    {
     "name": "stderr",
     "output_type": "stream",
     "text": [
      "[I 2023-12-11 15:50:03,357] Trial 71 finished with value: 0.04228916441469096 and parameters: {'topK': 49, 'alpha': 0.7450786981412251}. Best is trial 42 with value: 0.04240242881329453.\n"
     ]
    },
    {
     "name": "stdout",
     "output_type": "stream",
     "text": [
      "EvaluatorHoldout: Processed 10437 (100.0%) in 7.14 sec. Users per second: 1462\n",
      "EvaluatorHoldout: Processed 10532 (100.0%) in 7.12 sec. Users per second: 1479\n",
      "EvaluatorHoldout: Processed 10466 (100.0%) in 7.45 sec. Users per second: 1406\n"
     ]
    },
    {
     "name": "stderr",
     "output_type": "stream",
     "text": [
      "[I 2023-12-11 15:50:44,132] Trial 72 finished with value: 0.04230447832507352 and parameters: {'topK': 45, 'alpha': 0.7397982875734915}. Best is trial 42 with value: 0.04240242881329453.\n"
     ]
    },
    {
     "name": "stdout",
     "output_type": "stream",
     "text": [
      "EvaluatorHoldout: Processed 10437 (100.0%) in 7.12 sec. Users per second: 1466\n",
      "EvaluatorHoldout: Processed 10532 (100.0%) in 7.18 sec. Users per second: 1467\n",
      "EvaluatorHoldout: Processed 10466 (100.0%) in 7.22 sec. Users per second: 1450\n"
     ]
    },
    {
     "name": "stderr",
     "output_type": "stream",
     "text": [
      "[I 2023-12-11 15:51:25,300] Trial 73 finished with value: 0.04125322900352851 and parameters: {'topK': 53, 'alpha': 0.7147834013424084}. Best is trial 42 with value: 0.04240242881329453.\n"
     ]
    },
    {
     "name": "stdout",
     "output_type": "stream",
     "text": [
      "EvaluatorHoldout: Processed 10437 (100.0%) in 7.07 sec. Users per second: 1477\n",
      "EvaluatorHoldout: Processed 10532 (100.0%) in 7.19 sec. Users per second: 1464\n",
      "EvaluatorHoldout: Processed 10466 (100.0%) in 7.12 sec. Users per second: 1469\n"
     ]
    },
    {
     "name": "stderr",
     "output_type": "stream",
     "text": [
      "[I 2023-12-11 15:52:04,510] Trial 74 finished with value: 0.042278492941323575 and parameters: {'topK': 35, 'alpha': 0.7348162495437754}. Best is trial 42 with value: 0.04240242881329453.\n"
     ]
    },
    {
     "name": "stdout",
     "output_type": "stream",
     "text": [
      "EvaluatorHoldout: Processed 10437 (100.0%) in 7.07 sec. Users per second: 1477\n",
      "EvaluatorHoldout: Processed 10532 (100.0%) in 7.17 sec. Users per second: 1469\n",
      "EvaluatorHoldout: Processed 10466 (100.0%) in 7.13 sec. Users per second: 1467\n"
     ]
    },
    {
     "name": "stderr",
     "output_type": "stream",
     "text": [
      "[I 2023-12-11 15:52:44,701] Trial 75 finished with value: 0.04231255559949478 and parameters: {'topK': 45, 'alpha': 0.7555245243042973}. Best is trial 42 with value: 0.04240242881329453.\n"
     ]
    },
    {
     "name": "stdout",
     "output_type": "stream",
     "text": [
      "EvaluatorHoldout: Processed 10437 (100.0%) in 6.96 sec. Users per second: 1500\n",
      "EvaluatorHoldout: Processed 10532 (100.0%) in 7.13 sec. Users per second: 1477\n",
      "EvaluatorHoldout: Processed 10466 (100.0%) in 7.10 sec. Users per second: 1473\n"
     ]
    },
    {
     "name": "stderr",
     "output_type": "stream",
     "text": [
      "[I 2023-12-11 15:53:22,784] Trial 76 finished with value: 0.041435218955326654 and parameters: {'topK': 27, 'alpha': 0.7553943029571752}. Best is trial 42 with value: 0.04240242881329453.\n"
     ]
    },
    {
     "name": "stdout",
     "output_type": "stream",
     "text": [
      "EvaluatorHoldout: Processed 10437 (100.0%) in 7.07 sec. Users per second: 1476\n",
      "EvaluatorHoldout: Processed 10532 (100.0%) in 7.18 sec. Users per second: 1467\n",
      "EvaluatorHoldout: Processed 10466 (100.0%) in 7.17 sec. Users per second: 1459\n"
     ]
    },
    {
     "name": "stderr",
     "output_type": "stream",
     "text": [
      "[I 2023-12-11 15:54:02,706] Trial 77 finished with value: 0.041430558530248664 and parameters: {'topK': 40, 'alpha': 0.7763871975251899}. Best is trial 42 with value: 0.04240242881329453.\n"
     ]
    },
    {
     "name": "stdout",
     "output_type": "stream",
     "text": [
      "EvaluatorHoldout: Processed 10437 (100.0%) in 6.99 sec. Users per second: 1492\n",
      "EvaluatorHoldout: Processed 10532 (100.0%) in 7.12 sec. Users per second: 1480\n",
      "EvaluatorHoldout: Processed 10466 (100.0%) in 7.02 sec. Users per second: 1491\n"
     ]
    },
    {
     "name": "stderr",
     "output_type": "stream",
     "text": [
      "[I 2023-12-11 15:54:41,353] Trial 78 finished with value: 0.04170478818798753 and parameters: {'topK': 33, 'alpha': 0.7616214562678774}. Best is trial 42 with value: 0.04240242881329453.\n"
     ]
    },
    {
     "name": "stdout",
     "output_type": "stream",
     "text": [
      "EvaluatorHoldout: Processed 10437 (100.0%) in 7.18 sec. Users per second: 1453\n",
      "EvaluatorHoldout: Processed 10532 (100.0%) in 7.15 sec. Users per second: 1472\n",
      "EvaluatorHoldout: Processed 10466 (100.0%) in 7.28 sec. Users per second: 1438\n"
     ]
    },
    {
     "name": "stderr",
     "output_type": "stream",
     "text": [
      "[I 2023-12-11 15:55:22,105] Trial 79 finished with value: 0.04193254854230561 and parameters: {'topK': 48, 'alpha': 0.7313318745601677}. Best is trial 42 with value: 0.04240242881329453.\n"
     ]
    },
    {
     "name": "stdout",
     "output_type": "stream",
     "text": [
      "EvaluatorHoldout: Processed 10437 (100.0%) in 7.22 sec. Users per second: 1446\n",
      "EvaluatorHoldout: Processed 10532 (100.0%) in 7.19 sec. Users per second: 1466\n",
      "EvaluatorHoldout: Processed 10466 (100.0%) in 7.22 sec. Users per second: 1450\n"
     ]
    },
    {
     "name": "stderr",
     "output_type": "stream",
     "text": [
      "[I 2023-12-11 15:56:03,356] Trial 80 finished with value: 0.04118106261790442 and parameters: {'topK': 52, 'alpha': 0.7120252779551252}. Best is trial 42 with value: 0.04240242881329453.\n"
     ]
    },
    {
     "name": "stdout",
     "output_type": "stream",
     "text": [
      "EvaluatorHoldout: Processed 10437 (100.0%) in 7.09 sec. Users per second: 1472\n",
      "EvaluatorHoldout: Processed 10532 (100.0%) in 7.13 sec. Users per second: 1476\n",
      "EvaluatorHoldout: Processed 10466 (100.0%) in 7.27 sec. Users per second: 1440\n"
     ]
    },
    {
     "name": "stderr",
     "output_type": "stream",
     "text": [
      "[I 2023-12-11 15:56:43,662] Trial 81 finished with value: 0.04228570761367515 and parameters: {'topK': 44, 'alpha': 0.7439679714158767}. Best is trial 42 with value: 0.04240242881329453.\n"
     ]
    },
    {
     "name": "stdout",
     "output_type": "stream",
     "text": [
      "EvaluatorHoldout: Processed 10437 (100.0%) in 7.26 sec. Users per second: 1437\n",
      "EvaluatorHoldout: Processed 10532 (100.0%) in 7.17 sec. Users per second: 1468\n",
      "EvaluatorHoldout: Processed 10466 (100.0%) in 7.20 sec. Users per second: 1454\n"
     ]
    },
    {
     "name": "stderr",
     "output_type": "stream",
     "text": [
      "[I 2023-12-11 15:57:24,225] Trial 82 finished with value: 0.04231834834823073 and parameters: {'topK': 45, 'alpha': 0.7539002902372627}. Best is trial 42 with value: 0.04240242881329453.\n"
     ]
    },
    {
     "name": "stdout",
     "output_type": "stream",
     "text": [
      "EvaluatorHoldout: Processed 10437 (100.0%) in 7.07 sec. Users per second: 1477\n",
      "EvaluatorHoldout: Processed 10532 (100.0%) in 7.23 sec. Users per second: 1456\n",
      "EvaluatorHoldout: Processed 10466 (100.0%) in 7.07 sec. Users per second: 1481\n"
     ]
    },
    {
     "name": "stderr",
     "output_type": "stream",
     "text": [
      "[I 2023-12-11 15:58:05,939] Trial 83 finished with value: 0.04223685279550177 and parameters: {'topK': 57, 'alpha': 0.7543677079655089}. Best is trial 42 with value: 0.04240242881329453.\n"
     ]
    },
    {
     "name": "stdout",
     "output_type": "stream",
     "text": [
      "EvaluatorHoldout: Processed 10437 (100.0%) in 7.08 sec. Users per second: 1474\n",
      "EvaluatorHoldout: Processed 10532 (100.0%) in 7.18 sec. Users per second: 1467\n",
      "EvaluatorHoldout: Processed 10466 (100.0%) in 7.02 sec. Users per second: 1490\n"
     ]
    },
    {
     "name": "stderr",
     "output_type": "stream",
     "text": [
      "[I 2023-12-11 15:58:45,506] Trial 84 finished with value: 0.041654900700385154 and parameters: {'topK': 40, 'alpha': 0.7725245198506906}. Best is trial 42 with value: 0.04240242881329453.\n"
     ]
    },
    {
     "name": "stdout",
     "output_type": "stream",
     "text": [
      "EvaluatorHoldout: Processed 10437 (100.0%) in 6.99 sec. Users per second: 1493\n",
      "EvaluatorHoldout: Processed 10532 (100.0%) in 7.12 sec. Users per second: 1480\n",
      "EvaluatorHoldout: Processed 10466 (100.0%) in 7.12 sec. Users per second: 1469\n"
     ]
    },
    {
     "name": "stderr",
     "output_type": "stream",
     "text": [
      "[I 2023-12-11 15:59:24,776] Trial 85 finished with value: 0.04228048419385679 and parameters: {'topK': 37, 'alpha': 0.7283546444726956}. Best is trial 42 with value: 0.04240242881329453.\n"
     ]
    },
    {
     "name": "stdout",
     "output_type": "stream",
     "text": [
      "EvaluatorHoldout: Processed 10437 (100.0%) in 6.92 sec. Users per second: 1508\n",
      "EvaluatorHoldout: Processed 10532 (100.0%) in 7.08 sec. Users per second: 1487\n",
      "EvaluatorHoldout: Processed 10466 (100.0%) in 6.93 sec. Users per second: 1511\n"
     ]
    },
    {
     "name": "stderr",
     "output_type": "stream",
     "text": [
      "[I 2023-12-11 16:00:02,460] Trial 86 finished with value: 0.040429215716768316 and parameters: {'topK': 23, 'alpha': 0.7634564962431588}. Best is trial 42 with value: 0.04240242881329453.\n"
     ]
    },
    {
     "name": "stdout",
     "output_type": "stream",
     "text": [
      "EvaluatorHoldout: Processed 10437 (100.0%) in 7.09 sec. Users per second: 1472\n",
      "EvaluatorHoldout: Processed 10532 (100.0%) in 7.38 sec. Users per second: 1426\n",
      "EvaluatorHoldout: Processed 10466 (100.0%) in 7.13 sec. Users per second: 1467\n"
     ]
    },
    {
     "name": "stderr",
     "output_type": "stream",
     "text": [
      "[I 2023-12-11 16:00:47,309] Trial 87 finished with value: 0.04178369276248711 and parameters: {'topK': 83, 'alpha': 0.7921784472500579}. Best is trial 42 with value: 0.04240242881329453.\n"
     ]
    },
    {
     "name": "stdout",
     "output_type": "stream",
     "text": [
      "EvaluatorHoldout: Processed 10437 (100.0%) in 7.11 sec. Users per second: 1467\n",
      "EvaluatorHoldout: Processed 10532 (100.0%) in 7.16 sec. Users per second: 1470\n",
      "EvaluatorHoldout: Processed 10466 (100.0%) in 7.12 sec. Users per second: 1469\n"
     ]
    },
    {
     "name": "stderr",
     "output_type": "stream",
     "text": [
      "[I 2023-12-11 16:01:27,771] Trial 88 finished with value: 0.04170199769762873 and parameters: {'topK': 46, 'alpha': 0.7777320426250128}. Best is trial 42 with value: 0.04240242881329453.\n"
     ]
    },
    {
     "name": "stdout",
     "output_type": "stream",
     "text": [
      "EvaluatorHoldout: Processed 10437 (100.0%) in 7.00 sec. Users per second: 1491\n",
      "EvaluatorHoldout: Processed 10532 (100.0%) in 7.05 sec. Users per second: 1495\n",
      "EvaluatorHoldout: Processed 10466 (100.0%) in 7.05 sec. Users per second: 1485\n"
     ]
    },
    {
     "name": "stderr",
     "output_type": "stream",
     "text": [
      "[I 2023-12-11 16:02:06,625] Trial 89 finished with value: 0.042327201748256806 and parameters: {'topK': 35, 'alpha': 0.7473697183441519}. Best is trial 42 with value: 0.04240242881329453.\n"
     ]
    },
    {
     "name": "stdout",
     "output_type": "stream",
     "text": [
      "EvaluatorHoldout: Processed 10437 (100.0%) in 7.15 sec. Users per second: 1461\n",
      "EvaluatorHoldout: Processed 10532 (100.0%) in 7.15 sec. Users per second: 1474\n",
      "EvaluatorHoldout: Processed 10466 (100.0%) in 7.18 sec. Users per second: 1458\n"
     ]
    },
    {
     "name": "stderr",
     "output_type": "stream",
     "text": [
      "[I 2023-12-11 16:02:45,793] Trial 90 finished with value: 0.04203099780755495 and parameters: {'topK': 35, 'alpha': 0.7573397330728637}. Best is trial 42 with value: 0.04240242881329453.\n"
     ]
    },
    {
     "name": "stdout",
     "output_type": "stream",
     "text": [
      "EvaluatorHoldout: Processed 10437 (100.0%) in 7.07 sec. Users per second: 1476\n",
      "EvaluatorHoldout: Processed 10532 (100.0%) in 7.13 sec. Users per second: 1477\n",
      "EvaluatorHoldout: Processed 10466 (100.0%) in 7.01 sec. Users per second: 1493\n"
     ]
    },
    {
     "name": "stderr",
     "output_type": "stream",
     "text": [
      "[I 2023-12-11 16:03:25,481] Trial 91 finished with value: 0.042364899386085675 and parameters: {'topK': 41, 'alpha': 0.7406369014661404}. Best is trial 42 with value: 0.04240242881329453.\n"
     ]
    },
    {
     "name": "stdout",
     "output_type": "stream",
     "text": [
      "EvaluatorHoldout: Processed 10437 (100.0%) in 7.08 sec. Users per second: 1474\n",
      "EvaluatorHoldout: Processed 10532 (100.0%) in 7.12 sec. Users per second: 1479\n",
      "EvaluatorHoldout: Processed 10466 (100.0%) in 7.12 sec. Users per second: 1471\n"
     ]
    },
    {
     "name": "stderr",
     "output_type": "stream",
     "text": [
      "[I 2023-12-11 16:04:05,201] Trial 92 finished with value: 0.04234519691862736 and parameters: {'topK': 39, 'alpha': 0.7505139268218}. Best is trial 42 with value: 0.04240242881329453.\n"
     ]
    },
    {
     "name": "stdout",
     "output_type": "stream",
     "text": [
      "EvaluatorHoldout: Processed 10437 (100.0%) in 7.06 sec. Users per second: 1479\n",
      "EvaluatorHoldout: Processed 10532 (100.0%) in 7.11 sec. Users per second: 1481\n",
      "EvaluatorHoldout: Processed 10466 (100.0%) in 7.19 sec. Users per second: 1456\n"
     ]
    },
    {
     "name": "stderr",
     "output_type": "stream",
     "text": [
      "[I 2023-12-11 16:04:45,139] Trial 93 finished with value: 0.04184384574937877 and parameters: {'topK': 42, 'alpha': 0.7226824580446418}. Best is trial 42 with value: 0.04240242881329453.\n"
     ]
    },
    {
     "name": "stdout",
     "output_type": "stream",
     "text": [
      "EvaluatorHoldout: Processed 10437 (100.0%) in 7.04 sec. Users per second: 1483\n",
      "EvaluatorHoldout: Processed 10532 (100.0%) in 7.16 sec. Users per second: 1471\n",
      "EvaluatorHoldout: Processed 10466 (100.0%) in 7.09 sec. Users per second: 1477\n"
     ]
    },
    {
     "name": "stderr",
     "output_type": "stream",
     "text": [
      "[I 2023-12-11 16:05:23,955] Trial 94 finished with value: 0.04222765838506726 and parameters: {'topK': 33, 'alpha': 0.748398372242047}. Best is trial 42 with value: 0.04240242881329453.\n"
     ]
    },
    {
     "name": "stdout",
     "output_type": "stream",
     "text": [
      "EvaluatorHoldout: Processed 10437 (100.0%) in 7.12 sec. Users per second: 1466\n",
      "EvaluatorHoldout: Processed 10532 (100.0%) in 7.17 sec. Users per second: 1468\n",
      "EvaluatorHoldout: Processed 10466 (100.0%) in 7.20 sec. Users per second: 1455\n"
     ]
    },
    {
     "name": "stderr",
     "output_type": "stream",
     "text": [
      "[I 2023-12-11 16:06:03,647] Trial 95 finished with value: 0.04232952450266741 and parameters: {'topK': 39, 'alpha': 0.7318415175447646}. Best is trial 42 with value: 0.04240242881329453.\n"
     ]
    },
    {
     "name": "stdout",
     "output_type": "stream",
     "text": [
      "EvaluatorHoldout: Processed 10437 (100.0%) in 7.10 sec. Users per second: 1470\n",
      "EvaluatorHoldout: Processed 10532 (100.0%) in 7.11 sec. Users per second: 1482\n",
      "EvaluatorHoldout: Processed 10466 (100.0%) in 7.12 sec. Users per second: 1470\n"
     ]
    },
    {
     "name": "stderr",
     "output_type": "stream",
     "text": [
      "[I 2023-12-11 16:06:42,358] Trial 96 finished with value: 0.042303138902662484 and parameters: {'topK': 30, 'alpha': 0.738050129066262}. Best is trial 42 with value: 0.04240242881329453.\n"
     ]
    },
    {
     "name": "stdout",
     "output_type": "stream",
     "text": [
      "EvaluatorHoldout: Processed 10437 (100.0%) in 7.11 sec. Users per second: 1468\n",
      "EvaluatorHoldout: Processed 10532 (100.0%) in 7.19 sec. Users per second: 1465\n",
      "EvaluatorHoldout: Processed 10466 (100.0%) in 7.15 sec. Users per second: 1465\n"
     ]
    },
    {
     "name": "stderr",
     "output_type": "stream",
     "text": [
      "[I 2023-12-11 16:07:21,998] Trial 97 finished with value: 0.04239043848997617 and parameters: {'topK': 37, 'alpha': 0.7296522522479325}. Best is trial 42 with value: 0.04240242881329453.\n"
     ]
    },
    {
     "name": "stdout",
     "output_type": "stream",
     "text": [
      "EvaluatorHoldout: Processed 10437 (100.0%) in 7.05 sec. Users per second: 1480\n",
      "EvaluatorHoldout: Processed 10532 (100.0%) in 7.16 sec. Users per second: 1471\n",
      "EvaluatorHoldout: Processed 10466 (100.0%) in 7.00 sec. Users per second: 1494\n"
     ]
    },
    {
     "name": "stderr",
     "output_type": "stream",
     "text": [
      "[I 2023-12-11 16:08:01,645] Trial 98 finished with value: 0.041821056396128764 and parameters: {'topK': 39, 'alpha': 0.7157325906014993}. Best is trial 42 with value: 0.04240242881329453.\n"
     ]
    },
    {
     "name": "stdout",
     "output_type": "stream",
     "text": [
      "EvaluatorHoldout: Processed 10437 (100.0%) in 7.05 sec. Users per second: 1480\n",
      "EvaluatorHoldout: Processed 10532 (100.0%) in 7.09 sec. Users per second: 1486\n",
      "EvaluatorHoldout: Processed 10466 (100.0%) in 7.11 sec. Users per second: 1472\n"
     ]
    },
    {
     "name": "stderr",
     "output_type": "stream",
     "text": [
      "[I 2023-12-11 16:08:40,816] Trial 99 finished with value: 0.04141831564125418 and parameters: {'topK': 36, 'alpha': 0.7029390792438743}. Best is trial 42 with value: 0.04240242881329453.\n"
     ]
    },
    {
     "name": "stdout",
     "output_type": "stream",
     "text": [
      "EvaluatorHoldout: Processed 10437 (100.0%) in 7.20 sec. Users per second: 1450\n",
      "EvaluatorHoldout: Processed 10532 (100.0%) in 7.28 sec. Users per second: 1446\n",
      "EvaluatorHoldout: Processed 10466 (100.0%) in 7.15 sec. Users per second: 1464\n"
     ]
    },
    {
     "name": "stderr",
     "output_type": "stream",
     "text": [
      "[I 2023-12-11 16:09:19,506] Trial 100 finished with value: 0.04226796575965123 and parameters: {'topK': 28, 'alpha': 0.7314150049637992}. Best is trial 42 with value: 0.04240242881329453.\n"
     ]
    },
    {
     "name": "stdout",
     "output_type": "stream",
     "text": [
      "EvaluatorHoldout: Processed 10437 (100.0%) in 7.13 sec. Users per second: 1463\n",
      "EvaluatorHoldout: Processed 10532 (100.0%) in 7.14 sec. Users per second: 1475\n",
      "EvaluatorHoldout: Processed 10466 (100.0%) in 7.11 sec. Users per second: 1473\n"
     ]
    },
    {
     "name": "stderr",
     "output_type": "stream",
     "text": [
      "[I 2023-12-11 16:09:59,155] Trial 101 finished with value: 0.04220736660762877 and parameters: {'topK': 39, 'alpha': 0.7270962644396174}. Best is trial 42 with value: 0.04240242881329453.\n"
     ]
    },
    {
     "name": "stdout",
     "output_type": "stream",
     "text": [
      "EvaluatorHoldout: Processed 10437 (100.0%) in 7.07 sec. Users per second: 1476\n",
      "EvaluatorHoldout: Processed 10532 (100.0%) in 7.27 sec. Users per second: 1449\n",
      "EvaluatorHoldout: Processed 10466 (100.0%) in 7.10 sec. Users per second: 1475\n"
     ]
    },
    {
     "name": "stderr",
     "output_type": "stream",
     "text": [
      "[I 2023-12-11 16:10:39,049] Trial 102 finished with value: 0.04233796490729894 and parameters: {'topK': 42, 'alpha': 0.7429129675341714}. Best is trial 42 with value: 0.04240242881329453.\n"
     ]
    },
    {
     "name": "stdout",
     "output_type": "stream",
     "text": [
      "EvaluatorHoldout: Processed 10437 (100.0%) in 7.06 sec. Users per second: 1479\n",
      "EvaluatorHoldout: Processed 10532 (100.0%) in 7.29 sec. Users per second: 1445\n",
      "EvaluatorHoldout: Processed 10466 (100.0%) in 7.02 sec. Users per second: 1490\n"
     ]
    },
    {
     "name": "stderr",
     "output_type": "stream",
     "text": [
      "[I 2023-12-11 16:11:17,968] Trial 103 finished with value: 0.04224896673037599 and parameters: {'topK': 32, 'alpha': 0.7430607031916834}. Best is trial 42 with value: 0.04240242881329453.\n"
     ]
    },
    {
     "name": "stdout",
     "output_type": "stream",
     "text": [
      "EvaluatorHoldout: Processed 10437 (100.0%) in 7.15 sec. Users per second: 1459\n",
      "EvaluatorHoldout: Processed 10532 (100.0%) in 7.24 sec. Users per second: 1456\n",
      "EvaluatorHoldout: Processed 10466 (100.0%) in 7.18 sec. Users per second: 1457\n"
     ]
    },
    {
     "name": "stderr",
     "output_type": "stream",
     "text": [
      "[I 2023-12-11 16:11:58,062] Trial 104 finished with value: 0.04187970340821507 and parameters: {'topK': 42, 'alpha': 0.7195012185420839}. Best is trial 42 with value: 0.04240242881329453.\n"
     ]
    },
    {
     "name": "stdout",
     "output_type": "stream",
     "text": [
      "EvaluatorHoldout: Processed 10437 (100.0%) in 7.16 sec. Users per second: 1458\n",
      "EvaluatorHoldout: Processed 10532 (100.0%) in 7.22 sec. Users per second: 1459\n",
      "EvaluatorHoldout: Processed 10466 (100.0%) in 7.07 sec. Users per second: 1480\n"
     ]
    },
    {
     "name": "stderr",
     "output_type": "stream",
     "text": [
      "[I 2023-12-11 16:12:37,431] Trial 105 finished with value: 0.041583284541275 and parameters: {'topK': 34, 'alpha': 0.7066481529914015}. Best is trial 42 with value: 0.04240242881329453.\n"
     ]
    },
    {
     "name": "stdout",
     "output_type": "stream",
     "text": [
      "EvaluatorHoldout: Processed 10437 (100.0%) in 7.08 sec. Users per second: 1475\n",
      "EvaluatorHoldout: Processed 10532 (100.0%) in 7.09 sec. Users per second: 1485\n",
      "EvaluatorHoldout: Processed 10466 (100.0%) in 7.22 sec. Users per second: 1450\n"
     ]
    },
    {
     "name": "stderr",
     "output_type": "stream",
     "text": [
      "[I 2023-12-11 16:13:17,042] Trial 106 finished with value: 0.04180487290010063 and parameters: {'topK': 37, 'alpha': 0.7647084337746219}. Best is trial 42 with value: 0.04240242881329453.\n"
     ]
    },
    {
     "name": "stdout",
     "output_type": "stream",
     "text": [
      "EvaluatorHoldout: Processed 10437 (100.0%) in 7.01 sec. Users per second: 1489\n",
      "EvaluatorHoldout: Processed 10532 (100.0%) in 7.15 sec. Users per second: 1474\n",
      "EvaluatorHoldout: Processed 10466 (100.0%) in 6.92 sec. Users per second: 1512\n"
     ]
    },
    {
     "name": "stderr",
     "output_type": "stream",
     "text": [
      "[I 2023-12-11 16:13:54,834] Trial 107 finished with value: 0.0420390608225791 and parameters: {'topK': 25, 'alpha': 0.7345581121724287}. Best is trial 42 with value: 0.04240242881329453.\n"
     ]
    },
    {
     "name": "stdout",
     "output_type": "stream",
     "text": [
      "EvaluatorHoldout: Processed 10437 (100.0%) in 7.11 sec. Users per second: 1467\n",
      "EvaluatorHoldout: Processed 10532 (100.0%) in 7.31 sec. Users per second: 1442\n",
      "EvaluatorHoldout: Processed 10466 (100.0%) in 7.15 sec. Users per second: 1464\n"
     ]
    },
    {
     "name": "stderr",
     "output_type": "stream",
     "text": [
      "[I 2023-12-11 16:14:34,859] Trial 108 finished with value: 0.042383937974687674 and parameters: {'topK': 41, 'alpha': 0.747480185102254}. Best is trial 42 with value: 0.04240242881329453.\n"
     ]
    },
    {
     "name": "stdout",
     "output_type": "stream",
     "text": [
      "EvaluatorHoldout: Processed 10437 (100.0%) in 7.01 sec. Users per second: 1488\n",
      "EvaluatorHoldout: Processed 10532 (100.0%) in 7.16 sec. Users per second: 1470\n",
      "EvaluatorHoldout: Processed 10466 (100.0%) in 6.98 sec. Users per second: 1500\n"
     ]
    },
    {
     "name": "stderr",
     "output_type": "stream",
     "text": [
      "[I 2023-12-11 16:15:14,361] Trial 109 finished with value: 0.04198024862851113 and parameters: {'topK': 41, 'alpha': 0.7252420054155216}. Best is trial 42 with value: 0.04240242881329453.\n"
     ]
    },
    {
     "name": "stdout",
     "output_type": "stream",
     "text": [
      "EvaluatorHoldout: Processed 10437 (100.0%) in 7.22 sec. Users per second: 1446\n",
      "EvaluatorHoldout: Processed 10532 (100.0%) in 7.18 sec. Users per second: 1467\n",
      "EvaluatorHoldout: Processed 10466 (100.0%) in 7.16 sec. Users per second: 1462\n"
     ]
    },
    {
     "name": "stderr",
     "output_type": "stream",
     "text": [
      "[I 2023-12-11 16:15:55,298] Trial 110 finished with value: 0.042179808910541024 and parameters: {'topK': 49, 'alpha': 0.7680448348175267}. Best is trial 42 with value: 0.04240242881329453.\n"
     ]
    },
    {
     "name": "stdout",
     "output_type": "stream",
     "text": [
      "EvaluatorHoldout: Processed 10437 (100.0%) in 7.08 sec. Users per second: 1474\n",
      "EvaluatorHoldout: Processed 10532 (100.0%) in 7.64 sec. Users per second: 1379\n",
      "EvaluatorHoldout: Processed 10466 (100.0%) in 7.13 sec. Users per second: 1468\n"
     ]
    },
    {
     "name": "stderr",
     "output_type": "stream",
     "text": [
      "[I 2023-12-11 16:16:35,214] Trial 111 finished with value: 0.04239242301560294 and parameters: {'topK': 38, 'alpha': 0.7464752666493479}. Best is trial 42 with value: 0.04240242881329453.\n"
     ]
    },
    {
     "name": "stdout",
     "output_type": "stream",
     "text": [
      "EvaluatorHoldout: Processed 10437 (100.0%) in 7.01 sec. Users per second: 1488\n",
      "EvaluatorHoldout: Processed 10532 (100.0%) in 7.30 sec. Users per second: 1443\n",
      "EvaluatorHoldout: Processed 10466 (100.0%) in 7.19 sec. Users per second: 1456\n"
     ]
    },
    {
     "name": "stderr",
     "output_type": "stream",
     "text": [
      "[I 2023-12-11 16:17:14,830] Trial 112 finished with value: 0.04237358305214789 and parameters: {'topK': 38, 'alpha': 0.7394859981471292}. Best is trial 42 with value: 0.04240242881329453.\n"
     ]
    },
    {
     "name": "stdout",
     "output_type": "stream",
     "text": [
      "EvaluatorHoldout: Processed 10437 (100.0%) in 6.92 sec. Users per second: 1509\n",
      "EvaluatorHoldout: Processed 10532 (100.0%) in 7.06 sec. Users per second: 1491\n",
      "EvaluatorHoldout: Processed 10466 (100.0%) in 7.14 sec. Users per second: 1465\n"
     ]
    },
    {
     "name": "stderr",
     "output_type": "stream",
     "text": [
      "[I 2023-12-11 16:17:54,165] Trial 113 finished with value: 0.04234018736251085 and parameters: {'topK': 37, 'alpha': 0.7406855550005826}. Best is trial 42 with value: 0.04240242881329453.\n"
     ]
    },
    {
     "name": "stdout",
     "output_type": "stream",
     "text": [
      "EvaluatorHoldout: Processed 10437 (100.0%) in 7.13 sec. Users per second: 1464\n",
      "EvaluatorHoldout: Processed 10532 (100.0%) in 7.10 sec. Users per second: 1483\n",
      "EvaluatorHoldout: Processed 10466 (100.0%) in 7.01 sec. Users per second: 1493\n"
     ]
    },
    {
     "name": "stderr",
     "output_type": "stream",
     "text": [
      "[I 2023-12-11 16:18:32,917] Trial 114 finished with value: 0.042163327957239705 and parameters: {'topK': 30, 'alpha': 0.7408379456735679}. Best is trial 42 with value: 0.04240242881329453.\n"
     ]
    },
    {
     "name": "stdout",
     "output_type": "stream",
     "text": [
      "EvaluatorHoldout: Processed 10437 (100.0%) in 7.07 sec. Users per second: 1476\n",
      "EvaluatorHoldout: Processed 10532 (100.0%) in 7.23 sec. Users per second: 1456\n",
      "EvaluatorHoldout: Processed 10466 (100.0%) in 7.13 sec. Users per second: 1468\n"
     ]
    },
    {
     "name": "stderr",
     "output_type": "stream",
     "text": [
      "[I 2023-12-11 16:19:12,862] Trial 115 finished with value: 0.04171564109989743 and parameters: {'topK': 42, 'alpha': 0.7145589509881588}. Best is trial 42 with value: 0.04240242881329453.\n"
     ]
    },
    {
     "name": "stdout",
     "output_type": "stream",
     "text": [
      "EvaluatorHoldout: Processed 10437 (100.0%) in 7.09 sec. Users per second: 1472\n",
      "EvaluatorHoldout: Processed 10532 (100.0%) in 7.13 sec. Users per second: 1477\n",
      "EvaluatorHoldout: Processed 10466 (100.0%) in 7.19 sec. Users per second: 1455\n"
     ]
    },
    {
     "name": "stderr",
     "output_type": "stream",
     "text": [
      "[I 2023-12-11 16:19:52,477] Trial 116 finished with value: 0.04213459661014907 and parameters: {'topK': 38, 'alpha': 0.7609468322129207}. Best is trial 42 with value: 0.04240242881329453.\n"
     ]
    },
    {
     "name": "stdout",
     "output_type": "stream",
     "text": [
      "EvaluatorHoldout: Processed 10437 (100.0%) in 7.06 sec. Users per second: 1478\n",
      "EvaluatorHoldout: Processed 10532 (100.0%) in 7.22 sec. Users per second: 1458\n",
      "EvaluatorHoldout: Processed 10466 (100.0%) in 7.00 sec. Users per second: 1495\n"
     ]
    },
    {
     "name": "stderr",
     "output_type": "stream",
     "text": [
      "[I 2023-12-11 16:20:31,268] Trial 117 finished with value: 0.042144924100287216 and parameters: {'topK': 33, 'alpha': 0.722290244351919}. Best is trial 42 with value: 0.04240242881329453.\n"
     ]
    },
    {
     "name": "stdout",
     "output_type": "stream",
     "text": [
      "EvaluatorHoldout: Processed 10437 (100.0%) in 7.23 sec. Users per second: 1443\n",
      "EvaluatorHoldout: Processed 10532 (100.0%) in 7.22 sec. Users per second: 1458\n",
      "EvaluatorHoldout: Processed 10466 (100.0%) in 7.13 sec. Users per second: 1468\n"
     ]
    },
    {
     "name": "stderr",
     "output_type": "stream",
     "text": [
      "[I 2023-12-11 16:21:10,788] Trial 118 finished with value: 0.04232057605032232 and parameters: {'topK': 36, 'alpha': 0.7490200165023118}. Best is trial 42 with value: 0.04240242881329453.\n"
     ]
    },
    {
     "name": "stdout",
     "output_type": "stream",
     "text": [
      "EvaluatorHoldout: Processed 10437 (100.0%) in 7.03 sec. Users per second: 1485\n",
      "EvaluatorHoldout: Processed 10532 (100.0%) in 7.35 sec. Users per second: 1432\n",
      "EvaluatorHoldout: Processed 10466 (100.0%) in 6.99 sec. Users per second: 1497\n"
     ]
    },
    {
     "name": "stderr",
     "output_type": "stream",
     "text": [
      "[I 2023-12-11 16:21:50,681] Trial 119 finished with value: 0.04236261802743552 and parameters: {'topK': 41, 'alpha': 0.7369304829359807}. Best is trial 42 with value: 0.04240242881329453.\n"
     ]
    },
    {
     "name": "stdout",
     "output_type": "stream",
     "text": [
      "EvaluatorHoldout: Processed 10437 (100.0%) in 7.14 sec. Users per second: 1461\n",
      "EvaluatorHoldout: Processed 10532 (100.0%) in 7.22 sec. Users per second: 1459\n",
      "EvaluatorHoldout: Processed 10466 (100.0%) in 7.12 sec. Users per second: 1470\n"
     ]
    },
    {
     "name": "stderr",
     "output_type": "stream",
     "text": [
      "[I 2023-12-11 16:22:30,571] Trial 120 finished with value: 0.04231195353451784 and parameters: {'topK': 40, 'alpha': 0.7366946181683306}. Best is trial 42 with value: 0.04240242881329453.\n"
     ]
    },
    {
     "name": "stdout",
     "output_type": "stream",
     "text": [
      "EvaluatorHoldout: Processed 10437 (100.0%) in 7.50 sec. Users per second: 1391\n",
      "EvaluatorHoldout: Processed 10532 (100.0%) in 7.31 sec. Users per second: 1441\n",
      "EvaluatorHoldout: Processed 10466 (100.0%) in 7.13 sec. Users per second: 1468\n"
     ]
    },
    {
     "name": "stderr",
     "output_type": "stream",
     "text": [
      "[I 2023-12-11 16:23:11,149] Trial 121 finished with value: 0.04233423185971829 and parameters: {'topK': 43, 'alpha': 0.741220867542014}. Best is trial 42 with value: 0.04240242881329453.\n"
     ]
    },
    {
     "name": "stdout",
     "output_type": "stream",
     "text": [
      "EvaluatorHoldout: Processed 10437 (100.0%) in 7.39 sec. Users per second: 1413\n",
      "EvaluatorHoldout: Processed 10532 (100.0%) in 8.36 sec. Users per second: 1260\n",
      "EvaluatorHoldout: Processed 10466 (100.0%) in 7.20 sec. Users per second: 1455\n"
     ]
    },
    {
     "name": "stderr",
     "output_type": "stream",
     "text": [
      "[I 2023-12-11 16:23:53,209] Trial 122 finished with value: 0.04200063409878349 and parameters: {'topK': 47, 'alpha': 0.7717536527530063}. Best is trial 42 with value: 0.04240242881329453.\n"
     ]
    },
    {
     "name": "stdout",
     "output_type": "stream",
     "text": [
      "EvaluatorHoldout: Processed 10437 (100.0%) in 7.01 sec. Users per second: 1490\n",
      "EvaluatorHoldout: Processed 10532 (100.0%) in 7.27 sec. Users per second: 1449\n",
      "EvaluatorHoldout: Processed 10466 (100.0%) in 7.03 sec. Users per second: 1489\n"
     ]
    },
    {
     "name": "stderr",
     "output_type": "stream",
     "text": [
      "[I 2023-12-11 16:24:32,874] Trial 123 finished with value: 0.04231063274482207 and parameters: {'topK': 38, 'alpha': 0.7290905441489942}. Best is trial 42 with value: 0.04240242881329453.\n"
     ]
    },
    {
     "name": "stdout",
     "output_type": "stream",
     "text": [
      "EvaluatorHoldout: Processed 10437 (100.0%) in 7.12 sec. Users per second: 1465\n",
      "EvaluatorHoldout: Processed 10532 (100.0%) in 7.14 sec. Users per second: 1475\n",
      "EvaluatorHoldout: Processed 10466 (100.0%) in 7.11 sec. Users per second: 1472\n"
     ]
    },
    {
     "name": "stderr",
     "output_type": "stream",
     "text": [
      "[I 2023-12-11 16:25:12,806] Trial 124 finished with value: 0.042321154269280216 and parameters: {'topK': 42, 'alpha': 0.7515661647351248}. Best is trial 42 with value: 0.04240242881329453.\n"
     ]
    },
    {
     "name": "stdout",
     "output_type": "stream",
     "text": [
      "EvaluatorHoldout: Processed 10437 (100.0%) in 7.18 sec. Users per second: 1454\n",
      "EvaluatorHoldout: Processed 10532 (100.0%) in 7.12 sec. Users per second: 1478\n",
      "EvaluatorHoldout: Processed 10466 (100.0%) in 7.03 sec. Users per second: 1488\n"
     ]
    },
    {
     "name": "stderr",
     "output_type": "stream",
     "text": [
      "[I 2023-12-11 16:25:52,172] Trial 125 finished with value: 0.041679122073644305 and parameters: {'topK': 36, 'alpha': 0.7077613461034339}. Best is trial 42 with value: 0.04240242881329453.\n"
     ]
    },
    {
     "name": "stdout",
     "output_type": "stream",
     "text": [
      "EvaluatorHoldout: Processed 10437 (100.0%) in 7.02 sec. Users per second: 1486\n",
      "EvaluatorHoldout: Processed 10532 (100.0%) in 7.13 sec. Users per second: 1476\n",
      "EvaluatorHoldout: Processed 10466 (100.0%) in 7.13 sec. Users per second: 1468\n"
     ]
    },
    {
     "name": "stderr",
     "output_type": "stream",
     "text": [
      "[I 2023-12-11 16:26:31,715] Trial 126 finished with value: 0.042258199194357825 and parameters: {'topK': 40, 'alpha': 0.7612108545874097}. Best is trial 42 with value: 0.04240242881329453.\n"
     ]
    },
    {
     "name": "stdout",
     "output_type": "stream",
     "text": [
      "EvaluatorHoldout: Processed 10437 (100.0%) in 6.95 sec. Users per second: 1502\n",
      "EvaluatorHoldout: Processed 10532 (100.0%) in 9.77 sec. Users per second: 1078\n",
      "EvaluatorHoldout: Processed 10466 (100.0%) in 7.04 sec. Users per second: 1488\n"
     ]
    },
    {
     "name": "stderr",
     "output_type": "stream",
     "text": [
      "[I 2023-12-11 16:27:12,849] Trial 127 finished with value: 0.0420794798092479 and parameters: {'topK': 31, 'alpha': 0.7183582545853787}. Best is trial 42 with value: 0.04240242881329453.\n"
     ]
    },
    {
     "name": "stdout",
     "output_type": "stream",
     "text": [
      "EvaluatorHoldout: Processed 10437 (100.0%) in 6.97 sec. Users per second: 1498\n",
      "EvaluatorHoldout: Processed 10532 (100.0%) in 7.18 sec. Users per second: 1466\n",
      "EvaluatorHoldout: Processed 10466 (100.0%) in 7.06 sec. Users per second: 1482\n"
     ]
    },
    {
     "name": "stderr",
     "output_type": "stream",
     "text": [
      "[I 2023-12-11 16:27:52,325] Trial 128 finished with value: 0.042342082490619264 and parameters: {'topK': 38, 'alpha': 0.7360243340893966}. Best is trial 42 with value: 0.04240242881329453.\n"
     ]
    },
    {
     "name": "stdout",
     "output_type": "stream",
     "text": [
      "EvaluatorHoldout: Processed 10437 (100.0%) in 7.10 sec. Users per second: 1470\n",
      "EvaluatorHoldout: Processed 10532 (100.0%) in 7.80 sec. Users per second: 1350\n",
      "EvaluatorHoldout: Processed 10466 (100.0%) in 7.12 sec. Users per second: 1469\n"
     ]
    },
    {
     "name": "stderr",
     "output_type": "stream",
     "text": [
      "[I 2023-12-11 16:28:32,031] Trial 129 finished with value: 0.04231357353537945 and parameters: {'topK': 33, 'alpha': 0.7362548951782184}. Best is trial 42 with value: 0.04240242881329453.\n"
     ]
    },
    {
     "name": "stdout",
     "output_type": "stream",
     "text": [
      "EvaluatorHoldout: Processed 10437 (100.0%) in 7.15 sec. Users per second: 1461\n",
      "EvaluatorHoldout: Processed 10532 (100.0%) in 7.09 sec. Users per second: 1485\n",
      "EvaluatorHoldout: Processed 10466 (100.0%) in 7.08 sec. Users per second: 1479\n"
     ]
    },
    {
     "name": "stderr",
     "output_type": "stream",
     "text": [
      "[I 2023-12-11 16:29:11,449] Trial 130 finished with value: 0.04092758460149438 and parameters: {'topK': 38, 'alpha': 0.781679355655716}. Best is trial 42 with value: 0.04240242881329453.\n"
     ]
    },
    {
     "name": "stdout",
     "output_type": "stream",
     "text": [
      "EvaluatorHoldout: Processed 10437 (100.0%) in 7.16 sec. Users per second: 1458\n",
      "EvaluatorHoldout: Processed 10532 (100.0%) in 7.21 sec. Users per second: 1460\n",
      "EvaluatorHoldout: Processed 10466 (100.0%) in 7.08 sec. Users per second: 1478\n"
     ]
    },
    {
     "name": "stderr",
     "output_type": "stream",
     "text": [
      "[I 2023-12-11 16:29:51,860] Trial 131 finished with value: 0.042360831247741725 and parameters: {'topK': 41, 'alpha': 0.7468957532293963}. Best is trial 42 with value: 0.04240242881329453.\n"
     ]
    },
    {
     "name": "stdout",
     "output_type": "stream",
     "text": [
      "EvaluatorHoldout: Processed 10437 (100.0%) in 7.26 sec. Users per second: 1437\n",
      "EvaluatorHoldout: Processed 10532 (100.0%) in 7.12 sec. Users per second: 1480\n",
      "EvaluatorHoldout: Processed 10466 (100.0%) in 7.14 sec. Users per second: 1467\n"
     ]
    },
    {
     "name": "stderr",
     "output_type": "stream",
     "text": [
      "[I 2023-12-11 16:30:31,342] Trial 132 finished with value: 0.04210941406890556 and parameters: {'topK': 35, 'alpha': 0.7546104154482633}. Best is trial 42 with value: 0.04240242881329453.\n"
     ]
    },
    {
     "name": "stdout",
     "output_type": "stream",
     "text": [
      "EvaluatorHoldout: Processed 10437 (100.0%) in 7.05 sec. Users per second: 1480\n",
      "EvaluatorHoldout: Processed 10532 (100.0%) in 7.21 sec. Users per second: 1461\n",
      "EvaluatorHoldout: Processed 10466 (100.0%) in 7.14 sec. Users per second: 1466\n"
     ]
    },
    {
     "name": "stderr",
     "output_type": "stream",
     "text": [
      "[I 2023-12-11 16:31:11,105] Trial 133 finished with value: 0.04216042446205861 and parameters: {'topK': 40, 'alpha': 0.7270935060441723}. Best is trial 42 with value: 0.04240242881329453.\n"
     ]
    },
    {
     "name": "stdout",
     "output_type": "stream",
     "text": [
      "EvaluatorHoldout: Processed 10437 (100.0%) in 7.21 sec. Users per second: 1448\n",
      "EvaluatorHoldout: Processed 10532 (100.0%) in 7.11 sec. Users per second: 1480\n",
      "EvaluatorHoldout: Processed 10466 (100.0%) in 7.27 sec. Users per second: 1440\n"
     ]
    },
    {
     "name": "stderr",
     "output_type": "stream",
     "text": [
      "[I 2023-12-11 16:31:51,455] Trial 134 finished with value: 0.0422750209041996 and parameters: {'topK': 44, 'alpha': 0.7475052804314682}. Best is trial 42 with value: 0.04240242881329453.\n"
     ]
    },
    {
     "name": "stdout",
     "output_type": "stream",
     "text": [
      "EvaluatorHoldout: Processed 10437 (100.0%) in 7.07 sec. Users per second: 1476\n",
      "EvaluatorHoldout: Processed 10532 (100.0%) in 7.14 sec. Users per second: 1474\n",
      "EvaluatorHoldout: Processed 10466 (100.0%) in 7.09 sec. Users per second: 1476\n"
     ]
    },
    {
     "name": "stderr",
     "output_type": "stream",
     "text": [
      "[I 2023-12-11 16:32:30,847] Trial 135 finished with value: 0.04234744100451859 and parameters: {'topK': 37, 'alpha': 0.7341686098875948}. Best is trial 42 with value: 0.04240242881329453.\n"
     ]
    },
    {
     "name": "stdout",
     "output_type": "stream",
     "text": [
      "EvaluatorHoldout: Processed 10437 (100.0%) in 7.02 sec. Users per second: 1486\n",
      "EvaluatorHoldout: Processed 10532 (100.0%) in 7.14 sec. Users per second: 1474\n",
      "EvaluatorHoldout: Processed 10466 (100.0%) in 7.11 sec. Users per second: 1472\n"
     ]
    },
    {
     "name": "stderr",
     "output_type": "stream",
     "text": [
      "[I 2023-12-11 16:33:09,791] Trial 136 finished with value: 0.042349953803498264 and parameters: {'topK': 34, 'alpha': 0.7317006724375072}. Best is trial 42 with value: 0.04240242881329453.\n"
     ]
    },
    {
     "name": "stdout",
     "output_type": "stream",
     "text": [
      "EvaluatorHoldout: Processed 10437 (100.0%) in 7.23 sec. Users per second: 1444\n",
      "EvaluatorHoldout: Processed 10532 (100.0%) in 7.22 sec. Users per second: 1458\n",
      "EvaluatorHoldout: Processed 10466 (100.0%) in 7.23 sec. Users per second: 1447\n"
     ]
    },
    {
     "name": "stderr",
     "output_type": "stream",
     "text": [
      "[I 2023-12-11 16:33:50,542] Trial 137 finished with value: 0.04080234564610086 and parameters: {'topK': 46, 'alpha': 0.6990067996057989}. Best is trial 42 with value: 0.04240242881329453.\n"
     ]
    },
    {
     "name": "stdout",
     "output_type": "stream",
     "text": [
      "EvaluatorHoldout: Processed 10437 (100.0%) in 7.04 sec. Users per second: 1482\n",
      "EvaluatorHoldout: Processed 10532 (100.0%) in 7.24 sec. Users per second: 1455\n",
      "EvaluatorHoldout: Processed 10466 (100.0%) in 7.09 sec. Users per second: 1477\n"
     ]
    },
    {
     "name": "stderr",
     "output_type": "stream",
     "text": [
      "[I 2023-12-11 16:34:30,156] Trial 138 finished with value: 0.04234225031607123 and parameters: {'topK': 39, 'alpha': 0.7324384175282156}. Best is trial 42 with value: 0.04240242881329453.\n"
     ]
    },
    {
     "name": "stdout",
     "output_type": "stream",
     "text": [
      "EvaluatorHoldout: Processed 10437 (100.0%) in 7.11 sec. Users per second: 1469\n",
      "EvaluatorHoldout: Processed 10532 (100.0%) in 7.40 sec. Users per second: 1424\n",
      "EvaluatorHoldout: Processed 10466 (100.0%) in 7.27 sec. Users per second: 1439\n"
     ]
    },
    {
     "name": "stderr",
     "output_type": "stream",
     "text": [
      "[I 2023-12-11 16:35:10,374] Trial 139 finished with value: 0.04187001958444283 and parameters: {'topK': 41, 'alpha': 0.7198951613151119}. Best is trial 42 with value: 0.04240242881329453.\n"
     ]
    },
    {
     "name": "stdout",
     "output_type": "stream",
     "text": [
      "EvaluatorHoldout: Processed 10437 (100.0%) in 7.20 sec. Users per second: 1450\n",
      "EvaluatorHoldout: Processed 10532 (100.0%) in 7.33 sec. Users per second: 1436\n",
      "EvaluatorHoldout: Processed 10466 (100.0%) in 6.99 sec. Users per second: 1498\n"
     ]
    },
    {
     "name": "stderr",
     "output_type": "stream",
     "text": [
      "[I 2023-12-11 16:35:49,560] Trial 140 finished with value: 0.041851816279477906 and parameters: {'topK': 34, 'alpha': 0.7123367613365493}. Best is trial 42 with value: 0.04240242881329453.\n"
     ]
    },
    {
     "name": "stdout",
     "output_type": "stream",
     "text": [
      "EvaluatorHoldout: Processed 10437 (100.0%) in 7.06 sec. Users per second: 1478\n",
      "EvaluatorHoldout: Processed 10532 (100.0%) in 7.15 sec. Users per second: 1474\n",
      "EvaluatorHoldout: Processed 10466 (100.0%) in 7.16 sec. Users per second: 1462\n"
     ]
    },
    {
     "name": "stderr",
     "output_type": "stream",
     "text": [
      "[I 2023-12-11 16:36:29,294] Trial 141 finished with value: 0.04225011393040495 and parameters: {'topK': 39, 'alpha': 0.7305865918770307}. Best is trial 42 with value: 0.04240242881329453.\n"
     ]
    },
    {
     "name": "stdout",
     "output_type": "stream",
     "text": [
      "EvaluatorHoldout: Processed 10437 (100.0%) in 6.94 sec. Users per second: 1504\n",
      "EvaluatorHoldout: Processed 10532 (100.0%) in 7.00 sec. Users per second: 1505\n",
      "EvaluatorHoldout: Processed 10466 (100.0%) in 7.02 sec. Users per second: 1491\n"
     ]
    },
    {
     "name": "stderr",
     "output_type": "stream",
     "text": [
      "[I 2023-12-11 16:37:08,312] Trial 142 finished with value: 0.04229109028605319 and parameters: {'topK': 37, 'alpha': 0.7503313304645738}. Best is trial 42 with value: 0.04240242881329453.\n"
     ]
    },
    {
     "name": "stdout",
     "output_type": "stream",
     "text": [
      "EvaluatorHoldout: Processed 10437 (100.0%) in 7.17 sec. Users per second: 1457\n",
      "EvaluatorHoldout: Processed 10532 (100.0%) in 7.12 sec. Users per second: 1479\n",
      "EvaluatorHoldout: Processed 10466 (100.0%) in 8.62 sec. Users per second: 1215\n"
     ]
    },
    {
     "name": "stderr",
     "output_type": "stream",
     "text": [
      "[I 2023-12-11 16:37:49,908] Trial 143 finished with value: 0.0419323981686372 and parameters: {'topK': 43, 'alpha': 0.725384286341548}. Best is trial 42 with value: 0.04240242881329453.\n"
     ]
    },
    {
     "name": "stdout",
     "output_type": "stream",
     "text": [
      "EvaluatorHoldout: Processed 10437 (100.0%) in 7.21 sec. Users per second: 1447\n",
      "EvaluatorHoldout: Processed 10532 (100.0%) in 7.42 sec. Users per second: 1419\n",
      "EvaluatorHoldout: Processed 10466 (100.0%) in 7.22 sec. Users per second: 1449\n"
     ]
    },
    {
     "name": "stderr",
     "output_type": "stream",
     "text": [
      "[I 2023-12-11 16:38:35,928] Trial 144 finished with value: 0.040797796192790406 and parameters: {'topK': 94, 'alpha': 0.7345099242418441}. Best is trial 42 with value: 0.04240242881329453.\n"
     ]
    },
    {
     "name": "stdout",
     "output_type": "stream",
     "text": [
      "EvaluatorHoldout: Processed 10437 (100.0%) in 7.14 sec. Users per second: 1462\n",
      "EvaluatorHoldout: Processed 10532 (100.0%) in 7.08 sec. Users per second: 1487\n",
      "EvaluatorHoldout: Processed 10466 (100.0%) in 7.20 sec. Users per second: 1453\n"
     ]
    },
    {
     "name": "stderr",
     "output_type": "stream",
     "text": [
      "[I 2023-12-11 16:39:15,662] Trial 145 finished with value: 0.042305234908621515 and parameters: {'topK': 39, 'alpha': 0.7565392488051227}. Best is trial 42 with value: 0.04240242881329453.\n"
     ]
    },
    {
     "name": "stdout",
     "output_type": "stream",
     "text": [
      "EvaluatorHoldout: Processed 10437 (100.0%) in 7.06 sec. Users per second: 1479\n",
      "EvaluatorHoldout: Processed 10532 (100.0%) in 7.04 sec. Users per second: 1497\n",
      "EvaluatorHoldout: Processed 10466 (100.0%) in 7.10 sec. Users per second: 1475\n"
     ]
    },
    {
     "name": "stderr",
     "output_type": "stream",
     "text": [
      "[I 2023-12-11 16:39:54,548] Trial 146 finished with value: 0.042296826816502396 and parameters: {'topK': 35, 'alpha': 0.7457556193433202}. Best is trial 42 with value: 0.04240242881329453.\n"
     ]
    },
    {
     "name": "stdout",
     "output_type": "stream",
     "text": [
      "EvaluatorHoldout: Processed 10437 (100.0%) in 7.08 sec. Users per second: 1474\n",
      "EvaluatorHoldout: Processed 10532 (100.0%) in 7.15 sec. Users per second: 1473\n",
      "EvaluatorHoldout: Processed 10466 (100.0%) in 7.09 sec. Users per second: 1475\n"
     ]
    },
    {
     "name": "stderr",
     "output_type": "stream",
     "text": [
      "[I 2023-12-11 16:40:34,375] Trial 147 finished with value: 0.04185495658558614 and parameters: {'topK': 41, 'alpha': 0.7713984274049571}. Best is trial 42 with value: 0.04240242881329453.\n"
     ]
    },
    {
     "name": "stdout",
     "output_type": "stream",
     "text": [
      "EvaluatorHoldout: Processed 10437 (100.0%) in 7.18 sec. Users per second: 1453\n",
      "EvaluatorHoldout: Processed 10532 (100.0%) in 7.17 sec. Users per second: 1469\n",
      "EvaluatorHoldout: Processed 10466 (100.0%) in 7.10 sec. Users per second: 1473\n"
     ]
    },
    {
     "name": "stderr",
     "output_type": "stream",
     "text": [
      "[I 2023-12-11 16:41:14,504] Trial 148 finished with value: 0.04220665137302553 and parameters: {'topK': 44, 'alpha': 0.7644350630363689}. Best is trial 42 with value: 0.04240242881329453.\n"
     ]
    },
    {
     "name": "stdout",
     "output_type": "stream",
     "text": [
      "EvaluatorHoldout: Processed 10437 (100.0%) in 7.17 sec. Users per second: 1455\n",
      "EvaluatorHoldout: Processed 10532 (100.0%) in 7.40 sec. Users per second: 1423\n",
      "EvaluatorHoldout: Processed 10466 (100.0%) in 7.14 sec. Users per second: 1466\n"
     ]
    },
    {
     "name": "stderr",
     "output_type": "stream",
     "text": [
      "[I 2023-12-11 16:41:54,245] Trial 149 finished with value: 0.042321915255182085 and parameters: {'topK': 37, 'alpha': 0.7353118261518108}. Best is trial 42 with value: 0.04240242881329453.\n"
     ]
    },
    {
     "name": "stdout",
     "output_type": "stream",
     "text": [
      "EvaluatorHoldout: Processed 10437 (100.0%) in 7.37 sec. Users per second: 1417\n",
      "EvaluatorHoldout: Processed 10532 (100.0%) in 7.19 sec. Users per second: 1465\n",
      "EvaluatorHoldout: Processed 10466 (100.0%) in 7.19 sec. Users per second: 1456\n"
     ]
    },
    {
     "name": "stderr",
     "output_type": "stream",
     "text": [
      "[I 2023-12-11 16:42:34,198] Trial 150 finished with value: 0.041621265678856656 and parameters: {'topK': 39, 'alpha': 0.709132756791805}. Best is trial 42 with value: 0.04240242881329453.\n"
     ]
    },
    {
     "name": "stdout",
     "output_type": "stream",
     "text": [
      "EvaluatorHoldout: Processed 10437 (100.0%) in 7.09 sec. Users per second: 1473\n",
      "EvaluatorHoldout: Processed 10532 (100.0%) in 7.11 sec. Users per second: 1481\n",
      "EvaluatorHoldout: Processed 10466 (100.0%) in 6.98 sec. Users per second: 1499\n"
     ]
    },
    {
     "name": "stderr",
     "output_type": "stream",
     "text": [
      "[I 2023-12-11 16:43:12,781] Trial 151 finished with value: 0.04229060124203974 and parameters: {'topK': 32, 'alpha': 0.7425557508090611}. Best is trial 42 with value: 0.04240242881329453.\n"
     ]
    },
    {
     "name": "stdout",
     "output_type": "stream",
     "text": [
      "EvaluatorHoldout: Processed 10437 (100.0%) in 7.11 sec. Users per second: 1468\n",
      "EvaluatorHoldout: Processed 10532 (100.0%) in 7.15 sec. Users per second: 1473\n",
      "EvaluatorHoldout: Processed 10466 (100.0%) in 7.04 sec. Users per second: 1486\n"
     ]
    },
    {
     "name": "stderr",
     "output_type": "stream",
     "text": [
      "[I 2023-12-11 16:43:51,834] Trial 152 finished with value: 0.04237360809445915 and parameters: {'topK': 34, 'alpha': 0.7301049334569116}. Best is trial 42 with value: 0.04240242881329453.\n"
     ]
    },
    {
     "name": "stdout",
     "output_type": "stream",
     "text": [
      "EvaluatorHoldout: Processed 10437 (100.0%) in 7.06 sec. Users per second: 1478\n",
      "EvaluatorHoldout: Processed 10532 (100.0%) in 7.18 sec. Users per second: 1467\n",
      "EvaluatorHoldout: Processed 10466 (100.0%) in 7.13 sec. Users per second: 1467\n"
     ]
    },
    {
     "name": "stderr",
     "output_type": "stream",
     "text": [
      "[I 2023-12-11 16:44:31,220] Trial 153 finished with value: 0.04205214509704128 and parameters: {'topK': 35, 'alpha': 0.7205685071558412}. Best is trial 42 with value: 0.04240242881329453.\n"
     ]
    },
    {
     "name": "stdout",
     "output_type": "stream",
     "text": [
      "EvaluatorHoldout: Processed 10437 (100.0%) in 7.08 sec. Users per second: 1475\n",
      "EvaluatorHoldout: Processed 10532 (100.0%) in 7.19 sec. Users per second: 1465\n",
      "EvaluatorHoldout: Processed 10466 (100.0%) in 7.15 sec. Users per second: 1464\n"
     ]
    },
    {
     "name": "stderr",
     "output_type": "stream",
     "text": [
      "[I 2023-12-11 16:45:11,027] Trial 154 finished with value: 0.04228808130766976 and parameters: {'topK': 41, 'alpha': 0.757460771969426}. Best is trial 42 with value: 0.04240242881329453.\n"
     ]
    },
    {
     "name": "stdout",
     "output_type": "stream",
     "text": [
      "EvaluatorHoldout: Processed 10437 (100.0%) in 7.04 sec. Users per second: 1482\n",
      "EvaluatorHoldout: Processed 10532 (100.0%) in 7.19 sec. Users per second: 1464\n",
      "EvaluatorHoldout: Processed 10466 (100.0%) in 7.09 sec. Users per second: 1476\n"
     ]
    },
    {
     "name": "stderr",
     "output_type": "stream",
     "text": [
      "[I 2023-12-11 16:45:49,632] Trial 155 finished with value: 0.04231437007406258 and parameters: {'topK': 29, 'alpha': 0.7304956146533043}. Best is trial 42 with value: 0.04240242881329453.\n"
     ]
    },
    {
     "name": "stdout",
     "output_type": "stream",
     "text": [
      "EvaluatorHoldout: Processed 10437 (100.0%) in 7.12 sec. Users per second: 1465\n",
      "EvaluatorHoldout: Processed 10532 (100.0%) in 7.16 sec. Users per second: 1470\n",
      "EvaluatorHoldout: Processed 10466 (100.0%) in 7.15 sec. Users per second: 1465\n"
     ]
    },
    {
     "name": "stderr",
     "output_type": "stream",
     "text": [
      "[I 2023-12-11 16:46:28,998] Trial 156 finished with value: 0.04234223861106995 and parameters: {'topK': 37, 'alpha': 0.7458324648861123}. Best is trial 42 with value: 0.04240242881329453.\n"
     ]
    },
    {
     "name": "stdout",
     "output_type": "stream",
     "text": [
      "EvaluatorHoldout: Processed 10437 (100.0%) in 7.06 sec. Users per second: 1478\n",
      "EvaluatorHoldout: Processed 10532 (100.0%) in 7.15 sec. Users per second: 1473\n",
      "EvaluatorHoldout: Processed 10466 (100.0%) in 7.18 sec. Users per second: 1458\n"
     ]
    },
    {
     "name": "stderr",
     "output_type": "stream",
     "text": [
      "[I 2023-12-11 16:47:08,146] Trial 157 finished with value: 0.04219987045917007 and parameters: {'topK': 34, 'alpha': 0.7501546729458891}. Best is trial 42 with value: 0.04240242881329453.\n"
     ]
    },
    {
     "name": "stdout",
     "output_type": "stream",
     "text": [
      "EvaluatorHoldout: Processed 10437 (100.0%) in 7.04 sec. Users per second: 1483\n",
      "EvaluatorHoldout: Processed 10532 (100.0%) in 7.13 sec. Users per second: 1478\n",
      "EvaluatorHoldout: Processed 10466 (100.0%) in 7.14 sec. Users per second: 1465\n"
     ]
    },
    {
     "name": "stderr",
     "output_type": "stream",
     "text": [
      "[I 2023-12-11 16:47:47,512] Trial 158 finished with value: 0.042275485247057994 and parameters: {'topK': 36, 'alpha': 0.7267661953410737}. Best is trial 42 with value: 0.04240242881329453.\n"
     ]
    },
    {
     "name": "stdout",
     "output_type": "stream",
     "text": [
      "EvaluatorHoldout: Processed 10437 (100.0%) in 7.10 sec. Users per second: 1469\n",
      "EvaluatorHoldout: Processed 10532 (100.0%) in 7.69 sec. Users per second: 1370\n",
      "EvaluatorHoldout: Processed 10466 (100.0%) in 7.08 sec. Users per second: 1478\n"
     ]
    },
    {
     "name": "stderr",
     "output_type": "stream",
     "text": [
      "[I 2023-12-11 16:48:28,548] Trial 159 finished with value: 0.04233362088954481 and parameters: {'topK': 46, 'alpha': 0.7454864504533804}. Best is trial 42 with value: 0.04240242881329453.\n"
     ]
    },
    {
     "name": "stdout",
     "output_type": "stream",
     "text": [
      "EvaluatorHoldout: Processed 10437 (100.0%) in 7.18 sec. Users per second: 1454\n",
      "EvaluatorHoldout: Processed 10532 (100.0%) in 7.32 sec. Users per second: 1439\n",
      "EvaluatorHoldout: Processed 10466 (100.0%) in 7.16 sec. Users per second: 1461\n"
     ]
    },
    {
     "name": "stderr",
     "output_type": "stream",
     "text": [
      "[I 2023-12-11 16:49:11,792] Trial 160 finished with value: 0.042264224312168495 and parameters: {'topK': 68, 'alpha': 0.7598807728633457}. Best is trial 42 with value: 0.04240242881329453.\n"
     ]
    },
    {
     "name": "stdout",
     "output_type": "stream",
     "text": [
      "EvaluatorHoldout: Processed 10437 (100.0%) in 7.22 sec. Users per second: 1446\n",
      "EvaluatorHoldout: Processed 10532 (100.0%) in 7.23 sec. Users per second: 1457\n",
      "EvaluatorHoldout: Processed 10466 (100.0%) in 7.60 sec. Users per second: 1377\n"
     ]
    },
    {
     "name": "stderr",
     "output_type": "stream",
     "text": [
      "[I 2023-12-11 16:49:52,046] Trial 161 finished with value: 0.04237752329922723 and parameters: {'topK': 38, 'alpha': 0.7384220064052445}. Best is trial 42 with value: 0.04240242881329453.\n"
     ]
    },
    {
     "name": "stdout",
     "output_type": "stream",
     "text": [
      "EvaluatorHoldout: Processed 10437 (100.0%) in 6.99 sec. Users per second: 1494\n",
      "EvaluatorHoldout: Processed 10532 (100.0%) in 7.25 sec. Users per second: 1454\n",
      "EvaluatorHoldout: Processed 10466 (100.0%) in 7.23 sec. Users per second: 1448\n"
     ]
    },
    {
     "name": "stderr",
     "output_type": "stream",
     "text": [
      "[I 2023-12-11 16:50:31,937] Trial 162 finished with value: 0.042363787687266334 and parameters: {'topK': 40, 'alpha': 0.7397077118152383}. Best is trial 42 with value: 0.04240242881329453.\n"
     ]
    },
    {
     "name": "stdout",
     "output_type": "stream",
     "text": [
      "EvaluatorHoldout: Processed 10437 (100.0%) in 7.13 sec. Users per second: 1464\n",
      "EvaluatorHoldout: Processed 10532 (100.0%) in 7.14 sec. Users per second: 1475\n",
      "EvaluatorHoldout: Processed 10466 (100.0%) in 7.21 sec. Users per second: 1452\n"
     ]
    },
    {
     "name": "stderr",
     "output_type": "stream",
     "text": [
      "[I 2023-12-11 16:51:12,144] Trial 163 finished with value: 0.04189038134411701 and parameters: {'topK': 43, 'alpha': 0.719499896000157}. Best is trial 42 with value: 0.04240242881329453.\n"
     ]
    },
    {
     "name": "stdout",
     "output_type": "stream",
     "text": [
      "EvaluatorHoldout: Processed 10437 (100.0%) in 7.03 sec. Users per second: 1485\n",
      "EvaluatorHoldout: Processed 10532 (100.0%) in 7.11 sec. Users per second: 1481\n",
      "EvaluatorHoldout: Processed 10466 (100.0%) in 7.06 sec. Users per second: 1482\n"
     ]
    },
    {
     "name": "stderr",
     "output_type": "stream",
     "text": [
      "[I 2023-12-11 16:51:52,141] Trial 164 finished with value: 0.042355160595547205 and parameters: {'topK': 41, 'alpha': 0.7360876511697653}. Best is trial 42 with value: 0.04240242881329453.\n"
     ]
    },
    {
     "name": "stdout",
     "output_type": "stream",
     "text": [
      "EvaluatorHoldout: Processed 10437 (100.0%) in 7.09 sec. Users per second: 1472\n",
      "EvaluatorHoldout: Processed 10532 (100.0%) in 7.15 sec. Users per second: 1473\n",
      "EvaluatorHoldout: Processed 10466 (100.0%) in 7.06 sec. Users per second: 1482\n"
     ]
    },
    {
     "name": "stderr",
     "output_type": "stream",
     "text": [
      "[I 2023-12-11 16:52:32,062] Trial 165 finished with value: 0.04235968274031517 and parameters: {'topK': 41, 'alpha': 0.7367323874576237}. Best is trial 42 with value: 0.04240242881329453.\n"
     ]
    },
    {
     "name": "stdout",
     "output_type": "stream",
     "text": [
      "EvaluatorHoldout: Processed 10437 (100.0%) in 7.28 sec. Users per second: 1434\n",
      "EvaluatorHoldout: Processed 10532 (100.0%) in 7.12 sec. Users per second: 1479\n",
      "EvaluatorHoldout: Processed 10466 (100.0%) in 7.16 sec. Users per second: 1462\n"
     ]
    },
    {
     "name": "stderr",
     "output_type": "stream",
     "text": [
      "[I 2023-12-11 16:53:12,509] Trial 166 finished with value: 0.04235408012542732 and parameters: {'topK': 42, 'alpha': 0.7394001836163385}. Best is trial 42 with value: 0.04240242881329453.\n"
     ]
    },
    {
     "name": "stdout",
     "output_type": "stream",
     "text": [
      "EvaluatorHoldout: Processed 10437 (100.0%) in 7.21 sec. Users per second: 1448\n",
      "EvaluatorHoldout: Processed 10532 (100.0%) in 7.37 sec. Users per second: 1430\n",
      "EvaluatorHoldout: Processed 10466 (100.0%) in 7.16 sec. Users per second: 1462\n"
     ]
    },
    {
     "name": "stderr",
     "output_type": "stream",
     "text": [
      "[I 2023-12-11 16:53:53,752] Trial 167 finished with value: 0.042171424939680506 and parameters: {'topK': 49, 'alpha': 0.7403775753136641}. Best is trial 42 with value: 0.04240242881329453.\n"
     ]
    },
    {
     "name": "stdout",
     "output_type": "stream",
     "text": [
      "EvaluatorHoldout: Processed 10437 (100.0%) in 7.22 sec. Users per second: 1446\n",
      "EvaluatorHoldout: Processed 10532 (100.0%) in 7.29 sec. Users per second: 1444\n",
      "EvaluatorHoldout: Processed 10466 (100.0%) in 7.24 sec. Users per second: 1446\n"
     ]
    },
    {
     "name": "stderr",
     "output_type": "stream",
     "text": [
      "[I 2023-12-11 16:54:34,242] Trial 168 finished with value: 0.0417769653183728 and parameters: {'topK': 42, 'alpha': 0.7153827960340479}. Best is trial 42 with value: 0.04240242881329453.\n"
     ]
    },
    {
     "name": "stdout",
     "output_type": "stream",
     "text": [
      "EvaluatorHoldout: Processed 10437 (100.0%) in 7.05 sec. Users per second: 1480\n",
      "EvaluatorHoldout: Processed 10532 (100.0%) in 7.22 sec. Users per second: 1460\n",
      "EvaluatorHoldout: Processed 10466 (100.0%) in 7.11 sec. Users per second: 1472\n"
     ]
    },
    {
     "name": "stderr",
     "output_type": "stream",
     "text": [
      "[I 2023-12-11 16:55:14,428] Trial 169 finished with value: 0.041911755653522266 and parameters: {'topK': 45, 'alpha': 0.7254997228698334}. Best is trial 42 with value: 0.04240242881329453.\n"
     ]
    },
    {
     "name": "stdout",
     "output_type": "stream",
     "text": [
      "EvaluatorHoldout: Processed 10437 (100.0%) in 7.20 sec. Users per second: 1449\n",
      "EvaluatorHoldout: Processed 10532 (100.0%) in 7.12 sec. Users per second: 1479\n",
      "EvaluatorHoldout: Processed 10466 (100.0%) in 7.12 sec. Users per second: 1470\n"
     ]
    },
    {
     "name": "stderr",
     "output_type": "stream",
     "text": [
      "[I 2023-12-11 16:55:54,183] Trial 170 finished with value: 0.042338430998046205 and parameters: {'topK': 41, 'alpha': 0.7534980604500883}. Best is trial 42 with value: 0.04240242881329453.\n"
     ]
    },
    {
     "name": "stdout",
     "output_type": "stream",
     "text": [
      "EvaluatorHoldout: Processed 10437 (100.0%) in 7.53 sec. Users per second: 1386\n",
      "EvaluatorHoldout: Processed 10532 (100.0%) in 7.35 sec. Users per second: 1432\n",
      "EvaluatorHoldout: Processed 10466 (100.0%) in 7.11 sec. Users per second: 1472\n"
     ]
    },
    {
     "name": "stderr",
     "output_type": "stream",
     "text": [
      "[I 2023-12-11 16:56:34,713] Trial 171 finished with value: 0.04224864364069666 and parameters: {'topK': 43, 'alpha': 0.7363864890238657}. Best is trial 42 with value: 0.04240242881329453.\n"
     ]
    },
    {
     "name": "stdout",
     "output_type": "stream",
     "text": [
      "EvaluatorHoldout: Processed 10437 (100.0%) in 7.13 sec. Users per second: 1463\n",
      "EvaluatorHoldout: Processed 10532 (100.0%) in 7.53 sec. Users per second: 1400\n",
      "EvaluatorHoldout: Processed 10466 (100.0%) in 7.36 sec. Users per second: 1422\n"
     ]
    },
    {
     "name": "stderr",
     "output_type": "stream",
     "text": [
      "[I 2023-12-11 16:57:15,067] Trial 172 finished with value: 0.04237242001142596 and parameters: {'topK': 40, 'alpha': 0.7385519020357633}. Best is trial 42 with value: 0.04240242881329453.\n"
     ]
    },
    {
     "name": "stdout",
     "output_type": "stream",
     "text": [
      "EvaluatorHoldout: Processed 10437 (100.0%) in 7.10 sec. Users per second: 1471\n",
      "EvaluatorHoldout: Processed 10532 (100.0%) in 7.13 sec. Users per second: 1476\n",
      "EvaluatorHoldout: Processed 10466 (100.0%) in 7.09 sec. Users per second: 1476\n"
     ]
    },
    {
     "name": "stderr",
     "output_type": "stream",
     "text": [
      "[I 2023-12-11 16:57:54,964] Trial 173 finished with value: 0.04237448097441992 and parameters: {'topK': 41, 'alpha': 0.7429428018860984}. Best is trial 42 with value: 0.04240242881329453.\n"
     ]
    },
    {
     "name": "stdout",
     "output_type": "stream",
     "text": [
      "EvaluatorHoldout: Processed 10437 (100.0%) in 7.13 sec. Users per second: 1464\n",
      "EvaluatorHoldout: Processed 10532 (100.0%) in 8.09 sec. Users per second: 1302\n",
      "EvaluatorHoldout: Processed 10466 (100.0%) in 7.00 sec. Users per second: 1496\n"
     ]
    },
    {
     "name": "stderr",
     "output_type": "stream",
     "text": [
      "[I 2023-12-11 16:58:35,443] Trial 174 finished with value: 0.04237402232791735 and parameters: {'topK': 40, 'alpha': 0.7416395046090946}. Best is trial 42 with value: 0.04240242881329453.\n"
     ]
    },
    {
     "name": "stdout",
     "output_type": "stream",
     "text": [
      "EvaluatorHoldout: Processed 10437 (100.0%) in 7.09 sec. Users per second: 1472\n",
      "EvaluatorHoldout: Processed 10532 (100.0%) in 7.16 sec. Users per second: 1470\n",
      "EvaluatorHoldout: Processed 10466 (100.0%) in 7.08 sec. Users per second: 1478\n"
     ]
    },
    {
     "name": "stderr",
     "output_type": "stream",
     "text": [
      "[I 2023-12-11 16:59:15,355] Trial 175 finished with value: 0.042409523501854396 and parameters: {'topK': 40, 'alpha': 0.7464286084421005}. Best is trial 175 with value: 0.042409523501854396.\n"
     ]
    },
    {
     "name": "stdout",
     "output_type": "stream",
     "text": [
      "EvaluatorHoldout: Processed 10437 (100.0%) in 7.10 sec. Users per second: 1471\n",
      "EvaluatorHoldout: Processed 10532 (100.0%) in 7.13 sec. Users per second: 1478\n",
      "EvaluatorHoldout: Processed 10466 (100.0%) in 7.16 sec. Users per second: 1461\n"
     ]
    },
    {
     "name": "stderr",
     "output_type": "stream",
     "text": [
      "[I 2023-12-11 16:59:55,268] Trial 176 finished with value: 0.04208224274167771 and parameters: {'topK': 40, 'alpha': 0.7653342396747016}. Best is trial 175 with value: 0.042409523501854396.\n"
     ]
    },
    {
     "name": "stdout",
     "output_type": "stream",
     "text": [
      "EvaluatorHoldout: Processed 10437 (100.0%) in 7.03 sec. Users per second: 1485\n",
      "EvaluatorHoldout: Processed 10532 (100.0%) in 7.48 sec. Users per second: 1408\n",
      "EvaluatorHoldout: Processed 10466 (100.0%) in 7.06 sec. Users per second: 1482\n"
     ]
    },
    {
     "name": "stderr",
     "output_type": "stream",
     "text": [
      "[I 2023-12-11 17:00:35,741] Trial 177 finished with value: 0.04234307463496519 and parameters: {'topK': 44, 'alpha': 0.7490799550599786}. Best is trial 175 with value: 0.042409523501854396.\n"
     ]
    },
    {
     "name": "stdout",
     "output_type": "stream",
     "text": [
      "EvaluatorHoldout: Processed 10437 (100.0%) in 7.17 sec. Users per second: 1456\n",
      "EvaluatorHoldout: Processed 10532 (100.0%) in 7.12 sec. Users per second: 1479\n",
      "EvaluatorHoldout: Processed 10466 (100.0%) in 7.12 sec. Users per second: 1469\n"
     ]
    },
    {
     "name": "stderr",
     "output_type": "stream",
     "text": [
      "[I 2023-12-11 17:01:16,318] Trial 178 finished with value: 0.042300789919919736 and parameters: {'topK': 47, 'alpha': 0.7574082619696788}. Best is trial 175 with value: 0.042409523501854396.\n"
     ]
    },
    {
     "name": "stdout",
     "output_type": "stream",
     "text": [
      "EvaluatorHoldout: Processed 10437 (100.0%) in 7.10 sec. Users per second: 1471\n",
      "EvaluatorHoldout: Processed 10532 (100.0%) in 7.11 sec. Users per second: 1481\n",
      "EvaluatorHoldout: Processed 10466 (100.0%) in 7.36 sec. Users per second: 1421\n"
     ]
    },
    {
     "name": "stderr",
     "output_type": "stream",
     "text": [
      "[I 2023-12-11 17:01:56,167] Trial 179 finished with value: 0.042384603270897776 and parameters: {'topK': 39, 'alpha': 0.7434252622080589}. Best is trial 175 with value: 0.042409523501854396.\n"
     ]
    },
    {
     "name": "stdout",
     "output_type": "stream",
     "text": [
      "EvaluatorHoldout: Processed 10437 (100.0%) in 7.21 sec. Users per second: 1447\n",
      "EvaluatorHoldout: Processed 10532 (100.0%) in 7.14 sec. Users per second: 1475\n",
      "EvaluatorHoldout: Processed 10466 (100.0%) in 7.15 sec. Users per second: 1464\n"
     ]
    },
    {
     "name": "stderr",
     "output_type": "stream",
     "text": [
      "[I 2023-12-11 17:02:35,953] Trial 180 finished with value: 0.04234852560972969 and parameters: {'topK': 38, 'alpha': 0.7445281031033668}. Best is trial 175 with value: 0.042409523501854396.\n"
     ]
    },
    {
     "name": "stdout",
     "output_type": "stream",
     "text": [
      "EvaluatorHoldout: Processed 10437 (100.0%) in 7.10 sec. Users per second: 1470\n",
      "EvaluatorHoldout: Processed 10532 (100.0%) in 7.25 sec. Users per second: 1453\n",
      "EvaluatorHoldout: Processed 10466 (100.0%) in 7.10 sec. Users per second: 1474\n"
     ]
    },
    {
     "name": "stderr",
     "output_type": "stream",
     "text": [
      "[I 2023-12-11 17:03:15,709] Trial 181 finished with value: 0.04232029843099577 and parameters: {'topK': 40, 'alpha': 0.7535199882069427}. Best is trial 175 with value: 0.042409523501854396.\n"
     ]
    },
    {
     "name": "stdout",
     "output_type": "stream",
     "text": [
      "EvaluatorHoldout: Processed 10437 (100.0%) in 7.15 sec. Users per second: 1460\n",
      "EvaluatorHoldout: Processed 10532 (100.0%) in 7.14 sec. Users per second: 1476\n",
      "EvaluatorHoldout: Processed 10466 (100.0%) in 6.99 sec. Users per second: 1496\n"
     ]
    },
    {
     "name": "stderr",
     "output_type": "stream",
     "text": [
      "[I 2023-12-11 17:03:55,307] Trial 182 finished with value: 0.04238406888099949 and parameters: {'topK': 39, 'alpha': 0.743418363189762}. Best is trial 175 with value: 0.042409523501854396.\n"
     ]
    },
    {
     "name": "stdout",
     "output_type": "stream",
     "text": [
      "EvaluatorHoldout: Processed 10437 (100.0%) in 7.90 sec. Users per second: 1322\n",
      "EvaluatorHoldout: Processed 10532 (100.0%) in 7.18 sec. Users per second: 1468\n",
      "EvaluatorHoldout: Processed 10466 (100.0%) in 7.71 sec. Users per second: 1357\n"
     ]
    },
    {
     "name": "stderr",
     "output_type": "stream",
     "text": [
      "[I 2023-12-11 17:04:36,258] Trial 183 finished with value: 0.04239022947509854 and parameters: {'topK': 39, 'alpha': 0.7434381070002601}. Best is trial 175 with value: 0.042409523501854396.\n"
     ]
    },
    {
     "name": "stdout",
     "output_type": "stream",
     "text": [
      "EvaluatorHoldout: Processed 10437 (100.0%) in 7.08 sec. Users per second: 1473\n",
      "EvaluatorHoldout: Processed 10532 (100.0%) in 7.16 sec. Users per second: 1471\n",
      "EvaluatorHoldout: Processed 10466 (100.0%) in 7.00 sec. Users per second: 1494\n"
     ]
    },
    {
     "name": "stderr",
     "output_type": "stream",
     "text": [
      "[I 2023-12-11 17:05:15,356] Trial 184 finished with value: 0.04231196503361679 and parameters: {'topK': 36, 'alpha': 0.7276737810085943}. Best is trial 175 with value: 0.042409523501854396.\n"
     ]
    },
    {
     "name": "stdout",
     "output_type": "stream",
     "text": [
      "EvaluatorHoldout: Processed 10437 (100.0%) in 7.27 sec. Users per second: 1437\n",
      "EvaluatorHoldout: Processed 10532 (100.0%) in 7.19 sec. Users per second: 1464\n",
      "EvaluatorHoldout: Processed 10466 (100.0%) in 7.09 sec. Users per second: 1477\n"
     ]
    },
    {
     "name": "stderr",
     "output_type": "stream",
     "text": [
      "[I 2023-12-11 17:05:55,124] Trial 185 finished with value: 0.04200223145598445 and parameters: {'topK': 38, 'alpha': 0.7639252059623788}. Best is trial 175 with value: 0.042409523501854396.\n"
     ]
    },
    {
     "name": "stdout",
     "output_type": "stream",
     "text": [
      "EvaluatorHoldout: Processed 10437 (100.0%) in 7.12 sec. Users per second: 1466\n",
      "EvaluatorHoldout: Processed 10532 (100.0%) in 7.10 sec. Users per second: 1484\n",
      "EvaluatorHoldout: Processed 10466 (100.0%) in 7.02 sec. Users per second: 1492\n"
     ]
    },
    {
     "name": "stderr",
     "output_type": "stream",
     "text": [
      "[I 2023-12-11 17:06:34,780] Trial 186 finished with value: 0.042363269129802095 and parameters: {'topK': 39, 'alpha': 0.7407715889394398}. Best is trial 175 with value: 0.042409523501854396.\n"
     ]
    },
    {
     "name": "stdout",
     "output_type": "stream",
     "text": [
      "EvaluatorHoldout: Processed 10437 (100.0%) in 7.07 sec. Users per second: 1476\n",
      "EvaluatorHoldout: Processed 10532 (100.0%) in 7.10 sec. Users per second: 1484\n",
      "EvaluatorHoldout: Processed 10466 (100.0%) in 7.02 sec. Users per second: 1492\n"
     ]
    },
    {
     "name": "stderr",
     "output_type": "stream",
     "text": [
      "[I 2023-12-11 17:07:14,346] Trial 187 finished with value: 0.042379202353508956 and parameters: {'topK': 39, 'alpha': 0.7436145865242147}. Best is trial 175 with value: 0.042409523501854396.\n"
     ]
    },
    {
     "name": "stdout",
     "output_type": "stream",
     "text": [
      "EvaluatorHoldout: Processed 10437 (100.0%) in 7.05 sec. Users per second: 1480\n",
      "EvaluatorHoldout: Processed 10532 (100.0%) in 7.13 sec. Users per second: 1477\n",
      "EvaluatorHoldout: Processed 10466 (100.0%) in 7.17 sec. Users per second: 1459\n"
     ]
    },
    {
     "name": "stderr",
     "output_type": "stream",
     "text": [
      "[I 2023-12-11 17:07:53,710] Trial 188 finished with value: 0.04136171513465667 and parameters: {'topK': 36, 'alpha': 0.770557550930076}. Best is trial 175 with value: 0.042409523501854396.\n"
     ]
    },
    {
     "name": "stdout",
     "output_type": "stream",
     "text": [
      "EvaluatorHoldout: Processed 10437 (100.0%) in 7.00 sec. Users per second: 1490\n",
      "EvaluatorHoldout: Processed 10532 (100.0%) in 7.20 sec. Users per second: 1462\n",
      "EvaluatorHoldout: Processed 10466 (100.0%) in 6.98 sec. Users per second: 1498\n"
     ]
    },
    {
     "name": "stderr",
     "output_type": "stream",
     "text": [
      "[I 2023-12-11 17:08:33,183] Trial 189 finished with value: 0.04227902044469908 and parameters: {'topK': 38, 'alpha': 0.7525972927288288}. Best is trial 175 with value: 0.042409523501854396.\n"
     ]
    },
    {
     "name": "stdout",
     "output_type": "stream",
     "text": [
      "EvaluatorHoldout: Processed 10437 (100.0%) in 7.16 sec. Users per second: 1458\n",
      "EvaluatorHoldout: Processed 10532 (100.0%) in 7.39 sec. Users per second: 1426\n",
      "EvaluatorHoldout: Processed 10466 (100.0%) in 7.15 sec. Users per second: 1464\n"
     ]
    },
    {
     "name": "stderr",
     "output_type": "stream",
     "text": [
      "[I 2023-12-11 17:09:13,581] Trial 190 finished with value: 0.041925511349352185 and parameters: {'topK': 43, 'alpha': 0.7222387952355714}. Best is trial 175 with value: 0.042409523501854396.\n"
     ]
    },
    {
     "name": "stdout",
     "output_type": "stream",
     "text": [
      "EvaluatorHoldout: Processed 10437 (100.0%) in 7.19 sec. Users per second: 1451\n",
      "EvaluatorHoldout: Processed 10532 (100.0%) in 7.18 sec. Users per second: 1468\n",
      "EvaluatorHoldout: Processed 10466 (100.0%) in 7.14 sec. Users per second: 1466\n"
     ]
    },
    {
     "name": "stderr",
     "output_type": "stream",
     "text": [
      "[I 2023-12-11 17:09:53,616] Trial 191 finished with value: 0.042381411370079176 and parameters: {'topK': 39, 'alpha': 0.7436187645783815}. Best is trial 175 with value: 0.042409523501854396.\n"
     ]
    },
    {
     "name": "stdout",
     "output_type": "stream",
     "text": [
      "EvaluatorHoldout: Processed 10437 (100.0%) in 7.08 sec. Users per second: 1474\n",
      "EvaluatorHoldout: Processed 10532 (100.0%) in 7.11 sec. Users per second: 1482\n",
      "EvaluatorHoldout: Processed 10466 (100.0%) in 7.09 sec. Users per second: 1476\n"
     ]
    },
    {
     "name": "stderr",
     "output_type": "stream",
     "text": [
      "[I 2023-12-11 17:10:33,128] Trial 192 finished with value: 0.04234108557664279 and parameters: {'topK': 39, 'alpha': 0.7449012931604717}. Best is trial 175 with value: 0.042409523501854396.\n"
     ]
    },
    {
     "name": "stdout",
     "output_type": "stream",
     "text": [
      "EvaluatorHoldout: Processed 10437 (100.0%) in 7.15 sec. Users per second: 1459\n",
      "EvaluatorHoldout: Processed 10532 (100.0%) in 7.22 sec. Users per second: 1460\n",
      "EvaluatorHoldout: Processed 10466 (100.0%) in 7.14 sec. Users per second: 1467\n"
     ]
    },
    {
     "name": "stderr",
     "output_type": "stream",
     "text": [
      "[I 2023-12-11 17:11:12,634] Trial 193 finished with value: 0.04217439890666327 and parameters: {'topK': 36, 'alpha': 0.7558235160088183}. Best is trial 175 with value: 0.042409523501854396.\n"
     ]
    },
    {
     "name": "stdout",
     "output_type": "stream",
     "text": [
      "EvaluatorHoldout: Processed 10437 (100.0%) in 7.08 sec. Users per second: 1475\n",
      "EvaluatorHoldout: Processed 10532 (100.0%) in 7.77 sec. Users per second: 1355\n",
      "EvaluatorHoldout: Processed 10466 (100.0%) in 7.05 sec. Users per second: 1485\n"
     ]
    },
    {
     "name": "stderr",
     "output_type": "stream",
     "text": [
      "[I 2023-12-11 17:11:52,859] Trial 194 finished with value: 0.042378841191841966 and parameters: {'topK': 39, 'alpha': 0.7437609111903605}. Best is trial 175 with value: 0.042409523501854396.\n"
     ]
    },
    {
     "name": "stdout",
     "output_type": "stream",
     "text": [
      "EvaluatorHoldout: Processed 10437 (100.0%) in 7.06 sec. Users per second: 1479\n",
      "EvaluatorHoldout: Processed 10532 (100.0%) in 7.12 sec. Users per second: 1480\n",
      "EvaluatorHoldout: Processed 10466 (100.0%) in 7.21 sec. Users per second: 1452\n"
     ]
    },
    {
     "name": "stderr",
     "output_type": "stream",
     "text": [
      "[I 2023-12-11 17:12:32,073] Trial 195 finished with value: 0.04220433995831226 and parameters: {'topK': 34, 'alpha': 0.7479535423574428}. Best is trial 175 with value: 0.042409523501854396.\n"
     ]
    },
    {
     "name": "stdout",
     "output_type": "stream",
     "text": [
      "EvaluatorHoldout: Processed 10437 (100.0%) in 7.16 sec. Users per second: 1457\n",
      "EvaluatorHoldout: Processed 10532 (100.0%) in 7.28 sec. Users per second: 1446\n",
      "EvaluatorHoldout: Processed 10466 (100.0%) in 7.38 sec. Users per second: 1418\n"
     ]
    },
    {
     "name": "stderr",
     "output_type": "stream",
     "text": [
      "[I 2023-12-11 17:13:12,136] Trial 196 finished with value: 0.04214828403934719 and parameters: {'topK': 39, 'alpha': 0.726524468313381}. Best is trial 175 with value: 0.042409523501854396.\n"
     ]
    },
    {
     "name": "stdout",
     "output_type": "stream",
     "text": [
      "EvaluatorHoldout: Processed 10437 (100.0%) in 7.18 sec. Users per second: 1453\n",
      "EvaluatorHoldout: Processed 10532 (100.0%) in 7.20 sec. Users per second: 1464\n",
      "EvaluatorHoldout: Processed 10466 (100.0%) in 7.16 sec. Users per second: 1462\n"
     ]
    },
    {
     "name": "stderr",
     "output_type": "stream",
     "text": [
      "[I 2023-12-11 17:13:51,882] Trial 197 finished with value: 0.04206138925736017 and parameters: {'topK': 37, 'alpha': 0.7613108545445002}. Best is trial 175 with value: 0.042409523501854396.\n"
     ]
    },
    {
     "name": "stdout",
     "output_type": "stream",
     "text": [
      "EvaluatorHoldout: Processed 10437 (100.0%) in 7.36 sec. Users per second: 1418\n",
      "EvaluatorHoldout: Processed 10532 (100.0%) in 7.20 sec. Users per second: 1463\n",
      "EvaluatorHoldout: Processed 10466 (100.0%) in 7.27 sec. Users per second: 1439\n"
     ]
    },
    {
     "name": "stderr",
     "output_type": "stream",
     "text": [
      "[I 2023-12-11 17:14:32,704] Trial 198 finished with value: 0.04231320743471423 and parameters: {'topK': 43, 'alpha': 0.7452836676505636}. Best is trial 175 with value: 0.042409523501854396.\n"
     ]
    },
    {
     "name": "stdout",
     "output_type": "stream",
     "text": [
      "EvaluatorHoldout: Processed 10437 (100.0%) in 7.17 sec. Users per second: 1457\n",
      "EvaluatorHoldout: Processed 10532 (100.0%) in 7.29 sec. Users per second: 1445\n",
      "EvaluatorHoldout: Processed 10466 (100.0%) in 7.10 sec. Users per second: 1475\n"
     ]
    },
    {
     "name": "stderr",
     "output_type": "stream",
     "text": [
      "[I 2023-12-11 17:15:12,652] Trial 199 finished with value: 0.04238458616387236 and parameters: {'topK': 38, 'alpha': 0.7296380814448666}. Best is trial 175 with value: 0.042409523501854396.\n"
     ]
    },
    {
     "name": "stdout",
     "output_type": "stream",
     "text": [
      "EvaluatorHoldout: Processed 10437 (100.0%) in 7.27 sec. Users per second: 1435\n",
      "EvaluatorHoldout: Processed 10532 (100.0%) in 7.23 sec. Users per second: 1456\n",
      "EvaluatorHoldout: Processed 10466 (100.0%) in 7.17 sec. Users per second: 1461\n"
     ]
    },
    {
     "name": "stderr",
     "output_type": "stream",
     "text": [
      "[I 2023-12-11 17:15:52,824] Trial 200 finished with value: 0.04226616957547119 and parameters: {'topK': 35, 'alpha': 0.7290169194638249}. Best is trial 175 with value: 0.042409523501854396.\n"
     ]
    },
    {
     "name": "stdout",
     "output_type": "stream",
     "text": [
      "EvaluatorHoldout: Processed 10437 (100.0%) in 7.30 sec. Users per second: 1430\n",
      "EvaluatorHoldout: Processed 10532 (100.0%) in 7.14 sec. Users per second: 1476\n",
      "EvaluatorHoldout: Processed 10466 (100.0%) in 7.13 sec. Users per second: 1467\n"
     ]
    },
    {
     "name": "stderr",
     "output_type": "stream",
     "text": [
      "[I 2023-12-11 17:16:32,577] Trial 201 finished with value: 0.042360483007905736 and parameters: {'topK': 38, 'alpha': 0.7404809767994925}. Best is trial 175 with value: 0.042409523501854396.\n"
     ]
    },
    {
     "name": "stdout",
     "output_type": "stream",
     "text": [
      "EvaluatorHoldout: Processed 10437 (100.0%) in 7.12 sec. Users per second: 1465\n",
      "EvaluatorHoldout: Processed 10532 (100.0%) in 7.32 sec. Users per second: 1439\n",
      "EvaluatorHoldout: Processed 10466 (100.0%) in 7.47 sec. Users per second: 1402\n"
     ]
    },
    {
     "name": "stderr",
     "output_type": "stream",
     "text": [
      "[I 2023-12-11 17:17:13,036] Trial 202 finished with value: 0.04233963541471999 and parameters: {'topK': 40, 'alpha': 0.7331573896589979}. Best is trial 175 with value: 0.042409523501854396.\n"
     ]
    },
    {
     "name": "stdout",
     "output_type": "stream",
     "text": [
      "EvaluatorHoldout: Processed 10437 (100.0%) in 7.07 sec. Users per second: 1476\n",
      "EvaluatorHoldout: Processed 10532 (100.0%) in 7.31 sec. Users per second: 1441\n",
      "EvaluatorHoldout: Processed 10466 (100.0%) in 7.18 sec. Users per second: 1458\n"
     ]
    },
    {
     "name": "stderr",
     "output_type": "stream",
     "text": [
      "[I 2023-12-11 17:17:52,735] Trial 203 finished with value: 0.04225480306174015 and parameters: {'topK': 37, 'alpha': 0.75456562003156}. Best is trial 175 with value: 0.042409523501854396.\n"
     ]
    },
    {
     "name": "stdout",
     "output_type": "stream",
     "text": [
      "EvaluatorHoldout: Processed 10437 (100.0%) in 7.12 sec. Users per second: 1467\n",
      "EvaluatorHoldout: Processed 10532 (100.0%) in 7.33 sec. Users per second: 1438\n",
      "EvaluatorHoldout: Processed 10466 (100.0%) in 7.25 sec. Users per second: 1444\n"
     ]
    },
    {
     "name": "stderr",
     "output_type": "stream",
     "text": [
      "[I 2023-12-11 17:18:33,045] Trial 204 finished with value: 0.04178732057757493 and parameters: {'topK': 42, 'alpha': 0.7165746921280711}. Best is trial 175 with value: 0.042409523501854396.\n"
     ]
    },
    {
     "name": "stdout",
     "output_type": "stream",
     "text": [
      "EvaluatorHoldout: Processed 10437 (100.0%) in 7.37 sec. Users per second: 1417\n",
      "EvaluatorHoldout: Processed 10532 (100.0%) in 7.17 sec. Users per second: 1468\n",
      "EvaluatorHoldout: Processed 10466 (100.0%) in 7.06 sec. Users per second: 1483\n"
     ]
    },
    {
     "name": "stderr",
     "output_type": "stream",
     "text": [
      "[I 2023-12-11 17:19:12,948] Trial 205 finished with value: 0.04238483266666754 and parameters: {'topK': 39, 'alpha': 0.7485987144948241}. Best is trial 175 with value: 0.042409523501854396.\n"
     ]
    },
    {
     "name": "stdout",
     "output_type": "stream",
     "text": [
      "EvaluatorHoldout: Processed 10437 (100.0%) in 7.07 sec. Users per second: 1476\n",
      "EvaluatorHoldout: Processed 10532 (100.0%) in 7.59 sec. Users per second: 1387\n",
      "EvaluatorHoldout: Processed 10466 (100.0%) in 7.15 sec. Users per second: 1464\n"
     ]
    },
    {
     "name": "stderr",
     "output_type": "stream",
     "text": [
      "[I 2023-12-11 17:19:53,216] Trial 206 finished with value: 0.042342200273183396 and parameters: {'topK': 38, 'alpha': 0.7489015973310209}. Best is trial 175 with value: 0.042409523501854396.\n"
     ]
    },
    {
     "name": "stdout",
     "output_type": "stream",
     "text": [
      "EvaluatorHoldout: Processed 10437 (100.0%) in 7.09 sec. Users per second: 1473\n",
      "EvaluatorHoldout: Processed 10532 (100.0%) in 7.22 sec. Users per second: 1459\n",
      "EvaluatorHoldout: Processed 10466 (100.0%) in 7.29 sec. Users per second: 1435\n"
     ]
    },
    {
     "name": "stderr",
     "output_type": "stream",
     "text": [
      "[I 2023-12-11 17:20:32,991] Trial 207 finished with value: 0.0423384332842331 and parameters: {'topK': 35, 'alpha': 0.7311968024702313}. Best is trial 175 with value: 0.042409523501854396.\n"
     ]
    },
    {
     "name": "stdout",
     "output_type": "stream",
     "text": [
      "EvaluatorHoldout: Processed 10437 (100.0%) in 7.22 sec. Users per second: 1446\n",
      "EvaluatorHoldout: Processed 10532 (100.0%) in 7.16 sec. Users per second: 1470\n",
      "EvaluatorHoldout: Processed 10466 (100.0%) in 7.14 sec. Users per second: 1466\n"
     ]
    },
    {
     "name": "stderr",
     "output_type": "stream",
     "text": [
      "[I 2023-12-11 17:21:12,394] Trial 208 finished with value: 0.04181015222109813 and parameters: {'topK': 32, 'alpha': 0.7574942128266178}. Best is trial 175 with value: 0.042409523501854396.\n"
     ]
    },
    {
     "name": "stdout",
     "output_type": "stream",
     "text": [
      "EvaluatorHoldout: Processed 10437 (100.0%) in 7.18 sec. Users per second: 1455\n",
      "EvaluatorHoldout: Processed 10532 (100.0%) in 7.78 sec. Users per second: 1353\n",
      "EvaluatorHoldout: Processed 10466 (100.0%) in 7.23 sec. Users per second: 1447\n"
     ]
    },
    {
     "name": "stderr",
     "output_type": "stream",
     "text": [
      "[I 2023-12-11 17:21:53,040] Trial 209 finished with value: 0.04238959264321055 and parameters: {'topK': 40, 'alpha': 0.7452314997273366}. Best is trial 175 with value: 0.042409523501854396.\n"
     ]
    },
    {
     "name": "stdout",
     "output_type": "stream",
     "text": [
      "EvaluatorHoldout: Processed 10437 (100.0%) in 7.77 sec. Users per second: 1343\n",
      "EvaluatorHoldout: Processed 10532 (100.0%) in 7.13 sec. Users per second: 1477\n",
      "EvaluatorHoldout: Processed 10466 (100.0%) in 7.19 sec. Users per second: 1456\n"
     ]
    },
    {
     "name": "stderr",
     "output_type": "stream",
     "text": [
      "[I 2023-12-11 17:22:33,281] Trial 210 finished with value: 0.041490663928326656 and parameters: {'topK': 39, 'alpha': 0.7723596113972218}. Best is trial 175 with value: 0.042409523501854396.\n"
     ]
    },
    {
     "name": "stdout",
     "output_type": "stream",
     "text": [
      "EvaluatorHoldout: Processed 10437 (100.0%) in 7.12 sec. Users per second: 1465\n",
      "EvaluatorHoldout: Processed 10532 (100.0%) in 7.48 sec. Users per second: 1408\n",
      "EvaluatorHoldout: Processed 10466 (100.0%) in 7.06 sec. Users per second: 1483\n"
     ]
    },
    {
     "name": "stderr",
     "output_type": "stream",
     "text": [
      "[I 2023-12-11 17:23:12,985] Trial 211 finished with value: 0.04233802515643512 and parameters: {'topK': 37, 'alpha': 0.7446135112797476}. Best is trial 175 with value: 0.042409523501854396.\n"
     ]
    },
    {
     "name": "stdout",
     "output_type": "stream",
     "text": [
      "EvaluatorHoldout: Processed 10437 (100.0%) in 7.04 sec. Users per second: 1482\n",
      "EvaluatorHoldout: Processed 10532 (100.0%) in 7.18 sec. Users per second: 1466\n",
      "EvaluatorHoldout: Processed 10466 (100.0%) in 7.14 sec. Users per second: 1465\n"
     ]
    },
    {
     "name": "stderr",
     "output_type": "stream",
     "text": [
      "[I 2023-12-11 17:23:52,773] Trial 212 finished with value: 0.042379671714516086 and parameters: {'topK': 40, 'alpha': 0.7498241938964034}. Best is trial 175 with value: 0.042409523501854396.\n"
     ]
    },
    {
     "name": "stdout",
     "output_type": "stream",
     "text": [
      "EvaluatorHoldout: Processed 10437 (100.0%) in 7.09 sec. Users per second: 1472\n",
      "EvaluatorHoldout: Processed 10532 (100.0%) in 7.32 sec. Users per second: 1440\n",
      "EvaluatorHoldout: Processed 10466 (100.0%) in 7.16 sec. Users per second: 1461\n"
     ]
    },
    {
     "name": "stderr",
     "output_type": "stream",
     "text": [
      "[I 2023-12-11 17:24:32,739] Trial 213 finished with value: 0.03344217516981817 and parameters: {'topK': 40, 'alpha': 0.5052786928671054}. Best is trial 175 with value: 0.042409523501854396.\n"
     ]
    },
    {
     "name": "stdout",
     "output_type": "stream",
     "text": [
      "EvaluatorHoldout: Processed 10437 (100.0%) in 6.99 sec. Users per second: 1494\n",
      "EvaluatorHoldout: Processed 10532 (100.0%) in 7.28 sec. Users per second: 1446\n",
      "EvaluatorHoldout: Processed 10466 (100.0%) in 7.19 sec. Users per second: 1455\n"
     ]
    },
    {
     "name": "stderr",
     "output_type": "stream",
     "text": [
      "[I 2023-12-11 17:25:12,850] Trial 214 finished with value: 0.0423355445496175 and parameters: {'topK': 42, 'alpha': 0.7522654792797874}. Best is trial 175 with value: 0.042409523501854396.\n"
     ]
    },
    {
     "name": "stdout",
     "output_type": "stream",
     "text": [
      "EvaluatorHoldout: Processed 10437 (100.0%) in 7.15 sec. Users per second: 1459\n",
      "EvaluatorHoldout: Processed 10532 (100.0%) in 7.11 sec. Users per second: 1481\n",
      "EvaluatorHoldout: Processed 10466 (100.0%) in 7.61 sec. Users per second: 1375\n"
     ]
    },
    {
     "name": "stderr",
     "output_type": "stream",
     "text": [
      "[I 2023-12-11 17:25:52,916] Trial 215 finished with value: 0.042359175781937514 and parameters: {'topK': 39, 'alpha': 0.7360680942194824}. Best is trial 175 with value: 0.042409523501854396.\n"
     ]
    },
    {
     "name": "stdout",
     "output_type": "stream",
     "text": [
      "EvaluatorHoldout: Processed 10437 (100.0%) in 7.12 sec. Users per second: 1465\n",
      "EvaluatorHoldout: Processed 10532 (100.0%) in 7.14 sec. Users per second: 1475\n",
      "EvaluatorHoldout: Processed 10466 (100.0%) in 7.70 sec. Users per second: 1359\n"
     ]
    },
    {
     "name": "stderr",
     "output_type": "stream",
     "text": [
      "[I 2023-12-11 17:26:32,916] Trial 216 finished with value: 0.04180964642315285 and parameters: {'topK': 36, 'alpha': 0.762692060176651}. Best is trial 175 with value: 0.042409523501854396.\n"
     ]
    },
    {
     "name": "stdout",
     "output_type": "stream",
     "text": [
      "EvaluatorHoldout: Processed 10437 (100.0%) in 7.11 sec. Users per second: 1468\n",
      "EvaluatorHoldout: Processed 10532 (100.0%) in 7.22 sec. Users per second: 1458\n",
      "EvaluatorHoldout: Processed 10466 (100.0%) in 7.37 sec. Users per second: 1421\n"
     ]
    },
    {
     "name": "stderr",
     "output_type": "stream",
     "text": [
      "[I 2023-12-11 17:27:13,387] Trial 217 finished with value: 0.04234473920447876 and parameters: {'topK': 44, 'alpha': 0.7491767604568635}. Best is trial 175 with value: 0.042409523501854396.\n"
     ]
    },
    {
     "name": "stdout",
     "output_type": "stream",
     "text": [
      "EvaluatorHoldout: Processed 10437 (100.0%) in 7.12 sec. Users per second: 1465\n",
      "EvaluatorHoldout: Processed 10532 (100.0%) in 7.31 sec. Users per second: 1440\n",
      "EvaluatorHoldout: Processed 10466 (100.0%) in 7.18 sec. Users per second: 1457\n"
     ]
    },
    {
     "name": "stderr",
     "output_type": "stream",
     "text": [
      "[I 2023-12-11 17:27:53,571] Trial 218 finished with value: 0.038097883235949426 and parameters: {'topK': 41, 'alpha': 0.6488295871860772}. Best is trial 175 with value: 0.042409523501854396.\n"
     ]
    },
    {
     "name": "stdout",
     "output_type": "stream",
     "text": [
      "EvaluatorHoldout: Processed 10437 (100.0%) in 6.97 sec. Users per second: 1498\n",
      "EvaluatorHoldout: Processed 10532 (100.0%) in 7.07 sec. Users per second: 1489\n",
      "EvaluatorHoldout: Processed 10466 (100.0%) in 7.02 sec. Users per second: 1491\n"
     ]
    },
    {
     "name": "stderr",
     "output_type": "stream",
     "text": [
      "[I 2023-12-11 17:28:32,960] Trial 219 finished with value: 0.04235157001729186 and parameters: {'topK': 38, 'alpha': 0.742264492167618}. Best is trial 175 with value: 0.042409523501854396.\n"
     ]
    },
    {
     "name": "stdout",
     "output_type": "stream",
     "text": [
      "EvaluatorHoldout: Processed 10437 (100.0%) in 7.13 sec. Users per second: 1465\n",
      "EvaluatorHoldout: Processed 10532 (100.0%) in 7.08 sec. Users per second: 1488\n",
      "EvaluatorHoldout: Processed 10466 (100.0%) in 7.04 sec. Users per second: 1487\n"
     ]
    },
    {
     "name": "stderr",
     "output_type": "stream",
     "text": [
      "[I 2023-12-11 17:29:11,878] Trial 220 finished with value: 0.04233810349755928 and parameters: {'topK': 33, 'alpha': 0.7310627249367107}. Best is trial 175 with value: 0.042409523501854396.\n"
     ]
    },
    {
     "name": "stdout",
     "output_type": "stream",
     "text": [
      "EvaluatorHoldout: Processed 10437 (100.0%) in 7.20 sec. Users per second: 1449\n",
      "EvaluatorHoldout: Processed 10532 (100.0%) in 7.16 sec. Users per second: 1471\n",
      "EvaluatorHoldout: Processed 10466 (100.0%) in 7.11 sec. Users per second: 1471\n"
     ]
    },
    {
     "name": "stderr",
     "output_type": "stream",
     "text": [
      "[I 2023-12-11 17:29:51,837] Trial 221 finished with value: 0.04238934859692214 and parameters: {'topK': 40, 'alpha': 0.7421230768626054}. Best is trial 175 with value: 0.042409523501854396.\n"
     ]
    },
    {
     "name": "stdout",
     "output_type": "stream",
     "text": [
      "EvaluatorHoldout: Processed 10437 (100.0%) in 7.19 sec. Users per second: 1452\n",
      "EvaluatorHoldout: Processed 10532 (100.0%) in 8.33 sec. Users per second: 1264\n",
      "EvaluatorHoldout: Processed 10466 (100.0%) in 7.12 sec. Users per second: 1470\n"
     ]
    },
    {
     "name": "stderr",
     "output_type": "stream",
     "text": [
      "[I 2023-12-11 17:30:32,971] Trial 222 finished with value: 0.04236921562088338 and parameters: {'topK': 40, 'alpha': 0.7404267563027328}. Best is trial 175 with value: 0.042409523501854396.\n"
     ]
    },
    {
     "name": "stdout",
     "output_type": "stream",
     "text": [
      "EvaluatorHoldout: Processed 10437 (100.0%) in 7.22 sec. Users per second: 1445\n",
      "EvaluatorHoldout: Processed 10532 (100.0%) in 7.29 sec. Users per second: 1444\n",
      "EvaluatorHoldout: Processed 10466 (100.0%) in 7.31 sec. Users per second: 1431\n"
     ]
    },
    {
     "name": "stderr",
     "output_type": "stream",
     "text": [
      "[I 2023-12-11 17:31:13,399] Trial 223 finished with value: 0.04232378403009387 and parameters: {'topK': 42, 'alpha': 0.7488242563076574}. Best is trial 175 with value: 0.042409523501854396.\n"
     ]
    },
    {
     "name": "stdout",
     "output_type": "stream",
     "text": [
      "EvaluatorHoldout: Processed 10437 (100.0%) in 7.15 sec. Users per second: 1460\n",
      "EvaluatorHoldout: Processed 10532 (100.0%) in 8.76 sec. Users per second: 1202\n",
      "EvaluatorHoldout: Processed 10466 (100.0%) in 7.15 sec. Users per second: 1464\n"
     ]
    },
    {
     "name": "stderr",
     "output_type": "stream",
     "text": [
      "[I 2023-12-11 17:31:54,241] Trial 224 finished with value: 0.04217134318689463 and parameters: {'topK': 36, 'alpha': 0.7554531704590093}. Best is trial 175 with value: 0.042409523501854396.\n"
     ]
    },
    {
     "name": "stdout",
     "output_type": "stream",
     "text": [
      "EvaluatorHoldout: Processed 10437 (100.0%) in 7.14 sec. Users per second: 1462\n",
      "EvaluatorHoldout: Processed 10532 (100.0%) in 7.34 sec. Users per second: 1434\n",
      "EvaluatorHoldout: Processed 10466 (100.0%) in 7.11 sec. Users per second: 1473\n"
     ]
    },
    {
     "name": "stderr",
     "output_type": "stream",
     "text": [
      "[I 2023-12-11 17:32:34,229] Trial 225 finished with value: 0.04212426728923751 and parameters: {'topK': 39, 'alpha': 0.7255294217236156}. Best is trial 175 with value: 0.042409523501854396.\n"
     ]
    },
    {
     "name": "stdout",
     "output_type": "stream",
     "text": [
      "EvaluatorHoldout: Processed 10437 (100.0%) in 7.05 sec. Users per second: 1481\n",
      "EvaluatorHoldout: Processed 10532 (100.0%) in 7.14 sec. Users per second: 1475\n",
      "EvaluatorHoldout: Processed 10466 (100.0%) in 7.14 sec. Users per second: 1467\n"
     ]
    },
    {
     "name": "stderr",
     "output_type": "stream",
     "text": [
      "[I 2023-12-11 17:33:13,878] Trial 226 finished with value: 0.04233446582531122 and parameters: {'topK': 37, 'alpha': 0.7346794181834702}. Best is trial 175 with value: 0.042409523501854396.\n"
     ]
    },
    {
     "name": "stdout",
     "output_type": "stream",
     "text": [
      "EvaluatorHoldout: Processed 10437 (100.0%) in 7.05 sec. Users per second: 1481\n",
      "EvaluatorHoldout: Processed 10532 (100.0%) in 7.16 sec. Users per second: 1471\n",
      "EvaluatorHoldout: Processed 10466 (100.0%) in 7.19 sec. Users per second: 1456\n"
     ]
    },
    {
     "name": "stderr",
     "output_type": "stream",
     "text": [
      "[I 2023-12-11 17:33:53,982] Trial 227 finished with value: 0.042367445561713235 and parameters: {'topK': 41, 'alpha': 0.7432014431298426}. Best is trial 175 with value: 0.042409523501854396.\n"
     ]
    },
    {
     "name": "stdout",
     "output_type": "stream",
     "text": [
      "EvaluatorHoldout: Processed 10437 (100.0%) in 7.14 sec. Users per second: 1461\n",
      "EvaluatorHoldout: Processed 10532 (100.0%) in 7.15 sec. Users per second: 1472\n",
      "EvaluatorHoldout: Processed 10466 (100.0%) in 7.03 sec. Users per second: 1488\n"
     ]
    },
    {
     "name": "stderr",
     "output_type": "stream",
     "text": [
      "[I 2023-12-11 17:34:34,228] Trial 228 finished with value: 0.04228988408325354 and parameters: {'topK': 44, 'alpha': 0.7608229699928101}. Best is trial 175 with value: 0.042409523501854396.\n"
     ]
    },
    {
     "name": "stdout",
     "output_type": "stream",
     "text": [
      "EvaluatorHoldout: Processed 10437 (100.0%) in 7.08 sec. Users per second: 1474\n",
      "EvaluatorHoldout: Processed 10532 (100.0%) in 7.11 sec. Users per second: 1482\n",
      "EvaluatorHoldout: Processed 10466 (100.0%) in 7.19 sec. Users per second: 1455\n"
     ]
    },
    {
     "name": "stderr",
     "output_type": "stream",
     "text": [
      "[I 2023-12-11 17:35:13,784] Trial 229 finished with value: 0.03561957622746187 and parameters: {'topK': 38, 'alpha': 0.5821676762939343}. Best is trial 175 with value: 0.042409523501854396.\n"
     ]
    },
    {
     "name": "stdout",
     "output_type": "stream",
     "text": [
      "EvaluatorHoldout: Processed 10437 (100.0%) in 7.00 sec. Users per second: 1490\n",
      "EvaluatorHoldout: Processed 10532 (100.0%) in 7.19 sec. Users per second: 1464\n",
      "EvaluatorHoldout: Processed 10466 (100.0%) in 7.14 sec. Users per second: 1465\n"
     ]
    },
    {
     "name": "stderr",
     "output_type": "stream",
     "text": [
      "[I 2023-12-11 17:35:53,770] Trial 230 finished with value: 0.04192855294160056 and parameters: {'topK': 40, 'alpha': 0.7225332127192143}. Best is trial 175 with value: 0.042409523501854396.\n"
     ]
    },
    {
     "name": "stdout",
     "output_type": "stream",
     "text": [
      "EvaluatorHoldout: Processed 10437 (100.0%) in 7.13 sec. Users per second: 1464\n",
      "EvaluatorHoldout: Processed 10532 (100.0%) in 7.16 sec. Users per second: 1470\n",
      "EvaluatorHoldout: Processed 10466 (100.0%) in 7.05 sec. Users per second: 1485\n"
     ]
    },
    {
     "name": "stderr",
     "output_type": "stream",
     "text": [
      "[I 2023-12-11 17:36:33,409] Trial 231 finished with value: 0.04237943548739744 and parameters: {'topK': 40, 'alpha': 0.7390080536094582}. Best is trial 175 with value: 0.042409523501854396.\n"
     ]
    },
    {
     "name": "stdout",
     "output_type": "stream",
     "text": [
      "EvaluatorHoldout: Processed 10437 (100.0%) in 7.29 sec. Users per second: 1431\n",
      "EvaluatorHoldout: Processed 10532 (100.0%) in 7.28 sec. Users per second: 1448\n",
      "EvaluatorHoldout: Processed 10466 (100.0%) in 7.20 sec. Users per second: 1454\n"
     ]
    },
    {
     "name": "stderr",
     "output_type": "stream",
     "text": [
      "[I 2023-12-11 17:37:13,697] Trial 232 finished with value: 0.04236838381599461 and parameters: {'topK': 42, 'alpha': 0.7373773065407154}. Best is trial 175 with value: 0.042409523501854396.\n"
     ]
    },
    {
     "name": "stdout",
     "output_type": "stream",
     "text": [
      "EvaluatorHoldout: Processed 10437 (100.0%) in 7.10 sec. Users per second: 1470\n",
      "EvaluatorHoldout: Processed 10532 (100.0%) in 7.18 sec. Users per second: 1467\n",
      "EvaluatorHoldout: Processed 10466 (100.0%) in 7.23 sec. Users per second: 1447\n"
     ]
    },
    {
     "name": "stderr",
     "output_type": "stream",
     "text": [
      "[I 2023-12-11 17:37:53,398] Trial 233 finished with value: 0.042385213328101634 and parameters: {'topK': 39, 'alpha': 0.749308256963588}. Best is trial 175 with value: 0.042409523501854396.\n"
     ]
    },
    {
     "name": "stdout",
     "output_type": "stream",
     "text": [
      "EvaluatorHoldout: Processed 10437 (100.0%) in 7.13 sec. Users per second: 1463\n",
      "EvaluatorHoldout: Processed 10532 (100.0%) in 7.58 sec. Users per second: 1390\n",
      "EvaluatorHoldout: Processed 10466 (100.0%) in 7.07 sec. Users per second: 1481\n"
     ]
    },
    {
     "name": "stderr",
     "output_type": "stream",
     "text": [
      "[I 2023-12-11 17:38:33,539] Trial 234 finished with value: 0.04229534435455767 and parameters: {'topK': 37, 'alpha': 0.7497714558879538}. Best is trial 175 with value: 0.042409523501854396.\n"
     ]
    },
    {
     "name": "stdout",
     "output_type": "stream",
     "text": [
      "EvaluatorHoldout: Processed 10437 (100.0%) in 7.11 sec. Users per second: 1467\n",
      "EvaluatorHoldout: Processed 10532 (100.0%) in 7.09 sec. Users per second: 1486\n",
      "EvaluatorHoldout: Processed 10466 (100.0%) in 7.04 sec. Users per second: 1486\n"
     ]
    },
    {
     "name": "stderr",
     "output_type": "stream",
     "text": [
      "[I 2023-12-11 17:39:12,608] Trial 235 finished with value: 0.04230959435535734 and parameters: {'topK': 35, 'alpha': 0.7465981004302009}. Best is trial 175 with value: 0.042409523501854396.\n"
     ]
    },
    {
     "name": "stdout",
     "output_type": "stream",
     "text": [
      "EvaluatorHoldout: Processed 10437 (100.0%) in 7.12 sec. Users per second: 1466\n",
      "EvaluatorHoldout: Processed 10532 (100.0%) in 7.16 sec. Users per second: 1471\n",
      "EvaluatorHoldout: Processed 10466 (100.0%) in 7.07 sec. Users per second: 1480\n"
     ]
    },
    {
     "name": "stderr",
     "output_type": "stream",
     "text": [
      "[I 2023-12-11 17:39:52,339] Trial 236 finished with value: 0.04226005477779394 and parameters: {'topK': 39, 'alpha': 0.7312795176552127}. Best is trial 175 with value: 0.042409523501854396.\n"
     ]
    },
    {
     "name": "stdout",
     "output_type": "stream",
     "text": [
      "EvaluatorHoldout: Processed 10437 (100.0%) in 7.09 sec. Users per second: 1471\n",
      "EvaluatorHoldout: Processed 10532 (100.0%) in 7.08 sec. Users per second: 1489\n",
      "EvaluatorHoldout: Processed 10466 (100.0%) in 7.10 sec. Users per second: 1474\n"
     ]
    },
    {
     "name": "stderr",
     "output_type": "stream",
     "text": [
      "[I 2023-12-11 17:40:31,835] Trial 237 finished with value: 0.0422949189417843 and parameters: {'topK': 38, 'alpha': 0.7556747396043546}. Best is trial 175 with value: 0.042409523501854396.\n"
     ]
    },
    {
     "name": "stdout",
     "output_type": "stream",
     "text": [
      "EvaluatorHoldout: Processed 10437 (100.0%) in 7.28 sec. Users per second: 1434\n",
      "EvaluatorHoldout: Processed 10532 (100.0%) in 7.15 sec. Users per second: 1472\n",
      "EvaluatorHoldout: Processed 10466 (100.0%) in 7.19 sec. Users per second: 1456\n"
     ]
    },
    {
     "name": "stderr",
     "output_type": "stream",
     "text": [
      "[I 2023-12-11 17:41:12,233] Trial 238 finished with value: 0.042328179381400634 and parameters: {'topK': 43, 'alpha': 0.7428792080659341}. Best is trial 175 with value: 0.042409523501854396.\n"
     ]
    },
    {
     "name": "stdout",
     "output_type": "stream",
     "text": [
      "EvaluatorHoldout: Processed 10437 (100.0%) in 7.14 sec. Users per second: 1462\n",
      "EvaluatorHoldout: Processed 10532 (100.0%) in 7.06 sec. Users per second: 1493\n",
      "EvaluatorHoldout: Processed 10466 (100.0%) in 7.05 sec. Users per second: 1484\n"
     ]
    },
    {
     "name": "stderr",
     "output_type": "stream",
     "text": [
      "[I 2023-12-11 17:41:51,953] Trial 239 finished with value: 0.0420223870811026 and parameters: {'topK': 40, 'alpha': 0.7662173698526442}. Best is trial 175 with value: 0.042409523501854396.\n"
     ]
    },
    {
     "name": "stdout",
     "output_type": "stream",
     "text": [
      "EvaluatorHoldout: Processed 10437 (100.0%) in 7.09 sec. Users per second: 1472\n",
      "EvaluatorHoldout: Processed 10532 (100.0%) in 7.23 sec. Users per second: 1457\n",
      "EvaluatorHoldout: Processed 10466 (100.0%) in 7.28 sec. Users per second: 1438\n"
     ]
    },
    {
     "name": "stderr",
     "output_type": "stream",
     "text": [
      "[I 2023-12-11 17:42:31,507] Trial 240 finished with value: 0.04228700921526012 and parameters: {'topK': 36, 'alpha': 0.7510143177962041}. Best is trial 175 with value: 0.042409523501854396.\n"
     ]
    },
    {
     "name": "stdout",
     "output_type": "stream",
     "text": [
      "EvaluatorHoldout: Processed 10437 (100.0%) in 6.95 sec. Users per second: 1502\n",
      "EvaluatorHoldout: Processed 10532 (100.0%) in 7.16 sec. Users per second: 1471\n",
      "EvaluatorHoldout: Processed 10466 (100.0%) in 6.99 sec. Users per second: 1497\n"
     ]
    },
    {
     "name": "stderr",
     "output_type": "stream",
     "text": [
      "[I 2023-12-11 17:43:07,973] Trial 241 finished with value: 0.03970252914382446 and parameters: {'topK': 13, 'alpha': 0.7371947284000069}. Best is trial 175 with value: 0.042409523501854396.\n"
     ]
    },
    {
     "name": "stdout",
     "output_type": "stream",
     "text": [
      "EvaluatorHoldout: Processed 10437 (100.0%) in 7.21 sec. Users per second: 1447\n",
      "EvaluatorHoldout: Processed 10532 (100.0%) in 7.25 sec. Users per second: 1453\n",
      "EvaluatorHoldout: Processed 10466 (100.0%) in 7.19 sec. Users per second: 1455\n"
     ]
    },
    {
     "name": "stderr",
     "output_type": "stream",
     "text": [
      "[I 2023-12-11 17:43:48,173] Trial 242 finished with value: 0.042358815605054057 and parameters: {'topK': 41, 'alpha': 0.7416366957347658}. Best is trial 175 with value: 0.042409523501854396.\n"
     ]
    },
    {
     "name": "stdout",
     "output_type": "stream",
     "text": [
      "EvaluatorHoldout: Processed 10437 (100.0%) in 6.99 sec. Users per second: 1493\n",
      "EvaluatorHoldout: Processed 10532 (100.0%) in 7.42 sec. Users per second: 1420\n",
      "EvaluatorHoldout: Processed 10466 (100.0%) in 7.09 sec. Users per second: 1475\n"
     ]
    },
    {
     "name": "stderr",
     "output_type": "stream",
     "text": [
      "[I 2023-12-11 17:44:28,014] Trial 243 finished with value: 0.04056056287416398 and parameters: {'topK': 39, 'alpha': 0.6914845101997559}. Best is trial 175 with value: 0.042409523501854396.\n"
     ]
    },
    {
     "name": "stdout",
     "output_type": "stream",
     "text": [
      "EvaluatorHoldout: Processed 10437 (100.0%) in 7.09 sec. Users per second: 1472\n",
      "EvaluatorHoldout: Processed 10532 (100.0%) in 7.09 sec. Users per second: 1486\n",
      "EvaluatorHoldout: Processed 10466 (100.0%) in 7.10 sec. Users per second: 1474\n"
     ]
    },
    {
     "name": "stderr",
     "output_type": "stream",
     "text": [
      "[I 2023-12-11 17:45:07,742] Trial 244 finished with value: 0.027498171199898055 and parameters: {'topK': 40, 'alpha': 0.8994863055793184}. Best is trial 175 with value: 0.042409523501854396.\n"
     ]
    },
    {
     "name": "stdout",
     "output_type": "stream",
     "text": [
      "EvaluatorHoldout: Processed 10437 (100.0%) in 7.10 sec. Users per second: 1469\n",
      "EvaluatorHoldout: Processed 10532 (100.0%) in 7.23 sec. Users per second: 1456\n",
      "EvaluatorHoldout: Processed 10466 (100.0%) in 7.05 sec. Users per second: 1485\n"
     ]
    },
    {
     "name": "stderr",
     "output_type": "stream",
     "text": [
      "[I 2023-12-11 17:45:47,353] Trial 245 finished with value: 0.042362415394130874 and parameters: {'topK': 38, 'alpha': 0.7311328105503915}. Best is trial 175 with value: 0.042409523501854396.\n"
     ]
    },
    {
     "name": "stdout",
     "output_type": "stream",
     "text": [
      "EvaluatorHoldout: Processed 10437 (100.0%) in 7.09 sec. Users per second: 1473\n",
      "EvaluatorHoldout: Processed 10532 (100.0%) in 7.44 sec. Users per second: 1416\n",
      "EvaluatorHoldout: Processed 10466 (100.0%) in 7.08 sec. Users per second: 1478\n"
     ]
    },
    {
     "name": "stderr",
     "output_type": "stream",
     "text": [
      "[I 2023-12-11 17:46:27,643] Trial 246 finished with value: 0.04234467663833893 and parameters: {'topK': 42, 'alpha': 0.7475890319703622}. Best is trial 175 with value: 0.042409523501854396.\n"
     ]
    },
    {
     "name": "stdout",
     "output_type": "stream",
     "text": [
      "EvaluatorHoldout: Processed 10437 (100.0%) in 7.08 sec. Users per second: 1474\n",
      "EvaluatorHoldout: Processed 10532 (100.0%) in 7.19 sec. Users per second: 1465\n",
      "EvaluatorHoldout: Processed 10466 (100.0%) in 7.13 sec. Users per second: 1467\n"
     ]
    },
    {
     "name": "stderr",
     "output_type": "stream",
     "text": [
      "[I 2023-12-11 17:47:07,099] Trial 247 finished with value: 0.029300146049295313 and parameters: {'topK': 37, 'alpha': 0.8832165250186498}. Best is trial 175 with value: 0.042409523501854396.\n"
     ]
    },
    {
     "name": "stdout",
     "output_type": "stream",
     "text": [
      "EvaluatorHoldout: Processed 10437 (100.0%) in 7.12 sec. Users per second: 1467\n",
      "EvaluatorHoldout: Processed 10532 (100.0%) in 7.15 sec. Users per second: 1472\n",
      "EvaluatorHoldout: Processed 10466 (100.0%) in 7.04 sec. Users per second: 1486\n"
     ]
    },
    {
     "name": "stderr",
     "output_type": "stream",
     "text": [
      "[I 2023-12-11 17:47:46,799] Trial 248 finished with value: 0.04233520338893417 and parameters: {'topK': 40, 'alpha': 0.7377805798739935}. Best is trial 175 with value: 0.042409523501854396.\n"
     ]
    },
    {
     "name": "stdout",
     "output_type": "stream",
     "text": [
      "EvaluatorHoldout: Processed 10437 (100.0%) in 6.99 sec. Users per second: 1493\n",
      "EvaluatorHoldout: Processed 10532 (100.0%) in 7.01 sec. Users per second: 1502\n",
      "EvaluatorHoldout: Processed 10466 (100.0%) in 6.98 sec. Users per second: 1498\n"
     ]
    },
    {
     "name": "stderr",
     "output_type": "stream",
     "text": [
      "[I 2023-12-11 17:48:25,642] Trial 249 finished with value: 0.03531855757748065 and parameters: {'topK': 34, 'alpha': 0.8350602839331618}. Best is trial 175 with value: 0.042409523501854396.\n"
     ]
    },
    {
     "name": "stdout",
     "output_type": "stream",
     "text": [
      "EvaluatorHoldout: Processed 10437 (100.0%) in 7.04 sec. Users per second: 1483\n",
      "EvaluatorHoldout: Processed 10532 (100.0%) in 7.17 sec. Users per second: 1469\n",
      "EvaluatorHoldout: Processed 10466 (100.0%) in 7.09 sec. Users per second: 1476\n"
     ]
    },
    {
     "name": "stderr",
     "output_type": "stream",
     "text": [
      "[I 2023-12-11 17:49:05,196] Trial 250 finished with value: 0.042114261519222096 and parameters: {'topK': 38, 'alpha': 0.7247317111062771}. Best is trial 175 with value: 0.042409523501854396.\n"
     ]
    },
    {
     "name": "stdout",
     "output_type": "stream",
     "text": [
      "EvaluatorHoldout: Processed 10437 (100.0%) in 7.25 sec. Users per second: 1440\n",
      "EvaluatorHoldout: Processed 10532 (100.0%) in 7.34 sec. Users per second: 1434\n",
      "EvaluatorHoldout: Processed 10466 (100.0%) in 7.29 sec. Users per second: 1436\n"
     ]
    },
    {
     "name": "stderr",
     "output_type": "stream",
     "text": [
      "[I 2023-12-11 17:49:49,890] Trial 251 finished with value: 0.041925405467666786 and parameters: {'topK': 79, 'alpha': 0.7553501551283258}. Best is trial 175 with value: 0.042409523501854396.\n"
     ]
    },
    {
     "name": "stdout",
     "output_type": "stream",
     "text": [
      "EvaluatorHoldout: Processed 10437 (100.0%) in 6.98 sec. Users per second: 1495\n",
      "EvaluatorHoldout: Processed 10532 (100.0%) in 7.23 sec. Users per second: 1456\n",
      "EvaluatorHoldout: Processed 10466 (100.0%) in 7.15 sec. Users per second: 1463\n"
     ]
    },
    {
     "name": "stderr",
     "output_type": "stream",
     "text": [
      "[I 2023-12-11 17:50:30,113] Trial 252 finished with value: 0.04230298608448927 and parameters: {'topK': 45, 'alpha': 0.7435714093088966}. Best is trial 175 with value: 0.042409523501854396.\n"
     ]
    },
    {
     "name": "stdout",
     "output_type": "stream",
     "text": [
      "EvaluatorHoldout: Processed 10437 (100.0%) in 7.07 sec. Users per second: 1477\n",
      "EvaluatorHoldout: Processed 10532 (100.0%) in 7.11 sec. Users per second: 1481\n",
      "EvaluatorHoldout: Processed 10466 (100.0%) in 7.22 sec. Users per second: 1449\n"
     ]
    },
    {
     "name": "stderr",
     "output_type": "stream",
     "text": [
      "[I 2023-12-11 17:51:10,274] Trial 253 finished with value: 0.042232421100931505 and parameters: {'topK': 42, 'alpha': 0.7320848806604768}. Best is trial 175 with value: 0.042409523501854396.\n"
     ]
    },
    {
     "name": "stdout",
     "output_type": "stream",
     "text": [
      "EvaluatorHoldout: Processed 10437 (100.0%) in 7.08 sec. Users per second: 1474\n",
      "EvaluatorHoldout: Processed 10532 (100.0%) in 7.20 sec. Users per second: 1462\n",
      "EvaluatorHoldout: Processed 10466 (100.0%) in 7.11 sec. Users per second: 1472\n"
     ]
    },
    {
     "name": "stderr",
     "output_type": "stream",
     "text": [
      "[I 2023-12-11 17:51:50,062] Trial 254 finished with value: 0.03943957373858279 and parameters: {'topK': 40, 'alpha': 0.6709222161218557}. Best is trial 175 with value: 0.042409523501854396.\n"
     ]
    },
    {
     "name": "stdout",
     "output_type": "stream",
     "text": [
      "EvaluatorHoldout: Processed 10437 (100.0%) in 7.14 sec. Users per second: 1461\n",
      "EvaluatorHoldout: Processed 10532 (100.0%) in 7.17 sec. Users per second: 1469\n",
      "EvaluatorHoldout: Processed 10466 (100.0%) in 7.12 sec. Users per second: 1469\n"
     ]
    },
    {
     "name": "stderr",
     "output_type": "stream",
     "text": [
      "[I 2023-12-11 17:52:32,557] Trial 255 finished with value: 0.04225119917807493 and parameters: {'topK': 60, 'alpha': 0.750780685309101}. Best is trial 175 with value: 0.042409523501854396.\n"
     ]
    },
    {
     "name": "stdout",
     "output_type": "stream",
     "text": [
      "EvaluatorHoldout: Processed 10437 (100.0%) in 7.03 sec. Users per second: 1484\n",
      "EvaluatorHoldout: Processed 10532 (100.0%) in 7.15 sec. Users per second: 1473\n",
      "EvaluatorHoldout: Processed 10466 (100.0%) in 7.13 sec. Users per second: 1469\n"
     ]
    },
    {
     "name": "stderr",
     "output_type": "stream",
     "text": [
      "[I 2023-12-11 17:53:11,980] Trial 256 finished with value: 0.03739574091981773 and parameters: {'topK': 36, 'alpha': 0.6257406232347557}. Best is trial 175 with value: 0.042409523501854396.\n"
     ]
    },
    {
     "name": "stdout",
     "output_type": "stream",
     "text": [
      "EvaluatorHoldout: Processed 10437 (100.0%) in 7.20 sec. Users per second: 1450\n",
      "EvaluatorHoldout: Processed 10532 (100.0%) in 7.17 sec. Users per second: 1469\n",
      "EvaluatorHoldout: Processed 10466 (100.0%) in 7.23 sec. Users per second: 1447\n"
     ]
    },
    {
     "name": "stderr",
     "output_type": "stream",
     "text": [
      "[I 2023-12-11 17:53:52,415] Trial 257 finished with value: 0.04225918995381004 and parameters: {'topK': 43, 'alpha': 0.7594183015651587}. Best is trial 175 with value: 0.042409523501854396.\n"
     ]
    },
    {
     "name": "stdout",
     "output_type": "stream",
     "text": [
      "EvaluatorHoldout: Processed 10437 (100.0%) in 7.20 sec. Users per second: 1450\n",
      "EvaluatorHoldout: Processed 10532 (100.0%) in 7.28 sec. Users per second: 1446\n",
      "EvaluatorHoldout: Processed 10466 (100.0%) in 7.25 sec. Users per second: 1443\n"
     ]
    },
    {
     "name": "stderr",
     "output_type": "stream",
     "text": [
      "[I 2023-12-11 17:54:32,306] Trial 258 finished with value: 0.042338737719325455 and parameters: {'topK': 39, 'alpha': 0.738397168404216}. Best is trial 175 with value: 0.042409523501854396.\n"
     ]
    },
    {
     "name": "stdout",
     "output_type": "stream",
     "text": [
      "EvaluatorHoldout: Processed 10437 (100.0%) in 7.01 sec. Users per second: 1490\n",
      "EvaluatorHoldout: Processed 10532 (100.0%) in 7.30 sec. Users per second: 1442\n",
      "EvaluatorHoldout: Processed 10466 (100.0%) in 7.06 sec. Users per second: 1483\n"
     ]
    },
    {
     "name": "stderr",
     "output_type": "stream",
     "text": [
      "[I 2023-12-11 17:55:12,337] Trial 259 finished with value: 0.04160033185703437 and parameters: {'topK': 41, 'alpha': 0.7111147428922038}. Best is trial 175 with value: 0.042409523501854396.\n"
     ]
    },
    {
     "name": "stdout",
     "output_type": "stream",
     "text": [
      "EvaluatorHoldout: Processed 10437 (100.0%) in 7.23 sec. Users per second: 1444\n",
      "EvaluatorHoldout: Processed 10532 (100.0%) in 7.08 sec. Users per second: 1488\n",
      "EvaluatorHoldout: Processed 10466 (100.0%) in 7.00 sec. Users per second: 1495\n"
     ]
    },
    {
     "name": "stderr",
     "output_type": "stream",
     "text": [
      "[I 2023-12-11 17:55:51,889] Trial 260 finished with value: 0.04200841886588511 and parameters: {'topK': 37, 'alpha': 0.7217407555221022}. Best is trial 175 with value: 0.042409523501854396.\n"
     ]
    },
    {
     "name": "stdout",
     "output_type": "stream",
     "text": [
      "EvaluatorHoldout: Processed 10437 (100.0%) in 7.07 sec. Users per second: 1476\n",
      "EvaluatorHoldout: Processed 10532 (100.0%) in 7.14 sec. Users per second: 1476\n",
      "EvaluatorHoldout: Processed 10466 (100.0%) in 7.16 sec. Users per second: 1462\n"
     ]
    },
    {
     "name": "stderr",
     "output_type": "stream",
     "text": [
      "[I 2023-12-11 17:56:31,149] Trial 261 finished with value: 0.042283767363313074 and parameters: {'topK': 35, 'alpha': 0.7454432611480659}. Best is trial 175 with value: 0.042409523501854396.\n"
     ]
    },
    {
     "name": "stdout",
     "output_type": "stream",
     "text": [
      "EvaluatorHoldout: Processed 10437 (100.0%) in 7.05 sec. Users per second: 1481\n",
      "EvaluatorHoldout: Processed 10532 (100.0%) in 7.36 sec. Users per second: 1431\n",
      "EvaluatorHoldout: Processed 10466 (100.0%) in 7.13 sec. Users per second: 1468\n"
     ]
    },
    {
     "name": "stderr",
     "output_type": "stream",
     "text": [
      "[I 2023-12-11 17:57:10,872] Trial 262 finished with value: 0.04226278611573711 and parameters: {'topK': 39, 'alpha': 0.7310933501583503}. Best is trial 175 with value: 0.042409523501854396.\n"
     ]
    },
    {
     "name": "stdout",
     "output_type": "stream",
     "text": [
      "EvaluatorHoldout: Processed 10437 (100.0%) in 7.09 sec. Users per second: 1472\n",
      "EvaluatorHoldout: Processed 10532 (100.0%) in 7.09 sec. Users per second: 1485\n",
      "EvaluatorHoldout: Processed 10466 (100.0%) in 7.18 sec. Users per second: 1458\n"
     ]
    },
    {
     "name": "stderr",
     "output_type": "stream",
     "text": [
      "[I 2023-12-11 17:57:50,881] Trial 263 finished with value: 0.04235629449555981 and parameters: {'topK': 41, 'alpha': 0.7524790548841517}. Best is trial 175 with value: 0.042409523501854396.\n"
     ]
    },
    {
     "name": "stdout",
     "output_type": "stream",
     "text": [
      "EvaluatorHoldout: Processed 10437 (100.0%) in 7.29 sec. Users per second: 1431\n",
      "EvaluatorHoldout: Processed 10532 (100.0%) in 7.17 sec. Users per second: 1469\n",
      "EvaluatorHoldout: Processed 10466 (100.0%) in 6.98 sec. Users per second: 1499\n"
     ]
    },
    {
     "name": "stderr",
     "output_type": "stream",
     "text": [
      "[I 2023-12-11 17:58:30,288] Trial 264 finished with value: 0.04241321017300737 and parameters: {'topK': 38, 'alpha': 0.7377386653256729}. Best is trial 264 with value: 0.04241321017300737.\n"
     ]
    },
    {
     "name": "stdout",
     "output_type": "stream",
     "text": [
      "EvaluatorHoldout: Processed 10437 (100.0%) in 7.08 sec. Users per second: 1474\n",
      "EvaluatorHoldout: Processed 10532 (100.0%) in 7.11 sec. Users per second: 1480\n",
      "EvaluatorHoldout: Processed 10466 (100.0%) in 7.04 sec. Users per second: 1486\n"
     ]
    },
    {
     "name": "stderr",
     "output_type": "stream",
     "text": [
      "[I 2023-12-11 17:59:09,361] Trial 265 finished with value: 0.04040839217339693 and parameters: {'topK': 34, 'alpha': 0.7828318338700554}. Best is trial 264 with value: 0.04241321017300737.\n"
     ]
    },
    {
     "name": "stdout",
     "output_type": "stream",
     "text": [
      "EvaluatorHoldout: Processed 10437 (100.0%) in 7.43 sec. Users per second: 1404\n",
      "EvaluatorHoldout: Processed 10532 (100.0%) in 7.23 sec. Users per second: 1456\n",
      "EvaluatorHoldout: Processed 10466 (100.0%) in 7.12 sec. Users per second: 1469\n"
     ]
    },
    {
     "name": "stderr",
     "output_type": "stream",
     "text": [
      "[I 2023-12-11 17:59:49,148] Trial 266 finished with value: 0.04163620029531678 and parameters: {'topK': 37, 'alpha': 0.766541458085316}. Best is trial 264 with value: 0.04241321017300737.\n"
     ]
    },
    {
     "name": "stdout",
     "output_type": "stream",
     "text": [
      "EvaluatorHoldout: Processed 10437 (100.0%) in 7.12 sec. Users per second: 1466\n",
      "EvaluatorHoldout: Processed 10532 (100.0%) in 7.10 sec. Users per second: 1484\n",
      "EvaluatorHoldout: Processed 10466 (100.0%) in 7.06 sec. Users per second: 1482\n"
     ]
    },
    {
     "name": "stderr",
     "output_type": "stream",
     "text": [
      "[I 2023-12-11 18:00:28,557] Trial 267 finished with value: 0.04224605534109136 and parameters: {'topK': 38, 'alpha': 0.7278085985793714}. Best is trial 264 with value: 0.04241321017300737.\n"
     ]
    },
    {
     "name": "stdout",
     "output_type": "stream",
     "text": [
      "EvaluatorHoldout: Processed 10437 (100.0%) in 7.02 sec. Users per second: 1487\n",
      "EvaluatorHoldout: Processed 10532 (100.0%) in 7.30 sec. Users per second: 1443\n",
      "EvaluatorHoldout: Processed 10466 (100.0%) in 7.21 sec. Users per second: 1452\n"
     ]
    },
    {
     "name": "stderr",
     "output_type": "stream",
     "text": [
      "[I 2023-12-11 18:01:09,907] Trial 268 finished with value: 0.042316551544600206 and parameters: {'topK': 43, 'alpha': 0.7441514614791619}. Best is trial 264 with value: 0.04241321017300737.\n"
     ]
    },
    {
     "name": "stdout",
     "output_type": "stream",
     "text": [
      "EvaluatorHoldout: Processed 10437 (100.0%) in 7.12 sec. Users per second: 1466\n",
      "EvaluatorHoldout: Processed 10532 (100.0%) in 7.11 sec. Users per second: 1482\n",
      "EvaluatorHoldout: Processed 10466 (100.0%) in 7.42 sec. Users per second: 1411\n"
     ]
    },
    {
     "name": "stderr",
     "output_type": "stream",
     "text": [
      "[I 2023-12-11 18:01:49,670] Trial 269 finished with value: 0.042075776759651184 and parameters: {'topK': 36, 'alpha': 0.7586259581213494}. Best is trial 264 with value: 0.04241321017300737.\n"
     ]
    },
    {
     "name": "stdout",
     "output_type": "stream",
     "text": [
      "EvaluatorHoldout: Processed 10437 (100.0%) in 7.11 sec. Users per second: 1467\n",
      "EvaluatorHoldout: Processed 10532 (100.0%) in 7.17 sec. Users per second: 1469\n",
      "EvaluatorHoldout: Processed 10466 (100.0%) in 7.09 sec. Users per second: 1477\n"
     ]
    },
    {
     "name": "stderr",
     "output_type": "stream",
     "text": [
      "[I 2023-12-11 18:02:29,158] Trial 270 finished with value: 0.04234745612822504 and parameters: {'topK': 39, 'alpha': 0.7364333660084493}. Best is trial 264 with value: 0.04241321017300737.\n"
     ]
    },
    {
     "name": "stdout",
     "output_type": "stream",
     "text": [
      "EvaluatorHoldout: Processed 10437 (100.0%) in 7.11 sec. Users per second: 1468\n",
      "EvaluatorHoldout: Processed 10532 (100.0%) in 7.12 sec. Users per second: 1478\n",
      "EvaluatorHoldout: Processed 10466 (100.0%) in 7.10 sec. Users per second: 1475\n"
     ]
    },
    {
     "name": "stderr",
     "output_type": "stream",
     "text": [
      "[I 2023-12-11 18:03:09,137] Trial 271 finished with value: 0.04236655687237454 and parameters: {'topK': 41, 'alpha': 0.7459736783423396}. Best is trial 264 with value: 0.04241321017300737.\n"
     ]
    },
    {
     "name": "stdout",
     "output_type": "stream",
     "text": [
      "EvaluatorHoldout: Processed 10437 (100.0%) in 7.23 sec. Users per second: 1444\n",
      "EvaluatorHoldout: Processed 10532 (100.0%) in 7.07 sec. Users per second: 1490\n",
      "EvaluatorHoldout: Processed 10466 (100.0%) in 7.16 sec. Users per second: 1461\n"
     ]
    },
    {
     "name": "stderr",
     "output_type": "stream",
     "text": [
      "[I 2023-12-11 18:03:48,267] Trial 272 finished with value: 0.041962163969671284 and parameters: {'topK': 35, 'alpha': 0.7175436796910061}. Best is trial 264 with value: 0.04241321017300737.\n"
     ]
    },
    {
     "name": "stdout",
     "output_type": "stream",
     "text": [
      "EvaluatorHoldout: Processed 10437 (100.0%) in 7.12 sec. Users per second: 1467\n",
      "EvaluatorHoldout: Processed 10532 (100.0%) in 7.17 sec. Users per second: 1468\n",
      "EvaluatorHoldout: Processed 10466 (100.0%) in 7.14 sec. Users per second: 1467\n"
     ]
    },
    {
     "name": "stderr",
     "output_type": "stream",
     "text": [
      "[I 2023-12-11 18:04:28,542] Trial 273 finished with value: 0.042307667106197294 and parameters: {'topK': 45, 'alpha': 0.752647919563086}. Best is trial 264 with value: 0.04241321017300737.\n"
     ]
    },
    {
     "name": "stdout",
     "output_type": "stream",
     "text": [
      "EvaluatorHoldout: Processed 10437 (100.0%) in 7.09 sec. Users per second: 1473\n",
      "EvaluatorHoldout: Processed 10532 (100.0%) in 7.30 sec. Users per second: 1442\n",
      "EvaluatorHoldout: Processed 10466 (100.0%) in 7.20 sec. Users per second: 1453\n"
     ]
    },
    {
     "name": "stderr",
     "output_type": "stream",
     "text": [
      "[I 2023-12-11 18:05:07,605] Trial 274 finished with value: 0.04234200704266559 and parameters: {'topK': 33, 'alpha': 0.7326252878346717}. Best is trial 264 with value: 0.04241321017300737.\n"
     ]
    },
    {
     "name": "stdout",
     "output_type": "stream",
     "text": [
      "EvaluatorHoldout: Processed 10437 (100.0%) in 7.08 sec. Users per second: 1474\n",
      "EvaluatorHoldout: Processed 10532 (100.0%) in 7.18 sec. Users per second: 1466\n",
      "EvaluatorHoldout: Processed 10466 (100.0%) in 7.53 sec. Users per second: 1389\n"
     ]
    },
    {
     "name": "stderr",
     "output_type": "stream",
     "text": [
      "[I 2023-12-11 18:05:47,461] Trial 275 finished with value: 0.04235218799811493 and parameters: {'topK': 38, 'alpha': 0.740167719445126}. Best is trial 264 with value: 0.04241321017300737.\n"
     ]
    },
    {
     "name": "stdout",
     "output_type": "stream",
     "text": [
      "EvaluatorHoldout: Processed 10437 (100.0%) in 7.14 sec. Users per second: 1461\n",
      "EvaluatorHoldout: Processed 10532 (100.0%) in 7.16 sec. Users per second: 1471\n",
      "EvaluatorHoldout: Processed 10466 (100.0%) in 7.23 sec. Users per second: 1448\n"
     ]
    },
    {
     "name": "stderr",
     "output_type": "stream",
     "text": [
      "[I 2023-12-11 18:06:27,511] Trial 276 finished with value: 0.040182238079796206 and parameters: {'topK': 42, 'alpha': 0.7958834529293379}. Best is trial 264 with value: 0.04241321017300737.\n"
     ]
    },
    {
     "name": "stdout",
     "output_type": "stream",
     "text": [
      "EvaluatorHoldout: Processed 10437 (100.0%) in 7.15 sec. Users per second: 1460\n",
      "EvaluatorHoldout: Processed 10532 (100.0%) in 7.20 sec. Users per second: 1463\n",
      "EvaluatorHoldout: Processed 10466 (100.0%) in 7.77 sec. Users per second: 1347\n"
     ]
    },
    {
     "name": "stderr",
     "output_type": "stream",
     "text": [
      "[I 2023-12-11 18:07:07,627] Trial 277 finished with value: 0.042205183148507686 and parameters: {'topK': 37, 'alpha': 0.724685833656543}. Best is trial 264 with value: 0.04241321017300737.\n"
     ]
    },
    {
     "name": "stdout",
     "output_type": "stream",
     "text": [
      "EvaluatorHoldout: Processed 10437 (100.0%) in 7.21 sec. Users per second: 1448\n",
      "EvaluatorHoldout: Processed 10532 (100.0%) in 7.27 sec. Users per second: 1450\n",
      "EvaluatorHoldout: Processed 10466 (100.0%) in 7.12 sec. Users per second: 1470\n"
     ]
    },
    {
     "name": "stderr",
     "output_type": "stream",
     "text": [
      "[I 2023-12-11 18:07:47,505] Trial 278 finished with value: 0.042098822335077925 and parameters: {'topK': 40, 'alpha': 0.7640937742987576}. Best is trial 264 with value: 0.04241321017300737.\n"
     ]
    },
    {
     "name": "stdout",
     "output_type": "stream",
     "text": [
      "EvaluatorHoldout: Processed 10437 (100.0%) in 7.27 sec. Users per second: 1436\n",
      "EvaluatorHoldout: Processed 10532 (100.0%) in 7.18 sec. Users per second: 1466\n",
      "EvaluatorHoldout: Processed 10466 (100.0%) in 7.07 sec. Users per second: 1480\n"
     ]
    },
    {
     "name": "stderr",
     "output_type": "stream",
     "text": [
      "[I 2023-12-11 18:08:27,380] Trial 279 finished with value: 0.04237900362598348 and parameters: {'topK': 39, 'alpha': 0.7494872697511002}. Best is trial 264 with value: 0.04241321017300737.\n"
     ]
    },
    {
     "name": "stdout",
     "output_type": "stream",
     "text": [
      "EvaluatorHoldout: Processed 10437 (100.0%) in 7.21 sec. Users per second: 1448\n",
      "EvaluatorHoldout: Processed 10532 (100.0%) in 7.07 sec. Users per second: 1490\n",
      "EvaluatorHoldout: Processed 10466 (100.0%) in 7.26 sec. Users per second: 1442\n"
     ]
    },
    {
     "name": "stderr",
     "output_type": "stream",
     "text": [
      "[I 2023-12-11 18:09:07,654] Trial 280 finished with value: 0.041547264468068834 and parameters: {'topK': 43, 'alpha': 0.777832467152899}. Best is trial 264 with value: 0.04241321017300737.\n"
     ]
    },
    {
     "name": "stdout",
     "output_type": "stream",
     "text": [
      "EvaluatorHoldout: Processed 10437 (100.0%) in 7.07 sec. Users per second: 1475\n",
      "EvaluatorHoldout: Processed 10532 (100.0%) in 7.12 sec. Users per second: 1480\n",
      "EvaluatorHoldout: Processed 10466 (100.0%) in 7.09 sec. Users per second: 1476\n"
     ]
    },
    {
     "name": "stderr",
     "output_type": "stream",
     "text": [
      "[I 2023-12-11 18:09:47,410] Trial 281 finished with value: 0.04230252499117738 and parameters: {'topK': 40, 'alpha': 0.7554501623907015}. Best is trial 264 with value: 0.04241321017300737.\n"
     ]
    },
    {
     "name": "stdout",
     "output_type": "stream",
     "text": [
      "EvaluatorHoldout: Processed 10437 (100.0%) in 7.09 sec. Users per second: 1473\n",
      "EvaluatorHoldout: Processed 10532 (100.0%) in 7.35 sec. Users per second: 1433\n",
      "EvaluatorHoldout: Processed 10466 (100.0%) in 7.22 sec. Users per second: 1449\n"
     ]
    },
    {
     "name": "stderr",
     "output_type": "stream",
     "text": [
      "[I 2023-12-11 18:10:27,075] Trial 282 finished with value: 0.04230850398521019 and parameters: {'topK': 36, 'alpha': 0.748168971284303}. Best is trial 264 with value: 0.04241321017300737.\n"
     ]
    },
    {
     "name": "stdout",
     "output_type": "stream",
     "text": [
      "EvaluatorHoldout: Processed 10437 (100.0%) in 7.05 sec. Users per second: 1481\n",
      "EvaluatorHoldout: Processed 10532 (100.0%) in 7.18 sec. Users per second: 1466\n",
      "EvaluatorHoldout: Processed 10466 (100.0%) in 7.17 sec. Users per second: 1460\n"
     ]
    },
    {
     "name": "stderr",
     "output_type": "stream",
     "text": [
      "[I 2023-12-11 18:11:06,773] Trial 283 finished with value: 0.03462439421432995 and parameters: {'topK': 39, 'alpha': 0.5508480966235577}. Best is trial 264 with value: 0.04241321017300737.\n"
     ]
    },
    {
     "name": "stdout",
     "output_type": "stream",
     "text": [
      "EvaluatorHoldout: Processed 10437 (100.0%) in 7.12 sec. Users per second: 1466\n",
      "EvaluatorHoldout: Processed 10532 (100.0%) in 7.15 sec. Users per second: 1474\n",
      "EvaluatorHoldout: Processed 10466 (100.0%) in 7.17 sec. Users per second: 1459\n"
     ]
    },
    {
     "name": "stderr",
     "output_type": "stream",
     "text": [
      "[I 2023-12-11 18:11:46,909] Trial 284 finished with value: 0.04096632249378885 and parameters: {'topK': 44, 'alpha': 0.7024553088300813}. Best is trial 264 with value: 0.04241321017300737.\n"
     ]
    },
    {
     "name": "stdout",
     "output_type": "stream",
     "text": [
      "EvaluatorHoldout: Processed 10437 (100.0%) in 7.13 sec. Users per second: 1464\n",
      "EvaluatorHoldout: Processed 10532 (100.0%) in 7.15 sec. Users per second: 1473\n",
      "EvaluatorHoldout: Processed 10466 (100.0%) in 7.22 sec. Users per second: 1450\n"
     ]
    },
    {
     "name": "stderr",
     "output_type": "stream",
     "text": [
      "[I 2023-12-11 18:12:26,939] Trial 285 finished with value: 0.041824365855733965 and parameters: {'topK': 41, 'alpha': 0.7718107048080759}. Best is trial 264 with value: 0.04241321017300737.\n"
     ]
    },
    {
     "name": "stdout",
     "output_type": "stream",
     "text": [
      "EvaluatorHoldout: Processed 10437 (100.0%) in 7.12 sec. Users per second: 1466\n",
      "EvaluatorHoldout: Processed 10532 (100.0%) in 7.75 sec. Users per second: 1358\n",
      "EvaluatorHoldout: Processed 10466 (100.0%) in 7.16 sec. Users per second: 1461\n"
     ]
    },
    {
     "name": "stderr",
     "output_type": "stream",
     "text": [
      "[I 2023-12-11 18:13:06,891] Trial 286 finished with value: 0.042195138243661556 and parameters: {'topK': 38, 'alpha': 0.7599286820760306}. Best is trial 264 with value: 0.04241321017300737.\n"
     ]
    },
    {
     "name": "stdout",
     "output_type": "stream",
     "text": [
      "EvaluatorHoldout: Processed 10437 (100.0%) in 7.14 sec. Users per second: 1462\n",
      "EvaluatorHoldout: Processed 10532 (100.0%) in 7.10 sec. Users per second: 1484\n",
      "EvaluatorHoldout: Processed 10466 (100.0%) in 7.19 sec. Users per second: 1456\n"
     ]
    },
    {
     "name": "stderr",
     "output_type": "stream",
     "text": [
      "[I 2023-12-11 18:13:46,100] Trial 287 finished with value: 0.042312022497487674 and parameters: {'topK': 34, 'alpha': 0.7450194296664298}. Best is trial 264 with value: 0.04241321017300737.\n"
     ]
    },
    {
     "name": "stdout",
     "output_type": "stream",
     "text": [
      "EvaluatorHoldout: Processed 10437 (100.0%) in 6.99 sec. Users per second: 1493\n",
      "EvaluatorHoldout: Processed 10532 (100.0%) in 7.08 sec. Users per second: 1487\n",
      "EvaluatorHoldout: Processed 10466 (100.0%) in 7.22 sec. Users per second: 1449\n"
     ]
    },
    {
     "name": "stderr",
     "output_type": "stream",
     "text": [
      "[I 2023-12-11 18:14:26,121] Trial 288 finished with value: 0.042178060633719656 and parameters: {'topK': 42, 'alpha': 0.7310789064386982}. Best is trial 264 with value: 0.04241321017300737.\n"
     ]
    },
    {
     "name": "stdout",
     "output_type": "stream",
     "text": [
      "EvaluatorHoldout: Processed 10437 (100.0%) in 7.14 sec. Users per second: 1463\n",
      "EvaluatorHoldout: Processed 10532 (100.0%) in 7.29 sec. Users per second: 1444\n",
      "EvaluatorHoldout: Processed 10466 (100.0%) in 7.14 sec. Users per second: 1466\n"
     ]
    },
    {
     "name": "stderr",
     "output_type": "stream",
     "text": [
      "[I 2023-12-11 18:15:05,587] Trial 289 finished with value: 0.042287504531582164 and parameters: {'topK': 37, 'alpha': 0.7517295164714577}. Best is trial 264 with value: 0.04241321017300737.\n"
     ]
    },
    {
     "name": "stdout",
     "output_type": "stream",
     "text": [
      "EvaluatorHoldout: Processed 10437 (100.0%) in 7.25 sec. Users per second: 1440\n",
      "EvaluatorHoldout: Processed 10532 (100.0%) in 7.25 sec. Users per second: 1453\n",
      "EvaluatorHoldout: Processed 10466 (100.0%) in 7.11 sec. Users per second: 1472\n"
     ]
    },
    {
     "name": "stderr",
     "output_type": "stream",
     "text": [
      "[I 2023-12-11 18:15:46,186] Trial 290 finished with value: 0.04225845537557175 and parameters: {'topK': 46, 'alpha': 0.7398428364433658}. Best is trial 264 with value: 0.04241321017300737.\n"
     ]
    },
    {
     "name": "stdout",
     "output_type": "stream",
     "text": [
      "EvaluatorHoldout: Processed 10437 (100.0%) in 7.06 sec. Users per second: 1478\n",
      "EvaluatorHoldout: Processed 10532 (100.0%) in 7.28 sec. Users per second: 1447\n",
      "EvaluatorHoldout: Processed 10466 (100.0%) in 7.11 sec. Users per second: 1472\n"
     ]
    },
    {
     "name": "stderr",
     "output_type": "stream",
     "text": [
      "[I 2023-12-11 18:16:25,935] Trial 291 finished with value: 0.04183294053257142 and parameters: {'topK': 39, 'alpha': 0.7166995156482142}. Best is trial 264 with value: 0.04241321017300737.\n"
     ]
    },
    {
     "name": "stdout",
     "output_type": "stream",
     "text": [
      "EvaluatorHoldout: Processed 10437 (100.0%) in 7.08 sec. Users per second: 1474\n",
      "EvaluatorHoldout: Processed 10532 (100.0%) in 7.10 sec. Users per second: 1484\n",
      "EvaluatorHoldout: Processed 10466 (100.0%) in 7.10 sec. Users per second: 1474\n"
     ]
    },
    {
     "name": "stderr",
     "output_type": "stream",
     "text": [
      "[I 2023-12-11 18:17:05,720] Trial 292 finished with value: 0.03883015766458434 and parameters: {'topK': 41, 'alpha': 0.8113026892663525}. Best is trial 264 with value: 0.04241321017300737.\n"
     ]
    },
    {
     "name": "stdout",
     "output_type": "stream",
     "text": [
      "EvaluatorHoldout: Processed 10437 (100.0%) in 7.22 sec. Users per second: 1446\n",
      "EvaluatorHoldout: Processed 10532 (100.0%) in 7.17 sec. Users per second: 1469\n",
      "EvaluatorHoldout: Processed 10466 (100.0%) in 7.12 sec. Users per second: 1470\n"
     ]
    },
    {
     "name": "stderr",
     "output_type": "stream",
     "text": [
      "[I 2023-12-11 18:17:44,526] Trial 293 finished with value: 0.04232119487994949 and parameters: {'topK': 31, 'alpha': 0.735802590457985}. Best is trial 264 with value: 0.04241321017300737.\n"
     ]
    },
    {
     "name": "stdout",
     "output_type": "stream",
     "text": [
      "EvaluatorHoldout: Processed 10437 (100.0%) in 7.09 sec. Users per second: 1472\n",
      "EvaluatorHoldout: Processed 10532 (100.0%) in 7.24 sec. Users per second: 1455\n",
      "EvaluatorHoldout: Processed 10466 (100.0%) in 7.56 sec. Users per second: 1385\n"
     ]
    },
    {
     "name": "stderr",
     "output_type": "stream",
     "text": [
      "[I 2023-12-11 18:18:24,223] Trial 294 finished with value: 0.04224532497478515 and parameters: {'topK': 36, 'alpha': 0.7250709949596245}. Best is trial 264 with value: 0.04241321017300737.\n"
     ]
    },
    {
     "name": "stdout",
     "output_type": "stream",
     "text": [
      "EvaluatorHoldout: Processed 10437 (100.0%) in 7.20 sec. Users per second: 1449\n",
      "EvaluatorHoldout: Processed 10532 (100.0%) in 7.44 sec. Users per second: 1415\n",
      "EvaluatorHoldout: Processed 10466 (100.0%) in 7.13 sec. Users per second: 1469\n"
     ]
    },
    {
     "name": "stderr",
     "output_type": "stream",
     "text": [
      "[I 2023-12-11 18:19:04,240] Trial 295 finished with value: 0.04237775647523006 and parameters: {'topK': 39, 'alpha': 0.7486652256094904}. Best is trial 264 with value: 0.04241321017300737.\n"
     ]
    },
    {
     "name": "stdout",
     "output_type": "stream",
     "text": [
      "EvaluatorHoldout: Processed 10437 (100.0%) in 7.15 sec. Users per second: 1459\n",
      "EvaluatorHoldout: Processed 10532 (100.0%) in 7.15 sec. Users per second: 1474\n",
      "EvaluatorHoldout: Processed 10466 (100.0%) in 7.13 sec. Users per second: 1469\n"
     ]
    },
    {
     "name": "stderr",
     "output_type": "stream",
     "text": [
      "[I 2023-12-11 18:19:44,240] Trial 296 finished with value: 0.04229883227475815 and parameters: {'topK': 40, 'alpha': 0.7602561367788707}. Best is trial 264 with value: 0.04241321017300737.\n"
     ]
    },
    {
     "name": "stdout",
     "output_type": "stream",
     "text": [
      "EvaluatorHoldout: Processed 10437 (100.0%) in 7.16 sec. Users per second: 1459\n",
      "EvaluatorHoldout: Processed 10532 (100.0%) in 7.70 sec. Users per second: 1368\n",
      "EvaluatorHoldout: Processed 10466 (100.0%) in 7.10 sec. Users per second: 1474\n"
     ]
    },
    {
     "name": "stderr",
     "output_type": "stream",
     "text": [
      "[I 2023-12-11 18:20:24,965] Trial 297 finished with value: 0.04231062721043077 and parameters: {'topK': 44, 'alpha': 0.7508977236093178}. Best is trial 264 with value: 0.04241321017300737.\n"
     ]
    },
    {
     "name": "stdout",
     "output_type": "stream",
     "text": [
      "EvaluatorHoldout: Processed 10437 (100.0%) in 7.08 sec. Users per second: 1475\n",
      "EvaluatorHoldout: Processed 10532 (100.0%) in 7.13 sec. Users per second: 1477\n",
      "EvaluatorHoldout: Processed 10466 (100.0%) in 7.14 sec. Users per second: 1466\n"
     ]
    },
    {
     "name": "stderr",
     "output_type": "stream",
     "text": [
      "[I 2023-12-11 18:21:04,325] Trial 298 finished with value: 0.03417650649808968 and parameters: {'topK': 38, 'alpha': 0.5318381047576494}. Best is trial 264 with value: 0.04241321017300737.\n"
     ]
    },
    {
     "name": "stdout",
     "output_type": "stream",
     "text": [
      "EvaluatorHoldout: Processed 10437 (100.0%) in 6.99 sec. Users per second: 1492\n",
      "EvaluatorHoldout: Processed 10532 (100.0%) in 7.07 sec. Users per second: 1490\n",
      "EvaluatorHoldout: Processed 10466 (100.0%) in 7.18 sec. Users per second: 1458\n"
     ]
    },
    {
     "name": "stderr",
     "output_type": "stream",
     "text": [
      "[I 2023-12-11 18:21:44,126] Trial 299 finished with value: 0.042027529150412 and parameters: {'topK': 42, 'alpha': 0.7680703688847237}. Best is trial 264 with value: 0.04241321017300737.\n"
     ]
    },
    {
     "name": "stdout",
     "output_type": "stream",
     "text": [
      "EvaluatorHoldout: Processed 10437 (100.0%) in 7.09 sec. Users per second: 1471\n",
      "EvaluatorHoldout: Processed 10532 (100.0%) in 7.07 sec. Users per second: 1489\n",
      "EvaluatorHoldout: Processed 10466 (100.0%) in 7.07 sec. Users per second: 1480\n"
     ]
    },
    {
     "name": "stderr",
     "output_type": "stream",
     "text": [
      "[I 2023-12-11 18:22:23,737] Trial 300 finished with value: 0.04234718590757269 and parameters: {'topK': 39, 'alpha': 0.7444555730405326}. Best is trial 264 with value: 0.04241321017300737.\n"
     ]
    },
    {
     "name": "stdout",
     "output_type": "stream",
     "text": [
      "EvaluatorHoldout: Processed 10437 (100.0%) in 7.20 sec. Users per second: 1450\n",
      "EvaluatorHoldout: Processed 10532 (100.0%) in 7.17 sec. Users per second: 1468\n",
      "EvaluatorHoldout: Processed 10466 (100.0%) in 7.27 sec. Users per second: 1440\n"
     ]
    },
    {
     "name": "stderr",
     "output_type": "stream",
     "text": [
      "[I 2023-12-11 18:23:06,657] Trial 301 finished with value: 0.03869286969476751 and parameters: {'topK': 66, 'alpha': 0.6860730003646722}. Best is trial 264 with value: 0.04241321017300737.\n"
     ]
    },
    {
     "name": "stdout",
     "output_type": "stream",
     "text": [
      "EvaluatorHoldout: Processed 10437 (100.0%) in 7.05 sec. Users per second: 1480\n",
      "EvaluatorHoldout: Processed 10532 (100.0%) in 7.27 sec. Users per second: 1449\n",
      "EvaluatorHoldout: Processed 10466 (100.0%) in 7.11 sec. Users per second: 1471\n"
     ]
    },
    {
     "name": "stderr",
     "output_type": "stream",
     "text": [
      "[I 2023-12-11 18:23:46,621] Trial 302 finished with value: 0.03876777277768729 and parameters: {'topK': 41, 'alpha': 0.6603182196130573}. Best is trial 264 with value: 0.04241321017300737.\n"
     ]
    },
    {
     "name": "stdout",
     "output_type": "stream",
     "text": [
      "EvaluatorHoldout: Processed 10437 (100.0%) in 7.14 sec. Users per second: 1463\n",
      "EvaluatorHoldout: Processed 10532 (100.0%) in 7.11 sec. Users per second: 1481\n",
      "EvaluatorHoldout: Processed 10466 (100.0%) in 7.18 sec. Users per second: 1458\n"
     ]
    },
    {
     "name": "stderr",
     "output_type": "stream",
     "text": [
      "[I 2023-12-11 18:24:26,213] Trial 303 finished with value: 0.0422965726623272 and parameters: {'topK': 38, 'alpha': 0.7563162015049908}. Best is trial 264 with value: 0.04241321017300737.\n"
     ]
    },
    {
     "name": "stdout",
     "output_type": "stream",
     "text": [
      "EvaluatorHoldout: Processed 10437 (100.0%) in 7.22 sec. Users per second: 1445\n",
      "EvaluatorHoldout: Processed 10532 (100.0%) in 7.28 sec. Users per second: 1446\n",
      "EvaluatorHoldout: Processed 10466 (100.0%) in 7.18 sec. Users per second: 1457\n"
     ]
    },
    {
     "name": "stderr",
     "output_type": "stream",
     "text": [
      "[I 2023-12-11 18:25:06,501] Trial 304 finished with value: 0.04234847143371704 and parameters: {'topK': 43, 'alpha': 0.7490489067662456}. Best is trial 264 with value: 0.04241321017300737.\n"
     ]
    },
    {
     "name": "stdout",
     "output_type": "stream",
     "text": [
      "EvaluatorHoldout: Processed 10437 (100.0%) in 7.19 sec. Users per second: 1452\n",
      "EvaluatorHoldout: Processed 10532 (100.0%) in 7.39 sec. Users per second: 1425\n",
      "EvaluatorHoldout: Processed 10466 (100.0%) in 7.14 sec. Users per second: 1465\n"
     ]
    },
    {
     "name": "stderr",
     "output_type": "stream",
     "text": [
      "[I 2023-12-11 18:25:46,486] Trial 305 finished with value: 0.04236755927534844 and parameters: {'topK': 40, 'alpha': 0.7403550722131687}. Best is trial 264 with value: 0.04241321017300737.\n"
     ]
    },
    {
     "name": "stdout",
     "output_type": "stream",
     "text": [
      "EvaluatorHoldout: Processed 10437 (100.0%) in 7.04 sec. Users per second: 1483\n",
      "EvaluatorHoldout: Processed 10532 (100.0%) in 7.18 sec. Users per second: 1467\n",
      "EvaluatorHoldout: Processed 10466 (100.0%) in 7.07 sec. Users per second: 1480\n"
     ]
    },
    {
     "name": "stderr",
     "output_type": "stream",
     "text": [
      "[I 2023-12-11 18:26:25,717] Trial 306 finished with value: 0.04178492367296708 and parameters: {'topK': 36, 'alpha': 0.763291639867687}. Best is trial 264 with value: 0.04241321017300737.\n"
     ]
    },
    {
     "name": "stdout",
     "output_type": "stream",
     "text": [
      "EvaluatorHoldout: Processed 10437 (100.0%) in 7.05 sec. Users per second: 1480\n",
      "EvaluatorHoldout: Processed 10532 (100.0%) in 7.12 sec. Users per second: 1478\n",
      "EvaluatorHoldout: Processed 10466 (100.0%) in 7.08 sec. Users per second: 1478\n"
     ]
    },
    {
     "name": "stderr",
     "output_type": "stream",
     "text": [
      "[I 2023-12-11 18:27:05,146] Trial 307 finished with value: 0.04241910694159847 and parameters: {'topK': 38, 'alpha': 0.737157602088028}. Best is trial 307 with value: 0.04241910694159847.\n"
     ]
    },
    {
     "name": "stdout",
     "output_type": "stream",
     "text": [
      "EvaluatorHoldout: Processed 10437 (100.0%) in 6.98 sec. Users per second: 1496\n",
      "EvaluatorHoldout: Processed 10532 (100.0%) in 7.20 sec. Users per second: 1464\n",
      "EvaluatorHoldout: Processed 10466 (100.0%) in 7.19 sec. Users per second: 1456\n"
     ]
    },
    {
     "name": "stderr",
     "output_type": "stream",
     "text": [
      "[I 2023-12-11 18:27:44,573] Trial 308 finished with value: 0.04236901995234043 and parameters: {'topK': 37, 'alpha': 0.732145664232418}. Best is trial 307 with value: 0.04241910694159847.\n"
     ]
    },
    {
     "name": "stdout",
     "output_type": "stream",
     "text": [
      "EvaluatorHoldout: Processed 10437 (100.0%) in 7.15 sec. Users per second: 1460\n",
      "EvaluatorHoldout: Processed 10532 (100.0%) in 6.80 sec. Users per second: 1550\n",
      "EvaluatorHoldout: Processed 10466 (100.0%) in 7.76 sec. Users per second: 1349\n"
     ]
    },
    {
     "name": "stderr",
     "output_type": "stream",
     "text": [
      "[I 2023-12-11 18:28:25,219] Trial 309 finished with value: 0.04231487075397065 and parameters: {'topK': 38, 'alpha': 0.7505173437189754}. Best is trial 307 with value: 0.04241910694159847.\n"
     ]
    },
    {
     "name": "stdout",
     "output_type": "stream",
     "text": [
      "EvaluatorHoldout: Processed 10437 (100.0%) in 8.19 sec. Users per second: 1275\n",
      "EvaluatorHoldout: Processed 10532 (100.0%) in 7.43 sec. Users per second: 1417\n",
      "EvaluatorHoldout: Processed 10466 (100.0%) in 9.10 sec. Users per second: 1150\n"
     ]
    },
    {
     "name": "stderr",
     "output_type": "stream",
     "text": [
      "[I 2023-12-11 18:29:08,432] Trial 310 finished with value: 0.0423482247588719 and parameters: {'topK': 35, 'alpha': 0.7366518652310049}. Best is trial 307 with value: 0.04241910694159847.\n"
     ]
    },
    {
     "name": "stdout",
     "output_type": "stream",
     "text": [
      "EvaluatorHoldout: Processed 10437 (100.0%) in 7.53 sec. Users per second: 1387\n",
      "EvaluatorHoldout: Processed 10532 (100.0%) in 7.66 sec. Users per second: 1374\n",
      "EvaluatorHoldout: Processed 10466 (100.0%) in 8.00 sec. Users per second: 1308\n"
     ]
    },
    {
     "name": "stderr",
     "output_type": "stream",
     "text": [
      "[I 2023-12-11 18:29:49,868] Trial 311 finished with value: 0.04231446646179149 and parameters: {'topK': 39, 'alpha': 0.7554201779335781}. Best is trial 307 with value: 0.04241910694159847.\n"
     ]
    },
    {
     "name": "stdout",
     "output_type": "stream",
     "text": [
      "EvaluatorHoldout: Processed 10437 (100.0%) in 7.53 sec. Users per second: 1387\n",
      "EvaluatorHoldout: Processed 10532 (100.0%) in 7.16 sec. Users per second: 1470\n",
      "EvaluatorHoldout: Processed 10466 (100.0%) in 7.08 sec. Users per second: 1478\n"
     ]
    },
    {
     "name": "stderr",
     "output_type": "stream",
     "text": [
      "[I 2023-12-11 18:30:29,901] Trial 312 finished with value: 0.042335705696544844 and parameters: {'topK': 42, 'alpha': 0.7447587078925009}. Best is trial 307 with value: 0.04241910694159847.\n"
     ]
    },
    {
     "name": "stdout",
     "output_type": "stream",
     "text": [
      "EvaluatorHoldout: Processed 10437 (100.0%) in 7.04 sec. Users per second: 1483\n",
      "EvaluatorHoldout: Processed 10532 (100.0%) in 7.83 sec. Users per second: 1345\n",
      "EvaluatorHoldout: Processed 10466 (100.0%) in 7.10 sec. Users per second: 1474\n"
     ]
    },
    {
     "name": "stderr",
     "output_type": "stream",
     "text": [
      "[I 2023-12-11 18:31:09,661] Trial 313 finished with value: 0.041974956252414264 and parameters: {'topK': 37, 'alpha': 0.7202536539100595}. Best is trial 307 with value: 0.04241910694159847.\n"
     ]
    },
    {
     "name": "stdout",
     "output_type": "stream",
     "text": [
      "EvaluatorHoldout: Processed 10437 (100.0%) in 9.10 sec. Users per second: 1147\n",
      "EvaluatorHoldout: Processed 10532 (100.0%) in 7.06 sec. Users per second: 1491\n",
      "EvaluatorHoldout: Processed 10466 (100.0%) in 7.05 sec. Users per second: 1485\n"
     ]
    },
    {
     "name": "stderr",
     "output_type": "stream",
     "text": [
      "[I 2023-12-11 18:31:50,939] Trial 314 finished with value: 0.041649469730041015 and parameters: {'topK': 40, 'alpha': 0.7116285035458674}. Best is trial 307 with value: 0.04241910694159847.\n"
     ]
    },
    {
     "name": "stdout",
     "output_type": "stream",
     "text": [
      "EvaluatorHoldout: Processed 10437 (100.0%) in 8.39 sec. Users per second: 1244\n",
      "EvaluatorHoldout: Processed 10532 (100.0%) in 7.08 sec. Users per second: 1488\n",
      "EvaluatorHoldout: Processed 10466 (100.0%) in 7.09 sec. Users per second: 1476\n"
     ]
    },
    {
     "name": "stderr",
     "output_type": "stream",
     "text": [
      "[I 2023-12-11 18:32:32,177] Trial 315 finished with value: 0.0418041384446659 and parameters: {'topK': 45, 'alpha': 0.773940671636162}. Best is trial 307 with value: 0.04241910694159847.\n"
     ]
    },
    {
     "name": "stdout",
     "output_type": "stream",
     "text": [
      "EvaluatorHoldout: Processed 10437 (100.0%) in 7.33 sec. Users per second: 1424\n",
      "EvaluatorHoldout: Processed 10532 (100.0%) in 7.00 sec. Users per second: 1506\n",
      "EvaluatorHoldout: Processed 10466 (100.0%) in 7.03 sec. Users per second: 1488\n"
     ]
    },
    {
     "name": "stderr",
     "output_type": "stream",
     "text": [
      "[I 2023-12-11 18:33:11,645] Trial 316 finished with value: 0.042220640953341965 and parameters: {'topK': 39, 'alpha': 0.7283500536379803}. Best is trial 307 with value: 0.04241910694159847.\n"
     ]
    },
    {
     "name": "stdout",
     "output_type": "stream",
     "text": [
      "EvaluatorHoldout: Processed 10437 (100.0%) in 6.98 sec. Users per second: 1495\n",
      "EvaluatorHoldout: Processed 10532 (100.0%) in 7.07 sec. Users per second: 1489\n",
      "EvaluatorHoldout: Processed 10466 (100.0%) in 7.06 sec. Users per second: 1482\n"
     ]
    },
    {
     "name": "stderr",
     "output_type": "stream",
     "text": [
      "[I 2023-12-11 18:33:52,578] Trial 317 finished with value: 0.036661494569375286 and parameters: {'topK': 54, 'alpha': 0.8474887362936854}. Best is trial 307 with value: 0.04241910694159847.\n"
     ]
    },
    {
     "name": "stdout",
     "output_type": "stream",
     "text": [
      "EvaluatorHoldout: Processed 10437 (100.0%) in 7.00 sec. Users per second: 1492\n",
      "EvaluatorHoldout: Processed 10532 (100.0%) in 7.15 sec. Users per second: 1473\n",
      "EvaluatorHoldout: Processed 10466 (100.0%) in 7.13 sec. Users per second: 1468\n"
     ]
    },
    {
     "name": "stderr",
     "output_type": "stream",
     "text": [
      "[I 2023-12-11 18:34:31,765] Trial 318 finished with value: 0.04230897175494389 and parameters: {'topK': 35, 'alpha': 0.7422553820029132}. Best is trial 307 with value: 0.04241910694159847.\n"
     ]
    },
    {
     "name": "stdout",
     "output_type": "stream",
     "text": [
      "EvaluatorHoldout: Processed 10437 (100.0%) in 7.02 sec. Users per second: 1488\n",
      "EvaluatorHoldout: Processed 10532 (100.0%) in 7.77 sec. Users per second: 1355\n",
      "EvaluatorHoldout: Processed 10466 (100.0%) in 8.21 sec. Users per second: 1274\n"
     ]
    },
    {
     "name": "stderr",
     "output_type": "stream",
     "text": [
      "[I 2023-12-11 18:35:13,320] Trial 319 finished with value: 0.04229474555291734 and parameters: {'topK': 42, 'alpha': 0.7590452495846836}. Best is trial 307 with value: 0.04241910694159847.\n"
     ]
    },
    {
     "name": "stdout",
     "output_type": "stream",
     "text": [
      "EvaluatorHoldout: Processed 10437 (100.0%) in 7.49 sec. Users per second: 1393\n",
      "EvaluatorHoldout: Processed 10532 (100.0%) in 7.00 sec. Users per second: 1505\n",
      "EvaluatorHoldout: Processed 10466 (100.0%) in 6.95 sec. Users per second: 1505\n"
     ]
    },
    {
     "name": "stderr",
     "output_type": "stream",
     "text": [
      "[I 2023-12-11 18:35:52,772] Trial 320 finished with value: 0.04235316851564003 and parameters: {'topK': 38, 'alpha': 0.735422442069475}. Best is trial 307 with value: 0.04241910694159847.\n"
     ]
    },
    {
     "name": "stdout",
     "output_type": "stream",
     "text": [
      "EvaluatorHoldout: Processed 10437 (100.0%) in 7.13 sec. Users per second: 1463\n",
      "EvaluatorHoldout: Processed 10532 (100.0%) in 7.65 sec. Users per second: 1376\n",
      "EvaluatorHoldout: Processed 10466 (100.0%) in 8.03 sec. Users per second: 1304\n"
     ]
    },
    {
     "name": "stderr",
     "output_type": "stream",
     "text": [
      "[I 2023-12-11 18:36:38,979] Trial 321 finished with value: 0.041861159793688464 and parameters: {'topK': 88, 'alpha': 0.7533546902887934}. Best is trial 307 with value: 0.04241910694159847.\n"
     ]
    },
    {
     "name": "stdout",
     "output_type": "stream",
     "text": [
      "EvaluatorHoldout: Processed 10437 (100.0%) in 7.33 sec. Users per second: 1424\n",
      "EvaluatorHoldout: Processed 10532 (100.0%) in 7.13 sec. Users per second: 1478\n",
      "EvaluatorHoldout: Processed 10466 (100.0%) in 6.99 sec. Users per second: 1497\n"
     ]
    },
    {
     "name": "stderr",
     "output_type": "stream",
     "text": [
      "[I 2023-12-11 18:37:18,151] Trial 322 finished with value: 0.042319398004485774 and parameters: {'topK': 36, 'alpha': 0.7463820345145233}. Best is trial 307 with value: 0.04241910694159847.\n"
     ]
    },
    {
     "name": "stdout",
     "output_type": "stream",
     "text": [
      "EvaluatorHoldout: Processed 10437 (100.0%) in 7.43 sec. Users per second: 1404\n",
      "EvaluatorHoldout: Processed 10532 (100.0%) in 7.19 sec. Users per second: 1464\n",
      "EvaluatorHoldout: Processed 10466 (100.0%) in 7.22 sec. Users per second: 1449\n"
     ]
    },
    {
     "name": "stderr",
     "output_type": "stream",
     "text": [
      "[I 2023-12-11 18:37:58,385] Trial 323 finished with value: 0.04091420457730296 and parameters: {'topK': 41, 'alpha': 0.6983409829948724}. Best is trial 307 with value: 0.04241910694159847.\n"
     ]
    },
    {
     "name": "stdout",
     "output_type": "stream",
     "text": [
      "EvaluatorHoldout: Processed 10437 (100.0%) in 8.25 sec. Users per second: 1265\n",
      "EvaluatorHoldout: Processed 10532 (100.0%) in 7.12 sec. Users per second: 1479\n",
      "EvaluatorHoldout: Processed 10466 (100.0%) in 7.14 sec. Users per second: 1466\n"
     ]
    },
    {
     "name": "stderr",
     "output_type": "stream",
     "text": [
      "[I 2023-12-11 18:38:39,353] Trial 324 finished with value: 0.04084071950265158 and parameters: {'topK': 43, 'alpha': 0.7868529620393732}. Best is trial 307 with value: 0.04241910694159847.\n"
     ]
    },
    {
     "name": "stdout",
     "output_type": "stream",
     "text": [
      "EvaluatorHoldout: Processed 10437 (100.0%) in 6.97 sec. Users per second: 1498\n",
      "EvaluatorHoldout: Processed 10532 (100.0%) in 7.38 sec. Users per second: 1426\n",
      "EvaluatorHoldout: Processed 10466 (100.0%) in 6.97 sec. Users per second: 1502\n"
     ]
    },
    {
     "name": "stderr",
     "output_type": "stream",
     "text": [
      "[I 2023-12-11 18:39:18,944] Trial 325 finished with value: 0.042324216459682595 and parameters: {'topK': 40, 'alpha': 0.7358842723517363}. Best is trial 307 with value: 0.04241910694159847.\n"
     ]
    },
    {
     "name": "stdout",
     "output_type": "stream",
     "text": [
      "EvaluatorHoldout: Processed 10437 (100.0%) in 7.00 sec. Users per second: 1491\n",
      "EvaluatorHoldout: Processed 10532 (100.0%) in 7.02 sec. Users per second: 1501\n",
      "EvaluatorHoldout: Processed 10466 (100.0%) in 6.98 sec. Users per second: 1500\n"
     ]
    },
    {
     "name": "stderr",
     "output_type": "stream",
     "text": [
      "[I 2023-12-11 18:39:58,001] Trial 326 finished with value: 0.041692389849530664 and parameters: {'topK': 37, 'alpha': 0.7658132483185005}. Best is trial 307 with value: 0.04241910694159847.\n"
     ]
    },
    {
     "name": "stdout",
     "output_type": "stream",
     "text": [
      "EvaluatorHoldout: Processed 10437 (100.0%) in 7.37 sec. Users per second: 1417\n",
      "EvaluatorHoldout: Processed 10532 (100.0%) in 7.16 sec. Users per second: 1471\n",
      "EvaluatorHoldout: Processed 10466 (100.0%) in 7.14 sec. Users per second: 1467\n"
     ]
    },
    {
     "name": "stderr",
     "output_type": "stream",
     "text": [
      "[I 2023-12-11 18:40:37,060] Trial 327 finished with value: 0.03570179701337481 and parameters: {'topK': 33, 'alpha': 0.5695896087335331}. Best is trial 307 with value: 0.04241910694159847.\n"
     ]
    },
    {
     "name": "stdout",
     "output_type": "stream",
     "text": [
      "EvaluatorHoldout: Processed 10437 (100.0%) in 7.86 sec. Users per second: 1327\n",
      "EvaluatorHoldout: Processed 10532 (100.0%) in 7.37 sec. Users per second: 1430\n",
      "EvaluatorHoldout: Processed 10466 (100.0%) in 7.03 sec. Users per second: 1489\n"
     ]
    },
    {
     "name": "stderr",
     "output_type": "stream",
     "text": [
      "[I 2023-12-11 18:41:17,281] Trial 328 finished with value: 0.04210534166805532 and parameters: {'topK': 39, 'alpha': 0.7250779382484248}. Best is trial 307 with value: 0.04241910694159847.\n"
     ]
    },
    {
     "name": "stdout",
     "output_type": "stream",
     "text": [
      "EvaluatorHoldout: Processed 10437 (100.0%) in 7.03 sec. Users per second: 1485\n",
      "EvaluatorHoldout: Processed 10532 (100.0%) in 7.68 sec. Users per second: 1372\n",
      "EvaluatorHoldout: Processed 10466 (100.0%) in 7.16 sec. Users per second: 1461\n"
     ]
    },
    {
     "name": "stderr",
     "output_type": "stream",
     "text": [
      "[I 2023-12-11 18:41:57,416] Trial 329 finished with value: 0.04238221009888223 and parameters: {'topK': 41, 'alpha': 0.747756018105793}. Best is trial 307 with value: 0.04241910694159847.\n"
     ]
    },
    {
     "name": "stdout",
     "output_type": "stream",
     "text": [
      "EvaluatorHoldout: Processed 10437 (100.0%) in 7.11 sec. Users per second: 1468\n",
      "EvaluatorHoldout: Processed 10532 (100.0%) in 8.04 sec. Users per second: 1309\n",
      "EvaluatorHoldout: Processed 10466 (100.0%) in 7.17 sec. Users per second: 1460\n"
     ]
    },
    {
     "name": "stderr",
     "output_type": "stream",
     "text": [
      "[I 2023-12-11 18:42:37,672] Trial 330 finished with value: 0.04233632215478502 and parameters: {'topK': 38, 'alpha': 0.7494123573816882}. Best is trial 307 with value: 0.04241910694159847.\n"
     ]
    },
    {
     "name": "stdout",
     "output_type": "stream",
     "text": [
      "EvaluatorHoldout: Processed 10437 (100.0%) in 7.76 sec. Users per second: 1344\n",
      "EvaluatorHoldout: Processed 10532 (100.0%) in 7.31 sec. Users per second: 1441\n",
      "EvaluatorHoldout: Processed 10466 (100.0%) in 6.69 sec. Users per second: 1564\n"
     ]
    },
    {
     "name": "stderr",
     "output_type": "stream",
     "text": [
      "[I 2023-12-11 18:43:17,831] Trial 331 finished with value: 0.0423537415392904 and parameters: {'topK': 44, 'alpha': 0.7589412053087898}. Best is trial 307 with value: 0.04241910694159847.\n"
     ]
    },
    {
     "name": "stdout",
     "output_type": "stream",
     "text": [
      "EvaluatorHoldout: Processed 10437 (100.0%) in 6.91 sec. Users per second: 1510\n",
      "EvaluatorHoldout: Processed 10532 (100.0%) in 6.83 sec. Users per second: 1543\n",
      "EvaluatorHoldout: Processed 10466 (100.0%) in 6.77 sec. Users per second: 1547\n"
     ]
    },
    {
     "name": "stderr",
     "output_type": "stream",
     "text": [
      "[I 2023-12-11 18:43:56,224] Trial 332 finished with value: 0.042330983070498984 and parameters: {'topK': 41, 'alpha': 0.7399920124300423}. Best is trial 307 with value: 0.04241910694159847.\n"
     ]
    },
    {
     "name": "stdout",
     "output_type": "stream",
     "text": [
      "EvaluatorHoldout: Processed 10437 (100.0%) in 6.70 sec. Users per second: 1557\n",
      "EvaluatorHoldout: Processed 10532 (100.0%) in 6.83 sec. Users per second: 1542\n",
      "EvaluatorHoldout: Processed 10466 (100.0%) in 6.79 sec. Users per second: 1542\n"
     ]
    },
    {
     "name": "stderr",
     "output_type": "stream",
     "text": [
      "[I 2023-12-11 18:44:33,636] Trial 333 finished with value: 0.040056515623281254 and parameters: {'topK': 35, 'alpha': 0.6772352488074542}. Best is trial 307 with value: 0.04241910694159847.\n"
     ]
    },
    {
     "name": "stdout",
     "output_type": "stream",
     "text": [
      "EvaluatorHoldout: Processed 10437 (100.0%) in 6.78 sec. Users per second: 1540\n",
      "EvaluatorHoldout: Processed 10532 (100.0%) in 6.77 sec. Users per second: 1556\n",
      "EvaluatorHoldout: Processed 10466 (100.0%) in 6.69 sec. Users per second: 1564\n"
     ]
    },
    {
     "name": "stderr",
     "output_type": "stream",
     "text": [
      "[I 2023-12-11 18:45:11,432] Trial 334 finished with value: 0.04234367041972606 and parameters: {'topK': 39, 'alpha': 0.7504290686665896}. Best is trial 307 with value: 0.04241910694159847.\n"
     ]
    },
    {
     "name": "stdout",
     "output_type": "stream",
     "text": [
      "EvaluatorHoldout: Processed 10437 (100.0%) in 6.70 sec. Users per second: 1557\n",
      "EvaluatorHoldout: Processed 10532 (100.0%) in 6.82 sec. Users per second: 1543\n",
      "EvaluatorHoldout: Processed 10466 (100.0%) in 6.79 sec. Users per second: 1541\n"
     ]
    },
    {
     "name": "stderr",
     "output_type": "stream",
     "text": [
      "[I 2023-12-11 18:45:50,031] Trial 335 finished with value: 0.04198186530671572 and parameters: {'topK': 47, 'alpha': 0.7311459939242176}. Best is trial 307 with value: 0.04241910694159847.\n"
     ]
    },
    {
     "name": "stdout",
     "output_type": "stream",
     "text": [
      "EvaluatorHoldout: Processed 10437 (100.0%) in 6.72 sec. Users per second: 1553\n",
      "EvaluatorHoldout: Processed 10532 (100.0%) in 6.75 sec. Users per second: 1561\n",
      "EvaluatorHoldout: Processed 10466 (100.0%) in 6.88 sec. Users per second: 1521\n"
     ]
    },
    {
     "name": "stderr",
     "output_type": "stream",
     "text": [
      "[I 2023-12-11 18:46:27,727] Trial 336 finished with value: 0.041639460061257856 and parameters: {'topK': 37, 'alpha': 0.7673641043589143}. Best is trial 307 with value: 0.04241910694159847.\n"
     ]
    },
    {
     "name": "stdout",
     "output_type": "stream",
     "text": [
      "EvaluatorHoldout: Processed 10437 (100.0%) in 6.75 sec. Users per second: 1547\n",
      "EvaluatorHoldout: Processed 10532 (100.0%) in 6.83 sec. Users per second: 1543\n",
      "EvaluatorHoldout: Processed 10466 (100.0%) in 6.73 sec. Users per second: 1555\n"
     ]
    },
    {
     "name": "stderr",
     "output_type": "stream",
     "text": [
      "[I 2023-12-11 18:47:05,974] Trial 337 finished with value: 0.04229249756064445 and parameters: {'topK': 42, 'alpha': 0.7442860953374748}. Best is trial 307 with value: 0.04241910694159847.\n"
     ]
    },
    {
     "name": "stdout",
     "output_type": "stream",
     "text": [
      "EvaluatorHoldout: Processed 10437 (100.0%) in 6.70 sec. Users per second: 1558\n",
      "EvaluatorHoldout: Processed 10532 (100.0%) in 6.81 sec. Users per second: 1545\n",
      "EvaluatorHoldout: Processed 10466 (100.0%) in 6.70 sec. Users per second: 1561\n"
     ]
    },
    {
     "name": "stderr",
     "output_type": "stream",
     "text": [
      "[I 2023-12-11 18:47:43,817] Trial 338 finished with value: 0.041824327266884655 and parameters: {'topK': 40, 'alpha': 0.7206086948957856}. Best is trial 307 with value: 0.04241910694159847.\n"
     ]
    },
    {
     "name": "stdout",
     "output_type": "stream",
     "text": [
      "EvaluatorHoldout: Processed 10437 (100.0%) in 6.70 sec. Users per second: 1557\n",
      "EvaluatorHoldout: Processed 10532 (100.0%) in 6.78 sec. Users per second: 1554\n",
      "EvaluatorHoldout: Processed 10466 (100.0%) in 6.72 sec. Users per second: 1557\n"
     ]
    },
    {
     "name": "stderr",
     "output_type": "stream",
     "text": [
      "[I 2023-12-11 18:48:21,071] Trial 339 finished with value: 0.04162900254099055 and parameters: {'topK': 36, 'alpha': 0.7065420504988681}. Best is trial 307 with value: 0.04241910694159847.\n"
     ]
    },
    {
     "name": "stdout",
     "output_type": "stream",
     "text": [
      "EvaluatorHoldout: Processed 10437 (100.0%) in 6.69 sec. Users per second: 1559\n",
      "EvaluatorHoldout: Processed 10532 (100.0%) in 6.72 sec. Users per second: 1566\n",
      "EvaluatorHoldout: Processed 10466 (100.0%) in 6.68 sec. Users per second: 1566\n"
     ]
    },
    {
     "name": "stderr",
     "output_type": "stream",
     "text": [
      "[I 2023-12-11 18:48:58,486] Trial 340 finished with value: 0.042338122121418964 and parameters: {'topK': 38, 'alpha': 0.7357621460260322}. Best is trial 307 with value: 0.04241910694159847.\n"
     ]
    },
    {
     "name": "stdout",
     "output_type": "stream",
     "text": [
      "EvaluatorHoldout: Processed 10437 (100.0%) in 6.77 sec. Users per second: 1541\n",
      "EvaluatorHoldout: Processed 10532 (100.0%) in 6.94 sec. Users per second: 1518\n",
      "EvaluatorHoldout: Processed 10466 (100.0%) in 6.92 sec. Users per second: 1512\n"
     ]
    },
    {
     "name": "stderr",
     "output_type": "stream",
     "text": [
      "[I 2023-12-11 18:49:40,288] Trial 341 finished with value: 0.042042467361333886 and parameters: {'topK': 74, 'alpha': 0.7525678050519692}. Best is trial 307 with value: 0.04241910694159847.\n"
     ]
    },
    {
     "name": "stdout",
     "output_type": "stream",
     "text": [
      "EvaluatorHoldout: Processed 10437 (100.0%) in 6.76 sec. Users per second: 1544\n",
      "EvaluatorHoldout: Processed 10532 (100.0%) in 6.87 sec. Users per second: 1533\n",
      "EvaluatorHoldout: Processed 10466 (100.0%) in 6.80 sec. Users per second: 1539\n"
     ]
    },
    {
     "name": "stderr",
     "output_type": "stream",
     "text": [
      "[I 2023-12-11 18:50:18,493] Trial 342 finished with value: 0.04227602898416222 and parameters: {'topK': 43, 'alpha': 0.7588569624630943}. Best is trial 307 with value: 0.04241910694159847.\n"
     ]
    },
    {
     "name": "stdout",
     "output_type": "stream",
     "text": [
      "EvaluatorHoldout: Processed 10437 (100.0%) in 6.66 sec. Users per second: 1567\n",
      "EvaluatorHoldout: Processed 10532 (100.0%) in 6.80 sec. Users per second: 1548\n",
      "EvaluatorHoldout: Processed 10466 (100.0%) in 6.66 sec. Users per second: 1572\n"
     ]
    },
    {
     "name": "stderr",
     "output_type": "stream",
     "text": [
      "[I 2023-12-11 18:50:56,036] Trial 343 finished with value: 0.042396074433642156 and parameters: {'topK': 40, 'alpha': 0.7424885145189932}. Best is trial 307 with value: 0.04241910694159847.\n"
     ]
    },
    {
     "name": "stdout",
     "output_type": "stream",
     "text": [
      "EvaluatorHoldout: Processed 10437 (100.0%) in 6.66 sec. Users per second: 1567\n",
      "EvaluatorHoldout: Processed 10532 (100.0%) in 6.80 sec. Users per second: 1549\n",
      "EvaluatorHoldout: Processed 10466 (100.0%) in 6.68 sec. Users per second: 1568\n"
     ]
    },
    {
     "name": "stderr",
     "output_type": "stream",
     "text": [
      "[I 2023-12-11 18:51:33,724] Trial 344 finished with value: 0.036574599454543166 and parameters: {'topK': 41, 'alpha': 0.6163022076542607}. Best is trial 307 with value: 0.04241910694159847.\n"
     ]
    },
    {
     "name": "stdout",
     "output_type": "stream",
     "text": [
      "EvaluatorHoldout: Processed 10437 (100.0%) in 6.66 sec. Users per second: 1568\n",
      "EvaluatorHoldout: Processed 10532 (100.0%) in 6.83 sec. Users per second: 1542\n",
      "EvaluatorHoldout: Processed 10466 (100.0%) in 6.67 sec. Users per second: 1568\n"
     ]
    },
    {
     "name": "stderr",
     "output_type": "stream",
     "text": [
      "[I 2023-12-11 18:52:11,565] Trial 345 finished with value: 0.042383849183994356 and parameters: {'topK': 40, 'alpha': 0.7452474806786438}. Best is trial 307 with value: 0.04241910694159847.\n"
     ]
    },
    {
     "name": "stdout",
     "output_type": "stream",
     "text": [
      "EvaluatorHoldout: Processed 10437 (100.0%) in 6.67 sec. Users per second: 1564\n",
      "EvaluatorHoldout: Processed 10532 (100.0%) in 6.85 sec. Users per second: 1537\n",
      "EvaluatorHoldout: Processed 10466 (100.0%) in 6.77 sec. Users per second: 1546\n"
     ]
    },
    {
     "name": "stderr",
     "output_type": "stream",
     "text": [
      "[I 2023-12-11 18:52:49,909] Trial 346 finished with value: 0.041914097865765915 and parameters: {'topK': 45, 'alpha': 0.7258484278728808}. Best is trial 307 with value: 0.04241910694159847.\n"
     ]
    },
    {
     "name": "stdout",
     "output_type": "stream",
     "text": [
      "EvaluatorHoldout: Processed 10437 (100.0%) in 6.72 sec. Users per second: 1554\n",
      "EvaluatorHoldout: Processed 10532 (100.0%) in 6.80 sec. Users per second: 1549\n",
      "EvaluatorHoldout: Processed 10466 (100.0%) in 6.91 sec. Users per second: 1515\n"
     ]
    },
    {
     "name": "stderr",
     "output_type": "stream",
     "text": [
      "[I 2023-12-11 18:53:28,178] Trial 347 finished with value: 0.042357310060042654 and parameters: {'topK': 41, 'alpha': 0.7392902018228955}. Best is trial 307 with value: 0.04241910694159847.\n"
     ]
    },
    {
     "name": "stdout",
     "output_type": "stream",
     "text": [
      "EvaluatorHoldout: Processed 10437 (100.0%) in 6.87 sec. Users per second: 1519\n",
      "EvaluatorHoldout: Processed 10532 (100.0%) in 6.99 sec. Users per second: 1506\n",
      "EvaluatorHoldout: Processed 10466 (100.0%) in 6.94 sec. Users per second: 1508\n"
     ]
    },
    {
     "name": "stderr",
     "output_type": "stream",
     "text": [
      "[I 2023-12-11 18:54:12,599] Trial 348 finished with value: 0.0421124012325537 and parameters: {'topK': 97, 'alpha': 0.7802869039254806}. Best is trial 307 with value: 0.04241910694159847.\n"
     ]
    },
    {
     "name": "stdout",
     "output_type": "stream",
     "text": [
      "EvaluatorHoldout: Processed 10437 (100.0%) in 6.68 sec. Users per second: 1563\n",
      "EvaluatorHoldout: Processed 10532 (100.0%) in 6.73 sec. Users per second: 1565\n",
      "EvaluatorHoldout: Processed 10466 (100.0%) in 6.70 sec. Users per second: 1563\n"
     ]
    },
    {
     "name": "stderr",
     "output_type": "stream",
     "text": [
      "[I 2023-12-11 18:54:50,663] Trial 349 finished with value: 0.04230326473309067 and parameters: {'topK': 44, 'alpha': 0.744714802612621}. Best is trial 307 with value: 0.04241910694159847.\n"
     ]
    },
    {
     "name": "stdout",
     "output_type": "stream",
     "text": [
      "EvaluatorHoldout: Processed 10437 (100.0%) in 6.83 sec. Users per second: 1529\n",
      "EvaluatorHoldout: Processed 10532 (100.0%) in 6.76 sec. Users per second: 1557\n",
      "EvaluatorHoldout: Processed 10466 (100.0%) in 6.82 sec. Users per second: 1534\n"
     ]
    },
    {
     "name": "stderr",
     "output_type": "stream",
     "text": [
      "[I 2023-12-11 18:55:28,923] Trial 350 finished with value: 0.04217081704867961 and parameters: {'topK': 43, 'alpha': 0.73142327342028}. Best is trial 307 with value: 0.04241910694159847.\n"
     ]
    },
    {
     "name": "stdout",
     "output_type": "stream",
     "text": [
      "EvaluatorHoldout: Processed 10437 (100.0%) in 6.77 sec. Users per second: 1542\n",
      "EvaluatorHoldout: Processed 10532 (100.0%) in 6.71 sec. Users per second: 1570\n",
      "EvaluatorHoldout: Processed 10466 (100.0%) in 6.71 sec. Users per second: 1559\n"
     ]
    },
    {
     "name": "stderr",
     "output_type": "stream",
     "text": [
      "[I 2023-12-11 18:56:06,769] Trial 351 finished with value: 0.0422427493020151 and parameters: {'topK': 40, 'alpha': 0.7617382684597882}. Best is trial 307 with value: 0.04241910694159847.\n"
     ]
    },
    {
     "name": "stdout",
     "output_type": "stream",
     "text": [
      "EvaluatorHoldout: Processed 10437 (100.0%) in 6.73 sec. Users per second: 1550\n",
      "EvaluatorHoldout: Processed 10532 (100.0%) in 6.78 sec. Users per second: 1552\n",
      "EvaluatorHoldout: Processed 10466 (100.0%) in 6.65 sec. Users per second: 1573\n"
     ]
    },
    {
     "name": "stderr",
     "output_type": "stream",
     "text": [
      "[I 2023-12-11 18:56:44,057] Trial 352 finished with value: 0.04217559858045044 and parameters: {'topK': 36, 'alpha': 0.7547067635345163}. Best is trial 307 with value: 0.04241910694159847.\n"
     ]
    },
    {
     "name": "stdout",
     "output_type": "stream",
     "text": [
      "EvaluatorHoldout: Processed 10437 (100.0%) in 6.72 sec. Users per second: 1552\n",
      "EvaluatorHoldout: Processed 10532 (100.0%) in 6.77 sec. Users per second: 1557\n",
      "EvaluatorHoldout: Processed 10466 (100.0%) in 6.78 sec. Users per second: 1544\n"
     ]
    },
    {
     "name": "stderr",
     "output_type": "stream",
     "text": [
      "[I 2023-12-11 18:57:22,068] Trial 353 finished with value: 0.03373565452485453 and parameters: {'topK': 42, 'alpha': 0.5272839283067672}. Best is trial 307 with value: 0.04241910694159847.\n"
     ]
    },
    {
     "name": "stdout",
     "output_type": "stream",
     "text": [
      "EvaluatorHoldout: Processed 10437 (100.0%) in 6.68 sec. Users per second: 1564\n",
      "EvaluatorHoldout: Processed 10532 (100.0%) in 6.71 sec. Users per second: 1569\n",
      "EvaluatorHoldout: Processed 10466 (100.0%) in 6.75 sec. Users per second: 1551\n"
     ]
    },
    {
     "name": "stderr",
     "output_type": "stream",
     "text": [
      "[I 2023-12-11 18:57:59,756] Trial 354 finished with value: 0.04233919190548897 and parameters: {'topK': 39, 'alpha': 0.7445238712777474}. Best is trial 307 with value: 0.04241910694159847.\n"
     ]
    },
    {
     "name": "stdout",
     "output_type": "stream",
     "text": [
      "EvaluatorHoldout: Processed 10437 (100.0%) in 6.64 sec. Users per second: 1571\n",
      "EvaluatorHoldout: Processed 10532 (100.0%) in 6.77 sec. Users per second: 1556\n",
      "EvaluatorHoldout: Processed 10466 (100.0%) in 6.76 sec. Users per second: 1549\n"
     ]
    },
    {
     "name": "stderr",
     "output_type": "stream",
     "text": [
      "[I 2023-12-11 18:58:36,870] Trial 355 finished with value: 0.0423377045261763 and parameters: {'topK': 34, 'alpha': 0.732049322859766}. Best is trial 307 with value: 0.04241910694159847.\n"
     ]
    },
    {
     "name": "stdout",
     "output_type": "stream",
     "text": [
      "EvaluatorHoldout: Processed 10437 (100.0%) in 6.74 sec. Users per second: 1548\n",
      "EvaluatorHoldout: Processed 10532 (100.0%) in 6.78 sec. Users per second: 1553\n",
      "EvaluatorHoldout: Processed 10466 (100.0%) in 6.79 sec. Users per second: 1542\n"
     ]
    },
    {
     "name": "stderr",
     "output_type": "stream",
     "text": [
      "[I 2023-12-11 18:59:14,483] Trial 356 finished with value: 0.04189975123864345 and parameters: {'topK': 37, 'alpha': 0.7183672842812828}. Best is trial 307 with value: 0.04241910694159847.\n"
     ]
    },
    {
     "name": "stdout",
     "output_type": "stream",
     "text": [
      "EvaluatorHoldout: Processed 10437 (100.0%) in 6.77 sec. Users per second: 1543\n",
      "EvaluatorHoldout: Processed 10532 (100.0%) in 6.76 sec. Users per second: 1559\n",
      "EvaluatorHoldout: Processed 10466 (100.0%) in 6.76 sec. Users per second: 1548\n"
     ]
    },
    {
     "name": "stderr",
     "output_type": "stream",
     "text": [
      "[I 2023-12-11 18:59:52,348] Trial 357 finished with value: 0.04236469860209168 and parameters: {'topK': 40, 'alpha': 0.7504076973479106}. Best is trial 307 with value: 0.04241910694159847.\n"
     ]
    },
    {
     "name": "stdout",
     "output_type": "stream",
     "text": [
      "EvaluatorHoldout: Processed 10437 (100.0%) in 6.70 sec. Users per second: 1558\n",
      "EvaluatorHoldout: Processed 10532 (100.0%) in 6.83 sec. Users per second: 1542\n",
      "EvaluatorHoldout: Processed 10466 (100.0%) in 6.72 sec. Users per second: 1558\n"
     ]
    },
    {
     "name": "stderr",
     "output_type": "stream",
     "text": [
      "[I 2023-12-11 19:00:30,689] Trial 358 finished with value: 0.04215426843307452 and parameters: {'topK': 46, 'alpha': 0.7683979583705913}. Best is trial 307 with value: 0.04241910694159847.\n"
     ]
    },
    {
     "name": "stdout",
     "output_type": "stream",
     "text": [
      "EvaluatorHoldout: Processed 10437 (100.0%) in 6.82 sec. Users per second: 1530\n",
      "EvaluatorHoldout: Processed 10532 (100.0%) in 6.82 sec. Users per second: 1545\n",
      "EvaluatorHoldout: Processed 10466 (100.0%) in 6.75 sec. Users per second: 1550\n"
     ]
    },
    {
     "name": "stderr",
     "output_type": "stream",
     "text": [
      "[I 2023-12-11 19:01:08,322] Trial 359 finished with value: 0.042359673814324504 and parameters: {'topK': 38, 'alpha': 0.7396113641224863}. Best is trial 307 with value: 0.04241910694159847.\n"
     ]
    },
    {
     "name": "stdout",
     "output_type": "stream",
     "text": [
      "EvaluatorHoldout: Processed 10437 (100.0%) in 6.69 sec. Users per second: 1559\n",
      "EvaluatorHoldout: Processed 10532 (100.0%) in 6.75 sec. Users per second: 1560\n",
      "EvaluatorHoldout: Processed 10466 (100.0%) in 6.75 sec. Users per second: 1550\n"
     ]
    },
    {
     "name": "stderr",
     "output_type": "stream",
     "text": [
      "[I 2023-12-11 19:01:46,171] Trial 360 finished with value: 0.042137861093290783 and parameters: {'topK': 41, 'alpha': 0.7287055372155465}. Best is trial 307 with value: 0.04241910694159847.\n"
     ]
    },
    {
     "name": "stdout",
     "output_type": "stream",
     "text": [
      "EvaluatorHoldout: Processed 10437 (100.0%) in 6.84 sec. Users per second: 1525\n",
      "EvaluatorHoldout: Processed 10532 (100.0%) in 6.77 sec. Users per second: 1556\n",
      "EvaluatorHoldout: Processed 10466 (100.0%) in 6.74 sec. Users per second: 1552\n"
     ]
    },
    {
     "name": "stderr",
     "output_type": "stream",
     "text": [
      "[I 2023-12-11 19:02:24,364] Trial 361 finished with value: 0.0422845095899434 and parameters: {'topK': 43, 'alpha': 0.7577044876052251}. Best is trial 307 with value: 0.04241910694159847.\n"
     ]
    },
    {
     "name": "stdout",
     "output_type": "stream",
     "text": [
      "EvaluatorHoldout: Processed 10437 (100.0%) in 6.74 sec. Users per second: 1549\n",
      "EvaluatorHoldout: Processed 10532 (100.0%) in 6.83 sec. Users per second: 1542\n",
      "EvaluatorHoldout: Processed 10466 (100.0%) in 6.74 sec. Users per second: 1553\n"
     ]
    },
    {
     "name": "stderr",
     "output_type": "stream",
     "text": [
      "[I 2023-12-11 19:03:03,370] Trial 362 finished with value: 0.04038008477423891 and parameters: {'topK': 51, 'alpha': 0.8015716585467876}. Best is trial 307 with value: 0.04241910694159847.\n"
     ]
    },
    {
     "name": "stdout",
     "output_type": "stream",
     "text": [
      "EvaluatorHoldout: Processed 10437 (100.0%) in 6.70 sec. Users per second: 1557\n",
      "EvaluatorHoldout: Processed 10532 (100.0%) in 6.74 sec. Users per second: 1563\n",
      "EvaluatorHoldout: Processed 10466 (100.0%) in 6.66 sec. Users per second: 1571\n"
     ]
    },
    {
     "name": "stderr",
     "output_type": "stream",
     "text": [
      "[I 2023-12-11 19:03:41,065] Trial 363 finished with value: 0.042393957754165934 and parameters: {'topK': 39, 'alpha': 0.7464506266866632}. Best is trial 307 with value: 0.04241910694159847.\n"
     ]
    },
    {
     "name": "stdout",
     "output_type": "stream",
     "text": [
      "EvaluatorHoldout: Processed 10437 (100.0%) in 6.71 sec. Users per second: 1555\n",
      "EvaluatorHoldout: Processed 10532 (100.0%) in 6.78 sec. Users per second: 1553\n",
      "EvaluatorHoldout: Processed 10466 (100.0%) in 6.75 sec. Users per second: 1550\n"
     ]
    },
    {
     "name": "stderr",
     "output_type": "stream",
     "text": [
      "[I 2023-12-11 19:04:18,546] Trial 364 finished with value: 0.04229082602764239 and parameters: {'topK': 36, 'alpha': 0.7499933207097633}. Best is trial 307 with value: 0.04241910694159847.\n"
     ]
    },
    {
     "name": "stdout",
     "output_type": "stream",
     "text": [
      "EvaluatorHoldout: Processed 10437 (100.0%) in 6.72 sec. Users per second: 1554\n",
      "EvaluatorHoldout: Processed 10532 (100.0%) in 6.87 sec. Users per second: 1532\n",
      "EvaluatorHoldout: Processed 10466 (100.0%) in 6.75 sec. Users per second: 1550\n"
     ]
    },
    {
     "name": "stderr",
     "output_type": "stream",
     "text": [
      "[I 2023-12-11 19:04:55,574] Trial 365 finished with value: 0.042289937652492594 and parameters: {'topK': 32, 'alpha': 0.7369117504161705}. Best is trial 307 with value: 0.04241910694159847.\n"
     ]
    },
    {
     "name": "stdout",
     "output_type": "stream",
     "text": [
      "EvaluatorHoldout: Processed 10437 (100.0%) in 6.68 sec. Users per second: 1562\n",
      "EvaluatorHoldout: Processed 10532 (100.0%) in 6.77 sec. Users per second: 1556\n",
      "EvaluatorHoldout: Processed 10466 (100.0%) in 6.69 sec. Users per second: 1564\n"
     ]
    },
    {
     "name": "stderr",
     "output_type": "stream",
     "text": [
      "[I 2023-12-11 19:05:33,366] Trial 366 finished with value: 0.04221018363968026 and parameters: {'topK': 41, 'alpha': 0.7626321857433567}. Best is trial 307 with value: 0.04241910694159847.\n"
     ]
    },
    {
     "name": "stdout",
     "output_type": "stream",
     "text": [
      "EvaluatorHoldout: Processed 10437 (100.0%) in 6.79 sec. Users per second: 1537\n",
      "EvaluatorHoldout: Processed 10532 (100.0%) in 6.76 sec. Users per second: 1559\n",
      "EvaluatorHoldout: Processed 10466 (100.0%) in 6.75 sec. Users per second: 1550\n"
     ]
    },
    {
     "name": "stderr",
     "output_type": "stream",
     "text": [
      "[I 2023-12-11 19:06:10,870] Trial 367 finished with value: 0.04173644574242486 and parameters: {'topK': 38, 'alpha': 0.7121100608759713}. Best is trial 307 with value: 0.04241910694159847.\n"
     ]
    },
    {
     "name": "stdout",
     "output_type": "stream",
     "text": [
      "EvaluatorHoldout: Processed 10437 (100.0%) in 6.73 sec. Users per second: 1551\n",
      "EvaluatorHoldout: Processed 10532 (100.0%) in 6.69 sec. Users per second: 1575\n",
      "EvaluatorHoldout: Processed 10466 (100.0%) in 6.76 sec. Users per second: 1548\n"
     ]
    },
    {
     "name": "stderr",
     "output_type": "stream",
     "text": [
      "[I 2023-12-11 19:06:48,483] Trial 368 finished with value: 0.041576111846407554 and parameters: {'topK': 40, 'alpha': 0.7736568406402978}. Best is trial 307 with value: 0.04241910694159847.\n"
     ]
    },
    {
     "name": "stdout",
     "output_type": "stream",
     "text": [
      "EvaluatorHoldout: Processed 10437 (100.0%) in 6.80 sec. Users per second: 1534\n",
      "EvaluatorHoldout: Processed 10532 (100.0%) in 6.78 sec. Users per second: 1553\n",
      "EvaluatorHoldout: Processed 10466 (100.0%) in 6.73 sec. Users per second: 1555\n"
     ]
    },
    {
     "name": "stderr",
     "output_type": "stream",
     "text": [
      "[I 2023-12-11 19:07:25,668] Trial 369 finished with value: 0.04230289667009474 and parameters: {'topK': 34, 'alpha': 0.7441265101930172}. Best is trial 307 with value: 0.04241910694159847.\n"
     ]
    },
    {
     "name": "stdout",
     "output_type": "stream",
     "text": [
      "EvaluatorHoldout: Processed 10437 (100.0%) in 6.67 sec. Users per second: 1564\n",
      "EvaluatorHoldout: Processed 10532 (100.0%) in 6.79 sec. Users per second: 1551\n",
      "EvaluatorHoldout: Processed 10466 (100.0%) in 6.67 sec. Users per second: 1569\n"
     ]
    },
    {
     "name": "stderr",
     "output_type": "stream",
     "text": [
      "[I 2023-12-11 19:08:03,079] Trial 370 finished with value: 0.04066742635717294 and parameters: {'topK': 37, 'alpha': 0.6905762056636227}. Best is trial 307 with value: 0.04241910694159847.\n"
     ]
    },
    {
     "name": "stdout",
     "output_type": "stream",
     "text": [
      "EvaluatorHoldout: Processed 10437 (100.0%) in 6.70 sec. Users per second: 1557\n",
      "EvaluatorHoldout: Processed 10532 (100.0%) in 6.84 sec. Users per second: 1541\n",
      "EvaluatorHoldout: Processed 10466 (100.0%) in 6.72 sec. Users per second: 1557\n"
     ]
    },
    {
     "name": "stderr",
     "output_type": "stream",
     "text": [
      "[I 2023-12-11 19:08:41,252] Trial 371 finished with value: 0.04231197221527389 and parameters: {'topK': 42, 'alpha': 0.7543343831210397}. Best is trial 307 with value: 0.04241910694159847.\n"
     ]
    },
    {
     "name": "stdout",
     "output_type": "stream",
     "text": [
      "EvaluatorHoldout: Processed 10437 (100.0%) in 6.72 sec. Users per second: 1552\n",
      "EvaluatorHoldout: Processed 10532 (100.0%) in 6.77 sec. Users per second: 1557\n",
      "EvaluatorHoldout: Processed 10466 (100.0%) in 6.71 sec. Users per second: 1559\n"
     ]
    },
    {
     "name": "stderr",
     "output_type": "stream",
     "text": [
      "[I 2023-12-11 19:09:19,205] Trial 372 finished with value: 0.04234975291395455 and parameters: {'topK': 39, 'alpha': 0.7364957645100901}. Best is trial 307 with value: 0.04241910694159847.\n"
     ]
    },
    {
     "name": "stdout",
     "output_type": "stream",
     "text": [
      "EvaluatorHoldout: Processed 10437 (100.0%) in 6.76 sec. Users per second: 1545\n",
      "EvaluatorHoldout: Processed 10532 (100.0%) in 6.77 sec. Users per second: 1556\n",
      "EvaluatorHoldout: Processed 10466 (100.0%) in 6.71 sec. Users per second: 1559\n"
     ]
    },
    {
     "name": "stderr",
     "output_type": "stream",
     "text": [
      "[I 2023-12-11 19:09:57,522] Trial 373 finished with value: 0.04189923522179382 and parameters: {'topK': 44, 'alpha': 0.7214854109595902}. Best is trial 307 with value: 0.04241910694159847.\n"
     ]
    },
    {
     "name": "stdout",
     "output_type": "stream",
     "text": [
      "EvaluatorHoldout: Processed 10437 (100.0%) in 6.70 sec. Users per second: 1559\n",
      "EvaluatorHoldout: Processed 10532 (100.0%) in 6.72 sec. Users per second: 1568\n",
      "EvaluatorHoldout: Processed 10466 (100.0%) in 6.73 sec. Users per second: 1555\n"
     ]
    },
    {
     "name": "stderr",
     "output_type": "stream",
     "text": [
      "[I 2023-12-11 19:10:34,716] Trial 374 finished with value: 0.042293704253346644 and parameters: {'topK': 35, 'alpha': 0.7470186507163897}. Best is trial 307 with value: 0.04241910694159847.\n"
     ]
    },
    {
     "name": "stdout",
     "output_type": "stream",
     "text": [
      "EvaluatorHoldout: Processed 10437 (100.0%) in 6.81 sec. Users per second: 1533\n",
      "EvaluatorHoldout: Processed 10532 (100.0%) in 6.76 sec. Users per second: 1559\n",
      "EvaluatorHoldout: Processed 10466 (100.0%) in 6.73 sec. Users per second: 1555\n"
     ]
    },
    {
     "name": "stderr",
     "output_type": "stream",
     "text": [
      "[I 2023-12-11 19:11:12,500] Trial 375 finished with value: 0.04219852464138354 and parameters: {'topK': 40, 'alpha': 0.7281775437184237}. Best is trial 307 with value: 0.04241910694159847.\n"
     ]
    },
    {
     "name": "stdout",
     "output_type": "stream",
     "text": [
      "EvaluatorHoldout: Processed 10437 (100.0%) in 6.69 sec. Users per second: 1561\n",
      "EvaluatorHoldout: Processed 10532 (100.0%) in 6.84 sec. Users per second: 1539\n",
      "EvaluatorHoldout: Processed 10466 (100.0%) in 6.72 sec. Users per second: 1557\n"
     ]
    },
    {
     "name": "stderr",
     "output_type": "stream",
     "text": [
      "[I 2023-12-11 19:11:51,051] Trial 376 finished with value: 0.04223578791355719 and parameters: {'topK': 48, 'alpha': 0.7388254225372597}. Best is trial 307 with value: 0.04241910694159847.\n"
     ]
    },
    {
     "name": "stdout",
     "output_type": "stream",
     "text": [
      "EvaluatorHoldout: Processed 10437 (100.0%) in 6.77 sec. Users per second: 1542\n",
      "EvaluatorHoldout: Processed 10532 (100.0%) in 6.80 sec. Users per second: 1549\n",
      "EvaluatorHoldout: Processed 10466 (100.0%) in 6.69 sec. Users per second: 1564\n"
     ]
    },
    {
     "name": "stderr",
     "output_type": "stream",
     "text": [
      "[I 2023-12-11 19:12:28,605] Trial 377 finished with value: 0.042304307343503635 and parameters: {'topK': 38, 'alpha': 0.7564755855310514}. Best is trial 307 with value: 0.04241910694159847.\n"
     ]
    },
    {
     "name": "stdout",
     "output_type": "stream",
     "text": [
      "EvaluatorHoldout: Processed 10437 (100.0%) in 6.78 sec. Users per second: 1539\n",
      "EvaluatorHoldout: Processed 10532 (100.0%) in 6.80 sec. Users per second: 1549\n",
      "EvaluatorHoldout: Processed 10466 (100.0%) in 6.72 sec. Users per second: 1558\n"
     ]
    },
    {
     "name": "stderr",
     "output_type": "stream",
     "text": [
      "[I 2023-12-11 19:13:06,611] Trial 378 finished with value: 0.042347394493953895 and parameters: {'topK': 42, 'alpha': 0.7465148660607549}. Best is trial 307 with value: 0.04241910694159847.\n"
     ]
    },
    {
     "name": "stdout",
     "output_type": "stream",
     "text": [
      "EvaluatorHoldout: Processed 10437 (100.0%) in 6.69 sec. Users per second: 1560\n",
      "EvaluatorHoldout: Processed 10532 (100.0%) in 6.83 sec. Users per second: 1541\n",
      "EvaluatorHoldout: Processed 10466 (100.0%) in 6.74 sec. Users per second: 1552\n"
     ]
    },
    {
     "name": "stderr",
     "output_type": "stream",
     "text": [
      "[I 2023-12-11 19:13:44,092] Trial 379 finished with value: 0.04236794157101312 and parameters: {'topK': 37, 'alpha': 0.7304925174374126}. Best is trial 307 with value: 0.04241910694159847.\n"
     ]
    },
    {
     "name": "stdout",
     "output_type": "stream",
     "text": [
      "EvaluatorHoldout: Processed 10437 (100.0%) in 6.69 sec. Users per second: 1559\n",
      "EvaluatorHoldout: Processed 10532 (100.0%) in 6.82 sec. Users per second: 1544\n",
      "EvaluatorHoldout: Processed 10466 (100.0%) in 6.90 sec. Users per second: 1517\n"
     ]
    },
    {
     "name": "stderr",
     "output_type": "stream",
     "text": [
      "[I 2023-12-11 19:14:22,266] Trial 380 finished with value: 0.04209261253635146 and parameters: {'topK': 40, 'alpha': 0.7651999130192161}. Best is trial 307 with value: 0.04241910694159847.\n"
     ]
    },
    {
     "name": "stdout",
     "output_type": "stream",
     "text": [
      "EvaluatorHoldout: Processed 10437 (100.0%) in 6.64 sec. Users per second: 1572\n",
      "EvaluatorHoldout: Processed 10532 (100.0%) in 6.83 sec. Users per second: 1542\n",
      "EvaluatorHoldout: Processed 10466 (100.0%) in 6.71 sec. Users per second: 1561\n"
     ]
    },
    {
     "name": "stderr",
     "output_type": "stream",
     "text": [
      "[I 2023-12-11 19:14:59,659] Trial 381 finished with value: 0.03801823488223456 and parameters: {'topK': 36, 'alpha': 0.8144121597287026}. Best is trial 307 with value: 0.04241910694159847.\n"
     ]
    },
    {
     "name": "stdout",
     "output_type": "stream",
     "text": [
      "EvaluatorHoldout: Processed 10437 (100.0%) in 6.75 sec. Users per second: 1547\n",
      "EvaluatorHoldout: Processed 10532 (100.0%) in 6.88 sec. Users per second: 1530\n",
      "EvaluatorHoldout: Processed 10466 (100.0%) in 6.77 sec. Users per second: 1546\n"
     ]
    },
    {
     "name": "stderr",
     "output_type": "stream",
     "text": [
      "[I 2023-12-11 19:15:38,171] Trial 382 finished with value: 0.041364140858182845 and parameters: {'topK': 45, 'alpha': 0.708478657616281}. Best is trial 307 with value: 0.04241910694159847.\n"
     ]
    },
    {
     "name": "stdout",
     "output_type": "stream",
     "text": [
      "EvaluatorHoldout: Processed 10437 (100.0%) in 6.70 sec. Users per second: 1558\n",
      "EvaluatorHoldout: Processed 10532 (100.0%) in 6.88 sec. Users per second: 1531\n",
      "EvaluatorHoldout: Processed 10466 (100.0%) in 6.73 sec. Users per second: 1555\n"
     ]
    },
    {
     "name": "stderr",
     "output_type": "stream",
     "text": [
      "[I 2023-12-11 19:16:15,948] Trial 383 finished with value: 0.0423434858102368 and parameters: {'topK': 39, 'alpha': 0.7520094331355834}. Best is trial 307 with value: 0.04241910694159847.\n"
     ]
    },
    {
     "name": "stdout",
     "output_type": "stream",
     "text": [
      "EvaluatorHoldout: Processed 10437 (100.0%) in 6.66 sec. Users per second: 1567\n",
      "EvaluatorHoldout: Processed 10532 (100.0%) in 6.82 sec. Users per second: 1545\n",
      "EvaluatorHoldout: Processed 10466 (100.0%) in 6.81 sec. Users per second: 1536\n"
     ]
    },
    {
     "name": "stderr",
     "output_type": "stream",
     "text": [
      "[I 2023-12-11 19:16:53,844] Trial 384 finished with value: 0.04236292463154779 and parameters: {'topK': 42, 'alpha': 0.7412092936359335}. Best is trial 307 with value: 0.04241910694159847.\n"
     ]
    },
    {
     "name": "stdout",
     "output_type": "stream",
     "text": [
      "EvaluatorHoldout: Processed 10437 (100.0%) in 6.74 sec. Users per second: 1550\n",
      "EvaluatorHoldout: Processed 10532 (100.0%) in 6.73 sec. Users per second: 1566\n",
      "EvaluatorHoldout: Processed 10466 (100.0%) in 6.71 sec. Users per second: 1559\n"
     ]
    },
    {
     "name": "stderr",
     "output_type": "stream",
     "text": [
      "[I 2023-12-11 19:17:31,337] Trial 385 finished with value: 0.042109277263057666 and parameters: {'topK': 38, 'alpha': 0.7246864957879556}. Best is trial 307 with value: 0.04241910694159847.\n"
     ]
    },
    {
     "name": "stdout",
     "output_type": "stream",
     "text": [
      "EvaluatorHoldout: Processed 10437 (100.0%) in 6.67 sec. Users per second: 1566\n",
      "EvaluatorHoldout: Processed 10532 (100.0%) in 6.73 sec. Users per second: 1566\n",
      "EvaluatorHoldout: Processed 10466 (100.0%) in 6.68 sec. Users per second: 1567\n"
     ]
    },
    {
     "name": "stderr",
     "output_type": "stream",
     "text": [
      "[I 2023-12-11 19:18:09,228] Trial 386 finished with value: 0.04235287951542632 and parameters: {'topK': 41, 'alpha': 0.7361208193196155}. Best is trial 307 with value: 0.04241910694159847.\n"
     ]
    },
    {
     "name": "stdout",
     "output_type": "stream",
     "text": [
      "EvaluatorHoldout: Processed 10437 (100.0%) in 6.65 sec. Users per second: 1569\n",
      "EvaluatorHoldout: Processed 10532 (100.0%) in 6.68 sec. Users per second: 1576\n",
      "EvaluatorHoldout: Processed 10466 (100.0%) in 6.76 sec. Users per second: 1548\n"
     ]
    },
    {
     "name": "stderr",
     "output_type": "stream",
     "text": [
      "[I 2023-12-11 19:18:46,502] Trial 387 finished with value: 0.03611787250882615 and parameters: {'topK': 36, 'alpha': 0.5938466478266304}. Best is trial 307 with value: 0.04241910694159847.\n"
     ]
    },
    {
     "name": "stdout",
     "output_type": "stream",
     "text": [
      "EvaluatorHoldout: Processed 10437 (100.0%) in 6.80 sec. Users per second: 1534\n",
      "EvaluatorHoldout: Processed 10532 (100.0%) in 6.83 sec. Users per second: 1542\n",
      "EvaluatorHoldout: Processed 10466 (100.0%) in 6.78 sec. Users per second: 1543\n"
     ]
    },
    {
     "name": "stderr",
     "output_type": "stream",
     "text": [
      "[I 2023-12-11 19:19:24,793] Trial 388 finished with value: 0.04230524223054707 and parameters: {'topK': 43, 'alpha': 0.7565058306971756}. Best is trial 307 with value: 0.04241910694159847.\n"
     ]
    },
    {
     "name": "stdout",
     "output_type": "stream",
     "text": [
      "EvaluatorHoldout: Processed 10437 (100.0%) in 6.71 sec. Users per second: 1555\n",
      "EvaluatorHoldout: Processed 10532 (100.0%) in 6.84 sec. Users per second: 1540\n",
      "EvaluatorHoldout: Processed 10466 (100.0%) in 6.70 sec. Users per second: 1561\n"
     ]
    },
    {
     "name": "stderr",
     "output_type": "stream",
     "text": [
      "[I 2023-12-11 19:20:01,935] Trial 389 finished with value: 0.04225259622497202 and parameters: {'topK': 33, 'alpha': 0.7469592782050791}. Best is trial 307 with value: 0.04241910694159847.\n"
     ]
    },
    {
     "name": "stdout",
     "output_type": "stream",
     "text": [
      "EvaluatorHoldout: Processed 10437 (100.0%) in 6.69 sec. Users per second: 1560\n",
      "EvaluatorHoldout: Processed 10532 (100.0%) in 6.83 sec. Users per second: 1541\n",
      "EvaluatorHoldout: Processed 10466 (100.0%) in 6.81 sec. Users per second: 1537\n"
     ]
    },
    {
     "name": "stderr",
     "output_type": "stream",
     "text": [
      "[I 2023-12-11 19:20:39,685] Trial 390 finished with value: 0.041369723916999945 and parameters: {'topK': 39, 'alpha': 0.7749779568211603}. Best is trial 307 with value: 0.04241910694159847.\n"
     ]
    },
    {
     "name": "stdout",
     "output_type": "stream",
     "text": [
      "EvaluatorHoldout: Processed 10437 (100.0%) in 6.77 sec. Users per second: 1542\n",
      "EvaluatorHoldout: Processed 10532 (100.0%) in 7.20 sec. Users per second: 1463\n",
      "EvaluatorHoldout: Processed 10466 (100.0%) in 6.67 sec. Users per second: 1568\n"
     ]
    },
    {
     "name": "stderr",
     "output_type": "stream",
     "text": [
      "[I 2023-12-11 19:21:17,666] Trial 391 finished with value: 0.04094257471846974 and parameters: {'topK': 37, 'alpha': 0.6947227284773103}. Best is trial 307 with value: 0.04241910694159847.\n"
     ]
    },
    {
     "name": "stdout",
     "output_type": "stream",
     "text": [
      "EvaluatorHoldout: Processed 10437 (100.0%) in 6.71 sec. Users per second: 1556\n",
      "EvaluatorHoldout: Processed 10532 (100.0%) in 6.80 sec. Users per second: 1549\n",
      "EvaluatorHoldout: Processed 10466 (100.0%) in 6.72 sec. Users per second: 1558\n"
     ]
    },
    {
     "name": "stderr",
     "output_type": "stream",
     "text": [
      "[I 2023-12-11 19:21:55,396] Trial 392 finished with value: 0.039435425843355694 and parameters: {'topK': 40, 'alpha': 0.6712520669692399}. Best is trial 307 with value: 0.04241910694159847.\n"
     ]
    },
    {
     "name": "stdout",
     "output_type": "stream",
     "text": [
      "EvaluatorHoldout: Processed 10437 (100.0%) in 6.78 sec. Users per second: 1539\n",
      "EvaluatorHoldout: Processed 10532 (100.0%) in 6.74 sec. Users per second: 1562\n",
      "EvaluatorHoldout: Processed 10466 (100.0%) in 6.76 sec. Users per second: 1548\n"
     ]
    },
    {
     "name": "stderr",
     "output_type": "stream",
     "text": [
      "[I 2023-12-11 19:22:33,788] Trial 393 finished with value: 0.04219850305055792 and parameters: {'topK': 44, 'alpha': 0.7340001075912761}. Best is trial 307 with value: 0.04241910694159847.\n"
     ]
    },
    {
     "name": "stdout",
     "output_type": "stream",
     "text": [
      "EvaluatorHoldout: Processed 10437 (100.0%) in 6.66 sec. Users per second: 1567\n",
      "EvaluatorHoldout: Processed 10532 (100.0%) in 6.71 sec. Users per second: 1571\n",
      "EvaluatorHoldout: Processed 10466 (100.0%) in 6.65 sec. Users per second: 1574\n"
     ]
    },
    {
     "name": "stderr",
     "output_type": "stream",
     "text": [
      "[I 2023-12-11 19:23:11,209] Trial 394 finished with value: 0.04184339757078238 and parameters: {'topK': 35, 'alpha': 0.7156693203748603}. Best is trial 307 with value: 0.04241910694159847.\n"
     ]
    },
    {
     "name": "stdout",
     "output_type": "stream",
     "text": [
      "EvaluatorHoldout: Processed 10437 (100.0%) in 6.96 sec. Users per second: 1500\n",
      "EvaluatorHoldout: Processed 10532 (100.0%) in 6.70 sec. Users per second: 1571\n",
      "EvaluatorHoldout: Processed 10466 (100.0%) in 6.75 sec. Users per second: 1550\n"
     ]
    },
    {
     "name": "stderr",
     "output_type": "stream",
     "text": [
      "[I 2023-12-11 19:23:49,338] Trial 395 finished with value: 0.042212703396017646 and parameters: {'topK': 41, 'alpha': 0.7626779716062336}. Best is trial 307 with value: 0.04241910694159847.\n"
     ]
    },
    {
     "name": "stdout",
     "output_type": "stream",
     "text": [
      "EvaluatorHoldout: Processed 10437 (100.0%) in 6.93 sec. Users per second: 1506\n",
      "EvaluatorHoldout: Processed 10532 (100.0%) in 7.13 sec. Users per second: 1478\n",
      "EvaluatorHoldout: Processed 10466 (100.0%) in 7.08 sec. Users per second: 1478\n"
     ]
    },
    {
     "name": "stderr",
     "output_type": "stream",
     "text": [
      "[I 2023-12-11 19:24:28,387] Trial 396 finished with value: 0.04235121435697322 and parameters: {'topK': 38, 'alpha': 0.7425379672986065}. Best is trial 307 with value: 0.04241910694159847.\n"
     ]
    },
    {
     "name": "stdout",
     "output_type": "stream",
     "text": [
      "EvaluatorHoldout: Processed 10437 (100.0%) in 7.15 sec. Users per second: 1459\n",
      "EvaluatorHoldout: Processed 10532 (100.0%) in 7.22 sec. Users per second: 1459\n",
      "EvaluatorHoldout: Processed 10466 (100.0%) in 7.03 sec. Users per second: 1488\n"
     ]
    },
    {
     "name": "stderr",
     "output_type": "stream",
     "text": [
      "[I 2023-12-11 19:25:10,060] Trial 397 finished with value: 0.0352472898985953 and parameters: {'topK': 59, 'alpha': 0.8641241974775686}. Best is trial 307 with value: 0.04241910694159847.\n"
     ]
    },
    {
     "name": "stdout",
     "output_type": "stream",
     "text": [
      "EvaluatorHoldout: Processed 10437 (100.0%) in 7.16 sec. Users per second: 1458\n",
      "EvaluatorHoldout: Processed 10532 (100.0%) in 7.05 sec. Users per second: 1493\n",
      "EvaluatorHoldout: Processed 10466 (100.0%) in 7.09 sec. Users per second: 1476\n"
     ]
    },
    {
     "name": "stderr",
     "output_type": "stream",
     "text": [
      "[I 2023-12-11 19:25:49,669] Trial 398 finished with value: 0.04234504306492983 and parameters: {'topK': 39, 'alpha': 0.753255039602179}. Best is trial 307 with value: 0.04241910694159847.\n"
     ]
    },
    {
     "name": "stdout",
     "output_type": "stream",
     "text": [
      "EvaluatorHoldout: Processed 10437 (100.0%) in 6.85 sec. Users per second: 1523\n",
      "EvaluatorHoldout: Processed 10532 (100.0%) in 7.12 sec. Users per second: 1478\n",
      "EvaluatorHoldout: Processed 10466 (100.0%) in 7.00 sec. Users per second: 1494\n"
     ]
    },
    {
     "name": "stderr",
     "output_type": "stream",
     "text": [
      "[I 2023-12-11 19:26:28,850] Trial 399 finished with value: 0.033216821081010574 and parameters: {'topK': 43, 'alpha': 0.5058142481763646}. Best is trial 307 with value: 0.04241910694159847.\n"
     ]
    }
   ],
   "source": [
    "study = optuna.create_study(direction=\"maximize\")\n",
    "study.optimize(train_evaluate, n_trials=400)"
   ]
  },
  {
   "cell_type": "code",
   "execution_count": 19,
   "metadata": {},
   "outputs": [
    {
     "data": {
      "text/plain": [
       "[FrozenTrial(number=0, state=1, values=[0.03491877556910843], datetime_start=datetime.datetime(2023, 12, 11, 15, 1, 15, 289775), datetime_complete=datetime.datetime(2023, 12, 11, 15, 2, 4, 254521), params={'topK': 87, 'alpha': 0.885689947306503}, user_attrs={}, system_attrs={}, intermediate_values={}, distributions={'topK': IntDistribution(high=100, log=False, low=10, step=1), 'alpha': FloatDistribution(high=0.9, log=False, low=0.5, step=None)}, trial_id=0, value=None),\n",
       " FrozenTrial(number=1, state=1, values=[0.03270082096509213], datetime_start=datetime.datetime(2023, 12, 11, 15, 2, 4, 255515), datetime_complete=datetime.datetime(2023, 12, 11, 15, 2, 47, 100373), params={'topK': 62, 'alpha': 0.5478382689790888}, user_attrs={}, system_attrs={}, intermediate_values={}, distributions={'topK': IntDistribution(high=100, log=False, low=10, step=1), 'alpha': FloatDistribution(high=0.9, log=False, low=0.5, step=None)}, trial_id=1, value=None),\n",
       " FrozenTrial(number=2, state=1, values=[0.038895792592396894], datetime_start=datetime.datetime(2023, 12, 11, 15, 2, 47, 101387), datetime_complete=datetime.datetime(2023, 12, 11, 15, 3, 27, 321338), params={'topK': 42, 'alpha': 0.6642922751846772}, user_attrs={}, system_attrs={}, intermediate_values={}, distributions={'topK': IntDistribution(high=100, log=False, low=10, step=1), 'alpha': FloatDistribution(high=0.9, log=False, low=0.5, step=None)}, trial_id=2, value=None),\n",
       " FrozenTrial(number=3, state=1, values=[0.03376950841329874], datetime_start=datetime.datetime(2023, 12, 11, 15, 3, 27, 323333), datetime_complete=datetime.datetime(2023, 12, 11, 15, 4, 12, 746118), params={'topK': 85, 'alpha': 0.8957963158524482}, user_attrs={}, system_attrs={}, intermediate_values={}, distributions={'topK': IntDistribution(high=100, log=False, low=10, step=1), 'alpha': FloatDistribution(high=0.9, log=False, low=0.5, step=None)}, trial_id=3, value=None),\n",
       " FrozenTrial(number=4, state=1, values=[0.03772805104345326], datetime_start=datetime.datetime(2023, 12, 11, 15, 4, 12, 747116), datetime_complete=datetime.datetime(2023, 12, 11, 15, 4, 54, 72556), params={'topK': 50, 'alpha': 0.6540188198410759}, user_attrs={}, system_attrs={}, intermediate_values={}, distributions={'topK': IntDistribution(high=100, log=False, low=10, step=1), 'alpha': FloatDistribution(high=0.9, log=False, low=0.5, step=None)}, trial_id=4, value=None),\n",
       " FrozenTrial(number=5, state=1, values=[0.031507728766306704], datetime_start=datetime.datetime(2023, 12, 11, 15, 4, 54, 73547), datetime_complete=datetime.datetime(2023, 12, 11, 15, 5, 41, 268709), params={'topK': 99, 'alpha': 0.5838512833180364}, user_attrs={}, system_attrs={}, intermediate_values={}, distributions={'topK': IntDistribution(high=100, log=False, low=10, step=1), 'alpha': FloatDistribution(high=0.9, log=False, low=0.5, step=None)}, trial_id=5, value=None),\n",
       " FrozenTrial(number=6, state=1, values=[0.03846027956320392], datetime_start=datetime.datetime(2023, 12, 11, 15, 5, 41, 269713), datetime_complete=datetime.datetime(2023, 12, 11, 15, 6, 28, 929952), params={'topK': 90, 'alpha': 0.702919415037429}, user_attrs={}, system_attrs={}, intermediate_values={}, distributions={'topK': IntDistribution(high=100, log=False, low=10, step=1), 'alpha': FloatDistribution(high=0.9, log=False, low=0.5, step=None)}, trial_id=6, value=None),\n",
       " FrozenTrial(number=7, state=1, values=[0.03115603083140514], datetime_start=datetime.datetime(2023, 12, 11, 15, 6, 28, 931962), datetime_complete=datetime.datetime(2023, 12, 11, 15, 7, 15, 225133), params={'topK': 90, 'alpha': 0.5470757339751722}, user_attrs={}, system_attrs={}, intermediate_values={}, distributions={'topK': IntDistribution(high=100, log=False, low=10, step=1), 'alpha': FloatDistribution(high=0.9, log=False, low=0.5, step=None)}, trial_id=7, value=None),\n",
       " FrozenTrial(number=8, state=1, values=[0.0343855586841535], datetime_start=datetime.datetime(2023, 12, 11, 15, 7, 15, 226131), datetime_complete=datetime.datetime(2023, 12, 11, 15, 7, 54, 9851), params={'topK': 33, 'alpha': 0.5165731303903678}, user_attrs={}, system_attrs={}, intermediate_values={}, distributions={'topK': IntDistribution(high=100, log=False, low=10, step=1), 'alpha': FloatDistribution(high=0.9, log=False, low=0.5, step=None)}, trial_id=8, value=None),\n",
       " FrozenTrial(number=9, state=1, values=[0.03245399348985777], datetime_start=datetime.datetime(2023, 12, 11, 15, 7, 54, 10850), datetime_complete=datetime.datetime(2023, 12, 11, 15, 8, 37, 88526), params={'topK': 69, 'alpha': 0.559036534532396}, user_attrs={}, system_attrs={}, intermediate_values={}, distributions={'topK': IntDistribution(high=100, log=False, low=10, step=1), 'alpha': FloatDistribution(high=0.9, log=False, low=0.5, step=None)}, trial_id=9, value=None),\n",
       " FrozenTrial(number=10, state=1, values=[0.037493142960374364], datetime_start=datetime.datetime(2023, 12, 11, 15, 8, 37, 89540), datetime_complete=datetime.datetime(2023, 12, 11, 15, 9, 13, 200734), params={'topK': 10, 'alpha': 0.748672515043497}, user_attrs={}, system_attrs={}, intermediate_values={}, distributions={'topK': IntDistribution(high=100, log=False, low=10, step=1), 'alpha': FloatDistribution(high=0.9, log=False, low=0.5, step=None)}, trial_id=10, value=None),\n",
       " FrozenTrial(number=11, state=1, values=[0.04164050382436368], datetime_start=datetime.datetime(2023, 12, 11, 15, 9, 13, 201734), datetime_complete=datetime.datetime(2023, 12, 11, 15, 9, 52, 992201), params={'topK': 40, 'alpha': 0.7115785348032931}, user_attrs={}, system_attrs={}, intermediate_values={}, distributions={'topK': IntDistribution(high=100, log=False, low=10, step=1), 'alpha': FloatDistribution(high=0.9, log=False, low=0.5, step=None)}, trial_id=11, value=None),\n",
       " FrozenTrial(number=12, state=1, values=[0.03806676687375896], datetime_start=datetime.datetime(2023, 12, 11, 15, 9, 52, 993205), datetime_complete=datetime.datetime(2023, 12, 11, 15, 10, 32, 595359), params={'topK': 39, 'alpha': 0.64634315989214}, user_attrs={}, system_attrs={}, intermediate_values={}, distributions={'topK': IntDistribution(high=100, log=False, low=10, step=1), 'alpha': FloatDistribution(high=0.9, log=False, low=0.5, step=None)}, trial_id=12, value=None),\n",
       " FrozenTrial(number=13, state=1, values=[0.040243454692332196], datetime_start=datetime.datetime(2023, 12, 11, 15, 10, 32, 597360), datetime_complete=datetime.datetime(2023, 12, 11, 15, 11, 10, 276207), params={'topK': 22, 'alpha': 0.7638809040629229}, user_attrs={}, system_attrs={}, intermediate_values={}, distributions={'topK': IntDistribution(high=100, log=False, low=10, step=1), 'alpha': FloatDistribution(high=0.9, log=False, low=0.5, step=None)}, trial_id=13, value=None),\n",
       " FrozenTrial(number=14, state=1, values=[0.03919296304526965], datetime_start=datetime.datetime(2023, 12, 11, 15, 11, 10, 277208), datetime_complete=datetime.datetime(2023, 12, 11, 15, 11, 47, 678135), params={'topK': 22, 'alpha': 0.777164835555161}, user_attrs={}, system_attrs={}, intermediate_values={}, distributions={'topK': IntDistribution(high=100, log=False, low=10, step=1), 'alpha': FloatDistribution(high=0.9, log=False, low=0.5, step=None)}, trial_id=14, value=None),\n",
       " FrozenTrial(number=15, state=1, values=[0.03748376080112358], datetime_start=datetime.datetime(2023, 12, 11, 15, 11, 47, 679143), datetime_complete=datetime.datetime(2023, 12, 11, 15, 12, 25, 978060), params={'topK': 24, 'alpha': 0.7990776839874478}, user_attrs={}, system_attrs={}, intermediate_values={}, distributions={'topK': IntDistribution(high=100, log=False, low=10, step=1), 'alpha': FloatDistribution(high=0.9, log=False, low=0.5, step=None)}, trial_id=15, value=None),\n",
       " FrozenTrial(number=16, state=1, values=[0.03973688053398839], datetime_start=datetime.datetime(2023, 12, 11, 15, 12, 25, 979061), datetime_complete=datetime.datetime(2023, 12, 11, 15, 13, 2, 220599), params={'topK': 12, 'alpha': 0.7308949422564447}, user_attrs={}, system_attrs={}, intermediate_values={}, distributions={'topK': IntDistribution(high=100, log=False, low=10, step=1), 'alpha': FloatDistribution(high=0.9, log=False, low=0.5, step=None)}, trial_id=16, value=None),\n",
       " FrozenTrial(number=17, state=1, values=[0.035149190013152976], datetime_start=datetime.datetime(2023, 12, 11, 15, 13, 2, 221597), datetime_complete=datetime.datetime(2023, 12, 11, 15, 13, 40, 26814), params={'topK': 25, 'alpha': 0.8202353560123059}, user_attrs={}, system_attrs={}, intermediate_values={}, distributions={'topK': IntDistribution(high=100, log=False, low=10, step=1), 'alpha': FloatDistribution(high=0.9, log=False, low=0.5, step=None)}, trial_id=17, value=None),\n",
       " FrozenTrial(number=18, state=1, values=[0.04026688567760927], datetime_start=datetime.datetime(2023, 12, 11, 15, 13, 40, 28828), datetime_complete=datetime.datetime(2023, 12, 11, 15, 14, 21, 893850), params={'topK': 56, 'alpha': 0.7000147702083253}, user_attrs={}, system_attrs={}, intermediate_values={}, distributions={'topK': IntDistribution(high=100, log=False, low=10, step=1), 'alpha': FloatDistribution(high=0.9, log=False, low=0.5, step=None)}, trial_id=18, value=None),\n",
       " FrozenTrial(number=19, state=1, values=[0.039663036605683065], datetime_start=datetime.datetime(2023, 12, 11, 15, 14, 21, 894858), datetime_complete=datetime.datetime(2023, 12, 11, 15, 15, 5, 513945), params={'topK': 71, 'alpha': 0.7052509294745258}, user_attrs={}, system_attrs={}, intermediate_values={}, distributions={'topK': IntDistribution(high=100, log=False, low=10, step=1), 'alpha': FloatDistribution(high=0.9, log=False, low=0.5, step=None)}, trial_id=19, value=None),\n",
       " FrozenTrial(number=20, state=1, values=[0.03538840021039191], datetime_start=datetime.datetime(2023, 12, 11, 15, 15, 5, 514943), datetime_complete=datetime.datetime(2023, 12, 11, 15, 15, 47, 162807), params={'topK': 55, 'alpha': 0.6171087967074221}, user_attrs={}, system_attrs={}, intermediate_values={}, distributions={'topK': IntDistribution(high=100, log=False, low=10, step=1), 'alpha': FloatDistribution(high=0.9, log=False, low=0.5, step=None)}, trial_id=20, value=None),\n",
       " FrozenTrial(number=21, state=1, values=[0.04227678394327494], datetime_start=datetime.datetime(2023, 12, 11, 15, 15, 47, 164807), datetime_complete=datetime.datetime(2023, 12, 11, 15, 16, 27, 786278), params={'topK': 47, 'alpha': 0.7401573330730473}, user_attrs={}, system_attrs={}, intermediate_values={}, distributions={'topK': IntDistribution(high=100, log=False, low=10, step=1), 'alpha': FloatDistribution(high=0.9, log=False, low=0.5, step=None)}, trial_id=21, value=None),\n",
       " FrozenTrial(number=22, state=1, values=[0.041761822329561944], datetime_start=datetime.datetime(2023, 12, 11, 15, 16, 27, 787279), datetime_complete=datetime.datetime(2023, 12, 11, 15, 17, 8, 556164), params={'topK': 48, 'alpha': 0.7215161144415212}, user_attrs={}, system_attrs={}, intermediate_values={}, distributions={'topK': IntDistribution(high=100, log=False, low=10, step=1), 'alpha': FloatDistribution(high=0.9, log=False, low=0.5, step=None)}, trial_id=22, value=None),\n",
       " FrozenTrial(number=23, state=1, values=[0.042179645069802825], datetime_start=datetime.datetime(2023, 12, 11, 15, 17, 8, 557163), datetime_complete=datetime.datetime(2023, 12, 11, 15, 17, 51, 836182), params={'topK': 46, 'alpha': 0.7347541875171362}, user_attrs={}, system_attrs={}, intermediate_values={}, distributions={'topK': IntDistribution(high=100, log=False, low=10, step=1), 'alpha': FloatDistribution(high=0.9, log=False, low=0.5, step=None)}, trial_id=23, value=None),\n",
       " FrozenTrial(number=24, state=1, values=[0.04226522246321448], datetime_start=datetime.datetime(2023, 12, 11, 15, 17, 51, 837185), datetime_complete=datetime.datetime(2023, 12, 11, 15, 18, 33, 106987), params={'topK': 46, 'alpha': 0.7402626799347775}, user_attrs={}, system_attrs={}, intermediate_values={}, distributions={'topK': IntDistribution(high=100, log=False, low=10, step=1), 'alpha': FloatDistribution(high=0.9, log=False, low=0.5, step=None)}, trial_id=24, value=None),\n",
       " FrozenTrial(number=25, state=1, values=[0.04182537799930989], datetime_start=datetime.datetime(2023, 12, 11, 15, 18, 33, 107991), datetime_complete=datetime.datetime(2023, 12, 11, 15, 19, 12, 792834), params={'topK': 34, 'alpha': 0.758761121988329}, user_attrs={}, system_attrs={}, intermediate_values={}, distributions={'topK': IntDistribution(high=100, log=False, low=10, step=1), 'alpha': FloatDistribution(high=0.9, log=False, low=0.5, step=None)}, trial_id=25, value=None),\n",
       " FrozenTrial(number=26, state=1, values=[0.04041033296384334], datetime_start=datetime.datetime(2023, 12, 11, 15, 19, 12, 793837), datetime_complete=datetime.datetime(2023, 12, 11, 15, 19, 56, 624236), params={'topK': 64, 'alpha': 0.8114182049582854}, user_attrs={}, system_attrs={}, intermediate_values={}, distributions={'topK': IntDistribution(high=100, log=False, low=10, step=1), 'alpha': FloatDistribution(high=0.9, log=False, low=0.5, step=None)}, trial_id=26, value=None),\n",
       " FrozenTrial(number=27, state=1, values=[0.03928765317650538], datetime_start=datetime.datetime(2023, 12, 11, 15, 19, 56, 625236), datetime_complete=datetime.datetime(2023, 12, 11, 15, 20, 37, 756319), params={'topK': 47, 'alpha': 0.67845376684465}, user_attrs={}, system_attrs={}, intermediate_values={}, distributions={'topK': IntDistribution(high=100, log=False, low=10, step=1), 'alpha': FloatDistribution(high=0.9, log=False, low=0.5, step=None)}, trial_id=27, value=None),\n",
       " FrozenTrial(number=28, state=1, values=[0.04180446075076725], datetime_start=datetime.datetime(2023, 12, 11, 15, 20, 37, 757321), datetime_complete=datetime.datetime(2023, 12, 11, 15, 21, 19, 910952), params={'topK': 55, 'alpha': 0.7293794792955817}, user_attrs={}, system_attrs={}, intermediate_values={}, distributions={'topK': IntDistribution(high=100, log=False, low=10, step=1), 'alpha': FloatDistribution(high=0.9, log=False, low=0.5, step=None)}, trial_id=28, value=None),\n",
       " FrozenTrial(number=29, state=1, values=[0.03816624621825533], datetime_start=datetime.datetime(2023, 12, 11, 15, 21, 19, 911952), datetime_complete=datetime.datetime(2023, 12, 11, 15, 22, 4, 414621), params={'topK': 76, 'alpha': 0.8465146313982993}, user_attrs={}, system_attrs={}, intermediate_values={}, distributions={'topK': IntDistribution(high=100, log=False, low=10, step=1), 'alpha': FloatDistribution(high=0.9, log=False, low=0.5, step=None)}, trial_id=29, value=None),\n",
       " FrozenTrial(number=30, state=1, values=[0.040120535943591995], datetime_start=datetime.datetime(2023, 12, 11, 15, 22, 4, 415621), datetime_complete=datetime.datetime(2023, 12, 11, 15, 22, 43, 684392), params={'topK': 32, 'alpha': 0.7845933792413949}, user_attrs={}, system_attrs={}, intermediate_values={}, distributions={'topK': IntDistribution(high=100, log=False, low=10, step=1), 'alpha': FloatDistribution(high=0.9, log=False, low=0.5, step=None)}, trial_id=30, value=None),\n",
       " FrozenTrial(number=31, state=1, values=[0.04195800534926305], datetime_start=datetime.datetime(2023, 12, 11, 15, 22, 43, 685399), datetime_complete=datetime.datetime(2023, 12, 11, 15, 23, 23, 46203), params={'topK': 34, 'alpha': 0.7570833062751532}, user_attrs={}, system_attrs={}, intermediate_values={}, distributions={'topK': IntDistribution(high=100, log=False, low=10, step=1), 'alpha': FloatDistribution(high=0.9, log=False, low=0.5, step=None)}, trial_id=31, value=None),\n",
       " FrozenTrial(number=32, state=1, values=[0.04229074484731579], datetime_start=datetime.datetime(2023, 12, 11, 15, 23, 23, 47209), datetime_complete=datetime.datetime(2023, 12, 11, 15, 24, 3, 116461), params={'topK': 44, 'alpha': 0.7460243079410572}, user_attrs={}, system_attrs={}, intermediate_values={}, distributions={'topK': IntDistribution(high=100, log=False, low=10, step=1), 'alpha': FloatDistribution(high=0.9, log=False, low=0.5, step=None)}, trial_id=32, value=None),\n",
       " FrozenTrial(number=33, state=1, values=[0.042232224182714655], datetime_start=datetime.datetime(2023, 12, 11, 15, 24, 3, 118459), datetime_complete=datetime.datetime(2023, 12, 11, 15, 24, 43, 354827), params={'topK': 43, 'alpha': 0.7351027908454889}, user_attrs={}, system_attrs={}, intermediate_values={}, distributions={'topK': IntDistribution(high=100, log=False, low=10, step=1), 'alpha': FloatDistribution(high=0.9, log=False, low=0.5, step=None)}, trial_id=33, value=None),\n",
       " FrozenTrial(number=34, state=1, values=[0.042089195793631816], datetime_start=datetime.datetime(2023, 12, 11, 15, 24, 43, 355826), datetime_complete=datetime.datetime(2023, 12, 11, 15, 25, 25, 495845), params={'topK': 60, 'alpha': 0.7464798540628278}, user_attrs={}, system_attrs={}, intermediate_values={}, distributions={'topK': IntDistribution(high=100, log=False, low=10, step=1), 'alpha': FloatDistribution(high=0.9, log=False, low=0.5, step=None)}, trial_id=34, value=None),\n",
       " FrozenTrial(number=35, state=1, values=[0.0399162528067531], datetime_start=datetime.datetime(2023, 12, 11, 15, 25, 25, 497846), datetime_complete=datetime.datetime(2023, 12, 11, 15, 26, 5, 381916), params={'topK': 41, 'alpha': 0.6806287796159712}, user_attrs={}, system_attrs={}, intermediate_values={}, distributions={'topK': IntDistribution(high=100, log=False, low=10, step=1), 'alpha': FloatDistribution(high=0.9, log=False, low=0.5, step=None)}, trial_id=35, value=None),\n",
       " FrozenTrial(number=36, state=1, values=[0.041968270055666675], datetime_start=datetime.datetime(2023, 12, 11, 15, 26, 5, 382915), datetime_complete=datetime.datetime(2023, 12, 11, 15, 26, 46, 558116), params={'topK': 53, 'alpha': 0.7783719279486471}, user_attrs={}, system_attrs={}, intermediate_values={}, distributions={'topK': IntDistribution(high=100, log=False, low=10, step=1), 'alpha': FloatDistribution(high=0.9, log=False, low=0.5, step=None)}, trial_id=36, value=None),\n",
       " FrozenTrial(number=37, state=1, values=[0.04200598849902385], datetime_start=datetime.datetime(2023, 12, 11, 15, 26, 46, 559122), datetime_complete=datetime.datetime(2023, 12, 11, 15, 27, 26, 906033), params={'topK': 44, 'alpha': 0.7273590956731736}, user_attrs={}, system_attrs={}, intermediate_values={}, distributions={'topK': IntDistribution(high=100, log=False, low=10, step=1), 'alpha': FloatDistribution(high=0.9, log=False, low=0.5, step=None)}, trial_id=37, value=None),\n",
       " FrozenTrial(number=38, state=1, values=[0.03947078250376326], datetime_start=datetime.datetime(2023, 12, 11, 15, 27, 26, 907039), datetime_complete=datetime.datetime(2023, 12, 11, 15, 28, 8, 58505), params={'topK': 50, 'alpha': 0.6836720023428791}, user_attrs={}, system_attrs={}, intermediate_values={}, distributions={'topK': IntDistribution(high=100, log=False, low=10, step=1), 'alpha': FloatDistribution(high=0.9, log=False, low=0.5, step=None)}, trial_id=38, value=None),\n",
       " FrozenTrial(number=39, state=1, values=[0.03519986115389592], datetime_start=datetime.datetime(2023, 12, 11, 15, 28, 8, 60506), datetime_complete=datetime.datetime(2023, 12, 11, 15, 28, 50, 415247), params={'topK': 63, 'alpha': 0.8683202244358954}, user_attrs={}, system_attrs={}, intermediate_values={}, distributions={'topK': IntDistribution(high=100, log=False, low=10, step=1), 'alpha': FloatDistribution(high=0.9, log=False, low=0.5, step=None)}, trial_id=39, value=None),\n",
       " FrozenTrial(number=40, state=1, values=[0.0387855192086153], datetime_start=datetime.datetime(2023, 12, 11, 15, 28, 50, 416246), datetime_complete=datetime.datetime(2023, 12, 11, 15, 29, 28, 911142), params={'topK': 28, 'alpha': 0.7937776916073364}, user_attrs={}, system_attrs={}, intermediate_values={}, distributions={'topK': IntDistribution(high=100, log=False, low=10, step=1), 'alpha': FloatDistribution(high=0.9, log=False, low=0.5, step=None)}, trial_id=40, value=None),\n",
       " FrozenTrial(number=41, state=1, values=[0.042301731649766666], datetime_start=datetime.datetime(2023, 12, 11, 15, 29, 28, 912144), datetime_complete=datetime.datetime(2023, 12, 11, 15, 30, 9, 377619), params={'topK': 45, 'alpha': 0.7398629699956794}, user_attrs={}, system_attrs={}, intermediate_values={}, distributions={'topK': IntDistribution(high=100, log=False, low=10, step=1), 'alpha': FloatDistribution(high=0.9, log=False, low=0.5, step=None)}, trial_id=41, value=None),\n",
       " FrozenTrial(number=42, state=1, values=[0.04240242881329453], datetime_start=datetime.datetime(2023, 12, 11, 15, 30, 9, 378619), datetime_complete=datetime.datetime(2023, 12, 11, 15, 30, 49, 107628), params={'topK': 39, 'alpha': 0.7412358774032524}, user_attrs={}, system_attrs={}, intermediate_values={}, distributions={'topK': IntDistribution(high=100, log=False, low=10, step=1), 'alpha': FloatDistribution(high=0.9, log=False, low=0.5, step=None)}, trial_id=42, value=None),\n",
       " FrozenTrial(number=43, state=1, values=[0.04193944919983214], datetime_start=datetime.datetime(2023, 12, 11, 15, 30, 49, 109628), datetime_complete=datetime.datetime(2023, 12, 11, 15, 31, 28, 578396), params={'topK': 38, 'alpha': 0.764414316918925}, user_attrs={}, system_attrs={}, intermediate_values={}, distributions={'topK': IntDistribution(high=100, log=False, low=10, step=1), 'alpha': FloatDistribution(high=0.9, log=False, low=0.5, step=None)}, trial_id=43, value=None),\n",
       " FrozenTrial(number=44, state=1, values=[0.041354404708719504], datetime_start=datetime.datetime(2023, 12, 11, 15, 31, 28, 579396), datetime_complete=datetime.datetime(2023, 12, 11, 15, 32, 9, 878116), params={'topK': 51, 'alpha': 0.7147463790646712}, user_attrs={}, system_attrs={}, intermediate_values={}, distributions={'topK': IntDistribution(high=100, log=False, low=10, step=1), 'alpha': FloatDistribution(high=0.9, log=False, low=0.5, step=None)}, trial_id=44, value=None),\n",
       " FrozenTrial(number=45, state=1, values=[0.04233168990318456], datetime_start=datetime.datetime(2023, 12, 11, 15, 32, 9, 879120), datetime_complete=datetime.datetime(2023, 12, 11, 15, 32, 49, 490913), params={'topK': 37, 'alpha': 0.7459505757956634}, user_attrs={}, system_attrs={}, intermediate_values={}, distributions={'topK': IntDistribution(high=100, log=False, low=10, step=1), 'alpha': FloatDistribution(high=0.9, log=False, low=0.5, step=None)}, trial_id=45, value=None),\n",
       " FrozenTrial(number=46, state=1, values=[0.04088617848421633], datetime_start=datetime.datetime(2023, 12, 11, 15, 32, 49, 491919), datetime_complete=datetime.datetime(2023, 12, 11, 15, 33, 27, 673773), params={'topK': 29, 'alpha': 0.7694718264124821}, user_attrs={}, system_attrs={}, intermediate_values={}, distributions={'topK': IntDistribution(high=100, log=False, low=10, step=1), 'alpha': FloatDistribution(high=0.9, log=False, low=0.5, step=None)}, trial_id=46, value=None),\n",
       " FrozenTrial(number=47, state=1, values=[0.04217281314810622], datetime_start=datetime.datetime(2023, 12, 11, 15, 33, 27, 674773), datetime_complete=datetime.datetime(2023, 12, 11, 15, 34, 6, 407860), params={'topK': 35, 'alpha': 0.7516019731492}, user_attrs={}, system_attrs={}, intermediate_values={}, distributions={'topK': IntDistribution(high=100, log=False, low=10, step=1), 'alpha': FloatDistribution(high=0.9, log=False, low=0.5, step=None)}, trial_id=47, value=None),\n",
       " FrozenTrial(number=48, state=1, values=[0.04154398146400737], datetime_start=datetime.datetime(2023, 12, 11, 15, 34, 6, 408861), datetime_complete=datetime.datetime(2023, 12, 11, 15, 34, 43, 363017), params={'topK': 18, 'alpha': 0.695456512685991}, user_attrs={}, system_attrs={}, intermediate_values={}, distributions={'topK': IntDistribution(high=100, log=False, low=10, step=1), 'alpha': FloatDistribution(high=0.9, log=False, low=0.5, step=None)}, trial_id=48, value=None),\n",
       " FrozenTrial(number=49, state=1, values=[0.041607023062764224], datetime_start=datetime.datetime(2023, 12, 11, 15, 34, 43, 364017), datetime_complete=datetime.datetime(2023, 12, 11, 15, 35, 22, 869863), params={'topK': 38, 'alpha': 0.7084410489187437}, user_attrs={}, system_attrs={}, intermediate_values={}, distributions={'topK': IntDistribution(high=100, log=False, low=10, step=1), 'alpha': FloatDistribution(high=0.9, log=False, low=0.5, step=None)}, trial_id=49, value=None),\n",
       " FrozenTrial(number=50, state=1, values=[0.042257193417529836], datetime_start=datetime.datetime(2023, 12, 11, 15, 35, 22, 870859), datetime_complete=datetime.datetime(2023, 12, 11, 15, 36, 4, 789346), params={'topK': 58, 'alpha': 0.7488767590922366}, user_attrs={}, system_attrs={}, intermediate_values={}, distributions={'topK': IntDistribution(high=100, log=False, low=10, step=1), 'alpha': FloatDistribution(high=0.9, log=False, low=0.5, step=None)}, trial_id=50, value=None),\n",
       " FrozenTrial(number=51, state=1, values=[0.04239734458661012], datetime_start=datetime.datetime(2023, 12, 11, 15, 36, 4, 790346), datetime_complete=datetime.datetime(2023, 12, 11, 15, 36, 44, 982046), params={'topK': 44, 'alpha': 0.7388593536266563}, user_attrs={}, system_attrs={}, intermediate_values={}, distributions={'topK': IntDistribution(high=100, log=False, low=10, step=1), 'alpha': FloatDistribution(high=0.9, log=False, low=0.5, step=None)}, trial_id=51, value=None),\n",
       " FrozenTrial(number=52, state=1, values=[0.0420002645720511], datetime_start=datetime.datetime(2023, 12, 11, 15, 36, 44, 983044), datetime_complete=datetime.datetime(2023, 12, 11, 15, 37, 25, 615), params={'topK': 42, 'alpha': 0.7688405813754311}, user_attrs={}, system_attrs={}, intermediate_values={}, distributions={'topK': IntDistribution(high=100, log=False, low=10, step=1), 'alpha': FloatDistribution(high=0.9, log=False, low=0.5, step=None)}, trial_id=52, value=None),\n",
       " FrozenTrial(number=53, state=1, values=[0.04214017768391349], datetime_start=datetime.datetime(2023, 12, 11, 15, 37, 25, 1617), datetime_complete=datetime.datetime(2023, 12, 11, 15, 38, 4, 615447), params={'topK': 38, 'alpha': 0.7250706341972384}, user_attrs={}, system_attrs={}, intermediate_values={}, distributions={'topK': IntDistribution(high=100, log=False, low=10, step=1), 'alpha': FloatDistribution(high=0.9, log=False, low=0.5, step=None)}, trial_id=53, value=None),\n",
       " FrozenTrial(number=54, state=1, values=[0.041177729336685016], datetime_start=datetime.datetime(2023, 12, 11, 15, 38, 4, 616450), datetime_complete=datetime.datetime(2023, 12, 11, 15, 38, 45, 885664), params={'topK': 51, 'alpha': 0.7879388891403778}, user_attrs={}, system_attrs={}, intermediate_values={}, distributions={'topK': IntDistribution(high=100, log=False, low=10, step=1), 'alpha': FloatDistribution(high=0.9, log=False, low=0.5, step=None)}, trial_id=54, value=None),\n",
       " FrozenTrial(number=55, state=1, values=[0.04198816715062539], datetime_start=datetime.datetime(2023, 12, 11, 15, 38, 45, 887176), datetime_complete=datetime.datetime(2023, 12, 11, 15, 39, 24, 484345), params={'topK': 30, 'alpha': 0.7147414267163525}, user_attrs={}, system_attrs={}, intermediate_values={}, distributions={'topK': IntDistribution(high=100, log=False, low=10, step=1), 'alpha': FloatDistribution(high=0.9, log=False, low=0.5, step=None)}, trial_id=55, value=None),\n",
       " FrozenTrial(number=56, state=1, values=[0.04231677719669602], datetime_start=datetime.datetime(2023, 12, 11, 15, 39, 24, 485345), datetime_complete=datetime.datetime(2023, 12, 11, 15, 40, 4, 803533), params={'topK': 44, 'alpha': 0.7509212687493108}, user_attrs={}, system_attrs={}, intermediate_values={}, distributions={'topK': IntDistribution(high=100, log=False, low=10, step=1), 'alpha': FloatDistribution(high=0.9, log=False, low=0.5, step=None)}, trial_id=56, value=None),\n",
       " FrozenTrial(number=57, state=1, values=[0.04164411534377175], datetime_start=datetime.datetime(2023, 12, 11, 15, 40, 4, 804544), datetime_complete=datetime.datetime(2023, 12, 11, 15, 40, 51, 964586), params={'topK': 99, 'alpha': 0.8042381568718571}, user_attrs={}, system_attrs={}, intermediate_values={}, distributions={'topK': IntDistribution(high=100, log=False, low=10, step=1), 'alpha': FloatDistribution(high=0.9, log=False, low=0.5, step=None)}, trial_id=57, value=None),\n",
       " FrozenTrial(number=58, state=1, values=[0.041579773679842565], datetime_start=datetime.datetime(2023, 12, 11, 15, 40, 51, 965587), datetime_complete=datetime.datetime(2023, 12, 11, 15, 41, 32, 405770), params={'topK': 43, 'alpha': 0.7766767061789476}, user_attrs={}, system_attrs={}, intermediate_values={}, distributions={'topK': IntDistribution(high=100, log=False, low=10, step=1), 'alpha': FloatDistribution(high=0.9, log=False, low=0.5, step=None)}, trial_id=58, value=None),\n",
       " FrozenTrial(number=59, state=1, values=[0.04225153244578939], datetime_start=datetime.datetime(2023, 12, 11, 15, 41, 32, 407779), datetime_complete=datetime.datetime(2023, 12, 11, 15, 42, 11, 792718), params={'topK': 36, 'alpha': 0.7527831005748589}, user_attrs={}, system_attrs={}, intermediate_values={}, distributions={'topK': IntDistribution(high=100, log=False, low=10, step=1), 'alpha': FloatDistribution(high=0.9, log=False, low=0.5, step=None)}, trial_id=59, value=None),\n",
       " FrozenTrial(number=60, state=1, values=[0.04207344438876957], datetime_start=datetime.datetime(2023, 12, 11, 15, 42, 11, 793722), datetime_complete=datetime.datetime(2023, 12, 11, 15, 42, 49, 798879), params={'topK': 26, 'alpha': 0.722382425323791}, user_attrs={}, system_attrs={}, intermediate_values={}, distributions={'topK': IntDistribution(high=100, log=False, low=10, step=1), 'alpha': FloatDistribution(high=0.9, log=False, low=0.5, step=None)}, trial_id=60, value=None),\n",
       " FrozenTrial(number=61, state=1, values=[0.04223444971328429], datetime_start=datetime.datetime(2023, 12, 11, 15, 42, 49, 799882), datetime_complete=datetime.datetime(2023, 12, 11, 15, 43, 30, 69172), params={'topK': 47, 'alpha': 0.7413572112988425}, user_attrs={}, system_attrs={}, intermediate_values={}, distributions={'topK': IntDistribution(high=100, log=False, low=10, step=1), 'alpha': FloatDistribution(high=0.9, log=False, low=0.5, step=None)}, trial_id=61, value=None),\n",
       " FrozenTrial(number=62, state=1, values=[0.04236993131834068], datetime_start=datetime.datetime(2023, 12, 11, 15, 43, 30, 70173), datetime_complete=datetime.datetime(2023, 12, 11, 15, 44, 9, 741862), params={'topK': 40, 'alpha': 0.7412715276781637}, user_attrs={}, system_attrs={}, intermediate_values={}, distributions={'topK': IntDistribution(high=100, log=False, low=10, step=1), 'alpha': FloatDistribution(high=0.9, log=False, low=0.5, step=None)}, trial_id=62, value=None),\n",
       " FrozenTrial(number=63, state=1, values=[0.042005381655437525], datetime_start=datetime.datetime(2023, 12, 11, 15, 44, 9, 742860), datetime_complete=datetime.datetime(2023, 12, 11, 15, 44, 49, 488385), params={'topK': 40, 'alpha': 0.7665086956267584}, user_attrs={}, system_attrs={}, intermediate_values={}, distributions={'topK': IntDistribution(high=100, log=False, low=10, step=1), 'alpha': FloatDistribution(high=0.9, log=False, low=0.5, step=None)}, trial_id=63, value=None),\n",
       " FrozenTrial(number=64, state=1, values=[0.04096798702421764], datetime_start=datetime.datetime(2023, 12, 11, 15, 44, 49, 489389), datetime_complete=datetime.datetime(2023, 12, 11, 15, 45, 29, 876514), params={'topK': 44, 'alpha': 0.7020196510861938}, user_attrs={}, system_attrs={}, intermediate_values={}, distributions={'topK': IntDistribution(high=100, log=False, low=10, step=1), 'alpha': FloatDistribution(high=0.9, log=False, low=0.5, step=None)}, trial_id=64, value=None),\n",
       " FrozenTrial(number=65, state=1, values=[0.042340897745989314], datetime_start=datetime.datetime(2023, 12, 11, 15, 45, 29, 877520), datetime_complete=datetime.datetime(2023, 12, 11, 15, 46, 8, 706358), params={'topK': 32, 'alpha': 0.7396566723858672}, user_attrs={}, system_attrs={}, intermediate_values={}, distributions={'topK': IntDistribution(high=100, log=False, low=10, step=1), 'alpha': FloatDistribution(high=0.9, log=False, low=0.5, step=None)}, trial_id=65, value=None),\n",
       " FrozenTrial(number=66, state=1, values=[0.041277663891848275], datetime_start=datetime.datetime(2023, 12, 11, 15, 46, 8, 706358), datetime_complete=datetime.datetime(2023, 12, 11, 15, 46, 45, 881076), params={'topK': 19, 'alpha': 0.7352478860546683}, user_attrs={}, system_attrs={}, intermediate_values={}, distributions={'topK': IntDistribution(high=100, log=False, low=10, step=1), 'alpha': FloatDistribution(high=0.9, log=False, low=0.5, step=None)}, trial_id=66, value=None),\n",
       " FrozenTrial(number=67, state=1, values=[0.04218154075685052], datetime_start=datetime.datetime(2023, 12, 11, 15, 46, 45, 882076), datetime_complete=datetime.datetime(2023, 12, 11, 15, 47, 24, 342536), params={'topK': 31, 'alpha': 0.721950202296327}, user_attrs={}, system_attrs={}, intermediate_values={}, distributions={'topK': IntDistribution(high=100, log=False, low=10, step=1), 'alpha': FloatDistribution(high=0.9, log=False, low=0.5, step=None)}, trial_id=67, value=None),\n",
       " FrozenTrial(number=68, state=1, values=[0.040543900535543784], datetime_start=datetime.datetime(2023, 12, 11, 15, 47, 24, 343536), datetime_complete=datetime.datetime(2023, 12, 11, 15, 48, 3, 790379), params={'topK': 37, 'alpha': 0.7864938021267746}, user_attrs={}, system_attrs={}, intermediate_values={}, distributions={'topK': IntDistribution(high=100, log=False, low=10, step=1), 'alpha': FloatDistribution(high=0.9, log=False, low=0.5, step=None)}, trial_id=68, value=None),\n",
       " FrozenTrial(number=69, state=1, values=[0.04166112741720487], datetime_start=datetime.datetime(2023, 12, 11, 15, 48, 3, 791377), datetime_complete=datetime.datetime(2023, 12, 11, 15, 48, 42, 517304), params={'topK': 32, 'alpha': 0.7598000264092623}, user_attrs={}, system_attrs={}, intermediate_values={}, distributions={'topK': IntDistribution(high=100, log=False, low=10, step=1), 'alpha': FloatDistribution(high=0.9, log=False, low=0.5, step=None)}, trial_id=69, value=None),\n",
       " FrozenTrial(number=70, state=1, values=[0.0407056627142515], datetime_start=datetime.datetime(2023, 12, 11, 15, 48, 42, 518303), datetime_complete=datetime.datetime(2023, 12, 11, 15, 49, 22, 465048), params={'topK': 41, 'alpha': 0.693250147805425}, user_attrs={}, system_attrs={}, intermediate_values={}, distributions={'topK': IntDistribution(high=100, log=False, low=10, step=1), 'alpha': FloatDistribution(high=0.9, log=False, low=0.5, step=None)}, trial_id=70, value=None),\n",
       " FrozenTrial(number=71, state=1, values=[0.04228916441469096], datetime_start=datetime.datetime(2023, 12, 11, 15, 49, 22, 466048), datetime_complete=datetime.datetime(2023, 12, 11, 15, 50, 3, 357392), params={'topK': 49, 'alpha': 0.7450786981412251}, user_attrs={}, system_attrs={}, intermediate_values={}, distributions={'topK': IntDistribution(high=100, log=False, low=10, step=1), 'alpha': FloatDistribution(high=0.9, log=False, low=0.5, step=None)}, trial_id=71, value=None),\n",
       " FrozenTrial(number=72, state=1, values=[0.04230447832507352], datetime_start=datetime.datetime(2023, 12, 11, 15, 50, 3, 357392), datetime_complete=datetime.datetime(2023, 12, 11, 15, 50, 44, 132980), params={'topK': 45, 'alpha': 0.7397982875734915}, user_attrs={}, system_attrs={}, intermediate_values={}, distributions={'topK': IntDistribution(high=100, log=False, low=10, step=1), 'alpha': FloatDistribution(high=0.9, log=False, low=0.5, step=None)}, trial_id=72, value=None),\n",
       " FrozenTrial(number=73, state=1, values=[0.04125322900352851], datetime_start=datetime.datetime(2023, 12, 11, 15, 50, 44, 133977), datetime_complete=datetime.datetime(2023, 12, 11, 15, 51, 25, 299428), params={'topK': 53, 'alpha': 0.7147834013424084}, user_attrs={}, system_attrs={}, intermediate_values={}, distributions={'topK': IntDistribution(high=100, log=False, low=10, step=1), 'alpha': FloatDistribution(high=0.9, log=False, low=0.5, step=None)}, trial_id=73, value=None),\n",
       " FrozenTrial(number=74, state=1, values=[0.042278492941323575], datetime_start=datetime.datetime(2023, 12, 11, 15, 51, 25, 301428), datetime_complete=datetime.datetime(2023, 12, 11, 15, 52, 4, 510575), params={'topK': 35, 'alpha': 0.7348162495437754}, user_attrs={}, system_attrs={}, intermediate_values={}, distributions={'topK': IntDistribution(high=100, log=False, low=10, step=1), 'alpha': FloatDistribution(high=0.9, log=False, low=0.5, step=None)}, trial_id=74, value=None),\n",
       " FrozenTrial(number=75, state=1, values=[0.04231255559949478], datetime_start=datetime.datetime(2023, 12, 11, 15, 52, 4, 511572), datetime_complete=datetime.datetime(2023, 12, 11, 15, 52, 44, 700901), params={'topK': 45, 'alpha': 0.7555245243042973}, user_attrs={}, system_attrs={}, intermediate_values={}, distributions={'topK': IntDistribution(high=100, log=False, low=10, step=1), 'alpha': FloatDistribution(high=0.9, log=False, low=0.5, step=None)}, trial_id=75, value=None),\n",
       " FrozenTrial(number=76, state=1, values=[0.041435218955326654], datetime_start=datetime.datetime(2023, 12, 11, 15, 52, 44, 701900), datetime_complete=datetime.datetime(2023, 12, 11, 15, 53, 22, 784529), params={'topK': 27, 'alpha': 0.7553943029571752}, user_attrs={}, system_attrs={}, intermediate_values={}, distributions={'topK': IntDistribution(high=100, log=False, low=10, step=1), 'alpha': FloatDistribution(high=0.9, log=False, low=0.5, step=None)}, trial_id=76, value=None),\n",
       " FrozenTrial(number=77, state=1, values=[0.041430558530248664], datetime_start=datetime.datetime(2023, 12, 11, 15, 53, 22, 785533), datetime_complete=datetime.datetime(2023, 12, 11, 15, 54, 2, 706271), params={'topK': 40, 'alpha': 0.7763871975251899}, user_attrs={}, system_attrs={}, intermediate_values={}, distributions={'topK': IntDistribution(high=100, log=False, low=10, step=1), 'alpha': FloatDistribution(high=0.9, log=False, low=0.5, step=None)}, trial_id=77, value=None),\n",
       " FrozenTrial(number=78, state=1, values=[0.04170478818798753], datetime_start=datetime.datetime(2023, 12, 11, 15, 54, 2, 707271), datetime_complete=datetime.datetime(2023, 12, 11, 15, 54, 41, 353620), params={'topK': 33, 'alpha': 0.7616214562678774}, user_attrs={}, system_attrs={}, intermediate_values={}, distributions={'topK': IntDistribution(high=100, log=False, low=10, step=1), 'alpha': FloatDistribution(high=0.9, log=False, low=0.5, step=None)}, trial_id=78, value=None),\n",
       " FrozenTrial(number=79, state=1, values=[0.04193254854230561], datetime_start=datetime.datetime(2023, 12, 11, 15, 54, 41, 354622), datetime_complete=datetime.datetime(2023, 12, 11, 15, 55, 22, 104300), params={'topK': 48, 'alpha': 0.7313318745601677}, user_attrs={}, system_attrs={}, intermediate_values={}, distributions={'topK': IntDistribution(high=100, log=False, low=10, step=1), 'alpha': FloatDistribution(high=0.9, log=False, low=0.5, step=None)}, trial_id=79, value=None),\n",
       " FrozenTrial(number=80, state=1, values=[0.04118106261790442], datetime_start=datetime.datetime(2023, 12, 11, 15, 55, 22, 106299), datetime_complete=datetime.datetime(2023, 12, 11, 15, 56, 3, 356195), params={'topK': 52, 'alpha': 0.7120252779551252}, user_attrs={}, system_attrs={}, intermediate_values={}, distributions={'topK': IntDistribution(high=100, log=False, low=10, step=1), 'alpha': FloatDistribution(high=0.9, log=False, low=0.5, step=None)}, trial_id=80, value=None),\n",
       " FrozenTrial(number=81, state=1, values=[0.04228570761367515], datetime_start=datetime.datetime(2023, 12, 11, 15, 56, 3, 359189), datetime_complete=datetime.datetime(2023, 12, 11, 15, 56, 43, 662124), params={'topK': 44, 'alpha': 0.7439679714158767}, user_attrs={}, system_attrs={}, intermediate_values={}, distributions={'topK': IntDistribution(high=100, log=False, low=10, step=1), 'alpha': FloatDistribution(high=0.9, log=False, low=0.5, step=None)}, trial_id=81, value=None),\n",
       " FrozenTrial(number=82, state=1, values=[0.04231834834823073], datetime_start=datetime.datetime(2023, 12, 11, 15, 56, 43, 663124), datetime_complete=datetime.datetime(2023, 12, 11, 15, 57, 24, 225152), params={'topK': 45, 'alpha': 0.7539002902372627}, user_attrs={}, system_attrs={}, intermediate_values={}, distributions={'topK': IntDistribution(high=100, log=False, low=10, step=1), 'alpha': FloatDistribution(high=0.9, log=False, low=0.5, step=None)}, trial_id=82, value=None),\n",
       " FrozenTrial(number=83, state=1, values=[0.04223685279550177], datetime_start=datetime.datetime(2023, 12, 11, 15, 57, 24, 226156), datetime_complete=datetime.datetime(2023, 12, 11, 15, 58, 5, 939127), params={'topK': 57, 'alpha': 0.7543677079655089}, user_attrs={}, system_attrs={}, intermediate_values={}, distributions={'topK': IntDistribution(high=100, log=False, low=10, step=1), 'alpha': FloatDistribution(high=0.9, log=False, low=0.5, step=None)}, trial_id=83, value=None),\n",
       " FrozenTrial(number=84, state=1, values=[0.041654900700385154], datetime_start=datetime.datetime(2023, 12, 11, 15, 58, 5, 940127), datetime_complete=datetime.datetime(2023, 12, 11, 15, 58, 45, 506086), params={'topK': 40, 'alpha': 0.7725245198506906}, user_attrs={}, system_attrs={}, intermediate_values={}, distributions={'topK': IntDistribution(high=100, log=False, low=10, step=1), 'alpha': FloatDistribution(high=0.9, log=False, low=0.5, step=None)}, trial_id=84, value=None),\n",
       " FrozenTrial(number=85, state=1, values=[0.04228048419385679], datetime_start=datetime.datetime(2023, 12, 11, 15, 58, 45, 507087), datetime_complete=datetime.datetime(2023, 12, 11, 15, 59, 24, 776800), params={'topK': 37, 'alpha': 0.7283546444726956}, user_attrs={}, system_attrs={}, intermediate_values={}, distributions={'topK': IntDistribution(high=100, log=False, low=10, step=1), 'alpha': FloatDistribution(high=0.9, log=False, low=0.5, step=None)}, trial_id=85, value=None),\n",
       " FrozenTrial(number=86, state=1, values=[0.040429215716768316], datetime_start=datetime.datetime(2023, 12, 11, 15, 59, 24, 777800), datetime_complete=datetime.datetime(2023, 12, 11, 16, 0, 2, 460514), params={'topK': 23, 'alpha': 0.7634564962431588}, user_attrs={}, system_attrs={}, intermediate_values={}, distributions={'topK': IntDistribution(high=100, log=False, low=10, step=1), 'alpha': FloatDistribution(high=0.9, log=False, low=0.5, step=None)}, trial_id=86, value=None),\n",
       " FrozenTrial(number=87, state=1, values=[0.04178369276248711], datetime_start=datetime.datetime(2023, 12, 11, 16, 0, 2, 462513), datetime_complete=datetime.datetime(2023, 12, 11, 16, 0, 47, 309442), params={'topK': 83, 'alpha': 0.7921784472500579}, user_attrs={}, system_attrs={}, intermediate_values={}, distributions={'topK': IntDistribution(high=100, log=False, low=10, step=1), 'alpha': FloatDistribution(high=0.9, log=False, low=0.5, step=None)}, trial_id=87, value=None),\n",
       " FrozenTrial(number=88, state=1, values=[0.04170199769762873], datetime_start=datetime.datetime(2023, 12, 11, 16, 0, 47, 311446), datetime_complete=datetime.datetime(2023, 12, 11, 16, 1, 27, 771586), params={'topK': 46, 'alpha': 0.7777320426250128}, user_attrs={}, system_attrs={}, intermediate_values={}, distributions={'topK': IntDistribution(high=100, log=False, low=10, step=1), 'alpha': FloatDistribution(high=0.9, log=False, low=0.5, step=None)}, trial_id=88, value=None),\n",
       " FrozenTrial(number=89, state=1, values=[0.042327201748256806], datetime_start=datetime.datetime(2023, 12, 11, 16, 1, 27, 772587), datetime_complete=datetime.datetime(2023, 12, 11, 16, 2, 6, 625369), params={'topK': 35, 'alpha': 0.7473697183441519}, user_attrs={}, system_attrs={}, intermediate_values={}, distributions={'topK': IntDistribution(high=100, log=False, low=10, step=1), 'alpha': FloatDistribution(high=0.9, log=False, low=0.5, step=None)}, trial_id=89, value=None),\n",
       " FrozenTrial(number=90, state=1, values=[0.04203099780755495], datetime_start=datetime.datetime(2023, 12, 11, 16, 2, 6, 625369), datetime_complete=datetime.datetime(2023, 12, 11, 16, 2, 45, 792353), params={'topK': 35, 'alpha': 0.7573397330728637}, user_attrs={}, system_attrs={}, intermediate_values={}, distributions={'topK': IntDistribution(high=100, log=False, low=10, step=1), 'alpha': FloatDistribution(high=0.9, log=False, low=0.5, step=None)}, trial_id=90, value=None),\n",
       " FrozenTrial(number=91, state=1, values=[0.042364899386085675], datetime_start=datetime.datetime(2023, 12, 11, 16, 2, 45, 793358), datetime_complete=datetime.datetime(2023, 12, 11, 16, 3, 25, 481207), params={'topK': 41, 'alpha': 0.7406369014661404}, user_attrs={}, system_attrs={}, intermediate_values={}, distributions={'topK': IntDistribution(high=100, log=False, low=10, step=1), 'alpha': FloatDistribution(high=0.9, log=False, low=0.5, step=None)}, trial_id=91, value=None),\n",
       " FrozenTrial(number=92, state=1, values=[0.04234519691862736], datetime_start=datetime.datetime(2023, 12, 11, 16, 3, 25, 482202), datetime_complete=datetime.datetime(2023, 12, 11, 16, 4, 5, 201284), params={'topK': 39, 'alpha': 0.7505139268218}, user_attrs={}, system_attrs={}, intermediate_values={}, distributions={'topK': IntDistribution(high=100, log=False, low=10, step=1), 'alpha': FloatDistribution(high=0.9, log=False, low=0.5, step=None)}, trial_id=92, value=None),\n",
       " FrozenTrial(number=93, state=1, values=[0.04184384574937877], datetime_start=datetime.datetime(2023, 12, 11, 16, 4, 5, 202293), datetime_complete=datetime.datetime(2023, 12, 11, 16, 4, 45, 139720), params={'topK': 42, 'alpha': 0.7226824580446418}, user_attrs={}, system_attrs={}, intermediate_values={}, distributions={'topK': IntDistribution(high=100, log=False, low=10, step=1), 'alpha': FloatDistribution(high=0.9, log=False, low=0.5, step=None)}, trial_id=93, value=None),\n",
       " FrozenTrial(number=94, state=1, values=[0.04222765838506726], datetime_start=datetime.datetime(2023, 12, 11, 16, 4, 45, 140721), datetime_complete=datetime.datetime(2023, 12, 11, 16, 5, 23, 955188), params={'topK': 33, 'alpha': 0.748398372242047}, user_attrs={}, system_attrs={}, intermediate_values={}, distributions={'topK': IntDistribution(high=100, log=False, low=10, step=1), 'alpha': FloatDistribution(high=0.9, log=False, low=0.5, step=None)}, trial_id=94, value=None),\n",
       " FrozenTrial(number=95, state=1, values=[0.04232952450266741], datetime_start=datetime.datetime(2023, 12, 11, 16, 5, 23, 956192), datetime_complete=datetime.datetime(2023, 12, 11, 16, 6, 3, 647786), params={'topK': 39, 'alpha': 0.7318415175447646}, user_attrs={}, system_attrs={}, intermediate_values={}, distributions={'topK': IntDistribution(high=100, log=False, low=10, step=1), 'alpha': FloatDistribution(high=0.9, log=False, low=0.5, step=None)}, trial_id=95, value=None),\n",
       " FrozenTrial(number=96, state=1, values=[0.042303138902662484], datetime_start=datetime.datetime(2023, 12, 11, 16, 6, 3, 648786), datetime_complete=datetime.datetime(2023, 12, 11, 16, 6, 42, 357843), params={'topK': 30, 'alpha': 0.738050129066262}, user_attrs={}, system_attrs={}, intermediate_values={}, distributions={'topK': IntDistribution(high=100, log=False, low=10, step=1), 'alpha': FloatDistribution(high=0.9, log=False, low=0.5, step=None)}, trial_id=96, value=None),\n",
       " FrozenTrial(number=97, state=1, values=[0.04239043848997617], datetime_start=datetime.datetime(2023, 12, 11, 16, 6, 42, 359840), datetime_complete=datetime.datetime(2023, 12, 11, 16, 7, 21, 997237), params={'topK': 37, 'alpha': 0.7296522522479325}, user_attrs={}, system_attrs={}, intermediate_values={}, distributions={'topK': IntDistribution(high=100, log=False, low=10, step=1), 'alpha': FloatDistribution(high=0.9, log=False, low=0.5, step=None)}, trial_id=97, value=None),\n",
       " FrozenTrial(number=98, state=1, values=[0.041821056396128764], datetime_start=datetime.datetime(2023, 12, 11, 16, 7, 21, 999238), datetime_complete=datetime.datetime(2023, 12, 11, 16, 8, 1, 645850), params={'topK': 39, 'alpha': 0.7157325906014993}, user_attrs={}, system_attrs={}, intermediate_values={}, distributions={'topK': IntDistribution(high=100, log=False, low=10, step=1), 'alpha': FloatDistribution(high=0.9, log=False, low=0.5, step=None)}, trial_id=98, value=None),\n",
       " FrozenTrial(number=99, state=1, values=[0.04141831564125418], datetime_start=datetime.datetime(2023, 12, 11, 16, 8, 1, 646851), datetime_complete=datetime.datetime(2023, 12, 11, 16, 8, 40, 816528), params={'topK': 36, 'alpha': 0.7029390792438743}, user_attrs={}, system_attrs={}, intermediate_values={}, distributions={'topK': IntDistribution(high=100, log=False, low=10, step=1), 'alpha': FloatDistribution(high=0.9, log=False, low=0.5, step=None)}, trial_id=99, value=None),\n",
       " FrozenTrial(number=100, state=1, values=[0.04226796575965123], datetime_start=datetime.datetime(2023, 12, 11, 16, 8, 40, 817529), datetime_complete=datetime.datetime(2023, 12, 11, 16, 9, 19, 506294), params={'topK': 28, 'alpha': 0.7314150049637992}, user_attrs={}, system_attrs={}, intermediate_values={}, distributions={'topK': IntDistribution(high=100, log=False, low=10, step=1), 'alpha': FloatDistribution(high=0.9, log=False, low=0.5, step=None)}, trial_id=100, value=None),\n",
       " FrozenTrial(number=101, state=1, values=[0.04220736660762877], datetime_start=datetime.datetime(2023, 12, 11, 16, 9, 19, 507295), datetime_complete=datetime.datetime(2023, 12, 11, 16, 9, 59, 155682), params={'topK': 39, 'alpha': 0.7270962644396174}, user_attrs={}, system_attrs={}, intermediate_values={}, distributions={'topK': IntDistribution(high=100, log=False, low=10, step=1), 'alpha': FloatDistribution(high=0.9, log=False, low=0.5, step=None)}, trial_id=101, value=None),\n",
       " FrozenTrial(number=102, state=1, values=[0.04233796490729894], datetime_start=datetime.datetime(2023, 12, 11, 16, 9, 59, 156683), datetime_complete=datetime.datetime(2023, 12, 11, 16, 10, 39, 49812), params={'topK': 42, 'alpha': 0.7429129675341714}, user_attrs={}, system_attrs={}, intermediate_values={}, distributions={'topK': IntDistribution(high=100, log=False, low=10, step=1), 'alpha': FloatDistribution(high=0.9, log=False, low=0.5, step=None)}, trial_id=102, value=None),\n",
       " FrozenTrial(number=103, state=1, values=[0.04224896673037599], datetime_start=datetime.datetime(2023, 12, 11, 16, 10, 39, 50813), datetime_complete=datetime.datetime(2023, 12, 11, 16, 11, 17, 968314), params={'topK': 32, 'alpha': 0.7430607031916834}, user_attrs={}, system_attrs={}, intermediate_values={}, distributions={'topK': IntDistribution(high=100, log=False, low=10, step=1), 'alpha': FloatDistribution(high=0.9, log=False, low=0.5, step=None)}, trial_id=103, value=None),\n",
       " FrozenTrial(number=104, state=1, values=[0.04187970340821507], datetime_start=datetime.datetime(2023, 12, 11, 16, 11, 17, 969315), datetime_complete=datetime.datetime(2023, 12, 11, 16, 11, 58, 62466), params={'topK': 42, 'alpha': 0.7195012185420839}, user_attrs={}, system_attrs={}, intermediate_values={}, distributions={'topK': IntDistribution(high=100, log=False, low=10, step=1), 'alpha': FloatDistribution(high=0.9, log=False, low=0.5, step=None)}, trial_id=104, value=None),\n",
       " FrozenTrial(number=105, state=1, values=[0.041583284541275], datetime_start=datetime.datetime(2023, 12, 11, 16, 11, 58, 63473), datetime_complete=datetime.datetime(2023, 12, 11, 16, 12, 37, 431357), params={'topK': 34, 'alpha': 0.7066481529914015}, user_attrs={}, system_attrs={}, intermediate_values={}, distributions={'topK': IntDistribution(high=100, log=False, low=10, step=1), 'alpha': FloatDistribution(high=0.9, log=False, low=0.5, step=None)}, trial_id=105, value=None),\n",
       " FrozenTrial(number=106, state=1, values=[0.04180487290010063], datetime_start=datetime.datetime(2023, 12, 11, 16, 12, 37, 432359), datetime_complete=datetime.datetime(2023, 12, 11, 16, 13, 17, 42567), params={'topK': 37, 'alpha': 0.7647084337746219}, user_attrs={}, system_attrs={}, intermediate_values={}, distributions={'topK': IntDistribution(high=100, log=False, low=10, step=1), 'alpha': FloatDistribution(high=0.9, log=False, low=0.5, step=None)}, trial_id=106, value=None),\n",
       " FrozenTrial(number=107, state=1, values=[0.0420390608225791], datetime_start=datetime.datetime(2023, 12, 11, 16, 13, 17, 43567), datetime_complete=datetime.datetime(2023, 12, 11, 16, 13, 54, 834774), params={'topK': 25, 'alpha': 0.7345581121724287}, user_attrs={}, system_attrs={}, intermediate_values={}, distributions={'topK': IntDistribution(high=100, log=False, low=10, step=1), 'alpha': FloatDistribution(high=0.9, log=False, low=0.5, step=None)}, trial_id=107, value=None),\n",
       " FrozenTrial(number=108, state=1, values=[0.042383937974687674], datetime_start=datetime.datetime(2023, 12, 11, 16, 13, 54, 835774), datetime_complete=datetime.datetime(2023, 12, 11, 16, 14, 34, 859106), params={'topK': 41, 'alpha': 0.747480185102254}, user_attrs={}, system_attrs={}, intermediate_values={}, distributions={'topK': IntDistribution(high=100, log=False, low=10, step=1), 'alpha': FloatDistribution(high=0.9, log=False, low=0.5, step=None)}, trial_id=108, value=None),\n",
       " FrozenTrial(number=109, state=1, values=[0.04198024862851113], datetime_start=datetime.datetime(2023, 12, 11, 16, 14, 34, 860108), datetime_complete=datetime.datetime(2023, 12, 11, 16, 15, 14, 360363), params={'topK': 41, 'alpha': 0.7252420054155216}, user_attrs={}, system_attrs={}, intermediate_values={}, distributions={'topK': IntDistribution(high=100, log=False, low=10, step=1), 'alpha': FloatDistribution(high=0.9, log=False, low=0.5, step=None)}, trial_id=109, value=None),\n",
       " FrozenTrial(number=110, state=1, values=[0.042179808910541024], datetime_start=datetime.datetime(2023, 12, 11, 16, 15, 14, 361362), datetime_complete=datetime.datetime(2023, 12, 11, 16, 15, 55, 298998), params={'topK': 49, 'alpha': 0.7680448348175267}, user_attrs={}, system_attrs={}, intermediate_values={}, distributions={'topK': IntDistribution(high=100, log=False, low=10, step=1), 'alpha': FloatDistribution(high=0.9, log=False, low=0.5, step=None)}, trial_id=110, value=None),\n",
       " FrozenTrial(number=111, state=1, values=[0.04239242301560294], datetime_start=datetime.datetime(2023, 12, 11, 16, 15, 55, 300000), datetime_complete=datetime.datetime(2023, 12, 11, 16, 16, 35, 214403), params={'topK': 38, 'alpha': 0.7464752666493479}, user_attrs={}, system_attrs={}, intermediate_values={}, distributions={'topK': IntDistribution(high=100, log=False, low=10, step=1), 'alpha': FloatDistribution(high=0.9, log=False, low=0.5, step=None)}, trial_id=111, value=None),\n",
       " FrozenTrial(number=112, state=1, values=[0.04237358305214789], datetime_start=datetime.datetime(2023, 12, 11, 16, 16, 35, 215402), datetime_complete=datetime.datetime(2023, 12, 11, 16, 17, 14, 830510), params={'topK': 38, 'alpha': 0.7394859981471292}, user_attrs={}, system_attrs={}, intermediate_values={}, distributions={'topK': IntDistribution(high=100, log=False, low=10, step=1), 'alpha': FloatDistribution(high=0.9, log=False, low=0.5, step=None)}, trial_id=112, value=None),\n",
       " FrozenTrial(number=113, state=1, values=[0.04234018736251085], datetime_start=datetime.datetime(2023, 12, 11, 16, 17, 14, 831511), datetime_complete=datetime.datetime(2023, 12, 11, 16, 17, 54, 165516), params={'topK': 37, 'alpha': 0.7406855550005826}, user_attrs={}, system_attrs={}, intermediate_values={}, distributions={'topK': IntDistribution(high=100, log=False, low=10, step=1), 'alpha': FloatDistribution(high=0.9, log=False, low=0.5, step=None)}, trial_id=113, value=None),\n",
       " FrozenTrial(number=114, state=1, values=[0.042163327957239705], datetime_start=datetime.datetime(2023, 12, 11, 16, 17, 54, 166516), datetime_complete=datetime.datetime(2023, 12, 11, 16, 18, 32, 917067), params={'topK': 30, 'alpha': 0.7408379456735679}, user_attrs={}, system_attrs={}, intermediate_values={}, distributions={'topK': IntDistribution(high=100, log=False, low=10, step=1), 'alpha': FloatDistribution(high=0.9, log=False, low=0.5, step=None)}, trial_id=114, value=None),\n",
       " FrozenTrial(number=115, state=1, values=[0.04171564109989743], datetime_start=datetime.datetime(2023, 12, 11, 16, 18, 32, 918067), datetime_complete=datetime.datetime(2023, 12, 11, 16, 19, 12, 862304), params={'topK': 42, 'alpha': 0.7145589509881588}, user_attrs={}, system_attrs={}, intermediate_values={}, distributions={'topK': IntDistribution(high=100, log=False, low=10, step=1), 'alpha': FloatDistribution(high=0.9, log=False, low=0.5, step=None)}, trial_id=115, value=None),\n",
       " FrozenTrial(number=116, state=1, values=[0.04213459661014907], datetime_start=datetime.datetime(2023, 12, 11, 16, 19, 12, 863304), datetime_complete=datetime.datetime(2023, 12, 11, 16, 19, 52, 476197), params={'topK': 38, 'alpha': 0.7609468322129207}, user_attrs={}, system_attrs={}, intermediate_values={}, distributions={'topK': IntDistribution(high=100, log=False, low=10, step=1), 'alpha': FloatDistribution(high=0.9, log=False, low=0.5, step=None)}, trial_id=116, value=None),\n",
       " FrozenTrial(number=117, state=1, values=[0.042144924100287216], datetime_start=datetime.datetime(2023, 12, 11, 16, 19, 52, 478204), datetime_complete=datetime.datetime(2023, 12, 11, 16, 20, 31, 268991), params={'topK': 33, 'alpha': 0.722290244351919}, user_attrs={}, system_attrs={}, intermediate_values={}, distributions={'topK': IntDistribution(high=100, log=False, low=10, step=1), 'alpha': FloatDistribution(high=0.9, log=False, low=0.5, step=None)}, trial_id=117, value=None),\n",
       " FrozenTrial(number=118, state=1, values=[0.04232057605032232], datetime_start=datetime.datetime(2023, 12, 11, 16, 20, 31, 269991), datetime_complete=datetime.datetime(2023, 12, 11, 16, 21, 10, 788384), params={'topK': 36, 'alpha': 0.7490200165023118}, user_attrs={}, system_attrs={}, intermediate_values={}, distributions={'topK': IntDistribution(high=100, log=False, low=10, step=1), 'alpha': FloatDistribution(high=0.9, log=False, low=0.5, step=None)}, trial_id=118, value=None),\n",
       " FrozenTrial(number=119, state=1, values=[0.04236261802743552], datetime_start=datetime.datetime(2023, 12, 11, 16, 21, 10, 790383), datetime_complete=datetime.datetime(2023, 12, 11, 16, 21, 50, 681543), params={'topK': 41, 'alpha': 0.7369304829359807}, user_attrs={}, system_attrs={}, intermediate_values={}, distributions={'topK': IntDistribution(high=100, log=False, low=10, step=1), 'alpha': FloatDistribution(high=0.9, log=False, low=0.5, step=None)}, trial_id=119, value=None),\n",
       " FrozenTrial(number=120, state=1, values=[0.04231195353451784], datetime_start=datetime.datetime(2023, 12, 11, 16, 21, 50, 682544), datetime_complete=datetime.datetime(2023, 12, 11, 16, 22, 30, 570959), params={'topK': 40, 'alpha': 0.7366946181683306}, user_attrs={}, system_attrs={}, intermediate_values={}, distributions={'topK': IntDistribution(high=100, log=False, low=10, step=1), 'alpha': FloatDistribution(high=0.9, log=False, low=0.5, step=None)}, trial_id=120, value=None),\n",
       " FrozenTrial(number=121, state=1, values=[0.04233423185971829], datetime_start=datetime.datetime(2023, 12, 11, 16, 22, 30, 572959), datetime_complete=datetime.datetime(2023, 12, 11, 16, 23, 11, 148398), params={'topK': 43, 'alpha': 0.741220867542014}, user_attrs={}, system_attrs={}, intermediate_values={}, distributions={'topK': IntDistribution(high=100, log=False, low=10, step=1), 'alpha': FloatDistribution(high=0.9, log=False, low=0.5, step=None)}, trial_id=121, value=None),\n",
       " FrozenTrial(number=122, state=1, values=[0.04200063409878349], datetime_start=datetime.datetime(2023, 12, 11, 16, 23, 11, 150406), datetime_complete=datetime.datetime(2023, 12, 11, 16, 23, 53, 209190), params={'topK': 47, 'alpha': 0.7717536527530063}, user_attrs={}, system_attrs={}, intermediate_values={}, distributions={'topK': IntDistribution(high=100, log=False, low=10, step=1), 'alpha': FloatDistribution(high=0.9, log=False, low=0.5, step=None)}, trial_id=122, value=None),\n",
       " FrozenTrial(number=123, state=1, values=[0.04231063274482207], datetime_start=datetime.datetime(2023, 12, 11, 16, 23, 53, 210191), datetime_complete=datetime.datetime(2023, 12, 11, 16, 24, 32, 874487), params={'topK': 38, 'alpha': 0.7290905441489942}, user_attrs={}, system_attrs={}, intermediate_values={}, distributions={'topK': IntDistribution(high=100, log=False, low=10, step=1), 'alpha': FloatDistribution(high=0.9, log=False, low=0.5, step=None)}, trial_id=123, value=None),\n",
       " FrozenTrial(number=124, state=1, values=[0.042321154269280216], datetime_start=datetime.datetime(2023, 12, 11, 16, 24, 32, 874487), datetime_complete=datetime.datetime(2023, 12, 11, 16, 25, 12, 806998), params={'topK': 42, 'alpha': 0.7515661647351248}, user_attrs={}, system_attrs={}, intermediate_values={}, distributions={'topK': IntDistribution(high=100, log=False, low=10, step=1), 'alpha': FloatDistribution(high=0.9, log=False, low=0.5, step=None)}, trial_id=124, value=None),\n",
       " FrozenTrial(number=125, state=1, values=[0.041679122073644305], datetime_start=datetime.datetime(2023, 12, 11, 16, 25, 12, 807998), datetime_complete=datetime.datetime(2023, 12, 11, 16, 25, 52, 172050), params={'topK': 36, 'alpha': 0.7077613461034339}, user_attrs={}, system_attrs={}, intermediate_values={}, distributions={'topK': IntDistribution(high=100, log=False, low=10, step=1), 'alpha': FloatDistribution(high=0.9, log=False, low=0.5, step=None)}, trial_id=125, value=None),\n",
       " FrozenTrial(number=126, state=1, values=[0.042258199194357825], datetime_start=datetime.datetime(2023, 12, 11, 16, 25, 52, 173048), datetime_complete=datetime.datetime(2023, 12, 11, 16, 26, 31, 715422), params={'topK': 40, 'alpha': 0.7612108545874097}, user_attrs={}, system_attrs={}, intermediate_values={}, distributions={'topK': IntDistribution(high=100, log=False, low=10, step=1), 'alpha': FloatDistribution(high=0.9, log=False, low=0.5, step=None)}, trial_id=126, value=None),\n",
       " FrozenTrial(number=127, state=1, values=[0.0420794798092479], datetime_start=datetime.datetime(2023, 12, 11, 16, 26, 31, 716436), datetime_complete=datetime.datetime(2023, 12, 11, 16, 27, 12, 849679), params={'topK': 31, 'alpha': 0.7183582545853787}, user_attrs={}, system_attrs={}, intermediate_values={}, distributions={'topK': IntDistribution(high=100, log=False, low=10, step=1), 'alpha': FloatDistribution(high=0.9, log=False, low=0.5, step=None)}, trial_id=127, value=None),\n",
       " FrozenTrial(number=128, state=1, values=[0.042342082490619264], datetime_start=datetime.datetime(2023, 12, 11, 16, 27, 12, 850680), datetime_complete=datetime.datetime(2023, 12, 11, 16, 27, 52, 325196), params={'topK': 38, 'alpha': 0.7360243340893966}, user_attrs={}, system_attrs={}, intermediate_values={}, distributions={'topK': IntDistribution(high=100, log=False, low=10, step=1), 'alpha': FloatDistribution(high=0.9, log=False, low=0.5, step=None)}, trial_id=128, value=None),\n",
       " FrozenTrial(number=129, state=1, values=[0.04231357353537945], datetime_start=datetime.datetime(2023, 12, 11, 16, 27, 52, 326201), datetime_complete=datetime.datetime(2023, 12, 11, 16, 28, 32, 31664), params={'topK': 33, 'alpha': 0.7362548951782184}, user_attrs={}, system_attrs={}, intermediate_values={}, distributions={'topK': IntDistribution(high=100, log=False, low=10, step=1), 'alpha': FloatDistribution(high=0.9, log=False, low=0.5, step=None)}, trial_id=129, value=None),\n",
       " FrozenTrial(number=130, state=1, values=[0.04092758460149438], datetime_start=datetime.datetime(2023, 12, 11, 16, 28, 32, 32663), datetime_complete=datetime.datetime(2023, 12, 11, 16, 29, 11, 448261), params={'topK': 38, 'alpha': 0.781679355655716}, user_attrs={}, system_attrs={}, intermediate_values={}, distributions={'topK': IntDistribution(high=100, log=False, low=10, step=1), 'alpha': FloatDistribution(high=0.9, log=False, low=0.5, step=None)}, trial_id=130, value=None),\n",
       " FrozenTrial(number=131, state=1, values=[0.042360831247741725], datetime_start=datetime.datetime(2023, 12, 11, 16, 29, 11, 449257), datetime_complete=datetime.datetime(2023, 12, 11, 16, 29, 51, 860982), params={'topK': 41, 'alpha': 0.7468957532293963}, user_attrs={}, system_attrs={}, intermediate_values={}, distributions={'topK': IntDistribution(high=100, log=False, low=10, step=1), 'alpha': FloatDistribution(high=0.9, log=False, low=0.5, step=None)}, trial_id=131, value=None),\n",
       " FrozenTrial(number=132, state=1, values=[0.04210941406890556], datetime_start=datetime.datetime(2023, 12, 11, 16, 29, 51, 861986), datetime_complete=datetime.datetime(2023, 12, 11, 16, 30, 31, 342972), params={'topK': 35, 'alpha': 0.7546104154482633}, user_attrs={}, system_attrs={}, intermediate_values={}, distributions={'topK': IntDistribution(high=100, log=False, low=10, step=1), 'alpha': FloatDistribution(high=0.9, log=False, low=0.5, step=None)}, trial_id=132, value=None),\n",
       " FrozenTrial(number=133, state=1, values=[0.04216042446205861], datetime_start=datetime.datetime(2023, 12, 11, 16, 30, 31, 343968), datetime_complete=datetime.datetime(2023, 12, 11, 16, 31, 11, 104805), params={'topK': 40, 'alpha': 0.7270935060441723}, user_attrs={}, system_attrs={}, intermediate_values={}, distributions={'topK': IntDistribution(high=100, log=False, low=10, step=1), 'alpha': FloatDistribution(high=0.9, log=False, low=0.5, step=None)}, trial_id=133, value=None),\n",
       " FrozenTrial(number=134, state=1, values=[0.0422750209041996], datetime_start=datetime.datetime(2023, 12, 11, 16, 31, 11, 105803), datetime_complete=datetime.datetime(2023, 12, 11, 16, 31, 51, 455065), params={'topK': 44, 'alpha': 0.7475052804314682}, user_attrs={}, system_attrs={}, intermediate_values={}, distributions={'topK': IntDistribution(high=100, log=False, low=10, step=1), 'alpha': FloatDistribution(high=0.9, log=False, low=0.5, step=None)}, trial_id=134, value=None),\n",
       " FrozenTrial(number=135, state=1, values=[0.04234744100451859], datetime_start=datetime.datetime(2023, 12, 11, 16, 31, 51, 456065), datetime_complete=datetime.datetime(2023, 12, 11, 16, 32, 30, 847545), params={'topK': 37, 'alpha': 0.7341686098875948}, user_attrs={}, system_attrs={}, intermediate_values={}, distributions={'topK': IntDistribution(high=100, log=False, low=10, step=1), 'alpha': FloatDistribution(high=0.9, log=False, low=0.5, step=None)}, trial_id=135, value=None),\n",
       " FrozenTrial(number=136, state=1, values=[0.042349953803498264], datetime_start=datetime.datetime(2023, 12, 11, 16, 32, 30, 848543), datetime_complete=datetime.datetime(2023, 12, 11, 16, 33, 9, 791987), params={'topK': 34, 'alpha': 0.7317006724375072}, user_attrs={}, system_attrs={}, intermediate_values={}, distributions={'topK': IntDistribution(high=100, log=False, low=10, step=1), 'alpha': FloatDistribution(high=0.9, log=False, low=0.5, step=None)}, trial_id=136, value=None),\n",
       " FrozenTrial(number=137, state=1, values=[0.04080234564610086], datetime_start=datetime.datetime(2023, 12, 11, 16, 33, 9, 792986), datetime_complete=datetime.datetime(2023, 12, 11, 16, 33, 50, 542838), params={'topK': 46, 'alpha': 0.6990067996057989}, user_attrs={}, system_attrs={}, intermediate_values={}, distributions={'topK': IntDistribution(high=100, log=False, low=10, step=1), 'alpha': FloatDistribution(high=0.9, log=False, low=0.5, step=None)}, trial_id=137, value=None),\n",
       " FrozenTrial(number=138, state=1, values=[0.04234225031607123], datetime_start=datetime.datetime(2023, 12, 11, 16, 33, 50, 543834), datetime_complete=datetime.datetime(2023, 12, 11, 16, 34, 30, 156380), params={'topK': 39, 'alpha': 0.7324384175282156}, user_attrs={}, system_attrs={}, intermediate_values={}, distributions={'topK': IntDistribution(high=100, log=False, low=10, step=1), 'alpha': FloatDistribution(high=0.9, log=False, low=0.5, step=None)}, trial_id=138, value=None),\n",
       " FrozenTrial(number=139, state=1, values=[0.04187001958444283], datetime_start=datetime.datetime(2023, 12, 11, 16, 34, 30, 157386), datetime_complete=datetime.datetime(2023, 12, 11, 16, 35, 10, 374543), params={'topK': 41, 'alpha': 0.7198951613151119}, user_attrs={}, system_attrs={}, intermediate_values={}, distributions={'topK': IntDistribution(high=100, log=False, low=10, step=1), 'alpha': FloatDistribution(high=0.9, log=False, low=0.5, step=None)}, trial_id=139, value=None),\n",
       " FrozenTrial(number=140, state=1, values=[0.041851816279477906], datetime_start=datetime.datetime(2023, 12, 11, 16, 35, 10, 375541), datetime_complete=datetime.datetime(2023, 12, 11, 16, 35, 49, 560023), params={'topK': 34, 'alpha': 0.7123367613365493}, user_attrs={}, system_attrs={}, intermediate_values={}, distributions={'topK': IntDistribution(high=100, log=False, low=10, step=1), 'alpha': FloatDistribution(high=0.9, log=False, low=0.5, step=None)}, trial_id=140, value=None),\n",
       " FrozenTrial(number=141, state=1, values=[0.04225011393040495], datetime_start=datetime.datetime(2023, 12, 11, 16, 35, 49, 561026), datetime_complete=datetime.datetime(2023, 12, 11, 16, 36, 29, 294927), params={'topK': 39, 'alpha': 0.7305865918770307}, user_attrs={}, system_attrs={}, intermediate_values={}, distributions={'topK': IntDistribution(high=100, log=False, low=10, step=1), 'alpha': FloatDistribution(high=0.9, log=False, low=0.5, step=None)}, trial_id=141, value=None),\n",
       " FrozenTrial(number=142, state=1, values=[0.04229109028605319], datetime_start=datetime.datetime(2023, 12, 11, 16, 36, 29, 295933), datetime_complete=datetime.datetime(2023, 12, 11, 16, 37, 8, 311324), params={'topK': 37, 'alpha': 0.7503313304645738}, user_attrs={}, system_attrs={}, intermediate_values={}, distributions={'topK': IntDistribution(high=100, log=False, low=10, step=1), 'alpha': FloatDistribution(high=0.9, log=False, low=0.5, step=None)}, trial_id=142, value=None),\n",
       " FrozenTrial(number=143, state=1, values=[0.0419323981686372], datetime_start=datetime.datetime(2023, 12, 11, 16, 37, 8, 313326), datetime_complete=datetime.datetime(2023, 12, 11, 16, 37, 49, 908497), params={'topK': 43, 'alpha': 0.725384286341548}, user_attrs={}, system_attrs={}, intermediate_values={}, distributions={'topK': IntDistribution(high=100, log=False, low=10, step=1), 'alpha': FloatDistribution(high=0.9, log=False, low=0.5, step=None)}, trial_id=143, value=None),\n",
       " FrozenTrial(number=144, state=1, values=[0.040797796192790406], datetime_start=datetime.datetime(2023, 12, 11, 16, 37, 49, 909505), datetime_complete=datetime.datetime(2023, 12, 11, 16, 38, 35, 928379), params={'topK': 94, 'alpha': 0.7345099242418441}, user_attrs={}, system_attrs={}, intermediate_values={}, distributions={'topK': IntDistribution(high=100, log=False, low=10, step=1), 'alpha': FloatDistribution(high=0.9, log=False, low=0.5, step=None)}, trial_id=144, value=None),\n",
       " FrozenTrial(number=145, state=1, values=[0.042305234908621515], datetime_start=datetime.datetime(2023, 12, 11, 16, 38, 35, 929380), datetime_complete=datetime.datetime(2023, 12, 11, 16, 39, 15, 662246), params={'topK': 39, 'alpha': 0.7565392488051227}, user_attrs={}, system_attrs={}, intermediate_values={}, distributions={'topK': IntDistribution(high=100, log=False, low=10, step=1), 'alpha': FloatDistribution(high=0.9, log=False, low=0.5, step=None)}, trial_id=145, value=None),\n",
       " FrozenTrial(number=146, state=1, values=[0.042296826816502396], datetime_start=datetime.datetime(2023, 12, 11, 16, 39, 15, 663247), datetime_complete=datetime.datetime(2023, 12, 11, 16, 39, 54, 548704), params={'topK': 35, 'alpha': 0.7457556193433202}, user_attrs={}, system_attrs={}, intermediate_values={}, distributions={'topK': IntDistribution(high=100, log=False, low=10, step=1), 'alpha': FloatDistribution(high=0.9, log=False, low=0.5, step=None)}, trial_id=146, value=None),\n",
       " FrozenTrial(number=147, state=1, values=[0.04185495658558614], datetime_start=datetime.datetime(2023, 12, 11, 16, 39, 54, 550712), datetime_complete=datetime.datetime(2023, 12, 11, 16, 40, 34, 374988), params={'topK': 41, 'alpha': 0.7713984274049571}, user_attrs={}, system_attrs={}, intermediate_values={}, distributions={'topK': IntDistribution(high=100, log=False, low=10, step=1), 'alpha': FloatDistribution(high=0.9, log=False, low=0.5, step=None)}, trial_id=147, value=None),\n",
       " FrozenTrial(number=148, state=1, values=[0.04220665137302553], datetime_start=datetime.datetime(2023, 12, 11, 16, 40, 34, 375987), datetime_complete=datetime.datetime(2023, 12, 11, 16, 41, 14, 504088), params={'topK': 44, 'alpha': 0.7644350630363689}, user_attrs={}, system_attrs={}, intermediate_values={}, distributions={'topK': IntDistribution(high=100, log=False, low=10, step=1), 'alpha': FloatDistribution(high=0.9, log=False, low=0.5, step=None)}, trial_id=148, value=None),\n",
       " FrozenTrial(number=149, state=1, values=[0.042321915255182085], datetime_start=datetime.datetime(2023, 12, 11, 16, 41, 14, 505086), datetime_complete=datetime.datetime(2023, 12, 11, 16, 41, 54, 245857), params={'topK': 37, 'alpha': 0.7353118261518108}, user_attrs={}, system_attrs={}, intermediate_values={}, distributions={'topK': IntDistribution(high=100, log=False, low=10, step=1), 'alpha': FloatDistribution(high=0.9, log=False, low=0.5, step=None)}, trial_id=149, value=None),\n",
       " FrozenTrial(number=150, state=1, values=[0.041621265678856656], datetime_start=datetime.datetime(2023, 12, 11, 16, 41, 54, 246856), datetime_complete=datetime.datetime(2023, 12, 11, 16, 42, 34, 198387), params={'topK': 39, 'alpha': 0.709132756791805}, user_attrs={}, system_attrs={}, intermediate_values={}, distributions={'topK': IntDistribution(high=100, log=False, low=10, step=1), 'alpha': FloatDistribution(high=0.9, log=False, low=0.5, step=None)}, trial_id=150, value=None),\n",
       " FrozenTrial(number=151, state=1, values=[0.04229060124203974], datetime_start=datetime.datetime(2023, 12, 11, 16, 42, 34, 199387), datetime_complete=datetime.datetime(2023, 12, 11, 16, 43, 12, 781678), params={'topK': 32, 'alpha': 0.7425557508090611}, user_attrs={}, system_attrs={}, intermediate_values={}, distributions={'topK': IntDistribution(high=100, log=False, low=10, step=1), 'alpha': FloatDistribution(high=0.9, log=False, low=0.5, step=None)}, trial_id=151, value=None),\n",
       " FrozenTrial(number=152, state=1, values=[0.04237360809445915], datetime_start=datetime.datetime(2023, 12, 11, 16, 43, 12, 782684), datetime_complete=datetime.datetime(2023, 12, 11, 16, 43, 51, 834896), params={'topK': 34, 'alpha': 0.7301049334569116}, user_attrs={}, system_attrs={}, intermediate_values={}, distributions={'topK': IntDistribution(high=100, log=False, low=10, step=1), 'alpha': FloatDistribution(high=0.9, log=False, low=0.5, step=None)}, trial_id=152, value=None),\n",
       " FrozenTrial(number=153, state=1, values=[0.04205214509704128], datetime_start=datetime.datetime(2023, 12, 11, 16, 43, 51, 835897), datetime_complete=datetime.datetime(2023, 12, 11, 16, 44, 31, 220541), params={'topK': 35, 'alpha': 0.7205685071558412}, user_attrs={}, system_attrs={}, intermediate_values={}, distributions={'topK': IntDistribution(high=100, log=False, low=10, step=1), 'alpha': FloatDistribution(high=0.9, log=False, low=0.5, step=None)}, trial_id=153, value=None),\n",
       " FrozenTrial(number=154, state=1, values=[0.04228808130766976], datetime_start=datetime.datetime(2023, 12, 11, 16, 44, 31, 222549), datetime_complete=datetime.datetime(2023, 12, 11, 16, 45, 11, 27552), params={'topK': 41, 'alpha': 0.757460771969426}, user_attrs={}, system_attrs={}, intermediate_values={}, distributions={'topK': IntDistribution(high=100, log=False, low=10, step=1), 'alpha': FloatDistribution(high=0.9, log=False, low=0.5, step=None)}, trial_id=154, value=None),\n",
       " FrozenTrial(number=155, state=1, values=[0.04231437007406258], datetime_start=datetime.datetime(2023, 12, 11, 16, 45, 11, 28552), datetime_complete=datetime.datetime(2023, 12, 11, 16, 45, 49, 632204), params={'topK': 29, 'alpha': 0.7304956146533043}, user_attrs={}, system_attrs={}, intermediate_values={}, distributions={'topK': IntDistribution(high=100, log=False, low=10, step=1), 'alpha': FloatDistribution(high=0.9, log=False, low=0.5, step=None)}, trial_id=155, value=None),\n",
       " FrozenTrial(number=156, state=1, values=[0.04234223861106995], datetime_start=datetime.datetime(2023, 12, 11, 16, 45, 49, 633207), datetime_complete=datetime.datetime(2023, 12, 11, 16, 46, 28, 998834), params={'topK': 37, 'alpha': 0.7458324648861123}, user_attrs={}, system_attrs={}, intermediate_values={}, distributions={'topK': IntDistribution(high=100, log=False, low=10, step=1), 'alpha': FloatDistribution(high=0.9, log=False, low=0.5, step=None)}, trial_id=156, value=None),\n",
       " FrozenTrial(number=157, state=1, values=[0.04219987045917007], datetime_start=datetime.datetime(2023, 12, 11, 16, 46, 28, 999835), datetime_complete=datetime.datetime(2023, 12, 11, 16, 47, 8, 146892), params={'topK': 34, 'alpha': 0.7501546729458891}, user_attrs={}, system_attrs={}, intermediate_values={}, distributions={'topK': IntDistribution(high=100, log=False, low=10, step=1), 'alpha': FloatDistribution(high=0.9, log=False, low=0.5, step=None)}, trial_id=157, value=None),\n",
       " FrozenTrial(number=158, state=1, values=[0.042275485247057994], datetime_start=datetime.datetime(2023, 12, 11, 16, 47, 8, 147901), datetime_complete=datetime.datetime(2023, 12, 11, 16, 47, 47, 512186), params={'topK': 36, 'alpha': 0.7267661953410737}, user_attrs={}, system_attrs={}, intermediate_values={}, distributions={'topK': IntDistribution(high=100, log=False, low=10, step=1), 'alpha': FloatDistribution(high=0.9, log=False, low=0.5, step=None)}, trial_id=158, value=None),\n",
       " FrozenTrial(number=159, state=1, values=[0.04233362088954481], datetime_start=datetime.datetime(2023, 12, 11, 16, 47, 47, 513187), datetime_complete=datetime.datetime(2023, 12, 11, 16, 48, 28, 548151), params={'topK': 46, 'alpha': 0.7454864504533804}, user_attrs={}, system_attrs={}, intermediate_values={}, distributions={'topK': IntDistribution(high=100, log=False, low=10, step=1), 'alpha': FloatDistribution(high=0.9, log=False, low=0.5, step=None)}, trial_id=159, value=None),\n",
       " FrozenTrial(number=160, state=1, values=[0.042264224312168495], datetime_start=datetime.datetime(2023, 12, 11, 16, 48, 28, 549164), datetime_complete=datetime.datetime(2023, 12, 11, 16, 49, 11, 792360), params={'topK': 68, 'alpha': 0.7598807728633457}, user_attrs={}, system_attrs={}, intermediate_values={}, distributions={'topK': IntDistribution(high=100, log=False, low=10, step=1), 'alpha': FloatDistribution(high=0.9, log=False, low=0.5, step=None)}, trial_id=160, value=None),\n",
       " FrozenTrial(number=161, state=1, values=[0.04237752329922723], datetime_start=datetime.datetime(2023, 12, 11, 16, 49, 11, 793354), datetime_complete=datetime.datetime(2023, 12, 11, 16, 49, 52, 46077), params={'topK': 38, 'alpha': 0.7384220064052445}, user_attrs={}, system_attrs={}, intermediate_values={}, distributions={'topK': IntDistribution(high=100, log=False, low=10, step=1), 'alpha': FloatDistribution(high=0.9, log=False, low=0.5, step=None)}, trial_id=161, value=None),\n",
       " FrozenTrial(number=162, state=1, values=[0.042363787687266334], datetime_start=datetime.datetime(2023, 12, 11, 16, 49, 52, 47077), datetime_complete=datetime.datetime(2023, 12, 11, 16, 50, 31, 936398), params={'topK': 40, 'alpha': 0.7397077118152383}, user_attrs={}, system_attrs={}, intermediate_values={}, distributions={'topK': IntDistribution(high=100, log=False, low=10, step=1), 'alpha': FloatDistribution(high=0.9, log=False, low=0.5, step=None)}, trial_id=162, value=None),\n",
       " FrozenTrial(number=163, state=1, values=[0.04189038134411701], datetime_start=datetime.datetime(2023, 12, 11, 16, 50, 31, 937397), datetime_complete=datetime.datetime(2023, 12, 11, 16, 51, 12, 144815), params={'topK': 43, 'alpha': 0.719499896000157}, user_attrs={}, system_attrs={}, intermediate_values={}, distributions={'topK': IntDistribution(high=100, log=False, low=10, step=1), 'alpha': FloatDistribution(high=0.9, log=False, low=0.5, step=None)}, trial_id=163, value=None),\n",
       " FrozenTrial(number=164, state=1, values=[0.042355160595547205], datetime_start=datetime.datetime(2023, 12, 11, 16, 51, 12, 145821), datetime_complete=datetime.datetime(2023, 12, 11, 16, 51, 52, 141424), params={'topK': 41, 'alpha': 0.7360876511697653}, user_attrs={}, system_attrs={}, intermediate_values={}, distributions={'topK': IntDistribution(high=100, log=False, low=10, step=1), 'alpha': FloatDistribution(high=0.9, log=False, low=0.5, step=None)}, trial_id=164, value=None),\n",
       " FrozenTrial(number=165, state=1, values=[0.04235968274031517], datetime_start=datetime.datetime(2023, 12, 11, 16, 51, 52, 142424), datetime_complete=datetime.datetime(2023, 12, 11, 16, 52, 32, 62288), params={'topK': 41, 'alpha': 0.7367323874576237}, user_attrs={}, system_attrs={}, intermediate_values={}, distributions={'topK': IntDistribution(high=100, log=False, low=10, step=1), 'alpha': FloatDistribution(high=0.9, log=False, low=0.5, step=None)}, trial_id=165, value=None),\n",
       " FrozenTrial(number=166, state=1, values=[0.04235408012542732], datetime_start=datetime.datetime(2023, 12, 11, 16, 52, 32, 63288), datetime_complete=datetime.datetime(2023, 12, 11, 16, 53, 12, 509598), params={'topK': 42, 'alpha': 0.7394001836163385}, user_attrs={}, system_attrs={}, intermediate_values={}, distributions={'topK': IntDistribution(high=100, log=False, low=10, step=1), 'alpha': FloatDistribution(high=0.9, log=False, low=0.5, step=None)}, trial_id=166, value=None),\n",
       " FrozenTrial(number=167, state=1, values=[0.042171424939680506], datetime_start=datetime.datetime(2023, 12, 11, 16, 53, 12, 510598), datetime_complete=datetime.datetime(2023, 12, 11, 16, 53, 53, 752969), params={'topK': 49, 'alpha': 0.7403775753136641}, user_attrs={}, system_attrs={}, intermediate_values={}, distributions={'topK': IntDistribution(high=100, log=False, low=10, step=1), 'alpha': FloatDistribution(high=0.9, log=False, low=0.5, step=None)}, trial_id=167, value=None),\n",
       " FrozenTrial(number=168, state=1, values=[0.0417769653183728], datetime_start=datetime.datetime(2023, 12, 11, 16, 53, 53, 753969), datetime_complete=datetime.datetime(2023, 12, 11, 16, 54, 34, 242993), params={'topK': 42, 'alpha': 0.7153827960340479}, user_attrs={}, system_attrs={}, intermediate_values={}, distributions={'topK': IntDistribution(high=100, log=False, low=10, step=1), 'alpha': FloatDistribution(high=0.9, log=False, low=0.5, step=None)}, trial_id=168, value=None),\n",
       " FrozenTrial(number=169, state=1, values=[0.041911755653522266], datetime_start=datetime.datetime(2023, 12, 11, 16, 54, 34, 243992), datetime_complete=datetime.datetime(2023, 12, 11, 16, 55, 14, 428916), params={'topK': 45, 'alpha': 0.7254997228698334}, user_attrs={}, system_attrs={}, intermediate_values={}, distributions={'topK': IntDistribution(high=100, log=False, low=10, step=1), 'alpha': FloatDistribution(high=0.9, log=False, low=0.5, step=None)}, trial_id=169, value=None),\n",
       " FrozenTrial(number=170, state=1, values=[0.042338430998046205], datetime_start=datetime.datetime(2023, 12, 11, 16, 55, 14, 429916), datetime_complete=datetime.datetime(2023, 12, 11, 16, 55, 54, 183704), params={'topK': 41, 'alpha': 0.7534980604500883}, user_attrs={}, system_attrs={}, intermediate_values={}, distributions={'topK': IntDistribution(high=100, log=False, low=10, step=1), 'alpha': FloatDistribution(high=0.9, log=False, low=0.5, step=None)}, trial_id=170, value=None),\n",
       " FrozenTrial(number=171, state=1, values=[0.04224864364069666], datetime_start=datetime.datetime(2023, 12, 11, 16, 55, 54, 184705), datetime_complete=datetime.datetime(2023, 12, 11, 16, 56, 34, 713924), params={'topK': 43, 'alpha': 0.7363864890238657}, user_attrs={}, system_attrs={}, intermediate_values={}, distributions={'topK': IntDistribution(high=100, log=False, low=10, step=1), 'alpha': FloatDistribution(high=0.9, log=False, low=0.5, step=None)}, trial_id=171, value=None),\n",
       " FrozenTrial(number=172, state=1, values=[0.04237242001142596], datetime_start=datetime.datetime(2023, 12, 11, 16, 56, 34, 714926), datetime_complete=datetime.datetime(2023, 12, 11, 16, 57, 15, 67899), params={'topK': 40, 'alpha': 0.7385519020357633}, user_attrs={}, system_attrs={}, intermediate_values={}, distributions={'topK': IntDistribution(high=100, log=False, low=10, step=1), 'alpha': FloatDistribution(high=0.9, log=False, low=0.5, step=None)}, trial_id=172, value=None),\n",
       " FrozenTrial(number=173, state=1, values=[0.04237448097441992], datetime_start=datetime.datetime(2023, 12, 11, 16, 57, 15, 68906), datetime_complete=datetime.datetime(2023, 12, 11, 16, 57, 54, 964782), params={'topK': 41, 'alpha': 0.7429428018860984}, user_attrs={}, system_attrs={}, intermediate_values={}, distributions={'topK': IntDistribution(high=100, log=False, low=10, step=1), 'alpha': FloatDistribution(high=0.9, log=False, low=0.5, step=None)}, trial_id=173, value=None),\n",
       " FrozenTrial(number=174, state=1, values=[0.04237402232791735], datetime_start=datetime.datetime(2023, 12, 11, 16, 57, 54, 965782), datetime_complete=datetime.datetime(2023, 12, 11, 16, 58, 35, 443491), params={'topK': 40, 'alpha': 0.7416395046090946}, user_attrs={}, system_attrs={}, intermediate_values={}, distributions={'topK': IntDistribution(high=100, log=False, low=10, step=1), 'alpha': FloatDistribution(high=0.9, log=False, low=0.5, step=None)}, trial_id=174, value=None),\n",
       " FrozenTrial(number=175, state=1, values=[0.042409523501854396], datetime_start=datetime.datetime(2023, 12, 11, 16, 58, 35, 444492), datetime_complete=datetime.datetime(2023, 12, 11, 16, 59, 15, 355623), params={'topK': 40, 'alpha': 0.7464286084421005}, user_attrs={}, system_attrs={}, intermediate_values={}, distributions={'topK': IntDistribution(high=100, log=False, low=10, step=1), 'alpha': FloatDistribution(high=0.9, log=False, low=0.5, step=None)}, trial_id=175, value=None),\n",
       " FrozenTrial(number=176, state=1, values=[0.04208224274167771], datetime_start=datetime.datetime(2023, 12, 11, 16, 59, 15, 356631), datetime_complete=datetime.datetime(2023, 12, 11, 16, 59, 55, 268084), params={'topK': 40, 'alpha': 0.7653342396747016}, user_attrs={}, system_attrs={}, intermediate_values={}, distributions={'topK': IntDistribution(high=100, log=False, low=10, step=1), 'alpha': FloatDistribution(high=0.9, log=False, low=0.5, step=None)}, trial_id=176, value=None),\n",
       " FrozenTrial(number=177, state=1, values=[0.04234307463496519], datetime_start=datetime.datetime(2023, 12, 11, 16, 59, 55, 269085), datetime_complete=datetime.datetime(2023, 12, 11, 17, 0, 35, 741501), params={'topK': 44, 'alpha': 0.7490799550599786}, user_attrs={}, system_attrs={}, intermediate_values={}, distributions={'topK': IntDistribution(high=100, log=False, low=10, step=1), 'alpha': FloatDistribution(high=0.9, log=False, low=0.5, step=None)}, trial_id=177, value=None),\n",
       " FrozenTrial(number=178, state=1, values=[0.042300789919919736], datetime_start=datetime.datetime(2023, 12, 11, 17, 0, 35, 742511), datetime_complete=datetime.datetime(2023, 12, 11, 17, 1, 16, 318117), params={'topK': 47, 'alpha': 0.7574082619696788}, user_attrs={}, system_attrs={}, intermediate_values={}, distributions={'topK': IntDistribution(high=100, log=False, low=10, step=1), 'alpha': FloatDistribution(high=0.9, log=False, low=0.5, step=None)}, trial_id=178, value=None),\n",
       " FrozenTrial(number=179, state=1, values=[0.042384603270897776], datetime_start=datetime.datetime(2023, 12, 11, 17, 1, 16, 319118), datetime_complete=datetime.datetime(2023, 12, 11, 17, 1, 56, 167102), params={'topK': 39, 'alpha': 0.7434252622080589}, user_attrs={}, system_attrs={}, intermediate_values={}, distributions={'topK': IntDistribution(high=100, log=False, low=10, step=1), 'alpha': FloatDistribution(high=0.9, log=False, low=0.5, step=None)}, trial_id=179, value=None),\n",
       " FrozenTrial(number=180, state=1, values=[0.04234852560972969], datetime_start=datetime.datetime(2023, 12, 11, 17, 1, 56, 168100), datetime_complete=datetime.datetime(2023, 12, 11, 17, 2, 35, 953168), params={'topK': 38, 'alpha': 0.7445281031033668}, user_attrs={}, system_attrs={}, intermediate_values={}, distributions={'topK': IntDistribution(high=100, log=False, low=10, step=1), 'alpha': FloatDistribution(high=0.9, log=False, low=0.5, step=None)}, trial_id=180, value=None),\n",
       " FrozenTrial(number=181, state=1, values=[0.04232029843099577], datetime_start=datetime.datetime(2023, 12, 11, 17, 2, 35, 954175), datetime_complete=datetime.datetime(2023, 12, 11, 17, 3, 15, 709906), params={'topK': 40, 'alpha': 0.7535199882069427}, user_attrs={}, system_attrs={}, intermediate_values={}, distributions={'topK': IntDistribution(high=100, log=False, low=10, step=1), 'alpha': FloatDistribution(high=0.9, log=False, low=0.5, step=None)}, trial_id=181, value=None),\n",
       " FrozenTrial(number=182, state=1, values=[0.04238406888099949], datetime_start=datetime.datetime(2023, 12, 11, 17, 3, 15, 710901), datetime_complete=datetime.datetime(2023, 12, 11, 17, 3, 55, 306709), params={'topK': 39, 'alpha': 0.743418363189762}, user_attrs={}, system_attrs={}, intermediate_values={}, distributions={'topK': IntDistribution(high=100, log=False, low=10, step=1), 'alpha': FloatDistribution(high=0.9, log=False, low=0.5, step=None)}, trial_id=182, value=None),\n",
       " FrozenTrial(number=183, state=1, values=[0.04239022947509854], datetime_start=datetime.datetime(2023, 12, 11, 17, 3, 55, 308709), datetime_complete=datetime.datetime(2023, 12, 11, 17, 4, 36, 258732), params={'topK': 39, 'alpha': 0.7434381070002601}, user_attrs={}, system_attrs={}, intermediate_values={}, distributions={'topK': IntDistribution(high=100, log=False, low=10, step=1), 'alpha': FloatDistribution(high=0.9, log=False, low=0.5, step=None)}, trial_id=183, value=None),\n",
       " FrozenTrial(number=184, state=1, values=[0.04231196503361679], datetime_start=datetime.datetime(2023, 12, 11, 17, 4, 36, 259733), datetime_complete=datetime.datetime(2023, 12, 11, 17, 5, 15, 356641), params={'topK': 36, 'alpha': 0.7276737810085943}, user_attrs={}, system_attrs={}, intermediate_values={}, distributions={'topK': IntDistribution(high=100, log=False, low=10, step=1), 'alpha': FloatDistribution(high=0.9, log=False, low=0.5, step=None)}, trial_id=184, value=None),\n",
       " FrozenTrial(number=185, state=1, values=[0.04200223145598445], datetime_start=datetime.datetime(2023, 12, 11, 17, 5, 15, 357647), datetime_complete=datetime.datetime(2023, 12, 11, 17, 5, 55, 124357), params={'topK': 38, 'alpha': 0.7639252059623788}, user_attrs={}, system_attrs={}, intermediate_values={}, distributions={'topK': IntDistribution(high=100, log=False, low=10, step=1), 'alpha': FloatDistribution(high=0.9, log=False, low=0.5, step=None)}, trial_id=185, value=None),\n",
       " FrozenTrial(number=186, state=1, values=[0.042363269129802095], datetime_start=datetime.datetime(2023, 12, 11, 17, 5, 55, 125356), datetime_complete=datetime.datetime(2023, 12, 11, 17, 6, 34, 780998), params={'topK': 39, 'alpha': 0.7407715889394398}, user_attrs={}, system_attrs={}, intermediate_values={}, distributions={'topK': IntDistribution(high=100, log=False, low=10, step=1), 'alpha': FloatDistribution(high=0.9, log=False, low=0.5, step=None)}, trial_id=186, value=None),\n",
       " FrozenTrial(number=187, state=1, values=[0.042379202353508956], datetime_start=datetime.datetime(2023, 12, 11, 17, 6, 34, 781999), datetime_complete=datetime.datetime(2023, 12, 11, 17, 7, 14, 345541), params={'topK': 39, 'alpha': 0.7436145865242147}, user_attrs={}, system_attrs={}, intermediate_values={}, distributions={'topK': IntDistribution(high=100, log=False, low=10, step=1), 'alpha': FloatDistribution(high=0.9, log=False, low=0.5, step=None)}, trial_id=187, value=None),\n",
       " FrozenTrial(number=188, state=1, values=[0.04136171513465667], datetime_start=datetime.datetime(2023, 12, 11, 17, 7, 14, 347547), datetime_complete=datetime.datetime(2023, 12, 11, 17, 7, 53, 710841), params={'topK': 36, 'alpha': 0.770557550930076}, user_attrs={}, system_attrs={}, intermediate_values={}, distributions={'topK': IntDistribution(high=100, log=False, low=10, step=1), 'alpha': FloatDistribution(high=0.9, log=False, low=0.5, step=None)}, trial_id=188, value=None),\n",
       " FrozenTrial(number=189, state=1, values=[0.04227902044469908], datetime_start=datetime.datetime(2023, 12, 11, 17, 7, 53, 711840), datetime_complete=datetime.datetime(2023, 12, 11, 17, 8, 33, 182498), params={'topK': 38, 'alpha': 0.7525972927288288}, user_attrs={}, system_attrs={}, intermediate_values={}, distributions={'topK': IntDistribution(high=100, log=False, low=10, step=1), 'alpha': FloatDistribution(high=0.9, log=False, low=0.5, step=None)}, trial_id=189, value=None),\n",
       " FrozenTrial(number=190, state=1, values=[0.041925511349352185], datetime_start=datetime.datetime(2023, 12, 11, 17, 8, 33, 184501), datetime_complete=datetime.datetime(2023, 12, 11, 17, 9, 13, 581274), params={'topK': 43, 'alpha': 0.7222387952355714}, user_attrs={}, system_attrs={}, intermediate_values={}, distributions={'topK': IntDistribution(high=100, log=False, low=10, step=1), 'alpha': FloatDistribution(high=0.9, log=False, low=0.5, step=None)}, trial_id=190, value=None),\n",
       " FrozenTrial(number=191, state=1, values=[0.042381411370079176], datetime_start=datetime.datetime(2023, 12, 11, 17, 9, 13, 582275), datetime_complete=datetime.datetime(2023, 12, 11, 17, 9, 53, 616733), params={'topK': 39, 'alpha': 0.7436187645783815}, user_attrs={}, system_attrs={}, intermediate_values={}, distributions={'topK': IntDistribution(high=100, log=False, low=10, step=1), 'alpha': FloatDistribution(high=0.9, log=False, low=0.5, step=None)}, trial_id=191, value=None),\n",
       " FrozenTrial(number=192, state=1, values=[0.04234108557664279], datetime_start=datetime.datetime(2023, 12, 11, 17, 9, 53, 617722), datetime_complete=datetime.datetime(2023, 12, 11, 17, 10, 33, 128556), params={'topK': 39, 'alpha': 0.7449012931604717}, user_attrs={}, system_attrs={}, intermediate_values={}, distributions={'topK': IntDistribution(high=100, log=False, low=10, step=1), 'alpha': FloatDistribution(high=0.9, log=False, low=0.5, step=None)}, trial_id=192, value=None),\n",
       " FrozenTrial(number=193, state=1, values=[0.04217439890666327], datetime_start=datetime.datetime(2023, 12, 11, 17, 10, 33, 129556), datetime_complete=datetime.datetime(2023, 12, 11, 17, 11, 12, 634105), params={'topK': 36, 'alpha': 0.7558235160088183}, user_attrs={}, system_attrs={}, intermediate_values={}, distributions={'topK': IntDistribution(high=100, log=False, low=10, step=1), 'alpha': FloatDistribution(high=0.9, log=False, low=0.5, step=None)}, trial_id=193, value=None),\n",
       " FrozenTrial(number=194, state=1, values=[0.042378841191841966], datetime_start=datetime.datetime(2023, 12, 11, 17, 11, 12, 635111), datetime_complete=datetime.datetime(2023, 12, 11, 17, 11, 52, 858748), params={'topK': 39, 'alpha': 0.7437609111903605}, user_attrs={}, system_attrs={}, intermediate_values={}, distributions={'topK': IntDistribution(high=100, log=False, low=10, step=1), 'alpha': FloatDistribution(high=0.9, log=False, low=0.5, step=None)}, trial_id=194, value=None),\n",
       " FrozenTrial(number=195, state=1, values=[0.04220433995831226], datetime_start=datetime.datetime(2023, 12, 11, 17, 11, 52, 860754), datetime_complete=datetime.datetime(2023, 12, 11, 17, 12, 32, 72171), params={'topK': 34, 'alpha': 0.7479535423574428}, user_attrs={}, system_attrs={}, intermediate_values={}, distributions={'topK': IntDistribution(high=100, log=False, low=10, step=1), 'alpha': FloatDistribution(high=0.9, log=False, low=0.5, step=None)}, trial_id=195, value=None),\n",
       " FrozenTrial(number=196, state=1, values=[0.04214828403934719], datetime_start=datetime.datetime(2023, 12, 11, 17, 12, 32, 74175), datetime_complete=datetime.datetime(2023, 12, 11, 17, 13, 12, 135131), params={'topK': 39, 'alpha': 0.726524468313381}, user_attrs={}, system_attrs={}, intermediate_values={}, distributions={'topK': IntDistribution(high=100, log=False, low=10, step=1), 'alpha': FloatDistribution(high=0.9, log=False, low=0.5, step=None)}, trial_id=196, value=None),\n",
       " FrozenTrial(number=197, state=1, values=[0.04206138925736017], datetime_start=datetime.datetime(2023, 12, 11, 17, 13, 12, 137132), datetime_complete=datetime.datetime(2023, 12, 11, 17, 13, 51, 882104), params={'topK': 37, 'alpha': 0.7613108545445002}, user_attrs={}, system_attrs={}, intermediate_values={}, distributions={'topK': IntDistribution(high=100, log=False, low=10, step=1), 'alpha': FloatDistribution(high=0.9, log=False, low=0.5, step=None)}, trial_id=197, value=None),\n",
       " FrozenTrial(number=198, state=1, values=[0.04231320743471423], datetime_start=datetime.datetime(2023, 12, 11, 17, 13, 51, 884108), datetime_complete=datetime.datetime(2023, 12, 11, 17, 14, 32, 704750), params={'topK': 43, 'alpha': 0.7452836676505636}, user_attrs={}, system_attrs={}, intermediate_values={}, distributions={'topK': IntDistribution(high=100, log=False, low=10, step=1), 'alpha': FloatDistribution(high=0.9, log=False, low=0.5, step=None)}, trial_id=198, value=None),\n",
       " FrozenTrial(number=199, state=1, values=[0.04238458616387236], datetime_start=datetime.datetime(2023, 12, 11, 17, 14, 32, 705752), datetime_complete=datetime.datetime(2023, 12, 11, 17, 15, 12, 652931), params={'topK': 38, 'alpha': 0.7296380814448666}, user_attrs={}, system_attrs={}, intermediate_values={}, distributions={'topK': IntDistribution(high=100, log=False, low=10, step=1), 'alpha': FloatDistribution(high=0.9, log=False, low=0.5, step=None)}, trial_id=199, value=None),\n",
       " FrozenTrial(number=200, state=1, values=[0.04226616957547119], datetime_start=datetime.datetime(2023, 12, 11, 17, 15, 12, 653935), datetime_complete=datetime.datetime(2023, 12, 11, 17, 15, 52, 824902), params={'topK': 35, 'alpha': 0.7290169194638249}, user_attrs={}, system_attrs={}, intermediate_values={}, distributions={'topK': IntDistribution(high=100, log=False, low=10, step=1), 'alpha': FloatDistribution(high=0.9, log=False, low=0.5, step=None)}, trial_id=200, value=None),\n",
       " FrozenTrial(number=201, state=1, values=[0.042360483007905736], datetime_start=datetime.datetime(2023, 12, 11, 17, 15, 52, 825922), datetime_complete=datetime.datetime(2023, 12, 11, 17, 16, 32, 576805), params={'topK': 38, 'alpha': 0.7404809767994925}, user_attrs={}, system_attrs={}, intermediate_values={}, distributions={'topK': IntDistribution(high=100, log=False, low=10, step=1), 'alpha': FloatDistribution(high=0.9, log=False, low=0.5, step=None)}, trial_id=201, value=None),\n",
       " FrozenTrial(number=202, state=1, values=[0.04233963541471999], datetime_start=datetime.datetime(2023, 12, 11, 17, 16, 32, 577805), datetime_complete=datetime.datetime(2023, 12, 11, 17, 17, 13, 35447), params={'topK': 40, 'alpha': 0.7331573896589979}, user_attrs={}, system_attrs={}, intermediate_values={}, distributions={'topK': IntDistribution(high=100, log=False, low=10, step=1), 'alpha': FloatDistribution(high=0.9, log=False, low=0.5, step=None)}, trial_id=202, value=None),\n",
       " FrozenTrial(number=203, state=1, values=[0.04225480306174015], datetime_start=datetime.datetime(2023, 12, 11, 17, 17, 13, 37447), datetime_complete=datetime.datetime(2023, 12, 11, 17, 17, 52, 735809), params={'topK': 37, 'alpha': 0.75456562003156}, user_attrs={}, system_attrs={}, intermediate_values={}, distributions={'topK': IntDistribution(high=100, log=False, low=10, step=1), 'alpha': FloatDistribution(high=0.9, log=False, low=0.5, step=None)}, trial_id=203, value=None),\n",
       " FrozenTrial(number=204, state=1, values=[0.04178732057757493], datetime_start=datetime.datetime(2023, 12, 11, 17, 17, 52, 736816), datetime_complete=datetime.datetime(2023, 12, 11, 17, 18, 33, 45898), params={'topK': 42, 'alpha': 0.7165746921280711}, user_attrs={}, system_attrs={}, intermediate_values={}, distributions={'topK': IntDistribution(high=100, log=False, low=10, step=1), 'alpha': FloatDistribution(high=0.9, log=False, low=0.5, step=None)}, trial_id=204, value=None),\n",
       " FrozenTrial(number=205, state=1, values=[0.04238483266666754], datetime_start=datetime.datetime(2023, 12, 11, 17, 18, 33, 46905), datetime_complete=datetime.datetime(2023, 12, 11, 17, 19, 12, 948093), params={'topK': 39, 'alpha': 0.7485987144948241}, user_attrs={}, system_attrs={}, intermediate_values={}, distributions={'topK': IntDistribution(high=100, log=False, low=10, step=1), 'alpha': FloatDistribution(high=0.9, log=False, low=0.5, step=None)}, trial_id=205, value=None),\n",
       " FrozenTrial(number=206, state=1, values=[0.042342200273183396], datetime_start=datetime.datetime(2023, 12, 11, 17, 19, 12, 949095), datetime_complete=datetime.datetime(2023, 12, 11, 17, 19, 53, 216736), params={'topK': 38, 'alpha': 0.7489015973310209}, user_attrs={}, system_attrs={}, intermediate_values={}, distributions={'topK': IntDistribution(high=100, log=False, low=10, step=1), 'alpha': FloatDistribution(high=0.9, log=False, low=0.5, step=None)}, trial_id=206, value=None),\n",
       " FrozenTrial(number=207, state=1, values=[0.0423384332842331], datetime_start=datetime.datetime(2023, 12, 11, 17, 19, 53, 217737), datetime_complete=datetime.datetime(2023, 12, 11, 17, 20, 32, 991400), params={'topK': 35, 'alpha': 0.7311968024702313}, user_attrs={}, system_attrs={}, intermediate_values={}, distributions={'topK': IntDistribution(high=100, log=False, low=10, step=1), 'alpha': FloatDistribution(high=0.9, log=False, low=0.5, step=None)}, trial_id=207, value=None),\n",
       " FrozenTrial(number=208, state=1, values=[0.04181015222109813], datetime_start=datetime.datetime(2023, 12, 11, 17, 20, 32, 992393), datetime_complete=datetime.datetime(2023, 12, 11, 17, 21, 12, 394098), params={'topK': 32, 'alpha': 0.7574942128266178}, user_attrs={}, system_attrs={}, intermediate_values={}, distributions={'topK': IntDistribution(high=100, log=False, low=10, step=1), 'alpha': FloatDistribution(high=0.9, log=False, low=0.5, step=None)}, trial_id=208, value=None),\n",
       " FrozenTrial(number=209, state=1, values=[0.04238959264321055], datetime_start=datetime.datetime(2023, 12, 11, 17, 21, 12, 395113), datetime_complete=datetime.datetime(2023, 12, 11, 17, 21, 53, 40516), params={'topK': 40, 'alpha': 0.7452314997273366}, user_attrs={}, system_attrs={}, intermediate_values={}, distributions={'topK': IntDistribution(high=100, log=False, low=10, step=1), 'alpha': FloatDistribution(high=0.9, log=False, low=0.5, step=None)}, trial_id=209, value=None),\n",
       " FrozenTrial(number=210, state=1, values=[0.041490663928326656], datetime_start=datetime.datetime(2023, 12, 11, 17, 21, 53, 41515), datetime_complete=datetime.datetime(2023, 12, 11, 17, 22, 33, 281154), params={'topK': 39, 'alpha': 0.7723596113972218}, user_attrs={}, system_attrs={}, intermediate_values={}, distributions={'topK': IntDistribution(high=100, log=False, low=10, step=1), 'alpha': FloatDistribution(high=0.9, log=False, low=0.5, step=None)}, trial_id=210, value=None),\n",
       " FrozenTrial(number=211, state=1, values=[0.04233802515643512], datetime_start=datetime.datetime(2023, 12, 11, 17, 22, 33, 282154), datetime_complete=datetime.datetime(2023, 12, 11, 17, 23, 12, 985368), params={'topK': 37, 'alpha': 0.7446135112797476}, user_attrs={}, system_attrs={}, intermediate_values={}, distributions={'topK': IntDistribution(high=100, log=False, low=10, step=1), 'alpha': FloatDistribution(high=0.9, log=False, low=0.5, step=None)}, trial_id=211, value=None),\n",
       " FrozenTrial(number=212, state=1, values=[0.042379671714516086], datetime_start=datetime.datetime(2023, 12, 11, 17, 23, 12, 986369), datetime_complete=datetime.datetime(2023, 12, 11, 17, 23, 52, 773912), params={'topK': 40, 'alpha': 0.7498241938964034}, user_attrs={}, system_attrs={}, intermediate_values={}, distributions={'topK': IntDistribution(high=100, log=False, low=10, step=1), 'alpha': FloatDistribution(high=0.9, log=False, low=0.5, step=None)}, trial_id=212, value=None),\n",
       " FrozenTrial(number=213, state=1, values=[0.03344217516981817], datetime_start=datetime.datetime(2023, 12, 11, 17, 23, 52, 774919), datetime_complete=datetime.datetime(2023, 12, 11, 17, 24, 32, 739797), params={'topK': 40, 'alpha': 0.5052786928671054}, user_attrs={}, system_attrs={}, intermediate_values={}, distributions={'topK': IntDistribution(high=100, log=False, low=10, step=1), 'alpha': FloatDistribution(high=0.9, log=False, low=0.5, step=None)}, trial_id=213, value=None),\n",
       " FrozenTrial(number=214, state=1, values=[0.0423355445496175], datetime_start=datetime.datetime(2023, 12, 11, 17, 24, 32, 740797), datetime_complete=datetime.datetime(2023, 12, 11, 17, 25, 12, 850791), params={'topK': 42, 'alpha': 0.7522654792797874}, user_attrs={}, system_attrs={}, intermediate_values={}, distributions={'topK': IntDistribution(high=100, log=False, low=10, step=1), 'alpha': FloatDistribution(high=0.9, log=False, low=0.5, step=None)}, trial_id=214, value=None),\n",
       " FrozenTrial(number=215, state=1, values=[0.042359175781937514], datetime_start=datetime.datetime(2023, 12, 11, 17, 25, 12, 851795), datetime_complete=datetime.datetime(2023, 12, 11, 17, 25, 52, 916210), params={'topK': 39, 'alpha': 0.7360680942194824}, user_attrs={}, system_attrs={}, intermediate_values={}, distributions={'topK': IntDistribution(high=100, log=False, low=10, step=1), 'alpha': FloatDistribution(high=0.9, log=False, low=0.5, step=None)}, trial_id=215, value=None),\n",
       " FrozenTrial(number=216, state=1, values=[0.04180964642315285], datetime_start=datetime.datetime(2023, 12, 11, 17, 25, 52, 917210), datetime_complete=datetime.datetime(2023, 12, 11, 17, 26, 32, 916952), params={'topK': 36, 'alpha': 0.762692060176651}, user_attrs={}, system_attrs={}, intermediate_values={}, distributions={'topK': IntDistribution(high=100, log=False, low=10, step=1), 'alpha': FloatDistribution(high=0.9, log=False, low=0.5, step=None)}, trial_id=216, value=None),\n",
       " FrozenTrial(number=217, state=1, values=[0.04234473920447876], datetime_start=datetime.datetime(2023, 12, 11, 17, 26, 32, 918954), datetime_complete=datetime.datetime(2023, 12, 11, 17, 27, 13, 387155), params={'topK': 44, 'alpha': 0.7491767604568635}, user_attrs={}, system_attrs={}, intermediate_values={}, distributions={'topK': IntDistribution(high=100, log=False, low=10, step=1), 'alpha': FloatDistribution(high=0.9, log=False, low=0.5, step=None)}, trial_id=217, value=None),\n",
       " FrozenTrial(number=218, state=1, values=[0.038097883235949426], datetime_start=datetime.datetime(2023, 12, 11, 17, 27, 13, 388156), datetime_complete=datetime.datetime(2023, 12, 11, 17, 27, 53, 571503), params={'topK': 41, 'alpha': 0.6488295871860772}, user_attrs={}, system_attrs={}, intermediate_values={}, distributions={'topK': IntDistribution(high=100, log=False, low=10, step=1), 'alpha': FloatDistribution(high=0.9, log=False, low=0.5, step=None)}, trial_id=218, value=None),\n",
       " FrozenTrial(number=219, state=1, values=[0.04235157001729186], datetime_start=datetime.datetime(2023, 12, 11, 17, 27, 53, 572506), datetime_complete=datetime.datetime(2023, 12, 11, 17, 28, 32, 960476), params={'topK': 38, 'alpha': 0.742264492167618}, user_attrs={}, system_attrs={}, intermediate_values={}, distributions={'topK': IntDistribution(high=100, log=False, low=10, step=1), 'alpha': FloatDistribution(high=0.9, log=False, low=0.5, step=None)}, trial_id=219, value=None),\n",
       " FrozenTrial(number=220, state=1, values=[0.04233810349755928], datetime_start=datetime.datetime(2023, 12, 11, 17, 28, 32, 961477), datetime_complete=datetime.datetime(2023, 12, 11, 17, 29, 11, 878541), params={'topK': 33, 'alpha': 0.7310627249367107}, user_attrs={}, system_attrs={}, intermediate_values={}, distributions={'topK': IntDistribution(high=100, log=False, low=10, step=1), 'alpha': FloatDistribution(high=0.9, log=False, low=0.5, step=None)}, trial_id=220, value=None),\n",
       " FrozenTrial(number=221, state=1, values=[0.04238934859692214], datetime_start=datetime.datetime(2023, 12, 11, 17, 29, 11, 879544), datetime_complete=datetime.datetime(2023, 12, 11, 17, 29, 51, 837739), params={'topK': 40, 'alpha': 0.7421230768626054}, user_attrs={}, system_attrs={}, intermediate_values={}, distributions={'topK': IntDistribution(high=100, log=False, low=10, step=1), 'alpha': FloatDistribution(high=0.9, log=False, low=0.5, step=None)}, trial_id=221, value=None),\n",
       " FrozenTrial(number=222, state=1, values=[0.04236921562088338], datetime_start=datetime.datetime(2023, 12, 11, 17, 29, 51, 838739), datetime_complete=datetime.datetime(2023, 12, 11, 17, 30, 32, 970085), params={'topK': 40, 'alpha': 0.7404267563027328}, user_attrs={}, system_attrs={}, intermediate_values={}, distributions={'topK': IntDistribution(high=100, log=False, low=10, step=1), 'alpha': FloatDistribution(high=0.9, log=False, low=0.5, step=None)}, trial_id=222, value=None),\n",
       " FrozenTrial(number=223, state=1, values=[0.04232378403009387], datetime_start=datetime.datetime(2023, 12, 11, 17, 30, 32, 972083), datetime_complete=datetime.datetime(2023, 12, 11, 17, 31, 13, 399221), params={'topK': 42, 'alpha': 0.7488242563076574}, user_attrs={}, system_attrs={}, intermediate_values={}, distributions={'topK': IntDistribution(high=100, log=False, low=10, step=1), 'alpha': FloatDistribution(high=0.9, log=False, low=0.5, step=None)}, trial_id=223, value=None),\n",
       " FrozenTrial(number=224, state=1, values=[0.04217134318689463], datetime_start=datetime.datetime(2023, 12, 11, 17, 31, 13, 400223), datetime_complete=datetime.datetime(2023, 12, 11, 17, 31, 54, 241384), params={'topK': 36, 'alpha': 0.7554531704590093}, user_attrs={}, system_attrs={}, intermediate_values={}, distributions={'topK': IntDistribution(high=100, log=False, low=10, step=1), 'alpha': FloatDistribution(high=0.9, log=False, low=0.5, step=None)}, trial_id=224, value=None),\n",
       " FrozenTrial(number=225, state=1, values=[0.04212426728923751], datetime_start=datetime.datetime(2023, 12, 11, 17, 31, 54, 242384), datetime_complete=datetime.datetime(2023, 12, 11, 17, 32, 34, 229542), params={'topK': 39, 'alpha': 0.7255294217236156}, user_attrs={}, system_attrs={}, intermediate_values={}, distributions={'topK': IntDistribution(high=100, log=False, low=10, step=1), 'alpha': FloatDistribution(high=0.9, log=False, low=0.5, step=None)}, trial_id=225, value=None),\n",
       " FrozenTrial(number=226, state=1, values=[0.04233446582531122], datetime_start=datetime.datetime(2023, 12, 11, 17, 32, 34, 230542), datetime_complete=datetime.datetime(2023, 12, 11, 17, 33, 13, 878160), params={'topK': 37, 'alpha': 0.7346794181834702}, user_attrs={}, system_attrs={}, intermediate_values={}, distributions={'topK': IntDistribution(high=100, log=False, low=10, step=1), 'alpha': FloatDistribution(high=0.9, log=False, low=0.5, step=None)}, trial_id=226, value=None),\n",
       " FrozenTrial(number=227, state=1, values=[0.042367445561713235], datetime_start=datetime.datetime(2023, 12, 11, 17, 33, 13, 879160), datetime_complete=datetime.datetime(2023, 12, 11, 17, 33, 53, 982711), params={'topK': 41, 'alpha': 0.7432014431298426}, user_attrs={}, system_attrs={}, intermediate_values={}, distributions={'topK': IntDistribution(high=100, log=False, low=10, step=1), 'alpha': FloatDistribution(high=0.9, log=False, low=0.5, step=None)}, trial_id=227, value=None),\n",
       " FrozenTrial(number=228, state=1, values=[0.04228988408325354], datetime_start=datetime.datetime(2023, 12, 11, 17, 33, 53, 984713), datetime_complete=datetime.datetime(2023, 12, 11, 17, 34, 34, 228350), params={'topK': 44, 'alpha': 0.7608229699928101}, user_attrs={}, system_attrs={}, intermediate_values={}, distributions={'topK': IntDistribution(high=100, log=False, low=10, step=1), 'alpha': FloatDistribution(high=0.9, log=False, low=0.5, step=None)}, trial_id=228, value=None),\n",
       " FrozenTrial(number=229, state=1, values=[0.03561957622746187], datetime_start=datetime.datetime(2023, 12, 11, 17, 34, 34, 229350), datetime_complete=datetime.datetime(2023, 12, 11, 17, 35, 13, 784582), params={'topK': 38, 'alpha': 0.5821676762939343}, user_attrs={}, system_attrs={}, intermediate_values={}, distributions={'topK': IntDistribution(high=100, log=False, low=10, step=1), 'alpha': FloatDistribution(high=0.9, log=False, low=0.5, step=None)}, trial_id=229, value=None),\n",
       " FrozenTrial(number=230, state=1, values=[0.04192855294160056], datetime_start=datetime.datetime(2023, 12, 11, 17, 35, 13, 785585), datetime_complete=datetime.datetime(2023, 12, 11, 17, 35, 53, 770762), params={'topK': 40, 'alpha': 0.7225332127192143}, user_attrs={}, system_attrs={}, intermediate_values={}, distributions={'topK': IntDistribution(high=100, log=False, low=10, step=1), 'alpha': FloatDistribution(high=0.9, log=False, low=0.5, step=None)}, trial_id=230, value=None),\n",
       " FrozenTrial(number=231, state=1, values=[0.04237943548739744], datetime_start=datetime.datetime(2023, 12, 11, 17, 35, 53, 771763), datetime_complete=datetime.datetime(2023, 12, 11, 17, 36, 33, 408293), params={'topK': 40, 'alpha': 0.7390080536094582}, user_attrs={}, system_attrs={}, intermediate_values={}, distributions={'topK': IntDistribution(high=100, log=False, low=10, step=1), 'alpha': FloatDistribution(high=0.9, log=False, low=0.5, step=None)}, trial_id=231, value=None),\n",
       " FrozenTrial(number=232, state=1, values=[0.04236838381599461], datetime_start=datetime.datetime(2023, 12, 11, 17, 36, 33, 410293), datetime_complete=datetime.datetime(2023, 12, 11, 17, 37, 13, 697236), params={'topK': 42, 'alpha': 0.7373773065407154}, user_attrs={}, system_attrs={}, intermediate_values={}, distributions={'topK': IntDistribution(high=100, log=False, low=10, step=1), 'alpha': FloatDistribution(high=0.9, log=False, low=0.5, step=None)}, trial_id=232, value=None),\n",
       " FrozenTrial(number=233, state=1, values=[0.042385213328101634], datetime_start=datetime.datetime(2023, 12, 11, 17, 37, 13, 698233), datetime_complete=datetime.datetime(2023, 12, 11, 17, 37, 53, 398592), params={'topK': 39, 'alpha': 0.749308256963588}, user_attrs={}, system_attrs={}, intermediate_values={}, distributions={'topK': IntDistribution(high=100, log=False, low=10, step=1), 'alpha': FloatDistribution(high=0.9, log=False, low=0.5, step=None)}, trial_id=233, value=None),\n",
       " FrozenTrial(number=234, state=1, values=[0.04229534435455767], datetime_start=datetime.datetime(2023, 12, 11, 17, 37, 53, 399592), datetime_complete=datetime.datetime(2023, 12, 11, 17, 38, 33, 539107), params={'topK': 37, 'alpha': 0.7497714558879538}, user_attrs={}, system_attrs={}, intermediate_values={}, distributions={'topK': IntDistribution(high=100, log=False, low=10, step=1), 'alpha': FloatDistribution(high=0.9, log=False, low=0.5, step=None)}, trial_id=234, value=None),\n",
       " FrozenTrial(number=235, state=1, values=[0.04230959435535734], datetime_start=datetime.datetime(2023, 12, 11, 17, 38, 33, 540104), datetime_complete=datetime.datetime(2023, 12, 11, 17, 39, 12, 608162), params={'topK': 35, 'alpha': 0.7465981004302009}, user_attrs={}, system_attrs={}, intermediate_values={}, distributions={'topK': IntDistribution(high=100, log=False, low=10, step=1), 'alpha': FloatDistribution(high=0.9, log=False, low=0.5, step=None)}, trial_id=235, value=None),\n",
       " FrozenTrial(number=236, state=1, values=[0.04226005477779394], datetime_start=datetime.datetime(2023, 12, 11, 17, 39, 12, 609162), datetime_complete=datetime.datetime(2023, 12, 11, 17, 39, 52, 339578), params={'topK': 39, 'alpha': 0.7312795176552127}, user_attrs={}, system_attrs={}, intermediate_values={}, distributions={'topK': IntDistribution(high=100, log=False, low=10, step=1), 'alpha': FloatDistribution(high=0.9, log=False, low=0.5, step=None)}, trial_id=236, value=None),\n",
       " FrozenTrial(number=237, state=1, values=[0.0422949189417843], datetime_start=datetime.datetime(2023, 12, 11, 17, 39, 52, 340578), datetime_complete=datetime.datetime(2023, 12, 11, 17, 40, 31, 835905), params={'topK': 38, 'alpha': 0.7556747396043546}, user_attrs={}, system_attrs={}, intermediate_values={}, distributions={'topK': IntDistribution(high=100, log=False, low=10, step=1), 'alpha': FloatDistribution(high=0.9, log=False, low=0.5, step=None)}, trial_id=237, value=None),\n",
       " FrozenTrial(number=238, state=1, values=[0.042328179381400634], datetime_start=datetime.datetime(2023, 12, 11, 17, 40, 31, 836916), datetime_complete=datetime.datetime(2023, 12, 11, 17, 41, 12, 233211), params={'topK': 43, 'alpha': 0.7428792080659341}, user_attrs={}, system_attrs={}, intermediate_values={}, distributions={'topK': IntDistribution(high=100, log=False, low=10, step=1), 'alpha': FloatDistribution(high=0.9, log=False, low=0.5, step=None)}, trial_id=238, value=None),\n",
       " FrozenTrial(number=239, state=1, values=[0.0420223870811026], datetime_start=datetime.datetime(2023, 12, 11, 17, 41, 12, 234215), datetime_complete=datetime.datetime(2023, 12, 11, 17, 41, 51, 953406), params={'topK': 40, 'alpha': 0.7662173698526442}, user_attrs={}, system_attrs={}, intermediate_values={}, distributions={'topK': IntDistribution(high=100, log=False, low=10, step=1), 'alpha': FloatDistribution(high=0.9, log=False, low=0.5, step=None)}, trial_id=239, value=None),\n",
       " FrozenTrial(number=240, state=1, values=[0.04228700921526012], datetime_start=datetime.datetime(2023, 12, 11, 17, 41, 51, 954404), datetime_complete=datetime.datetime(2023, 12, 11, 17, 42, 31, 507479), params={'topK': 36, 'alpha': 0.7510143177962041}, user_attrs={}, system_attrs={}, intermediate_values={}, distributions={'topK': IntDistribution(high=100, log=False, low=10, step=1), 'alpha': FloatDistribution(high=0.9, log=False, low=0.5, step=None)}, trial_id=240, value=None),\n",
       " FrozenTrial(number=241, state=1, values=[0.03970252914382446], datetime_start=datetime.datetime(2023, 12, 11, 17, 42, 31, 508480), datetime_complete=datetime.datetime(2023, 12, 11, 17, 43, 7, 973021), params={'topK': 13, 'alpha': 0.7371947284000069}, user_attrs={}, system_attrs={}, intermediate_values={}, distributions={'topK': IntDistribution(high=100, log=False, low=10, step=1), 'alpha': FloatDistribution(high=0.9, log=False, low=0.5, step=None)}, trial_id=241, value=None),\n",
       " FrozenTrial(number=242, state=1, values=[0.042358815605054057], datetime_start=datetime.datetime(2023, 12, 11, 17, 43, 7, 974021), datetime_complete=datetime.datetime(2023, 12, 11, 17, 43, 48, 173381), params={'topK': 41, 'alpha': 0.7416366957347658}, user_attrs={}, system_attrs={}, intermediate_values={}, distributions={'topK': IntDistribution(high=100, log=False, low=10, step=1), 'alpha': FloatDistribution(high=0.9, log=False, low=0.5, step=None)}, trial_id=242, value=None),\n",
       " FrozenTrial(number=243, state=1, values=[0.04056056287416398], datetime_start=datetime.datetime(2023, 12, 11, 17, 43, 48, 174379), datetime_complete=datetime.datetime(2023, 12, 11, 17, 44, 28, 14547), params={'topK': 39, 'alpha': 0.6914845101997559}, user_attrs={}, system_attrs={}, intermediate_values={}, distributions={'topK': IntDistribution(high=100, log=False, low=10, step=1), 'alpha': FloatDistribution(high=0.9, log=False, low=0.5, step=None)}, trial_id=243, value=None),\n",
       " FrozenTrial(number=244, state=1, values=[0.027498171199898055], datetime_start=datetime.datetime(2023, 12, 11, 17, 44, 28, 15548), datetime_complete=datetime.datetime(2023, 12, 11, 17, 45, 7, 742463), params={'topK': 40, 'alpha': 0.8994863055793184}, user_attrs={}, system_attrs={}, intermediate_values={}, distributions={'topK': IntDistribution(high=100, log=False, low=10, step=1), 'alpha': FloatDistribution(high=0.9, log=False, low=0.5, step=None)}, trial_id=244, value=None),\n",
       " FrozenTrial(number=245, state=1, values=[0.042362415394130874], datetime_start=datetime.datetime(2023, 12, 11, 17, 45, 7, 743466), datetime_complete=datetime.datetime(2023, 12, 11, 17, 45, 47, 352300), params={'topK': 38, 'alpha': 0.7311328105503915}, user_attrs={}, system_attrs={}, intermediate_values={}, distributions={'topK': IntDistribution(high=100, log=False, low=10, step=1), 'alpha': FloatDistribution(high=0.9, log=False, low=0.5, step=None)}, trial_id=245, value=None),\n",
       " FrozenTrial(number=246, state=1, values=[0.04234467663833893], datetime_start=datetime.datetime(2023, 12, 11, 17, 45, 47, 354304), datetime_complete=datetime.datetime(2023, 12, 11, 17, 46, 27, 643049), params={'topK': 42, 'alpha': 0.7475890319703622}, user_attrs={}, system_attrs={}, intermediate_values={}, distributions={'topK': IntDistribution(high=100, log=False, low=10, step=1), 'alpha': FloatDistribution(high=0.9, log=False, low=0.5, step=None)}, trial_id=246, value=None),\n",
       " FrozenTrial(number=247, state=1, values=[0.029300146049295313], datetime_start=datetime.datetime(2023, 12, 11, 17, 46, 27, 644050), datetime_complete=datetime.datetime(2023, 12, 11, 17, 47, 7, 99477), params={'topK': 37, 'alpha': 0.8832165250186498}, user_attrs={}, system_attrs={}, intermediate_values={}, distributions={'topK': IntDistribution(high=100, log=False, low=10, step=1), 'alpha': FloatDistribution(high=0.9, log=False, low=0.5, step=None)}, trial_id=247, value=None),\n",
       " FrozenTrial(number=248, state=1, values=[0.04233520338893417], datetime_start=datetime.datetime(2023, 12, 11, 17, 47, 7, 100477), datetime_complete=datetime.datetime(2023, 12, 11, 17, 47, 46, 798779), params={'topK': 40, 'alpha': 0.7377805798739935}, user_attrs={}, system_attrs={}, intermediate_values={}, distributions={'topK': IntDistribution(high=100, log=False, low=10, step=1), 'alpha': FloatDistribution(high=0.9, log=False, low=0.5, step=None)}, trial_id=248, value=None),\n",
       " FrozenTrial(number=249, state=1, values=[0.03531855757748065], datetime_start=datetime.datetime(2023, 12, 11, 17, 47, 46, 799779), datetime_complete=datetime.datetime(2023, 12, 11, 17, 48, 25, 642034), params={'topK': 34, 'alpha': 0.8350602839331618}, user_attrs={}, system_attrs={}, intermediate_values={}, distributions={'topK': IntDistribution(high=100, log=False, low=10, step=1), 'alpha': FloatDistribution(high=0.9, log=False, low=0.5, step=None)}, trial_id=249, value=None),\n",
       " FrozenTrial(number=250, state=1, values=[0.042114261519222096], datetime_start=datetime.datetime(2023, 12, 11, 17, 48, 25, 643034), datetime_complete=datetime.datetime(2023, 12, 11, 17, 49, 5, 196694), params={'topK': 38, 'alpha': 0.7247317111062771}, user_attrs={}, system_attrs={}, intermediate_values={}, distributions={'topK': IntDistribution(high=100, log=False, low=10, step=1), 'alpha': FloatDistribution(high=0.9, log=False, low=0.5, step=None)}, trial_id=250, value=None),\n",
       " FrozenTrial(number=251, state=1, values=[0.041925405467666786], datetime_start=datetime.datetime(2023, 12, 11, 17, 49, 5, 197694), datetime_complete=datetime.datetime(2023, 12, 11, 17, 49, 49, 889533), params={'topK': 79, 'alpha': 0.7553501551283258}, user_attrs={}, system_attrs={}, intermediate_values={}, distributions={'topK': IntDistribution(high=100, log=False, low=10, step=1), 'alpha': FloatDistribution(high=0.9, log=False, low=0.5, step=None)}, trial_id=251, value=None),\n",
       " FrozenTrial(number=252, state=1, values=[0.04230298608448927], datetime_start=datetime.datetime(2023, 12, 11, 17, 49, 49, 891536), datetime_complete=datetime.datetime(2023, 12, 11, 17, 50, 30, 112768), params={'topK': 45, 'alpha': 0.7435714093088966}, user_attrs={}, system_attrs={}, intermediate_values={}, distributions={'topK': IntDistribution(high=100, log=False, low=10, step=1), 'alpha': FloatDistribution(high=0.9, log=False, low=0.5, step=None)}, trial_id=252, value=None),\n",
       " FrozenTrial(number=253, state=1, values=[0.042232421100931505], datetime_start=datetime.datetime(2023, 12, 11, 17, 50, 30, 114776), datetime_complete=datetime.datetime(2023, 12, 11, 17, 51, 10, 274511), params={'topK': 42, 'alpha': 0.7320848806604768}, user_attrs={}, system_attrs={}, intermediate_values={}, distributions={'topK': IntDistribution(high=100, log=False, low=10, step=1), 'alpha': FloatDistribution(high=0.9, log=False, low=0.5, step=None)}, trial_id=253, value=None),\n",
       " FrozenTrial(number=254, state=1, values=[0.03943957373858279], datetime_start=datetime.datetime(2023, 12, 11, 17, 51, 10, 275509), datetime_complete=datetime.datetime(2023, 12, 11, 17, 51, 50, 62151), params={'topK': 40, 'alpha': 0.6709222161218557}, user_attrs={}, system_attrs={}, intermediate_values={}, distributions={'topK': IntDistribution(high=100, log=False, low=10, step=1), 'alpha': FloatDistribution(high=0.9, log=False, low=0.5, step=None)}, trial_id=254, value=None),\n",
       " FrozenTrial(number=255, state=1, values=[0.04225119917807493], datetime_start=datetime.datetime(2023, 12, 11, 17, 51, 50, 63152), datetime_complete=datetime.datetime(2023, 12, 11, 17, 52, 32, 557312), params={'topK': 60, 'alpha': 0.750780685309101}, user_attrs={}, system_attrs={}, intermediate_values={}, distributions={'topK': IntDistribution(high=100, log=False, low=10, step=1), 'alpha': FloatDistribution(high=0.9, log=False, low=0.5, step=None)}, trial_id=255, value=None),\n",
       " FrozenTrial(number=256, state=1, values=[0.03739574091981773], datetime_start=datetime.datetime(2023, 12, 11, 17, 52, 32, 558306), datetime_complete=datetime.datetime(2023, 12, 11, 17, 53, 11, 980220), params={'topK': 36, 'alpha': 0.6257406232347557}, user_attrs={}, system_attrs={}, intermediate_values={}, distributions={'topK': IntDistribution(high=100, log=False, low=10, step=1), 'alpha': FloatDistribution(high=0.9, log=False, low=0.5, step=None)}, trial_id=256, value=None),\n",
       " FrozenTrial(number=257, state=1, values=[0.04225918995381004], datetime_start=datetime.datetime(2023, 12, 11, 17, 53, 11, 981217), datetime_complete=datetime.datetime(2023, 12, 11, 17, 53, 52, 415228), params={'topK': 43, 'alpha': 0.7594183015651587}, user_attrs={}, system_attrs={}, intermediate_values={}, distributions={'topK': IntDistribution(high=100, log=False, low=10, step=1), 'alpha': FloatDistribution(high=0.9, log=False, low=0.5, step=None)}, trial_id=257, value=None),\n",
       " FrozenTrial(number=258, state=1, values=[0.042338737719325455], datetime_start=datetime.datetime(2023, 12, 11, 17, 53, 52, 416235), datetime_complete=datetime.datetime(2023, 12, 11, 17, 54, 32, 306303), params={'topK': 39, 'alpha': 0.738397168404216}, user_attrs={}, system_attrs={}, intermediate_values={}, distributions={'topK': IntDistribution(high=100, log=False, low=10, step=1), 'alpha': FloatDistribution(high=0.9, log=False, low=0.5, step=None)}, trial_id=258, value=None),\n",
       " FrozenTrial(number=259, state=1, values=[0.04160033185703437], datetime_start=datetime.datetime(2023, 12, 11, 17, 54, 32, 307303), datetime_complete=datetime.datetime(2023, 12, 11, 17, 55, 12, 337368), params={'topK': 41, 'alpha': 0.7111147428922038}, user_attrs={}, system_attrs={}, intermediate_values={}, distributions={'topK': IntDistribution(high=100, log=False, low=10, step=1), 'alpha': FloatDistribution(high=0.9, log=False, low=0.5, step=None)}, trial_id=259, value=None),\n",
       " FrozenTrial(number=260, state=1, values=[0.04200841886588511], datetime_start=datetime.datetime(2023, 12, 11, 17, 55, 12, 338369), datetime_complete=datetime.datetime(2023, 12, 11, 17, 55, 51, 889980), params={'topK': 37, 'alpha': 0.7217407555221022}, user_attrs={}, system_attrs={}, intermediate_values={}, distributions={'topK': IntDistribution(high=100, log=False, low=10, step=1), 'alpha': FloatDistribution(high=0.9, log=False, low=0.5, step=None)}, trial_id=260, value=None),\n",
       " FrozenTrial(number=261, state=1, values=[0.042283767363313074], datetime_start=datetime.datetime(2023, 12, 11, 17, 55, 51, 890976), datetime_complete=datetime.datetime(2023, 12, 11, 17, 56, 31, 149658), params={'topK': 35, 'alpha': 0.7454432611480659}, user_attrs={}, system_attrs={}, intermediate_values={}, distributions={'topK': IntDistribution(high=100, log=False, low=10, step=1), 'alpha': FloatDistribution(high=0.9, log=False, low=0.5, step=None)}, trial_id=261, value=None),\n",
       " FrozenTrial(number=262, state=1, values=[0.04226278611573711], datetime_start=datetime.datetime(2023, 12, 11, 17, 56, 31, 150659), datetime_complete=datetime.datetime(2023, 12, 11, 17, 57, 10, 872315), params={'topK': 39, 'alpha': 0.7310933501583503}, user_attrs={}, system_attrs={}, intermediate_values={}, distributions={'topK': IntDistribution(high=100, log=False, low=10, step=1), 'alpha': FloatDistribution(high=0.9, log=False, low=0.5, step=None)}, trial_id=262, value=None),\n",
       " FrozenTrial(number=263, state=1, values=[0.04235629449555981], datetime_start=datetime.datetime(2023, 12, 11, 17, 57, 10, 873313), datetime_complete=datetime.datetime(2023, 12, 11, 17, 57, 50, 880430), params={'topK': 41, 'alpha': 0.7524790548841517}, user_attrs={}, system_attrs={}, intermediate_values={}, distributions={'topK': IntDistribution(high=100, log=False, low=10, step=1), 'alpha': FloatDistribution(high=0.9, log=False, low=0.5, step=None)}, trial_id=263, value=None),\n",
       " FrozenTrial(number=264, state=1, values=[0.04241321017300737], datetime_start=datetime.datetime(2023, 12, 11, 17, 57, 50, 881428), datetime_complete=datetime.datetime(2023, 12, 11, 17, 58, 30, 288730), params={'topK': 38, 'alpha': 0.7377386653256729}, user_attrs={}, system_attrs={}, intermediate_values={}, distributions={'topK': IntDistribution(high=100, log=False, low=10, step=1), 'alpha': FloatDistribution(high=0.9, log=False, low=0.5, step=None)}, trial_id=264, value=None),\n",
       " FrozenTrial(number=265, state=1, values=[0.04040839217339693], datetime_start=datetime.datetime(2023, 12, 11, 17, 58, 30, 290725), datetime_complete=datetime.datetime(2023, 12, 11, 17, 59, 9, 361641), params={'topK': 34, 'alpha': 0.7828318338700554}, user_attrs={}, system_attrs={}, intermediate_values={}, distributions={'topK': IntDistribution(high=100, log=False, low=10, step=1), 'alpha': FloatDistribution(high=0.9, log=False, low=0.5, step=None)}, trial_id=265, value=None),\n",
       " FrozenTrial(number=266, state=1, values=[0.04163620029531678], datetime_start=datetime.datetime(2023, 12, 11, 17, 59, 9, 362641), datetime_complete=datetime.datetime(2023, 12, 11, 17, 59, 49, 148463), params={'topK': 37, 'alpha': 0.766541458085316}, user_attrs={}, system_attrs={}, intermediate_values={}, distributions={'topK': IntDistribution(high=100, log=False, low=10, step=1), 'alpha': FloatDistribution(high=0.9, log=False, low=0.5, step=None)}, trial_id=266, value=None),\n",
       " FrozenTrial(number=267, state=1, values=[0.04224605534109136], datetime_start=datetime.datetime(2023, 12, 11, 17, 59, 49, 149463), datetime_complete=datetime.datetime(2023, 12, 11, 18, 0, 28, 557171), params={'topK': 38, 'alpha': 0.7278085985793714}, user_attrs={}, system_attrs={}, intermediate_values={}, distributions={'topK': IntDistribution(high=100, log=False, low=10, step=1), 'alpha': FloatDistribution(high=0.9, log=False, low=0.5, step=None)}, trial_id=267, value=None),\n",
       " FrozenTrial(number=268, state=1, values=[0.042316551544600206], datetime_start=datetime.datetime(2023, 12, 11, 18, 0, 28, 558171), datetime_complete=datetime.datetime(2023, 12, 11, 18, 1, 9, 907998), params={'topK': 43, 'alpha': 0.7441514614791619}, user_attrs={}, system_attrs={}, intermediate_values={}, distributions={'topK': IntDistribution(high=100, log=False, low=10, step=1), 'alpha': FloatDistribution(high=0.9, log=False, low=0.5, step=None)}, trial_id=268, value=None),\n",
       " FrozenTrial(number=269, state=1, values=[0.042075776759651184], datetime_start=datetime.datetime(2023, 12, 11, 18, 1, 9, 910003), datetime_complete=datetime.datetime(2023, 12, 11, 18, 1, 49, 669909), params={'topK': 36, 'alpha': 0.7586259581213494}, user_attrs={}, system_attrs={}, intermediate_values={}, distributions={'topK': IntDistribution(high=100, log=False, low=10, step=1), 'alpha': FloatDistribution(high=0.9, log=False, low=0.5, step=None)}, trial_id=269, value=None),\n",
       " FrozenTrial(number=270, state=1, values=[0.04234745612822504], datetime_start=datetime.datetime(2023, 12, 11, 18, 1, 49, 670907), datetime_complete=datetime.datetime(2023, 12, 11, 18, 2, 29, 158534), params={'topK': 39, 'alpha': 0.7364333660084493}, user_attrs={}, system_attrs={}, intermediate_values={}, distributions={'topK': IntDistribution(high=100, log=False, low=10, step=1), 'alpha': FloatDistribution(high=0.9, log=False, low=0.5, step=None)}, trial_id=270, value=None),\n",
       " FrozenTrial(number=271, state=1, values=[0.04236655687237454], datetime_start=datetime.datetime(2023, 12, 11, 18, 2, 29, 159534), datetime_complete=datetime.datetime(2023, 12, 11, 18, 3, 9, 137254), params={'topK': 41, 'alpha': 0.7459736783423396}, user_attrs={}, system_attrs={}, intermediate_values={}, distributions={'topK': IntDistribution(high=100, log=False, low=10, step=1), 'alpha': FloatDistribution(high=0.9, log=False, low=0.5, step=None)}, trial_id=271, value=None),\n",
       " FrozenTrial(number=272, state=1, values=[0.041962163969671284], datetime_start=datetime.datetime(2023, 12, 11, 18, 3, 9, 138254), datetime_complete=datetime.datetime(2023, 12, 11, 18, 3, 48, 267231), params={'topK': 35, 'alpha': 0.7175436796910061}, user_attrs={}, system_attrs={}, intermediate_values={}, distributions={'topK': IntDistribution(high=100, log=False, low=10, step=1), 'alpha': FloatDistribution(high=0.9, log=False, low=0.5, step=None)}, trial_id=272, value=None),\n",
       " FrozenTrial(number=273, state=1, values=[0.042307667106197294], datetime_start=datetime.datetime(2023, 12, 11, 18, 3, 48, 268236), datetime_complete=datetime.datetime(2023, 12, 11, 18, 4, 28, 542877), params={'topK': 45, 'alpha': 0.752647919563086}, user_attrs={}, system_attrs={}, intermediate_values={}, distributions={'topK': IntDistribution(high=100, log=False, low=10, step=1), 'alpha': FloatDistribution(high=0.9, log=False, low=0.5, step=None)}, trial_id=273, value=None),\n",
       " FrozenTrial(number=274, state=1, values=[0.04234200704266559], datetime_start=datetime.datetime(2023, 12, 11, 18, 4, 28, 543880), datetime_complete=datetime.datetime(2023, 12, 11, 18, 5, 7, 604742), params={'topK': 33, 'alpha': 0.7326252878346717}, user_attrs={}, system_attrs={}, intermediate_values={}, distributions={'topK': IntDistribution(high=100, log=False, low=10, step=1), 'alpha': FloatDistribution(high=0.9, log=False, low=0.5, step=None)}, trial_id=274, value=None),\n",
       " FrozenTrial(number=275, state=1, values=[0.04235218799811493], datetime_start=datetime.datetime(2023, 12, 11, 18, 5, 7, 605742), datetime_complete=datetime.datetime(2023, 12, 11, 18, 5, 47, 461889), params={'topK': 38, 'alpha': 0.740167719445126}, user_attrs={}, system_attrs={}, intermediate_values={}, distributions={'topK': IntDistribution(high=100, log=False, low=10, step=1), 'alpha': FloatDistribution(high=0.9, log=False, low=0.5, step=None)}, trial_id=275, value=None),\n",
       " FrozenTrial(number=276, state=1, values=[0.040182238079796206], datetime_start=datetime.datetime(2023, 12, 11, 18, 5, 47, 462892), datetime_complete=datetime.datetime(2023, 12, 11, 18, 6, 27, 510798), params={'topK': 42, 'alpha': 0.7958834529293379}, user_attrs={}, system_attrs={}, intermediate_values={}, distributions={'topK': IntDistribution(high=100, log=False, low=10, step=1), 'alpha': FloatDistribution(high=0.9, log=False, low=0.5, step=None)}, trial_id=276, value=None),\n",
       " FrozenTrial(number=277, state=1, values=[0.042205183148507686], datetime_start=datetime.datetime(2023, 12, 11, 18, 6, 27, 512791), datetime_complete=datetime.datetime(2023, 12, 11, 18, 7, 7, 627124), params={'topK': 37, 'alpha': 0.724685833656543}, user_attrs={}, system_attrs={}, intermediate_values={}, distributions={'topK': IntDistribution(high=100, log=False, low=10, step=1), 'alpha': FloatDistribution(high=0.9, log=False, low=0.5, step=None)}, trial_id=277, value=None),\n",
       " FrozenTrial(number=278, state=1, values=[0.042098822335077925], datetime_start=datetime.datetime(2023, 12, 11, 18, 7, 7, 628124), datetime_complete=datetime.datetime(2023, 12, 11, 18, 7, 47, 505401), params={'topK': 40, 'alpha': 0.7640937742987576}, user_attrs={}, system_attrs={}, intermediate_values={}, distributions={'topK': IntDistribution(high=100, log=False, low=10, step=1), 'alpha': FloatDistribution(high=0.9, log=False, low=0.5, step=None)}, trial_id=278, value=None),\n",
       " FrozenTrial(number=279, state=1, values=[0.04237900362598348], datetime_start=datetime.datetime(2023, 12, 11, 18, 7, 47, 506919), datetime_complete=datetime.datetime(2023, 12, 11, 18, 8, 27, 380750), params={'topK': 39, 'alpha': 0.7494872697511002}, user_attrs={}, system_attrs={}, intermediate_values={}, distributions={'topK': IntDistribution(high=100, log=False, low=10, step=1), 'alpha': FloatDistribution(high=0.9, log=False, low=0.5, step=None)}, trial_id=279, value=None),\n",
       " FrozenTrial(number=280, state=1, values=[0.041547264468068834], datetime_start=datetime.datetime(2023, 12, 11, 18, 8, 27, 382754), datetime_complete=datetime.datetime(2023, 12, 11, 18, 9, 7, 654300), params={'topK': 43, 'alpha': 0.777832467152899}, user_attrs={}, system_attrs={}, intermediate_values={}, distributions={'topK': IntDistribution(high=100, log=False, low=10, step=1), 'alpha': FloatDistribution(high=0.9, log=False, low=0.5, step=None)}, trial_id=280, value=None),\n",
       " FrozenTrial(number=281, state=1, values=[0.04230252499117738], datetime_start=datetime.datetime(2023, 12, 11, 18, 9, 7, 655309), datetime_complete=datetime.datetime(2023, 12, 11, 18, 9, 47, 410741), params={'topK': 40, 'alpha': 0.7554501623907015}, user_attrs={}, system_attrs={}, intermediate_values={}, distributions={'topK': IntDistribution(high=100, log=False, low=10, step=1), 'alpha': FloatDistribution(high=0.9, log=False, low=0.5, step=None)}, trial_id=281, value=None),\n",
       " FrozenTrial(number=282, state=1, values=[0.04230850398521019], datetime_start=datetime.datetime(2023, 12, 11, 18, 9, 47, 411743), datetime_complete=datetime.datetime(2023, 12, 11, 18, 10, 27, 75481), params={'topK': 36, 'alpha': 0.748168971284303}, user_attrs={}, system_attrs={}, intermediate_values={}, distributions={'topK': IntDistribution(high=100, log=False, low=10, step=1), 'alpha': FloatDistribution(high=0.9, log=False, low=0.5, step=None)}, trial_id=282, value=None),\n",
       " FrozenTrial(number=283, state=1, values=[0.03462439421432995], datetime_start=datetime.datetime(2023, 12, 11, 18, 10, 27, 76480), datetime_complete=datetime.datetime(2023, 12, 11, 18, 11, 6, 773013), params={'topK': 39, 'alpha': 0.5508480966235577}, user_attrs={}, system_attrs={}, intermediate_values={}, distributions={'topK': IntDistribution(high=100, log=False, low=10, step=1), 'alpha': FloatDistribution(high=0.9, log=False, low=0.5, step=None)}, trial_id=283, value=None),\n",
       " FrozenTrial(number=284, state=1, values=[0.04096632249378885], datetime_start=datetime.datetime(2023, 12, 11, 18, 11, 6, 774013), datetime_complete=datetime.datetime(2023, 12, 11, 18, 11, 46, 909482), params={'topK': 44, 'alpha': 0.7024553088300813}, user_attrs={}, system_attrs={}, intermediate_values={}, distributions={'topK': IntDistribution(high=100, log=False, low=10, step=1), 'alpha': FloatDistribution(high=0.9, log=False, low=0.5, step=None)}, trial_id=284, value=None),\n",
       " FrozenTrial(number=285, state=1, values=[0.041824365855733965], datetime_start=datetime.datetime(2023, 12, 11, 18, 11, 46, 910488), datetime_complete=datetime.datetime(2023, 12, 11, 18, 12, 26, 938951), params={'topK': 41, 'alpha': 0.7718107048080759}, user_attrs={}, system_attrs={}, intermediate_values={}, distributions={'topK': IntDistribution(high=100, log=False, low=10, step=1), 'alpha': FloatDistribution(high=0.9, log=False, low=0.5, step=None)}, trial_id=285, value=None),\n",
       " FrozenTrial(number=286, state=1, values=[0.042195138243661556], datetime_start=datetime.datetime(2023, 12, 11, 18, 12, 26, 940941), datetime_complete=datetime.datetime(2023, 12, 11, 18, 13, 6, 891271), params={'topK': 38, 'alpha': 0.7599286820760306}, user_attrs={}, system_attrs={}, intermediate_values={}, distributions={'topK': IntDistribution(high=100, log=False, low=10, step=1), 'alpha': FloatDistribution(high=0.9, log=False, low=0.5, step=None)}, trial_id=286, value=None),\n",
       " FrozenTrial(number=287, state=1, values=[0.042312022497487674], datetime_start=datetime.datetime(2023, 12, 11, 18, 13, 6, 892273), datetime_complete=datetime.datetime(2023, 12, 11, 18, 13, 46, 100374), params={'topK': 34, 'alpha': 0.7450194296664298}, user_attrs={}, system_attrs={}, intermediate_values={}, distributions={'topK': IntDistribution(high=100, log=False, low=10, step=1), 'alpha': FloatDistribution(high=0.9, log=False, low=0.5, step=None)}, trial_id=287, value=None),\n",
       " FrozenTrial(number=288, state=1, values=[0.042178060633719656], datetime_start=datetime.datetime(2023, 12, 11, 18, 13, 46, 101374), datetime_complete=datetime.datetime(2023, 12, 11, 18, 14, 26, 121747), params={'topK': 42, 'alpha': 0.7310789064386982}, user_attrs={}, system_attrs={}, intermediate_values={}, distributions={'topK': IntDistribution(high=100, log=False, low=10, step=1), 'alpha': FloatDistribution(high=0.9, log=False, low=0.5, step=None)}, trial_id=288, value=None),\n",
       " FrozenTrial(number=289, state=1, values=[0.042287504531582164], datetime_start=datetime.datetime(2023, 12, 11, 18, 14, 26, 122754), datetime_complete=datetime.datetime(2023, 12, 11, 18, 15, 5, 587409), params={'topK': 37, 'alpha': 0.7517295164714577}, user_attrs={}, system_attrs={}, intermediate_values={}, distributions={'topK': IntDistribution(high=100, log=False, low=10, step=1), 'alpha': FloatDistribution(high=0.9, log=False, low=0.5, step=None)}, trial_id=289, value=None),\n",
       " FrozenTrial(number=290, state=1, values=[0.04225845537557175], datetime_start=datetime.datetime(2023, 12, 11, 18, 15, 5, 588409), datetime_complete=datetime.datetime(2023, 12, 11, 18, 15, 46, 186603), params={'topK': 46, 'alpha': 0.7398428364433658}, user_attrs={}, system_attrs={}, intermediate_values={}, distributions={'topK': IntDistribution(high=100, log=False, low=10, step=1), 'alpha': FloatDistribution(high=0.9, log=False, low=0.5, step=None)}, trial_id=290, value=None),\n",
       " FrozenTrial(number=291, state=1, values=[0.04183294053257142], datetime_start=datetime.datetime(2023, 12, 11, 18, 15, 46, 187624), datetime_complete=datetime.datetime(2023, 12, 11, 18, 16, 25, 935572), params={'topK': 39, 'alpha': 0.7166995156482142}, user_attrs={}, system_attrs={}, intermediate_values={}, distributions={'topK': IntDistribution(high=100, log=False, low=10, step=1), 'alpha': FloatDistribution(high=0.9, log=False, low=0.5, step=None)}, trial_id=291, value=None),\n",
       " FrozenTrial(number=292, state=1, values=[0.03883015766458434], datetime_start=datetime.datetime(2023, 12, 11, 18, 16, 25, 936573), datetime_complete=datetime.datetime(2023, 12, 11, 18, 17, 5, 719042), params={'topK': 41, 'alpha': 0.8113026892663525}, user_attrs={}, system_attrs={}, intermediate_values={}, distributions={'topK': IntDistribution(high=100, log=False, low=10, step=1), 'alpha': FloatDistribution(high=0.9, log=False, low=0.5, step=None)}, trial_id=292, value=None),\n",
       " FrozenTrial(number=293, state=1, values=[0.04232119487994949], datetime_start=datetime.datetime(2023, 12, 11, 18, 17, 5, 721043), datetime_complete=datetime.datetime(2023, 12, 11, 18, 17, 44, 526018), params={'topK': 31, 'alpha': 0.735802590457985}, user_attrs={}, system_attrs={}, intermediate_values={}, distributions={'topK': IntDistribution(high=100, log=False, low=10, step=1), 'alpha': FloatDistribution(high=0.9, log=False, low=0.5, step=None)}, trial_id=293, value=None),\n",
       " FrozenTrial(number=294, state=1, values=[0.04224532497478515], datetime_start=datetime.datetime(2023, 12, 11, 18, 17, 44, 527025), datetime_complete=datetime.datetime(2023, 12, 11, 18, 18, 24, 223249), params={'topK': 36, 'alpha': 0.7250709949596245}, user_attrs={}, system_attrs={}, intermediate_values={}, distributions={'topK': IntDistribution(high=100, log=False, low=10, step=1), 'alpha': FloatDistribution(high=0.9, log=False, low=0.5, step=None)}, trial_id=294, value=None),\n",
       " FrozenTrial(number=295, state=1, values=[0.04237775647523006], datetime_start=datetime.datetime(2023, 12, 11, 18, 18, 24, 224255), datetime_complete=datetime.datetime(2023, 12, 11, 18, 19, 4, 240386), params={'topK': 39, 'alpha': 0.7486652256094904}, user_attrs={}, system_attrs={}, intermediate_values={}, distributions={'topK': IntDistribution(high=100, log=False, low=10, step=1), 'alpha': FloatDistribution(high=0.9, log=False, low=0.5, step=None)}, trial_id=295, value=None),\n",
       " FrozenTrial(number=296, state=1, values=[0.04229883227475815], datetime_start=datetime.datetime(2023, 12, 11, 18, 19, 4, 242388), datetime_complete=datetime.datetime(2023, 12, 11, 18, 19, 44, 239348), params={'topK': 40, 'alpha': 0.7602561367788707}, user_attrs={}, system_attrs={}, intermediate_values={}, distributions={'topK': IntDistribution(high=100, log=False, low=10, step=1), 'alpha': FloatDistribution(high=0.9, log=False, low=0.5, step=None)}, trial_id=296, value=None),\n",
       " FrozenTrial(number=297, state=1, values=[0.04231062721043077], datetime_start=datetime.datetime(2023, 12, 11, 18, 19, 44, 241350), datetime_complete=datetime.datetime(2023, 12, 11, 18, 20, 24, 964157), params={'topK': 44, 'alpha': 0.7508977236093178}, user_attrs={}, system_attrs={}, intermediate_values={}, distributions={'topK': IntDistribution(high=100, log=False, low=10, step=1), 'alpha': FloatDistribution(high=0.9, log=False, low=0.5, step=None)}, trial_id=297, value=None),\n",
       " FrozenTrial(number=298, state=1, values=[0.03417650649808968], datetime_start=datetime.datetime(2023, 12, 11, 18, 20, 24, 965157), datetime_complete=datetime.datetime(2023, 12, 11, 18, 21, 4, 324065), params={'topK': 38, 'alpha': 0.5318381047576494}, user_attrs={}, system_attrs={}, intermediate_values={}, distributions={'topK': IntDistribution(high=100, log=False, low=10, step=1), 'alpha': FloatDistribution(high=0.9, log=False, low=0.5, step=None)}, trial_id=298, value=None),\n",
       " FrozenTrial(number=299, state=1, values=[0.042027529150412], datetime_start=datetime.datetime(2023, 12, 11, 18, 21, 4, 325068), datetime_complete=datetime.datetime(2023, 12, 11, 18, 21, 44, 126134), params={'topK': 42, 'alpha': 0.7680703688847237}, user_attrs={}, system_attrs={}, intermediate_values={}, distributions={'topK': IntDistribution(high=100, log=False, low=10, step=1), 'alpha': FloatDistribution(high=0.9, log=False, low=0.5, step=None)}, trial_id=299, value=None),\n",
       " FrozenTrial(number=300, state=1, values=[0.04234718590757269], datetime_start=datetime.datetime(2023, 12, 11, 18, 21, 44, 127141), datetime_complete=datetime.datetime(2023, 12, 11, 18, 22, 23, 737413), params={'topK': 39, 'alpha': 0.7444555730405326}, user_attrs={}, system_attrs={}, intermediate_values={}, distributions={'topK': IntDistribution(high=100, log=False, low=10, step=1), 'alpha': FloatDistribution(high=0.9, log=False, low=0.5, step=None)}, trial_id=300, value=None),\n",
       " FrozenTrial(number=301, state=1, values=[0.03869286969476751], datetime_start=datetime.datetime(2023, 12, 11, 18, 22, 23, 738413), datetime_complete=datetime.datetime(2023, 12, 11, 18, 23, 6, 657517), params={'topK': 66, 'alpha': 0.6860730003646722}, user_attrs={}, system_attrs={}, intermediate_values={}, distributions={'topK': IntDistribution(high=100, log=False, low=10, step=1), 'alpha': FloatDistribution(high=0.9, log=False, low=0.5, step=None)}, trial_id=301, value=None),\n",
       " FrozenTrial(number=302, state=1, values=[0.03876777277768729], datetime_start=datetime.datetime(2023, 12, 11, 18, 23, 6, 658520), datetime_complete=datetime.datetime(2023, 12, 11, 18, 23, 46, 620667), params={'topK': 41, 'alpha': 0.6603182196130573}, user_attrs={}, system_attrs={}, intermediate_values={}, distributions={'topK': IntDistribution(high=100, log=False, low=10, step=1), 'alpha': FloatDistribution(high=0.9, log=False, low=0.5, step=None)}, trial_id=302, value=None),\n",
       " FrozenTrial(number=303, state=1, values=[0.0422965726623272], datetime_start=datetime.datetime(2023, 12, 11, 18, 23, 46, 622673), datetime_complete=datetime.datetime(2023, 12, 11, 18, 24, 26, 213131), params={'topK': 38, 'alpha': 0.7563162015049908}, user_attrs={}, system_attrs={}, intermediate_values={}, distributions={'topK': IntDistribution(high=100, log=False, low=10, step=1), 'alpha': FloatDistribution(high=0.9, log=False, low=0.5, step=None)}, trial_id=303, value=None),\n",
       " FrozenTrial(number=304, state=1, values=[0.04234847143371704], datetime_start=datetime.datetime(2023, 12, 11, 18, 24, 26, 213131), datetime_complete=datetime.datetime(2023, 12, 11, 18, 25, 6, 501554), params={'topK': 43, 'alpha': 0.7490489067662456}, user_attrs={}, system_attrs={}, intermediate_values={}, distributions={'topK': IntDistribution(high=100, log=False, low=10, step=1), 'alpha': FloatDistribution(high=0.9, log=False, low=0.5, step=None)}, trial_id=304, value=None),\n",
       " FrozenTrial(number=305, state=1, values=[0.04236755927534844], datetime_start=datetime.datetime(2023, 12, 11, 18, 25, 6, 502555), datetime_complete=datetime.datetime(2023, 12, 11, 18, 25, 46, 486087), params={'topK': 40, 'alpha': 0.7403550722131687}, user_attrs={}, system_attrs={}, intermediate_values={}, distributions={'topK': IntDistribution(high=100, log=False, low=10, step=1), 'alpha': FloatDistribution(high=0.9, log=False, low=0.5, step=None)}, trial_id=305, value=None),\n",
       " FrozenTrial(number=306, state=1, values=[0.04178492367296708], datetime_start=datetime.datetime(2023, 12, 11, 18, 25, 46, 487085), datetime_complete=datetime.datetime(2023, 12, 11, 18, 26, 25, 717228), params={'topK': 36, 'alpha': 0.763291639867687}, user_attrs={}, system_attrs={}, intermediate_values={}, distributions={'topK': IntDistribution(high=100, log=False, low=10, step=1), 'alpha': FloatDistribution(high=0.9, log=False, low=0.5, step=None)}, trial_id=306, value=None),\n",
       " FrozenTrial(number=307, state=1, values=[0.04241910694159847], datetime_start=datetime.datetime(2023, 12, 11, 18, 26, 25, 718232), datetime_complete=datetime.datetime(2023, 12, 11, 18, 27, 5, 146572), params={'topK': 38, 'alpha': 0.737157602088028}, user_attrs={}, system_attrs={}, intermediate_values={}, distributions={'topK': IntDistribution(high=100, log=False, low=10, step=1), 'alpha': FloatDistribution(high=0.9, log=False, low=0.5, step=None)}, trial_id=307, value=None),\n",
       " FrozenTrial(number=308, state=1, values=[0.04236901995234043], datetime_start=datetime.datetime(2023, 12, 11, 18, 27, 5, 147573), datetime_complete=datetime.datetime(2023, 12, 11, 18, 27, 44, 573351), params={'topK': 37, 'alpha': 0.732145664232418}, user_attrs={}, system_attrs={}, intermediate_values={}, distributions={'topK': IntDistribution(high=100, log=False, low=10, step=1), 'alpha': FloatDistribution(high=0.9, log=False, low=0.5, step=None)}, trial_id=308, value=None),\n",
       " FrozenTrial(number=309, state=1, values=[0.04231487075397065], datetime_start=datetime.datetime(2023, 12, 11, 18, 27, 44, 574351), datetime_complete=datetime.datetime(2023, 12, 11, 18, 28, 25, 219262), params={'topK': 38, 'alpha': 0.7505173437189754}, user_attrs={}, system_attrs={}, intermediate_values={}, distributions={'topK': IntDistribution(high=100, log=False, low=10, step=1), 'alpha': FloatDistribution(high=0.9, log=False, low=0.5, step=None)}, trial_id=309, value=None),\n",
       " FrozenTrial(number=310, state=1, values=[0.0423482247588719], datetime_start=datetime.datetime(2023, 12, 11, 18, 28, 25, 220264), datetime_complete=datetime.datetime(2023, 12, 11, 18, 29, 8, 432375), params={'topK': 35, 'alpha': 0.7366518652310049}, user_attrs={}, system_attrs={}, intermediate_values={}, distributions={'topK': IntDistribution(high=100, log=False, low=10, step=1), 'alpha': FloatDistribution(high=0.9, log=False, low=0.5, step=None)}, trial_id=310, value=None),\n",
       " FrozenTrial(number=311, state=1, values=[0.04231446646179149], datetime_start=datetime.datetime(2023, 12, 11, 18, 29, 8, 433375), datetime_complete=datetime.datetime(2023, 12, 11, 18, 29, 49, 867964), params={'topK': 39, 'alpha': 0.7554201779335781}, user_attrs={}, system_attrs={}, intermediate_values={}, distributions={'topK': IntDistribution(high=100, log=False, low=10, step=1), 'alpha': FloatDistribution(high=0.9, log=False, low=0.5, step=None)}, trial_id=311, value=None),\n",
       " FrozenTrial(number=312, state=1, values=[0.042335705696544844], datetime_start=datetime.datetime(2023, 12, 11, 18, 29, 49, 868964), datetime_complete=datetime.datetime(2023, 12, 11, 18, 30, 29, 900746), params={'topK': 42, 'alpha': 0.7447587078925009}, user_attrs={}, system_attrs={}, intermediate_values={}, distributions={'topK': IntDistribution(high=100, log=False, low=10, step=1), 'alpha': FloatDistribution(high=0.9, log=False, low=0.5, step=None)}, trial_id=312, value=None),\n",
       " FrozenTrial(number=313, state=1, values=[0.041974956252414264], datetime_start=datetime.datetime(2023, 12, 11, 18, 30, 29, 902742), datetime_complete=datetime.datetime(2023, 12, 11, 18, 31, 9, 661184), params={'topK': 37, 'alpha': 0.7202536539100595}, user_attrs={}, system_attrs={}, intermediate_values={}, distributions={'topK': IntDistribution(high=100, log=False, low=10, step=1), 'alpha': FloatDistribution(high=0.9, log=False, low=0.5, step=None)}, trial_id=313, value=None),\n",
       " FrozenTrial(number=314, state=1, values=[0.041649469730041015], datetime_start=datetime.datetime(2023, 12, 11, 18, 31, 9, 662189), datetime_complete=datetime.datetime(2023, 12, 11, 18, 31, 50, 938747), params={'topK': 40, 'alpha': 0.7116285035458674}, user_attrs={}, system_attrs={}, intermediate_values={}, distributions={'topK': IntDistribution(high=100, log=False, low=10, step=1), 'alpha': FloatDistribution(high=0.9, log=False, low=0.5, step=None)}, trial_id=314, value=None),\n",
       " FrozenTrial(number=315, state=1, values=[0.0418041384446659], datetime_start=datetime.datetime(2023, 12, 11, 18, 31, 50, 940747), datetime_complete=datetime.datetime(2023, 12, 11, 18, 32, 32, 177370), params={'topK': 45, 'alpha': 0.773940671636162}, user_attrs={}, system_attrs={}, intermediate_values={}, distributions={'topK': IntDistribution(high=100, log=False, low=10, step=1), 'alpha': FloatDistribution(high=0.9, log=False, low=0.5, step=None)}, trial_id=315, value=None),\n",
       " FrozenTrial(number=316, state=1, values=[0.042220640953341965], datetime_start=datetime.datetime(2023, 12, 11, 18, 32, 32, 178370), datetime_complete=datetime.datetime(2023, 12, 11, 18, 33, 11, 645336), params={'topK': 39, 'alpha': 0.7283500536379803}, user_attrs={}, system_attrs={}, intermediate_values={}, distributions={'topK': IntDistribution(high=100, log=False, low=10, step=1), 'alpha': FloatDistribution(high=0.9, log=False, low=0.5, step=None)}, trial_id=316, value=None),\n",
       " FrozenTrial(number=317, state=1, values=[0.036661494569375286], datetime_start=datetime.datetime(2023, 12, 11, 18, 33, 11, 646335), datetime_complete=datetime.datetime(2023, 12, 11, 18, 33, 52, 578885), params={'topK': 54, 'alpha': 0.8474887362936854}, user_attrs={}, system_attrs={}, intermediate_values={}, distributions={'topK': IntDistribution(high=100, log=False, low=10, step=1), 'alpha': FloatDistribution(high=0.9, log=False, low=0.5, step=None)}, trial_id=317, value=None),\n",
       " FrozenTrial(number=318, state=1, values=[0.04230897175494389], datetime_start=datetime.datetime(2023, 12, 11, 18, 33, 52, 580883), datetime_complete=datetime.datetime(2023, 12, 11, 18, 34, 31, 765348), params={'topK': 35, 'alpha': 0.7422553820029132}, user_attrs={}, system_attrs={}, intermediate_values={}, distributions={'topK': IntDistribution(high=100, log=False, low=10, step=1), 'alpha': FloatDistribution(high=0.9, log=False, low=0.5, step=None)}, trial_id=318, value=None),\n",
       " FrozenTrial(number=319, state=1, values=[0.04229474555291734], datetime_start=datetime.datetime(2023, 12, 11, 18, 34, 31, 766348), datetime_complete=datetime.datetime(2023, 12, 11, 18, 35, 13, 320550), params={'topK': 42, 'alpha': 0.7590452495846836}, user_attrs={}, system_attrs={}, intermediate_values={}, distributions={'topK': IntDistribution(high=100, log=False, low=10, step=1), 'alpha': FloatDistribution(high=0.9, log=False, low=0.5, step=None)}, trial_id=319, value=None),\n",
       " FrozenTrial(number=320, state=1, values=[0.04235316851564003], datetime_start=datetime.datetime(2023, 12, 11, 18, 35, 13, 322552), datetime_complete=datetime.datetime(2023, 12, 11, 18, 35, 52, 772216), params={'topK': 38, 'alpha': 0.735422442069475}, user_attrs={}, system_attrs={}, intermediate_values={}, distributions={'topK': IntDistribution(high=100, log=False, low=10, step=1), 'alpha': FloatDistribution(high=0.9, log=False, low=0.5, step=None)}, trial_id=320, value=None),\n",
       " FrozenTrial(number=321, state=1, values=[0.041861159793688464], datetime_start=datetime.datetime(2023, 12, 11, 18, 35, 52, 773216), datetime_complete=datetime.datetime(2023, 12, 11, 18, 36, 38, 979439), params={'topK': 88, 'alpha': 0.7533546902887934}, user_attrs={}, system_attrs={}, intermediate_values={}, distributions={'topK': IntDistribution(high=100, log=False, low=10, step=1), 'alpha': FloatDistribution(high=0.9, log=False, low=0.5, step=None)}, trial_id=321, value=None),\n",
       " FrozenTrial(number=322, state=1, values=[0.042319398004485774], datetime_start=datetime.datetime(2023, 12, 11, 18, 36, 38, 980439), datetime_complete=datetime.datetime(2023, 12, 11, 18, 37, 18, 151504), params={'topK': 36, 'alpha': 0.7463820345145233}, user_attrs={}, system_attrs={}, intermediate_values={}, distributions={'topK': IntDistribution(high=100, log=False, low=10, step=1), 'alpha': FloatDistribution(high=0.9, log=False, low=0.5, step=None)}, trial_id=322, value=None),\n",
       " FrozenTrial(number=323, state=1, values=[0.04091420457730296], datetime_start=datetime.datetime(2023, 12, 11, 18, 37, 18, 152504), datetime_complete=datetime.datetime(2023, 12, 11, 18, 37, 58, 385116), params={'topK': 41, 'alpha': 0.6983409829948724}, user_attrs={}, system_attrs={}, intermediate_values={}, distributions={'topK': IntDistribution(high=100, log=False, low=10, step=1), 'alpha': FloatDistribution(high=0.9, log=False, low=0.5, step=None)}, trial_id=323, value=None),\n",
       " FrozenTrial(number=324, state=1, values=[0.04084071950265158], datetime_start=datetime.datetime(2023, 12, 11, 18, 37, 58, 386120), datetime_complete=datetime.datetime(2023, 12, 11, 18, 38, 39, 353917), params={'topK': 43, 'alpha': 0.7868529620393732}, user_attrs={}, system_attrs={}, intermediate_values={}, distributions={'topK': IntDistribution(high=100, log=False, low=10, step=1), 'alpha': FloatDistribution(high=0.9, log=False, low=0.5, step=None)}, trial_id=324, value=None),\n",
       " FrozenTrial(number=325, state=1, values=[0.042324216459682595], datetime_start=datetime.datetime(2023, 12, 11, 18, 38, 39, 354920), datetime_complete=datetime.datetime(2023, 12, 11, 18, 39, 18, 944864), params={'topK': 40, 'alpha': 0.7358842723517363}, user_attrs={}, system_attrs={}, intermediate_values={}, distributions={'topK': IntDistribution(high=100, log=False, low=10, step=1), 'alpha': FloatDistribution(high=0.9, log=False, low=0.5, step=None)}, trial_id=325, value=None),\n",
       " FrozenTrial(number=326, state=1, values=[0.041692389849530664], datetime_start=datetime.datetime(2023, 12, 11, 18, 39, 18, 945865), datetime_complete=datetime.datetime(2023, 12, 11, 18, 39, 58, 1481), params={'topK': 37, 'alpha': 0.7658132483185005}, user_attrs={}, system_attrs={}, intermediate_values={}, distributions={'topK': IntDistribution(high=100, log=False, low=10, step=1), 'alpha': FloatDistribution(high=0.9, log=False, low=0.5, step=None)}, trial_id=326, value=None),\n",
       " FrozenTrial(number=327, state=1, values=[0.03570179701337481], datetime_start=datetime.datetime(2023, 12, 11, 18, 39, 58, 2484), datetime_complete=datetime.datetime(2023, 12, 11, 18, 40, 37, 60283), params={'topK': 33, 'alpha': 0.5695896087335331}, user_attrs={}, system_attrs={}, intermediate_values={}, distributions={'topK': IntDistribution(high=100, log=False, low=10, step=1), 'alpha': FloatDistribution(high=0.9, log=False, low=0.5, step=None)}, trial_id=327, value=None),\n",
       " FrozenTrial(number=328, state=1, values=[0.04210534166805532], datetime_start=datetime.datetime(2023, 12, 11, 18, 40, 37, 61283), datetime_complete=datetime.datetime(2023, 12, 11, 18, 41, 17, 281839), params={'topK': 39, 'alpha': 0.7250779382484248}, user_attrs={}, system_attrs={}, intermediate_values={}, distributions={'topK': IntDistribution(high=100, log=False, low=10, step=1), 'alpha': FloatDistribution(high=0.9, log=False, low=0.5, step=None)}, trial_id=328, value=None),\n",
       " FrozenTrial(number=329, state=1, values=[0.04238221009888223], datetime_start=datetime.datetime(2023, 12, 11, 18, 41, 17, 282839), datetime_complete=datetime.datetime(2023, 12, 11, 18, 41, 57, 416856), params={'topK': 41, 'alpha': 0.747756018105793}, user_attrs={}, system_attrs={}, intermediate_values={}, distributions={'topK': IntDistribution(high=100, log=False, low=10, step=1), 'alpha': FloatDistribution(high=0.9, log=False, low=0.5, step=None)}, trial_id=329, value=None),\n",
       " FrozenTrial(number=330, state=1, values=[0.04233632215478502], datetime_start=datetime.datetime(2023, 12, 11, 18, 41, 57, 418859), datetime_complete=datetime.datetime(2023, 12, 11, 18, 42, 37, 672250), params={'topK': 38, 'alpha': 0.7494123573816882}, user_attrs={}, system_attrs={}, intermediate_values={}, distributions={'topK': IntDistribution(high=100, log=False, low=10, step=1), 'alpha': FloatDistribution(high=0.9, log=False, low=0.5, step=None)}, trial_id=330, value=None),\n",
       " FrozenTrial(number=331, state=1, values=[0.0423537415392904], datetime_start=datetime.datetime(2023, 12, 11, 18, 42, 37, 673248), datetime_complete=datetime.datetime(2023, 12, 11, 18, 43, 17, 831334), params={'topK': 44, 'alpha': 0.7589412053087898}, user_attrs={}, system_attrs={}, intermediate_values={}, distributions={'topK': IntDistribution(high=100, log=False, low=10, step=1), 'alpha': FloatDistribution(high=0.9, log=False, low=0.5, step=None)}, trial_id=331, value=None),\n",
       " FrozenTrial(number=332, state=1, values=[0.042330983070498984], datetime_start=datetime.datetime(2023, 12, 11, 18, 43, 17, 832334), datetime_complete=datetime.datetime(2023, 12, 11, 18, 43, 56, 224777), params={'topK': 41, 'alpha': 0.7399920124300423}, user_attrs={}, system_attrs={}, intermediate_values={}, distributions={'topK': IntDistribution(high=100, log=False, low=10, step=1), 'alpha': FloatDistribution(high=0.9, log=False, low=0.5, step=None)}, trial_id=332, value=None),\n",
       " FrozenTrial(number=333, state=1, values=[0.040056515623281254], datetime_start=datetime.datetime(2023, 12, 11, 18, 43, 56, 225774), datetime_complete=datetime.datetime(2023, 12, 11, 18, 44, 33, 636782), params={'topK': 35, 'alpha': 0.6772352488074542}, user_attrs={}, system_attrs={}, intermediate_values={}, distributions={'topK': IntDistribution(high=100, log=False, low=10, step=1), 'alpha': FloatDistribution(high=0.9, log=False, low=0.5, step=None)}, trial_id=333, value=None),\n",
       " FrozenTrial(number=334, state=1, values=[0.04234367041972606], datetime_start=datetime.datetime(2023, 12, 11, 18, 44, 33, 637789), datetime_complete=datetime.datetime(2023, 12, 11, 18, 45, 11, 432132), params={'topK': 39, 'alpha': 0.7504290686665896}, user_attrs={}, system_attrs={}, intermediate_values={}, distributions={'topK': IntDistribution(high=100, log=False, low=10, step=1), 'alpha': FloatDistribution(high=0.9, log=False, low=0.5, step=None)}, trial_id=334, value=None),\n",
       " FrozenTrial(number=335, state=1, values=[0.04198186530671572], datetime_start=datetime.datetime(2023, 12, 11, 18, 45, 11, 433132), datetime_complete=datetime.datetime(2023, 12, 11, 18, 45, 50, 31422), params={'topK': 47, 'alpha': 0.7311459939242176}, user_attrs={}, system_attrs={}, intermediate_values={}, distributions={'topK': IntDistribution(high=100, log=False, low=10, step=1), 'alpha': FloatDistribution(high=0.9, log=False, low=0.5, step=None)}, trial_id=335, value=None),\n",
       " FrozenTrial(number=336, state=1, values=[0.041639460061257856], datetime_start=datetime.datetime(2023, 12, 11, 18, 45, 50, 32422), datetime_complete=datetime.datetime(2023, 12, 11, 18, 46, 27, 727355), params={'topK': 37, 'alpha': 0.7673641043589143}, user_attrs={}, system_attrs={}, intermediate_values={}, distributions={'topK': IntDistribution(high=100, log=False, low=10, step=1), 'alpha': FloatDistribution(high=0.9, log=False, low=0.5, step=None)}, trial_id=336, value=None),\n",
       " FrozenTrial(number=337, state=1, values=[0.04229249756064445], datetime_start=datetime.datetime(2023, 12, 11, 18, 46, 27, 728355), datetime_complete=datetime.datetime(2023, 12, 11, 18, 47, 5, 974678), params={'topK': 42, 'alpha': 0.7442860953374748}, user_attrs={}, system_attrs={}, intermediate_values={}, distributions={'topK': IntDistribution(high=100, log=False, low=10, step=1), 'alpha': FloatDistribution(high=0.9, log=False, low=0.5, step=None)}, trial_id=337, value=None),\n",
       " FrozenTrial(number=338, state=1, values=[0.041824327266884655], datetime_start=datetime.datetime(2023, 12, 11, 18, 47, 5, 975678), datetime_complete=datetime.datetime(2023, 12, 11, 18, 47, 43, 817187), params={'topK': 40, 'alpha': 0.7206086948957856}, user_attrs={}, system_attrs={}, intermediate_values={}, distributions={'topK': IntDistribution(high=100, log=False, low=10, step=1), 'alpha': FloatDistribution(high=0.9, log=False, low=0.5, step=None)}, trial_id=338, value=None),\n",
       " FrozenTrial(number=339, state=1, values=[0.04162900254099055], datetime_start=datetime.datetime(2023, 12, 11, 18, 47, 43, 818194), datetime_complete=datetime.datetime(2023, 12, 11, 18, 48, 21, 71342), params={'topK': 36, 'alpha': 0.7065420504988681}, user_attrs={}, system_attrs={}, intermediate_values={}, distributions={'topK': IntDistribution(high=100, log=False, low=10, step=1), 'alpha': FloatDistribution(high=0.9, log=False, low=0.5, step=None)}, trial_id=339, value=None),\n",
       " FrozenTrial(number=340, state=1, values=[0.042338122121418964], datetime_start=datetime.datetime(2023, 12, 11, 18, 48, 21, 72341), datetime_complete=datetime.datetime(2023, 12, 11, 18, 48, 58, 485010), params={'topK': 38, 'alpha': 0.7357621460260322}, user_attrs={}, system_attrs={}, intermediate_values={}, distributions={'topK': IntDistribution(high=100, log=False, low=10, step=1), 'alpha': FloatDistribution(high=0.9, log=False, low=0.5, step=None)}, trial_id=340, value=None),\n",
       " FrozenTrial(number=341, state=1, values=[0.042042467361333886], datetime_start=datetime.datetime(2023, 12, 11, 18, 48, 58, 486013), datetime_complete=datetime.datetime(2023, 12, 11, 18, 49, 40, 288686), params={'topK': 74, 'alpha': 0.7525678050519692}, user_attrs={}, system_attrs={}, intermediate_values={}, distributions={'topK': IntDistribution(high=100, log=False, low=10, step=1), 'alpha': FloatDistribution(high=0.9, log=False, low=0.5, step=None)}, trial_id=341, value=None),\n",
       " FrozenTrial(number=342, state=1, values=[0.04227602898416222], datetime_start=datetime.datetime(2023, 12, 11, 18, 49, 40, 289683), datetime_complete=datetime.datetime(2023, 12, 11, 18, 50, 18, 493963), params={'topK': 43, 'alpha': 0.7588569624630943}, user_attrs={}, system_attrs={}, intermediate_values={}, distributions={'topK': IntDistribution(high=100, log=False, low=10, step=1), 'alpha': FloatDistribution(high=0.9, log=False, low=0.5, step=None)}, trial_id=342, value=None),\n",
       " FrozenTrial(number=343, state=1, values=[0.042396074433642156], datetime_start=datetime.datetime(2023, 12, 11, 18, 50, 18, 494963), datetime_complete=datetime.datetime(2023, 12, 11, 18, 50, 56, 36732), params={'topK': 40, 'alpha': 0.7424885145189932}, user_attrs={}, system_attrs={}, intermediate_values={}, distributions={'topK': IntDistribution(high=100, log=False, low=10, step=1), 'alpha': FloatDistribution(high=0.9, log=False, low=0.5, step=None)}, trial_id=343, value=None),\n",
       " FrozenTrial(number=344, state=1, values=[0.036574599454543166], datetime_start=datetime.datetime(2023, 12, 11, 18, 50, 56, 37734), datetime_complete=datetime.datetime(2023, 12, 11, 18, 51, 33, 724396), params={'topK': 41, 'alpha': 0.6163022076542607}, user_attrs={}, system_attrs={}, intermediate_values={}, distributions={'topK': IntDistribution(high=100, log=False, low=10, step=1), 'alpha': FloatDistribution(high=0.9, log=False, low=0.5, step=None)}, trial_id=344, value=None),\n",
       " FrozenTrial(number=345, state=1, values=[0.042383849183994356], datetime_start=datetime.datetime(2023, 12, 11, 18, 51, 33, 725398), datetime_complete=datetime.datetime(2023, 12, 11, 18, 52, 11, 564957), params={'topK': 40, 'alpha': 0.7452474806786438}, user_attrs={}, system_attrs={}, intermediate_values={}, distributions={'topK': IntDistribution(high=100, log=False, low=10, step=1), 'alpha': FloatDistribution(high=0.9, log=False, low=0.5, step=None)}, trial_id=345, value=None),\n",
       " FrozenTrial(number=346, state=1, values=[0.041914097865765915], datetime_start=datetime.datetime(2023, 12, 11, 18, 52, 11, 566964), datetime_complete=datetime.datetime(2023, 12, 11, 18, 52, 49, 909684), params={'topK': 45, 'alpha': 0.7258484278728808}, user_attrs={}, system_attrs={}, intermediate_values={}, distributions={'topK': IntDistribution(high=100, log=False, low=10, step=1), 'alpha': FloatDistribution(high=0.9, log=False, low=0.5, step=None)}, trial_id=346, value=None),\n",
       " FrozenTrial(number=347, state=1, values=[0.042357310060042654], datetime_start=datetime.datetime(2023, 12, 11, 18, 52, 49, 910685), datetime_complete=datetime.datetime(2023, 12, 11, 18, 53, 28, 178922), params={'topK': 41, 'alpha': 0.7392902018228955}, user_attrs={}, system_attrs={}, intermediate_values={}, distributions={'topK': IntDistribution(high=100, log=False, low=10, step=1), 'alpha': FloatDistribution(high=0.9, log=False, low=0.5, step=None)}, trial_id=347, value=None),\n",
       " FrozenTrial(number=348, state=1, values=[0.0421124012325537], datetime_start=datetime.datetime(2023, 12, 11, 18, 53, 28, 179922), datetime_complete=datetime.datetime(2023, 12, 11, 18, 54, 12, 599931), params={'topK': 97, 'alpha': 0.7802869039254806}, user_attrs={}, system_attrs={}, intermediate_values={}, distributions={'topK': IntDistribution(high=100, log=False, low=10, step=1), 'alpha': FloatDistribution(high=0.9, log=False, low=0.5, step=None)}, trial_id=348, value=None),\n",
       " FrozenTrial(number=349, state=1, values=[0.04230326473309067], datetime_start=datetime.datetime(2023, 12, 11, 18, 54, 12, 600931), datetime_complete=datetime.datetime(2023, 12, 11, 18, 54, 50, 663059), params={'topK': 44, 'alpha': 0.744714802612621}, user_attrs={}, system_attrs={}, intermediate_values={}, distributions={'topK': IntDistribution(high=100, log=False, low=10, step=1), 'alpha': FloatDistribution(high=0.9, log=False, low=0.5, step=None)}, trial_id=349, value=None),\n",
       " FrozenTrial(number=350, state=1, values=[0.04217081704867961], datetime_start=datetime.datetime(2023, 12, 11, 18, 54, 50, 664064), datetime_complete=datetime.datetime(2023, 12, 11, 18, 55, 28, 923878), params={'topK': 43, 'alpha': 0.73142327342028}, user_attrs={}, system_attrs={}, intermediate_values={}, distributions={'topK': IntDistribution(high=100, log=False, low=10, step=1), 'alpha': FloatDistribution(high=0.9, log=False, low=0.5, step=None)}, trial_id=350, value=None),\n",
       " FrozenTrial(number=351, state=1, values=[0.0422427493020151], datetime_start=datetime.datetime(2023, 12, 11, 18, 55, 28, 924879), datetime_complete=datetime.datetime(2023, 12, 11, 18, 56, 6, 769041), params={'topK': 40, 'alpha': 0.7617382684597882}, user_attrs={}, system_attrs={}, intermediate_values={}, distributions={'topK': IntDistribution(high=100, log=False, low=10, step=1), 'alpha': FloatDistribution(high=0.9, log=False, low=0.5, step=None)}, trial_id=351, value=None),\n",
       " FrozenTrial(number=352, state=1, values=[0.04217559858045044], datetime_start=datetime.datetime(2023, 12, 11, 18, 56, 6, 770045), datetime_complete=datetime.datetime(2023, 12, 11, 18, 56, 44, 57733), params={'topK': 36, 'alpha': 0.7547067635345163}, user_attrs={}, system_attrs={}, intermediate_values={}, distributions={'topK': IntDistribution(high=100, log=False, low=10, step=1), 'alpha': FloatDistribution(high=0.9, log=False, low=0.5, step=None)}, trial_id=352, value=None),\n",
       " FrozenTrial(number=353, state=1, values=[0.03373565452485453], datetime_start=datetime.datetime(2023, 12, 11, 18, 56, 44, 58733), datetime_complete=datetime.datetime(2023, 12, 11, 18, 57, 22, 67253), params={'topK': 42, 'alpha': 0.5272839283067672}, user_attrs={}, system_attrs={}, intermediate_values={}, distributions={'topK': IntDistribution(high=100, log=False, low=10, step=1), 'alpha': FloatDistribution(high=0.9, log=False, low=0.5, step=None)}, trial_id=353, value=None),\n",
       " FrozenTrial(number=354, state=1, values=[0.04233919190548897], datetime_start=datetime.datetime(2023, 12, 11, 18, 57, 22, 68253), datetime_complete=datetime.datetime(2023, 12, 11, 18, 57, 59, 756701), params={'topK': 39, 'alpha': 0.7445238712777474}, user_attrs={}, system_attrs={}, intermediate_values={}, distributions={'topK': IntDistribution(high=100, log=False, low=10, step=1), 'alpha': FloatDistribution(high=0.9, log=False, low=0.5, step=None)}, trial_id=354, value=None),\n",
       " FrozenTrial(number=355, state=1, values=[0.0423377045261763], datetime_start=datetime.datetime(2023, 12, 11, 18, 57, 59, 757701), datetime_complete=datetime.datetime(2023, 12, 11, 18, 58, 36, 870705), params={'topK': 34, 'alpha': 0.732049322859766}, user_attrs={}, system_attrs={}, intermediate_values={}, distributions={'topK': IntDistribution(high=100, log=False, low=10, step=1), 'alpha': FloatDistribution(high=0.9, log=False, low=0.5, step=None)}, trial_id=355, value=None),\n",
       " FrozenTrial(number=356, state=1, values=[0.04189975123864345], datetime_start=datetime.datetime(2023, 12, 11, 18, 58, 36, 871705), datetime_complete=datetime.datetime(2023, 12, 11, 18, 59, 14, 483538), params={'topK': 37, 'alpha': 0.7183672842812828}, user_attrs={}, system_attrs={}, intermediate_values={}, distributions={'topK': IntDistribution(high=100, log=False, low=10, step=1), 'alpha': FloatDistribution(high=0.9, log=False, low=0.5, step=None)}, trial_id=356, value=None),\n",
       " FrozenTrial(number=357, state=1, values=[0.04236469860209168], datetime_start=datetime.datetime(2023, 12, 11, 18, 59, 14, 484538), datetime_complete=datetime.datetime(2023, 12, 11, 18, 59, 52, 348391), params={'topK': 40, 'alpha': 0.7504076973479106}, user_attrs={}, system_attrs={}, intermediate_values={}, distributions={'topK': IntDistribution(high=100, log=False, low=10, step=1), 'alpha': FloatDistribution(high=0.9, log=False, low=0.5, step=None)}, trial_id=357, value=None),\n",
       " FrozenTrial(number=358, state=1, values=[0.04215426843307452], datetime_start=datetime.datetime(2023, 12, 11, 18, 59, 52, 349395), datetime_complete=datetime.datetime(2023, 12, 11, 19, 0, 30, 689698), params={'topK': 46, 'alpha': 0.7683979583705913}, user_attrs={}, system_attrs={}, intermediate_values={}, distributions={'topK': IntDistribution(high=100, log=False, low=10, step=1), 'alpha': FloatDistribution(high=0.9, log=False, low=0.5, step=None)}, trial_id=358, value=None),\n",
       " FrozenTrial(number=359, state=1, values=[0.042359673814324504], datetime_start=datetime.datetime(2023, 12, 11, 19, 0, 30, 690695), datetime_complete=datetime.datetime(2023, 12, 11, 19, 1, 8, 322000), params={'topK': 38, 'alpha': 0.7396113641224863}, user_attrs={}, system_attrs={}, intermediate_values={}, distributions={'topK': IntDistribution(high=100, log=False, low=10, step=1), 'alpha': FloatDistribution(high=0.9, log=False, low=0.5, step=None)}, trial_id=359, value=None),\n",
       " FrozenTrial(number=360, state=1, values=[0.042137861093290783], datetime_start=datetime.datetime(2023, 12, 11, 19, 1, 8, 323008), datetime_complete=datetime.datetime(2023, 12, 11, 19, 1, 46, 171702), params={'topK': 41, 'alpha': 0.7287055372155465}, user_attrs={}, system_attrs={}, intermediate_values={}, distributions={'topK': IntDistribution(high=100, log=False, low=10, step=1), 'alpha': FloatDistribution(high=0.9, log=False, low=0.5, step=None)}, trial_id=360, value=None),\n",
       " FrozenTrial(number=361, state=1, values=[0.0422845095899434], datetime_start=datetime.datetime(2023, 12, 11, 19, 1, 46, 172703), datetime_complete=datetime.datetime(2023, 12, 11, 19, 2, 24, 364309), params={'topK': 43, 'alpha': 0.7577044876052251}, user_attrs={}, system_attrs={}, intermediate_values={}, distributions={'topK': IntDistribution(high=100, log=False, low=10, step=1), 'alpha': FloatDistribution(high=0.9, log=False, low=0.5, step=None)}, trial_id=361, value=None),\n",
       " FrozenTrial(number=362, state=1, values=[0.04038008477423891], datetime_start=datetime.datetime(2023, 12, 11, 19, 2, 24, 365308), datetime_complete=datetime.datetime(2023, 12, 11, 19, 3, 3, 370208), params={'topK': 51, 'alpha': 0.8015716585467876}, user_attrs={}, system_attrs={}, intermediate_values={}, distributions={'topK': IntDistribution(high=100, log=False, low=10, step=1), 'alpha': FloatDistribution(high=0.9, log=False, low=0.5, step=None)}, trial_id=362, value=None),\n",
       " FrozenTrial(number=363, state=1, values=[0.042393957754165934], datetime_start=datetime.datetime(2023, 12, 11, 19, 3, 3, 371208), datetime_complete=datetime.datetime(2023, 12, 11, 19, 3, 41, 64185), params={'topK': 39, 'alpha': 0.7464506266866632}, user_attrs={}, system_attrs={}, intermediate_values={}, distributions={'topK': IntDistribution(high=100, log=False, low=10, step=1), 'alpha': FloatDistribution(high=0.9, log=False, low=0.5, step=None)}, trial_id=363, value=None),\n",
       " FrozenTrial(number=364, state=1, values=[0.04229082602764239], datetime_start=datetime.datetime(2023, 12, 11, 19, 3, 41, 65185), datetime_complete=datetime.datetime(2023, 12, 11, 19, 4, 18, 546301), params={'topK': 36, 'alpha': 0.7499933207097633}, user_attrs={}, system_attrs={}, intermediate_values={}, distributions={'topK': IntDistribution(high=100, log=False, low=10, step=1), 'alpha': FloatDistribution(high=0.9, log=False, low=0.5, step=None)}, trial_id=364, value=None),\n",
       " FrozenTrial(number=365, state=1, values=[0.042289937652492594], datetime_start=datetime.datetime(2023, 12, 11, 19, 4, 18, 547302), datetime_complete=datetime.datetime(2023, 12, 11, 19, 4, 55, 574680), params={'topK': 32, 'alpha': 0.7369117504161705}, user_attrs={}, system_attrs={}, intermediate_values={}, distributions={'topK': IntDistribution(high=100, log=False, low=10, step=1), 'alpha': FloatDistribution(high=0.9, log=False, low=0.5, step=None)}, trial_id=365, value=None),\n",
       " FrozenTrial(number=366, state=1, values=[0.04221018363968026], datetime_start=datetime.datetime(2023, 12, 11, 19, 4, 55, 575680), datetime_complete=datetime.datetime(2023, 12, 11, 19, 5, 33, 366069), params={'topK': 41, 'alpha': 0.7626321857433567}, user_attrs={}, system_attrs={}, intermediate_values={}, distributions={'topK': IntDistribution(high=100, log=False, low=10, step=1), 'alpha': FloatDistribution(high=0.9, log=False, low=0.5, step=None)}, trial_id=366, value=None),\n",
       " FrozenTrial(number=367, state=1, values=[0.04173644574242486], datetime_start=datetime.datetime(2023, 12, 11, 19, 5, 33, 367078), datetime_complete=datetime.datetime(2023, 12, 11, 19, 6, 10, 870931), params={'topK': 38, 'alpha': 0.7121100608759713}, user_attrs={}, system_attrs={}, intermediate_values={}, distributions={'topK': IntDistribution(high=100, log=False, low=10, step=1), 'alpha': FloatDistribution(high=0.9, log=False, low=0.5, step=None)}, trial_id=367, value=None),\n",
       " FrozenTrial(number=368, state=1, values=[0.041576111846407554], datetime_start=datetime.datetime(2023, 12, 11, 19, 6, 10, 871929), datetime_complete=datetime.datetime(2023, 12, 11, 19, 6, 48, 483306), params={'topK': 40, 'alpha': 0.7736568406402978}, user_attrs={}, system_attrs={}, intermediate_values={}, distributions={'topK': IntDistribution(high=100, log=False, low=10, step=1), 'alpha': FloatDistribution(high=0.9, log=False, low=0.5, step=None)}, trial_id=368, value=None),\n",
       " FrozenTrial(number=369, state=1, values=[0.04230289667009474], datetime_start=datetime.datetime(2023, 12, 11, 19, 6, 48, 484307), datetime_complete=datetime.datetime(2023, 12, 11, 19, 7, 25, 668105), params={'topK': 34, 'alpha': 0.7441265101930172}, user_attrs={}, system_attrs={}, intermediate_values={}, distributions={'topK': IntDistribution(high=100, log=False, low=10, step=1), 'alpha': FloatDistribution(high=0.9, log=False, low=0.5, step=None)}, trial_id=369, value=None),\n",
       " FrozenTrial(number=370, state=1, values=[0.04066742635717294], datetime_start=datetime.datetime(2023, 12, 11, 19, 7, 25, 669107), datetime_complete=datetime.datetime(2023, 12, 11, 19, 8, 3, 79625), params={'topK': 37, 'alpha': 0.6905762056636227}, user_attrs={}, system_attrs={}, intermediate_values={}, distributions={'topK': IntDistribution(high=100, log=False, low=10, step=1), 'alpha': FloatDistribution(high=0.9, log=False, low=0.5, step=None)}, trial_id=370, value=None),\n",
       " FrozenTrial(number=371, state=1, values=[0.04231197221527389], datetime_start=datetime.datetime(2023, 12, 11, 19, 8, 3, 80627), datetime_complete=datetime.datetime(2023, 12, 11, 19, 8, 41, 252278), params={'topK': 42, 'alpha': 0.7543343831210397}, user_attrs={}, system_attrs={}, intermediate_values={}, distributions={'topK': IntDistribution(high=100, log=False, low=10, step=1), 'alpha': FloatDistribution(high=0.9, log=False, low=0.5, step=None)}, trial_id=371, value=None),\n",
       " FrozenTrial(number=372, state=1, values=[0.04234975291395455], datetime_start=datetime.datetime(2023, 12, 11, 19, 8, 41, 254285), datetime_complete=datetime.datetime(2023, 12, 11, 19, 9, 19, 205049), params={'topK': 39, 'alpha': 0.7364957645100901}, user_attrs={}, system_attrs={}, intermediate_values={}, distributions={'topK': IntDistribution(high=100, log=False, low=10, step=1), 'alpha': FloatDistribution(high=0.9, log=False, low=0.5, step=None)}, trial_id=372, value=None),\n",
       " FrozenTrial(number=373, state=1, values=[0.04189923522179382], datetime_start=datetime.datetime(2023, 12, 11, 19, 9, 19, 206049), datetime_complete=datetime.datetime(2023, 12, 11, 19, 9, 57, 522186), params={'topK': 44, 'alpha': 0.7214854109595902}, user_attrs={}, system_attrs={}, intermediate_values={}, distributions={'topK': IntDistribution(high=100, log=False, low=10, step=1), 'alpha': FloatDistribution(high=0.9, log=False, low=0.5, step=None)}, trial_id=373, value=None),\n",
       " FrozenTrial(number=374, state=1, values=[0.042293704253346644], datetime_start=datetime.datetime(2023, 12, 11, 19, 9, 57, 523186), datetime_complete=datetime.datetime(2023, 12, 11, 19, 10, 34, 716758), params={'topK': 35, 'alpha': 0.7470186507163897}, user_attrs={}, system_attrs={}, intermediate_values={}, distributions={'topK': IntDistribution(high=100, log=False, low=10, step=1), 'alpha': FloatDistribution(high=0.9, log=False, low=0.5, step=None)}, trial_id=374, value=None),\n",
       " FrozenTrial(number=375, state=1, values=[0.04219852464138354], datetime_start=datetime.datetime(2023, 12, 11, 19, 10, 34, 717764), datetime_complete=datetime.datetime(2023, 12, 11, 19, 11, 12, 499831), params={'topK': 40, 'alpha': 0.7281775437184237}, user_attrs={}, system_attrs={}, intermediate_values={}, distributions={'topK': IntDistribution(high=100, log=False, low=10, step=1), 'alpha': FloatDistribution(high=0.9, log=False, low=0.5, step=None)}, trial_id=375, value=None),\n",
       " FrozenTrial(number=376, state=1, values=[0.04223578791355719], datetime_start=datetime.datetime(2023, 12, 11, 19, 11, 12, 501832), datetime_complete=datetime.datetime(2023, 12, 11, 19, 11, 51, 51636), params={'topK': 48, 'alpha': 0.7388254225372597}, user_attrs={}, system_attrs={}, intermediate_values={}, distributions={'topK': IntDistribution(high=100, log=False, low=10, step=1), 'alpha': FloatDistribution(high=0.9, log=False, low=0.5, step=None)}, trial_id=376, value=None),\n",
       " FrozenTrial(number=377, state=1, values=[0.042304307343503635], datetime_start=datetime.datetime(2023, 12, 11, 19, 11, 51, 52633), datetime_complete=datetime.datetime(2023, 12, 11, 19, 12, 28, 605968), params={'topK': 38, 'alpha': 0.7564755855310514}, user_attrs={}, system_attrs={}, intermediate_values={}, distributions={'topK': IntDistribution(high=100, log=False, low=10, step=1), 'alpha': FloatDistribution(high=0.9, log=False, low=0.5, step=None)}, trial_id=377, value=None),\n",
       " FrozenTrial(number=378, state=1, values=[0.042347394493953895], datetime_start=datetime.datetime(2023, 12, 11, 19, 12, 28, 606969), datetime_complete=datetime.datetime(2023, 12, 11, 19, 13, 6, 611935), params={'topK': 42, 'alpha': 0.7465148660607549}, user_attrs={}, system_attrs={}, intermediate_values={}, distributions={'topK': IntDistribution(high=100, log=False, low=10, step=1), 'alpha': FloatDistribution(high=0.9, log=False, low=0.5, step=None)}, trial_id=378, value=None),\n",
       " FrozenTrial(number=379, state=1, values=[0.04236794157101312], datetime_start=datetime.datetime(2023, 12, 11, 19, 13, 6, 612940), datetime_complete=datetime.datetime(2023, 12, 11, 19, 13, 44, 92477), params={'topK': 37, 'alpha': 0.7304925174374126}, user_attrs={}, system_attrs={}, intermediate_values={}, distributions={'topK': IntDistribution(high=100, log=False, low=10, step=1), 'alpha': FloatDistribution(high=0.9, log=False, low=0.5, step=None)}, trial_id=379, value=None),\n",
       " FrozenTrial(number=380, state=1, values=[0.04209261253635146], datetime_start=datetime.datetime(2023, 12, 11, 19, 13, 44, 93473), datetime_complete=datetime.datetime(2023, 12, 11, 19, 14, 22, 266847), params={'topK': 40, 'alpha': 0.7651999130192161}, user_attrs={}, system_attrs={}, intermediate_values={}, distributions={'topK': IntDistribution(high=100, log=False, low=10, step=1), 'alpha': FloatDistribution(high=0.9, log=False, low=0.5, step=None)}, trial_id=380, value=None),\n",
       " FrozenTrial(number=381, state=1, values=[0.03801823488223456], datetime_start=datetime.datetime(2023, 12, 11, 19, 14, 22, 267847), datetime_complete=datetime.datetime(2023, 12, 11, 19, 14, 59, 659632), params={'topK': 36, 'alpha': 0.8144121597287026}, user_attrs={}, system_attrs={}, intermediate_values={}, distributions={'topK': IntDistribution(high=100, log=False, low=10, step=1), 'alpha': FloatDistribution(high=0.9, log=False, low=0.5, step=None)}, trial_id=381, value=None),\n",
       " FrozenTrial(number=382, state=1, values=[0.041364140858182845], datetime_start=datetime.datetime(2023, 12, 11, 19, 14, 59, 660627), datetime_complete=datetime.datetime(2023, 12, 11, 19, 15, 38, 170166), params={'topK': 45, 'alpha': 0.708478657616281}, user_attrs={}, system_attrs={}, intermediate_values={}, distributions={'topK': IntDistribution(high=100, log=False, low=10, step=1), 'alpha': FloatDistribution(high=0.9, log=False, low=0.5, step=None)}, trial_id=382, value=None),\n",
       " FrozenTrial(number=383, state=1, values=[0.0423434858102368], datetime_start=datetime.datetime(2023, 12, 11, 19, 15, 38, 171157), datetime_complete=datetime.datetime(2023, 12, 11, 19, 16, 15, 948362), params={'topK': 39, 'alpha': 0.7520094331355834}, user_attrs={}, system_attrs={}, intermediate_values={}, distributions={'topK': IntDistribution(high=100, log=False, low=10, step=1), 'alpha': FloatDistribution(high=0.9, log=False, low=0.5, step=None)}, trial_id=383, value=None),\n",
       " FrozenTrial(number=384, state=1, values=[0.04236292463154779], datetime_start=datetime.datetime(2023, 12, 11, 19, 16, 15, 949362), datetime_complete=datetime.datetime(2023, 12, 11, 19, 16, 53, 844326), params={'topK': 42, 'alpha': 0.7412092936359335}, user_attrs={}, system_attrs={}, intermediate_values={}, distributions={'topK': IntDistribution(high=100, log=False, low=10, step=1), 'alpha': FloatDistribution(high=0.9, log=False, low=0.5, step=None)}, trial_id=384, value=None),\n",
       " FrozenTrial(number=385, state=1, values=[0.042109277263057666], datetime_start=datetime.datetime(2023, 12, 11, 19, 16, 53, 845326), datetime_complete=datetime.datetime(2023, 12, 11, 19, 17, 31, 337469), params={'topK': 38, 'alpha': 0.7246864957879556}, user_attrs={}, system_attrs={}, intermediate_values={}, distributions={'topK': IntDistribution(high=100, log=False, low=10, step=1), 'alpha': FloatDistribution(high=0.9, log=False, low=0.5, step=None)}, trial_id=385, value=None),\n",
       " FrozenTrial(number=386, state=1, values=[0.04235287951542632], datetime_start=datetime.datetime(2023, 12, 11, 19, 17, 31, 338469), datetime_complete=datetime.datetime(2023, 12, 11, 19, 18, 9, 228239), params={'topK': 41, 'alpha': 0.7361208193196155}, user_attrs={}, system_attrs={}, intermediate_values={}, distributions={'topK': IntDistribution(high=100, log=False, low=10, step=1), 'alpha': FloatDistribution(high=0.9, log=False, low=0.5, step=None)}, trial_id=386, value=None),\n",
       " FrozenTrial(number=387, state=1, values=[0.03611787250882615], datetime_start=datetime.datetime(2023, 12, 11, 19, 18, 9, 229242), datetime_complete=datetime.datetime(2023, 12, 11, 19, 18, 46, 502532), params={'topK': 36, 'alpha': 0.5938466478266304}, user_attrs={}, system_attrs={}, intermediate_values={}, distributions={'topK': IntDistribution(high=100, log=False, low=10, step=1), 'alpha': FloatDistribution(high=0.9, log=False, low=0.5, step=None)}, trial_id=387, value=None),\n",
       " FrozenTrial(number=388, state=1, values=[0.04230524223054707], datetime_start=datetime.datetime(2023, 12, 11, 19, 18, 46, 503533), datetime_complete=datetime.datetime(2023, 12, 11, 19, 19, 24, 793084), params={'topK': 43, 'alpha': 0.7565058306971756}, user_attrs={}, system_attrs={}, intermediate_values={}, distributions={'topK': IntDistribution(high=100, log=False, low=10, step=1), 'alpha': FloatDistribution(high=0.9, log=False, low=0.5, step=None)}, trial_id=388, value=None),\n",
       " FrozenTrial(number=389, state=1, values=[0.04225259622497202], datetime_start=datetime.datetime(2023, 12, 11, 19, 19, 24, 794084), datetime_complete=datetime.datetime(2023, 12, 11, 19, 20, 1, 935268), params={'topK': 33, 'alpha': 0.7469592782050791}, user_attrs={}, system_attrs={}, intermediate_values={}, distributions={'topK': IntDistribution(high=100, log=False, low=10, step=1), 'alpha': FloatDistribution(high=0.9, log=False, low=0.5, step=None)}, trial_id=389, value=None),\n",
       " FrozenTrial(number=390, state=1, values=[0.041369723916999945], datetime_start=datetime.datetime(2023, 12, 11, 19, 20, 1, 936268), datetime_complete=datetime.datetime(2023, 12, 11, 19, 20, 39, 684448), params={'topK': 39, 'alpha': 0.7749779568211603}, user_attrs={}, system_attrs={}, intermediate_values={}, distributions={'topK': IntDistribution(high=100, log=False, low=10, step=1), 'alpha': FloatDistribution(high=0.9, log=False, low=0.5, step=None)}, trial_id=390, value=None),\n",
       " FrozenTrial(number=391, state=1, values=[0.04094257471846974], datetime_start=datetime.datetime(2023, 12, 11, 19, 20, 39, 686450), datetime_complete=datetime.datetime(2023, 12, 11, 19, 21, 17, 666080), params={'topK': 37, 'alpha': 0.6947227284773103}, user_attrs={}, system_attrs={}, intermediate_values={}, distributions={'topK': IntDistribution(high=100, log=False, low=10, step=1), 'alpha': FloatDistribution(high=0.9, log=False, low=0.5, step=None)}, trial_id=391, value=None),\n",
       " FrozenTrial(number=392, state=1, values=[0.039435425843355694], datetime_start=datetime.datetime(2023, 12, 11, 19, 21, 17, 667080), datetime_complete=datetime.datetime(2023, 12, 11, 19, 21, 55, 396649), params={'topK': 40, 'alpha': 0.6712520669692399}, user_attrs={}, system_attrs={}, intermediate_values={}, distributions={'topK': IntDistribution(high=100, log=False, low=10, step=1), 'alpha': FloatDistribution(high=0.9, log=False, low=0.5, step=None)}, trial_id=392, value=None),\n",
       " FrozenTrial(number=393, state=1, values=[0.04219850305055792], datetime_start=datetime.datetime(2023, 12, 11, 19, 21, 55, 397650), datetime_complete=datetime.datetime(2023, 12, 11, 19, 22, 33, 788323), params={'topK': 44, 'alpha': 0.7340001075912761}, user_attrs={}, system_attrs={}, intermediate_values={}, distributions={'topK': IntDistribution(high=100, log=False, low=10, step=1), 'alpha': FloatDistribution(high=0.9, log=False, low=0.5, step=None)}, trial_id=393, value=None),\n",
       " FrozenTrial(number=394, state=1, values=[0.04184339757078238], datetime_start=datetime.datetime(2023, 12, 11, 19, 22, 33, 789329), datetime_complete=datetime.datetime(2023, 12, 11, 19, 23, 11, 209881), params={'topK': 35, 'alpha': 0.7156693203748603}, user_attrs={}, system_attrs={}, intermediate_values={}, distributions={'topK': IntDistribution(high=100, log=False, low=10, step=1), 'alpha': FloatDistribution(high=0.9, log=False, low=0.5, step=None)}, trial_id=394, value=None),\n",
       " FrozenTrial(number=395, state=1, values=[0.042212703396017646], datetime_start=datetime.datetime(2023, 12, 11, 19, 23, 11, 210889), datetime_complete=datetime.datetime(2023, 12, 11, 19, 23, 49, 338789), params={'topK': 41, 'alpha': 0.7626779716062336}, user_attrs={}, system_attrs={}, intermediate_values={}, distributions={'topK': IntDistribution(high=100, log=False, low=10, step=1), 'alpha': FloatDistribution(high=0.9, log=False, low=0.5, step=None)}, trial_id=395, value=None),\n",
       " FrozenTrial(number=396, state=1, values=[0.04235121435697322], datetime_start=datetime.datetime(2023, 12, 11, 19, 23, 49, 339789), datetime_complete=datetime.datetime(2023, 12, 11, 19, 24, 28, 387554), params={'topK': 38, 'alpha': 0.7425379672986065}, user_attrs={}, system_attrs={}, intermediate_values={}, distributions={'topK': IntDistribution(high=100, log=False, low=10, step=1), 'alpha': FloatDistribution(high=0.9, log=False, low=0.5, step=None)}, trial_id=396, value=None),\n",
       " FrozenTrial(number=397, state=1, values=[0.0352472898985953], datetime_start=datetime.datetime(2023, 12, 11, 19, 24, 28, 389554), datetime_complete=datetime.datetime(2023, 12, 11, 19, 25, 10, 60760), params={'topK': 59, 'alpha': 0.8641241974775686}, user_attrs={}, system_attrs={}, intermediate_values={}, distributions={'topK': IntDistribution(high=100, log=False, low=10, step=1), 'alpha': FloatDistribution(high=0.9, log=False, low=0.5, step=None)}, trial_id=397, value=None),\n",
       " FrozenTrial(number=398, state=1, values=[0.04234504306492983], datetime_start=datetime.datetime(2023, 12, 11, 19, 25, 10, 61762), datetime_complete=datetime.datetime(2023, 12, 11, 19, 25, 49, 669831), params={'topK': 39, 'alpha': 0.753255039602179}, user_attrs={}, system_attrs={}, intermediate_values={}, distributions={'topK': IntDistribution(high=100, log=False, low=10, step=1), 'alpha': FloatDistribution(high=0.9, log=False, low=0.5, step=None)}, trial_id=398, value=None),\n",
       " FrozenTrial(number=399, state=1, values=[0.033216821081010574], datetime_start=datetime.datetime(2023, 12, 11, 19, 25, 49, 670831), datetime_complete=datetime.datetime(2023, 12, 11, 19, 26, 28, 849748), params={'topK': 43, 'alpha': 0.5058142481763646}, user_attrs={}, system_attrs={}, intermediate_values={}, distributions={'topK': IntDistribution(high=100, log=False, low=10, step=1), 'alpha': FloatDistribution(high=0.9, log=False, low=0.5, step=None)}, trial_id=399, value=None)]"
      ]
     },
     "execution_count": 19,
     "metadata": {},
     "output_type": "execute_result"
    }
   ],
   "source": [
    "# [I 2023-12-11 10:49:16,403] Trial 65 finished with value: 0.042232405327327555 and parameters: {'topK': 39, 'alpha': 0.7288366732392773}. Best is trial 65 with value: 0.042232405327327555.\n",
    "study.get_trials()"
   ]
  },
  {
   "cell_type": "code",
   "execution_count": null,
   "metadata": {},
   "outputs": [],
   "source": [
    "# params={'topK': 38, 'alpha': 0.737157602088028} values=[0.04241910694159847]"
   ]
  }
 ],
 "metadata": {
  "kernelspec": {
   "display_name": "Python 3",
   "language": "python",
   "name": "python3"
  },
  "language_info": {
   "codemirror_mode": {
    "name": "ipython",
    "version": 3
   },
   "file_extension": ".py",
   "mimetype": "text/x-python",
   "name": "python",
   "nbconvert_exporter": "python",
   "pygments_lexer": "ipython3",
   "version": "3.11.7"
  }
 },
 "nbformat": 4,
 "nbformat_minor": 2
}
