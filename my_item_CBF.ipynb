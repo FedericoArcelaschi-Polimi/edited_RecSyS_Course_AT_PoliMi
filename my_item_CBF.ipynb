{
 "cells": [
  {
   "cell_type": "code",
   "execution_count": 13,
   "metadata": {},
   "outputs": [
    {
     "name": "stdout",
     "output_type": "stream",
     "text": [
      "The Cython extension is already loaded. To reload it, use:\n",
      "  %reload_ext Cython\n"
     ]
    }
   ],
   "source": [
    "import numpy as np\n",
    "import matplotlib.pyplot as pyplot\n",
    "import pandas as pd\n",
    "import scipy.sparse as sps\n",
    "%matplotlib inline  \n",
    "%load_ext Cython\n",
    "\n",
    "from Evaluation.Evaluator import EvaluatorHoldout\n",
    "from Data_manager.split_functions.split_train_validation_random_holdout import split_train_in_two_percentage_global_sample\n",
    "from Recommenders.Similarity.Compute_Similarity_Python import Compute_Similarity_Python"
   ]
  },
  {
   "cell_type": "code",
   "execution_count": 14,
   "metadata": {},
   "outputs": [],
   "source": [
    "class ItemKNNCFRecommender(object):\n",
    "    \n",
    "    def __init__(self, URM):\n",
    "        self.URM = URM\n",
    "        \n",
    "            \n",
    "    def fit(self, topK=50, shrink=100, normalize=True, similarity=\"cosine\"):\n",
    "        \n",
    "        similarity_object = Compute_Similarity_Python(self.URM, shrink=shrink, \n",
    "                                                  topK=topK, normalize=normalize, \n",
    "                                                  similarity = similarity)\n",
    "        \n",
    "        self.W_sparse = similarity_object.compute_similarity()\n",
    "\n",
    "        \n",
    "    def recommend(self, user_id, at=None, exclude_seen=True):\n",
    "        # compute the scores using the dot product\n",
    "        user_profile = self.URM[user_id]\n",
    "        scores = user_profile.dot(self.W_sparse).toarray().ravel()\n",
    "\n",
    "        if exclude_seen:\n",
    "            scores = self.filter_seen(user_id, scores)\n",
    "\n",
    "        # rank items\n",
    "        ranking = scores.argsort()[::-1]\n",
    "            \n",
    "        return ranking[:at]\n",
    "    \n",
    "    \n",
    "    def filter_seen(self, user_id, scores):\n",
    "\n",
    "        start_pos = self.URM.indptr[user_id]\n",
    "        end_pos = self.URM.indptr[user_id+1]\n",
    "\n",
    "        user_profile = self.URM.indices[start_pos:end_pos]\n",
    "        \n",
    "        scores[user_profile] = -np.inf\n",
    "\n",
    "        return scores"
   ]
  },
  {
   "cell_type": "code",
   "execution_count": 15,
   "metadata": {},
   "outputs": [],
   "source": [
    "# data_train_path=\"/kaggle/input/recommender-system-2023-challenge-polimi/data_train.csv\"\n",
    "# data_target_user_path=\"/kaggle/input/recommender-system-2023-challenge-polimi/data_target_users_test.csv\"\n",
    "data_train_path=\"data_train.csv\"\n",
    "data_target_user_path=\"data_target_users_test.csv\"\n",
    "data_train = pd.read_csv(data_train_path)\n",
    "data_target = pd.read_csv(data_target_user_path)"
   ]
  },
  {
   "cell_type": "code",
   "execution_count": 16,
   "metadata": {},
   "outputs": [
    {
     "data": {
      "text/plain": [
       "<13024x22222 sparse matrix of type '<class 'numpy.float64'>'\n",
       "\twith 478730 stored elements in Compressed Sparse Row format>"
      ]
     },
     "execution_count": 16,
     "metadata": {},
     "output_type": "execute_result"
    }
   ],
   "source": [
    "URM_all =  data_train.pivot(index='row', columns='col', values='data').fillna(0)\n",
    "item_map = {i : item for i, item in enumerate(URM_all.columns)}\n",
    "user_map = {i : user for i, user in enumerate(data_target[\"user_id\"])}\n",
    "item_map_inv = {item : i for i, item in item_map.items()}\n",
    "user_map_inv = {user : i for i, user in user_map.items()}\n",
    "missing_index = [x for x in range(1,13025) if x not in URM_all.index.tolist()]\n",
    "add_urm = pd.DataFrame(index = missing_index, columns = URM_all.columns).fillna(0)\n",
    "URM_all = pd.concat([URM_all, add_urm]).sort_index()\n",
    "del add_urm\n",
    "del missing_index\n",
    "#data_target[\"user_id\"] = data_target[\"user_id\"]\n",
    "URM_all = URM_all.to_numpy()\n",
    "urm_sparse = sps.csr_matrix(URM_all)\n",
    "urm_sparse"
   ]
  },
  {
   "cell_type": "code",
   "execution_count": 17,
   "metadata": {},
   "outputs": [
    {
     "name": "stdout",
     "output_type": "stream",
     "text": [
      "Warning: 596 (4.58 %) of 13024 users have no train items\n",
      "Warning: 2567 (19.71 %) of 13024 users have no sampled items\n",
      "EvaluatorHoldout: Ignoring 2567 (19.7%) Users that have less than 1 test interactions\n"
     ]
    }
   ],
   "source": [
    "URM_train, URM_test = split_train_in_two_percentage_global_sample(urm_sparse, train_percentage = 0.80)\n",
    "# URM_train, URM_validation = split_train_in_two_percentage_global_sample(URM_train, train_percentage = 0.80)\n",
    "# evaluator_validation = EvaluatorHoldout(URM_validation, cutoff_list=[10])\n",
    "evaluator_test = EvaluatorHoldout(URM_test, cutoff_list=[10])"
   ]
  },
  {
   "cell_type": "code",
   "execution_count": 18,
   "metadata": {},
   "outputs": [
    {
     "name": "stdout",
     "output_type": "stream",
     "text": [
      "Similarity column 22222 (100.0%), 2199.70 column/sec. Elapsed time 10.10 sec\n"
     ]
    }
   ],
   "source": [
    "recommender = ItemKNNCFRecommender(URM_train)\n",
    "recommender.fit(shrink=0.0, topK=50)"
   ]
  },
  {
   "cell_type": "code",
   "execution_count": 19,
   "metadata": {},
   "outputs": [
    {
     "name": "stdout",
     "output_type": "stream",
     "text": [
      "ItemKNNCFRecommender: URM Detected 596 ( 4.6%) users with no interactions.\n",
      "ItemKNNCFRecommender: URM Detected 124 ( 0.6%) items with no interactions.\n",
      "Unable to load Cython Compute_Similarity, reverting to Python\n",
      "Similarity column 22222 (100.0%), 2296.74 column/sec. Elapsed time 9.68 sec\n",
      "EvaluatorHoldout: Processed 10000 (100.0%) in 6.34 sec. Users per second: 1578\n",
      "ItemKNNCFRecommender: URM Detected 596 ( 4.6%) users with no interactions.\n",
      "ItemKNNCFRecommender: URM Detected 124 ( 0.6%) items with no interactions.\n",
      "Unable to load Cython Compute_Similarity, reverting to Python\n",
      "Similarity column 22222 (100.0%), 2566.57 column/sec. Elapsed time 8.66 sec\n",
      "EvaluatorHoldout: Processed 10000 (100.0%) in 6.28 sec. Users per second: 1593\n",
      "ItemKNNCFRecommender: URM Detected 596 ( 4.6%) users with no interactions.\n",
      "ItemKNNCFRecommender: URM Detected 124 ( 0.6%) items with no interactions.\n",
      "Unable to load Cython Compute_Similarity, reverting to Python\n",
      "Similarity column 22222 (100.0%), 2661.85 column/sec. Elapsed time 8.35 sec\n",
      "EvaluatorHoldout: Processed 10000 (100.0%) in 6.29 sec. Users per second: 1590\n",
      "ItemKNNCFRecommender: URM Detected 596 ( 4.6%) users with no interactions.\n",
      "ItemKNNCFRecommender: URM Detected 124 ( 0.6%) items with no interactions.\n",
      "Unable to load Cython Compute_Similarity, reverting to Python\n",
      "Similarity column 22222 (100.0%), 2530.39 column/sec. Elapsed time 8.78 sec\n",
      "EvaluatorHoldout: Processed 10000 (100.0%) in 6.35 sec. Users per second: 1575\n",
      "ItemKNNCFRecommender: URM Detected 596 ( 4.6%) users with no interactions.\n",
      "ItemKNNCFRecommender: URM Detected 124 ( 0.6%) items with no interactions.\n",
      "Unable to load Cython Compute_Similarity, reverting to Python\n",
      "Similarity column 22222 (100.0%), 2512.05 column/sec. Elapsed time 8.85 sec\n",
      "EvaluatorHoldout: Processed 10000 (100.0%) in 6.22 sec. Users per second: 1608\n",
      "ItemKNNCFRecommender: URM Detected 596 ( 4.6%) users with no interactions.\n",
      "ItemKNNCFRecommender: URM Detected 124 ( 0.6%) items with no interactions.\n",
      "Unable to load Cython Compute_Similarity, reverting to Python\n",
      "Similarity column 22222 (100.0%), 2533.17 column/sec. Elapsed time 8.77 sec\n",
      "EvaluatorHoldout: Processed 10000 (100.0%) in 6.44 sec. Users per second: 1552\n",
      "ItemKNNCFRecommender: URM Detected 596 ( 4.6%) users with no interactions.\n",
      "ItemKNNCFRecommender: URM Detected 124 ( 0.6%) items with no interactions.\n",
      "Unable to load Cython Compute_Similarity, reverting to Python\n",
      "Similarity column 22222 (100.0%), 2332.01 column/sec. Elapsed time 9.53 sec\n",
      "EvaluatorHoldout: Processed 10000 (100.0%) in 6.42 sec. Users per second: 1557\n",
      "ItemKNNCFRecommender: URM Detected 596 ( 4.6%) users with no interactions.\n",
      "ItemKNNCFRecommender: URM Detected 124 ( 0.6%) items with no interactions.\n",
      "Unable to load Cython Compute_Similarity, reverting to Python\n",
      "Similarity column 22222 (100.0%), 2449.01 column/sec. Elapsed time 9.07 sec\n",
      "EvaluatorHoldout: Processed 10000 (100.0%) in 6.34 sec. Users per second: 1578\n",
      "ItemKNNCFRecommender: URM Detected 596 ( 4.6%) users with no interactions.\n",
      "ItemKNNCFRecommender: URM Detected 124 ( 0.6%) items with no interactions.\n",
      "Unable to load Cython Compute_Similarity, reverting to Python\n",
      "Similarity column 22222 (100.0%), 2686.65 column/sec. Elapsed time 8.27 sec\n",
      "EvaluatorHoldout: Processed 10000 (100.0%) in 6.15 sec. Users per second: 1626\n",
      "ItemKNNCFRecommender: URM Detected 596 ( 4.6%) users with no interactions.\n",
      "ItemKNNCFRecommender: URM Detected 124 ( 0.6%) items with no interactions.\n",
      "Unable to load Cython Compute_Similarity, reverting to Python\n",
      "Similarity column 22222 (100.0%), 2441.68 column/sec. Elapsed time 9.10 sec\n",
      "EvaluatorHoldout: Processed 10000 (100.0%) in 6.44 sec. Users per second: 1554\n",
      "ItemKNNCFRecommender: URM Detected 596 ( 4.6%) users with no interactions.\n",
      "ItemKNNCFRecommender: URM Detected 124 ( 0.6%) items with no interactions.\n",
      "Unable to load Cython Compute_Similarity, reverting to Python\n",
      "Similarity column 22222 (100.0%), 2045.08 column/sec. Elapsed time 10.87 sec\n",
      "EvaluatorHoldout: Processed 10000 (100.0%) in 7.39 sec. Users per second: 1353\n"
     ]
    }
   ],
   "source": [
    "import pandas as pd\n",
    "from scipy.stats import loguniform\n",
    "from Recommenders.KNN.ItemKNNCFRecommender import ItemKNNCFRecommender\n",
    "\n",
    "hyperparameter_search_rnd = pd.DataFrame(columns = [\"k\", \"MAP\"])\n",
    "hyperparameter_search_rnd[\"k\"] = loguniform.rvs(1, 200, size=11).astype(int)\n",
    "hyperparameter_search_rnd = hyperparameter_search_rnd.sort_values(by=\"k\")\n",
    "\n",
    "for index in hyperparameter_search_rnd.index:\n",
    "    \n",
    "    recommender = ItemKNNCFRecommender(URM_train)\n",
    "    recommender.fit(shrink=0.0, topK=hyperparameter_search_rnd.loc[index,\"k\"])\n",
    "    \n",
    "    result_df, _ = evaluator_validation.evaluateRecommender(recommender)\n",
    "    \n",
    "    hyperparameter_search_rnd.loc[index,\"MAP\"] = result_df.loc[10][\"MAP\"]"
   ]
  },
  {
   "cell_type": "code",
   "execution_count": 20,
   "metadata": {},
   "outputs": [
    {
     "data": {
      "image/png": "[encoded data removed]",
      "text/plain": [
       "<Figure size 640x480 with 1 Axes>"
      ]
     },
     "metadata": {},
     "output_type": "display_data"
    }
   ],
   "source": [
    "pyplot.plot(hyperparameter_search_rnd[\"k\"].values, hyperparameter_search_rnd[\"MAP\"].values)\n",
    "pyplot.ylabel('MAP')\n",
    "pyplot.xlabel('TopK')\n",
    "pyplot.show()"
   ]
  },
  {
   "cell_type": "code",
   "execution_count": 21,
   "metadata": {},
   "outputs": [
    {
     "data": {
      "text/html": [
       "<div>\n",
       "<style scoped>\n",
       "    .dataframe tbody tr th:only-of-type {\n",
       "        vertical-align: middle;\n",
       "    }\n",
       "\n",
       "    .dataframe tbody tr th {\n",
       "        vertical-align: top;\n",
       "    }\n",
       "\n",
       "    .dataframe thead th {\n",
       "        text-align: right;\n",
       "    }\n",
       "</style>\n",
       "<table border=\"1\" class=\"dataframe\">\n",
       "  <thead>\n",
       "    <tr style=\"text-align: right;\">\n",
       "      <th></th>\n",
       "      <th>k</th>\n",
       "      <th>MAP</th>\n",
       "    </tr>\n",
       "  </thead>\n",
       "  <tbody>\n",
       "    <tr>\n",
       "      <th>2</th>\n",
       "      <td>3</td>\n",
       "      <td>0.005201</td>\n",
       "    </tr>\n",
       "    <tr>\n",
       "      <th>8</th>\n",
       "      <td>3</td>\n",
       "      <td>0.005201</td>\n",
       "    </tr>\n",
       "    <tr>\n",
       "      <th>1</th>\n",
       "      <td>4</td>\n",
       "      <td>0.005456</td>\n",
       "    </tr>\n",
       "    <tr>\n",
       "      <th>9</th>\n",
       "      <td>4</td>\n",
       "      <td>0.005456</td>\n",
       "    </tr>\n",
       "    <tr>\n",
       "      <th>4</th>\n",
       "      <td>6</td>\n",
       "      <td>0.005661</td>\n",
       "    </tr>\n",
       "    <tr>\n",
       "      <th>6</th>\n",
       "      <td>11</td>\n",
       "      <td>0.005614</td>\n",
       "    </tr>\n",
       "    <tr>\n",
       "      <th>10</th>\n",
       "      <td>17</td>\n",
       "      <td>0.005774</td>\n",
       "    </tr>\n",
       "    <tr>\n",
       "      <th>5</th>\n",
       "      <td>21</td>\n",
       "      <td>0.005824</td>\n",
       "    </tr>\n",
       "    <tr>\n",
       "      <th>3</th>\n",
       "      <td>23</td>\n",
       "      <td>0.005881</td>\n",
       "    </tr>\n",
       "    <tr>\n",
       "      <th>0</th>\n",
       "      <td>48</td>\n",
       "      <td>0.005623</td>\n",
       "    </tr>\n",
       "    <tr>\n",
       "      <th>7</th>\n",
       "      <td>141</td>\n",
       "      <td>0.005495</td>\n",
       "    </tr>\n",
       "  </tbody>\n",
       "</table>\n",
       "</div>"
      ],
      "text/plain": [
       "      k       MAP\n",
       "2     3  0.005201\n",
       "8     3  0.005201\n",
       "1     4  0.005456\n",
       "9     4  0.005456\n",
       "4     6  0.005661\n",
       "6    11  0.005614\n",
       "10   17  0.005774\n",
       "5    21  0.005824\n",
       "3    23  0.005881\n",
       "0    48  0.005623\n",
       "7   141  0.005495"
      ]
     },
     "execution_count": 21,
     "metadata": {},
     "output_type": "execute_result"
    }
   ],
   "source": [
    "hyperparameter_search_rnd"
   ]
  },
  {
   "cell_type": "code",
   "execution_count": 22,
   "metadata": {},
   "outputs": [
    {
     "name": "stdout",
     "output_type": "stream",
     "text": [
      "ItemKNNCFRecommender: URM Detected 596 ( 4.6%) users with no interactions.\n",
      "ItemKNNCFRecommender: URM Detected 124 ( 0.6%) items with no interactions.\n",
      "Unable to load Cython Compute_Similarity, reverting to Python\n",
      "Similarity column 22222 (100.0%), 2572.02 column/sec. Elapsed time 8.64 sec\n",
      "EvaluatorHoldout: Processed 10000 (100.0%) in 6.53 sec. Users per second: 1531\n",
      "ItemKNNCFRecommender: URM Detected 596 ( 4.6%) users with no interactions.\n",
      "ItemKNNCFRecommender: URM Detected 124 ( 0.6%) items with no interactions.\n",
      "Unable to load Cython Compute_Similarity, reverting to Python\n",
      "Similarity column 22222 (100.0%), 2376.19 column/sec. Elapsed time 9.35 sec\n",
      "EvaluatorHoldout: Processed 10000 (100.0%) in 6.73 sec. Users per second: 1486\n",
      "ItemKNNCFRecommender: URM Detected 596 ( 4.6%) users with no interactions.\n",
      "ItemKNNCFRecommender: URM Detected 124 ( 0.6%) items with no interactions.\n",
      "Unable to load Cython Compute_Similarity, reverting to Python\n",
      "Similarity column 22222 (100.0%), 2404.91 column/sec. Elapsed time 9.24 sec\n",
      "EvaluatorHoldout: Processed 10000 (100.0%) in 6.58 sec. Users per second: 1520\n",
      "ItemKNNCFRecommender: URM Detected 596 ( 4.6%) users with no interactions.\n",
      "ItemKNNCFRecommender: URM Detected 124 ( 0.6%) items with no interactions.\n",
      "Unable to load Cython Compute_Similarity, reverting to Python\n",
      "Similarity column 22222 (100.0%), 2323.76 column/sec. Elapsed time 9.56 sec\n",
      "EvaluatorHoldout: Processed 10000 (100.0%) in 6.46 sec. Users per second: 1548\n",
      "ItemKNNCFRecommender: URM Detected 596 ( 4.6%) users with no interactions.\n",
      "ItemKNNCFRecommender: URM Detected 124 ( 0.6%) items with no interactions.\n",
      "Unable to load Cython Compute_Similarity, reverting to Python\n",
      "Similarity column 22222 (100.0%), 2497.30 column/sec. Elapsed time 8.90 sec\n",
      "EvaluatorHoldout: Processed 10000 (100.0%) in 6.70 sec. Users per second: 1492\n",
      "ItemKNNCFRecommender: URM Detected 596 ( 4.6%) users with no interactions.\n",
      "ItemKNNCFRecommender: URM Detected 124 ( 0.6%) items with no interactions.\n",
      "Unable to load Cython Compute_Similarity, reverting to Python\n",
      "Similarity column 22222 (100.0%), 2169.26 column/sec. Elapsed time 10.24 sec\n",
      "EvaluatorHoldout: Processed 10000 (100.0%) in 6.50 sec. Users per second: 1537\n",
      "ItemKNNCFRecommender: URM Detected 596 ( 4.6%) users with no interactions.\n",
      "ItemKNNCFRecommender: URM Detected 124 ( 0.6%) items with no interactions.\n",
      "Unable to load Cython Compute_Similarity, reverting to Python\n",
      "Similarity column 22222 (100.0%), 2511.84 column/sec. Elapsed time 8.85 sec\n",
      "EvaluatorHoldout: Processed 10000 (100.0%) in 6.35 sec. Users per second: 1574\n",
      "ItemKNNCFRecommender: URM Detected 596 ( 4.6%) users with no interactions.\n",
      "ItemKNNCFRecommender: URM Detected 124 ( 0.6%) items with no interactions.\n",
      "Unable to load Cython Compute_Similarity, reverting to Python\n",
      "Similarity column 22222 (100.0%), 2540.15 column/sec. Elapsed time 8.75 sec\n",
      "EvaluatorHoldout: Processed 10000 (100.0%) in 6.25 sec. Users per second: 1600\n",
      "ItemKNNCFRecommender: URM Detected 596 ( 4.6%) users with no interactions.\n",
      "ItemKNNCFRecommender: URM Detected 124 ( 0.6%) items with no interactions.\n",
      "Unable to load Cython Compute_Similarity, reverting to Python\n",
      "Similarity column 22222 (100.0%), 2676.89 column/sec. Elapsed time 8.30 sec\n",
      "EvaluatorHoldout: Processed 10000 (100.0%) in 6.36 sec. Users per second: 1572\n",
      "ItemKNNCFRecommender: URM Detected 596 ( 4.6%) users with no interactions.\n",
      "ItemKNNCFRecommender: URM Detected 124 ( 0.6%) items with no interactions.\n",
      "Unable to load Cython Compute_Similarity, reverting to Python\n",
      "Similarity column 22222 (100.0%), 2681.74 column/sec. Elapsed time 8.29 sec\n",
      "EvaluatorHoldout: Processed 10000 (100.0%) in 6.58 sec. Users per second: 1519\n",
      "ItemKNNCFRecommender: URM Detected 596 ( 4.6%) users with no interactions.\n",
      "ItemKNNCFRecommender: URM Detected 124 ( 0.6%) items with no interactions.\n",
      "Unable to load Cython Compute_Similarity, reverting to Python\n",
      "Similarity column 22222 (100.0%), 2251.14 column/sec. Elapsed time 9.87 sec\n",
      "EvaluatorHoldout: Processed 10000 (100.0%) in 7.70 sec. Users per second: 1298\n"
     ]
    }
   ],
   "source": [
    "best_k_value = hyperparameter_search_rnd.loc[hyperparameter_search_rnd[\"MAP\"].astype(float).idxmax()]\n",
    "best_k_value\n",
    "\n",
    "hyperparameter_search_rnd = pd.DataFrame(columns = [\"k\", \"shrink\", \"MAP\"])\n",
    "hyperparameter_search_rnd[\"shrink\"] = loguniform.rvs(0.1, 50, size=11).astype(int)\n",
    "hyperparameter_search_rnd = hyperparameter_search_rnd.sort_values(by=\"shrink\")\n",
    "hyperparameter_search_rnd[\"k\"] = best_k_value[\"k\"]\n",
    "\n",
    "for index in hyperparameter_search_rnd.index:\n",
    "    \n",
    "    recommender = ItemKNNCFRecommender(URM_train)\n",
    "    recommender.fit(shrink=hyperparameter_search_rnd.loc[index,\"shrink\"], \n",
    "                    topK=hyperparameter_search_rnd.loc[index,\"k\"])\n",
    "    \n",
    "    result_df, _ = evaluator_validation.evaluateRecommender(recommender)\n",
    "    \n",
    "    hyperparameter_search_rnd.loc[index, \"MAP\"] = result_df.loc[10][\"MAP\"]"
   ]
  },
  {
   "cell_type": "code",
   "execution_count": 23,
   "metadata": {},
   "outputs": [
    {
     "data": {
      "image/png": "[encoded data removed]",
      "text/plain": [
       "<Figure size 640x480 with 1 Axes>"
      ]
     },
     "metadata": {},
     "output_type": "display_data"
    }
   ],
   "source": [
    "pyplot.plot(hyperparameter_search_rnd[\"shrink\"].values, hyperparameter_search_rnd[\"MAP\"].values)\n",
    "pyplot.ylabel('MAP')\n",
    "pyplot.xlabel('Shrinkage')\n",
    "pyplot.show()"
   ]
  },
  {
   "cell_type": "code",
   "execution_count": 24,
   "metadata": {},
   "outputs": [
    {
     "data": {
      "text/plain": [
       "k               23\n",
       "shrink           3\n",
       "MAP       0.006056\n",
       "Name: 4, dtype: object"
      ]
     },
     "execution_count": 24,
     "metadata": {},
     "output_type": "execute_result"
    }
   ],
   "source": [
    "best_parameters_value = hyperparameter_search_rnd.loc[hyperparameter_search_rnd[\"MAP\"].astype(float).idxmax()]\n",
    "best_parameters_value"
   ]
  },
  {
   "cell_type": "code",
   "execution_count": 25,
   "metadata": {},
   "outputs": [
    {
     "name": "stdout",
     "output_type": "stream",
     "text": [
      "ItemKNNCFRecommender: URM Detected 386 ( 3.0%) users with no interactions.\n",
      "Unable to load Cython Compute_Similarity, reverting to Python\n",
      "Similarity column 22222 (100.0%), 1877.27 column/sec. Elapsed time 11.84 sec\n",
      "Reasonable implementation speed is 619.29 usr/sec\n"
     ]
    }
   ],
   "source": [
    "import time\n",
    "recommender = ItemKNNCFRecommender(urm_sparse)\n",
    "recommender.fit(shrink=best_parameters_value[\"shrink\"], topK=best_parameters_value[\"k\"])\n",
    "n_users_to_test = len(data_target[\"user_id\"])\n",
    "suggestions = pd.DataFrame(columns = [\"user_id\", \"item_list\", \"item_scores\"])\n",
    "start_time = time.time()\n",
    "\n",
    "for user_id in (data_target[\"user_id\"]-1):\n",
    "    suggestion, suggestion_values = recommender.recommend(user_id, cutoff=10, return_scores=True)\n",
    "    suggestions.loc[len(suggestions)] = [user_id+1, \" \".join([str(item_map[x]) for x in suggestion]), \" \".join([str(x) for x in np.flip(np.sort(suggestion_values))[0][:10]])]\n",
    "    \n",
    "end_time = time.time()\n",
    "\n",
    "print(\"Reasonable implementation speed is {:.2f} usr/sec\".format(n_users_to_test/(end_time-start_time)))"
   ]
  },
  {
   "cell_type": "code",
   "execution_count": 26,
   "metadata": {},
   "outputs": [],
   "source": [
    "#suggestions.to_csv('outputs/collaborative_item_item.csv', index=False)"
   ]
  },
  {
   "cell_type": "code",
   "execution_count": 27,
   "metadata": {},
   "outputs": [
    {
     "data": {
      "text/html": [
       "<div>\n",
       "<style scoped>\n",
       "    .dataframe tbody tr th:only-of-type {\n",
       "        vertical-align: middle;\n",
       "    }\n",
       "\n",
       "    .dataframe tbody tr th {\n",
       "        vertical-align: top;\n",
       "    }\n",
       "\n",
       "    .dataframe thead th {\n",
       "        text-align: right;\n",
       "    }\n",
       "</style>\n",
       "<table border=\"1\" class=\"dataframe\">\n",
       "  <thead>\n",
       "    <tr style=\"text-align: right;\">\n",
       "      <th></th>\n",
       "      <th>user_id</th>\n",
       "      <th>item_list</th>\n",
       "      <th>item_scores</th>\n",
       "    </tr>\n",
       "  </thead>\n",
       "  <tbody>\n",
       "    <tr>\n",
       "      <th>0</th>\n",
       "      <td>1</td>\n",
       "      <td>101 403 515 506 36 977 1546 869 922 318</td>\n",
       "      <td>1.9704008 1.750514 1.5578038 1.5354275 1.49453...</td>\n",
       "    </tr>\n",
       "    <tr>\n",
       "      <th>1</th>\n",
       "      <td>2</td>\n",
       "      <td>1095 11 47 28 50 4 12 5 136 6</td>\n",
       "      <td>1.4058849 1.3188555 1.3066249 1.2116627 1.1660...</td>\n",
       "    </tr>\n",
       "    <tr>\n",
       "      <th>2</th>\n",
       "      <td>3</td>\n",
       "      <td>59 956 584 2748 857 1281 536 259 2172 648</td>\n",
       "      <td>0.3344119 0.3292961 0.31564894 0.3086834 0.306...</td>\n",
       "    </tr>\n",
       "    <tr>\n",
       "      <th>3</th>\n",
       "      <td>4</td>\n",
       "      <td>28 50 249 136 145 5 277 111 363 122</td>\n",
       "      <td>2.1428757 1.9647391 1.6645603 1.5421509 1.5406...</td>\n",
       "    </tr>\n",
       "    <tr>\n",
       "      <th>4</th>\n",
       "      <td>5</td>\n",
       "      <td>1570 5138 77 7033 9039 4 238 116 148 20</td>\n",
       "      <td>1.1080153 1.0350269 0.9306607 0.92600083 0.922...</td>\n",
       "    </tr>\n",
       "    <tr>\n",
       "      <th>...</th>\n",
       "      <td>...</td>\n",
       "      <td>...</td>\n",
       "      <td>...</td>\n",
       "    </tr>\n",
       "    <tr>\n",
       "      <th>10877</th>\n",
       "      <td>13020</td>\n",
       "      <td>6450 6198 6452 7395 6749 7394 4323 12468 8743 ...</td>\n",
       "      <td>6.52352 6.0895486 6.045894 5.6441913 5.591287 ...</td>\n",
       "    </tr>\n",
       "    <tr>\n",
       "      <th>10878</th>\n",
       "      <td>13021</td>\n",
       "      <td>6179 6426 7027 6720 6451 6749 13621 20518 2050...</td>\n",
       "      <td>11.405987 10.792806 10.601754 10.198996 10.070...</td>\n",
       "    </tr>\n",
       "    <tr>\n",
       "      <th>10879</th>\n",
       "      <td>13022</td>\n",
       "      <td>1668 1446 1411 1674 809 10789 1561 8550 8100 1...</td>\n",
       "      <td>1.6723673 1.6144214 1.6026337 1.5664377 1.3270...</td>\n",
       "    </tr>\n",
       "    <tr>\n",
       "      <th>10880</th>\n",
       "      <td>13023</td>\n",
       "      <td>837 1107 1124 706 639 1534 978 1146 1290 828</td>\n",
       "      <td>1.4537846 1.3834087 1.3473324 1.3461387 1.3224...</td>\n",
       "    </tr>\n",
       "    <tr>\n",
       "      <th>10881</th>\n",
       "      <td>13024</td>\n",
       "      <td>10211 4076 4082 6215 8259 2120 7811 7771 1776 ...</td>\n",
       "      <td>4.770474 4.6843753 4.6816835 4.335841 4.085976...</td>\n",
       "    </tr>\n",
       "  </tbody>\n",
       "</table>\n",
       "<p>10882 rows × 3 columns</p>\n",
       "</div>"
      ],
      "text/plain": [
       "       user_id                                          item_list  \\\n",
       "0            1            101 403 515 506 36 977 1546 869 922 318   \n",
       "1            2                      1095 11 47 28 50 4 12 5 136 6   \n",
       "2            3          59 956 584 2748 857 1281 536 259 2172 648   \n",
       "3            4                28 50 249 136 145 5 277 111 363 122   \n",
       "4            5            1570 5138 77 7033 9039 4 238 116 148 20   \n",
       "...        ...                                                ...   \n",
       "10877    13020  6450 6198 6452 7395 6749 7394 4323 12468 8743 ...   \n",
       "10878    13021  6179 6426 7027 6720 6451 6749 13621 20518 2050...   \n",
       "10879    13022  1668 1446 1411 1674 809 10789 1561 8550 8100 1...   \n",
       "10880    13023       837 1107 1124 706 639 1534 978 1146 1290 828   \n",
       "10881    13024  10211 4076 4082 6215 8259 2120 7811 7771 1776 ...   \n",
       "\n",
       "                                             item_scores  \n",
       "0      1.9704008 1.750514 1.5578038 1.5354275 1.49453...  \n",
       "1      1.4058849 1.3188555 1.3066249 1.2116627 1.1660...  \n",
       "2      0.3344119 0.3292961 0.31564894 0.3086834 0.306...  \n",
       "3      2.1428757 1.9647391 1.6645603 1.5421509 1.5406...  \n",
       "4      1.1080153 1.0350269 0.9306607 0.92600083 0.922...  \n",
       "...                                                  ...  \n",
       "10877  6.52352 6.0895486 6.045894 5.6441913 5.591287 ...  \n",
       "10878  11.405987 10.792806 10.601754 10.198996 10.070...  \n",
       "10879  1.6723673 1.6144214 1.6026337 1.5664377 1.3270...  \n",
       "10880  1.4537846 1.3834087 1.3473324 1.3461387 1.3224...  \n",
       "10881  4.770474 4.6843753 4.6816835 4.335841 4.085976...  \n",
       "\n",
       "[10882 rows x 3 columns]"
      ]
     },
     "execution_count": 27,
     "metadata": {},
     "output_type": "execute_result"
    }
   ],
   "source": [
    "suggestions"
   ]
  }
 ],
 "metadata": {
  "kernelspec": {
   "display_name": "Python 3",
   "language": "python",
   "name": "python3"
  },
  "language_info": {
   "codemirror_mode": {
    "name": "ipython",
    "version": 3
   },
   "file_extension": ".py",
   "mimetype": "text/x-python",
   "name": "python",
   "nbconvert_exporter": "python",
   "pygments_lexer": "ipython3",
   "version": "3.11.7"
  }
 },
 "nbformat": 4,
 "nbformat_minor": 2
}
