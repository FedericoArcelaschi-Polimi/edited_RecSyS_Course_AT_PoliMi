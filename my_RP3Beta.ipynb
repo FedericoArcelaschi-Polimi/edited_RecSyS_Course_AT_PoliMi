{
 "cells": [
  {
   "cell_type": "code",
   "execution_count": 1,
   "metadata": {},
   "outputs": [
    {
     "name": "stderr",
     "output_type": "stream",
     "text": [
      "C:\\Users\\feder\\AppData\\Local\\Packages\\PythonSoftwareFoundation.Python.3.11_qbz5n2kfra8p0\\LocalCache\\local-packages\\Python311\\site-packages\\tqdm\\auto.py:21: TqdmWarning: IProgress not found. Please update jupyter and ipywidgets. See https://ipywidgets.readthedocs.io/en/stable/user_install.html\n",
      "  from .autonotebook import tqdm as notebook_tqdm\n"
     ]
    }
   ],
   "source": [
    "import numpy as np\n",
    "import matplotlib.pyplot as pyplot\n",
    "import pandas as pd\n",
    "import scipy.sparse as sps\n",
    "%matplotlib inline  \n",
    "%load_ext Cython\n",
    "\n",
    "from Evaluation.Evaluator import EvaluatorHoldout\n",
    "from Data_manager.split_functions.split_train_validation_random_holdout import split_train_in_two_percentage_global_sample\n",
    "from Recommenders.GraphBased.RP3betaRecommender import RP3betaRecommender\n",
    "import optuna"
   ]
  },
  {
   "cell_type": "code",
   "execution_count": 2,
   "metadata": {},
   "outputs": [],
   "source": [
    "# data_train_path=\"/kaggle/input/recommender-system-2023-challenge-polimi/data_train.csv\"\n",
    "# data_target_user_path=\"/kaggle/input/recommender-system-2023-challenge-polimi/data_target_users_test.csv\"\n",
    "data_train_path=\"data_train.csv\"\n",
    "data_target_user_path=\"data_target_users_test.csv\"\n",
    "data_train = pd.read_csv(data_train_path)\n",
    "data_target = pd.read_csv(data_target_user_path)"
   ]
  },
  {
   "cell_type": "code",
   "execution_count": 3,
   "metadata": {},
   "outputs": [
    {
     "data": {
      "text/plain": [
       "<13024x22222 sparse matrix of type '<class 'numpy.float64'>'\n",
       "\twith 478730 stored elements in Compressed Sparse Row format>"
      ]
     },
     "execution_count": 3,
     "metadata": {},
     "output_type": "execute_result"
    }
   ],
   "source": [
    "URM_all =  data_train.pivot(index='row', columns='col', values='data').fillna(0)\n",
    "item_map = {i : item for i, item in enumerate(URM_all.columns)}\n",
    "user_map = {i : user for i, user in enumerate(data_target[\"user_id\"])}\n",
    "item_map_inv = {item : i for i, item in item_map.items()}\n",
    "user_map_inv = {user : i for i, user in user_map.items()}\n",
    "missing_index = [x for x in range(1,13025) if x not in URM_all.index.tolist()]\n",
    "add_urm = pd.DataFrame(index = missing_index, columns = URM_all.columns).fillna(0)\n",
    "URM_all = pd.concat([URM_all, add_urm]).sort_index()\n",
    "del add_urm\n",
    "del missing_index\n",
    "#data_target[\"user_id\"] = data_target[\"user_id\"]\n",
    "URM_all = URM_all.to_numpy()\n",
    "URM_all = sps.csr_matrix(URM_all)\n",
    "URM_all"
   ]
  },
  {
   "cell_type": "code",
   "execution_count": 4,
   "metadata": {},
   "outputs": [
    {
     "name": "stdout",
     "output_type": "stream",
     "text": [
      "Warning: 610 (4.68 %) of 13024 users have no train items\n",
      "Warning: 2617 (20.09 %) of 13024 users have no sampled items\n",
      "EvaluatorHoldout: Ignoring 2617 (20.1%) Users that have less than 1 test interactions\n",
      "Warning: 614 (4.71 %) of 13024 users have no train items\n",
      "Warning: 2585 (19.85 %) of 13024 users have no sampled items\n",
      "EvaluatorHoldout: Ignoring 2585 (19.8%) Users that have less than 1 test interactions\n",
      "Warning: 621 (4.77 %) of 13024 users have no train items\n",
      "Warning: 2538 (19.49 %) of 13024 users have no sampled items\n",
      "EvaluatorHoldout: Ignoring 2538 (19.5%) Users that have less than 1 test interactions\n"
     ]
    }
   ],
   "source": [
    "test_folds = 3\n",
    "\n",
    "URM_trains = [None] * test_folds\n",
    "evaluator_tests = [None] * test_folds\n",
    "for i in range(0, test_folds):\n",
    "    URM_trains[i], URM_test = split_train_in_two_percentage_global_sample(URM_all, train_percentage = 0.80)\n",
    "    evaluator_tests[i] = EvaluatorHoldout(URM_test, cutoff_list=[10])"
   ]
  },
  {
   "cell_type": "code",
   "execution_count": 7,
   "metadata": {},
   "outputs": [],
   "source": [
    "def train_evaluate(optuna_trial):\n",
    "    topk = optuna_trial.suggest_int(\"topK\", 1, 100)\n",
    "    alpha = optuna_trial.suggest_float(\"alpha\", 0.0, 0.8)\n",
    "    beta = optuna_trial.suggest_float(\"beta\", 0.0, 0.3)\n",
    "\n",
    "    mAP = 0.0\n",
    "    for i in range(0, test_folds):\n",
    "        RP3beta = RP3betaRecommender(URM_trains[i], verbose=False)\n",
    "        RP3beta.fit(topK=topk, alpha=alpha, beta=beta)\n",
    "        result_df, _ = evaluator_tests[i].evaluateRecommender(RP3beta)\n",
    "        mAP += result_df[\"MAP\"].values[0]\n",
    "    mAP /= test_folds\n",
    "    return mAP"
   ]
  },
  {
   "cell_type": "code",
   "execution_count": 9,
   "metadata": {},
   "outputs": [
    {
     "name": "stderr",
     "output_type": "stream",
     "text": [
      "[I 2023-12-11 15:01:24,517] A new study created in memory with name: no-name-255d64c0-f7f2-4635-9b58-a93091fa9647\n"
     ]
    },
    {
     "name": "stdout",
     "output_type": "stream",
     "text": [
      "EvaluatorHoldout: Processed 10407 (100.0%) in 8.16 sec. Users per second: 1276\n",
      "EvaluatorHoldout: Processed 10439 (100.0%) in 7.78 sec. Users per second: 1342\n",
      "EvaluatorHoldout: Processed 10486 (100.0%) in 7.39 sec. Users per second: 1420\n"
     ]
    },
    {
     "name": "stderr",
     "output_type": "stream",
     "text": [
      "[I 2023-12-11 15:02:14,871] Trial 0 finished with value: 0.047285406574189344 and parameters: {'topK': 76, 'alpha': 0.5698291254483303, 'beta': 0.05326546889291669}. Best is trial 0 with value: 0.047285406574189344.\n"
     ]
    },
    {
     "name": "stdout",
     "output_type": "stream",
     "text": [
      "EvaluatorHoldout: Processed 10407 (100.0%) in 7.29 sec. Users per second: 1428\n",
      "EvaluatorHoldout: Processed 10439 (100.0%) in 7.58 sec. Users per second: 1378\n",
      "EvaluatorHoldout: Processed 10486 (100.0%) in 7.43 sec. Users per second: 1412\n"
     ]
    },
    {
     "name": "stderr",
     "output_type": "stream",
     "text": [
      "[I 2023-12-11 15:03:00,240] Trial 1 finished with value: 0.04646899851030483 and parameters: {'topK': 52, 'alpha': 0.004648691446542408, 'beta': 0.2856771215760075}. Best is trial 0 with value: 0.047285406574189344.\n"
     ]
    },
    {
     "name": "stdout",
     "output_type": "stream",
     "text": [
      "EvaluatorHoldout: Processed 10407 (100.0%) in 6.83 sec. Users per second: 1524\n",
      "EvaluatorHoldout: Processed 10439 (100.0%) in 6.98 sec. Users per second: 1495\n",
      "EvaluatorHoldout: Processed 10486 (100.0%) in 6.91 sec. Users per second: 1517\n"
     ]
    },
    {
     "name": "stderr",
     "output_type": "stream",
     "text": [
      "[I 2023-12-11 15:03:37,153] Trial 2 finished with value: 0.026576068795264418 and parameters: {'topK': 3, 'alpha': 0.40361214820561975, 'beta': 0.059271411526625115}. Best is trial 0 with value: 0.047285406574189344.\n"
     ]
    },
    {
     "name": "stdout",
     "output_type": "stream",
     "text": [
      "EvaluatorHoldout: Processed 10407 (100.0%) in 7.64 sec. Users per second: 1362\n",
      "EvaluatorHoldout: Processed 10439 (100.0%) in 7.75 sec. Users per second: 1347\n",
      "EvaluatorHoldout: Processed 10486 (100.0%) in 7.64 sec. Users per second: 1373\n"
     ]
    },
    {
     "name": "stderr",
     "output_type": "stream",
     "text": [
      "[I 2023-12-11 15:04:25,846] Trial 3 finished with value: 0.046056370255867174 and parameters: {'topK': 67, 'alpha': 0.6539742328476573, 'beta': 0.2948497076133766}. Best is trial 0 with value: 0.047285406574189344.\n"
     ]
    },
    {
     "name": "stdout",
     "output_type": "stream",
     "text": [
      "EvaluatorHoldout: Processed 10407 (100.0%) in 7.18 sec. Users per second: 1450\n",
      "EvaluatorHoldout: Processed 10439 (100.0%) in 7.08 sec. Users per second: 1475\n",
      "EvaluatorHoldout: Processed 10486 (100.0%) in 7.14 sec. Users per second: 1468\n"
     ]
    },
    {
     "name": "stderr",
     "output_type": "stream",
     "text": [
      "[I 2023-12-11 15:05:04,400] Trial 4 finished with value: 0.04749178459268106 and parameters: {'topK': 11, 'alpha': 0.1731063605008389, 'beta': 0.2572530276833618}. Best is trial 4 with value: 0.04749178459268106.\n"
     ]
    },
    {
     "name": "stdout",
     "output_type": "stream",
     "text": [
      "EvaluatorHoldout: Processed 10407 (100.0%) in 7.41 sec. Users per second: 1404\n",
      "EvaluatorHoldout: Processed 10439 (100.0%) in 7.26 sec. Users per second: 1438\n",
      "EvaluatorHoldout: Processed 10486 (100.0%) in 7.35 sec. Users per second: 1426\n"
     ]
    },
    {
     "name": "stderr",
     "output_type": "stream",
     "text": [
      "[I 2023-12-11 15:05:50,657] Trial 5 finished with value: 0.04785859044251727 and parameters: {'topK': 67, 'alpha': 0.38938842121354195, 'beta': 0.06828641621606026}. Best is trial 5 with value: 0.04785859044251727.\n"
     ]
    },
    {
     "name": "stdout",
     "output_type": "stream",
     "text": [
      "EvaluatorHoldout: Processed 10407 (100.0%) in 6.84 sec. Users per second: 1522\n",
      "EvaluatorHoldout: Processed 10439 (100.0%) in 7.06 sec. Users per second: 1478\n",
      "EvaluatorHoldout: Processed 10486 (100.0%) in 7.68 sec. Users per second: 1366\n"
     ]
    },
    {
     "name": "stderr",
     "output_type": "stream",
     "text": [
      "[I 2023-12-11 15:06:26,637] Trial 6 finished with value: 0.02183333429659166 and parameters: {'topK': 2, 'alpha': 0.6595279842240955, 'beta': 0.16561382035525588}. Best is trial 5 with value: 0.04785859044251727.\n"
     ]
    },
    {
     "name": "stdout",
     "output_type": "stream",
     "text": [
      "EvaluatorHoldout: Processed 10407 (100.0%) in 7.18 sec. Users per second: 1450\n",
      "EvaluatorHoldout: Processed 10439 (100.0%) in 7.09 sec. Users per second: 1473\n",
      "EvaluatorHoldout: Processed 10486 (100.0%) in 7.07 sec. Users per second: 1482\n"
     ]
    },
    {
     "name": "stderr",
     "output_type": "stream",
     "text": [
      "[I 2023-12-11 15:07:07,257] Trial 7 finished with value: 0.04850089019844687 and parameters: {'topK': 28, 'alpha': 0.026391557230046204, 'beta': 0.13302493411671207}. Best is trial 7 with value: 0.04850089019844687.\n"
     ]
    },
    {
     "name": "stdout",
     "output_type": "stream",
     "text": [
      "EvaluatorHoldout: Processed 10407 (100.0%) in 7.08 sec. Users per second: 1470\n",
      "EvaluatorHoldout: Processed 10439 (100.0%) in 7.06 sec. Users per second: 1479\n",
      "EvaluatorHoldout: Processed 10486 (100.0%) in 7.09 sec. Users per second: 1479\n"
     ]
    },
    {
     "name": "stderr",
     "output_type": "stream",
     "text": [
      "[I 2023-12-11 15:07:49,074] Trial 8 finished with value: 0.04749543367295397 and parameters: {'topK': 41, 'alpha': 0.01831726791543096, 'beta': 0.024281283240049276}. Best is trial 7 with value: 0.04850089019844687.\n"
     ]
    },
    {
     "name": "stdout",
     "output_type": "stream",
     "text": [
      "EvaluatorHoldout: Processed 10407 (100.0%) in 7.29 sec. Users per second: 1428\n",
      "EvaluatorHoldout: Processed 10439 (100.0%) in 7.35 sec. Users per second: 1419\n",
      "EvaluatorHoldout: Processed 10486 (100.0%) in 7.46 sec. Users per second: 1406\n"
     ]
    },
    {
     "name": "stderr",
     "output_type": "stream",
     "text": [
      "[I 2023-12-11 15:08:38,243] Trial 9 finished with value: 0.04615877540045274 and parameters: {'topK': 85, 'alpha': 0.06779431305262139, 'beta': 0.16864005681631675}. Best is trial 7 with value: 0.04850089019844687.\n"
     ]
    },
    {
     "name": "stdout",
     "output_type": "stream",
     "text": [
      "EvaluatorHoldout: Processed 10407 (100.0%) in 7.07 sec. Users per second: 1472\n",
      "EvaluatorHoldout: Processed 10439 (100.0%) in 7.03 sec. Users per second: 1486\n",
      "EvaluatorHoldout: Processed 10486 (100.0%) in 7.16 sec. Users per second: 1465\n"
     ]
    },
    {
     "name": "stderr",
     "output_type": "stream",
     "text": [
      "[I 2023-12-11 15:09:18,901] Trial 10 finished with value: 0.0488154559465441 and parameters: {'topK': 29, 'alpha': 0.2321846948160038, 'beta': 0.1369159472582136}. Best is trial 10 with value: 0.0488154559465441.\n"
     ]
    },
    {
     "name": "stdout",
     "output_type": "stream",
     "text": [
      "EvaluatorHoldout: Processed 10407 (100.0%) in 7.08 sec. Users per second: 1469\n",
      "EvaluatorHoldout: Processed 10439 (100.0%) in 7.03 sec. Users per second: 1484\n",
      "EvaluatorHoldout: Processed 10486 (100.0%) in 7.06 sec. Users per second: 1485\n"
     ]
    },
    {
     "name": "stderr",
     "output_type": "stream",
     "text": [
      "[I 2023-12-11 15:09:59,216] Trial 11 finished with value: 0.048730264560896776 and parameters: {'topK': 29, 'alpha': 0.20410123227512714, 'beta': 0.13133602866997007}. Best is trial 10 with value: 0.0488154559465441.\n"
     ]
    },
    {
     "name": "stdout",
     "output_type": "stream",
     "text": [
      "EvaluatorHoldout: Processed 10407 (100.0%) in 7.02 sec. Users per second: 1483\n",
      "EvaluatorHoldout: Processed 10439 (100.0%) in 7.08 sec. Users per second: 1475\n",
      "EvaluatorHoldout: Processed 10486 (100.0%) in 7.08 sec. Users per second: 1482\n"
     ]
    },
    {
     "name": "stderr",
     "output_type": "stream",
     "text": [
      "[I 2023-12-11 15:10:39,248] Trial 12 finished with value: 0.04876577026948545 and parameters: {'topK': 26, 'alpha': 0.24881500666981485, 'beta': 0.12099705623685005}. Best is trial 10 with value: 0.0488154559465441.\n"
     ]
    },
    {
     "name": "stdout",
     "output_type": "stream",
     "text": [
      "EvaluatorHoldout: Processed 10407 (100.0%) in 6.96 sec. Users per second: 1496\n",
      "EvaluatorHoldout: Processed 10439 (100.0%) in 7.00 sec. Users per second: 1491\n",
      "EvaluatorHoldout: Processed 10486 (100.0%) in 7.03 sec. Users per second: 1493\n"
     ]
    },
    {
     "name": "stderr",
     "output_type": "stream",
     "text": [
      "[I 2023-12-11 15:11:19,610] Trial 13 finished with value: 0.04870530495355979 and parameters: {'topK': 28, 'alpha': 0.29965072137439336, 'beta': 0.10290186129515591}. Best is trial 10 with value: 0.0488154559465441.\n"
     ]
    },
    {
     "name": "stdout",
     "output_type": "stream",
     "text": [
      "EvaluatorHoldout: Processed 10407 (100.0%) in 7.32 sec. Users per second: 1422\n",
      "EvaluatorHoldout: Processed 10439 (100.0%) in 7.30 sec. Users per second: 1429\n",
      "EvaluatorHoldout: Processed 10486 (100.0%) in 7.36 sec. Users per second: 1425\n"
     ]
    },
    {
     "name": "stderr",
     "output_type": "stream",
     "text": [
      "[I 2023-12-11 15:12:03,856] Trial 14 finished with value: 0.048282714092844826 and parameters: {'topK': 49, 'alpha': 0.20237079827082138, 'beta': 0.19699067532051034}. Best is trial 10 with value: 0.0488154559465441.\n"
     ]
    },
    {
     "name": "stdout",
     "output_type": "stream",
     "text": [
      "EvaluatorHoldout: Processed 10407 (100.0%) in 7.35 sec. Users per second: 1416\n",
      "EvaluatorHoldout: Processed 10439 (100.0%) in 7.03 sec. Users per second: 1485\n",
      "EvaluatorHoldout: Processed 10486 (100.0%) in 7.01 sec. Users per second: 1495\n"
     ]
    },
    {
     "name": "stderr",
     "output_type": "stream",
     "text": [
      "[I 2023-12-11 15:12:43,465] Trial 15 finished with value: 0.04414558245446118 and parameters: {'topK': 19, 'alpha': 0.7969434683241077, 'beta': 0.1049383812150313}. Best is trial 10 with value: 0.0488154559465441.\n"
     ]
    },
    {
     "name": "stdout",
     "output_type": "stream",
     "text": [
      "EvaluatorHoldout: Processed 10407 (100.0%) in 7.48 sec. Users per second: 1392\n",
      "EvaluatorHoldout: Processed 10439 (100.0%) in 7.70 sec. Users per second: 1356\n",
      "EvaluatorHoldout: Processed 10486 (100.0%) in 7.50 sec. Users per second: 1398\n"
     ]
    },
    {
     "name": "stderr",
     "output_type": "stream",
     "text": [
      "[I 2023-12-11 15:13:35,495] Trial 16 finished with value: 0.04600445019471546 and parameters: {'topK': 99, 'alpha': 0.29839751323815816, 'beta': 0.20556244103839322}. Best is trial 10 with value: 0.0488154559465441.\n"
     ]
    },
    {
     "name": "stdout",
     "output_type": "stream",
     "text": [
      "EvaluatorHoldout: Processed 10407 (100.0%) in 7.07 sec. Users per second: 1472\n",
      "EvaluatorHoldout: Processed 10439 (100.0%) in 7.07 sec. Users per second: 1477\n",
      "EvaluatorHoldout: Processed 10486 (100.0%) in 7.18 sec. Users per second: 1461\n"
     ]
    },
    {
     "name": "stderr",
     "output_type": "stream",
     "text": [
      "[I 2023-12-11 15:14:17,315] Trial 17 finished with value: 0.047816126307345684 and parameters: {'topK': 40, 'alpha': 0.16669502178580783, 'beta': 0.0054495722370928035}. Best is trial 10 with value: 0.0488154559465441.\n"
     ]
    },
    {
     "name": "stdout",
     "output_type": "stream",
     "text": [
      "EvaluatorHoldout: Processed 10407 (100.0%) in 7.01 sec. Users per second: 1485\n",
      "EvaluatorHoldout: Processed 10439 (100.0%) in 6.98 sec. Users per second: 1497\n",
      "EvaluatorHoldout: Processed 10486 (100.0%) in 6.97 sec. Users per second: 1505\n"
     ]
    },
    {
     "name": "stderr",
     "output_type": "stream",
     "text": [
      "[I 2023-12-11 15:14:55,711] Trial 18 finished with value: 0.04786158539001511 and parameters: {'topK': 16, 'alpha': 0.11572143989162167, 'beta': 0.10215293586361435}. Best is trial 10 with value: 0.0488154559465441.\n"
     ]
    },
    {
     "name": "stdout",
     "output_type": "stream",
     "text": [
      "EvaluatorHoldout: Processed 10407 (100.0%) in 7.17 sec. Users per second: 1452\n",
      "EvaluatorHoldout: Processed 10439 (100.0%) in 7.14 sec. Users per second: 1461\n",
      "EvaluatorHoldout: Processed 10486 (100.0%) in 7.08 sec. Users per second: 1480\n"
     ]
    },
    {
     "name": "stderr",
     "output_type": "stream",
     "text": [
      "[I 2023-12-11 15:15:37,598] Trial 19 finished with value: 0.0490817192477661 and parameters: {'topK': 37, 'alpha': 0.321428663839113, 'beta': 0.14667665624241621}. Best is trial 19 with value: 0.0490817192477661.\n"
     ]
    },
    {
     "name": "stdout",
     "output_type": "stream",
     "text": [
      "EvaluatorHoldout: Processed 10407 (100.0%) in 7.19 sec. Users per second: 1448\n",
      "EvaluatorHoldout: Processed 10439 (100.0%) in 7.10 sec. Users per second: 1471\n",
      "EvaluatorHoldout: Processed 10486 (100.0%) in 7.24 sec. Users per second: 1449\n"
     ]
    },
    {
     "name": "stderr",
     "output_type": "stream",
     "text": [
      "[I 2023-12-11 15:16:20,116] Trial 20 finished with value: 0.0488184855692279 and parameters: {'topK': 40, 'alpha': 0.38805011831782094, 'beta': 0.156472058534276}. Best is trial 19 with value: 0.0490817192477661.\n"
     ]
    },
    {
     "name": "stdout",
     "output_type": "stream",
     "text": [
      "EvaluatorHoldout: Processed 10407 (100.0%) in 7.14 sec. Users per second: 1457\n",
      "EvaluatorHoldout: Processed 10439 (100.0%) in 7.11 sec. Users per second: 1469\n",
      "EvaluatorHoldout: Processed 10486 (100.0%) in 7.24 sec. Users per second: 1448\n"
     ]
    },
    {
     "name": "stderr",
     "output_type": "stream",
     "text": [
      "[I 2023-12-11 15:17:02,566] Trial 21 finished with value: 0.048838090869743805 and parameters: {'topK': 40, 'alpha': 0.37884212455556177, 'beta': 0.16283205519567212}. Best is trial 19 with value: 0.0490817192477661.\n"
     ]
    },
    {
     "name": "stdout",
     "output_type": "stream",
     "text": [
      "EvaluatorHoldout: Processed 10407 (100.0%) in 7.46 sec. Users per second: 1395\n",
      "EvaluatorHoldout: Processed 10439 (100.0%) in 8.13 sec. Users per second: 1284\n",
      "EvaluatorHoldout: Processed 10486 (100.0%) in 8.00 sec. Users per second: 1310\n"
     ]
    },
    {
     "name": "stderr",
     "output_type": "stream",
     "text": [
      "[I 2023-12-11 15:17:48,396] Trial 22 finished with value: 0.04882514394244892 and parameters: {'topK': 42, 'alpha': 0.4146769391374898, 'beta': 0.1661449214220157}. Best is trial 19 with value: 0.0490817192477661.\n"
     ]
    },
    {
     "name": "stdout",
     "output_type": "stream",
     "text": [
      "EvaluatorHoldout: Processed 10407 (100.0%) in 7.62 sec. Users per second: 1366\n",
      "EvaluatorHoldout: Processed 10439 (100.0%) in 7.43 sec. Users per second: 1405\n",
      "EvaluatorHoldout: Processed 10486 (100.0%) in 7.40 sec. Users per second: 1417\n"
     ]
    },
    {
     "name": "stderr",
     "output_type": "stream",
     "text": [
      "[I 2023-12-11 15:18:34,826] Trial 23 finished with value: 0.04817323420547517 and parameters: {'topK': 55, 'alpha': 0.46030460257999345, 'beta': 0.1888305054054089}. Best is trial 19 with value: 0.0490817192477661.\n"
     ]
    },
    {
     "name": "stdout",
     "output_type": "stream",
     "text": [
      "EvaluatorHoldout: Processed 10407 (100.0%) in 7.38 sec. Users per second: 1411\n",
      "EvaluatorHoldout: Processed 10439 (100.0%) in 7.45 sec. Users per second: 1401\n",
      "EvaluatorHoldout: Processed 10486 (100.0%) in 7.49 sec. Users per second: 1400\n"
     ]
    },
    {
     "name": "stderr",
     "output_type": "stream",
     "text": [
      "[I 2023-12-11 15:19:19,198] Trial 24 finished with value: 0.04847316209979607 and parameters: {'topK': 44, 'alpha': 0.32784198283315547, 'beta': 0.22132868174048376}. Best is trial 19 with value: 0.0490817192477661.\n"
     ]
    },
    {
     "name": "stdout",
     "output_type": "stream",
     "text": [
      "EvaluatorHoldout: Processed 10407 (100.0%) in 7.69 sec. Users per second: 1353\n",
      "EvaluatorHoldout: Processed 10439 (100.0%) in 7.67 sec. Users per second: 1361\n",
      "EvaluatorHoldout: Processed 10486 (100.0%) in 7.50 sec. Users per second: 1398\n"
     ]
    },
    {
     "name": "stderr",
     "output_type": "stream",
     "text": [
      "[I 2023-12-11 15:20:07,063] Trial 25 finished with value: 0.04780971293921903 and parameters: {'topK': 64, 'alpha': 0.4501818925004545, 'beta': 0.18270658829787106}. Best is trial 19 with value: 0.0490817192477661.\n"
     ]
    },
    {
     "name": "stdout",
     "output_type": "stream",
     "text": [
      "EvaluatorHoldout: Processed 10407 (100.0%) in 7.52 sec. Users per second: 1384\n",
      "EvaluatorHoldout: Processed 10439 (100.0%) in 7.56 sec. Users per second: 1380\n",
      "EvaluatorHoldout: Processed 10486 (100.0%) in 7.39 sec. Users per second: 1419\n"
     ]
    },
    {
     "name": "stderr",
     "output_type": "stream",
     "text": [
      "[I 2023-12-11 15:20:53,274] Trial 26 finished with value: 0.048214661063798736 and parameters: {'topK': 59, 'alpha': 0.33261907540158203, 'beta': 0.15782948436633537}. Best is trial 19 with value: 0.0490817192477661.\n"
     ]
    },
    {
     "name": "stdout",
     "output_type": "stream",
     "text": [
      "EvaluatorHoldout: Processed 10407 (100.0%) in 7.30 sec. Users per second: 1426\n",
      "EvaluatorHoldout: Processed 10439 (100.0%) in 7.36 sec. Users per second: 1419\n",
      "EvaluatorHoldout: Processed 10486 (100.0%) in 7.35 sec. Users per second: 1427\n"
     ]
    },
    {
     "name": "stderr",
     "output_type": "stream",
     "text": [
      "[I 2023-12-11 15:21:36,040] Trial 27 finished with value: 0.04870731811071507 and parameters: {'topK': 36, 'alpha': 0.27708673452598664, 'beta': 0.22045479055823197}. Best is trial 19 with value: 0.0490817192477661.\n"
     ]
    },
    {
     "name": "stdout",
     "output_type": "stream",
     "text": [
      "EvaluatorHoldout: Processed 10407 (100.0%) in 7.36 sec. Users per second: 1413\n",
      "EvaluatorHoldout: Processed 10439 (100.0%) in 7.21 sec. Users per second: 1448\n",
      "EvaluatorHoldout: Processed 10486 (100.0%) in 7.37 sec. Users per second: 1423\n"
     ]
    },
    {
     "name": "stderr",
     "output_type": "stream",
     "text": [
      "[I 2023-12-11 15:22:18,324] Trial 28 finished with value: 0.04883522673220927 and parameters: {'topK': 35, 'alpha': 0.49418056803027943, 'beta': 0.1513110910543406}. Best is trial 19 with value: 0.0490817192477661.\n"
     ]
    },
    {
     "name": "stdout",
     "output_type": "stream",
     "text": [
      "EvaluatorHoldout: Processed 10407 (100.0%) in 7.47 sec. Users per second: 1392\n",
      "EvaluatorHoldout: Processed 10439 (100.0%) in 7.38 sec. Users per second: 1415\n",
      "EvaluatorHoldout: Processed 10486 (100.0%) in 7.30 sec. Users per second: 1436\n"
     ]
    },
    {
     "name": "stderr",
     "output_type": "stream",
     "text": [
      "[I 2023-12-11 15:23:00,954] Trial 29 finished with value: 0.048692603567167946 and parameters: {'topK': 35, 'alpha': 0.5143870677691017, 'beta': 0.14139124832419545}. Best is trial 19 with value: 0.0490817192477661.\n"
     ]
    },
    {
     "name": "stdout",
     "output_type": "stream",
     "text": [
      "EvaluatorHoldout: Processed 10407 (100.0%) in 7.10 sec. Users per second: 1465\n",
      "EvaluatorHoldout: Processed 10439 (100.0%) in 7.16 sec. Users per second: 1458\n",
      "EvaluatorHoldout: Processed 10486 (100.0%) in 7.22 sec. Users per second: 1452\n"
     ]
    },
    {
     "name": "stderr",
     "output_type": "stream",
     "text": [
      "[I 2023-12-11 15:23:44,451] Trial 30 finished with value: 0.04816053781851388 and parameters: {'topK': 49, 'alpha': 0.5114207688775614, 'beta': 0.07537961875941945}. Best is trial 19 with value: 0.0490817192477661.\n"
     ]
    },
    {
     "name": "stdout",
     "output_type": "stream",
     "text": [
      "EvaluatorHoldout: Processed 10407 (100.0%) in 6.97 sec. Users per second: 1493\n",
      "EvaluatorHoldout: Processed 10439 (100.0%) in 7.09 sec. Users per second: 1473\n",
      "EvaluatorHoldout: Processed 10486 (100.0%) in 7.12 sec. Users per second: 1473\n"
     ]
    },
    {
     "name": "stderr",
     "output_type": "stream",
     "text": [
      "[I 2023-12-11 15:24:24,101] Trial 31 finished with value: 0.0489859621669095 and parameters: {'topK': 21, 'alpha': 0.35299373040521514, 'beta': 0.17394389158007229}. Best is trial 19 with value: 0.0490817192477661.\n"
     ]
    },
    {
     "name": "stdout",
     "output_type": "stream",
     "text": [
      "EvaluatorHoldout: Processed 10407 (100.0%) in 7.03 sec. Users per second: 1481\n",
      "EvaluatorHoldout: Processed 10439 (100.0%) in 7.03 sec. Users per second: 1486\n",
      "EvaluatorHoldout: Processed 10486 (100.0%) in 7.07 sec. Users per second: 1483\n"
     ]
    },
    {
     "name": "stderr",
     "output_type": "stream",
     "text": [
      "[I 2023-12-11 15:25:03,382] Trial 32 finished with value: 0.048724923755149314 and parameters: {'topK': 18, 'alpha': 0.3357537106806871, 'beta': 0.17989824876715194}. Best is trial 19 with value: 0.0490817192477661.\n"
     ]
    },
    {
     "name": "stdout",
     "output_type": "stream",
     "text": [
      "EvaluatorHoldout: Processed 10407 (100.0%) in 6.97 sec. Users per second: 1493\n",
      "EvaluatorHoldout: Processed 10439 (100.0%) in 7.00 sec. Users per second: 1491\n",
      "EvaluatorHoldout: Processed 10486 (100.0%) in 7.02 sec. Users per second: 1494\n"
     ]
    },
    {
     "name": "stderr",
     "output_type": "stream",
     "text": [
      "[I 2023-12-11 15:25:41,552] Trial 33 finished with value: 0.047351086102042424 and parameters: {'topK': 12, 'alpha': 0.3554191724391683, 'beta': 0.14788694065964442}. Best is trial 19 with value: 0.0490817192477661.\n"
     ]
    },
    {
     "name": "stdout",
     "output_type": "stream",
     "text": [
      "EvaluatorHoldout: Processed 10407 (100.0%) in 7.00 sec. Users per second: 1486\n",
      "EvaluatorHoldout: Processed 10439 (100.0%) in 7.19 sec. Users per second: 1453\n",
      "EvaluatorHoldout: Processed 10486 (100.0%) in 7.09 sec. Users per second: 1478\n"
     ]
    },
    {
     "name": "stderr",
     "output_type": "stream",
     "text": [
      "[I 2023-12-11 15:26:21,194] Trial 34 finished with value: 0.04876108711003821 and parameters: {'topK': 23, 'alpha': 0.36516949257950204, 'beta': 0.12061018207315351}. Best is trial 19 with value: 0.0490817192477661.\n"
     ]
    },
    {
     "name": "stdout",
     "output_type": "stream",
     "text": [
      "EvaluatorHoldout: Processed 10407 (100.0%) in 7.13 sec. Users per second: 1459\n",
      "EvaluatorHoldout: Processed 10439 (100.0%) in 7.17 sec. Users per second: 1456\n",
      "EvaluatorHoldout: Processed 10486 (100.0%) in 7.21 sec. Users per second: 1455\n"
     ]
    },
    {
     "name": "stderr",
     "output_type": "stream",
     "text": [
      "[I 2023-12-11 15:27:02,753] Trial 35 finished with value: 0.04896267735365012 and parameters: {'topK': 34, 'alpha': 0.4362621826781778, 'beta': 0.1526614106777201}. Best is trial 19 with value: 0.0490817192477661.\n"
     ]
    },
    {
     "name": "stdout",
     "output_type": "stream",
     "text": [
      "EvaluatorHoldout: Processed 10407 (100.0%) in 7.25 sec. Users per second: 1435\n",
      "EvaluatorHoldout: Processed 10439 (100.0%) in 7.29 sec. Users per second: 1433\n",
      "EvaluatorHoldout: Processed 10486 (100.0%) in 7.15 sec. Users per second: 1466\n"
     ]
    },
    {
     "name": "stderr",
     "output_type": "stream",
     "text": [
      "[I 2023-12-11 15:27:44,786] Trial 36 finished with value: 0.04891756613467487 and parameters: {'topK': 34, 'alpha': 0.42251378753848806, 'beta': 0.17862501534629854}. Best is trial 19 with value: 0.0490817192477661.\n"
     ]
    },
    {
     "name": "stdout",
     "output_type": "stream",
     "text": [
      "EvaluatorHoldout: Processed 10407 (100.0%) in 6.86 sec. Users per second: 1518\n",
      "EvaluatorHoldout: Processed 10439 (100.0%) in 7.09 sec. Users per second: 1472\n",
      "EvaluatorHoldout: Processed 10486 (100.0%) in 6.96 sec. Users per second: 1507\n"
     ]
    },
    {
     "name": "stderr",
     "output_type": "stream",
     "text": [
      "[I 2023-12-11 15:28:22,370] Trial 37 finished with value: 0.04300989091757251 and parameters: {'topK': 7, 'alpha': 0.4328492953605903, 'beta': 0.20501705056528619}. Best is trial 19 with value: 0.0490817192477661.\n"
     ]
    },
    {
     "name": "stdout",
     "output_type": "stream",
     "text": [
      "EvaluatorHoldout: Processed 10407 (100.0%) in 7.13 sec. Users per second: 1460\n",
      "EvaluatorHoldout: Processed 10439 (100.0%) in 7.24 sec. Users per second: 1442\n",
      "EvaluatorHoldout: Processed 10486 (100.0%) in 7.25 sec. Users per second: 1446\n"
     ]
    },
    {
     "name": "stderr",
     "output_type": "stream",
     "text": [
      "[I 2023-12-11 15:29:04,033] Trial 38 finished with value: 0.04895455393789546 and parameters: {'topK': 33, 'alpha': 0.4153210181075713, 'beta': 0.17880436176117404}. Best is trial 19 with value: 0.0490817192477661.\n"
     ]
    },
    {
     "name": "stdout",
     "output_type": "stream",
     "text": [
      "EvaluatorHoldout: Processed 10407 (100.0%) in 7.25 sec. Users per second: 1435\n",
      "EvaluatorHoldout: Processed 10439 (100.0%) in 7.19 sec. Users per second: 1451\n",
      "EvaluatorHoldout: Processed 10486 (100.0%) in 7.18 sec. Users per second: 1460\n"
     ]
    },
    {
     "name": "stderr",
     "output_type": "stream",
     "text": [
      "[I 2023-12-11 15:29:43,016] Trial 39 finished with value: 0.046310332095197575 and parameters: {'topK': 11, 'alpha': 0.5543502576055763, 'beta': 0.24223538794525912}. Best is trial 19 with value: 0.0490817192477661.\n"
     ]
    },
    {
     "name": "stdout",
     "output_type": "stream",
     "text": [
      "EvaluatorHoldout: Processed 10407 (100.0%) in 7.23 sec. Users per second: 1440\n",
      "EvaluatorHoldout: Processed 10439 (100.0%) in 7.38 sec. Users per second: 1414\n",
      "EvaluatorHoldout: Processed 10486 (100.0%) in 7.26 sec. Users per second: 1445\n"
     ]
    },
    {
     "name": "stderr",
     "output_type": "stream",
     "text": [
      "[I 2023-12-11 15:30:27,817] Trial 40 finished with value: 0.04840719254685197 and parameters: {'topK': 54, 'alpha': 0.39722970613216074, 'beta': 0.1730896611723012}. Best is trial 19 with value: 0.0490817192477661.\n"
     ]
    },
    {
     "name": "stdout",
     "output_type": "stream",
     "text": [
      "EvaluatorHoldout: Processed 10407 (100.0%) in 7.11 sec. Users per second: 1463\n",
      "EvaluatorHoldout: Processed 10439 (100.0%) in 7.15 sec. Users per second: 1460\n",
      "EvaluatorHoldout: Processed 10486 (100.0%) in 7.15 sec. Users per second: 1467\n"
     ]
    },
    {
     "name": "stderr",
     "output_type": "stream",
     "text": [
      "[I 2023-12-11 15:31:07,785] Trial 41 finished with value: 0.048694995658783304 and parameters: {'topK': 22, 'alpha': 0.4286766590983859, 'beta': 0.18097910311469736}. Best is trial 19 with value: 0.0490817192477661.\n"
     ]
    },
    {
     "name": "stdout",
     "output_type": "stream",
     "text": [
      "EvaluatorHoldout: Processed 10407 (100.0%) in 7.18 sec. Users per second: 1449\n",
      "EvaluatorHoldout: Processed 10439 (100.0%) in 7.19 sec. Users per second: 1451\n",
      "EvaluatorHoldout: Processed 10486 (100.0%) in 7.09 sec. Users per second: 1479\n"
     ]
    },
    {
     "name": "stderr",
     "output_type": "stream",
     "text": [
      "[I 2023-12-11 15:31:49,810] Trial 42 finished with value: 0.0487138715799841 and parameters: {'topK': 34, 'alpha': 0.4626617983610998, 'beta': 0.19692864131251028}. Best is trial 19 with value: 0.0490817192477661.\n"
     ]
    },
    {
     "name": "stdout",
     "output_type": "stream",
     "text": [
      "EvaluatorHoldout: Processed 10407 (100.0%) in 7.11 sec. Users per second: 1463\n",
      "EvaluatorHoldout: Processed 10439 (100.0%) in 7.15 sec. Users per second: 1461\n",
      "EvaluatorHoldout: Processed 10486 (100.0%) in 7.22 sec. Users per second: 1452\n"
     ]
    },
    {
     "name": "stderr",
     "output_type": "stream",
     "text": [
      "[I 2023-12-11 15:32:31,245] Trial 43 finished with value: 0.04887703620243051 and parameters: {'topK': 32, 'alpha': 0.40784226923161077, 'beta': 0.14822062965326382}. Best is trial 19 with value: 0.0490817192477661.\n"
     ]
    },
    {
     "name": "stdout",
     "output_type": "stream",
     "text": [
      "EvaluatorHoldout: Processed 10407 (100.0%) in 7.23 sec. Users per second: 1439\n",
      "EvaluatorHoldout: Processed 10439 (100.0%) in 7.28 sec. Users per second: 1434\n",
      "EvaluatorHoldout: Processed 10486 (100.0%) in 7.21 sec. Users per second: 1455\n"
     ]
    },
    {
     "name": "stderr",
     "output_type": "stream",
     "text": [
      "[I 2023-12-11 15:33:14,730] Trial 44 finished with value: 0.04866049357437221 and parameters: {'topK': 45, 'alpha': 0.35335884268437195, 'beta': 0.17420522306323682}. Best is trial 19 with value: 0.0490817192477661.\n"
     ]
    },
    {
     "name": "stdout",
     "output_type": "stream",
     "text": [
      "EvaluatorHoldout: Processed 10407 (100.0%) in 7.02 sec. Users per second: 1482\n",
      "EvaluatorHoldout: Processed 10439 (100.0%) in 7.18 sec. Users per second: 1454\n",
      "EvaluatorHoldout: Processed 10486 (100.0%) in 6.99 sec. Users per second: 1500\n"
     ]
    },
    {
     "name": "stderr",
     "output_type": "stream",
     "text": [
      "[I 2023-12-11 15:33:54,407] Trial 45 finished with value: 0.04895796248163455 and parameters: {'topK': 23, 'alpha': 0.27770895224118997, 'beta': 0.15890342133708613}. Best is trial 19 with value: 0.0490817192477661.\n"
     ]
    },
    {
     "name": "stdout",
     "output_type": "stream",
     "text": [
      "EvaluatorHoldout: Processed 10407 (100.0%) in 6.97 sec. Users per second: 1493\n",
      "EvaluatorHoldout: Processed 10439 (100.0%) in 7.12 sec. Users per second: 1467\n",
      "EvaluatorHoldout: Processed 10486 (100.0%) in 7.11 sec. Users per second: 1474\n"
     ]
    },
    {
     "name": "stderr",
     "output_type": "stream",
     "text": [
      "[I 2023-12-11 15:34:33,950] Trial 46 finished with value: 0.04888768828535203 and parameters: {'topK': 22, 'alpha': 0.2600719245596426, 'beta': 0.1412348910149421}. Best is trial 19 with value: 0.0490817192477661.\n"
     ]
    },
    {
     "name": "stdout",
     "output_type": "stream",
     "text": [
      "EvaluatorHoldout: Processed 10407 (100.0%) in 7.00 sec. Users per second: 1487\n",
      "EvaluatorHoldout: Processed 10439 (100.0%) in 6.92 sec. Users per second: 1508\n",
      "EvaluatorHoldout: Processed 10486 (100.0%) in 7.02 sec. Users per second: 1494\n"
     ]
    },
    {
     "name": "stderr",
     "output_type": "stream",
     "text": [
      "[I 2023-12-11 15:35:11,169] Trial 47 finished with value: 0.0394645440244956 and parameters: {'topK': 6, 'alpha': 0.2966765184592366, 'beta': 0.1603238208103523}. Best is trial 19 with value: 0.0490817192477661.\n"
     ]
    },
    {
     "name": "stdout",
     "output_type": "stream",
     "text": [
      "EvaluatorHoldout: Processed 10407 (100.0%) in 7.08 sec. Users per second: 1469\n",
      "EvaluatorHoldout: Processed 10439 (100.0%) in 7.05 sec. Users per second: 1480\n",
      "EvaluatorHoldout: Processed 10486 (100.0%) in 7.12 sec. Users per second: 1472\n"
     ]
    },
    {
     "name": "stderr",
     "output_type": "stream",
     "text": [
      "[I 2023-12-11 15:35:51,258] Trial 48 finished with value: 0.048899528385038825 and parameters: {'topK': 25, 'alpha': 0.31717579029779236, 'beta': 0.12206486477725079}. Best is trial 19 with value: 0.0490817192477661.\n"
     ]
    },
    {
     "name": "stdout",
     "output_type": "stream",
     "text": [
      "EvaluatorHoldout: Processed 10407 (100.0%) in 7.22 sec. Users per second: 1441\n",
      "EvaluatorHoldout: Processed 10439 (100.0%) in 7.45 sec. Users per second: 1401\n",
      "EvaluatorHoldout: Processed 10486 (100.0%) in 7.35 sec. Users per second: 1426\n"
     ]
    },
    {
     "name": "stderr",
     "output_type": "stream",
     "text": [
      "[I 2023-12-11 15:36:38,799] Trial 49 finished with value: 0.04740096694711294 and parameters: {'topK': 76, 'alpha': 0.23574188474036387, 'beta': 0.13496452445899393}. Best is trial 19 with value: 0.0490817192477661.\n"
     ]
    },
    {
     "name": "stdout",
     "output_type": "stream",
     "text": [
      "EvaluatorHoldout: Processed 10407 (100.0%) in 6.96 sec. Users per second: 1496\n",
      "EvaluatorHoldout: Processed 10439 (100.0%) in 7.06 sec. Users per second: 1478\n",
      "EvaluatorHoldout: Processed 10486 (100.0%) in 7.02 sec. Users per second: 1495\n"
     ]
    },
    {
     "name": "stderr",
     "output_type": "stream",
     "text": [
      "[I 2023-12-11 15:37:17,423] Trial 50 finished with value: 0.04822833711672908 and parameters: {'topK': 14, 'alpha': 0.27763449570996546, 'beta': 0.16246530005343873}. Best is trial 19 with value: 0.0490817192477661.\n"
     ]
    },
    {
     "name": "stdout",
     "output_type": "stream",
     "text": [
      "EvaluatorHoldout: Processed 10407 (100.0%) in 7.16 sec. Users per second: 1453\n",
      "EvaluatorHoldout: Processed 10439 (100.0%) in 7.07 sec. Users per second: 1476\n",
      "EvaluatorHoldout: Processed 10486 (100.0%) in 7.09 sec. Users per second: 1479\n"
     ]
    },
    {
     "name": "stderr",
     "output_type": "stream",
     "text": [
      "[I 2023-12-11 15:37:58,712] Trial 51 finished with value: 0.04899772592053222 and parameters: {'topK': 31, 'alpha': 0.3651734592586042, 'beta': 0.1910470308412118}. Best is trial 19 with value: 0.0490817192477661.\n"
     ]
    },
    {
     "name": "stdout",
     "output_type": "stream",
     "text": [
      "EvaluatorHoldout: Processed 10407 (100.0%) in 7.15 sec. Users per second: 1456\n",
      "EvaluatorHoldout: Processed 10439 (100.0%) in 7.22 sec. Users per second: 1446\n",
      "EvaluatorHoldout: Processed 10486 (100.0%) in 7.12 sec. Users per second: 1472\n"
     ]
    },
    {
     "name": "stderr",
     "output_type": "stream",
     "text": [
      "[I 2023-12-11 15:38:40,134] Trial 52 finished with value: 0.049074528383325176 and parameters: {'topK': 30, 'alpha': 0.36789966503703625, 'beta': 0.1937333284041429}. Best is trial 19 with value: 0.0490817192477661.\n"
     ]
    },
    {
     "name": "stdout",
     "output_type": "stream",
     "text": [
      "EvaluatorHoldout: Processed 10407 (100.0%) in 7.11 sec. Users per second: 1463\n",
      "EvaluatorHoldout: Processed 10439 (100.0%) in 7.24 sec. Users per second: 1443\n",
      "EvaluatorHoldout: Processed 10486 (100.0%) in 7.10 sec. Users per second: 1477\n"
     ]
    },
    {
     "name": "stderr",
     "output_type": "stream",
     "text": [
      "[I 2023-12-11 15:39:21,357] Trial 53 finished with value: 0.04904844121797664 and parameters: {'topK': 30, 'alpha': 0.30116966851756855, 'beta': 0.18922989246188102}. Best is trial 19 with value: 0.0490817192477661.\n"
     ]
    },
    {
     "name": "stdout",
     "output_type": "stream",
     "text": [
      "EvaluatorHoldout: Processed 10407 (100.0%) in 7.08 sec. Users per second: 1470\n",
      "EvaluatorHoldout: Processed 10439 (100.0%) in 7.20 sec. Users per second: 1450\n",
      "EvaluatorHoldout: Processed 10486 (100.0%) in 7.05 sec. Users per second: 1488\n"
     ]
    },
    {
     "name": "stderr",
     "output_type": "stream",
     "text": [
      "[I 2023-12-11 15:40:02,248] Trial 54 finished with value: 0.04908324899596215 and parameters: {'topK': 29, 'alpha': 0.3506198125336391, 'beta': 0.19472532697085865}. Best is trial 54 with value: 0.04908324899596215.\n"
     ]
    },
    {
     "name": "stdout",
     "output_type": "stream",
     "text": [
      "EvaluatorHoldout: Processed 10407 (100.0%) in 7.08 sec. Users per second: 1471\n",
      "EvaluatorHoldout: Processed 10439 (100.0%) in 7.14 sec. Users per second: 1461\n",
      "EvaluatorHoldout: Processed 10486 (100.0%) in 7.27 sec. Users per second: 1443\n"
     ]
    },
    {
     "name": "stderr",
     "output_type": "stream",
     "text": [
      "[I 2023-12-11 15:40:43,621] Trial 55 finished with value: 0.04893420224852366 and parameters: {'topK': 31, 'alpha': 0.3835989048833017, 'beta': 0.19299627676801667}. Best is trial 54 with value: 0.04908324899596215.\n"
     ]
    },
    {
     "name": "stdout",
     "output_type": "stream",
     "text": [
      "EvaluatorHoldout: Processed 10407 (100.0%) in 7.15 sec. Users per second: 1455\n",
      "EvaluatorHoldout: Processed 10439 (100.0%) in 7.14 sec. Users per second: 1461\n",
      "EvaluatorHoldout: Processed 10486 (100.0%) in 7.07 sec. Users per second: 1484\n"
     ]
    },
    {
     "name": "stderr",
     "output_type": "stream",
     "text": [
      "[I 2023-12-11 15:41:24,270] Trial 56 finished with value: 0.048995803199005254 and parameters: {'topK': 27, 'alpha': 0.3579146802142343, 'beta': 0.2125391211619362}. Best is trial 54 with value: 0.04908324899596215.\n"
     ]
    },
    {
     "name": "stdout",
     "output_type": "stream",
     "text": [
      "EvaluatorHoldout: Processed 10407 (100.0%) in 7.25 sec. Users per second: 1436\n",
      "EvaluatorHoldout: Processed 10439 (100.0%) in 7.08 sec. Users per second: 1474\n",
      "EvaluatorHoldout: Processed 10486 (100.0%) in 7.15 sec. Users per second: 1466\n"
     ]
    },
    {
     "name": "stderr",
     "output_type": "stream",
     "text": [
      "[I 2023-12-11 15:42:05,099] Trial 57 finished with value: 0.049015306315241904 and parameters: {'topK': 26, 'alpha': 0.3223517078449443, 'beta': 0.21257611734475199}. Best is trial 54 with value: 0.04908324899596215.\n"
     ]
    },
    {
     "name": "stdout",
     "output_type": "stream",
     "text": [
      "EvaluatorHoldout: Processed 10407 (100.0%) in 7.25 sec. Users per second: 1435\n",
      "EvaluatorHoldout: Processed 10439 (100.0%) in 7.20 sec. Users per second: 1450\n",
      "EvaluatorHoldout: Processed 10486 (100.0%) in 7.29 sec. Users per second: 1439\n"
     ]
    },
    {
     "name": "stderr",
     "output_type": "stream",
     "text": [
      "[I 2023-12-11 15:42:47,886] Trial 58 finished with value: 0.04861220077626483 and parameters: {'topK': 38, 'alpha': 0.3145654548977777, 'beta': 0.22508160335193572}. Best is trial 54 with value: 0.04908324899596215.\n"
     ]
    },
    {
     "name": "stdout",
     "output_type": "stream",
     "text": [
      "EvaluatorHoldout: Processed 10407 (100.0%) in 7.15 sec. Users per second: 1456\n",
      "EvaluatorHoldout: Processed 10439 (100.0%) in 7.03 sec. Users per second: 1485\n",
      "EvaluatorHoldout: Processed 10486 (100.0%) in 7.07 sec. Users per second: 1483\n"
     ]
    },
    {
     "name": "stderr",
     "output_type": "stream",
     "text": [
      "[I 2023-12-11 15:43:28,636] Trial 59 finished with value: 0.049126050257714465 and parameters: {'topK': 29, 'alpha': 0.22312990262322382, 'beta': 0.19155584571407358}. Best is trial 59 with value: 0.049126050257714465.\n"
     ]
    },
    {
     "name": "stdout",
     "output_type": "stream",
     "text": [
      "EvaluatorHoldout: Processed 10407 (100.0%) in 7.10 sec. Users per second: 1466\n",
      "EvaluatorHoldout: Processed 10439 (100.0%) in 7.15 sec. Users per second: 1460\n",
      "EvaluatorHoldout: Processed 10486 (100.0%) in 7.13 sec. Users per second: 1470\n"
     ]
    },
    {
     "name": "stderr",
     "output_type": "stream",
     "text": [
      "[I 2023-12-11 15:44:09,474] Trial 60 finished with value: 0.04905695702817306 and parameters: {'topK': 28, 'alpha': 0.21431200261604746, 'beta': 0.20661300076368905}. Best is trial 59 with value: 0.049126050257714465.\n"
     ]
    },
    {
     "name": "stdout",
     "output_type": "stream",
     "text": [
      "EvaluatorHoldout: Processed 10407 (100.0%) in 7.17 sec. Users per second: 1451\n",
      "EvaluatorHoldout: Processed 10439 (100.0%) in 7.31 sec. Users per second: 1428\n",
      "EvaluatorHoldout: Processed 10486 (100.0%) in 7.13 sec. Users per second: 1472\n"
     ]
    },
    {
     "name": "stderr",
     "output_type": "stream",
     "text": [
      "[I 2023-12-11 15:44:50,407] Trial 61 finished with value: 0.048979748967729324 and parameters: {'topK': 27, 'alpha': 0.22753847086249793, 'beta': 0.20594906821084139}. Best is trial 59 with value: 0.049126050257714465.\n"
     ]
    },
    {
     "name": "stdout",
     "output_type": "stream",
     "text": [
      "EvaluatorHoldout: Processed 10407 (100.0%) in 7.25 sec. Users per second: 1435\n",
      "EvaluatorHoldout: Processed 10439 (100.0%) in 7.02 sec. Users per second: 1486\n",
      "EvaluatorHoldout: Processed 10486 (100.0%) in 7.23 sec. Users per second: 1450\n"
     ]
    },
    {
     "name": "stderr",
     "output_type": "stream",
     "text": [
      "[I 2023-12-11 15:45:29,936] Trial 62 finished with value: 0.04880851858637533 and parameters: {'topK': 18, 'alpha': 0.20364210566058233, 'beta': 0.23287232702587907}. Best is trial 59 with value: 0.049126050257714465.\n"
     ]
    },
    {
     "name": "stdout",
     "output_type": "stream",
     "text": [
      "EvaluatorHoldout: Processed 10407 (100.0%) in 7.15 sec. Users per second: 1457\n",
      "EvaluatorHoldout: Processed 10439 (100.0%) in 7.21 sec. Users per second: 1449\n",
      "EvaluatorHoldout: Processed 10486 (100.0%) in 7.24 sec. Users per second: 1448\n"
     ]
    },
    {
     "name": "stderr",
     "output_type": "stream",
     "text": [
      "[I 2023-12-11 15:46:13,155] Trial 63 finished with value: 0.04832400832326914 and parameters: {'topK': 45, 'alpha': 0.1759284006394557, 'beta': 0.20023835340355917}. Best is trial 59 with value: 0.049126050257714465.\n"
     ]
    },
    {
     "name": "stdout",
     "output_type": "stream",
     "text": [
      "EvaluatorHoldout: Processed 10407 (100.0%) in 7.11 sec. Users per second: 1463\n",
      "EvaluatorHoldout: Processed 10439 (100.0%) in 7.10 sec. Users per second: 1471\n",
      "EvaluatorHoldout: Processed 10486 (100.0%) in 7.02 sec. Users per second: 1494\n"
     ]
    },
    {
     "name": "stderr",
     "output_type": "stream",
     "text": [
      "[I 2023-12-11 15:46:53,968] Trial 64 finished with value: 0.04904983992066197 and parameters: {'topK': 29, 'alpha': 0.25891404857340483, 'beta': 0.19470365219079003}. Best is trial 59 with value: 0.049126050257714465.\n"
     ]
    },
    {
     "name": "stdout",
     "output_type": "stream",
     "text": [
      "EvaluatorHoldout: Processed 10407 (100.0%) in 7.19 sec. Users per second: 1448\n",
      "EvaluatorHoldout: Processed 10439 (100.0%) in 7.15 sec. Users per second: 1459\n",
      "EvaluatorHoldout: Processed 10486 (100.0%) in 7.41 sec. Users per second: 1415\n"
     ]
    },
    {
     "name": "stderr",
     "output_type": "stream",
     "text": [
      "[I 2023-12-11 15:47:36,582] Trial 65 finished with value: 0.048844933006650916 and parameters: {'topK': 38, 'alpha': 0.2528544649464478, 'beta': 0.18624052136089578}. Best is trial 59 with value: 0.049126050257714465.\n"
     ]
    },
    {
     "name": "stdout",
     "output_type": "stream",
     "text": [
      "EvaluatorHoldout: Processed 10407 (100.0%) in 7.07 sec. Users per second: 1472\n",
      "EvaluatorHoldout: Processed 10439 (100.0%) in 7.18 sec. Users per second: 1455\n",
      "EvaluatorHoldout: Processed 10486 (100.0%) in 7.06 sec. Users per second: 1485\n"
     ]
    },
    {
     "name": "stderr",
     "output_type": "stream",
     "text": [
      "[I 2023-12-11 15:48:17,381] Trial 66 finished with value: 0.04909703750376857 and parameters: {'topK': 30, 'alpha': 0.22626396260989637, 'beta': 0.1901973104348958}. Best is trial 59 with value: 0.049126050257714465.\n"
     ]
    },
    {
     "name": "stdout",
     "output_type": "stream",
     "text": [
      "EvaluatorHoldout: Processed 10407 (100.0%) in 7.28 sec. Users per second: 1429\n",
      "EvaluatorHoldout: Processed 10439 (100.0%) in 7.23 sec. Users per second: 1444\n",
      "EvaluatorHoldout: Processed 10486 (100.0%) in 7.21 sec. Users per second: 1455\n"
     ]
    },
    {
     "name": "stderr",
     "output_type": "stream",
     "text": [
      "[I 2023-12-11 15:49:00,728] Trial 67 finished with value: 0.0481873572909968 and parameters: {'topK': 43, 'alpha': 0.1418629476900921, 'beta': 0.21181739873457495}. Best is trial 59 with value: 0.049126050257714465.\n"
     ]
    },
    {
     "name": "stdout",
     "output_type": "stream",
     "text": [
      "EvaluatorHoldout: Processed 10407 (100.0%) in 7.34 sec. Users per second: 1417\n",
      "EvaluatorHoldout: Processed 10439 (100.0%) in 7.34 sec. Users per second: 1423\n",
      "EvaluatorHoldout: Processed 10486 (100.0%) in 7.21 sec. Users per second: 1454\n"
     ]
    },
    {
     "name": "stderr",
     "output_type": "stream",
     "text": [
      "[I 2023-12-11 15:49:44,846] Trial 68 finished with value: 0.04832805023367934 and parameters: {'topK': 48, 'alpha': 0.21480855268690877, 'beta': 0.20232300180438073}. Best is trial 59 with value: 0.049126050257714465.\n"
     ]
    },
    {
     "name": "stdout",
     "output_type": "stream",
     "text": [
      "EvaluatorHoldout: Processed 10407 (100.0%) in 7.05 sec. Users per second: 1477\n",
      "EvaluatorHoldout: Processed 10439 (100.0%) in 7.03 sec. Users per second: 1485\n",
      "EvaluatorHoldout: Processed 10486 (100.0%) in 6.99 sec. Users per second: 1499\n"
     ]
    },
    {
     "name": "stderr",
     "output_type": "stream",
     "text": [
      "[I 2023-12-11 15:50:23,696] Trial 69 finished with value: 0.04853322666348714 and parameters: {'topK': 16, 'alpha': 0.18825652534809906, 'beta': 0.16773445294631875}. Best is trial 59 with value: 0.049126050257714465.\n"
     ]
    },
    {
     "name": "stdout",
     "output_type": "stream",
     "text": [
      "EvaluatorHoldout: Processed 10407 (100.0%) in 7.17 sec. Users per second: 1452\n",
      "EvaluatorHoldout: Processed 10439 (100.0%) in 7.11 sec. Users per second: 1469\n",
      "EvaluatorHoldout: Processed 10486 (100.0%) in 7.16 sec. Users per second: 1464\n"
     ]
    },
    {
     "name": "stderr",
     "output_type": "stream",
     "text": [
      "[I 2023-12-11 15:51:06,155] Trial 70 finished with value: 0.04884451982035284 and parameters: {'topK': 37, 'alpha': 0.24116058757157594, 'beta': 0.19454348502648552}. Best is trial 59 with value: 0.049126050257714465.\n"
     ]
    },
    {
     "name": "stdout",
     "output_type": "stream",
     "text": [
      "EvaluatorHoldout: Processed 10407 (100.0%) in 7.08 sec. Users per second: 1469\n",
      "EvaluatorHoldout: Processed 10439 (100.0%) in 7.08 sec. Users per second: 1475\n",
      "EvaluatorHoldout: Processed 10486 (100.0%) in 7.17 sec. Users per second: 1462\n"
     ]
    },
    {
     "name": "stderr",
     "output_type": "stream",
     "text": [
      "[I 2023-12-11 15:51:47,148] Trial 71 finished with value: 0.0490849632477973 and parameters: {'topK': 30, 'alpha': 0.2919294657181653, 'beta': 0.18649433330087256}. Best is trial 59 with value: 0.049126050257714465.\n"
     ]
    },
    {
     "name": "stdout",
     "output_type": "stream",
     "text": [
      "EvaluatorHoldout: Processed 10407 (100.0%) in 7.23 sec. Users per second: 1439\n",
      "EvaluatorHoldout: Processed 10439 (100.0%) in 7.10 sec. Users per second: 1469\n",
      "EvaluatorHoldout: Processed 10486 (100.0%) in 7.12 sec. Users per second: 1473\n"
     ]
    },
    {
     "name": "stderr",
     "output_type": "stream",
     "text": [
      "[I 2023-12-11 15:52:28,109] Trial 72 finished with value: 0.04905849913538295 and parameters: {'topK': 29, 'alpha': 0.2639958264016044, 'beta': 0.1861711997633639}. Best is trial 59 with value: 0.049126050257714465.\n"
     ]
    },
    {
     "name": "stdout",
     "output_type": "stream",
     "text": [
      "EvaluatorHoldout: Processed 10407 (100.0%) in 7.20 sec. Users per second: 1446\n",
      "EvaluatorHoldout: Processed 10439 (100.0%) in 7.18 sec. Users per second: 1454\n",
      "EvaluatorHoldout: Processed 10486 (100.0%) in 7.18 sec. Users per second: 1461\n"
     ]
    },
    {
     "name": "stderr",
     "output_type": "stream",
     "text": [
      "[I 2023-12-11 15:53:08,630] Trial 73 finished with value: 0.04886779440959413 and parameters: {'topK': 25, 'alpha': 0.21968662950136253, 'beta': 0.18676923282210578}. Best is trial 59 with value: 0.049126050257714465.\n"
     ]
    },
    {
     "name": "stdout",
     "output_type": "stream",
     "text": [
      "EvaluatorHoldout: Processed 10407 (100.0%) in 7.23 sec. Users per second: 1439\n",
      "EvaluatorHoldout: Processed 10439 (100.0%) in 7.06 sec. Users per second: 1479\n",
      "EvaluatorHoldout: Processed 10486 (100.0%) in 7.12 sec. Users per second: 1472\n"
     ]
    },
    {
     "name": "stderr",
     "output_type": "stream",
     "text": [
      "[I 2023-12-11 15:53:48,383] Trial 74 finished with value: 0.048891144164592774 and parameters: {'topK': 20, 'alpha': 0.27389367718037344, 'beta': 0.1719661330228285}. Best is trial 59 with value: 0.049126050257714465.\n"
     ]
    },
    {
     "name": "stdout",
     "output_type": "stream",
     "text": [
      "EvaluatorHoldout: Processed 10407 (100.0%) in 7.53 sec. Users per second: 1382\n",
      "EvaluatorHoldout: Processed 10439 (100.0%) in 7.54 sec. Users per second: 1385\n",
      "EvaluatorHoldout: Processed 10486 (100.0%) in 7.47 sec. Users per second: 1404\n"
     ]
    },
    {
     "name": "stderr",
     "output_type": "stream",
     "text": [
      "[I 2023-12-11 15:54:39,727] Trial 75 finished with value: 0.04582312205120425 and parameters: {'topK': 98, 'alpha': 0.15164419490740183, 'beta': 0.16687943566170022}. Best is trial 59 with value: 0.049126050257714465.\n"
     ]
    },
    {
     "name": "stdout",
     "output_type": "stream",
     "text": [
      "EvaluatorHoldout: Processed 10407 (100.0%) in 7.08 sec. Users per second: 1469\n",
      "EvaluatorHoldout: Processed 10439 (100.0%) in 7.11 sec. Users per second: 1469\n",
      "EvaluatorHoldout: Processed 10486 (100.0%) in 7.18 sec. Users per second: 1460\n"
     ]
    },
    {
     "name": "stderr",
     "output_type": "stream",
     "text": [
      "[I 2023-12-11 15:55:20,475] Trial 76 finished with value: 0.04897450605602063 and parameters: {'topK': 28, 'alpha': 0.19507236049543214, 'beta': 0.18385756175372514}. Best is trial 59 with value: 0.049126050257714465.\n"
     ]
    },
    {
     "name": "stdout",
     "output_type": "stream",
     "text": [
      "EvaluatorHoldout: Processed 10407 (100.0%) in 7.17 sec. Users per second: 1451\n",
      "EvaluatorHoldout: Processed 10439 (100.0%) in 7.28 sec. Users per second: 1434\n",
      "EvaluatorHoldout: Processed 10486 (100.0%) in 7.22 sec. Users per second: 1452\n"
     ]
    },
    {
     "name": "stderr",
     "output_type": "stream",
     "text": [
      "[I 2023-12-11 15:56:03,318] Trial 77 finished with value: 0.048662079441950355 and parameters: {'topK': 40, 'alpha': 0.3393692828686167, 'beta': 0.20624523042918871}. Best is trial 59 with value: 0.049126050257714465.\n"
     ]
    },
    {
     "name": "stdout",
     "output_type": "stream",
     "text": [
      "EvaluatorHoldout: Processed 10407 (100.0%) in 7.21 sec. Users per second: 1443\n",
      "EvaluatorHoldout: Processed 10439 (100.0%) in 7.19 sec. Users per second: 1451\n",
      "EvaluatorHoldout: Processed 10486 (100.0%) in 7.43 sec. Users per second: 1411\n"
     ]
    },
    {
     "name": "stderr",
     "output_type": "stream",
     "text": [
      "[I 2023-12-11 15:56:44,975] Trial 78 finished with value: 0.04893446481489661 and parameters: {'topK': 31, 'alpha': 0.28979311495011406, 'beta': 0.21820556636300234}. Best is trial 59 with value: 0.049126050257714465.\n"
     ]
    },
    {
     "name": "stdout",
     "output_type": "stream",
     "text": [
      "EvaluatorHoldout: Processed 10407 (100.0%) in 7.34 sec. Users per second: 1418\n",
      "EvaluatorHoldout: Processed 10439 (100.0%) in 7.09 sec. Users per second: 1473\n",
      "EvaluatorHoldout: Processed 10486 (100.0%) in 7.12 sec. Users per second: 1472\n"
     ]
    },
    {
     "name": "stderr",
     "output_type": "stream",
     "text": [
      "[I 2023-12-11 15:57:25,270] Trial 79 finished with value: 0.04884771060714405 and parameters: {'topK': 24, 'alpha': 0.24334210348143565, 'beta': 0.2281707078129552}. Best is trial 59 with value: 0.049126050257714465.\n"
     ]
    },
    {
     "name": "stdout",
     "output_type": "stream",
     "text": [
      "EvaluatorHoldout: Processed 10407 (100.0%) in 7.16 sec. Users per second: 1453\n",
      "EvaluatorHoldout: Processed 10439 (100.0%) in 7.36 sec. Users per second: 1418\n",
      "EvaluatorHoldout: Processed 10486 (100.0%) in 7.17 sec. Users per second: 1463\n"
     ]
    },
    {
     "name": "stderr",
     "output_type": "stream",
     "text": [
      "[I 2023-12-11 15:58:07,589] Trial 80 finished with value: 0.048885493676783416 and parameters: {'topK': 37, 'alpha': 0.30742048029816726, 'beta': 0.19931568342491002}. Best is trial 59 with value: 0.049126050257714465.\n"
     ]
    },
    {
     "name": "stdout",
     "output_type": "stream",
     "text": [
      "EvaluatorHoldout: Processed 10407 (100.0%) in 7.08 sec. Users per second: 1469\n",
      "EvaluatorHoldout: Processed 10439 (100.0%) in 7.22 sec. Users per second: 1446\n",
      "EvaluatorHoldout: Processed 10486 (100.0%) in 7.10 sec. Users per second: 1477\n"
     ]
    },
    {
     "name": "stderr",
     "output_type": "stream",
     "text": [
      "[I 2023-12-11 15:58:48,541] Trial 81 finished with value: 0.049084855713543894 and parameters: {'topK': 30, 'alpha': 0.2562833126925152, 'beta': 0.19361248355023986}. Best is trial 59 with value: 0.049126050257714465.\n"
     ]
    },
    {
     "name": "stdout",
     "output_type": "stream",
     "text": [
      "EvaluatorHoldout: Processed 10407 (100.0%) in 7.14 sec. Users per second: 1458\n",
      "EvaluatorHoldout: Processed 10439 (100.0%) in 7.12 sec. Users per second: 1467\n",
      "EvaluatorHoldout: Processed 10486 (100.0%) in 7.14 sec. Users per second: 1468\n"
     ]
    },
    {
     "name": "stderr",
     "output_type": "stream",
     "text": [
      "[I 2023-12-11 15:59:29,514] Trial 82 finished with value: 0.04917439253117865 and parameters: {'topK': 30, 'alpha': 0.22231513427369765, 'beta': 0.1755406793573593}. Best is trial 82 with value: 0.04917439253117865.\n"
     ]
    },
    {
     "name": "stdout",
     "output_type": "stream",
     "text": [
      "EvaluatorHoldout: Processed 10407 (100.0%) in 7.21 sec. Users per second: 1444\n",
      "EvaluatorHoldout: Processed 10439 (100.0%) in 7.19 sec. Users per second: 1451\n",
      "EvaluatorHoldout: Processed 10486 (100.0%) in 7.23 sec. Users per second: 1450\n"
     ]
    },
    {
     "name": "stderr",
     "output_type": "stream",
     "text": [
      "[I 2023-12-11 16:00:11,256] Trial 83 finished with value: 0.04908615538690814 and parameters: {'topK': 33, 'alpha': 0.26696841781359526, 'beta': 0.17983650635904938}. Best is trial 82 with value: 0.04917439253117865.\n"
     ]
    },
    {
     "name": "stdout",
     "output_type": "stream",
     "text": [
      "EvaluatorHoldout: Processed 10407 (100.0%) in 7.17 sec. Users per second: 1451\n",
      "EvaluatorHoldout: Processed 10439 (100.0%) in 7.07 sec. Users per second: 1477\n",
      "EvaluatorHoldout: Processed 10486 (100.0%) in 7.09 sec. Users per second: 1479\n"
     ]
    },
    {
     "name": "stderr",
     "output_type": "stream",
     "text": [
      "[I 2023-12-11 16:00:52,827] Trial 84 finished with value: 0.04907287126108958 and parameters: {'topK': 34, 'alpha': 0.2888681144261211, 'beta': 0.178746154403582}. Best is trial 82 with value: 0.04917439253117865.\n"
     ]
    },
    {
     "name": "stdout",
     "output_type": "stream",
     "text": [
      "EvaluatorHoldout: Processed 10407 (100.0%) in 7.10 sec. Users per second: 1465\n",
      "EvaluatorHoldout: Processed 10439 (100.0%) in 7.15 sec. Users per second: 1460\n",
      "EvaluatorHoldout: Processed 10486 (100.0%) in 7.13 sec. Users per second: 1472\n"
     ]
    },
    {
     "name": "stderr",
     "output_type": "stream",
     "text": [
      "[I 2023-12-11 16:01:34,115] Trial 85 finished with value: 0.04916775539927184 and parameters: {'topK': 32, 'alpha': 0.2343215418359788, 'beta': 0.175013753523077}. Best is trial 82 with value: 0.04917439253117865.\n"
     ]
    },
    {
     "name": "stdout",
     "output_type": "stream",
     "text": [
      "EvaluatorHoldout: Processed 10407 (100.0%) in 7.23 sec. Users per second: 1439\n",
      "EvaluatorHoldout: Processed 10439 (100.0%) in 7.25 sec. Users per second: 1440\n",
      "EvaluatorHoldout: Processed 10486 (100.0%) in 7.25 sec. Users per second: 1447\n"
     ]
    },
    {
     "name": "stderr",
     "output_type": "stream",
     "text": [
      "[I 2023-12-11 16:02:17,146] Trial 86 finished with value: 0.04867174480525194 and parameters: {'topK': 42, 'alpha': 0.2316447499092378, 'beta': 0.1663262677960627}. Best is trial 82 with value: 0.04917439253117865.\n"
     ]
    },
    {
     "name": "stdout",
     "output_type": "stream",
     "text": [
      "EvaluatorHoldout: Processed 10407 (100.0%) in 7.17 sec. Users per second: 1452\n",
      "EvaluatorHoldout: Processed 10439 (100.0%) in 7.26 sec. Users per second: 1438\n",
      "EvaluatorHoldout: Processed 10486 (100.0%) in 7.09 sec. Users per second: 1480\n"
     ]
    },
    {
     "name": "stderr",
     "output_type": "stream",
     "text": [
      "[I 2023-12-11 16:02:58,961] Trial 87 finished with value: 0.04907579309342692 and parameters: {'topK': 36, 'alpha': 0.25655366590176065, 'beta': 0.15315837331603943}. Best is trial 82 with value: 0.04917439253117865.\n"
     ]
    },
    {
     "name": "stdout",
     "output_type": "stream",
     "text": [
      "EvaluatorHoldout: Processed 10407 (100.0%) in 7.22 sec. Users per second: 1441\n",
      "EvaluatorHoldout: Processed 10439 (100.0%) in 7.30 sec. Users per second: 1430\n",
      "EvaluatorHoldout: Processed 10486 (100.0%) in 7.12 sec. Users per second: 1472\n"
     ]
    },
    {
     "name": "stderr",
     "output_type": "stream",
     "text": [
      "[I 2023-12-11 16:03:42,364] Trial 88 finished with value: 0.048357623279600144 and parameters: {'topK': 47, 'alpha': 0.1761252708712249, 'beta': 0.17227819661442448}. Best is trial 82 with value: 0.04917439253117865.\n"
     ]
    },
    {
     "name": "stdout",
     "output_type": "stream",
     "text": [
      "EvaluatorHoldout: Processed 10407 (100.0%) in 7.25 sec. Users per second: 1435\n",
      "EvaluatorHoldout: Processed 10439 (100.0%) in 7.32 sec. Users per second: 1426\n",
      "EvaluatorHoldout: Processed 10486 (100.0%) in 7.22 sec. Users per second: 1452\n"
     ]
    },
    {
     "name": "stderr",
     "output_type": "stream",
     "text": [
      "[I 2023-12-11 16:04:26,893] Trial 89 finished with value: 0.04834758295117639 and parameters: {'topK': 52, 'alpha': 0.2763580257925998, 'beta': 0.17705971590930403}. Best is trial 82 with value: 0.04917439253117865.\n"
     ]
    },
    {
     "name": "stdout",
     "output_type": "stream",
     "text": [
      "EvaluatorHoldout: Processed 10407 (100.0%) in 7.08 sec. Users per second: 1469\n",
      "EvaluatorHoldout: Processed 10439 (100.0%) in 7.10 sec. Users per second: 1470\n",
      "EvaluatorHoldout: Processed 10486 (100.0%) in 7.14 sec. Users per second: 1468\n"
     ]
    },
    {
     "name": "stderr",
     "output_type": "stream",
     "text": [
      "[I 2023-12-11 16:05:08,098] Trial 90 finished with value: 0.04911127755409422 and parameters: {'topK': 33, 'alpha': 0.20316785638859533, 'beta': 0.15799174721138726}. Best is trial 82 with value: 0.04917439253117865.\n"
     ]
    },
    {
     "name": "stdout",
     "output_type": "stream",
     "text": [
      "EvaluatorHoldout: Processed 10407 (100.0%) in 7.14 sec. Users per second: 1458\n",
      "EvaluatorHoldout: Processed 10439 (100.0%) in 7.16 sec. Users per second: 1458\n",
      "EvaluatorHoldout: Processed 10486 (100.0%) in 7.39 sec. Users per second: 1419\n"
     ]
    },
    {
     "name": "stderr",
     "output_type": "stream",
     "text": [
      "[I 2023-12-11 16:05:49,688] Trial 91 finished with value: 0.049090169303371796 and parameters: {'topK': 33, 'alpha': 0.21342519947706778, 'beta': 0.15980622755243645}. Best is trial 82 with value: 0.04917439253117865.\n"
     ]
    },
    {
     "name": "stdout",
     "output_type": "stream",
     "text": [
      "EvaluatorHoldout: Processed 10407 (100.0%) in 7.42 sec. Users per second: 1404\n",
      "EvaluatorHoldout: Processed 10439 (100.0%) in 7.11 sec. Users per second: 1468\n",
      "EvaluatorHoldout: Processed 10486 (100.0%) in 7.14 sec. Users per second: 1469\n"
     ]
    },
    {
     "name": "stderr",
     "output_type": "stream",
     "text": [
      "[I 2023-12-11 16:06:31,107] Trial 92 finished with value: 0.04909430770558945 and parameters: {'topK': 33, 'alpha': 0.20911094158492288, 'beta': 0.15887940212705803}. Best is trial 82 with value: 0.04917439253117865.\n"
     ]
    },
    {
     "name": "stdout",
     "output_type": "stream",
     "text": [
      "EvaluatorHoldout: Processed 10407 (100.0%) in 7.17 sec. Users per second: 1451\n",
      "EvaluatorHoldout: Processed 10439 (100.0%) in 7.28 sec. Users per second: 1435\n",
      "EvaluatorHoldout: Processed 10486 (100.0%) in 7.03 sec. Users per second: 1492\n"
     ]
    },
    {
     "name": "stderr",
     "output_type": "stream",
     "text": [
      "[I 2023-12-11 16:07:12,491] Trial 93 finished with value: 0.049102439975042426 and parameters: {'topK': 33, 'alpha': 0.19374379035346068, 'beta': 0.15786004581036384}. Best is trial 82 with value: 0.04917439253117865.\n"
     ]
    },
    {
     "name": "stdout",
     "output_type": "stream",
     "text": [
      "EvaluatorHoldout: Processed 10407 (100.0%) in 7.12 sec. Users per second: 1462\n",
      "EvaluatorHoldout: Processed 10439 (100.0%) in 7.22 sec. Users per second: 1446\n",
      "EvaluatorHoldout: Processed 10486 (100.0%) in 7.08 sec. Users per second: 1482\n"
     ]
    },
    {
     "name": "stderr",
     "output_type": "stream",
     "text": [
      "[I 2023-12-11 16:07:53,954] Trial 94 finished with value: 0.04906304011039192 and parameters: {'topK': 33, 'alpha': 0.19463909510388308, 'beta': 0.16048101231195694}. Best is trial 82 with value: 0.04917439253117865.\n"
     ]
    },
    {
     "name": "stdout",
     "output_type": "stream",
     "text": [
      "EvaluatorHoldout: Processed 10407 (100.0%) in 7.22 sec. Users per second: 1441\n",
      "EvaluatorHoldout: Processed 10439 (100.0%) in 7.17 sec. Users per second: 1457\n",
      "EvaluatorHoldout: Processed 10486 (100.0%) in 7.30 sec. Users per second: 1437\n"
     ]
    },
    {
     "name": "stderr",
     "output_type": "stream",
     "text": [
      "[I 2023-12-11 16:08:36,499] Trial 95 finished with value: 0.04882330746425153 and parameters: {'topK': 39, 'alpha': 0.21580253447364264, 'beta': 0.1548348683464748}. Best is trial 82 with value: 0.04917439253117865.\n"
     ]
    },
    {
     "name": "stdout",
     "output_type": "stream",
     "text": [
      "EvaluatorHoldout: Processed 10407 (100.0%) in 7.11 sec. Users per second: 1464\n",
      "EvaluatorHoldout: Processed 10439 (100.0%) in 7.22 sec. Users per second: 1446\n",
      "EvaluatorHoldout: Processed 10486 (100.0%) in 7.16 sec. Users per second: 1464\n"
     ]
    },
    {
     "name": "stderr",
     "output_type": "stream",
     "text": [
      "[I 2023-12-11 16:09:17,696] Trial 96 finished with value: 0.048835163396458436 and parameters: {'topK': 32, 'alpha': 0.14440268687158098, 'beta': 0.14425401035006222}. Best is trial 82 with value: 0.04917439253117865.\n"
     ]
    },
    {
     "name": "stdout",
     "output_type": "stream",
     "text": [
      "EvaluatorHoldout: Processed 10407 (100.0%) in 7.14 sec. Users per second: 1458\n",
      "EvaluatorHoldout: Processed 10439 (100.0%) in 7.19 sec. Users per second: 1452\n",
      "EvaluatorHoldout: Processed 10486 (100.0%) in 7.15 sec. Users per second: 1466\n"
     ]
    },
    {
     "name": "stderr",
     "output_type": "stream",
     "text": [
      "[I 2023-12-11 16:09:59,457] Trial 97 finished with value: 0.04899230358670335 and parameters: {'topK': 35, 'alpha': 0.2358192481183166, 'beta': 0.1674837167698507}. Best is trial 82 with value: 0.04917439253117865.\n"
     ]
    },
    {
     "name": "stdout",
     "output_type": "stream",
     "text": [
      "EvaluatorHoldout: Processed 10407 (100.0%) in 7.21 sec. Users per second: 1444\n",
      "EvaluatorHoldout: Processed 10439 (100.0%) in 7.32 sec. Users per second: 1426\n",
      "EvaluatorHoldout: Processed 10486 (100.0%) in 7.14 sec. Users per second: 1468\n"
     ]
    },
    {
     "name": "stderr",
     "output_type": "stream",
     "text": [
      "[I 2023-12-11 16:10:41,960] Trial 98 finished with value: 0.04870888725657724 and parameters: {'topK': 41, 'alpha': 0.18301086202746827, 'beta': 0.14937531143876848}. Best is trial 82 with value: 0.04917439253117865.\n"
     ]
    },
    {
     "name": "stdout",
     "output_type": "stream",
     "text": [
      "EvaluatorHoldout: Processed 10407 (100.0%) in 7.03 sec. Users per second: 1481\n",
      "EvaluatorHoldout: Processed 10439 (100.0%) in 7.01 sec. Users per second: 1488\n",
      "EvaluatorHoldout: Processed 10486 (100.0%) in 7.12 sec. Users per second: 1472\n"
     ]
    },
    {
     "name": "stderr",
     "output_type": "stream",
     "text": [
      "[I 2023-12-11 16:11:21,959] Trial 99 finished with value: 0.04879823734806898 and parameters: {'topK': 25, 'alpha': 0.15775629963054286, 'beta': 0.16005174414167692}. Best is trial 82 with value: 0.04917439253117865.\n"
     ]
    },
    {
     "name": "stdout",
     "output_type": "stream",
     "text": [
      "EvaluatorHoldout: Processed 10407 (100.0%) in 7.12 sec. Users per second: 1462\n",
      "EvaluatorHoldout: Processed 10439 (100.0%) in 7.17 sec. Users per second: 1456\n",
      "EvaluatorHoldout: Processed 10486 (100.0%) in 7.14 sec. Users per second: 1468\n"
     ]
    },
    {
     "name": "stderr",
     "output_type": "stream",
     "text": [
      "[I 2023-12-11 16:12:01,786] Trial 100 finished with value: 0.04890172921276342 and parameters: {'topK': 21, 'alpha': 0.2080406170286415, 'beta': 0.18093476690596813}. Best is trial 82 with value: 0.04917439253117865.\n"
     ]
    },
    {
     "name": "stdout",
     "output_type": "stream",
     "text": [
      "EvaluatorHoldout: Processed 10407 (100.0%) in 7.21 sec. Users per second: 1442\n",
      "EvaluatorHoldout: Processed 10439 (100.0%) in 7.15 sec. Users per second: 1459\n",
      "EvaluatorHoldout: Processed 10486 (100.0%) in 7.12 sec. Users per second: 1473\n"
     ]
    },
    {
     "name": "stderr",
     "output_type": "stream",
     "text": [
      "[I 2023-12-11 16:12:43,331] Trial 101 finished with value: 0.04910693408735667 and parameters: {'topK': 32, 'alpha': 0.24294784009051915, 'beta': 0.1745759776275564}. Best is trial 82 with value: 0.04917439253117865.\n"
     ]
    },
    {
     "name": "stdout",
     "output_type": "stream",
     "text": [
      "EvaluatorHoldout: Processed 10407 (100.0%) in 7.06 sec. Users per second: 1474\n",
      "EvaluatorHoldout: Processed 10439 (100.0%) in 7.24 sec. Users per second: 1443\n",
      "EvaluatorHoldout: Processed 10486 (100.0%) in 7.12 sec. Users per second: 1472\n"
     ]
    },
    {
     "name": "stderr",
     "output_type": "stream",
     "text": [
      "[I 2023-12-11 16:13:24,804] Trial 102 finished with value: 0.048990658619250844 and parameters: {'topK': 33, 'alpha': 0.16622575741084422, 'beta': 0.1760810958719988}. Best is trial 82 with value: 0.04917439253117865.\n"
     ]
    },
    {
     "name": "stdout",
     "output_type": "stream",
     "text": [
      "EvaluatorHoldout: Processed 10407 (100.0%) in 7.16 sec. Users per second: 1453\n",
      "EvaluatorHoldout: Processed 10439 (100.0%) in 7.27 sec. Users per second: 1436\n",
      "EvaluatorHoldout: Processed 10486 (100.0%) in 7.26 sec. Users per second: 1444\n"
     ]
    },
    {
     "name": "stderr",
     "output_type": "stream",
     "text": [
      "[I 2023-12-11 16:14:06,990] Trial 103 finished with value: 0.0489402433324112 and parameters: {'topK': 36, 'alpha': 0.2230721596466726, 'beta': 0.17193181587317483}. Best is trial 82 with value: 0.04917439253117865.\n"
     ]
    },
    {
     "name": "stdout",
     "output_type": "stream",
     "text": [
      "EvaluatorHoldout: Processed 10407 (100.0%) in 7.23 sec. Users per second: 1440\n",
      "EvaluatorHoldout: Processed 10439 (100.0%) in 7.12 sec. Users per second: 1467\n",
      "EvaluatorHoldout: Processed 10486 (100.0%) in 7.12 sec. Users per second: 1473\n"
     ]
    },
    {
     "name": "stderr",
     "output_type": "stream",
     "text": [
      "[I 2023-12-11 16:14:48,208] Trial 104 finished with value: 0.04901913918052078 and parameters: {'topK': 32, 'alpha': 0.2037530610957896, 'beta': 0.15403300384389887}. Best is trial 82 with value: 0.04917439253117865.\n"
     ]
    },
    {
     "name": "stdout",
     "output_type": "stream",
     "text": [
      "EvaluatorHoldout: Processed 10407 (100.0%) in 7.17 sec. Users per second: 1452\n",
      "EvaluatorHoldout: Processed 10439 (100.0%) in 7.02 sec. Users per second: 1487\n",
      "EvaluatorHoldout: Processed 10486 (100.0%) in 7.26 sec. Users per second: 1445\n"
     ]
    },
    {
     "name": "stderr",
     "output_type": "stream",
     "text": [
      "[I 2023-12-11 16:15:28,847] Trial 105 finished with value: 0.04893051144049796 and parameters: {'topK': 27, 'alpha': 0.2396538928983746, 'beta': 0.1652281947515604}. Best is trial 82 with value: 0.04917439253117865.\n"
     ]
    },
    {
     "name": "stdout",
     "output_type": "stream",
     "text": [
      "EvaluatorHoldout: Processed 10407 (100.0%) in 7.24 sec. Users per second: 1437\n",
      "EvaluatorHoldout: Processed 10439 (100.0%) in 7.08 sec. Users per second: 1475\n",
      "EvaluatorHoldout: Processed 10486 (100.0%) in 7.12 sec. Users per second: 1473\n"
     ]
    },
    {
     "name": "stderr",
     "output_type": "stream",
     "text": [
      "[I 2023-12-11 16:16:08,844] Trial 106 finished with value: 0.04895988561075113 and parameters: {'topK': 23, 'alpha': 0.18498256655616818, 'beta': 0.1845439125543721}. Best is trial 82 with value: 0.04917439253117865.\n"
     ]
    },
    {
     "name": "stdout",
     "output_type": "stream",
     "text": [
      "EvaluatorHoldout: Processed 10407 (100.0%) in 7.54 sec. Users per second: 1380\n",
      "EvaluatorHoldout: Processed 10439 (100.0%) in 7.22 sec. Users per second: 1445\n",
      "EvaluatorHoldout: Processed 10486 (100.0%) in 7.12 sec. Users per second: 1472\n"
     ]
    },
    {
     "name": "stderr",
     "output_type": "stream",
     "text": [
      "[I 2023-12-11 16:16:51,118] Trial 107 finished with value: 0.04881612834440834 and parameters: {'topK': 38, 'alpha': 0.1986506155909654, 'beta': 0.16220410429647591}. Best is trial 82 with value: 0.04917439253117865.\n"
     ]
    },
    {
     "name": "stdout",
     "output_type": "stream",
     "text": [
      "EvaluatorHoldout: Processed 10407 (100.0%) in 7.10 sec. Users per second: 1465\n",
      "EvaluatorHoldout: Processed 10439 (100.0%) in 7.17 sec. Users per second: 1456\n",
      "EvaluatorHoldout: Processed 10486 (100.0%) in 7.14 sec. Users per second: 1468\n"
     ]
    },
    {
     "name": "stderr",
     "output_type": "stream",
     "text": [
      "[I 2023-12-11 16:17:31,425] Trial 108 finished with value: 0.04886665157439679 and parameters: {'topK': 26, 'alpha': 0.22569780682532792, 'beta': 0.13986460673124723}. Best is trial 82 with value: 0.04917439253117865.\n"
     ]
    },
    {
     "name": "stdout",
     "output_type": "stream",
     "text": [
      "EvaluatorHoldout: Processed 10407 (100.0%) in 7.23 sec. Users per second: 1440\n",
      "EvaluatorHoldout: Processed 10439 (100.0%) in 7.25 sec. Users per second: 1440\n",
      "EvaluatorHoldout: Processed 10486 (100.0%) in 7.10 sec. Users per second: 1477\n"
     ]
    },
    {
     "name": "stderr",
     "output_type": "stream",
     "text": [
      "[I 2023-12-11 16:18:13,118] Trial 109 finished with value: 0.04900573272037149 and parameters: {'topK': 35, 'alpha': 0.247204366095778, 'beta': 0.14640063671173006}. Best is trial 82 with value: 0.04917439253117865.\n"
     ]
    },
    {
     "name": "stdout",
     "output_type": "stream",
     "text": [
      "EvaluatorHoldout: Processed 10407 (100.0%) in 7.17 sec. Users per second: 1451\n",
      "EvaluatorHoldout: Processed 10439 (100.0%) in 7.03 sec. Users per second: 1485\n",
      "EvaluatorHoldout: Processed 10486 (100.0%) in 7.10 sec. Users per second: 1477\n"
     ]
    },
    {
     "name": "stderr",
     "output_type": "stream",
     "text": [
      "[I 2023-12-11 16:18:54,269] Trial 110 finished with value: 0.04905590238154356 and parameters: {'topK': 31, 'alpha': 0.1643736217395285, 'beta': 0.1744092302075304}. Best is trial 82 with value: 0.04917439253117865.\n"
     ]
    },
    {
     "name": "stdout",
     "output_type": "stream",
     "text": [
      "EvaluatorHoldout: Processed 10407 (100.0%) in 7.16 sec. Users per second: 1454\n",
      "EvaluatorHoldout: Processed 10439 (100.0%) in 7.17 sec. Users per second: 1455\n",
      "EvaluatorHoldout: Processed 10486 (100.0%) in 7.19 sec. Users per second: 1459\n"
     ]
    },
    {
     "name": "stderr",
     "output_type": "stream",
     "text": [
      "[I 2023-12-11 16:19:35,311] Trial 111 finished with value: 0.04906602199119244 and parameters: {'topK': 29, 'alpha': 0.26309096411757404, 'beta': 0.1868692191038861}. Best is trial 82 with value: 0.04917439253117865.\n"
     ]
    },
    {
     "name": "stdout",
     "output_type": "stream",
     "text": [
      "EvaluatorHoldout: Processed 10407 (100.0%) in 7.10 sec. Users per second: 1465\n",
      "EvaluatorHoldout: Processed 10439 (100.0%) in 7.19 sec. Users per second: 1451\n",
      "EvaluatorHoldout: Processed 10486 (100.0%) in 7.22 sec. Users per second: 1453\n"
     ]
    },
    {
     "name": "stderr",
     "output_type": "stream",
     "text": [
      "[I 2023-12-11 16:20:16,433] Trial 112 finished with value: 0.04891317154462163 and parameters: {'topK': 30, 'alpha': 0.1314902109224769, 'beta': 0.1811824004614371}. Best is trial 82 with value: 0.04917439253117865.\n"
     ]
    },
    {
     "name": "stdout",
     "output_type": "stream",
     "text": [
      "EvaluatorHoldout: Processed 10407 (100.0%) in 7.16 sec. Users per second: 1453\n",
      "EvaluatorHoldout: Processed 10439 (100.0%) in 7.36 sec. Users per second: 1419\n",
      "EvaluatorHoldout: Processed 10486 (100.0%) in 7.32 sec. Users per second: 1433\n"
     ]
    },
    {
     "name": "stderr",
     "output_type": "stream",
     "text": [
      "[I 2023-12-11 16:20:58,429] Trial 113 finished with value: 0.04899130699341308 and parameters: {'topK': 33, 'alpha': 0.2490524064964426, 'beta': 0.19118928836613786}. Best is trial 82 with value: 0.04917439253117865.\n"
     ]
    },
    {
     "name": "stdout",
     "output_type": "stream",
     "text": [
      "EvaluatorHoldout: Processed 10407 (100.0%) in 7.03 sec. Users per second: 1480\n",
      "EvaluatorHoldout: Processed 10439 (100.0%) in 7.01 sec. Users per second: 1490\n",
      "EvaluatorHoldout: Processed 10486 (100.0%) in 7.08 sec. Users per second: 1481\n"
     ]
    },
    {
     "name": "stderr",
     "output_type": "stream",
     "text": [
      "[I 2023-12-11 16:21:37,587] Trial 114 finished with value: 0.048713767773900664 and parameters: {'topK': 19, 'alpha': 0.181623038416797, 'beta': 0.15789807200138914}. Best is trial 82 with value: 0.04917439253117865.\n"
     ]
    },
    {
     "name": "stdout",
     "output_type": "stream",
     "text": [
      "EvaluatorHoldout: Processed 10407 (100.0%) in 7.06 sec. Users per second: 1473\n",
      "EvaluatorHoldout: Processed 10439 (100.0%) in 7.31 sec. Users per second: 1427\n",
      "EvaluatorHoldout: Processed 10486 (100.0%) in 7.07 sec. Users per second: 1482\n"
     ]
    },
    {
     "name": "stderr",
     "output_type": "stream",
     "text": [
      "[I 2023-12-11 16:22:18,113] Trial 115 finished with value: 0.04890735218119747 and parameters: {'topK': 27, 'alpha': 0.21255696548728278, 'beta': 0.17023187397759845}. Best is trial 82 with value: 0.04917439253117865.\n"
     ]
    },
    {
     "name": "stdout",
     "output_type": "stream",
     "text": [
      "EvaluatorHoldout: Processed 10407 (100.0%) in 7.30 sec. Users per second: 1426\n",
      "EvaluatorHoldout: Processed 10439 (100.0%) in 7.45 sec. Users per second: 1401\n",
      "EvaluatorHoldout: Processed 10486 (100.0%) in 7.31 sec. Users per second: 1435\n"
     ]
    },
    {
     "name": "stderr",
     "output_type": "stream",
     "text": [
      "[I 2023-12-11 16:23:01,152] Trial 116 finished with value: 0.04871391058946587 and parameters: {'topK': 39, 'alpha': 0.23161870039352825, 'beta': 0.19935824961336618}. Best is trial 82 with value: 0.04917439253117865.\n"
     ]
    },
    {
     "name": "stdout",
     "output_type": "stream",
     "text": [
      "EvaluatorHoldout: Processed 10407 (100.0%) in 7.09 sec. Users per second: 1467\n",
      "EvaluatorHoldout: Processed 10439 (100.0%) in 7.50 sec. Users per second: 1393\n",
      "EvaluatorHoldout: Processed 10486 (100.0%) in 8.28 sec. Users per second: 1266\n"
     ]
    },
    {
     "name": "stderr",
     "output_type": "stream",
     "text": [
      "[I 2023-12-11 16:23:42,850] Trial 117 finished with value: 0.048950999472410606 and parameters: {'topK': 24, 'alpha': 0.269933822256572, 'beta': 0.1897905733825922}. Best is trial 82 with value: 0.04917439253117865.\n"
     ]
    },
    {
     "name": "stdout",
     "output_type": "stream",
     "text": [
      "EvaluatorHoldout: Processed 10407 (100.0%) in 7.14 sec. Users per second: 1457\n",
      "EvaluatorHoldout: Processed 10439 (100.0%) in 7.12 sec. Users per second: 1466\n",
      "EvaluatorHoldout: Processed 10486 (100.0%) in 7.26 sec. Users per second: 1445\n"
     ]
    },
    {
     "name": "stderr",
     "output_type": "stream",
     "text": [
      "[I 2023-12-11 16:24:24,918] Trial 118 finished with value: 0.04902945093621303 and parameters: {'topK': 35, 'alpha': 0.29150379731783804, 'beta': 0.18032869388744555}. Best is trial 82 with value: 0.04917439253117865.\n"
     ]
    },
    {
     "name": "stdout",
     "output_type": "stream",
     "text": [
      "EvaluatorHoldout: Processed 10407 (100.0%) in 7.20 sec. Users per second: 1445\n",
      "EvaluatorHoldout: Processed 10439 (100.0%) in 7.22 sec. Users per second: 1447\n",
      "EvaluatorHoldout: Processed 10486 (100.0%) in 7.26 sec. Users per second: 1444\n"
     ]
    },
    {
     "name": "stderr",
     "output_type": "stream",
     "text": [
      "[I 2023-12-11 16:25:07,940] Trial 119 finished with value: 0.0485105381073645 and parameters: {'topK': 43, 'alpha': 0.19948634919584288, 'beta': 0.16463446893996098}. Best is trial 82 with value: 0.04917439253117865.\n"
     ]
    },
    {
     "name": "stdout",
     "output_type": "stream",
     "text": [
      "EvaluatorHoldout: Processed 10407 (100.0%) in 7.17 sec. Users per second: 1452\n",
      "EvaluatorHoldout: Processed 10439 (100.0%) in 7.08 sec. Users per second: 1474\n",
      "EvaluatorHoldout: Processed 10486 (100.0%) in 7.05 sec. Users per second: 1488\n"
     ]
    },
    {
     "name": "stderr",
     "output_type": "stream",
     "text": [
      "[I 2023-12-11 16:25:48,734] Trial 120 finished with value: 0.04888657058310439 and parameters: {'topK': 30, 'alpha': 0.17104158834021085, 'beta': 0.15169084311742861}. Best is trial 82 with value: 0.04917439253117865.\n"
     ]
    },
    {
     "name": "stdout",
     "output_type": "stream",
     "text": [
      "EvaluatorHoldout: Processed 10407 (100.0%) in 7.05 sec. Users per second: 1476\n",
      "EvaluatorHoldout: Processed 10439 (100.0%) in 7.07 sec. Users per second: 1476\n",
      "EvaluatorHoldout: Processed 10486 (100.0%) in 7.16 sec. Users per second: 1464\n"
     ]
    },
    {
     "name": "stderr",
     "output_type": "stream",
     "text": [
      "[I 2023-12-11 16:26:29,321] Trial 121 finished with value: 0.0490535217170359 and parameters: {'topK': 28, 'alpha': 0.2534328530733308, 'beta': 0.19848714884154472}. Best is trial 82 with value: 0.04917439253117865.\n"
     ]
    },
    {
     "name": "stdout",
     "output_type": "stream",
     "text": [
      "EvaluatorHoldout: Processed 10407 (100.0%) in 7.07 sec. Users per second: 1471\n",
      "EvaluatorHoldout: Processed 10439 (100.0%) in 9.79 sec. Users per second: 1066\n",
      "EvaluatorHoldout: Processed 10486 (100.0%) in 7.25 sec. Users per second: 1447\n"
     ]
    },
    {
     "name": "stderr",
     "output_type": "stream",
     "text": [
      "[I 2023-12-11 16:27:13,336] Trial 122 finished with value: 0.04907326152268843 and parameters: {'topK': 32, 'alpha': 0.2237864903865959, 'beta': 0.19187485512106967}. Best is trial 82 with value: 0.04917439253117865.\n"
     ]
    },
    {
     "name": "stdout",
     "output_type": "stream",
     "text": [
      "EvaluatorHoldout: Processed 10407 (100.0%) in 7.12 sec. Users per second: 1462\n",
      "EvaluatorHoldout: Processed 10439 (100.0%) in 7.16 sec. Users per second: 1459\n",
      "EvaluatorHoldout: Processed 10486 (100.0%) in 7.20 sec. Users per second: 1456\n"
     ]
    },
    {
     "name": "stderr",
     "output_type": "stream",
     "text": [
      "[I 2023-12-11 16:27:54,236] Trial 123 finished with value: 0.04903827863470902 and parameters: {'topK': 29, 'alpha': 0.2866136240940115, 'beta': 0.17556986203550193}. Best is trial 82 with value: 0.04917439253117865.\n"
     ]
    },
    {
     "name": "stdout",
     "output_type": "stream",
     "text": [
      "EvaluatorHoldout: Processed 10407 (100.0%) in 7.08 sec. Users per second: 1470\n",
      "EvaluatorHoldout: Processed 10439 (100.0%) in 7.79 sec. Users per second: 1341\n",
      "EvaluatorHoldout: Processed 10486 (100.0%) in 7.09 sec. Users per second: 1480\n"
     ]
    },
    {
     "name": "stderr",
     "output_type": "stream",
     "text": [
      "[I 2023-12-11 16:28:35,111] Trial 124 finished with value: 0.04895290530623156 and parameters: {'topK': 26, 'alpha': 0.30447830615890625, 'beta': 0.16959184260674767}. Best is trial 82 with value: 0.04917439253117865.\n"
     ]
    },
    {
     "name": "stdout",
     "output_type": "stream",
     "text": [
      "EvaluatorHoldout: Processed 10407 (100.0%) in 7.18 sec. Users per second: 1450\n",
      "EvaluatorHoldout: Processed 10439 (100.0%) in 7.14 sec. Users per second: 1463\n",
      "EvaluatorHoldout: Processed 10486 (100.0%) in 7.49 sec. Users per second: 1399\n"
     ]
    },
    {
     "name": "stderr",
     "output_type": "stream",
     "text": [
      "[I 2023-12-11 16:29:17,510] Trial 125 finished with value: 0.048899478867176153 and parameters: {'topK': 37, 'alpha': 0.2752743546022104, 'beta': 0.1936026654368932}. Best is trial 82 with value: 0.04917439253117865.\n"
     ]
    },
    {
     "name": "stdout",
     "output_type": "stream",
     "text": [
      "EvaluatorHoldout: Processed 10407 (100.0%) in 7.17 sec. Users per second: 1452\n",
      "EvaluatorHoldout: Processed 10439 (100.0%) in 7.14 sec. Users per second: 1462\n",
      "EvaluatorHoldout: Processed 10486 (100.0%) in 7.13 sec. Users per second: 1472\n"
     ]
    },
    {
     "name": "stderr",
     "output_type": "stream",
     "text": [
      "[I 2023-12-11 16:29:59,116] Trial 126 finished with value: 0.04904347874168489 and parameters: {'topK': 33, 'alpha': 0.2616404968463356, 'beta': 0.18266486889095437}. Best is trial 82 with value: 0.04917439253117865.\n"
     ]
    },
    {
     "name": "stdout",
     "output_type": "stream",
     "text": [
      "EvaluatorHoldout: Processed 10407 (100.0%) in 7.02 sec. Users per second: 1483\n",
      "EvaluatorHoldout: Processed 10439 (100.0%) in 7.17 sec. Users per second: 1456\n",
      "EvaluatorHoldout: Processed 10486 (100.0%) in 7.10 sec. Users per second: 1477\n"
     ]
    },
    {
     "name": "stderr",
     "output_type": "stream",
     "text": [
      "[I 2023-12-11 16:30:39,198] Trial 127 finished with value: 0.04893975667730168 and parameters: {'topK': 23, 'alpha': 0.24458493994322378, 'beta': 0.15848771272647993}. Best is trial 82 with value: 0.04917439253117865.\n"
     ]
    },
    {
     "name": "stdout",
     "output_type": "stream",
     "text": [
      "EvaluatorHoldout: Processed 10407 (100.0%) in 7.04 sec. Users per second: 1478\n",
      "EvaluatorHoldout: Processed 10439 (100.0%) in 7.12 sec. Users per second: 1466\n",
      "EvaluatorHoldout: Processed 10486 (100.0%) in 7.07 sec. Users per second: 1484\n"
     ]
    },
    {
     "name": "stderr",
     "output_type": "stream",
     "text": [
      "[I 2023-12-11 16:31:20,231] Trial 128 finished with value: 0.049114440782467184 and parameters: {'topK': 30, 'alpha': 0.3247354562737327, 'beta': 0.1853446668930341}. Best is trial 82 with value: 0.04917439253117865.\n"
     ]
    },
    {
     "name": "stdout",
     "output_type": "stream",
     "text": [
      "EvaluatorHoldout: Processed 10407 (100.0%) in 7.23 sec. Users per second: 1440\n",
      "EvaluatorHoldout: Processed 10439 (100.0%) in 7.12 sec. Users per second: 1467\n",
      "EvaluatorHoldout: Processed 10486 (100.0%) in 7.25 sec. Users per second: 1446\n"
     ]
    },
    {
     "name": "stderr",
     "output_type": "stream",
     "text": [
      "[I 2023-12-11 16:32:02,845] Trial 129 finished with value: 0.04879234585370787 and parameters: {'topK': 40, 'alpha': 0.3178834605095662, 'beta': 0.17596199969419593}. Best is trial 82 with value: 0.04917439253117865.\n"
     ]
    },
    {
     "name": "stdout",
     "output_type": "stream",
     "text": [
      "EvaluatorHoldout: Processed 10407 (100.0%) in 7.36 sec. Users per second: 1415\n",
      "EvaluatorHoldout: Processed 10439 (100.0%) in 7.29 sec. Users per second: 1432\n",
      "EvaluatorHoldout: Processed 10486 (100.0%) in 7.41 sec. Users per second: 1415\n"
     ]
    },
    {
     "name": "stderr",
     "output_type": "stream",
     "text": [
      "[I 2023-12-11 16:32:48,778] Trial 130 finished with value: 0.04788302393816465 and parameters: {'topK': 63, 'alpha': 0.21187408550899714, 'beta': 0.1339453762753709}. Best is trial 82 with value: 0.04917439253117865.\n"
     ]
    },
    {
     "name": "stdout",
     "output_type": "stream",
     "text": [
      "EvaluatorHoldout: Processed 10407 (100.0%) in 7.15 sec. Users per second: 1456\n",
      "EvaluatorHoldout: Processed 10439 (100.0%) in 7.13 sec. Users per second: 1464\n",
      "EvaluatorHoldout: Processed 10486 (100.0%) in 7.11 sec. Users per second: 1475\n"
     ]
    },
    {
     "name": "stderr",
     "output_type": "stream",
     "text": [
      "[I 2023-12-11 16:33:30,235] Trial 131 finished with value: 0.04908133789699152 and parameters: {'topK': 31, 'alpha': 0.3359965250534959, 'beta': 0.1867583545698955}. Best is trial 82 with value: 0.04917439253117865.\n"
     ]
    },
    {
     "name": "stdout",
     "output_type": "stream",
     "text": [
      "EvaluatorHoldout: Processed 10407 (100.0%) in 7.14 sec. Users per second: 1458\n",
      "EvaluatorHoldout: Processed 10439 (100.0%) in 7.17 sec. Users per second: 1455\n",
      "EvaluatorHoldout: Processed 10486 (100.0%) in 7.19 sec. Users per second: 1458\n"
     ]
    },
    {
     "name": "stderr",
     "output_type": "stream",
     "text": [
      "[I 2023-12-11 16:34:12,081] Trial 132 finished with value: 0.04892012643349077 and parameters: {'topK': 34, 'alpha': 0.3046747130318751, 'beta': 0.20307026390841604}. Best is trial 82 with value: 0.04917439253117865.\n"
     ]
    },
    {
     "name": "stdout",
     "output_type": "stream",
     "text": [
      "EvaluatorHoldout: Processed 10407 (100.0%) in 7.13 sec. Users per second: 1459\n",
      "EvaluatorHoldout: Processed 10439 (100.0%) in 7.13 sec. Users per second: 1464\n",
      "EvaluatorHoldout: Processed 10486 (100.0%) in 7.24 sec. Users per second: 1449\n"
     ]
    },
    {
     "name": "stderr",
     "output_type": "stream",
     "text": [
      "[I 2023-12-11 16:34:52,973] Trial 133 finished with value: 0.048916022607665616 and parameters: {'topK': 28, 'alpha': 0.23472521429732354, 'beta': 0.16885702686722734}. Best is trial 82 with value: 0.04917439253117865.\n"
     ]
    },
    {
     "name": "stdout",
     "output_type": "stream",
     "text": [
      "EvaluatorHoldout: Processed 10407 (100.0%) in 7.30 sec. Users per second: 1425\n",
      "EvaluatorHoldout: Processed 10439 (100.0%) in 7.23 sec. Users per second: 1445\n",
      "EvaluatorHoldout: Processed 10486 (100.0%) in 7.26 sec. Users per second: 1443\n"
     ]
    },
    {
     "name": "stderr",
     "output_type": "stream",
     "text": [
      "[I 2023-12-11 16:35:35,468] Trial 134 finished with value: 0.04880044265535566 and parameters: {'topK': 36, 'alpha': 0.19474470328704055, 'beta': 0.1979822516134006}. Best is trial 82 with value: 0.04917439253117865.\n"
     ]
    },
    {
     "name": "stdout",
     "output_type": "stream",
     "text": [
      "EvaluatorHoldout: Processed 10407 (100.0%) in 7.13 sec. Users per second: 1460\n",
      "EvaluatorHoldout: Processed 10439 (100.0%) in 7.08 sec. Users per second: 1474\n",
      "EvaluatorHoldout: Processed 10486 (100.0%) in 7.27 sec. Users per second: 1443\n"
     ]
    },
    {
     "name": "stderr",
     "output_type": "stream",
     "text": [
      "[I 2023-12-11 16:36:16,699] Trial 135 finished with value: 0.0491269182670232 and parameters: {'topK': 30, 'alpha': 0.2769381858223312, 'beta': 0.18299769747814806}. Best is trial 82 with value: 0.04917439253117865.\n"
     ]
    },
    {
     "name": "stdout",
     "output_type": "stream",
     "text": [
      "EvaluatorHoldout: Processed 10407 (100.0%) in 7.10 sec. Users per second: 1466\n",
      "EvaluatorHoldout: Processed 10439 (100.0%) in 7.04 sec. Users per second: 1482\n",
      "EvaluatorHoldout: Processed 10486 (100.0%) in 7.14 sec. Users per second: 1468\n"
     ]
    },
    {
     "name": "stderr",
     "output_type": "stream",
     "text": [
      "[I 2023-12-11 16:36:56,783] Trial 136 finished with value: 0.0490107727369097 and parameters: {'topK': 25, 'alpha': 0.2816375092619717, 'beta': 0.1819487902465074}. Best is trial 82 with value: 0.04917439253117865.\n"
     ]
    },
    {
     "name": "stdout",
     "output_type": "stream",
     "text": [
      "EvaluatorHoldout: Processed 10407 (100.0%) in 7.10 sec. Users per second: 1466\n",
      "EvaluatorHoldout: Processed 10439 (100.0%) in 7.20 sec. Users per second: 1450\n",
      "EvaluatorHoldout: Processed 10486 (100.0%) in 7.16 sec. Users per second: 1464\n"
     ]
    },
    {
     "name": "stderr",
     "output_type": "stream",
     "text": [
      "[I 2023-12-11 16:37:37,991] Trial 137 finished with value: 0.0490218030186855 and parameters: {'topK': 32, 'alpha': 0.2613619783013977, 'beta': 0.1606608028438916}. Best is trial 82 with value: 0.04917439253117865.\n"
     ]
    },
    {
     "name": "stdout",
     "output_type": "stream",
     "text": [
      "EvaluatorHoldout: Processed 10407 (100.0%) in 8.58 sec. Users per second: 1212\n",
      "EvaluatorHoldout: Processed 10439 (100.0%) in 7.15 sec. Users per second: 1461\n",
      "EvaluatorHoldout: Processed 10486 (100.0%) in 7.20 sec. Users per second: 1456\n"
     ]
    },
    {
     "name": "stderr",
     "output_type": "stream",
     "text": [
      "[I 2023-12-11 16:38:20,538] Trial 138 finished with value: 0.049148828651182946 and parameters: {'topK': 30, 'alpha': 0.22372856080119125, 'beta': 0.18924661835887327}. Best is trial 82 with value: 0.04917439253117865.\n"
     ]
    },
    {
     "name": "stdout",
     "output_type": "stream",
     "text": [
      "EvaluatorHoldout: Processed 10407 (100.0%) in 7.07 sec. Users per second: 1472\n",
      "EvaluatorHoldout: Processed 10439 (100.0%) in 7.09 sec. Users per second: 1473\n",
      "EvaluatorHoldout: Processed 10486 (100.0%) in 7.00 sec. Users per second: 1498\n"
     ]
    },
    {
     "name": "stderr",
     "output_type": "stream",
     "text": [
      "[I 2023-12-11 16:38:59,929] Trial 139 finished with value: 0.048923700607878956 and parameters: {'topK': 21, 'alpha': 0.2213542801804645, 'beta': 0.1742061057408013}. Best is trial 82 with value: 0.04917439253117865.\n"
     ]
    },
    {
     "name": "stdout",
     "output_type": "stream",
     "text": [
      "EvaluatorHoldout: Processed 10407 (100.0%) in 7.52 sec. Users per second: 1383\n",
      "EvaluatorHoldout: Processed 10439 (100.0%) in 7.51 sec. Users per second: 1390\n",
      "EvaluatorHoldout: Processed 10486 (100.0%) in 7.39 sec. Users per second: 1419\n"
     ]
    },
    {
     "name": "stderr",
     "output_type": "stream",
     "text": [
      "[I 2023-12-11 16:39:48,784] Trial 140 finished with value: 0.04671912288433882 and parameters: {'topK': 79, 'alpha': 0.18476167346670763, 'beta': 0.18550619133130095}. Best is trial 82 with value: 0.04917439253117865.\n"
     ]
    },
    {
     "name": "stdout",
     "output_type": "stream",
     "text": [
      "EvaluatorHoldout: Processed 10407 (100.0%) in 7.02 sec. Users per second: 1482\n",
      "EvaluatorHoldout: Processed 10439 (100.0%) in 7.08 sec. Users per second: 1474\n",
      "EvaluatorHoldout: Processed 10486 (100.0%) in 6.98 sec. Users per second: 1503\n"
     ]
    },
    {
     "name": "stderr",
     "output_type": "stream",
     "text": [
      "[I 2023-12-11 16:40:29,510] Trial 141 finished with value: 0.049022845085849885 and parameters: {'topK': 30, 'alpha': 0.2451178661727974, 'beta': 0.16490208611356522}. Best is trial 82 with value: 0.04917439253117865.\n"
     ]
    },
    {
     "name": "stdout",
     "output_type": "stream",
     "text": [
      "EvaluatorHoldout: Processed 10407 (100.0%) in 7.15 sec. Users per second: 1456\n",
      "EvaluatorHoldout: Processed 10439 (100.0%) in 7.08 sec. Users per second: 1474\n",
      "EvaluatorHoldout: Processed 10486 (100.0%) in 7.20 sec. Users per second: 1457\n"
     ]
    },
    {
     "name": "stderr",
     "output_type": "stream",
     "text": [
      "[I 2023-12-11 16:41:11,294] Trial 142 finished with value: 0.048837597428594136 and parameters: {'topK': 35, 'alpha': 0.21261694559966793, 'beta': 0.18951412920267038}. Best is trial 82 with value: 0.04917439253117865.\n"
     ]
    },
    {
     "name": "stdout",
     "output_type": "stream",
     "text": [
      "EvaluatorHoldout: Processed 10407 (100.0%) in 7.12 sec. Users per second: 1463\n",
      "EvaluatorHoldout: Processed 10439 (100.0%) in 7.30 sec. Users per second: 1430\n",
      "EvaluatorHoldout: Processed 10486 (100.0%) in 7.18 sec. Users per second: 1461\n"
     ]
    },
    {
     "name": "stderr",
     "output_type": "stream",
     "text": [
      "[I 2023-12-11 16:41:52,286] Trial 143 finished with value: 0.04896714926909582 and parameters: {'topK': 27, 'alpha': 0.2717413981270248, 'beta': 0.1791929073752822}. Best is trial 82 with value: 0.04917439253117865.\n"
     ]
    },
    {
     "name": "stdout",
     "output_type": "stream",
     "text": [
      "EvaluatorHoldout: Processed 10407 (100.0%) in 7.23 sec. Users per second: 1440\n",
      "EvaluatorHoldout: Processed 10439 (100.0%) in 7.27 sec. Users per second: 1437\n",
      "EvaluatorHoldout: Processed 10486 (100.0%) in 7.23 sec. Users per second: 1451\n"
     ]
    },
    {
     "name": "stderr",
     "output_type": "stream",
     "text": [
      "[I 2023-12-11 16:42:34,116] Trial 144 finished with value: 0.0488698942602038 and parameters: {'topK': 33, 'alpha': 0.23404184149067117, 'beta': 0.2073092618721816}. Best is trial 82 with value: 0.04917439253117865.\n"
     ]
    },
    {
     "name": "stdout",
     "output_type": "stream",
     "text": [
      "EvaluatorHoldout: Processed 10407 (100.0%) in 7.18 sec. Users per second: 1449\n",
      "EvaluatorHoldout: Processed 10439 (100.0%) in 7.11 sec. Users per second: 1468\n",
      "EvaluatorHoldout: Processed 10486 (100.0%) in 7.20 sec. Users per second: 1456\n"
     ]
    },
    {
     "name": "stderr",
     "output_type": "stream",
     "text": [
      "[I 2023-12-11 16:43:15,168] Trial 145 finished with value: 0.04912286655149007 and parameters: {'topK': 30, 'alpha': 0.29459576103257384, 'beta': 0.16981339886110464}. Best is trial 82 with value: 0.04917439253117865.\n"
     ]
    },
    {
     "name": "stdout",
     "output_type": "stream",
     "text": [
      "EvaluatorHoldout: Processed 10407 (100.0%) in 7.08 sec. Users per second: 1470\n",
      "EvaluatorHoldout: Processed 10439 (100.0%) in 7.06 sec. Users per second: 1478\n",
      "EvaluatorHoldout: Processed 10486 (100.0%) in 7.16 sec. Users per second: 1465\n"
     ]
    },
    {
     "name": "stderr",
     "output_type": "stream",
     "text": [
      "[I 2023-12-11 16:43:56,164] Trial 146 finished with value: 0.04904487247857083 and parameters: {'topK': 31, 'alpha': 0.3219384085175391, 'beta': 0.15480480970149846}. Best is trial 82 with value: 0.04917439253117865.\n"
     ]
    },
    {
     "name": "stdout",
     "output_type": "stream",
     "text": [
      "EvaluatorHoldout: Processed 10407 (100.0%) in 7.30 sec. Users per second: 1425\n",
      "EvaluatorHoldout: Processed 10439 (100.0%) in 7.22 sec. Users per second: 1445\n",
      "EvaluatorHoldout: Processed 10486 (100.0%) in 7.14 sec. Users per second: 1468\n"
     ]
    },
    {
     "name": "stderr",
     "output_type": "stream",
     "text": [
      "[I 2023-12-11 16:44:38,361] Trial 147 finished with value: 0.048837426437787594 and parameters: {'topK': 38, 'alpha': 0.20178096254383, 'beta': 0.17189272759446622}. Best is trial 82 with value: 0.04917439253117865.\n"
     ]
    },
    {
     "name": "stdout",
     "output_type": "stream",
     "text": [
      "EvaluatorHoldout: Processed 10407 (100.0%) in 7.07 sec. Users per second: 1472\n",
      "EvaluatorHoldout: Processed 10439 (100.0%) in 7.02 sec. Users per second: 1487\n",
      "EvaluatorHoldout: Processed 10486 (100.0%) in 7.05 sec. Users per second: 1488\n"
     ]
    },
    {
     "name": "stderr",
     "output_type": "stream",
     "text": [
      "[I 2023-12-11 16:45:18,915] Trial 148 finished with value: 0.04898794514215615 and parameters: {'topK': 28, 'alpha': 0.30147272632854477, 'beta': 0.14602971372874207}. Best is trial 82 with value: 0.04917439253117865.\n"
     ]
    },
    {
     "name": "stdout",
     "output_type": "stream",
     "text": [
      "EvaluatorHoldout: Processed 10407 (100.0%) in 7.17 sec. Users per second: 1451\n",
      "EvaluatorHoldout: Processed 10439 (100.0%) in 7.01 sec. Users per second: 1489\n",
      "EvaluatorHoldout: Processed 10486 (100.0%) in 7.11 sec. Users per second: 1476\n"
     ]
    },
    {
     "name": "stderr",
     "output_type": "stream",
     "text": [
      "[I 2023-12-11 16:45:59,419] Trial 149 finished with value: 0.04893606212068415 and parameters: {'topK': 26, 'alpha': 0.2895403968080987, 'beta': 0.1668358001573231}. Best is trial 82 with value: 0.04917439253117865.\n"
     ]
    },
    {
     "name": "stdout",
     "output_type": "stream",
     "text": [
      "EvaluatorHoldout: Processed 10407 (100.0%) in 7.17 sec. Users per second: 1452\n",
      "EvaluatorHoldout: Processed 10439 (100.0%) in 7.22 sec. Users per second: 1447\n",
      "EvaluatorHoldout: Processed 10486 (100.0%) in 7.10 sec. Users per second: 1477\n"
     ]
    },
    {
     "name": "stderr",
     "output_type": "stream",
     "text": [
      "[I 2023-12-11 16:46:41,326] Trial 150 finished with value: 0.048862056055205084 and parameters: {'topK': 36, 'alpha': 0.22832145644974802, 'beta': 0.17668798206600686}. Best is trial 82 with value: 0.04917439253117865.\n"
     ]
    },
    {
     "name": "stdout",
     "output_type": "stream",
     "text": [
      "EvaluatorHoldout: Processed 10407 (100.0%) in 7.12 sec. Users per second: 1461\n",
      "EvaluatorHoldout: Processed 10439 (100.0%) in 7.41 sec. Users per second: 1408\n",
      "EvaluatorHoldout: Processed 10486 (100.0%) in 7.22 sec. Users per second: 1452\n"
     ]
    },
    {
     "name": "stderr",
     "output_type": "stream",
     "text": [
      "[I 2023-12-11 16:47:22,687] Trial 151 finished with value: 0.04908412084093803 and parameters: {'topK': 30, 'alpha': 0.25133760852182935, 'beta': 0.18606138168883715}. Best is trial 82 with value: 0.04917439253117865.\n"
     ]
    },
    {
     "name": "stdout",
     "output_type": "stream",
     "text": [
      "EvaluatorHoldout: Processed 10407 (100.0%) in 7.16 sec. Users per second: 1453\n",
      "EvaluatorHoldout: Processed 10439 (100.0%) in 7.21 sec. Users per second: 1448\n",
      "EvaluatorHoldout: Processed 10486 (100.0%) in 7.22 sec. Users per second: 1453\n"
     ]
    },
    {
     "name": "stderr",
     "output_type": "stream",
     "text": [
      "[I 2023-12-11 16:48:04,546] Trial 152 finished with value: 0.04893529238081759 and parameters: {'topK': 34, 'alpha': 0.278865445532513, 'beta': 0.19492966433931697}. Best is trial 82 with value: 0.04917439253117865.\n"
     ]
    },
    {
     "name": "stdout",
     "output_type": "stream",
     "text": [
      "EvaluatorHoldout: Processed 10407 (100.0%) in 7.54 sec. Users per second: 1380\n",
      "EvaluatorHoldout: Processed 10439 (100.0%) in 7.17 sec. Users per second: 1457\n",
      "EvaluatorHoldout: Processed 10486 (100.0%) in 7.23 sec. Users per second: 1450\n"
     ]
    },
    {
     "name": "stderr",
     "output_type": "stream",
     "text": [
      "[I 2023-12-11 16:48:46,365] Trial 153 finished with value: 0.049084270282696706 and parameters: {'topK': 32, 'alpha': 0.25806999456920926, 'beta': 0.18001785468705436}. Best is trial 82 with value: 0.04917439253117865.\n"
     ]
    },
    {
     "name": "stdout",
     "output_type": "stream",
     "text": [
      "EvaluatorHoldout: Processed 10407 (100.0%) in 6.94 sec. Users per second: 1500\n",
      "EvaluatorHoldout: Processed 10439 (100.0%) in 7.16 sec. Users per second: 1459\n",
      "EvaluatorHoldout: Processed 10486 (100.0%) in 7.24 sec. Users per second: 1448\n"
     ]
    },
    {
     "name": "stderr",
     "output_type": "stream",
     "text": [
      "[I 2023-12-11 16:49:26,387] Trial 154 finished with value: 0.048953958517474326 and parameters: {'topK': 24, 'alpha': 0.24122146736884156, 'beta': 0.16989421614273092}. Best is trial 82 with value: 0.04917439253117865.\n"
     ]
    },
    {
     "name": "stdout",
     "output_type": "stream",
     "text": [
      "EvaluatorHoldout: Processed 10407 (100.0%) in 7.06 sec. Users per second: 1474\n",
      "EvaluatorHoldout: Processed 10439 (100.0%) in 7.61 sec. Users per second: 1371\n",
      "EvaluatorHoldout: Processed 10486 (100.0%) in 7.14 sec. Users per second: 1469\n"
     ]
    },
    {
     "name": "stderr",
     "output_type": "stream",
     "text": [
      "[I 2023-12-11 16:50:07,619] Trial 155 finished with value: 0.04892727172095546 and parameters: {'topK': 29, 'alpha': 0.20933052259649992, 'beta': 0.16238884056659408}. Best is trial 82 with value: 0.04917439253117865.\n"
     ]
    },
    {
     "name": "stdout",
     "output_type": "stream",
     "text": [
      "EvaluatorHoldout: Processed 10407 (100.0%) in 7.11 sec. Users per second: 1463\n",
      "EvaluatorHoldout: Processed 10439 (100.0%) in 7.16 sec. Users per second: 1458\n",
      "EvaluatorHoldout: Processed 10486 (100.0%) in 7.21 sec. Users per second: 1455\n"
     ]
    },
    {
     "name": "stderr",
     "output_type": "stream",
     "text": [
      "[I 2023-12-11 16:50:48,927] Trial 156 finished with value: 0.0490902645017097 and parameters: {'topK': 31, 'alpha': 0.18572441527534922, 'beta': 0.1906633669219567}. Best is trial 82 with value: 0.04917439253117865.\n"
     ]
    },
    {
     "name": "stdout",
     "output_type": "stream",
     "text": [
      "EvaluatorHoldout: Processed 10407 (100.0%) in 7.28 sec. Users per second: 1429\n",
      "EvaluatorHoldout: Processed 10439 (100.0%) in 7.24 sec. Users per second: 1443\n",
      "EvaluatorHoldout: Processed 10486 (100.0%) in 7.08 sec. Users per second: 1481\n"
     ]
    },
    {
     "name": "stderr",
     "output_type": "stream",
     "text": [
      "[I 2023-12-11 16:51:30,626] Trial 157 finished with value: 0.04893534237125047 and parameters: {'topK': 34, 'alpha': 0.16096151210352713, 'beta': 0.18743641883074214}. Best is trial 82 with value: 0.04917439253117865.\n"
     ]
    },
    {
     "name": "stdout",
     "output_type": "stream",
     "text": [
      "EvaluatorHoldout: Processed 10407 (100.0%) in 7.15 sec. Users per second: 1455\n",
      "EvaluatorHoldout: Processed 10439 (100.0%) in 7.20 sec. Users per second: 1450\n",
      "EvaluatorHoldout: Processed 10486 (100.0%) in 7.07 sec. Users per second: 1483\n"
     ]
    },
    {
     "name": "stderr",
     "output_type": "stream",
     "text": [
      "[I 2023-12-11 16:52:11,597] Trial 158 finished with value: 0.048934978777568194 and parameters: {'topK': 31, 'alpha': 0.18728701884566745, 'beta': 0.15575288034949025}. Best is trial 82 with value: 0.04917439253117865.\n"
     ]
    },
    {
     "name": "stdout",
     "output_type": "stream",
     "text": [
      "EvaluatorHoldout: Processed 10407 (100.0%) in 7.25 sec. Users per second: 1436\n",
      "EvaluatorHoldout: Processed 10439 (100.0%) in 7.10 sec. Users per second: 1470\n",
      "EvaluatorHoldout: Processed 10486 (100.0%) in 7.31 sec. Users per second: 1434\n"
     ]
    },
    {
     "name": "stderr",
     "output_type": "stream",
     "text": [
      "[I 2023-12-11 16:52:52,338] Trial 159 finished with value: 0.04893513600459957 and parameters: {'topK': 26, 'alpha': 0.17688531637219324, 'beta': 0.2009152551384064}. Best is trial 82 with value: 0.04917439253117865.\n"
     ]
    },
    {
     "name": "stdout",
     "output_type": "stream",
     "text": [
      "EvaluatorHoldout: Processed 10407 (100.0%) in 7.09 sec. Users per second: 1468\n",
      "EvaluatorHoldout: Processed 10439 (100.0%) in 7.17 sec. Users per second: 1456\n",
      "EvaluatorHoldout: Processed 10486 (100.0%) in 7.05 sec. Users per second: 1488\n"
     ]
    },
    {
     "name": "stderr",
     "output_type": "stream",
     "text": [
      "[I 2023-12-11 16:53:33,772] Trial 160 finished with value: 0.048961119117832776 and parameters: {'topK': 33, 'alpha': 0.22303962300573574, 'beta': 0.14915819187661117}. Best is trial 82 with value: 0.04917439253117865.\n"
     ]
    },
    {
     "name": "stdout",
     "output_type": "stream",
     "text": [
      "EvaluatorHoldout: Processed 10407 (100.0%) in 7.29 sec. Users per second: 1427\n",
      "EvaluatorHoldout: Processed 10439 (100.0%) in 7.21 sec. Users per second: 1449\n",
      "EvaluatorHoldout: Processed 10486 (100.0%) in 7.22 sec. Users per second: 1453\n"
     ]
    },
    {
     "name": "stderr",
     "output_type": "stream",
     "text": [
      "[I 2023-12-11 16:54:15,257] Trial 161 finished with value: 0.04902111680881297 and parameters: {'topK': 29, 'alpha': 0.26606978111952234, 'beta': 0.19464231964482792}. Best is trial 82 with value: 0.04917439253117865.\n"
     ]
    },
    {
     "name": "stdout",
     "output_type": "stream",
     "text": [
      "EvaluatorHoldout: Processed 10407 (100.0%) in 7.08 sec. Users per second: 1469\n",
      "EvaluatorHoldout: Processed 10439 (100.0%) in 7.26 sec. Users per second: 1437\n",
      "EvaluatorHoldout: Processed 10486 (100.0%) in 7.06 sec. Users per second: 1486\n"
     ]
    },
    {
     "name": "stderr",
     "output_type": "stream",
     "text": [
      "[I 2023-12-11 16:54:56,673] Trial 162 finished with value: 0.049131953991952464 and parameters: {'topK': 31, 'alpha': 0.20008808706755293, 'beta': 0.18226786416262364}. Best is trial 82 with value: 0.04917439253117865.\n"
     ]
    },
    {
     "name": "stdout",
     "output_type": "stream",
     "text": [
      "EvaluatorHoldout: Processed 10407 (100.0%) in 7.15 sec. Users per second: 1455\n",
      "EvaluatorHoldout: Processed 10439 (100.0%) in 7.24 sec. Users per second: 1442\n",
      "EvaluatorHoldout: Processed 10486 (100.0%) in 7.12 sec. Users per second: 1474\n"
     ]
    },
    {
     "name": "stderr",
     "output_type": "stream",
     "text": [
      "[I 2023-12-11 16:55:38,763] Trial 163 finished with value: 0.04886342472472082 and parameters: {'topK': 36, 'alpha': 0.1993161820888891, 'beta': 0.18123625432160104}. Best is trial 82 with value: 0.04917439253117865.\n"
     ]
    },
    {
     "name": "stdout",
     "output_type": "stream",
     "text": [
      "EvaluatorHoldout: Processed 10407 (100.0%) in 7.10 sec. Users per second: 1465\n",
      "EvaluatorHoldout: Processed 10439 (100.0%) in 7.50 sec. Users per second: 1392\n",
      "EvaluatorHoldout: Processed 10486 (100.0%) in 7.09 sec. Users per second: 1479\n"
     ]
    },
    {
     "name": "stderr",
     "output_type": "stream",
     "text": [
      "[I 2023-12-11 16:56:20,213] Trial 164 finished with value: 0.049172130201150216 and parameters: {'topK': 31, 'alpha': 0.21630547282046345, 'beta': 0.17436622943091112}. Best is trial 82 with value: 0.04917439253117865.\n"
     ]
    },
    {
     "name": "stdout",
     "output_type": "stream",
     "text": [
      "EvaluatorHoldout: Processed 10407 (100.0%) in 7.10 sec. Users per second: 1466\n",
      "EvaluatorHoldout: Processed 10439 (100.0%) in 7.07 sec. Users per second: 1477\n",
      "EvaluatorHoldout: Processed 10486 (100.0%) in 7.61 sec. Users per second: 1378\n"
     ]
    },
    {
     "name": "stderr",
     "output_type": "stream",
     "text": [
      "[I 2023-12-11 16:57:01,668] Trial 165 finished with value: 0.04901510625335778 and parameters: {'topK': 32, 'alpha': 0.16982480605697853, 'beta': 0.17423027354547427}. Best is trial 82 with value: 0.04917439253117865.\n"
     ]
    },
    {
     "name": "stdout",
     "output_type": "stream",
     "text": [
      "EvaluatorHoldout: Processed 10407 (100.0%) in 7.31 sec. Users per second: 1423\n",
      "EvaluatorHoldout: Processed 10439 (100.0%) in 7.17 sec. Users per second: 1455\n",
      "EvaluatorHoldout: Processed 10486 (100.0%) in 7.14 sec. Users per second: 1468\n"
     ]
    },
    {
     "name": "stderr",
     "output_type": "stream",
     "text": [
      "[I 2023-12-11 16:57:42,472] Trial 166 finished with value: 0.04892925922441609 and parameters: {'topK': 28, 'alpha': 0.21428114881108262, 'beta': 0.1674974810206079}. Best is trial 82 with value: 0.04917439253117865.\n"
     ]
    },
    {
     "name": "stdout",
     "output_type": "stream",
     "text": [
      "EvaluatorHoldout: Processed 10407 (100.0%) in 7.18 sec. Users per second: 1450\n",
      "EvaluatorHoldout: Processed 10439 (100.0%) in 7.21 sec. Users per second: 1447\n",
      "EvaluatorHoldout: Processed 10486 (100.0%) in 8.12 sec. Users per second: 1291\n"
     ]
    },
    {
     "name": "stderr",
     "output_type": "stream",
     "text": [
      "[I 2023-12-11 16:58:25,015] Trial 167 finished with value: 0.04901118408537775 and parameters: {'topK': 34, 'alpha': 0.18740373053747525, 'beta': 0.1609633199062515}. Best is trial 82 with value: 0.04917439253117865.\n"
     ]
    },
    {
     "name": "stdout",
     "output_type": "stream",
     "text": [
      "EvaluatorHoldout: Processed 10407 (100.0%) in 7.16 sec. Users per second: 1453\n",
      "EvaluatorHoldout: Processed 10439 (100.0%) in 7.19 sec. Users per second: 1453\n",
      "EvaluatorHoldout: Processed 10486 (100.0%) in 7.32 sec. Users per second: 1433\n"
     ]
    },
    {
     "name": "stderr",
     "output_type": "stream",
     "text": [
      "[I 2023-12-11 16:59:07,310] Trial 168 finished with value: 0.04867673884113944 and parameters: {'topK': 38, 'alpha': 0.14912036213741975, 'beta': 0.17593376787235754}. Best is trial 82 with value: 0.04917439253117865.\n"
     ]
    },
    {
     "name": "stdout",
     "output_type": "stream",
     "text": [
      "EvaluatorHoldout: Processed 10407 (100.0%) in 7.32 sec. Users per second: 1422\n",
      "EvaluatorHoldout: Processed 10439 (100.0%) in 7.07 sec. Users per second: 1477\n",
      "EvaluatorHoldout: Processed 10486 (100.0%) in 7.10 sec. Users per second: 1476\n"
     ]
    },
    {
     "name": "stderr",
     "output_type": "stream",
     "text": [
      "[I 2023-12-11 16:59:48,566] Trial 169 finished with value: 0.049087722555227 and parameters: {'topK': 31, 'alpha': 0.22549733847619977, 'beta': 0.1837094951335386}. Best is trial 82 with value: 0.04917439253117865.\n"
     ]
    },
    {
     "name": "stdout",
     "output_type": "stream",
     "text": [
      "EvaluatorHoldout: Processed 10407 (100.0%) in 7.01 sec. Users per second: 1484\n",
      "EvaluatorHoldout: Processed 10439 (100.0%) in 6.99 sec. Users per second: 1494\n",
      "EvaluatorHoldout: Processed 10486 (100.0%) in 7.20 sec. Users per second: 1456\n"
     ]
    },
    {
     "name": "stderr",
     "output_type": "stream",
     "text": [
      "[I 2023-12-11 17:00:29,114] Trial 170 finished with value: 0.04871303810122684 and parameters: {'topK': 27, 'alpha': 0.1996911288979128, 'beta': 0.1403307737357499}. Best is trial 82 with value: 0.04917439253117865.\n"
     ]
    },
    {
     "name": "stdout",
     "output_type": "stream",
     "text": [
      "EvaluatorHoldout: Processed 10407 (100.0%) in 7.12 sec. Users per second: 1462\n",
      "EvaluatorHoldout: Processed 10439 (100.0%) in 7.12 sec. Users per second: 1466\n",
      "EvaluatorHoldout: Processed 10486 (100.0%) in 7.20 sec. Users per second: 1457\n"
     ]
    },
    {
     "name": "stderr",
     "output_type": "stream",
     "text": [
      "[I 2023-12-11 17:01:10,390] Trial 171 finished with value: 0.049116920301548385 and parameters: {'topK': 31, 'alpha': 0.22283749098010217, 'beta': 0.18230486171508825}. Best is trial 82 with value: 0.04917439253117865.\n"
     ]
    },
    {
     "name": "stdout",
     "output_type": "stream",
     "text": [
      "EvaluatorHoldout: Processed 10407 (100.0%) in 7.06 sec. Users per second: 1475\n",
      "EvaluatorHoldout: Processed 10439 (100.0%) in 7.13 sec. Users per second: 1465\n",
      "EvaluatorHoldout: Processed 10486 (100.0%) in 7.34 sec. Users per second: 1429\n"
     ]
    },
    {
     "name": "stderr",
     "output_type": "stream",
     "text": [
      "[I 2023-12-11 17:01:51,734] Trial 172 finished with value: 0.049090570289180215 and parameters: {'topK': 31, 'alpha': 0.22678310827989254, 'beta': 0.18787429556122887}. Best is trial 82 with value: 0.04917439253117865.\n"
     ]
    },
    {
     "name": "stdout",
     "output_type": "stream",
     "text": [
      "EvaluatorHoldout: Processed 10407 (100.0%) in 7.13 sec. Users per second: 1459\n",
      "EvaluatorHoldout: Processed 10439 (100.0%) in 7.18 sec. Users per second: 1454\n",
      "EvaluatorHoldout: Processed 10486 (100.0%) in 7.20 sec. Users per second: 1457\n"
     ]
    },
    {
     "name": "stderr",
     "output_type": "stream",
     "text": [
      "[I 2023-12-11 17:02:32,967] Trial 173 finished with value: 0.049136808646458335 and parameters: {'topK': 29, 'alpha': 0.23826787552728454, 'beta': 0.18874092891546013}. Best is trial 82 with value: 0.04917439253117865.\n"
     ]
    },
    {
     "name": "stdout",
     "output_type": "stream",
     "text": [
      "EvaluatorHoldout: Processed 10407 (100.0%) in 7.24 sec. Users per second: 1438\n",
      "EvaluatorHoldout: Processed 10439 (100.0%) in 7.05 sec. Users per second: 1481\n",
      "EvaluatorHoldout: Processed 10486 (100.0%) in 7.22 sec. Users per second: 1453\n"
     ]
    },
    {
     "name": "stderr",
     "output_type": "stream",
     "text": [
      "[I 2023-12-11 17:03:14,013] Trial 174 finished with value: 0.04909034074947069 and parameters: {'topK': 29, 'alpha': 0.23794634597795755, 'beta': 0.19052192978204732}. Best is trial 82 with value: 0.04917439253117865.\n"
     ]
    },
    {
     "name": "stdout",
     "output_type": "stream",
     "text": [
      "EvaluatorHoldout: Processed 10407 (100.0%) in 7.19 sec. Users per second: 1447\n",
      "EvaluatorHoldout: Processed 10439 (100.0%) in 7.25 sec. Users per second: 1440\n",
      "EvaluatorHoldout: Processed 10486 (100.0%) in 7.11 sec. Users per second: 1474\n"
     ]
    },
    {
     "name": "stderr",
     "output_type": "stream",
     "text": [
      "[I 2023-12-11 17:03:54,364] Trial 175 finished with value: 0.04887350892471678 and parameters: {'topK': 24, 'alpha': 0.23183711990014222, 'beta': 0.19043074716815106}. Best is trial 82 with value: 0.04917439253117865.\n"
     ]
    },
    {
     "name": "stdout",
     "output_type": "stream",
     "text": [
      "EvaluatorHoldout: Processed 10407 (100.0%) in 7.90 sec. Users per second: 1317\n",
      "EvaluatorHoldout: Processed 10439 (100.0%) in 7.06 sec. Users per second: 1479\n",
      "EvaluatorHoldout: Processed 10486 (100.0%) in 7.64 sec. Users per second: 1373\n"
     ]
    },
    {
     "name": "stderr",
     "output_type": "stream",
     "text": [
      "[I 2023-12-11 17:04:36,098] Trial 176 finished with value: 0.049014098076088274 and parameters: {'topK': 26, 'alpha': 0.2465327139643463, 'beta': 0.19588876254538715}. Best is trial 82 with value: 0.04917439253117865.\n"
     ]
    },
    {
     "name": "stdout",
     "output_type": "stream",
     "text": [
      "EvaluatorHoldout: Processed 10407 (100.0%) in 7.14 sec. Users per second: 1457\n",
      "EvaluatorHoldout: Processed 10439 (100.0%) in 7.26 sec. Users per second: 1438\n",
      "EvaluatorHoldout: Processed 10486 (100.0%) in 7.19 sec. Users per second: 1457\n"
     ]
    },
    {
     "name": "stderr",
     "output_type": "stream",
     "text": [
      "[I 2023-12-11 17:05:16,955] Trial 177 finished with value: 0.049022568736508336 and parameters: {'topK': 28, 'alpha': 0.23607861864369745, 'beta': 0.2019012110454435}. Best is trial 82 with value: 0.04917439253117865.\n"
     ]
    },
    {
     "name": "stdout",
     "output_type": "stream",
     "text": [
      "EvaluatorHoldout: Processed 10407 (100.0%) in 7.35 sec. Users per second: 1415\n",
      "EvaluatorHoldout: Processed 10439 (100.0%) in 7.22 sec. Users per second: 1447\n",
      "EvaluatorHoldout: Processed 10486 (100.0%) in 7.10 sec. Users per second: 1476\n"
     ]
    },
    {
     "name": "stderr",
     "output_type": "stream",
     "text": [
      "[I 2023-12-11 17:05:57,218] Trial 178 finished with value: 0.048928772477332384 and parameters: {'topK': 22, 'alpha': 0.21816483613254067, 'beta': 0.1838266113845257}. Best is trial 82 with value: 0.04917439253117865.\n"
     ]
    },
    {
     "name": "stdout",
     "output_type": "stream",
     "text": [
      "EvaluatorHoldout: Processed 10407 (100.0%) in 7.15 sec. Users per second: 1456\n",
      "EvaluatorHoldout: Processed 10439 (100.0%) in 7.09 sec. Users per second: 1472\n",
      "EvaluatorHoldout: Processed 10486 (100.0%) in 7.11 sec. Users per second: 1474\n"
     ]
    },
    {
     "name": "stderr",
     "output_type": "stream",
     "text": [
      "[I 2023-12-11 17:06:38,040] Trial 179 finished with value: 0.04900481657901839 and parameters: {'topK': 29, 'alpha': 0.20548917306597206, 'beta': 0.17227450510746098}. Best is trial 82 with value: 0.04917439253117865.\n"
     ]
    },
    {
     "name": "stdout",
     "output_type": "stream",
     "text": [
      "EvaluatorHoldout: Processed 10407 (100.0%) in 7.11 sec. Users per second: 1463\n",
      "EvaluatorHoldout: Processed 10439 (100.0%) in 7.17 sec. Users per second: 1457\n",
      "EvaluatorHoldout: Processed 10486 (100.0%) in 7.11 sec. Users per second: 1474\n"
     ]
    },
    {
     "name": "stderr",
     "output_type": "stream",
     "text": [
      "[I 2023-12-11 17:07:19,005] Trial 180 finished with value: 0.049130846467607125 and parameters: {'topK': 30, 'alpha': 0.2474975321443034, 'beta': 0.17788167561935295}. Best is trial 82 with value: 0.04917439253117865.\n"
     ]
    },
    {
     "name": "stdout",
     "output_type": "stream",
     "text": [
      "EvaluatorHoldout: Processed 10407 (100.0%) in 7.15 sec. Users per second: 1457\n",
      "EvaluatorHoldout: Processed 10439 (100.0%) in 7.16 sec. Users per second: 1459\n",
      "EvaluatorHoldout: Processed 10486 (100.0%) in 7.08 sec. Users per second: 1481\n"
     ]
    },
    {
     "name": "stderr",
     "output_type": "stream",
     "text": [
      "[I 2023-12-11 17:08:00,222] Trial 181 finished with value: 0.04912625808641355 and parameters: {'topK': 30, 'alpha': 0.23985082448933717, 'beta': 0.1782224289399219}. Best is trial 82 with value: 0.04917439253117865.\n"
     ]
    },
    {
     "name": "stdout",
     "output_type": "stream",
     "text": [
      "EvaluatorHoldout: Processed 10407 (100.0%) in 7.09 sec. Users per second: 1468\n",
      "EvaluatorHoldout: Processed 10439 (100.0%) in 7.11 sec. Users per second: 1468\n",
      "EvaluatorHoldout: Processed 10486 (100.0%) in 7.07 sec. Users per second: 1484\n"
     ]
    },
    {
     "name": "stderr",
     "output_type": "stream",
     "text": [
      "[I 2023-12-11 17:08:41,401] Trial 182 finished with value: 0.04909296506624827 and parameters: {'topK': 31, 'alpha': 0.2505609471524465, 'beta': 0.17896170344299325}. Best is trial 82 with value: 0.04917439253117865.\n"
     ]
    },
    {
     "name": "stdout",
     "output_type": "stream",
     "text": [
      "EvaluatorHoldout: Processed 10407 (100.0%) in 7.18 sec. Users per second: 1450\n",
      "EvaluatorHoldout: Processed 10439 (100.0%) in 7.21 sec. Users per second: 1449\n",
      "EvaluatorHoldout: Processed 10486 (100.0%) in 7.15 sec. Users per second: 1466\n"
     ]
    },
    {
     "name": "stderr",
     "output_type": "stream",
     "text": [
      "[I 2023-12-11 17:09:23,348] Trial 183 finished with value: 0.04901475551461981 and parameters: {'topK': 35, 'alpha': 0.2614269523963484, 'beta': 0.17866327346246672}. Best is trial 82 with value: 0.04917439253117865.\n"
     ]
    },
    {
     "name": "stdout",
     "output_type": "stream",
     "text": [
      "EvaluatorHoldout: Processed 10407 (100.0%) in 7.09 sec. Users per second: 1467\n",
      "EvaluatorHoldout: Processed 10439 (100.0%) in 7.20 sec. Users per second: 1451\n",
      "EvaluatorHoldout: Processed 10486 (100.0%) in 7.07 sec. Users per second: 1483\n"
     ]
    },
    {
     "name": "stderr",
     "output_type": "stream",
     "text": [
      "[I 2023-12-11 17:10:03,847] Trial 184 finished with value: 0.048887280821184535 and parameters: {'topK': 26, 'alpha': 0.25272131000566533, 'beta': 0.17035228200926328}. Best is trial 82 with value: 0.04917439253117865.\n"
     ]
    },
    {
     "name": "stdout",
     "output_type": "stream",
     "text": [
      "EvaluatorHoldout: Processed 10407 (100.0%) in 7.16 sec. Users per second: 1454\n",
      "EvaluatorHoldout: Processed 10439 (100.0%) in 7.19 sec. Users per second: 1452\n",
      "EvaluatorHoldout: Processed 10486 (100.0%) in 7.23 sec. Users per second: 1450\n"
     ]
    },
    {
     "name": "stderr",
     "output_type": "stream",
     "text": [
      "[I 2023-12-11 17:10:45,225] Trial 185 finished with value: 0.04910412834862568 and parameters: {'topK': 32, 'alpha': 0.2459562586163344, 'beta': 0.17593210288749536}. Best is trial 82 with value: 0.04917439253117865.\n"
     ]
    },
    {
     "name": "stdout",
     "output_type": "stream",
     "text": [
      "EvaluatorHoldout: Processed 10407 (100.0%) in 7.13 sec. Users per second: 1460\n",
      "EvaluatorHoldout: Processed 10439 (100.0%) in 7.17 sec. Users per second: 1456\n",
      "EvaluatorHoldout: Processed 10486 (100.0%) in 7.19 sec. Users per second: 1459\n"
     ]
    },
    {
     "name": "stderr",
     "output_type": "stream",
     "text": [
      "[I 2023-12-11 17:11:26,681] Trial 186 finished with value: 0.0491215204630435 and parameters: {'topK': 33, 'alpha': 0.21127266882205364, 'beta': 0.16735880316758409}. Best is trial 82 with value: 0.04917439253117865.\n"
     ]
    },
    {
     "name": "stdout",
     "output_type": "stream",
     "text": [
      "EvaluatorHoldout: Processed 10407 (100.0%) in 7.85 sec. Users per second: 1326\n",
      "EvaluatorHoldout: Processed 10439 (100.0%) in 7.14 sec. Users per second: 1462\n",
      "EvaluatorHoldout: Processed 10486 (100.0%) in 7.17 sec. Users per second: 1463\n"
     ]
    },
    {
     "name": "stderr",
     "output_type": "stream",
     "text": [
      "[I 2023-12-11 17:12:08,251] Trial 187 finished with value: 0.04901701849825275 and parameters: {'topK': 28, 'alpha': 0.2705397830965917, 'beta': 0.17380225836743202}. Best is trial 82 with value: 0.04917439253117865.\n"
     ]
    },
    {
     "name": "stdout",
     "output_type": "stream",
     "text": [
      "EvaluatorHoldout: Processed 10407 (100.0%) in 7.37 sec. Users per second: 1412\n",
      "EvaluatorHoldout: Processed 10439 (100.0%) in 7.43 sec. Users per second: 1406\n",
      "EvaluatorHoldout: Processed 10486 (100.0%) in 7.66 sec. Users per second: 1368\n"
     ]
    },
    {
     "name": "stderr",
     "output_type": "stream",
     "text": [
      "[I 2023-12-11 17:12:59,416] Trial 188 finished with value: 0.0461439241402976 and parameters: {'topK': 96, 'alpha': 0.23848182911682111, 'beta': 0.16766565645299192}. Best is trial 82 with value: 0.04917439253117865.\n"
     ]
    },
    {
     "name": "stdout",
     "output_type": "stream",
     "text": [
      "EvaluatorHoldout: Processed 10407 (100.0%) in 7.38 sec. Users per second: 1410\n",
      "EvaluatorHoldout: Processed 10439 (100.0%) in 7.53 sec. Users per second: 1386\n",
      "EvaluatorHoldout: Processed 10486 (100.0%) in 7.34 sec. Users per second: 1429\n"
     ]
    },
    {
     "name": "stderr",
     "output_type": "stream",
     "text": [
      "[I 2023-12-11 17:13:41,896] Trial 189 finished with value: 0.04889699920881812 and parameters: {'topK': 35, 'alpha': 0.219290175649137, 'beta': 0.1824561675850778}. Best is trial 82 with value: 0.04917439253117865.\n"
     ]
    },
    {
     "name": "stdout",
     "output_type": "stream",
     "text": [
      "EvaluatorHoldout: Processed 10407 (100.0%) in 7.18 sec. Users per second: 1449\n",
      "EvaluatorHoldout: Processed 10439 (100.0%) in 7.37 sec. Users per second: 1416\n",
      "EvaluatorHoldout: Processed 10486 (100.0%) in 7.19 sec. Users per second: 1457\n"
     ]
    },
    {
     "name": "stderr",
     "output_type": "stream",
     "text": [
      "[I 2023-12-11 17:14:23,216] Trial 190 finished with value: 0.04906662213029936 and parameters: {'topK': 30, 'alpha': 0.19424411092499624, 'beta': 0.17594045568568215}. Best is trial 82 with value: 0.04917439253117865.\n"
     ]
    },
    {
     "name": "stdout",
     "output_type": "stream",
     "text": [
      "EvaluatorHoldout: Processed 10407 (100.0%) in 7.14 sec. Users per second: 1458\n",
      "EvaluatorHoldout: Processed 10439 (100.0%) in 7.19 sec. Users per second: 1453\n",
      "EvaluatorHoldout: Processed 10486 (100.0%) in 7.20 sec. Users per second: 1457\n"
     ]
    },
    {
     "name": "stderr",
     "output_type": "stream",
     "text": [
      "[I 2023-12-11 17:15:04,989] Trial 191 finished with value: 0.04912260643722093 and parameters: {'topK': 33, 'alpha': 0.20981968569468656, 'beta': 0.1676349945803775}. Best is trial 82 with value: 0.04917439253117865.\n"
     ]
    },
    {
     "name": "stdout",
     "output_type": "stream",
     "text": [
      "EvaluatorHoldout: Processed 10407 (100.0%) in 7.18 sec. Users per second: 1450\n",
      "EvaluatorHoldout: Processed 10439 (100.0%) in 7.72 sec. Users per second: 1352\n",
      "EvaluatorHoldout: Processed 10486 (100.0%) in 7.36 sec. Users per second: 1426\n"
     ]
    },
    {
     "name": "stderr",
     "output_type": "stream",
     "text": [
      "[I 2023-12-11 17:15:47,457] Trial 192 finished with value: 0.04908372565580854 and parameters: {'topK': 33, 'alpha': 0.20615511311298798, 'beta': 0.1629633500922706}. Best is trial 82 with value: 0.04917439253117865.\n"
     ]
    },
    {
     "name": "stdout",
     "output_type": "stream",
     "text": [
      "EvaluatorHoldout: Processed 10407 (100.0%) in 7.32 sec. Users per second: 1422\n",
      "EvaluatorHoldout: Processed 10439 (100.0%) in 7.12 sec. Users per second: 1466\n",
      "EvaluatorHoldout: Processed 10486 (100.0%) in 7.20 sec. Users per second: 1456\n"
     ]
    },
    {
     "name": "stderr",
     "output_type": "stream",
     "text": [
      "[I 2023-12-11 17:16:29,020] Trial 193 finished with value: 0.049160627161991106 and parameters: {'topK': 32, 'alpha': 0.22838340665589457, 'beta': 0.16952801830892797}. Best is trial 82 with value: 0.04917439253117865.\n"
     ]
    },
    {
     "name": "stdout",
     "output_type": "stream",
     "text": [
      "EvaluatorHoldout: Processed 10407 (100.0%) in 7.14 sec. Users per second: 1457\n",
      "EvaluatorHoldout: Processed 10439 (100.0%) in 7.27 sec. Users per second: 1435\n",
      "EvaluatorHoldout: Processed 10486 (100.0%) in 7.57 sec. Users per second: 1385\n"
     ]
    },
    {
     "name": "stderr",
     "output_type": "stream",
     "text": [
      "[I 2023-12-11 17:17:11,833] Trial 194 finished with value: 0.048950853463433454 and parameters: {'topK': 37, 'alpha': 0.24382145191240268, 'beta': 0.16836921813638253}. Best is trial 82 with value: 0.04917439253117865.\n"
     ]
    },
    {
     "name": "stdout",
     "output_type": "stream",
     "text": [
      "EvaluatorHoldout: Processed 10407 (100.0%) in 7.17 sec. Users per second: 1452\n",
      "EvaluatorHoldout: Processed 10439 (100.0%) in 7.27 sec. Users per second: 1437\n",
      "EvaluatorHoldout: Processed 10486 (100.0%) in 7.24 sec. Users per second: 1448\n"
     ]
    },
    {
     "name": "stderr",
     "output_type": "stream",
     "text": [
      "[I 2023-12-11 17:17:53,423] Trial 195 finished with value: 0.049227550567598775 and parameters: {'topK': 32, 'alpha': 0.22028996694465927, 'beta': 0.17339063177346345}. Best is trial 195 with value: 0.049227550567598775.\n"
     ]
    },
    {
     "name": "stdout",
     "output_type": "stream",
     "text": [
      "EvaluatorHoldout: Processed 10407 (100.0%) in 7.15 sec. Users per second: 1455\n",
      "EvaluatorHoldout: Processed 10439 (100.0%) in 7.63 sec. Users per second: 1368\n",
      "EvaluatorHoldout: Processed 10486 (100.0%) in 7.27 sec. Users per second: 1443\n"
     ]
    },
    {
     "name": "stderr",
     "output_type": "stream",
     "text": [
      "[I 2023-12-11 17:18:35,247] Trial 196 finished with value: 0.049115865883871485 and parameters: {'topK': 32, 'alpha': 0.2819975880933841, 'beta': 0.17339625566399064}. Best is trial 195 with value: 0.049227550567598775.\n"
     ]
    },
    {
     "name": "stdout",
     "output_type": "stream",
     "text": [
      "EvaluatorHoldout: Processed 10407 (100.0%) in 7.35 sec. Users per second: 1417\n",
      "EvaluatorHoldout: Processed 10439 (100.0%) in 7.17 sec. Users per second: 1456\n",
      "EvaluatorHoldout: Processed 10486 (100.0%) in 7.24 sec. Users per second: 1448\n"
     ]
    },
    {
     "name": "stderr",
     "output_type": "stream",
     "text": [
      "[I 2023-12-11 17:19:16,604] Trial 197 finished with value: 0.049060894735774345 and parameters: {'topK': 29, 'alpha': 0.29172291247908655, 'beta': 0.1650754811983911}. Best is trial 195 with value: 0.049227550567598775.\n"
     ]
    },
    {
     "name": "stdout",
     "output_type": "stream",
     "text": [
      "EvaluatorHoldout: Processed 10407 (100.0%) in 7.29 sec. Users per second: 1427\n",
      "EvaluatorHoldout: Processed 10439 (100.0%) in 7.53 sec. Users per second: 1386\n",
      "EvaluatorHoldout: Processed 10486 (100.0%) in 7.24 sec. Users per second: 1449\n"
     ]
    },
    {
     "name": "stderr",
     "output_type": "stream",
     "text": [
      "[I 2023-12-11 17:19:58,067] Trial 198 finished with value: 0.04896116963889307 and parameters: {'topK': 27, 'alpha': 0.27991490095039406, 'beta': 0.17121049754381715}. Best is trial 195 with value: 0.049227550567598775.\n"
     ]
    },
    {
     "name": "stdout",
     "output_type": "stream",
     "text": [
      "EvaluatorHoldout: Processed 10407 (100.0%) in 7.21 sec. Users per second: 1444\n",
      "EvaluatorHoldout: Processed 10439 (100.0%) in 7.30 sec. Users per second: 1430\n",
      "EvaluatorHoldout: Processed 10486 (100.0%) in 7.40 sec. Users per second: 1417\n"
     ]
    },
    {
     "name": "stderr",
     "output_type": "stream",
     "text": [
      "[I 2023-12-11 17:20:40,645] Trial 199 finished with value: 0.049001272202328035 and parameters: {'topK': 35, 'alpha': 0.3072446235306139, 'beta': 0.18176587399234329}. Best is trial 195 with value: 0.049227550567598775.\n"
     ]
    },
    {
     "name": "stdout",
     "output_type": "stream",
     "text": [
      "EvaluatorHoldout: Processed 10407 (100.0%) in 7.20 sec. Users per second: 1445\n",
      "EvaluatorHoldout: Processed 10439 (100.0%) in 7.21 sec. Users per second: 1447\n",
      "EvaluatorHoldout: Processed 10486 (100.0%) in 7.16 sec. Users per second: 1465\n"
     ]
    },
    {
     "name": "stderr",
     "output_type": "stream",
     "text": [
      "[I 2023-12-11 17:21:22,605] Trial 200 finished with value: 0.04920593031835504 and parameters: {'topK': 32, 'alpha': 0.21364634945857958, 'beta': 0.1727880337577373}. Best is trial 195 with value: 0.049227550567598775.\n"
     ]
    },
    {
     "name": "stdout",
     "output_type": "stream",
     "text": [
      "EvaluatorHoldout: Processed 10407 (100.0%) in 7.87 sec. Users per second: 1322\n",
      "EvaluatorHoldout: Processed 10439 (100.0%) in 7.24 sec. Users per second: 1441\n",
      "EvaluatorHoldout: Processed 10486 (100.0%) in 7.82 sec. Users per second: 1341\n"
     ]
    },
    {
     "name": "stderr",
     "output_type": "stream",
     "text": [
      "[I 2023-12-11 17:22:05,526] Trial 201 finished with value: 0.04915570234285239 and parameters: {'topK': 31, 'alpha': 0.22617181828138155, 'beta': 0.17375030228737914}. Best is trial 195 with value: 0.049227550567598775.\n"
     ]
    },
    {
     "name": "stdout",
     "output_type": "stream",
     "text": [
      "EvaluatorHoldout: Processed 10407 (100.0%) in 7.05 sec. Users per second: 1477\n",
      "EvaluatorHoldout: Processed 10439 (100.0%) in 7.19 sec. Users per second: 1451\n",
      "EvaluatorHoldout: Processed 10486 (100.0%) in 7.14 sec. Users per second: 1468\n"
     ]
    },
    {
     "name": "stderr",
     "output_type": "stream",
     "text": [
      "[I 2023-12-11 17:22:46,447] Trial 202 finished with value: 0.049017533117790224 and parameters: {'topK': 30, 'alpha': 0.2220923821463226, 'beta': 0.16469579074609822}. Best is trial 195 with value: 0.049227550567598775.\n"
     ]
    },
    {
     "name": "stdout",
     "output_type": "stream",
     "text": [
      "EvaluatorHoldout: Processed 10407 (100.0%) in 7.58 sec. Users per second: 1374\n",
      "EvaluatorHoldout: Processed 10439 (100.0%) in 7.24 sec. Users per second: 1443\n",
      "EvaluatorHoldout: Processed 10486 (100.0%) in 7.13 sec. Users per second: 1471\n"
     ]
    },
    {
     "name": "stderr",
     "output_type": "stream",
     "text": [
      "[I 2023-12-11 17:23:28,394] Trial 203 finished with value: 0.049120907987772446 and parameters: {'topK': 32, 'alpha': 0.20835270506930645, 'beta': 0.17919667634334063}. Best is trial 195 with value: 0.049227550567598775.\n"
     ]
    },
    {
     "name": "stdout",
     "output_type": "stream",
     "text": [
      "EvaluatorHoldout: Processed 10407 (100.0%) in 7.24 sec. Users per second: 1438\n",
      "EvaluatorHoldout: Processed 10439 (100.0%) in 7.12 sec. Users per second: 1466\n",
      "EvaluatorHoldout: Processed 10486 (100.0%) in 7.17 sec. Users per second: 1462\n"
     ]
    },
    {
     "name": "stderr",
     "output_type": "stream",
     "text": [
      "[I 2023-12-11 17:24:09,429] Trial 204 finished with value: 0.04917138641708695 and parameters: {'topK': 30, 'alpha': 0.2218783990869697, 'beta': 0.1838746362992014}. Best is trial 195 with value: 0.049227550567598775.\n"
     ]
    },
    {
     "name": "stdout",
     "output_type": "stream",
     "text": [
      "EvaluatorHoldout: Processed 10407 (100.0%) in 7.26 sec. Users per second: 1433\n",
      "EvaluatorHoldout: Processed 10439 (100.0%) in 7.20 sec. Users per second: 1450\n",
      "EvaluatorHoldout: Processed 10486 (100.0%) in 7.13 sec. Users per second: 1471\n"
     ]
    },
    {
     "name": "stderr",
     "output_type": "stream",
     "text": [
      "[I 2023-12-11 17:24:50,856] Trial 205 finished with value: 0.049169944304836934 and parameters: {'topK': 32, 'alpha': 0.21333742745053635, 'beta': 0.17716322971619045}. Best is trial 195 with value: 0.049227550567598775.\n"
     ]
    },
    {
     "name": "stdout",
     "output_type": "stream",
     "text": [
      "EvaluatorHoldout: Processed 10407 (100.0%) in 6.83 sec. Users per second: 1523\n",
      "EvaluatorHoldout: Processed 10439 (100.0%) in 6.87 sec. Users per second: 1520\n",
      "EvaluatorHoldout: Processed 10486 (100.0%) in 6.93 sec. Users per second: 1512\n"
     ]
    },
    {
     "name": "stderr",
     "output_type": "stream",
     "text": [
      "[I 2023-12-11 17:25:25,416] Trial 206 finished with value: 0.024024192205485767 and parameters: {'topK': 2, 'alpha': 0.21415669758835867, 'beta': 0.179531088189844}. Best is trial 195 with value: 0.049227550567598775.\n"
     ]
    },
    {
     "name": "stdout",
     "output_type": "stream",
     "text": [
      "EvaluatorHoldout: Processed 10407 (100.0%) in 7.08 sec. Users per second: 1470\n",
      "EvaluatorHoldout: Processed 10439 (100.0%) in 7.71 sec. Users per second: 1353\n",
      "EvaluatorHoldout: Processed 10486 (100.0%) in 7.15 sec. Users per second: 1466\n"
     ]
    },
    {
     "name": "stderr",
     "output_type": "stream",
     "text": [
      "[I 2023-12-11 17:26:06,573] Trial 207 finished with value: 0.0489464672944932 and parameters: {'topK': 28, 'alpha': 0.18104987918437232, 'beta': 0.18341893167994583}. Best is trial 195 with value: 0.049227550567598775.\n"
     ]
    },
    {
     "name": "stdout",
     "output_type": "stream",
     "text": [
      "EvaluatorHoldout: Processed 10407 (100.0%) in 7.14 sec. Users per second: 1457\n",
      "EvaluatorHoldout: Processed 10439 (100.0%) in 7.69 sec. Users per second: 1358\n",
      "EvaluatorHoldout: Processed 10486 (100.0%) in 7.23 sec. Users per second: 1450\n"
     ]
    },
    {
     "name": "stderr",
     "output_type": "stream",
     "text": [
      "[I 2023-12-11 17:26:48,693] Trial 208 finished with value: 0.04908783336225255 and parameters: {'topK': 34, 'alpha': 0.22560719043110294, 'beta': 0.17655418679086488}. Best is trial 195 with value: 0.049227550567598775.\n"
     ]
    },
    {
     "name": "stdout",
     "output_type": "stream",
     "text": [
      "EvaluatorHoldout: Processed 10407 (100.0%) in 7.09 sec. Users per second: 1467\n",
      "EvaluatorHoldout: Processed 10439 (100.0%) in 7.42 sec. Users per second: 1406\n",
      "EvaluatorHoldout: Processed 10486 (100.0%) in 7.19 sec. Users per second: 1459\n"
     ]
    },
    {
     "name": "stderr",
     "output_type": "stream",
     "text": [
      "[I 2023-12-11 17:27:30,334] Trial 209 finished with value: 0.04913451481246594 and parameters: {'topK': 31, 'alpha': 0.19905194749708294, 'beta': 0.18678174422466035}. Best is trial 195 with value: 0.049227550567598775.\n"
     ]
    },
    {
     "name": "stdout",
     "output_type": "stream",
     "text": [
      "EvaluatorHoldout: Processed 10407 (100.0%) in 7.18 sec. Users per second: 1449\n",
      "EvaluatorHoldout: Processed 10439 (100.0%) in 7.23 sec. Users per second: 1444\n",
      "EvaluatorHoldout: Processed 10486 (100.0%) in 7.09 sec. Users per second: 1479\n"
     ]
    },
    {
     "name": "stderr",
     "output_type": "stream",
     "text": [
      "[I 2023-12-11 17:28:11,005] Trial 210 finished with value: 0.04891242467101772 and parameters: {'topK': 26, 'alpha': 0.19401004206712266, 'beta': 0.18827425732287045}. Best is trial 195 with value: 0.049227550567598775.\n"
     ]
    },
    {
     "name": "stdout",
     "output_type": "stream",
     "text": [
      "EvaluatorHoldout: Processed 10407 (100.0%) in 7.19 sec. Users per second: 1447\n",
      "EvaluatorHoldout: Processed 10439 (100.0%) in 7.09 sec. Users per second: 1473\n",
      "EvaluatorHoldout: Processed 10486 (100.0%) in 7.16 sec. Users per second: 1464\n"
     ]
    },
    {
     "name": "stderr",
     "output_type": "stream",
     "text": [
      "[I 2023-12-11 17:28:52,217] Trial 211 finished with value: 0.04916399221245266 and parameters: {'topK': 31, 'alpha': 0.20769962250001964, 'beta': 0.18083353701901367}. Best is trial 195 with value: 0.049227550567598775.\n"
     ]
    },
    {
     "name": "stdout",
     "output_type": "stream",
     "text": [
      "EvaluatorHoldout: Processed 10407 (100.0%) in 7.08 sec. Users per second: 1471\n",
      "EvaluatorHoldout: Processed 10439 (100.0%) in 7.44 sec. Users per second: 1403\n",
      "EvaluatorHoldout: Processed 10486 (100.0%) in 7.15 sec. Users per second: 1466\n"
     ]
    },
    {
     "name": "stderr",
     "output_type": "stream",
     "text": [
      "[I 2023-12-11 17:29:33,467] Trial 212 finished with value: 0.04902616177437987 and parameters: {'topK': 29, 'alpha': 0.2051820887996696, 'beta': 0.16980250830537286}. Best is trial 195 with value: 0.049227550567598775.\n"
     ]
    },
    {
     "name": "stdout",
     "output_type": "stream",
     "text": [
      "EvaluatorHoldout: Processed 10407 (100.0%) in 7.05 sec. Users per second: 1476\n",
      "EvaluatorHoldout: Processed 10439 (100.0%) in 7.14 sec. Users per second: 1462\n",
      "EvaluatorHoldout: Processed 10486 (100.0%) in 8.36 sec. Users per second: 1254\n"
     ]
    },
    {
     "name": "stderr",
     "output_type": "stream",
     "text": [
      "[I 2023-12-11 17:30:15,870] Trial 213 finished with value: 0.04902743446639533 and parameters: {'topK': 32, 'alpha': 0.1743347243938165, 'beta': 0.17805511840891478}. Best is trial 195 with value: 0.049227550567598775.\n"
     ]
    },
    {
     "name": "stdout",
     "output_type": "stream",
     "text": [
      "EvaluatorHoldout: Processed 10407 (100.0%) in 7.14 sec. Users per second: 1458\n",
      "EvaluatorHoldout: Processed 10439 (100.0%) in 7.23 sec. Users per second: 1445\n",
      "EvaluatorHoldout: Processed 10486 (100.0%) in 7.23 sec. Users per second: 1451\n"
     ]
    },
    {
     "name": "stderr",
     "output_type": "stream",
     "text": [
      "[I 2023-12-11 17:30:57,147] Trial 214 finished with value: 0.04911763202298892 and parameters: {'topK': 30, 'alpha': 0.20747071487428478, 'beta': 0.19417126032674809}. Best is trial 195 with value: 0.049227550567598775.\n"
     ]
    },
    {
     "name": "stdout",
     "output_type": "stream",
     "text": [
      "EvaluatorHoldout: Processed 10407 (100.0%) in 7.35 sec. Users per second: 1415\n",
      "EvaluatorHoldout: Processed 10439 (100.0%) in 7.29 sec. Users per second: 1431\n",
      "EvaluatorHoldout: Processed 10486 (100.0%) in 8.87 sec. Users per second: 1183\n"
     ]
    },
    {
     "name": "stderr",
     "output_type": "stream",
     "text": [
      "[I 2023-12-11 17:31:41,167] Trial 215 finished with value: 0.048933868036719064 and parameters: {'topK': 36, 'alpha': 0.22956330448010165, 'beta': 0.18540253912030022}. Best is trial 195 with value: 0.049227550567598775.\n"
     ]
    },
    {
     "name": "stdout",
     "output_type": "stream",
     "text": [
      "EvaluatorHoldout: Processed 10407 (100.0%) in 7.16 sec. Users per second: 1454\n",
      "EvaluatorHoldout: Processed 10439 (100.0%) in 7.27 sec. Users per second: 1437\n",
      "EvaluatorHoldout: Processed 10486 (100.0%) in 7.30 sec. Users per second: 1436\n"
     ]
    },
    {
     "name": "stderr",
     "output_type": "stream",
     "text": [
      "[I 2023-12-11 17:32:22,908] Trial 216 finished with value: 0.04901004925406685 and parameters: {'topK': 34, 'alpha': 0.1937951689147182, 'beta': 0.17121524037658759}. Best is trial 195 with value: 0.049227550567598775.\n"
     ]
    },
    {
     "name": "stdout",
     "output_type": "stream",
     "text": [
      "EvaluatorHoldout: Processed 10407 (100.0%) in 7.16 sec. Users per second: 1453\n",
      "EvaluatorHoldout: Processed 10439 (100.0%) in 7.07 sec. Users per second: 1477\n",
      "EvaluatorHoldout: Processed 10486 (100.0%) in 7.23 sec. Users per second: 1451\n"
     ]
    },
    {
     "name": "stderr",
     "output_type": "stream",
     "text": [
      "[I 2023-12-11 17:33:03,715] Trial 217 finished with value: 0.048918155175719936 and parameters: {'topK': 28, 'alpha': 0.21255786258731613, 'beta': 0.1781053148318589}. Best is trial 195 with value: 0.049227550567598775.\n"
     ]
    },
    {
     "name": "stdout",
     "output_type": "stream",
     "text": [
      "EvaluatorHoldout: Processed 10407 (100.0%) in 7.25 sec. Users per second: 1435\n",
      "EvaluatorHoldout: Processed 10439 (100.0%) in 7.19 sec. Users per second: 1451\n",
      "EvaluatorHoldout: Processed 10486 (100.0%) in 7.28 sec. Users per second: 1441\n"
     ]
    },
    {
     "name": "stderr",
     "output_type": "stream",
     "text": [
      "[I 2023-12-11 17:33:45,327] Trial 218 finished with value: 0.049053311304629116 and parameters: {'topK': 32, 'alpha': 0.23849433509628534, 'beta': 0.18795492802604916}. Best is trial 195 with value: 0.049227550567598775.\n"
     ]
    },
    {
     "name": "stdout",
     "output_type": "stream",
     "text": [
      "EvaluatorHoldout: Processed 10407 (100.0%) in 7.13 sec. Users per second: 1460\n",
      "EvaluatorHoldout: Processed 10439 (100.0%) in 7.13 sec. Users per second: 1463\n",
      "EvaluatorHoldout: Processed 10486 (100.0%) in 7.06 sec. Users per second: 1486\n"
     ]
    },
    {
     "name": "stderr",
     "output_type": "stream",
     "text": [
      "[I 2023-12-11 17:34:25,578] Trial 219 finished with value: 0.048786439006757776 and parameters: {'topK': 25, 'alpha': 0.17339654487735928, 'beta': 0.16453177791250384}. Best is trial 195 with value: 0.049227550567598775.\n"
     ]
    },
    {
     "name": "stdout",
     "output_type": "stream",
     "text": [
      "EvaluatorHoldout: Processed 10407 (100.0%) in 7.12 sec. Users per second: 1462\n",
      "EvaluatorHoldout: Processed 10439 (100.0%) in 7.19 sec. Users per second: 1452\n",
      "EvaluatorHoldout: Processed 10486 (100.0%) in 7.06 sec. Users per second: 1484\n"
     ]
    },
    {
     "name": "stderr",
     "output_type": "stream",
     "text": [
      "[I 2023-12-11 17:35:06,491] Trial 220 finished with value: 0.04900019666211444 and parameters: {'topK': 30, 'alpha': 0.16077748446490786, 'beta': 0.17247372978249892}. Best is trial 195 with value: 0.049227550567598775.\n"
     ]
    },
    {
     "name": "stdout",
     "output_type": "stream",
     "text": [
      "EvaluatorHoldout: Processed 10407 (100.0%) in 7.28 sec. Users per second: 1429\n",
      "EvaluatorHoldout: Processed 10439 (100.0%) in 7.28 sec. Users per second: 1435\n",
      "EvaluatorHoldout: Processed 10486 (100.0%) in 7.13 sec. Users per second: 1470\n"
     ]
    },
    {
     "name": "stderr",
     "output_type": "stream",
     "text": [
      "[I 2023-12-11 17:35:47,958] Trial 221 finished with value: 0.04912414465029993 and parameters: {'topK': 30, 'alpha': 0.20925010617849713, 'beta': 0.19484128174719906}. Best is trial 195 with value: 0.049227550567598775.\n"
     ]
    },
    {
     "name": "stdout",
     "output_type": "stream",
     "text": [
      "EvaluatorHoldout: Processed 10407 (100.0%) in 7.12 sec. Users per second: 1461\n",
      "EvaluatorHoldout: Processed 10439 (100.0%) in 7.17 sec. Users per second: 1456\n",
      "EvaluatorHoldout: Processed 10486 (100.0%) in 7.22 sec. Users per second: 1452\n"
     ]
    },
    {
     "name": "stderr",
     "output_type": "stream",
     "text": [
      "[I 2023-12-11 17:36:29,765] Trial 222 finished with value: 0.04895620006470492 and parameters: {'topK': 33, 'alpha': 0.2162204422005572, 'beta': 0.19655086188460394}. Best is trial 195 with value: 0.049227550567598775.\n"
     ]
    },
    {
     "name": "stdout",
     "output_type": "stream",
     "text": [
      "EvaluatorHoldout: Processed 10407 (100.0%) in 7.07 sec. Users per second: 1473\n",
      "EvaluatorHoldout: Processed 10439 (100.0%) in 7.20 sec. Users per second: 1449\n",
      "EvaluatorHoldout: Processed 10486 (100.0%) in 7.09 sec. Users per second: 1480\n"
     ]
    },
    {
     "name": "stderr",
     "output_type": "stream",
     "text": [
      "[I 2023-12-11 17:37:10,960] Trial 223 finished with value: 0.049096326353362744 and parameters: {'topK': 31, 'alpha': 0.19249691770748575, 'beta': 0.1824890401364958}. Best is trial 195 with value: 0.049227550567598775.\n"
     ]
    },
    {
     "name": "stdout",
     "output_type": "stream",
     "text": [
      "EvaluatorHoldout: Processed 10407 (100.0%) in 7.14 sec. Users per second: 1457\n",
      "EvaluatorHoldout: Processed 10439 (100.0%) in 7.17 sec. Users per second: 1456\n",
      "EvaluatorHoldout: Processed 10486 (100.0%) in 7.24 sec. Users per second: 1448\n"
     ]
    },
    {
     "name": "stderr",
     "output_type": "stream",
     "text": [
      "[I 2023-12-11 17:37:52,064] Trial 224 finished with value: 0.04909231696580743 and parameters: {'topK': 29, 'alpha': 0.22840271538398885, 'beta': 0.19203815352609}. Best is trial 195 with value: 0.049227550567598775.\n"
     ]
    },
    {
     "name": "stdout",
     "output_type": "stream",
     "text": [
      "EvaluatorHoldout: Processed 10407 (100.0%) in 7.20 sec. Users per second: 1445\n",
      "EvaluatorHoldout: Processed 10439 (100.0%) in 7.48 sec. Users per second: 1396\n",
      "EvaluatorHoldout: Processed 10486 (100.0%) in 7.07 sec. Users per second: 1483\n"
     ]
    },
    {
     "name": "stderr",
     "output_type": "stream",
     "text": [
      "[I 2023-12-11 17:38:33,186] Trial 225 finished with value: 0.04900282578807113 and parameters: {'topK': 27, 'alpha': 0.20166138490322155, 'beta': 0.18687380515257704}. Best is trial 195 with value: 0.049227550567598775.\n"
     ]
    },
    {
     "name": "stdout",
     "output_type": "stream",
     "text": [
      "EvaluatorHoldout: Processed 10407 (100.0%) in 7.30 sec. Users per second: 1425\n",
      "EvaluatorHoldout: Processed 10439 (100.0%) in 7.16 sec. Users per second: 1459\n",
      "EvaluatorHoldout: Processed 10486 (100.0%) in 7.30 sec. Users per second: 1436\n"
     ]
    },
    {
     "name": "stderr",
     "output_type": "stream",
     "text": [
      "[I 2023-12-11 17:39:15,173] Trial 226 finished with value: 0.049023654707734 and parameters: {'topK': 34, 'alpha': 0.25384543114636504, 'beta': 0.17824945201524434}. Best is trial 195 with value: 0.049227550567598775.\n"
     ]
    },
    {
     "name": "stdout",
     "output_type": "stream",
     "text": [
      "EvaluatorHoldout: Processed 10407 (100.0%) in 7.10 sec. Users per second: 1466\n",
      "EvaluatorHoldout: Processed 10439 (100.0%) in 7.10 sec. Users per second: 1471\n",
      "EvaluatorHoldout: Processed 10486 (100.0%) in 7.06 sec. Users per second: 1484\n"
     ]
    },
    {
     "name": "stderr",
     "output_type": "stream",
     "text": [
      "[I 2023-12-11 17:39:55,747] Trial 227 finished with value: 0.04802503576847473 and parameters: {'topK': 31, 'alpha': 0.23472011016057517, 'beta': 0.018416180931879245}. Best is trial 195 with value: 0.049227550567598775.\n"
     ]
    },
    {
     "name": "stdout",
     "output_type": "stream",
     "text": [
      "EvaluatorHoldout: Processed 10407 (100.0%) in 7.20 sec. Users per second: 1446\n",
      "EvaluatorHoldout: Processed 10439 (100.0%) in 7.07 sec. Users per second: 1475\n",
      "EvaluatorHoldout: Processed 10486 (100.0%) in 7.23 sec. Users per second: 1451\n"
     ]
    },
    {
     "name": "stderr",
     "output_type": "stream",
     "text": [
      "[I 2023-12-11 17:40:36,517] Trial 228 finished with value: 0.049003615974445545 and parameters: {'topK': 28, 'alpha': 0.18344250241699878, 'beta': 0.20026462126937605}. Best is trial 195 with value: 0.049227550567598775.\n"
     ]
    },
    {
     "name": "stdout",
     "output_type": "stream",
     "text": [
      "EvaluatorHoldout: Processed 10407 (100.0%) in 7.33 sec. Users per second: 1420\n",
      "EvaluatorHoldout: Processed 10439 (100.0%) in 7.13 sec. Users per second: 1464\n",
      "EvaluatorHoldout: Processed 10486 (100.0%) in 7.06 sec. Users per second: 1484\n"
     ]
    },
    {
     "name": "stderr",
     "output_type": "stream",
     "text": [
      "[I 2023-12-11 17:41:17,878] Trial 229 finished with value: 0.049137245426484046 and parameters: {'topK': 32, 'alpha': 0.21308539043681615, 'beta': 0.16767471969152745}. Best is trial 195 with value: 0.049227550567598775.\n"
     ]
    },
    {
     "name": "stdout",
     "output_type": "stream",
     "text": [
      "EvaluatorHoldout: Processed 10407 (100.0%) in 7.15 sec. Users per second: 1455\n",
      "EvaluatorHoldout: Processed 10439 (100.0%) in 7.27 sec. Users per second: 1436\n",
      "EvaluatorHoldout: Processed 10486 (100.0%) in 7.26 sec. Users per second: 1444\n"
     ]
    },
    {
     "name": "stderr",
     "output_type": "stream",
     "text": [
      "[I 2023-12-11 17:42:00,028] Trial 230 finished with value: 0.04899417382174245 and parameters: {'topK': 36, 'alpha': 0.23020372469965492, 'beta': 0.1676717838667188}. Best is trial 195 with value: 0.049227550567598775.\n"
     ]
    },
    {
     "name": "stdout",
     "output_type": "stream",
     "text": [
      "EvaluatorHoldout: Processed 10407 (100.0%) in 7.12 sec. Users per second: 1462\n",
      "EvaluatorHoldout: Processed 10439 (100.0%) in 7.13 sec. Users per second: 1463\n",
      "EvaluatorHoldout: Processed 10486 (100.0%) in 7.11 sec. Users per second: 1474\n"
     ]
    },
    {
     "name": "stderr",
     "output_type": "stream",
     "text": [
      "[I 2023-12-11 17:42:41,471] Trial 231 finished with value: 0.049173091080755994 and parameters: {'topK': 32, 'alpha': 0.21224437754324021, 'beta': 0.1737217591120151}. Best is trial 195 with value: 0.049227550567598775.\n"
     ]
    },
    {
     "name": "stdout",
     "output_type": "stream",
     "text": [
      "EvaluatorHoldout: Processed 10407 (100.0%) in 7.10 sec. Users per second: 1465\n",
      "EvaluatorHoldout: Processed 10439 (100.0%) in 7.28 sec. Users per second: 1435\n",
      "EvaluatorHoldout: Processed 10486 (100.0%) in 7.23 sec. Users per second: 1451\n"
     ]
    },
    {
     "name": "stderr",
     "output_type": "stream",
     "text": [
      "[I 2023-12-11 17:43:22,651] Trial 232 finished with value: 0.049071084098035234 and parameters: {'topK': 30, 'alpha': 0.2122538734422184, 'beta': 0.1708761991527048}. Best is trial 195 with value: 0.049227550567598775.\n"
     ]
    },
    {
     "name": "stdout",
     "output_type": "stream",
     "text": [
      "EvaluatorHoldout: Processed 10407 (100.0%) in 7.31 sec. Users per second: 1424\n",
      "EvaluatorHoldout: Processed 10439 (100.0%) in 7.33 sec. Users per second: 1424\n",
      "EvaluatorHoldout: Processed 10486 (100.0%) in 7.29 sec. Users per second: 1438\n"
     ]
    },
    {
     "name": "stderr",
     "output_type": "stream",
     "text": [
      "[I 2023-12-11 17:44:04,878] Trial 233 finished with value: 0.0483407533961421 and parameters: {'topK': 33, 'alpha': 0.21906589257065284, 'beta': 0.27447128263205567}. Best is trial 195 with value: 0.049227550567598775.\n"
     ]
    },
    {
     "name": "stdout",
     "output_type": "stream",
     "text": [
      "EvaluatorHoldout: Processed 10407 (100.0%) in 7.35 sec. Users per second: 1415\n",
      "EvaluatorHoldout: Processed 10439 (100.0%) in 7.26 sec. Users per second: 1438\n",
      "EvaluatorHoldout: Processed 10486 (100.0%) in 7.14 sec. Users per second: 1468\n"
     ]
    },
    {
     "name": "stderr",
     "output_type": "stream",
     "text": [
      "[I 2023-12-11 17:44:46,238] Trial 234 finished with value: 0.04878737931482263 and parameters: {'topK': 30, 'alpha': 0.09076461120961826, 'beta': 0.17442566735643614}. Best is trial 195 with value: 0.049227550567598775.\n"
     ]
    },
    {
     "name": "stdout",
     "output_type": "stream",
     "text": [
      "EvaluatorHoldout: Processed 10407 (100.0%) in 7.17 sec. Users per second: 1452\n",
      "EvaluatorHoldout: Processed 10439 (100.0%) in 7.11 sec. Users per second: 1468\n",
      "EvaluatorHoldout: Processed 10486 (100.0%) in 7.22 sec. Users per second: 1452\n"
     ]
    },
    {
     "name": "stderr",
     "output_type": "stream",
     "text": [
      "[I 2023-12-11 17:45:27,607] Trial 235 finished with value: 0.049075480205907705 and parameters: {'topK': 32, 'alpha': 0.25234080515764334, 'beta': 0.16245998267027845}. Best is trial 195 with value: 0.049227550567598775.\n"
     ]
    },
    {
     "name": "stdout",
     "output_type": "stream",
     "text": [
      "EvaluatorHoldout: Processed 10407 (100.0%) in 7.13 sec. Users per second: 1459\n",
      "EvaluatorHoldout: Processed 10439 (100.0%) in 7.33 sec. Users per second: 1424\n",
      "EvaluatorHoldout: Processed 10486 (100.0%) in 7.31 sec. Users per second: 1434\n"
     ]
    },
    {
     "name": "stderr",
     "output_type": "stream",
     "text": [
      "[I 2023-12-11 17:46:09,785] Trial 236 finished with value: 0.04896338229802738 and parameters: {'topK': 34, 'alpha': 0.196790704009016, 'beta': 0.18431611926623023}. Best is trial 195 with value: 0.049227550567598775.\n"
     ]
    },
    {
     "name": "stdout",
     "output_type": "stream",
     "text": [
      "EvaluatorHoldout: Processed 10407 (100.0%) in 7.01 sec. Users per second: 1485\n",
      "EvaluatorHoldout: Processed 10439 (100.0%) in 7.22 sec. Users per second: 1446\n",
      "EvaluatorHoldout: Processed 10486 (100.0%) in 7.17 sec. Users per second: 1462\n"
     ]
    },
    {
     "name": "stderr",
     "output_type": "stream",
     "text": [
      "[I 2023-12-11 17:46:50,505] Trial 237 finished with value: 0.04892117116730179 and parameters: {'topK': 28, 'alpha': 0.23960507058682082, 'beta': 0.16857359705171668}. Best is trial 195 with value: 0.049227550567598775.\n"
     ]
    },
    {
     "name": "stdout",
     "output_type": "stream",
     "text": [
      "EvaluatorHoldout: Processed 10407 (100.0%) in 7.30 sec. Users per second: 1426\n",
      "EvaluatorHoldout: Processed 10439 (100.0%) in 7.37 sec. Users per second: 1417\n",
      "EvaluatorHoldout: Processed 10486 (100.0%) in 7.34 sec. Users per second: 1429\n"
     ]
    },
    {
     "name": "stderr",
     "output_type": "stream",
     "text": [
      "[I 2023-12-11 17:47:35,895] Trial 238 finished with value: 0.04807809946097367 and parameters: {'topK': 57, 'alpha': 0.22041223597529122, 'beta': 0.17560758412948363}. Best is trial 195 with value: 0.049227550567598775.\n"
     ]
    },
    {
     "name": "stdout",
     "output_type": "stream",
     "text": [
      "EvaluatorHoldout: Processed 10407 (100.0%) in 7.19 sec. Users per second: 1448\n",
      "EvaluatorHoldout: Processed 10439 (100.0%) in 7.20 sec. Users per second: 1449\n",
      "EvaluatorHoldout: Processed 10486 (100.0%) in 7.12 sec. Users per second: 1473\n"
     ]
    },
    {
     "name": "stderr",
     "output_type": "stream",
     "text": [
      "[I 2023-12-11 17:48:17,292] Trial 239 finished with value: 0.049100456003725264 and parameters: {'topK': 31, 'alpha': 0.18733030550860952, 'beta': 0.191405681432949}. Best is trial 195 with value: 0.049227550567598775.\n"
     ]
    },
    {
     "name": "stdout",
     "output_type": "stream",
     "text": [
      "EvaluatorHoldout: Processed 10407 (100.0%) in 7.13 sec. Users per second: 1460\n",
      "EvaluatorHoldout: Processed 10439 (100.0%) in 7.16 sec. Users per second: 1458\n",
      "EvaluatorHoldout: Processed 10486 (100.0%) in 7.19 sec. Users per second: 1457\n"
     ]
    },
    {
     "name": "stderr",
     "output_type": "stream",
     "text": [
      "[I 2023-12-11 17:48:58,010] Trial 240 finished with value: 0.04888572527576605 and parameters: {'topK': 27, 'alpha': 0.20576270437314087, 'beta': 0.18163550156472422}. Best is trial 195 with value: 0.049227550567598775.\n"
     ]
    },
    {
     "name": "stdout",
     "output_type": "stream",
     "text": [
      "EvaluatorHoldout: Processed 10407 (100.0%) in 7.07 sec. Users per second: 1472\n",
      "EvaluatorHoldout: Processed 10439 (100.0%) in 7.18 sec. Users per second: 1455\n",
      "EvaluatorHoldout: Processed 10486 (100.0%) in 7.31 sec. Users per second: 1434\n"
     ]
    },
    {
     "name": "stderr",
     "output_type": "stream",
     "text": [
      "[I 2023-12-11 17:49:39,549] Trial 241 finished with value: 0.049133951237442526 and parameters: {'topK': 32, 'alpha': 0.20630663751971912, 'beta': 0.17626542223879293}. Best is trial 195 with value: 0.049227550567598775.\n"
     ]
    },
    {
     "name": "stdout",
     "output_type": "stream",
     "text": [
      "EvaluatorHoldout: Processed 10407 (100.0%) in 7.13 sec. Users per second: 1460\n",
      "EvaluatorHoldout: Processed 10439 (100.0%) in 7.30 sec. Users per second: 1429\n",
      "EvaluatorHoldout: Processed 10486 (100.0%) in 7.13 sec. Users per second: 1470\n"
     ]
    },
    {
     "name": "stderr",
     "output_type": "stream",
     "text": [
      "[I 2023-12-11 17:50:20,714] Trial 242 finished with value: 0.04907537649398951 and parameters: {'topK': 30, 'alpha': 0.2311468522217438, 'beta': 0.17441863766536858}. Best is trial 195 with value: 0.049227550567598775.\n"
     ]
    },
    {
     "name": "stdout",
     "output_type": "stream",
     "text": [
      "EvaluatorHoldout: Processed 10407 (100.0%) in 7.12 sec. Users per second: 1461\n",
      "EvaluatorHoldout: Processed 10439 (100.0%) in 7.28 sec. Users per second: 1435\n",
      "EvaluatorHoldout: Processed 10486 (100.0%) in 7.22 sec. Users per second: 1453\n"
     ]
    },
    {
     "name": "stderr",
     "output_type": "stream",
     "text": [
      "[I 2023-12-11 17:51:02,304] Trial 243 finished with value: 0.04907147835808825 and parameters: {'topK': 34, 'alpha': 0.217681998121374, 'beta': 0.16738717535530537}. Best is trial 195 with value: 0.049227550567598775.\n"
     ]
    },
    {
     "name": "stdout",
     "output_type": "stream",
     "text": [
      "EvaluatorHoldout: Processed 10407 (100.0%) in 7.00 sec. Users per second: 1486\n",
      "EvaluatorHoldout: Processed 10439 (100.0%) in 7.12 sec. Users per second: 1466\n",
      "EvaluatorHoldout: Processed 10486 (100.0%) in 7.07 sec. Users per second: 1484\n"
     ]
    },
    {
     "name": "stderr",
     "output_type": "stream",
     "text": [
      "[I 2023-12-11 17:51:42,992] Trial 244 finished with value: 0.04843711692572384 and parameters: {'topK': 32, 'alpha': 0.196459120688364, 'beta': 0.07270435319661117}. Best is trial 195 with value: 0.049227550567598775.\n"
     ]
    },
    {
     "name": "stdout",
     "output_type": "stream",
     "text": [
      "EvaluatorHoldout: Processed 10407 (100.0%) in 7.37 sec. Users per second: 1413\n",
      "EvaluatorHoldout: Processed 10439 (100.0%) in 7.14 sec. Users per second: 1463\n",
      "EvaluatorHoldout: Processed 10486 (100.0%) in 7.22 sec. Users per second: 1453\n"
     ]
    },
    {
     "name": "stderr",
     "output_type": "stream",
     "text": [
      "[I 2023-12-11 17:52:24,335] Trial 245 finished with value: 0.04778198685221401 and parameters: {'topK': 29, 'alpha': 0.6499981633835655, 'beta': 0.18751818146334892}. Best is trial 195 with value: 0.049227550567598775.\n"
     ]
    },
    {
     "name": "stdout",
     "output_type": "stream",
     "text": [
      "EvaluatorHoldout: Processed 10407 (100.0%) in 7.19 sec. Users per second: 1448\n",
      "EvaluatorHoldout: Processed 10439 (100.0%) in 7.09 sec. Users per second: 1473\n",
      "EvaluatorHoldout: Processed 10486 (100.0%) in 7.29 sec. Users per second: 1439\n"
     ]
    },
    {
     "name": "stderr",
     "output_type": "stream",
     "text": [
      "[I 2023-12-11 17:53:06,077] Trial 246 finished with value: 0.049013467360336516 and parameters: {'topK': 35, 'alpha': 0.240037872184617, 'beta': 0.1570714215279521}. Best is trial 195 with value: 0.049227550567598775.\n"
     ]
    },
    {
     "name": "stdout",
     "output_type": "stream",
     "text": [
      "EvaluatorHoldout: Processed 10407 (100.0%) in 7.25 sec. Users per second: 1435\n",
      "EvaluatorHoldout: Processed 10439 (100.0%) in 7.13 sec. Users per second: 1464\n",
      "EvaluatorHoldout: Processed 10486 (100.0%) in 7.20 sec. Users per second: 1457\n"
     ]
    },
    {
     "name": "stderr",
     "output_type": "stream",
     "text": [
      "[I 2023-12-11 17:53:47,776] Trial 247 finished with value: 0.04911137678010091 and parameters: {'topK': 32, 'alpha': 0.25893438766898125, 'beta': 0.1797199292302945}. Best is trial 195 with value: 0.049227550567598775.\n"
     ]
    },
    {
     "name": "stdout",
     "output_type": "stream",
     "text": [
      "EvaluatorHoldout: Processed 10407 (100.0%) in 7.42 sec. Users per second: 1403\n",
      "EvaluatorHoldout: Processed 10439 (100.0%) in 7.39 sec. Users per second: 1413\n",
      "EvaluatorHoldout: Processed 10486 (100.0%) in 7.53 sec. Users per second: 1392\n"
     ]
    },
    {
     "name": "stderr",
     "output_type": "stream",
     "text": [
      "[I 2023-12-11 17:54:35,474] Trial 248 finished with value: 0.04752422845573532 and parameters: {'topK': 70, 'alpha': 0.20721436918019395, 'beta': 0.170144602566464}. Best is trial 195 with value: 0.049227550567598775.\n"
     ]
    },
    {
     "name": "stdout",
     "output_type": "stream",
     "text": [
      "EvaluatorHoldout: Processed 10407 (100.0%) in 7.12 sec. Users per second: 1461\n",
      "EvaluatorHoldout: Processed 10439 (100.0%) in 7.30 sec. Users per second: 1430\n",
      "EvaluatorHoldout: Processed 10486 (100.0%) in 7.13 sec. Users per second: 1471\n"
     ]
    },
    {
     "name": "stderr",
     "output_type": "stream",
     "text": [
      "[I 2023-12-11 17:55:16,684] Trial 249 finished with value: 0.04906676361300737 and parameters: {'topK': 30, 'alpha': 0.17365757113278818, 'beta': 0.17576438161897032}. Best is trial 195 with value: 0.049227550567598775.\n"
     ]
    },
    {
     "name": "stdout",
     "output_type": "stream",
     "text": [
      "EvaluatorHoldout: Processed 10407 (100.0%) in 7.17 sec. Users per second: 1451\n",
      "EvaluatorHoldout: Processed 10439 (100.0%) in 7.13 sec. Users per second: 1464\n",
      "EvaluatorHoldout: Processed 10486 (100.0%) in 7.11 sec. Users per second: 1475\n"
     ]
    },
    {
     "name": "stderr",
     "output_type": "stream",
     "text": [
      "[I 2023-12-11 17:55:58,174] Trial 250 finished with value: 0.04915180810526063 and parameters: {'topK': 33, 'alpha': 0.22423896020738548, 'beta': 0.16253849676172297}. Best is trial 195 with value: 0.049227550567598775.\n"
     ]
    },
    {
     "name": "stdout",
     "output_type": "stream",
     "text": [
      "EvaluatorHoldout: Processed 10407 (100.0%) in 7.20 sec. Users per second: 1446\n",
      "EvaluatorHoldout: Processed 10439 (100.0%) in 7.08 sec. Users per second: 1474\n",
      "EvaluatorHoldout: Processed 10486 (100.0%) in 7.11 sec. Users per second: 1474\n"
     ]
    },
    {
     "name": "stderr",
     "output_type": "stream",
     "text": [
      "[I 2023-12-11 17:56:38,910] Trial 251 finished with value: 0.048902918213846076 and parameters: {'topK': 28, 'alpha': 0.23659815894505287, 'beta': 0.16249780460212684}. Best is trial 195 with value: 0.049227550567598775.\n"
     ]
    },
    {
     "name": "stdout",
     "output_type": "stream",
     "text": [
      "EvaluatorHoldout: Processed 10407 (100.0%) in 7.13 sec. Users per second: 1461\n",
      "EvaluatorHoldout: Processed 10439 (100.0%) in 7.12 sec. Users per second: 1466\n",
      "EvaluatorHoldout: Processed 10486 (100.0%) in 7.10 sec. Users per second: 1476\n"
     ]
    },
    {
     "name": "stderr",
     "output_type": "stream",
     "text": [
      "[I 2023-12-11 17:57:19,570] Trial 252 finished with value: 0.04892650384070546 and parameters: {'topK': 25, 'alpha': 0.22447987074708173, 'beta': 0.18491175854419648}. Best is trial 195 with value: 0.049227550567598775.\n"
     ]
    },
    {
     "name": "stdout",
     "output_type": "stream",
     "text": [
      "EvaluatorHoldout: Processed 10407 (100.0%) in 7.16 sec. Users per second: 1454\n",
      "EvaluatorHoldout: Processed 10439 (100.0%) in 7.26 sec. Users per second: 1437\n",
      "EvaluatorHoldout: Processed 10486 (100.0%) in 7.22 sec. Users per second: 1452\n"
     ]
    },
    {
     "name": "stderr",
     "output_type": "stream",
     "text": [
      "[I 2023-12-11 17:58:01,863] Trial 253 finished with value: 0.04880736015751966 and parameters: {'topK': 36, 'alpha': 0.4137487773177816, 'beta': 0.19497224694869728}. Best is trial 195 with value: 0.049227550567598775.\n"
     ]
    },
    {
     "name": "stdout",
     "output_type": "stream",
     "text": [
      "EvaluatorHoldout: Processed 10407 (100.0%) in 7.10 sec. Users per second: 1466\n",
      "EvaluatorHoldout: Processed 10439 (100.0%) in 7.05 sec. Users per second: 1480\n",
      "EvaluatorHoldout: Processed 10486 (100.0%) in 7.15 sec. Users per second: 1466\n"
     ]
    },
    {
     "name": "stderr",
     "output_type": "stream",
     "text": [
      "[I 2023-12-11 17:58:42,968] Trial 254 finished with value: 0.04903159655844322 and parameters: {'topK': 31, 'alpha': 0.26192108323485586, 'beta': 0.18026190206684706}. Best is trial 195 with value: 0.049227550567598775.\n"
     ]
    },
    {
     "name": "stdout",
     "output_type": "stream",
     "text": [
      "EvaluatorHoldout: Processed 10407 (100.0%) in 7.03 sec. Users per second: 1481\n",
      "EvaluatorHoldout: Processed 10439 (100.0%) in 7.06 sec. Users per second: 1480\n",
      "EvaluatorHoldout: Processed 10486 (100.0%) in 7.49 sec. Users per second: 1400\n"
     ]
    },
    {
     "name": "stderr",
     "output_type": "stream",
     "text": [
      "[I 2023-12-11 17:59:24,236] Trial 255 finished with value: 0.048574915441695836 and parameters: {'topK': 33, 'alpha': 0.2466547295268425, 'beta': 0.08479705563397334}. Best is trial 195 with value: 0.049227550567598775.\n"
     ]
    },
    {
     "name": "stdout",
     "output_type": "stream",
     "text": [
      "EvaluatorHoldout: Processed 10407 (100.0%) in 7.17 sec. Users per second: 1452\n",
      "EvaluatorHoldout: Processed 10439 (100.0%) in 7.05 sec. Users per second: 1482\n",
      "EvaluatorHoldout: Processed 10486 (100.0%) in 7.25 sec. Users per second: 1447\n"
     ]
    },
    {
     "name": "stderr",
     "output_type": "stream",
     "text": [
      "[I 2023-12-11 18:00:04,961] Trial 256 finished with value: 0.04902746123772744 and parameters: {'topK': 29, 'alpha': 0.18734605312635783, 'beta': 0.17462908210781558}. Best is trial 195 with value: 0.049227550567598775.\n"
     ]
    },
    {
     "name": "stdout",
     "output_type": "stream",
     "text": [
      "EvaluatorHoldout: Processed 10407 (100.0%) in 7.13 sec. Users per second: 1460\n",
      "EvaluatorHoldout: Processed 10439 (100.0%) in 8.42 sec. Users per second: 1239\n",
      "EvaluatorHoldout: Processed 10486 (100.0%) in 7.12 sec. Users per second: 1473\n"
     ]
    },
    {
     "name": "stderr",
     "output_type": "stream",
     "text": [
      "[I 2023-12-11 18:00:47,290] Trial 257 finished with value: 0.04908556360854402 and parameters: {'topK': 31, 'alpha': 0.22587628357245138, 'beta': 0.1628493591292198}. Best is trial 195 with value: 0.049227550567598775.\n"
     ]
    },
    {
     "name": "stdout",
     "output_type": "stream",
     "text": [
      "EvaluatorHoldout: Processed 10407 (100.0%) in 6.82 sec. Users per second: 1527\n",
      "EvaluatorHoldout: Processed 10439 (100.0%) in 6.95 sec. Users per second: 1502\n",
      "EvaluatorHoldout: Processed 10486 (100.0%) in 7.03 sec. Users per second: 1491\n"
     ]
    },
    {
     "name": "stderr",
     "output_type": "stream",
     "text": [
      "[I 2023-12-11 18:01:24,333] Trial 258 finished with value: 0.03787423648519587 and parameters: {'topK': 5, 'alpha': 0.19888702707535505, 'beta': 0.18936233754578144}. Best is trial 195 with value: 0.049227550567598775.\n"
     ]
    },
    {
     "name": "stdout",
     "output_type": "stream",
     "text": [
      "EvaluatorHoldout: Processed 10407 (100.0%) in 7.00 sec. Users per second: 1486\n",
      "EvaluatorHoldout: Processed 10439 (100.0%) in 7.41 sec. Users per second: 1409\n",
      "EvaluatorHoldout: Processed 10486 (100.0%) in 7.19 sec. Users per second: 1458\n"
     ]
    },
    {
     "name": "stderr",
     "output_type": "stream",
     "text": [
      "[I 2023-12-11 18:02:05,082] Trial 259 finished with value: 0.0489436729437431 and parameters: {'topK': 27, 'alpha': 0.2176066693593168, 'beta': 0.18284922063270312}. Best is trial 195 with value: 0.049227550567598775.\n"
     ]
    },
    {
     "name": "stdout",
     "output_type": "stream",
     "text": [
      "EvaluatorHoldout: Processed 10407 (100.0%) in 7.25 sec. Users per second: 1435\n",
      "EvaluatorHoldout: Processed 10439 (100.0%) in 7.43 sec. Users per second: 1405\n",
      "EvaluatorHoldout: Processed 10486 (100.0%) in 7.29 sec. Users per second: 1439\n"
     ]
    },
    {
     "name": "stderr",
     "output_type": "stream",
     "text": [
      "[I 2023-12-11 18:02:47,380] Trial 260 finished with value: 0.048737217318321625 and parameters: {'topK': 34, 'alpha': 0.4542880367408263, 'beta': 0.20856277642904442}. Best is trial 195 with value: 0.049227550567598775.\n"
     ]
    },
    {
     "name": "stdout",
     "output_type": "stream",
     "text": [
      "EvaluatorHoldout: Processed 10407 (100.0%) in 7.14 sec. Users per second: 1458\n",
      "EvaluatorHoldout: Processed 10439 (100.0%) in 7.18 sec. Users per second: 1453\n",
      "EvaluatorHoldout: Processed 10486 (100.0%) in 7.18 sec. Users per second: 1460\n"
     ]
    },
    {
     "name": "stderr",
     "output_type": "stream",
     "text": [
      "[I 2023-12-11 18:03:29,812] Trial 261 finished with value: 0.04882044207195523 and parameters: {'topK': 38, 'alpha': 0.2475504356254066, 'beta': 0.1734703258887333}. Best is trial 195 with value: 0.049227550567598775.\n"
     ]
    },
    {
     "name": "stdout",
     "output_type": "stream",
     "text": [
      "EvaluatorHoldout: Processed 10407 (100.0%) in 7.13 sec. Users per second: 1460\n",
      "EvaluatorHoldout: Processed 10439 (100.0%) in 7.09 sec. Users per second: 1472\n",
      "EvaluatorHoldout: Processed 10486 (100.0%) in 7.26 sec. Users per second: 1445\n"
     ]
    },
    {
     "name": "stderr",
     "output_type": "stream",
     "text": [
      "[I 2023-12-11 18:04:10,765] Trial 262 finished with value: 0.0490733139121502 and parameters: {'topK': 29, 'alpha': 0.23213940475621886, 'beta': 0.2004208817230039}. Best is trial 195 with value: 0.049227550567598775.\n"
     ]
    },
    {
     "name": "stdout",
     "output_type": "stream",
     "text": [
      "EvaluatorHoldout: Processed 10407 (100.0%) in 7.09 sec. Users per second: 1468\n",
      "EvaluatorHoldout: Processed 10439 (100.0%) in 7.17 sec. Users per second: 1456\n",
      "EvaluatorHoldout: Processed 10486 (100.0%) in 7.26 sec. Users per second: 1444\n"
     ]
    },
    {
     "name": "stderr",
     "output_type": "stream",
     "text": [
      "[I 2023-12-11 18:04:51,963] Trial 263 finished with value: 0.04895200222860927 and parameters: {'topK': 31, 'alpha': 0.15870746657323262, 'beta': 0.15861769153201855}. Best is trial 195 with value: 0.049227550567598775.\n"
     ]
    },
    {
     "name": "stdout",
     "output_type": "stream",
     "text": [
      "EvaluatorHoldout: Processed 10407 (100.0%) in 7.11 sec. Users per second: 1464\n",
      "EvaluatorHoldout: Processed 10439 (100.0%) in 7.13 sec. Users per second: 1464\n",
      "EvaluatorHoldout: Processed 10486 (100.0%) in 7.15 sec. Users per second: 1466\n"
     ]
    },
    {
     "name": "stderr",
     "output_type": "stream",
     "text": [
      "[I 2023-12-11 18:05:33,694] Trial 264 finished with value: 0.048971612278642225 and parameters: {'topK': 35, 'alpha': 0.20075328874101575, 'beta': 0.1695399685995905}. Best is trial 195 with value: 0.049227550567598775.\n"
     ]
    },
    {
     "name": "stdout",
     "output_type": "stream",
     "text": [
      "EvaluatorHoldout: Processed 10407 (100.0%) in 7.28 sec. Users per second: 1429\n",
      "EvaluatorHoldout: Processed 10439 (100.0%) in 6.96 sec. Users per second: 1500\n",
      "EvaluatorHoldout: Processed 10486 (100.0%) in 6.99 sec. Users per second: 1500\n"
     ]
    },
    {
     "name": "stderr",
     "output_type": "stream",
     "text": [
      "[I 2023-12-11 18:06:11,869] Trial 265 finished with value: 0.04627812685871919 and parameters: {'topK': 10, 'alpha': 0.2695359667502662, 'beta': 0.15326619153190688}. Best is trial 195 with value: 0.049227550567598775.\n"
     ]
    },
    {
     "name": "stdout",
     "output_type": "stream",
     "text": [
      "EvaluatorHoldout: Processed 10407 (100.0%) in 7.08 sec. Users per second: 1469\n",
      "EvaluatorHoldout: Processed 10439 (100.0%) in 7.19 sec. Users per second: 1451\n",
      "EvaluatorHoldout: Processed 10486 (100.0%) in 7.07 sec. Users per second: 1482\n"
     ]
    },
    {
     "name": "stderr",
     "output_type": "stream",
     "text": [
      "[I 2023-12-11 18:06:52,243] Trial 266 finished with value: 0.04890794960655315 and parameters: {'topK': 26, 'alpha': 0.1798749686047126, 'beta': 0.17938804280862514}. Best is trial 195 with value: 0.049227550567598775.\n"
     ]
    },
    {
     "name": "stdout",
     "output_type": "stream",
     "text": [
      "EvaluatorHoldout: Processed 10407 (100.0%) in 7.82 sec. Users per second: 1331\n",
      "EvaluatorHoldout: Processed 10439 (100.0%) in 7.46 sec. Users per second: 1400\n",
      "EvaluatorHoldout: Processed 10486 (100.0%) in 7.38 sec. Users per second: 1421\n"
     ]
    },
    {
     "name": "stderr",
     "output_type": "stream",
     "text": [
      "[I 2023-12-11 18:07:34,962] Trial 267 finished with value: 0.04896743387460507 and parameters: {'topK': 33, 'alpha': 0.381452544262449, 'beta': 0.18929029812250256}. Best is trial 195 with value: 0.049227550567598775.\n"
     ]
    },
    {
     "name": "stdout",
     "output_type": "stream",
     "text": [
      "EvaluatorHoldout: Processed 10407 (100.0%) in 7.25 sec. Users per second: 1435\n",
      "EvaluatorHoldout: Processed 10439 (100.0%) in 7.24 sec. Users per second: 1442\n",
      "EvaluatorHoldout: Processed 10486 (100.0%) in 7.04 sec. Users per second: 1489\n"
     ]
    },
    {
     "name": "stderr",
     "output_type": "stream",
     "text": [
      "[I 2023-12-11 18:08:15,941] Trial 268 finished with value: 0.048959187322424345 and parameters: {'topK': 29, 'alpha': 0.2147952363229918, 'beta': 0.16607925537672383}. Best is trial 195 with value: 0.049227550567598775.\n"
     ]
    },
    {
     "name": "stdout",
     "output_type": "stream",
     "text": [
      "EvaluatorHoldout: Processed 10407 (100.0%) in 7.33 sec. Users per second: 1420\n",
      "EvaluatorHoldout: Processed 10439 (100.0%) in 7.18 sec. Users per second: 1453\n",
      "EvaluatorHoldout: Processed 10486 (100.0%) in 7.15 sec. Users per second: 1467\n"
     ]
    },
    {
     "name": "stderr",
     "output_type": "stream",
     "text": [
      "[I 2023-12-11 18:08:58,183] Trial 269 finished with value: 0.04884578587585977 and parameters: {'topK': 37, 'alpha': 0.34329492263640266, 'beta': 0.1769079673646289}. Best is trial 195 with value: 0.049227550567598775.\n"
     ]
    },
    {
     "name": "stdout",
     "output_type": "stream",
     "text": [
      "EvaluatorHoldout: Processed 10407 (100.0%) in 7.22 sec. Users per second: 1441\n",
      "EvaluatorHoldout: Processed 10439 (100.0%) in 7.12 sec. Users per second: 1467\n",
      "EvaluatorHoldout: Processed 10486 (100.0%) in 7.11 sec. Users per second: 1475\n"
     ]
    },
    {
     "name": "stderr",
     "output_type": "stream",
     "text": [
      "[I 2023-12-11 18:09:39,550] Trial 270 finished with value: 0.049076829614783546 and parameters: {'topK': 31, 'alpha': 0.25303230457236014, 'beta': 0.19624658027185882}. Best is trial 195 with value: 0.049227550567598775.\n"
     ]
    },
    {
     "name": "stdout",
     "output_type": "stream",
     "text": [
      "EvaluatorHoldout: Processed 10407 (100.0%) in 7.17 sec. Users per second: 1452\n",
      "EvaluatorHoldout: Processed 10439 (100.0%) in 7.15 sec. Users per second: 1460\n",
      "EvaluatorHoldout: Processed 10486 (100.0%) in 7.11 sec. Users per second: 1474\n"
     ]
    },
    {
     "name": "stderr",
     "output_type": "stream",
     "text": [
      "[I 2023-12-11 18:10:21,281] Trial 271 finished with value: 0.049048701184594555 and parameters: {'topK': 33, 'alpha': 0.23208611467956064, 'beta': 0.18362105734211015}. Best is trial 195 with value: 0.049227550567598775.\n"
     ]
    },
    {
     "name": "stdout",
     "output_type": "stream",
     "text": [
      "EvaluatorHoldout: Processed 10407 (100.0%) in 7.07 sec. Users per second: 1471\n",
      "EvaluatorHoldout: Processed 10439 (100.0%) in 7.15 sec. Users per second: 1460\n",
      "EvaluatorHoldout: Processed 10486 (100.0%) in 7.05 sec. Users per second: 1488\n"
     ]
    },
    {
     "name": "stderr",
     "output_type": "stream",
     "text": [
      "[I 2023-12-11 18:11:01,868] Trial 272 finished with value: 0.04887621393145317 and parameters: {'topK': 27, 'alpha': 0.20351027742434794, 'beta': 0.1700623871418485}. Best is trial 195 with value: 0.049227550567598775.\n"
     ]
    },
    {
     "name": "stdout",
     "output_type": "stream",
     "text": [
      "EvaluatorHoldout: Processed 10407 (100.0%) in 7.07 sec. Users per second: 1471\n",
      "EvaluatorHoldout: Processed 10439 (100.0%) in 7.15 sec. Users per second: 1461\n",
      "EvaluatorHoldout: Processed 10486 (100.0%) in 7.08 sec. Users per second: 1481\n"
     ]
    },
    {
     "name": "stderr",
     "output_type": "stream",
     "text": [
      "[I 2023-12-11 18:11:42,885] Trial 273 finished with value: 0.04914582196137309 and parameters: {'topK': 30, 'alpha': 0.22285742901454078, 'beta': 0.18596904093648148}. Best is trial 195 with value: 0.049227550567598775.\n"
     ]
    },
    {
     "name": "stdout",
     "output_type": "stream",
     "text": [
      "EvaluatorHoldout: Processed 10407 (100.0%) in 7.10 sec. Users per second: 1466\n",
      "EvaluatorHoldout: Processed 10439 (100.0%) in 7.17 sec. Users per second: 1457\n",
      "EvaluatorHoldout: Processed 10486 (100.0%) in 7.31 sec. Users per second: 1435\n"
     ]
    },
    {
     "name": "stderr",
     "output_type": "stream",
     "text": [
      "[I 2023-12-11 18:12:23,259] Trial 274 finished with value: 0.04862593210979196 and parameters: {'topK': 25, 'alpha': 0.05422231659578086, 'beta': 0.18949334349127245}. Best is trial 195 with value: 0.049227550567598775.\n"
     ]
    },
    {
     "name": "stdout",
     "output_type": "stream",
     "text": [
      "EvaluatorHoldout: Processed 10407 (100.0%) in 7.08 sec. Users per second: 1469\n",
      "EvaluatorHoldout: Processed 10439 (100.0%) in 7.83 sec. Users per second: 1333\n",
      "EvaluatorHoldout: Processed 10486 (100.0%) in 7.13 sec. Users per second: 1471\n"
     ]
    },
    {
     "name": "stderr",
     "output_type": "stream",
     "text": [
      "[I 2023-12-11 18:13:04,908] Trial 275 finished with value: 0.049064968596006266 and parameters: {'topK': 29, 'alpha': 0.24074120837341953, 'beta': 0.2041470028317687}. Best is trial 195 with value: 0.049227550567598775.\n"
     ]
    },
    {
     "name": "stdout",
     "output_type": "stream",
     "text": [
      "EvaluatorHoldout: Processed 10407 (100.0%) in 7.18 sec. Users per second: 1450\n",
      "EvaluatorHoldout: Processed 10439 (100.0%) in 7.21 sec. Users per second: 1447\n",
      "EvaluatorHoldout: Processed 10486 (100.0%) in 7.20 sec. Users per second: 1457\n"
     ]
    },
    {
     "name": "stderr",
     "output_type": "stream",
     "text": [
      "[I 2023-12-11 18:13:46,147] Trial 276 finished with value: 0.049102987569462735 and parameters: {'topK': 30, 'alpha': 0.2657540685997477, 'beta': 0.19291250196345336}. Best is trial 195 with value: 0.049227550567598775.\n"
     ]
    },
    {
     "name": "stdout",
     "output_type": "stream",
     "text": [
      "EvaluatorHoldout: Processed 10407 (100.0%) in 7.12 sec. Users per second: 1463\n",
      "EvaluatorHoldout: Processed 10439 (100.0%) in 7.06 sec. Users per second: 1478\n",
      "EvaluatorHoldout: Processed 10486 (100.0%) in 7.17 sec. Users per second: 1462\n"
     ]
    },
    {
     "name": "stderr",
     "output_type": "stream",
     "text": [
      "[I 2023-12-11 18:14:26,836] Trial 277 finished with value: 0.045521138798074574 and parameters: {'topK': 27, 'alpha': 0.796740144554746, 'beta': 0.1844281940874953}. Best is trial 195 with value: 0.049227550567598775.\n"
     ]
    },
    {
     "name": "stdout",
     "output_type": "stream",
     "text": [
      "EvaluatorHoldout: Processed 10407 (100.0%) in 7.23 sec. Users per second: 1439\n",
      "EvaluatorHoldout: Processed 10439 (100.0%) in 7.27 sec. Users per second: 1436\n",
      "EvaluatorHoldout: Processed 10486 (100.0%) in 7.26 sec. Users per second: 1445\n"
     ]
    },
    {
     "name": "stderr",
     "output_type": "stream",
     "text": [
      "[I 2023-12-11 18:15:08,371] Trial 278 finished with value: 0.04915059453338729 and parameters: {'topK': 31, 'alpha': 0.2256338298192619, 'beta': 0.17856175715176162}. Best is trial 195 with value: 0.049227550567598775.\n"
     ]
    },
    {
     "name": "stdout",
     "output_type": "stream",
     "text": [
      "EvaluatorHoldout: Processed 10407 (100.0%) in 7.06 sec. Users per second: 1475\n",
      "EvaluatorHoldout: Processed 10439 (100.0%) in 7.27 sec. Users per second: 1435\n",
      "EvaluatorHoldout: Processed 10486 (100.0%) in 7.28 sec. Users per second: 1441\n"
     ]
    },
    {
     "name": "stderr",
     "output_type": "stream",
     "text": [
      "[I 2023-12-11 18:15:49,816] Trial 279 finished with value: 0.04914775936353268 and parameters: {'topK': 32, 'alpha': 0.22482210657565724, 'beta': 0.1797792138101636}. Best is trial 195 with value: 0.049227550567598775.\n"
     ]
    },
    {
     "name": "stdout",
     "output_type": "stream",
     "text": [
      "EvaluatorHoldout: Processed 10407 (100.0%) in 7.15 sec. Users per second: 1455\n",
      "EvaluatorHoldout: Processed 10439 (100.0%) in 7.34 sec. Users per second: 1422\n",
      "EvaluatorHoldout: Processed 10486 (100.0%) in 7.26 sec. Users per second: 1443\n"
     ]
    },
    {
     "name": "stderr",
     "output_type": "stream",
     "text": [
      "[I 2023-12-11 18:16:31,845] Trial 280 finished with value: 0.048972629782379234 and parameters: {'topK': 35, 'alpha': 0.22563150537429028, 'beta': 0.179626089964775}. Best is trial 195 with value: 0.049227550567598775.\n"
     ]
    },
    {
     "name": "stdout",
     "output_type": "stream",
     "text": [
      "EvaluatorHoldout: Processed 10407 (100.0%) in 7.14 sec. Users per second: 1457\n",
      "EvaluatorHoldout: Processed 10439 (100.0%) in 7.18 sec. Users per second: 1454\n",
      "EvaluatorHoldout: Processed 10486 (100.0%) in 7.19 sec. Users per second: 1458\n"
     ]
    },
    {
     "name": "stderr",
     "output_type": "stream",
     "text": [
      "[I 2023-12-11 18:17:13,546] Trial 281 finished with value: 0.0490555279731285 and parameters: {'topK': 33, 'alpha': 0.18639744876416509, 'beta': 0.18410806287250137}. Best is trial 195 with value: 0.049227550567598775.\n"
     ]
    },
    {
     "name": "stdout",
     "output_type": "stream",
     "text": [
      "EvaluatorHoldout: Processed 10407 (100.0%) in 7.13 sec. Users per second: 1460\n",
      "EvaluatorHoldout: Processed 10439 (100.0%) in 7.21 sec. Users per second: 1448\n",
      "EvaluatorHoldout: Processed 10486 (100.0%) in 7.14 sec. Users per second: 1468\n"
     ]
    },
    {
     "name": "stderr",
     "output_type": "stream",
     "text": [
      "[I 2023-12-11 18:17:55,144] Trial 282 finished with value: 0.04909184296107022 and parameters: {'topK': 32, 'alpha': 0.24538064614559288, 'beta': 0.17719490761510762}. Best is trial 195 with value: 0.049227550567598775.\n"
     ]
    },
    {
     "name": "stdout",
     "output_type": "stream",
     "text": [
      "EvaluatorHoldout: Processed 10407 (100.0%) in 7.07 sec. Users per second: 1473\n",
      "EvaluatorHoldout: Processed 10439 (100.0%) in 7.52 sec. Users per second: 1388\n",
      "EvaluatorHoldout: Processed 10486 (100.0%) in 7.21 sec. Users per second: 1455\n"
     ]
    },
    {
     "name": "stderr",
     "output_type": "stream",
     "text": [
      "[I 2023-12-11 18:18:36,933] Trial 283 finished with value: 0.048771836643979015 and parameters: {'topK': 35, 'alpha': 0.21927272967138717, 'beta': 0.12642832263235582}. Best is trial 195 with value: 0.049227550567598775.\n"
     ]
    },
    {
     "name": "stdout",
     "output_type": "stream",
     "text": [
      "EvaluatorHoldout: Processed 10407 (100.0%) in 7.44 sec. Users per second: 1398\n",
      "EvaluatorHoldout: Processed 10439 (100.0%) in 7.22 sec. Users per second: 1446\n",
      "EvaluatorHoldout: Processed 10486 (100.0%) in 7.22 sec. Users per second: 1452\n"
     ]
    },
    {
     "name": "stderr",
     "output_type": "stream",
     "text": [
      "[I 2023-12-11 18:19:18,456] Trial 284 finished with value: 0.04889503929958986 and parameters: {'topK': 31, 'alpha': 0.13184125363355395, 'beta': 0.17526713647261757}. Best is trial 195 with value: 0.049227550567598775.\n"
     ]
    },
    {
     "name": "stdout",
     "output_type": "stream",
     "text": [
      "EvaluatorHoldout: Processed 10407 (100.0%) in 7.16 sec. Users per second: 1454\n",
      "EvaluatorHoldout: Processed 10439 (100.0%) in 7.27 sec. Users per second: 1437\n",
      "EvaluatorHoldout: Processed 10486 (100.0%) in 7.27 sec. Users per second: 1443\n"
     ]
    },
    {
     "name": "stderr",
     "output_type": "stream",
     "text": [
      "[I 2023-12-11 18:19:59,403] Trial 285 finished with value: 0.04901084547321391 and parameters: {'topK': 28, 'alpha': 0.23193771753699383, 'beta': 0.18768939313214927}. Best is trial 195 with value: 0.049227550567598775.\n"
     ]
    },
    {
     "name": "stdout",
     "output_type": "stream",
     "text": [
      "EvaluatorHoldout: Processed 10407 (100.0%) in 7.75 sec. Users per second: 1343\n",
      "EvaluatorHoldout: Processed 10439 (100.0%) in 7.24 sec. Users per second: 1442\n",
      "EvaluatorHoldout: Processed 10486 (100.0%) in 7.15 sec. Users per second: 1467\n"
     ]
    },
    {
     "name": "stderr",
     "output_type": "stream",
     "text": [
      "[I 2023-12-11 18:20:40,360] Trial 286 finished with value: 0.0488487757811086 and parameters: {'topK': 24, 'alpha': 0.1713888754181568, 'beta': 0.1808443409295074}. Best is trial 195 with value: 0.049227550567598775.\n"
     ]
    },
    {
     "name": "stdout",
     "output_type": "stream",
     "text": [
      "EvaluatorHoldout: Processed 10407 (100.0%) in 7.10 sec. Users per second: 1467\n",
      "EvaluatorHoldout: Processed 10439 (100.0%) in 7.03 sec. Users per second: 1485\n",
      "EvaluatorHoldout: Processed 10486 (100.0%) in 7.00 sec. Users per second: 1498\n"
     ]
    },
    {
     "name": "stderr",
     "output_type": "stream",
     "text": [
      "[I 2023-12-11 18:21:20,830] Trial 287 finished with value: 0.04757441261785068 and parameters: {'topK': 32, 'alpha': 0.1932387876501983, 'beta': 0.002648901476971638}. Best is trial 195 with value: 0.049227550567598775.\n"
     ]
    },
    {
     "name": "stdout",
     "output_type": "stream",
     "text": [
      "EvaluatorHoldout: Processed 10407 (100.0%) in 7.03 sec. Users per second: 1481\n",
      "EvaluatorHoldout: Processed 10439 (100.0%) in 7.24 sec. Users per second: 1441\n",
      "EvaluatorHoldout: Processed 10486 (100.0%) in 7.13 sec. Users per second: 1471\n"
     ]
    },
    {
     "name": "stderr",
     "output_type": "stream",
     "text": [
      "[I 2023-12-11 18:22:01,681] Trial 288 finished with value: 0.0490248105752891 and parameters: {'topK': 29, 'alpha': 0.22517921093324295, 'beta': 0.17279528621312815}. Best is trial 195 with value: 0.049227550567598775.\n"
     ]
    },
    {
     "name": "stdout",
     "output_type": "stream",
     "text": [
      "EvaluatorHoldout: Processed 10407 (100.0%) in 7.42 sec. Users per second: 1403\n",
      "EvaluatorHoldout: Processed 10439 (100.0%) in 7.30 sec. Users per second: 1429\n",
      "EvaluatorHoldout: Processed 10486 (100.0%) in 7.37 sec. Users per second: 1423\n"
     ]
    },
    {
     "name": "stderr",
     "output_type": "stream",
     "text": [
      "[I 2023-12-11 18:22:46,456] Trial 289 finished with value: 0.048220387733933355 and parameters: {'topK': 51, 'alpha': 0.49391164011659416, 'beta': 0.18573692403966022}. Best is trial 195 with value: 0.049227550567598775.\n"
     ]
    },
    {
     "name": "stdout",
     "output_type": "stream",
     "text": [
      "EvaluatorHoldout: Processed 10407 (100.0%) in 7.18 sec. Users per second: 1450\n",
      "EvaluatorHoldout: Processed 10439 (100.0%) in 7.33 sec. Users per second: 1424\n",
      "EvaluatorHoldout: Processed 10486 (100.0%) in 7.24 sec. Users per second: 1448\n"
     ]
    },
    {
     "name": "stderr",
     "output_type": "stream",
     "text": [
      "[I 2023-12-11 18:23:28,753] Trial 290 finished with value: 0.048865071714466045 and parameters: {'topK': 37, 'alpha': 0.2536216307026152, 'beta': 0.178700094503339}. Best is trial 195 with value: 0.049227550567598775.\n"
     ]
    },
    {
     "name": "stdout",
     "output_type": "stream",
     "text": [
      "EvaluatorHoldout: Processed 10407 (100.0%) in 6.99 sec. Users per second: 1489\n",
      "EvaluatorHoldout: Processed 10439 (100.0%) in 7.13 sec. Users per second: 1465\n",
      "EvaluatorHoldout: Processed 10486 (100.0%) in 7.03 sec. Users per second: 1491\n"
     ]
    },
    {
     "name": "stderr",
     "output_type": "stream",
     "text": [
      "[I 2023-12-11 18:24:09,525] Trial 291 finished with value: 0.04817889577381635 and parameters: {'topK': 34, 'alpha': 0.21144751374024898, 'beta': 0.03486097316949888}. Best is trial 195 with value: 0.049227550567598775.\n"
     ]
    },
    {
     "name": "stdout",
     "output_type": "stream",
     "text": [
      "EvaluatorHoldout: Processed 10407 (100.0%) in 7.15 sec. Users per second: 1455\n",
      "EvaluatorHoldout: Processed 10439 (100.0%) in 7.29 sec. Users per second: 1432\n",
      "EvaluatorHoldout: Processed 10486 (100.0%) in 7.27 sec. Users per second: 1442\n"
     ]
    },
    {
     "name": "stderr",
     "output_type": "stream",
     "text": [
      "[I 2023-12-11 18:24:51,347] Trial 292 finished with value: 0.048684257940341306 and parameters: {'topK': 31, 'alpha': 0.24322208852559327, 'beta': 0.2443890923500634}. Best is trial 195 with value: 0.049227550567598775.\n"
     ]
    },
    {
     "name": "stdout",
     "output_type": "stream",
     "text": [
      "EvaluatorHoldout: Processed 10407 (100.0%) in 7.09 sec. Users per second: 1469\n",
      "EvaluatorHoldout: Processed 10439 (100.0%) in 7.19 sec. Users per second: 1451\n",
      "EvaluatorHoldout: Processed 10486 (100.0%) in 7.15 sec. Users per second: 1467\n"
     ]
    },
    {
     "name": "stderr",
     "output_type": "stream",
     "text": [
      "[I 2023-12-11 18:25:31,906] Trial 293 finished with value: 0.04883070489301237 and parameters: {'topK': 27, 'alpha': 0.1948279253365122, 'beta': 0.16249657541740528}. Best is trial 195 with value: 0.049227550567598775.\n"
     ]
    },
    {
     "name": "stdout",
     "output_type": "stream",
     "text": [
      "EvaluatorHoldout: Processed 10407 (100.0%) in 7.32 sec. Users per second: 1421\n",
      "EvaluatorHoldout: Processed 10439 (100.0%) in 7.24 sec. Users per second: 1441\n",
      "EvaluatorHoldout: Processed 10486 (100.0%) in 7.32 sec. Users per second: 1432\n"
     ]
    },
    {
     "name": "stderr",
     "output_type": "stream",
     "text": [
      "[I 2023-12-11 18:26:13,928] Trial 294 finished with value: 0.04813222780323684 and parameters: {'topK': 32, 'alpha': 0.21934269142859003, 'beta': 0.29839192414151006}. Best is trial 195 with value: 0.049227550567598775.\n"
     ]
    },
    {
     "name": "stdout",
     "output_type": "stream",
     "text": [
      "EvaluatorHoldout: Processed 10407 (100.0%) in 7.18 sec. Users per second: 1449\n",
      "EvaluatorHoldout: Processed 10439 (100.0%) in 7.09 sec. Users per second: 1473\n",
      "EvaluatorHoldout: Processed 10486 (100.0%) in 7.10 sec. Users per second: 1477\n"
     ]
    },
    {
     "name": "stderr",
     "output_type": "stream",
     "text": [
      "[I 2023-12-11 18:26:54,658] Trial 295 finished with value: 0.04900599292290408 and parameters: {'topK': 29, 'alpha': 0.23168832401578246, 'beta': 0.17299827192798117}. Best is trial 195 with value: 0.049227550567598775.\n"
     ]
    },
    {
     "name": "stdout",
     "output_type": "stream",
     "text": [
      "EvaluatorHoldout: Processed 10407 (100.0%) in 7.13 sec. Users per second: 1459\n",
      "EvaluatorHoldout: Processed 10439 (100.0%) in 7.15 sec. Users per second: 1460\n",
      "EvaluatorHoldout: Processed 10486 (100.0%) in 7.24 sec. Users per second: 1449\n"
     ]
    },
    {
     "name": "stderr",
     "output_type": "stream",
     "text": [
      "[I 2023-12-11 18:27:36,619] Trial 296 finished with value: 0.04880789536000626 and parameters: {'topK': 35, 'alpha': 0.4024345116945237, 'beta': 0.19051741568642605}. Best is trial 195 with value: 0.049227550567598775.\n"
     ]
    },
    {
     "name": "stdout",
     "output_type": "stream",
     "text": [
      "EvaluatorHoldout: Processed 10407 (100.0%) in 7.17 sec. Users per second: 1451\n",
      "EvaluatorHoldout: Processed 10439 (100.0%) in 7.10 sec. Users per second: 1471\n",
      "EvaluatorHoldout: Processed 10486 (100.0%) in 8.20 sec. Users per second: 1279\n"
     ]
    },
    {
     "name": "stderr",
     "output_type": "stream",
     "text": [
      "[I 2023-12-11 18:28:18,859] Trial 297 finished with value: 0.048908769109615106 and parameters: {'topK': 31, 'alpha': 0.3677245861978179, 'beta': 0.21739667057285186}. Best is trial 195 with value: 0.049227550567598775.\n"
     ]
    },
    {
     "name": "stdout",
     "output_type": "stream",
     "text": [
      "EvaluatorHoldout: Processed 10407 (100.0%) in 8.74 sec. Users per second: 1191\n",
      "EvaluatorHoldout: Processed 10439 (100.0%) in 7.75 sec. Users per second: 1347\n",
      "EvaluatorHoldout: Processed 10486 (100.0%) in 9.12 sec. Users per second: 1149\n"
     ]
    },
    {
     "name": "stderr",
     "output_type": "stream",
     "text": [
      "[I 2023-12-11 18:29:05,230] Trial 298 finished with value: 0.049023480565400644 and parameters: {'topK': 33, 'alpha': 0.26116408234220817, 'beta': 0.18214375202730246}. Best is trial 195 with value: 0.049227550567598775.\n"
     ]
    },
    {
     "name": "stdout",
     "output_type": "stream",
     "text": [
      "EvaluatorHoldout: Processed 10407 (100.0%) in 7.41 sec. Users per second: 1404\n",
      "EvaluatorHoldout: Processed 10439 (100.0%) in 7.53 sec. Users per second: 1387\n",
      "EvaluatorHoldout: Processed 10486 (100.0%) in 8.16 sec. Users per second: 1285\n"
     ]
    },
    {
     "name": "stderr",
     "output_type": "stream",
     "text": [
      "[I 2023-12-11 18:29:47,524] Trial 299 finished with value: 0.048933752908832395 and parameters: {'topK': 27, 'alpha': 0.20612431803754463, 'beta': 0.17372287047509619}. Best is trial 195 with value: 0.049227550567598775.\n"
     ]
    },
    {
     "name": "stdout",
     "output_type": "stream",
     "text": [
      "EvaluatorHoldout: Processed 10407 (100.0%) in 7.47 sec. Users per second: 1393\n",
      "EvaluatorHoldout: Processed 10439 (100.0%) in 7.13 sec. Users per second: 1463\n",
      "EvaluatorHoldout: Processed 10486 (100.0%) in 7.10 sec. Users per second: 1477\n"
     ]
    },
    {
     "name": "stderr",
     "output_type": "stream",
     "text": [
      "[I 2023-12-11 18:30:28,548] Trial 300 finished with value: 0.04899021302424531 and parameters: {'topK': 29, 'alpha': 0.15671411050139367, 'beta': 0.19852595159287675}. Best is trial 195 with value: 0.049227550567598775.\n"
     ]
    },
    {
     "name": "stdout",
     "output_type": "stream",
     "text": [
      "EvaluatorHoldout: Processed 10407 (100.0%) in 7.09 sec. Users per second: 1468\n",
      "EvaluatorHoldout: Processed 10439 (100.0%) in 7.67 sec. Users per second: 1360\n",
      "EvaluatorHoldout: Processed 10486 (100.0%) in 7.11 sec. Users per second: 1475\n"
     ]
    },
    {
     "name": "stderr",
     "output_type": "stream",
     "text": [
      "[I 2023-12-11 18:31:09,182] Trial 301 finished with value: 0.04886116214862679 and parameters: {'topK': 25, 'alpha': 0.43893029182349924, 'beta': 0.18647412781525616}. Best is trial 195 with value: 0.049227550567598775.\n"
     ]
    },
    {
     "name": "stdout",
     "output_type": "stream",
     "text": [
      "EvaluatorHoldout: Processed 10407 (100.0%) in 9.12 sec. Users per second: 1141\n",
      "EvaluatorHoldout: Processed 10439 (100.0%) in 6.94 sec. Users per second: 1505\n",
      "EvaluatorHoldout: Processed 10486 (100.0%) in 7.15 sec. Users per second: 1467\n"
     ]
    },
    {
     "name": "stderr",
     "output_type": "stream",
     "text": [
      "[I 2023-12-11 18:31:51,785] Trial 302 finished with value: 0.04901695673747838 and parameters: {'topK': 31, 'alpha': 0.17797338926043582, 'beta': 0.16590874094891414}. Best is trial 195 with value: 0.049227550567598775.\n"
     ]
    },
    {
     "name": "stdout",
     "output_type": "stream",
     "text": [
      "EvaluatorHoldout: Processed 10407 (100.0%) in 8.36 sec. Users per second: 1245\n",
      "EvaluatorHoldout: Processed 10439 (100.0%) in 7.01 sec. Users per second: 1489\n",
      "EvaluatorHoldout: Processed 10486 (100.0%) in 7.29 sec. Users per second: 1439\n"
     ]
    },
    {
     "name": "stderr",
     "output_type": "stream",
     "text": [
      "[I 2023-12-11 18:32:34,368] Trial 303 finished with value: 0.049032617122890094 and parameters: {'topK': 34, 'alpha': 0.23848189577234177, 'beta': 0.17796933114541924}. Best is trial 195 with value: 0.049227550567598775.\n"
     ]
    },
    {
     "name": "stdout",
     "output_type": "stream",
     "text": [
      "EvaluatorHoldout: Processed 10407 (100.0%) in 7.46 sec. Users per second: 1396\n",
      "EvaluatorHoldout: Processed 10439 (100.0%) in 7.12 sec. Users per second: 1466\n",
      "EvaluatorHoldout: Processed 10486 (100.0%) in 7.25 sec. Users per second: 1447\n"
     ]
    },
    {
     "name": "stderr",
     "output_type": "stream",
     "text": [
      "[I 2023-12-11 18:33:16,712] Trial 304 finished with value: 0.04888621809126959 and parameters: {'topK': 38, 'alpha': 0.3932073434309436, 'beta': 0.1603651662359694}. Best is trial 195 with value: 0.049227550567598775.\n"
     ]
    },
    {
     "name": "stdout",
     "output_type": "stream",
     "text": [
      "EvaluatorHoldout: Processed 10407 (100.0%) in 7.09 sec. Users per second: 1468\n",
      "EvaluatorHoldout: Processed 10439 (100.0%) in 7.08 sec. Users per second: 1475\n",
      "EvaluatorHoldout: Processed 10486 (100.0%) in 7.18 sec. Users per second: 1461\n"
     ]
    },
    {
     "name": "stderr",
     "output_type": "stream",
     "text": [
      "[I 2023-12-11 18:33:57,441] Trial 305 finished with value: 0.04905813014695209 and parameters: {'topK': 29, 'alpha': 0.21656848611323495, 'beta': 0.1935316863608956}. Best is trial 195 with value: 0.049227550567598775.\n"
     ]
    },
    {
     "name": "stdout",
     "output_type": "stream",
     "text": [
      "EvaluatorHoldout: Processed 10407 (100.0%) in 7.02 sec. Users per second: 1483\n",
      "EvaluatorHoldout: Processed 10439 (100.0%) in 7.24 sec. Users per second: 1442\n",
      "EvaluatorHoldout: Processed 10486 (100.0%) in 7.40 sec. Users per second: 1418\n"
     ]
    },
    {
     "name": "stderr",
     "output_type": "stream",
     "text": [
      "[I 2023-12-11 18:34:38,833] Trial 306 finished with value: 0.04898084598210034 and parameters: {'topK': 32, 'alpha': 0.1938944895591786, 'beta': 0.1503795171322127}. Best is trial 195 with value: 0.049227550567598775.\n"
     ]
    },
    {
     "name": "stdout",
     "output_type": "stream",
     "text": [
      "EvaluatorHoldout: Processed 10407 (100.0%) in 8.15 sec. Users per second: 1277\n",
      "EvaluatorHoldout: Processed 10439 (100.0%) in 8.47 sec. Users per second: 1232\n",
      "EvaluatorHoldout: Processed 10486 (100.0%) in 7.77 sec. Users per second: 1350\n"
     ]
    },
    {
     "name": "stderr",
     "output_type": "stream",
     "text": [
      "[I 2023-12-11 18:35:30,702] Trial 307 finished with value: 0.04630817746041108 and parameters: {'topK': 89, 'alpha': 0.2306155351705854, 'beta': 0.18168296158347133}. Best is trial 195 with value: 0.049227550567598775.\n"
     ]
    },
    {
     "name": "stdout",
     "output_type": "stream",
     "text": [
      "EvaluatorHoldout: Processed 10407 (100.0%) in 7.04 sec. Users per second: 1479\n",
      "EvaluatorHoldout: Processed 10439 (100.0%) in 7.07 sec. Users per second: 1477\n",
      "EvaluatorHoldout: Processed 10486 (100.0%) in 7.18 sec. Users per second: 1461\n"
     ]
    },
    {
     "name": "stderr",
     "output_type": "stream",
     "text": [
      "[I 2023-12-11 18:36:11,968] Trial 308 finished with value: 0.0490626335940828 and parameters: {'topK': 35, 'alpha': 0.2506659692067103, 'beta': 0.17128834353369746}. Best is trial 195 with value: 0.049227550567598775.\n"
     ]
    },
    {
     "name": "stdout",
     "output_type": "stream",
     "text": [
      "EvaluatorHoldout: Processed 10407 (100.0%) in 7.46 sec. Users per second: 1394\n",
      "EvaluatorHoldout: Processed 10439 (100.0%) in 7.93 sec. Users per second: 1317\n",
      "EvaluatorHoldout: Processed 10486 (100.0%) in 7.44 sec. Users per second: 1409\n"
     ]
    },
    {
     "name": "stderr",
     "output_type": "stream",
     "text": [
      "[I 2023-12-11 18:36:54,536] Trial 309 finished with value: 0.04845596516439144 and parameters: {'topK': 30, 'alpha': 0.2729549016023527, 'beta': 0.2812641805245297}. Best is trial 195 with value: 0.049227550567598775.\n"
     ]
    },
    {
     "name": "stdout",
     "output_type": "stream",
     "text": [
      "EvaluatorHoldout: Processed 10407 (100.0%) in 7.19 sec. Users per second: 1448\n",
      "EvaluatorHoldout: Processed 10439 (100.0%) in 7.09 sec. Users per second: 1473\n",
      "EvaluatorHoldout: Processed 10486 (100.0%) in 7.35 sec. Users per second: 1426\n"
     ]
    },
    {
     "name": "stderr",
     "output_type": "stream",
     "text": [
      "[I 2023-12-11 18:37:35,256] Trial 310 finished with value: 0.04902274049864141 and parameters: {'topK': 27, 'alpha': 0.20583637688675233, 'beta': 0.18822588158395073}. Best is trial 195 with value: 0.049227550567598775.\n"
     ]
    },
    {
     "name": "stdout",
     "output_type": "stream",
     "text": [
      "EvaluatorHoldout: Processed 10407 (100.0%) in 7.19 sec. Users per second: 1448\n",
      "EvaluatorHoldout: Processed 10439 (100.0%) in 7.34 sec. Users per second: 1423\n",
      "EvaluatorHoldout: Processed 10486 (100.0%) in 8.29 sec. Users per second: 1266\n"
     ]
    },
    {
     "name": "stderr",
     "output_type": "stream",
     "text": [
      "[I 2023-12-11 18:38:17,931] Trial 311 finished with value: 0.049023900931520425 and parameters: {'topK': 33, 'alpha': 0.18388949369176, 'beta': 0.17823390877837555}. Best is trial 195 with value: 0.049227550567598775.\n"
     ]
    },
    {
     "name": "stdout",
     "output_type": "stream",
     "text": [
      "EvaluatorHoldout: Processed 10407 (100.0%) in 6.93 sec. Users per second: 1501\n",
      "EvaluatorHoldout: Processed 10439 (100.0%) in 6.99 sec. Users per second: 1493\n",
      "EvaluatorHoldout: Processed 10486 (100.0%) in 6.99 sec. Users per second: 1500\n"
     ]
    },
    {
     "name": "stderr",
     "output_type": "stream",
     "text": [
      "[I 2023-12-11 18:38:57,153] Trial 312 finished with value: 0.04888923645532315 and parameters: {'topK': 23, 'alpha': 0.142705631279082, 'beta': 0.16850317564292044}. Best is trial 195 with value: 0.049227550567598775.\n"
     ]
    },
    {
     "name": "stdout",
     "output_type": "stream",
     "text": [
      "EvaluatorHoldout: Processed 10407 (100.0%) in 7.27 sec. Users per second: 1432\n",
      "EvaluatorHoldout: Processed 10439 (100.0%) in 7.00 sec. Users per second: 1491\n",
      "EvaluatorHoldout: Processed 10486 (100.0%) in 7.06 sec. Users per second: 1485\n"
     ]
    },
    {
     "name": "stderr",
     "output_type": "stream",
     "text": [
      "[I 2023-12-11 18:39:37,895] Trial 313 finished with value: 0.04856190792338059 and parameters: {'topK': 31, 'alpha': 0.030589639391126577, 'beta': 0.17479954276527665}. Best is trial 195 with value: 0.049227550567598775.\n"
     ]
    },
    {
     "name": "stdout",
     "output_type": "stream",
     "text": [
      "EvaluatorHoldout: Processed 10407 (100.0%) in 7.03 sec. Users per second: 1480\n",
      "EvaluatorHoldout: Processed 10439 (100.0%) in 7.49 sec. Users per second: 1393\n",
      "EvaluatorHoldout: Processed 10486 (100.0%) in 6.96 sec. Users per second: 1506\n"
     ]
    },
    {
     "name": "stderr",
     "output_type": "stream",
     "text": [
      "[I 2023-12-11 18:40:19,219] Trial 314 finished with value: 0.04858062513349823 and parameters: {'topK': 36, 'alpha': 0.2200464169132726, 'beta': 0.10776053995992516}. Best is trial 195 with value: 0.049227550567598775.\n"
     ]
    },
    {
     "name": "stdout",
     "output_type": "stream",
     "text": [
      "EvaluatorHoldout: Processed 10407 (100.0%) in 7.17 sec. Users per second: 1452\n",
      "EvaluatorHoldout: Processed 10439 (100.0%) in 7.91 sec. Users per second: 1320\n",
      "EvaluatorHoldout: Processed 10486 (100.0%) in 7.25 sec. Users per second: 1446\n"
     ]
    },
    {
     "name": "stderr",
     "output_type": "stream",
     "text": [
      "[I 2023-12-11 18:41:00,901] Trial 315 finished with value: 0.04916558948282654 and parameters: {'topK': 28, 'alpha': 0.3538339750626419, 'beta': 0.18277145155515764}. Best is trial 195 with value: 0.049227550567598775.\n"
     ]
    },
    {
     "name": "stdout",
     "output_type": "stream",
     "text": [
      "EvaluatorHoldout: Processed 10407 (100.0%) in 7.01 sec. Users per second: 1484\n",
      "EvaluatorHoldout: Processed 10439 (100.0%) in 7.02 sec. Users per second: 1487\n",
      "EvaluatorHoldout: Processed 10486 (100.0%) in 7.73 sec. Users per second: 1357\n"
     ]
    },
    {
     "name": "stderr",
     "output_type": "stream",
     "text": [
      "[I 2023-12-11 18:41:41,744] Trial 316 finished with value: 0.048985892222787895 and parameters: {'topK': 28, 'alpha': 0.36658193978819614, 'beta': 0.15502157895325572}. Best is trial 195 with value: 0.049227550567598775.\n"
     ]
    },
    {
     "name": "stdout",
     "output_type": "stream",
     "text": [
      "EvaluatorHoldout: Processed 10407 (100.0%) in 7.10 sec. Users per second: 1465\n",
      "EvaluatorHoldout: Processed 10439 (100.0%) in 7.26 sec. Users per second: 1437\n",
      "EvaluatorHoldout: Processed 10486 (100.0%) in 7.87 sec. Users per second: 1332\n"
     ]
    },
    {
     "name": "stderr",
     "output_type": "stream",
     "text": [
      "[I 2023-12-11 18:42:23,108] Trial 317 finished with value: 0.04907247896909839 and parameters: {'topK': 26, 'alpha': 0.3585060778891943, 'beta': 0.18262628186252663}. Best is trial 195 with value: 0.049227550567598775.\n"
     ]
    },
    {
     "name": "stdout",
     "output_type": "stream",
     "text": [
      "EvaluatorHoldout: Processed 10407 (100.0%) in 7.08 sec. Users per second: 1470\n",
      "EvaluatorHoldout: Processed 10439 (100.0%) in 7.96 sec. Users per second: 1311\n",
      "EvaluatorHoldout: Processed 10486 (100.0%) in 7.17 sec. Users per second: 1463\n"
     ]
    },
    {
     "name": "stderr",
     "output_type": "stream",
     "text": [
      "[I 2023-12-11 18:43:04,867] Trial 318 finished with value: 0.04901158694608262 and parameters: {'topK': 32, 'alpha': 0.27614822367670455, 'beta': 0.16337017068335627}. Best is trial 195 with value: 0.049227550567598775.\n"
     ]
    },
    {
     "name": "stdout",
     "output_type": "stream",
     "text": [
      "EvaluatorHoldout: Processed 10407 (100.0%) in 6.82 sec. Users per second: 1527\n",
      "EvaluatorHoldout: Processed 10439 (100.0%) in 6.86 sec. Users per second: 1521\n",
      "EvaluatorHoldout: Processed 10486 (100.0%) in 6.86 sec. Users per second: 1529\n"
     ]
    },
    {
     "name": "stderr",
     "output_type": "stream",
     "text": [
      "[I 2023-12-11 18:43:44,371] Trial 319 finished with value: 0.04907544359010047 and parameters: {'topK': 30, 'alpha': 0.24659203604421434, 'beta': 0.17149076102538005}. Best is trial 195 with value: 0.049227550567598775.\n"
     ]
    },
    {
     "name": "stdout",
     "output_type": "stream",
     "text": [
      "EvaluatorHoldout: Processed 10407 (100.0%) in 6.85 sec. Users per second: 1520\n",
      "EvaluatorHoldout: Processed 10439 (100.0%) in 6.74 sec. Users per second: 1550\n",
      "EvaluatorHoldout: Processed 10486 (100.0%) in 6.79 sec. Users per second: 1545\n"
     ]
    },
    {
     "name": "stderr",
     "output_type": "stream",
     "text": [
      "[I 2023-12-11 18:44:24,162] Trial 320 finished with value: 0.04899819849902896 and parameters: {'topK': 34, 'alpha': 0.3108743130169728, 'beta': 0.18453977680123593}. Best is trial 195 with value: 0.049227550567598775.\n"
     ]
    },
    {
     "name": "stdout",
     "output_type": "stream",
     "text": [
      "EvaluatorHoldout: Processed 10407 (100.0%) in 6.65 sec. Users per second: 1566\n",
      "EvaluatorHoldout: Processed 10439 (100.0%) in 6.84 sec. Users per second: 1527\n",
      "EvaluatorHoldout: Processed 10486 (100.0%) in 6.75 sec. Users per second: 1555\n"
     ]
    },
    {
     "name": "stderr",
     "output_type": "stream",
     "text": [
      "[I 2023-12-11 18:45:02,864] Trial 321 finished with value: 0.04878846228110723 and parameters: {'topK': 28, 'alpha': 0.10980234232921623, 'beta': 0.17785916379149266}. Best is trial 195 with value: 0.049227550567598775.\n"
     ]
    },
    {
     "name": "stdout",
     "output_type": "stream",
     "text": [
      "EvaluatorHoldout: Processed 10407 (100.0%) in 6.76 sec. Users per second: 1540\n",
      "EvaluatorHoldout: Processed 10439 (100.0%) in 6.80 sec. Users per second: 1536\n",
      "EvaluatorHoldout: Processed 10486 (100.0%) in 6.78 sec. Users per second: 1547\n"
     ]
    },
    {
     "name": "stderr",
     "output_type": "stream",
     "text": [
      "[I 2023-12-11 18:45:42,278] Trial 322 finished with value: 0.049087627021379365 and parameters: {'topK': 33, 'alpha': 0.2593939802907618, 'beta': 0.16591030946388247}. Best is trial 195 with value: 0.049227550567598775.\n"
     ]
    },
    {
     "name": "stdout",
     "output_type": "stream",
     "text": [
      "EvaluatorHoldout: Processed 10407 (100.0%) in 6.70 sec. Users per second: 1552\n",
      "EvaluatorHoldout: Processed 10439 (100.0%) in 6.79 sec. Users per second: 1538\n",
      "EvaluatorHoldout: Processed 10486 (100.0%) in 6.76 sec. Users per second: 1550\n"
     ]
    },
    {
     "name": "stderr",
     "output_type": "stream",
     "text": [
      "[I 2023-12-11 18:46:21,340] Trial 323 finished with value: 0.04908326281472263 and parameters: {'topK': 30, 'alpha': 0.2000161533948964, 'beta': 0.19022786109725487}. Best is trial 195 with value: 0.049227550567598775.\n"
     ]
    },
    {
     "name": "stdout",
     "output_type": "stream",
     "text": [
      "EvaluatorHoldout: Processed 10407 (100.0%) in 6.71 sec. Users per second: 1550\n",
      "EvaluatorHoldout: Processed 10439 (100.0%) in 6.62 sec. Users per second: 1576\n",
      "EvaluatorHoldout: Processed 10486 (100.0%) in 6.74 sec. Users per second: 1555\n"
     ]
    },
    {
     "name": "stderr",
     "output_type": "stream",
     "text": [
      "[I 2023-12-11 18:46:58,439] Trial 324 finished with value: 0.048543201815903804 and parameters: {'topK': 16, 'alpha': 0.43056981641640923, 'beta': 0.1747042921954997}. Best is trial 195 with value: 0.049227550567598775.\n"
     ]
    },
    {
     "name": "stdout",
     "output_type": "stream",
     "text": [
      "EvaluatorHoldout: Processed 10407 (100.0%) in 6.80 sec. Users per second: 1530\n",
      "EvaluatorHoldout: Processed 10439 (100.0%) in 6.78 sec. Users per second: 1540\n",
      "EvaluatorHoldout: Processed 10486 (100.0%) in 6.81 sec. Users per second: 1541\n"
     ]
    },
    {
     "name": "stderr",
     "output_type": "stream",
     "text": [
      "[I 2023-12-11 18:47:38,818] Trial 325 finished with value: 0.04887914815248601 and parameters: {'topK': 40, 'alpha': 0.22906035470982702, 'beta': 0.14439408168630566}. Best is trial 195 with value: 0.049227550567598775.\n"
     ]
    },
    {
     "name": "stdout",
     "output_type": "stream",
     "text": [
      "EvaluatorHoldout: Processed 10407 (100.0%) in 6.81 sec. Users per second: 1528\n",
      "EvaluatorHoldout: Processed 10439 (100.0%) in 6.93 sec. Users per second: 1507\n",
      "EvaluatorHoldout: Processed 10486 (100.0%) in 6.85 sec. Users per second: 1532\n"
     ]
    },
    {
     "name": "stderr",
     "output_type": "stream",
     "text": [
      "[I 2023-12-11 18:48:18,983] Trial 326 finished with value: 0.04889554688380426 and parameters: {'topK': 36, 'alpha': 0.21354436112319286, 'beta': 0.17771597036316109}. Best is trial 195 with value: 0.049227550567598775.\n"
     ]
    },
    {
     "name": "stdout",
     "output_type": "stream",
     "text": [
      "EvaluatorHoldout: Processed 10407 (100.0%) in 6.81 sec. Users per second: 1529\n",
      "EvaluatorHoldout: Processed 10439 (100.0%) in 6.73 sec. Users per second: 1550\n",
      "EvaluatorHoldout: Processed 10486 (100.0%) in 6.80 sec. Users per second: 1542\n"
     ]
    },
    {
     "name": "stderr",
     "output_type": "stream",
     "text": [
      "[I 2023-12-11 18:49:00,165] Trial 327 finished with value: 0.048601647451489115 and parameters: {'topK': 46, 'alpha': 0.33242676381655323, 'beta': 0.183234511688963}. Best is trial 195 with value: 0.049227550567598775.\n"
     ]
    },
    {
     "name": "stdout",
     "output_type": "stream",
     "text": [
      "EvaluatorHoldout: Processed 10407 (100.0%) in 6.78 sec. Users per second: 1534\n",
      "EvaluatorHoldout: Processed 10439 (100.0%) in 6.86 sec. Users per second: 1522\n",
      "EvaluatorHoldout: Processed 10486 (100.0%) in 6.88 sec. Users per second: 1525\n"
     ]
    },
    {
     "name": "stderr",
     "output_type": "stream",
     "text": [
      "[I 2023-12-11 18:49:38,866] Trial 328 finished with value: 0.04862750841271372 and parameters: {'topK': 24, 'alpha': 0.3790257653165451, 'beta': 0.2590499492502343}. Best is trial 195 with value: 0.049227550567598775.\n"
     ]
    },
    {
     "name": "stdout",
     "output_type": "stream",
     "text": [
      "EvaluatorHoldout: Processed 10407 (100.0%) in 6.79 sec. Users per second: 1533\n",
      "EvaluatorHoldout: Processed 10439 (100.0%) in 6.75 sec. Users per second: 1547\n",
      "EvaluatorHoldout: Processed 10486 (100.0%) in 6.83 sec. Users per second: 1535\n"
     ]
    },
    {
     "name": "stderr",
     "output_type": "stream",
     "text": [
      "[I 2023-12-11 18:50:18,283] Trial 329 finished with value: 0.04902878195992578 and parameters: {'topK': 32, 'alpha': 0.2408401512143495, 'beta': 0.19758976665825093}. Best is trial 195 with value: 0.049227550567598775.\n"
     ]
    },
    {
     "name": "stdout",
     "output_type": "stream",
     "text": [
      "EvaluatorHoldout: Processed 10407 (100.0%) in 6.70 sec. Users per second: 1552\n",
      "EvaluatorHoldout: Processed 10439 (100.0%) in 6.78 sec. Users per second: 1540\n",
      "EvaluatorHoldout: Processed 10486 (100.0%) in 6.76 sec. Users per second: 1550\n"
     ]
    },
    {
     "name": "stderr",
     "output_type": "stream",
     "text": [
      "[I 2023-12-11 18:50:56,785] Trial 330 finished with value: 0.04884858880063347 and parameters: {'topK': 28, 'alpha': 0.1667239247466391, 'beta': 0.1584149573621519}. Best is trial 195 with value: 0.049227550567598775.\n"
     ]
    },
    {
     "name": "stdout",
     "output_type": "stream",
     "text": [
      "EvaluatorHoldout: Processed 10407 (100.0%) in 6.68 sec. Users per second: 1559\n",
      "EvaluatorHoldout: Processed 10439 (100.0%) in 6.64 sec. Users per second: 1572\n",
      "EvaluatorHoldout: Processed 10486 (100.0%) in 6.64 sec. Users per second: 1578\n"
     ]
    },
    {
     "name": "stderr",
     "output_type": "stream",
     "text": [
      "[I 2023-12-11 18:51:34,550] Trial 331 finished with value: 0.048416794804594605 and parameters: {'topK': 26, 'alpha': 0.19295192607862147, 'beta': 0.06365943022964075}. Best is trial 195 with value: 0.049227550567598775.\n"
     ]
    },
    {
     "name": "stdout",
     "output_type": "stream",
     "text": [
      "EvaluatorHoldout: Processed 10407 (100.0%) in 6.77 sec. Users per second: 1537\n",
      "EvaluatorHoldout: Processed 10439 (100.0%) in 6.76 sec. Users per second: 1545\n",
      "EvaluatorHoldout: Processed 10486 (100.0%) in 6.74 sec. Users per second: 1556\n"
     ]
    },
    {
     "name": "stderr",
     "output_type": "stream",
     "text": [
      "[I 2023-12-11 18:52:13,638] Trial 332 finished with value: 0.04905299792051338 and parameters: {'topK': 30, 'alpha': 0.283990418793081, 'beta': 0.1698366801775845}. Best is trial 195 with value: 0.049227550567598775.\n"
     ]
    },
    {
     "name": "stdout",
     "output_type": "stream",
     "text": [
      "EvaluatorHoldout: Processed 10407 (100.0%) in 6.79 sec. Users per second: 1534\n",
      "EvaluatorHoldout: Processed 10439 (100.0%) in 6.84 sec. Users per second: 1525\n",
      "EvaluatorHoldout: Processed 10486 (100.0%) in 6.82 sec. Users per second: 1537\n"
     ]
    },
    {
     "name": "stderr",
     "output_type": "stream",
     "text": [
      "[I 2023-12-11 18:52:53,186] Trial 333 finished with value: 0.04906207550429171 and parameters: {'topK': 33, 'alpha': 0.22721623949425235, 'beta': 0.18677683581089263}. Best is trial 195 with value: 0.049227550567598775.\n"
     ]
    },
    {
     "name": "stdout",
     "output_type": "stream",
     "text": [
      "EvaluatorHoldout: Processed 10407 (100.0%) in 6.77 sec. Users per second: 1538\n",
      "EvaluatorHoldout: Processed 10439 (100.0%) in 7.02 sec. Users per second: 1487\n",
      "EvaluatorHoldout: Processed 10486 (100.0%) in 6.84 sec. Users per second: 1533\n"
     ]
    },
    {
     "name": "stderr",
     "output_type": "stream",
     "text": [
      "[I 2023-12-11 18:53:33,652] Trial 334 finished with value: 0.048887339633676974 and parameters: {'topK': 37, 'alpha': 0.3201549496235943, 'beta': 0.18013017046514923}. Best is trial 195 with value: 0.049227550567598775.\n"
     ]
    },
    {
     "name": "stdout",
     "output_type": "stream",
     "text": [
      "EvaluatorHoldout: Processed 10407 (100.0%) in 6.82 sec. Users per second: 1526\n",
      "EvaluatorHoldout: Processed 10439 (100.0%) in 6.85 sec. Users per second: 1523\n",
      "EvaluatorHoldout: Processed 10486 (100.0%) in 6.68 sec. Users per second: 1569\n"
     ]
    },
    {
     "name": "stderr",
     "output_type": "stream",
     "text": [
      "[I 2023-12-11 18:54:12,895] Trial 335 finished with value: 0.04901399749132068 and parameters: {'topK': 31, 'alpha': 0.26002503305917185, 'beta': 0.20913427818704694}. Best is trial 195 with value: 0.049227550567598775.\n"
     ]
    },
    {
     "name": "stdout",
     "output_type": "stream",
     "text": [
      "EvaluatorHoldout: Processed 10407 (100.0%) in 6.75 sec. Users per second: 1541\n",
      "EvaluatorHoldout: Processed 10439 (100.0%) in 6.65 sec. Users per second: 1571\n",
      "EvaluatorHoldout: Processed 10486 (100.0%) in 6.74 sec. Users per second: 1556\n"
     ]
    },
    {
     "name": "stderr",
     "output_type": "stream",
     "text": [
      "[I 2023-12-11 18:54:52,231] Trial 336 finished with value: 0.04904884942067561 and parameters: {'topK': 34, 'alpha': 0.20894895382253043, 'beta': 0.17225493722245255}. Best is trial 195 with value: 0.049227550567598775.\n"
     ]
    },
    {
     "name": "stdout",
     "output_type": "stream",
     "text": [
      "EvaluatorHoldout: Processed 10407 (100.0%) in 6.69 sec. Users per second: 1555\n",
      "EvaluatorHoldout: Processed 10439 (100.0%) in 6.75 sec. Users per second: 1546\n",
      "EvaluatorHoldout: Processed 10486 (100.0%) in 6.85 sec. Users per second: 1530\n"
     ]
    },
    {
     "name": "stderr",
     "output_type": "stream",
     "text": [
      "[I 2023-12-11 18:55:31,186] Trial 337 finished with value: 0.049132977757687206 and parameters: {'topK': 29, 'alpha': 0.24071282477295702, 'beta': 0.19135083061576288}. Best is trial 195 with value: 0.049227550567598775.\n"
     ]
    },
    {
     "name": "stdout",
     "output_type": "stream",
     "text": [
      "EvaluatorHoldout: Processed 10407 (100.0%) in 6.80 sec. Users per second: 1531\n",
      "EvaluatorHoldout: Processed 10439 (100.0%) in 6.79 sec. Users per second: 1537\n",
      "EvaluatorHoldout: Processed 10486 (100.0%) in 6.73 sec. Users per second: 1557\n"
     ]
    },
    {
     "name": "stderr",
     "output_type": "stream",
     "text": [
      "[I 2023-12-11 18:56:10,187] Trial 338 finished with value: 0.04903023452014806 and parameters: {'topK': 28, 'alpha': 0.22168809277978996, 'beta': 0.20373724448468533}. Best is trial 195 with value: 0.049227550567598775.\n"
     ]
    },
    {
     "name": "stdout",
     "output_type": "stream",
     "text": [
      "EvaluatorHoldout: Processed 10407 (100.0%) in 6.80 sec. Users per second: 1531\n",
      "EvaluatorHoldout: Processed 10439 (100.0%) in 6.71 sec. Users per second: 1555\n",
      "EvaluatorHoldout: Processed 10486 (100.0%) in 6.81 sec. Users per second: 1540\n"
     ]
    },
    {
     "name": "stderr",
     "output_type": "stream",
     "text": [
      "[I 2023-12-11 18:56:48,640] Trial 339 finished with value: 0.048848458855389854 and parameters: {'topK': 25, 'alpha': 0.181505408462591, 'beta': 0.1941278408863946}. Best is trial 195 with value: 0.049227550567598775.\n"
     ]
    },
    {
     "name": "stdout",
     "output_type": "stream",
     "text": [
      "EvaluatorHoldout: Processed 10407 (100.0%) in 6.80 sec. Users per second: 1531\n",
      "EvaluatorHoldout: Processed 10439 (100.0%) in 6.79 sec. Users per second: 1538\n",
      "EvaluatorHoldout: Processed 10486 (100.0%) in 6.80 sec. Users per second: 1541\n"
     ]
    },
    {
     "name": "stderr",
     "output_type": "stream",
     "text": [
      "[I 2023-12-11 18:57:27,787] Trial 340 finished with value: 0.049048690757551534 and parameters: {'topK': 29, 'alpha': 0.3867853665674441, 'beta': 0.19163591990117626}. Best is trial 195 with value: 0.049227550567598775.\n"
     ]
    },
    {
     "name": "stdout",
     "output_type": "stream",
     "text": [
      "EvaluatorHoldout: Processed 10407 (100.0%) in 6.78 sec. Users per second: 1535\n",
      "EvaluatorHoldout: Processed 10439 (100.0%) in 6.80 sec. Users per second: 1535\n",
      "EvaluatorHoldout: Processed 10486 (100.0%) in 6.75 sec. Users per second: 1554\n"
     ]
    },
    {
     "name": "stderr",
     "output_type": "stream",
     "text": [
      "[I 2023-12-11 18:58:07,270] Trial 341 finished with value: 0.04899767634361298 and parameters: {'topK': 32, 'alpha': 0.33235734701998265, 'beta': 0.1865357222219298}. Best is trial 195 with value: 0.049227550567598775.\n"
     ]
    },
    {
     "name": "stdout",
     "output_type": "stream",
     "text": [
      "EvaluatorHoldout: Processed 10407 (100.0%) in 6.79 sec. Users per second: 1533\n",
      "EvaluatorHoldout: Processed 10439 (100.0%) in 6.75 sec. Users per second: 1546\n",
      "EvaluatorHoldout: Processed 10486 (100.0%) in 6.74 sec. Users per second: 1556\n"
     ]
    },
    {
     "name": "stderr",
     "output_type": "stream",
     "text": [
      "[I 2023-12-11 18:58:46,913] Trial 342 finished with value: 0.04901823134474035 and parameters: {'topK': 35, 'alpha': 0.24371152036883464, 'beta': 0.16339646892097767}. Best is trial 195 with value: 0.049227550567598775.\n"
     ]
    },
    {
     "name": "stdout",
     "output_type": "stream",
     "text": [
      "EvaluatorHoldout: Processed 10407 (100.0%) in 6.70 sec. Users per second: 1552\n",
      "EvaluatorHoldout: Processed 10439 (100.0%) in 6.69 sec. Users per second: 1562\n",
      "EvaluatorHoldout: Processed 10486 (100.0%) in 6.71 sec. Users per second: 1564\n"
     ]
    },
    {
     "name": "stderr",
     "output_type": "stream",
     "text": [
      "[I 2023-12-11 18:59:25,203] Trial 343 finished with value: 0.04866504459752032 and parameters: {'topK': 27, 'alpha': 0.2010197900058286, 'beta': 0.13609626287242754}. Best is trial 195 with value: 0.049227550567598775.\n"
     ]
    },
    {
     "name": "stdout",
     "output_type": "stream",
     "text": [
      "EvaluatorHoldout: Processed 10407 (100.0%) in 6.72 sec. Users per second: 1548\n",
      "EvaluatorHoldout: Processed 10439 (100.0%) in 6.76 sec. Users per second: 1544\n",
      "EvaluatorHoldout: Processed 10486 (100.0%) in 6.72 sec. Users per second: 1560\n"
     ]
    },
    {
     "name": "stderr",
     "output_type": "stream",
     "text": [
      "[I 2023-12-11 19:00:04,392] Trial 344 finished with value: 0.04903850469370841 and parameters: {'topK': 31, 'alpha': 0.2347994661585171, 'beta': 0.19843498262913706}. Best is trial 195 with value: 0.049227550567598775.\n"
     ]
    },
    {
     "name": "stdout",
     "output_type": "stream",
     "text": [
      "EvaluatorHoldout: Processed 10407 (100.0%) in 6.73 sec. Users per second: 1546\n",
      "EvaluatorHoldout: Processed 10439 (100.0%) in 6.73 sec. Users per second: 1551\n",
      "EvaluatorHoldout: Processed 10486 (100.0%) in 6.81 sec. Users per second: 1541\n"
     ]
    },
    {
     "name": "stderr",
     "output_type": "stream",
     "text": [
      "[I 2023-12-11 19:00:42,324] Trial 345 finished with value: 0.048962723954502275 and parameters: {'topK': 22, 'alpha': 0.2922586403290136, 'beta': 0.18312808844484596}. Best is trial 195 with value: 0.049227550567598775.\n"
     ]
    },
    {
     "name": "stdout",
     "output_type": "stream",
     "text": [
      "EvaluatorHoldout: Processed 10407 (100.0%) in 6.80 sec. Users per second: 1531\n",
      "EvaluatorHoldout: Processed 10439 (100.0%) in 6.75 sec. Users per second: 1547\n",
      "EvaluatorHoldout: Processed 10486 (100.0%) in 6.76 sec. Users per second: 1551\n"
     ]
    },
    {
     "name": "stderr",
     "output_type": "stream",
     "text": [
      "[I 2023-12-11 19:01:21,211] Trial 346 finished with value: 0.04901572026797047 and parameters: {'topK': 29, 'alpha': 0.26021334084288705, 'beta': 0.19098902865530104}. Best is trial 195 with value: 0.049227550567598775.\n"
     ]
    },
    {
     "name": "stdout",
     "output_type": "stream",
     "text": [
      "EvaluatorHoldout: Processed 10407 (100.0%) in 6.76 sec. Users per second: 1540\n",
      "EvaluatorHoldout: Processed 10439 (100.0%) in 6.82 sec. Users per second: 1531\n",
      "EvaluatorHoldout: Processed 10486 (100.0%) in 6.90 sec. Users per second: 1519\n"
     ]
    },
    {
     "name": "stderr",
     "output_type": "stream",
     "text": [
      "[I 2023-12-11 19:02:00,706] Trial 347 finished with value: 0.04910825650185799 and parameters: {'topK': 33, 'alpha': 0.21023436295290857, 'beta': 0.16679698572830168}. Best is trial 195 with value: 0.049227550567598775.\n"
     ]
    },
    {
     "name": "stdout",
     "output_type": "stream",
     "text": [
      "EvaluatorHoldout: Processed 10407 (100.0%) in 6.75 sec. Users per second: 1542\n",
      "EvaluatorHoldout: Processed 10439 (100.0%) in 6.77 sec. Users per second: 1543\n",
      "EvaluatorHoldout: Processed 10486 (100.0%) in 6.84 sec. Users per second: 1532\n"
     ]
    },
    {
     "name": "stderr",
     "output_type": "stream",
     "text": [
      "[I 2023-12-11 19:02:39,934] Trial 348 finished with value: 0.04915188736489714 and parameters: {'topK': 31, 'alpha': 0.22037893670218173, 'beta': 0.17437317393099194}. Best is trial 195 with value: 0.049227550567598775.\n"
     ]
    },
    {
     "name": "stdout",
     "output_type": "stream",
     "text": [
      "EvaluatorHoldout: Processed 10407 (100.0%) in 6.79 sec. Users per second: 1533\n",
      "EvaluatorHoldout: Processed 10439 (100.0%) in 6.84 sec. Users per second: 1526\n",
      "EvaluatorHoldout: Processed 10486 (100.0%) in 6.89 sec. Users per second: 1521\n"
     ]
    },
    {
     "name": "stderr",
     "output_type": "stream",
     "text": [
      "[I 2023-12-11 19:03:20,327] Trial 349 finished with value: 0.048659341881331246 and parameters: {'topK': 39, 'alpha': 0.16603846132298944, 'beta': 0.17301452783587465}. Best is trial 195 with value: 0.049227550567598775.\n"
     ]
    },
    {
     "name": "stdout",
     "output_type": "stream",
     "text": [
      "EvaluatorHoldout: Processed 10407 (100.0%) in 6.78 sec. Users per second: 1536\n",
      "EvaluatorHoldout: Processed 10439 (100.0%) in 6.90 sec. Users per second: 1513\n",
      "EvaluatorHoldout: Processed 10486 (100.0%) in 6.75 sec. Users per second: 1554\n"
     ]
    },
    {
     "name": "stderr",
     "output_type": "stream",
     "text": [
      "[I 2023-12-11 19:04:00,201] Trial 350 finished with value: 0.04899425789237118 and parameters: {'topK': 36, 'alpha': 0.18944431163354325, 'beta': 0.15453918764363117}. Best is trial 195 with value: 0.049227550567598775.\n"
     ]
    },
    {
     "name": "stdout",
     "output_type": "stream",
     "text": [
      "EvaluatorHoldout: Processed 10407 (100.0%) in 6.84 sec. Users per second: 1522\n",
      "EvaluatorHoldout: Processed 10439 (100.0%) in 6.85 sec. Users per second: 1524\n",
      "EvaluatorHoldout: Processed 10486 (100.0%) in 6.85 sec. Users per second: 1532\n"
     ]
    },
    {
     "name": "stderr",
     "output_type": "stream",
     "text": [
      "[I 2023-12-11 19:04:40,259] Trial 351 finished with value: 0.048602063464852276 and parameters: {'topK': 34, 'alpha': 0.462689122461893, 'beta': 0.22618078755252874}. Best is trial 195 with value: 0.049227550567598775.\n"
     ]
    },
    {
     "name": "stdout",
     "output_type": "stream",
     "text": [
      "EvaluatorHoldout: Processed 10407 (100.0%) in 6.70 sec. Users per second: 1552\n",
      "EvaluatorHoldout: Processed 10439 (100.0%) in 6.72 sec. Users per second: 1553\n",
      "EvaluatorHoldout: Processed 10486 (100.0%) in 6.68 sec. Users per second: 1570\n"
     ]
    },
    {
     "name": "stderr",
     "output_type": "stream",
     "text": [
      "[I 2023-12-11 19:05:18,950] Trial 352 finished with value: 0.04851905160041412 and parameters: {'topK': 31, 'alpha': 0.22072268258477126, 'beta': 0.08503269419607791}. Best is trial 195 with value: 0.049227550567598775.\n"
     ]
    },
    {
     "name": "stdout",
     "output_type": "stream",
     "text": [
      "EvaluatorHoldout: Processed 10407 (100.0%) in 6.75 sec. Users per second: 1541\n",
      "EvaluatorHoldout: Processed 10439 (100.0%) in 6.74 sec. Users per second: 1549\n",
      "EvaluatorHoldout: Processed 10486 (100.0%) in 6.75 sec. Users per second: 1554\n"
     ]
    },
    {
     "name": "stderr",
     "output_type": "stream",
     "text": [
      "[I 2023-12-11 19:05:57,432] Trial 353 finished with value: 0.04901876038322486 and parameters: {'topK': 26, 'alpha': 0.4073243820910728, 'beta': 0.1754286456324559}. Best is trial 195 with value: 0.049227550567598775.\n"
     ]
    },
    {
     "name": "stdout",
     "output_type": "stream",
     "text": [
      "EvaluatorHoldout: Processed 10407 (100.0%) in 6.74 sec. Users per second: 1544\n",
      "EvaluatorHoldout: Processed 10439 (100.0%) in 6.78 sec. Users per second: 1539\n",
      "EvaluatorHoldout: Processed 10486 (100.0%) in 6.78 sec. Users per second: 1547\n"
     ]
    },
    {
     "name": "stderr",
     "output_type": "stream",
     "text": [
      "[I 2023-12-11 19:06:36,601] Trial 354 finished with value: 0.049040701688089716 and parameters: {'topK': 32, 'alpha': 0.18492712217638443, 'beta': 0.16398179306596297}. Best is trial 195 with value: 0.049227550567598775.\n"
     ]
    },
    {
     "name": "stdout",
     "output_type": "stream",
     "text": [
      "EvaluatorHoldout: Processed 10407 (100.0%) in 6.76 sec. Users per second: 1539\n",
      "EvaluatorHoldout: Processed 10439 (100.0%) in 6.83 sec. Users per second: 1528\n",
      "EvaluatorHoldout: Processed 10486 (100.0%) in 6.75 sec. Users per second: 1553\n"
     ]
    },
    {
     "name": "stderr",
     "output_type": "stream",
     "text": [
      "[I 2023-12-11 19:07:15,623] Trial 355 finished with value: 0.04864915208759901 and parameters: {'topK': 29, 'alpha': 0.5355603742378803, 'beta': 0.17894948338277258}. Best is trial 195 with value: 0.049227550567598775.\n"
     ]
    },
    {
     "name": "stdout",
     "output_type": "stream",
     "text": [
      "EvaluatorHoldout: Processed 10407 (100.0%) in 6.87 sec. Users per second: 1516\n",
      "EvaluatorHoldout: Processed 10439 (100.0%) in 6.69 sec. Users per second: 1559\n",
      "EvaluatorHoldout: Processed 10486 (100.0%) in 6.80 sec. Users per second: 1542\n"
     ]
    },
    {
     "name": "stderr",
     "output_type": "stream",
     "text": [
      "[I 2023-12-11 19:07:55,352] Trial 356 finished with value: 0.04895477041466196 and parameters: {'topK': 34, 'alpha': 0.3529177932972491, 'beta': 0.16927372359688928}. Best is trial 195 with value: 0.049227550567598775.\n"
     ]
    },
    {
     "name": "stdout",
     "output_type": "stream",
     "text": [
      "EvaluatorHoldout: Processed 10407 (100.0%) in 6.63 sec. Users per second: 1570\n",
      "EvaluatorHoldout: Processed 10439 (100.0%) in 6.76 sec. Users per second: 1543\n",
      "EvaluatorHoldout: Processed 10486 (100.0%) in 6.79 sec. Users per second: 1544\n"
     ]
    },
    {
     "name": "stderr",
     "output_type": "stream",
     "text": [
      "[I 2023-12-11 19:08:34,011] Trial 357 finished with value: 0.04883195207127274 and parameters: {'topK': 28, 'alpha': 0.2033333959147688, 'beta': 0.15963886979941852}. Best is trial 195 with value: 0.049227550567598775.\n"
     ]
    },
    {
     "name": "stdout",
     "output_type": "stream",
     "text": [
      "EvaluatorHoldout: Processed 10407 (100.0%) in 6.86 sec. Users per second: 1517\n",
      "EvaluatorHoldout: Processed 10439 (100.0%) in 6.83 sec. Users per second: 1528\n",
      "EvaluatorHoldout: Processed 10486 (100.0%) in 6.78 sec. Users per second: 1547\n"
     ]
    },
    {
     "name": "stderr",
     "output_type": "stream",
     "text": [
      "[I 2023-12-11 19:09:13,460] Trial 358 finished with value: 0.048980126581280946 and parameters: {'topK': 31, 'alpha': 0.14650700633663138, 'beta': 0.1864876100728505}. Best is trial 195 with value: 0.049227550567598775.\n"
     ]
    },
    {
     "name": "stdout",
     "output_type": "stream",
     "text": [
      "EvaluatorHoldout: Processed 10407 (100.0%) in 6.71 sec. Users per second: 1551\n",
      "EvaluatorHoldout: Processed 10439 (100.0%) in 6.80 sec. Users per second: 1536\n",
      "EvaluatorHoldout: Processed 10486 (100.0%) in 6.73 sec. Users per second: 1559\n"
     ]
    },
    {
     "name": "stderr",
     "output_type": "stream",
     "text": [
      "[I 2023-12-11 19:09:52,423] Trial 359 finished with value: 0.04883595016978907 and parameters: {'topK': 30, 'alpha': 0.21939171415597736, 'beta': 0.14838381869150397}. Best is trial 195 with value: 0.049227550567598775.\n"
     ]
    },
    {
     "name": "stdout",
     "output_type": "stream",
     "text": [
      "EvaluatorHoldout: Processed 10407 (100.0%) in 6.87 sec. Users per second: 1516\n",
      "EvaluatorHoldout: Processed 10439 (100.0%) in 6.76 sec. Users per second: 1544\n",
      "EvaluatorHoldout: Processed 10486 (100.0%) in 6.81 sec. Users per second: 1540\n"
     ]
    },
    {
     "name": "stderr",
     "output_type": "stream",
     "text": [
      "[I 2023-12-11 19:10:32,619] Trial 360 finished with value: 0.048724435438354696 and parameters: {'topK': 36, 'alpha': 0.2371223052722863, 'beta': 0.21697180263833443}. Best is trial 195 with value: 0.049227550567598775.\n"
     ]
    },
    {
     "name": "stdout",
     "output_type": "stream",
     "text": [
      "EvaluatorHoldout: Processed 10407 (100.0%) in 6.76 sec. Users per second: 1539\n",
      "EvaluatorHoldout: Processed 10439 (100.0%) in 6.81 sec. Users per second: 1533\n",
      "EvaluatorHoldout: Processed 10486 (100.0%) in 6.88 sec. Users per second: 1525\n"
     ]
    },
    {
     "name": "stderr",
     "output_type": "stream",
     "text": [
      "[I 2023-12-11 19:11:12,166] Trial 361 finished with value: 0.04902159791778412 and parameters: {'topK': 33, 'alpha': 0.17589015534118613, 'beta': 0.17361177049145107}. Best is trial 195 with value: 0.049227550567598775.\n"
     ]
    },
    {
     "name": "stdout",
     "output_type": "stream",
     "text": [
      "EvaluatorHoldout: Processed 10407 (100.0%) in 6.60 sec. Users per second: 1577\n",
      "EvaluatorHoldout: Processed 10439 (100.0%) in 6.62 sec. Users per second: 1576\n",
      "EvaluatorHoldout: Processed 10486 (100.0%) in 6.65 sec. Users per second: 1578\n"
     ]
    },
    {
     "name": "stderr",
     "output_type": "stream",
     "text": [
      "[I 2023-12-11 19:11:49,974] Trial 362 finished with value: 0.04821092783209544 and parameters: {'topK': 27, 'alpha': 0.20235669505551346, 'beta': 0.04417825319326267}. Best is trial 195 with value: 0.049227550567598775.\n"
     ]
    },
    {
     "name": "stdout",
     "output_type": "stream",
     "text": [
      "EvaluatorHoldout: Processed 10407 (100.0%) in 6.87 sec. Users per second: 1515\n",
      "EvaluatorHoldout: Processed 10439 (100.0%) in 6.84 sec. Users per second: 1527\n",
      "EvaluatorHoldout: Processed 10486 (100.0%) in 6.82 sec. Users per second: 1537\n"
     ]
    },
    {
     "name": "stderr",
     "output_type": "stream",
     "text": [
      "[I 2023-12-11 19:12:29,622] Trial 363 finished with value: 0.048329306014915696 and parameters: {'topK': 32, 'alpha': 0.588568124689465, 'beta': 0.1804262918380227}. Best is trial 195 with value: 0.049227550567598775.\n"
     ]
    },
    {
     "name": "stdout",
     "output_type": "stream",
     "text": [
      "EvaluatorHoldout: Processed 10407 (100.0%) in 6.80 sec. Users per second: 1531\n",
      "EvaluatorHoldout: Processed 10439 (100.0%) in 6.74 sec. Users per second: 1548\n",
      "EvaluatorHoldout: Processed 10486 (100.0%) in 6.76 sec. Users per second: 1551\n"
     ]
    },
    {
     "name": "stderr",
     "output_type": "stream",
     "text": [
      "[I 2023-12-11 19:13:08,495] Trial 364 finished with value: 0.04898572301191532 and parameters: {'topK': 29, 'alpha': 0.2484600660648076, 'beta': 0.16853069568746162}. Best is trial 195 with value: 0.049227550567598775.\n"
     ]
    },
    {
     "name": "stdout",
     "output_type": "stream",
     "text": [
      "EvaluatorHoldout: Processed 10407 (100.0%) in 6.73 sec. Users per second: 1546\n",
      "EvaluatorHoldout: Processed 10439 (100.0%) in 6.65 sec. Users per second: 1571\n",
      "EvaluatorHoldout: Processed 10486 (100.0%) in 6.79 sec. Users per second: 1544\n"
     ]
    },
    {
     "name": "stderr",
     "output_type": "stream",
     "text": [
      "[I 2023-12-11 19:13:46,400] Trial 365 finished with value: 0.0487766003807858 and parameters: {'topK': 24, 'alpha': 0.2231780730806485, 'beta': 0.11161034265176023}. Best is trial 195 with value: 0.049227550567598775.\n"
     ]
    },
    {
     "name": "stdout",
     "output_type": "stream",
     "text": [
      "EvaluatorHoldout: Processed 10407 (100.0%) in 6.79 sec. Users per second: 1534\n",
      "EvaluatorHoldout: Processed 10439 (100.0%) in 6.89 sec. Users per second: 1516\n",
      "EvaluatorHoldout: Processed 10486 (100.0%) in 6.88 sec. Users per second: 1524\n"
     ]
    },
    {
     "name": "stderr",
     "output_type": "stream",
     "text": [
      "[I 2023-12-11 19:14:26,548] Trial 366 finished with value: 0.048929533433136635 and parameters: {'topK': 34, 'alpha': 0.19793737555368557, 'beta': 0.1947583569871227}. Best is trial 195 with value: 0.049227550567598775.\n"
     ]
    },
    {
     "name": "stdout",
     "output_type": "stream",
     "text": [
      "EvaluatorHoldout: Processed 10407 (100.0%) in 6.76 sec. Users per second: 1540\n",
      "EvaluatorHoldout: Processed 10439 (100.0%) in 6.79 sec. Users per second: 1538\n",
      "EvaluatorHoldout: Processed 10486 (100.0%) in 6.79 sec. Users per second: 1543\n"
     ]
    },
    {
     "name": "stderr",
     "output_type": "stream",
     "text": [
      "[I 2023-12-11 19:15:05,987] Trial 367 finished with value: 0.04907934649852664 and parameters: {'topK': 31, 'alpha': 0.23315882026475476, 'beta': 0.18756083562129477}. Best is trial 195 with value: 0.049227550567598775.\n"
     ]
    },
    {
     "name": "stdout",
     "output_type": "stream",
     "text": [
      "EvaluatorHoldout: Processed 10407 (100.0%) in 6.91 sec. Users per second: 1506\n",
      "EvaluatorHoldout: Processed 10439 (100.0%) in 6.86 sec. Users per second: 1522\n",
      "EvaluatorHoldout: Processed 10486 (100.0%) in 6.91 sec. Users per second: 1517\n"
     ]
    },
    {
     "name": "stderr",
     "output_type": "stream",
     "text": [
      "[I 2023-12-11 19:15:46,681] Trial 368 finished with value: 0.04846451622238752 and parameters: {'topK': 37, 'alpha': 0.2152551145757724, 'beta': 0.23485097051831189}. Best is trial 195 with value: 0.049227550567598775.\n"
     ]
    },
    {
     "name": "stdout",
     "output_type": "stream",
     "text": [
      "EvaluatorHoldout: Processed 10407 (100.0%) in 6.94 sec. Users per second: 1499\n",
      "EvaluatorHoldout: Processed 10439 (100.0%) in 6.97 sec. Users per second: 1498\n",
      "EvaluatorHoldout: Processed 10486 (100.0%) in 6.93 sec. Users per second: 1513\n"
     ]
    },
    {
     "name": "stderr",
     "output_type": "stream",
     "text": [
      "[I 2023-12-11 19:16:30,320] Trial 369 finished with value: 0.04798122464832441 and parameters: {'topK': 61, 'alpha': 0.2693002266926985, 'beta': 0.17789351819793459}. Best is trial 195 with value: 0.049227550567598775.\n"
     ]
    },
    {
     "name": "stdout",
     "output_type": "stream",
     "text": [
      "EvaluatorHoldout: Processed 10407 (100.0%) in 6.82 sec. Users per second: 1525\n",
      "EvaluatorHoldout: Processed 10439 (100.0%) in 6.80 sec. Users per second: 1536\n",
      "EvaluatorHoldout: Processed 10486 (100.0%) in 6.74 sec. Users per second: 1557\n"
     ]
    },
    {
     "name": "stderr",
     "output_type": "stream",
     "text": [
      "[I 2023-12-11 19:17:08,801] Trial 370 finished with value: 0.048807407139007906 and parameters: {'topK': 26, 'alpha': 0.16219365847272305, 'beta': 0.16549741911710544}. Best is trial 195 with value: 0.049227550567598775.\n"
     ]
    },
    {
     "name": "stdout",
     "output_type": "stream",
     "text": [
      "EvaluatorHoldout: Processed 10407 (100.0%) in 6.73 sec. Users per second: 1545\n",
      "EvaluatorHoldout: Processed 10439 (100.0%) in 6.78 sec. Users per second: 1540\n",
      "EvaluatorHoldout: Processed 10486 (100.0%) in 6.80 sec. Users per second: 1542\n"
     ]
    },
    {
     "name": "stderr",
     "output_type": "stream",
     "text": [
      "[I 2023-12-11 19:17:47,842] Trial 371 finished with value: 0.04912657542296919 and parameters: {'topK': 30, 'alpha': 0.3516983650562071, 'beta': 0.18179213065751681}. Best is trial 195 with value: 0.049227550567598775.\n"
     ]
    },
    {
     "name": "stdout",
     "output_type": "stream",
     "text": [
      "EvaluatorHoldout: Processed 10407 (100.0%) in 6.80 sec. Users per second: 1531\n",
      "EvaluatorHoldout: Processed 10439 (100.0%) in 6.82 sec. Users per second: 1531\n",
      "EvaluatorHoldout: Processed 10486 (100.0%) in 6.78 sec. Users per second: 1546\n"
     ]
    },
    {
     "name": "stderr",
     "output_type": "stream",
     "text": [
      "[I 2023-12-11 19:18:26,817] Trial 372 finished with value: 0.04899113962597487 and parameters: {'topK': 28, 'alpha': 0.4231849452708422, 'beta': 0.20647384149346537}. Best is trial 195 with value: 0.049227550567598775.\n"
     ]
    },
    {
     "name": "stdout",
     "output_type": "stream",
     "text": [
      "EvaluatorHoldout: Processed 10407 (100.0%) in 6.79 sec. Users per second: 1532\n",
      "EvaluatorHoldout: Processed 10439 (100.0%) in 6.87 sec. Users per second: 1520\n",
      "EvaluatorHoldout: Processed 10486 (100.0%) in 6.89 sec. Users per second: 1522\n"
     ]
    },
    {
     "name": "stderr",
     "output_type": "stream",
     "text": [
      "[I 2023-12-11 19:19:06,594] Trial 373 finished with value: 0.04894525933653964 and parameters: {'topK': 33, 'alpha': 0.25013033673247875, 'beta': 0.19973559654775613}. Best is trial 195 with value: 0.049227550567598775.\n"
     ]
    },
    {
     "name": "stdout",
     "output_type": "stream",
     "text": [
      "EvaluatorHoldout: Processed 10407 (100.0%) in 6.79 sec. Users per second: 1533\n",
      "EvaluatorHoldout: Processed 10439 (100.0%) in 6.78 sec. Users per second: 1539\n",
      "EvaluatorHoldout: Processed 10486 (100.0%) in 6.81 sec. Users per second: 1541\n"
     ]
    },
    {
     "name": "stderr",
     "output_type": "stream",
     "text": [
      "[I 2023-12-11 19:19:46,006] Trial 374 finished with value: 0.04903446053636973 and parameters: {'topK': 32, 'alpha': 0.18452679807878486, 'beta': 0.17249717001787795}. Best is trial 195 with value: 0.049227550567598775.\n"
     ]
    },
    {
     "name": "stdout",
     "output_type": "stream",
     "text": [
      "EvaluatorHoldout: Processed 10407 (100.0%) in 6.68 sec. Users per second: 1558\n",
      "EvaluatorHoldout: Processed 10439 (100.0%) in 6.76 sec. Users per second: 1545\n",
      "EvaluatorHoldout: Processed 10486 (100.0%) in 6.78 sec. Users per second: 1546\n"
     ]
    },
    {
     "name": "stderr",
     "output_type": "stream",
     "text": [
      "[I 2023-12-11 19:20:25,357] Trial 375 finished with value: 0.04826011208487371 and parameters: {'topK': 35, 'alpha': 0.09115815949860179, 'beta': 0.09963872869210794}. Best is trial 195 with value: 0.049227550567598775.\n"
     ]
    },
    {
     "name": "stdout",
     "output_type": "stream",
     "text": [
      "EvaluatorHoldout: Processed 10407 (100.0%) in 6.71 sec. Users per second: 1550\n",
      "EvaluatorHoldout: Processed 10439 (100.0%) in 6.75 sec. Users per second: 1547\n",
      "EvaluatorHoldout: Processed 10486 (100.0%) in 7.15 sec. Users per second: 1467\n"
     ]
    },
    {
     "name": "stderr",
     "output_type": "stream",
     "text": [
      "[I 2023-12-11 19:21:04,846] Trial 376 finished with value: 0.048985899451292884 and parameters: {'topK': 30, 'alpha': 0.21361206017814446, 'beta': 0.15790315880083533}. Best is trial 195 with value: 0.049227550567598775.\n"
     ]
    },
    {
     "name": "stdout",
     "output_type": "stream",
     "text": [
      "EvaluatorHoldout: Processed 10407 (100.0%) in 6.81 sec. Users per second: 1528\n",
      "EvaluatorHoldout: Processed 10439 (100.0%) in 6.72 sec. Users per second: 1554\n",
      "EvaluatorHoldout: Processed 10486 (100.0%) in 6.83 sec. Users per second: 1536\n"
     ]
    },
    {
     "name": "stderr",
     "output_type": "stream",
     "text": [
      "[I 2023-12-11 19:21:43,736] Trial 377 finished with value: 0.049084497486437874 and parameters: {'topK': 28, 'alpha': 0.2329872285629097, 'beta': 0.19136133379342857}. Best is trial 195 with value: 0.049227550567598775.\n"
     ]
    },
    {
     "name": "stdout",
     "output_type": "stream",
     "text": [
      "EvaluatorHoldout: Processed 10407 (100.0%) in 6.79 sec. Users per second: 1533\n",
      "EvaluatorHoldout: Processed 10439 (100.0%) in 6.78 sec. Users per second: 1540\n",
      "EvaluatorHoldout: Processed 10486 (100.0%) in 6.83 sec. Users per second: 1536\n"
     ]
    },
    {
     "name": "stderr",
     "output_type": "stream",
     "text": [
      "[I 2023-12-11 19:22:23,120] Trial 378 finished with value: 0.049093951208899755 and parameters: {'topK': 32, 'alpha': 0.20006545107683626, 'beta': 0.1751852164942893}. Best is trial 195 with value: 0.049227550567598775.\n"
     ]
    },
    {
     "name": "stdout",
     "output_type": "stream",
     "text": [
      "EvaluatorHoldout: Processed 10407 (100.0%) in 6.75 sec. Users per second: 1541\n",
      "EvaluatorHoldout: Processed 10439 (100.0%) in 6.69 sec. Users per second: 1560\n",
      "EvaluatorHoldout: Processed 10486 (100.0%) in 6.72 sec. Users per second: 1561\n"
     ]
    },
    {
     "name": "stderr",
     "output_type": "stream",
     "text": [
      "[I 2023-12-11 19:23:01,502] Trial 379 finished with value: 0.04884095491915703 and parameters: {'topK': 26, 'alpha': 0.13226195201221808, 'beta': 0.18417014849880367}. Best is trial 195 with value: 0.049227550567598775.\n"
     ]
    },
    {
     "name": "stdout",
     "output_type": "stream",
     "text": [
      "EvaluatorHoldout: Processed 10407 (100.0%) in 6.74 sec. Users per second: 1543\n",
      "EvaluatorHoldout: Processed 10439 (100.0%) in 6.90 sec. Users per second: 1513\n",
      "EvaluatorHoldout: Processed 10486 (100.0%) in 6.75 sec. Users per second: 1552\n"
     ]
    },
    {
     "name": "stderr",
     "output_type": "stream",
     "text": [
      "[I 2023-12-11 19:23:40,642] Trial 380 finished with value: 0.04910316891540162 and parameters: {'topK': 30, 'alpha': 0.30041330613461703, 'beta': 0.16680710747247698}. Best is trial 195 with value: 0.049227550567598775.\n"
     ]
    },
    {
     "name": "stdout",
     "output_type": "stream",
     "text": [
      "EvaluatorHoldout: Processed 10407 (100.0%) in 7.06 sec. Users per second: 1475\n",
      "EvaluatorHoldout: Processed 10439 (100.0%) in 7.37 sec. Users per second: 1417\n",
      "EvaluatorHoldout: Processed 10486 (100.0%) in 7.31 sec. Users per second: 1435\n"
     ]
    },
    {
     "name": "stderr",
     "output_type": "stream",
     "text": [
      "[I 2023-12-11 19:24:26,582] Trial 381 finished with value: 0.047603399754407666 and parameters: {'topK': 67, 'alpha': 0.22479043942080817, 'beta': 0.17825878019382663}. Best is trial 195 with value: 0.049227550567598775.\n"
     ]
    },
    {
     "name": "stdout",
     "output_type": "stream",
     "text": [
      "EvaluatorHoldout: Processed 10407 (100.0%) in 7.14 sec. Users per second: 1458\n",
      "EvaluatorHoldout: Processed 10439 (100.0%) in 7.03 sec. Users per second: 1484\n",
      "EvaluatorHoldout: Processed 10486 (100.0%) in 7.08 sec. Users per second: 1481\n"
     ]
    },
    {
     "name": "stderr",
     "output_type": "stream",
     "text": [
      "[I 2023-12-11 19:25:08,065] Trial 382 finished with value: 0.048953833006660695 and parameters: {'topK': 34, 'alpha': 0.2511306555602841, 'beta': 0.188089985946287}. Best is trial 195 with value: 0.049227550567598775.\n"
     ]
    },
    {
     "name": "stdout",
     "output_type": "stream",
     "text": [
      "EvaluatorHoldout: Processed 10407 (100.0%) in 7.21 sec. Users per second: 1443\n",
      "EvaluatorHoldout: Processed 10439 (100.0%) in 7.05 sec. Users per second: 1480\n",
      "EvaluatorHoldout: Processed 10486 (100.0%) in 7.07 sec. Users per second: 1483\n"
     ]
    },
    {
     "name": "stderr",
     "output_type": "stream",
     "text": [
      "[I 2023-12-11 19:25:49,044] Trial 383 finished with value: 0.049031406659042126 and parameters: {'topK': 28, 'alpha': 0.21185682739178735, 'beta': 0.21173783491592393}. Best is trial 195 with value: 0.049227550567598775.\n"
     ]
    },
    {
     "name": "stdout",
     "output_type": "stream",
     "text": [
      "EvaluatorHoldout: Processed 10407 (100.0%) in 6.90 sec. Users per second: 1508\n",
      "EvaluatorHoldout: Processed 10439 (100.0%) in 7.12 sec. Users per second: 1467\n",
      "EvaluatorHoldout: Processed 10486 (100.0%) in 6.97 sec. Users per second: 1505\n"
     ]
    },
    {
     "name": "stderr",
     "output_type": "stream",
     "text": [
      "[I 2023-12-11 19:26:30,253] Trial 384 finished with value: 0.04883714378411247 and parameters: {'topK': 39, 'alpha': 0.19052565836673865, 'beta': 0.15220156663148346}. Best is trial 195 with value: 0.049227550567598775.\n"
     ]
    },
    {
     "name": "stdout",
     "output_type": "stream",
     "text": [
      "EvaluatorHoldout: Processed 10407 (100.0%) in 6.73 sec. Users per second: 1546\n",
      "EvaluatorHoldout: Processed 10439 (100.0%) in 6.70 sec. Users per second: 1557\n",
      "EvaluatorHoldout: Processed 10486 (100.0%) in 6.74 sec. Users per second: 1555\n"
     ]
    },
    {
     "name": "stderr",
     "output_type": "stream",
     "text": [
      "[I 2023-12-11 19:27:09,628] Trial 385 finished with value: 0.04830523425026559 and parameters: {'topK': 36, 'alpha': 0.003736213794576504, 'beta': 0.1718312456369566}. Best is trial 195 with value: 0.049227550567598775.\n"
     ]
    },
    {
     "name": "stdout",
     "output_type": "stream",
     "text": [
      "EvaluatorHoldout: Processed 10407 (100.0%) in 7.20 sec. Users per second: 1445\n",
      "EvaluatorHoldout: Processed 10439 (100.0%) in 7.49 sec. Users per second: 1393\n",
      "EvaluatorHoldout: Processed 10486 (100.0%) in 8.01 sec. Users per second: 1309\n"
     ]
    },
    {
     "name": "stderr",
     "output_type": "stream",
     "text": [
      "[I 2023-12-11 19:27:53,195] Trial 386 finished with value: 0.04913023256498858 and parameters: {'topK': 32, 'alpha': 0.23327958323771336, 'beta': 0.16153545394821164}. Best is trial 195 with value: 0.049227550567598775.\n"
     ]
    },
    {
     "name": "stdout",
     "output_type": "stream",
     "text": [
      "EvaluatorHoldout: Processed 10407 (100.0%) in 7.59 sec. Users per second: 1372\n",
      "EvaluatorHoldout: Processed 10439 (100.0%) in 8.06 sec. Users per second: 1295\n",
      "EvaluatorHoldout: Processed 10486 (100.0%) in 8.13 sec. Users per second: 1290\n"
     ]
    },
    {
     "name": "stderr",
     "output_type": "stream",
     "text": [
      "[I 2023-12-11 19:28:38,402] Trial 387 finished with value: 0.04909663429405355 and parameters: {'topK': 30, 'alpha': 0.17051651224623043, 'beta': 0.18229017176940907}. Best is trial 195 with value: 0.049227550567598775.\n"
     ]
    },
    {
     "name": "stdout",
     "output_type": "stream",
     "text": [
      "EvaluatorHoldout: Processed 10407 (100.0%) in 8.04 sec. Users per second: 1295\n",
      "EvaluatorHoldout: Processed 10439 (100.0%) in 8.27 sec. Users per second: 1262\n",
      "EvaluatorHoldout: Processed 10486 (100.0%) in 6.74 sec. Users per second: 1556\n"
     ]
    },
    {
     "name": "stderr",
     "output_type": "stream",
     "text": [
      "[I 2023-12-11 19:29:22,925] Trial 388 finished with value: 0.04895455839014488 and parameters: {'topK': 33, 'alpha': 0.2675224564647522, 'beta': 0.19561877625801188}. Best is trial 195 with value: 0.049227550567598775.\n"
     ]
    },
    {
     "name": "stdout",
     "output_type": "stream",
     "text": [
      "EvaluatorHoldout: Processed 10407 (100.0%) in 6.60 sec. Users per second: 1577\n",
      "EvaluatorHoldout: Processed 10439 (100.0%) in 6.58 sec. Users per second: 1587\n",
      "EvaluatorHoldout: Processed 10486 (100.0%) in 6.59 sec. Users per second: 1591\n"
     ]
    },
    {
     "name": "stderr",
     "output_type": "stream",
     "text": [
      "[I 2023-12-11 19:30:00,525] Trial 389 finished with value: 0.04881078436549305 and parameters: {'topK': 25, 'alpha': 0.20562417960226928, 'beta': 0.17554866225793533}. Best is trial 195 with value: 0.049227550567598775.\n"
     ]
    },
    {
     "name": "stdout",
     "output_type": "stream",
     "text": [
      "EvaluatorHoldout: Processed 10407 (100.0%) in 6.47 sec. Users per second: 1608\n",
      "EvaluatorHoldout: Processed 10439 (100.0%) in 6.52 sec. Users per second: 1602\n",
      "EvaluatorHoldout: Processed 10486 (100.0%) in 6.41 sec. Users per second: 1637\n"
     ]
    },
    {
     "name": "stderr",
     "output_type": "stream",
     "text": [
      "[I 2023-12-11 19:30:38,028] Trial 390 finished with value: 0.04772554119163259 and parameters: {'topK': 31, 'alpha': 0.39800762466798867, 'beta': 0.0030218144651091017}. Best is trial 195 with value: 0.049227550567598775.\n"
     ]
    },
    {
     "name": "stdout",
     "output_type": "stream",
     "text": [
      "EvaluatorHoldout: Processed 10407 (100.0%) in 6.64 sec. Users per second: 1567\n",
      "EvaluatorHoldout: Processed 10439 (100.0%) in 6.66 sec. Users per second: 1568\n",
      "EvaluatorHoldout: Processed 10486 (100.0%) in 6.66 sec. Users per second: 1575\n"
     ]
    },
    {
     "name": "stderr",
     "output_type": "stream",
     "text": [
      "[I 2023-12-11 19:31:16,318] Trial 391 finished with value: 0.04820029369809988 and parameters: {'topK': 28, 'alpha': 0.24123684222236136, 'beta': 0.2946076380446256}. Best is trial 195 with value: 0.049227550567598775.\n"
     ]
    },
    {
     "name": "stdout",
     "output_type": "stream",
     "text": [
      "EvaluatorHoldout: Processed 10407 (100.0%) in 6.51 sec. Users per second: 1598\n",
      "EvaluatorHoldout: Processed 10439 (100.0%) in 6.53 sec. Users per second: 1598\n",
      "EvaluatorHoldout: Processed 10486 (100.0%) in 6.57 sec. Users per second: 1596\n"
     ]
    },
    {
     "name": "stderr",
     "output_type": "stream",
     "text": [
      "[I 2023-12-11 19:31:54,233] Trial 392 finished with value: 0.04911732402265967 and parameters: {'topK': 30, 'alpha': 0.32554954546662357, 'beta': 0.16985422960446553}. Best is trial 195 with value: 0.049227550567598775.\n"
     ]
    },
    {
     "name": "stdout",
     "output_type": "stream",
     "text": [
      "EvaluatorHoldout: Processed 10407 (100.0%) in 6.57 sec. Users per second: 1583\n",
      "EvaluatorHoldout: Processed 10439 (100.0%) in 6.60 sec. Users per second: 1581\n",
      "EvaluatorHoldout: Processed 10486 (100.0%) in 6.63 sec. Users per second: 1581\n"
     ]
    },
    {
     "name": "stderr",
     "output_type": "stream",
     "text": [
      "[I 2023-12-11 19:32:33,102] Trial 393 finished with value: 0.04886672236092845 and parameters: {'topK': 35, 'alpha': 0.21956793383489576, 'beta': 0.1901992473550597}. Best is trial 195 with value: 0.049227550567598775.\n"
     ]
    },
    {
     "name": "stdout",
     "output_type": "stream",
     "text": [
      "EvaluatorHoldout: Processed 10407 (100.0%) in 6.54 sec. Users per second: 1590\n",
      "EvaluatorHoldout: Processed 10439 (100.0%) in 6.54 sec. Users per second: 1596\n",
      "EvaluatorHoldout: Processed 10486 (100.0%) in 6.53 sec. Users per second: 1606\n"
     ]
    },
    {
     "name": "stderr",
     "output_type": "stream",
     "text": [
      "[I 2023-12-11 19:33:11,357] Trial 394 finished with value: 0.048857351712664775 and parameters: {'topK': 34, 'alpha': 0.186830489019683, 'beta': 0.13794784682818217}. Best is trial 195 with value: 0.049227550567598775.\n"
     ]
    },
    {
     "name": "stdout",
     "output_type": "stream",
     "text": [
      "EvaluatorHoldout: Processed 10407 (100.0%) in 6.73 sec. Users per second: 1546\n",
      "EvaluatorHoldout: Processed 10439 (100.0%) in 6.74 sec. Users per second: 1548\n",
      "EvaluatorHoldout: Processed 10486 (100.0%) in 6.76 sec. Users per second: 1551\n"
     ]
    },
    {
     "name": "stderr",
     "output_type": "stream",
     "text": [
      "[I 2023-12-11 19:33:53,170] Trial 395 finished with value: 0.048236761437040844 and parameters: {'topK': 54, 'alpha': 0.3422540392491389, 'beta': 0.20138689910683993}. Best is trial 195 with value: 0.049227550567598775.\n"
     ]
    },
    {
     "name": "stdout",
     "output_type": "stream",
     "text": [
      "EvaluatorHoldout: Processed 10407 (100.0%) in 6.52 sec. Users per second: 1596\n",
      "EvaluatorHoldout: Processed 10439 (100.0%) in 6.55 sec. Users per second: 1593\n",
      "EvaluatorHoldout: Processed 10486 (100.0%) in 6.57 sec. Users per second: 1597\n"
     ]
    },
    {
     "name": "stderr",
     "output_type": "stream",
     "text": [
      "[I 2023-12-11 19:34:30,742] Trial 396 finished with value: 0.049018786318276 and parameters: {'topK': 27, 'alpha': 0.25327281856335127, 'beta': 0.18244929981044627}. Best is trial 195 with value: 0.049227550567598775.\n"
     ]
    },
    {
     "name": "stdout",
     "output_type": "stream",
     "text": [
      "EvaluatorHoldout: Processed 10407 (100.0%) in 6.60 sec. Users per second: 1576\n",
      "EvaluatorHoldout: Processed 10439 (100.0%) in 6.58 sec. Users per second: 1585\n",
      "EvaluatorHoldout: Processed 10486 (100.0%) in 6.68 sec. Users per second: 1570\n"
     ]
    },
    {
     "name": "stderr",
     "output_type": "stream",
     "text": [
      "[I 2023-12-11 19:35:10,256] Trial 397 finished with value: 0.048755040263111504 and parameters: {'topK': 41, 'alpha': 0.2798797258349148, 'beta': 0.16401640857871858}. Best is trial 195 with value: 0.049227550567598775.\n"
     ]
    },
    {
     "name": "stdout",
     "output_type": "stream",
     "text": [
      "EvaluatorHoldout: Processed 10407 (100.0%) in 6.43 sec. Users per second: 1619\n",
      "EvaluatorHoldout: Processed 10439 (100.0%) in 6.36 sec. Users per second: 1642\n",
      "EvaluatorHoldout: Processed 10486 (100.0%) in 6.42 sec. Users per second: 1632\n"
     ]
    },
    {
     "name": "stderr",
     "output_type": "stream",
     "text": [
      "[I 2023-12-11 19:35:46,428] Trial 398 finished with value: 0.04897952603024783 and parameters: {'topK': 21, 'alpha': 0.22660644399997015, 'beta': 0.1788036402983109}. Best is trial 195 with value: 0.049227550567598775.\n"
     ]
    },
    {
     "name": "stdout",
     "output_type": "stream",
     "text": [
      "EvaluatorHoldout: Processed 10407 (100.0%) in 6.45 sec. Users per second: 1615\n",
      "EvaluatorHoldout: Processed 10439 (100.0%) in 6.45 sec. Users per second: 1618\n",
      "EvaluatorHoldout: Processed 10486 (100.0%) in 6.46 sec. Users per second: 1623\n"
     ]
    },
    {
     "name": "stderr",
     "output_type": "stream",
     "text": [
      "[I 2023-12-11 19:36:24,261] Trial 399 finished with value: 0.04899765634332511 and parameters: {'topK': 32, 'alpha': 0.4762532763302827, 'beta': 0.18579796518431282}. Best is trial 195 with value: 0.049227550567598775.\n"
     ]
    }
   ],
   "source": [
    "study = optuna.create_study(direction=\"maximize\")\n",
    "study.optimize(train_evaluate, n_trials=400)"
   ]
  },
  {
   "cell_type": "code",
   "execution_count": 13,
   "metadata": {},
   "outputs": [
    {
     "data": {
      "text/plain": [
       "FrozenTrial(number=195, state=1, values=[0.049227550567598775], datetime_start=datetime.datetime(2023, 12, 11, 17, 17, 11, 833446), datetime_complete=datetime.datetime(2023, 12, 11, 17, 17, 53, 423595), params={'topK': 32, 'alpha': 0.22028996694465927, 'beta': 0.17339063177346345}, user_attrs={}, system_attrs={}, intermediate_values={}, distributions={'topK': IntDistribution(high=100, log=False, low=1, step=1), 'alpha': FloatDistribution(high=0.8, log=False, low=0.0, step=None), 'beta': FloatDistribution(high=0.3, log=False, low=0.0, step=None)}, trial_id=195, value=None)"
      ]
     },
     "execution_count": 13,
     "metadata": {},
     "output_type": "execute_result"
    }
   ],
   "source": [
    "# [I 2023-12-11 12:18:43,638] Trial 62 finished with value: 0.0489882573806513 and parameters: {'topK': 32, 'alpha': 0.2313857839079508, 'beta': 0.20420155472511597}. Best is trial 62 with value: 0.0489882573806513.\n",
    "study.best_trial"
   ]
  },
  {
   "cell_type": "code",
   "execution_count": null,
   "metadata": {},
   "outputs": [],
   "source": [
    "# params={'topK': 32, 'alpha': 0.22028996694465927, 'beta': 0.17339063177346345} values=[0.049227550567598775]"
   ]
  }
 ],
 "metadata": {
  "kernelspec": {
   "display_name": "Python 3",
   "language": "python",
   "name": "python3"
  },
  "language_info": {
   "codemirror_mode": {
    "name": "ipython",
    "version": 3
   },
   "file_extension": ".py",
   "mimetype": "text/x-python",
   "name": "python",
   "nbconvert_exporter": "python",
   "pygments_lexer": "ipython3",
   "version": "3.11.7"
  }
 },
 "nbformat": 4,
 "nbformat_minor": 2
}
