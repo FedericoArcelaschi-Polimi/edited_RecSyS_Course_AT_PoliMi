{
 "cells": [
  {
   "cell_type": "code",
   "execution_count": 11,
   "metadata": {},
   "outputs": [
    {
     "name": "stdout",
     "output_type": "stream",
     "text": [
      "The Cython extension is already loaded. To reload it, use:\n",
      "  %reload_ext Cython\n"
     ]
    },
    {
     "name": "stderr",
     "output_type": "stream",
     "text": [
      "C:\\Users\\feder\\AppData\\Local\\Packages\\PythonSoftwareFoundation.Python.3.11_qbz5n2kfra8p0\\LocalCache\\local-packages\\Python311\\site-packages\\tqdm\\auto.py:21: TqdmWarning: IProgress not found. Please update jupyter and ipywidgets. See https://ipywidgets.readthedocs.io/en/stable/user_install.html\n",
      "  from .autonotebook import tqdm as notebook_tqdm\n"
     ]
    }
   ],
   "source": [
    "import numpy as np\n",
    "import matplotlib.pyplot as pyplot\n",
    "import pandas as pd\n",
    "import scipy.sparse as sps\n",
    "%matplotlib inline  \n",
    "%load_ext Cython\n",
    "\n",
    "from Evaluation.Evaluator import EvaluatorHoldout\n",
    "from Data_manager.split_functions.split_train_validation_random_holdout import split_train_in_two_percentage_global_sample\n",
    "from Recommenders.Similarity.Compute_Similarity_Python import Compute_Similarity_Python\n",
    "\n",
    "from Recommenders.KNN.UserKNNCFRecommender import UserKNNCFRecommender\n",
    "from Recommenders.KNN.ItemKNNCFRecommender import ItemKNNCFRecommender\n",
    "from Recommenders.GraphBased.RP3betaRecommender import RP3betaRecommender\n",
    "from Recommenders.GraphBased.P3alphaRecommender import P3alphaRecommender\n",
    "import optuna\n",
    "\n",
    "\n",
    "from Recommenders.KNN.ItemKNNCustomSimilarityRecommender import ItemKNNCustomSimilarityRecommender"
   ]
  },
  {
   "cell_type": "code",
   "execution_count": 7,
   "metadata": {},
   "outputs": [],
   "source": [
    "# data_train_path=\"/kaggle/input/recommender-system-2023-challenge-polimi/data_train.csv\"\n",
    "# data_target_user_path=\"/kaggle/input/recommender-system-2023-challenge-polimi/data_target_users_test.csv\"\n",
    "data_train_path=\"data_train.csv\"\n",
    "data_target_user_path=\"data_target_users_test.csv\"\n",
    "data_train = pd.read_csv(data_train_path)\n",
    "data_target = pd.read_csv(data_target_user_path)"
   ]
  },
  {
   "cell_type": "code",
   "execution_count": 8,
   "metadata": {},
   "outputs": [
    {
     "data": {
      "text/plain": [
       "<13024x22222 sparse matrix of type '<class 'numpy.float64'>'\n",
       "\twith 478730 stored elements in Compressed Sparse Row format>"
      ]
     },
     "execution_count": 8,
     "metadata": {},
     "output_type": "execute_result"
    }
   ],
   "source": [
    "URM_all =  data_train.pivot(index='row', columns='col', values='data').fillna(0)\n",
    "item_map = {i : item for i, item in enumerate(URM_all.columns)}\n",
    "user_map = {i : user for i, user in enumerate(data_target[\"user_id\"])}\n",
    "item_map_inv = {item : i for i, item in item_map.items()}\n",
    "user_map_inv = {user : i for i, user in user_map.items()}\n",
    "missing_index = [x for x in range(1,13025) if x not in URM_all.index.tolist()]\n",
    "add_urm = pd.DataFrame(index = missing_index, columns = URM_all.columns).fillna(0)\n",
    "URM_all = pd.concat([URM_all, add_urm]).sort_index()\n",
    "del add_urm\n",
    "del missing_index\n",
    "#data_target[\"user_id\"] = data_target[\"user_id\"]\n",
    "URM_all = URM_all.to_numpy()\n",
    "URM_all = sps.csr_matrix(URM_all)\n",
    "URM_all"
   ]
  },
  {
   "cell_type": "code",
   "execution_count": 9,
   "metadata": {},
   "outputs": [
    {
     "name": "stdout",
     "output_type": "stream",
     "text": [
      "Warning: 593 (4.55 %) of 13024 users have no train items\n",
      "Warning: 2514 (19.30 %) of 13024 users have no sampled items\n",
      "EvaluatorHoldout: Ignoring 2514 (19.3%) Users that have less than 1 test interactions\n",
      "Warning: 602 (4.62 %) of 13024 users have no train items\n",
      "Warning: 2625 (20.16 %) of 13024 users have no sampled items\n",
      "EvaluatorHoldout: Ignoring 2625 (20.2%) Users that have less than 1 test interactions\n",
      "Warning: 605 (4.65 %) of 13024 users have no train items\n",
      "Warning: 2573 (19.76 %) of 13024 users have no sampled items\n",
      "EvaluatorHoldout: Ignoring 2573 (19.8%) Users that have less than 1 test interactions\n"
     ]
    }
   ],
   "source": [
    "test_folds = 3\n",
    "\n",
    "URM_trains = [None] * test_folds\n",
    "evaluator_tests = [None] * test_folds\n",
    "for i in range(0, test_folds):\n",
    "    URM_trains[i], URM_test = split_train_in_two_percentage_global_sample(URM_all, train_percentage = 0.80)\n",
    "    evaluator_tests[i] = EvaluatorHoldout(URM_test, cutoff_list=[10])"
   ]
  },
  {
   "cell_type": "code",
   "execution_count": 19,
   "metadata": {},
   "outputs": [
    {
     "name": "stdout",
     "output_type": "stream",
     "text": [
      "Unable to load Cython Compute_Similarity, reverting to Python\n",
      "Similarity column 22222 (100.0%), 2321.21 column/sec. Elapsed time 9.57 sec\n",
      "Unable to load Cython Compute_Similarity, reverting to Python\n",
      "Similarity column 22222 (100.0%), 2521.03 column/sec. Elapsed time 8.81 sec\n",
      "Unable to load Cython Compute_Similarity, reverting to Python\n",
      "Similarity column 22222 (100.0%), 2626.21 column/sec. Elapsed time 8.46 sec\n"
     ]
    }
   ],
   "source": [
    "item_knn_recommenders = ItemKNNCFRecommender(URM_trains[0], verbose=False), ItemKNNCFRecommender(URM_trains[1], verbose=False), ItemKNNCFRecommender(URM_trains[2], verbose=False)\n",
    "RP3beta_recommenders = RP3betaRecommender(URM_trains[0], verbose=False), RP3betaRecommender(URM_trains[1], verbose=False), RP3betaRecommender(URM_trains[2], verbose=False)\n",
    "P3alpha_recommenders = P3alphaRecommender(URM_trains[0], verbose=False), P3alphaRecommender(URM_trains[1], verbose=False), P3alphaRecommender(URM_trains[2], verbose=False)\n",
    "# user_knn_recommender = UserKNNCFRecommender(URM_train)\n",
    "\n",
    "for i in range(0, test_folds):\n",
    "    item_knn_recommenders[i].fit(shrink=6.982686167013746, topK=9)\n",
    "    RP3beta_recommenders[i].fit(alpha=0.20026352123406477, beta=0.15999879728761354, topK=32)\n",
    "    P3alpha_recommenders[i].fit(topK=41, alpha=0.7384557977476195)\n",
    "    # user_knn_recommender[i].fit(shrink=0, topK=483)\n",
    "\n"
   ]
  },
  {
   "cell_type": "code",
   "execution_count": 23,
   "metadata": {},
   "outputs": [],
   "source": [
    "from Recommenders.BaseRecommender import BaseRecommender\n",
    "\n",
    "class ScoresHybridRecommender(BaseRecommender):\n",
    "    \"\"\" ScoresHybridRecommender\n",
    "    Hybrid of two prediction scores R = R1*alpha + R2*(1-alpha)\n",
    "\n",
    "    \"\"\"\n",
    "\n",
    "    RECOMMENDER_NAME = \"ScoresHybridRecommender\"\n",
    "\n",
    "    def __init__(self, URM_train, recommender_1, recommender_2, recommender_3, verbose = True):\n",
    "\n",
    "        super(ScoresHybridRecommender, self).__init__(URM_train, verbose=verbose)\n",
    "\n",
    "        self.URM_train = sps.csr_matrix(URM_train)\n",
    "        self.recommender_1 = recommender_1\n",
    "        self.recommender_2 = recommender_2\n",
    "        self.recommender_3 = recommender_3\n",
    "        \n",
    "        \n",
    "    def fit(self, alpha = 0.5, beta = 0.5):\n",
    "        self.alpha = alpha    \n",
    "        self.beta = beta\n",
    "\n",
    "\n",
    "    def _compute_item_score(self, user_id_array, items_to_compute):\n",
    "        \n",
    "        # In a simple extension this could be a loop over a list of pretrained recommender objects\n",
    "        item_weights_1 = self.recommender_1._compute_item_score(user_id_array)\n",
    "        item_weights_2 = self.recommender_2._compute_item_score(user_id_array)\n",
    "        item_weights_3 = self.recommender_3._compute_item_score(user_id_array)\n",
    "\n",
    "        item_weights = item_weights_1*self.alpha + item_weights_2*self.beta + item_weights_3*(1-self.alpha-self.beta)\n",
    "\n",
    "        return item_weights"
   ]
  },
  {
   "cell_type": "code",
   "execution_count": 24,
   "metadata": {},
   "outputs": [],
   "source": [
    "def train_evaluate(optuna_trial):\n",
    "    alpha = optuna_trial.suggest_float(\"alpha\", 0.0, 1.0)\n",
    "    beta = optuna_trial.suggest_float(\"beta\", 0.0, 1.0 - alpha)\n",
    "\n",
    "    mAP = 0.0\n",
    "    for i in range(0, test_folds):\n",
    "        P3alpha = ScoresHybridRecommender(URM_trains[i], item_knn_recommenders[i], RP3beta_recommenders[i], P3alpha_recommenders[i], verbose=False)\n",
    "        P3alpha.fit(alpha=alpha, beta=beta)\n",
    "        result_df, _ = evaluator_tests[i].evaluateRecommender(P3alpha)\n",
    "        mAP += result_df[\"MAP\"].values[0]\n",
    "    mAP /= test_folds\n",
    "    return mAP"
   ]
  },
  {
   "cell_type": "code",
   "execution_count": 25,
   "metadata": {},
   "outputs": [
    {
     "name": "stderr",
     "output_type": "stream",
     "text": [
      "[I 2023-12-11 14:04:47,807] A new study created in memory with name: no-name-dd5651ca-4550-438f-952d-4a1e0f32ffba\n"
     ]
    },
    {
     "name": "stdout",
     "output_type": "stream",
     "text": [
      "EvaluatorHoldout: Processed 10510 (100.0%) in 10.22 sec. Users per second: 1029\n",
      "EvaluatorHoldout: Processed 10399 (100.0%) in 10.00 sec. Users per second: 1040\n",
      "EvaluatorHoldout: Processed 10451 (100.0%) in 10.16 sec. Users per second: 1029\n"
     ]
    },
    {
     "name": "stderr",
     "output_type": "stream",
     "text": [
      "[I 2023-12-11 14:05:18,243] Trial 0 finished with value: 0.04778811296852026 and parameters: {'alpha': 0.3696220146091105, 'beta': 0.36926436280949976}. Best is trial 0 with value: 0.04778811296852026.\n"
     ]
    },
    {
     "name": "stdout",
     "output_type": "stream",
     "text": [
      "EvaluatorHoldout: Processed 10510 (100.0%) in 10.33 sec. Users per second: 1017\n",
      "EvaluatorHoldout: Processed 10399 (100.0%) in 10.06 sec. Users per second: 1034\n",
      "EvaluatorHoldout: Processed 10451 (100.0%) in 10.08 sec. Users per second: 1037\n"
     ]
    },
    {
     "name": "stderr",
     "output_type": "stream",
     "text": [
      "[I 2023-12-11 14:05:48,773] Trial 1 finished with value: 0.04373641485255658 and parameters: {'alpha': 0.0049265111642734505, 'beta': 0.04470057217707943}. Best is trial 0 with value: 0.04778811296852026.\n"
     ]
    },
    {
     "name": "stdout",
     "output_type": "stream",
     "text": [
      "EvaluatorHoldout: Processed 10510 (100.0%) in 10.33 sec. Users per second: 1018\n",
      "EvaluatorHoldout: Processed 10399 (100.0%) in 10.22 sec. Users per second: 1018\n",
      "EvaluatorHoldout: Processed 10451 (100.0%) in 10.21 sec. Users per second: 1024\n"
     ]
    },
    {
     "name": "stderr",
     "output_type": "stream",
     "text": [
      "[I 2023-12-11 14:06:19,594] Trial 2 finished with value: 0.04555373542756499 and parameters: {'alpha': 0.7594163883173883, 'beta': 0.1866681093678739}. Best is trial 0 with value: 0.04778811296852026.\n"
     ]
    },
    {
     "name": "stdout",
     "output_type": "stream",
     "text": [
      "EvaluatorHoldout: Processed 10510 (100.0%) in 10.18 sec. Users per second: 1032\n",
      "EvaluatorHoldout: Processed 10399 (100.0%) in 10.17 sec. Users per second: 1022\n",
      "EvaluatorHoldout: Processed 10451 (100.0%) in 10.22 sec. Users per second: 1022\n"
     ]
    },
    {
     "name": "stderr",
     "output_type": "stream",
     "text": [
      "[I 2023-12-11 14:06:50,238] Trial 3 finished with value: 0.04536278124783507 and parameters: {'alpha': 0.8105741789082201, 'beta': 0.12234656411470632}. Best is trial 0 with value: 0.04778811296852026.\n"
     ]
    },
    {
     "name": "stdout",
     "output_type": "stream",
     "text": [
      "EvaluatorHoldout: Processed 10510 (100.0%) in 10.24 sec. Users per second: 1026\n",
      "EvaluatorHoldout: Processed 10399 (100.0%) in 10.06 sec. Users per second: 1033\n",
      "EvaluatorHoldout: Processed 10451 (100.0%) in 10.14 sec. Users per second: 1030\n"
     ]
    },
    {
     "name": "stderr",
     "output_type": "stream",
     "text": [
      "[I 2023-12-11 14:07:20,750] Trial 4 finished with value: 0.04937745391103184 and parameters: {'alpha': 0.13703285240024643, 'beta': 0.5093184889025336}. Best is trial 4 with value: 0.04937745391103184.\n"
     ]
    },
    {
     "name": "stdout",
     "output_type": "stream",
     "text": [
      "EvaluatorHoldout: Processed 10510 (100.0%) in 10.51 sec. Users per second: 1000\n",
      "EvaluatorHoldout: Processed 10399 (100.0%) in 10.84 sec. Users per second: 960\n",
      "EvaluatorHoldout: Processed 10451 (100.0%) in 10.28 sec. Users per second: 1016\n"
     ]
    },
    {
     "name": "stderr",
     "output_type": "stream",
     "text": [
      "[I 2023-12-11 14:07:52,448] Trial 5 finished with value: 0.045897319366030614 and parameters: {'alpha': 0.6621529310181699, 'beta': 0.03298976081990666}. Best is trial 4 with value: 0.04937745391103184.\n"
     ]
    },
    {
     "name": "stdout",
     "output_type": "stream",
     "text": [
      "EvaluatorHoldout: Processed 10510 (100.0%) in 10.19 sec. Users per second: 1031\n",
      "EvaluatorHoldout: Processed 10399 (100.0%) in 10.34 sec. Users per second: 1006\n",
      "EvaluatorHoldout: Processed 10451 (100.0%) in 10.29 sec. Users per second: 1016\n"
     ]
    },
    {
     "name": "stderr",
     "output_type": "stream",
     "text": [
      "[I 2023-12-11 14:08:23,330] Trial 6 finished with value: 0.04598148921884134 and parameters: {'alpha': 0.6519215120837127, 'beta': 0.14244866977489526}. Best is trial 4 with value: 0.04937745391103184.\n"
     ]
    },
    {
     "name": "stdout",
     "output_type": "stream",
     "text": [
      "EvaluatorHoldout: Processed 10510 (100.0%) in 10.19 sec. Users per second: 1031\n",
      "EvaluatorHoldout: Processed 10399 (100.0%) in 9.84 sec. Users per second: 1056\n",
      "EvaluatorHoldout: Processed 10451 (100.0%) in 9.73 sec. Users per second: 1074\n"
     ]
    },
    {
     "name": "stderr",
     "output_type": "stream",
     "text": [
      "[I 2023-12-11 14:08:53,162] Trial 7 finished with value: 0.04767175042292301 and parameters: {'alpha': 0.37338238314543626, 'beta': 0.2352438224713795}. Best is trial 4 with value: 0.04937745391103184.\n"
     ]
    },
    {
     "name": "stdout",
     "output_type": "stream",
     "text": [
      "EvaluatorHoldout: Processed 10510 (100.0%) in 9.71 sec. Users per second: 1082\n",
      "EvaluatorHoldout: Processed 10399 (100.0%) in 9.63 sec. Users per second: 1080\n",
      "EvaluatorHoldout: Processed 10451 (100.0%) in 9.65 sec. Users per second: 1083\n"
     ]
    },
    {
     "name": "stderr",
     "output_type": "stream",
     "text": [
      "[I 2023-12-11 14:09:22,209] Trial 8 finished with value: 0.04609953762247124 and parameters: {'alpha': 0.6401422992069546, 'beta': 0.2921636786178408}. Best is trial 4 with value: 0.04937745391103184.\n"
     ]
    },
    {
     "name": "stdout",
     "output_type": "stream",
     "text": [
      "EvaluatorHoldout: Processed 10510 (100.0%) in 9.71 sec. Users per second: 1082\n",
      "EvaluatorHoldout: Processed 10399 (100.0%) in 9.59 sec. Users per second: 1084\n",
      "EvaluatorHoldout: Processed 10451 (100.0%) in 9.67 sec. Users per second: 1081\n"
     ]
    },
    {
     "name": "stderr",
     "output_type": "stream",
     "text": [
      "[I 2023-12-11 14:09:51,238] Trial 9 finished with value: 0.045889059401629406 and parameters: {'alpha': 0.6735581805315839, 'beta': 0.10660112445290985}. Best is trial 4 with value: 0.04937745391103184.\n"
     ]
    },
    {
     "name": "stdout",
     "output_type": "stream",
     "text": [
      "EvaluatorHoldout: Processed 10510 (100.0%) in 9.70 sec. Users per second: 1084\n",
      "EvaluatorHoldout: Processed 10399 (100.0%) in 9.65 sec. Users per second: 1078\n",
      "EvaluatorHoldout: Processed 10451 (100.0%) in 9.70 sec. Users per second: 1077\n"
     ]
    },
    {
     "name": "stderr",
     "output_type": "stream",
     "text": [
      "[I 2023-12-11 14:10:20,355] Trial 10 finished with value: 0.049480567580403 and parameters: {'alpha': 0.018627611408418177, 'beta': 0.6742941826000235}. Best is trial 10 with value: 0.049480567580403.\n"
     ]
    },
    {
     "name": "stdout",
     "output_type": "stream",
     "text": [
      "EvaluatorHoldout: Processed 10510 (100.0%) in 9.70 sec. Users per second: 1084\n",
      "EvaluatorHoldout: Processed 10399 (100.0%) in 9.74 sec. Users per second: 1067\n",
      "EvaluatorHoldout: Processed 10451 (100.0%) in 9.67 sec. Users per second: 1081\n"
     ]
    },
    {
     "name": "stderr",
     "output_type": "stream",
     "text": [
      "[I 2023-12-11 14:10:49,527] Trial 11 finished with value: 0.04931346207141446 and parameters: {'alpha': 0.00940378552208751, 'beta': 0.6645411570672395}. Best is trial 10 with value: 0.049480567580403.\n"
     ]
    },
    {
     "name": "stdout",
     "output_type": "stream",
     "text": [
      "EvaluatorHoldout: Processed 10510 (100.0%) in 9.70 sec. Users per second: 1083\n",
      "EvaluatorHoldout: Processed 10399 (100.0%) in 9.57 sec. Users per second: 1087\n",
      "EvaluatorHoldout: Processed 10451 (100.0%) in 9.65 sec. Users per second: 1083\n"
     ]
    },
    {
     "name": "stderr",
     "output_type": "stream",
     "text": [
      "[I 2023-12-11 14:11:18,515] Trial 12 finished with value: 0.04958154208952531 and parameters: {'alpha': 0.1392663533083968, 'beta': 0.5849580910363229}. Best is trial 12 with value: 0.04958154208952531.\n",
      "C:\\Users\\feder\\AppData\\Local\\Packages\\PythonSoftwareFoundation.Python.3.11_qbz5n2kfra8p0\\LocalCache\\local-packages\\Python311\\site-packages\\optuna\\samplers\\_tpe\\sampler.py:494: RuntimeWarning: invalid value encountered in subtract\n",
      "  score = log_l - log_g\n"
     ]
    },
    {
     "name": "stdout",
     "output_type": "stream",
     "text": [
      "EvaluatorHoldout: Processed 10510 (100.0%) in 9.68 sec. Users per second: 1085\n",
      "EvaluatorHoldout: Processed 10399 (100.0%) in 9.58 sec. Users per second: 1086\n",
      "EvaluatorHoldout: Processed 10451 (100.0%) in 9.61 sec. Users per second: 1087\n"
     ]
    },
    {
     "name": "stderr",
     "output_type": "stream",
     "text": [
      "[I 2023-12-11 14:11:47,460] Trial 13 finished with value: 0.04448760788765043 and parameters: {'alpha': 0.9991403935307058, 'beta': 0.6709187379657401}. Best is trial 12 with value: 0.04958154208952531.\n"
     ]
    },
    {
     "name": "stdout",
     "output_type": "stream",
     "text": [
      "EvaluatorHoldout: Processed 10510 (100.0%) in 9.68 sec. Users per second: 1085\n",
      "EvaluatorHoldout: Processed 10399 (100.0%) in 9.57 sec. Users per second: 1087\n",
      "EvaluatorHoldout: Processed 10451 (100.0%) in 9.63 sec. Users per second: 1085\n"
     ]
    },
    {
     "name": "stderr",
     "output_type": "stream",
     "text": [
      "[I 2023-12-11 14:12:16,409] Trial 14 finished with value: 0.049525415499872015 and parameters: {'alpha': 0.17084336159490315, 'beta': 0.7969359556993706}. Best is trial 12 with value: 0.04958154208952531.\n"
     ]
    },
    {
     "name": "stdout",
     "output_type": "stream",
     "text": [
      "EvaluatorHoldout: Processed 10510 (100.0%) in 9.76 sec. Users per second: 1077\n",
      "EvaluatorHoldout: Processed 10399 (100.0%) in 9.60 sec. Users per second: 1083\n",
      "EvaluatorHoldout: Processed 10451 (100.0%) in 9.64 sec. Users per second: 1084\n"
     ]
    },
    {
     "name": "stderr",
     "output_type": "stream",
     "text": [
      "[I 2023-12-11 14:12:45,474] Trial 15 finished with value: 0.04889667565719841 and parameters: {'alpha': 0.23945100372163672, 'beta': 0.7529988551631734}. Best is trial 12 with value: 0.04958154208952531.\n"
     ]
    },
    {
     "name": "stdout",
     "output_type": "stream",
     "text": [
      "EvaluatorHoldout: Processed 10510 (100.0%) in 9.71 sec. Users per second: 1082\n",
      "EvaluatorHoldout: Processed 10399 (100.0%) in 9.61 sec. Users per second: 1082\n",
      "EvaluatorHoldout: Processed 10451 (100.0%) in 9.78 sec. Users per second: 1069\n"
     ]
    },
    {
     "name": "stderr",
     "output_type": "stream",
     "text": [
      "[I 2023-12-11 14:13:14,644] Trial 16 finished with value: 0.04934579789516406 and parameters: {'alpha': 0.1921872977980138, 'beta': 0.803307936183304}. Best is trial 12 with value: 0.04958154208952531.\n"
     ]
    },
    {
     "name": "stdout",
     "output_type": "stream",
     "text": [
      "EvaluatorHoldout: Processed 10510 (100.0%) in 9.75 sec. Users per second: 1078\n",
      "EvaluatorHoldout: Processed 10399 (100.0%) in 9.67 sec. Users per second: 1075\n",
      "EvaluatorHoldout: Processed 10451 (100.0%) in 9.69 sec. Users per second: 1078\n"
     ]
    },
    {
     "name": "stderr",
     "output_type": "stream",
     "text": [
      "[I 2023-12-11 14:13:43,824] Trial 17 finished with value: 0.048379333529569885 and parameters: {'alpha': 0.2996041720209234, 'beta': 0.5323147036770026}. Best is trial 12 with value: 0.04958154208952531.\n"
     ]
    },
    {
     "name": "stdout",
     "output_type": "stream",
     "text": [
      "EvaluatorHoldout: Processed 10510 (100.0%) in 9.95 sec. Users per second: 1057\n",
      "EvaluatorHoldout: Processed 10399 (100.0%) in 9.61 sec. Users per second: 1082\n",
      "EvaluatorHoldout: Processed 10451 (100.0%) in 9.80 sec. Users per second: 1066\n"
     ]
    },
    {
     "name": "stderr",
     "output_type": "stream",
     "text": [
      "[I 2023-12-11 14:14:13,251] Trial 18 finished with value: 0.047397007621454774 and parameters: {'alpha': 0.4255794567956289, 'beta': 0.41851826732008407}. Best is trial 12 with value: 0.04958154208952531.\n"
     ]
    },
    {
     "name": "stdout",
     "output_type": "stream",
     "text": [
      "EvaluatorHoldout: Processed 10510 (100.0%) in 9.87 sec. Users per second: 1065\n",
      "EvaluatorHoldout: Processed 10399 (100.0%) in 9.69 sec. Users per second: 1073\n",
      "EvaluatorHoldout: Processed 10451 (100.0%) in 9.69 sec. Users per second: 1079\n"
     ]
    },
    {
     "name": "stderr",
     "output_type": "stream",
     "text": [
      "[I 2023-12-11 14:14:42,565] Trial 19 finished with value: 0.04973523822688845 and parameters: {'alpha': 0.13159507072138746, 'beta': 0.8548312877278958}. Best is trial 19 with value: 0.04973523822688845.\n"
     ]
    },
    {
     "name": "stdout",
     "output_type": "stream",
     "text": [
      "EvaluatorHoldout: Processed 10510 (100.0%) in 9.72 sec. Users per second: 1081\n",
      "EvaluatorHoldout: Processed 10399 (100.0%) in 9.62 sec. Users per second: 1082\n",
      "EvaluatorHoldout: Processed 10451 (100.0%) in 9.66 sec. Users per second: 1082\n"
     ]
    },
    {
     "name": "stderr",
     "output_type": "stream",
     "text": [
      "[I 2023-12-11 14:15:11,629] Trial 20 finished with value: 0.049825163466104626 and parameters: {'alpha': 0.10821780080375601, 'beta': 0.8363798235363957}. Best is trial 20 with value: 0.049825163466104626.\n"
     ]
    },
    {
     "name": "stdout",
     "output_type": "stream",
     "text": [
      "EvaluatorHoldout: Processed 10510 (100.0%) in 9.71 sec. Users per second: 1082\n",
      "EvaluatorHoldout: Processed 10399 (100.0%) in 9.61 sec. Users per second: 1082\n",
      "EvaluatorHoldout: Processed 10451 (100.0%) in 9.68 sec. Users per second: 1080\n"
     ]
    },
    {
     "name": "stderr",
     "output_type": "stream",
     "text": [
      "[I 2023-12-11 14:15:40,696] Trial 21 finished with value: 0.0497632026015938 and parameters: {'alpha': 0.11041336835038479, 'beta': 0.8676765782426755}. Best is trial 20 with value: 0.049825163466104626.\n"
     ]
    },
    {
     "name": "stdout",
     "output_type": "stream",
     "text": [
      "EvaluatorHoldout: Processed 10510 (100.0%) in 9.72 sec. Users per second: 1081\n",
      "EvaluatorHoldout: Processed 10399 (100.0%) in 9.63 sec. Users per second: 1080\n",
      "EvaluatorHoldout: Processed 10451 (100.0%) in 9.73 sec. Users per second: 1074\n"
     ]
    },
    {
     "name": "stderr",
     "output_type": "stream",
     "text": [
      "[I 2023-12-11 14:16:09,838] Trial 22 finished with value: 0.049774423965756355 and parameters: {'alpha': 0.09143626737834133, 'beta': 0.8809914400133191}. Best is trial 20 with value: 0.049825163466104626.\n"
     ]
    },
    {
     "name": "stdout",
     "output_type": "stream",
     "text": [
      "EvaluatorHoldout: Processed 10510 (100.0%) in 9.88 sec. Users per second: 1064\n",
      "EvaluatorHoldout: Processed 10399 (100.0%) in 9.82 sec. Users per second: 1059\n",
      "EvaluatorHoldout: Processed 10451 (100.0%) in 9.70 sec. Users per second: 1077\n"
     ]
    },
    {
     "name": "stderr",
     "output_type": "stream",
     "text": [
      "[I 2023-12-11 14:16:39,307] Trial 23 finished with value: 0.048796355528097905 and parameters: {'alpha': 0.2603169130003419, 'beta': 0.668737247476274}. Best is trial 20 with value: 0.049825163466104626.\n"
     ]
    },
    {
     "name": "stdout",
     "output_type": "stream",
     "text": [
      "EvaluatorHoldout: Processed 10510 (100.0%) in 9.77 sec. Users per second: 1076\n",
      "EvaluatorHoldout: Processed 10399 (100.0%) in 9.64 sec. Users per second: 1078\n",
      "EvaluatorHoldout: Processed 10451 (100.0%) in 9.68 sec. Users per second: 1079\n"
     ]
    },
    {
     "name": "stderr",
     "output_type": "stream",
     "text": [
      "[I 2023-12-11 14:17:08,469] Trial 24 finished with value: 0.04972443004794844 and parameters: {'alpha': 0.10746830436943586, 'beta': 0.8891867881275559}. Best is trial 20 with value: 0.049825163466104626.\n"
     ]
    },
    {
     "name": "stdout",
     "output_type": "stream",
     "text": [
      "EvaluatorHoldout: Processed 10510 (100.0%) in 9.68 sec. Users per second: 1086\n",
      "EvaluatorHoldout: Processed 10399 (100.0%) in 9.61 sec. Users per second: 1082\n",
      "EvaluatorHoldout: Processed 10451 (100.0%) in 9.67 sec. Users per second: 1081\n"
     ]
    },
    {
     "name": "stderr",
     "output_type": "stream",
     "text": [
      "[I 2023-12-11 14:17:37,490] Trial 25 finished with value: 0.04867387718679846 and parameters: {'alpha': 0.2682134691836515, 'beta': 0.6063205259825126}. Best is trial 20 with value: 0.049825163466104626.\n"
     ]
    },
    {
     "name": "stdout",
     "output_type": "stream",
     "text": [
      "EvaluatorHoldout: Processed 10510 (100.0%) in 9.79 sec. Users per second: 1073\n",
      "EvaluatorHoldout: Processed 10399 (100.0%) in 9.58 sec. Users per second: 1085\n",
      "EvaluatorHoldout: Processed 10451 (100.0%) in 9.63 sec. Users per second: 1085\n"
     ]
    },
    {
     "name": "stderr",
     "output_type": "stream",
     "text": [
      "[I 2023-12-11 14:18:06,562] Trial 26 finished with value: 0.04975139879734636 and parameters: {'alpha': 0.08820883135666252, 'beta': 0.9097767368964097}. Best is trial 20 with value: 0.049825163466104626.\n"
     ]
    },
    {
     "name": "stdout",
     "output_type": "stream",
     "text": [
      "EvaluatorHoldout: Processed 10510 (100.0%) in 9.72 sec. Users per second: 1081\n",
      "EvaluatorHoldout: Processed 10399 (100.0%) in 9.68 sec. Users per second: 1074\n",
      "EvaluatorHoldout: Processed 10451 (100.0%) in 9.62 sec. Users per second: 1087\n"
     ]
    },
    {
     "name": "stderr",
     "output_type": "stream",
     "text": [
      "[I 2023-12-11 14:18:35,652] Trial 27 finished with value: 0.049761580201623516 and parameters: {'alpha': 0.07043254088368361, 'beta': 0.9158019230818343}. Best is trial 20 with value: 0.049825163466104626.\n"
     ]
    },
    {
     "name": "stdout",
     "output_type": "stream",
     "text": [
      "EvaluatorHoldout: Processed 10510 (100.0%) in 9.71 sec. Users per second: 1082\n",
      "EvaluatorHoldout: Processed 10399 (100.0%) in 9.61 sec. Users per second: 1082\n",
      "EvaluatorHoldout: Processed 10451 (100.0%) in 9.66 sec. Users per second: 1082\n"
     ]
    },
    {
     "name": "stderr",
     "output_type": "stream",
     "text": [
      "[I 2023-12-11 14:19:04,693] Trial 28 finished with value: 0.049301364681095555 and parameters: {'alpha': 0.19247615577135693, 'beta': 0.7387245274454427}. Best is trial 20 with value: 0.049825163466104626.\n"
     ]
    },
    {
     "name": "stdout",
     "output_type": "stream",
     "text": [
      "EvaluatorHoldout: Processed 10510 (100.0%) in 9.71 sec. Users per second: 1082\n",
      "EvaluatorHoldout: Processed 10399 (100.0%) in 9.64 sec. Users per second: 1078\n",
      "EvaluatorHoldout: Processed 10451 (100.0%) in 9.60 sec. Users per second: 1089\n"
     ]
    },
    {
     "name": "stderr",
     "output_type": "stream",
     "text": [
      "[I 2023-12-11 14:19:33,715] Trial 29 finished with value: 0.04820986616669798 and parameters: {'alpha': 0.30903863965458944, 'beta': 0.3713110436321116}. Best is trial 20 with value: 0.049825163466104626.\n"
     ]
    },
    {
     "name": "stdout",
     "output_type": "stream",
     "text": [
      "EvaluatorHoldout: Processed 10510 (100.0%) in 9.78 sec. Users per second: 1075\n",
      "EvaluatorHoldout: Processed 10399 (100.0%) in 9.66 sec. Users per second: 1076\n",
      "EvaluatorHoldout: Processed 10451 (100.0%) in 9.67 sec. Users per second: 1081\n"
     ]
    },
    {
     "name": "stderr",
     "output_type": "stream",
     "text": [
      "[I 2023-12-11 14:20:02,891] Trial 30 finished with value: 0.0499107693715578 and parameters: {'alpha': 0.07110707993893352, 'beta': 0.8486911154790521}. Best is trial 30 with value: 0.0499107693715578.\n"
     ]
    },
    {
     "name": "stdout",
     "output_type": "stream",
     "text": [
      "EvaluatorHoldout: Processed 10510 (100.0%) in 9.67 sec. Users per second: 1087\n",
      "EvaluatorHoldout: Processed 10399 (100.0%) in 9.59 sec. Users per second: 1084\n",
      "EvaluatorHoldout: Processed 10451 (100.0%) in 9.62 sec. Users per second: 1087\n"
     ]
    },
    {
     "name": "stderr",
     "output_type": "stream",
     "text": [
      "[I 2023-12-11 14:20:31,835] Trial 31 finished with value: 0.04992313034501807 and parameters: {'alpha': 0.0630481649358596, 'beta': 0.8381570167406347}. Best is trial 31 with value: 0.04992313034501807.\n"
     ]
    },
    {
     "name": "stdout",
     "output_type": "stream",
     "text": [
      "EvaluatorHoldout: Processed 10510 (100.0%) in 9.73 sec. Users per second: 1080\n",
      "EvaluatorHoldout: Processed 10399 (100.0%) in 9.64 sec. Users per second: 1079\n",
      "EvaluatorHoldout: Processed 10451 (100.0%) in 9.59 sec. Users per second: 1090\n"
     ]
    },
    {
     "name": "stderr",
     "output_type": "stream",
     "text": [
      "[I 2023-12-11 14:21:00,855] Trial 32 finished with value: 0.04976237995611079 and parameters: {'alpha': 0.048531529647466244, 'beta': 0.9359649621978083}. Best is trial 31 with value: 0.04992313034501807.\n"
     ]
    },
    {
     "name": "stdout",
     "output_type": "stream",
     "text": [
      "EvaluatorHoldout: Processed 10510 (100.0%) in 9.70 sec. Users per second: 1083\n",
      "EvaluatorHoldout: Processed 10399 (100.0%) in 9.69 sec. Users per second: 1073\n",
      "EvaluatorHoldout: Processed 10451 (100.0%) in 9.67 sec. Users per second: 1081\n"
     ]
    },
    {
     "name": "stderr",
     "output_type": "stream",
     "text": [
      "[I 2023-12-11 14:21:29,984] Trial 33 finished with value: 0.04993948308507986 and parameters: {'alpha': 0.05308753343981705, 'beta': 0.8251041559872481}. Best is trial 33 with value: 0.04993948308507986.\n"
     ]
    },
    {
     "name": "stdout",
     "output_type": "stream",
     "text": [
      "EvaluatorHoldout: Processed 10510 (100.0%) in 9.78 sec. Users per second: 1074\n",
      "EvaluatorHoldout: Processed 10399 (100.0%) in 9.56 sec. Users per second: 1088\n",
      "EvaluatorHoldout: Processed 10451 (100.0%) in 9.61 sec. Users per second: 1088\n"
     ]
    },
    {
     "name": "stderr",
     "output_type": "stream",
     "text": [
      "[I 2023-12-11 14:21:58,999] Trial 34 finished with value: 0.04979813166721936 and parameters: {'alpha': 0.017072350996253052, 'beta': 0.8277932119254806}. Best is trial 33 with value: 0.04993948308507986.\n"
     ]
    },
    {
     "name": "stdout",
     "output_type": "stream",
     "text": [
      "EvaluatorHoldout: Processed 10510 (100.0%) in 9.69 sec. Users per second: 1085\n",
      "EvaluatorHoldout: Processed 10399 (100.0%) in 9.60 sec. Users per second: 1083\n",
      "EvaluatorHoldout: Processed 10451 (100.0%) in 9.61 sec. Users per second: 1087\n"
     ]
    },
    {
     "name": "stderr",
     "output_type": "stream",
     "text": [
      "[I 2023-12-11 14:22:27,970] Trial 35 finished with value: 0.049951014913233484 and parameters: {'alpha': 0.05359664249955021, 'beta': 0.7486286816706461}. Best is trial 35 with value: 0.049951014913233484.\n"
     ]
    },
    {
     "name": "stdout",
     "output_type": "stream",
     "text": [
      "EvaluatorHoldout: Processed 10510 (100.0%) in 9.72 sec. Users per second: 1081\n",
      "EvaluatorHoldout: Processed 10399 (100.0%) in 9.70 sec. Users per second: 1072\n",
      "EvaluatorHoldout: Processed 10451 (100.0%) in 9.65 sec. Users per second: 1083\n"
     ]
    },
    {
     "name": "stderr",
     "output_type": "stream",
     "text": [
      "[I 2023-12-11 14:22:57,107] Trial 36 finished with value: 0.049363369844030024 and parameters: {'alpha': 0.009972520983988965, 'beta': 0.9856240648678212}. Best is trial 35 with value: 0.049951014913233484.\n"
     ]
    },
    {
     "name": "stdout",
     "output_type": "stream",
     "text": [
      "EvaluatorHoldout: Processed 10510 (100.0%) in 9.71 sec. Users per second: 1083\n",
      "EvaluatorHoldout: Processed 10399 (100.0%) in 9.64 sec. Users per second: 1079\n",
      "EvaluatorHoldout: Processed 10451 (100.0%) in 9.74 sec. Users per second: 1073\n"
     ]
    },
    {
     "name": "stderr",
     "output_type": "stream",
     "text": [
      "[I 2023-12-11 14:23:26,259] Trial 37 finished with value: 0.04910246686685767 and parameters: {'alpha': 0.2205876723917377, 'beta': 0.7304153212972576}. Best is trial 35 with value: 0.049951014913233484.\n"
     ]
    },
    {
     "name": "stdout",
     "output_type": "stream",
     "text": [
      "EvaluatorHoldout: Processed 10510 (100.0%) in 9.63 sec. Users per second: 1091\n",
      "EvaluatorHoldout: Processed 10399 (100.0%) in 9.58 sec. Users per second: 1085\n",
      "EvaluatorHoldout: Processed 10451 (100.0%) in 9.60 sec. Users per second: 1089\n"
     ]
    },
    {
     "name": "stderr",
     "output_type": "stream",
     "text": [
      "[I 2023-12-11 14:23:55,144] Trial 38 finished with value: 0.049556858225578204 and parameters: {'alpha': 0.16073263512562785, 'beta': 0.7739014928892796}. Best is trial 35 with value: 0.049951014913233484.\n"
     ]
    },
    {
     "name": "stdout",
     "output_type": "stream",
     "text": [
      "EvaluatorHoldout: Processed 10510 (100.0%) in 9.70 sec. Users per second: 1084\n",
      "EvaluatorHoldout: Processed 10399 (100.0%) in 9.69 sec. Users per second: 1073\n",
      "EvaluatorHoldout: Processed 10451 (100.0%) in 9.61 sec. Users per second: 1088\n"
     ]
    },
    {
     "name": "stderr",
     "output_type": "stream",
     "text": [
      "[I 2023-12-11 14:24:24,205] Trial 39 finished with value: 0.04995976679896492 and parameters: {'alpha': 0.045359836260897984, 'beta': 0.8140965073001262}. Best is trial 39 with value: 0.04995976679896492.\n"
     ]
    },
    {
     "name": "stdout",
     "output_type": "stream",
     "text": [
      "EvaluatorHoldout: Processed 10510 (100.0%) in 9.66 sec. Users per second: 1088\n",
      "EvaluatorHoldout: Processed 10399 (100.0%) in 9.61 sec. Users per second: 1082\n",
      "EvaluatorHoldout: Processed 10451 (100.0%) in 9.60 sec. Users per second: 1089\n"
     ]
    },
    {
     "name": "stderr",
     "output_type": "stream",
     "text": [
      "[I 2023-12-11 14:24:53,145] Trial 40 finished with value: 0.04998095336970298 and parameters: {'alpha': 0.05967323102379198, 'beta': 0.7984977778337328}. Best is trial 40 with value: 0.04998095336970298.\n"
     ]
    },
    {
     "name": "stdout",
     "output_type": "stream",
     "text": [
      "EvaluatorHoldout: Processed 10510 (100.0%) in 9.79 sec. Users per second: 1074\n",
      "EvaluatorHoldout: Processed 10399 (100.0%) in 9.58 sec. Users per second: 1086\n",
      "EvaluatorHoldout: Processed 10451 (100.0%) in 9.64 sec. Users per second: 1084\n"
     ]
    },
    {
     "name": "stderr",
     "output_type": "stream",
     "text": [
      "[I 2023-12-11 14:25:22,223] Trial 41 finished with value: 0.04994485072429731 and parameters: {'alpha': 0.055115154316250796, 'beta': 0.7708764391304163}. Best is trial 40 with value: 0.04998095336970298.\n"
     ]
    },
    {
     "name": "stdout",
     "output_type": "stream",
     "text": [
      "EvaluatorHoldout: Processed 10510 (100.0%) in 9.82 sec. Users per second: 1071\n",
      "EvaluatorHoldout: Processed 10399 (100.0%) in 9.67 sec. Users per second: 1075\n",
      "EvaluatorHoldout: Processed 10451 (100.0%) in 9.68 sec. Users per second: 1079\n"
     ]
    },
    {
     "name": "stderr",
     "output_type": "stream",
     "text": [
      "[I 2023-12-11 14:25:51,465] Trial 42 finished with value: 0.04957281462821186 and parameters: {'alpha': 0.15980577232393425, 'beta': 0.7594926583322362}. Best is trial 40 with value: 0.04998095336970298.\n"
     ]
    },
    {
     "name": "stdout",
     "output_type": "stream",
     "text": [
      "EvaluatorHoldout: Processed 10510 (100.0%) in 9.71 sec. Users per second: 1083\n",
      "EvaluatorHoldout: Processed 10399 (100.0%) in 9.60 sec. Users per second: 1084\n",
      "EvaluatorHoldout: Processed 10451 (100.0%) in 9.66 sec. Users per second: 1082\n"
     ]
    },
    {
     "name": "stderr",
     "output_type": "stream",
     "text": [
      "[I 2023-12-11 14:26:20,501] Trial 43 finished with value: 0.0499490142429437 and parameters: {'alpha': 0.05108671188942791, 'beta': 0.7838334972657617}. Best is trial 40 with value: 0.04998095336970298.\n"
     ]
    },
    {
     "name": "stdout",
     "output_type": "stream",
     "text": [
      "EvaluatorHoldout: Processed 10510 (100.0%) in 9.77 sec. Users per second: 1075\n",
      "EvaluatorHoldout: Processed 10399 (100.0%) in 9.62 sec. Users per second: 1080\n",
      "EvaluatorHoldout: Processed 10451 (100.0%) in 9.63 sec. Users per second: 1085\n"
     ]
    },
    {
     "name": "stderr",
     "output_type": "stream",
     "text": [
      "[I 2023-12-11 14:26:49,595] Trial 44 finished with value: 0.04948131559414489 and parameters: {'alpha': 0.005104404804113692, 'beta': 0.7260645126065318}. Best is trial 40 with value: 0.04998095336970298.\n"
     ]
    },
    {
     "name": "stdout",
     "output_type": "stream",
     "text": [
      "EvaluatorHoldout: Processed 10510 (100.0%) in 9.69 sec. Users per second: 1085\n",
      "EvaluatorHoldout: Processed 10399 (100.0%) in 9.60 sec. Users per second: 1084\n",
      "EvaluatorHoldout: Processed 10451 (100.0%) in 9.70 sec. Users per second: 1077\n"
     ]
    },
    {
     "name": "stderr",
     "output_type": "stream",
     "text": [
      "[I 2023-12-11 14:27:18,641] Trial 45 finished with value: 0.04919768786904675 and parameters: {'alpha': 0.20481385625634937, 'beta': 0.7060087145657956}. Best is trial 40 with value: 0.04998095336970298.\n"
     ]
    },
    {
     "name": "stdout",
     "output_type": "stream",
     "text": [
      "EvaluatorHoldout: Processed 10510 (100.0%) in 9.71 sec. Users per second: 1082\n",
      "EvaluatorHoldout: Processed 10399 (100.0%) in 9.65 sec. Users per second: 1078\n",
      "EvaluatorHoldout: Processed 10451 (100.0%) in 9.66 sec. Users per second: 1081\n"
     ]
    },
    {
     "name": "stderr",
     "output_type": "stream",
     "text": [
      "[I 2023-12-11 14:27:47,735] Trial 46 finished with value: 0.049694272301977156 and parameters: {'alpha': 0.14436550452255653, 'beta': 0.7818775171066927}. Best is trial 40 with value: 0.04998095336970298.\n"
     ]
    },
    {
     "name": "stdout",
     "output_type": "stream",
     "text": [
      "EvaluatorHoldout: Processed 10510 (100.0%) in 9.69 sec. Users per second: 1085\n",
      "EvaluatorHoldout: Processed 10399 (100.0%) in 9.64 sec. Users per second: 1078\n",
      "EvaluatorHoldout: Processed 10451 (100.0%) in 9.66 sec. Users per second: 1082\n"
     ]
    },
    {
     "name": "stderr",
     "output_type": "stream",
     "text": [
      "[I 2023-12-11 14:28:16,794] Trial 47 finished with value: 0.04997855611765136 and parameters: {'alpha': 0.043564981383324715, 'beta': 0.7888802652607634}. Best is trial 40 with value: 0.04998095336970298.\n"
     ]
    },
    {
     "name": "stdout",
     "output_type": "stream",
     "text": [
      "EvaluatorHoldout: Processed 10510 (100.0%) in 9.72 sec. Users per second: 1081\n",
      "EvaluatorHoldout: Processed 10399 (100.0%) in 9.67 sec. Users per second: 1075\n",
      "EvaluatorHoldout: Processed 10451 (100.0%) in 9.73 sec. Users per second: 1074\n"
     ]
    },
    {
     "name": "stderr",
     "output_type": "stream",
     "text": [
      "[I 2023-12-11 14:28:45,985] Trial 48 finished with value: 0.04979522447586524 and parameters: {'alpha': 0.1280887177659052, 'beta': 0.6952728970457202}. Best is trial 40 with value: 0.04998095336970298.\n"
     ]
    },
    {
     "name": "stdout",
     "output_type": "stream",
     "text": [
      "EvaluatorHoldout: Processed 10510 (100.0%) in 9.75 sec. Users per second: 1078\n",
      "EvaluatorHoldout: Processed 10399 (100.0%) in 9.58 sec. Users per second: 1085\n",
      "EvaluatorHoldout: Processed 10451 (100.0%) in 9.72 sec. Users per second: 1076\n"
     ]
    },
    {
     "name": "stderr",
     "output_type": "stream",
     "text": [
      "[I 2023-12-11 14:29:15,100] Trial 49 finished with value: 0.04894724609002974 and parameters: {'alpha': 0.0030875400876088435, 'beta': 0.6224157846562896}. Best is trial 40 with value: 0.04998095336970298.\n"
     ]
    },
    {
     "name": "stdout",
     "output_type": "stream",
     "text": [
      "EvaluatorHoldout: Processed 10510 (100.0%) in 9.92 sec. Users per second: 1059\n",
      "EvaluatorHoldout: Processed 10399 (100.0%) in 9.66 sec. Users per second: 1076\n",
      "EvaluatorHoldout: Processed 10451 (100.0%) in 9.74 sec. Users per second: 1073\n"
     ]
    },
    {
     "name": "stderr",
     "output_type": "stream",
     "text": [
      "[I 2023-12-11 14:29:44,494] Trial 50 finished with value: 0.04940771986619357 and parameters: {'alpha': 0.17981120927601701, 'beta': 0.7140199854770533}. Best is trial 40 with value: 0.04998095336970298.\n"
     ]
    },
    {
     "name": "stdout",
     "output_type": "stream",
     "text": [
      "EvaluatorHoldout: Processed 10510 (100.0%) in 9.69 sec. Users per second: 1084\n",
      "EvaluatorHoldout: Processed 10399 (100.0%) in 9.61 sec. Users per second: 1082\n",
      "EvaluatorHoldout: Processed 10451 (100.0%) in 9.76 sec. Users per second: 1071\n"
     ]
    },
    {
     "name": "stderr",
     "output_type": "stream",
     "text": [
      "[I 2023-12-11 14:30:13,623] Trial 51 finished with value: 0.04994107986957558 and parameters: {'alpha': 0.03643402247612124, 'beta': 0.8040275570812278}. Best is trial 40 with value: 0.04998095336970298.\n"
     ]
    },
    {
     "name": "stdout",
     "output_type": "stream",
     "text": [
      "EvaluatorHoldout: Processed 10510 (100.0%) in 9.76 sec. Users per second: 1077\n",
      "EvaluatorHoldout: Processed 10399 (100.0%) in 9.65 sec. Users per second: 1078\n",
      "EvaluatorHoldout: Processed 10451 (100.0%) in 9.65 sec. Users per second: 1083\n"
     ]
    },
    {
     "name": "stderr",
     "output_type": "stream",
     "text": [
      "[I 2023-12-11 14:30:42,750] Trial 52 finished with value: 0.049953988140735116 and parameters: {'alpha': 0.05577012747907063, 'beta': 0.7861089986419172}. Best is trial 40 with value: 0.04998095336970298.\n"
     ]
    },
    {
     "name": "stdout",
     "output_type": "stream",
     "text": [
      "EvaluatorHoldout: Processed 10510 (100.0%) in 9.81 sec. Users per second: 1072\n",
      "EvaluatorHoldout: Processed 10399 (100.0%) in 9.68 sec. Users per second: 1074\n",
      "EvaluatorHoldout: Processed 10451 (100.0%) in 9.63 sec. Users per second: 1086\n"
     ]
    },
    {
     "name": "stderr",
     "output_type": "stream",
     "text": [
      "[I 2023-12-11 14:31:11,934] Trial 53 finished with value: 0.04992721503304131 and parameters: {'alpha': 0.1006699272938053, 'beta': 0.7972391103992175}. Best is trial 40 with value: 0.04998095336970298.\n"
     ]
    },
    {
     "name": "stdout",
     "output_type": "stream",
     "text": [
      "EvaluatorHoldout: Processed 10510 (100.0%) in 9.74 sec. Users per second: 1079\n",
      "EvaluatorHoldout: Processed 10399 (100.0%) in 9.61 sec. Users per second: 1082\n",
      "EvaluatorHoldout: Processed 10451 (100.0%) in 9.67 sec. Users per second: 1081\n"
     ]
    },
    {
     "name": "stderr",
     "output_type": "stream",
     "text": [
      "[I 2023-12-11 14:31:41,021] Trial 54 finished with value: 0.049947623535261665 and parameters: {'alpha': 0.048380729518967464, 'beta': 0.7593275001557732}. Best is trial 40 with value: 0.04998095336970298.\n"
     ]
    },
    {
     "name": "stdout",
     "output_type": "stream",
     "text": [
      "EvaluatorHoldout: Processed 10510 (100.0%) in 9.78 sec. Users per second: 1074\n",
      "EvaluatorHoldout: Processed 10399 (100.0%) in 9.66 sec. Users per second: 1076\n",
      "EvaluatorHoldout: Processed 10451 (100.0%) in 9.64 sec. Users per second: 1084\n"
     ]
    },
    {
     "name": "stderr",
     "output_type": "stream",
     "text": [
      "[I 2023-12-11 14:32:10,176] Trial 55 finished with value: 0.049747839093388584 and parameters: {'alpha': 0.13927271539582428, 'beta': 0.746322023751895}. Best is trial 40 with value: 0.04998095336970298.\n"
     ]
    },
    {
     "name": "stdout",
     "output_type": "stream",
     "text": [
      "EvaluatorHoldout: Processed 10510 (100.0%) in 9.74 sec. Users per second: 1079\n",
      "EvaluatorHoldout: Processed 10399 (100.0%) in 9.69 sec. Users per second: 1073\n",
      "EvaluatorHoldout: Processed 10451 (100.0%) in 9.87 sec. Users per second: 1059\n"
     ]
    },
    {
     "name": "stderr",
     "output_type": "stream",
     "text": [
      "[I 2023-12-11 14:32:39,541] Trial 56 finished with value: 0.049845257819514856 and parameters: {'alpha': 0.08633879531264338, 'beta': 0.641677815768003}. Best is trial 40 with value: 0.04998095336970298.\n"
     ]
    },
    {
     "name": "stdout",
     "output_type": "stream",
     "text": [
      "EvaluatorHoldout: Processed 10510 (100.0%) in 10.02 sec. Users per second: 1049\n",
      "EvaluatorHoldout: Processed 10399 (100.0%) in 10.27 sec. Users per second: 1013\n",
      "EvaluatorHoldout: Processed 10451 (100.0%) in 10.10 sec. Users per second: 1035\n"
     ]
    },
    {
     "name": "stderr",
     "output_type": "stream",
     "text": [
      "[I 2023-12-11 14:33:10,004] Trial 57 finished with value: 0.04967939394993611 and parameters: {'alpha': 0.03130663668448076, 'beta': 0.6905876322713462}. Best is trial 40 with value: 0.04998095336970298.\n"
     ]
    },
    {
     "name": "stdout",
     "output_type": "stream",
     "text": [
      "EvaluatorHoldout: Processed 10510 (100.0%) in 10.65 sec. Users per second: 987\n",
      "EvaluatorHoldout: Processed 10399 (100.0%) in 10.57 sec. Users per second: 984\n",
      "EvaluatorHoldout: Processed 10451 (100.0%) in 10.41 sec. Users per second: 1004\n"
     ]
    },
    {
     "name": "stderr",
     "output_type": "stream",
     "text": [
      "[I 2023-12-11 14:33:41,697] Trial 58 finished with value: 0.04980787910988288 and parameters: {'alpha': 0.12008549294075084, 'beta': 0.8019874352398908}. Best is trial 40 with value: 0.04998095336970298.\n"
     ]
    },
    {
     "name": "stdout",
     "output_type": "stream",
     "text": [
      "EvaluatorHoldout: Processed 10510 (100.0%) in 10.63 sec. Users per second: 988\n",
      "EvaluatorHoldout: Processed 10399 (100.0%) in 10.44 sec. Users per second: 996\n",
      "EvaluatorHoldout: Processed 10451 (100.0%) in 10.31 sec. Users per second: 1014\n"
     ]
    },
    {
     "name": "stderr",
     "output_type": "stream",
     "text": [
      "[I 2023-12-11 14:34:13,155] Trial 59 finished with value: 0.04906765628577292 and parameters: {'alpha': 0.22255175094457938, 'beta': 0.7229459453688014}. Best is trial 40 with value: 0.04998095336970298.\n"
     ]
    },
    {
     "name": "stdout",
     "output_type": "stream",
     "text": [
      "EvaluatorHoldout: Processed 10510 (100.0%) in 10.70 sec. Users per second: 983\n",
      "EvaluatorHoldout: Processed 10399 (100.0%) in 10.53 sec. Users per second: 987\n",
      "EvaluatorHoldout: Processed 10451 (100.0%) in 10.20 sec. Users per second: 1025\n"
     ]
    },
    {
     "name": "stderr",
     "output_type": "stream",
     "text": [
      "[I 2023-12-11 14:34:44,652] Trial 60 finished with value: 0.04987327570837036 and parameters: {'alpha': 0.08157475951880906, 'beta': 0.659732860561051}. Best is trial 40 with value: 0.04998095336970298.\n"
     ]
    },
    {
     "name": "stdout",
     "output_type": "stream",
     "text": [
      "EvaluatorHoldout: Processed 10510 (100.0%) in 10.52 sec. Users per second: 1000\n",
      "EvaluatorHoldout: Processed 10399 (100.0%) in 10.18 sec. Users per second: 1021\n",
      "EvaluatorHoldout: Processed 10451 (100.0%) in 9.91 sec. Users per second: 1054\n"
     ]
    },
    {
     "name": "stderr",
     "output_type": "stream",
     "text": [
      "[I 2023-12-11 14:35:15,328] Trial 61 finished with value: 0.04993570582734497 and parameters: {'alpha': 0.04378666241231055, 'beta': 0.7663216416269503}. Best is trial 40 with value: 0.04998095336970298.\n"
     ]
    },
    {
     "name": "stdout",
     "output_type": "stream",
     "text": [
      "EvaluatorHoldout: Processed 10510 (100.0%) in 9.86 sec. Users per second: 1066\n",
      "EvaluatorHoldout: Processed 10399 (100.0%) in 9.68 sec. Users per second: 1075\n",
      "EvaluatorHoldout: Processed 10451 (100.0%) in 9.72 sec. Users per second: 1075\n"
     ]
    },
    {
     "name": "stderr",
     "output_type": "stream",
     "text": [
      "[I 2023-12-11 14:35:44,650] Trial 62 finished with value: 0.049554739546367375 and parameters: {'alpha': 0.004478226784701521, 'beta': 0.8656118612951627}. Best is trial 40 with value: 0.04998095336970298.\n"
     ]
    },
    {
     "name": "stdout",
     "output_type": "stream",
     "text": [
      "EvaluatorHoldout: Processed 10510 (100.0%) in 10.31 sec. Users per second: 1020\n",
      "EvaluatorHoldout: Processed 10399 (100.0%) in 10.58 sec. Users per second: 983\n",
      "EvaluatorHoldout: Processed 10451 (100.0%) in 10.29 sec. Users per second: 1016\n"
     ]
    },
    {
     "name": "stderr",
     "output_type": "stream",
     "text": [
      "[I 2023-12-11 14:36:15,897] Trial 63 finished with value: 0.0499657622322091 and parameters: {'alpha': 0.044211335472673446, 'beta': 0.8218617017749515}. Best is trial 40 with value: 0.04998095336970298.\n"
     ]
    },
    {
     "name": "stdout",
     "output_type": "stream",
     "text": [
      "EvaluatorHoldout: Processed 10510 (100.0%) in 9.89 sec. Users per second: 1063\n",
      "EvaluatorHoldout: Processed 10399 (100.0%) in 9.72 sec. Users per second: 1070\n",
      "EvaluatorHoldout: Processed 10451 (100.0%) in 9.73 sec. Users per second: 1074\n"
     ]
    },
    {
     "name": "stderr",
     "output_type": "stream",
     "text": [
      "[I 2023-12-11 14:36:45,309] Trial 64 finished with value: 0.04949870074466678 and parameters: {'alpha': 0.1689643270662597, 'beta': 0.7442949429712307}. Best is trial 40 with value: 0.04998095336970298.\n"
     ]
    },
    {
     "name": "stdout",
     "output_type": "stream",
     "text": [
      "EvaluatorHoldout: Processed 10510 (100.0%) in 9.75 sec. Users per second: 1077\n",
      "EvaluatorHoldout: Processed 10399 (100.0%) in 9.65 sec. Users per second: 1077\n",
      "EvaluatorHoldout: Processed 10451 (100.0%) in 9.69 sec. Users per second: 1078\n"
     ]
    },
    {
     "name": "stderr",
     "output_type": "stream",
     "text": [
      "[I 2023-12-11 14:37:14,478] Trial 65 finished with value: 0.04992334836773807 and parameters: {'alpha': 0.094149293366954, 'beta': 0.8142297782822396}. Best is trial 40 with value: 0.04998095336970298.\n"
     ]
    },
    {
     "name": "stdout",
     "output_type": "stream",
     "text": [
      "EvaluatorHoldout: Processed 10510 (100.0%) in 9.69 sec. Users per second: 1085\n",
      "EvaluatorHoldout: Processed 10399 (100.0%) in 9.68 sec. Users per second: 1074\n",
      "EvaluatorHoldout: Processed 10451 (100.0%) in 9.73 sec. Users per second: 1075\n"
     ]
    },
    {
     "name": "stderr",
     "output_type": "stream",
     "text": [
      "[I 2023-12-11 14:37:43,644] Trial 66 finished with value: 0.04978017904077719 and parameters: {'alpha': 0.13193864575341308, 'beta': 0.7896889638226989}. Best is trial 40 with value: 0.04998095336970298.\n"
     ]
    },
    {
     "name": "stdout",
     "output_type": "stream",
     "text": [
      "EvaluatorHoldout: Processed 10510 (100.0%) in 9.78 sec. Users per second: 1074\n",
      "EvaluatorHoldout: Processed 10399 (100.0%) in 9.63 sec. Users per second: 1079\n",
      "EvaluatorHoldout: Processed 10451 (100.0%) in 9.71 sec. Users per second: 1077\n"
     ]
    },
    {
     "name": "stderr",
     "output_type": "stream",
     "text": [
      "[I 2023-12-11 14:38:12,839] Trial 67 finished with value: 0.04990354640884648 and parameters: {'alpha': 0.07011085766522404, 'beta': 0.8387251091302791}. Best is trial 40 with value: 0.04998095336970298.\n"
     ]
    },
    {
     "name": "stdout",
     "output_type": "stream",
     "text": [
      "EvaluatorHoldout: Processed 10510 (100.0%) in 9.78 sec. Users per second: 1074\n",
      "EvaluatorHoldout: Processed 10399 (100.0%) in 9.79 sec. Users per second: 1062\n",
      "EvaluatorHoldout: Processed 10451 (100.0%) in 9.66 sec. Users per second: 1081\n"
     ]
    },
    {
     "name": "stderr",
     "output_type": "stream",
     "text": [
      "[I 2023-12-11 14:38:42,160] Trial 68 finished with value: 0.04981071517203042 and parameters: {'alpha': 0.03631417301914272, 'beta': 0.8751467986893506}. Best is trial 40 with value: 0.04998095336970298.\n"
     ]
    },
    {
     "name": "stdout",
     "output_type": "stream",
     "text": [
      "EvaluatorHoldout: Processed 10510 (100.0%) in 9.77 sec. Users per second: 1075\n",
      "EvaluatorHoldout: Processed 10399 (100.0%) in 9.67 sec. Users per second: 1075\n",
      "EvaluatorHoldout: Processed 10451 (100.0%) in 9.72 sec. Users per second: 1075\n"
     ]
    },
    {
     "name": "stderr",
     "output_type": "stream",
     "text": [
      "[I 2023-12-11 14:39:11,396] Trial 69 finished with value: 0.04984524986500056 and parameters: {'alpha': 0.10875099219213707, 'beta': 0.8162431990991366}. Best is trial 40 with value: 0.04998095336970298.\n"
     ]
    },
    {
     "name": "stdout",
     "output_type": "stream",
     "text": [
      "EvaluatorHoldout: Processed 10510 (100.0%) in 9.74 sec. Users per second: 1079\n",
      "EvaluatorHoldout: Processed 10399 (100.0%) in 9.65 sec. Users per second: 1077\n",
      "EvaluatorHoldout: Processed 10451 (100.0%) in 9.69 sec. Users per second: 1078\n"
     ]
    },
    {
     "name": "stderr",
     "output_type": "stream",
     "text": [
      "[I 2023-12-11 14:39:40,550] Trial 70 finished with value: 0.04949781757767086 and parameters: {'alpha': 0.07436718683547955, 'beta': 0.5691994384428003}. Best is trial 40 with value: 0.04998095336970298.\n"
     ]
    },
    {
     "name": "stdout",
     "output_type": "stream",
     "text": [
      "EvaluatorHoldout: Processed 10510 (100.0%) in 9.83 sec. Users per second: 1069\n",
      "EvaluatorHoldout: Processed 10399 (100.0%) in 9.68 sec. Users per second: 1074\n",
      "EvaluatorHoldout: Processed 10451 (100.0%) in 9.66 sec. Users per second: 1082\n"
     ]
    },
    {
     "name": "stderr",
     "output_type": "stream",
     "text": [
      "[I 2023-12-11 14:40:09,792] Trial 71 finished with value: 0.0498865795394153 and parameters: {'alpha': 0.046458288787066045, 'beta': 0.8527388817550374}. Best is trial 40 with value: 0.04998095336970298.\n"
     ]
    },
    {
     "name": "stdout",
     "output_type": "stream",
     "text": [
      "EvaluatorHoldout: Processed 10510 (100.0%) in 9.77 sec. Users per second: 1076\n",
      "EvaluatorHoldout: Processed 10399 (100.0%) in 9.70 sec. Users per second: 1072\n",
      "EvaluatorHoldout: Processed 10451 (100.0%) in 9.73 sec. Users per second: 1074\n"
     ]
    },
    {
     "name": "stderr",
     "output_type": "stream",
     "text": [
      "[I 2023-12-11 14:40:39,055] Trial 72 finished with value: 0.04992467893808938 and parameters: {'alpha': 0.03611266981796439, 'beta': 0.7688003612496768}. Best is trial 40 with value: 0.04998095336970298.\n"
     ]
    },
    {
     "name": "stdout",
     "output_type": "stream",
     "text": [
      "EvaluatorHoldout: Processed 10510 (100.0%) in 9.73 sec. Users per second: 1081\n",
      "EvaluatorHoldout: Processed 10399 (100.0%) in 9.72 sec. Users per second: 1070\n",
      "EvaluatorHoldout: Processed 10451 (100.0%) in 9.68 sec. Users per second: 1080\n"
     ]
    },
    {
     "name": "stderr",
     "output_type": "stream",
     "text": [
      "[I 2023-12-11 14:41:08,251] Trial 73 finished with value: 0.04989502489522932 and parameters: {'alpha': 0.1158088936455573, 'beta': 0.7479289273349932}. Best is trial 40 with value: 0.04998095336970298.\n"
     ]
    },
    {
     "name": "stdout",
     "output_type": "stream",
     "text": [
      "EvaluatorHoldout: Processed 10510 (100.0%) in 9.71 sec. Users per second: 1083\n",
      "EvaluatorHoldout: Processed 10399 (100.0%) in 9.73 sec. Users per second: 1069\n",
      "EvaluatorHoldout: Processed 10451 (100.0%) in 9.69 sec. Users per second: 1078\n"
     ]
    },
    {
     "name": "stderr",
     "output_type": "stream",
     "text": [
      "[I 2023-12-11 14:41:37,449] Trial 74 finished with value: 0.04944105835070497 and parameters: {'alpha': 0.0014632535186215184, 'beta': 0.897351905671647}. Best is trial 40 with value: 0.04998095336970298.\n"
     ]
    },
    {
     "name": "stdout",
     "output_type": "stream",
     "text": [
      "EvaluatorHoldout: Processed 10510 (100.0%) in 9.79 sec. Users per second: 1073\n",
      "EvaluatorHoldout: Processed 10399 (100.0%) in 9.64 sec. Users per second: 1079\n",
      "EvaluatorHoldout: Processed 10451 (100.0%) in 9.71 sec. Users per second: 1076\n"
     ]
    },
    {
     "name": "stderr",
     "output_type": "stream",
     "text": [
      "[I 2023-12-11 14:42:06,664] Trial 75 finished with value: 0.049928514210869246 and parameters: {'alpha': 0.06375537846041138, 'beta': 0.8256344850002648}. Best is trial 40 with value: 0.04998095336970298.\n"
     ]
    },
    {
     "name": "stdout",
     "output_type": "stream",
     "text": [
      "EvaluatorHoldout: Processed 10510 (100.0%) in 9.81 sec. Users per second: 1072\n",
      "EvaluatorHoldout: Processed 10399 (100.0%) in 9.72 sec. Users per second: 1070\n",
      "EvaluatorHoldout: Processed 10451 (100.0%) in 9.62 sec. Users per second: 1086\n"
     ]
    },
    {
     "name": "stderr",
     "output_type": "stream",
     "text": [
      "[I 2023-12-11 14:42:35,889] Trial 76 finished with value: 0.04966738379387261 and parameters: {'alpha': 0.15039343660132504, 'beta': 0.7856617754456053}. Best is trial 40 with value: 0.04998095336970298.\n"
     ]
    },
    {
     "name": "stdout",
     "output_type": "stream",
     "text": [
      "EvaluatorHoldout: Processed 10510 (100.0%) in 9.70 sec. Users per second: 1084\n",
      "EvaluatorHoldout: Processed 10399 (100.0%) in 9.65 sec. Users per second: 1077\n",
      "EvaluatorHoldout: Processed 10451 (100.0%) in 9.68 sec. Users per second: 1079\n"
     ]
    },
    {
     "name": "stderr",
     "output_type": "stream",
     "text": [
      "[I 2023-12-11 14:43:04,993] Trial 77 finished with value: 0.04967415081217002 and parameters: {'alpha': 0.024383450741466854, 'beta': 0.7091745994754665}. Best is trial 40 with value: 0.04998095336970298.\n"
     ]
    },
    {
     "name": "stdout",
     "output_type": "stream",
     "text": [
      "EvaluatorHoldout: Processed 10510 (100.0%) in 9.77 sec. Users per second: 1076\n",
      "EvaluatorHoldout: Processed 10399 (100.0%) in 9.71 sec. Users per second: 1071\n",
      "EvaluatorHoldout: Processed 10451 (100.0%) in 9.67 sec. Users per second: 1081\n"
     ]
    },
    {
     "name": "stderr",
     "output_type": "stream",
     "text": [
      "[I 2023-12-11 14:43:34,210] Trial 78 finished with value: 0.04991488455177056 and parameters: {'alpha': 0.09757558844592754, 'beta': 0.6837758264944982}. Best is trial 40 with value: 0.04998095336970298.\n"
     ]
    },
    {
     "name": "stdout",
     "output_type": "stream",
     "text": [
      "EvaluatorHoldout: Processed 10510 (100.0%) in 9.76 sec. Users per second: 1077\n",
      "EvaluatorHoldout: Processed 10399 (100.0%) in 9.70 sec. Users per second: 1072\n",
      "EvaluatorHoldout: Processed 10451 (100.0%) in 9.78 sec. Users per second: 1069\n"
     ]
    },
    {
     "name": "stderr",
     "output_type": "stream",
     "text": [
      "[I 2023-12-11 14:44:03,523] Trial 79 finished with value: 0.04931993838156939 and parameters: {'alpha': 0.1898921377818898, 'beta': 0.7530242737473349}. Best is trial 40 with value: 0.04998095336970298.\n"
     ]
    },
    {
     "name": "stdout",
     "output_type": "stream",
     "text": [
      "EvaluatorHoldout: Processed 10510 (100.0%) in 9.81 sec. Users per second: 1071\n",
      "EvaluatorHoldout: Processed 10399 (100.0%) in 9.69 sec. Users per second: 1073\n",
      "EvaluatorHoldout: Processed 10451 (100.0%) in 9.72 sec. Users per second: 1075\n"
     ]
    },
    {
     "name": "stderr",
     "output_type": "stream",
     "text": [
      "[I 2023-12-11 14:44:32,817] Trial 80 finished with value: 0.0499413808650132 and parameters: {'alpha': 0.0637524469561796, 'beta': 0.8523129041652049}. Best is trial 40 with value: 0.04998095336970298.\n"
     ]
    },
    {
     "name": "stdout",
     "output_type": "stream",
     "text": [
      "EvaluatorHoldout: Processed 10510 (100.0%) in 9.81 sec. Users per second: 1071\n",
      "EvaluatorHoldout: Processed 10399 (100.0%) in 9.82 sec. Users per second: 1059\n",
      "EvaluatorHoldout: Processed 10451 (100.0%) in 10.44 sec. Users per second: 1001\n"
     ]
    },
    {
     "name": "stderr",
     "output_type": "stream",
     "text": [
      "[I 2023-12-11 14:45:02,955] Trial 81 finished with value: 0.04996661268284149 and parameters: {'alpha': 0.05100880852836847, 'beta': 0.7797734811207978}. Best is trial 40 with value: 0.04998095336970298.\n"
     ]
    },
    {
     "name": "stdout",
     "output_type": "stream",
     "text": [
      "EvaluatorHoldout: Processed 10510 (100.0%) in 10.47 sec. Users per second: 1004\n",
      "EvaluatorHoldout: Processed 10399 (100.0%) in 10.02 sec. Users per second: 1038\n",
      "EvaluatorHoldout: Processed 10451 (100.0%) in 9.77 sec. Users per second: 1069\n"
     ]
    },
    {
     "name": "stderr",
     "output_type": "stream",
     "text": [
      "[I 2023-12-11 14:45:33,290] Trial 82 finished with value: 0.04995684813835179 and parameters: {'alpha': 0.03969071497507622, 'beta': 0.7863542398090939}. Best is trial 40 with value: 0.04998095336970298.\n"
     ]
    },
    {
     "name": "stdout",
     "output_type": "stream",
     "text": [
      "EvaluatorHoldout: Processed 10510 (100.0%) in 9.79 sec. Users per second: 1074\n",
      "EvaluatorHoldout: Processed 10399 (100.0%) in 9.66 sec. Users per second: 1076\n",
      "EvaluatorHoldout: Processed 10451 (100.0%) in 10.25 sec. Users per second: 1019\n"
     ]
    },
    {
     "name": "stderr",
     "output_type": "stream",
     "text": [
      "[I 2023-12-11 14:46:03,063] Trial 83 finished with value: 0.04979310589494875 and parameters: {'alpha': 0.028814014489987588, 'beta': 0.8883036232616138}. Best is trial 40 with value: 0.04998095336970298.\n"
     ]
    },
    {
     "name": "stdout",
     "output_type": "stream",
     "text": [
      "EvaluatorHoldout: Processed 10510 (100.0%) in 10.37 sec. Users per second: 1013\n",
      "EvaluatorHoldout: Processed 10399 (100.0%) in 10.44 sec. Users per second: 996\n",
      "EvaluatorHoldout: Processed 10451 (100.0%) in 10.65 sec. Users per second: 981\n"
     ]
    },
    {
     "name": "stderr",
     "output_type": "stream",
     "text": [
      "[I 2023-12-11 14:46:34,608] Trial 84 finished with value: 0.04995073789397108 and parameters: {'alpha': 0.08622472752490351, 'beta': 0.8160840907242968}. Best is trial 40 with value: 0.04998095336970298.\n"
     ]
    },
    {
     "name": "stdout",
     "output_type": "stream",
     "text": [
      "EvaluatorHoldout: Processed 10510 (100.0%) in 10.42 sec. Users per second: 1009\n",
      "EvaluatorHoldout: Processed 10399 (100.0%) in 9.73 sec. Users per second: 1069\n",
      "EvaluatorHoldout: Processed 10451 (100.0%) in 9.79 sec. Users per second: 1067\n"
     ]
    },
    {
     "name": "stderr",
     "output_type": "stream",
     "text": [
      "[I 2023-12-11 14:47:04,617] Trial 85 finished with value: 0.049956993745668754 and parameters: {'alpha': 0.08277604550272172, 'beta': 0.8164714104688724}. Best is trial 40 with value: 0.04998095336970298.\n"
     ]
    },
    {
     "name": "stdout",
     "output_type": "stream",
     "text": [
      "EvaluatorHoldout: Processed 10510 (100.0%) in 9.85 sec. Users per second: 1067\n",
      "EvaluatorHoldout: Processed 10399 (100.0%) in 10.06 sec. Users per second: 1033\n",
      "EvaluatorHoldout: Processed 10451 (100.0%) in 10.45 sec. Users per second: 1000\n"
     ]
    },
    {
     "name": "stderr",
     "output_type": "stream",
     "text": [
      "[I 2023-12-11 14:47:35,058] Trial 86 finished with value: 0.049802798378987816 and parameters: {'alpha': 0.1216936534266059, 'beta': 0.7949930730665108}. Best is trial 40 with value: 0.04998095336970298.\n"
     ]
    },
    {
     "name": "stdout",
     "output_type": "stream",
     "text": [
      "EvaluatorHoldout: Processed 10510 (100.0%) in 10.42 sec. Users per second: 1009\n",
      "EvaluatorHoldout: Processed 10399 (100.0%) in 9.69 sec. Users per second: 1073\n",
      "EvaluatorHoldout: Processed 10451 (100.0%) in 9.75 sec. Users per second: 1072\n"
     ]
    },
    {
     "name": "stderr",
     "output_type": "stream",
     "text": [
      "[I 2023-12-11 14:48:04,995] Trial 87 finished with value: 0.04986003403268593 and parameters: {'alpha': 0.025549928492336945, 'beta': 0.8484738684575631}. Best is trial 40 with value: 0.04998095336970298.\n"
     ]
    },
    {
     "name": "stdout",
     "output_type": "stream",
     "text": [
      "EvaluatorHoldout: Processed 10510 (100.0%) in 9.76 sec. Users per second: 1077\n",
      "EvaluatorHoldout: Processed 10399 (100.0%) in 9.67 sec. Users per second: 1076\n",
      "EvaluatorHoldout: Processed 10451 (100.0%) in 9.68 sec. Users per second: 1079\n"
     ]
    },
    {
     "name": "stderr",
     "output_type": "stream",
     "text": [
      "[I 2023-12-11 14:48:34,168] Trial 88 finished with value: 0.0496356508275711 and parameters: {'alpha': 0.15221328283744406, 'beta': 0.7772061634479389}. Best is trial 40 with value: 0.04998095336970298.\n"
     ]
    },
    {
     "name": "stdout",
     "output_type": "stream",
     "text": [
      "EvaluatorHoldout: Processed 10510 (100.0%) in 9.73 sec. Users per second: 1080\n",
      "EvaluatorHoldout: Processed 10399 (100.0%) in 9.68 sec. Users per second: 1074\n",
      "EvaluatorHoldout: Processed 10451 (100.0%) in 9.65 sec. Users per second: 1083\n"
     ]
    },
    {
     "name": "stderr",
     "output_type": "stream",
     "text": [
      "[I 2023-12-11 14:49:03,294] Trial 89 finished with value: 0.04933133193060867 and parameters: {'alpha': 0.0006097086093384135, 'beta': 0.9329136880370625}. Best is trial 40 with value: 0.04998095336970298.\n"
     ]
    },
    {
     "name": "stdout",
     "output_type": "stream",
     "text": [
      "EvaluatorHoldout: Processed 10510 (100.0%) in 9.72 sec. Users per second: 1081\n",
      "EvaluatorHoldout: Processed 10399 (100.0%) in 9.65 sec. Users per second: 1078\n",
      "EvaluatorHoldout: Processed 10451 (100.0%) in 9.70 sec. Users per second: 1077\n"
     ]
    },
    {
     "name": "stderr",
     "output_type": "stream",
     "text": [
      "[I 2023-12-11 14:49:32,440] Trial 90 finished with value: 0.05002997193290363 and parameters: {'alpha': 0.0746651628796413, 'beta': 0.7246875772423678}. Best is trial 90 with value: 0.05002997193290363.\n"
     ]
    },
    {
     "name": "stdout",
     "output_type": "stream",
     "text": [
      "EvaluatorHoldout: Processed 10510 (100.0%) in 9.73 sec. Users per second: 1080\n",
      "EvaluatorHoldout: Processed 10399 (100.0%) in 9.86 sec. Users per second: 1054\n",
      "EvaluatorHoldout: Processed 10451 (100.0%) in 10.09 sec. Users per second: 1036\n"
     ]
    },
    {
     "name": "stderr",
     "output_type": "stream",
     "text": [
      "[I 2023-12-11 14:50:02,201] Trial 91 finished with value: 0.050030553935207465 and parameters: {'alpha': 0.08068836366184196, 'beta': 0.7257280248198235}. Best is trial 91 with value: 0.050030553935207465.\n"
     ]
    },
    {
     "name": "stdout",
     "output_type": "stream",
     "text": [
      "EvaluatorHoldout: Processed 10510 (100.0%) in 9.99 sec. Users per second: 1052\n",
      "EvaluatorHoldout: Processed 10399 (100.0%) in 9.88 sec. Users per second: 1052\n",
      "EvaluatorHoldout: Processed 10451 (100.0%) in 9.66 sec. Users per second: 1082\n"
     ]
    },
    {
     "name": "stderr",
     "output_type": "stream",
     "text": [
      "[I 2023-12-11 14:50:31,797] Trial 92 finished with value: 0.05003942306359089 and parameters: {'alpha': 0.08488318219716774, 'beta': 0.7337742901018609}. Best is trial 92 with value: 0.05003942306359089.\n"
     ]
    },
    {
     "name": "stdout",
     "output_type": "stream",
     "text": [
      "EvaluatorHoldout: Processed 10510 (100.0%) in 9.80 sec. Users per second: 1073\n",
      "EvaluatorHoldout: Processed 10399 (100.0%) in 10.02 sec. Users per second: 1038\n",
      "EvaluatorHoldout: Processed 10451 (100.0%) in 9.82 sec. Users per second: 1065\n"
     ]
    },
    {
     "name": "stderr",
     "output_type": "stream",
     "text": [
      "[I 2023-12-11 14:51:01,500] Trial 93 finished with value: 0.04999103043607922 and parameters: {'alpha': 0.09809986303426502, 'beta': 0.7275078949053735}. Best is trial 92 with value: 0.05003942306359089.\n"
     ]
    },
    {
     "name": "stdout",
     "output_type": "stream",
     "text": [
      "EvaluatorHoldout: Processed 10510 (100.0%) in 9.88 sec. Users per second: 1064\n",
      "EvaluatorHoldout: Processed 10399 (100.0%) in 9.88 sec. Users per second: 1053\n",
      "EvaluatorHoldout: Processed 10451 (100.0%) in 9.86 sec. Users per second: 1060\n"
     ]
    },
    {
     "name": "stderr",
     "output_type": "stream",
     "text": [
      "[I 2023-12-11 14:51:31,187] Trial 94 finished with value: 0.04998492316448381 and parameters: {'alpha': 0.10043239387947031, 'beta': 0.7386549519113407}. Best is trial 92 with value: 0.05003942306359089.\n"
     ]
    },
    {
     "name": "stdout",
     "output_type": "stream",
     "text": [
      "EvaluatorHoldout: Processed 10510 (100.0%) in 9.81 sec. Users per second: 1071\n",
      "EvaluatorHoldout: Processed 10399 (100.0%) in 9.75 sec. Users per second: 1067\n",
      "EvaluatorHoldout: Processed 10451 (100.0%) in 9.76 sec. Users per second: 1071\n"
     ]
    },
    {
     "name": "stderr",
     "output_type": "stream",
     "text": [
      "[I 2023-12-11 14:52:00,579] Trial 95 finished with value: 0.04986394382821096 and parameters: {'alpha': 0.11414446083713538, 'beta': 0.7326289315930766}. Best is trial 92 with value: 0.05003942306359089.\n"
     ]
    },
    {
     "name": "stdout",
     "output_type": "stream",
     "text": [
      "EvaluatorHoldout: Processed 10510 (100.0%) in 9.75 sec. Users per second: 1078\n",
      "EvaluatorHoldout: Processed 10399 (100.0%) in 9.65 sec. Users per second: 1078\n",
      "EvaluatorHoldout: Processed 10451 (100.0%) in 9.75 sec. Users per second: 1072\n"
     ]
    },
    {
     "name": "stderr",
     "output_type": "stream",
     "text": [
      "[I 2023-12-11 14:52:29,805] Trial 96 finished with value: 0.04941763279039755 and parameters: {'alpha': 0.17582614077162623, 'beta': 0.7176269218022351}. Best is trial 92 with value: 0.05003942306359089.\n"
     ]
    },
    {
     "name": "stdout",
     "output_type": "stream",
     "text": [
      "EvaluatorHoldout: Processed 10510 (100.0%) in 10.43 sec. Users per second: 1008\n",
      "EvaluatorHoldout: Processed 10399 (100.0%) in 9.73 sec. Users per second: 1068\n",
      "EvaluatorHoldout: Processed 10451 (100.0%) in 9.91 sec. Users per second: 1054\n"
     ]
    },
    {
     "name": "stderr",
     "output_type": "stream",
     "text": [
      "[I 2023-12-11 14:52:59,964] Trial 97 finished with value: 0.049729110953277735 and parameters: {'alpha': 0.13724001594711052, 'beta': 0.6882223639634905}. Best is trial 92 with value: 0.05003942306359089.\n"
     ]
    },
    {
     "name": "stdout",
     "output_type": "stream",
     "text": [
      "EvaluatorHoldout: Processed 10510 (100.0%) in 10.11 sec. Users per second: 1039\n",
      "EvaluatorHoldout: Processed 10399 (100.0%) in 11.72 sec. Users per second: 887\n",
      "EvaluatorHoldout: Processed 10451 (100.0%) in 10.64 sec. Users per second: 982\n"
     ]
    },
    {
     "name": "stderr",
     "output_type": "stream",
     "text": [
      "[I 2023-12-11 14:53:32,514] Trial 98 finished with value: 0.04988597873827463 and parameters: {'alpha': 0.09513265726866704, 'beta': 0.6610107026233978}. Best is trial 92 with value: 0.05003942306359089.\n"
     ]
    },
    {
     "name": "stdout",
     "output_type": "stream",
     "text": [
      "EvaluatorHoldout: Processed 10510 (100.0%) in 10.19 sec. Users per second: 1032\n",
      "EvaluatorHoldout: Processed 10399 (100.0%) in 9.85 sec. Users per second: 1056\n",
      "EvaluatorHoldout: Processed 10451 (100.0%) in 10.41 sec. Users per second: 1004\n"
     ]
    },
    {
     "name": "stderr",
     "output_type": "stream",
     "text": [
      "[I 2023-12-11 14:54:03,022] Trial 99 finished with value: 0.049990818789635204 and parameters: {'alpha': 0.073665521513732, 'beta': 0.7072140480122339}. Best is trial 92 with value: 0.05003942306359089.\n"
     ]
    }
   ],
   "source": [
    "study = optuna.create_study(direction=\"maximize\")\n",
    "study.optimize(train_evaluate, n_trials=100)"
   ]
  },
  {
   "cell_type": "code",
   "execution_count": 26,
   "metadata": {},
   "outputs": [
    {
     "name": "stdout",
     "output_type": "stream",
     "text": [
      "Weights: itemKNN= 0.08488318219716774, RP3beta= 0.7337742901018609, P3alpha= 0.18134252770097137\n",
      "Unable to load Cython Compute_Similarity, reverting to Python\n",
      "Similarity column 22222 (100.0%), 2506.82 column/sec. Elapsed time 8.86 sec\n",
      "Reasonable implementation speed is 574.52 usr/sec\n"
     ]
    },
    {
     "data": {
      "text/html": [
       "<div>\n",
       "<style scoped>\n",
       "    .dataframe tbody tr th:only-of-type {\n",
       "        vertical-align: middle;\n",
       "    }\n",
       "\n",
       "    .dataframe tbody tr th {\n",
       "        vertical-align: top;\n",
       "    }\n",
       "\n",
       "    .dataframe thead th {\n",
       "        text-align: right;\n",
       "    }\n",
       "</style>\n",
       "<table border=\"1\" class=\"dataframe\">\n",
       "  <thead>\n",
       "    <tr style=\"text-align: right;\">\n",
       "      <th></th>\n",
       "      <th>user_id</th>\n",
       "      <th>item_list</th>\n",
       "    </tr>\n",
       "  </thead>\n",
       "  <tbody>\n",
       "    <tr>\n",
       "      <th>0</th>\n",
       "      <td>1</td>\n",
       "      <td>36 101 403 506 123 515 694 1546 592 254</td>\n",
       "    </tr>\n",
       "    <tr>\n",
       "      <th>1</th>\n",
       "      <td>2</td>\n",
       "      <td>1095 47 28 11 50 1522 196 102 3176 12</td>\n",
       "    </tr>\n",
       "    <tr>\n",
       "      <th>2</th>\n",
       "      <td>3</td>\n",
       "      <td>59 259 857 584 536 956 4252 1281 648 414</td>\n",
       "    </tr>\n",
       "    <tr>\n",
       "      <th>3</th>\n",
       "      <td>4</td>\n",
       "      <td>28 50 249 145 639 136 139 171 254 314</td>\n",
       "    </tr>\n",
       "    <tr>\n",
       "      <th>4</th>\n",
       "      <td>5</td>\n",
       "      <td>1570 77 5138 116 148 7033 131 95 175 238</td>\n",
       "    </tr>\n",
       "    <tr>\n",
       "      <th>...</th>\n",
       "      <td>...</td>\n",
       "      <td>...</td>\n",
       "    </tr>\n",
       "    <tr>\n",
       "      <th>10877</th>\n",
       "      <td>13020</td>\n",
       "      <td>6450 6198 6452 6749 7395 7394 4323 161 105 1191</td>\n",
       "    </tr>\n",
       "    <tr>\n",
       "      <th>10878</th>\n",
       "      <td>13021</td>\n",
       "      <td>6179 7027 6720 6451 6426 133 13621 17942 7395 ...</td>\n",
       "    </tr>\n",
       "    <tr>\n",
       "      <th>10879</th>\n",
       "      <td>13022</td>\n",
       "      <td>1411 1446 1668 1674 809 4688 10789 16075 1555 ...</td>\n",
       "    </tr>\n",
       "    <tr>\n",
       "      <th>10880</th>\n",
       "      <td>13023</td>\n",
       "      <td>706 639 1124 329 1534 1532 1146 1273 837 1535</td>\n",
       "    </tr>\n",
       "    <tr>\n",
       "      <th>10881</th>\n",
       "      <td>13024</td>\n",
       "      <td>10211 4076 4082 6215 2120 733 8259 1776 2584 7771</td>\n",
       "    </tr>\n",
       "  </tbody>\n",
       "</table>\n",
       "<p>10882 rows × 2 columns</p>\n",
       "</div>"
      ],
      "text/plain": [
       "       user_id                                          item_list\n",
       "0            1            36 101 403 506 123 515 694 1546 592 254\n",
       "1            2              1095 47 28 11 50 1522 196 102 3176 12\n",
       "2            3           59 259 857 584 536 956 4252 1281 648 414\n",
       "3            4              28 50 249 145 639 136 139 171 254 314\n",
       "4            5           1570 77 5138 116 148 7033 131 95 175 238\n",
       "...        ...                                                ...\n",
       "10877    13020    6450 6198 6452 6749 7395 7394 4323 161 105 1191\n",
       "10878    13021  6179 7027 6720 6451 6426 133 13621 17942 7395 ...\n",
       "10879    13022  1411 1446 1668 1674 809 4688 10789 16075 1555 ...\n",
       "10880    13023      706 639 1124 329 1534 1532 1146 1273 837 1535\n",
       "10881    13024  10211 4076 4082 6215 2120 733 8259 1776 2584 7771\n",
       "\n",
       "[10882 rows x 2 columns]"
      ]
     },
     "execution_count": 26,
     "metadata": {},
     "output_type": "execute_result"
    }
   ],
   "source": [
    "import time\n",
    "alpha = study.best_params[\"alpha\"]\n",
    "beta = study.best_params[\"beta\"]\n",
    "print(f\"Weights: itemKNN= {alpha}, RP3beta= {beta}, P3alpha= {1-alpha-beta}\")\n",
    "\n",
    "item_knn_recommender = ItemKNNCFRecommender(URM_all, verbose=False)\n",
    "RP3beta_recommender = RP3betaRecommender(URM_all, verbose=False)\n",
    "P3alpha_recommender = P3alphaRecommender(URM_all, verbose=False)\n",
    "\n",
    "item_knn_recommender.fit(shrink=6.982686167013746, topK=9)\n",
    "RP3beta_recommender.fit(alpha=0.20026352123406477, beta=0.15999879728761354, topK=32)\n",
    "P3alpha_recommender.fit(topK=41, alpha=0.7384557977476195)\n",
    "\n",
    "scoreshybridrecommender = ScoresHybridRecommender(URM_all, item_knn_recommender, RP3beta_recommender, P3alpha_recommender, verbose=False)\n",
    "scoreshybridrecommender.fit(alpha = alpha, beta = beta)\n",
    "n_users_to_test = len(data_target[\"user_id\"])\n",
    "suggestions = pd.DataFrame(columns = [\"user_id\", \"item_list\"])\n",
    "start_time = time.time()\n",
    "\n",
    "for user_id in (data_target[\"user_id\"]-1):\n",
    "    suggestion = scoreshybridrecommender.recommend(user_id, cutoff=10)\n",
    "    suggestions.loc[len(suggestions)] = [user_id+1, \" \".join([str(item_map[x]) for x in suggestion])] #\" \".join([str(x) for x in np.flip(np.sort(suggestion_values))[0][:10]]\n",
    "    \n",
    "end_time = time.time()\n",
    "\n",
    "print(\"Reasonable implementation speed is {:.2f} usr/sec\".format(n_users_to_test/(end_time-start_time)))\n",
    "suggestions"
   ]
  },
  {
   "cell_type": "code",
   "execution_count": 45,
   "metadata": {},
   "outputs": [],
   "source": [
    "suggestions.to_csv(\"outputs/hybrid_itemKNN_RP3beta_P3alpha.csv\", index=False)"
   ]
  },
  {
   "cell_type": "code",
   "execution_count": null,
   "metadata": {},
   "outputs": [],
   "source": []
  }
 ],
 "metadata": {
  "kernelspec": {
   "display_name": "Python 3",
   "language": "python",
   "name": "python3"
  },
  "language_info": {
   "codemirror_mode": {
    "name": "ipython",
    "version": 3
   },
   "file_extension": ".py",
   "mimetype": "text/x-python",
   "name": "python",
   "nbconvert_exporter": "python",
   "pygments_lexer": "ipython3",
   "version": "3.11.7"
  }
 },
 "nbformat": 4,
 "nbformat_minor": 2
}
