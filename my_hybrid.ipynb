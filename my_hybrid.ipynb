{
 "cells": [
  {
   "cell_type": "code",
   "execution_count": 8,
   "metadata": {},
   "outputs": [
    {
     "name": "stdout",
     "output_type": "stream",
     "text": [
      "The Cython extension is already loaded. To reload it, use:\n",
      "  %reload_ext Cython\n"
     ]
    }
   ],
   "source": [
    "import numpy as np\n",
    "import matplotlib.pyplot as pyplot\n",
    "import pandas as pd\n",
    "import scipy.sparse as sps\n",
    "%matplotlib inline  \n",
    "%load_ext Cython\n",
    "\n",
    "from Evaluation.Evaluator import EvaluatorHoldout\n",
    "from Data_manager.split_functions.split_train_validation_random_holdout import split_train_in_two_percentage_global_sample\n",
    "from Recommenders.Similarity.Compute_Similarity_Python import Compute_Similarity_Python\n",
    "\n",
    "from Recommenders.KNN.UserKNNCFRecommender import UserKNNCFRecommender\n",
    "from Recommenders.KNN.ItemKNNCFRecommender import ItemKNNCFRecommender\n",
    "\n",
    "\n",
    "from Recommenders.KNN.ItemKNNCustomSimilarityRecommender import ItemKNNCustomSimilarityRecommender"
   ]
  },
  {
   "cell_type": "code",
   "execution_count": 2,
   "metadata": {},
   "outputs": [],
   "source": [
    "# data_train_path=\"/kaggle/input/recommender-system-2023-challenge-polimi/data_train.csv\"\n",
    "# data_target_user_path=\"/kaggle/input/recommender-system-2023-challenge-polimi/data_target_users_test.csv\"\n",
    "data_train_path=\"data_train.csv\"\n",
    "data_target_user_path=\"data_target_users_test.csv\"\n",
    "data_train = pd.read_csv(data_train_path)\n",
    "data_target = pd.read_csv(data_target_user_path)"
   ]
  },
  {
   "cell_type": "code",
   "execution_count": 3,
   "metadata": {},
   "outputs": [
    {
     "data": {
      "text/plain": [
       "<13024x22222 sparse matrix of type '<class 'numpy.float64'>'\n",
       "\twith 478730 stored elements in Compressed Sparse Row format>"
      ]
     },
     "execution_count": 3,
     "metadata": {},
     "output_type": "execute_result"
    }
   ],
   "source": [
    "URM_all =  data_train.pivot(index='row', columns='col', values='data').fillna(0)\n",
    "item_map = {i : item for i, item in enumerate(URM_all.columns)}\n",
    "user_map = {i : user for i, user in enumerate(data_target[\"user_id\"])}\n",
    "item_map_inv = {item : i for i, item in item_map.items()}\n",
    "user_map_inv = {user : i for i, user in user_map.items()}\n",
    "missing_index = [x for x in range(1,13025) if x not in URM_all.index.tolist()]\n",
    "add_urm = pd.DataFrame(index = missing_index, columns = URM_all.columns).fillna(0)\n",
    "URM_all = pd.concat([URM_all, add_urm]).sort_index()\n",
    "del add_urm\n",
    "del missing_index\n",
    "#data_target[\"user_id\"] = data_target[\"user_id\"]\n",
    "URM_all = URM_all.to_numpy()\n",
    "urm_sparse = sps.csr_matrix(URM_all)\n",
    "urm_sparse"
   ]
  },
  {
   "cell_type": "code",
   "execution_count": 6,
   "metadata": {},
   "outputs": [
    {
     "name": "stdout",
     "output_type": "stream",
     "text": [
      "Warning: 609 (4.68 %) of 13024 users have no train items\n",
      "Warning: 2531 (19.43 %) of 13024 users have no sampled items\n",
      "EvaluatorHoldout: Ignoring 2531 (19.4%) Users that have less than 1 test interactions\n"
     ]
    }
   ],
   "source": [
    "URM_train, URM_test = split_train_in_two_percentage_global_sample(urm_sparse, train_percentage = 0.80)\n",
    "# URM_train, URM_validation = split_train_in_two_percentage_global_sample(URM_train, train_percentage = 0.80)\n",
    "# evaluator_validation = EvaluatorHoldout(URM_validation, cutoff_list=[10])\n",
    "evaluator_test = EvaluatorHoldout(URM_test, cutoff_list=[10])"
   ]
  },
  {
   "cell_type": "code",
   "execution_count": 37,
   "metadata": {},
   "outputs": [
    {
     "name": "stdout",
     "output_type": "stream",
     "text": [
      "ItemKNNCFRecommender: URM Detected 609 ( 4.7%) users with no interactions.\n",
      "ItemKNNCFRecommender: URM Detected 132 ( 0.6%) items with no interactions.\n",
      "UserKNNCFRecommender: URM Detected 609 ( 4.7%) users with no interactions.\n",
      "UserKNNCFRecommender: URM Detected 132 ( 0.6%) items with no interactions.\n",
      "Unable to load Cython Compute_Similarity, reverting to Python\n",
      "Similarity column 22222 (100.0%), 2214.96 column/sec. Elapsed time 10.03 sec\n",
      "Unable to load Cython Compute_Similarity, reverting to Python\n",
      "Similarity column 13024 (100.0%), 1199.49 column/sec. Elapsed time 10.86 sec\n"
     ]
    }
   ],
   "source": [
    "item_knn_recommender = ItemKNNCFRecommender(URM_train)\n",
    "user_knn_recommender = UserKNNCFRecommender(URM_train)\n",
    "\n",
    "item_knn_recommender.fit(shrink=3, topK=23)\n",
    "user_knn_recommender.fit(shrink=0, topK=483)\n",
    "\n"
   ]
  },
  {
   "cell_type": "code",
   "execution_count": 38,
   "metadata": {},
   "outputs": [
    {
     "data": {
      "text/plain": [
       "(array([[0.32039568, 0.17823893, 0.48859325, ..., 0.        , 0.        ,\n",
       "         0.        ]], dtype=float32),\n",
       " array([[1.0956885 , 0.84090763, 1.5057833 , ..., 0.        , 0.        ,\n",
       "         0.        ]], dtype=float32))"
      ]
     },
     "execution_count": 38,
     "metadata": {},
     "output_type": "execute_result"
    }
   ],
   "source": [
    "score_item_knn = item_knn_recommender._compute_item_score(user_id_array=0)\n",
    "score_user_knn = user_knn_recommender._compute_item_score(user_id_array=0)\n",
    "\n",
    "score_item_knn, score_user_knn"
   ]
  },
  {
   "cell_type": "code",
   "execution_count": 16,
   "metadata": {},
   "outputs": [],
   "source": [
    "from Recommenders.BaseRecommender import BaseRecommender\n",
    "\n",
    "class ScoresHybridRecommender(BaseRecommender):\n",
    "    \"\"\" ScoresHybridRecommender\n",
    "    Hybrid of two prediction scores R = R1*alpha + R2*(1-alpha)\n",
    "\n",
    "    \"\"\"\n",
    "\n",
    "    RECOMMENDER_NAME = \"ScoresHybridRecommender\"\n",
    "\n",
    "    def __init__(self, URM_train, recommender_1, recommender_2):\n",
    "        super(ScoresHybridRecommender, self).__init__(URM_train)\n",
    "\n",
    "        self.URM_train = sps.csr_matrix(URM_train)\n",
    "        self.recommender_1 = recommender_1\n",
    "        self.recommender_2 = recommender_2\n",
    "        \n",
    "        \n",
    "    def fit(self, alpha = 0.5):\n",
    "        self.alpha = alpha      \n",
    "\n",
    "\n",
    "    def _compute_item_score(self, user_id_array, items_to_compute):\n",
    "        \n",
    "        # In a simple extension this could be a loop over a list of pretrained recommender objects\n",
    "        item_weights_1 = self.recommender_1._compute_item_score(user_id_array)\n",
    "        item_weights_2 = self.recommender_2._compute_item_score(user_id_array)\n",
    "\n",
    "        item_weights = item_weights_1*self.alpha + item_weights_2*(1-self.alpha)\n",
    "\n",
    "        return item_weights"
   ]
  },
  {
   "cell_type": "code",
   "execution_count": 41,
   "metadata": {},
   "outputs": [
    {
     "name": "stdout",
     "output_type": "stream",
     "text": [
      "ScoresHybridRecommender: URM Detected 609 ( 4.7%) users with no interactions.\n",
      "ScoresHybridRecommender: URM Detected 132 ( 0.6%) items with no interactions.\n",
      "EvaluatorHoldout: Processed 10493 (100.0%) in 11.81 sec. Users per second: 888\n",
      "ScoresHybridRecommender: URM Detected 609 ( 4.7%) users with no interactions.\n",
      "ScoresHybridRecommender: URM Detected 132 ( 0.6%) items with no interactions.\n",
      "EvaluatorHoldout: Processed 10493 (100.0%) in 11.43 sec. Users per second: 918\n",
      "ScoresHybridRecommender: URM Detected 609 ( 4.7%) users with no interactions.\n",
      "ScoresHybridRecommender: URM Detected 132 ( 0.6%) items with no interactions.\n",
      "EvaluatorHoldout: Processed 10493 (100.0%) in 11.39 sec. Users per second: 921\n",
      "ScoresHybridRecommender: URM Detected 609 ( 4.7%) users with no interactions.\n",
      "ScoresHybridRecommender: URM Detected 132 ( 0.6%) items with no interactions.\n",
      "EvaluatorHoldout: Processed 10493 (100.0%) in 11.37 sec. Users per second: 923\n",
      "ScoresHybridRecommender: URM Detected 609 ( 4.7%) users with no interactions.\n",
      "ScoresHybridRecommender: URM Detected 132 ( 0.6%) items with no interactions.\n",
      "EvaluatorHoldout: Processed 10493 (100.0%) in 11.39 sec. Users per second: 921\n",
      "ScoresHybridRecommender: URM Detected 609 ( 4.7%) users with no interactions.\n",
      "ScoresHybridRecommender: URM Detected 132 ( 0.6%) items with no interactions.\n",
      "EvaluatorHoldout: Processed 10493 (100.0%) in 11.36 sec. Users per second: 923\n",
      "ScoresHybridRecommender: URM Detected 609 ( 4.7%) users with no interactions.\n",
      "ScoresHybridRecommender: URM Detected 132 ( 0.6%) items with no interactions.\n",
      "EvaluatorHoldout: Processed 10493 (100.0%) in 11.29 sec. Users per second: 929\n",
      "ScoresHybridRecommender: URM Detected 609 ( 4.7%) users with no interactions.\n",
      "ScoresHybridRecommender: URM Detected 132 ( 0.6%) items with no interactions.\n",
      "EvaluatorHoldout: Processed 10493 (100.0%) in 11.33 sec. Users per second: 926\n",
      "ScoresHybridRecommender: URM Detected 609 ( 4.7%) users with no interactions.\n",
      "ScoresHybridRecommender: URM Detected 132 ( 0.6%) items with no interactions.\n",
      "EvaluatorHoldout: Processed 10493 (100.0%) in 11.36 sec. Users per second: 924\n",
      "ScoresHybridRecommender: URM Detected 609 ( 4.7%) users with no interactions.\n",
      "ScoresHybridRecommender: URM Detected 132 ( 0.6%) items with no interactions.\n",
      "EvaluatorHoldout: Processed 10493 (100.0%) in 11.41 sec. Users per second: 919\n",
      "ScoresHybridRecommender: URM Detected 609 ( 4.7%) users with no interactions.\n",
      "ScoresHybridRecommender: URM Detected 132 ( 0.6%) items with no interactions.\n",
      "EvaluatorHoldout: Processed 10493 (100.0%) in 11.40 sec. Users per second: 920\n"
     ]
    }
   ],
   "source": [
    "alpha_df = pd.DataFrame(columns = [\"alpha\", \"MAP\"])\n",
    "for i, a in enumerate(np.arange(0.875,0.976,0.01)):\n",
    "    scoreshybridrecommender = ScoresHybridRecommender(URM_train, item_knn_recommender, user_knn_recommender)\n",
    "    scoreshybridrecommender.fit(alpha = a)\n",
    "\n",
    "    result_df, _ = evaluator_test.evaluateRecommender(scoreshybridrecommender)\n",
    "    alpha_df.loc[i] = [a, result_df[\"MAP\"]]"
   ]
  },
  {
   "cell_type": "code",
   "execution_count": 42,
   "metadata": {},
   "outputs": [
    {
     "name": "stderr",
     "output_type": "stream",
     "text": [
      "C:\\Users\\feder\\AppData\\Local\\Packages\\PythonSoftwareFoundation.Python.3.11_qbz5n2kfra8p0\\LocalCache\\local-packages\\Python311\\site-packages\\matplotlib\\cbook.py:1699: FutureWarning: Calling float on a single element Series is deprecated and will raise a TypeError in the future. Use float(ser.iloc[0]) instead\n",
      "  return math.isfinite(val)\n",
      "C:\\Users\\feder\\AppData\\Local\\Packages\\PythonSoftwareFoundation.Python.3.11_qbz5n2kfra8p0\\LocalCache\\local-packages\\Python311\\site-packages\\matplotlib\\cbook.py:1345: FutureWarning: Calling float on a single element Series is deprecated and will raise a TypeError in the future. Use float(ser.iloc[0]) instead\n",
      "  return np.asarray(x, float)\n"
     ]
    },
    {
     "data": {
      "image/png": "[encoded data removed]",
      "text/plain": [
       "<Figure size 640x480 with 1 Axes>"
      ]
     },
     "metadata": {},
     "output_type": "display_data"
    }
   ],
   "source": [
    "pyplot.plot(alpha_df[\"alpha\"], alpha_df[\"MAP\"])\n",
    "pyplot.xlabel(\"Alpha\")\n",
    "pyplot.ylabel(\"MAP\")\n",
    "pyplot.title(\"MAP vs Alpha\")\n",
    "pyplot.show()\n"
   ]
  },
  {
   "cell_type": "code",
   "execution_count": 43,
   "metadata": {},
   "outputs": [
    {
     "name": "stderr",
     "output_type": "stream",
     "text": [
      "C:\\Users\\feder\\AppData\\Local\\Temp\\ipykernel_23512\\619541529.py:1: FutureWarning: Calling float on a single element Series is deprecated and will raise a TypeError in the future. Use float(ser.iloc[0]) instead\n",
      "  best_alpha_value = alpha_df.loc[alpha_df[\"MAP\"].astype(float).idxmax()]\n"
     ]
    },
    {
     "data": {
      "text/plain": [
       "alpha                                             0.885\n",
       "MAP      cutoff\n",
       "10    0.044877\n",
       "Name: MAP, dtype: object\n",
       "Name: 1, dtype: object"
      ]
     },
     "execution_count": 43,
     "metadata": {},
     "output_type": "execute_result"
    }
   ],
   "source": [
    "best_alpha_value = alpha_df.loc[alpha_df[\"MAP\"].astype(float).idxmax()]\n",
    "best_alpha_value"
   ]
  },
  {
   "cell_type": "code",
   "execution_count": 44,
   "metadata": {},
   "outputs": [
    {
     "name": "stdout",
     "output_type": "stream",
     "text": [
      "ScoresHybridRecommender: URM Detected 609 ( 4.7%) users with no interactions.\n",
      "ScoresHybridRecommender: URM Detected 132 ( 0.6%) items with no interactions.\n"
     ]
    },
    {
     "name": "stdout",
     "output_type": "stream",
     "text": [
      "Reasonable implementation speed is 595.03 usr/sec\n"
     ]
    }
   ],
   "source": [
    "import time\n",
    "scoreshybridrecommender = ScoresHybridRecommender(URM_train, item_knn_recommender, user_knn_recommender)\n",
    "scoreshybridrecommender.fit(alpha = a)\n",
    "n_users_to_test = len(data_target[\"user_id\"])\n",
    "suggestions = pd.DataFrame(columns = [\"user_id\", \"item_list\"])\n",
    "start_time = time.time()\n",
    "\n",
    "for user_id in (data_target[\"user_id\"]-1):\n",
    "    suggestion = scoreshybridrecommender.recommend(user_id, cutoff=10)\n",
    "    suggestions.loc[len(suggestions)] = [user_id+1, \" \".join([str(item_map[x]) for x in suggestion])] #\" \".join([str(x) for x in np.flip(np.sort(suggestion_values))[0][:10]]\n",
    "    \n",
    "end_time = time.time()\n",
    "\n",
    "print(\"Reasonable implementation speed is {:.2f} usr/sec\".format(n_users_to_test/(end_time-start_time)))"
   ]
  },
  {
   "cell_type": "code",
   "execution_count": 45,
   "metadata": {},
   "outputs": [],
   "source": [
    "suggestions.to_csv(\"outputs/hybrid.csv\", index=False)"
   ]
  },
  {
   "cell_type": "code",
   "execution_count": null,
   "metadata": {},
   "outputs": [],
   "source": []
  }
 ],
 "metadata": {
  "kernelspec": {
   "display_name": "Python 3",
   "language": "python",
   "name": "python3"
  },
  "language_info": {
   "codemirror_mode": {
    "name": "ipython",
    "version": 3
   },
   "file_extension": ".py",
   "mimetype": "text/x-python",
   "name": "python",
   "nbconvert_exporter": "python",
   "pygments_lexer": "ipython3",
   "version": "3.11.7"
  }
 },
 "nbformat": 4,
 "nbformat_minor": 2
}
