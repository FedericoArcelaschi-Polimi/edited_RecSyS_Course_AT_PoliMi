{
  "cells": [
    {
      "cell_type": "code",
      "execution_count": 1,
      "metadata": {
        "colab": {
          "base_uri": "https://localhost:8080/"
        },
        "id": "bRIn_rBb0lpX",
        "outputId": "bded74c5-2fed-45ff-b035-7b5e0087fcdd"
      },
      "outputs": [],
      "source": [
        "#!pip install optuna optuna-dashboard pymysql"
      ]
    },
    {
      "cell_type": "code",
      "execution_count": 2,
      "metadata": {
        "id": "WNTjuoYE0XLK"
      },
      "outputs": [
        {
          "name": "stderr",
          "output_type": "stream",
          "text": [
            "/Library/Frameworks/Python.framework/Versions/3.12/lib/python3.12/site-packages/tqdm/auto.py:21: TqdmWarning: IProgress not found. Please update jupyter and ipywidgets. See https://ipywidgets.readthedocs.io/en/stable/user_install.html\n",
            "  from .autonotebook import tqdm as notebook_tqdm\n"
          ]
        }
      ],
      "source": [
        "import optuna\n",
        "import threading\n",
        "import subprocess\n",
        "from optuna_dashboard import run_server\n",
        "\n",
        "\n"
      ]
    },
    {
      "cell_type": "code",
      "execution_count": 3,
      "metadata": {
        "id": "MjGXLCHw0cQQ"
      },
      "outputs": [],
      "source": [
        "# Replace the following with your MySQL database connection details\n",
        "host = \"db-mysql-recsys-do-user-15390069-0.c.db.ondigitalocean.com\"\n",
        "port = 25060\n",
        "database_name = \"optuna\"\n",
        "username = \"doadmin\"\n",
        "password = \"AVNS_5Br3hCFa4U-D__KSaCl\"\n",
        "\n",
        "# Create an SQLAlchemy engine\n",
        "mysql_url = f\"mysql+pymysql://{username}:{password}@{host}:{port}/{database_name}\"\n",
        "\n",
        "study_name = \"SLIM_EN_DB\"\n",
        "storage = optuna.storages.RDBStorage(mysql_url)\n",
        "#study = optuna.load_study(study_name=study_name, storage=storage)\n",
        "#study.trials_dataframe()"
      ]
    },
    {
      "cell_type": "code",
      "execution_count": 4,
      "metadata": {
        "colab": {
          "base_uri": "https://localhost:8080/",
          "height": 34
        },
        "id": "hmGdsxi70cDj",
        "outputId": "7ac8053b-631f-4f8b-8fc9-615f86b010bf"
      },
      "outputs": [
        {
          "data": {
            "text/plain": [
              "<Popen: returncode: None args: 'optuna-dashboard --storage mysql+pymysql://d...>"
            ]
          },
          "execution_count": 4,
          "metadata": {},
          "output_type": "execute_result"
        },
        {
          "name": "stderr",
          "output_type": "stream",
          "text": [
            "Bottle v0.12.25 server starting up (using WSGIRefServer())...\n",
            "Listening on http://localhost:8081/\n",
            "Hit Ctrl-C to quit.\n",
            "\n",
            "usage: optuna-dashboard [-h] [--storage-class STORAGE_CLASS] [--port PORT]\n",
            "                        [--host HOST] [--server {auto,wsgiref,gunicorn}]\n",
            "                        [--artifact-dir ARTIFACT_DIR] [--version] [--quiet]\n",
            "                        storage\n",
            "optuna-dashboard: error: the following arguments are required: storage\n",
            "127.0.0.1 - - [21/Dec/2023 08:06:02] \"GET / HTTP/1.1\" 302 0\n",
            "127.0.0.1 - - [21/Dec/2023 08:06:03] \"GET /dashboard HTTP/1.1\" 200 4145\n",
            "127.0.0.1 - - [21/Dec/2023 08:06:03] \"GET /api/studies HTTP/1.1\" 200 718\n",
            "127.0.0.1 - - [21/Dec/2023 08:06:58] \"GET /api/studies/6/param_importances HTTP/1.1\" 200 494\n",
            "/Library/Frameworks/Python.framework/Versions/3.12/lib/python3.12/site-packages/optuna/study/_study_summary.py:115: FutureWarning: `system_attrs` has been deprecated in v3.1.0. The removal of this feature is currently scheduled for v5.0.0, but this schedule is subject to change. See https://github.com/optuna/optuna/releases/tag/v3.1.0.\n",
            "  warnings.warn(\n",
            "127.0.0.1 - - [21/Dec/2023 08:06:59] \"GET /api/studies/6?after=0 HTTP/1.1\" 200 3053047\n",
            "127.0.0.1 - - [21/Dec/2023 08:06:59] \"GET /api/meta HTTP/1.1\" 200 32\n",
            "127.0.0.1 - - [21/Dec/2023 08:07:57] \"GET /api/studies/6/param_importances HTTP/1.1\" 200 493\n"
          ]
        }
      ],
      "source": [
        "\n",
        "port = 8081\n",
        "thread = threading.Thread(target=run_server, args=(storage,), kwargs={\"port\": port})\n",
        "thread.start()\n",
        "port = 8081\n",
        "command = f\"optuna-dashboard --storage {mysql_url} --port {port}\"\n",
        "subprocess.Popen(command, shell=True)\n"
      ]
    }
  ],
  "metadata": {
    "colab": {
      "provenance": []
    },
    "kernelspec": {
      "display_name": "Python 3",
      "name": "python3"
    },
    "language_info": {
      "codemirror_mode": {
        "name": "ipython",
        "version": 3
      },
      "file_extension": ".py",
      "mimetype": "text/x-python",
      "name": "python",
      "nbconvert_exporter": "python",
      "pygments_lexer": "ipython3",
      "version": "3.12.0"
    }
  },
  "nbformat": 4,
  "nbformat_minor": 0
}
