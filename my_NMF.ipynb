{
 "cells": [
  {
   "cell_type": "code",
   "execution_count": 1,
   "metadata": {},
   "outputs": [],
   "source": [
    "import numpy as np\n",
    "import matplotlib.pyplot as pyplot\n",
    "import pandas as pd\n",
    "import scipy.sparse as sps\n",
    "%matplotlib inline  \n",
    "\n",
    "from Data_manager.split_functions.split_train_validation_random_holdout import split_train_in_two_percentage_global_sample\n"
   ]
  },
  {
   "cell_type": "code",
   "execution_count": 2,
   "metadata": {},
   "outputs": [],
   "source": [
    "# data_train_path=\"/kaggle/input/recommender-system-2023-challenge-polimi/data_train.csv\"\n",
    "# data_target_user_path=\"/kaggle/input/recommender-system-2023-challenge-polimi/data_target_users_test.csv\"\n",
    "data_train_path=\"data_train.csv\"\n",
    "data_target_user_path=\"data_target_users_test.csv\"\n",
    "data_train = pd.read_csv(data_train_path)\n",
    "data_target = pd.read_csv(data_target_user_path)"
   ]
  },
  {
   "cell_type": "code",
   "execution_count": 3,
   "metadata": {},
   "outputs": [
    {
     "data": {
      "text/plain": [
       "<13024x22222 sparse matrix of type '<class 'numpy.float64'>'\n",
       "\twith 478730 stored elements in Compressed Sparse Row format>"
      ]
     },
     "execution_count": 3,
     "metadata": {},
     "output_type": "execute_result"
    }
   ],
   "source": [
    "URM_all =  data_train.pivot(index='row', columns='col', values='data').fillna(0)\n",
    "item_map = {i : item for i, item in enumerate(URM_all.columns)}\n",
    "user_map = {i : user for i, user in enumerate(data_target[\"user_id\"])}\n",
    "item_map_inv = {item : i for i, item in item_map.items()}\n",
    "user_map_inv = {user : i for i, user in user_map.items()}\n",
    "missing_index = [x for x in range(1,13025) if x not in URM_all.index.tolist()]\n",
    "add_urm = pd.DataFrame(index = missing_index, columns = URM_all.columns).fillna(0)\n",
    "URM_all = pd.concat([URM_all, add_urm]).sort_index()\n",
    "del add_urm\n",
    "del missing_index\n",
    "#data_target[\"user_id\"] = data_target[\"user_id\"]\n",
    "URM_all = URM_all.to_numpy()\n",
    "URM_all = sps.csr_matrix(URM_all)\n",
    "URM_all"
   ]
  },
  {
   "cell_type": "code",
   "execution_count": 4,
   "metadata": {},
   "outputs": [
    {
     "name": "stdout",
     "output_type": "stream",
     "text": [
      "Warning: 620 (4.76 %) of 13024 users have no train items\n",
      "Warning: 2550 (19.58 %) of 13024 users have no sampled items\n"
     ]
    }
   ],
   "source": [
    "URM_train, URM_test = split_train_in_two_percentage_global_sample(URM_all, train_percentage = 0.80)"
   ]
  },
  {
   "cell_type": "code",
   "execution_count": 5,
   "metadata": {},
   "outputs": [],
   "source": [
    "from sklearn.decomposition import NMF\n",
    "num_factors = 10\n",
    "\n",
    "nmf_solver = NMF(n_components  = num_factors,\n",
    "                 init = \"random\",\n",
    "                 solver = \"mu\", #\"multiplicative_update\",\n",
    "                 beta_loss = \"frobenius\",\n",
    "                 l1_ratio = 0.01,\n",
    "                 shuffle = True,\n",
    "                 verbose = True,\n",
    "                 max_iter = 500)"
   ]
  },
  {
   "cell_type": "code",
   "execution_count": 6,
   "metadata": {},
   "outputs": [
    {
     "name": "stdout",
     "output_type": "stream",
     "text": [
      "Epoch 10 reached after 0.110 seconds, error: 604.569816\n",
      "Epoch 20 reached after 0.193 seconds, error: 600.928523\n",
      "Epoch 30 reached after 0.293 seconds, error: 600.453189\n",
      "Epoch 40 reached after 0.390 seconds, error: 600.315053\n",
      "Epoch 50 reached after 0.493 seconds, error: 600.259206\n",
      "Epoch 10 reached after 0.029 seconds, error: 667.866017\n",
      "Epoch 20 reached after 0.041 seconds, error: 667.852889\n"
     ]
    }
   ],
   "source": [
    "nmf_solver.fit(URM_train)\n",
    "\n",
    "ITEM_factors = nmf_solver.components_.copy().T\n",
    "USER_factors = nmf_solver.transform(URM_all)"
   ]
  },
  {
   "cell_type": "code",
   "execution_count": 7,
   "metadata": {},
   "outputs": [],
   "source": [
    "user_item_similarity = np.multiply(np.dot(USER_factors, ITEM_factors.T), 1-URM_all.todense())"
   ]
  },
  {
   "cell_type": "code",
   "execution_count": 8,
   "metadata": {},
   "outputs": [
    {
     "data": {
      "text/plain": [
       "matrix([[ 35,   9, 111, ...,  67, 136,  31],\n",
       "        [ 14,  10,  35, ...,  37,  53,  17],\n",
       "        [ 10,  16,   0, ...,   6,   4,  41],\n",
       "        ...,\n",
       "        [ 65,  59,  76, ..., 137, 174, 181],\n",
       "        [ 31,  76,  59, ..., 137, 174, 207],\n",
       "        [ 14, 138,  35, ..., 268, 164, 253]], dtype=int64)"
      ]
     },
     "execution_count": 8,
     "metadata": {},
     "output_type": "execute_result"
    }
   ],
   "source": [
    "prediction = np.flip(np.argsort(user_item_similarity, axis=1), axis = 1)[:,:10]\n",
    "prediction"
   ]
  },
  {
   "cell_type": "code",
   "execution_count": 9,
   "metadata": {},
   "outputs": [
    {
     "data": {
      "text/plain": [
       "matrix([[0.28294343, 0.22136593, 0.21174182, ..., 0.13303132, 0.13069007,\n",
       "         0.11883304],\n",
       "        [0.38302221, 0.26318491, 0.23538385, ..., 0.19069374, 0.17888173,\n",
       "         0.17501756],\n",
       "        [0.01531776, 0.01393463, 0.01349276, ..., 0.01065761, 0.01015864,\n",
       "         0.00994775],\n",
       "        ...,\n",
       "        [0.03092407, 0.02881409, 0.0287427 , ..., 0.01696586, 0.01693397,\n",
       "         0.01583334],\n",
       "        [0.20754692, 0.20287945, 0.20268314, ..., 0.12952236, 0.12499906,\n",
       "         0.11976217],\n",
       "        [0.29094696, 0.27023305, 0.22733445, ..., 0.18424269, 0.18260164,\n",
       "         0.17760088]])"
      ]
     },
     "execution_count": 9,
     "metadata": {},
     "output_type": "execute_result"
    }
   ],
   "source": [
    "prediction_values = np.flip(np.sort(user_item_similarity, axis=1), axis = 1)[:,:10]\n",
    "prediction_values"
   ]
  },
  {
   "cell_type": "code",
   "execution_count": 10,
   "metadata": {},
   "outputs": [
    {
     "data": {
      "text/html": [
       "<div>\n",
       "<style scoped>\n",
       "    .dataframe tbody tr th:only-of-type {\n",
       "        vertical-align: middle;\n",
       "    }\n",
       "\n",
       "    .dataframe tbody tr th {\n",
       "        vertical-align: top;\n",
       "    }\n",
       "\n",
       "    .dataframe thead th {\n",
       "        text-align: right;\n",
       "    }\n",
       "</style>\n",
       "<table border=\"1\" class=\"dataframe\">\n",
       "  <thead>\n",
       "    <tr style=\"text-align: right;\">\n",
       "      <th></th>\n",
       "      <th>user_id</th>\n",
       "      <th>item_list</th>\n",
       "      <th>item_values</th>\n",
       "    </tr>\n",
       "  </thead>\n",
       "  <tbody>\n",
       "    <tr>\n",
       "      <th>0</th>\n",
       "      <td>1</td>\n",
       "      <td>36 10 112 54 101 18 3 68 137 32</td>\n",
       "      <td>0.2829434340369058 0.2213659277880494 0.211741...</td>\n",
       "    </tr>\n",
       "    <tr>\n",
       "      <th>1</th>\n",
       "      <td>2</td>\n",
       "      <td>15 11 36 6 5 3 28 38 54 18</td>\n",
       "      <td>0.38302221358388455 0.26318490942849343 0.2353...</td>\n",
       "    </tr>\n",
       "    <tr>\n",
       "      <th>2</th>\n",
       "      <td>3</td>\n",
       "      <td>11 17 1 28 9 47 27 7 5 42</td>\n",
       "      <td>0.01531775764605701 0.013934632138844837 0.013...</td>\n",
       "    </tr>\n",
       "    <tr>\n",
       "      <th>3</th>\n",
       "      <td>4</td>\n",
       "      <td>28 50 9 5 35 145 56 136 104 122</td>\n",
       "      <td>0.4975431638916785 0.383577149639085 0.3511128...</td>\n",
       "    </tr>\n",
       "    <tr>\n",
       "      <th>4</th>\n",
       "      <td>5</td>\n",
       "      <td>4 6 77 32 34 38 116 88 51 99</td>\n",
       "      <td>0.25796632838484695 0.21235349897591843 0.1979...</td>\n",
       "    </tr>\n",
       "    <tr>\n",
       "      <th>...</th>\n",
       "      <td>...</td>\n",
       "      <td>...</td>\n",
       "      <td>...</td>\n",
       "    </tr>\n",
       "    <tr>\n",
       "      <th>10877</th>\n",
       "      <td>13020</td>\n",
       "      <td>7 10 34 112 51 87 85 88 54 29</td>\n",
       "      <td>0.5142445808931193 0.10370648051327588 0.09934...</td>\n",
       "    </tr>\n",
       "    <tr>\n",
       "      <th>10878</th>\n",
       "      <td>13021</td>\n",
       "      <td>32 96 138 182 208 133 139 324 344 254</td>\n",
       "      <td>0.873747040593103 0.6272023724942213 0.5726781...</td>\n",
       "    </tr>\n",
       "    <tr>\n",
       "      <th>10879</th>\n",
       "      <td>13022</td>\n",
       "      <td>66 60 77 32 116 148 96 138 175 182</td>\n",
       "      <td>0.030924072499808435 0.02881409110548711 0.028...</td>\n",
       "    </tr>\n",
       "    <tr>\n",
       "      <th>10880</th>\n",
       "      <td>13023</td>\n",
       "      <td>32 77 60 116 7 148 96 138 175 208</td>\n",
       "      <td>0.20754691576002393 0.2028794519972246 0.20268...</td>\n",
       "    </tr>\n",
       "    <tr>\n",
       "      <th>10881</th>\n",
       "      <td>13024</td>\n",
       "      <td>15 139 36 171 133 146 38 269 165 254</td>\n",
       "      <td>0.29094695851261454 0.27023304784059915 0.2273...</td>\n",
       "    </tr>\n",
       "  </tbody>\n",
       "</table>\n",
       "<p>10882 rows × 3 columns</p>\n",
       "</div>"
      ],
      "text/plain": [
       "       user_id                              item_list  \\\n",
       "0            1        36 10 112 54 101 18 3 68 137 32   \n",
       "1            2             15 11 36 6 5 3 28 38 54 18   \n",
       "2            3              11 17 1 28 9 47 27 7 5 42   \n",
       "3            4        28 50 9 5 35 145 56 136 104 122   \n",
       "4            5           4 6 77 32 34 38 116 88 51 99   \n",
       "...        ...                                    ...   \n",
       "10877    13020          7 10 34 112 51 87 85 88 54 29   \n",
       "10878    13021  32 96 138 182 208 133 139 324 344 254   \n",
       "10879    13022     66 60 77 32 116 148 96 138 175 182   \n",
       "10880    13023      32 77 60 116 7 148 96 138 175 208   \n",
       "10881    13024   15 139 36 171 133 146 38 269 165 254   \n",
       "\n",
       "                                             item_values  \n",
       "0      0.2829434340369058 0.2213659277880494 0.211741...  \n",
       "1      0.38302221358388455 0.26318490942849343 0.2353...  \n",
       "2      0.01531775764605701 0.013934632138844837 0.013...  \n",
       "3      0.4975431638916785 0.383577149639085 0.3511128...  \n",
       "4      0.25796632838484695 0.21235349897591843 0.1979...  \n",
       "...                                                  ...  \n",
       "10877  0.5142445808931193 0.10370648051327588 0.09934...  \n",
       "10878  0.873747040593103 0.6272023724942213 0.5726781...  \n",
       "10879  0.030924072499808435 0.02881409110548711 0.028...  \n",
       "10880  0.20754691576002393 0.2028794519972246 0.20268...  \n",
       "10881  0.29094695851261454 0.27023304784059915 0.2273...  \n",
       "\n",
       "[10882 rows x 3 columns]"
      ]
     },
     "execution_count": 10,
     "metadata": {},
     "output_type": "execute_result"
    }
   ],
   "source": [
    "suggestions = pd.DataFrame(columns = [\"user_id\", \"item_list\", \"item_values\"])\n",
    "\n",
    "for user_id in (data_target[\"user_id\"]-1):\n",
    "    suggestions.loc[len(suggestions)] = [user_id+1, \" \".join([str(item_map[x]) for x in prediction[user_id].flat]), \" \".join([str(x) for x in prediction_values[user_id].flat])]\n",
    "\n",
    "suggestions\n",
    "# suggestions.to_csv(\"outputs/NMF.csv\", index = False)"
   ]
  }
 ],
 "metadata": {
  "kernelspec": {
   "display_name": "Python 3",
   "language": "python",
   "name": "python3"
  },
  "language_info": {
   "codemirror_mode": {
    "name": "ipython",
    "version": 3
   },
   "file_extension": ".py",
   "mimetype": "text/x-python",
   "name": "python",
   "nbconvert_exporter": "python",
   "pygments_lexer": "ipython3",
   "version": "3.11.7"
  }
 },
 "nbformat": 4,
 "nbformat_minor": 2
}
