{
 "cells": [
  {
   "cell_type": "code",
   "execution_count": 1,
   "metadata": {},
   "outputs": [
    {
     "name": "stderr",
     "output_type": "stream",
     "text": [
      "C:\\Users\\feder\\AppData\\Local\\Packages\\PythonSoftwareFoundation.Python.3.11_qbz5n2kfra8p0\\LocalCache\\local-packages\\Python311\\site-packages\\tqdm\\auto.py:21: TqdmWarning: IProgress not found. Please update jupyter and ipywidgets. See https://ipywidgets.readthedocs.io/en/stable/user_install.html\n",
      "  from .autonotebook import tqdm as notebook_tqdm\n"
     ]
    }
   ],
   "source": [
    "import numpy as np\n",
    "import matplotlib.pyplot as pyplot\n",
    "import pandas as pd\n",
    "import scipy.sparse as sps\n",
    "%matplotlib inline\n",
    "%load_ext Cython\n",
    "\n",
    "from Data_manager.split_functions.split_train_validation_random_holdout import split_train_in_two_percentage_global_sample\n",
    "from Evaluation.Evaluator import EvaluatorHoldout\n",
    "from Recommenders.MatrixFactorization.PureSVDRecommender import PureSVDRecommender\n",
    "import optuna"
   ]
  },
  {
   "cell_type": "code",
   "execution_count": 2,
   "metadata": {},
   "outputs": [],
   "source": [
    "# data_train_path=\"/kaggle/input/recommender-system-2023-challenge-polimi/data_train.csv\"\n",
    "# data_target_user_path=\"/kaggle/input/recommender-system-2023-challenge-polimi/data_target_users_test.csv\"\n",
    "data_train_path=\"data_train.csv\"\n",
    "data_target_user_path=\"data_target_users_test.csv\"\n",
    "data_train = pd.read_csv(data_train_path)\n",
    "data_target = pd.read_csv(data_target_user_path)"
   ]
  },
  {
   "cell_type": "code",
   "execution_count": 3,
   "metadata": {},
   "outputs": [
    {
     "data": {
      "text/plain": [
       "<13024x22222 sparse matrix of type '<class 'numpy.float64'>'\n",
       "\twith 478730 stored elements in Compressed Sparse Row format>"
      ]
     },
     "execution_count": 3,
     "metadata": {},
     "output_type": "execute_result"
    }
   ],
   "source": [
    "URM_all =  data_train.pivot(index='row', columns='col', values='data').fillna(0)\n",
    "item_map = {i : item for i, item in enumerate(URM_all.columns)}\n",
    "user_map = {i : user for i, user in enumerate(data_target[\"user_id\"])}\n",
    "item_map_inv = {item : i for i, item in item_map.items()}\n",
    "user_map_inv = {user : i for i, user in user_map.items()}\n",
    "missing_index = [x for x in range(1,13025) if x not in URM_all.index.tolist()]\n",
    "add_urm = pd.DataFrame(index = missing_index, columns = URM_all.columns).fillna(0)\n",
    "URM_all = pd.concat([URM_all, add_urm]).sort_index()\n",
    "del add_urm\n",
    "del missing_index\n",
    "#data_target[\"user_id\"] = data_target[\"user_id\"]\n",
    "URM_all = URM_all.to_numpy()\n",
    "URM_all = sps.csr_matrix(URM_all)\n",
    "URM_all"
   ]
  },
  {
   "cell_type": "code",
   "execution_count": 4,
   "metadata": {},
   "outputs": [
    {
     "name": "stdout",
     "output_type": "stream",
     "text": [
      "Warning: 610 (4.68 %) of 13024 users have no train items\n",
      "Warning: 2494 (19.15 %) of 13024 users have no sampled items\n",
      "EvaluatorHoldout: Ignoring 2494 (19.1%) Users that have less than 1 test interactions\n",
      "Warning: 609 (4.68 %) of 13024 users have no train items\n",
      "Warning: 2564 (19.69 %) of 13024 users have no sampled items\n",
      "EvaluatorHoldout: Ignoring 2564 (19.7%) Users that have less than 1 test interactions\n",
      "Warning: 616 (4.73 %) of 13024 users have no train items\n",
      "Warning: 2552 (19.59 %) of 13024 users have no sampled items\n",
      "EvaluatorHoldout: Ignoring 2552 (19.6%) Users that have less than 1 test interactions\n"
     ]
    }
   ],
   "source": [
    "test_folds = 3\n",
    "\n",
    "URM_trains = [None] * test_folds\n",
    "evaluator_tests = [None] * test_folds\n",
    "for i in range(0, test_folds):\n",
    "    URM_trains[i], URM_test = split_train_in_two_percentage_global_sample(URM_all, train_percentage = 0.80)\n",
    "    evaluator_tests[i] = EvaluatorHoldout(URM_test, cutoff_list=[10])"
   ]
  },
  {
   "cell_type": "code",
   "execution_count": 9,
   "metadata": {},
   "outputs": [],
   "source": [
    "def train_evaluate(optuna_trial):\n",
    "    factors = optuna_trial.suggest_int(\"factors\", 1, 1000)\n",
    "    \n",
    "    mAP = 0.0\n",
    "    for i in range(0, test_folds):\n",
    "        SLIM_recommender = PureSVDRecommender(URM_trains[i], verbose=False)\n",
    "        SLIM_recommender.fit(num_factors=factors)\n",
    "        result_df, _ = evaluator_tests[i].evaluateRecommender(SLIM_recommender)\n",
    "        mAP += result_df[\"MAP\"].values[0]\n",
    "    mAP /= test_folds\n",
    "    return mAP"
   ]
  },
  {
   "cell_type": "code",
   "execution_count": 10,
   "metadata": {},
   "outputs": [
    {
     "name": "stderr",
     "output_type": "stream",
     "text": [
      "[I 2023-12-11 21:55:11,738] A new study created in memory with name: no-name-b8603afe-ab9d-4356-8a8f-17e6c034849e\n"
     ]
    },
    {
     "name": "stdout",
     "output_type": "stream",
     "text": [
      "EvaluatorHoldout: Processed 10530 (100.0%) in 9.50 sec. Users per second: 1108\n",
      "EvaluatorHoldout: Processed 10460 (100.0%) in 9.48 sec. Users per second: 1103\n",
      "EvaluatorHoldout: Processed 10472 (100.0%) in 9.58 sec. Users per second: 1093\n"
     ]
    },
    {
     "name": "stderr",
     "output_type": "stream",
     "text": [
      "[I 2023-12-11 21:55:59,113] Trial 0 finished with value: 0.02956656536732009 and parameters: {'factors': 235}. Best is trial 0 with value: 0.02956656536732009.\n"
     ]
    },
    {
     "name": "stdout",
     "output_type": "stream",
     "text": [
      "EvaluatorHoldout: Processed 10530 (100.0%) in 10.56 sec. Users per second: 997\n",
      "EvaluatorHoldout: Processed 10460 (100.0%) in 10.39 sec. Users per second: 1007\n",
      "EvaluatorHoldout: Processed 10472 (100.0%) in 9.96 sec. Users per second: 1051\n"
     ]
    },
    {
     "name": "stderr",
     "output_type": "stream",
     "text": [
      "[I 2023-12-11 21:56:43,625] Trial 1 finished with value: 0.03069235079246697 and parameters: {'factors': 150}. Best is trial 1 with value: 0.03069235079246697.\n"
     ]
    },
    {
     "name": "stdout",
     "output_type": "stream",
     "text": [
      "EvaluatorHoldout: Processed 10530 (100.0%) in 13.87 sec. Users per second: 759\n",
      "EvaluatorHoldout: Processed 10460 (100.0%) in 15.16 sec. Users per second: 690\n",
      "EvaluatorHoldout: Processed 10472 (100.0%) in 14.03 sec. Users per second: 746\n"
     ]
    },
    {
     "name": "stderr",
     "output_type": "stream",
     "text": [
      "[I 2023-12-11 21:59:29,404] Trial 2 finished with value: 0.027443541012505984 and parameters: {'factors': 645}. Best is trial 1 with value: 0.03069235079246697.\n"
     ]
    },
    {
     "name": "stdout",
     "output_type": "stream",
     "text": [
      "EvaluatorHoldout: Processed 10530 (100.0%) in 15.82 sec. Users per second: 665\n",
      "EvaluatorHoldout: Processed 10460 (100.0%) in 16.16 sec. Users per second: 647\n",
      "EvaluatorHoldout: Processed 10472 (100.0%) in 15.28 sec. Users per second: 685\n"
     ]
    },
    {
     "name": "stderr",
     "output_type": "stream",
     "text": [
      "[I 2023-12-11 22:02:07,980] Trial 3 finished with value: 0.02648563963101915 and parameters: {'factors': 948}. Best is trial 1 with value: 0.03069235079246697.\n"
     ]
    },
    {
     "name": "stdout",
     "output_type": "stream",
     "text": [
      "EvaluatorHoldout: Processed 10530 (100.0%) in 11.47 sec. Users per second: 918\n",
      "EvaluatorHoldout: Processed 10460 (100.0%) in 11.76 sec. Users per second: 889\n",
      "EvaluatorHoldout: Processed 10472 (100.0%) in 12.13 sec. Users per second: 863\n"
     ]
    },
    {
     "name": "stderr",
     "output_type": "stream",
     "text": [
      "[I 2023-12-11 22:03:23,434] Trial 4 finished with value: 0.028665898143992907 and parameters: {'factors': 363}. Best is trial 1 with value: 0.03069235079246697.\n"
     ]
    },
    {
     "name": "stdout",
     "output_type": "stream",
     "text": [
      "EvaluatorHoldout: Processed 10530 (100.0%) in 13.38 sec. Users per second: 787\n",
      "EvaluatorHoldout: Processed 10460 (100.0%) in 13.62 sec. Users per second: 768\n",
      "EvaluatorHoldout: Processed 10472 (100.0%) in 13.34 sec. Users per second: 785\n"
     ]
    },
    {
     "name": "stderr",
     "output_type": "stream",
     "text": [
      "[I 2023-12-11 22:05:06,557] Trial 5 finished with value: 0.027297525994229455 and parameters: {'factors': 762}. Best is trial 1 with value: 0.03069235079246697.\n"
     ]
    },
    {
     "name": "stdout",
     "output_type": "stream",
     "text": [
      "EvaluatorHoldout: Processed 10530 (100.0%) in 9.94 sec. Users per second: 1059\n",
      "EvaluatorHoldout: Processed 10460 (100.0%) in 10.07 sec. Users per second: 1039\n",
      "EvaluatorHoldout: Processed 10472 (100.0%) in 10.45 sec. Users per second: 1003\n"
     ]
    },
    {
     "name": "stderr",
     "output_type": "stream",
     "text": [
      "[I 2023-12-11 22:05:39,764] Trial 6 finished with value: 0.030253242568520352 and parameters: {'factors': 56}. Best is trial 1 with value: 0.03069235079246697.\n"
     ]
    },
    {
     "name": "stdout",
     "output_type": "stream",
     "text": [
      "EvaluatorHoldout: Processed 10530 (100.0%) in 12.39 sec. Users per second: 850\n",
      "EvaluatorHoldout: Processed 10460 (100.0%) in 12.63 sec. Users per second: 828\n",
      "EvaluatorHoldout: Processed 10472 (100.0%) in 12.78 sec. Users per second: 819\n"
     ]
    },
    {
     "name": "stderr",
     "output_type": "stream",
     "text": [
      "[I 2023-12-11 22:07:16,935] Trial 7 finished with value: 0.02845893447192471 and parameters: {'factors': 401}. Best is trial 1 with value: 0.03069235079246697.\n"
     ]
    },
    {
     "name": "stdout",
     "output_type": "stream",
     "text": [
      "EvaluatorHoldout: Processed 10530 (100.0%) in 15.70 sec. Users per second: 671\n",
      "EvaluatorHoldout: Processed 10460 (100.0%) in 16.15 sec. Users per second: 648\n",
      "EvaluatorHoldout: Processed 10472 (100.0%) in 17.23 sec. Users per second: 608\n"
     ]
    },
    {
     "name": "stderr",
     "output_type": "stream",
     "text": [
      "[I 2023-12-11 22:08:26,615] Trial 8 finished with value: 0.030897424947406372 and parameters: {'factors': 118}. Best is trial 8 with value: 0.030897424947406372.\n"
     ]
    },
    {
     "name": "stdout",
     "output_type": "stream",
     "text": [
      "EvaluatorHoldout: Processed 10530 (100.0%) in 16.67 sec. Users per second: 632\n",
      "EvaluatorHoldout: Processed 10460 (100.0%) in 16.34 sec. Users per second: 640\n",
      "EvaluatorHoldout: Processed 10472 (100.0%) in 16.85 sec. Users per second: 621\n"
     ]
    },
    {
     "name": "stderr",
     "output_type": "stream",
     "text": [
      "[I 2023-12-11 22:09:18,567] Trial 9 finished with value: 0.025759893925419608 and parameters: {'factors': 18}. Best is trial 8 with value: 0.030897424947406372.\n"
     ]
    },
    {
     "name": "stdout",
     "output_type": "stream",
     "text": [
      "EvaluatorHoldout: Processed 10530 (100.0%) in 21.85 sec. Users per second: 482\n",
      "EvaluatorHoldout: Processed 10460 (100.0%) in 18.82 sec. Users per second: 556\n",
      "EvaluatorHoldout: Processed 10472 (100.0%) in 12.12 sec. Users per second: 864\n"
     ]
    },
    {
     "name": "stderr",
     "output_type": "stream",
     "text": [
      "[I 2023-12-11 22:11:36,131] Trial 10 finished with value: 0.027987965406327652 and parameters: {'factors': 560}. Best is trial 8 with value: 0.030897424947406372.\n"
     ]
    },
    {
     "name": "stdout",
     "output_type": "stream",
     "text": [
      "EvaluatorHoldout: Processed 10530 (100.0%) in 10.42 sec. Users per second: 1010\n",
      "EvaluatorHoldout: Processed 10460 (100.0%) in 10.53 sec. Users per second: 993\n",
      "EvaluatorHoldout: Processed 10472 (100.0%) in 10.62 sec. Users per second: 986\n"
     ]
    },
    {
     "name": "stderr",
     "output_type": "stream",
     "text": [
      "[I 2023-12-11 22:12:24,047] Trial 11 finished with value: 0.030118618838149733 and parameters: {'factors': 184}. Best is trial 8 with value: 0.030897424947406372.\n"
     ]
    },
    {
     "name": "stdout",
     "output_type": "stream",
     "text": [
      "EvaluatorHoldout: Processed 10530 (100.0%) in 10.41 sec. Users per second: 1011\n",
      "EvaluatorHoldout: Processed 10460 (100.0%) in 10.44 sec. Users per second: 1002\n",
      "EvaluatorHoldout: Processed 10472 (100.0%) in 10.57 sec. Users per second: 991\n"
     ]
    },
    {
     "name": "stderr",
     "output_type": "stream",
     "text": [
      "[I 2023-12-11 22:13:13,890] Trial 12 finished with value: 0.029983785824484677 and parameters: {'factors': 203}. Best is trial 8 with value: 0.030897424947406372.\n"
     ]
    },
    {
     "name": "stdout",
     "output_type": "stream",
     "text": [
      "EvaluatorHoldout: Processed 10530 (100.0%) in 11.13 sec. Users per second: 946\n",
      "EvaluatorHoldout: Processed 10460 (100.0%) in 11.22 sec. Users per second: 932\n",
      "EvaluatorHoldout: Processed 10472 (100.0%) in 11.26 sec. Users per second: 930\n"
     ]
    },
    {
     "name": "stderr",
     "output_type": "stream",
     "text": [
      "[I 2023-12-11 22:14:17,162] Trial 13 finished with value: 0.0286905070791898 and parameters: {'factors': 352}. Best is trial 8 with value: 0.030897424947406372.\n"
     ]
    },
    {
     "name": "stdout",
     "output_type": "stream",
     "text": [
      "EvaluatorHoldout: Processed 10530 (100.0%) in 10.17 sec. Users per second: 1036\n",
      "EvaluatorHoldout: Processed 10460 (100.0%) in 10.35 sec. Users per second: 1011\n",
      "EvaluatorHoldout: Processed 10472 (100.0%) in 10.46 sec. Users per second: 1001\n"
     ]
    },
    {
     "name": "stderr",
     "output_type": "stream",
     "text": [
      "[I 2023-12-11 22:15:01,068] Trial 14 finished with value: 0.030641533271362566 and parameters: {'factors': 143}. Best is trial 8 with value: 0.030897424947406372.\n"
     ]
    },
    {
     "name": "stdout",
     "output_type": "stream",
     "text": [
      "EvaluatorHoldout: Processed 10530 (100.0%) in 9.50 sec. Users per second: 1108\n",
      "EvaluatorHoldout: Processed 10460 (100.0%) in 9.21 sec. Users per second: 1136\n",
      "EvaluatorHoldout: Processed 10472 (100.0%) in 9.31 sec. Users per second: 1125\n"
     ]
    },
    {
     "name": "stderr",
     "output_type": "stream",
     "text": [
      "[I 2023-12-11 22:15:29,525] Trial 15 finished with value: 0.021346381418768944 and parameters: {'factors': 6}. Best is trial 8 with value: 0.030897424947406372.\n"
     ]
    },
    {
     "name": "stdout",
     "output_type": "stream",
     "text": [
      "EvaluatorHoldout: Processed 10530 (100.0%) in 10.79 sec. Users per second: 976\n",
      "EvaluatorHoldout: Processed 10460 (100.0%) in 11.05 sec. Users per second: 947\n",
      "EvaluatorHoldout: Processed 10472 (100.0%) in 11.40 sec. Users per second: 919\n"
     ]
    },
    {
     "name": "stderr",
     "output_type": "stream",
     "text": [
      "[I 2023-12-11 22:16:28,005] Trial 16 finished with value: 0.028964126845343552 and parameters: {'factors': 281}. Best is trial 8 with value: 0.030897424947406372.\n"
     ]
    },
    {
     "name": "stdout",
     "output_type": "stream",
     "text": [
      "EvaluatorHoldout: Processed 10530 (100.0%) in 12.23 sec. Users per second: 861\n",
      "EvaluatorHoldout: Processed 10460 (100.0%) in 12.40 sec. Users per second: 844\n",
      "EvaluatorHoldout: Processed 10472 (100.0%) in 12.59 sec. Users per second: 832\n"
     ]
    },
    {
     "name": "stderr",
     "output_type": "stream",
     "text": [
      "[I 2023-12-11 22:17:54,507] Trial 17 finished with value: 0.028363730935174414 and parameters: {'factors': 469}. Best is trial 8 with value: 0.030897424947406372.\n"
     ]
    },
    {
     "name": "stdout",
     "output_type": "stream",
     "text": [
      "EvaluatorHoldout: Processed 10530 (100.0%) in 11.29 sec. Users per second: 933\n",
      "EvaluatorHoldout: Processed 10460 (100.0%) in 11.82 sec. Users per second: 885\n",
      "EvaluatorHoldout: Processed 10472 (100.0%) in 10.62 sec. Users per second: 986\n"
     ]
    },
    {
     "name": "stderr",
     "output_type": "stream",
     "text": [
      "[I 2023-12-11 22:18:42,126] Trial 18 finished with value: 0.03092019486806366 and parameters: {'factors': 112}. Best is trial 18 with value: 0.03092019486806366.\n"
     ]
    },
    {
     "name": "stdout",
     "output_type": "stream",
     "text": [
      "EvaluatorHoldout: Processed 10530 (100.0%) in 10.78 sec. Users per second: 976\n",
      "EvaluatorHoldout: Processed 10460 (100.0%) in 10.24 sec. Users per second: 1022\n",
      "EvaluatorHoldout: Processed 10472 (100.0%) in 10.12 sec. Users per second: 1035\n"
     ]
    },
    {
     "name": "stderr",
     "output_type": "stream",
     "text": [
      "[I 2023-12-11 22:19:24,333] Trial 19 finished with value: 0.03097119496956199 and parameters: {'factors': 107}. Best is trial 19 with value: 0.03097119496956199.\n"
     ]
    },
    {
     "name": "stdout",
     "output_type": "stream",
     "text": [
      "EvaluatorHoldout: Processed 10530 (100.0%) in 11.14 sec. Users per second: 945\n",
      "EvaluatorHoldout: Processed 10460 (100.0%) in 11.39 sec. Users per second: 919\n",
      "EvaluatorHoldout: Processed 10472 (100.0%) in 11.35 sec. Users per second: 922\n"
     ]
    },
    {
     "name": "stderr",
     "output_type": "stream",
     "text": [
      "[I 2023-12-11 22:20:30,455] Trial 20 finished with value: 0.02888404011183035 and parameters: {'factors': 293}. Best is trial 19 with value: 0.03097119496956199.\n"
     ]
    },
    {
     "name": "stdout",
     "output_type": "stream",
     "text": [
      "EvaluatorHoldout: Processed 10530 (100.0%) in 10.11 sec. Users per second: 1042\n",
      "EvaluatorHoldout: Processed 10460 (100.0%) in 10.95 sec. Users per second: 955\n",
      "EvaluatorHoldout: Processed 10472 (100.0%) in 10.83 sec. Users per second: 967\n"
     ]
    },
    {
     "name": "stderr",
     "output_type": "stream",
     "text": [
      "[I 2023-12-11 22:21:10,942] Trial 21 finished with value: 0.030692888001137373 and parameters: {'factors': 95}. Best is trial 19 with value: 0.03097119496956199.\n"
     ]
    },
    {
     "name": "stdout",
     "output_type": "stream",
     "text": [
      "EvaluatorHoldout: Processed 10530 (100.0%) in 10.43 sec. Users per second: 1009\n",
      "EvaluatorHoldout: Processed 10460 (100.0%) in 10.38 sec. Users per second: 1008\n",
      "EvaluatorHoldout: Processed 10472 (100.0%) in 10.28 sec. Users per second: 1019\n"
     ]
    },
    {
     "name": "stderr",
     "output_type": "stream",
     "text": [
      "[I 2023-12-11 22:21:48,029] Trial 22 finished with value: 0.030619109167577097 and parameters: {'factors': 81}. Best is trial 19 with value: 0.03097119496956199.\n"
     ]
    },
    {
     "name": "stdout",
     "output_type": "stream",
     "text": [
      "EvaluatorHoldout: Processed 10530 (100.0%) in 10.89 sec. Users per second: 967\n",
      "EvaluatorHoldout: Processed 10460 (100.0%) in 11.04 sec. Users per second: 947\n",
      "EvaluatorHoldout: Processed 10472 (100.0%) in 13.30 sec. Users per second: 787\n"
     ]
    },
    {
     "name": "stderr",
     "output_type": "stream",
     "text": [
      "[I 2023-12-11 22:23:03,899] Trial 23 finished with value: 0.02947742299930763 and parameters: {'factors': 249}. Best is trial 19 with value: 0.03097119496956199.\n"
     ]
    },
    {
     "name": "stdout",
     "output_type": "stream",
     "text": [
      "EvaluatorHoldout: Processed 10530 (100.0%) in 12.48 sec. Users per second: 844\n",
      "EvaluatorHoldout: Processed 10460 (100.0%) in 12.16 sec. Users per second: 860\n",
      "EvaluatorHoldout: Processed 10472 (100.0%) in 12.57 sec. Users per second: 833\n"
     ]
    },
    {
     "name": "stderr",
     "output_type": "stream",
     "text": [
      "[I 2023-12-11 22:24:03,701] Trial 24 finished with value: 0.03083589721005395 and parameters: {'factors': 137}. Best is trial 19 with value: 0.03097119496956199.\n"
     ]
    },
    {
     "name": "stdout",
     "output_type": "stream",
     "text": [
      "EvaluatorHoldout: Processed 10530 (100.0%) in 13.72 sec. Users per second: 767\n",
      "EvaluatorHoldout: Processed 10460 (100.0%) in 16.41 sec. Users per second: 637\n",
      "EvaluatorHoldout: Processed 10472 (100.0%) in 15.38 sec. Users per second: 681\n"
     ]
    },
    {
     "name": "stderr",
     "output_type": "stream",
     "text": [
      "[I 2023-12-11 22:26:01,874] Trial 25 finished with value: 0.028387569549059716 and parameters: {'factors': 439}. Best is trial 19 with value: 0.03097119496956199.\n"
     ]
    },
    {
     "name": "stdout",
     "output_type": "stream",
     "text": [
      "EvaluatorHoldout: Processed 10530 (100.0%) in 12.86 sec. Users per second: 819\n",
      "EvaluatorHoldout: Processed 10460 (100.0%) in 12.82 sec. Users per second: 816\n",
      "EvaluatorHoldout: Processed 10472 (100.0%) in 13.07 sec. Users per second: 801\n"
     ]
    },
    {
     "name": "stderr",
     "output_type": "stream",
     "text": [
      "[I 2023-12-11 22:28:00,744] Trial 26 finished with value: 0.027906250922092646 and parameters: {'factors': 576}. Best is trial 19 with value: 0.03097119496956199.\n"
     ]
    },
    {
     "name": "stdout",
     "output_type": "stream",
     "text": [
      "EvaluatorHoldout: Processed 10530 (100.0%) in 11.84 sec. Users per second: 889\n",
      "EvaluatorHoldout: Processed 10460 (100.0%) in 11.66 sec. Users per second: 897\n",
      "EvaluatorHoldout: Processed 10472 (100.0%) in 11.38 sec. Users per second: 920\n"
     ]
    },
    {
     "name": "stderr",
     "output_type": "stream",
     "text": [
      "[I 2023-12-11 22:29:13,837] Trial 27 finished with value: 0.028772308367093467 and parameters: {'factors': 312}. Best is trial 19 with value: 0.03097119496956199.\n"
     ]
    },
    {
     "name": "stdout",
     "output_type": "stream",
     "text": [
      "EvaluatorHoldout: Processed 10530 (100.0%) in 14.93 sec. Users per second: 705\n",
      "EvaluatorHoldout: Processed 10460 (100.0%) in 14.43 sec. Users per second: 725\n",
      "EvaluatorHoldout: Processed 10472 (100.0%) in 14.59 sec. Users per second: 718\n"
     ]
    },
    {
     "name": "stderr",
     "output_type": "stream",
     "text": [
      "[I 2023-12-11 22:31:25,078] Trial 28 finished with value: 0.02701763087269662 and parameters: {'factors': 788}. Best is trial 19 with value: 0.03097119496956199.\n"
     ]
    },
    {
     "name": "stdout",
     "output_type": "stream",
     "text": [
      "EvaluatorHoldout: Processed 10530 (100.0%) in 11.13 sec. Users per second: 946\n",
      "EvaluatorHoldout: Processed 10460 (100.0%) in 11.28 sec. Users per second: 928\n",
      "EvaluatorHoldout: Processed 10472 (100.0%) in 11.04 sec. Users per second: 949\n"
     ]
    },
    {
     "name": "stderr",
     "output_type": "stream",
     "text": [
      "[I 2023-12-11 22:32:28,931] Trial 29 finished with value: 0.029730205310431912 and parameters: {'factors': 225}. Best is trial 19 with value: 0.03097119496956199.\n"
     ]
    },
    {
     "name": "stdout",
     "output_type": "stream",
     "text": [
      "EvaluatorHoldout: Processed 10530 (100.0%) in 10.51 sec. Users per second: 1002\n"
     ]
    },
    {
     "name": "stderr",
     "output_type": "stream",
     "text": [
      "[W 2023-12-11 22:32:49,487] Trial 30 failed with parameters: {'factors': 94} because of the following error: KeyboardInterrupt().\n",
      "Traceback (most recent call last):\n",
      "  File \"C:\\Users\\feder\\AppData\\Local\\Packages\\PythonSoftwareFoundation.Python.3.11_qbz5n2kfra8p0\\LocalCache\\local-packages\\Python311\\site-packages\\optuna\\study\\_optimize.py\", line 200, in _run_trial\n",
      "    value_or_values = func(trial)\n",
      "                      ^^^^^^^^^^^\n",
      "  File \"C:\\Users\\feder\\AppData\\Local\\Temp\\ipykernel_14484\\358869383.py\", line 8, in train_evaluate\n",
      "    result_df, _ = evaluator_tests[i].evaluateRecommender(SLIM_recommender)\n",
      "                   ^^^^^^^^^^^^^^^^^^^^^^^^^^^^^^^^^^^^^^^^^^^^^^^^^^^^^^^^\n",
      "  File \"c:\\Users\\feder\\Documents\\DEV\\my_RecSyS_Course_AT_PoliMi\\Evaluation\\Evaluator.py\", line 276, in evaluateRecommender\n",
      "    results_dict = self._run_evaluation_on_selected_users(recommender_object, self.users_to_evaluate)\n",
      "                   ^^^^^^^^^^^^^^^^^^^^^^^^^^^^^^^^^^^^^^^^^^^^^^^^^^^^^^^^^^^^^^^^^^^^^^^^^^^^^^^^^^\n",
      "  File \"c:\\Users\\feder\\Documents\\DEV\\my_RecSyS_Course_AT_PoliMi\\Evaluation\\Evaluator.py\", line 476, in _run_evaluation_on_selected_users\n",
      "    recommended_items_batch_list, scores_batch = recommender_object.recommend(test_user_batch_array,\n",
      "                                                 ^^^^^^^^^^^^^^^^^^^^^^^^^^^^^^^^^^^^^^^^^^^^^^^^^^^\n",
      "  File \"c:\\Users\\feder\\Documents\\DEV\\my_RecSyS_Course_AT_PoliMi\\Recommenders\\BaseRecommender.py\", line 169, in recommend\n",
      "    relevant_items_partition = np.argpartition(-scores_batch, cutoff-1, axis=1)[:,0:cutoff]\n",
      "                               ^^^^^^^^^^^^^^^^^^^^^^^^^^^^^^^^^^^^^^^^^^^^^^^^\n",
      "  File \"C:\\Users\\feder\\AppData\\Local\\Packages\\PythonSoftwareFoundation.Python.3.11_qbz5n2kfra8p0\\LocalCache\\local-packages\\Python311\\site-packages\\numpy\\core\\fromnumeric.py\", line 858, in argpartition\n",
      "    return _wrapfunc(a, 'argpartition', kth, axis=axis, kind=kind, order=order)\n",
      "           ^^^^^^^^^^^^^^^^^^^^^^^^^^^^^^^^^^^^^^^^^^^^^^^^^^^^^^^^^^^^^^^^^^^^\n",
      "  File \"C:\\Users\\feder\\AppData\\Local\\Packages\\PythonSoftwareFoundation.Python.3.11_qbz5n2kfra8p0\\LocalCache\\local-packages\\Python311\\site-packages\\numpy\\core\\fromnumeric.py\", line 59, in _wrapfunc\n",
      "    return bound(*args, **kwds)\n",
      "           ^^^^^^^^^^^^^^^^^^^^\n",
      "KeyboardInterrupt\n",
      "[W 2023-12-11 22:32:49,496] Trial 30 failed with value None.\n"
     ]
    },
    {
     "ename": "KeyboardInterrupt",
     "evalue": "",
     "output_type": "error",
     "traceback": [
      "\u001b[1;31m---------------------------------------------------------------------------\u001b[0m",
      "\u001b[1;31mKeyboardInterrupt\u001b[0m                         Traceback (most recent call last)",
      "Cell \u001b[1;32mIn[10], line 2\u001b[0m\n\u001b[0;32m      1\u001b[0m study \u001b[38;5;241m=\u001b[39m optuna\u001b[38;5;241m.\u001b[39mcreate_study(direction\u001b[38;5;241m=\u001b[39m\u001b[38;5;124m\"\u001b[39m\u001b[38;5;124mmaximize\u001b[39m\u001b[38;5;124m\"\u001b[39m)\n\u001b[1;32m----> 2\u001b[0m \u001b[43mstudy\u001b[49m\u001b[38;5;241;43m.\u001b[39;49m\u001b[43moptimize\u001b[49m\u001b[43m(\u001b[49m\u001b[43mtrain_evaluate\u001b[49m\u001b[43m,\u001b[49m\u001b[43m \u001b[49m\u001b[43mn_trials\u001b[49m\u001b[38;5;241;43m=\u001b[39;49m\u001b[38;5;241;43m500\u001b[39;49m\u001b[43m)\u001b[49m\n",
      "File \u001b[1;32m~\\AppData\\Local\\Packages\\PythonSoftwareFoundation.Python.3.11_qbz5n2kfra8p0\\LocalCache\\local-packages\\Python311\\site-packages\\optuna\\study\\study.py:451\u001b[0m, in \u001b[0;36mStudy.optimize\u001b[1;34m(self, func, n_trials, timeout, n_jobs, catch, callbacks, gc_after_trial, show_progress_bar)\u001b[0m\n\u001b[0;32m    348\u001b[0m \u001b[38;5;28;01mdef\u001b[39;00m \u001b[38;5;21moptimize\u001b[39m(\n\u001b[0;32m    349\u001b[0m     \u001b[38;5;28mself\u001b[39m,\n\u001b[0;32m    350\u001b[0m     func: ObjectiveFuncType,\n\u001b[1;32m   (...)\u001b[0m\n\u001b[0;32m    357\u001b[0m     show_progress_bar: \u001b[38;5;28mbool\u001b[39m \u001b[38;5;241m=\u001b[39m \u001b[38;5;28;01mFalse\u001b[39;00m,\n\u001b[0;32m    358\u001b[0m ) \u001b[38;5;241m-\u001b[39m\u001b[38;5;241m>\u001b[39m \u001b[38;5;28;01mNone\u001b[39;00m:\n\u001b[0;32m    359\u001b[0m \u001b[38;5;250m    \u001b[39m\u001b[38;5;124;03m\"\"\"Optimize an objective function.\u001b[39;00m\n\u001b[0;32m    360\u001b[0m \n\u001b[0;32m    361\u001b[0m \u001b[38;5;124;03m    Optimization is done by choosing a suitable set of hyperparameter values from a given\u001b[39;00m\n\u001b[1;32m   (...)\u001b[0m\n\u001b[0;32m    449\u001b[0m \u001b[38;5;124;03m            If nested invocation of this method occurs.\u001b[39;00m\n\u001b[0;32m    450\u001b[0m \u001b[38;5;124;03m    \"\"\"\u001b[39;00m\n\u001b[1;32m--> 451\u001b[0m     \u001b[43m_optimize\u001b[49m\u001b[43m(\u001b[49m\n\u001b[0;32m    452\u001b[0m \u001b[43m        \u001b[49m\u001b[43mstudy\u001b[49m\u001b[38;5;241;43m=\u001b[39;49m\u001b[38;5;28;43mself\u001b[39;49m\u001b[43m,\u001b[49m\n\u001b[0;32m    453\u001b[0m \u001b[43m        \u001b[49m\u001b[43mfunc\u001b[49m\u001b[38;5;241;43m=\u001b[39;49m\u001b[43mfunc\u001b[49m\u001b[43m,\u001b[49m\n\u001b[0;32m    454\u001b[0m \u001b[43m        \u001b[49m\u001b[43mn_trials\u001b[49m\u001b[38;5;241;43m=\u001b[39;49m\u001b[43mn_trials\u001b[49m\u001b[43m,\u001b[49m\n\u001b[0;32m    455\u001b[0m \u001b[43m        \u001b[49m\u001b[43mtimeout\u001b[49m\u001b[38;5;241;43m=\u001b[39;49m\u001b[43mtimeout\u001b[49m\u001b[43m,\u001b[49m\n\u001b[0;32m    456\u001b[0m \u001b[43m        \u001b[49m\u001b[43mn_jobs\u001b[49m\u001b[38;5;241;43m=\u001b[39;49m\u001b[43mn_jobs\u001b[49m\u001b[43m,\u001b[49m\n\u001b[0;32m    457\u001b[0m \u001b[43m        \u001b[49m\u001b[43mcatch\u001b[49m\u001b[38;5;241;43m=\u001b[39;49m\u001b[38;5;28;43mtuple\u001b[39;49m\u001b[43m(\u001b[49m\u001b[43mcatch\u001b[49m\u001b[43m)\u001b[49m\u001b[43m \u001b[49m\u001b[38;5;28;43;01mif\u001b[39;49;00m\u001b[43m \u001b[49m\u001b[38;5;28;43misinstance\u001b[39;49m\u001b[43m(\u001b[49m\u001b[43mcatch\u001b[49m\u001b[43m,\u001b[49m\u001b[43m \u001b[49m\u001b[43mIterable\u001b[49m\u001b[43m)\u001b[49m\u001b[43m \u001b[49m\u001b[38;5;28;43;01melse\u001b[39;49;00m\u001b[43m \u001b[49m\u001b[43m(\u001b[49m\u001b[43mcatch\u001b[49m\u001b[43m,\u001b[49m\u001b[43m)\u001b[49m\u001b[43m,\u001b[49m\n\u001b[0;32m    458\u001b[0m \u001b[43m        \u001b[49m\u001b[43mcallbacks\u001b[49m\u001b[38;5;241;43m=\u001b[39;49m\u001b[43mcallbacks\u001b[49m\u001b[43m,\u001b[49m\n\u001b[0;32m    459\u001b[0m \u001b[43m        \u001b[49m\u001b[43mgc_after_trial\u001b[49m\u001b[38;5;241;43m=\u001b[39;49m\u001b[43mgc_after_trial\u001b[49m\u001b[43m,\u001b[49m\n\u001b[0;32m    460\u001b[0m \u001b[43m        \u001b[49m\u001b[43mshow_progress_bar\u001b[49m\u001b[38;5;241;43m=\u001b[39;49m\u001b[43mshow_progress_bar\u001b[49m\u001b[43m,\u001b[49m\n\u001b[0;32m    461\u001b[0m \u001b[43m    \u001b[49m\u001b[43m)\u001b[49m\n",
      "File \u001b[1;32m~\\AppData\\Local\\Packages\\PythonSoftwareFoundation.Python.3.11_qbz5n2kfra8p0\\LocalCache\\local-packages\\Python311\\site-packages\\optuna\\study\\_optimize.py:66\u001b[0m, in \u001b[0;36m_optimize\u001b[1;34m(study, func, n_trials, timeout, n_jobs, catch, callbacks, gc_after_trial, show_progress_bar)\u001b[0m\n\u001b[0;32m     64\u001b[0m \u001b[38;5;28;01mtry\u001b[39;00m:\n\u001b[0;32m     65\u001b[0m     \u001b[38;5;28;01mif\u001b[39;00m n_jobs \u001b[38;5;241m==\u001b[39m \u001b[38;5;241m1\u001b[39m:\n\u001b[1;32m---> 66\u001b[0m         \u001b[43m_optimize_sequential\u001b[49m\u001b[43m(\u001b[49m\n\u001b[0;32m     67\u001b[0m \u001b[43m            \u001b[49m\u001b[43mstudy\u001b[49m\u001b[43m,\u001b[49m\n\u001b[0;32m     68\u001b[0m \u001b[43m            \u001b[49m\u001b[43mfunc\u001b[49m\u001b[43m,\u001b[49m\n\u001b[0;32m     69\u001b[0m \u001b[43m            \u001b[49m\u001b[43mn_trials\u001b[49m\u001b[43m,\u001b[49m\n\u001b[0;32m     70\u001b[0m \u001b[43m            \u001b[49m\u001b[43mtimeout\u001b[49m\u001b[43m,\u001b[49m\n\u001b[0;32m     71\u001b[0m \u001b[43m            \u001b[49m\u001b[43mcatch\u001b[49m\u001b[43m,\u001b[49m\n\u001b[0;32m     72\u001b[0m \u001b[43m            \u001b[49m\u001b[43mcallbacks\u001b[49m\u001b[43m,\u001b[49m\n\u001b[0;32m     73\u001b[0m \u001b[43m            \u001b[49m\u001b[43mgc_after_trial\u001b[49m\u001b[43m,\u001b[49m\n\u001b[0;32m     74\u001b[0m \u001b[43m            \u001b[49m\u001b[43mreseed_sampler_rng\u001b[49m\u001b[38;5;241;43m=\u001b[39;49m\u001b[38;5;28;43;01mFalse\u001b[39;49;00m\u001b[43m,\u001b[49m\n\u001b[0;32m     75\u001b[0m \u001b[43m            \u001b[49m\u001b[43mtime_start\u001b[49m\u001b[38;5;241;43m=\u001b[39;49m\u001b[38;5;28;43;01mNone\u001b[39;49;00m\u001b[43m,\u001b[49m\n\u001b[0;32m     76\u001b[0m \u001b[43m            \u001b[49m\u001b[43mprogress_bar\u001b[49m\u001b[38;5;241;43m=\u001b[39;49m\u001b[43mprogress_bar\u001b[49m\u001b[43m,\u001b[49m\n\u001b[0;32m     77\u001b[0m \u001b[43m        \u001b[49m\u001b[43m)\u001b[49m\n\u001b[0;32m     78\u001b[0m     \u001b[38;5;28;01melse\u001b[39;00m:\n\u001b[0;32m     79\u001b[0m         \u001b[38;5;28;01mif\u001b[39;00m n_jobs \u001b[38;5;241m==\u001b[39m \u001b[38;5;241m-\u001b[39m\u001b[38;5;241m1\u001b[39m:\n",
      "File \u001b[1;32m~\\AppData\\Local\\Packages\\PythonSoftwareFoundation.Python.3.11_qbz5n2kfra8p0\\LocalCache\\local-packages\\Python311\\site-packages\\optuna\\study\\_optimize.py:163\u001b[0m, in \u001b[0;36m_optimize_sequential\u001b[1;34m(study, func, n_trials, timeout, catch, callbacks, gc_after_trial, reseed_sampler_rng, time_start, progress_bar)\u001b[0m\n\u001b[0;32m    160\u001b[0m         \u001b[38;5;28;01mbreak\u001b[39;00m\n\u001b[0;32m    162\u001b[0m \u001b[38;5;28;01mtry\u001b[39;00m:\n\u001b[1;32m--> 163\u001b[0m     frozen_trial \u001b[38;5;241m=\u001b[39m \u001b[43m_run_trial\u001b[49m\u001b[43m(\u001b[49m\u001b[43mstudy\u001b[49m\u001b[43m,\u001b[49m\u001b[43m \u001b[49m\u001b[43mfunc\u001b[49m\u001b[43m,\u001b[49m\u001b[43m \u001b[49m\u001b[43mcatch\u001b[49m\u001b[43m)\u001b[49m\n\u001b[0;32m    164\u001b[0m \u001b[38;5;28;01mfinally\u001b[39;00m:\n\u001b[0;32m    165\u001b[0m     \u001b[38;5;66;03m# The following line mitigates memory problems that can be occurred in some\u001b[39;00m\n\u001b[0;32m    166\u001b[0m     \u001b[38;5;66;03m# environments (e.g., services that use computing containers such as GitHub Actions).\u001b[39;00m\n\u001b[0;32m    167\u001b[0m     \u001b[38;5;66;03m# Please refer to the following PR for further details:\u001b[39;00m\n\u001b[0;32m    168\u001b[0m     \u001b[38;5;66;03m# https://github.com/optuna/optuna/pull/325.\u001b[39;00m\n\u001b[0;32m    169\u001b[0m     \u001b[38;5;28;01mif\u001b[39;00m gc_after_trial:\n",
      "File \u001b[1;32m~\\AppData\\Local\\Packages\\PythonSoftwareFoundation.Python.3.11_qbz5n2kfra8p0\\LocalCache\\local-packages\\Python311\\site-packages\\optuna\\study\\_optimize.py:251\u001b[0m, in \u001b[0;36m_run_trial\u001b[1;34m(study, func, catch)\u001b[0m\n\u001b[0;32m    244\u001b[0m         \u001b[38;5;28;01massert\u001b[39;00m \u001b[38;5;28;01mFalse\u001b[39;00m, \u001b[38;5;124m\"\u001b[39m\u001b[38;5;124mShould not reach.\u001b[39m\u001b[38;5;124m\"\u001b[39m\n\u001b[0;32m    246\u001b[0m \u001b[38;5;28;01mif\u001b[39;00m (\n\u001b[0;32m    247\u001b[0m     frozen_trial\u001b[38;5;241m.\u001b[39mstate \u001b[38;5;241m==\u001b[39m TrialState\u001b[38;5;241m.\u001b[39mFAIL\n\u001b[0;32m    248\u001b[0m     \u001b[38;5;129;01mand\u001b[39;00m func_err \u001b[38;5;129;01mis\u001b[39;00m \u001b[38;5;129;01mnot\u001b[39;00m \u001b[38;5;28;01mNone\u001b[39;00m\n\u001b[0;32m    249\u001b[0m     \u001b[38;5;129;01mand\u001b[39;00m \u001b[38;5;129;01mnot\u001b[39;00m \u001b[38;5;28misinstance\u001b[39m(func_err, catch)\n\u001b[0;32m    250\u001b[0m ):\n\u001b[1;32m--> 251\u001b[0m     \u001b[38;5;28;01mraise\u001b[39;00m func_err\n\u001b[0;32m    252\u001b[0m \u001b[38;5;28;01mreturn\u001b[39;00m frozen_trial\n",
      "File \u001b[1;32m~\\AppData\\Local\\Packages\\PythonSoftwareFoundation.Python.3.11_qbz5n2kfra8p0\\LocalCache\\local-packages\\Python311\\site-packages\\optuna\\study\\_optimize.py:200\u001b[0m, in \u001b[0;36m_run_trial\u001b[1;34m(study, func, catch)\u001b[0m\n\u001b[0;32m    198\u001b[0m \u001b[38;5;28;01mwith\u001b[39;00m get_heartbeat_thread(trial\u001b[38;5;241m.\u001b[39m_trial_id, study\u001b[38;5;241m.\u001b[39m_storage):\n\u001b[0;32m    199\u001b[0m     \u001b[38;5;28;01mtry\u001b[39;00m:\n\u001b[1;32m--> 200\u001b[0m         value_or_values \u001b[38;5;241m=\u001b[39m \u001b[43mfunc\u001b[49m\u001b[43m(\u001b[49m\u001b[43mtrial\u001b[49m\u001b[43m)\u001b[49m\n\u001b[0;32m    201\u001b[0m     \u001b[38;5;28;01mexcept\u001b[39;00m exceptions\u001b[38;5;241m.\u001b[39mTrialPruned \u001b[38;5;28;01mas\u001b[39;00m e:\n\u001b[0;32m    202\u001b[0m         \u001b[38;5;66;03m# TODO(mamu): Handle multi-objective cases.\u001b[39;00m\n\u001b[0;32m    203\u001b[0m         state \u001b[38;5;241m=\u001b[39m TrialState\u001b[38;5;241m.\u001b[39mPRUNED\n",
      "Cell \u001b[1;32mIn[9], line 8\u001b[0m, in \u001b[0;36mtrain_evaluate\u001b[1;34m(optuna_trial)\u001b[0m\n\u001b[0;32m      6\u001b[0m     SLIM_recommender \u001b[38;5;241m=\u001b[39m PureSVDRecommender(URM_trains[i], verbose\u001b[38;5;241m=\u001b[39m\u001b[38;5;28;01mFalse\u001b[39;00m)\n\u001b[0;32m      7\u001b[0m     SLIM_recommender\u001b[38;5;241m.\u001b[39mfit(num_factors\u001b[38;5;241m=\u001b[39mfactors)\n\u001b[1;32m----> 8\u001b[0m     result_df, _ \u001b[38;5;241m=\u001b[39m \u001b[43mevaluator_tests\u001b[49m\u001b[43m[\u001b[49m\u001b[43mi\u001b[49m\u001b[43m]\u001b[49m\u001b[38;5;241;43m.\u001b[39;49m\u001b[43mevaluateRecommender\u001b[49m\u001b[43m(\u001b[49m\u001b[43mSLIM_recommender\u001b[49m\u001b[43m)\u001b[49m\n\u001b[0;32m      9\u001b[0m     mAP \u001b[38;5;241m+\u001b[39m\u001b[38;5;241m=\u001b[39m result_df[\u001b[38;5;124m\"\u001b[39m\u001b[38;5;124mMAP\u001b[39m\u001b[38;5;124m\"\u001b[39m]\u001b[38;5;241m.\u001b[39mvalues[\u001b[38;5;241m0\u001b[39m]\n\u001b[0;32m     10\u001b[0m mAP \u001b[38;5;241m/\u001b[39m\u001b[38;5;241m=\u001b[39m test_folds\n",
      "File \u001b[1;32mc:\\Users\\feder\\Documents\\DEV\\my_RecSyS_Course_AT_PoliMi\\Evaluation\\Evaluator.py:276\u001b[0m, in \u001b[0;36mEvaluator.evaluateRecommender\u001b[1;34m(self, recommender_object)\u001b[0m\n\u001b[0;32m    273\u001b[0m \u001b[38;5;28mself\u001b[39m\u001b[38;5;241m.\u001b[39m_start_time_print \u001b[38;5;241m=\u001b[39m time\u001b[38;5;241m.\u001b[39mtime()\n\u001b[0;32m    274\u001b[0m \u001b[38;5;28mself\u001b[39m\u001b[38;5;241m.\u001b[39m_n_users_evaluated \u001b[38;5;241m=\u001b[39m \u001b[38;5;241m0\u001b[39m\n\u001b[1;32m--> 276\u001b[0m results_dict \u001b[38;5;241m=\u001b[39m \u001b[38;5;28;43mself\u001b[39;49m\u001b[38;5;241;43m.\u001b[39;49m\u001b[43m_run_evaluation_on_selected_users\u001b[49m\u001b[43m(\u001b[49m\u001b[43mrecommender_object\u001b[49m\u001b[43m,\u001b[49m\u001b[43m \u001b[49m\u001b[38;5;28;43mself\u001b[39;49m\u001b[38;5;241;43m.\u001b[39;49m\u001b[43musers_to_evaluate\u001b[49m\u001b[43m)\u001b[49m\n\u001b[0;32m    279\u001b[0m \u001b[38;5;28;01mif\u001b[39;00m \u001b[38;5;28mself\u001b[39m\u001b[38;5;241m.\u001b[39m_n_users_evaluated \u001b[38;5;241m>\u001b[39m \u001b[38;5;241m0\u001b[39m:\n\u001b[0;32m    281\u001b[0m     \u001b[38;5;28;01mfor\u001b[39;00m cutoff \u001b[38;5;129;01min\u001b[39;00m \u001b[38;5;28mself\u001b[39m\u001b[38;5;241m.\u001b[39mcutoff_list:\n",
      "File \u001b[1;32mc:\\Users\\feder\\Documents\\DEV\\my_RecSyS_Course_AT_PoliMi\\Evaluation\\Evaluator.py:476\u001b[0m, in \u001b[0;36mEvaluatorHoldout._run_evaluation_on_selected_users\u001b[1;34m(self, recommender_object, users_to_evaluate, block_size)\u001b[0m\n\u001b[0;32m    473\u001b[0m     user_batch_start \u001b[38;5;241m=\u001b[39m user_batch_end\n\u001b[0;32m    475\u001b[0m     \u001b[38;5;66;03m# Compute predictions for a batch of users using vectorization, much more efficient than computing it one at a time\u001b[39;00m\n\u001b[1;32m--> 476\u001b[0m     recommended_items_batch_list, scores_batch \u001b[38;5;241m=\u001b[39m \u001b[43mrecommender_object\u001b[49m\u001b[38;5;241;43m.\u001b[39;49m\u001b[43mrecommend\u001b[49m\u001b[43m(\u001b[49m\u001b[43mtest_user_batch_array\u001b[49m\u001b[43m,\u001b[49m\n\u001b[0;32m    477\u001b[0m \u001b[43m                                                              \u001b[49m\u001b[43mremove_seen_flag\u001b[49m\u001b[38;5;241;43m=\u001b[39;49m\u001b[38;5;28;43mself\u001b[39;49m\u001b[38;5;241;43m.\u001b[39;49m\u001b[43mexclude_seen\u001b[49m\u001b[43m,\u001b[49m\n\u001b[0;32m    478\u001b[0m \u001b[43m                                                              \u001b[49m\u001b[43mcutoff\u001b[49m\u001b[43m \u001b[49m\u001b[38;5;241;43m=\u001b[39;49m\u001b[43m \u001b[49m\u001b[38;5;28;43mself\u001b[39;49m\u001b[38;5;241;43m.\u001b[39;49m\u001b[43mmax_cutoff\u001b[49m\u001b[43m,\u001b[49m\n\u001b[0;32m    479\u001b[0m \u001b[43m                                                              \u001b[49m\u001b[43mremove_top_pop_flag\u001b[49m\u001b[38;5;241;43m=\u001b[39;49m\u001b[38;5;28;43;01mFalse\u001b[39;49;00m\u001b[43m,\u001b[49m\n\u001b[0;32m    480\u001b[0m \u001b[43m                                                              \u001b[49m\u001b[43mremove_custom_items_flag\u001b[49m\u001b[38;5;241;43m=\u001b[39;49m\u001b[38;5;28;43mself\u001b[39;49m\u001b[38;5;241;43m.\u001b[39;49m\u001b[43mignore_items_flag\u001b[49m\u001b[43m,\u001b[49m\n\u001b[0;32m    481\u001b[0m \u001b[43m                                                              \u001b[49m\u001b[43mreturn_scores\u001b[49m\u001b[43m \u001b[49m\u001b[38;5;241;43m=\u001b[39;49m\u001b[43m \u001b[49m\u001b[38;5;28;43;01mTrue\u001b[39;49;00m\n\u001b[0;32m    482\u001b[0m \u001b[43m                                                             \u001b[49m\u001b[43m)\u001b[49m\n\u001b[0;32m    484\u001b[0m     results_dict \u001b[38;5;241m=\u001b[39m \u001b[38;5;28mself\u001b[39m\u001b[38;5;241m.\u001b[39m_compute_metrics_on_recommendation_list(test_user_batch_array \u001b[38;5;241m=\u001b[39m test_user_batch_array,\n\u001b[0;32m    485\u001b[0m                                                  recommended_items_batch_list \u001b[38;5;241m=\u001b[39m recommended_items_batch_list,\n\u001b[0;32m    486\u001b[0m                                                  scores_batch \u001b[38;5;241m=\u001b[39m scores_batch,\n\u001b[0;32m    487\u001b[0m                                                  results_dict \u001b[38;5;241m=\u001b[39m results_dict)\n\u001b[0;32m    490\u001b[0m \u001b[38;5;28;01mreturn\u001b[39;00m results_dict\n",
      "File \u001b[1;32mc:\\Users\\feder\\Documents\\DEV\\my_RecSyS_Course_AT_PoliMi\\Recommenders\\BaseRecommender.py:169\u001b[0m, in \u001b[0;36mBaseRecommender.recommend\u001b[1;34m(self, user_id_array, cutoff, remove_seen_flag, items_to_compute, remove_top_pop_flag, remove_custom_items_flag, return_scores)\u001b[0m\n\u001b[0;32m    162\u001b[0m     scores_batch \u001b[38;5;241m=\u001b[39m \u001b[38;5;28mself\u001b[39m\u001b[38;5;241m.\u001b[39m_remove_custom_items_on_scores(scores_batch)\n\u001b[0;32m    164\u001b[0m \u001b[38;5;66;03m# Sorting is done in three steps. Faster then plain np.argsort for higher number of items\u001b[39;00m\n\u001b[0;32m    165\u001b[0m \u001b[38;5;66;03m# - Partition the data to extract the set of relevant items\u001b[39;00m\n\u001b[0;32m    166\u001b[0m \u001b[38;5;66;03m# - Sort only the relevant items\u001b[39;00m\n\u001b[0;32m    167\u001b[0m \u001b[38;5;66;03m# - Get the original item index\u001b[39;00m\n\u001b[0;32m    168\u001b[0m \u001b[38;5;66;03m# relevant_items_partition is block_size x cutoff\u001b[39;00m\n\u001b[1;32m--> 169\u001b[0m relevant_items_partition \u001b[38;5;241m=\u001b[39m \u001b[43mnp\u001b[49m\u001b[38;5;241;43m.\u001b[39;49m\u001b[43margpartition\u001b[49m\u001b[43m(\u001b[49m\u001b[38;5;241;43m-\u001b[39;49m\u001b[43mscores_batch\u001b[49m\u001b[43m,\u001b[49m\u001b[43m \u001b[49m\u001b[43mcutoff\u001b[49m\u001b[38;5;241;43m-\u001b[39;49m\u001b[38;5;241;43m1\u001b[39;49m\u001b[43m,\u001b[49m\u001b[43m \u001b[49m\u001b[43maxis\u001b[49m\u001b[38;5;241;43m=\u001b[39;49m\u001b[38;5;241;43m1\u001b[39;49m\u001b[43m)\u001b[49m[:,\u001b[38;5;241m0\u001b[39m:cutoff]\n\u001b[0;32m    171\u001b[0m \u001b[38;5;66;03m# Get original value and sort it\u001b[39;00m\n\u001b[0;32m    172\u001b[0m \u001b[38;5;66;03m# [:, None] adds 1 dimension to the array, from (block_size,) to (block_size,1)\u001b[39;00m\n\u001b[0;32m    173\u001b[0m \u001b[38;5;66;03m# This is done to correctly get scores_batch value as [row, relevant_items_partition[row,:]]\u001b[39;00m\n\u001b[0;32m    174\u001b[0m relevant_items_partition_original_value \u001b[38;5;241m=\u001b[39m scores_batch[np\u001b[38;5;241m.\u001b[39marange(scores_batch\u001b[38;5;241m.\u001b[39mshape[\u001b[38;5;241m0\u001b[39m])[:, \u001b[38;5;28;01mNone\u001b[39;00m], relevant_items_partition]\n",
      "File \u001b[1;32m~\\AppData\\Local\\Packages\\PythonSoftwareFoundation.Python.3.11_qbz5n2kfra8p0\\LocalCache\\local-packages\\Python311\\site-packages\\numpy\\core\\fromnumeric.py:858\u001b[0m, in \u001b[0;36margpartition\u001b[1;34m(a, kth, axis, kind, order)\u001b[0m\n\u001b[0;32m    779\u001b[0m \u001b[38;5;129m@array_function_dispatch\u001b[39m(_argpartition_dispatcher)\n\u001b[0;32m    780\u001b[0m \u001b[38;5;28;01mdef\u001b[39;00m \u001b[38;5;21margpartition\u001b[39m(a, kth, axis\u001b[38;5;241m=\u001b[39m\u001b[38;5;241m-\u001b[39m\u001b[38;5;241m1\u001b[39m, kind\u001b[38;5;241m=\u001b[39m\u001b[38;5;124m'\u001b[39m\u001b[38;5;124mintroselect\u001b[39m\u001b[38;5;124m'\u001b[39m, order\u001b[38;5;241m=\u001b[39m\u001b[38;5;28;01mNone\u001b[39;00m):\n\u001b[0;32m    781\u001b[0m \u001b[38;5;250m    \u001b[39m\u001b[38;5;124;03m\"\"\"\u001b[39;00m\n\u001b[0;32m    782\u001b[0m \u001b[38;5;124;03m    Perform an indirect partition along the given axis using the\u001b[39;00m\n\u001b[0;32m    783\u001b[0m \u001b[38;5;124;03m    algorithm specified by the `kind` keyword. It returns an array of\u001b[39;00m\n\u001b[1;32m   (...)\u001b[0m\n\u001b[0;32m    856\u001b[0m \n\u001b[0;32m    857\u001b[0m \u001b[38;5;124;03m    \"\"\"\u001b[39;00m\n\u001b[1;32m--> 858\u001b[0m     \u001b[38;5;28;01mreturn\u001b[39;00m \u001b[43m_wrapfunc\u001b[49m\u001b[43m(\u001b[49m\u001b[43ma\u001b[49m\u001b[43m,\u001b[49m\u001b[43m \u001b[49m\u001b[38;5;124;43m'\u001b[39;49m\u001b[38;5;124;43margpartition\u001b[39;49m\u001b[38;5;124;43m'\u001b[39;49m\u001b[43m,\u001b[49m\u001b[43m \u001b[49m\u001b[43mkth\u001b[49m\u001b[43m,\u001b[49m\u001b[43m \u001b[49m\u001b[43maxis\u001b[49m\u001b[38;5;241;43m=\u001b[39;49m\u001b[43maxis\u001b[49m\u001b[43m,\u001b[49m\u001b[43m \u001b[49m\u001b[43mkind\u001b[49m\u001b[38;5;241;43m=\u001b[39;49m\u001b[43mkind\u001b[49m\u001b[43m,\u001b[49m\u001b[43m \u001b[49m\u001b[43morder\u001b[49m\u001b[38;5;241;43m=\u001b[39;49m\u001b[43morder\u001b[49m\u001b[43m)\u001b[49m\n",
      "File \u001b[1;32m~\\AppData\\Local\\Packages\\PythonSoftwareFoundation.Python.3.11_qbz5n2kfra8p0\\LocalCache\\local-packages\\Python311\\site-packages\\numpy\\core\\fromnumeric.py:59\u001b[0m, in \u001b[0;36m_wrapfunc\u001b[1;34m(obj, method, *args, **kwds)\u001b[0m\n\u001b[0;32m     56\u001b[0m     \u001b[38;5;28;01mreturn\u001b[39;00m _wrapit(obj, method, \u001b[38;5;241m*\u001b[39margs, \u001b[38;5;241m*\u001b[39m\u001b[38;5;241m*\u001b[39mkwds)\n\u001b[0;32m     58\u001b[0m \u001b[38;5;28;01mtry\u001b[39;00m:\n\u001b[1;32m---> 59\u001b[0m     \u001b[38;5;28;01mreturn\u001b[39;00m \u001b[43mbound\u001b[49m\u001b[43m(\u001b[49m\u001b[38;5;241;43m*\u001b[39;49m\u001b[43margs\u001b[49m\u001b[43m,\u001b[49m\u001b[43m \u001b[49m\u001b[38;5;241;43m*\u001b[39;49m\u001b[38;5;241;43m*\u001b[39;49m\u001b[43mkwds\u001b[49m\u001b[43m)\u001b[49m\n\u001b[0;32m     60\u001b[0m \u001b[38;5;28;01mexcept\u001b[39;00m \u001b[38;5;167;01mTypeError\u001b[39;00m:\n\u001b[0;32m     61\u001b[0m     \u001b[38;5;66;03m# A TypeError occurs if the object does have such a method in its\u001b[39;00m\n\u001b[0;32m     62\u001b[0m     \u001b[38;5;66;03m# class, but its signature is not identical to that of NumPy's. This\u001b[39;00m\n\u001b[1;32m   (...)\u001b[0m\n\u001b[0;32m     66\u001b[0m     \u001b[38;5;66;03m# Call _wrapit from within the except clause to ensure a potential\u001b[39;00m\n\u001b[0;32m     67\u001b[0m     \u001b[38;5;66;03m# exception has a traceback chain.\u001b[39;00m\n\u001b[0;32m     68\u001b[0m     \u001b[38;5;28;01mreturn\u001b[39;00m _wrapit(obj, method, \u001b[38;5;241m*\u001b[39margs, \u001b[38;5;241m*\u001b[39m\u001b[38;5;241m*\u001b[39mkwds)\n",
      "\u001b[1;31mKeyboardInterrupt\u001b[0m: "
     ]
    }
   ],
   "source": [
    "study = optuna.create_study(direction=\"maximize\")\n",
    "study.optimize(train_evaluate, n_trials=500)"
   ]
  },
  {
   "cell_type": "code",
   "execution_count": null,
   "metadata": {},
   "outputs": [],
   "source": []
  }
 ],
 "metadata": {
  "kernelspec": {
   "display_name": "Python 3",
   "language": "python",
   "name": "python3"
  },
  "language_info": {
   "codemirror_mode": {
    "name": "ipython",
    "version": 3
   },
   "file_extension": ".py",
   "mimetype": "text/x-python",
   "name": "python",
   "nbconvert_exporter": "python",
   "pygments_lexer": "ipython3",
   "version": "3.11.7"
  }
 },
 "nbformat": 4,
 "nbformat_minor": 2
}
