{
 "cells": [
  {
   "cell_type": "code",
   "execution_count": 5,
   "metadata": {},
   "outputs": [
    {
     "name": "stdout",
     "output_type": "stream",
     "text": [
      "The Cython extension is already loaded. To reload it, use:\n",
      "  %reload_ext Cython\n"
     ]
    }
   ],
   "source": [
    "import numpy as np\n",
    "import matplotlib.pyplot as pyplot\n",
    "import pandas as pd\n",
    "import scipy.sparse as sps\n",
    "%matplotlib inline\n",
    "%load_ext Cython\n",
    "\n",
    "from Data_manager.split_functions.split_train_validation_random_holdout import split_train_in_two_percentage_global_sample\n",
    "from Evaluation.Evaluator import EvaluatorHoldout\n",
    "from Recommenders.SLIM.SLIMElasticNetRecommender import MultiThreadSLIM_SLIMElasticNetRecommender, SLIMElasticNetRecommender\n",
    "import optuna"
   ]
  },
  {
   "cell_type": "code",
   "execution_count": 6,
   "metadata": {},
   "outputs": [],
   "source": [
    "# data_train_path=\"/kaggle/input/recommender-system-2023-challenge-polimi/data_train.csv\"\n",
    "# data_target_user_path=\"/kaggle/input/recommender-system-2023-challenge-polimi/data_target_users_test.csv\"\n",
    "data_train_path=\"data_train.csv\"\n",
    "data_target_user_path=\"data_target_users_test.csv\"\n",
    "data_train = pd.read_csv(data_train_path)\n",
    "data_target = pd.read_csv(data_target_user_path)"
   ]
  },
  {
   "cell_type": "code",
   "execution_count": 7,
   "metadata": {},
   "outputs": [
    {
     "data": {
      "text/plain": [
       "<13024x22222 sparse matrix of type '<class 'numpy.float64'>'\n",
       "\twith 478730 stored elements in Compressed Sparse Row format>"
      ]
     },
     "execution_count": 7,
     "metadata": {},
     "output_type": "execute_result"
    }
   ],
   "source": [
    "URM_all =  data_train.pivot(index='row', columns='col', values='data').fillna(0)\n",
    "item_map = {i : item for i, item in enumerate(URM_all.columns)}\n",
    "user_map = {i : user for i, user in enumerate(data_target[\"user_id\"])}\n",
    "item_map_inv = {item : i for i, item in item_map.items()}\n",
    "user_map_inv = {user : i for i, user in user_map.items()}\n",
    "missing_index = [x for x in range(1,13025) if x not in URM_all.index.tolist()]\n",
    "add_urm = pd.DataFrame(index = missing_index, columns = URM_all.columns).fillna(0)\n",
    "URM_all = pd.concat([URM_all, add_urm]).sort_index()\n",
    "del add_urm\n",
    "del missing_index\n",
    "#data_target[\"user_id\"] = data_target[\"user_id\"]\n",
    "URM_all = URM_all.to_numpy()\n",
    "URM_all = sps.csr_matrix(URM_all)\n",
    "URM_all"
   ]
  },
  {
   "cell_type": "code",
   "execution_count": 8,
   "metadata": {},
   "outputs": [
    {
     "name": "stdout",
     "output_type": "stream",
     "text": [
      "Warning: 629 (4.83 %) of 13024 users have no train items\n",
      "Warning: 2507 (19.25 %) of 13024 users have no sampled items\n",
      "EvaluatorHoldout: Ignoring 2507 (19.2%) Users that have less than 1 test interactions\n",
      "Warning: 625 (4.80 %) of 13024 users have no train items\n",
      "Warning: 2559 (19.65 %) of 13024 users have no sampled items\n",
      "EvaluatorHoldout: Ignoring 2559 (19.6%) Users that have less than 1 test interactions\n",
      "Warning: 601 (4.61 %) of 13024 users have no train items\n",
      "Warning: 2542 (19.52 %) of 13024 users have no sampled items\n",
      "EvaluatorHoldout: Ignoring 2542 (19.5%) Users that have less than 1 test interactions\n"
     ]
    }
   ],
   "source": [
    "test_folds = 3\n",
    "\n",
    "URM_trains = [None] * test_folds\n",
    "evaluator_tests = [None] * test_folds\n",
    "for i in range(0, test_folds):\n",
    "    URM_trains[i], URM_test = split_train_in_two_percentage_global_sample(URM_all, train_percentage = 0.80)\n",
    "    evaluator_tests[i] = EvaluatorHoldout(URM_test, cutoff_list=[10])"
   ]
  },
  {
   "cell_type": "code",
   "execution_count": 16,
   "metadata": {},
   "outputs": [],
   "source": [
    "def train_evaluate(optuna_trial):\n",
    "    topk = optuna_trial.suggest_int(\"topK\", 1, 1000)\n",
    "    alpha = optuna_trial.suggest_float(\"alpha\", 0.0, 2.0)\n",
    "    l1_ratio = optuna_trial.suggest_float(\"l1_ratio\", 0.0, 1.0)\n",
    "    mAP = 0.0\n",
    "    for i in range(0, test_folds):\n",
    "        SLIM_recommender = SLIMElasticNetRecommender(URM_trains[i], verbose=True)\n",
    "        SLIM_recommender.fit(topK=topk, alpha=alpha, l1_ratio=l1_ratio)\n",
    "        result_df, _ = evaluator_tests[i].evaluateRecommender(SLIM_recommender)\n",
    "        mAP += result_df[\"MAP\"].values[0]\n",
    "    mAP /= test_folds\n",
    "    return mAP"
   ]
  },
  {
   "cell_type": "code",
   "execution_count": 17,
   "metadata": {},
   "outputs": [
    {
     "name": "stderr",
     "output_type": "stream",
     "text": [
      "[I 2023-12-11 21:35:06,011] A new study created in memory with name: no-name-6bc42197-8e52-45ba-9013-f59b47b25252\n"
     ]
    },
    {
     "name": "stdout",
     "output_type": "stream",
     "text": [
      "SLIMElasticNetRecommender: URM Detected 629 ( 4.8%) users with no interactions.\n",
      "SLIMElasticNetRecommender: URM Detected 140 ( 0.6%) items with no interactions.\n",
      "SLIMElasticNetRecommender: Processed 22222 (100.0%) in 4.00 min. Items per second: 92.61\n",
      "EvaluatorHoldout: Processed 10517 (100.0%) in 6.26 sec. Users per second: 1680\n",
      "SLIMElasticNetRecommender: URM Detected 625 ( 4.8%) users with no interactions.\n",
      "SLIMElasticNetRecommender: URM Detected 121 ( 0.5%) items with no interactions.\n",
      "SLIMElasticNetRecommender: Processed 22222 (100.0%) in 4.04 min. Items per second: 91.75\n",
      "EvaluatorHoldout: Processed 10465 (100.0%) in 6.17 sec. Users per second: 1696\n",
      "SLIMElasticNetRecommender: URM Detected 601 ( 4.6%) users with no interactions.\n",
      "SLIMElasticNetRecommender: URM Detected 106 ( 0.5%) items with no interactions.\n",
      "SLIMElasticNetRecommender: Processed 22222 (100.0%) in 3.91 min. Items per second: 94.73\n",
      "EvaluatorHoldout: Processed 10482 (100.0%) in 6.16 sec. Users per second: 1700\n"
     ]
    },
    {
     "name": "stderr",
     "output_type": "stream",
     "text": [
      "[I 2023-12-11 21:47:21,379] Trial 0 finished with value: 4.210886735370108e-05 and parameters: {'topK': 83, 'alpha': 0.6079997075338561, 'l1_ratio': 0.6832414827168689}. Best is trial 0 with value: 4.210886735370108e-05.\n"
     ]
    }
   ],
   "source": [
    "study = optuna.create_study(direction=\"maximize\")\n",
    "study.optimize(train_evaluate, n_trials=1)"
   ]
  },
  {
   "cell_type": "code",
   "execution_count": null,
   "metadata": {},
   "outputs": [],
   "source": []
  }
 ],
 "metadata": {
  "kernelspec": {
   "display_name": "Python 3",
   "language": "python",
   "name": "python3"
  },
  "language_info": {
   "codemirror_mode": {
    "name": "ipython",
    "version": 3
   },
   "file_extension": ".py",
   "mimetype": "text/x-python",
   "name": "python",
   "nbconvert_exporter": "python",
   "pygments_lexer": "ipython3",
   "version": "3.11.7"
  }
 },
 "nbformat": 4,
 "nbformat_minor": 2
}
